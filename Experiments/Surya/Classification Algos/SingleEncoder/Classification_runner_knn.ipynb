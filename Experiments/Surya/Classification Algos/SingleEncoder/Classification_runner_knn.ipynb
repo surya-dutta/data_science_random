{
 "cells": [
  {
   "cell_type": "code",
   "execution_count": 1,
   "metadata": {},
   "outputs": [],
   "source": [
    "import pandas as pd\n",
    "import importlib.util\n",
    "import sklearn\n",
    "import numpy as np\n",
    "from pathlib import Path\n",
    "import joblib\n",
    "import os   "
   ]
  },
  {
   "cell_type": "code",
   "execution_count": 2,
   "metadata": {},
   "outputs": [],
   "source": [
    "output_dir = \"classification_results_2023/\"\n",
    "all_patient_data = pd.read_csv(\"Combined_AM_Data.csv\")"
   ]
  },
  {
   "cell_type": "code",
   "execution_count": 3,
   "metadata": {},
   "outputs": [
    {
     "data": {
      "text/plain": [
       "Index(['id', 'date', 'age', 'sex', 'BMI', 'income', 'road_dist', 'cooking',\n",
       "       'am_pef_org', 'y_am_pef', 'tempin', 'humidin', 'pm25in', 'co2in',\n",
       "       'tempdiffin', 'humidiffin', 'pm25diffin', 'pm10', 'pm25', 'o3', 'no2',\n",
       "       'co', 'so2', 'temp', 'windsd', 'humid', 'varp', 'dewpt', 'airp', 'seap',\n",
       "       'solrhr', 'solramnt', 'grdt', 'class'],\n",
       "      dtype='object')"
      ]
     },
     "execution_count": 3,
     "metadata": {},
     "output_type": "execute_result"
    }
   ],
   "source": [
    "all_patient_data.columns"
   ]
  },
  {
   "cell_type": "code",
   "execution_count": 4,
   "metadata": {},
   "outputs": [],
   "source": [
    "# Loading classification.py\n",
    "spec = importlib.util.spec_from_file_location('classification', r\"Classificationv3.py\")\n",
    "module = importlib.util.module_from_spec(spec)\n",
    "spec.loader.exec_module(module)"
   ]
  },
  {
   "cell_type": "code",
   "execution_count": 5,
   "metadata": {},
   "outputs": [],
   "source": [
    "predictColumn = \"class\"\n",
    "minorityVariable = 0 \n",
    "classes = all_patient_data[predictColumn].unique().tolist()\n",
    "\n",
    "n_classes = len(classes)\n",
    "\n",
    "if n_classes > 2 :\n",
    "    logit_reg_model = sklearn.linear_model.LogisticRegression(solver='saga', multi_class='multinomial')\n",
    "else :\n",
    "    logit_reg_model = sklearn.linear_model.LogisticRegression(solver='liblinear', multi_class='auto')\n",
    "\n",
    "cls = [ \"DecisionTree\" , sklearn.tree.DecisionTreeClassifier(max_depth=4),\n",
    "        \"K-NN\"              , sklearn.neighbors.KNeighborsClassifier(),\n",
    "        \"Logit Regression\"  , logit_reg_model,\n",
    "        \"Naive Bayes\"       , sklearn.gaussian_process.GaussianProcessClassifier()\n",
    "];"
   ]
  },
  {
   "cell_type": "code",
   "execution_count": 6,
   "metadata": {},
   "outputs": [],
   "source": [
    "EVALUATION_METRICS = ['Weighted Accuracy', 'Sensitivity/Recall', 'Precision_avg', 'F1_avg', 'Specificity', 'Precision', 'Precision_class1', 'F1', 'F1_class1']\n",
    "REQUIRED_COLUMNS = ['income','road_dist','cooking','y_am_pef','tempin','humidin','pm25in','co2in','tempdiffin','humidiffin','pm25diffin','pm10','pm25','o3','no2','co','so2','temp','windsd','humid','varp','dewpt','airp','seap','solrhr','solramnt','grdt','class']"
   ]
  },
  {
   "cell_type": "code",
   "execution_count": 7,
   "metadata": {},
   "outputs": [],
   "source": [
    "%run \"Classificationv3.py\"\n",
    "%run \"Balance.py\""
   ]
  },
  {
   "cell_type": "code",
   "execution_count": 8,
   "metadata": {},
   "outputs": [],
   "source": [
    "def classification_func(file_name, predictCol, minorVar, category_group, cls, output_dir, df_evaluation_results, patient_id, patient_id_df):\n",
    "\n",
    "    print('~~~~~~~~~~~~~~~~~', file_name,'~~~~~~~~~~~~~~~~~~~~~~')\n",
    "\n",
    "    dataset_dir = Path(output_dir + patient_id+category_group +  \"/diagrams/\" + file_name + '/') \n",
    "\n",
    "    # Create Directory for this patient\n",
    "    if not (dataset_dir.exists() and dataset_dir.is_dir()):\n",
    "        os.makedirs(dataset_dir)\n",
    "\n",
    "    save_path = output_dir+ patient_id+category_group +'/diagrams/' + file_name + '/sklearn_models_balanced_for_train_'\n",
    "\n",
    "    CLASS_VAR = predictCol\n",
    "    MINORITY_VAR = minorVar\n",
    "    bestDT = module.Classify(patient_id_df, True, class_var=CLASS_VAR, minority_var=MINORITY_VAR, drawConfusionMatrix=True, classifiers=cls, scale=True, save_path=save_path, after_split=True)\n",
    "\n",
    "    confusion_matrixes_file = save_path + \"confusion_mat_\" + category_group + \"_\"+ file_name\n",
    "    module.save_confusion_matrix(bestDT[1], confusion_matrixes_file)\n",
    "    roc_curve_file = save_path + \"roc_curve_\" + category_group + \"_\"+ file_name\n",
    "    module.save_Draw_Roc(bestDT[2], roc_curve_file)\n",
    "    if len(bestDT[3])!=0:\n",
    "      featureImportance_path = save_path + \"important_mat_\" + category_group + \"_\"+ file_name\n",
    "      module.save_Draw_FeatureImportanceMatrix(patient_id_df,bestDT[3],cls[0], featureImportance_path, True)\n",
    "\n",
    "    model_path = save_path + \"bestModel_\" + category_group + \"_\"+ file_name + \".joblib\"\n",
    "    joblib.dump(bestDT[4], model_path)\n",
    "\n",
    "    df_evaluation_results[file_name] = bestDT[0]\n",
    "    df_evaluation_results.to_csv(output_dir+patient_id+category_group+\"/sklearn_models_balanced_for_train_metrics_\"+category_group + \".csv\")\n"
   ]
  },
  {
   "cell_type": "code",
   "execution_count": 9,
   "metadata": {},
   "outputs": [],
   "source": [
    "def runner_decision_tree():\n",
    "    ids = all_patient_data['id'].unique().tolist()\n",
    "    for id in ids:\n",
    "        patient_id = id + \"/\"\n",
    "        file_name = id\n",
    "        patient_id_df = all_patient_data[all_patient_data['id'] == id]\n",
    "        filtered_df = patient_id_df.filter(REQUIRED_COLUMNS)\n",
    "        patient_id_df = filtered_df.copy()\n",
    "        \n",
    "        # Decision Tree\n",
    "        df_evaluation_results = pd.DataFrame(index=EVALUATION_METRICS)\n",
    "        category_group = '1DecisionTree'\n",
    "        cls = [\"DecisionTree\", sklearn.tree.DecisionTreeClassifier(max_depth=4)]\n",
    "        classification_func(file_name, predictColumn, minorityVariable, category_group, cls, output_dir, df_evaluation_results, patient_id, patient_id_df)\n",
    "\n",
    "def runner_knn():\n",
    "    ids = all_patient_data['id'].unique().tolist()\n",
    "    for id in ids:\n",
    "        patient_id = id + \"/\"\n",
    "        file_name = id\n",
    "        patient_id_df = all_patient_data[all_patient_data['id'] == id]\n",
    "        filtered_df = patient_id_df.filter(REQUIRED_COLUMNS)\n",
    "        patient_id_df = filtered_df.copy()\n",
    "        \n",
    "        # KNN\n",
    "        df_evaluation_results = pd.DataFrame(index=EVALUATION_METRICS)\n",
    "        category_group = '2K-NN'\n",
    "        cls = [\"K-NN\", sklearn.neighbors.KNeighborsClassifier()]\n",
    "        classification_func(file_name, predictColumn, minorityVariable, category_group, cls, output_dir, df_evaluation_results, patient_id, patient_id_df)\n",
    "\n",
    "def runner_lr():\n",
    "    ids = all_patient_data['id'].unique().tolist()\n",
    "    for id in ids:\n",
    "        patient_id = id + \"/\"\n",
    "        file_name = id\n",
    "        patient_id_df = all_patient_data[all_patient_data['id'] == id]\n",
    "        filtered_df = patient_id_df.filter(REQUIRED_COLUMNS)\n",
    "        patient_id_df = filtered_df.copy()\n",
    "        \n",
    "        # Logistic Regression\n",
    "        df_evaluation_results = pd.DataFrame(index=EVALUATION_METRICS)\n",
    "        category_group = 'LogisticRegression'\n",
    "        print(logit_reg_model)\n",
    "        cls = [\"Logit Regression\", logit_reg_model]\n",
    "        classification_func(file_name, predictColumn, minorityVariable, category_group, cls, output_dir, df_evaluation_results, patient_id, patient_id_df)\n",
    "\n",
    "def runner_svm():\n",
    "    ids = all_patient_data['id'].unique().tolist()\n",
    "    for id in ids:\n",
    "        patient_id = id + \"/\"\n",
    "        file_name = id\n",
    "        patient_id_df = all_patient_data[all_patient_data['id'] == id]\n",
    "        filtered_df = patient_id_df.filter(REQUIRED_COLUMNS)\n",
    "        patient_id_df = filtered_df.copy()\n",
    "        \n",
    "        # SVM\n",
    "        df_evaluation_results = pd.DataFrame(index=EVALUATION_METRICS)\n",
    "        category_group = 'SVM'\n",
    "        cls = [\"SVM\", sklearn.svm.SVC(kernel=\"linear\")]\n",
    "        classification_func(file_name, predictColumn, minorityVariable, category_group, cls, output_dir, df_evaluation_results, patient_id, patient_id_df)\n",
    "\n",
    "def runner_nb():\n",
    "    ids = all_patient_data['id'].unique().tolist()\n",
    "    for id in ids:\n",
    "        patient_id = id + \"/\"\n",
    "        file_name = id\n",
    "        patient_id_df = all_patient_data[all_patient_data['id'] == id]\n",
    "        filtered_df = patient_id_df.filter(REQUIRED_COLUMNS)\n",
    "        patient_id_df = filtered_df.copy()\n",
    "        \n",
    "        # Naive Bayes\n",
    "        df_evaluation_results = pd.DataFrame(index=EVALUATION_METRICS)\n",
    "        category_group = 'NaiveBayes'\n",
    "        cls = [\"Naive Bayes\", sklearn.gaussian_process.GaussianProcessClassifier()]\n",
    "        classification_func(file_name, predictColumn, minorityVariable, category_group, cls, output_dir, df_evaluation_results, patient_id, patient_id_df)\n"
   ]
  },
  {
   "cell_type": "code",
   "execution_count": 10,
   "metadata": {},
   "outputs": [],
   "source": [
    "#runner_decision_tree()"
   ]
  },
  {
   "cell_type": "code",
   "execution_count": 11,
   "metadata": {},
   "outputs": [
    {
     "name": "stdout",
     "output_type": "stream",
     "text": [
      "~~~~~~~~~~~~~~~~~ SB-001 ~~~~~~~~~~~~~~~~~~~~~~\n",
      "~~~~~~~~~~ Number of instances before balancing:  125  ~~~~~~~~~~\n",
      "~~~~~~~ Training Loss: 0.010406595654785633  ~~~~~~~\n",
      "~~~~~~~ Validation Loss: 0.008628460578620434  ~~~~~~~\n",
      "2/2 [==============================] - 0s 8ms/step\n",
      "~~~~~~~ value_counts: ~~~~~~~\n",
      "1    87\n",
      "0    76\n",
      "Name: class, dtype: int64\n",
      "~~~~~~~~~~ Number of instances after balancing:  163  ~~~~~~~~~~\n",
      "~~~~~~~~~~ Number of instances before balancing:  125  ~~~~~~~~~~\n",
      "~~~~~~~ Training Loss: 0.011368353851139545  ~~~~~~~\n",
      "~~~~~~~ Validation Loss: 0.015167111530900002  ~~~~~~~\n",
      "2/2 [==============================] - 0s 5ms/step\n",
      "~~~~~~~ value_counts: ~~~~~~~\n",
      "1    87\n",
      "0    76\n",
      "Name: class, dtype: int64\n",
      "~~~~~~~~~~ Number of instances after balancing:  163  ~~~~~~~~~~\n",
      "~~~~~~~~~~ Number of instances before balancing:  126  ~~~~~~~~~~\n",
      "~~~~~~~ Training Loss: 0.012350006029009819  ~~~~~~~\n",
      "~~~~~~~ Validation Loss: 0.013506066985428333  ~~~~~~~\n",
      "2/2 [==============================] - 0s 5ms/step\n",
      "~~~~~~~ value_counts: ~~~~~~~\n",
      "1    88\n",
      "0    76\n",
      "Name: class, dtype: int64\n",
      "~~~~~~~~~~ Number of instances after balancing:  164  ~~~~~~~~~~\n",
      "~~~~~~~~~~ K-NN ~~~~~~~~~~~~~~~\n",
      "-----------kfold--------------- 0 ------------\n",
      "---K-NN--- 0.7301136363636364 KNeighborsClassifier(metric='euclidean', n_neighbors=9, weights='distance')\n",
      "* 0-----------kfold--------------- 1 ------------\n"
     ]
    },
    {
     "name": "stderr",
     "output_type": "stream",
     "text": [
      "c:\\Users\\sbhuv\\AppData\\Local\\Programs\\Python\\Python38\\lib\\site-packages\\sklearn\\neighbors\\_classification.py:215: DataConversionWarning: A column-vector y was passed when a 1d array was expected. Please change the shape of y to (n_samples,), for example using ravel().\n",
      "  return self._fit(X, y)\n",
      "c:\\Users\\sbhuv\\AppData\\Local\\Programs\\Python\\Python38\\lib\\site-packages\\sklearn\\neighbors\\_classification.py:215: DataConversionWarning: A column-vector y was passed when a 1d array was expected. Please change the shape of y to (n_samples,), for example using ravel().\n",
      "  return self._fit(X, y)\n"
     ]
    },
    {
     "name": "stdout",
     "output_type": "stream",
     "text": [
      "* 1-----------kfold--------------- 2 ------------\n"
     ]
    },
    {
     "name": "stderr",
     "output_type": "stream",
     "text": [
      "c:\\Users\\sbhuv\\AppData\\Local\\Programs\\Python\\Python38\\lib\\site-packages\\sklearn\\neighbors\\_classification.py:215: DataConversionWarning: A column-vector y was passed when a 1d array was expected. Please change the shape of y to (n_samples,), for example using ravel().\n",
      "  return self._fit(X, y)\n"
     ]
    },
    {
     "name": "stdout",
     "output_type": "stream",
     "text": [
      "* 2*\n",
      "{'algorithm': 'auto', 'leaf_size': 30, 'metric': 'manhattan', 'metric_params': None, 'n_jobs': None, 'n_neighbors': 3, 'p': 2, 'weights': 'uniform'}\n",
      "------run_cv runs successfully------------\n",
      "++++++++++++save_confusion_matrix++++++++++++\n"
     ]
    },
    {
     "name": "stderr",
     "output_type": "stream",
     "text": [
      "Classificationv3.py:353: UserWarning: FixedFormatter should only be used together with FixedLocator\n",
      "  axs[i].set_xticklabels([''] + ['0', '1'], fontsize='xx-large')\n",
      "Classificationv3.py:354: UserWarning: FixedFormatter should only be used together with FixedLocator\n",
      "  axs[i].set_yticklabels([''] + ['0', '1'], fontsize='xx-large')\n"
     ]
    },
    {
     "name": "stdout",
     "output_type": "stream",
     "text": [
      "++++++++++++save_confusion_matrix end++++++++++++\n",
      "(((((((((((((((((((((( draw droc ))))))))))))))))))))))))))))))\n",
      "(((((((( draw droc end ))))))))\n",
      "~~~~~~~~~~~~~~~~~ SB-003 ~~~~~~~~~~~~~~~~~~~~~~\n",
      "~~~~~~~~~~ Number of instances before balancing:  120  ~~~~~~~~~~\n",
      "~~~~~~~ Training Loss: 0.012777346186339855  ~~~~~~~\n",
      "~~~~~~~ Validation Loss: 0.016031693667173386  ~~~~~~~\n",
      "1/1 [==============================] - 0s 294ms/step\n",
      "~~~~~~~ value_counts: ~~~~~~~\n",
      "1    89\n",
      "0    62\n",
      "Name: class, dtype: int64\n",
      "~~~~~~~~~~ Number of instances after balancing:  151  ~~~~~~~~~~\n",
      "~~~~~~~~~~ Number of instances before balancing:  120  ~~~~~~~~~~\n",
      "~~~~~~~ Training Loss: 0.01205108966678381  ~~~~~~~\n",
      "~~~~~~~ Validation Loss: 0.02580665424466133  ~~~~~~~\n",
      "WARNING:tensorflow:5 out of the last 8 calls to <function Model.make_predict_function.<locals>.predict_function at 0x000001CEED976F70> triggered tf.function retracing. Tracing is expensive and the excessive number of tracings could be due to (1) creating @tf.function repeatedly in a loop, (2) passing tensors with different shapes, (3) passing Python objects instead of tensors. For (1), please define your @tf.function outside of the loop. For (2), @tf.function has reduce_retracing=True option that can avoid unnecessary retracing. For (3), please refer to https://www.tensorflow.org/guide/function#controlling_retracing and https://www.tensorflow.org/api_docs/python/tf/function for  more details.\n",
      "1/1 [==============================] - 0s 216ms/step\n",
      "~~~~~~~ value_counts: ~~~~~~~\n",
      "1    91\n",
      "0    58\n",
      "Name: class, dtype: int64\n",
      "~~~~~~~~~~ Number of instances after balancing:  149  ~~~~~~~~~~\n",
      "~~~~~~~~~~ Number of instances before balancing:  120  ~~~~~~~~~~\n",
      "~~~~~~~ Training Loss: 0.009947177954018116  ~~~~~~~\n",
      "~~~~~~~ Validation Loss: 0.017245952039957047  ~~~~~~~\n",
      "WARNING:tensorflow:6 out of the last 9 calls to <function Model.make_predict_function.<locals>.predict_function at 0x000001CEEDB7FCA0> triggered tf.function retracing. Tracing is expensive and the excessive number of tracings could be due to (1) creating @tf.function repeatedly in a loop, (2) passing tensors with different shapes, (3) passing Python objects instead of tensors. For (1), please define your @tf.function outside of the loop. For (2), @tf.function has reduce_retracing=True option that can avoid unnecessary retracing. For (3), please refer to https://www.tensorflow.org/guide/function#controlling_retracing and https://www.tensorflow.org/api_docs/python/tf/function for  more details.\n",
      "1/1 [==============================] - 0s 370ms/step\n",
      "~~~~~~~ value_counts: ~~~~~~~\n",
      "1    90\n",
      "0    60\n",
      "Name: class, dtype: int64\n",
      "~~~~~~~~~~ Number of instances after balancing:  150  ~~~~~~~~~~\n",
      "~~~~~~~~~~ K-NN ~~~~~~~~~~~~~~~\n",
      "-----------kfold--------------- 0 ------------\n",
      "---K-NN--- 0.6883870967741936 KNeighborsClassifier(metric='manhattan', n_neighbors=3)\n",
      "* 0-----------kfold--------------- 1 ------------\n"
     ]
    },
    {
     "name": "stderr",
     "output_type": "stream",
     "text": [
      "c:\\Users\\sbhuv\\AppData\\Local\\Programs\\Python\\Python38\\lib\\site-packages\\sklearn\\neighbors\\_classification.py:215: DataConversionWarning: A column-vector y was passed when a 1d array was expected. Please change the shape of y to (n_samples,), for example using ravel().\n",
      "  return self._fit(X, y)\n"
     ]
    },
    {
     "name": "stdout",
     "output_type": "stream",
     "text": [
      "---K-NN--- 0.7170114942528736 KNeighborsClassifier(metric='manhattan')\n"
     ]
    },
    {
     "name": "stderr",
     "output_type": "stream",
     "text": [
      "c:\\Users\\sbhuv\\AppData\\Local\\Programs\\Python\\Python38\\lib\\site-packages\\sklearn\\neighbors\\_classification.py:215: DataConversionWarning: A column-vector y was passed when a 1d array was expected. Please change the shape of y to (n_samples,), for example using ravel().\n",
      "  return self._fit(X, y)\n"
     ]
    },
    {
     "name": "stdout",
     "output_type": "stream",
     "text": [
      "* 1-----------kfold--------------- 2 ------------\n"
     ]
    },
    {
     "name": "stderr",
     "output_type": "stream",
     "text": [
      "c:\\Users\\sbhuv\\AppData\\Local\\Programs\\Python\\Python38\\lib\\site-packages\\sklearn\\neighbors\\_classification.py:215: DataConversionWarning: A column-vector y was passed when a 1d array was expected. Please change the shape of y to (n_samples,), for example using ravel().\n",
      "  return self._fit(X, y)\n"
     ]
    },
    {
     "name": "stdout",
     "output_type": "stream",
     "text": [
      "* 2*\n",
      "{'algorithm': 'auto', 'leaf_size': 30, 'metric': 'euclidean', 'metric_params': None, 'n_jobs': None, 'n_neighbors': 5, 'p': 2, 'weights': 'distance'}\n",
      "------run_cv runs successfully------------\n",
      "++++++++++++save_confusion_matrix++++++++++++\n"
     ]
    },
    {
     "name": "stderr",
     "output_type": "stream",
     "text": [
      "Classificationv3.py:353: UserWarning: FixedFormatter should only be used together with FixedLocator\n",
      "  axs[i].set_xticklabels([''] + ['0', '1'], fontsize='xx-large')\n",
      "Classificationv3.py:354: UserWarning: FixedFormatter should only be used together with FixedLocator\n",
      "  axs[i].set_yticklabels([''] + ['0', '1'], fontsize='xx-large')\n"
     ]
    },
    {
     "name": "stdout",
     "output_type": "stream",
     "text": [
      "++++++++++++save_confusion_matrix end++++++++++++\n",
      "(((((((((((((((((((((( draw droc ))))))))))))))))))))))))))))))\n",
      "(((((((( draw droc end ))))))))\n",
      "~~~~~~~~~~~~~~~~~ SB-008 ~~~~~~~~~~~~~~~~~~~~~~\n",
      "~~~~~~~~~~ Number of instances before balancing:  118  ~~~~~~~~~~\n",
      "~~~~~~~ Training Loss: 0.014837772585451603  ~~~~~~~\n",
      "~~~~~~~ Validation Loss: 0.02005731500685215  ~~~~~~~\n",
      "1/1 [==============================] - 0s 181ms/step\n",
      "~~~~~~~ value_counts: ~~~~~~~\n",
      "1    87\n",
      "0    62\n",
      "Name: class, dtype: int64\n",
      "~~~~~~~~~~ Number of instances after balancing:  149  ~~~~~~~~~~\n",
      "~~~~~~~~~~ Number of instances before balancing:  119  ~~~~~~~~~~\n",
      "~~~~~~~ Training Loss: 0.011073648929595947  ~~~~~~~\n",
      "~~~~~~~ Validation Loss: 0.009937888942658901  ~~~~~~~\n",
      "1/1 [==============================] - 0s 193ms/step\n",
      "~~~~~~~ value_counts: ~~~~~~~\n",
      "1    91\n",
      "0    56\n",
      "Name: class, dtype: int64\n",
      "~~~~~~~~~~ Number of instances after balancing:  147  ~~~~~~~~~~\n",
      "~~~~~~~~~~ Number of instances before balancing:  119  ~~~~~~~~~~\n",
      "~~~~~~~ Training Loss: 0.011424857191741467  ~~~~~~~\n",
      "~~~~~~~ Validation Loss: 0.02715899981558323  ~~~~~~~\n",
      "1/1 [==============================] - 0s 175ms/step\n",
      "~~~~~~~ value_counts: ~~~~~~~\n",
      "1    92\n",
      "0    54\n",
      "Name: class, dtype: int64\n",
      "~~~~~~~~~~ Number of instances after balancing:  146  ~~~~~~~~~~\n",
      "~~~~~~~~~~ K-NN ~~~~~~~~~~~~~~~\n",
      "-----------kfold--------------- 0 ------------\n",
      "---K-NN--- 0.7588505747126437 KNeighborsClassifier(metric='euclidean', n_neighbors=3, weights='distance')\n",
      "* 0-----------kfold--------------- 1 ------------\n"
     ]
    },
    {
     "name": "stderr",
     "output_type": "stream",
     "text": [
      "c:\\Users\\sbhuv\\AppData\\Local\\Programs\\Python\\Python38\\lib\\site-packages\\sklearn\\neighbors\\_classification.py:215: DataConversionWarning: A column-vector y was passed when a 1d array was expected. Please change the shape of y to (n_samples,), for example using ravel().\n",
      "  return self._fit(X, y)\n"
     ]
    },
    {
     "name": "stdout",
     "output_type": "stream",
     "text": [
      "---K-NN--- 0.7749425287356322 KNeighborsClassifier(metric='manhattan', n_neighbors=3)\n",
      "* 1-----------kfold--------------- 2 ------------\n"
     ]
    },
    {
     "name": "stderr",
     "output_type": "stream",
     "text": [
      "c:\\Users\\sbhuv\\AppData\\Local\\Programs\\Python\\Python38\\lib\\site-packages\\sklearn\\neighbors\\_classification.py:215: DataConversionWarning: A column-vector y was passed when a 1d array was expected. Please change the shape of y to (n_samples,), for example using ravel().\n",
      "  return self._fit(X, y)\n"
     ]
    },
    {
     "name": "stdout",
     "output_type": "stream",
     "text": [
      "---K-NN--- 0.8218390804597699 KNeighborsClassifier(metric='manhattan', weights='distance')\n",
      "* 2*\n",
      "{'algorithm': 'auto', 'leaf_size': 30, 'metric': 'manhattan', 'metric_params': None, 'n_jobs': None, 'n_neighbors': 5, 'p': 2, 'weights': 'distance'}\n",
      "------run_cv runs successfully------------\n",
      "++++++++++++save_confusion_matrix++++++++++++\n"
     ]
    },
    {
     "name": "stderr",
     "output_type": "stream",
     "text": [
      "c:\\Users\\sbhuv\\AppData\\Local\\Programs\\Python\\Python38\\lib\\site-packages\\sklearn\\neighbors\\_classification.py:215: DataConversionWarning: A column-vector y was passed when a 1d array was expected. Please change the shape of y to (n_samples,), for example using ravel().\n",
      "  return self._fit(X, y)\n",
      "Classificationv3.py:353: UserWarning: FixedFormatter should only be used together with FixedLocator\n",
      "  axs[i].set_xticklabels([''] + ['0', '1'], fontsize='xx-large')\n",
      "Classificationv3.py:354: UserWarning: FixedFormatter should only be used together with FixedLocator\n",
      "  axs[i].set_yticklabels([''] + ['0', '1'], fontsize='xx-large')\n"
     ]
    },
    {
     "name": "stdout",
     "output_type": "stream",
     "text": [
      "++++++++++++save_confusion_matrix end++++++++++++\n",
      "(((((((((((((((((((((( draw droc ))))))))))))))))))))))))))))))\n",
      "(((((((( draw droc end ))))))))\n",
      "~~~~~~~~~~~~~~~~~ SB-011 ~~~~~~~~~~~~~~~~~~~~~~\n",
      "~~~~~~~~~~ Number of instances before balancing:  140  ~~~~~~~~~~\n",
      "~~~~~~~ Training Loss: 0.01109636202454567  ~~~~~~~\n",
      "~~~~~~~ Validation Loss: 0.016375966370105743  ~~~~~~~\n",
      "2/2 [==============================] - 0s 7ms/step\n",
      "~~~~~~~ value_counts: ~~~~~~~\n",
      "1    99\n",
      "0    82\n",
      "Name: class, dtype: int64\n",
      "~~~~~~~~~~ Number of instances after balancing:  181  ~~~~~~~~~~\n",
      "~~~~~~~~~~ Number of instances before balancing:  140  ~~~~~~~~~~\n",
      "~~~~~~~ Training Loss: 0.00558304600417614  ~~~~~~~\n",
      "~~~~~~~ Validation Loss: 0.015487534925341606  ~~~~~~~\n",
      "2/2 [==============================] - 0s 5ms/step\n",
      "~~~~~~~ value_counts: ~~~~~~~\n",
      "1    101\n",
      "0     78\n",
      "Name: class, dtype: int64\n",
      "~~~~~~~~~~ Number of instances after balancing:  179  ~~~~~~~~~~\n",
      "~~~~~~~~~~ Number of instances before balancing:  140  ~~~~~~~~~~\n",
      "~~~~~~~ Training Loss: 0.0156549084931612  ~~~~~~~\n",
      "~~~~~~~ Validation Loss: 0.01851176656782627  ~~~~~~~\n",
      "2/2 [==============================] - 0s 5ms/step\n",
      "~~~~~~~ value_counts: ~~~~~~~\n",
      "1    94\n",
      "0    92\n",
      "Name: class, dtype: int64\n",
      "~~~~~~~~~~ Number of instances after balancing:  186  ~~~~~~~~~~\n",
      "~~~~~~~~~~ K-NN ~~~~~~~~~~~~~~~\n",
      "-----------kfold--------------- 0 ------------\n",
      "---K-NN--- 0.9177177177177176 KNeighborsClassifier(metric='euclidean', weights='distance')\n",
      "* 0-----------kfold--------------- 1 ------------\n"
     ]
    },
    {
     "name": "stderr",
     "output_type": "stream",
     "text": [
      "c:\\Users\\sbhuv\\AppData\\Local\\Programs\\Python\\Python38\\lib\\site-packages\\sklearn\\neighbors\\_classification.py:215: DataConversionWarning: A column-vector y was passed when a 1d array was expected. Please change the shape of y to (n_samples,), for example using ravel().\n",
      "  return self._fit(X, y)\n",
      "c:\\Users\\sbhuv\\AppData\\Local\\Programs\\Python\\Python38\\lib\\site-packages\\sklearn\\neighbors\\_classification.py:215: DataConversionWarning: A column-vector y was passed when a 1d array was expected. Please change the shape of y to (n_samples,), for example using ravel().\n",
      "  return self._fit(X, y)\n"
     ]
    },
    {
     "name": "stdout",
     "output_type": "stream",
     "text": [
      "* 1-----------kfold--------------- 2 ------------\n"
     ]
    },
    {
     "name": "stderr",
     "output_type": "stream",
     "text": [
      "c:\\Users\\sbhuv\\AppData\\Local\\Programs\\Python\\Python38\\lib\\site-packages\\sklearn\\neighbors\\_classification.py:215: DataConversionWarning: A column-vector y was passed when a 1d array was expected. Please change the shape of y to (n_samples,), for example using ravel().\n",
      "  return self._fit(X, y)\n",
      "Classificationv3.py:353: UserWarning: FixedFormatter should only be used together with FixedLocator\n",
      "  axs[i].set_xticklabels([''] + ['0', '1'], fontsize='xx-large')\n",
      "Classificationv3.py:354: UserWarning: FixedFormatter should only be used together with FixedLocator\n",
      "  axs[i].set_yticklabels([''] + ['0', '1'], fontsize='xx-large')\n"
     ]
    },
    {
     "name": "stdout",
     "output_type": "stream",
     "text": [
      "* 2*\n",
      "{'algorithm': 'auto', 'leaf_size': 30, 'metric': 'euclidean', 'metric_params': None, 'n_jobs': None, 'n_neighbors': 3, 'p': 2, 'weights': 'uniform'}\n",
      "------run_cv runs successfully------------\n",
      "++++++++++++save_confusion_matrix++++++++++++\n",
      "++++++++++++save_confusion_matrix end++++++++++++\n",
      "(((((((((((((((((((((( draw droc ))))))))))))))))))))))))))))))\n",
      "(((((((( draw droc end ))))))))\n",
      "~~~~~~~~~~~~~~~~~ SB-012 ~~~~~~~~~~~~~~~~~~~~~~\n",
      "~~~~~~~~~~ Number of instances before balancing:  129  ~~~~~~~~~~\n",
      "~~~~~~~ Training Loss: 0.011723902076482773  ~~~~~~~\n",
      "~~~~~~~ Validation Loss: 0.01668688654899597  ~~~~~~~\n",
      "2/2 [==============================] - 0s 4ms/step\n",
      "~~~~~~~ value_counts: ~~~~~~~\n",
      "1    88\n",
      "0    82\n",
      "Name: class, dtype: int64\n",
      "~~~~~~~~~~ Number of instances after balancing:  170  ~~~~~~~~~~\n",
      "~~~~~~~~~~ Number of instances before balancing:  129  ~~~~~~~~~~\n",
      "~~~~~~~ Training Loss: 0.010378745384514332  ~~~~~~~\n",
      "~~~~~~~ Validation Loss: 0.016590213403105736  ~~~~~~~\n",
      "2/2 [==============================] - 0s 4ms/step\n",
      "~~~~~~~ value_counts: ~~~~~~~\n",
      "1    91\n",
      "0    76\n",
      "Name: class, dtype: int64\n",
      "~~~~~~~~~~ Number of instances after balancing:  167  ~~~~~~~~~~\n",
      "~~~~~~~~~~ Number of instances before balancing:  130  ~~~~~~~~~~\n",
      "~~~~~~~ Training Loss: 0.011458262801170349  ~~~~~~~\n",
      "~~~~~~~ Validation Loss: 0.01192467100918293  ~~~~~~~\n",
      "2/2 [==============================] - 0s 6ms/step\n",
      "~~~~~~~ value_counts: ~~~~~~~\n",
      "1    95\n",
      "0    70\n",
      "Name: class, dtype: int64\n",
      "~~~~~~~~~~ Number of instances after balancing:  165  ~~~~~~~~~~\n",
      "~~~~~~~~~~ K-NN ~~~~~~~~~~~~~~~\n",
      "-----------kfold--------------- 0 ------------\n",
      "---K-NN--- 0.8411764705882352 KNeighborsClassifier(metric='manhattan', n_neighbors=3)\n",
      "* 0-----------kfold--------------- 1 ------------\n"
     ]
    },
    {
     "name": "stderr",
     "output_type": "stream",
     "text": [
      "c:\\Users\\sbhuv\\AppData\\Local\\Programs\\Python\\Python38\\lib\\site-packages\\sklearn\\neighbors\\_classification.py:215: DataConversionWarning: A column-vector y was passed when a 1d array was expected. Please change the shape of y to (n_samples,), for example using ravel().\n",
      "  return self._fit(X, y)\n",
      "c:\\Users\\sbhuv\\AppData\\Local\\Programs\\Python\\Python38\\lib\\site-packages\\sklearn\\neighbors\\_classification.py:215: DataConversionWarning: A column-vector y was passed when a 1d array was expected. Please change the shape of y to (n_samples,), for example using ravel().\n",
      "  return self._fit(X, y)\n"
     ]
    },
    {
     "name": "stdout",
     "output_type": "stream",
     "text": [
      "* 1-----------kfold--------------- 2 ------------\n",
      "---K-NN--- 0.8424242424242424 KNeighborsClassifier(metric='euclidean')\n",
      "* 2*\n",
      "{'algorithm': 'auto', 'leaf_size': 30, 'metric': 'euclidean', 'metric_params': None, 'n_jobs': None, 'n_neighbors': 5, 'p': 2, 'weights': 'uniform'}\n",
      "------run_cv runs successfully------------\n",
      "++++++++++++save_confusion_matrix++++++++++++\n"
     ]
    },
    {
     "name": "stderr",
     "output_type": "stream",
     "text": [
      "c:\\Users\\sbhuv\\AppData\\Local\\Programs\\Python\\Python38\\lib\\site-packages\\sklearn\\neighbors\\_classification.py:215: DataConversionWarning: A column-vector y was passed when a 1d array was expected. Please change the shape of y to (n_samples,), for example using ravel().\n",
      "  return self._fit(X, y)\n",
      "Classificationv3.py:353: UserWarning: FixedFormatter should only be used together with FixedLocator\n",
      "  axs[i].set_xticklabels([''] + ['0', '1'], fontsize='xx-large')\n",
      "Classificationv3.py:354: UserWarning: FixedFormatter should only be used together with FixedLocator\n",
      "  axs[i].set_yticklabels([''] + ['0', '1'], fontsize='xx-large')\n"
     ]
    },
    {
     "name": "stdout",
     "output_type": "stream",
     "text": [
      "++++++++++++save_confusion_matrix end++++++++++++\n",
      "(((((((((((((((((((((( draw droc ))))))))))))))))))))))))))))))\n",
      "(((((((( draw droc end ))))))))\n",
      "~~~~~~~~~~~~~~~~~ SB-022 ~~~~~~~~~~~~~~~~~~~~~~\n",
      "~~~~~~~~~~ Number of instances before balancing:  136  ~~~~~~~~~~\n",
      "~~~~~~~ Training Loss: 0.012874599546194077  ~~~~~~~\n",
      "~~~~~~~ Validation Loss: 0.013516469858586788  ~~~~~~~\n",
      "2/2 [==============================] - 0s 4ms/step\n",
      "~~~~~~~ value_counts: ~~~~~~~\n",
      "1    94\n",
      "0    84\n",
      "Name: class, dtype: int64\n",
      "~~~~~~~~~~ Number of instances after balancing:  178  ~~~~~~~~~~\n",
      "~~~~~~~~~~ Number of instances before balancing:  136  ~~~~~~~~~~\n",
      "~~~~~~~ Training Loss: 0.011443299241364002  ~~~~~~~\n",
      "~~~~~~~ Validation Loss: 0.02026342786848545  ~~~~~~~\n",
      "2/2 [==============================] - 0s 4ms/step\n",
      "~~~~~~~ value_counts: ~~~~~~~\n",
      "1    96\n",
      "0    80\n",
      "Name: class, dtype: int64\n",
      "~~~~~~~~~~ Number of instances after balancing:  176  ~~~~~~~~~~\n",
      "~~~~~~~~~~ Number of instances before balancing:  136  ~~~~~~~~~~\n",
      "~~~~~~~ Training Loss: 0.008565818890929222  ~~~~~~~\n",
      "~~~~~~~ Validation Loss: 0.01379635464400053  ~~~~~~~\n",
      "2/2 [==============================] - 0s 4ms/step\n",
      "~~~~~~~ value_counts: ~~~~~~~\n",
      "1    96\n",
      "0    80\n",
      "Name: class, dtype: int64\n",
      "~~~~~~~~~~ Number of instances after balancing:  176  ~~~~~~~~~~\n",
      "~~~~~~~~~~ K-NN ~~~~~~~~~~~~~~~\n",
      "-----------kfold--------------- 0 ------------\n",
      "---K-NN--- 0.7925396825396825 KNeighborsClassifier(metric='manhattan', n_neighbors=3)\n",
      "* 0-----------kfold--------------- 1 ------------\n"
     ]
    },
    {
     "name": "stderr",
     "output_type": "stream",
     "text": [
      "c:\\Users\\sbhuv\\AppData\\Local\\Programs\\Python\\Python38\\lib\\site-packages\\sklearn\\neighbors\\_classification.py:215: DataConversionWarning: A column-vector y was passed when a 1d array was expected. Please change the shape of y to (n_samples,), for example using ravel().\n",
      "  return self._fit(X, y)\n",
      "c:\\Users\\sbhuv\\AppData\\Local\\Programs\\Python\\Python38\\lib\\site-packages\\sklearn\\neighbors\\_classification.py:215: DataConversionWarning: A column-vector y was passed when a 1d array was expected. Please change the shape of y to (n_samples,), for example using ravel().\n",
      "  return self._fit(X, y)\n"
     ]
    },
    {
     "name": "stdout",
     "output_type": "stream",
     "text": [
      "* 1-----------kfold--------------- 2 ------------\n"
     ]
    },
    {
     "name": "stderr",
     "output_type": "stream",
     "text": [
      "c:\\Users\\sbhuv\\AppData\\Local\\Programs\\Python\\Python38\\lib\\site-packages\\sklearn\\neighbors\\_classification.py:215: DataConversionWarning: A column-vector y was passed when a 1d array was expected. Please change the shape of y to (n_samples,), for example using ravel().\n",
      "  return self._fit(X, y)\n",
      "Classificationv3.py:353: UserWarning: FixedFormatter should only be used together with FixedLocator\n",
      "  axs[i].set_xticklabels([''] + ['0', '1'], fontsize='xx-large')\n",
      "Classificationv3.py:354: UserWarning: FixedFormatter should only be used together with FixedLocator\n",
      "  axs[i].set_yticklabels([''] + ['0', '1'], fontsize='xx-large')\n"
     ]
    },
    {
     "name": "stdout",
     "output_type": "stream",
     "text": [
      "* 2*\n",
      "{'algorithm': 'auto', 'leaf_size': 30, 'metric': 'manhattan', 'metric_params': None, 'n_jobs': None, 'n_neighbors': 5, 'p': 2, 'weights': 'uniform'}\n",
      "------run_cv runs successfully------------\n",
      "++++++++++++save_confusion_matrix++++++++++++\n",
      "++++++++++++save_confusion_matrix end++++++++++++\n",
      "(((((((((((((((((((((( draw droc ))))))))))))))))))))))))))))))\n",
      "(((((((( draw droc end ))))))))\n",
      "~~~~~~~~~~~~~~~~~ SB-023 ~~~~~~~~~~~~~~~~~~~~~~\n",
      "~~~~~~~~~~ Number of instances before balancing:  129  ~~~~~~~~~~\n",
      "~~~~~~~ Training Loss: 0.010442481376230717  ~~~~~~~\n",
      "~~~~~~~ Validation Loss: 0.019433023408055305  ~~~~~~~\n",
      "2/2 [==============================] - 0s 6ms/step\n",
      "~~~~~~~ value_counts: ~~~~~~~\n",
      "1    90\n",
      "0    78\n",
      "Name: class, dtype: int64\n",
      "~~~~~~~~~~ Number of instances after balancing:  168  ~~~~~~~~~~\n",
      "~~~~~~~~~~ Number of instances before balancing:  129  ~~~~~~~~~~\n",
      "~~~~~~~ Training Loss: 0.01030868198722601  ~~~~~~~\n",
      "~~~~~~~ Validation Loss: 0.014479702338576317  ~~~~~~~\n",
      "2/2 [==============================] - 0s 20ms/step\n",
      "~~~~~~~ value_counts: ~~~~~~~\n",
      "1    89\n",
      "0    80\n",
      "Name: class, dtype: int64\n",
      "~~~~~~~~~~ Number of instances after balancing:  169  ~~~~~~~~~~\n",
      "~~~~~~~~~~ Number of instances before balancing:  130  ~~~~~~~~~~\n",
      "~~~~~~~ Training Loss: 0.011290295980870724  ~~~~~~~\n",
      "~~~~~~~ Validation Loss: 0.030485820025205612  ~~~~~~~\n",
      "2/2 [==============================] - 0s 7ms/step\n",
      "~~~~~~~ value_counts: ~~~~~~~\n",
      "1    89\n",
      "0    82\n",
      "Name: class, dtype: int64\n",
      "~~~~~~~~~~ Number of instances after balancing:  171  ~~~~~~~~~~\n",
      "~~~~~~~~~~ K-NN ~~~~~~~~~~~~~~~\n",
      "-----------kfold--------------- 0 ------------\n",
      "---K-NN--- 0.786096256684492 KNeighborsClassifier(metric='manhattan', n_neighbors=3)\n",
      "* 0-----------kfold--------------- 1 ------------\n"
     ]
    },
    {
     "name": "stderr",
     "output_type": "stream",
     "text": [
      "c:\\Users\\sbhuv\\AppData\\Local\\Programs\\Python\\Python38\\lib\\site-packages\\sklearn\\neighbors\\_classification.py:215: DataConversionWarning: A column-vector y was passed when a 1d array was expected. Please change the shape of y to (n_samples,), for example using ravel().\n",
      "  return self._fit(X, y)\n",
      "c:\\Users\\sbhuv\\AppData\\Local\\Programs\\Python\\Python38\\lib\\site-packages\\sklearn\\neighbors\\_classification.py:215: DataConversionWarning: A column-vector y was passed when a 1d array was expected. Please change the shape of y to (n_samples,), for example using ravel().\n",
      "  return self._fit(X, y)\n"
     ]
    },
    {
     "name": "stdout",
     "output_type": "stream",
     "text": [
      "* 1-----------kfold--------------- 2 ------------\n"
     ]
    },
    {
     "name": "stderr",
     "output_type": "stream",
     "text": [
      "c:\\Users\\sbhuv\\AppData\\Local\\Programs\\Python\\Python38\\lib\\site-packages\\sklearn\\neighbors\\_classification.py:215: DataConversionWarning: A column-vector y was passed when a 1d array was expected. Please change the shape of y to (n_samples,), for example using ravel().\n",
      "  return self._fit(X, y)\n"
     ]
    },
    {
     "name": "stdout",
     "output_type": "stream",
     "text": [
      "* 2*\n",
      "{'algorithm': 'auto', 'leaf_size': 30, 'metric': 'manhattan', 'metric_params': None, 'n_jobs': None, 'n_neighbors': 5, 'p': 2, 'weights': 'uniform'}\n",
      "------run_cv runs successfully------------\n",
      "++++++++++++save_confusion_matrix++++++++++++\n"
     ]
    },
    {
     "name": "stderr",
     "output_type": "stream",
     "text": [
      "Classificationv3.py:353: UserWarning: FixedFormatter should only be used together with FixedLocator\n",
      "  axs[i].set_xticklabels([''] + ['0', '1'], fontsize='xx-large')\n",
      "Classificationv3.py:354: UserWarning: FixedFormatter should only be used together with FixedLocator\n",
      "  axs[i].set_yticklabels([''] + ['0', '1'], fontsize='xx-large')\n"
     ]
    },
    {
     "name": "stdout",
     "output_type": "stream",
     "text": [
      "++++++++++++save_confusion_matrix end++++++++++++\n",
      "(((((((((((((((((((((( draw droc ))))))))))))))))))))))))))))))\n",
      "(((((((( draw droc end ))))))))\n",
      "~~~~~~~~~~~~~~~~~ SB-025 ~~~~~~~~~~~~~~~~~~~~~~\n",
      "~~~~~~~~~~ Number of instances before balancing:  78  ~~~~~~~~~~\n",
      "~~~~~~~ Training Loss: 0.02431364171206951  ~~~~~~~\n",
      "~~~~~~~ Validation Loss: 0.05148901417851448  ~~~~~~~\n",
      "1/1 [==============================] - 0s 194ms/step\n",
      "~~~~~~~ value_counts: ~~~~~~~\n",
      "1    59\n",
      "0    38\n",
      "Name: class, dtype: int64\n",
      "~~~~~~~~~~ Number of instances after balancing:  97  ~~~~~~~~~~\n",
      "~~~~~~~~~~ Number of instances before balancing:  78  ~~~~~~~~~~\n",
      "~~~~~~~ Training Loss: 0.01965280808508396  ~~~~~~~\n",
      "~~~~~~~ Validation Loss: 0.03574233874678612  ~~~~~~~\n",
      "1/1 [==============================] - 0s 272ms/step\n",
      "~~~~~~~ value_counts: ~~~~~~~\n",
      "1    61\n",
      "0    34\n",
      "Name: class, dtype: int64\n",
      "~~~~~~~~~~ Number of instances after balancing:  95  ~~~~~~~~~~\n",
      "~~~~~~~~~~ Number of instances before balancing:  78  ~~~~~~~~~~\n",
      "~~~~~~~ Training Loss: 0.02658461406826973  ~~~~~~~\n",
      "~~~~~~~ Validation Loss: 0.03443681448698044  ~~~~~~~\n",
      "1/1 [==============================] - 0s 168ms/step\n",
      "~~~~~~~ value_counts: ~~~~~~~\n",
      "1    64\n",
      "0    28\n",
      "Name: class, dtype: int64\n",
      "~~~~~~~~~~ Number of instances after balancing:  92  ~~~~~~~~~~\n",
      "~~~~~~~~~~ K-NN ~~~~~~~~~~~~~~~\n",
      "-----------kfold--------------- 0 ------------\n",
      "---K-NN--- 0.8347368421052632 KNeighborsClassifier(metric='manhattan')\n",
      "* 0-----------kfold--------------- 1 ------------\n"
     ]
    },
    {
     "name": "stderr",
     "output_type": "stream",
     "text": [
      "c:\\Users\\sbhuv\\AppData\\Local\\Programs\\Python\\Python38\\lib\\site-packages\\sklearn\\neighbors\\_classification.py:215: DataConversionWarning: A column-vector y was passed when a 1d array was expected. Please change the shape of y to (n_samples,), for example using ravel().\n",
      "  return self._fit(X, y)\n",
      "c:\\Users\\sbhuv\\AppData\\Local\\Programs\\Python\\Python38\\lib\\site-packages\\sklearn\\neighbors\\_classification.py:215: DataConversionWarning: A column-vector y was passed when a 1d array was expected. Please change the shape of y to (n_samples,), for example using ravel().\n",
      "  return self._fit(X, y)\n"
     ]
    },
    {
     "name": "stdout",
     "output_type": "stream",
     "text": [
      "* 1-----------kfold--------------- 2 ------------\n"
     ]
    },
    {
     "name": "stderr",
     "output_type": "stream",
     "text": [
      "c:\\Users\\sbhuv\\AppData\\Local\\Programs\\Python\\Python38\\lib\\site-packages\\sklearn\\neighbors\\_classification.py:215: DataConversionWarning: A column-vector y was passed when a 1d array was expected. Please change the shape of y to (n_samples,), for example using ravel().\n",
      "  return self._fit(X, y)\n",
      "Classificationv3.py:353: UserWarning: FixedFormatter should only be used together with FixedLocator\n",
      "  axs[i].set_xticklabels([''] + ['0', '1'], fontsize='xx-large')\n",
      "Classificationv3.py:354: UserWarning: FixedFormatter should only be used together with FixedLocator\n",
      "  axs[i].set_yticklabels([''] + ['0', '1'], fontsize='xx-large')\n"
     ]
    },
    {
     "name": "stdout",
     "output_type": "stream",
     "text": [
      "* 2*\n",
      "{'algorithm': 'auto', 'leaf_size': 30, 'metric': 'manhattan', 'metric_params': None, 'n_jobs': None, 'n_neighbors': 3, 'p': 2, 'weights': 'uniform'}\n",
      "------run_cv runs successfully------------\n",
      "++++++++++++save_confusion_matrix++++++++++++\n",
      "++++++++++++save_confusion_matrix end++++++++++++\n",
      "(((((((((((((((((((((( draw droc ))))))))))))))))))))))))))))))\n",
      "(((((((( draw droc end ))))))))\n",
      "~~~~~~~~~~~~~~~~~ SB-028 ~~~~~~~~~~~~~~~~~~~~~~\n",
      "~~~~~~~~~~ Number of instances before balancing:  61  ~~~~~~~~~~\n",
      "~~~~~~~ Training Loss: 0.015662074089050293  ~~~~~~~\n",
      "~~~~~~~ Validation Loss: 0.03646402806043625  ~~~~~~~\n",
      "1/1 [==============================] - 0s 216ms/step\n",
      "~~~~~~~ value_counts: ~~~~~~~\n",
      "0    42\n",
      "1    40\n",
      "Name: class, dtype: int64\n",
      "~~~~~~~~~~ Number of instances after balancing:  82  ~~~~~~~~~~\n",
      "~~~~~~~~~~ Number of instances before balancing:  61  ~~~~~~~~~~\n",
      "~~~~~~~ Training Loss: 0.015602211467921734  ~~~~~~~\n",
      "~~~~~~~ Validation Loss: 0.019827451556921005  ~~~~~~~\n",
      "1/1 [==============================] - 0s 322ms/step\n",
      "~~~~~~~ value_counts: ~~~~~~~\n",
      "1    43\n",
      "0    36\n",
      "Name: class, dtype: int64\n",
      "~~~~~~~~~~ Number of instances after balancing:  79  ~~~~~~~~~~\n",
      "~~~~~~~~~~ Number of instances before balancing:  62  ~~~~~~~~~~\n",
      "~~~~~~~ Training Loss: 0.013734407722949982  ~~~~~~~\n",
      "~~~~~~~ Validation Loss: 0.023497801274061203  ~~~~~~~\n",
      "1/1 [==============================] - 0s 265ms/step\n",
      "~~~~~~~ value_counts: ~~~~~~~\n",
      "1    45\n",
      "0    34\n",
      "Name: class, dtype: int64\n",
      "~~~~~~~~~~ Number of instances after balancing:  79  ~~~~~~~~~~\n",
      "~~~~~~~~~~ K-NN ~~~~~~~~~~~~~~~\n",
      "-----------kfold--------------- 0 ------------\n",
      "---K-NN--- 0.7316176470588236 KNeighborsClassifier(metric='manhattan', n_neighbors=3)\n",
      "* 0-----------kfold--------------- 1 ------------\n"
     ]
    },
    {
     "name": "stderr",
     "output_type": "stream",
     "text": [
      "c:\\Users\\sbhuv\\AppData\\Local\\Programs\\Python\\Python38\\lib\\site-packages\\sklearn\\neighbors\\_classification.py:215: DataConversionWarning: A column-vector y was passed when a 1d array was expected. Please change the shape of y to (n_samples,), for example using ravel().\n",
      "  return self._fit(X, y)\n",
      "c:\\Users\\sbhuv\\AppData\\Local\\Programs\\Python\\Python38\\lib\\site-packages\\sklearn\\neighbors\\_classification.py:215: DataConversionWarning: A column-vector y was passed when a 1d array was expected. Please change the shape of y to (n_samples,), for example using ravel().\n",
      "  return self._fit(X, y)\n"
     ]
    },
    {
     "name": "stdout",
     "output_type": "stream",
     "text": [
      "* 1-----------kfold--------------- 2 ------------\n",
      "---K-NN--- 0.7858333333333334 KNeighborsClassifier(metric='manhattan')\n",
      "* 2*\n",
      "{'algorithm': 'auto', 'leaf_size': 30, 'metric': 'manhattan', 'metric_params': None, 'n_jobs': None, 'n_neighbors': 5, 'p': 2, 'weights': 'uniform'}\n",
      "------run_cv runs successfully------------\n",
      "++++++++++++save_confusion_matrix++++++++++++\n"
     ]
    },
    {
     "name": "stderr",
     "output_type": "stream",
     "text": [
      "c:\\Users\\sbhuv\\AppData\\Local\\Programs\\Python\\Python38\\lib\\site-packages\\sklearn\\neighbors\\_classification.py:215: DataConversionWarning: A column-vector y was passed when a 1d array was expected. Please change the shape of y to (n_samples,), for example using ravel().\n",
      "  return self._fit(X, y)\n",
      "Classificationv3.py:353: UserWarning: FixedFormatter should only be used together with FixedLocator\n",
      "  axs[i].set_xticklabels([''] + ['0', '1'], fontsize='xx-large')\n",
      "Classificationv3.py:354: UserWarning: FixedFormatter should only be used together with FixedLocator\n",
      "  axs[i].set_yticklabels([''] + ['0', '1'], fontsize='xx-large')\n"
     ]
    },
    {
     "name": "stdout",
     "output_type": "stream",
     "text": [
      "++++++++++++save_confusion_matrix end++++++++++++\n",
      "(((((((((((((((((((((( draw droc ))))))))))))))))))))))))))))))\n",
      "(((((((( draw droc end ))))))))\n",
      "~~~~~~~~~~~~~~~~~ SB-033 ~~~~~~~~~~~~~~~~~~~~~~\n",
      "~~~~~~~~~~ Number of instances before balancing:  35  ~~~~~~~~~~\n",
      "~~~~~~~ Training Loss: 0.02138621173799038  ~~~~~~~\n",
      "~~~~~~~ Validation Loss: 0.01639353483915329  ~~~~~~~\n",
      "1/1 [==============================] - 0s 482ms/step\n",
      "~~~~~~~ value_counts: ~~~~~~~\n",
      "0    24\n",
      "1    23\n",
      "Name: class, dtype: int64\n",
      "~~~~~~~~~~ Number of instances after balancing:  47  ~~~~~~~~~~\n",
      "~~~~~~~~~~ Number of instances before balancing:  35  ~~~~~~~~~~\n",
      "~~~~~~~ Training Loss: 0.023698830977082253  ~~~~~~~\n",
      "~~~~~~~ Validation Loss: 0.020613906905055046  ~~~~~~~\n",
      "1/1 [==============================] - 0s 189ms/step\n",
      "~~~~~~~ value_counts: ~~~~~~~\n",
      "0    38\n",
      "1    16\n",
      "Name: class, dtype: int64\n",
      "~~~~~~~~~~ Number of instances after balancing:  54  ~~~~~~~~~~\n",
      "~~~~~~~~~~ Number of instances before balancing:  36  ~~~~~~~~~~\n",
      "~~~~~~~ Training Loss: 0.01858893595635891  ~~~~~~~\n",
      "~~~~~~~ Validation Loss: 0.034667618572711945  ~~~~~~~\n",
      "1/1 [==============================] - 0s 171ms/step\n",
      "~~~~~~~ value_counts: ~~~~~~~\n",
      "0    30\n",
      "1    21\n",
      "Name: class, dtype: int64\n",
      "~~~~~~~~~~ Number of instances after balancing:  51  ~~~~~~~~~~\n",
      "~~~~~~~~~~ K-NN ~~~~~~~~~~~~~~~\n",
      "-----------kfold--------------- 0 ------------\n",
      "---K-NN--- 0.7866666666666667 KNeighborsClassifier(metric='euclidean')\n",
      "* 0-----------kfold--------------- 1 ------------\n"
     ]
    },
    {
     "name": "stderr",
     "output_type": "stream",
     "text": [
      "c:\\Users\\sbhuv\\AppData\\Local\\Programs\\Python\\Python38\\lib\\site-packages\\sklearn\\neighbors\\_classification.py:215: DataConversionWarning: A column-vector y was passed when a 1d array was expected. Please change the shape of y to (n_samples,), for example using ravel().\n",
      "  return self._fit(X, y)\n",
      "c:\\Users\\sbhuv\\AppData\\Local\\Programs\\Python\\Python38\\lib\\site-packages\\sklearn\\neighbors\\_classification.py:215: DataConversionWarning: A column-vector y was passed when a 1d array was expected. Please change the shape of y to (n_samples,), for example using ravel().\n",
      "  return self._fit(X, y)\n"
     ]
    },
    {
     "name": "stdout",
     "output_type": "stream",
     "text": [
      "* 1-----------kfold--------------- 2 ------------\n"
     ]
    },
    {
     "name": "stderr",
     "output_type": "stream",
     "text": [
      "c:\\Users\\sbhuv\\AppData\\Local\\Programs\\Python\\Python38\\lib\\site-packages\\sklearn\\neighbors\\_classification.py:215: DataConversionWarning: A column-vector y was passed when a 1d array was expected. Please change the shape of y to (n_samples,), for example using ravel().\n",
      "  return self._fit(X, y)\n",
      "Classificationv3.py:353: UserWarning: FixedFormatter should only be used together with FixedLocator\n",
      "  axs[i].set_xticklabels([''] + ['0', '1'], fontsize='xx-large')\n",
      "Classificationv3.py:354: UserWarning: FixedFormatter should only be used together with FixedLocator\n",
      "  axs[i].set_yticklabels([''] + ['0', '1'], fontsize='xx-large')\n"
     ]
    },
    {
     "name": "stdout",
     "output_type": "stream",
     "text": [
      "* 2*\n",
      "{'algorithm': 'auto', 'leaf_size': 30, 'metric': 'manhattan', 'metric_params': None, 'n_jobs': None, 'n_neighbors': 5, 'p': 2, 'weights': 'uniform'}\n",
      "------run_cv runs successfully------------\n",
      "++++++++++++save_confusion_matrix++++++++++++\n",
      "++++++++++++save_confusion_matrix end++++++++++++\n",
      "(((((((((((((((((((((( draw droc ))))))))))))))))))))))))))))))\n",
      "(((((((( draw droc end ))))))))\n",
      "~~~~~~~~~~~~~~~~~ SB-037 ~~~~~~~~~~~~~~~~~~~~~~\n",
      "~~~~~~~~~~ Number of instances before balancing:  140  ~~~~~~~~~~\n",
      "~~~~~~~ Training Loss: 0.01524064876139164  ~~~~~~~\n",
      "~~~~~~~ Validation Loss: 0.016484014689922333  ~~~~~~~\n",
      "2/2 [==============================] - 0s 6ms/step\n",
      "~~~~~~~ value_counts: ~~~~~~~\n",
      "1    97\n",
      "0    86\n",
      "Name: class, dtype: int64\n",
      "~~~~~~~~~~ Number of instances after balancing:  183  ~~~~~~~~~~\n",
      "~~~~~~~~~~ Number of instances before balancing:  140  ~~~~~~~~~~\n",
      "~~~~~~~ Training Loss: 0.010912765748798847  ~~~~~~~\n",
      "~~~~~~~ Validation Loss: 0.021043846383690834  ~~~~~~~\n",
      "2/2 [==============================] - 0s 6ms/step\n",
      "~~~~~~~ value_counts: ~~~~~~~\n",
      "1    100\n",
      "0     80\n",
      "Name: class, dtype: int64\n",
      "~~~~~~~~~~ Number of instances after balancing:  180  ~~~~~~~~~~\n",
      "~~~~~~~~~~ Number of instances before balancing:  140  ~~~~~~~~~~\n",
      "~~~~~~~ Training Loss: 0.01145881973206997  ~~~~~~~\n",
      "~~~~~~~ Validation Loss: 0.017856869846582413  ~~~~~~~\n",
      "2/2 [==============================] - 0s 16ms/step\n",
      "~~~~~~~ value_counts: ~~~~~~~\n",
      "1    97\n",
      "0    86\n",
      "Name: class, dtype: int64\n",
      "~~~~~~~~~~ Number of instances after balancing:  183  ~~~~~~~~~~\n",
      "~~~~~~~~~~ K-NN ~~~~~~~~~~~~~~~\n",
      "-----------kfold--------------- 0 ------------\n",
      "---K-NN--- 0.7156156156156157 KNeighborsClassifier(metric='euclidean', n_neighbors=3)\n",
      "* 0-----------kfold--------------- 1 ------------\n"
     ]
    },
    {
     "name": "stderr",
     "output_type": "stream",
     "text": [
      "c:\\Users\\sbhuv\\AppData\\Local\\Programs\\Python\\Python38\\lib\\site-packages\\sklearn\\neighbors\\_classification.py:215: DataConversionWarning: A column-vector y was passed when a 1d array was expected. Please change the shape of y to (n_samples,), for example using ravel().\n",
      "  return self._fit(X, y)\n"
     ]
    },
    {
     "name": "stdout",
     "output_type": "stream",
     "text": [
      "---K-NN--- 0.7222222222222221 KNeighborsClassifier(metric='manhattan', n_neighbors=3)\n",
      "* 1-----------kfold--------------- 2 ------------\n"
     ]
    },
    {
     "name": "stderr",
     "output_type": "stream",
     "text": [
      "c:\\Users\\sbhuv\\AppData\\Local\\Programs\\Python\\Python38\\lib\\site-packages\\sklearn\\neighbors\\_classification.py:215: DataConversionWarning: A column-vector y was passed when a 1d array was expected. Please change the shape of y to (n_samples,), for example using ravel().\n",
      "  return self._fit(X, y)\n",
      "c:\\Users\\sbhuv\\AppData\\Local\\Programs\\Python\\Python38\\lib\\site-packages\\sklearn\\neighbors\\_classification.py:215: DataConversionWarning: A column-vector y was passed when a 1d array was expected. Please change the shape of y to (n_samples,), for example using ravel().\n",
      "  return self._fit(X, y)\n"
     ]
    },
    {
     "name": "stdout",
     "output_type": "stream",
     "text": [
      "* 2*\n",
      "{'algorithm': 'auto', 'leaf_size': 30, 'metric': 'euclidean', 'metric_params': None, 'n_jobs': None, 'n_neighbors': 3, 'p': 2, 'weights': 'uniform'}\n",
      "------run_cv runs successfully------------\n",
      "++++++++++++save_confusion_matrix++++++++++++\n"
     ]
    },
    {
     "name": "stderr",
     "output_type": "stream",
     "text": [
      "Classificationv3.py:353: UserWarning: FixedFormatter should only be used together with FixedLocator\n",
      "  axs[i].set_xticklabels([''] + ['0', '1'], fontsize='xx-large')\n",
      "Classificationv3.py:354: UserWarning: FixedFormatter should only be used together with FixedLocator\n",
      "  axs[i].set_yticklabels([''] + ['0', '1'], fontsize='xx-large')\n"
     ]
    },
    {
     "name": "stdout",
     "output_type": "stream",
     "text": [
      "++++++++++++save_confusion_matrix end++++++++++++\n",
      "(((((((((((((((((((((( draw droc ))))))))))))))))))))))))))))))\n",
      "(((((((( draw droc end ))))))))\n",
      "~~~~~~~~~~~~~~~~~ SB-043 ~~~~~~~~~~~~~~~~~~~~~~\n",
      "~~~~~~~~~~ Number of instances before balancing:  127  ~~~~~~~~~~\n",
      "~~~~~~~ Training Loss: 0.010448330081999302  ~~~~~~~\n",
      "~~~~~~~ Validation Loss: 0.012226838618516922  ~~~~~~~\n",
      "2/2 [==============================] - 0s 7ms/step\n",
      "~~~~~~~ value_counts: ~~~~~~~\n",
      "1    92\n",
      "0    70\n",
      "Name: class, dtype: int64\n",
      "~~~~~~~~~~ Number of instances after balancing:  162  ~~~~~~~~~~\n",
      "~~~~~~~~~~ Number of instances before balancing:  127  ~~~~~~~~~~\n",
      "~~~~~~~ Training Loss: 0.009556886740028858  ~~~~~~~\n",
      "~~~~~~~ Validation Loss: 0.021814504638314247  ~~~~~~~\n",
      "2/2 [==============================] - 0s 5ms/step\n",
      "~~~~~~~ value_counts: ~~~~~~~\n",
      "1    94\n",
      "0    66\n",
      "Name: class, dtype: int64\n",
      "~~~~~~~~~~ Number of instances after balancing:  160  ~~~~~~~~~~\n",
      "~~~~~~~~~~ Number of instances before balancing:  128  ~~~~~~~~~~\n",
      "~~~~~~~ Training Loss: 0.008887527510523796  ~~~~~~~\n",
      "~~~~~~~ Validation Loss: 0.02177133411169052  ~~~~~~~\n",
      "2/2 [==============================] - 0s 5ms/step\n",
      "~~~~~~~ value_counts: ~~~~~~~\n",
      "1    92\n",
      "0    72\n",
      "Name: class, dtype: int64\n",
      "~~~~~~~~~~ Number of instances after balancing:  164  ~~~~~~~~~~\n",
      "~~~~~~~~~~ K-NN ~~~~~~~~~~~~~~~\n",
      "-----------kfold--------------- 0 ------------\n",
      "---K-NN--- 0.7462121212121212 KNeighborsClassifier(metric='manhattan', weights='distance')\n",
      "* 0-----------kfold--------------- 1 ------------\n"
     ]
    },
    {
     "name": "stderr",
     "output_type": "stream",
     "text": [
      "c:\\Users\\sbhuv\\AppData\\Local\\Programs\\Python\\Python38\\lib\\site-packages\\sklearn\\neighbors\\_classification.py:215: DataConversionWarning: A column-vector y was passed when a 1d array was expected. Please change the shape of y to (n_samples,), for example using ravel().\n",
      "  return self._fit(X, y)\n"
     ]
    },
    {
     "name": "stdout",
     "output_type": "stream",
     "text": [
      "---K-NN--- 0.76875 KNeighborsClassifier(metric='euclidean', n_neighbors=9, weights='distance')\n",
      "* 1-----------kfold--------------- 2 ------------\n"
     ]
    },
    {
     "name": "stderr",
     "output_type": "stream",
     "text": [
      "c:\\Users\\sbhuv\\AppData\\Local\\Programs\\Python\\Python38\\lib\\site-packages\\sklearn\\neighbors\\_classification.py:215: DataConversionWarning: A column-vector y was passed when a 1d array was expected. Please change the shape of y to (n_samples,), for example using ravel().\n",
      "  return self._fit(X, y)\n",
      "c:\\Users\\sbhuv\\AppData\\Local\\Programs\\Python\\Python38\\lib\\site-packages\\sklearn\\neighbors\\_classification.py:215: DataConversionWarning: A column-vector y was passed when a 1d array was expected. Please change the shape of y to (n_samples,), for example using ravel().\n",
      "  return self._fit(X, y)\n",
      "Classificationv3.py:353: UserWarning: FixedFormatter should only be used together with FixedLocator\n",
      "  axs[i].set_xticklabels([''] + ['0', '1'], fontsize='xx-large')\n",
      "Classificationv3.py:354: UserWarning: FixedFormatter should only be used together with FixedLocator\n",
      "  axs[i].set_yticklabels([''] + ['0', '1'], fontsize='xx-large')\n"
     ]
    },
    {
     "name": "stdout",
     "output_type": "stream",
     "text": [
      "* 2*\n",
      "{'algorithm': 'auto', 'leaf_size': 30, 'metric': 'manhattan', 'metric_params': None, 'n_jobs': None, 'n_neighbors': 3, 'p': 2, 'weights': 'uniform'}\n",
      "------run_cv runs successfully------------\n",
      "++++++++++++save_confusion_matrix++++++++++++\n",
      "++++++++++++save_confusion_matrix end++++++++++++\n",
      "(((((((((((((((((((((( draw droc ))))))))))))))))))))))))))))))\n",
      "(((((((( draw droc end ))))))))\n",
      "~~~~~~~~~~~~~~~~~ SB-056 ~~~~~~~~~~~~~~~~~~~~~~\n",
      "~~~~~~~~~~ Number of instances before balancing:  127  ~~~~~~~~~~\n",
      "~~~~~~~ Training Loss: 0.02068439871072769  ~~~~~~~\n",
      "~~~~~~~ Validation Loss: 0.021268026903271675  ~~~~~~~\n",
      "1/1 [==============================] - 0s 138ms/step\n",
      "~~~~~~~ value_counts: ~~~~~~~\n",
      "1    104\n",
      "0     46\n",
      "Name: class, dtype: int64\n",
      "~~~~~~~~~~ Number of instances after balancing:  150  ~~~~~~~~~~\n",
      "~~~~~~~~~~ Number of instances before balancing:  127  ~~~~~~~~~~\n",
      "~~~~~~~ Training Loss: 0.018170470371842384  ~~~~~~~\n",
      "~~~~~~~ Validation Loss: 0.02431195229291916  ~~~~~~~\n",
      "1/1 [==============================] - 0s 256ms/step\n",
      "~~~~~~~ value_counts: ~~~~~~~\n",
      "1    96\n",
      "0    62\n",
      "Name: class, dtype: int64\n",
      "~~~~~~~~~~ Number of instances after balancing:  158  ~~~~~~~~~~\n",
      "~~~~~~~~~~ Number of instances before balancing:  128  ~~~~~~~~~~\n",
      "~~~~~~~ Training Loss: 0.016314608976244926  ~~~~~~~\n",
      "~~~~~~~ Validation Loss: 0.027109140530228615  ~~~~~~~\n",
      "1/1 [==============================] - 0s 236ms/step\n",
      "~~~~~~~ value_counts: ~~~~~~~\n",
      "1    100\n",
      "0     56\n",
      "Name: class, dtype: int64\n",
      "~~~~~~~~~~ Number of instances after balancing:  156  ~~~~~~~~~~\n",
      "~~~~~~~~~~ K-NN ~~~~~~~~~~~~~~~\n",
      "-----------kfold--------------- 0 ------------\n",
      "---K-NN--- 0.8800000000000001 KNeighborsClassifier(metric='euclidean', n_neighbors=3)\n",
      "* 0-----------kfold--------------- 1 ------------\n"
     ]
    },
    {
     "name": "stderr",
     "output_type": "stream",
     "text": [
      "c:\\Users\\sbhuv\\AppData\\Local\\Programs\\Python\\Python38\\lib\\site-packages\\sklearn\\neighbors\\_classification.py:215: DataConversionWarning: A column-vector y was passed when a 1d array was expected. Please change the shape of y to (n_samples,), for example using ravel().\n",
      "  return self._fit(X, y)\n",
      "c:\\Users\\sbhuv\\AppData\\Local\\Programs\\Python\\Python38\\lib\\site-packages\\sklearn\\neighbors\\_classification.py:215: DataConversionWarning: A column-vector y was passed when a 1d array was expected. Please change the shape of y to (n_samples,), for example using ravel().\n",
      "  return self._fit(X, y)\n"
     ]
    },
    {
     "name": "stdout",
     "output_type": "stream",
     "text": [
      "* 1-----------kfold--------------- 2 ------------\n"
     ]
    },
    {
     "name": "stderr",
     "output_type": "stream",
     "text": [
      "c:\\Users\\sbhuv\\AppData\\Local\\Programs\\Python\\Python38\\lib\\site-packages\\sklearn\\neighbors\\_classification.py:215: DataConversionWarning: A column-vector y was passed when a 1d array was expected. Please change the shape of y to (n_samples,), for example using ravel().\n",
      "  return self._fit(X, y)\n"
     ]
    },
    {
     "name": "stdout",
     "output_type": "stream",
     "text": [
      "* 2*\n",
      "{'algorithm': 'auto', 'leaf_size': 30, 'metric': 'manhattan', 'metric_params': None, 'n_jobs': None, 'n_neighbors': 3, 'p': 2, 'weights': 'uniform'}\n",
      "------run_cv runs successfully------------\n",
      "++++++++++++save_confusion_matrix++++++++++++\n"
     ]
    },
    {
     "name": "stderr",
     "output_type": "stream",
     "text": [
      "Classificationv3.py:353: UserWarning: FixedFormatter should only be used together with FixedLocator\n",
      "  axs[i].set_xticklabels([''] + ['0', '1'], fontsize='xx-large')\n",
      "Classificationv3.py:354: UserWarning: FixedFormatter should only be used together with FixedLocator\n",
      "  axs[i].set_yticklabels([''] + ['0', '1'], fontsize='xx-large')\n"
     ]
    },
    {
     "name": "stdout",
     "output_type": "stream",
     "text": [
      "++++++++++++save_confusion_matrix end++++++++++++\n",
      "(((((((((((((((((((((( draw droc ))))))))))))))))))))))))))))))\n",
      "(((((((( draw droc end ))))))))\n",
      "~~~~~~~~~~~~~~~~~ SB-059 ~~~~~~~~~~~~~~~~~~~~~~\n",
      "~~~~~~~~~~ Number of instances before balancing:  135  ~~~~~~~~~~\n",
      "~~~~~~~ Training Loss: 0.014995221979916096  ~~~~~~~\n",
      "~~~~~~~ Validation Loss: 0.016358382999897003  ~~~~~~~\n",
      "2/2 [==============================] - 0s 7ms/step\n",
      "~~~~~~~ value_counts: ~~~~~~~\n",
      "1    100\n",
      "0     70\n",
      "Name: class, dtype: int64\n",
      "~~~~~~~~~~ Number of instances after balancing:  170  ~~~~~~~~~~\n",
      "~~~~~~~~~~ Number of instances before balancing:  135  ~~~~~~~~~~\n",
      "~~~~~~~ Training Loss: 0.014873777516186237  ~~~~~~~\n",
      "~~~~~~~ Validation Loss: 0.022516340017318726  ~~~~~~~\n",
      "2/2 [==============================] - 0s 4ms/step\n",
      "~~~~~~~ value_counts: ~~~~~~~\n",
      "1    100\n",
      "0     70\n",
      "Name: class, dtype: int64\n",
      "~~~~~~~~~~ Number of instances after balancing:  170  ~~~~~~~~~~\n",
      "~~~~~~~~~~ Number of instances before balancing:  136  ~~~~~~~~~~\n",
      "~~~~~~~ Training Loss: 0.010139546357095242  ~~~~~~~\n",
      "~~~~~~~ Validation Loss: 0.02707415446639061  ~~~~~~~\n",
      "1/1 [==============================] - 0s 240ms/step\n",
      "~~~~~~~ value_counts: ~~~~~~~\n",
      "1    104\n",
      "0     64\n",
      "Name: class, dtype: int64\n",
      "~~~~~~~~~~ Number of instances after balancing:  168  ~~~~~~~~~~\n",
      "~~~~~~~~~~ K-NN ~~~~~~~~~~~~~~~\n",
      "-----------kfold--------------- 0 ------------\n",
      "---K-NN--- 0.7705882352941177 KNeighborsClassifier(metric='manhattan', n_neighbors=9, weights='distance')\n",
      "* 0-----------kfold--------------- 1 ------------\n"
     ]
    },
    {
     "name": "stderr",
     "output_type": "stream",
     "text": [
      "c:\\Users\\sbhuv\\AppData\\Local\\Programs\\Python\\Python38\\lib\\site-packages\\sklearn\\neighbors\\_classification.py:215: DataConversionWarning: A column-vector y was passed when a 1d array was expected. Please change the shape of y to (n_samples,), for example using ravel().\n",
      "  return self._fit(X, y)\n",
      "c:\\Users\\sbhuv\\AppData\\Local\\Programs\\Python\\Python38\\lib\\site-packages\\sklearn\\neighbors\\_classification.py:215: DataConversionWarning: A column-vector y was passed when a 1d array was expected. Please change the shape of y to (n_samples,), for example using ravel().\n",
      "  return self._fit(X, y)\n"
     ]
    },
    {
     "name": "stdout",
     "output_type": "stream",
     "text": [
      "* 1-----------kfold--------------- 2 ------------\n",
      "---K-NN--- 0.7921568627450981 KNeighborsClassifier(metric='manhattan', weights='distance')\n",
      "* 2*\n",
      "{'algorithm': 'auto', 'leaf_size': 30, 'metric': 'manhattan', 'metric_params': None, 'n_jobs': None, 'n_neighbors': 5, 'p': 2, 'weights': 'distance'}\n",
      "------run_cv runs successfully------------\n",
      "++++++++++++save_confusion_matrix++++++++++++\n"
     ]
    },
    {
     "name": "stderr",
     "output_type": "stream",
     "text": [
      "c:\\Users\\sbhuv\\AppData\\Local\\Programs\\Python\\Python38\\lib\\site-packages\\sklearn\\neighbors\\_classification.py:215: DataConversionWarning: A column-vector y was passed when a 1d array was expected. Please change the shape of y to (n_samples,), for example using ravel().\n",
      "  return self._fit(X, y)\n",
      "Classificationv3.py:353: UserWarning: FixedFormatter should only be used together with FixedLocator\n",
      "  axs[i].set_xticklabels([''] + ['0', '1'], fontsize='xx-large')\n",
      "Classificationv3.py:354: UserWarning: FixedFormatter should only be used together with FixedLocator\n",
      "  axs[i].set_yticklabels([''] + ['0', '1'], fontsize='xx-large')\n"
     ]
    },
    {
     "name": "stdout",
     "output_type": "stream",
     "text": [
      "++++++++++++save_confusion_matrix end++++++++++++\n",
      "(((((((((((((((((((((( draw droc ))))))))))))))))))))))))))))))\n",
      "(((((((( draw droc end ))))))))\n",
      "~~~~~~~~~~~~~~~~~ SB-060 ~~~~~~~~~~~~~~~~~~~~~~\n",
      "~~~~~~~~~~ Number of instances before balancing:  58  ~~~~~~~~~~\n",
      "~~~~~~~ Training Loss: 0.015894683077931404  ~~~~~~~\n",
      "~~~~~~~ Validation Loss: 0.027536291629076004  ~~~~~~~\n",
      "1/1 [==============================] - 0s 157ms/step\n",
      "~~~~~~~ value_counts: ~~~~~~~\n",
      "1    41\n",
      "0    34\n",
      "Name: class, dtype: int64\n",
      "~~~~~~~~~~ Number of instances after balancing:  75  ~~~~~~~~~~\n",
      "~~~~~~~~~~ Number of instances before balancing:  59  ~~~~~~~~~~\n",
      "~~~~~~~ Training Loss: 0.02576741762459278  ~~~~~~~\n",
      "~~~~~~~ Validation Loss: 0.029415547847747803  ~~~~~~~\n",
      "1/1 [==============================] - 0s 128ms/step\n",
      "~~~~~~~ value_counts: ~~~~~~~\n",
      "0    40\n",
      "1    39\n",
      "Name: class, dtype: int64\n",
      "~~~~~~~~~~ Number of instances after balancing:  79  ~~~~~~~~~~\n",
      "~~~~~~~~~~ Number of instances before balancing:  59  ~~~~~~~~~~\n",
      "~~~~~~~ Training Loss: 0.013295512646436691  ~~~~~~~\n",
      "~~~~~~~ Validation Loss: 0.01802814193069935  ~~~~~~~\n",
      "1/1 [==============================] - 0s 257ms/step\n",
      "~~~~~~~ value_counts: ~~~~~~~\n",
      "1    42\n",
      "0    34\n",
      "Name: class, dtype: int64\n",
      "~~~~~~~~~~ Number of instances after balancing:  76  ~~~~~~~~~~\n",
      "~~~~~~~~~~ K-NN ~~~~~~~~~~~~~~~\n",
      "-----------kfold--------------- 0 ------------\n",
      "---K-NN--- 0.8 KNeighborsClassifier(metric='manhattan')\n",
      "* 0-----------kfold--------------- 1 ------------\n"
     ]
    },
    {
     "name": "stderr",
     "output_type": "stream",
     "text": [
      "c:\\Users\\sbhuv\\AppData\\Local\\Programs\\Python\\Python38\\lib\\site-packages\\sklearn\\neighbors\\_classification.py:215: DataConversionWarning: A column-vector y was passed when a 1d array was expected. Please change the shape of y to (n_samples,), for example using ravel().\n",
      "  return self._fit(X, y)\n",
      "c:\\Users\\sbhuv\\AppData\\Local\\Programs\\Python\\Python38\\lib\\site-packages\\sklearn\\neighbors\\_classification.py:215: DataConversionWarning: A column-vector y was passed when a 1d array was expected. Please change the shape of y to (n_samples,), for example using ravel().\n",
      "  return self._fit(X, y)\n"
     ]
    },
    {
     "name": "stdout",
     "output_type": "stream",
     "text": [
      "* 1-----------kfold--------------- 2 ------------\n",
      "---K-NN--- 0.8550000000000001 KNeighborsClassifier(metric='euclidean', n_neighbors=3, weights='distance')\n",
      "* 2*\n",
      "{'algorithm': 'auto', 'leaf_size': 30, 'metric': 'euclidean', 'metric_params': None, 'n_jobs': None, 'n_neighbors': 3, 'p': 2, 'weights': 'distance'}\n",
      "------run_cv runs successfully------------\n",
      "++++++++++++save_confusion_matrix++++++++++++\n"
     ]
    },
    {
     "name": "stderr",
     "output_type": "stream",
     "text": [
      "c:\\Users\\sbhuv\\AppData\\Local\\Programs\\Python\\Python38\\lib\\site-packages\\sklearn\\neighbors\\_classification.py:215: DataConversionWarning: A column-vector y was passed when a 1d array was expected. Please change the shape of y to (n_samples,), for example using ravel().\n",
      "  return self._fit(X, y)\n",
      "Classificationv3.py:353: UserWarning: FixedFormatter should only be used together with FixedLocator\n",
      "  axs[i].set_xticklabels([''] + ['0', '1'], fontsize='xx-large')\n",
      "Classificationv3.py:354: UserWarning: FixedFormatter should only be used together with FixedLocator\n",
      "  axs[i].set_yticklabels([''] + ['0', '1'], fontsize='xx-large')\n"
     ]
    },
    {
     "name": "stdout",
     "output_type": "stream",
     "text": [
      "++++++++++++save_confusion_matrix end++++++++++++\n",
      "(((((((((((((((((((((( draw droc ))))))))))))))))))))))))))))))\n",
      "(((((((( draw droc end ))))))))\n",
      "~~~~~~~~~~~~~~~~~ SB-070 ~~~~~~~~~~~~~~~~~~~~~~\n",
      "~~~~~~~~~~ Number of instances before balancing:  134  ~~~~~~~~~~\n",
      "~~~~~~~ Training Loss: 0.013259032741189003  ~~~~~~~\n",
      "~~~~~~~ Validation Loss: 0.02594522200524807  ~~~~~~~\n",
      "2/2 [==============================] - 0s 5ms/step\n",
      "~~~~~~~ value_counts: ~~~~~~~\n",
      "1    95\n",
      "0    78\n",
      "Name: class, dtype: int64\n",
      "~~~~~~~~~~ Number of instances after balancing:  173  ~~~~~~~~~~\n",
      "~~~~~~~~~~ Number of instances before balancing:  135  ~~~~~~~~~~\n",
      "~~~~~~~ Training Loss: 0.009017509408295155  ~~~~~~~\n",
      "~~~~~~~ Validation Loss: 0.018339093774557114  ~~~~~~~\n",
      "2/2 [==============================] - 0s 6ms/step\n",
      "~~~~~~~ value_counts: ~~~~~~~\n",
      "1    96\n",
      "0    78\n",
      "Name: class, dtype: int64\n",
      "~~~~~~~~~~ Number of instances after balancing:  174  ~~~~~~~~~~\n",
      "~~~~~~~~~~ Number of instances before balancing:  135  ~~~~~~~~~~\n",
      "~~~~~~~ Training Loss: 0.010132413357496262  ~~~~~~~\n",
      "~~~~~~~ Validation Loss: 0.012086731381714344  ~~~~~~~\n",
      "2/2 [==============================] - 0s 4ms/step\n",
      "~~~~~~~ value_counts: ~~~~~~~\n",
      "1    93\n",
      "0    84\n",
      "Name: class, dtype: int64\n",
      "~~~~~~~~~~ Number of instances after balancing:  177  ~~~~~~~~~~\n",
      "~~~~~~~~~~ K-NN ~~~~~~~~~~~~~~~\n",
      "-----------kfold--------------- 0 ------------\n",
      "---K-NN--- 0.7289075630252102 KNeighborsClassifier(metric='manhattan', weights='distance')\n",
      "* 0-----------kfold--------------- 1 ------------\n"
     ]
    },
    {
     "name": "stderr",
     "output_type": "stream",
     "text": [
      "c:\\Users\\sbhuv\\AppData\\Local\\Programs\\Python\\Python38\\lib\\site-packages\\sklearn\\neighbors\\_classification.py:215: DataConversionWarning: A column-vector y was passed when a 1d array was expected. Please change the shape of y to (n_samples,), for example using ravel().\n",
      "  return self._fit(X, y)\n"
     ]
    },
    {
     "name": "stdout",
     "output_type": "stream",
     "text": [
      "---K-NN--- 0.7539495798319328 KNeighborsClassifier(metric='euclidean', n_neighbors=3, weights='distance')\n",
      "* 1-----------kfold--------------- 2 ------------\n"
     ]
    },
    {
     "name": "stderr",
     "output_type": "stream",
     "text": [
      "c:\\Users\\sbhuv\\AppData\\Local\\Programs\\Python\\Python38\\lib\\site-packages\\sklearn\\neighbors\\_classification.py:215: DataConversionWarning: A column-vector y was passed when a 1d array was expected. Please change the shape of y to (n_samples,), for example using ravel().\n",
      "  return self._fit(X, y)\n",
      "c:\\Users\\sbhuv\\AppData\\Local\\Programs\\Python\\Python38\\lib\\site-packages\\sklearn\\neighbors\\_classification.py:215: DataConversionWarning: A column-vector y was passed when a 1d array was expected. Please change the shape of y to (n_samples,), for example using ravel().\n",
      "  return self._fit(X, y)\n",
      "Classificationv3.py:353: UserWarning: FixedFormatter should only be used together with FixedLocator\n",
      "  axs[i].set_xticklabels([''] + ['0', '1'], fontsize='xx-large')\n",
      "Classificationv3.py:354: UserWarning: FixedFormatter should only be used together with FixedLocator\n",
      "  axs[i].set_yticklabels([''] + ['0', '1'], fontsize='xx-large')\n"
     ]
    },
    {
     "name": "stdout",
     "output_type": "stream",
     "text": [
      "* 2*\n",
      "{'algorithm': 'auto', 'leaf_size': 30, 'metric': 'euclidean', 'metric_params': None, 'n_jobs': None, 'n_neighbors': 5, 'p': 2, 'weights': 'distance'}\n",
      "------run_cv runs successfully------------\n",
      "++++++++++++save_confusion_matrix++++++++++++\n",
      "++++++++++++save_confusion_matrix end++++++++++++\n",
      "(((((((((((((((((((((( draw droc ))))))))))))))))))))))))))))))\n",
      "(((((((( draw droc end ))))))))\n",
      "~~~~~~~~~~~~~~~~~ SB-071 ~~~~~~~~~~~~~~~~~~~~~~\n",
      "~~~~~~~~~~ Number of instances before balancing:  82  ~~~~~~~~~~\n",
      "~~~~~~~ Training Loss: 0.012244751676917076  ~~~~~~~\n",
      "~~~~~~~ Validation Loss: 0.03868060186505318  ~~~~~~~\n",
      "1/1 [==============================] - 0s 146ms/step\n",
      "~~~~~~~ value_counts: ~~~~~~~\n",
      "1    70\n",
      "0    24\n",
      "Name: class, dtype: int64\n",
      "~~~~~~~~~~ Number of instances after balancing:  94  ~~~~~~~~~~\n",
      "~~~~~~~~~~ Number of instances before balancing:  83  ~~~~~~~~~~\n",
      "~~~~~~~ Training Loss: 0.01208711788058281  ~~~~~~~\n",
      "~~~~~~~ Validation Loss: 0.03075087070465088  ~~~~~~~\n",
      "1/1 [==============================] - 0s 217ms/step\n",
      "~~~~~~~ value_counts: ~~~~~~~\n",
      "1    71\n",
      "0    24\n",
      "Name: class, dtype: int64\n",
      "~~~~~~~~~~ Number of instances after balancing:  95  ~~~~~~~~~~\n",
      "~~~~~~~~~~ Number of instances before balancing:  83  ~~~~~~~~~~\n",
      "~~~~~~~ Training Loss: 0.015521633438766003  ~~~~~~~\n",
      "~~~~~~~ Validation Loss: 0.021183526143431664  ~~~~~~~\n",
      "1/1 [==============================] - 0s 134ms/step\n",
      "~~~~~~~ value_counts: ~~~~~~~\n",
      "1    69\n",
      "0    28\n",
      "Name: class, dtype: int64\n",
      "~~~~~~~~~~ Number of instances after balancing:  97  ~~~~~~~~~~\n",
      "~~~~~~~~~~ K-NN ~~~~~~~~~~~~~~~\n",
      "-----------kfold--------------- 0 ------------\n",
      "---K-NN--- 0.9029239766081872 KNeighborsClassifier(metric='euclidean', n_neighbors=11)\n",
      "* 0-----------kfold--------------- 1 ------------\n"
     ]
    },
    {
     "name": "stderr",
     "output_type": "stream",
     "text": [
      "c:\\Users\\sbhuv\\AppData\\Local\\Programs\\Python\\Python38\\lib\\site-packages\\sklearn\\neighbors\\_classification.py:215: DataConversionWarning: A column-vector y was passed when a 1d array was expected. Please change the shape of y to (n_samples,), for example using ravel().\n",
      "  return self._fit(X, y)\n",
      "c:\\Users\\sbhuv\\AppData\\Local\\Programs\\Python\\Python38\\lib\\site-packages\\sklearn\\neighbors\\_classification.py:215: DataConversionWarning: A column-vector y was passed when a 1d array was expected. Please change the shape of y to (n_samples,), for example using ravel().\n",
      "  return self._fit(X, y)\n"
     ]
    },
    {
     "name": "stdout",
     "output_type": "stream",
     "text": [
      "* 1-----------kfold--------------- 2 ------------\n"
     ]
    },
    {
     "name": "stderr",
     "output_type": "stream",
     "text": [
      "c:\\Users\\sbhuv\\AppData\\Local\\Programs\\Python\\Python38\\lib\\site-packages\\sklearn\\neighbors\\_classification.py:215: DataConversionWarning: A column-vector y was passed when a 1d array was expected. Please change the shape of y to (n_samples,), for example using ravel().\n",
      "  return self._fit(X, y)\n",
      "Classificationv3.py:353: UserWarning: FixedFormatter should only be used together with FixedLocator\n",
      "  axs[i].set_xticklabels([''] + ['0', '1'], fontsize='xx-large')\n",
      "Classificationv3.py:354: UserWarning: FixedFormatter should only be used together with FixedLocator\n",
      "  axs[i].set_yticklabels([''] + ['0', '1'], fontsize='xx-large')\n"
     ]
    },
    {
     "name": "stdout",
     "output_type": "stream",
     "text": [
      "* 2*\n",
      "{'algorithm': 'auto', 'leaf_size': 30, 'metric': 'manhattan', 'metric_params': None, 'n_jobs': None, 'n_neighbors': 3, 'p': 2, 'weights': 'uniform'}\n",
      "------run_cv runs successfully------------\n",
      "++++++++++++save_confusion_matrix++++++++++++\n",
      "++++++++++++save_confusion_matrix end++++++++++++\n",
      "(((((((((((((((((((((( draw droc ))))))))))))))))))))))))))))))\n",
      "(((((((( draw droc end ))))))))\n",
      "~~~~~~~~~~~~~~~~~ SB-073 ~~~~~~~~~~~~~~~~~~~~~~\n",
      "~~~~~~~~~~ Number of instances before balancing:  107  ~~~~~~~~~~\n",
      "~~~~~~~ Training Loss: 0.013604003004729748  ~~~~~~~\n",
      "~~~~~~~ Validation Loss: 0.017298685386776924  ~~~~~~~\n",
      "1/1 [==============================] - 0s 211ms/step\n",
      "~~~~~~~ value_counts: ~~~~~~~\n",
      "1    80\n",
      "0    54\n",
      "Name: class, dtype: int64\n",
      "~~~~~~~~~~ Number of instances after balancing:  134  ~~~~~~~~~~\n",
      "~~~~~~~~~~ Number of instances before balancing:  107  ~~~~~~~~~~\n",
      "~~~~~~~ Training Loss: 0.013021906837821007  ~~~~~~~\n",
      "~~~~~~~ Validation Loss: 0.014683226123452187  ~~~~~~~\n",
      "1/1 [==============================] - 0s 263ms/step\n",
      "~~~~~~~ value_counts: ~~~~~~~\n",
      "1    80\n",
      "0    54\n",
      "Name: class, dtype: int64\n",
      "~~~~~~~~~~ Number of instances after balancing:  134  ~~~~~~~~~~\n",
      "~~~~~~~~~~ Number of instances before balancing:  108  ~~~~~~~~~~\n",
      "~~~~~~~ Training Loss: 0.012922791764140129  ~~~~~~~\n",
      "~~~~~~~ Validation Loss: 0.019734015688300133  ~~~~~~~\n",
      "1/1 [==============================] - 0s 238ms/step\n",
      "~~~~~~~ value_counts: ~~~~~~~\n",
      "1    80\n",
      "0    56\n",
      "Name: class, dtype: int64\n",
      "~~~~~~~~~~ Number of instances after balancing:  136  ~~~~~~~~~~\n",
      "~~~~~~~~~~ K-NN ~~~~~~~~~~~~~~~\n",
      "-----------kfold--------------- 0 ------------\n",
      "---K-NN--- 0.7165242165242166 KNeighborsClassifier(metric='euclidean')\n",
      "* 0-----------kfold--------------- 1 ------------\n"
     ]
    },
    {
     "name": "stderr",
     "output_type": "stream",
     "text": [
      "c:\\Users\\sbhuv\\AppData\\Local\\Programs\\Python\\Python38\\lib\\site-packages\\sklearn\\neighbors\\_classification.py:215: DataConversionWarning: A column-vector y was passed when a 1d array was expected. Please change the shape of y to (n_samples,), for example using ravel().\n",
      "  return self._fit(X, y)\n"
     ]
    },
    {
     "name": "stdout",
     "output_type": "stream",
     "text": [
      "---K-NN--- 0.717094017094017 KNeighborsClassifier(metric='euclidean', n_neighbors=3, weights='distance')\n",
      "* 1-----------kfold--------------- 2 ------------\n"
     ]
    },
    {
     "name": "stderr",
     "output_type": "stream",
     "text": [
      "c:\\Users\\sbhuv\\AppData\\Local\\Programs\\Python\\Python38\\lib\\site-packages\\sklearn\\neighbors\\_classification.py:215: DataConversionWarning: A column-vector y was passed when a 1d array was expected. Please change the shape of y to (n_samples,), for example using ravel().\n",
      "  return self._fit(X, y)\n"
     ]
    },
    {
     "name": "stdout",
     "output_type": "stream",
     "text": [
      "---K-NN--- 0.757142857142857 KNeighborsClassifier(metric='manhattan', n_neighbors=3)\n",
      "* 2*\n",
      "{'algorithm': 'auto', 'leaf_size': 30, 'metric': 'manhattan', 'metric_params': None, 'n_jobs': None, 'n_neighbors': 3, 'p': 2, 'weights': 'uniform'}\n",
      "------run_cv runs successfully------------\n",
      "++++++++++++save_confusion_matrix++++++++++++\n"
     ]
    },
    {
     "name": "stderr",
     "output_type": "stream",
     "text": [
      "c:\\Users\\sbhuv\\AppData\\Local\\Programs\\Python\\Python38\\lib\\site-packages\\sklearn\\neighbors\\_classification.py:215: DataConversionWarning: A column-vector y was passed when a 1d array was expected. Please change the shape of y to (n_samples,), for example using ravel().\n",
      "  return self._fit(X, y)\n",
      "Classificationv3.py:353: UserWarning: FixedFormatter should only be used together with FixedLocator\n",
      "  axs[i].set_xticklabels([''] + ['0', '1'], fontsize='xx-large')\n",
      "Classificationv3.py:354: UserWarning: FixedFormatter should only be used together with FixedLocator\n",
      "  axs[i].set_yticklabels([''] + ['0', '1'], fontsize='xx-large')\n"
     ]
    },
    {
     "name": "stdout",
     "output_type": "stream",
     "text": [
      "++++++++++++save_confusion_matrix end++++++++++++\n",
      "(((((((((((((((((((((( draw droc ))))))))))))))))))))))))))))))\n",
      "(((((((( draw droc end ))))))))\n",
      "~~~~~~~~~~~~~~~~~ SB-078 ~~~~~~~~~~~~~~~~~~~~~~\n",
      "~~~~~~~~~~ Number of instances before balancing:  102  ~~~~~~~~~~\n",
      "~~~~~~~ Training Loss: 0.014760885387659073  ~~~~~~~\n",
      "~~~~~~~ Validation Loss: 0.018823083490133286  ~~~~~~~\n",
      "1/1 [==============================] - 0s 120ms/step\n",
      "~~~~~~~ value_counts: ~~~~~~~\n",
      "1    77\n",
      "0    50\n",
      "Name: class, dtype: int64\n",
      "~~~~~~~~~~ Number of instances after balancing:  127  ~~~~~~~~~~\n",
      "~~~~~~~~~~ Number of instances before balancing:  102  ~~~~~~~~~~\n",
      "~~~~~~~ Training Loss: 0.011065645143389702  ~~~~~~~\n",
      "~~~~~~~ Validation Loss: 0.022949734702706337  ~~~~~~~\n",
      "2/2 [==============================] - 0s 6ms/step\n",
      "~~~~~~~ value_counts: ~~~~~~~\n",
      "0    72\n",
      "1    66\n",
      "Name: class, dtype: int64\n",
      "~~~~~~~~~~ Number of instances after balancing:  138  ~~~~~~~~~~\n",
      "~~~~~~~~~~ Number of instances before balancing:  102  ~~~~~~~~~~\n",
      "~~~~~~~ Training Loss: 0.01318457629531622  ~~~~~~~\n",
      "~~~~~~~ Validation Loss: 0.029358142986893654  ~~~~~~~\n",
      "1/1 [==============================] - 0s 153ms/step\n",
      "~~~~~~~ value_counts: ~~~~~~~\n",
      "1    71\n",
      "0    62\n",
      "Name: class, dtype: int64\n",
      "~~~~~~~~~~ Number of instances after balancing:  133  ~~~~~~~~~~\n",
      "~~~~~~~~~~ K-NN ~~~~~~~~~~~~~~~\n",
      "-----------kfold--------------- 0 ------------\n",
      "---K-NN--- 0.8267692307692307 KNeighborsClassifier(metric='euclidean', n_neighbors=9)\n",
      "* 0-----------kfold--------------- 1 ------------\n"
     ]
    },
    {
     "name": "stderr",
     "output_type": "stream",
     "text": [
      "c:\\Users\\sbhuv\\AppData\\Local\\Programs\\Python\\Python38\\lib\\site-packages\\sklearn\\neighbors\\_classification.py:215: DataConversionWarning: A column-vector y was passed when a 1d array was expected. Please change the shape of y to (n_samples,), for example using ravel().\n",
      "  return self._fit(X, y)\n"
     ]
    },
    {
     "name": "stdout",
     "output_type": "stream",
     "text": [
      "---K-NN--- 0.8547619047619047 KNeighborsClassifier(metric='manhattan')\n",
      "* 1-----------kfold--------------- 2 ------------\n"
     ]
    },
    {
     "name": "stderr",
     "output_type": "stream",
     "text": [
      "c:\\Users\\sbhuv\\AppData\\Local\\Programs\\Python\\Python38\\lib\\site-packages\\sklearn\\neighbors\\_classification.py:215: DataConversionWarning: A column-vector y was passed when a 1d array was expected. Please change the shape of y to (n_samples,), for example using ravel().\n",
      "  return self._fit(X, y)\n",
      "c:\\Users\\sbhuv\\AppData\\Local\\Programs\\Python\\Python38\\lib\\site-packages\\sklearn\\neighbors\\_classification.py:215: DataConversionWarning: A column-vector y was passed when a 1d array was expected. Please change the shape of y to (n_samples,), for example using ravel().\n",
      "  return self._fit(X, y)\n",
      "Classificationv3.py:353: UserWarning: FixedFormatter should only be used together with FixedLocator\n",
      "  axs[i].set_xticklabels([''] + ['0', '1'], fontsize='xx-large')\n",
      "Classificationv3.py:354: UserWarning: FixedFormatter should only be used together with FixedLocator\n",
      "  axs[i].set_yticklabels([''] + ['0', '1'], fontsize='xx-large')\n"
     ]
    },
    {
     "name": "stdout",
     "output_type": "stream",
     "text": [
      "* 2*\n",
      "{'algorithm': 'auto', 'leaf_size': 30, 'metric': 'manhattan', 'metric_params': None, 'n_jobs': None, 'n_neighbors': 5, 'p': 2, 'weights': 'uniform'}\n",
      "------run_cv runs successfully------------\n",
      "++++++++++++save_confusion_matrix++++++++++++\n",
      "++++++++++++save_confusion_matrix end++++++++++++\n",
      "(((((((((((((((((((((( draw droc ))))))))))))))))))))))))))))))\n",
      "(((((((( draw droc end ))))))))\n",
      "~~~~~~~~~~~~~~~~~ SB-079 ~~~~~~~~~~~~~~~~~~~~~~\n",
      "~~~~~~~~~~ Number of instances before balancing:  94  ~~~~~~~~~~\n",
      "~~~~~~~ Training Loss: 0.017116203904151917  ~~~~~~~\n",
      "~~~~~~~ Validation Loss: 0.01927233673632145  ~~~~~~~\n",
      "1/1 [==============================] - 0s 306ms/step\n",
      "~~~~~~~ value_counts: ~~~~~~~\n",
      "1    66\n",
      "0    56\n",
      "Name: class, dtype: int64\n",
      "~~~~~~~~~~ Number of instances after balancing:  122  ~~~~~~~~~~\n",
      "~~~~~~~~~~ Number of instances before balancing:  95  ~~~~~~~~~~\n",
      "~~~~~~~ Training Loss: 0.01539715938270092  ~~~~~~~\n",
      "~~~~~~~ Validation Loss: 0.02119370549917221  ~~~~~~~\n",
      "1/1 [==============================] - 0s 239ms/step\n",
      "~~~~~~~ value_counts: ~~~~~~~\n",
      "1    66\n",
      "0    58\n",
      "Name: class, dtype: int64\n",
      "~~~~~~~~~~ Number of instances after balancing:  124  ~~~~~~~~~~\n",
      "~~~~~~~~~~ Number of instances before balancing:  95  ~~~~~~~~~~\n",
      "~~~~~~~ Training Loss: 0.022485431283712387  ~~~~~~~\n",
      "~~~~~~~ Validation Loss: 0.02656158059835434  ~~~~~~~\n",
      "1/1 [==============================] - 0s 266ms/step\n",
      "~~~~~~~ value_counts: ~~~~~~~\n",
      "1    72\n",
      "0    46\n",
      "Name: class, dtype: int64\n",
      "~~~~~~~~~~ Number of instances after balancing:  118  ~~~~~~~~~~\n",
      "~~~~~~~~~~ K-NN ~~~~~~~~~~~~~~~\n",
      "-----------kfold--------------- 0 ------------\n",
      "---K-NN--- 0.7206666666666666 KNeighborsClassifier(metric='manhattan', weights='distance')\n",
      "* 0-----------kfold--------------- 1 ------------\n"
     ]
    },
    {
     "name": "stderr",
     "output_type": "stream",
     "text": [
      "c:\\Users\\sbhuv\\AppData\\Local\\Programs\\Python\\Python38\\lib\\site-packages\\sklearn\\neighbors\\_classification.py:215: DataConversionWarning: A column-vector y was passed when a 1d array was expected. Please change the shape of y to (n_samples,), for example using ravel().\n",
      "  return self._fit(X, y)\n"
     ]
    },
    {
     "name": "stdout",
     "output_type": "stream",
     "text": [
      "---K-NN--- 0.7666666666666668 KNeighborsClassifier(metric='euclidean', n_neighbors=3, weights='distance')\n",
      "* 1-----------kfold--------------- 2 ------------\n"
     ]
    },
    {
     "name": "stderr",
     "output_type": "stream",
     "text": [
      "c:\\Users\\sbhuv\\AppData\\Local\\Programs\\Python\\Python38\\lib\\site-packages\\sklearn\\neighbors\\_classification.py:215: DataConversionWarning: A column-vector y was passed when a 1d array was expected. Please change the shape of y to (n_samples,), for example using ravel().\n",
      "  return self._fit(X, y)\n"
     ]
    },
    {
     "name": "stdout",
     "output_type": "stream",
     "text": [
      "---K-NN--- 0.8394927536231884 KNeighborsClassifier(metric='euclidean', n_neighbors=3)\n",
      "* 2*\n",
      "{'algorithm': 'auto', 'leaf_size': 30, 'metric': 'euclidean', 'metric_params': None, 'n_jobs': None, 'n_neighbors': 3, 'p': 2, 'weights': 'uniform'}\n",
      "------run_cv runs successfully------------\n",
      "++++++++++++save_confusion_matrix++++++++++++\n"
     ]
    },
    {
     "name": "stderr",
     "output_type": "stream",
     "text": [
      "c:\\Users\\sbhuv\\AppData\\Local\\Programs\\Python\\Python38\\lib\\site-packages\\sklearn\\neighbors\\_classification.py:215: DataConversionWarning: A column-vector y was passed when a 1d array was expected. Please change the shape of y to (n_samples,), for example using ravel().\n",
      "  return self._fit(X, y)\n",
      "Classificationv3.py:353: UserWarning: FixedFormatter should only be used together with FixedLocator\n",
      "  axs[i].set_xticklabels([''] + ['0', '1'], fontsize='xx-large')\n",
      "Classificationv3.py:354: UserWarning: FixedFormatter should only be used together with FixedLocator\n",
      "  axs[i].set_yticklabels([''] + ['0', '1'], fontsize='xx-large')\n"
     ]
    },
    {
     "name": "stdout",
     "output_type": "stream",
     "text": [
      "++++++++++++save_confusion_matrix end++++++++++++\n",
      "(((((((((((((((((((((( draw droc ))))))))))))))))))))))))))))))\n",
      "(((((((( draw droc end ))))))))\n",
      "~~~~~~~~~~~~~~~~~ SB-080 ~~~~~~~~~~~~~~~~~~~~~~\n",
      "~~~~~~~~~~ Number of instances before balancing:  120  ~~~~~~~~~~\n",
      "~~~~~~~ Training Loss: 0.009235350415110588  ~~~~~~~\n",
      "~~~~~~~ Validation Loss: 0.014609548263251781  ~~~~~~~\n",
      "2/2 [==============================] - 0s 4ms/step\n",
      "~~~~~~~ value_counts: ~~~~~~~\n",
      "1    83\n",
      "0    74\n",
      "Name: class, dtype: int64\n",
      "~~~~~~~~~~ Number of instances after balancing:  157  ~~~~~~~~~~\n",
      "~~~~~~~~~~ Number of instances before balancing:  121  ~~~~~~~~~~\n",
      "~~~~~~~ Training Loss: 0.008531678467988968  ~~~~~~~\n",
      "~~~~~~~ Validation Loss: 0.01895328052341938  ~~~~~~~\n",
      "2/2 [==============================] - 0s 5ms/step\n",
      "~~~~~~~ value_counts: ~~~~~~~\n",
      "1    87\n",
      "0    68\n",
      "Name: class, dtype: int64\n",
      "~~~~~~~~~~ Number of instances after balancing:  155  ~~~~~~~~~~\n",
      "~~~~~~~~~~ Number of instances before balancing:  121  ~~~~~~~~~~\n",
      "~~~~~~~ Training Loss: 0.01088657882064581  ~~~~~~~\n",
      "~~~~~~~ Validation Loss: 0.01361842267215252  ~~~~~~~\n",
      "2/2 [==============================] - 0s 5ms/step\n",
      "~~~~~~~ value_counts: ~~~~~~~\n",
      "1    86\n",
      "0    70\n",
      "Name: class, dtype: int64\n",
      "~~~~~~~~~~ Number of instances after balancing:  156  ~~~~~~~~~~\n",
      "~~~~~~~~~~ K-NN ~~~~~~~~~~~~~~~\n",
      "-----------kfold--------------- 0 ------------\n",
      "---K-NN--- 0.6933467741935483 KNeighborsClassifier(metric='euclidean', n_neighbors=3, weights='distance')\n",
      "* 0-----------kfold--------------- 1 ------------\n"
     ]
    },
    {
     "name": "stderr",
     "output_type": "stream",
     "text": [
      "c:\\Users\\sbhuv\\AppData\\Local\\Programs\\Python\\Python38\\lib\\site-packages\\sklearn\\neighbors\\_classification.py:215: DataConversionWarning: A column-vector y was passed when a 1d array was expected. Please change the shape of y to (n_samples,), for example using ravel().\n",
      "  return self._fit(X, y)\n"
     ]
    },
    {
     "name": "stdout",
     "output_type": "stream",
     "text": [
      "---K-NN--- 0.7096774193548387 KNeighborsClassifier(metric='euclidean', n_neighbors=3, weights='distance')\n"
     ]
    },
    {
     "name": "stderr",
     "output_type": "stream",
     "text": [
      "c:\\Users\\sbhuv\\AppData\\Local\\Programs\\Python\\Python38\\lib\\site-packages\\sklearn\\neighbors\\_classification.py:215: DataConversionWarning: A column-vector y was passed when a 1d array was expected. Please change the shape of y to (n_samples,), for example using ravel().\n",
      "  return self._fit(X, y)\n"
     ]
    },
    {
     "name": "stdout",
     "output_type": "stream",
     "text": [
      "* 1-----------kfold--------------- 2 ------------\n"
     ]
    },
    {
     "name": "stderr",
     "output_type": "stream",
     "text": [
      "c:\\Users\\sbhuv\\AppData\\Local\\Programs\\Python\\Python38\\lib\\site-packages\\sklearn\\neighbors\\_classification.py:215: DataConversionWarning: A column-vector y was passed when a 1d array was expected. Please change the shape of y to (n_samples,), for example using ravel().\n",
      "  return self._fit(X, y)\n"
     ]
    },
    {
     "name": "stdout",
     "output_type": "stream",
     "text": [
      "* 2*\n",
      "{'algorithm': 'auto', 'leaf_size': 30, 'metric': 'manhattan', 'metric_params': None, 'n_jobs': None, 'n_neighbors': 5, 'p': 2, 'weights': 'uniform'}\n",
      "------run_cv runs successfully------------\n",
      "++++++++++++save_confusion_matrix++++++++++++\n"
     ]
    },
    {
     "name": "stderr",
     "output_type": "stream",
     "text": [
      "Classificationv3.py:353: UserWarning: FixedFormatter should only be used together with FixedLocator\n",
      "  axs[i].set_xticklabels([''] + ['0', '1'], fontsize='xx-large')\n",
      "Classificationv3.py:354: UserWarning: FixedFormatter should only be used together with FixedLocator\n",
      "  axs[i].set_yticklabels([''] + ['0', '1'], fontsize='xx-large')\n"
     ]
    },
    {
     "name": "stdout",
     "output_type": "stream",
     "text": [
      "++++++++++++save_confusion_matrix end++++++++++++\n",
      "(((((((((((((((((((((( draw droc ))))))))))))))))))))))))))))))\n",
      "(((((((( draw droc end ))))))))\n",
      "~~~~~~~~~~~~~~~~~ SB-081 ~~~~~~~~~~~~~~~~~~~~~~\n",
      "~~~~~~~~~~ Number of instances before balancing:  22  ~~~~~~~~~~\n",
      "~~~~~~~ Training Loss: 0.012177212163805962  ~~~~~~~\n",
      "~~~~~~~ Validation Loss: 0.024822741746902466  ~~~~~~~\n",
      "1/1 [==============================] - 0s 312ms/step\n",
      "~~~~~~~ value_counts: ~~~~~~~\n",
      "1    15\n",
      "0    14\n",
      "Name: class, dtype: int64\n",
      "~~~~~~~~~~ Number of instances after balancing:  29  ~~~~~~~~~~\n",
      "~~~~~~~~~~ Number of instances before balancing:  23  ~~~~~~~~~~\n",
      "~~~~~~~ Training Loss: 0.024063194170594215  ~~~~~~~\n",
      "~~~~~~~ Validation Loss: 0.052496131509542465  ~~~~~~~\n",
      "1/1 [==============================] - 0s 337ms/step\n",
      "~~~~~~~ value_counts: ~~~~~~~\n",
      "0    20\n",
      "1    13\n",
      "Name: class, dtype: int64\n",
      "~~~~~~~~~~ Number of instances after balancing:  33  ~~~~~~~~~~\n",
      "~~~~~~~~~~ Number of instances before balancing:  23  ~~~~~~~~~~\n",
      "~~~~~~~ Training Loss: 0.018482349812984467  ~~~~~~~\n",
      "~~~~~~~ Validation Loss: 0.058453455567359924  ~~~~~~~\n",
      "1/1 [==============================] - 0s 169ms/step\n",
      "~~~~~~~ value_counts: ~~~~~~~\n",
      "0    22\n",
      "1    12\n",
      "Name: class, dtype: int64\n",
      "~~~~~~~~~~ Number of instances after balancing:  34  ~~~~~~~~~~\n",
      "~~~~~~~~~~ K-NN ~~~~~~~~~~~~~~~\n",
      "-----------kfold--------------- 0 ------------\n",
      "---K-NN--- 0.76 KNeighborsClassifier(metric='euclidean', n_neighbors=3)\n",
      "* 0-----------kfold--------------- 1 ------------\n"
     ]
    },
    {
     "name": "stderr",
     "output_type": "stream",
     "text": [
      "c:\\Users\\sbhuv\\AppData\\Local\\Programs\\Python\\Python38\\lib\\site-packages\\sklearn\\neighbors\\_classification.py:215: DataConversionWarning: A column-vector y was passed when a 1d array was expected. Please change the shape of y to (n_samples,), for example using ravel().\n",
      "  return self._fit(X, y)\n"
     ]
    },
    {
     "name": "stdout",
     "output_type": "stream",
     "text": [
      "---K-NN--- 0.8047619047619048 KNeighborsClassifier(metric='euclidean', n_neighbors=3)\n",
      "* 1-----------kfold--------------- 2 ------------\n"
     ]
    },
    {
     "name": "stderr",
     "output_type": "stream",
     "text": [
      "c:\\Users\\sbhuv\\AppData\\Local\\Programs\\Python\\Python38\\lib\\site-packages\\sklearn\\neighbors\\_classification.py:215: DataConversionWarning: A column-vector y was passed when a 1d array was expected. Please change the shape of y to (n_samples,), for example using ravel().\n",
      "  return self._fit(X, y)\n",
      "c:\\Users\\sbhuv\\AppData\\Local\\Programs\\Python\\Python38\\lib\\site-packages\\sklearn\\neighbors\\_classification.py:215: DataConversionWarning: A column-vector y was passed when a 1d array was expected. Please change the shape of y to (n_samples,), for example using ravel().\n",
      "  return self._fit(X, y)\n",
      "Classificationv3.py:353: UserWarning: FixedFormatter should only be used together with FixedLocator\n",
      "  axs[i].set_xticklabels([''] + ['0', '1'], fontsize='xx-large')\n",
      "Classificationv3.py:354: UserWarning: FixedFormatter should only be used together with FixedLocator\n",
      "  axs[i].set_yticklabels([''] + ['0', '1'], fontsize='xx-large')\n"
     ]
    },
    {
     "name": "stdout",
     "output_type": "stream",
     "text": [
      "* 2*\n",
      "{'algorithm': 'auto', 'leaf_size': 30, 'metric': 'euclidean', 'metric_params': None, 'n_jobs': None, 'n_neighbors': 3, 'p': 2, 'weights': 'uniform'}\n",
      "------run_cv runs successfully------------\n",
      "++++++++++++save_confusion_matrix++++++++++++\n",
      "++++++++++++save_confusion_matrix end++++++++++++\n",
      "(((((((((((((((((((((( draw droc ))))))))))))))))))))))))))))))\n",
      "(((((((( draw droc end ))))))))\n",
      "~~~~~~~~~~~~~~~~~ SB-082 ~~~~~~~~~~~~~~~~~~~~~~\n",
      "~~~~~~~~~~ Number of instances before balancing:  91  ~~~~~~~~~~\n",
      "~~~~~~~ Training Loss: 0.010034888982772827  ~~~~~~~\n",
      "~~~~~~~ Validation Loss: 0.02361542358994484  ~~~~~~~\n",
      "2/2 [==============================] - 0s 5ms/step\n",
      "~~~~~~~ value_counts: ~~~~~~~\n",
      "0    74\n",
      "1    54\n",
      "Name: class, dtype: int64\n",
      "~~~~~~~~~~ Number of instances after balancing:  128  ~~~~~~~~~~\n",
      "~~~~~~~~~~ Number of instances before balancing:  91  ~~~~~~~~~~\n",
      "~~~~~~~ Training Loss: 0.014350243844091892  ~~~~~~~\n",
      "~~~~~~~ Validation Loss: 0.020445942878723145  ~~~~~~~\n",
      "2/2 [==============================] - 0s 8ms/step\n",
      "~~~~~~~ value_counts: ~~~~~~~\n",
      "0    70\n",
      "1    56\n",
      "Name: class, dtype: int64\n",
      "~~~~~~~~~~ Number of instances after balancing:  126  ~~~~~~~~~~\n",
      "~~~~~~~~~~ Number of instances before balancing:  92  ~~~~~~~~~~\n",
      "~~~~~~~ Training Loss: 0.016040727496147156  ~~~~~~~\n",
      "~~~~~~~ Validation Loss: 0.022933848202228546  ~~~~~~~\n",
      "1/1 [==============================] - 0s 269ms/step\n",
      "~~~~~~~ value_counts: ~~~~~~~\n",
      "0    64\n",
      "1    60\n",
      "Name: class, dtype: int64\n",
      "~~~~~~~~~~ Number of instances after balancing:  124  ~~~~~~~~~~\n",
      "~~~~~~~~~~ K-NN ~~~~~~~~~~~~~~~\n",
      "-----------kfold--------------- 0 ------------\n",
      "---K-NN--- 0.7661538461538461 KNeighborsClassifier(metric='manhattan', n_neighbors=3)\n",
      "* 0-----------kfold--------------- 1 ------------\n"
     ]
    },
    {
     "name": "stderr",
     "output_type": "stream",
     "text": [
      "c:\\Users\\sbhuv\\AppData\\Local\\Programs\\Python\\Python38\\lib\\site-packages\\sklearn\\neighbors\\_classification.py:215: DataConversionWarning: A column-vector y was passed when a 1d array was expected. Please change the shape of y to (n_samples,), for example using ravel().\n",
      "  return self._fit(X, y)\n",
      "c:\\Users\\sbhuv\\AppData\\Local\\Programs\\Python\\Python38\\lib\\site-packages\\sklearn\\neighbors\\_classification.py:215: DataConversionWarning: A column-vector y was passed when a 1d array was expected. Please change the shape of y to (n_samples,), for example using ravel().\n",
      "  return self._fit(X, y)\n"
     ]
    },
    {
     "name": "stdout",
     "output_type": "stream",
     "text": [
      "* 1-----------kfold--------------- 2 ------------\n"
     ]
    },
    {
     "name": "stderr",
     "output_type": "stream",
     "text": [
      "c:\\Users\\sbhuv\\AppData\\Local\\Programs\\Python\\Python38\\lib\\site-packages\\sklearn\\neighbors\\_classification.py:215: DataConversionWarning: A column-vector y was passed when a 1d array was expected. Please change the shape of y to (n_samples,), for example using ravel().\n",
      "  return self._fit(X, y)\n"
     ]
    },
    {
     "name": "stdout",
     "output_type": "stream",
     "text": [
      "* 2*\n",
      "{'algorithm': 'auto', 'leaf_size': 30, 'metric': 'euclidean', 'metric_params': None, 'n_jobs': None, 'n_neighbors': 3, 'p': 2, 'weights': 'uniform'}\n",
      "------run_cv runs successfully------------\n",
      "++++++++++++save_confusion_matrix++++++++++++\n"
     ]
    },
    {
     "name": "stderr",
     "output_type": "stream",
     "text": [
      "Classificationv3.py:353: UserWarning: FixedFormatter should only be used together with FixedLocator\n",
      "  axs[i].set_xticklabels([''] + ['0', '1'], fontsize='xx-large')\n",
      "Classificationv3.py:354: UserWarning: FixedFormatter should only be used together with FixedLocator\n",
      "  axs[i].set_yticklabels([''] + ['0', '1'], fontsize='xx-large')\n"
     ]
    },
    {
     "name": "stdout",
     "output_type": "stream",
     "text": [
      "++++++++++++save_confusion_matrix end++++++++++++\n",
      "(((((((((((((((((((((( draw droc ))))))))))))))))))))))))))))))\n",
      "(((((((( draw droc end ))))))))\n",
      "~~~~~~~~~~~~~~~~~ SB-083 ~~~~~~~~~~~~~~~~~~~~~~\n",
      "~~~~~~~~~~ Number of instances before balancing:  137  ~~~~~~~~~~\n",
      "~~~~~~~ Training Loss: 0.013310784474015236  ~~~~~~~\n",
      "~~~~~~~ Validation Loss: 0.02017873525619507  ~~~~~~~\n",
      "2/2 [==============================] - 0s 5ms/step\n",
      "~~~~~~~ value_counts: ~~~~~~~\n",
      "1    92\n",
      "0    90\n",
      "Name: class, dtype: int64\n",
      "~~~~~~~~~~ Number of instances after balancing:  182  ~~~~~~~~~~\n",
      "~~~~~~~~~~ Number of instances before balancing:  137  ~~~~~~~~~~\n",
      "~~~~~~~ Training Loss: 0.010293865576386452  ~~~~~~~\n",
      "~~~~~~~ Validation Loss: 0.018363691866397858  ~~~~~~~\n",
      "2/2 [==============================] - 0s 7ms/step\n",
      "~~~~~~~ value_counts: ~~~~~~~\n",
      "1    97\n",
      "0    80\n",
      "Name: class, dtype: int64\n",
      "~~~~~~~~~~ Number of instances after balancing:  177  ~~~~~~~~~~\n",
      "~~~~~~~~~~ Number of instances before balancing:  138  ~~~~~~~~~~\n",
      "~~~~~~~ Training Loss: 0.013775200583040714  ~~~~~~~\n",
      "~~~~~~~ Validation Loss: 0.019262997433543205  ~~~~~~~\n",
      "2/2 [==============================] - 0s 5ms/step\n",
      "~~~~~~~ value_counts: ~~~~~~~\n",
      "1    99\n",
      "0    78\n",
      "Name: class, dtype: int64\n",
      "~~~~~~~~~~ Number of instances after balancing:  177  ~~~~~~~~~~\n",
      "~~~~~~~~~~ K-NN ~~~~~~~~~~~~~~~\n",
      "-----------kfold--------------- 0 ------------\n",
      "---K-NN--- 0.6486486486486487 KNeighborsClassifier(metric='manhattan', n_neighbors=9)\n",
      "* 0-----------kfold--------------- 1 ------------\n"
     ]
    },
    {
     "name": "stderr",
     "output_type": "stream",
     "text": [
      "c:\\Users\\sbhuv\\AppData\\Local\\Programs\\Python\\Python38\\lib\\site-packages\\sklearn\\neighbors\\_classification.py:215: DataConversionWarning: A column-vector y was passed when a 1d array was expected. Please change the shape of y to (n_samples,), for example using ravel().\n",
      "  return self._fit(X, y)\n"
     ]
    },
    {
     "name": "stdout",
     "output_type": "stream",
     "text": [
      "---K-NN--- 0.6892063492063493 KNeighborsClassifier(metric='euclidean')\n",
      "* 1-----------kfold--------------- 2 ------------\n"
     ]
    },
    {
     "name": "stderr",
     "output_type": "stream",
     "text": [
      "c:\\Users\\sbhuv\\AppData\\Local\\Programs\\Python\\Python38\\lib\\site-packages\\sklearn\\neighbors\\_classification.py:215: DataConversionWarning: A column-vector y was passed when a 1d array was expected. Please change the shape of y to (n_samples,), for example using ravel().\n",
      "  return self._fit(X, y)\n"
     ]
    },
    {
     "name": "stdout",
     "output_type": "stream",
     "text": [
      "---K-NN--- 0.7126984126984126 KNeighborsClassifier(metric='euclidean')\n",
      "* 2*\n",
      "{'algorithm': 'auto', 'leaf_size': 30, 'metric': 'euclidean', 'metric_params': None, 'n_jobs': None, 'n_neighbors': 5, 'p': 2, 'weights': 'uniform'}\n",
      "------run_cv runs successfully------------\n",
      "++++++++++++save_confusion_matrix++++++++++++\n"
     ]
    },
    {
     "name": "stderr",
     "output_type": "stream",
     "text": [
      "c:\\Users\\sbhuv\\AppData\\Local\\Programs\\Python\\Python38\\lib\\site-packages\\sklearn\\neighbors\\_classification.py:215: DataConversionWarning: A column-vector y was passed when a 1d array was expected. Please change the shape of y to (n_samples,), for example using ravel().\n",
      "  return self._fit(X, y)\n",
      "Classificationv3.py:353: UserWarning: FixedFormatter should only be used together with FixedLocator\n",
      "  axs[i].set_xticklabels([''] + ['0', '1'], fontsize='xx-large')\n",
      "Classificationv3.py:354: UserWarning: FixedFormatter should only be used together with FixedLocator\n",
      "  axs[i].set_yticklabels([''] + ['0', '1'], fontsize='xx-large')\n"
     ]
    },
    {
     "name": "stdout",
     "output_type": "stream",
     "text": [
      "++++++++++++save_confusion_matrix end++++++++++++\n",
      "(((((((((((((((((((((( draw droc ))))))))))))))))))))))))))))))\n",
      "(((((((( draw droc end ))))))))\n",
      "~~~~~~~~~~~~~~~~~ SB-089 ~~~~~~~~~~~~~~~~~~~~~~\n",
      "~~~~~~~~~~ Number of instances before balancing:  32  ~~~~~~~~~~\n",
      "~~~~~~~ Training Loss: 0.01313778292387724  ~~~~~~~\n",
      "~~~~~~~ Validation Loss: 0.03503929078578949  ~~~~~~~\n",
      "1/1 [==============================] - 0s 128ms/step\n",
      "~~~~~~~ value_counts: ~~~~~~~\n",
      "1    24\n",
      "0    16\n",
      "Name: class, dtype: int64\n",
      "~~~~~~~~~~ Number of instances after balancing:  40  ~~~~~~~~~~\n",
      "~~~~~~~~~~ Number of instances before balancing:  33  ~~~~~~~~~~\n",
      "~~~~~~~ Training Loss: 0.016265980899333954  ~~~~~~~\n",
      "~~~~~~~ Validation Loss: 0.09476349502801895  ~~~~~~~\n",
      "1/1 [==============================] - 0s 143ms/step\n",
      "~~~~~~~ value_counts: ~~~~~~~\n",
      "0    22\n",
      "1    22\n",
      "Name: class, dtype: int64\n",
      "~~~~~~~~~~ Number of instances after balancing:  44  ~~~~~~~~~~\n",
      "~~~~~~~~~~ Number of instances before balancing:  33  ~~~~~~~~~~\n",
      "~~~~~~~ Training Loss: 0.014752136543393135  ~~~~~~~\n",
      "~~~~~~~ Validation Loss: 0.03807177022099495  ~~~~~~~\n",
      "1/1 [==============================] - 0s 137ms/step\n",
      "~~~~~~~ value_counts: ~~~~~~~\n",
      "0    22\n",
      "1    22\n",
      "Name: class, dtype: int64\n",
      "~~~~~~~~~~ Number of instances after balancing:  44  ~~~~~~~~~~\n",
      "~~~~~~~~~~ K-NN ~~~~~~~~~~~~~~~\n",
      "-----------kfold--------------- 0 ------------\n",
      "---K-NN--- 0.825 KNeighborsClassifier(metric='euclidean', n_neighbors=3)\n",
      "* 0-----------kfold--------------- 1 ------------\n"
     ]
    },
    {
     "name": "stderr",
     "output_type": "stream",
     "text": [
      "c:\\Users\\sbhuv\\AppData\\Local\\Programs\\Python\\Python38\\lib\\site-packages\\sklearn\\neighbors\\_classification.py:215: DataConversionWarning: A column-vector y was passed when a 1d array was expected. Please change the shape of y to (n_samples,), for example using ravel().\n",
      "  return self._fit(X, y)\n",
      "c:\\Users\\sbhuv\\AppData\\Local\\Programs\\Python\\Python38\\lib\\site-packages\\sklearn\\neighbors\\_classification.py:215: DataConversionWarning: A column-vector y was passed when a 1d array was expected. Please change the shape of y to (n_samples,), for example using ravel().\n",
      "  return self._fit(X, y)\n"
     ]
    },
    {
     "name": "stdout",
     "output_type": "stream",
     "text": [
      "* 1-----------kfold--------------- 2 ------------\n"
     ]
    },
    {
     "name": "stderr",
     "output_type": "stream",
     "text": [
      "c:\\Users\\sbhuv\\AppData\\Local\\Programs\\Python\\Python38\\lib\\site-packages\\sklearn\\neighbors\\_classification.py:215: DataConversionWarning: A column-vector y was passed when a 1d array was expected. Please change the shape of y to (n_samples,), for example using ravel().\n",
      "  return self._fit(X, y)\n",
      "Classificationv3.py:353: UserWarning: FixedFormatter should only be used together with FixedLocator\n",
      "  axs[i].set_xticklabels([''] + ['0', '1'], fontsize='xx-large')\n",
      "Classificationv3.py:354: UserWarning: FixedFormatter should only be used together with FixedLocator\n",
      "  axs[i].set_yticklabels([''] + ['0', '1'], fontsize='xx-large')\n"
     ]
    },
    {
     "name": "stdout",
     "output_type": "stream",
     "text": [
      "* 2*\n",
      "{'algorithm': 'auto', 'leaf_size': 30, 'metric': 'euclidean', 'metric_params': None, 'n_jobs': None, 'n_neighbors': 5, 'p': 2, 'weights': 'distance'}\n",
      "------run_cv runs successfully------------\n",
      "++++++++++++save_confusion_matrix++++++++++++\n",
      "++++++++++++save_confusion_matrix end++++++++++++\n",
      "(((((((((((((((((((((( draw droc ))))))))))))))))))))))))))))))\n",
      "(((((((( draw droc end ))))))))\n",
      "~~~~~~~~~~~~~~~~~ SB-112 ~~~~~~~~~~~~~~~~~~~~~~\n",
      "~~~~~~~~~~ Number of instances before balancing:  120  ~~~~~~~~~~\n",
      "~~~~~~~ Training Loss: 0.018655959516763687  ~~~~~~~\n",
      "~~~~~~~ Validation Loss: 0.04441417008638382  ~~~~~~~\n",
      "1/1 [==============================] - 0s 175ms/step\n",
      "~~~~~~~ value_counts: ~~~~~~~\n",
      "1    93\n",
      "0    54\n",
      "Name: class, dtype: int64\n",
      "~~~~~~~~~~ Number of instances after balancing:  147  ~~~~~~~~~~\n",
      "~~~~~~~~~~ Number of instances before balancing:  120  ~~~~~~~~~~\n",
      "~~~~~~~ Training Loss: 0.014061040244996548  ~~~~~~~\n",
      "~~~~~~~ Validation Loss: 0.03276622295379639  ~~~~~~~\n",
      "1/1 [==============================] - 0s 193ms/step\n",
      "~~~~~~~ value_counts: ~~~~~~~\n",
      "1    94\n",
      "0    52\n",
      "Name: class, dtype: int64\n",
      "~~~~~~~~~~ Number of instances after balancing:  146  ~~~~~~~~~~\n",
      "~~~~~~~~~~ Number of instances before balancing:  120  ~~~~~~~~~~\n",
      "~~~~~~~ Training Loss: 0.013400389812886715  ~~~~~~~\n",
      "~~~~~~~ Validation Loss: 0.03765556961297989  ~~~~~~~\n",
      "1/1 [==============================] - 0s 254ms/step\n",
      "~~~~~~~ value_counts: ~~~~~~~\n",
      "1    95\n",
      "0    50\n",
      "Name: class, dtype: int64\n",
      "~~~~~~~~~~ Number of instances after balancing:  145  ~~~~~~~~~~\n",
      "~~~~~~~~~~ K-NN ~~~~~~~~~~~~~~~\n",
      "-----------kfold--------------- 0 ------------\n",
      "---K-NN--- 0.748735632183908 KNeighborsClassifier(metric='euclidean')\n"
     ]
    },
    {
     "name": "stderr",
     "output_type": "stream",
     "text": [
      "c:\\Users\\sbhuv\\AppData\\Local\\Programs\\Python\\Python38\\lib\\site-packages\\sklearn\\neighbors\\_classification.py:215: DataConversionWarning: A column-vector y was passed when a 1d array was expected. Please change the shape of y to (n_samples,), for example using ravel().\n",
      "  return self._fit(X, y)\n"
     ]
    },
    {
     "name": "stdout",
     "output_type": "stream",
     "text": [
      "* 0-----------kfold--------------- 1 ------------\n",
      "---K-NN--- 0.7671264367816092 KNeighborsClassifier(metric='manhattan', n_neighbors=3)\n",
      "* 1-----------kfold--------------- 2 ------------\n"
     ]
    },
    {
     "name": "stderr",
     "output_type": "stream",
     "text": [
      "c:\\Users\\sbhuv\\AppData\\Local\\Programs\\Python\\Python38\\lib\\site-packages\\sklearn\\neighbors\\_classification.py:215: DataConversionWarning: A column-vector y was passed when a 1d array was expected. Please change the shape of y to (n_samples,), for example using ravel().\n",
      "  return self._fit(X, y)\n"
     ]
    },
    {
     "name": "stdout",
     "output_type": "stream",
     "text": [
      "---K-NN--- 0.8068965517241379 KNeighborsClassifier(metric='manhattan', n_neighbors=3)\n",
      "* 2*\n",
      "{'algorithm': 'auto', 'leaf_size': 30, 'metric': 'manhattan', 'metric_params': None, 'n_jobs': None, 'n_neighbors': 3, 'p': 2, 'weights': 'uniform'}\n",
      "------run_cv runs successfully------------\n",
      "++++++++++++save_confusion_matrix++++++++++++\n"
     ]
    },
    {
     "name": "stderr",
     "output_type": "stream",
     "text": [
      "c:\\Users\\sbhuv\\AppData\\Local\\Programs\\Python\\Python38\\lib\\site-packages\\sklearn\\neighbors\\_classification.py:215: DataConversionWarning: A column-vector y was passed when a 1d array was expected. Please change the shape of y to (n_samples,), for example using ravel().\n",
      "  return self._fit(X, y)\n",
      "Classificationv3.py:353: UserWarning: FixedFormatter should only be used together with FixedLocator\n",
      "  axs[i].set_xticklabels([''] + ['0', '1'], fontsize='xx-large')\n",
      "Classificationv3.py:354: UserWarning: FixedFormatter should only be used together with FixedLocator\n",
      "  axs[i].set_yticklabels([''] + ['0', '1'], fontsize='xx-large')\n"
     ]
    },
    {
     "name": "stdout",
     "output_type": "stream",
     "text": [
      "++++++++++++save_confusion_matrix end++++++++++++\n",
      "(((((((((((((((((((((( draw droc ))))))))))))))))))))))))))))))\n",
      "(((((((( draw droc end ))))))))\n"
     ]
    }
   ],
   "source": [
    "runner_knn()"
   ]
  },
  {
   "cell_type": "code",
   "execution_count": 12,
   "metadata": {},
   "outputs": [],
   "source": [
    "# runner_lr()"
   ]
  },
  {
   "cell_type": "code",
   "execution_count": 13,
   "metadata": {},
   "outputs": [],
   "source": [
    "# runner_svm()"
   ]
  },
  {
   "cell_type": "code",
   "execution_count": 14,
   "metadata": {},
   "outputs": [],
   "source": [
    "# runner_nb()"
   ]
  },
  {
   "cell_type": "code",
   "execution_count": null,
   "metadata": {},
   "outputs": [],
   "source": []
  }
 ],
 "metadata": {
  "kernelspec": {
   "display_name": "Python 3",
   "language": "python",
   "name": "python3"
  },
  "language_info": {
   "codemirror_mode": {
    "name": "ipython",
    "version": 3
   },
   "file_extension": ".py",
   "mimetype": "text/x-python",
   "name": "python",
   "nbconvert_exporter": "python",
   "pygments_lexer": "ipython3",
   "version": "3.8.2"
  },
  "orig_nbformat": 4
 },
 "nbformat": 4,
 "nbformat_minor": 2
}
