{
 "cells": [
  {
   "cell_type": "code",
   "execution_count": 1,
   "metadata": {},
   "outputs": [],
   "source": [
    "import pandas as pd\n",
    "import importlib.util\n",
    "import sklearn\n",
    "import numpy as np\n",
    "from pathlib import Path\n",
    "import joblib\n",
    "import os   "
   ]
  },
  {
   "cell_type": "code",
   "execution_count": 2,
   "metadata": {},
   "outputs": [],
   "source": [
    "output_dir = \"classification_results_2023/\"\n",
    "all_patient_data = pd.read_csv(\"Combined_AM_Data.csv\")"
   ]
  },
  {
   "cell_type": "code",
   "execution_count": 3,
   "metadata": {},
   "outputs": [
    {
     "data": {
      "text/plain": [
       "Index(['id', 'date', 'age', 'sex', 'BMI', 'income', 'road_dist', 'cooking',\n",
       "       'am_pef_org', 'y_am_pef', 'tempin', 'humidin', 'pm25in', 'co2in',\n",
       "       'tempdiffin', 'humidiffin', 'pm25diffin', 'pm10', 'pm25', 'o3', 'no2',\n",
       "       'co', 'so2', 'temp', 'windsd', 'humid', 'varp', 'dewpt', 'airp', 'seap',\n",
       "       'solrhr', 'solramnt', 'grdt', 'class'],\n",
       "      dtype='object')"
      ]
     },
     "execution_count": 3,
     "metadata": {},
     "output_type": "execute_result"
    }
   ],
   "source": [
    "all_patient_data.columns"
   ]
  },
  {
   "cell_type": "code",
   "execution_count": 4,
   "metadata": {},
   "outputs": [],
   "source": [
    "# Loading classification.py\n",
    "spec = importlib.util.spec_from_file_location('classification', r\"Classificationv3.py\")\n",
    "module = importlib.util.module_from_spec(spec)\n",
    "spec.loader.exec_module(module)"
   ]
  },
  {
   "cell_type": "code",
   "execution_count": 5,
   "metadata": {},
   "outputs": [],
   "source": [
    "predictColumn = \"class\"\n",
    "minorityVariable = 0 \n",
    "classes = all_patient_data[predictColumn].unique().tolist()\n",
    "\n",
    "n_classes = len(classes)\n",
    "\n",
    "if n_classes > 2 :\n",
    "    logit_reg_model = sklearn.linear_model.LogisticRegression(solver='saga', multi_class='multinomial')\n",
    "else :\n",
    "    logit_reg_model = sklearn.linear_model.LogisticRegression(solver='liblinear', multi_class='auto')\n",
    "\n",
    "cls = [ \"DecisionTree\" , sklearn.tree.DecisionTreeClassifier(max_depth=4),\n",
    "        \"K-NN\"              , sklearn.neighbors.KNeighborsClassifier(),\n",
    "        \"Logit Regression\"  , logit_reg_model,\n",
    "        \"Naive Bayes\"       , sklearn.gaussian_process.GaussianProcessClassifier()\n",
    "];"
   ]
  },
  {
   "cell_type": "code",
   "execution_count": 6,
   "metadata": {},
   "outputs": [],
   "source": [
    "EVALUATION_METRICS = ['Weighted Accuracy', 'Sensitivity/Recall', 'Precision_avg', 'F1_avg', 'Specificity', 'Precision', 'Precision_class1', 'F1', 'F1_class1']\n",
    "REQUIRED_COLUMNS = ['income','road_dist','cooking','y_am_pef','tempin','humidin','pm25in','co2in','tempdiffin','humidiffin','pm25diffin','pm10','pm25','o3','no2','co','so2','temp','windsd','humid','varp','dewpt','airp','seap','solrhr','solramnt','grdt','class']"
   ]
  },
  {
   "cell_type": "code",
   "execution_count": 7,
   "metadata": {},
   "outputs": [],
   "source": [
    "%run \"Classificationv3.py\"\n",
    "%run \"Balance.py\""
   ]
  },
  {
   "cell_type": "code",
   "execution_count": 8,
   "metadata": {},
   "outputs": [],
   "source": [
    "def classification_func(file_name, predictCol, minorVar, category_group, cls, output_dir, df_evaluation_results, patient_id, patient_id_df):\n",
    "\n",
    "    print('~~~~~~~~~~~~~~~~~', file_name,'~~~~~~~~~~~~~~~~~~~~~~')\n",
    "\n",
    "    dataset_dir = Path(output_dir + patient_id+category_group +  \"/diagrams/\" + file_name + '/') \n",
    "\n",
    "    # Create Directory for this patient\n",
    "    if not (dataset_dir.exists() and dataset_dir.is_dir()):\n",
    "        os.makedirs(dataset_dir)\n",
    "\n",
    "    save_path = output_dir+ patient_id+category_group +'/diagrams/' + file_name + '/sklearn_models_balanced_for_train_'\n",
    "\n",
    "    CLASS_VAR = predictCol\n",
    "    MINORITY_VAR = minorVar\n",
    "    bestDT = module.Classify(patient_id_df, True, class_var=CLASS_VAR, minority_var=MINORITY_VAR, drawConfusionMatrix=True, classifiers=cls, scale=True, save_path=save_path, after_split=True)\n",
    "\n",
    "    confusion_matrixes_file = save_path + \"confusion_mat_\" + category_group + \"_\"+ file_name\n",
    "    module.save_confusion_matrix(bestDT[1], confusion_matrixes_file)\n",
    "    roc_curve_file = save_path + \"roc_curve_\" + category_group + \"_\"+ file_name\n",
    "    module.save_Draw_Roc(bestDT[2], roc_curve_file)\n",
    "    if len(bestDT[3])!=0:\n",
    "      featureImportance_path = save_path + \"important_mat_\" + category_group + \"_\"+ file_name\n",
    "      module.save_Draw_FeatureImportanceMatrix(patient_id_df,bestDT[3],cls[0], featureImportance_path, True)\n",
    "\n",
    "    model_path = save_path + \"bestModel_\" + category_group + \"_\"+ file_name + \".joblib\"\n",
    "    joblib.dump(bestDT[4], model_path)\n",
    "\n",
    "    df_evaluation_results[file_name] = bestDT[0]\n",
    "    df_evaluation_results.to_csv(output_dir+patient_id+category_group+\"/sklearn_models_balanced_for_train_metrics_\"+category_group + \".csv\")\n"
   ]
  },
  {
   "cell_type": "code",
   "execution_count": 9,
   "metadata": {},
   "outputs": [],
   "source": [
    "def runner_decision_tree():\n",
    "    ids = all_patient_data['id'].unique().tolist()\n",
    "    for id in ids:\n",
    "        patient_id = id + \"/\"\n",
    "        file_name = id\n",
    "        patient_id_df = all_patient_data[all_patient_data['id'] == id]\n",
    "        filtered_df = patient_id_df.filter(REQUIRED_COLUMNS)\n",
    "        patient_id_df = filtered_df.copy()\n",
    "        \n",
    "        # Decision Tree\n",
    "        df_evaluation_results = pd.DataFrame(index=EVALUATION_METRICS)\n",
    "        category_group = '1DecisionTree'\n",
    "        cls = [\"DecisionTree\", sklearn.tree.DecisionTreeClassifier(max_depth=4)]\n",
    "        classification_func(file_name, predictColumn, minorityVariable, category_group, cls, output_dir, df_evaluation_results, patient_id, patient_id_df)\n",
    "\n",
    "def runner_knn():\n",
    "    ids = all_patient_data['id'].unique().tolist()\n",
    "    for id in ids:\n",
    "        patient_id = id + \"/\"\n",
    "        file_name = id\n",
    "        patient_id_df = all_patient_data[all_patient_data['id'] == id]\n",
    "        filtered_df = patient_id_df.filter(REQUIRED_COLUMNS)\n",
    "        patient_id_df = filtered_df.copy()\n",
    "        \n",
    "        # KNN\n",
    "        df_evaluation_results = pd.DataFrame(index=EVALUATION_METRICS)\n",
    "        category_group = '2K-NN'\n",
    "        cls = [\"K-NN\", sklearn.neighbors.KNeighborsClassifier()]\n",
    "        classification_func(file_name, predictColumn, minorityVariable, category_group, cls, output_dir, df_evaluation_results, patient_id, patient_id_df)\n",
    "\n",
    "def runner_lr():\n",
    "    ids = all_patient_data['id'].unique().tolist()\n",
    "    for id in ids:\n",
    "        patient_id = id + \"/\"\n",
    "        file_name = id\n",
    "        patient_id_df = all_patient_data[all_patient_data['id'] == id]\n",
    "        filtered_df = patient_id_df.filter(REQUIRED_COLUMNS)\n",
    "        patient_id_df = filtered_df.copy()\n",
    "        \n",
    "        # Logistic Regression\n",
    "        df_evaluation_results = pd.DataFrame(index=EVALUATION_METRICS)\n",
    "        category_group = 'LogisticRegression'\n",
    "        print(logit_reg_model)\n",
    "        cls = [\"Logit Regression\", logit_reg_model]\n",
    "        classification_func(file_name, predictColumn, minorityVariable, category_group, cls, output_dir, df_evaluation_results, patient_id, patient_id_df)\n",
    "\n",
    "def runner_svm():\n",
    "    ids = all_patient_data['id'].unique().tolist()\n",
    "    for id in ids:\n",
    "        patient_id = id + \"/\"\n",
    "        file_name = id\n",
    "        patient_id_df = all_patient_data[all_patient_data['id'] == id]\n",
    "        filtered_df = patient_id_df.filter(REQUIRED_COLUMNS)\n",
    "        patient_id_df = filtered_df.copy()\n",
    "        \n",
    "        # SVM\n",
    "        df_evaluation_results = pd.DataFrame(index=EVALUATION_METRICS)\n",
    "        category_group = 'SVM'\n",
    "        cls = [\"SVM\", sklearn.svm.SVC(kernel=\"linear\")]\n",
    "        classification_func(file_name, predictColumn, minorityVariable, category_group, cls, output_dir, df_evaluation_results, patient_id, patient_id_df)\n",
    "\n",
    "def runner_nb():\n",
    "    ids = all_patient_data['id'].unique().tolist()\n",
    "    for id in ids:\n",
    "        patient_id = id + \"/\"\n",
    "        file_name = id\n",
    "        patient_id_df = all_patient_data[all_patient_data['id'] == id]\n",
    "        filtered_df = patient_id_df.filter(REQUIRED_COLUMNS)\n",
    "        patient_id_df = filtered_df.copy()\n",
    "        \n",
    "        # Naive Bayes\n",
    "        df_evaluation_results = pd.DataFrame(index=EVALUATION_METRICS)\n",
    "        category_group = 'NaiveBayes'\n",
    "        cls = [\"Naive Bayes\", sklearn.gaussian_process.GaussianProcessClassifier()]\n",
    "        classification_func(file_name, predictColumn, minorityVariable, category_group, cls, output_dir, df_evaluation_results, patient_id, patient_id_df)\n"
   ]
  },
  {
   "cell_type": "code",
   "execution_count": 10,
   "metadata": {},
   "outputs": [],
   "source": [
    "#runner_decision_tree()"
   ]
  },
  {
   "cell_type": "code",
   "execution_count": 11,
   "metadata": {},
   "outputs": [],
   "source": [
    "#runner_knn()"
   ]
  },
  {
   "cell_type": "code",
   "execution_count": 12,
   "metadata": {},
   "outputs": [],
   "source": [
    "#runner_lr()"
   ]
  },
  {
   "cell_type": "code",
   "execution_count": 13,
   "metadata": {},
   "outputs": [],
   "source": [
    "#runner_svm()"
   ]
  },
  {
   "cell_type": "code",
   "execution_count": 14,
   "metadata": {},
   "outputs": [
    {
     "name": "stdout",
     "output_type": "stream",
     "text": [
      "~~~~~~~~~~~~~~~~~ SB-001 ~~~~~~~~~~~~~~~~~~~~~~\n",
      "~~~~~~~~~~ Number of instances before balancing:  125  ~~~~~~~~~~\n",
      "~~~~~~~ Training Loss: 0.011277885176241398  ~~~~~~~\n",
      "~~~~~~~ Validation Loss: 0.01743428036570549  ~~~~~~~\n",
      "2/2 [==============================] - 0s 5ms/step\n",
      "~~~~~~~ value_counts: ~~~~~~~\n",
      "1    87\n",
      "0    76\n",
      "Name: class, dtype: int64\n",
      "~~~~~~~~~~ Number of instances after balancing:  163  ~~~~~~~~~~\n",
      "~~~~~~~~~~ Number of instances before balancing:  125  ~~~~~~~~~~\n",
      "~~~~~~~ Training Loss: 0.009622950106859207  ~~~~~~~\n",
      "~~~~~~~ Validation Loss: 0.020473815500736237  ~~~~~~~\n",
      "2/2 [==============================] - 0s 6ms/step\n",
      "~~~~~~~ value_counts: ~~~~~~~\n",
      "1    89\n",
      "0    72\n",
      "Name: class, dtype: int64\n",
      "~~~~~~~~~~ Number of instances after balancing:  161  ~~~~~~~~~~\n",
      "~~~~~~~~~~ Number of instances before balancing:  126  ~~~~~~~~~~\n",
      "~~~~~~~ Training Loss: 0.011948504485189915  ~~~~~~~\n",
      "~~~~~~~ Validation Loss: 0.014482060447335243  ~~~~~~~\n",
      "2/2 [==============================] - 0s 5ms/step\n",
      "~~~~~~~ value_counts: ~~~~~~~\n",
      "1    86\n",
      "0    80\n",
      "Name: class, dtype: int64\n",
      "~~~~~~~~~~ Number of instances after balancing:  166  ~~~~~~~~~~\n",
      "~~~~~~~~~~ Naive Bayes ~~~~~~~~~~~~~~~\n",
      "-----------kfold--------------- 0 ------------\n"
     ]
    },
    {
     "name": "stderr",
     "output_type": "stream",
     "text": [
      "c:\\Users\\sbhuv\\AppData\\Local\\Programs\\Python\\Python38\\lib\\site-packages\\sklearn\\gaussian_process\\kernels.py:420: ConvergenceWarning: The optimal value found for dimension 0 of parameter k2__noise_level is close to the specified lower bound 1e-05. Decreasing the bound and calling fit again may find a better value.\n",
      "  warnings.warn(\n",
      "c:\\Users\\sbhuv\\AppData\\Local\\Programs\\Python\\Python38\\lib\\site-packages\\sklearn\\gaussian_process\\kernels.py:420: ConvergenceWarning: The optimal value found for dimension 0 of parameter k2__noise_level is close to the specified lower bound 1e-05. Decreasing the bound and calling fit again may find a better value.\n",
      "  warnings.warn(\n",
      "c:\\Users\\sbhuv\\AppData\\Local\\Programs\\Python\\Python38\\lib\\site-packages\\sklearn\\gaussian_process\\kernels.py:420: ConvergenceWarning: The optimal value found for dimension 0 of parameter k2__noise_level is close to the specified lower bound 1e-05. Decreasing the bound and calling fit again may find a better value.\n",
      "  warnings.warn(\n",
      "c:\\Users\\sbhuv\\AppData\\Local\\Programs\\Python\\Python38\\lib\\site-packages\\sklearn\\gaussian_process\\kernels.py:420: ConvergenceWarning: The optimal value found for dimension 0 of parameter k2__noise_level is close to the specified lower bound 1e-05. Decreasing the bound and calling fit again may find a better value.\n",
      "  warnings.warn(\n",
      "c:\\Users\\sbhuv\\AppData\\Local\\Programs\\Python\\Python38\\lib\\site-packages\\sklearn\\gaussian_process\\kernels.py:420: ConvergenceWarning: The optimal value found for dimension 0 of parameter k2__noise_level is close to the specified lower bound 1e-05. Decreasing the bound and calling fit again may find a better value.\n",
      "  warnings.warn(\n"
     ]
    },
    {
     "name": "stdout",
     "output_type": "stream",
     "text": [
      "---Naive Bayes--- 0.7363636363636363 GaussianProcessClassifier(kernel=1**2 * RBF(length_scale=1), random_state=42)\n"
     ]
    },
    {
     "name": "stderr",
     "output_type": "stream",
     "text": [
      "c:\\Users\\sbhuv\\AppData\\Local\\Programs\\Python\\Python38\\lib\\site-packages\\sklearn\\utils\\validation.py:1143: DataConversionWarning: A column-vector y was passed when a 1d array was expected. Please change the shape of y to (n_samples, ), for example using ravel().\n",
      "  y = column_or_1d(y, warn=True)\n"
     ]
    },
    {
     "name": "stdout",
     "output_type": "stream",
     "text": [
      "* 0-----------kfold--------------- 1 ------------\n"
     ]
    },
    {
     "name": "stderr",
     "output_type": "stream",
     "text": [
      "c:\\Users\\sbhuv\\AppData\\Local\\Programs\\Python\\Python38\\lib\\site-packages\\sklearn\\gaussian_process\\kernels.py:420: ConvergenceWarning: The optimal value found for dimension 0 of parameter k2__noise_level is close to the specified lower bound 1e-05. Decreasing the bound and calling fit again may find a better value.\n",
      "  warnings.warn(\n",
      "c:\\Users\\sbhuv\\AppData\\Local\\Programs\\Python\\Python38\\lib\\site-packages\\sklearn\\gaussian_process\\kernels.py:420: ConvergenceWarning: The optimal value found for dimension 0 of parameter k2__noise_level is close to the specified lower bound 1e-05. Decreasing the bound and calling fit again may find a better value.\n",
      "  warnings.warn(\n",
      "c:\\Users\\sbhuv\\AppData\\Local\\Programs\\Python\\Python38\\lib\\site-packages\\sklearn\\gaussian_process\\kernels.py:420: ConvergenceWarning: The optimal value found for dimension 0 of parameter k2__noise_level is close to the specified lower bound 1e-05. Decreasing the bound and calling fit again may find a better value.\n",
      "  warnings.warn(\n",
      "c:\\Users\\sbhuv\\AppData\\Local\\Programs\\Python\\Python38\\lib\\site-packages\\sklearn\\gaussian_process\\kernels.py:420: ConvergenceWarning: The optimal value found for dimension 0 of parameter k2__noise_level is close to the specified lower bound 1e-05. Decreasing the bound and calling fit again may find a better value.\n",
      "  warnings.warn(\n"
     ]
    },
    {
     "name": "stdout",
     "output_type": "stream",
     "text": [
      "---Naive Bayes--- 0.7755681818181819 GaussianProcessClassifier(kernel=1**2 * RBF(length_scale=1), random_state=42)\n"
     ]
    },
    {
     "name": "stderr",
     "output_type": "stream",
     "text": [
      "c:\\Users\\sbhuv\\AppData\\Local\\Programs\\Python\\Python38\\lib\\site-packages\\sklearn\\utils\\validation.py:1143: DataConversionWarning: A column-vector y was passed when a 1d array was expected. Please change the shape of y to (n_samples, ), for example using ravel().\n",
      "  y = column_or_1d(y, warn=True)\n"
     ]
    },
    {
     "name": "stdout",
     "output_type": "stream",
     "text": [
      "* 1-----------kfold--------------- 2 ------------\n"
     ]
    },
    {
     "name": "stderr",
     "output_type": "stream",
     "text": [
      "c:\\Users\\sbhuv\\AppData\\Local\\Programs\\Python\\Python38\\lib\\site-packages\\sklearn\\gaussian_process\\kernels.py:420: ConvergenceWarning: The optimal value found for dimension 0 of parameter k2__noise_level is close to the specified lower bound 1e-05. Decreasing the bound and calling fit again may find a better value.\n",
      "  warnings.warn(\n",
      "c:\\Users\\sbhuv\\AppData\\Local\\Programs\\Python\\Python38\\lib\\site-packages\\sklearn\\gaussian_process\\kernels.py:420: ConvergenceWarning: The optimal value found for dimension 0 of parameter k2__noise_level is close to the specified lower bound 1e-05. Decreasing the bound and calling fit again may find a better value.\n",
      "  warnings.warn(\n",
      "c:\\Users\\sbhuv\\AppData\\Local\\Programs\\Python\\Python38\\lib\\site-packages\\sklearn\\gaussian_process\\kernels.py:420: ConvergenceWarning: The optimal value found for dimension 0 of parameter k2__noise_level is close to the specified lower bound 1e-05. Decreasing the bound and calling fit again may find a better value.\n",
      "  warnings.warn(\n",
      "c:\\Users\\sbhuv\\AppData\\Local\\Programs\\Python\\Python38\\lib\\site-packages\\sklearn\\gaussian_process\\kernels.py:420: ConvergenceWarning: The optimal value found for dimension 0 of parameter k2__noise_level is close to the specified lower bound 1e-05. Decreasing the bound and calling fit again may find a better value.\n",
      "  warnings.warn(\n",
      "c:\\Users\\sbhuv\\AppData\\Local\\Programs\\Python\\Python38\\lib\\site-packages\\sklearn\\gaussian_process\\kernels.py:420: ConvergenceWarning: The optimal value found for dimension 0 of parameter k2__noise_level is close to the specified lower bound 1e-05. Decreasing the bound and calling fit again may find a better value.\n",
      "  warnings.warn(\n",
      "c:\\Users\\sbhuv\\AppData\\Local\\Programs\\Python\\Python38\\lib\\site-packages\\sklearn\\utils\\validation.py:1143: DataConversionWarning: A column-vector y was passed when a 1d array was expected. Please change the shape of y to (n_samples, ), for example using ravel().\n",
      "  y = column_or_1d(y, warn=True)\n"
     ]
    },
    {
     "name": "stdout",
     "output_type": "stream",
     "text": [
      "* 2*\n",
      "{'copy_X_train': True, 'kernel__k1': 1**2, 'kernel__k2': RBF(length_scale=1), 'kernel__k1__constant_value': 1.0, 'kernel__k1__constant_value_bounds': (1e-05, 100000.0), 'kernel__k2__length_scale': 1.0, 'kernel__k2__length_scale_bounds': (1e-05, 100000.0), 'kernel': 1**2 * RBF(length_scale=1), 'max_iter_predict': 100, 'multi_class': 'one_vs_rest', 'n_jobs': None, 'n_restarts_optimizer': 0, 'optimizer': 'fmin_l_bfgs_b', 'random_state': 42, 'warm_start': False}\n",
      "------run_cv runs successfully------------\n",
      "++++++++++++save_confusion_matrix++++++++++++\n"
     ]
    },
    {
     "name": "stderr",
     "output_type": "stream",
     "text": [
      "Classificationv3.py:353: UserWarning: FixedFormatter should only be used together with FixedLocator\n",
      "  axs[i].set_xticklabels([''] + ['0', '1'], fontsize='xx-large')\n",
      "Classificationv3.py:354: UserWarning: FixedFormatter should only be used together with FixedLocator\n",
      "  axs[i].set_yticklabels([''] + ['0', '1'], fontsize='xx-large')\n"
     ]
    },
    {
     "name": "stdout",
     "output_type": "stream",
     "text": [
      "++++++++++++save_confusion_matrix end++++++++++++\n",
      "(((((((((((((((((((((( draw droc ))))))))))))))))))))))))))))))\n",
      "(((((((( draw droc end ))))))))\n",
      "~~~~~~~~~~~~~~~~~ SB-003 ~~~~~~~~~~~~~~~~~~~~~~\n",
      "~~~~~~~~~~ Number of instances before balancing:  120  ~~~~~~~~~~\n",
      "~~~~~~~ Training Loss: 0.009303206577897072  ~~~~~~~\n",
      "~~~~~~~ Validation Loss: 0.018955586478114128  ~~~~~~~\n",
      "1/1 [==============================] - 0s 178ms/step\n",
      "~~~~~~~ value_counts: ~~~~~~~\n",
      "1    91\n",
      "0    58\n",
      "Name: class, dtype: int64\n",
      "~~~~~~~~~~ Number of instances after balancing:  149  ~~~~~~~~~~\n",
      "~~~~~~~~~~ Number of instances before balancing:  120  ~~~~~~~~~~\n",
      "~~~~~~~ Training Loss: 0.011478699743747711  ~~~~~~~\n",
      "~~~~~~~ Validation Loss: 0.03963198512792587  ~~~~~~~\n",
      "WARNING:tensorflow:5 out of the last 8 calls to <function Model.make_predict_function.<locals>.predict_function at 0x000001CD5F1E1A60> triggered tf.function retracing. Tracing is expensive and the excessive number of tracings could be due to (1) creating @tf.function repeatedly in a loop, (2) passing tensors with different shapes, (3) passing Python objects instead of tensors. For (1), please define your @tf.function outside of the loop. For (2), @tf.function has reduce_retracing=True option that can avoid unnecessary retracing. For (3), please refer to https://www.tensorflow.org/guide/function#controlling_retracing and https://www.tensorflow.org/api_docs/python/tf/function for  more details.\n",
      "1/1 [==============================] - 0s 177ms/step\n",
      "~~~~~~~ value_counts: ~~~~~~~\n",
      "1    93\n",
      "0    54\n",
      "Name: class, dtype: int64\n",
      "~~~~~~~~~~ Number of instances after balancing:  147  ~~~~~~~~~~\n",
      "~~~~~~~~~~ Number of instances before balancing:  120  ~~~~~~~~~~\n",
      "~~~~~~~ Training Loss: 0.018549850210547447  ~~~~~~~\n",
      "~~~~~~~ Validation Loss: 0.03218836709856987  ~~~~~~~\n",
      "WARNING:tensorflow:6 out of the last 9 calls to <function Model.make_predict_function.<locals>.predict_function at 0x000001CD5F426AF0> triggered tf.function retracing. Tracing is expensive and the excessive number of tracings could be due to (1) creating @tf.function repeatedly in a loop, (2) passing tensors with different shapes, (3) passing Python objects instead of tensors. For (1), please define your @tf.function outside of the loop. For (2), @tf.function has reduce_retracing=True option that can avoid unnecessary retracing. For (3), please refer to https://www.tensorflow.org/guide/function#controlling_retracing and https://www.tensorflow.org/api_docs/python/tf/function for  more details.\n",
      "2/2 [==============================] - 0s 8ms/step\n",
      "~~~~~~~ value_counts: ~~~~~~~\n",
      "1    86\n",
      "0    68\n",
      "Name: class, dtype: int64\n",
      "~~~~~~~~~~ Number of instances after balancing:  154  ~~~~~~~~~~\n",
      "~~~~~~~~~~ Naive Bayes ~~~~~~~~~~~~~~~\n",
      "-----------kfold--------------- 0 ------------\n",
      "---Naive Bayes--- 0.6710344827586207 GaussianProcessClassifier(kernel=1**2 * RBF(length_scale=1), random_state=42)\n"
     ]
    },
    {
     "name": "stderr",
     "output_type": "stream",
     "text": [
      "c:\\Users\\sbhuv\\AppData\\Local\\Programs\\Python\\Python38\\lib\\site-packages\\sklearn\\utils\\validation.py:1143: DataConversionWarning: A column-vector y was passed when a 1d array was expected. Please change the shape of y to (n_samples, ), for example using ravel().\n",
      "  y = column_or_1d(y, warn=True)\n"
     ]
    },
    {
     "name": "stdout",
     "output_type": "stream",
     "text": [
      "* 0-----------kfold--------------- 1 ------------\n"
     ]
    },
    {
     "name": "stderr",
     "output_type": "stream",
     "text": [
      "c:\\Users\\sbhuv\\AppData\\Local\\Programs\\Python\\Python38\\lib\\site-packages\\sklearn\\gaussian_process\\kernels.py:420: ConvergenceWarning: The optimal value found for dimension 0 of parameter k2__noise_level is close to the specified lower bound 1e-05. Decreasing the bound and calling fit again may find a better value.\n",
      "  warnings.warn(\n",
      "c:\\Users\\sbhuv\\AppData\\Local\\Programs\\Python\\Python38\\lib\\site-packages\\sklearn\\gaussian_process\\kernels.py:420: ConvergenceWarning: The optimal value found for dimension 0 of parameter k2__noise_level is close to the specified lower bound 1e-05. Decreasing the bound and calling fit again may find a better value.\n",
      "  warnings.warn(\n"
     ]
    },
    {
     "name": "stdout",
     "output_type": "stream",
     "text": [
      "---Naive Bayes--- 0.7820689655172414 GaussianProcessClassifier(kernel=1**2 * RBF(length_scale=1), random_state=42)\n"
     ]
    },
    {
     "name": "stderr",
     "output_type": "stream",
     "text": [
      "c:\\Users\\sbhuv\\AppData\\Local\\Programs\\Python\\Python38\\lib\\site-packages\\sklearn\\utils\\validation.py:1143: DataConversionWarning: A column-vector y was passed when a 1d array was expected. Please change the shape of y to (n_samples, ), for example using ravel().\n",
      "  y = column_or_1d(y, warn=True)\n"
     ]
    },
    {
     "name": "stdout",
     "output_type": "stream",
     "text": [
      "* 1-----------kfold--------------- 2 ------------\n"
     ]
    },
    {
     "name": "stderr",
     "output_type": "stream",
     "text": [
      "c:\\Users\\sbhuv\\AppData\\Local\\Programs\\Python\\Python38\\lib\\site-packages\\sklearn\\utils\\validation.py:1143: DataConversionWarning: A column-vector y was passed when a 1d array was expected. Please change the shape of y to (n_samples, ), for example using ravel().\n",
      "  y = column_or_1d(y, warn=True)\n"
     ]
    },
    {
     "name": "stdout",
     "output_type": "stream",
     "text": [
      "* 2*\n",
      "{'copy_X_train': True, 'kernel__k1': 1**2, 'kernel__k2': RBF(length_scale=1), 'kernel__k1__constant_value': 1.0, 'kernel__k1__constant_value_bounds': (1e-05, 100000.0), 'kernel__k2__length_scale': 1.0, 'kernel__k2__length_scale_bounds': (1e-05, 100000.0), 'kernel': 1**2 * RBF(length_scale=1), 'max_iter_predict': 100, 'multi_class': 'one_vs_rest', 'n_jobs': None, 'n_restarts_optimizer': 0, 'optimizer': 'fmin_l_bfgs_b', 'random_state': 42, 'warm_start': False}\n",
      "------run_cv runs successfully------------\n",
      "++++++++++++save_confusion_matrix++++++++++++\n"
     ]
    },
    {
     "name": "stderr",
     "output_type": "stream",
     "text": [
      "Classificationv3.py:353: UserWarning: FixedFormatter should only be used together with FixedLocator\n",
      "  axs[i].set_xticklabels([''] + ['0', '1'], fontsize='xx-large')\n",
      "Classificationv3.py:354: UserWarning: FixedFormatter should only be used together with FixedLocator\n",
      "  axs[i].set_yticklabels([''] + ['0', '1'], fontsize='xx-large')\n"
     ]
    },
    {
     "name": "stdout",
     "output_type": "stream",
     "text": [
      "++++++++++++save_confusion_matrix end++++++++++++\n",
      "(((((((((((((((((((((( draw droc ))))))))))))))))))))))))))))))\n",
      "(((((((( draw droc end ))))))))\n",
      "~~~~~~~~~~~~~~~~~ SB-008 ~~~~~~~~~~~~~~~~~~~~~~\n",
      "~~~~~~~~~~ Number of instances before balancing:  118  ~~~~~~~~~~\n",
      "~~~~~~~ Training Loss: 0.011483474634587765  ~~~~~~~\n",
      "~~~~~~~ Validation Loss: 0.02131272479891777  ~~~~~~~\n",
      "1/1 [==============================] - 0s 182ms/step\n",
      "~~~~~~~ value_counts: ~~~~~~~\n",
      "1    87\n",
      "0    62\n",
      "Name: class, dtype: int64\n",
      "~~~~~~~~~~ Number of instances after balancing:  149  ~~~~~~~~~~\n",
      "~~~~~~~~~~ Number of instances before balancing:  119  ~~~~~~~~~~\n",
      "~~~~~~~ Training Loss: 0.012547190301120281  ~~~~~~~\n",
      "~~~~~~~ Validation Loss: 0.011396078392863274  ~~~~~~~\n",
      "1/1 [==============================] - 0s 157ms/step\n",
      "~~~~~~~ value_counts: ~~~~~~~\n",
      "1    91\n",
      "0    56\n",
      "Name: class, dtype: int64\n",
      "~~~~~~~~~~ Number of instances after balancing:  147  ~~~~~~~~~~\n",
      "~~~~~~~~~~ Number of instances before balancing:  119  ~~~~~~~~~~\n",
      "~~~~~~~ Training Loss: 0.015332842245697975  ~~~~~~~\n",
      "~~~~~~~ Validation Loss: 0.02938697300851345  ~~~~~~~\n",
      "1/1 [==============================] - 0s 155ms/step\n",
      "~~~~~~~ value_counts: ~~~~~~~\n",
      "1    92\n",
      "0    54\n",
      "Name: class, dtype: int64\n",
      "~~~~~~~~~~ Number of instances after balancing:  146  ~~~~~~~~~~\n",
      "~~~~~~~~~~ Naive Bayes ~~~~~~~~~~~~~~~\n",
      "-----------kfold--------------- 0 ------------\n"
     ]
    },
    {
     "name": "stderr",
     "output_type": "stream",
     "text": [
      "c:\\Users\\sbhuv\\AppData\\Local\\Programs\\Python\\Python38\\lib\\site-packages\\sklearn\\gaussian_process\\kernels.py:420: ConvergenceWarning: The optimal value found for dimension 0 of parameter k2__noise_level is close to the specified lower bound 1e-05. Decreasing the bound and calling fit again may find a better value.\n",
      "  warnings.warn(\n",
      "c:\\Users\\sbhuv\\AppData\\Local\\Programs\\Python\\Python38\\lib\\site-packages\\sklearn\\gaussian_process\\kernels.py:420: ConvergenceWarning: The optimal value found for dimension 0 of parameter k2__noise_level is close to the specified lower bound 1e-05. Decreasing the bound and calling fit again may find a better value.\n",
      "  warnings.warn(\n",
      "c:\\Users\\sbhuv\\AppData\\Local\\Programs\\Python\\Python38\\lib\\site-packages\\sklearn\\gaussian_process\\kernels.py:420: ConvergenceWarning: The optimal value found for dimension 0 of parameter k2__noise_level is close to the specified lower bound 1e-05. Decreasing the bound and calling fit again may find a better value.\n",
      "  warnings.warn(\n",
      "c:\\Users\\sbhuv\\AppData\\Local\\Programs\\Python\\Python38\\lib\\site-packages\\sklearn\\gaussian_process\\kernels.py:420: ConvergenceWarning: The optimal value found for dimension 0 of parameter k2__noise_level is close to the specified lower bound 1e-05. Decreasing the bound and calling fit again may find a better value.\n",
      "  warnings.warn(\n",
      "c:\\Users\\sbhuv\\AppData\\Local\\Programs\\Python\\Python38\\lib\\site-packages\\sklearn\\gaussian_process\\kernels.py:420: ConvergenceWarning: The optimal value found for dimension 0 of parameter k2__noise_level is close to the specified lower bound 1e-05. Decreasing the bound and calling fit again may find a better value.\n",
      "  warnings.warn(\n"
     ]
    },
    {
     "name": "stdout",
     "output_type": "stream",
     "text": [
      "---Naive Bayes--- 0.7514942528735633 GaussianProcessClassifier(kernel=1**2 * RBF(length_scale=1), random_state=42)\n"
     ]
    },
    {
     "name": "stderr",
     "output_type": "stream",
     "text": [
      "c:\\Users\\sbhuv\\AppData\\Local\\Programs\\Python\\Python38\\lib\\site-packages\\sklearn\\utils\\validation.py:1143: DataConversionWarning: A column-vector y was passed when a 1d array was expected. Please change the shape of y to (n_samples, ), for example using ravel().\n",
      "  y = column_or_1d(y, warn=True)\n"
     ]
    },
    {
     "name": "stdout",
     "output_type": "stream",
     "text": [
      "* 0-----------kfold--------------- 1 ------------\n"
     ]
    },
    {
     "name": "stderr",
     "output_type": "stream",
     "text": [
      "c:\\Users\\sbhuv\\AppData\\Local\\Programs\\Python\\Python38\\lib\\site-packages\\sklearn\\gaussian_process\\kernels.py:420: ConvergenceWarning: The optimal value found for dimension 0 of parameter k2__noise_level is close to the specified lower bound 1e-05. Decreasing the bound and calling fit again may find a better value.\n",
      "  warnings.warn(\n",
      "c:\\Users\\sbhuv\\AppData\\Local\\Programs\\Python\\Python38\\lib\\site-packages\\sklearn\\gaussian_process\\kernels.py:420: ConvergenceWarning: The optimal value found for dimension 0 of parameter k2__noise_level is close to the specified lower bound 1e-05. Decreasing the bound and calling fit again may find a better value.\n",
      "  warnings.warn(\n",
      "c:\\Users\\sbhuv\\AppData\\Local\\Programs\\Python\\Python38\\lib\\site-packages\\sklearn\\gaussian_process\\kernels.py:420: ConvergenceWarning: The optimal value found for dimension 0 of parameter k2__noise_level is close to the specified lower bound 1e-05. Decreasing the bound and calling fit again may find a better value.\n",
      "  warnings.warn(\n",
      "c:\\Users\\sbhuv\\AppData\\Local\\Programs\\Python\\Python38\\lib\\site-packages\\sklearn\\gaussian_process\\kernels.py:420: ConvergenceWarning: The optimal value found for dimension 0 of parameter k2__noise_level is close to the specified lower bound 1e-05. Decreasing the bound and calling fit again may find a better value.\n",
      "  warnings.warn(\n",
      "c:\\Users\\sbhuv\\AppData\\Local\\Programs\\Python\\Python38\\lib\\site-packages\\sklearn\\gaussian_process\\kernels.py:420: ConvergenceWarning: The optimal value found for dimension 0 of parameter k2__noise_level is close to the specified lower bound 1e-05. Decreasing the bound and calling fit again may find a better value.\n",
      "  warnings.warn(\n"
     ]
    },
    {
     "name": "stdout",
     "output_type": "stream",
     "text": [
      "---Naive Bayes--- 0.8101149425287355 GaussianProcessClassifier(kernel=1**2 * RBF(length_scale=1), random_state=42)\n"
     ]
    },
    {
     "name": "stderr",
     "output_type": "stream",
     "text": [
      "c:\\Users\\sbhuv\\AppData\\Local\\Programs\\Python\\Python38\\lib\\site-packages\\sklearn\\utils\\validation.py:1143: DataConversionWarning: A column-vector y was passed when a 1d array was expected. Please change the shape of y to (n_samples, ), for example using ravel().\n",
      "  y = column_or_1d(y, warn=True)\n"
     ]
    },
    {
     "name": "stdout",
     "output_type": "stream",
     "text": [
      "* 1-----------kfold--------------- 2 ------------\n"
     ]
    },
    {
     "name": "stderr",
     "output_type": "stream",
     "text": [
      "c:\\Users\\sbhuv\\AppData\\Local\\Programs\\Python\\Python38\\lib\\site-packages\\sklearn\\gaussian_process\\kernels.py:420: ConvergenceWarning: The optimal value found for dimension 0 of parameter k2__noise_level is close to the specified lower bound 1e-05. Decreasing the bound and calling fit again may find a better value.\n",
      "  warnings.warn(\n",
      "c:\\Users\\sbhuv\\AppData\\Local\\Programs\\Python\\Python38\\lib\\site-packages\\sklearn\\gaussian_process\\kernels.py:420: ConvergenceWarning: The optimal value found for dimension 0 of parameter k2__noise_level is close to the specified lower bound 1e-05. Decreasing the bound and calling fit again may find a better value.\n",
      "  warnings.warn(\n",
      "c:\\Users\\sbhuv\\AppData\\Local\\Programs\\Python\\Python38\\lib\\site-packages\\sklearn\\gaussian_process\\kernels.py:420: ConvergenceWarning: The optimal value found for dimension 0 of parameter k2__noise_level is close to the specified lower bound 1e-05. Decreasing the bound and calling fit again may find a better value.\n",
      "  warnings.warn(\n",
      "c:\\Users\\sbhuv\\AppData\\Local\\Programs\\Python\\Python38\\lib\\site-packages\\sklearn\\gaussian_process\\kernels.py:420: ConvergenceWarning: The optimal value found for dimension 0 of parameter k2__noise_level is close to the specified lower bound 1e-05. Decreasing the bound and calling fit again may find a better value.\n",
      "  warnings.warn(\n",
      "c:\\Users\\sbhuv\\AppData\\Local\\Programs\\Python\\Python38\\lib\\site-packages\\sklearn\\gaussian_process\\kernels.py:420: ConvergenceWarning: The optimal value found for dimension 0 of parameter k2__noise_level is close to the specified lower bound 1e-05. Decreasing the bound and calling fit again may find a better value.\n",
      "  warnings.warn(\n"
     ]
    },
    {
     "name": "stdout",
     "output_type": "stream",
     "text": [
      "---Naive Bayes--- 0.8156321839080458 GaussianProcessClassifier(kernel=1**2 * RBF(length_scale=1), random_state=42)\n"
     ]
    },
    {
     "name": "stderr",
     "output_type": "stream",
     "text": [
      "c:\\Users\\sbhuv\\AppData\\Local\\Programs\\Python\\Python38\\lib\\site-packages\\sklearn\\utils\\validation.py:1143: DataConversionWarning: A column-vector y was passed when a 1d array was expected. Please change the shape of y to (n_samples, ), for example using ravel().\n",
      "  y = column_or_1d(y, warn=True)\n"
     ]
    },
    {
     "name": "stdout",
     "output_type": "stream",
     "text": [
      "* 2*\n",
      "{'copy_X_train': True, 'kernel__k1': 1**2, 'kernel__k2': RBF(length_scale=1), 'kernel__k1__constant_value': 1.0, 'kernel__k1__constant_value_bounds': (1e-05, 100000.0), 'kernel__k2__length_scale': 1.0, 'kernel__k2__length_scale_bounds': (1e-05, 100000.0), 'kernel': 1**2 * RBF(length_scale=1), 'max_iter_predict': 100, 'multi_class': 'one_vs_rest', 'n_jobs': None, 'n_restarts_optimizer': 0, 'optimizer': 'fmin_l_bfgs_b', 'random_state': 42, 'warm_start': False}\n",
      "------run_cv runs successfully------------\n",
      "++++++++++++save_confusion_matrix++++++++++++\n"
     ]
    },
    {
     "name": "stderr",
     "output_type": "stream",
     "text": [
      "Classificationv3.py:353: UserWarning: FixedFormatter should only be used together with FixedLocator\n",
      "  axs[i].set_xticklabels([''] + ['0', '1'], fontsize='xx-large')\n",
      "Classificationv3.py:354: UserWarning: FixedFormatter should only be used together with FixedLocator\n",
      "  axs[i].set_yticklabels([''] + ['0', '1'], fontsize='xx-large')\n"
     ]
    },
    {
     "name": "stdout",
     "output_type": "stream",
     "text": [
      "++++++++++++save_confusion_matrix end++++++++++++\n",
      "(((((((((((((((((((((( draw droc ))))))))))))))))))))))))))))))\n",
      "(((((((( draw droc end ))))))))\n",
      "~~~~~~~~~~~~~~~~~ SB-011 ~~~~~~~~~~~~~~~~~~~~~~\n",
      "~~~~~~~~~~ Number of instances before balancing:  140  ~~~~~~~~~~\n",
      "~~~~~~~ Training Loss: 0.008830205537378788  ~~~~~~~\n",
      "~~~~~~~ Validation Loss: 0.012574258260428905  ~~~~~~~\n",
      "2/2 [==============================] - 0s 5ms/step\n",
      "~~~~~~~ value_counts: ~~~~~~~\n",
      "1    98\n",
      "0    84\n",
      "Name: class, dtype: int64\n",
      "~~~~~~~~~~ Number of instances after balancing:  182  ~~~~~~~~~~\n",
      "~~~~~~~~~~ Number of instances before balancing:  140  ~~~~~~~~~~\n",
      "~~~~~~~ Training Loss: 0.010240785777568817  ~~~~~~~\n",
      "~~~~~~~ Validation Loss: 0.013613831251859665  ~~~~~~~\n",
      "2/2 [==============================] - 0s 5ms/step\n",
      "~~~~~~~ value_counts: ~~~~~~~\n",
      "1    94\n",
      "0    92\n",
      "Name: class, dtype: int64\n",
      "~~~~~~~~~~ Number of instances after balancing:  186  ~~~~~~~~~~\n",
      "~~~~~~~~~~ Number of instances before balancing:  140  ~~~~~~~~~~\n",
      "~~~~~~~ Training Loss: 0.01245097815990448  ~~~~~~~\n",
      "~~~~~~~ Validation Loss: 0.017560118809342384  ~~~~~~~\n",
      "2/2 [==============================] - 0s 5ms/step\n",
      "~~~~~~~ value_counts: ~~~~~~~\n",
      "1    102\n",
      "0     76\n",
      "Name: class, dtype: int64\n",
      "~~~~~~~~~~ Number of instances after balancing:  178  ~~~~~~~~~~\n",
      "~~~~~~~~~~ Naive Bayes ~~~~~~~~~~~~~~~\n",
      "-----------kfold--------------- 0 ------------\n"
     ]
    },
    {
     "name": "stderr",
     "output_type": "stream",
     "text": [
      "c:\\Users\\sbhuv\\AppData\\Local\\Programs\\Python\\Python38\\lib\\site-packages\\sklearn\\gaussian_process\\kernels.py:420: ConvergenceWarning: The optimal value found for dimension 0 of parameter k2__noise_level is close to the specified lower bound 1e-05. Decreasing the bound and calling fit again may find a better value.\n",
      "  warnings.warn(\n",
      "c:\\Users\\sbhuv\\AppData\\Local\\Programs\\Python\\Python38\\lib\\site-packages\\sklearn\\gaussian_process\\kernels.py:420: ConvergenceWarning: The optimal value found for dimension 0 of parameter k2__noise_level is close to the specified lower bound 1e-05. Decreasing the bound and calling fit again may find a better value.\n",
      "  warnings.warn(\n",
      "c:\\Users\\sbhuv\\AppData\\Local\\Programs\\Python\\Python38\\lib\\site-packages\\sklearn\\gaussian_process\\kernels.py:420: ConvergenceWarning: The optimal value found for dimension 0 of parameter k2__noise_level is close to the specified lower bound 1e-05. Decreasing the bound and calling fit again may find a better value.\n",
      "  warnings.warn(\n",
      "c:\\Users\\sbhuv\\AppData\\Local\\Programs\\Python\\Python38\\lib\\site-packages\\sklearn\\gaussian_process\\kernels.py:420: ConvergenceWarning: The optimal value found for dimension 0 of parameter k2__noise_level is close to the specified lower bound 1e-05. Decreasing the bound and calling fit again may find a better value.\n",
      "  warnings.warn(\n",
      "c:\\Users\\sbhuv\\AppData\\Local\\Programs\\Python\\Python38\\lib\\site-packages\\sklearn\\gaussian_process\\kernels.py:420: ConvergenceWarning: The optimal value found for dimension 0 of parameter k2__noise_level is close to the specified lower bound 1e-05. Decreasing the bound and calling fit again may find a better value.\n",
      "  warnings.warn(\n"
     ]
    },
    {
     "name": "stdout",
     "output_type": "stream",
     "text": [
      "---Naive Bayes--- 0.9121621621621621 GaussianProcessClassifier(kernel=1**2 * RBF(length_scale=1), random_state=42)\n"
     ]
    },
    {
     "name": "stderr",
     "output_type": "stream",
     "text": [
      "c:\\Users\\sbhuv\\AppData\\Local\\Programs\\Python\\Python38\\lib\\site-packages\\sklearn\\utils\\validation.py:1143: DataConversionWarning: A column-vector y was passed when a 1d array was expected. Please change the shape of y to (n_samples, ), for example using ravel().\n",
      "  y = column_or_1d(y, warn=True)\n"
     ]
    },
    {
     "name": "stdout",
     "output_type": "stream",
     "text": [
      "* 0-----------kfold--------------- 1 ------------\n"
     ]
    },
    {
     "name": "stderr",
     "output_type": "stream",
     "text": [
      "c:\\Users\\sbhuv\\AppData\\Local\\Programs\\Python\\Python38\\lib\\site-packages\\sklearn\\gaussian_process\\kernels.py:420: ConvergenceWarning: The optimal value found for dimension 0 of parameter k2__noise_level is close to the specified lower bound 1e-05. Decreasing the bound and calling fit again may find a better value.\n",
      "  warnings.warn(\n",
      "c:\\Users\\sbhuv\\AppData\\Local\\Programs\\Python\\Python38\\lib\\site-packages\\sklearn\\gaussian_process\\kernels.py:420: ConvergenceWarning: The optimal value found for dimension 0 of parameter k2__noise_level is close to the specified lower bound 1e-05. Decreasing the bound and calling fit again may find a better value.\n",
      "  warnings.warn(\n",
      "c:\\Users\\sbhuv\\AppData\\Local\\Programs\\Python\\Python38\\lib\\site-packages\\sklearn\\gaussian_process\\kernels.py:420: ConvergenceWarning: The optimal value found for dimension 0 of parameter k2__noise_level is close to the specified lower bound 1e-05. Decreasing the bound and calling fit again may find a better value.\n",
      "  warnings.warn(\n",
      "c:\\Users\\sbhuv\\AppData\\Local\\Programs\\Python\\Python38\\lib\\site-packages\\sklearn\\gaussian_process\\kernels.py:420: ConvergenceWarning: The optimal value found for dimension 0 of parameter k2__noise_level is close to the specified lower bound 1e-05. Decreasing the bound and calling fit again may find a better value.\n",
      "  warnings.warn(\n",
      "c:\\Users\\sbhuv\\AppData\\Local\\Programs\\Python\\Python38\\lib\\site-packages\\sklearn\\gaussian_process\\kernels.py:420: ConvergenceWarning: The optimal value found for dimension 0 of parameter k2__noise_level is close to the specified lower bound 1e-05. Decreasing the bound and calling fit again may find a better value.\n",
      "  warnings.warn(\n",
      "c:\\Users\\sbhuv\\AppData\\Local\\Programs\\Python\\Python38\\lib\\site-packages\\sklearn\\utils\\validation.py:1143: DataConversionWarning: A column-vector y was passed when a 1d array was expected. Please change the shape of y to (n_samples, ), for example using ravel().\n",
      "  y = column_or_1d(y, warn=True)\n"
     ]
    },
    {
     "name": "stdout",
     "output_type": "stream",
     "text": [
      "* 1-----------kfold--------------- 2 ------------\n"
     ]
    },
    {
     "name": "stderr",
     "output_type": "stream",
     "text": [
      "c:\\Users\\sbhuv\\AppData\\Local\\Programs\\Python\\Python38\\lib\\site-packages\\sklearn\\gaussian_process\\kernels.py:420: ConvergenceWarning: The optimal value found for dimension 0 of parameter k2__noise_level is close to the specified lower bound 1e-05. Decreasing the bound and calling fit again may find a better value.\n",
      "  warnings.warn(\n",
      "c:\\Users\\sbhuv\\AppData\\Local\\Programs\\Python\\Python38\\lib\\site-packages\\sklearn\\gaussian_process\\kernels.py:420: ConvergenceWarning: The optimal value found for dimension 0 of parameter k2__noise_level is close to the specified lower bound 1e-05. Decreasing the bound and calling fit again may find a better value.\n",
      "  warnings.warn(\n",
      "c:\\Users\\sbhuv\\AppData\\Local\\Programs\\Python\\Python38\\lib\\site-packages\\sklearn\\gaussian_process\\kernels.py:420: ConvergenceWarning: The optimal value found for dimension 0 of parameter k2__noise_level is close to the specified lower bound 1e-05. Decreasing the bound and calling fit again may find a better value.\n",
      "  warnings.warn(\n",
      "c:\\Users\\sbhuv\\AppData\\Local\\Programs\\Python\\Python38\\lib\\site-packages\\sklearn\\gaussian_process\\kernels.py:420: ConvergenceWarning: The optimal value found for dimension 0 of parameter k2__noise_level is close to the specified lower bound 1e-05. Decreasing the bound and calling fit again may find a better value.\n",
      "  warnings.warn(\n",
      "c:\\Users\\sbhuv\\AppData\\Local\\Programs\\Python\\Python38\\lib\\site-packages\\sklearn\\gaussian_process\\kernels.py:420: ConvergenceWarning: The optimal value found for dimension 0 of parameter k2__noise_level is close to the specified lower bound 1e-05. Decreasing the bound and calling fit again may find a better value.\n",
      "  warnings.warn(\n"
     ]
    },
    {
     "name": "stdout",
     "output_type": "stream",
     "text": [
      "---Naive Bayes--- 0.9271428571428573 GaussianProcessClassifier(kernel=1**2 * RBF(length_scale=1), random_state=42)\n"
     ]
    },
    {
     "name": "stderr",
     "output_type": "stream",
     "text": [
      "c:\\Users\\sbhuv\\AppData\\Local\\Programs\\Python\\Python38\\lib\\site-packages\\sklearn\\utils\\validation.py:1143: DataConversionWarning: A column-vector y was passed when a 1d array was expected. Please change the shape of y to (n_samples, ), for example using ravel().\n",
      "  y = column_or_1d(y, warn=True)\n"
     ]
    },
    {
     "name": "stdout",
     "output_type": "stream",
     "text": [
      "* 2*\n",
      "{'copy_X_train': True, 'kernel__k1': 1**2, 'kernel__k2': RBF(length_scale=1), 'kernel__k1__constant_value': 1.0, 'kernel__k1__constant_value_bounds': (1e-05, 100000.0), 'kernel__k2__length_scale': 1.0, 'kernel__k2__length_scale_bounds': (1e-05, 100000.0), 'kernel': 1**2 * RBF(length_scale=1), 'max_iter_predict': 100, 'multi_class': 'one_vs_rest', 'n_jobs': None, 'n_restarts_optimizer': 0, 'optimizer': 'fmin_l_bfgs_b', 'random_state': 42, 'warm_start': False}\n",
      "------run_cv runs successfully------------\n",
      "++++++++++++save_confusion_matrix++++++++++++\n"
     ]
    },
    {
     "name": "stderr",
     "output_type": "stream",
     "text": [
      "Classificationv3.py:353: UserWarning: FixedFormatter should only be used together with FixedLocator\n",
      "  axs[i].set_xticklabels([''] + ['0', '1'], fontsize='xx-large')\n",
      "Classificationv3.py:354: UserWarning: FixedFormatter should only be used together with FixedLocator\n",
      "  axs[i].set_yticklabels([''] + ['0', '1'], fontsize='xx-large')\n"
     ]
    },
    {
     "name": "stdout",
     "output_type": "stream",
     "text": [
      "++++++++++++save_confusion_matrix end++++++++++++\n",
      "(((((((((((((((((((((( draw droc ))))))))))))))))))))))))))))))\n",
      "(((((((( draw droc end ))))))))\n",
      "~~~~~~~~~~~~~~~~~ SB-012 ~~~~~~~~~~~~~~~~~~~~~~\n",
      "~~~~~~~~~~ Number of instances before balancing:  129  ~~~~~~~~~~\n",
      "~~~~~~~ Training Loss: 0.011861846782267094  ~~~~~~~\n",
      "~~~~~~~ Validation Loss: 0.013839962892234325  ~~~~~~~\n",
      "2/2 [==============================] - 0s 6ms/step\n",
      "~~~~~~~ value_counts: ~~~~~~~\n",
      "1    94\n",
      "0    70\n",
      "Name: class, dtype: int64\n",
      "~~~~~~~~~~ Number of instances after balancing:  164  ~~~~~~~~~~\n",
      "~~~~~~~~~~ Number of instances before balancing:  129  ~~~~~~~~~~\n",
      "~~~~~~~ Training Loss: 0.009570316411554813  ~~~~~~~\n",
      "~~~~~~~ Validation Loss: 0.016859732568264008  ~~~~~~~\n",
      "2/2 [==============================] - 0s 4ms/step\n",
      "~~~~~~~ value_counts: ~~~~~~~\n",
      "1    87\n",
      "0    84\n",
      "Name: class, dtype: int64\n",
      "~~~~~~~~~~ Number of instances after balancing:  171  ~~~~~~~~~~\n",
      "~~~~~~~~~~ Number of instances before balancing:  130  ~~~~~~~~~~\n",
      "~~~~~~~ Training Loss: 0.011876863427460194  ~~~~~~~\n",
      "~~~~~~~ Validation Loss: 0.01828288659453392  ~~~~~~~\n",
      "2/2 [==============================] - 0s 6ms/step\n",
      "~~~~~~~ value_counts: ~~~~~~~\n",
      "1    93\n",
      "0    74\n",
      "Name: class, dtype: int64\n",
      "~~~~~~~~~~ Number of instances after balancing:  167  ~~~~~~~~~~\n",
      "~~~~~~~~~~ Naive Bayes ~~~~~~~~~~~~~~~\n",
      "-----------kfold--------------- 0 ------------\n"
     ]
    },
    {
     "name": "stderr",
     "output_type": "stream",
     "text": [
      "c:\\Users\\sbhuv\\AppData\\Local\\Programs\\Python\\Python38\\lib\\site-packages\\sklearn\\gaussian_process\\kernels.py:420: ConvergenceWarning: The optimal value found for dimension 0 of parameter k2__noise_level is close to the specified lower bound 1e-05. Decreasing the bound and calling fit again may find a better value.\n",
      "  warnings.warn(\n",
      "c:\\Users\\sbhuv\\AppData\\Local\\Programs\\Python\\Python38\\lib\\site-packages\\sklearn\\gaussian_process\\kernels.py:420: ConvergenceWarning: The optimal value found for dimension 0 of parameter k2__noise_level is close to the specified lower bound 1e-05. Decreasing the bound and calling fit again may find a better value.\n",
      "  warnings.warn(\n",
      "c:\\Users\\sbhuv\\AppData\\Local\\Programs\\Python\\Python38\\lib\\site-packages\\sklearn\\gaussian_process\\kernels.py:420: ConvergenceWarning: The optimal value found for dimension 0 of parameter k2__noise_level is close to the specified lower bound 1e-05. Decreasing the bound and calling fit again may find a better value.\n",
      "  warnings.warn(\n",
      "c:\\Users\\sbhuv\\AppData\\Local\\Programs\\Python\\Python38\\lib\\site-packages\\sklearn\\gaussian_process\\kernels.py:420: ConvergenceWarning: The optimal value found for dimension 0 of parameter k2__noise_level is close to the specified lower bound 1e-05. Decreasing the bound and calling fit again may find a better value.\n",
      "  warnings.warn(\n",
      "c:\\Users\\sbhuv\\AppData\\Local\\Programs\\Python\\Python38\\lib\\site-packages\\sklearn\\gaussian_process\\kernels.py:420: ConvergenceWarning: The optimal value found for dimension 0 of parameter k2__noise_level is close to the specified lower bound 1e-05. Decreasing the bound and calling fit again may find a better value.\n",
      "  warnings.warn(\n"
     ]
    },
    {
     "name": "stdout",
     "output_type": "stream",
     "text": [
      "---Naive Bayes--- 0.8109848484848484 GaussianProcessClassifier(kernel=1**2 * RBF(length_scale=1), random_state=42)\n"
     ]
    },
    {
     "name": "stderr",
     "output_type": "stream",
     "text": [
      "c:\\Users\\sbhuv\\AppData\\Local\\Programs\\Python\\Python38\\lib\\site-packages\\sklearn\\utils\\validation.py:1143: DataConversionWarning: A column-vector y was passed when a 1d array was expected. Please change the shape of y to (n_samples, ), for example using ravel().\n",
      "  y = column_or_1d(y, warn=True)\n"
     ]
    },
    {
     "name": "stdout",
     "output_type": "stream",
     "text": [
      "* 0-----------kfold--------------- 1 ------------\n"
     ]
    },
    {
     "name": "stderr",
     "output_type": "stream",
     "text": [
      "c:\\Users\\sbhuv\\AppData\\Local\\Programs\\Python\\Python38\\lib\\site-packages\\sklearn\\gaussian_process\\kernels.py:420: ConvergenceWarning: The optimal value found for dimension 0 of parameter k2__noise_level is close to the specified lower bound 1e-05. Decreasing the bound and calling fit again may find a better value.\n",
      "  warnings.warn(\n",
      "c:\\Users\\sbhuv\\AppData\\Local\\Programs\\Python\\Python38\\lib\\site-packages\\sklearn\\gaussian_process\\kernels.py:420: ConvergenceWarning: The optimal value found for dimension 0 of parameter k2__noise_level is close to the specified lower bound 1e-05. Decreasing the bound and calling fit again may find a better value.\n",
      "  warnings.warn(\n",
      "c:\\Users\\sbhuv\\AppData\\Local\\Programs\\Python\\Python38\\lib\\site-packages\\sklearn\\gaussian_process\\kernels.py:420: ConvergenceWarning: The optimal value found for dimension 0 of parameter k2__noise_level is close to the specified lower bound 1e-05. Decreasing the bound and calling fit again may find a better value.\n",
      "  warnings.warn(\n",
      "c:\\Users\\sbhuv\\AppData\\Local\\Programs\\Python\\Python38\\lib\\site-packages\\sklearn\\gaussian_process\\kernels.py:420: ConvergenceWarning: The optimal value found for dimension 0 of parameter k2__noise_level is close to the specified lower bound 1e-05. Decreasing the bound and calling fit again may find a better value.\n",
      "  warnings.warn(\n",
      "c:\\Users\\sbhuv\\AppData\\Local\\Programs\\Python\\Python38\\lib\\site-packages\\sklearn\\gaussian_process\\kernels.py:420: ConvergenceWarning: The optimal value found for dimension 0 of parameter k2__noise_level is close to the specified lower bound 1e-05. Decreasing the bound and calling fit again may find a better value.\n",
      "  warnings.warn(\n"
     ]
    },
    {
     "name": "stdout",
     "output_type": "stream",
     "text": [
      "---Naive Bayes--- 0.8480672268907563 GaussianProcessClassifier(kernel=1**2 * RBF(length_scale=1), random_state=42)\n"
     ]
    },
    {
     "name": "stderr",
     "output_type": "stream",
     "text": [
      "c:\\Users\\sbhuv\\AppData\\Local\\Programs\\Python\\Python38\\lib\\site-packages\\sklearn\\utils\\validation.py:1143: DataConversionWarning: A column-vector y was passed when a 1d array was expected. Please change the shape of y to (n_samples, ), for example using ravel().\n",
      "  y = column_or_1d(y, warn=True)\n"
     ]
    },
    {
     "name": "stdout",
     "output_type": "stream",
     "text": [
      "* 1-----------kfold--------------- 2 ------------\n"
     ]
    },
    {
     "name": "stderr",
     "output_type": "stream",
     "text": [
      "c:\\Users\\sbhuv\\AppData\\Local\\Programs\\Python\\Python38\\lib\\site-packages\\sklearn\\gaussian_process\\kernels.py:420: ConvergenceWarning: The optimal value found for dimension 0 of parameter k2__noise_level is close to the specified lower bound 1e-05. Decreasing the bound and calling fit again may find a better value.\n",
      "  warnings.warn(\n",
      "c:\\Users\\sbhuv\\AppData\\Local\\Programs\\Python\\Python38\\lib\\site-packages\\sklearn\\gaussian_process\\kernels.py:420: ConvergenceWarning: The optimal value found for dimension 0 of parameter k2__noise_level is close to the specified lower bound 1e-05. Decreasing the bound and calling fit again may find a better value.\n",
      "  warnings.warn(\n",
      "c:\\Users\\sbhuv\\AppData\\Local\\Programs\\Python\\Python38\\lib\\site-packages\\sklearn\\gaussian_process\\kernels.py:420: ConvergenceWarning: The optimal value found for dimension 0 of parameter k2__noise_level is close to the specified lower bound 1e-05. Decreasing the bound and calling fit again may find a better value.\n",
      "  warnings.warn(\n",
      "c:\\Users\\sbhuv\\AppData\\Local\\Programs\\Python\\Python38\\lib\\site-packages\\sklearn\\gaussian_process\\kernels.py:420: ConvergenceWarning: The optimal value found for dimension 0 of parameter k2__noise_level is close to the specified lower bound 1e-05. Decreasing the bound and calling fit again may find a better value.\n",
      "  warnings.warn(\n",
      "c:\\Users\\sbhuv\\AppData\\Local\\Programs\\Python\\Python38\\lib\\site-packages\\sklearn\\gaussian_process\\kernels.py:420: ConvergenceWarning: The optimal value found for dimension 0 of parameter k2__noise_level is close to the specified lower bound 1e-05. Decreasing the bound and calling fit again may find a better value.\n",
      "  warnings.warn(\n"
     ]
    },
    {
     "name": "stdout",
     "output_type": "stream",
     "text": [
      "---Naive Bayes--- 0.8506238859180035 GaussianProcessClassifier(kernel=1**2 * RBF(length_scale=1), random_state=42)\n"
     ]
    },
    {
     "name": "stderr",
     "output_type": "stream",
     "text": [
      "c:\\Users\\sbhuv\\AppData\\Local\\Programs\\Python\\Python38\\lib\\site-packages\\sklearn\\utils\\validation.py:1143: DataConversionWarning: A column-vector y was passed when a 1d array was expected. Please change the shape of y to (n_samples, ), for example using ravel().\n",
      "  y = column_or_1d(y, warn=True)\n"
     ]
    },
    {
     "name": "stdout",
     "output_type": "stream",
     "text": [
      "* 2*\n",
      "{'copy_X_train': True, 'kernel__k1': 1**2, 'kernel__k2': RBF(length_scale=1), 'kernel__k1__constant_value': 1.0, 'kernel__k1__constant_value_bounds': (1e-05, 100000.0), 'kernel__k2__length_scale': 1.0, 'kernel__k2__length_scale_bounds': (1e-05, 100000.0), 'kernel': 1**2 * RBF(length_scale=1), 'max_iter_predict': 100, 'multi_class': 'one_vs_rest', 'n_jobs': None, 'n_restarts_optimizer': 0, 'optimizer': 'fmin_l_bfgs_b', 'random_state': 42, 'warm_start': False}\n",
      "------run_cv runs successfully------------\n",
      "++++++++++++save_confusion_matrix++++++++++++\n"
     ]
    },
    {
     "name": "stderr",
     "output_type": "stream",
     "text": [
      "Classificationv3.py:353: UserWarning: FixedFormatter should only be used together with FixedLocator\n",
      "  axs[i].set_xticklabels([''] + ['0', '1'], fontsize='xx-large')\n",
      "Classificationv3.py:354: UserWarning: FixedFormatter should only be used together with FixedLocator\n",
      "  axs[i].set_yticklabels([''] + ['0', '1'], fontsize='xx-large')\n"
     ]
    },
    {
     "name": "stdout",
     "output_type": "stream",
     "text": [
      "++++++++++++save_confusion_matrix end++++++++++++\n",
      "(((((((((((((((((((((( draw droc ))))))))))))))))))))))))))))))\n",
      "(((((((( draw droc end ))))))))\n",
      "~~~~~~~~~~~~~~~~~ SB-022 ~~~~~~~~~~~~~~~~~~~~~~\n",
      "~~~~~~~~~~ Number of instances before balancing:  136  ~~~~~~~~~~\n",
      "~~~~~~~ Training Loss: 0.011988284066319466  ~~~~~~~\n",
      "~~~~~~~ Validation Loss: 0.01750444807112217  ~~~~~~~\n",
      "2/2 [==============================] - 0s 5ms/step\n",
      "~~~~~~~ value_counts: ~~~~~~~\n",
      "1    96\n",
      "0    80\n",
      "Name: class, dtype: int64\n",
      "~~~~~~~~~~ Number of instances after balancing:  176  ~~~~~~~~~~\n",
      "~~~~~~~~~~ Number of instances before balancing:  136  ~~~~~~~~~~\n",
      "~~~~~~~ Training Loss: 0.019151363521814346  ~~~~~~~\n",
      "~~~~~~~ Validation Loss: 0.021703654900193214  ~~~~~~~\n",
      "2/2 [==============================] - 0s 4ms/step\n",
      "~~~~~~~ value_counts: ~~~~~~~\n",
      "1    96\n",
      "0    80\n",
      "Name: class, dtype: int64\n",
      "~~~~~~~~~~ Number of instances after balancing:  176  ~~~~~~~~~~\n",
      "~~~~~~~~~~ Number of instances before balancing:  136  ~~~~~~~~~~\n",
      "~~~~~~~ Training Loss: 0.008882319554686546  ~~~~~~~\n",
      "~~~~~~~ Validation Loss: 0.018509963527321815  ~~~~~~~\n",
      "2/2 [==============================] - 0s 4ms/step\n",
      "~~~~~~~ value_counts: ~~~~~~~\n",
      "1    94\n",
      "0    84\n",
      "Name: class, dtype: int64\n",
      "~~~~~~~~~~ Number of instances after balancing:  178  ~~~~~~~~~~\n",
      "~~~~~~~~~~ Naive Bayes ~~~~~~~~~~~~~~~\n",
      "-----------kfold--------------- 0 ------------\n"
     ]
    },
    {
     "name": "stderr",
     "output_type": "stream",
     "text": [
      "c:\\Users\\sbhuv\\AppData\\Local\\Programs\\Python\\Python38\\lib\\site-packages\\sklearn\\gaussian_process\\kernels.py:420: ConvergenceWarning: The optimal value found for dimension 0 of parameter k2__noise_level is close to the specified lower bound 1e-05. Decreasing the bound and calling fit again may find a better value.\n",
      "  warnings.warn(\n",
      "c:\\Users\\sbhuv\\AppData\\Local\\Programs\\Python\\Python38\\lib\\site-packages\\sklearn\\gaussian_process\\kernels.py:420: ConvergenceWarning: The optimal value found for dimension 0 of parameter k2__noise_level is close to the specified lower bound 1e-05. Decreasing the bound and calling fit again may find a better value.\n",
      "  warnings.warn(\n",
      "c:\\Users\\sbhuv\\AppData\\Local\\Programs\\Python\\Python38\\lib\\site-packages\\sklearn\\gaussian_process\\kernels.py:420: ConvergenceWarning: The optimal value found for dimension 0 of parameter k2__noise_level is close to the specified lower bound 1e-05. Decreasing the bound and calling fit again may find a better value.\n",
      "  warnings.warn(\n",
      "c:\\Users\\sbhuv\\AppData\\Local\\Programs\\Python\\Python38\\lib\\site-packages\\sklearn\\gaussian_process\\kernels.py:420: ConvergenceWarning: The optimal value found for dimension 0 of parameter k2__noise_level is close to the specified lower bound 1e-05. Decreasing the bound and calling fit again may find a better value.\n",
      "  warnings.warn(\n",
      "c:\\Users\\sbhuv\\AppData\\Local\\Programs\\Python\\Python38\\lib\\site-packages\\sklearn\\gaussian_process\\kernels.py:420: ConvergenceWarning: The optimal value found for dimension 0 of parameter k2__noise_level is close to the specified lower bound 1e-05. Decreasing the bound and calling fit again may find a better value.\n",
      "  warnings.warn(\n"
     ]
    },
    {
     "name": "stdout",
     "output_type": "stream",
     "text": [
      "---Naive Bayes--- 0.7965079365079366 GaussianProcessClassifier(kernel=1**2 * RBF(length_scale=1), random_state=42)\n"
     ]
    },
    {
     "name": "stderr",
     "output_type": "stream",
     "text": [
      "c:\\Users\\sbhuv\\AppData\\Local\\Programs\\Python\\Python38\\lib\\site-packages\\sklearn\\utils\\validation.py:1143: DataConversionWarning: A column-vector y was passed when a 1d array was expected. Please change the shape of y to (n_samples, ), for example using ravel().\n",
      "  y = column_or_1d(y, warn=True)\n"
     ]
    },
    {
     "name": "stdout",
     "output_type": "stream",
     "text": [
      "* 0-----------kfold--------------- 1 ------------\n"
     ]
    },
    {
     "name": "stderr",
     "output_type": "stream",
     "text": [
      "c:\\Users\\sbhuv\\AppData\\Local\\Programs\\Python\\Python38\\lib\\site-packages\\sklearn\\gaussian_process\\kernels.py:420: ConvergenceWarning: The optimal value found for dimension 0 of parameter k2__noise_level is close to the specified lower bound 1e-05. Decreasing the bound and calling fit again may find a better value.\n",
      "  warnings.warn(\n",
      "c:\\Users\\sbhuv\\AppData\\Local\\Programs\\Python\\Python38\\lib\\site-packages\\sklearn\\gaussian_process\\kernels.py:420: ConvergenceWarning: The optimal value found for dimension 0 of parameter k2__noise_level is close to the specified lower bound 1e-05. Decreasing the bound and calling fit again may find a better value.\n",
      "  warnings.warn(\n",
      "c:\\Users\\sbhuv\\AppData\\Local\\Programs\\Python\\Python38\\lib\\site-packages\\sklearn\\gaussian_process\\kernels.py:420: ConvergenceWarning: The optimal value found for dimension 0 of parameter k2__noise_level is close to the specified lower bound 1e-05. Decreasing the bound and calling fit again may find a better value.\n",
      "  warnings.warn(\n",
      "c:\\Users\\sbhuv\\AppData\\Local\\Programs\\Python\\Python38\\lib\\site-packages\\sklearn\\gaussian_process\\kernels.py:420: ConvergenceWarning: The optimal value found for dimension 0 of parameter k2__noise_level is close to the specified lower bound 1e-05. Decreasing the bound and calling fit again may find a better value.\n",
      "  warnings.warn(\n",
      "c:\\Users\\sbhuv\\AppData\\Local\\Programs\\Python\\Python38\\lib\\site-packages\\sklearn\\gaussian_process\\kernels.py:420: ConvergenceWarning: The optimal value found for dimension 0 of parameter k2__noise_level is close to the specified lower bound 1e-05. Decreasing the bound and calling fit again may find a better value.\n",
      "  warnings.warn(\n"
     ]
    },
    {
     "name": "stdout",
     "output_type": "stream",
     "text": [
      "---Naive Bayes--- 0.8012698412698412 GaussianProcessClassifier(kernel=1**2 * RBF(length_scale=1), random_state=42)\n"
     ]
    },
    {
     "name": "stderr",
     "output_type": "stream",
     "text": [
      "c:\\Users\\sbhuv\\AppData\\Local\\Programs\\Python\\Python38\\lib\\site-packages\\sklearn\\utils\\validation.py:1143: DataConversionWarning: A column-vector y was passed when a 1d array was expected. Please change the shape of y to (n_samples, ), for example using ravel().\n",
      "  y = column_or_1d(y, warn=True)\n"
     ]
    },
    {
     "name": "stdout",
     "output_type": "stream",
     "text": [
      "* 1-----------kfold--------------- 2 ------------\n"
     ]
    },
    {
     "name": "stderr",
     "output_type": "stream",
     "text": [
      "c:\\Users\\sbhuv\\AppData\\Local\\Programs\\Python\\Python38\\lib\\site-packages\\sklearn\\gaussian_process\\kernels.py:420: ConvergenceWarning: The optimal value found for dimension 0 of parameter k2__noise_level is close to the specified lower bound 1e-05. Decreasing the bound and calling fit again may find a better value.\n",
      "  warnings.warn(\n",
      "c:\\Users\\sbhuv\\AppData\\Local\\Programs\\Python\\Python38\\lib\\site-packages\\sklearn\\gaussian_process\\kernels.py:420: ConvergenceWarning: The optimal value found for dimension 0 of parameter k2__noise_level is close to the specified lower bound 1e-05. Decreasing the bound and calling fit again may find a better value.\n",
      "  warnings.warn(\n",
      "c:\\Users\\sbhuv\\AppData\\Local\\Programs\\Python\\Python38\\lib\\site-packages\\sklearn\\gaussian_process\\kernels.py:420: ConvergenceWarning: The optimal value found for dimension 0 of parameter k2__noise_level is close to the specified lower bound 1e-05. Decreasing the bound and calling fit again may find a better value.\n",
      "  warnings.warn(\n",
      "c:\\Users\\sbhuv\\AppData\\Local\\Programs\\Python\\Python38\\lib\\site-packages\\sklearn\\gaussian_process\\kernels.py:420: ConvergenceWarning: The optimal value found for dimension 0 of parameter k2__noise_level is close to the specified lower bound 1e-05. Decreasing the bound and calling fit again may find a better value.\n",
      "  warnings.warn(\n",
      "c:\\Users\\sbhuv\\AppData\\Local\\Programs\\Python\\Python38\\lib\\site-packages\\sklearn\\gaussian_process\\kernels.py:420: ConvergenceWarning: The optimal value found for dimension 0 of parameter k2__noise_level is close to the specified lower bound 1e-05. Decreasing the bound and calling fit again may find a better value.\n",
      "  warnings.warn(\n"
     ]
    },
    {
     "name": "stdout",
     "output_type": "stream",
     "text": [
      "---Naive Bayes--- 0.8322222222222221 GaussianProcessClassifier(kernel=1**2 * RBF(length_scale=1), random_state=42)\n"
     ]
    },
    {
     "name": "stderr",
     "output_type": "stream",
     "text": [
      "c:\\Users\\sbhuv\\AppData\\Local\\Programs\\Python\\Python38\\lib\\site-packages\\sklearn\\utils\\validation.py:1143: DataConversionWarning: A column-vector y was passed when a 1d array was expected. Please change the shape of y to (n_samples, ), for example using ravel().\n",
      "  y = column_or_1d(y, warn=True)\n"
     ]
    },
    {
     "name": "stdout",
     "output_type": "stream",
     "text": [
      "* 2*\n",
      "{'copy_X_train': True, 'kernel__k1': 1**2, 'kernel__k2': RBF(length_scale=1), 'kernel__k1__constant_value': 1.0, 'kernel__k1__constant_value_bounds': (1e-05, 100000.0), 'kernel__k2__length_scale': 1.0, 'kernel__k2__length_scale_bounds': (1e-05, 100000.0), 'kernel': 1**2 * RBF(length_scale=1), 'max_iter_predict': 100, 'multi_class': 'one_vs_rest', 'n_jobs': None, 'n_restarts_optimizer': 0, 'optimizer': 'fmin_l_bfgs_b', 'random_state': 42, 'warm_start': False}\n",
      "------run_cv runs successfully------------\n",
      "++++++++++++save_confusion_matrix++++++++++++\n"
     ]
    },
    {
     "name": "stderr",
     "output_type": "stream",
     "text": [
      "Classificationv3.py:353: UserWarning: FixedFormatter should only be used together with FixedLocator\n",
      "  axs[i].set_xticklabels([''] + ['0', '1'], fontsize='xx-large')\n",
      "Classificationv3.py:354: UserWarning: FixedFormatter should only be used together with FixedLocator\n",
      "  axs[i].set_yticklabels([''] + ['0', '1'], fontsize='xx-large')\n"
     ]
    },
    {
     "name": "stdout",
     "output_type": "stream",
     "text": [
      "++++++++++++save_confusion_matrix end++++++++++++\n",
      "(((((((((((((((((((((( draw droc ))))))))))))))))))))))))))))))\n",
      "(((((((( draw droc end ))))))))\n",
      "~~~~~~~~~~~~~~~~~ SB-023 ~~~~~~~~~~~~~~~~~~~~~~\n",
      "~~~~~~~~~~ Number of instances before balancing:  129  ~~~~~~~~~~\n",
      "~~~~~~~ Training Loss: 0.009944667108356953  ~~~~~~~\n",
      "~~~~~~~ Validation Loss: 0.015666667371988297  ~~~~~~~\n",
      "2/2 [==============================] - 0s 6ms/step\n",
      "~~~~~~~ value_counts: ~~~~~~~\n",
      "1    91\n",
      "0    76\n",
      "Name: class, dtype: int64\n",
      "~~~~~~~~~~ Number of instances after balancing:  167  ~~~~~~~~~~\n",
      "~~~~~~~~~~ Number of instances before balancing:  129  ~~~~~~~~~~\n",
      "~~~~~~~ Training Loss: 0.01913204975426197  ~~~~~~~\n",
      "~~~~~~~ Validation Loss: 0.02670595608651638  ~~~~~~~\n",
      "2/2 [==============================] - 0s 3ms/step\n",
      "~~~~~~~ value_counts: ~~~~~~~\n",
      "0    88\n",
      "1    85\n",
      "Name: class, dtype: int64\n",
      "~~~~~~~~~~ Number of instances after balancing:  173  ~~~~~~~~~~\n",
      "~~~~~~~~~~ Number of instances before balancing:  130  ~~~~~~~~~~\n",
      "~~~~~~~ Training Loss: 0.014680548571050167  ~~~~~~~\n",
      "~~~~~~~ Validation Loss: 0.025008434429764748  ~~~~~~~\n",
      "2/2 [==============================] - 0s 4ms/step\n",
      "~~~~~~~ value_counts: ~~~~~~~\n",
      "1    92\n",
      "0    76\n",
      "Name: class, dtype: int64\n",
      "~~~~~~~~~~ Number of instances after balancing:  168  ~~~~~~~~~~\n",
      "~~~~~~~~~~ Naive Bayes ~~~~~~~~~~~~~~~\n",
      "-----------kfold--------------- 0 ------------\n"
     ]
    },
    {
     "name": "stderr",
     "output_type": "stream",
     "text": [
      "c:\\Users\\sbhuv\\AppData\\Local\\Programs\\Python\\Python38\\lib\\site-packages\\sklearn\\gaussian_process\\kernels.py:420: ConvergenceWarning: The optimal value found for dimension 0 of parameter k2__noise_level is close to the specified lower bound 1e-05. Decreasing the bound and calling fit again may find a better value.\n",
      "  warnings.warn(\n",
      "c:\\Users\\sbhuv\\AppData\\Local\\Programs\\Python\\Python38\\lib\\site-packages\\sklearn\\gaussian_process\\kernels.py:420: ConvergenceWarning: The optimal value found for dimension 0 of parameter k2__noise_level is close to the specified lower bound 1e-05. Decreasing the bound and calling fit again may find a better value.\n",
      "  warnings.warn(\n",
      "c:\\Users\\sbhuv\\AppData\\Local\\Programs\\Python\\Python38\\lib\\site-packages\\sklearn\\gaussian_process\\kernels.py:420: ConvergenceWarning: The optimal value found for dimension 0 of parameter k2__noise_level is close to the specified lower bound 1e-05. Decreasing the bound and calling fit again may find a better value.\n",
      "  warnings.warn(\n",
      "c:\\Users\\sbhuv\\AppData\\Local\\Programs\\Python\\Python38\\lib\\site-packages\\sklearn\\gaussian_process\\kernels.py:420: ConvergenceWarning: The optimal value found for dimension 0 of parameter k2__noise_level is close to the specified lower bound 1e-05. Decreasing the bound and calling fit again may find a better value.\n",
      "  warnings.warn(\n",
      "c:\\Users\\sbhuv\\AppData\\Local\\Programs\\Python\\Python38\\lib\\site-packages\\sklearn\\gaussian_process\\kernels.py:420: ConvergenceWarning: The optimal value found for dimension 0 of parameter k2__noise_level is close to the specified lower bound 1e-05. Decreasing the bound and calling fit again may find a better value.\n",
      "  warnings.warn(\n"
     ]
    },
    {
     "name": "stdout",
     "output_type": "stream",
     "text": [
      "---Naive Bayes--- 0.772192513368984 GaussianProcessClassifier(kernel=1**2 * RBF(length_scale=1), random_state=42)\n"
     ]
    },
    {
     "name": "stderr",
     "output_type": "stream",
     "text": [
      "c:\\Users\\sbhuv\\AppData\\Local\\Programs\\Python\\Python38\\lib\\site-packages\\sklearn\\utils\\validation.py:1143: DataConversionWarning: A column-vector y was passed when a 1d array was expected. Please change the shape of y to (n_samples, ), for example using ravel().\n",
      "  y = column_or_1d(y, warn=True)\n"
     ]
    },
    {
     "name": "stdout",
     "output_type": "stream",
     "text": [
      "* 0-----------kfold--------------- 1 ------------\n"
     ]
    },
    {
     "name": "stderr",
     "output_type": "stream",
     "text": [
      "c:\\Users\\sbhuv\\AppData\\Local\\Programs\\Python\\Python38\\lib\\site-packages\\sklearn\\gaussian_process\\kernels.py:420: ConvergenceWarning: The optimal value found for dimension 0 of parameter k2__noise_level is close to the specified lower bound 1e-05. Decreasing the bound and calling fit again may find a better value.\n",
      "  warnings.warn(\n",
      "c:\\Users\\sbhuv\\AppData\\Local\\Programs\\Python\\Python38\\lib\\site-packages\\sklearn\\gaussian_process\\kernels.py:420: ConvergenceWarning: The optimal value found for dimension 0 of parameter k2__noise_level is close to the specified lower bound 1e-05. Decreasing the bound and calling fit again may find a better value.\n",
      "  warnings.warn(\n",
      "c:\\Users\\sbhuv\\AppData\\Local\\Programs\\Python\\Python38\\lib\\site-packages\\sklearn\\gaussian_process\\kernels.py:420: ConvergenceWarning: The optimal value found for dimension 0 of parameter k2__noise_level is close to the specified lower bound 1e-05. Decreasing the bound and calling fit again may find a better value.\n",
      "  warnings.warn(\n",
      "c:\\Users\\sbhuv\\AppData\\Local\\Programs\\Python\\Python38\\lib\\site-packages\\sklearn\\gaussian_process\\kernels.py:420: ConvergenceWarning: The optimal value found for dimension 0 of parameter k2__noise_level is close to the specified lower bound 1e-05. Decreasing the bound and calling fit again may find a better value.\n",
      "  warnings.warn(\n"
     ]
    },
    {
     "name": "stdout",
     "output_type": "stream",
     "text": [
      "---Naive Bayes--- 0.7746218487394957 GaussianProcessClassifier(kernel=1**2 * RBF(length_scale=1), random_state=42)\n"
     ]
    },
    {
     "name": "stderr",
     "output_type": "stream",
     "text": [
      "c:\\Users\\sbhuv\\AppData\\Local\\Programs\\Python\\Python38\\lib\\site-packages\\sklearn\\utils\\validation.py:1143: DataConversionWarning: A column-vector y was passed when a 1d array was expected. Please change the shape of y to (n_samples, ), for example using ravel().\n",
      "  y = column_or_1d(y, warn=True)\n"
     ]
    },
    {
     "name": "stdout",
     "output_type": "stream",
     "text": [
      "* 1-----------kfold--------------- 2 ------------\n"
     ]
    },
    {
     "name": "stderr",
     "output_type": "stream",
     "text": [
      "c:\\Users\\sbhuv\\AppData\\Local\\Programs\\Python\\Python38\\lib\\site-packages\\sklearn\\gaussian_process\\kernels.py:420: ConvergenceWarning: The optimal value found for dimension 0 of parameter k2__noise_level is close to the specified lower bound 1e-05. Decreasing the bound and calling fit again may find a better value.\n",
      "  warnings.warn(\n",
      "c:\\Users\\sbhuv\\AppData\\Local\\Programs\\Python\\Python38\\lib\\site-packages\\sklearn\\gaussian_process\\kernels.py:420: ConvergenceWarning: The optimal value found for dimension 0 of parameter k2__noise_level is close to the specified lower bound 1e-05. Decreasing the bound and calling fit again may find a better value.\n",
      "  warnings.warn(\n",
      "c:\\Users\\sbhuv\\AppData\\Local\\Programs\\Python\\Python38\\lib\\site-packages\\sklearn\\gaussian_process\\kernels.py:420: ConvergenceWarning: The optimal value found for dimension 0 of parameter k2__noise_level is close to the specified lower bound 1e-05. Decreasing the bound and calling fit again may find a better value.\n",
      "  warnings.warn(\n",
      "c:\\Users\\sbhuv\\AppData\\Local\\Programs\\Python\\Python38\\lib\\site-packages\\sklearn\\gaussian_process\\kernels.py:420: ConvergenceWarning: The optimal value found for dimension 0 of parameter k2__noise_level is close to the specified lower bound 1e-05. Decreasing the bound and calling fit again may find a better value.\n",
      "  warnings.warn(\n",
      "c:\\Users\\sbhuv\\AppData\\Local\\Programs\\Python\\Python38\\lib\\site-packages\\sklearn\\gaussian_process\\kernels.py:420: ConvergenceWarning: The optimal value found for dimension 0 of parameter k2__noise_level is close to the specified lower bound 1e-05. Decreasing the bound and calling fit again may find a better value.\n",
      "  warnings.warn(\n",
      "c:\\Users\\sbhuv\\AppData\\Local\\Programs\\Python\\Python38\\lib\\site-packages\\sklearn\\utils\\validation.py:1143: DataConversionWarning: A column-vector y was passed when a 1d array was expected. Please change the shape of y to (n_samples, ), for example using ravel().\n",
      "  y = column_or_1d(y, warn=True)\n"
     ]
    },
    {
     "name": "stdout",
     "output_type": "stream",
     "text": [
      "* 2*\n",
      "{'copy_X_train': True, 'kernel__k1': 1**2, 'kernel__k2': RBF(length_scale=1), 'kernel__k1__constant_value': 1.0, 'kernel__k1__constant_value_bounds': (1e-05, 100000.0), 'kernel__k2__length_scale': 1.0, 'kernel__k2__length_scale_bounds': (1e-05, 100000.0), 'kernel': 1**2 * RBF(length_scale=1), 'max_iter_predict': 100, 'multi_class': 'one_vs_rest', 'n_jobs': None, 'n_restarts_optimizer': 0, 'optimizer': 'fmin_l_bfgs_b', 'random_state': 42, 'warm_start': False}\n",
      "------run_cv runs successfully------------\n",
      "++++++++++++save_confusion_matrix++++++++++++\n"
     ]
    },
    {
     "name": "stderr",
     "output_type": "stream",
     "text": [
      "Classificationv3.py:353: UserWarning: FixedFormatter should only be used together with FixedLocator\n",
      "  axs[i].set_xticklabels([''] + ['0', '1'], fontsize='xx-large')\n",
      "Classificationv3.py:354: UserWarning: FixedFormatter should only be used together with FixedLocator\n",
      "  axs[i].set_yticklabels([''] + ['0', '1'], fontsize='xx-large')\n"
     ]
    },
    {
     "name": "stdout",
     "output_type": "stream",
     "text": [
      "++++++++++++save_confusion_matrix end++++++++++++\n",
      "(((((((((((((((((((((( draw droc ))))))))))))))))))))))))))))))\n",
      "(((((((( draw droc end ))))))))\n",
      "~~~~~~~~~~~~~~~~~ SB-025 ~~~~~~~~~~~~~~~~~~~~~~\n",
      "~~~~~~~~~~ Number of instances before balancing:  78  ~~~~~~~~~~\n",
      "~~~~~~~ Training Loss: 0.031516481190919876  ~~~~~~~\n",
      "~~~~~~~ Validation Loss: 0.0441460981965065  ~~~~~~~\n",
      "1/1 [==============================] - 0s 152ms/step\n",
      "~~~~~~~ value_counts: ~~~~~~~\n",
      "1    60\n",
      "0    36\n",
      "Name: class, dtype: int64\n",
      "~~~~~~~~~~ Number of instances after balancing:  96  ~~~~~~~~~~\n",
      "~~~~~~~~~~ Number of instances before balancing:  78  ~~~~~~~~~~\n",
      "~~~~~~~ Training Loss: 0.016420410946011543  ~~~~~~~\n",
      "~~~~~~~ Validation Loss: 0.055462948977947235  ~~~~~~~\n",
      "1/1 [==============================] - 0s 203ms/step\n",
      "~~~~~~~ value_counts: ~~~~~~~\n",
      "1    63\n",
      "0    30\n",
      "Name: class, dtype: int64\n",
      "~~~~~~~~~~ Number of instances after balancing:  93  ~~~~~~~~~~\n",
      "~~~~~~~~~~ Number of instances before balancing:  78  ~~~~~~~~~~\n",
      "~~~~~~~ Training Loss: 0.015371851623058319  ~~~~~~~\n",
      "~~~~~~~ Validation Loss: 0.027035171166062355  ~~~~~~~\n",
      "1/1 [==============================] - 0s 158ms/step\n",
      "~~~~~~~ value_counts: ~~~~~~~\n",
      "1    61\n",
      "0    34\n",
      "Name: class, dtype: int64\n",
      "~~~~~~~~~~ Number of instances after balancing:  95  ~~~~~~~~~~\n",
      "~~~~~~~~~~ Naive Bayes ~~~~~~~~~~~~~~~\n",
      "-----------kfold--------------- 0 ------------\n"
     ]
    },
    {
     "name": "stderr",
     "output_type": "stream",
     "text": [
      "c:\\Users\\sbhuv\\AppData\\Local\\Programs\\Python\\Python38\\lib\\site-packages\\sklearn\\gaussian_process\\kernels.py:420: ConvergenceWarning: The optimal value found for dimension 0 of parameter k2__noise_level is close to the specified lower bound 1e-05. Decreasing the bound and calling fit again may find a better value.\n",
      "  warnings.warn(\n",
      "c:\\Users\\sbhuv\\AppData\\Local\\Programs\\Python\\Python38\\lib\\site-packages\\sklearn\\gaussian_process\\kernels.py:420: ConvergenceWarning: The optimal value found for dimension 0 of parameter k2__noise_level is close to the specified lower bound 1e-05. Decreasing the bound and calling fit again may find a better value.\n",
      "  warnings.warn(\n",
      "c:\\Users\\sbhuv\\AppData\\Local\\Programs\\Python\\Python38\\lib\\site-packages\\sklearn\\gaussian_process\\kernels.py:420: ConvergenceWarning: The optimal value found for dimension 0 of parameter k2__noise_level is close to the specified lower bound 1e-05. Decreasing the bound and calling fit again may find a better value.\n",
      "  warnings.warn(\n",
      "c:\\Users\\sbhuv\\AppData\\Local\\Programs\\Python\\Python38\\lib\\site-packages\\sklearn\\gaussian_process\\kernels.py:420: ConvergenceWarning: The optimal value found for dimension 0 of parameter k2__noise_level is close to the specified lower bound 1e-05. Decreasing the bound and calling fit again may find a better value.\n",
      "  warnings.warn(\n",
      "c:\\Users\\sbhuv\\AppData\\Local\\Programs\\Python\\Python38\\lib\\site-packages\\sklearn\\gaussian_process\\kernels.py:420: ConvergenceWarning: The optimal value found for dimension 0 of parameter k2__noise_level is close to the specified lower bound 1e-05. Decreasing the bound and calling fit again may find a better value.\n",
      "  warnings.warn(\n"
     ]
    },
    {
     "name": "stdout",
     "output_type": "stream",
     "text": [
      "---Naive Bayes--- 0.8547368421052631 GaussianProcessClassifier(kernel=1**2 * RBF(length_scale=1), random_state=42)\n"
     ]
    },
    {
     "name": "stderr",
     "output_type": "stream",
     "text": [
      "c:\\Users\\sbhuv\\AppData\\Local\\Programs\\Python\\Python38\\lib\\site-packages\\sklearn\\utils\\validation.py:1143: DataConversionWarning: A column-vector y was passed when a 1d array was expected. Please change the shape of y to (n_samples, ), for example using ravel().\n",
      "  y = column_or_1d(y, warn=True)\n"
     ]
    },
    {
     "name": "stdout",
     "output_type": "stream",
     "text": [
      "* 0-----------kfold--------------- 1 ------------\n"
     ]
    },
    {
     "name": "stderr",
     "output_type": "stream",
     "text": [
      "c:\\Users\\sbhuv\\AppData\\Local\\Programs\\Python\\Python38\\lib\\site-packages\\sklearn\\gaussian_process\\kernels.py:420: ConvergenceWarning: The optimal value found for dimension 0 of parameter k2__noise_level is close to the specified lower bound 1e-05. Decreasing the bound and calling fit again may find a better value.\n",
      "  warnings.warn(\n",
      "c:\\Users\\sbhuv\\AppData\\Local\\Programs\\Python\\Python38\\lib\\site-packages\\sklearn\\gaussian_process\\kernels.py:420: ConvergenceWarning: The optimal value found for dimension 0 of parameter k2__noise_level is close to the specified lower bound 1e-05. Decreasing the bound and calling fit again may find a better value.\n",
      "  warnings.warn(\n",
      "c:\\Users\\sbhuv\\AppData\\Local\\Programs\\Python\\Python38\\lib\\site-packages\\sklearn\\gaussian_process\\kernels.py:420: ConvergenceWarning: The optimal value found for dimension 0 of parameter k2__noise_level is close to the specified lower bound 1e-05. Decreasing the bound and calling fit again may find a better value.\n",
      "  warnings.warn(\n",
      "c:\\Users\\sbhuv\\AppData\\Local\\Programs\\Python\\Python38\\lib\\site-packages\\sklearn\\gaussian_process\\kernels.py:420: ConvergenceWarning: The optimal value found for dimension 0 of parameter k2__noise_level is close to the specified lower bound 1e-05. Decreasing the bound and calling fit again may find a better value.\n",
      "  warnings.warn(\n",
      "c:\\Users\\sbhuv\\AppData\\Local\\Programs\\Python\\Python38\\lib\\site-packages\\sklearn\\gaussian_process\\kernels.py:420: ConvergenceWarning: The optimal value found for dimension 0 of parameter k2__noise_level is close to the specified lower bound 1e-05. Decreasing the bound and calling fit again may find a better value.\n",
      "  warnings.warn(\n",
      "c:\\Users\\sbhuv\\AppData\\Local\\Programs\\Python\\Python38\\lib\\site-packages\\sklearn\\utils\\validation.py:1143: DataConversionWarning: A column-vector y was passed when a 1d array was expected. Please change the shape of y to (n_samples, ), for example using ravel().\n",
      "  y = column_or_1d(y, warn=True)\n"
     ]
    },
    {
     "name": "stdout",
     "output_type": "stream",
     "text": [
      "* 1-----------kfold--------------- 2 ------------\n"
     ]
    },
    {
     "name": "stderr",
     "output_type": "stream",
     "text": [
      "c:\\Users\\sbhuv\\AppData\\Local\\Programs\\Python\\Python38\\lib\\site-packages\\sklearn\\gaussian_process\\kernels.py:420: ConvergenceWarning: The optimal value found for dimension 0 of parameter k2__noise_level is close to the specified lower bound 1e-05. Decreasing the bound and calling fit again may find a better value.\n",
      "  warnings.warn(\n",
      "c:\\Users\\sbhuv\\AppData\\Local\\Programs\\Python\\Python38\\lib\\site-packages\\sklearn\\gaussian_process\\kernels.py:420: ConvergenceWarning: The optimal value found for dimension 0 of parameter k2__noise_level is close to the specified lower bound 1e-05. Decreasing the bound and calling fit again may find a better value.\n",
      "  warnings.warn(\n",
      "c:\\Users\\sbhuv\\AppData\\Local\\Programs\\Python\\Python38\\lib\\site-packages\\sklearn\\gaussian_process\\kernels.py:420: ConvergenceWarning: The optimal value found for dimension 0 of parameter k2__noise_level is close to the specified lower bound 1e-05. Decreasing the bound and calling fit again may find a better value.\n",
      "  warnings.warn(\n",
      "c:\\Users\\sbhuv\\AppData\\Local\\Programs\\Python\\Python38\\lib\\site-packages\\sklearn\\gaussian_process\\kernels.py:420: ConvergenceWarning: The optimal value found for dimension 0 of parameter k2__noise_level is close to the specified lower bound 1e-05. Decreasing the bound and calling fit again may find a better value.\n",
      "  warnings.warn(\n",
      "c:\\Users\\sbhuv\\AppData\\Local\\Programs\\Python\\Python38\\lib\\site-packages\\sklearn\\utils\\validation.py:1143: DataConversionWarning: A column-vector y was passed when a 1d array was expected. Please change the shape of y to (n_samples, ), for example using ravel().\n",
      "  y = column_or_1d(y, warn=True)\n"
     ]
    },
    {
     "name": "stdout",
     "output_type": "stream",
     "text": [
      "* 2*\n",
      "{'copy_X_train': True, 'kernel__k1': 1**2, 'kernel__k2': RBF(length_scale=1), 'kernel__k1__constant_value': 1.0, 'kernel__k1__constant_value_bounds': (1e-05, 100000.0), 'kernel__k2__length_scale': 1.0, 'kernel__k2__length_scale_bounds': (1e-05, 100000.0), 'kernel': 1**2 * RBF(length_scale=1), 'max_iter_predict': 100, 'multi_class': 'one_vs_rest', 'n_jobs': None, 'n_restarts_optimizer': 0, 'optimizer': 'fmin_l_bfgs_b', 'random_state': 42, 'warm_start': False}\n",
      "------run_cv runs successfully------------\n",
      "++++++++++++save_confusion_matrix++++++++++++\n"
     ]
    },
    {
     "name": "stderr",
     "output_type": "stream",
     "text": [
      "Classificationv3.py:353: UserWarning: FixedFormatter should only be used together with FixedLocator\n",
      "  axs[i].set_xticklabels([''] + ['0', '1'], fontsize='xx-large')\n",
      "Classificationv3.py:354: UserWarning: FixedFormatter should only be used together with FixedLocator\n",
      "  axs[i].set_yticklabels([''] + ['0', '1'], fontsize='xx-large')\n"
     ]
    },
    {
     "name": "stdout",
     "output_type": "stream",
     "text": [
      "++++++++++++save_confusion_matrix end++++++++++++\n",
      "(((((((((((((((((((((( draw droc ))))))))))))))))))))))))))))))\n",
      "(((((((( draw droc end ))))))))\n",
      "~~~~~~~~~~~~~~~~~ SB-028 ~~~~~~~~~~~~~~~~~~~~~~\n",
      "~~~~~~~~~~ Number of instances before balancing:  61  ~~~~~~~~~~\n",
      "~~~~~~~ Training Loss: 0.013865542598068714  ~~~~~~~\n",
      "~~~~~~~ Validation Loss: 0.024281827732920647  ~~~~~~~\n",
      "1/1 [==============================] - 0s 128ms/step\n",
      "~~~~~~~ value_counts: ~~~~~~~\n",
      "1    45\n",
      "0    32\n",
      "Name: class, dtype: int64\n",
      "~~~~~~~~~~ Number of instances after balancing:  77  ~~~~~~~~~~\n",
      "~~~~~~~~~~ Number of instances before balancing:  61  ~~~~~~~~~~\n",
      "~~~~~~~ Training Loss: 0.017964214086532593  ~~~~~~~\n",
      "~~~~~~~ Validation Loss: 0.030241303145885468  ~~~~~~~\n",
      "1/1 [==============================] - 0s 216ms/step\n",
      "~~~~~~~ value_counts: ~~~~~~~\n",
      "0    44\n",
      "1    39\n",
      "Name: class, dtype: int64\n",
      "~~~~~~~~~~ Number of instances after balancing:  83  ~~~~~~~~~~\n",
      "~~~~~~~~~~ Number of instances before balancing:  62  ~~~~~~~~~~\n",
      "~~~~~~~ Training Loss: 0.012841477058827877  ~~~~~~~\n",
      "~~~~~~~ Validation Loss: 0.016203707084059715  ~~~~~~~\n",
      "1/1 [==============================] - 0s 188ms/step\n",
      "~~~~~~~ value_counts: ~~~~~~~\n",
      "1    44\n",
      "0    36\n",
      "Name: class, dtype: int64\n",
      "~~~~~~~~~~ Number of instances after balancing:  80  ~~~~~~~~~~\n",
      "~~~~~~~~~~ Naive Bayes ~~~~~~~~~~~~~~~\n",
      "-----------kfold--------------- 0 ------------\n"
     ]
    },
    {
     "name": "stderr",
     "output_type": "stream",
     "text": [
      "c:\\Users\\sbhuv\\AppData\\Local\\Programs\\Python\\Python38\\lib\\site-packages\\sklearn\\gaussian_process\\kernels.py:420: ConvergenceWarning: The optimal value found for dimension 0 of parameter k2__noise_level is close to the specified lower bound 1e-05. Decreasing the bound and calling fit again may find a better value.\n",
      "  warnings.warn(\n"
     ]
    },
    {
     "name": "stdout",
     "output_type": "stream",
     "text": [
      "---Naive Bayes--- 0.7416666666666666 GaussianProcessClassifier(kernel=1**2 * RBF(length_scale=1), random_state=42)\n",
      "* 0-----------kfold--------------- 1 ------------\n"
     ]
    },
    {
     "name": "stderr",
     "output_type": "stream",
     "text": [
      "c:\\Users\\sbhuv\\AppData\\Local\\Programs\\Python\\Python38\\lib\\site-packages\\sklearn\\utils\\validation.py:1143: DataConversionWarning: A column-vector y was passed when a 1d array was expected. Please change the shape of y to (n_samples, ), for example using ravel().\n",
      "  y = column_or_1d(y, warn=True)\n",
      "c:\\Users\\sbhuv\\AppData\\Local\\Programs\\Python\\Python38\\lib\\site-packages\\sklearn\\gaussian_process\\kernels.py:420: ConvergenceWarning: The optimal value found for dimension 0 of parameter k2__noise_level is close to the specified lower bound 1e-05. Decreasing the bound and calling fit again may find a better value.\n",
      "  warnings.warn(\n",
      "c:\\Users\\sbhuv\\AppData\\Local\\Programs\\Python\\Python38\\lib\\site-packages\\sklearn\\gaussian_process\\kernels.py:420: ConvergenceWarning: The optimal value found for dimension 0 of parameter k2__noise_level is close to the specified lower bound 1e-05. Decreasing the bound and calling fit again may find a better value.\n",
      "  warnings.warn(\n",
      "c:\\Users\\sbhuv\\AppData\\Local\\Programs\\Python\\Python38\\lib\\site-packages\\sklearn\\gaussian_process\\kernels.py:420: ConvergenceWarning: The optimal value found for dimension 0 of parameter k2__noise_level is close to the specified lower bound 1e-05. Decreasing the bound and calling fit again may find a better value.\n",
      "  warnings.warn(\n",
      "c:\\Users\\sbhuv\\AppData\\Local\\Programs\\Python\\Python38\\lib\\site-packages\\sklearn\\gaussian_process\\kernels.py:420: ConvergenceWarning: The optimal value found for dimension 0 of parameter k2__noise_level is close to the specified lower bound 1e-05. Decreasing the bound and calling fit again may find a better value.\n",
      "  warnings.warn(\n",
      "c:\\Users\\sbhuv\\AppData\\Local\\Programs\\Python\\Python38\\lib\\site-packages\\sklearn\\utils\\validation.py:1143: DataConversionWarning: A column-vector y was passed when a 1d array was expected. Please change the shape of y to (n_samples, ), for example using ravel().\n",
      "  y = column_or_1d(y, warn=True)\n"
     ]
    },
    {
     "name": "stdout",
     "output_type": "stream",
     "text": [
      "* 1-----------kfold--------------- 2 ------------\n"
     ]
    },
    {
     "name": "stderr",
     "output_type": "stream",
     "text": [
      "c:\\Users\\sbhuv\\AppData\\Local\\Programs\\Python\\Python38\\lib\\site-packages\\sklearn\\gaussian_process\\kernels.py:420: ConvergenceWarning: The optimal value found for dimension 0 of parameter k2__noise_level is close to the specified lower bound 1e-05. Decreasing the bound and calling fit again may find a better value.\n",
      "  warnings.warn(\n",
      "c:\\Users\\sbhuv\\AppData\\Local\\Programs\\Python\\Python38\\lib\\site-packages\\sklearn\\gaussian_process\\kernels.py:420: ConvergenceWarning: The optimal value found for dimension 0 of parameter k2__noise_level is close to the specified lower bound 1e-05. Decreasing the bound and calling fit again may find a better value.\n",
      "  warnings.warn(\n",
      "c:\\Users\\sbhuv\\AppData\\Local\\Programs\\Python\\Python38\\lib\\site-packages\\sklearn\\gaussian_process\\kernels.py:420: ConvergenceWarning: The optimal value found for dimension 0 of parameter k2__noise_level is close to the specified lower bound 1e-05. Decreasing the bound and calling fit again may find a better value.\n",
      "  warnings.warn(\n",
      "c:\\Users\\sbhuv\\AppData\\Local\\Programs\\Python\\Python38\\lib\\site-packages\\sklearn\\gaussian_process\\kernels.py:420: ConvergenceWarning: The optimal value found for dimension 0 of parameter k2__noise_level is close to the specified lower bound 1e-05. Decreasing the bound and calling fit again may find a better value.\n",
      "  warnings.warn(\n",
      "c:\\Users\\sbhuv\\AppData\\Local\\Programs\\Python\\Python38\\lib\\site-packages\\sklearn\\gaussian_process\\kernels.py:420: ConvergenceWarning: The optimal value found for dimension 0 of parameter k2__noise_level is close to the specified lower bound 1e-05. Decreasing the bound and calling fit again may find a better value.\n",
      "  warnings.warn(\n"
     ]
    },
    {
     "name": "stdout",
     "output_type": "stream",
     "text": [
      "---Naive Bayes--- 0.775 GaussianProcessClassifier(kernel=1**2 * RBF(length_scale=1), random_state=42)\n",
      "* 2*\n",
      "{'copy_X_train': True, 'kernel__k1': 1**2, 'kernel__k2': RBF(length_scale=1), 'kernel__k1__constant_value': 1.0, 'kernel__k1__constant_value_bounds': (1e-05, 100000.0), 'kernel__k2__length_scale': 1.0, 'kernel__k2__length_scale_bounds': (1e-05, 100000.0), 'kernel': 1**2 * RBF(length_scale=1), 'max_iter_predict': 100, 'multi_class': 'one_vs_rest', 'n_jobs': None, 'n_restarts_optimizer': 0, 'optimizer': 'fmin_l_bfgs_b', 'random_state': 42, 'warm_start': False}\n",
      "------run_cv runs successfully------------\n",
      "++++++++++++save_confusion_matrix++++++++++++\n"
     ]
    },
    {
     "name": "stderr",
     "output_type": "stream",
     "text": [
      "c:\\Users\\sbhuv\\AppData\\Local\\Programs\\Python\\Python38\\lib\\site-packages\\sklearn\\utils\\validation.py:1143: DataConversionWarning: A column-vector y was passed when a 1d array was expected. Please change the shape of y to (n_samples, ), for example using ravel().\n",
      "  y = column_or_1d(y, warn=True)\n",
      "Classificationv3.py:353: UserWarning: FixedFormatter should only be used together with FixedLocator\n",
      "  axs[i].set_xticklabels([''] + ['0', '1'], fontsize='xx-large')\n",
      "Classificationv3.py:354: UserWarning: FixedFormatter should only be used together with FixedLocator\n",
      "  axs[i].set_yticklabels([''] + ['0', '1'], fontsize='xx-large')\n"
     ]
    },
    {
     "name": "stdout",
     "output_type": "stream",
     "text": [
      "++++++++++++save_confusion_matrix end++++++++++++\n",
      "(((((((((((((((((((((( draw droc ))))))))))))))))))))))))))))))\n",
      "(((((((( draw droc end ))))))))\n",
      "~~~~~~~~~~~~~~~~~ SB-033 ~~~~~~~~~~~~~~~~~~~~~~\n",
      "~~~~~~~~~~ Number of instances before balancing:  35  ~~~~~~~~~~\n",
      "~~~~~~~ Training Loss: 0.019023016095161438  ~~~~~~~\n",
      "~~~~~~~ Validation Loss: 0.03176138550043106  ~~~~~~~\n",
      "1/1 [==============================] - 0s 171ms/step\n",
      "~~~~~~~ value_counts: ~~~~~~~\n",
      "0    32\n",
      "1    19\n",
      "Name: class, dtype: int64\n",
      "~~~~~~~~~~ Number of instances after balancing:  51  ~~~~~~~~~~\n",
      "~~~~~~~~~~ Number of instances before balancing:  35  ~~~~~~~~~~\n",
      "~~~~~~~ Training Loss: 0.01873037777841091  ~~~~~~~\n",
      "~~~~~~~ Validation Loss: 0.04580595716834068  ~~~~~~~\n",
      "1/1 [==============================] - 0s 175ms/step\n",
      "~~~~~~~ value_counts: ~~~~~~~\n",
      "0    28\n",
      "1    21\n",
      "Name: class, dtype: int64\n",
      "~~~~~~~~~~ Number of instances after balancing:  49  ~~~~~~~~~~\n",
      "~~~~~~~~~~ Number of instances before balancing:  36  ~~~~~~~~~~\n",
      "~~~~~~~ Training Loss: 0.021664468571543694  ~~~~~~~\n",
      "~~~~~~~ Validation Loss: 0.022540748119354248  ~~~~~~~\n",
      "1/1 [==============================] - 0s 280ms/step\n",
      "~~~~~~~ value_counts: ~~~~~~~\n",
      "0    32\n",
      "1    20\n",
      "Name: class, dtype: int64\n",
      "~~~~~~~~~~ Number of instances after balancing:  52  ~~~~~~~~~~\n",
      "~~~~~~~~~~ Naive Bayes ~~~~~~~~~~~~~~~\n",
      "-----------kfold--------------- 0 ------------\n"
     ]
    },
    {
     "name": "stderr",
     "output_type": "stream",
     "text": [
      "c:\\Users\\sbhuv\\AppData\\Local\\Programs\\Python\\Python38\\lib\\site-packages\\sklearn\\gaussian_process\\kernels.py:420: ConvergenceWarning: The optimal value found for dimension 0 of parameter k2__noise_level is close to the specified lower bound 1e-05. Decreasing the bound and calling fit again may find a better value.\n",
      "  warnings.warn(\n",
      "c:\\Users\\sbhuv\\AppData\\Local\\Programs\\Python\\Python38\\lib\\site-packages\\sklearn\\utils\\validation.py:1143: DataConversionWarning: A column-vector y was passed when a 1d array was expected. Please change the shape of y to (n_samples, ), for example using ravel().\n",
      "  y = column_or_1d(y, warn=True)\n"
     ]
    },
    {
     "name": "stdout",
     "output_type": "stream",
     "text": [
      "---Naive Bayes--- 0.7036363636363637 GaussianProcessClassifier(kernel=1**2 * RBF(length_scale=1), random_state=42)\n",
      "* 0-----------kfold--------------- 1 ------------\n"
     ]
    },
    {
     "name": "stderr",
     "output_type": "stream",
     "text": [
      "c:\\Users\\sbhuv\\AppData\\Local\\Programs\\Python\\Python38\\lib\\site-packages\\sklearn\\gaussian_process\\kernels.py:420: ConvergenceWarning: The optimal value found for dimension 0 of parameter k2__noise_level is close to the specified lower bound 1e-05. Decreasing the bound and calling fit again may find a better value.\n",
      "  warnings.warn(\n",
      "c:\\Users\\sbhuv\\AppData\\Local\\Programs\\Python\\Python38\\lib\\site-packages\\sklearn\\gaussian_process\\kernels.py:420: ConvergenceWarning: The optimal value found for dimension 0 of parameter k2__noise_level is close to the specified lower bound 1e-05. Decreasing the bound and calling fit again may find a better value.\n",
      "  warnings.warn(\n",
      "c:\\Users\\sbhuv\\AppData\\Local\\Programs\\Python\\Python38\\lib\\site-packages\\sklearn\\gaussian_process\\kernels.py:420: ConvergenceWarning: The optimal value found for dimension 0 of parameter k2__noise_level is close to the specified lower bound 1e-05. Decreasing the bound and calling fit again may find a better value.\n",
      "  warnings.warn(\n",
      "c:\\Users\\sbhuv\\AppData\\Local\\Programs\\Python\\Python38\\lib\\site-packages\\sklearn\\utils\\validation.py:1143: DataConversionWarning: A column-vector y was passed when a 1d array was expected. Please change the shape of y to (n_samples, ), for example using ravel().\n",
      "  y = column_or_1d(y, warn=True)\n"
     ]
    },
    {
     "name": "stdout",
     "output_type": "stream",
     "text": [
      "---Naive Bayes--- 0.7355555555555556 GaussianProcessClassifier(kernel=1**2 * RBF(length_scale=1), random_state=42)\n",
      "* 1-----------kfold--------------- 2 ------------\n"
     ]
    },
    {
     "name": "stderr",
     "output_type": "stream",
     "text": [
      "c:\\Users\\sbhuv\\AppData\\Local\\Programs\\Python\\Python38\\lib\\site-packages\\sklearn\\gaussian_process\\kernels.py:420: ConvergenceWarning: The optimal value found for dimension 0 of parameter k2__noise_level is close to the specified lower bound 1e-05. Decreasing the bound and calling fit again may find a better value.\n",
      "  warnings.warn(\n",
      "c:\\Users\\sbhuv\\AppData\\Local\\Programs\\Python\\Python38\\lib\\site-packages\\sklearn\\gaussian_process\\kernels.py:420: ConvergenceWarning: The optimal value found for dimension 0 of parameter k2__noise_level is close to the specified lower bound 1e-05. Decreasing the bound and calling fit again may find a better value.\n",
      "  warnings.warn(\n",
      "c:\\Users\\sbhuv\\AppData\\Local\\Programs\\Python\\Python38\\lib\\site-packages\\sklearn\\gaussian_process\\kernels.py:420: ConvergenceWarning: The optimal value found for dimension 0 of parameter k2__noise_level is close to the specified lower bound 1e-05. Decreasing the bound and calling fit again may find a better value.\n",
      "  warnings.warn(\n",
      "c:\\Users\\sbhuv\\AppData\\Local\\Programs\\Python\\Python38\\lib\\site-packages\\sklearn\\gaussian_process\\kernels.py:420: ConvergenceWarning: The optimal value found for dimension 0 of parameter k2__noise_level is close to the specified lower bound 1e-05. Decreasing the bound and calling fit again may find a better value.\n",
      "  warnings.warn(\n",
      "c:\\Users\\sbhuv\\AppData\\Local\\Programs\\Python\\Python38\\lib\\site-packages\\sklearn\\gaussian_process\\kernels.py:420: ConvergenceWarning: The optimal value found for dimension 0 of parameter k2__noise_level is close to the specified lower bound 1e-05. Decreasing the bound and calling fit again may find a better value.\n",
      "  warnings.warn(\n",
      "c:\\Users\\sbhuv\\AppData\\Local\\Programs\\Python\\Python38\\lib\\site-packages\\sklearn\\gaussian_process\\kernels.py:420: ConvergenceWarning: The optimal value found for dimension 0 of parameter k2__noise_level is close to the specified lower bound 1e-05. Decreasing the bound and calling fit again may find a better value.\n",
      "  warnings.warn(\n",
      "c:\\Users\\sbhuv\\AppData\\Local\\Programs\\Python\\Python38\\lib\\site-packages\\sklearn\\utils\\validation.py:1143: DataConversionWarning: A column-vector y was passed when a 1d array was expected. Please change the shape of y to (n_samples, ), for example using ravel().\n",
      "  y = column_or_1d(y, warn=True)\n",
      "c:\\Users\\sbhuv\\AppData\\Local\\Programs\\Python\\Python38\\lib\\site-packages\\sklearn\\gaussian_process\\kernels.py:420: ConvergenceWarning: The optimal value found for dimension 0 of parameter k2__noise_level is close to the specified lower bound 1e-05. Decreasing the bound and calling fit again may find a better value.\n",
      "  warnings.warn(\n"
     ]
    },
    {
     "name": "stdout",
     "output_type": "stream",
     "text": [
      "---Naive Bayes--- 0.8054545454545454 GaussianProcessClassifier(kernel=DotProduct(sigma_0=1) + WhiteKernel(noise_level=1),\n",
      "                          random_state=42)\n",
      "* 2*\n",
      "{'copy_X_train': True, 'kernel__k1': DotProduct(sigma_0=1), 'kernel__k2': WhiteKernel(noise_level=1), 'kernel__k1__sigma_0': 1.0, 'kernel__k1__sigma_0_bounds': (1e-05, 100000.0), 'kernel__k2__noise_level': 1.0, 'kernel__k2__noise_level_bounds': (1e-05, 100000.0), 'kernel': DotProduct(sigma_0=1) + WhiteKernel(noise_level=1), 'max_iter_predict': 100, 'multi_class': 'one_vs_rest', 'n_jobs': None, 'n_restarts_optimizer': 0, 'optimizer': 'fmin_l_bfgs_b', 'random_state': 42, 'warm_start': False}\n",
      "------run_cv runs successfully------------\n",
      "++++++++++++save_confusion_matrix++++++++++++\n"
     ]
    },
    {
     "name": "stderr",
     "output_type": "stream",
     "text": [
      "Classificationv3.py:353: UserWarning: FixedFormatter should only be used together with FixedLocator\n",
      "  axs[i].set_xticklabels([''] + ['0', '1'], fontsize='xx-large')\n",
      "Classificationv3.py:354: UserWarning: FixedFormatter should only be used together with FixedLocator\n",
      "  axs[i].set_yticklabels([''] + ['0', '1'], fontsize='xx-large')\n"
     ]
    },
    {
     "name": "stdout",
     "output_type": "stream",
     "text": [
      "++++++++++++save_confusion_matrix end++++++++++++\n",
      "(((((((((((((((((((((( draw droc ))))))))))))))))))))))))))))))\n",
      "(((((((( draw droc end ))))))))\n",
      "~~~~~~~~~~~~~~~~~ SB-037 ~~~~~~~~~~~~~~~~~~~~~~\n",
      "~~~~~~~~~~ Number of instances before balancing:  140  ~~~~~~~~~~\n",
      "~~~~~~~ Training Loss: 0.010528145357966423  ~~~~~~~\n",
      "~~~~~~~ Validation Loss: 0.023052392527461052  ~~~~~~~\n",
      "2/2 [==============================] - 0s 5ms/step\n",
      "~~~~~~~ value_counts: ~~~~~~~\n",
      "1    103\n",
      "0     74\n",
      "Name: class, dtype: int64\n",
      "~~~~~~~~~~ Number of instances after balancing:  177  ~~~~~~~~~~\n",
      "~~~~~~~~~~ Number of instances before balancing:  140  ~~~~~~~~~~\n",
      "~~~~~~~ Training Loss: 0.014230326749384403  ~~~~~~~\n",
      "~~~~~~~ Validation Loss: 0.01934431679546833  ~~~~~~~\n",
      "2/2 [==============================] - 0s 4ms/step\n",
      "~~~~~~~ value_counts: ~~~~~~~\n",
      "1    96\n",
      "0    88\n",
      "Name: class, dtype: int64\n",
      "~~~~~~~~~~ Number of instances after balancing:  184  ~~~~~~~~~~\n",
      "~~~~~~~~~~ Number of instances before balancing:  140  ~~~~~~~~~~\n",
      "~~~~~~~ Training Loss: 0.01494899857789278  ~~~~~~~\n",
      "~~~~~~~ Validation Loss: 0.016365358605980873  ~~~~~~~\n",
      "2/2 [==============================] - 0s 5ms/step\n",
      "~~~~~~~ value_counts: ~~~~~~~\n",
      "1    95\n",
      "0    90\n",
      "Name: class, dtype: int64\n",
      "~~~~~~~~~~ Number of instances after balancing:  185  ~~~~~~~~~~\n",
      "~~~~~~~~~~ Naive Bayes ~~~~~~~~~~~~~~~\n",
      "-----------kfold--------------- 0 ------------\n",
      "---Naive Bayes--- 0.7623809523809525 GaussianProcessClassifier(kernel=1**2 * RBF(length_scale=1), random_state=42)\n"
     ]
    },
    {
     "name": "stderr",
     "output_type": "stream",
     "text": [
      "c:\\Users\\sbhuv\\AppData\\Local\\Programs\\Python\\Python38\\lib\\site-packages\\sklearn\\utils\\validation.py:1143: DataConversionWarning: A column-vector y was passed when a 1d array was expected. Please change the shape of y to (n_samples, ), for example using ravel().\n",
      "  y = column_or_1d(y, warn=True)\n"
     ]
    },
    {
     "name": "stdout",
     "output_type": "stream",
     "text": [
      "* 0-----------kfold--------------- 1 ------------\n"
     ]
    },
    {
     "name": "stderr",
     "output_type": "stream",
     "text": [
      "c:\\Users\\sbhuv\\AppData\\Local\\Programs\\Python\\Python38\\lib\\site-packages\\sklearn\\gaussian_process\\kernels.py:420: ConvergenceWarning: The optimal value found for dimension 0 of parameter k2__noise_level is close to the specified lower bound 1e-05. Decreasing the bound and calling fit again may find a better value.\n",
      "  warnings.warn(\n",
      "c:\\Users\\sbhuv\\AppData\\Local\\Programs\\Python\\Python38\\lib\\site-packages\\sklearn\\gaussian_process\\kernels.py:420: ConvergenceWarning: The optimal value found for dimension 0 of parameter k2__noise_level is close to the specified lower bound 1e-05. Decreasing the bound and calling fit again may find a better value.\n",
      "  warnings.warn(\n",
      "c:\\Users\\sbhuv\\AppData\\Local\\Programs\\Python\\Python38\\lib\\site-packages\\sklearn\\gaussian_process\\kernels.py:420: ConvergenceWarning: The optimal value found for dimension 0 of parameter k2__noise_level is close to the specified lower bound 1e-05. Decreasing the bound and calling fit again may find a better value.\n",
      "  warnings.warn(\n",
      "c:\\Users\\sbhuv\\AppData\\Local\\Programs\\Python\\Python38\\lib\\site-packages\\sklearn\\utils\\validation.py:1143: DataConversionWarning: A column-vector y was passed when a 1d array was expected. Please change the shape of y to (n_samples, ), for example using ravel().\n",
      "  y = column_or_1d(y, warn=True)\n"
     ]
    },
    {
     "name": "stdout",
     "output_type": "stream",
     "text": [
      "* 1-----------kfold--------------- 2 ------------\n"
     ]
    },
    {
     "name": "stderr",
     "output_type": "stream",
     "text": [
      "c:\\Users\\sbhuv\\AppData\\Local\\Programs\\Python\\Python38\\lib\\site-packages\\sklearn\\gaussian_process\\kernels.py:420: ConvergenceWarning: The optimal value found for dimension 0 of parameter k2__noise_level is close to the specified lower bound 1e-05. Decreasing the bound and calling fit again may find a better value.\n",
      "  warnings.warn(\n",
      "c:\\Users\\sbhuv\\AppData\\Local\\Programs\\Python\\Python38\\lib\\site-packages\\sklearn\\gaussian_process\\kernels.py:420: ConvergenceWarning: The optimal value found for dimension 0 of parameter k2__noise_level is close to the specified lower bound 1e-05. Decreasing the bound and calling fit again may find a better value.\n",
      "  warnings.warn(\n",
      "c:\\Users\\sbhuv\\AppData\\Local\\Programs\\Python\\Python38\\lib\\site-packages\\sklearn\\gaussian_process\\kernels.py:420: ConvergenceWarning: The optimal value found for dimension 0 of parameter k2__noise_level is close to the specified lower bound 1e-05. Decreasing the bound and calling fit again may find a better value.\n",
      "  warnings.warn(\n",
      "c:\\Users\\sbhuv\\AppData\\Local\\Programs\\Python\\Python38\\lib\\site-packages\\sklearn\\gaussian_process\\kernels.py:420: ConvergenceWarning: The optimal value found for dimension 0 of parameter k2__noise_level is close to the specified lower bound 1e-05. Decreasing the bound and calling fit again may find a better value.\n",
      "  warnings.warn(\n",
      "c:\\Users\\sbhuv\\AppData\\Local\\Programs\\Python\\Python38\\lib\\site-packages\\sklearn\\utils\\validation.py:1143: DataConversionWarning: A column-vector y was passed when a 1d array was expected. Please change the shape of y to (n_samples, ), for example using ravel().\n",
      "  y = column_or_1d(y, warn=True)\n"
     ]
    },
    {
     "name": "stdout",
     "output_type": "stream",
     "text": [
      "* 2*\n",
      "{'copy_X_train': True, 'kernel__k1': 1**2, 'kernel__k2': RBF(length_scale=1), 'kernel__k1__constant_value': 1.0, 'kernel__k1__constant_value_bounds': (1e-05, 100000.0), 'kernel__k2__length_scale': 1.0, 'kernel__k2__length_scale_bounds': (1e-05, 100000.0), 'kernel': 1**2 * RBF(length_scale=1), 'max_iter_predict': 100, 'multi_class': 'one_vs_rest', 'n_jobs': None, 'n_restarts_optimizer': 0, 'optimizer': 'fmin_l_bfgs_b', 'random_state': 42, 'warm_start': False}\n",
      "------run_cv runs successfully------------\n",
      "++++++++++++save_confusion_matrix++++++++++++\n"
     ]
    },
    {
     "name": "stderr",
     "output_type": "stream",
     "text": [
      "Classificationv3.py:353: UserWarning: FixedFormatter should only be used together with FixedLocator\n",
      "  axs[i].set_xticklabels([''] + ['0', '1'], fontsize='xx-large')\n",
      "Classificationv3.py:354: UserWarning: FixedFormatter should only be used together with FixedLocator\n",
      "  axs[i].set_yticklabels([''] + ['0', '1'], fontsize='xx-large')\n"
     ]
    },
    {
     "name": "stdout",
     "output_type": "stream",
     "text": [
      "++++++++++++save_confusion_matrix end++++++++++++\n",
      "(((((((((((((((((((((( draw droc ))))))))))))))))))))))))))))))\n",
      "(((((((( draw droc end ))))))))\n",
      "~~~~~~~~~~~~~~~~~ SB-043 ~~~~~~~~~~~~~~~~~~~~~~\n",
      "~~~~~~~~~~ Number of instances before balancing:  127  ~~~~~~~~~~\n",
      "~~~~~~~ Training Loss: 0.009678496979176998  ~~~~~~~\n",
      "~~~~~~~ Validation Loss: 0.019868621602654457  ~~~~~~~\n",
      "2/2 [==============================] - 0s 5ms/step\n",
      "~~~~~~~ value_counts: ~~~~~~~\n",
      "1    92\n",
      "0    70\n",
      "Name: class, dtype: int64\n",
      "~~~~~~~~~~ Number of instances after balancing:  162  ~~~~~~~~~~\n",
      "~~~~~~~~~~ Number of instances before balancing:  127  ~~~~~~~~~~\n",
      "~~~~~~~ Training Loss: 0.01099919993430376  ~~~~~~~\n",
      "~~~~~~~ Validation Loss: 0.012973429635167122  ~~~~~~~\n",
      "2/2 [==============================] - 0s 5ms/step\n",
      "~~~~~~~ value_counts: ~~~~~~~\n",
      "1    89\n",
      "0    76\n",
      "Name: class, dtype: int64\n",
      "~~~~~~~~~~ Number of instances after balancing:  165  ~~~~~~~~~~\n",
      "~~~~~~~~~~ Number of instances before balancing:  128  ~~~~~~~~~~\n",
      "~~~~~~~ Training Loss: 0.014003654010593891  ~~~~~~~\n",
      "~~~~~~~ Validation Loss: 0.023258883506059647  ~~~~~~~\n",
      "1/1 [==============================] - 0s 153ms/step\n",
      "~~~~~~~ value_counts: ~~~~~~~\n",
      "1    97\n",
      "0    62\n",
      "Name: class, dtype: int64\n",
      "~~~~~~~~~~ Number of instances after balancing:  159  ~~~~~~~~~~\n",
      "~~~~~~~~~~ Naive Bayes ~~~~~~~~~~~~~~~\n",
      "-----------kfold--------------- 0 ------------\n"
     ]
    },
    {
     "name": "stderr",
     "output_type": "stream",
     "text": [
      "c:\\Users\\sbhuv\\AppData\\Local\\Programs\\Python\\Python38\\lib\\site-packages\\sklearn\\gaussian_process\\kernels.py:420: ConvergenceWarning: The optimal value found for dimension 0 of parameter k2__noise_level is close to the specified lower bound 1e-05. Decreasing the bound and calling fit again may find a better value.\n",
      "  warnings.warn(\n",
      "c:\\Users\\sbhuv\\AppData\\Local\\Programs\\Python\\Python38\\lib\\site-packages\\sklearn\\gaussian_process\\kernels.py:420: ConvergenceWarning: The optimal value found for dimension 0 of parameter k2__noise_level is close to the specified lower bound 1e-05. Decreasing the bound and calling fit again may find a better value.\n",
      "  warnings.warn(\n",
      "c:\\Users\\sbhuv\\AppData\\Local\\Programs\\Python\\Python38\\lib\\site-packages\\sklearn\\gaussian_process\\kernels.py:420: ConvergenceWarning: The optimal value found for dimension 0 of parameter k2__noise_level is close to the specified lower bound 1e-05. Decreasing the bound and calling fit again may find a better value.\n",
      "  warnings.warn(\n",
      "c:\\Users\\sbhuv\\AppData\\Local\\Programs\\Python\\Python38\\lib\\site-packages\\sklearn\\gaussian_process\\kernels.py:420: ConvergenceWarning: The optimal value found for dimension 0 of parameter k2__noise_level is close to the specified lower bound 1e-05. Decreasing the bound and calling fit again may find a better value.\n",
      "  warnings.warn(\n",
      "c:\\Users\\sbhuv\\AppData\\Local\\Programs\\Python\\Python38\\lib\\site-packages\\sklearn\\gaussian_process\\kernels.py:420: ConvergenceWarning: The optimal value found for dimension 0 of parameter k2__noise_level is close to the specified lower bound 1e-05. Decreasing the bound and calling fit again may find a better value.\n",
      "  warnings.warn(\n"
     ]
    },
    {
     "name": "stdout",
     "output_type": "stream",
     "text": [
      "---Naive Bayes--- 0.7772727272727272 GaussianProcessClassifier(kernel=1**2 * RBF(length_scale=1), random_state=42)\n"
     ]
    },
    {
     "name": "stderr",
     "output_type": "stream",
     "text": [
      "c:\\Users\\sbhuv\\AppData\\Local\\Programs\\Python\\Python38\\lib\\site-packages\\sklearn\\utils\\validation.py:1143: DataConversionWarning: A column-vector y was passed when a 1d array was expected. Please change the shape of y to (n_samples, ), for example using ravel().\n",
      "  y = column_or_1d(y, warn=True)\n"
     ]
    },
    {
     "name": "stdout",
     "output_type": "stream",
     "text": [
      "* 0-----------kfold--------------- 1 ------------\n"
     ]
    },
    {
     "name": "stderr",
     "output_type": "stream",
     "text": [
      "c:\\Users\\sbhuv\\AppData\\Local\\Programs\\Python\\Python38\\lib\\site-packages\\sklearn\\gaussian_process\\kernels.py:420: ConvergenceWarning: The optimal value found for dimension 0 of parameter k2__noise_level is close to the specified lower bound 1e-05. Decreasing the bound and calling fit again may find a better value.\n",
      "  warnings.warn(\n",
      "c:\\Users\\sbhuv\\AppData\\Local\\Programs\\Python\\Python38\\lib\\site-packages\\sklearn\\gaussian_process\\kernels.py:420: ConvergenceWarning: The optimal value found for dimension 0 of parameter k2__noise_level is close to the specified lower bound 1e-05. Decreasing the bound and calling fit again may find a better value.\n",
      "  warnings.warn(\n",
      "c:\\Users\\sbhuv\\AppData\\Local\\Programs\\Python\\Python38\\lib\\site-packages\\sklearn\\gaussian_process\\kernels.py:420: ConvergenceWarning: The optimal value found for dimension 0 of parameter k2__noise_level is close to the specified lower bound 1e-05. Decreasing the bound and calling fit again may find a better value.\n",
      "  warnings.warn(\n",
      "c:\\Users\\sbhuv\\AppData\\Local\\Programs\\Python\\Python38\\lib\\site-packages\\sklearn\\gaussian_process\\kernels.py:420: ConvergenceWarning: The optimal value found for dimension 0 of parameter k2__noise_level is close to the specified lower bound 1e-05. Decreasing the bound and calling fit again may find a better value.\n",
      "  warnings.warn(\n",
      "c:\\Users\\sbhuv\\AppData\\Local\\Programs\\Python\\Python38\\lib\\site-packages\\sklearn\\gaussian_process\\kernels.py:420: ConvergenceWarning: The optimal value found for dimension 0 of parameter k2__noise_level is close to the specified lower bound 1e-05. Decreasing the bound and calling fit again may find a better value.\n",
      "  warnings.warn(\n",
      "c:\\Users\\sbhuv\\AppData\\Local\\Programs\\Python\\Python38\\lib\\site-packages\\sklearn\\utils\\validation.py:1143: DataConversionWarning: A column-vector y was passed when a 1d array was expected. Please change the shape of y to (n_samples, ), for example using ravel().\n",
      "  y = column_or_1d(y, warn=True)\n"
     ]
    },
    {
     "name": "stdout",
     "output_type": "stream",
     "text": [
      "* 1-----------kfold--------------- 2 ------------\n"
     ]
    },
    {
     "name": "stderr",
     "output_type": "stream",
     "text": [
      "c:\\Users\\sbhuv\\AppData\\Local\\Programs\\Python\\Python38\\lib\\site-packages\\sklearn\\gaussian_process\\kernels.py:420: ConvergenceWarning: The optimal value found for dimension 0 of parameter k2__noise_level is close to the specified lower bound 1e-05. Decreasing the bound and calling fit again may find a better value.\n",
      "  warnings.warn(\n",
      "c:\\Users\\sbhuv\\AppData\\Local\\Programs\\Python\\Python38\\lib\\site-packages\\sklearn\\gaussian_process\\kernels.py:420: ConvergenceWarning: The optimal value found for dimension 0 of parameter k2__noise_level is close to the specified lower bound 1e-05. Decreasing the bound and calling fit again may find a better value.\n",
      "  warnings.warn(\n",
      "c:\\Users\\sbhuv\\AppData\\Local\\Programs\\Python\\Python38\\lib\\site-packages\\sklearn\\gaussian_process\\kernels.py:420: ConvergenceWarning: The optimal value found for dimension 0 of parameter k2__noise_level is close to the specified lower bound 1e-05. Decreasing the bound and calling fit again may find a better value.\n",
      "  warnings.warn(\n",
      "c:\\Users\\sbhuv\\AppData\\Local\\Programs\\Python\\Python38\\lib\\site-packages\\sklearn\\gaussian_process\\kernels.py:420: ConvergenceWarning: The optimal value found for dimension 0 of parameter k2__noise_level is close to the specified lower bound 1e-05. Decreasing the bound and calling fit again may find a better value.\n",
      "  warnings.warn(\n",
      "c:\\Users\\sbhuv\\AppData\\Local\\Programs\\Python\\Python38\\lib\\site-packages\\sklearn\\gaussian_process\\kernels.py:420: ConvergenceWarning: The optimal value found for dimension 0 of parameter k2__noise_level is close to the specified lower bound 1e-05. Decreasing the bound and calling fit again may find a better value.\n",
      "  warnings.warn(\n"
     ]
    },
    {
     "name": "stdout",
     "output_type": "stream",
     "text": [
      "---Naive Bayes--- 0.8550403225806452 GaussianProcessClassifier(kernel=1**2 * RBF(length_scale=1), random_state=42)\n"
     ]
    },
    {
     "name": "stderr",
     "output_type": "stream",
     "text": [
      "c:\\Users\\sbhuv\\AppData\\Local\\Programs\\Python\\Python38\\lib\\site-packages\\sklearn\\utils\\validation.py:1143: DataConversionWarning: A column-vector y was passed when a 1d array was expected. Please change the shape of y to (n_samples, ), for example using ravel().\n",
      "  y = column_or_1d(y, warn=True)\n"
     ]
    },
    {
     "name": "stdout",
     "output_type": "stream",
     "text": [
      "* 2*\n",
      "{'copy_X_train': True, 'kernel__k1': 1**2, 'kernel__k2': RBF(length_scale=1), 'kernel__k1__constant_value': 1.0, 'kernel__k1__constant_value_bounds': (1e-05, 100000.0), 'kernel__k2__length_scale': 1.0, 'kernel__k2__length_scale_bounds': (1e-05, 100000.0), 'kernel': 1**2 * RBF(length_scale=1), 'max_iter_predict': 100, 'multi_class': 'one_vs_rest', 'n_jobs': None, 'n_restarts_optimizer': 0, 'optimizer': 'fmin_l_bfgs_b', 'random_state': 42, 'warm_start': False}\n",
      "------run_cv runs successfully------------\n",
      "++++++++++++save_confusion_matrix++++++++++++\n"
     ]
    },
    {
     "name": "stderr",
     "output_type": "stream",
     "text": [
      "Classificationv3.py:353: UserWarning: FixedFormatter should only be used together with FixedLocator\n",
      "  axs[i].set_xticklabels([''] + ['0', '1'], fontsize='xx-large')\n",
      "Classificationv3.py:354: UserWarning: FixedFormatter should only be used together with FixedLocator\n",
      "  axs[i].set_yticklabels([''] + ['0', '1'], fontsize='xx-large')\n"
     ]
    },
    {
     "name": "stdout",
     "output_type": "stream",
     "text": [
      "++++++++++++save_confusion_matrix end++++++++++++\n",
      "(((((((((((((((((((((( draw droc ))))))))))))))))))))))))))))))\n",
      "(((((((( draw droc end ))))))))\n",
      "~~~~~~~~~~~~~~~~~ SB-056 ~~~~~~~~~~~~~~~~~~~~~~\n",
      "~~~~~~~~~~ Number of instances before balancing:  127  ~~~~~~~~~~\n",
      "~~~~~~~ Training Loss: 0.010984323918819427  ~~~~~~~\n",
      "~~~~~~~ Validation Loss: 0.01593085192143917  ~~~~~~~\n",
      "1/1 [==============================] - 0s 147ms/step\n",
      "~~~~~~~ value_counts: ~~~~~~~\n",
      "1    98\n",
      "0    58\n",
      "Name: class, dtype: int64\n",
      "~~~~~~~~~~ Number of instances after balancing:  156  ~~~~~~~~~~\n",
      "~~~~~~~~~~ Number of instances before balancing:  127  ~~~~~~~~~~\n",
      "~~~~~~~ Training Loss: 0.01607629843056202  ~~~~~~~\n",
      "~~~~~~~ Validation Loss: 0.028501588851213455  ~~~~~~~\n",
      "1/1 [==============================] - 0s 164ms/step\n",
      "~~~~~~~ value_counts: ~~~~~~~\n",
      "1    101\n",
      "0     52\n",
      "Name: class, dtype: int64\n",
      "~~~~~~~~~~ Number of instances after balancing:  153  ~~~~~~~~~~\n",
      "~~~~~~~~~~ Number of instances before balancing:  128  ~~~~~~~~~~\n",
      "~~~~~~~ Training Loss: 0.018016766756772995  ~~~~~~~\n",
      "~~~~~~~ Validation Loss: 0.01956663839519024  ~~~~~~~\n",
      "1/1 [==============================] - 0s 201ms/step\n",
      "~~~~~~~ value_counts: ~~~~~~~\n",
      "1    101\n",
      "0     54\n",
      "Name: class, dtype: int64\n",
      "~~~~~~~~~~ Number of instances after balancing:  155  ~~~~~~~~~~\n",
      "~~~~~~~~~~ Naive Bayes ~~~~~~~~~~~~~~~\n",
      "-----------kfold--------------- 0 ------------\n"
     ]
    },
    {
     "name": "stderr",
     "output_type": "stream",
     "text": [
      "c:\\Users\\sbhuv\\AppData\\Local\\Programs\\Python\\Python38\\lib\\site-packages\\sklearn\\gaussian_process\\kernels.py:420: ConvergenceWarning: The optimal value found for dimension 0 of parameter k2__noise_level is close to the specified lower bound 1e-05. Decreasing the bound and calling fit again may find a better value.\n",
      "  warnings.warn(\n",
      "c:\\Users\\sbhuv\\AppData\\Local\\Programs\\Python\\Python38\\lib\\site-packages\\sklearn\\gaussian_process\\kernels.py:420: ConvergenceWarning: The optimal value found for dimension 0 of parameter k2__noise_level is close to the specified lower bound 1e-05. Decreasing the bound and calling fit again may find a better value.\n",
      "  warnings.warn(\n",
      "c:\\Users\\sbhuv\\AppData\\Local\\Programs\\Python\\Python38\\lib\\site-packages\\sklearn\\gaussian_process\\kernels.py:420: ConvergenceWarning: The optimal value found for dimension 0 of parameter k2__noise_level is close to the specified lower bound 1e-05. Decreasing the bound and calling fit again may find a better value.\n",
      "  warnings.warn(\n",
      "c:\\Users\\sbhuv\\AppData\\Local\\Programs\\Python\\Python38\\lib\\site-packages\\sklearn\\gaussian_process\\kernels.py:420: ConvergenceWarning: The optimal value found for dimension 0 of parameter k2__noise_level is close to the specified lower bound 1e-05. Decreasing the bound and calling fit again may find a better value.\n",
      "  warnings.warn(\n",
      "c:\\Users\\sbhuv\\AppData\\Local\\Programs\\Python\\Python38\\lib\\site-packages\\sklearn\\gaussian_process\\kernels.py:420: ConvergenceWarning: The optimal value found for dimension 0 of parameter k2__noise_level is close to the specified lower bound 1e-05. Decreasing the bound and calling fit again may find a better value.\n",
      "  warnings.warn(\n"
     ]
    },
    {
     "name": "stdout",
     "output_type": "stream",
     "text": [
      "---Naive Bayes--- 0.8076612903225806 GaussianProcessClassifier(kernel=1**2 * RBF(length_scale=1), random_state=42)\n"
     ]
    },
    {
     "name": "stderr",
     "output_type": "stream",
     "text": [
      "c:\\Users\\sbhuv\\AppData\\Local\\Programs\\Python\\Python38\\lib\\site-packages\\sklearn\\utils\\validation.py:1143: DataConversionWarning: A column-vector y was passed when a 1d array was expected. Please change the shape of y to (n_samples, ), for example using ravel().\n",
      "  y = column_or_1d(y, warn=True)\n"
     ]
    },
    {
     "name": "stdout",
     "output_type": "stream",
     "text": [
      "* 0-----------kfold--------------- 1 ------------\n"
     ]
    },
    {
     "name": "stderr",
     "output_type": "stream",
     "text": [
      "c:\\Users\\sbhuv\\AppData\\Local\\Programs\\Python\\Python38\\lib\\site-packages\\sklearn\\gaussian_process\\kernels.py:420: ConvergenceWarning: The optimal value found for dimension 0 of parameter k2__noise_level is close to the specified lower bound 1e-05. Decreasing the bound and calling fit again may find a better value.\n",
      "  warnings.warn(\n",
      "c:\\Users\\sbhuv\\AppData\\Local\\Programs\\Python\\Python38\\lib\\site-packages\\sklearn\\gaussian_process\\kernels.py:420: ConvergenceWarning: The optimal value found for dimension 0 of parameter k2__noise_level is close to the specified lower bound 1e-05. Decreasing the bound and calling fit again may find a better value.\n",
      "  warnings.warn(\n",
      "c:\\Users\\sbhuv\\AppData\\Local\\Programs\\Python\\Python38\\lib\\site-packages\\sklearn\\gaussian_process\\kernels.py:420: ConvergenceWarning: The optimal value found for dimension 0 of parameter k2__noise_level is close to the specified lower bound 1e-05. Decreasing the bound and calling fit again may find a better value.\n",
      "  warnings.warn(\n",
      "c:\\Users\\sbhuv\\AppData\\Local\\Programs\\Python\\Python38\\lib\\site-packages\\sklearn\\gaussian_process\\kernels.py:420: ConvergenceWarning: The optimal value found for dimension 0 of parameter k2__noise_level is close to the specified lower bound 1e-05. Decreasing the bound and calling fit again may find a better value.\n",
      "  warnings.warn(\n",
      "c:\\Users\\sbhuv\\AppData\\Local\\Programs\\Python\\Python38\\lib\\site-packages\\sklearn\\gaussian_process\\kernels.py:420: ConvergenceWarning: The optimal value found for dimension 0 of parameter k2__noise_level is close to the specified lower bound 1e-05. Decreasing the bound and calling fit again may find a better value.\n",
      "  warnings.warn(\n"
     ]
    },
    {
     "name": "stdout",
     "output_type": "stream",
     "text": [
      "---Naive Bayes--- 0.8301075268817204 GaussianProcessClassifier(kernel=1**2 * RBF(length_scale=1), random_state=42)\n"
     ]
    },
    {
     "name": "stderr",
     "output_type": "stream",
     "text": [
      "c:\\Users\\sbhuv\\AppData\\Local\\Programs\\Python\\Python38\\lib\\site-packages\\sklearn\\utils\\validation.py:1143: DataConversionWarning: A column-vector y was passed when a 1d array was expected. Please change the shape of y to (n_samples, ), for example using ravel().\n",
      "  y = column_or_1d(y, warn=True)\n"
     ]
    },
    {
     "name": "stdout",
     "output_type": "stream",
     "text": [
      "* 1-----------kfold--------------- 2 ------------\n"
     ]
    },
    {
     "name": "stderr",
     "output_type": "stream",
     "text": [
      "c:\\Users\\sbhuv\\AppData\\Local\\Programs\\Python\\Python38\\lib\\site-packages\\sklearn\\gaussian_process\\kernels.py:420: ConvergenceWarning: The optimal value found for dimension 0 of parameter k2__noise_level is close to the specified lower bound 1e-05. Decreasing the bound and calling fit again may find a better value.\n",
      "  warnings.warn(\n",
      "c:\\Users\\sbhuv\\AppData\\Local\\Programs\\Python\\Python38\\lib\\site-packages\\sklearn\\gaussian_process\\kernels.py:420: ConvergenceWarning: The optimal value found for dimension 0 of parameter k2__noise_level is close to the specified lower bound 1e-05. Decreasing the bound and calling fit again may find a better value.\n",
      "  warnings.warn(\n",
      "c:\\Users\\sbhuv\\AppData\\Local\\Programs\\Python\\Python38\\lib\\site-packages\\sklearn\\gaussian_process\\kernels.py:420: ConvergenceWarning: The optimal value found for dimension 0 of parameter k2__noise_level is close to the specified lower bound 1e-05. Decreasing the bound and calling fit again may find a better value.\n",
      "  warnings.warn(\n",
      "c:\\Users\\sbhuv\\AppData\\Local\\Programs\\Python\\Python38\\lib\\site-packages\\sklearn\\gaussian_process\\kernels.py:420: ConvergenceWarning: The optimal value found for dimension 0 of parameter k2__noise_level is close to the specified lower bound 1e-05. Decreasing the bound and calling fit again may find a better value.\n",
      "  warnings.warn(\n",
      "c:\\Users\\sbhuv\\AppData\\Local\\Programs\\Python\\Python38\\lib\\site-packages\\sklearn\\gaussian_process\\kernels.py:420: ConvergenceWarning: The optimal value found for dimension 0 of parameter k2__noise_level is close to the specified lower bound 1e-05. Decreasing the bound and calling fit again may find a better value.\n",
      "  warnings.warn(\n"
     ]
    },
    {
     "name": "stdout",
     "output_type": "stream",
     "text": [
      "---Naive Bayes--- 0.8387096774193548 GaussianProcessClassifier(kernel=1**2 * RBF(length_scale=1), random_state=42)\n"
     ]
    },
    {
     "name": "stderr",
     "output_type": "stream",
     "text": [
      "c:\\Users\\sbhuv\\AppData\\Local\\Programs\\Python\\Python38\\lib\\site-packages\\sklearn\\utils\\validation.py:1143: DataConversionWarning: A column-vector y was passed when a 1d array was expected. Please change the shape of y to (n_samples, ), for example using ravel().\n",
      "  y = column_or_1d(y, warn=True)\n"
     ]
    },
    {
     "name": "stdout",
     "output_type": "stream",
     "text": [
      "* 2*\n",
      "{'copy_X_train': True, 'kernel__k1': 1**2, 'kernel__k2': RBF(length_scale=1), 'kernel__k1__constant_value': 1.0, 'kernel__k1__constant_value_bounds': (1e-05, 100000.0), 'kernel__k2__length_scale': 1.0, 'kernel__k2__length_scale_bounds': (1e-05, 100000.0), 'kernel': 1**2 * RBF(length_scale=1), 'max_iter_predict': 100, 'multi_class': 'one_vs_rest', 'n_jobs': None, 'n_restarts_optimizer': 0, 'optimizer': 'fmin_l_bfgs_b', 'random_state': 42, 'warm_start': False}\n",
      "------run_cv runs successfully------------\n",
      "++++++++++++save_confusion_matrix++++++++++++\n"
     ]
    },
    {
     "name": "stderr",
     "output_type": "stream",
     "text": [
      "Classificationv3.py:353: UserWarning: FixedFormatter should only be used together with FixedLocator\n",
      "  axs[i].set_xticklabels([''] + ['0', '1'], fontsize='xx-large')\n",
      "Classificationv3.py:354: UserWarning: FixedFormatter should only be used together with FixedLocator\n",
      "  axs[i].set_yticklabels([''] + ['0', '1'], fontsize='xx-large')\n"
     ]
    },
    {
     "name": "stdout",
     "output_type": "stream",
     "text": [
      "++++++++++++save_confusion_matrix end++++++++++++\n",
      "(((((((((((((((((((((( draw droc ))))))))))))))))))))))))))))))\n",
      "(((((((( draw droc end ))))))))\n",
      "~~~~~~~~~~~~~~~~~ SB-059 ~~~~~~~~~~~~~~~~~~~~~~\n",
      "~~~~~~~~~~ Number of instances before balancing:  135  ~~~~~~~~~~\n",
      "~~~~~~~ Training Loss: 0.01505141332745552  ~~~~~~~\n",
      "~~~~~~~ Validation Loss: 0.02599339373409748  ~~~~~~~\n",
      "2/2 [==============================] - 0s 5ms/step\n",
      "~~~~~~~ value_counts: ~~~~~~~\n",
      "1    100\n",
      "0     70\n",
      "Name: class, dtype: int64\n",
      "~~~~~~~~~~ Number of instances after balancing:  170  ~~~~~~~~~~\n",
      "~~~~~~~~~~ Number of instances before balancing:  135  ~~~~~~~~~~\n",
      "~~~~~~~ Training Loss: 0.010263310745358467  ~~~~~~~\n",
      "~~~~~~~ Validation Loss: 0.018536437302827835  ~~~~~~~\n",
      "2/2 [==============================] - 0s 4ms/step\n",
      "~~~~~~~ value_counts: ~~~~~~~\n",
      "1    97\n",
      "0    76\n",
      "Name: class, dtype: int64\n",
      "~~~~~~~~~~ Number of instances after balancing:  173  ~~~~~~~~~~\n",
      "~~~~~~~~~~ Number of instances before balancing:  136  ~~~~~~~~~~\n",
      "~~~~~~~ Training Loss: 0.014046024531126022  ~~~~~~~\n",
      "~~~~~~~ Validation Loss: 0.017961040139198303  ~~~~~~~\n",
      "1/1 [==============================] - 0s 173ms/step\n",
      "~~~~~~~ value_counts: ~~~~~~~\n",
      "1    107\n",
      "0     58\n",
      "Name: class, dtype: int64\n",
      "~~~~~~~~~~ Number of instances after balancing:  165  ~~~~~~~~~~\n",
      "~~~~~~~~~~ Naive Bayes ~~~~~~~~~~~~~~~\n",
      "-----------kfold--------------- 0 ------------\n"
     ]
    },
    {
     "name": "stderr",
     "output_type": "stream",
     "text": [
      "c:\\Users\\sbhuv\\AppData\\Local\\Programs\\Python\\Python38\\lib\\site-packages\\sklearn\\gaussian_process\\kernels.py:420: ConvergenceWarning: The optimal value found for dimension 0 of parameter k2__noise_level is close to the specified lower bound 1e-05. Decreasing the bound and calling fit again may find a better value.\n",
      "  warnings.warn(\n",
      "c:\\Users\\sbhuv\\AppData\\Local\\Programs\\Python\\Python38\\lib\\site-packages\\sklearn\\gaussian_process\\kernels.py:420: ConvergenceWarning: The optimal value found for dimension 0 of parameter k2__noise_level is close to the specified lower bound 1e-05. Decreasing the bound and calling fit again may find a better value.\n",
      "  warnings.warn(\n",
      "c:\\Users\\sbhuv\\AppData\\Local\\Programs\\Python\\Python38\\lib\\site-packages\\sklearn\\gaussian_process\\kernels.py:420: ConvergenceWarning: The optimal value found for dimension 0 of parameter k2__noise_level is close to the specified lower bound 1e-05. Decreasing the bound and calling fit again may find a better value.\n",
      "  warnings.warn(\n",
      "c:\\Users\\sbhuv\\AppData\\Local\\Programs\\Python\\Python38\\lib\\site-packages\\sklearn\\gaussian_process\\kernels.py:420: ConvergenceWarning: The optimal value found for dimension 0 of parameter k2__noise_level is close to the specified lower bound 1e-05. Decreasing the bound and calling fit again may find a better value.\n",
      "  warnings.warn(\n",
      "c:\\Users\\sbhuv\\AppData\\Local\\Programs\\Python\\Python38\\lib\\site-packages\\sklearn\\gaussian_process\\kernels.py:420: ConvergenceWarning: The optimal value found for dimension 0 of parameter k2__noise_level is close to the specified lower bound 1e-05. Decreasing the bound and calling fit again may find a better value.\n",
      "  warnings.warn(\n"
     ]
    },
    {
     "name": "stdout",
     "output_type": "stream",
     "text": [
      "---Naive Bayes--- 0.7941176470588236 GaussianProcessClassifier(kernel=1**2 * RBF(length_scale=1), random_state=42)\n"
     ]
    },
    {
     "name": "stderr",
     "output_type": "stream",
     "text": [
      "c:\\Users\\sbhuv\\AppData\\Local\\Programs\\Python\\Python38\\lib\\site-packages\\sklearn\\utils\\validation.py:1143: DataConversionWarning: A column-vector y was passed when a 1d array was expected. Please change the shape of y to (n_samples, ), for example using ravel().\n",
      "  y = column_or_1d(y, warn=True)\n"
     ]
    },
    {
     "name": "stdout",
     "output_type": "stream",
     "text": [
      "* 0-----------kfold--------------- 1 ------------\n"
     ]
    },
    {
     "name": "stderr",
     "output_type": "stream",
     "text": [
      "c:\\Users\\sbhuv\\AppData\\Local\\Programs\\Python\\Python38\\lib\\site-packages\\sklearn\\gaussian_process\\kernels.py:420: ConvergenceWarning: The optimal value found for dimension 0 of parameter k2__noise_level is close to the specified lower bound 1e-05. Decreasing the bound and calling fit again may find a better value.\n",
      "  warnings.warn(\n",
      "c:\\Users\\sbhuv\\AppData\\Local\\Programs\\Python\\Python38\\lib\\site-packages\\sklearn\\utils\\validation.py:1143: DataConversionWarning: A column-vector y was passed when a 1d array was expected. Please change the shape of y to (n_samples, ), for example using ravel().\n",
      "  y = column_or_1d(y, warn=True)\n"
     ]
    },
    {
     "name": "stdout",
     "output_type": "stream",
     "text": [
      "* 1-----------kfold--------------- 2 ------------\n"
     ]
    },
    {
     "name": "stderr",
     "output_type": "stream",
     "text": [
      "c:\\Users\\sbhuv\\AppData\\Local\\Programs\\Python\\Python38\\lib\\site-packages\\sklearn\\gaussian_process\\kernels.py:420: ConvergenceWarning: The optimal value found for dimension 0 of parameter k2__noise_level is close to the specified lower bound 1e-05. Decreasing the bound and calling fit again may find a better value.\n",
      "  warnings.warn(\n",
      "c:\\Users\\sbhuv\\AppData\\Local\\Programs\\Python\\Python38\\lib\\site-packages\\sklearn\\gaussian_process\\kernels.py:420: ConvergenceWarning: The optimal value found for dimension 0 of parameter k2__noise_level is close to the specified lower bound 1e-05. Decreasing the bound and calling fit again may find a better value.\n",
      "  warnings.warn(\n",
      "c:\\Users\\sbhuv\\AppData\\Local\\Programs\\Python\\Python38\\lib\\site-packages\\sklearn\\utils\\validation.py:1143: DataConversionWarning: A column-vector y was passed when a 1d array was expected. Please change the shape of y to (n_samples, ), for example using ravel().\n",
      "  y = column_or_1d(y, warn=True)\n"
     ]
    },
    {
     "name": "stdout",
     "output_type": "stream",
     "text": [
      "* 2*\n",
      "{'copy_X_train': True, 'kernel__k1': 1**2, 'kernel__k2': RBF(length_scale=1), 'kernel__k1__constant_value': 1.0, 'kernel__k1__constant_value_bounds': (1e-05, 100000.0), 'kernel__k2__length_scale': 1.0, 'kernel__k2__length_scale_bounds': (1e-05, 100000.0), 'kernel': 1**2 * RBF(length_scale=1), 'max_iter_predict': 100, 'multi_class': 'one_vs_rest', 'n_jobs': None, 'n_restarts_optimizer': 0, 'optimizer': 'fmin_l_bfgs_b', 'random_state': 42, 'warm_start': False}\n",
      "------run_cv runs successfully------------\n",
      "++++++++++++save_confusion_matrix++++++++++++\n"
     ]
    },
    {
     "name": "stderr",
     "output_type": "stream",
     "text": [
      "Classificationv3.py:353: UserWarning: FixedFormatter should only be used together with FixedLocator\n",
      "  axs[i].set_xticklabels([''] + ['0', '1'], fontsize='xx-large')\n",
      "Classificationv3.py:354: UserWarning: FixedFormatter should only be used together with FixedLocator\n",
      "  axs[i].set_yticklabels([''] + ['0', '1'], fontsize='xx-large')\n"
     ]
    },
    {
     "name": "stdout",
     "output_type": "stream",
     "text": [
      "++++++++++++save_confusion_matrix end++++++++++++\n",
      "(((((((((((((((((((((( draw droc ))))))))))))))))))))))))))))))\n",
      "(((((((( draw droc end ))))))))\n",
      "~~~~~~~~~~~~~~~~~ SB-060 ~~~~~~~~~~~~~~~~~~~~~~\n",
      "~~~~~~~~~~ Number of instances before balancing:  58  ~~~~~~~~~~\n",
      "~~~~~~~ Training Loss: 0.01619020104408264  ~~~~~~~\n",
      "~~~~~~~ Validation Loss: 0.032999444752931595  ~~~~~~~\n",
      "1/1 [==============================] - 0s 173ms/step\n",
      "~~~~~~~ value_counts: ~~~~~~~\n",
      "1    42\n",
      "0    32\n",
      "Name: class, dtype: int64\n",
      "~~~~~~~~~~ Number of instances after balancing:  74  ~~~~~~~~~~\n",
      "~~~~~~~~~~ Number of instances before balancing:  59  ~~~~~~~~~~\n",
      "~~~~~~~ Training Loss: 0.020355479791760445  ~~~~~~~\n",
      "~~~~~~~ Validation Loss: 0.02202054299414158  ~~~~~~~\n",
      "1/1 [==============================] - 0s 177ms/step\n",
      "~~~~~~~ value_counts: ~~~~~~~\n",
      "1    40\n",
      "0    38\n",
      "Name: class, dtype: int64\n",
      "~~~~~~~~~~ Number of instances after balancing:  78  ~~~~~~~~~~\n",
      "~~~~~~~~~~ Number of instances before balancing:  59  ~~~~~~~~~~\n",
      "~~~~~~~ Training Loss: 0.01900860294699669  ~~~~~~~\n",
      "~~~~~~~ Validation Loss: 0.028715845197439194  ~~~~~~~\n",
      "1/1 [==============================] - 0s 147ms/step\n",
      "~~~~~~~ value_counts: ~~~~~~~\n",
      "1    40\n",
      "0    38\n",
      "Name: class, dtype: int64\n",
      "~~~~~~~~~~ Number of instances after balancing:  78  ~~~~~~~~~~\n",
      "~~~~~~~~~~ Naive Bayes ~~~~~~~~~~~~~~~\n",
      "-----------kfold--------------- 0 ------------\n"
     ]
    },
    {
     "name": "stderr",
     "output_type": "stream",
     "text": [
      "c:\\Users\\sbhuv\\AppData\\Local\\Programs\\Python\\Python38\\lib\\site-packages\\sklearn\\gaussian_process\\kernels.py:420: ConvergenceWarning: The optimal value found for dimension 0 of parameter k2__noise_level is close to the specified lower bound 1e-05. Decreasing the bound and calling fit again may find a better value.\n",
      "  warnings.warn(\n",
      "c:\\Users\\sbhuv\\AppData\\Local\\Programs\\Python\\Python38\\lib\\site-packages\\sklearn\\gaussian_process\\kernels.py:420: ConvergenceWarning: The optimal value found for dimension 0 of parameter k2__noise_level is close to the specified lower bound 1e-05. Decreasing the bound and calling fit again may find a better value.\n",
      "  warnings.warn(\n",
      "c:\\Users\\sbhuv\\AppData\\Local\\Programs\\Python\\Python38\\lib\\site-packages\\sklearn\\gaussian_process\\kernels.py:420: ConvergenceWarning: The optimal value found for dimension 0 of parameter k2__noise_level is close to the specified lower bound 1e-05. Decreasing the bound and calling fit again may find a better value.\n",
      "  warnings.warn(\n",
      "c:\\Users\\sbhuv\\AppData\\Local\\Programs\\Python\\Python38\\lib\\site-packages\\sklearn\\gaussian_process\\kernels.py:420: ConvergenceWarning: The optimal value found for dimension 0 of parameter k2__noise_level is close to the specified lower bound 1e-05. Decreasing the bound and calling fit again may find a better value.\n",
      "  warnings.warn(\n",
      "c:\\Users\\sbhuv\\AppData\\Local\\Programs\\Python\\Python38\\lib\\site-packages\\sklearn\\gaussian_process\\kernels.py:420: ConvergenceWarning: The optimal value found for dimension 0 of parameter k2__noise_level is close to the specified lower bound 1e-05. Decreasing the bound and calling fit again may find a better value.\n",
      "  warnings.warn(\n"
     ]
    },
    {
     "name": "stdout",
     "output_type": "stream",
     "text": [
      "---Naive Bayes--- 0.8914285714285715 GaussianProcessClassifier(kernel=1**2 * RBF(length_scale=1), random_state=42)\n",
      "* 0-----------kfold--------------- 1 ------------\n"
     ]
    },
    {
     "name": "stderr",
     "output_type": "stream",
     "text": [
      "c:\\Users\\sbhuv\\AppData\\Local\\Programs\\Python\\Python38\\lib\\site-packages\\sklearn\\utils\\validation.py:1143: DataConversionWarning: A column-vector y was passed when a 1d array was expected. Please change the shape of y to (n_samples, ), for example using ravel().\n",
      "  y = column_or_1d(y, warn=True)\n",
      "c:\\Users\\sbhuv\\AppData\\Local\\Programs\\Python\\Python38\\lib\\site-packages\\sklearn\\gaussian_process\\kernels.py:420: ConvergenceWarning: The optimal value found for dimension 0 of parameter k2__noise_level is close to the specified lower bound 1e-05. Decreasing the bound and calling fit again may find a better value.\n",
      "  warnings.warn(\n",
      "c:\\Users\\sbhuv\\AppData\\Local\\Programs\\Python\\Python38\\lib\\site-packages\\sklearn\\gaussian_process\\kernels.py:420: ConvergenceWarning: The optimal value found for dimension 0 of parameter k2__noise_level is close to the specified lower bound 1e-05. Decreasing the bound and calling fit again may find a better value.\n",
      "  warnings.warn(\n",
      "c:\\Users\\sbhuv\\AppData\\Local\\Programs\\Python\\Python38\\lib\\site-packages\\sklearn\\gaussian_process\\kernels.py:420: ConvergenceWarning: The optimal value found for dimension 0 of parameter k2__noise_level is close to the specified lower bound 1e-05. Decreasing the bound and calling fit again may find a better value.\n",
      "  warnings.warn(\n",
      "c:\\Users\\sbhuv\\AppData\\Local\\Programs\\Python\\Python38\\lib\\site-packages\\sklearn\\utils\\validation.py:1143: DataConversionWarning: A column-vector y was passed when a 1d array was expected. Please change the shape of y to (n_samples, ), for example using ravel().\n",
      "  y = column_or_1d(y, warn=True)\n"
     ]
    },
    {
     "name": "stdout",
     "output_type": "stream",
     "text": [
      "* 1-----------kfold--------------- 2 ------------\n"
     ]
    },
    {
     "name": "stderr",
     "output_type": "stream",
     "text": [
      "c:\\Users\\sbhuv\\AppData\\Local\\Programs\\Python\\Python38\\lib\\site-packages\\sklearn\\gaussian_process\\kernels.py:420: ConvergenceWarning: The optimal value found for dimension 0 of parameter k2__noise_level is close to the specified lower bound 1e-05. Decreasing the bound and calling fit again may find a better value.\n",
      "  warnings.warn(\n",
      "c:\\Users\\sbhuv\\AppData\\Local\\Programs\\Python\\Python38\\lib\\site-packages\\sklearn\\gaussian_process\\kernels.py:420: ConvergenceWarning: The optimal value found for dimension 0 of parameter k2__noise_level is close to the specified lower bound 1e-05. Decreasing the bound and calling fit again may find a better value.\n",
      "  warnings.warn(\n",
      "c:\\Users\\sbhuv\\AppData\\Local\\Programs\\Python\\Python38\\lib\\site-packages\\sklearn\\gaussian_process\\kernels.py:420: ConvergenceWarning: The optimal value found for dimension 0 of parameter k2__noise_level is close to the specified lower bound 1e-05. Decreasing the bound and calling fit again may find a better value.\n",
      "  warnings.warn(\n",
      "c:\\Users\\sbhuv\\AppData\\Local\\Programs\\Python\\Python38\\lib\\site-packages\\sklearn\\gaussian_process\\kernels.py:420: ConvergenceWarning: The optimal value found for dimension 0 of parameter k2__noise_level is close to the specified lower bound 1e-05. Decreasing the bound and calling fit again may find a better value.\n",
      "  warnings.warn(\n",
      "c:\\Users\\sbhuv\\AppData\\Local\\Programs\\Python\\Python38\\lib\\site-packages\\sklearn\\gaussian_process\\kernels.py:420: ConvergenceWarning: The optimal value found for dimension 0 of parameter k2__noise_level is close to the specified lower bound 1e-05. Decreasing the bound and calling fit again may find a better value.\n",
      "  warnings.warn(\n",
      "c:\\Users\\sbhuv\\AppData\\Local\\Programs\\Python\\Python38\\lib\\site-packages\\sklearn\\utils\\validation.py:1143: DataConversionWarning: A column-vector y was passed when a 1d array was expected. Please change the shape of y to (n_samples, ), for example using ravel().\n",
      "  y = column_or_1d(y, warn=True)\n"
     ]
    },
    {
     "name": "stdout",
     "output_type": "stream",
     "text": [
      "* 2*\n",
      "{'copy_X_train': True, 'kernel__k1': 1**2, 'kernel__k2': RBF(length_scale=1), 'kernel__k1__constant_value': 1.0, 'kernel__k1__constant_value_bounds': (1e-05, 100000.0), 'kernel__k2__length_scale': 1.0, 'kernel__k2__length_scale_bounds': (1e-05, 100000.0), 'kernel': 1**2 * RBF(length_scale=1), 'max_iter_predict': 100, 'multi_class': 'one_vs_rest', 'n_jobs': None, 'n_restarts_optimizer': 0, 'optimizer': 'fmin_l_bfgs_b', 'random_state': 42, 'warm_start': False}\n",
      "------run_cv runs successfully------------\n",
      "++++++++++++save_confusion_matrix++++++++++++\n"
     ]
    },
    {
     "name": "stderr",
     "output_type": "stream",
     "text": [
      "Classificationv3.py:353: UserWarning: FixedFormatter should only be used together with FixedLocator\n",
      "  axs[i].set_xticklabels([''] + ['0', '1'], fontsize='xx-large')\n",
      "Classificationv3.py:354: UserWarning: FixedFormatter should only be used together with FixedLocator\n",
      "  axs[i].set_yticklabels([''] + ['0', '1'], fontsize='xx-large')\n"
     ]
    },
    {
     "name": "stdout",
     "output_type": "stream",
     "text": [
      "++++++++++++save_confusion_matrix end++++++++++++\n",
      "(((((((((((((((((((((( draw droc ))))))))))))))))))))))))))))))\n",
      "(((((((( draw droc end ))))))))\n",
      "~~~~~~~~~~~~~~~~~ SB-070 ~~~~~~~~~~~~~~~~~~~~~~\n",
      "~~~~~~~~~~ Number of instances before balancing:  134  ~~~~~~~~~~\n",
      "~~~~~~~ Training Loss: 0.01770486682653427  ~~~~~~~\n",
      "~~~~~~~ Validation Loss: 0.026961101219058037  ~~~~~~~\n",
      "2/2 [==============================] - 0s 5ms/step\n",
      "~~~~~~~ value_counts: ~~~~~~~\n",
      "1    101\n",
      "0     66\n",
      "Name: class, dtype: int64\n",
      "~~~~~~~~~~ Number of instances after balancing:  167  ~~~~~~~~~~\n",
      "~~~~~~~~~~ Number of instances before balancing:  135  ~~~~~~~~~~\n",
      "~~~~~~~ Training Loss: 0.012606075033545494  ~~~~~~~\n",
      "~~~~~~~ Validation Loss: 0.0227113738656044  ~~~~~~~\n",
      "2/2 [==============================] - 0s 4ms/step\n",
      "~~~~~~~ value_counts: ~~~~~~~\n",
      "1    91\n",
      "0    88\n",
      "Name: class, dtype: int64\n",
      "~~~~~~~~~~ Number of instances after balancing:  179  ~~~~~~~~~~\n",
      "~~~~~~~~~~ Number of instances before balancing:  135  ~~~~~~~~~~\n",
      "~~~~~~~ Training Loss: 0.010064439848065376  ~~~~~~~\n",
      "~~~~~~~ Validation Loss: 0.01210156362503767  ~~~~~~~\n",
      "2/2 [==============================] - 0s 4ms/step\n",
      "~~~~~~~ value_counts: ~~~~~~~\n",
      "1    92\n",
      "0    86\n",
      "Name: class, dtype: int64\n",
      "~~~~~~~~~~ Number of instances after balancing:  178  ~~~~~~~~~~\n",
      "~~~~~~~~~~ Naive Bayes ~~~~~~~~~~~~~~~\n",
      "-----------kfold--------------- 0 ------------\n",
      "---Naive Bayes--- 0.6773618538324421 GaussianProcessClassifier(kernel=1**2 * RBF(length_scale=1), random_state=42)\n",
      "* 0-----------kfold--------------- 1 ------------\n"
     ]
    },
    {
     "name": "stderr",
     "output_type": "stream",
     "text": [
      "c:\\Users\\sbhuv\\AppData\\Local\\Programs\\Python\\Python38\\lib\\site-packages\\sklearn\\utils\\validation.py:1143: DataConversionWarning: A column-vector y was passed when a 1d array was expected. Please change the shape of y to (n_samples, ), for example using ravel().\n",
      "  y = column_or_1d(y, warn=True)\n",
      "c:\\Users\\sbhuv\\AppData\\Local\\Programs\\Python\\Python38\\lib\\site-packages\\sklearn\\gaussian_process\\kernels.py:420: ConvergenceWarning: The optimal value found for dimension 0 of parameter k2__noise_level is close to the specified lower bound 1e-05. Decreasing the bound and calling fit again may find a better value.\n",
      "  warnings.warn(\n",
      "c:\\Users\\sbhuv\\AppData\\Local\\Programs\\Python\\Python38\\lib\\site-packages\\sklearn\\gaussian_process\\kernels.py:420: ConvergenceWarning: The optimal value found for dimension 0 of parameter k2__noise_level is close to the specified lower bound 1e-05. Decreasing the bound and calling fit again may find a better value.\n",
      "  warnings.warn(\n",
      "c:\\Users\\sbhuv\\AppData\\Local\\Programs\\Python\\Python38\\lib\\site-packages\\sklearn\\gaussian_process\\kernels.py:420: ConvergenceWarning: The optimal value found for dimension 0 of parameter k2__noise_level is close to the specified lower bound 1e-05. Decreasing the bound and calling fit again may find a better value.\n",
      "  warnings.warn(\n",
      "c:\\Users\\sbhuv\\AppData\\Local\\Programs\\Python\\Python38\\lib\\site-packages\\sklearn\\gaussian_process\\kernels.py:420: ConvergenceWarning: The optimal value found for dimension 0 of parameter k2__noise_level is close to the specified lower bound 1e-05. Decreasing the bound and calling fit again may find a better value.\n",
      "  warnings.warn(\n",
      "c:\\Users\\sbhuv\\AppData\\Local\\Programs\\Python\\Python38\\lib\\site-packages\\sklearn\\gaussian_process\\kernels.py:420: ConvergenceWarning: The optimal value found for dimension 0 of parameter k2__noise_level is close to the specified lower bound 1e-05. Decreasing the bound and calling fit again may find a better value.\n",
      "  warnings.warn(\n"
     ]
    },
    {
     "name": "stdout",
     "output_type": "stream",
     "text": [
      "---Naive Bayes--- 0.7711111111111112 GaussianProcessClassifier(kernel=1**2 * RBF(length_scale=1), random_state=42)\n"
     ]
    },
    {
     "name": "stderr",
     "output_type": "stream",
     "text": [
      "c:\\Users\\sbhuv\\AppData\\Local\\Programs\\Python\\Python38\\lib\\site-packages\\sklearn\\utils\\validation.py:1143: DataConversionWarning: A column-vector y was passed when a 1d array was expected. Please change the shape of y to (n_samples, ), for example using ravel().\n",
      "  y = column_or_1d(y, warn=True)\n"
     ]
    },
    {
     "name": "stdout",
     "output_type": "stream",
     "text": [
      "* 1-----------kfold--------------- 2 ------------\n"
     ]
    },
    {
     "name": "stderr",
     "output_type": "stream",
     "text": [
      "c:\\Users\\sbhuv\\AppData\\Local\\Programs\\Python\\Python38\\lib\\site-packages\\sklearn\\gaussian_process\\kernels.py:420: ConvergenceWarning: The optimal value found for dimension 0 of parameter k2__noise_level is close to the specified lower bound 1e-05. Decreasing the bound and calling fit again may find a better value.\n",
      "  warnings.warn(\n",
      "c:\\Users\\sbhuv\\AppData\\Local\\Programs\\Python\\Python38\\lib\\site-packages\\sklearn\\gaussian_process\\kernels.py:420: ConvergenceWarning: The optimal value found for dimension 0 of parameter k2__noise_level is close to the specified lower bound 1e-05. Decreasing the bound and calling fit again may find a better value.\n",
      "  warnings.warn(\n",
      "c:\\Users\\sbhuv\\AppData\\Local\\Programs\\Python\\Python38\\lib\\site-packages\\sklearn\\utils\\validation.py:1143: DataConversionWarning: A column-vector y was passed when a 1d array was expected. Please change the shape of y to (n_samples, ), for example using ravel().\n",
      "  y = column_or_1d(y, warn=True)\n"
     ]
    },
    {
     "name": "stdout",
     "output_type": "stream",
     "text": [
      "* 2*\n",
      "{'copy_X_train': True, 'kernel__k1': 1**2, 'kernel__k2': RBF(length_scale=1), 'kernel__k1__constant_value': 1.0, 'kernel__k1__constant_value_bounds': (1e-05, 100000.0), 'kernel__k2__length_scale': 1.0, 'kernel__k2__length_scale_bounds': (1e-05, 100000.0), 'kernel': 1**2 * RBF(length_scale=1), 'max_iter_predict': 100, 'multi_class': 'one_vs_rest', 'n_jobs': None, 'n_restarts_optimizer': 0, 'optimizer': 'fmin_l_bfgs_b', 'random_state': 42, 'warm_start': False}\n",
      "------run_cv runs successfully------------\n",
      "++++++++++++save_confusion_matrix++++++++++++\n"
     ]
    },
    {
     "name": "stderr",
     "output_type": "stream",
     "text": [
      "Classificationv3.py:353: UserWarning: FixedFormatter should only be used together with FixedLocator\n",
      "  axs[i].set_xticklabels([''] + ['0', '1'], fontsize='xx-large')\n",
      "Classificationv3.py:354: UserWarning: FixedFormatter should only be used together with FixedLocator\n",
      "  axs[i].set_yticklabels([''] + ['0', '1'], fontsize='xx-large')\n"
     ]
    },
    {
     "name": "stdout",
     "output_type": "stream",
     "text": [
      "++++++++++++save_confusion_matrix end++++++++++++\n",
      "(((((((((((((((((((((( draw droc ))))))))))))))))))))))))))))))\n",
      "(((((((( draw droc end ))))))))\n",
      "~~~~~~~~~~~~~~~~~ SB-071 ~~~~~~~~~~~~~~~~~~~~~~\n",
      "~~~~~~~~~~ Number of instances before balancing:  82  ~~~~~~~~~~\n",
      "~~~~~~~ Training Loss: 0.010940713807940483  ~~~~~~~\n",
      "~~~~~~~ Validation Loss: 0.024096401408314705  ~~~~~~~\n",
      "1/1 [==============================] - 0s 124ms/step\n",
      "~~~~~~~ value_counts: ~~~~~~~\n",
      "1    69\n",
      "0    26\n",
      "Name: class, dtype: int64\n",
      "~~~~~~~~~~ Number of instances after balancing:  95  ~~~~~~~~~~\n",
      "~~~~~~~~~~ Number of instances before balancing:  83  ~~~~~~~~~~\n",
      "~~~~~~~ Training Loss: 0.020626813173294067  ~~~~~~~\n",
      "~~~~~~~ Validation Loss: 0.03296643868088722  ~~~~~~~\n",
      "1/1 [==============================] - 0s 150ms/step\n",
      "~~~~~~~ value_counts: ~~~~~~~\n",
      "1    73\n",
      "0    20\n",
      "Name: class, dtype: int64\n",
      "~~~~~~~~~~ Number of instances after balancing:  93  ~~~~~~~~~~\n",
      "~~~~~~~~~~ Number of instances before balancing:  83  ~~~~~~~~~~\n",
      "~~~~~~~ Training Loss: 0.016848817467689514  ~~~~~~~\n",
      "~~~~~~~ Validation Loss: 0.026365967467427254  ~~~~~~~\n",
      "1/1 [==============================] - 0s 144ms/step\n",
      "~~~~~~~ value_counts: ~~~~~~~\n",
      "1    68\n",
      "0    30\n",
      "Name: class, dtype: int64\n",
      "~~~~~~~~~~ Number of instances after balancing:  98  ~~~~~~~~~~\n",
      "~~~~~~~~~~ Naive Bayes ~~~~~~~~~~~~~~~\n",
      "-----------kfold--------------- 0 ------------\n"
     ]
    },
    {
     "name": "stderr",
     "output_type": "stream",
     "text": [
      "c:\\Users\\sbhuv\\AppData\\Local\\Programs\\Python\\Python38\\lib\\site-packages\\sklearn\\gaussian_process\\kernels.py:420: ConvergenceWarning: The optimal value found for dimension 0 of parameter k2__noise_level is close to the specified lower bound 1e-05. Decreasing the bound and calling fit again may find a better value.\n",
      "  warnings.warn(\n",
      "c:\\Users\\sbhuv\\AppData\\Local\\Programs\\Python\\Python38\\lib\\site-packages\\sklearn\\gaussian_process\\kernels.py:420: ConvergenceWarning: The optimal value found for dimension 0 of parameter k2__noise_level is close to the specified lower bound 1e-05. Decreasing the bound and calling fit again may find a better value.\n",
      "  warnings.warn(\n",
      "c:\\Users\\sbhuv\\AppData\\Local\\Programs\\Python\\Python38\\lib\\site-packages\\sklearn\\gaussian_process\\kernels.py:420: ConvergenceWarning: The optimal value found for dimension 0 of parameter k2__noise_level is close to the specified lower bound 1e-05. Decreasing the bound and calling fit again may find a better value.\n",
      "  warnings.warn(\n"
     ]
    },
    {
     "name": "stdout",
     "output_type": "stream",
     "text": [
      "---Naive Bayes--- 0.8105263157894737 GaussianProcessClassifier(kernel=1**2 * RBF(length_scale=1), random_state=42)\n",
      "* 0-----------kfold--------------- 1 ------------\n"
     ]
    },
    {
     "name": "stderr",
     "output_type": "stream",
     "text": [
      "c:\\Users\\sbhuv\\AppData\\Local\\Programs\\Python\\Python38\\lib\\site-packages\\sklearn\\utils\\validation.py:1143: DataConversionWarning: A column-vector y was passed when a 1d array was expected. Please change the shape of y to (n_samples, ), for example using ravel().\n",
      "  y = column_or_1d(y, warn=True)\n",
      "c:\\Users\\sbhuv\\AppData\\Local\\Programs\\Python\\Python38\\lib\\site-packages\\sklearn\\gaussian_process\\kernels.py:420: ConvergenceWarning: The optimal value found for dimension 0 of parameter k2__noise_level is close to the specified lower bound 1e-05. Decreasing the bound and calling fit again may find a better value.\n",
      "  warnings.warn(\n",
      "c:\\Users\\sbhuv\\AppData\\Local\\Programs\\Python\\Python38\\lib\\site-packages\\sklearn\\gaussian_process\\kernels.py:420: ConvergenceWarning: The optimal value found for dimension 0 of parameter k2__noise_level is close to the specified lower bound 1e-05. Decreasing the bound and calling fit again may find a better value.\n",
      "  warnings.warn(\n"
     ]
    },
    {
     "name": "stdout",
     "output_type": "stream",
     "text": [
      "---Naive Bayes--- 0.8812865497076023 GaussianProcessClassifier(kernel=1**2 * RBF(length_scale=1), random_state=42)\n"
     ]
    },
    {
     "name": "stderr",
     "output_type": "stream",
     "text": [
      "c:\\Users\\sbhuv\\AppData\\Local\\Programs\\Python\\Python38\\lib\\site-packages\\sklearn\\utils\\validation.py:1143: DataConversionWarning: A column-vector y was passed when a 1d array was expected. Please change the shape of y to (n_samples, ), for example using ravel().\n",
      "  y = column_or_1d(y, warn=True)\n"
     ]
    },
    {
     "name": "stdout",
     "output_type": "stream",
     "text": [
      "* 1-----------kfold--------------- 2 ------------\n"
     ]
    },
    {
     "name": "stderr",
     "output_type": "stream",
     "text": [
      "c:\\Users\\sbhuv\\AppData\\Local\\Programs\\Python\\Python38\\lib\\site-packages\\sklearn\\utils\\validation.py:1143: DataConversionWarning: A column-vector y was passed when a 1d array was expected. Please change the shape of y to (n_samples, ), for example using ravel().\n",
      "  y = column_or_1d(y, warn=True)\n"
     ]
    },
    {
     "name": "stdout",
     "output_type": "stream",
     "text": [
      "* 2*\n",
      "{'copy_X_train': True, 'kernel__k1': 1**2, 'kernel__k2': RBF(length_scale=1), 'kernel__k1__constant_value': 1.0, 'kernel__k1__constant_value_bounds': (1e-05, 100000.0), 'kernel__k2__length_scale': 1.0, 'kernel__k2__length_scale_bounds': (1e-05, 100000.0), 'kernel': 1**2 * RBF(length_scale=1), 'max_iter_predict': 100, 'multi_class': 'one_vs_rest', 'n_jobs': None, 'n_restarts_optimizer': 0, 'optimizer': 'fmin_l_bfgs_b', 'random_state': 42, 'warm_start': False}\n",
      "------run_cv runs successfully------------\n",
      "++++++++++++save_confusion_matrix++++++++++++\n"
     ]
    },
    {
     "name": "stderr",
     "output_type": "stream",
     "text": [
      "Classificationv3.py:353: UserWarning: FixedFormatter should only be used together with FixedLocator\n",
      "  axs[i].set_xticklabels([''] + ['0', '1'], fontsize='xx-large')\n",
      "Classificationv3.py:354: UserWarning: FixedFormatter should only be used together with FixedLocator\n",
      "  axs[i].set_yticklabels([''] + ['0', '1'], fontsize='xx-large')\n"
     ]
    },
    {
     "name": "stdout",
     "output_type": "stream",
     "text": [
      "++++++++++++save_confusion_matrix end++++++++++++\n",
      "(((((((((((((((((((((( draw droc ))))))))))))))))))))))))))))))\n",
      "(((((((( draw droc end ))))))))\n",
      "~~~~~~~~~~~~~~~~~ SB-073 ~~~~~~~~~~~~~~~~~~~~~~\n",
      "~~~~~~~~~~ Number of instances before balancing:  107  ~~~~~~~~~~\n",
      "~~~~~~~ Training Loss: 0.0077707767486572266  ~~~~~~~\n",
      "~~~~~~~ Validation Loss: 0.016627034172415733  ~~~~~~~\n",
      "2/2 [==============================] - 0s 3ms/step\n",
      "~~~~~~~ value_counts: ~~~~~~~\n",
      "1    74\n",
      "0    66\n",
      "Name: class, dtype: int64\n",
      "~~~~~~~~~~ Number of instances after balancing:  140  ~~~~~~~~~~\n",
      "~~~~~~~~~~ Number of instances before balancing:  107  ~~~~~~~~~~\n",
      "~~~~~~~ Training Loss: 0.013823616318404675  ~~~~~~~\n",
      "~~~~~~~ Validation Loss: 0.02057361975312233  ~~~~~~~\n",
      "1/1 [==============================] - 0s 147ms/step\n",
      "~~~~~~~ value_counts: ~~~~~~~\n",
      "1    81\n",
      "0    52\n",
      "Name: class, dtype: int64\n",
      "~~~~~~~~~~ Number of instances after balancing:  133  ~~~~~~~~~~\n",
      "~~~~~~~~~~ Number of instances before balancing:  108  ~~~~~~~~~~\n",
      "~~~~~~~ Training Loss: 0.015030262991786003  ~~~~~~~\n",
      "~~~~~~~ Validation Loss: 0.025561489164829254  ~~~~~~~\n",
      "1/1 [==============================] - 0s 131ms/step\n",
      "~~~~~~~ value_counts: ~~~~~~~\n",
      "1    85\n",
      "0    46\n",
      "Name: class, dtype: int64\n",
      "~~~~~~~~~~ Number of instances after balancing:  131  ~~~~~~~~~~\n",
      "~~~~~~~~~~ Naive Bayes ~~~~~~~~~~~~~~~\n",
      "-----------kfold--------------- 0 ------------\n"
     ]
    },
    {
     "name": "stderr",
     "output_type": "stream",
     "text": [
      "c:\\Users\\sbhuv\\AppData\\Local\\Programs\\Python\\Python38\\lib\\site-packages\\sklearn\\gaussian_process\\kernels.py:420: ConvergenceWarning: The optimal value found for dimension 0 of parameter k2__noise_level is close to the specified lower bound 1e-05. Decreasing the bound and calling fit again may find a better value.\n",
      "  warnings.warn(\n",
      "c:\\Users\\sbhuv\\AppData\\Local\\Programs\\Python\\Python38\\lib\\site-packages\\sklearn\\gaussian_process\\kernels.py:420: ConvergenceWarning: The optimal value found for dimension 0 of parameter k2__noise_level is close to the specified lower bound 1e-05. Decreasing the bound and calling fit again may find a better value.\n",
      "  warnings.warn(\n",
      "c:\\Users\\sbhuv\\AppData\\Local\\Programs\\Python\\Python38\\lib\\site-packages\\sklearn\\gaussian_process\\kernels.py:420: ConvergenceWarning: The optimal value found for dimension 0 of parameter k2__noise_level is close to the specified lower bound 1e-05. Decreasing the bound and calling fit again may find a better value.\n",
      "  warnings.warn(\n",
      "c:\\Users\\sbhuv\\AppData\\Local\\Programs\\Python\\Python38\\lib\\site-packages\\sklearn\\gaussian_process\\kernels.py:420: ConvergenceWarning: The optimal value found for dimension 0 of parameter k2__noise_level is close to the specified lower bound 1e-05. Decreasing the bound and calling fit again may find a better value.\n",
      "  warnings.warn(\n",
      "c:\\Users\\sbhuv\\AppData\\Local\\Programs\\Python\\Python38\\lib\\site-packages\\sklearn\\gaussian_process\\kernels.py:420: ConvergenceWarning: The optimal value found for dimension 0 of parameter k2__noise_level is close to the specified lower bound 1e-05. Decreasing the bound and calling fit again may find a better value.\n",
      "  warnings.warn(\n"
     ]
    },
    {
     "name": "stdout",
     "output_type": "stream",
     "text": [
      "---Naive Bayes--- 0.75 GaussianProcessClassifier(kernel=1**2 * RBF(length_scale=1), random_state=42)\n"
     ]
    },
    {
     "name": "stderr",
     "output_type": "stream",
     "text": [
      "c:\\Users\\sbhuv\\AppData\\Local\\Programs\\Python\\Python38\\lib\\site-packages\\sklearn\\utils\\validation.py:1143: DataConversionWarning: A column-vector y was passed when a 1d array was expected. Please change the shape of y to (n_samples, ), for example using ravel().\n",
      "  y = column_or_1d(y, warn=True)\n"
     ]
    },
    {
     "name": "stdout",
     "output_type": "stream",
     "text": [
      "* 0-----------kfold--------------- 1 ------------\n"
     ]
    },
    {
     "name": "stderr",
     "output_type": "stream",
     "text": [
      "c:\\Users\\sbhuv\\AppData\\Local\\Programs\\Python\\Python38\\lib\\site-packages\\sklearn\\gaussian_process\\kernels.py:420: ConvergenceWarning: The optimal value found for dimension 0 of parameter k2__noise_level is close to the specified lower bound 1e-05. Decreasing the bound and calling fit again may find a better value.\n",
      "  warnings.warn(\n",
      "c:\\Users\\sbhuv\\AppData\\Local\\Programs\\Python\\Python38\\lib\\site-packages\\sklearn\\gaussian_process\\kernels.py:420: ConvergenceWarning: The optimal value found for dimension 0 of parameter k2__noise_level is close to the specified lower bound 1e-05. Decreasing the bound and calling fit again may find a better value.\n",
      "  warnings.warn(\n",
      "c:\\Users\\sbhuv\\AppData\\Local\\Programs\\Python\\Python38\\lib\\site-packages\\sklearn\\gaussian_process\\kernels.py:420: ConvergenceWarning: The optimal value found for dimension 0 of parameter k2__noise_level is close to the specified lower bound 1e-05. Decreasing the bound and calling fit again may find a better value.\n",
      "  warnings.warn(\n",
      "c:\\Users\\sbhuv\\AppData\\Local\\Programs\\Python\\Python38\\lib\\site-packages\\sklearn\\gaussian_process\\kernels.py:420: ConvergenceWarning: The optimal value found for dimension 0 of parameter k2__noise_level is close to the specified lower bound 1e-05. Decreasing the bound and calling fit again may find a better value.\n",
      "  warnings.warn(\n",
      "c:\\Users\\sbhuv\\AppData\\Local\\Programs\\Python\\Python38\\lib\\site-packages\\sklearn\\gaussian_process\\kernels.py:420: ConvergenceWarning: The optimal value found for dimension 0 of parameter k2__noise_level is close to the specified lower bound 1e-05. Decreasing the bound and calling fit again may find a better value.\n",
      "  warnings.warn(\n"
     ]
    },
    {
     "name": "stdout",
     "output_type": "stream",
     "text": [
      "---Naive Bayes--- 0.7888888888888888 GaussianProcessClassifier(kernel=1**2 * RBF(length_scale=1), random_state=42)\n"
     ]
    },
    {
     "name": "stderr",
     "output_type": "stream",
     "text": [
      "c:\\Users\\sbhuv\\AppData\\Local\\Programs\\Python\\Python38\\lib\\site-packages\\sklearn\\utils\\validation.py:1143: DataConversionWarning: A column-vector y was passed when a 1d array was expected. Please change the shape of y to (n_samples, ), for example using ravel().\n",
      "  y = column_or_1d(y, warn=True)\n"
     ]
    },
    {
     "name": "stdout",
     "output_type": "stream",
     "text": [
      "* 1-----------kfold--------------- 2 ------------\n"
     ]
    },
    {
     "name": "stderr",
     "output_type": "stream",
     "text": [
      "c:\\Users\\sbhuv\\AppData\\Local\\Programs\\Python\\Python38\\lib\\site-packages\\sklearn\\gaussian_process\\kernels.py:420: ConvergenceWarning: The optimal value found for dimension 0 of parameter k2__noise_level is close to the specified lower bound 1e-05. Decreasing the bound and calling fit again may find a better value.\n",
      "  warnings.warn(\n",
      "c:\\Users\\sbhuv\\AppData\\Local\\Programs\\Python\\Python38\\lib\\site-packages\\sklearn\\gaussian_process\\kernels.py:420: ConvergenceWarning: The optimal value found for dimension 0 of parameter k2__noise_level is close to the specified lower bound 1e-05. Decreasing the bound and calling fit again may find a better value.\n",
      "  warnings.warn(\n",
      "c:\\Users\\sbhuv\\AppData\\Local\\Programs\\Python\\Python38\\lib\\site-packages\\sklearn\\gaussian_process\\kernels.py:420: ConvergenceWarning: The optimal value found for dimension 0 of parameter k2__noise_level is close to the specified lower bound 1e-05. Decreasing the bound and calling fit again may find a better value.\n",
      "  warnings.warn(\n",
      "c:\\Users\\sbhuv\\AppData\\Local\\Programs\\Python\\Python38\\lib\\site-packages\\sklearn\\gaussian_process\\kernels.py:420: ConvergenceWarning: The optimal value found for dimension 0 of parameter k2__noise_level is close to the specified lower bound 1e-05. Decreasing the bound and calling fit again may find a better value.\n",
      "  warnings.warn(\n",
      "c:\\Users\\sbhuv\\AppData\\Local\\Programs\\Python\\Python38\\lib\\site-packages\\sklearn\\gaussian_process\\kernels.py:420: ConvergenceWarning: The optimal value found for dimension 0 of parameter k2__noise_level is close to the specified lower bound 1e-05. Decreasing the bound and calling fit again may find a better value.\n",
      "  warnings.warn(\n"
     ]
    },
    {
     "name": "stdout",
     "output_type": "stream",
     "text": [
      "---Naive Bayes--- 0.8398860398860399 GaussianProcessClassifier(kernel=1**2 * RBF(length_scale=1), random_state=42)\n"
     ]
    },
    {
     "name": "stderr",
     "output_type": "stream",
     "text": [
      "c:\\Users\\sbhuv\\AppData\\Local\\Programs\\Python\\Python38\\lib\\site-packages\\sklearn\\utils\\validation.py:1143: DataConversionWarning: A column-vector y was passed when a 1d array was expected. Please change the shape of y to (n_samples, ), for example using ravel().\n",
      "  y = column_or_1d(y, warn=True)\n"
     ]
    },
    {
     "name": "stdout",
     "output_type": "stream",
     "text": [
      "* 2*\n",
      "{'copy_X_train': True, 'kernel__k1': 1**2, 'kernel__k2': RBF(length_scale=1), 'kernel__k1__constant_value': 1.0, 'kernel__k1__constant_value_bounds': (1e-05, 100000.0), 'kernel__k2__length_scale': 1.0, 'kernel__k2__length_scale_bounds': (1e-05, 100000.0), 'kernel': 1**2 * RBF(length_scale=1), 'max_iter_predict': 100, 'multi_class': 'one_vs_rest', 'n_jobs': None, 'n_restarts_optimizer': 0, 'optimizer': 'fmin_l_bfgs_b', 'random_state': 42, 'warm_start': False}\n",
      "------run_cv runs successfully------------\n",
      "++++++++++++save_confusion_matrix++++++++++++\n"
     ]
    },
    {
     "name": "stderr",
     "output_type": "stream",
     "text": [
      "Classificationv3.py:353: UserWarning: FixedFormatter should only be used together with FixedLocator\n",
      "  axs[i].set_xticklabels([''] + ['0', '1'], fontsize='xx-large')\n",
      "Classificationv3.py:354: UserWarning: FixedFormatter should only be used together with FixedLocator\n",
      "  axs[i].set_yticklabels([''] + ['0', '1'], fontsize='xx-large')\n"
     ]
    },
    {
     "name": "stdout",
     "output_type": "stream",
     "text": [
      "++++++++++++save_confusion_matrix end++++++++++++\n",
      "(((((((((((((((((((((( draw droc ))))))))))))))))))))))))))))))\n",
      "(((((((( draw droc end ))))))))\n",
      "~~~~~~~~~~~~~~~~~ SB-078 ~~~~~~~~~~~~~~~~~~~~~~\n",
      "~~~~~~~~~~ Number of instances before balancing:  102  ~~~~~~~~~~\n",
      "~~~~~~~ Training Loss: 0.017389286309480667  ~~~~~~~\n",
      "~~~~~~~ Validation Loss: 0.02567310258746147  ~~~~~~~\n",
      "1/1 [==============================] - 0s 122ms/step\n",
      "~~~~~~~ value_counts: ~~~~~~~\n",
      "1    71\n",
      "0    62\n",
      "Name: class, dtype: int64\n",
      "~~~~~~~~~~ Number of instances after balancing:  133  ~~~~~~~~~~\n",
      "~~~~~~~~~~ Number of instances before balancing:  102  ~~~~~~~~~~\n",
      "~~~~~~~ Training Loss: 0.011886266991496086  ~~~~~~~\n",
      "~~~~~~~ Validation Loss: 0.020459473133087158  ~~~~~~~\n",
      "1/1 [==============================] - 0s 115ms/step\n",
      "~~~~~~~ value_counts: ~~~~~~~\n",
      "1    74\n",
      "0    56\n",
      "Name: class, dtype: int64\n",
      "~~~~~~~~~~ Number of instances after balancing:  130  ~~~~~~~~~~\n",
      "~~~~~~~~~~ Number of instances before balancing:  102  ~~~~~~~~~~\n",
      "~~~~~~~ Training Loss: 0.017231101170182228  ~~~~~~~\n",
      "~~~~~~~ Validation Loss: 0.01632843166589737  ~~~~~~~\n",
      "2/2 [==============================] - 0s 4ms/step\n",
      "~~~~~~~ value_counts: ~~~~~~~\n",
      "1    69\n",
      "0    66\n",
      "Name: class, dtype: int64\n",
      "~~~~~~~~~~ Number of instances after balancing:  135  ~~~~~~~~~~\n",
      "~~~~~~~~~~ Naive Bayes ~~~~~~~~~~~~~~~\n",
      "-----------kfold--------------- 0 ------------\n"
     ]
    },
    {
     "name": "stderr",
     "output_type": "stream",
     "text": [
      "c:\\Users\\sbhuv\\AppData\\Local\\Programs\\Python\\Python38\\lib\\site-packages\\sklearn\\gaussian_process\\kernels.py:420: ConvergenceWarning: The optimal value found for dimension 0 of parameter k2__noise_level is close to the specified lower bound 1e-05. Decreasing the bound and calling fit again may find a better value.\n",
      "  warnings.warn(\n",
      "c:\\Users\\sbhuv\\AppData\\Local\\Programs\\Python\\Python38\\lib\\site-packages\\sklearn\\gaussian_process\\kernels.py:420: ConvergenceWarning: The optimal value found for dimension 0 of parameter k2__noise_level is close to the specified lower bound 1e-05. Decreasing the bound and calling fit again may find a better value.\n",
      "  warnings.warn(\n",
      "c:\\Users\\sbhuv\\AppData\\Local\\Programs\\Python\\Python38\\lib\\site-packages\\sklearn\\gaussian_process\\kernels.py:420: ConvergenceWarning: The optimal value found for dimension 0 of parameter k2__noise_level is close to the specified lower bound 1e-05. Decreasing the bound and calling fit again may find a better value.\n",
      "  warnings.warn(\n",
      "c:\\Users\\sbhuv\\AppData\\Local\\Programs\\Python\\Python38\\lib\\site-packages\\sklearn\\gaussian_process\\kernels.py:420: ConvergenceWarning: The optimal value found for dimension 0 of parameter k2__noise_level is close to the specified lower bound 1e-05. Decreasing the bound and calling fit again may find a better value.\n",
      "  warnings.warn(\n",
      "c:\\Users\\sbhuv\\AppData\\Local\\Programs\\Python\\Python38\\lib\\site-packages\\sklearn\\gaussian_process\\kernels.py:420: ConvergenceWarning: The optimal value found for dimension 0 of parameter k2__noise_level is close to the specified lower bound 1e-05. Decreasing the bound and calling fit again may find a better value.\n",
      "  warnings.warn(\n"
     ]
    },
    {
     "name": "stdout",
     "output_type": "stream",
     "text": [
      "---Naive Bayes--- 0.8193732193732194 GaussianProcessClassifier(kernel=1**2 * RBF(length_scale=1), random_state=42)\n"
     ]
    },
    {
     "name": "stderr",
     "output_type": "stream",
     "text": [
      "c:\\Users\\sbhuv\\AppData\\Local\\Programs\\Python\\Python38\\lib\\site-packages\\sklearn\\utils\\validation.py:1143: DataConversionWarning: A column-vector y was passed when a 1d array was expected. Please change the shape of y to (n_samples, ), for example using ravel().\n",
      "  y = column_or_1d(y, warn=True)\n"
     ]
    },
    {
     "name": "stdout",
     "output_type": "stream",
     "text": [
      "* 0-----------kfold--------------- 1 ------------\n"
     ]
    },
    {
     "name": "stderr",
     "output_type": "stream",
     "text": [
      "c:\\Users\\sbhuv\\AppData\\Local\\Programs\\Python\\Python38\\lib\\site-packages\\sklearn\\gaussian_process\\kernels.py:420: ConvergenceWarning: The optimal value found for dimension 0 of parameter k2__noise_level is close to the specified lower bound 1e-05. Decreasing the bound and calling fit again may find a better value.\n",
      "  warnings.warn(\n",
      "c:\\Users\\sbhuv\\AppData\\Local\\Programs\\Python\\Python38\\lib\\site-packages\\sklearn\\gaussian_process\\kernels.py:420: ConvergenceWarning: The optimal value found for dimension 0 of parameter k2__noise_level is close to the specified lower bound 1e-05. Decreasing the bound and calling fit again may find a better value.\n",
      "  warnings.warn(\n",
      "c:\\Users\\sbhuv\\AppData\\Local\\Programs\\Python\\Python38\\lib\\site-packages\\sklearn\\gaussian_process\\kernels.py:420: ConvergenceWarning: The optimal value found for dimension 0 of parameter k2__noise_level is close to the specified lower bound 1e-05. Decreasing the bound and calling fit again may find a better value.\n",
      "  warnings.warn(\n",
      "c:\\Users\\sbhuv\\AppData\\Local\\Programs\\Python\\Python38\\lib\\site-packages\\sklearn\\gaussian_process\\kernels.py:420: ConvergenceWarning: The optimal value found for dimension 0 of parameter k2__noise_level is close to the specified lower bound 1e-05. Decreasing the bound and calling fit again may find a better value.\n",
      "  warnings.warn(\n",
      "c:\\Users\\sbhuv\\AppData\\Local\\Programs\\Python\\Python38\\lib\\site-packages\\sklearn\\gaussian_process\\kernels.py:420: ConvergenceWarning: The optimal value found for dimension 0 of parameter k2__noise_level is close to the specified lower bound 1e-05. Decreasing the bound and calling fit again may find a better value.\n",
      "  warnings.warn(\n",
      "c:\\Users\\sbhuv\\AppData\\Local\\Programs\\Python\\Python38\\lib\\site-packages\\sklearn\\utils\\validation.py:1143: DataConversionWarning: A column-vector y was passed when a 1d array was expected. Please change the shape of y to (n_samples, ), for example using ravel().\n",
      "  y = column_or_1d(y, warn=True)\n"
     ]
    },
    {
     "name": "stdout",
     "output_type": "stream",
     "text": [
      "* 1-----------kfold--------------- 2 ------------\n"
     ]
    },
    {
     "name": "stderr",
     "output_type": "stream",
     "text": [
      "c:\\Users\\sbhuv\\AppData\\Local\\Programs\\Python\\Python38\\lib\\site-packages\\sklearn\\gaussian_process\\kernels.py:420: ConvergenceWarning: The optimal value found for dimension 0 of parameter k2__noise_level is close to the specified lower bound 1e-05. Decreasing the bound and calling fit again may find a better value.\n",
      "  warnings.warn(\n",
      "c:\\Users\\sbhuv\\AppData\\Local\\Programs\\Python\\Python38\\lib\\site-packages\\sklearn\\gaussian_process\\kernels.py:420: ConvergenceWarning: The optimal value found for dimension 0 of parameter k2__noise_level is close to the specified lower bound 1e-05. Decreasing the bound and calling fit again may find a better value.\n",
      "  warnings.warn(\n",
      "c:\\Users\\sbhuv\\AppData\\Local\\Programs\\Python\\Python38\\lib\\site-packages\\sklearn\\gaussian_process\\kernels.py:420: ConvergenceWarning: The optimal value found for dimension 0 of parameter k2__noise_level is close to the specified lower bound 1e-05. Decreasing the bound and calling fit again may find a better value.\n",
      "  warnings.warn(\n",
      "c:\\Users\\sbhuv\\AppData\\Local\\Programs\\Python\\Python38\\lib\\site-packages\\sklearn\\gaussian_process\\kernels.py:420: ConvergenceWarning: The optimal value found for dimension 0 of parameter k2__noise_level is close to the specified lower bound 1e-05. Decreasing the bound and calling fit again may find a better value.\n",
      "  warnings.warn(\n",
      "c:\\Users\\sbhuv\\AppData\\Local\\Programs\\Python\\Python38\\lib\\site-packages\\sklearn\\gaussian_process\\kernels.py:420: ConvergenceWarning: The optimal value found for dimension 0 of parameter k2__noise_level is close to the specified lower bound 1e-05. Decreasing the bound and calling fit again may find a better value.\n",
      "  warnings.warn(\n"
     ]
    },
    {
     "name": "stdout",
     "output_type": "stream",
     "text": [
      "---Naive Bayes--- 0.8222222222222223 GaussianProcessClassifier(kernel=1**2 * RBF(length_scale=1), random_state=42)\n"
     ]
    },
    {
     "name": "stderr",
     "output_type": "stream",
     "text": [
      "c:\\Users\\sbhuv\\AppData\\Local\\Programs\\Python\\Python38\\lib\\site-packages\\sklearn\\utils\\validation.py:1143: DataConversionWarning: A column-vector y was passed when a 1d array was expected. Please change the shape of y to (n_samples, ), for example using ravel().\n",
      "  y = column_or_1d(y, warn=True)\n"
     ]
    },
    {
     "name": "stdout",
     "output_type": "stream",
     "text": [
      "* 2*\n",
      "{'copy_X_train': True, 'kernel__k1': 1**2, 'kernel__k2': RBF(length_scale=1), 'kernel__k1__constant_value': 1.0, 'kernel__k1__constant_value_bounds': (1e-05, 100000.0), 'kernel__k2__length_scale': 1.0, 'kernel__k2__length_scale_bounds': (1e-05, 100000.0), 'kernel': 1**2 * RBF(length_scale=1), 'max_iter_predict': 100, 'multi_class': 'one_vs_rest', 'n_jobs': None, 'n_restarts_optimizer': 0, 'optimizer': 'fmin_l_bfgs_b', 'random_state': 42, 'warm_start': False}\n",
      "------run_cv runs successfully------------\n",
      "++++++++++++save_confusion_matrix++++++++++++\n"
     ]
    },
    {
     "name": "stderr",
     "output_type": "stream",
     "text": [
      "Classificationv3.py:353: UserWarning: FixedFormatter should only be used together with FixedLocator\n",
      "  axs[i].set_xticklabels([''] + ['0', '1'], fontsize='xx-large')\n",
      "Classificationv3.py:354: UserWarning: FixedFormatter should only be used together with FixedLocator\n",
      "  axs[i].set_yticklabels([''] + ['0', '1'], fontsize='xx-large')\n"
     ]
    },
    {
     "name": "stdout",
     "output_type": "stream",
     "text": [
      "++++++++++++save_confusion_matrix end++++++++++++\n",
      "(((((((((((((((((((((( draw droc ))))))))))))))))))))))))))))))\n",
      "(((((((( draw droc end ))))))))\n",
      "~~~~~~~~~~~~~~~~~ SB-079 ~~~~~~~~~~~~~~~~~~~~~~\n",
      "~~~~~~~~~~ Number of instances before balancing:  94  ~~~~~~~~~~\n",
      "~~~~~~~ Training Loss: 0.01268361508846283  ~~~~~~~\n",
      "~~~~~~~ Validation Loss: 0.02620665356516838  ~~~~~~~\n",
      "1/1 [==============================] - 0s 122ms/step\n",
      "~~~~~~~ value_counts: ~~~~~~~\n",
      "1    67\n",
      "0    54\n",
      "Name: class, dtype: int64\n",
      "~~~~~~~~~~ Number of instances after balancing:  121  ~~~~~~~~~~\n",
      "~~~~~~~~~~ Number of instances before balancing:  95  ~~~~~~~~~~\n",
      "~~~~~~~ Training Loss: 0.013144897297024727  ~~~~~~~\n",
      "~~~~~~~ Validation Loss: 0.028717681765556335  ~~~~~~~\n",
      "1/1 [==============================] - 0s 157ms/step\n",
      "~~~~~~~ value_counts: ~~~~~~~\n",
      "1    69\n",
      "0    52\n",
      "Name: class, dtype: int64\n",
      "~~~~~~~~~~ Number of instances after balancing:  121  ~~~~~~~~~~\n",
      "~~~~~~~~~~ Number of instances before balancing:  95  ~~~~~~~~~~\n",
      "~~~~~~~ Training Loss: 0.013649621978402138  ~~~~~~~\n",
      "~~~~~~~ Validation Loss: 0.02211853489279747  ~~~~~~~\n",
      "1/1 [==============================] - 0s 101ms/step\n",
      "~~~~~~~ value_counts: ~~~~~~~\n",
      "1    68\n",
      "0    54\n",
      "Name: class, dtype: int64\n",
      "~~~~~~~~~~ Number of instances after balancing:  122  ~~~~~~~~~~\n",
      "~~~~~~~~~~ Naive Bayes ~~~~~~~~~~~~~~~\n",
      "-----------kfold--------------- 0 ------------\n"
     ]
    },
    {
     "name": "stderr",
     "output_type": "stream",
     "text": [
      "c:\\Users\\sbhuv\\AppData\\Local\\Programs\\Python\\Python38\\lib\\site-packages\\sklearn\\gaussian_process\\kernels.py:420: ConvergenceWarning: The optimal value found for dimension 0 of parameter k2__noise_level is close to the specified lower bound 1e-05. Decreasing the bound and calling fit again may find a better value.\n",
      "  warnings.warn(\n",
      "c:\\Users\\sbhuv\\AppData\\Local\\Programs\\Python\\Python38\\lib\\site-packages\\sklearn\\gaussian_process\\kernels.py:420: ConvergenceWarning: The optimal value found for dimension 0 of parameter k2__noise_level is close to the specified lower bound 1e-05. Decreasing the bound and calling fit again may find a better value.\n",
      "  warnings.warn(\n",
      "c:\\Users\\sbhuv\\AppData\\Local\\Programs\\Python\\Python38\\lib\\site-packages\\sklearn\\gaussian_process\\kernels.py:420: ConvergenceWarning: The optimal value found for dimension 0 of parameter k2__noise_level is close to the specified lower bound 1e-05. Decreasing the bound and calling fit again may find a better value.\n",
      "  warnings.warn(\n",
      "c:\\Users\\sbhuv\\AppData\\Local\\Programs\\Python\\Python38\\lib\\site-packages\\sklearn\\gaussian_process\\kernels.py:420: ConvergenceWarning: The optimal value found for dimension 0 of parameter k2__noise_level is close to the specified lower bound 1e-05. Decreasing the bound and calling fit again may find a better value.\n",
      "  warnings.warn(\n",
      "c:\\Users\\sbhuv\\AppData\\Local\\Programs\\Python\\Python38\\lib\\site-packages\\sklearn\\gaussian_process\\kernels.py:420: ConvergenceWarning: The optimal value found for dimension 0 of parameter k2__noise_level is close to the specified lower bound 1e-05. Decreasing the bound and calling fit again may find a better value.\n",
      "  warnings.warn(\n"
     ]
    },
    {
     "name": "stdout",
     "output_type": "stream",
     "text": [
      "---Naive Bayes--- 0.834 GaussianProcessClassifier(kernel=1**2 * RBF(length_scale=1), random_state=42)\n"
     ]
    },
    {
     "name": "stderr",
     "output_type": "stream",
     "text": [
      "c:\\Users\\sbhuv\\AppData\\Local\\Programs\\Python\\Python38\\lib\\site-packages\\sklearn\\utils\\validation.py:1143: DataConversionWarning: A column-vector y was passed when a 1d array was expected. Please change the shape of y to (n_samples, ), for example using ravel().\n",
      "  y = column_or_1d(y, warn=True)\n"
     ]
    },
    {
     "name": "stdout",
     "output_type": "stream",
     "text": [
      "* 0-----------kfold--------------- 1 ------------\n"
     ]
    },
    {
     "name": "stderr",
     "output_type": "stream",
     "text": [
      "c:\\Users\\sbhuv\\AppData\\Local\\Programs\\Python\\Python38\\lib\\site-packages\\sklearn\\gaussian_process\\kernels.py:420: ConvergenceWarning: The optimal value found for dimension 0 of parameter k2__noise_level is close to the specified lower bound 1e-05. Decreasing the bound and calling fit again may find a better value.\n",
      "  warnings.warn(\n",
      "c:\\Users\\sbhuv\\AppData\\Local\\Programs\\Python\\Python38\\lib\\site-packages\\sklearn\\gaussian_process\\kernels.py:420: ConvergenceWarning: The optimal value found for dimension 0 of parameter k2__noise_level is close to the specified lower bound 1e-05. Decreasing the bound and calling fit again may find a better value.\n",
      "  warnings.warn(\n",
      "c:\\Users\\sbhuv\\AppData\\Local\\Programs\\Python\\Python38\\lib\\site-packages\\sklearn\\gaussian_process\\kernels.py:420: ConvergenceWarning: The optimal value found for dimension 0 of parameter k2__noise_level is close to the specified lower bound 1e-05. Decreasing the bound and calling fit again may find a better value.\n",
      "  warnings.warn(\n",
      "c:\\Users\\sbhuv\\AppData\\Local\\Programs\\Python\\Python38\\lib\\site-packages\\sklearn\\gaussian_process\\kernels.py:420: ConvergenceWarning: The optimal value found for dimension 0 of parameter k2__noise_level is close to the specified lower bound 1e-05. Decreasing the bound and calling fit again may find a better value.\n",
      "  warnings.warn(\n",
      "c:\\Users\\sbhuv\\AppData\\Local\\Programs\\Python\\Python38\\lib\\site-packages\\sklearn\\gaussian_process\\kernels.py:420: ConvergenceWarning: The optimal value found for dimension 0 of parameter k2__noise_level is close to the specified lower bound 1e-05. Decreasing the bound and calling fit again may find a better value.\n",
      "  warnings.warn(\n",
      "c:\\Users\\sbhuv\\AppData\\Local\\Programs\\Python\\Python38\\lib\\site-packages\\sklearn\\utils\\validation.py:1143: DataConversionWarning: A column-vector y was passed when a 1d array was expected. Please change the shape of y to (n_samples, ), for example using ravel().\n",
      "  y = column_or_1d(y, warn=True)\n"
     ]
    },
    {
     "name": "stdout",
     "output_type": "stream",
     "text": [
      "* 1-----------kfold--------------- 2 ------------\n"
     ]
    },
    {
     "name": "stderr",
     "output_type": "stream",
     "text": [
      "c:\\Users\\sbhuv\\AppData\\Local\\Programs\\Python\\Python38\\lib\\site-packages\\sklearn\\gaussian_process\\kernels.py:420: ConvergenceWarning: The optimal value found for dimension 0 of parameter k2__noise_level is close to the specified lower bound 1e-05. Decreasing the bound and calling fit again may find a better value.\n",
      "  warnings.warn(\n",
      "c:\\Users\\sbhuv\\AppData\\Local\\Programs\\Python\\Python38\\lib\\site-packages\\sklearn\\gaussian_process\\kernels.py:420: ConvergenceWarning: The optimal value found for dimension 0 of parameter k2__noise_level is close to the specified lower bound 1e-05. Decreasing the bound and calling fit again may find a better value.\n",
      "  warnings.warn(\n",
      "c:\\Users\\sbhuv\\AppData\\Local\\Programs\\Python\\Python38\\lib\\site-packages\\sklearn\\gaussian_process\\kernels.py:420: ConvergenceWarning: The optimal value found for dimension 0 of parameter k2__noise_level is close to the specified lower bound 1e-05. Decreasing the bound and calling fit again may find a better value.\n",
      "  warnings.warn(\n",
      "c:\\Users\\sbhuv\\AppData\\Local\\Programs\\Python\\Python38\\lib\\site-packages\\sklearn\\gaussian_process\\kernels.py:420: ConvergenceWarning: The optimal value found for dimension 0 of parameter k2__noise_level is close to the specified lower bound 1e-05. Decreasing the bound and calling fit again may find a better value.\n",
      "  warnings.warn(\n",
      "c:\\Users\\sbhuv\\AppData\\Local\\Programs\\Python\\Python38\\lib\\site-packages\\sklearn\\gaussian_process\\kernels.py:420: ConvergenceWarning: The optimal value found for dimension 0 of parameter k2__noise_level is close to the specified lower bound 1e-05. Decreasing the bound and calling fit again may find a better value.\n",
      "  warnings.warn(\n",
      "c:\\Users\\sbhuv\\AppData\\Local\\Programs\\Python\\Python38\\lib\\site-packages\\sklearn\\utils\\validation.py:1143: DataConversionWarning: A column-vector y was passed when a 1d array was expected. Please change the shape of y to (n_samples, ), for example using ravel().\n",
      "  y = column_or_1d(y, warn=True)\n"
     ]
    },
    {
     "name": "stdout",
     "output_type": "stream",
     "text": [
      "* 2*\n",
      "{'copy_X_train': True, 'kernel__k1': 1**2, 'kernel__k2': RBF(length_scale=1), 'kernel__k1__constant_value': 1.0, 'kernel__k1__constant_value_bounds': (1e-05, 100000.0), 'kernel__k2__length_scale': 1.0, 'kernel__k2__length_scale_bounds': (1e-05, 100000.0), 'kernel': 1**2 * RBF(length_scale=1), 'max_iter_predict': 100, 'multi_class': 'one_vs_rest', 'n_jobs': None, 'n_restarts_optimizer': 0, 'optimizer': 'fmin_l_bfgs_b', 'random_state': 42, 'warm_start': False}\n",
      "------run_cv runs successfully------------\n",
      "++++++++++++save_confusion_matrix++++++++++++\n"
     ]
    },
    {
     "name": "stderr",
     "output_type": "stream",
     "text": [
      "Classificationv3.py:353: UserWarning: FixedFormatter should only be used together with FixedLocator\n",
      "  axs[i].set_xticklabels([''] + ['0', '1'], fontsize='xx-large')\n",
      "Classificationv3.py:354: UserWarning: FixedFormatter should only be used together with FixedLocator\n",
      "  axs[i].set_yticklabels([''] + ['0', '1'], fontsize='xx-large')\n"
     ]
    },
    {
     "name": "stdout",
     "output_type": "stream",
     "text": [
      "++++++++++++save_confusion_matrix end++++++++++++\n",
      "(((((((((((((((((((((( draw droc ))))))))))))))))))))))))))))))\n",
      "(((((((( draw droc end ))))))))\n",
      "~~~~~~~~~~~~~~~~~ SB-080 ~~~~~~~~~~~~~~~~~~~~~~\n",
      "~~~~~~~~~~ Number of instances before balancing:  120  ~~~~~~~~~~\n",
      "~~~~~~~ Training Loss: 0.009247158654034138  ~~~~~~~\n",
      "~~~~~~~ Validation Loss: 0.015508824959397316  ~~~~~~~\n",
      "2/2 [==============================] - 0s 5ms/step\n",
      "~~~~~~~ value_counts: ~~~~~~~\n",
      "1    80\n",
      "0    80\n",
      "Name: class, dtype: int64\n",
      "~~~~~~~~~~ Number of instances after balancing:  160  ~~~~~~~~~~\n",
      "~~~~~~~~~~ Number of instances before balancing:  121  ~~~~~~~~~~\n",
      "~~~~~~~ Training Loss: 0.009824083186686039  ~~~~~~~\n",
      "~~~~~~~ Validation Loss: 0.01598237454891205  ~~~~~~~\n",
      "2/2 [==============================] - 0s 7ms/step\n",
      "~~~~~~~ value_counts: ~~~~~~~\n",
      "1    87\n",
      "0    68\n",
      "Name: class, dtype: int64\n",
      "~~~~~~~~~~ Number of instances after balancing:  155  ~~~~~~~~~~\n",
      "~~~~~~~~~~ Number of instances before balancing:  121  ~~~~~~~~~~\n",
      "~~~~~~~ Training Loss: 0.009344576857984066  ~~~~~~~\n",
      "~~~~~~~ Validation Loss: 0.011721694841980934  ~~~~~~~\n",
      "1/1 [==============================] - 0s 118ms/step\n",
      "~~~~~~~ value_counts: ~~~~~~~\n",
      "1    89\n",
      "0    64\n",
      "Name: class, dtype: int64\n",
      "~~~~~~~~~~ Number of instances after balancing:  153  ~~~~~~~~~~\n",
      "~~~~~~~~~~ Naive Bayes ~~~~~~~~~~~~~~~\n",
      "-----------kfold--------------- 0 ------------\n"
     ]
    },
    {
     "name": "stderr",
     "output_type": "stream",
     "text": [
      "c:\\Users\\sbhuv\\AppData\\Local\\Programs\\Python\\Python38\\lib\\site-packages\\sklearn\\gaussian_process\\kernels.py:420: ConvergenceWarning: The optimal value found for dimension 0 of parameter k2__noise_level is close to the specified lower bound 1e-05. Decreasing the bound and calling fit again may find a better value.\n",
      "  warnings.warn(\n",
      "c:\\Users\\sbhuv\\AppData\\Local\\Programs\\Python\\Python38\\lib\\site-packages\\sklearn\\gaussian_process\\kernels.py:420: ConvergenceWarning: The optimal value found for dimension 0 of parameter k2__noise_level is close to the specified lower bound 1e-05. Decreasing the bound and calling fit again may find a better value.\n",
      "  warnings.warn(\n",
      "c:\\Users\\sbhuv\\AppData\\Local\\Programs\\Python\\Python38\\lib\\site-packages\\sklearn\\gaussian_process\\kernels.py:420: ConvergenceWarning: The optimal value found for dimension 0 of parameter k2__noise_level is close to the specified lower bound 1e-05. Decreasing the bound and calling fit again may find a better value.\n",
      "  warnings.warn(\n",
      "c:\\Users\\sbhuv\\AppData\\Local\\Programs\\Python\\Python38\\lib\\site-packages\\sklearn\\gaussian_process\\kernels.py:420: ConvergenceWarning: The optimal value found for dimension 0 of parameter k2__noise_level is close to the specified lower bound 1e-05. Decreasing the bound and calling fit again may find a better value.\n",
      "  warnings.warn(\n",
      "c:\\Users\\sbhuv\\AppData\\Local\\Programs\\Python\\Python38\\lib\\site-packages\\sklearn\\gaussian_process\\kernels.py:420: ConvergenceWarning: The optimal value found for dimension 0 of parameter k2__noise_level is close to the specified lower bound 1e-05. Decreasing the bound and calling fit again may find a better value.\n",
      "  warnings.warn(\n"
     ]
    },
    {
     "name": "stdout",
     "output_type": "stream",
     "text": [
      "---Naive Bayes--- 0.70625 GaussianProcessClassifier(kernel=1**2 * RBF(length_scale=1), random_state=42)\n"
     ]
    },
    {
     "name": "stderr",
     "output_type": "stream",
     "text": [
      "c:\\Users\\sbhuv\\AppData\\Local\\Programs\\Python\\Python38\\lib\\site-packages\\sklearn\\utils\\validation.py:1143: DataConversionWarning: A column-vector y was passed when a 1d array was expected. Please change the shape of y to (n_samples, ), for example using ravel().\n",
      "  y = column_or_1d(y, warn=True)\n"
     ]
    },
    {
     "name": "stdout",
     "output_type": "stream",
     "text": [
      "* 0-----------kfold--------------- 1 ------------\n"
     ]
    },
    {
     "name": "stderr",
     "output_type": "stream",
     "text": [
      "c:\\Users\\sbhuv\\AppData\\Local\\Programs\\Python\\Python38\\lib\\site-packages\\sklearn\\gaussian_process\\kernels.py:420: ConvergenceWarning: The optimal value found for dimension 0 of parameter k2__noise_level is close to the specified lower bound 1e-05. Decreasing the bound and calling fit again may find a better value.\n",
      "  warnings.warn(\n",
      "c:\\Users\\sbhuv\\AppData\\Local\\Programs\\Python\\Python38\\lib\\site-packages\\sklearn\\utils\\validation.py:1143: DataConversionWarning: A column-vector y was passed when a 1d array was expected. Please change the shape of y to (n_samples, ), for example using ravel().\n",
      "  y = column_or_1d(y, warn=True)\n"
     ]
    },
    {
     "name": "stdout",
     "output_type": "stream",
     "text": [
      "* 1-----------kfold--------------- 2 ------------\n"
     ]
    },
    {
     "name": "stderr",
     "output_type": "stream",
     "text": [
      "c:\\Users\\sbhuv\\AppData\\Local\\Programs\\Python\\Python38\\lib\\site-packages\\sklearn\\gaussian_process\\kernels.py:420: ConvergenceWarning: The optimal value found for dimension 0 of parameter k2__noise_level is close to the specified lower bound 1e-05. Decreasing the bound and calling fit again may find a better value.\n",
      "  warnings.warn(\n",
      "c:\\Users\\sbhuv\\AppData\\Local\\Programs\\Python\\Python38\\lib\\site-packages\\sklearn\\gaussian_process\\kernels.py:420: ConvergenceWarning: The optimal value found for dimension 0 of parameter k2__noise_level is close to the specified lower bound 1e-05. Decreasing the bound and calling fit again may find a better value.\n",
      "  warnings.warn(\n",
      "c:\\Users\\sbhuv\\AppData\\Local\\Programs\\Python\\Python38\\lib\\site-packages\\sklearn\\gaussian_process\\kernels.py:420: ConvergenceWarning: The optimal value found for dimension 0 of parameter k2__noise_level is close to the specified lower bound 1e-05. Decreasing the bound and calling fit again may find a better value.\n",
      "  warnings.warn(\n",
      "c:\\Users\\sbhuv\\AppData\\Local\\Programs\\Python\\Python38\\lib\\site-packages\\sklearn\\gaussian_process\\kernels.py:420: ConvergenceWarning: The optimal value found for dimension 0 of parameter k2__noise_level is close to the specified lower bound 1e-05. Decreasing the bound and calling fit again may find a better value.\n",
      "  warnings.warn(\n"
     ]
    },
    {
     "name": "stdout",
     "output_type": "stream",
     "text": [
      "---Naive Bayes--- 0.7116129032258064 GaussianProcessClassifier(kernel=1**2 * RBF(length_scale=1), random_state=42)\n"
     ]
    },
    {
     "name": "stderr",
     "output_type": "stream",
     "text": [
      "c:\\Users\\sbhuv\\AppData\\Local\\Programs\\Python\\Python38\\lib\\site-packages\\sklearn\\utils\\validation.py:1143: DataConversionWarning: A column-vector y was passed when a 1d array was expected. Please change the shape of y to (n_samples, ), for example using ravel().\n",
      "  y = column_or_1d(y, warn=True)\n"
     ]
    },
    {
     "name": "stdout",
     "output_type": "stream",
     "text": [
      "* 2*\n",
      "{'copy_X_train': True, 'kernel__k1': 1**2, 'kernel__k2': RBF(length_scale=1), 'kernel__k1__constant_value': 1.0, 'kernel__k1__constant_value_bounds': (1e-05, 100000.0), 'kernel__k2__length_scale': 1.0, 'kernel__k2__length_scale_bounds': (1e-05, 100000.0), 'kernel': 1**2 * RBF(length_scale=1), 'max_iter_predict': 100, 'multi_class': 'one_vs_rest', 'n_jobs': None, 'n_restarts_optimizer': 0, 'optimizer': 'fmin_l_bfgs_b', 'random_state': 42, 'warm_start': False}\n",
      "------run_cv runs successfully------------\n",
      "++++++++++++save_confusion_matrix++++++++++++\n"
     ]
    },
    {
     "name": "stderr",
     "output_type": "stream",
     "text": [
      "Classificationv3.py:353: UserWarning: FixedFormatter should only be used together with FixedLocator\n",
      "  axs[i].set_xticklabels([''] + ['0', '1'], fontsize='xx-large')\n",
      "Classificationv3.py:354: UserWarning: FixedFormatter should only be used together with FixedLocator\n",
      "  axs[i].set_yticklabels([''] + ['0', '1'], fontsize='xx-large')\n"
     ]
    },
    {
     "name": "stdout",
     "output_type": "stream",
     "text": [
      "++++++++++++save_confusion_matrix end++++++++++++\n",
      "(((((((((((((((((((((( draw droc ))))))))))))))))))))))))))))))\n",
      "(((((((( draw droc end ))))))))\n",
      "~~~~~~~~~~~~~~~~~ SB-081 ~~~~~~~~~~~~~~~~~~~~~~\n",
      "~~~~~~~~~~ Number of instances before balancing:  22  ~~~~~~~~~~\n",
      "~~~~~~~ Training Loss: 0.014750179834663868  ~~~~~~~\n",
      "~~~~~~~ Validation Loss: 0.057549264281988144  ~~~~~~~\n",
      "1/1 [==============================] - 0s 101ms/step\n",
      "~~~~~~~ value_counts: ~~~~~~~\n",
      "0    18\n",
      "1    13\n",
      "Name: class, dtype: int64\n",
      "~~~~~~~~~~ Number of instances after balancing:  31  ~~~~~~~~~~\n",
      "~~~~~~~~~~ Number of instances before balancing:  23  ~~~~~~~~~~\n",
      "~~~~~~~ Training Loss: 0.018192196264863014  ~~~~~~~\n",
      "~~~~~~~ Validation Loss: 0.06167026236653328  ~~~~~~~\n",
      "1/1 [==============================] - 0s 146ms/step\n",
      "~~~~~~~ value_counts: ~~~~~~~\n",
      "0    22\n",
      "1    12\n",
      "Name: class, dtype: int64\n",
      "~~~~~~~~~~ Number of instances after balancing:  34  ~~~~~~~~~~\n",
      "~~~~~~~~~~ Number of instances before balancing:  23  ~~~~~~~~~~\n",
      "~~~~~~~ Training Loss: 0.013905651867389679  ~~~~~~~\n",
      "~~~~~~~ Validation Loss: 0.04165630415081978  ~~~~~~~\n",
      "1/1 [==============================] - 0s 124ms/step\n",
      "~~~~~~~ value_counts: ~~~~~~~\n",
      "0    16\n",
      "1    15\n",
      "Name: class, dtype: int64\n",
      "~~~~~~~~~~ Number of instances after balancing:  31  ~~~~~~~~~~\n",
      "~~~~~~~~~~ Naive Bayes ~~~~~~~~~~~~~~~\n",
      "-----------kfold--------------- 0 ------------\n",
      "---Naive Bayes--- 0.8095238095238095 GaussianProcessClassifier(kernel=1**2 * RBF(length_scale=1), random_state=42)\n",
      "* 0-----------kfold--------------- 1 ------------\n"
     ]
    },
    {
     "name": "stderr",
     "output_type": "stream",
     "text": [
      "c:\\Users\\sbhuv\\AppData\\Local\\Programs\\Python\\Python38\\lib\\site-packages\\sklearn\\utils\\validation.py:1143: DataConversionWarning: A column-vector y was passed when a 1d array was expected. Please change the shape of y to (n_samples, ), for example using ravel().\n",
      "  y = column_or_1d(y, warn=True)\n",
      "c:\\Users\\sbhuv\\AppData\\Local\\Programs\\Python\\Python38\\lib\\site-packages\\sklearn\\utils\\validation.py:1143: DataConversionWarning: A column-vector y was passed when a 1d array was expected. Please change the shape of y to (n_samples, ), for example using ravel().\n",
      "  y = column_or_1d(y, warn=True)\n"
     ]
    },
    {
     "name": "stdout",
     "output_type": "stream",
     "text": [
      "* 1-----------kfold--------------- 2 ------------\n"
     ]
    },
    {
     "name": "stderr",
     "output_type": "stream",
     "text": [
      "c:\\Users\\sbhuv\\AppData\\Local\\Programs\\Python\\Python38\\lib\\site-packages\\sklearn\\utils\\validation.py:1143: DataConversionWarning: A column-vector y was passed when a 1d array was expected. Please change the shape of y to (n_samples, ), for example using ravel().\n",
      "  y = column_or_1d(y, warn=True)\n",
      "Classificationv3.py:353: UserWarning: FixedFormatter should only be used together with FixedLocator\n",
      "  axs[i].set_xticklabels([''] + ['0', '1'], fontsize='xx-large')\n",
      "Classificationv3.py:354: UserWarning: FixedFormatter should only be used together with FixedLocator\n",
      "  axs[i].set_yticklabels([''] + ['0', '1'], fontsize='xx-large')\n"
     ]
    },
    {
     "name": "stdout",
     "output_type": "stream",
     "text": [
      "* 2*\n",
      "{'copy_X_train': True, 'kernel__k1': 1**2, 'kernel__k2': RBF(length_scale=1), 'kernel__k1__constant_value': 1.0, 'kernel__k1__constant_value_bounds': (1e-05, 100000.0), 'kernel__k2__length_scale': 1.0, 'kernel__k2__length_scale_bounds': (1e-05, 100000.0), 'kernel': 1**2 * RBF(length_scale=1), 'max_iter_predict': 100, 'multi_class': 'one_vs_rest', 'n_jobs': None, 'n_restarts_optimizer': 0, 'optimizer': 'fmin_l_bfgs_b', 'random_state': 42, 'warm_start': False}\n",
      "------run_cv runs successfully------------\n",
      "++++++++++++save_confusion_matrix++++++++++++\n",
      "++++++++++++save_confusion_matrix end++++++++++++\n",
      "(((((((((((((((((((((( draw droc ))))))))))))))))))))))))))))))\n",
      "(((((((( draw droc end ))))))))\n",
      "~~~~~~~~~~~~~~~~~ SB-082 ~~~~~~~~~~~~~~~~~~~~~~\n",
      "~~~~~~~~~~ Number of instances before balancing:  91  ~~~~~~~~~~\n",
      "~~~~~~~ Training Loss: 0.01730460114777088  ~~~~~~~\n",
      "~~~~~~~ Validation Loss: 0.025648068636655807  ~~~~~~~\n",
      "1/1 [==============================] - 0s 122ms/step\n",
      "~~~~~~~ value_counts: ~~~~~~~\n",
      "0    64\n",
      "1    59\n",
      "Name: class, dtype: int64\n",
      "~~~~~~~~~~ Number of instances after balancing:  123  ~~~~~~~~~~\n",
      "~~~~~~~~~~ Number of instances before balancing:  91  ~~~~~~~~~~\n",
      "~~~~~~~ Training Loss: 0.01347006019204855  ~~~~~~~\n",
      "~~~~~~~ Validation Loss: 0.02410774677991867  ~~~~~~~\n",
      "2/2 [==============================] - 0s 4ms/step\n",
      "~~~~~~~ value_counts: ~~~~~~~\n",
      "0    66\n",
      "1    58\n",
      "Name: class, dtype: int64\n",
      "~~~~~~~~~~ Number of instances after balancing:  124  ~~~~~~~~~~\n",
      "~~~~~~~~~~ Number of instances before balancing:  92  ~~~~~~~~~~\n",
      "~~~~~~~ Training Loss: 0.014349815435707569  ~~~~~~~\n",
      "~~~~~~~ Validation Loss: 0.01987380161881447  ~~~~~~~\n",
      "2/2 [==============================] - 0s 4ms/step\n",
      "~~~~~~~ value_counts: ~~~~~~~\n",
      "0    78\n",
      "1    53\n",
      "Name: class, dtype: int64\n",
      "~~~~~~~~~~ Number of instances after balancing:  131  ~~~~~~~~~~\n",
      "~~~~~~~~~~ Naive Bayes ~~~~~~~~~~~~~~~\n",
      "-----------kfold--------------- 0 ------------\n"
     ]
    },
    {
     "name": "stderr",
     "output_type": "stream",
     "text": [
      "c:\\Users\\sbhuv\\AppData\\Local\\Programs\\Python\\Python38\\lib\\site-packages\\sklearn\\gaussian_process\\kernels.py:420: ConvergenceWarning: The optimal value found for dimension 0 of parameter k2__noise_level is close to the specified lower bound 1e-05. Decreasing the bound and calling fit again may find a better value.\n",
      "  warnings.warn(\n",
      "c:\\Users\\sbhuv\\AppData\\Local\\Programs\\Python\\Python38\\lib\\site-packages\\sklearn\\gaussian_process\\kernels.py:420: ConvergenceWarning: The optimal value found for dimension 0 of parameter k2__noise_level is close to the specified lower bound 1e-05. Decreasing the bound and calling fit again may find a better value.\n",
      "  warnings.warn(\n",
      "c:\\Users\\sbhuv\\AppData\\Local\\Programs\\Python\\Python38\\lib\\site-packages\\sklearn\\gaussian_process\\kernels.py:420: ConvergenceWarning: The optimal value found for dimension 0 of parameter k2__noise_level is close to the specified lower bound 1e-05. Decreasing the bound and calling fit again may find a better value.\n",
      "  warnings.warn(\n",
      "c:\\Users\\sbhuv\\AppData\\Local\\Programs\\Python\\Python38\\lib\\site-packages\\sklearn\\gaussian_process\\kernels.py:420: ConvergenceWarning: The optimal value found for dimension 0 of parameter k2__noise_level is close to the specified lower bound 1e-05. Decreasing the bound and calling fit again may find a better value.\n",
      "  warnings.warn(\n",
      "c:\\Users\\sbhuv\\AppData\\Local\\Programs\\Python\\Python38\\lib\\site-packages\\sklearn\\gaussian_process\\kernels.py:420: ConvergenceWarning: The optimal value found for dimension 0 of parameter k2__noise_level is close to the specified lower bound 1e-05. Decreasing the bound and calling fit again may find a better value.\n",
      "  warnings.warn(\n",
      "c:\\Users\\sbhuv\\AppData\\Local\\Programs\\Python\\Python38\\lib\\site-packages\\sklearn\\utils\\validation.py:1143: DataConversionWarning: A column-vector y was passed when a 1d array was expected. Please change the shape of y to (n_samples, ), for example using ravel().\n",
      "  y = column_or_1d(y, warn=True)\n"
     ]
    },
    {
     "name": "stdout",
     "output_type": "stream",
     "text": [
      "---Naive Bayes--- 0.7796666666666667 GaussianProcessClassifier(kernel=1**2 * RBF(length_scale=1), random_state=42)\n",
      "* 0-----------kfold--------------- 1 ------------\n"
     ]
    },
    {
     "name": "stderr",
     "output_type": "stream",
     "text": [
      "c:\\Users\\sbhuv\\AppData\\Local\\Programs\\Python\\Python38\\lib\\site-packages\\sklearn\\gaussian_process\\kernels.py:420: ConvergenceWarning: The optimal value found for dimension 0 of parameter k2__noise_level is close to the specified lower bound 1e-05. Decreasing the bound and calling fit again may find a better value.\n",
      "  warnings.warn(\n",
      "c:\\Users\\sbhuv\\AppData\\Local\\Programs\\Python\\Python38\\lib\\site-packages\\sklearn\\gaussian_process\\kernels.py:420: ConvergenceWarning: The optimal value found for dimension 0 of parameter k2__noise_level is close to the specified lower bound 1e-05. Decreasing the bound and calling fit again may find a better value.\n",
      "  warnings.warn(\n",
      "c:\\Users\\sbhuv\\AppData\\Local\\Programs\\Python\\Python38\\lib\\site-packages\\sklearn\\gaussian_process\\kernels.py:420: ConvergenceWarning: The optimal value found for dimension 0 of parameter k2__noise_level is close to the specified lower bound 1e-05. Decreasing the bound and calling fit again may find a better value.\n",
      "  warnings.warn(\n",
      "c:\\Users\\sbhuv\\AppData\\Local\\Programs\\Python\\Python38\\lib\\site-packages\\sklearn\\gaussian_process\\kernels.py:420: ConvergenceWarning: The optimal value found for dimension 0 of parameter k2__noise_level is close to the specified lower bound 1e-05. Decreasing the bound and calling fit again may find a better value.\n",
      "  warnings.warn(\n",
      "c:\\Users\\sbhuv\\AppData\\Local\\Programs\\Python\\Python38\\lib\\site-packages\\sklearn\\gaussian_process\\kernels.py:420: ConvergenceWarning: The optimal value found for dimension 0 of parameter k2__noise_level is close to the specified lower bound 1e-05. Decreasing the bound and calling fit again may find a better value.\n",
      "  warnings.warn(\n",
      "c:\\Users\\sbhuv\\AppData\\Local\\Programs\\Python\\Python38\\lib\\site-packages\\sklearn\\utils\\validation.py:1143: DataConversionWarning: A column-vector y was passed when a 1d array was expected. Please change the shape of y to (n_samples, ), for example using ravel().\n",
      "  y = column_or_1d(y, warn=True)\n"
     ]
    },
    {
     "name": "stdout",
     "output_type": "stream",
     "text": [
      "* 1-----------kfold--------------- 2 ------------\n"
     ]
    },
    {
     "name": "stderr",
     "output_type": "stream",
     "text": [
      "c:\\Users\\sbhuv\\AppData\\Local\\Programs\\Python\\Python38\\lib\\site-packages\\sklearn\\gaussian_process\\kernels.py:420: ConvergenceWarning: The optimal value found for dimension 0 of parameter k2__noise_level is close to the specified lower bound 1e-05. Decreasing the bound and calling fit again may find a better value.\n",
      "  warnings.warn(\n",
      "c:\\Users\\sbhuv\\AppData\\Local\\Programs\\Python\\Python38\\lib\\site-packages\\sklearn\\gaussian_process\\kernels.py:420: ConvergenceWarning: The optimal value found for dimension 0 of parameter k2__noise_level is close to the specified lower bound 1e-05. Decreasing the bound and calling fit again may find a better value.\n",
      "  warnings.warn(\n",
      "c:\\Users\\sbhuv\\AppData\\Local\\Programs\\Python\\Python38\\lib\\site-packages\\sklearn\\gaussian_process\\kernels.py:420: ConvergenceWarning: The optimal value found for dimension 0 of parameter k2__noise_level is close to the specified lower bound 1e-05. Decreasing the bound and calling fit again may find a better value.\n",
      "  warnings.warn(\n",
      "c:\\Users\\sbhuv\\AppData\\Local\\Programs\\Python\\Python38\\lib\\site-packages\\sklearn\\gaussian_process\\kernels.py:420: ConvergenceWarning: The optimal value found for dimension 0 of parameter k2__noise_level is close to the specified lower bound 1e-05. Decreasing the bound and calling fit again may find a better value.\n",
      "  warnings.warn(\n",
      "c:\\Users\\sbhuv\\AppData\\Local\\Programs\\Python\\Python38\\lib\\site-packages\\sklearn\\gaussian_process\\kernels.py:420: ConvergenceWarning: The optimal value found for dimension 0 of parameter k2__noise_level is close to the specified lower bound 1e-05. Decreasing the bound and calling fit again may find a better value.\n",
      "  warnings.warn(\n",
      "c:\\Users\\sbhuv\\AppData\\Local\\Programs\\Python\\Python38\\lib\\site-packages\\sklearn\\utils\\validation.py:1143: DataConversionWarning: A column-vector y was passed when a 1d array was expected. Please change the shape of y to (n_samples, ), for example using ravel().\n",
      "  y = column_or_1d(y, warn=True)\n"
     ]
    },
    {
     "name": "stdout",
     "output_type": "stream",
     "text": [
      "* 2*\n",
      "{'copy_X_train': True, 'kernel__k1': 1**2, 'kernel__k2': RBF(length_scale=1), 'kernel__k1__constant_value': 1.0, 'kernel__k1__constant_value_bounds': (1e-05, 100000.0), 'kernel__k2__length_scale': 1.0, 'kernel__k2__length_scale_bounds': (1e-05, 100000.0), 'kernel': 1**2 * RBF(length_scale=1), 'max_iter_predict': 100, 'multi_class': 'one_vs_rest', 'n_jobs': None, 'n_restarts_optimizer': 0, 'optimizer': 'fmin_l_bfgs_b', 'random_state': 42, 'warm_start': False}\n",
      "------run_cv runs successfully------------\n",
      "++++++++++++save_confusion_matrix++++++++++++\n"
     ]
    },
    {
     "name": "stderr",
     "output_type": "stream",
     "text": [
      "Classificationv3.py:353: UserWarning: FixedFormatter should only be used together with FixedLocator\n",
      "  axs[i].set_xticklabels([''] + ['0', '1'], fontsize='xx-large')\n",
      "Classificationv3.py:354: UserWarning: FixedFormatter should only be used together with FixedLocator\n",
      "  axs[i].set_yticklabels([''] + ['0', '1'], fontsize='xx-large')\n"
     ]
    },
    {
     "name": "stdout",
     "output_type": "stream",
     "text": [
      "++++++++++++save_confusion_matrix end++++++++++++\n",
      "(((((((((((((((((((((( draw droc ))))))))))))))))))))))))))))))\n",
      "(((((((( draw droc end ))))))))\n",
      "~~~~~~~~~~~~~~~~~ SB-083 ~~~~~~~~~~~~~~~~~~~~~~\n",
      "~~~~~~~~~~ Number of instances before balancing:  137  ~~~~~~~~~~\n",
      "~~~~~~~ Training Loss: 0.010244605131447315  ~~~~~~~\n",
      "~~~~~~~ Validation Loss: 0.018588948994874954  ~~~~~~~\n",
      "2/2 [==============================] - 0s 4ms/step\n",
      "~~~~~~~ value_counts: ~~~~~~~\n",
      "1    98\n",
      "0    78\n",
      "Name: class, dtype: int64\n",
      "~~~~~~~~~~ Number of instances after balancing:  176  ~~~~~~~~~~\n",
      "~~~~~~~~~~ Number of instances before balancing:  137  ~~~~~~~~~~\n",
      "~~~~~~~ Training Loss: 0.011378543451428413  ~~~~~~~\n",
      "~~~~~~~ Validation Loss: 0.01708315499126911  ~~~~~~~\n",
      "2/2 [==============================] - 0s 3ms/step\n",
      "~~~~~~~ value_counts: ~~~~~~~\n",
      "1    95\n",
      "0    84\n",
      "Name: class, dtype: int64\n",
      "~~~~~~~~~~ Number of instances after balancing:  179  ~~~~~~~~~~\n",
      "~~~~~~~~~~ Number of instances before balancing:  138  ~~~~~~~~~~\n",
      "~~~~~~~ Training Loss: 0.009704330936074257  ~~~~~~~\n",
      "~~~~~~~ Validation Loss: 0.01766955293715  ~~~~~~~\n",
      "2/2 [==============================] - 0s 3ms/step\n",
      "~~~~~~~ value_counts: ~~~~~~~\n",
      "1    95\n",
      "0    86\n",
      "Name: class, dtype: int64\n",
      "~~~~~~~~~~ Number of instances after balancing:  181  ~~~~~~~~~~\n",
      "~~~~~~~~~~ Naive Bayes ~~~~~~~~~~~~~~~\n",
      "-----------kfold--------------- 0 ------------\n"
     ]
    },
    {
     "name": "stderr",
     "output_type": "stream",
     "text": [
      "c:\\Users\\sbhuv\\AppData\\Local\\Programs\\Python\\Python38\\lib\\site-packages\\sklearn\\gaussian_process\\kernels.py:420: ConvergenceWarning: The optimal value found for dimension 0 of parameter k2__noise_level is close to the specified lower bound 1e-05. Decreasing the bound and calling fit again may find a better value.\n",
      "  warnings.warn(\n",
      "c:\\Users\\sbhuv\\AppData\\Local\\Programs\\Python\\Python38\\lib\\site-packages\\sklearn\\gaussian_process\\kernels.py:420: ConvergenceWarning: The optimal value found for dimension 0 of parameter k2__noise_level is close to the specified lower bound 1e-05. Decreasing the bound and calling fit again may find a better value.\n",
      "  warnings.warn(\n",
      "c:\\Users\\sbhuv\\AppData\\Local\\Programs\\Python\\Python38\\lib\\site-packages\\sklearn\\gaussian_process\\kernels.py:420: ConvergenceWarning: The optimal value found for dimension 0 of parameter k2__noise_level is close to the specified lower bound 1e-05. Decreasing the bound and calling fit again may find a better value.\n",
      "  warnings.warn(\n"
     ]
    },
    {
     "name": "stdout",
     "output_type": "stream",
     "text": [
      "---Naive Bayes--- 0.6931746031746032 GaussianProcessClassifier(kernel=1**2 * RBF(length_scale=1), random_state=42)\n"
     ]
    },
    {
     "name": "stderr",
     "output_type": "stream",
     "text": [
      "c:\\Users\\sbhuv\\AppData\\Local\\Programs\\Python\\Python38\\lib\\site-packages\\sklearn\\utils\\validation.py:1143: DataConversionWarning: A column-vector y was passed when a 1d array was expected. Please change the shape of y to (n_samples, ), for example using ravel().\n",
      "  y = column_or_1d(y, warn=True)\n"
     ]
    },
    {
     "name": "stdout",
     "output_type": "stream",
     "text": [
      "* 0-----------kfold--------------- 1 ------------\n"
     ]
    },
    {
     "name": "stderr",
     "output_type": "stream",
     "text": [
      "c:\\Users\\sbhuv\\AppData\\Local\\Programs\\Python\\Python38\\lib\\site-packages\\sklearn\\gaussian_process\\kernels.py:420: ConvergenceWarning: The optimal value found for dimension 0 of parameter k2__noise_level is close to the specified lower bound 1e-05. Decreasing the bound and calling fit again may find a better value.\n",
      "  warnings.warn(\n",
      "c:\\Users\\sbhuv\\AppData\\Local\\Programs\\Python\\Python38\\lib\\site-packages\\sklearn\\gaussian_process\\kernels.py:420: ConvergenceWarning: The optimal value found for dimension 0 of parameter k2__noise_level is close to the specified lower bound 1e-05. Decreasing the bound and calling fit again may find a better value.\n",
      "  warnings.warn(\n",
      "c:\\Users\\sbhuv\\AppData\\Local\\Programs\\Python\\Python38\\lib\\site-packages\\sklearn\\gaussian_process\\kernels.py:420: ConvergenceWarning: The optimal value found for dimension 0 of parameter k2__noise_level is close to the specified lower bound 1e-05. Decreasing the bound and calling fit again may find a better value.\n",
      "  warnings.warn(\n",
      "c:\\Users\\sbhuv\\AppData\\Local\\Programs\\Python\\Python38\\lib\\site-packages\\sklearn\\gaussian_process\\kernels.py:420: ConvergenceWarning: The optimal value found for dimension 0 of parameter k2__noise_level is close to the specified lower bound 1e-05. Decreasing the bound and calling fit again may find a better value.\n",
      "  warnings.warn(\n",
      "c:\\Users\\sbhuv\\AppData\\Local\\Programs\\Python\\Python38\\lib\\site-packages\\sklearn\\gaussian_process\\kernels.py:420: ConvergenceWarning: The optimal value found for dimension 0 of parameter k2__noise_level is close to the specified lower bound 1e-05. Decreasing the bound and calling fit again may find a better value.\n",
      "  warnings.warn(\n"
     ]
    },
    {
     "name": "stdout",
     "output_type": "stream",
     "text": [
      "---Naive Bayes--- 0.7146031746031747 GaussianProcessClassifier(kernel=1**2 * RBF(length_scale=1), random_state=42)\n"
     ]
    },
    {
     "name": "stderr",
     "output_type": "stream",
     "text": [
      "c:\\Users\\sbhuv\\AppData\\Local\\Programs\\Python\\Python38\\lib\\site-packages\\sklearn\\utils\\validation.py:1143: DataConversionWarning: A column-vector y was passed when a 1d array was expected. Please change the shape of y to (n_samples, ), for example using ravel().\n",
      "  y = column_or_1d(y, warn=True)\n"
     ]
    },
    {
     "name": "stdout",
     "output_type": "stream",
     "text": [
      "* 1-----------kfold--------------- 2 ------------\n"
     ]
    },
    {
     "name": "stderr",
     "output_type": "stream",
     "text": [
      "c:\\Users\\sbhuv\\AppData\\Local\\Programs\\Python\\Python38\\lib\\site-packages\\sklearn\\gaussian_process\\kernels.py:420: ConvergenceWarning: The optimal value found for dimension 0 of parameter k2__noise_level is close to the specified lower bound 1e-05. Decreasing the bound and calling fit again may find a better value.\n",
      "  warnings.warn(\n",
      "c:\\Users\\sbhuv\\AppData\\Local\\Programs\\Python\\Python38\\lib\\site-packages\\sklearn\\gaussian_process\\kernels.py:420: ConvergenceWarning: The optimal value found for dimension 0 of parameter k2__noise_level is close to the specified lower bound 1e-05. Decreasing the bound and calling fit again may find a better value.\n",
      "  warnings.warn(\n",
      "c:\\Users\\sbhuv\\AppData\\Local\\Programs\\Python\\Python38\\lib\\site-packages\\sklearn\\utils\\validation.py:1143: DataConversionWarning: A column-vector y was passed when a 1d array was expected. Please change the shape of y to (n_samples, ), for example using ravel().\n",
      "  y = column_or_1d(y, warn=True)\n",
      "Classificationv3.py:353: UserWarning: FixedFormatter should only be used together with FixedLocator\n",
      "  axs[i].set_xticklabels([''] + ['0', '1'], fontsize='xx-large')\n",
      "Classificationv3.py:354: UserWarning: FixedFormatter should only be used together with FixedLocator\n",
      "  axs[i].set_yticklabels([''] + ['0', '1'], fontsize='xx-large')\n"
     ]
    },
    {
     "name": "stdout",
     "output_type": "stream",
     "text": [
      "* 2*\n",
      "{'copy_X_train': True, 'kernel__k1': 1**2, 'kernel__k2': RBF(length_scale=1), 'kernel__k1__constant_value': 1.0, 'kernel__k1__constant_value_bounds': 'fixed', 'kernel__k2__length_scale': 1.0, 'kernel__k2__length_scale_bounds': 'fixed', 'kernel': 1**2 * RBF(length_scale=1), 'max_iter_predict': 100, 'multi_class': 'one_vs_rest', 'n_jobs': None, 'n_restarts_optimizer': 0, 'optimizer': 'fmin_l_bfgs_b', 'random_state': 42, 'warm_start': False}\n",
      "------run_cv runs successfully------------\n",
      "++++++++++++save_confusion_matrix++++++++++++\n",
      "++++++++++++save_confusion_matrix end++++++++++++\n",
      "(((((((((((((((((((((( draw droc ))))))))))))))))))))))))))))))\n",
      "(((((((( draw droc end ))))))))\n",
      "~~~~~~~~~~~~~~~~~ SB-089 ~~~~~~~~~~~~~~~~~~~~~~\n",
      "~~~~~~~~~~ Number of instances before balancing:  32  ~~~~~~~~~~\n",
      "~~~~~~~ Training Loss: 0.02391987480223179  ~~~~~~~\n",
      "~~~~~~~ Validation Loss: 0.0498843677341938  ~~~~~~~\n",
      "1/1 [==============================] - 0s 104ms/step\n",
      "~~~~~~~ value_counts: ~~~~~~~\n",
      "1    23\n",
      "0    18\n",
      "Name: class, dtype: int64\n",
      "~~~~~~~~~~ Number of instances after balancing:  41  ~~~~~~~~~~\n",
      "~~~~~~~~~~ Number of instances before balancing:  33  ~~~~~~~~~~\n",
      "~~~~~~~ Training Loss: 0.02297511324286461  ~~~~~~~\n",
      "~~~~~~~ Validation Loss: 0.043555423617362976  ~~~~~~~\n",
      "1/1 [==============================] - 0s 122ms/step\n",
      "~~~~~~~ value_counts: ~~~~~~~\n",
      "1    23\n",
      "0    20\n",
      "Name: class, dtype: int64\n",
      "~~~~~~~~~~ Number of instances after balancing:  43  ~~~~~~~~~~\n",
      "~~~~~~~~~~ Number of instances before balancing:  33  ~~~~~~~~~~\n",
      "~~~~~~~ Training Loss: 0.014433683827519417  ~~~~~~~\n",
      "~~~~~~~ Validation Loss: 0.02810353972017765  ~~~~~~~\n",
      "1/1 [==============================] - 0s 105ms/step\n",
      "~~~~~~~ value_counts: ~~~~~~~\n",
      "0    22\n",
      "1    22\n",
      "Name: class, dtype: int64\n",
      "~~~~~~~~~~ Number of instances after balancing:  44  ~~~~~~~~~~\n",
      "~~~~~~~~~~ Naive Bayes ~~~~~~~~~~~~~~~\n",
      "-----------kfold--------------- 0 ------------\n",
      "---Naive Bayes--- 0.7305555555555555 GaussianProcessClassifier(kernel=1**2 * RBF(length_scale=1), random_state=42)\n",
      "* 0-----------kfold--------------- 1 ------------\n"
     ]
    },
    {
     "name": "stderr",
     "output_type": "stream",
     "text": [
      "c:\\Users\\sbhuv\\AppData\\Local\\Programs\\Python\\Python38\\lib\\site-packages\\sklearn\\utils\\validation.py:1143: DataConversionWarning: A column-vector y was passed when a 1d array was expected. Please change the shape of y to (n_samples, ), for example using ravel().\n",
      "  y = column_or_1d(y, warn=True)\n",
      "c:\\Users\\sbhuv\\AppData\\Local\\Programs\\Python\\Python38\\lib\\site-packages\\sklearn\\gaussian_process\\kernels.py:420: ConvergenceWarning: The optimal value found for dimension 0 of parameter k2__noise_level is close to the specified lower bound 1e-05. Decreasing the bound and calling fit again may find a better value.\n",
      "  warnings.warn(\n",
      "c:\\Users\\sbhuv\\AppData\\Local\\Programs\\Python\\Python38\\lib\\site-packages\\sklearn\\utils\\validation.py:1143: DataConversionWarning: A column-vector y was passed when a 1d array was expected. Please change the shape of y to (n_samples, ), for example using ravel().\n",
      "  y = column_or_1d(y, warn=True)\n",
      "c:\\Users\\sbhuv\\AppData\\Local\\Programs\\Python\\Python38\\lib\\site-packages\\sklearn\\gaussian_process\\kernels.py:420: ConvergenceWarning: The optimal value found for dimension 0 of parameter k2__noise_level is close to the specified lower bound 1e-05. Decreasing the bound and calling fit again may find a better value.\n",
      "  warnings.warn(\n"
     ]
    },
    {
     "name": "stdout",
     "output_type": "stream",
     "text": [
      "---Naive Bayes--- 0.7722222222222223 GaussianProcessClassifier(kernel=DotProduct(sigma_0=1) + WhiteKernel(noise_level=1),\n",
      "                          random_state=42)\n",
      "* 1-----------kfold--------------- 2 ------------\n",
      "---Naive Bayes--- 0.8666666666666666 GaussianProcessClassifier(kernel=1**2 * RBF(length_scale=1), random_state=42)\n",
      "* 2*\n",
      "{'copy_X_train': True, 'kernel__k1': 1**2, 'kernel__k2': RBF(length_scale=1), 'kernel__k1__constant_value': 1.0, 'kernel__k1__constant_value_bounds': 'fixed', 'kernel__k2__length_scale': 1.0, 'kernel__k2__length_scale_bounds': 'fixed', 'kernel': 1**2 * RBF(length_scale=1), 'max_iter_predict': 100, 'multi_class': 'one_vs_rest', 'n_jobs': None, 'n_restarts_optimizer': 0, 'optimizer': 'fmin_l_bfgs_b', 'random_state': 42, 'warm_start': False}\n",
      "------run_cv runs successfully------------\n",
      "++++++++++++save_confusion_matrix++++++++++++\n"
     ]
    },
    {
     "name": "stderr",
     "output_type": "stream",
     "text": [
      "c:\\Users\\sbhuv\\AppData\\Local\\Programs\\Python\\Python38\\lib\\site-packages\\sklearn\\utils\\validation.py:1143: DataConversionWarning: A column-vector y was passed when a 1d array was expected. Please change the shape of y to (n_samples, ), for example using ravel().\n",
      "  y = column_or_1d(y, warn=True)\n",
      "Classificationv3.py:353: UserWarning: FixedFormatter should only be used together with FixedLocator\n",
      "  axs[i].set_xticklabels([''] + ['0', '1'], fontsize='xx-large')\n",
      "Classificationv3.py:354: UserWarning: FixedFormatter should only be used together with FixedLocator\n",
      "  axs[i].set_yticklabels([''] + ['0', '1'], fontsize='xx-large')\n"
     ]
    },
    {
     "name": "stdout",
     "output_type": "stream",
     "text": [
      "++++++++++++save_confusion_matrix end++++++++++++\n",
      "(((((((((((((((((((((( draw droc ))))))))))))))))))))))))))))))\n",
      "(((((((( draw droc end ))))))))\n",
      "~~~~~~~~~~~~~~~~~ SB-112 ~~~~~~~~~~~~~~~~~~~~~~\n",
      "~~~~~~~~~~ Number of instances before balancing:  120  ~~~~~~~~~~\n",
      "~~~~~~~ Training Loss: 0.012334417551755905  ~~~~~~~\n",
      "~~~~~~~ Validation Loss: 0.024839041754603386  ~~~~~~~\n",
      "1/1 [==============================] - 0s 103ms/step\n",
      "~~~~~~~ value_counts: ~~~~~~~\n",
      "1    91\n",
      "0    58\n",
      "Name: class, dtype: int64\n",
      "~~~~~~~~~~ Number of instances after balancing:  149  ~~~~~~~~~~\n",
      "~~~~~~~~~~ Number of instances before balancing:  120  ~~~~~~~~~~\n",
      "~~~~~~~ Training Loss: 0.01839088648557663  ~~~~~~~\n",
      "~~~~~~~ Validation Loss: 0.03292587772011757  ~~~~~~~\n",
      "1/1 [==============================] - 0s 102ms/step\n",
      "~~~~~~~ value_counts: ~~~~~~~\n",
      "1    99\n",
      "0    42\n",
      "Name: class, dtype: int64\n",
      "~~~~~~~~~~ Number of instances after balancing:  141  ~~~~~~~~~~\n",
      "~~~~~~~~~~ Number of instances before balancing:  120  ~~~~~~~~~~\n",
      "~~~~~~~ Training Loss: 0.01284843496978283  ~~~~~~~\n",
      "~~~~~~~ Validation Loss: 0.037882424890995026  ~~~~~~~\n",
      "1/1 [==============================] - 0s 107ms/step\n",
      "~~~~~~~ value_counts: ~~~~~~~\n",
      "1    92\n",
      "0    56\n",
      "Name: class, dtype: int64\n",
      "~~~~~~~~~~ Number of instances after balancing:  148  ~~~~~~~~~~\n",
      "~~~~~~~~~~ Naive Bayes ~~~~~~~~~~~~~~~\n",
      "-----------kfold--------------- 0 ------------\n"
     ]
    },
    {
     "name": "stderr",
     "output_type": "stream",
     "text": [
      "c:\\Users\\sbhuv\\AppData\\Local\\Programs\\Python\\Python38\\lib\\site-packages\\sklearn\\gaussian_process\\kernels.py:420: ConvergenceWarning: The optimal value found for dimension 0 of parameter k2__noise_level is close to the specified lower bound 1e-05. Decreasing the bound and calling fit again may find a better value.\n",
      "  warnings.warn(\n",
      "c:\\Users\\sbhuv\\AppData\\Local\\Programs\\Python\\Python38\\lib\\site-packages\\sklearn\\gaussian_process\\kernels.py:420: ConvergenceWarning: The optimal value found for dimension 0 of parameter k2__noise_level is close to the specified lower bound 1e-05. Decreasing the bound and calling fit again may find a better value.\n",
      "  warnings.warn(\n",
      "c:\\Users\\sbhuv\\AppData\\Local\\Programs\\Python\\Python38\\lib\\site-packages\\sklearn\\gaussian_process\\kernels.py:420: ConvergenceWarning: The optimal value found for dimension 0 of parameter k2__noise_level is close to the specified lower bound 1e-05. Decreasing the bound and calling fit again may find a better value.\n",
      "  warnings.warn(\n",
      "c:\\Users\\sbhuv\\AppData\\Local\\Programs\\Python\\Python38\\lib\\site-packages\\sklearn\\gaussian_process\\kernels.py:420: ConvergenceWarning: The optimal value found for dimension 0 of parameter k2__noise_level is close to the specified lower bound 1e-05. Decreasing the bound and calling fit again may find a better value.\n",
      "  warnings.warn(\n",
      "c:\\Users\\sbhuv\\AppData\\Local\\Programs\\Python\\Python38\\lib\\site-packages\\sklearn\\gaussian_process\\kernels.py:420: ConvergenceWarning: The optimal value found for dimension 0 of parameter k2__noise_level is close to the specified lower bound 1e-05. Decreasing the bound and calling fit again may find a better value.\n",
      "  warnings.warn(\n"
     ]
    },
    {
     "name": "stdout",
     "output_type": "stream",
     "text": [
      "---Naive Bayes--- 0.7370114942528735 GaussianProcessClassifier(kernel=1**2 * RBF(length_scale=1), random_state=42)\n"
     ]
    },
    {
     "name": "stderr",
     "output_type": "stream",
     "text": [
      "c:\\Users\\sbhuv\\AppData\\Local\\Programs\\Python\\Python38\\lib\\site-packages\\sklearn\\utils\\validation.py:1143: DataConversionWarning: A column-vector y was passed when a 1d array was expected. Please change the shape of y to (n_samples, ), for example using ravel().\n",
      "  y = column_or_1d(y, warn=True)\n"
     ]
    },
    {
     "name": "stdout",
     "output_type": "stream",
     "text": [
      "* 0-----------kfold--------------- 1 ------------\n",
      "---Naive Bayes--- 0.7517241379310345 GaussianProcessClassifier(kernel=1**2 * RBF(length_scale=1), random_state=42)\n"
     ]
    },
    {
     "name": "stderr",
     "output_type": "stream",
     "text": [
      "c:\\Users\\sbhuv\\AppData\\Local\\Programs\\Python\\Python38\\lib\\site-packages\\sklearn\\utils\\validation.py:1143: DataConversionWarning: A column-vector y was passed when a 1d array was expected. Please change the shape of y to (n_samples, ), for example using ravel().\n",
      "  y = column_or_1d(y, warn=True)\n"
     ]
    },
    {
     "name": "stdout",
     "output_type": "stream",
     "text": [
      "* 1-----------kfold--------------- 2 ------------\n"
     ]
    },
    {
     "name": "stderr",
     "output_type": "stream",
     "text": [
      "c:\\Users\\sbhuv\\AppData\\Local\\Programs\\Python\\Python38\\lib\\site-packages\\sklearn\\gaussian_process\\kernels.py:420: ConvergenceWarning: The optimal value found for dimension 0 of parameter k2__noise_level is close to the specified lower bound 1e-05. Decreasing the bound and calling fit again may find a better value.\n",
      "  warnings.warn(\n",
      "c:\\Users\\sbhuv\\AppData\\Local\\Programs\\Python\\Python38\\lib\\site-packages\\sklearn\\gaussian_process\\kernels.py:420: ConvergenceWarning: The optimal value found for dimension 0 of parameter k2__noise_level is close to the specified lower bound 1e-05. Decreasing the bound and calling fit again may find a better value.\n",
      "  warnings.warn(\n",
      "c:\\Users\\sbhuv\\AppData\\Local\\Programs\\Python\\Python38\\lib\\site-packages\\sklearn\\gaussian_process\\kernels.py:420: ConvergenceWarning: The optimal value found for dimension 0 of parameter k2__noise_level is close to the specified lower bound 1e-05. Decreasing the bound and calling fit again may find a better value.\n",
      "  warnings.warn(\n",
      "c:\\Users\\sbhuv\\AppData\\Local\\Programs\\Python\\Python38\\lib\\site-packages\\sklearn\\gaussian_process\\kernels.py:420: ConvergenceWarning: The optimal value found for dimension 0 of parameter k2__noise_level is close to the specified lower bound 1e-05. Decreasing the bound and calling fit again may find a better value.\n",
      "  warnings.warn(\n",
      "c:\\Users\\sbhuv\\AppData\\Local\\Programs\\Python\\Python38\\lib\\site-packages\\sklearn\\gaussian_process\\kernels.py:420: ConvergenceWarning: The optimal value found for dimension 0 of parameter k2__noise_level is close to the specified lower bound 1e-05. Decreasing the bound and calling fit again may find a better value.\n",
      "  warnings.warn(\n"
     ]
    },
    {
     "name": "stdout",
     "output_type": "stream",
     "text": [
      "---Naive Bayes--- 0.8234482758620689 GaussianProcessClassifier(kernel=1**2 * RBF(length_scale=1), random_state=42)\n"
     ]
    },
    {
     "name": "stderr",
     "output_type": "stream",
     "text": [
      "c:\\Users\\sbhuv\\AppData\\Local\\Programs\\Python\\Python38\\lib\\site-packages\\sklearn\\utils\\validation.py:1143: DataConversionWarning: A column-vector y was passed when a 1d array was expected. Please change the shape of y to (n_samples, ), for example using ravel().\n",
      "  y = column_or_1d(y, warn=True)\n"
     ]
    },
    {
     "name": "stdout",
     "output_type": "stream",
     "text": [
      "* 2*\n",
      "{'copy_X_train': True, 'kernel__k1': 1**2, 'kernel__k2': RBF(length_scale=1), 'kernel__k1__constant_value': 1.0, 'kernel__k1__constant_value_bounds': (1e-05, 100000.0), 'kernel__k2__length_scale': 1.0, 'kernel__k2__length_scale_bounds': (1e-05, 100000.0), 'kernel': 1**2 * RBF(length_scale=1), 'max_iter_predict': 100, 'multi_class': 'one_vs_rest', 'n_jobs': None, 'n_restarts_optimizer': 0, 'optimizer': 'fmin_l_bfgs_b', 'random_state': 42, 'warm_start': False}\n",
      "------run_cv runs successfully------------\n",
      "++++++++++++save_confusion_matrix++++++++++++\n"
     ]
    },
    {
     "name": "stderr",
     "output_type": "stream",
     "text": [
      "Classificationv3.py:353: UserWarning: FixedFormatter should only be used together with FixedLocator\n",
      "  axs[i].set_xticklabels([''] + ['0', '1'], fontsize='xx-large')\n",
      "Classificationv3.py:354: UserWarning: FixedFormatter should only be used together with FixedLocator\n",
      "  axs[i].set_yticklabels([''] + ['0', '1'], fontsize='xx-large')\n"
     ]
    },
    {
     "name": "stdout",
     "output_type": "stream",
     "text": [
      "++++++++++++save_confusion_matrix end++++++++++++\n",
      "(((((((((((((((((((((( draw droc ))))))))))))))))))))))))))))))\n",
      "(((((((( draw droc end ))))))))\n"
     ]
    }
   ],
   "source": [
    "runner_nb()"
   ]
  },
  {
   "cell_type": "code",
   "execution_count": null,
   "metadata": {},
   "outputs": [],
   "source": []
  }
 ],
 "metadata": {
  "kernelspec": {
   "display_name": "Python 3",
   "language": "python",
   "name": "python3"
  },
  "language_info": {
   "codemirror_mode": {
    "name": "ipython",
    "version": 3
   },
   "file_extension": ".py",
   "mimetype": "text/x-python",
   "name": "python",
   "nbconvert_exporter": "python",
   "pygments_lexer": "ipython3",
   "version": "3.8.2"
  },
  "orig_nbformat": 4
 },
 "nbformat": 4,
 "nbformat_minor": 2
}
