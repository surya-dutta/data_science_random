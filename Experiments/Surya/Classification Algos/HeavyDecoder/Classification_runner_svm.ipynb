{
 "cells": [
  {
   "cell_type": "code",
   "execution_count": 1,
   "metadata": {},
   "outputs": [],
   "source": [
    "import pandas as pd\n",
    "import importlib.util\n",
    "import sklearn\n",
    "import numpy as np\n",
    "from pathlib import Path\n",
    "import joblib\n",
    "import os   "
   ]
  },
  {
   "cell_type": "code",
   "execution_count": 2,
   "metadata": {},
   "outputs": [],
   "source": [
    "output_dir = \"classification_results_2023/\"\n",
    "all_patient_data = pd.read_csv(\"Combined_AM_Data.csv\")"
   ]
  },
  {
   "cell_type": "code",
   "execution_count": 3,
   "metadata": {},
   "outputs": [
    {
     "data": {
      "text/plain": [
       "Index(['id', 'date', 'age', 'sex', 'BMI', 'income', 'road_dist', 'cooking',\n",
       "       'am_pef_org', 'y_am_pef', 'tempin', 'humidin', 'pm25in', 'co2in',\n",
       "       'tempdiffin', 'humidiffin', 'pm25diffin', 'pm10', 'pm25', 'o3', 'no2',\n",
       "       'co', 'so2', 'temp', 'windsd', 'humid', 'varp', 'dewpt', 'airp', 'seap',\n",
       "       'solrhr', 'solramnt', 'grdt', 'class'],\n",
       "      dtype='object')"
      ]
     },
     "execution_count": 3,
     "metadata": {},
     "output_type": "execute_result"
    }
   ],
   "source": [
    "all_patient_data.columns"
   ]
  },
  {
   "cell_type": "code",
   "execution_count": 4,
   "metadata": {},
   "outputs": [],
   "source": [
    "# Loading classification.py\n",
    "spec = importlib.util.spec_from_file_location('classification', r\"Classificationv3.py\")\n",
    "module = importlib.util.module_from_spec(spec)\n",
    "spec.loader.exec_module(module)"
   ]
  },
  {
   "cell_type": "code",
   "execution_count": 5,
   "metadata": {},
   "outputs": [],
   "source": [
    "predictColumn = \"class\"\n",
    "minorityVariable = 0 \n",
    "classes = all_patient_data[predictColumn].unique().tolist()\n",
    "\n",
    "n_classes = len(classes)\n",
    "\n",
    "if n_classes > 2 :\n",
    "    logit_reg_model = sklearn.linear_model.LogisticRegression(solver='saga', multi_class='multinomial')\n",
    "else :\n",
    "    logit_reg_model = sklearn.linear_model.LogisticRegression(solver='liblinear', multi_class='auto')\n",
    "\n",
    "cls = [ \"DecisionTree\" , sklearn.tree.DecisionTreeClassifier(max_depth=4),\n",
    "        \"K-NN\"              , sklearn.neighbors.KNeighborsClassifier(),\n",
    "        \"Logit Regression\"  , logit_reg_model,\n",
    "        \"Naive Bayes\"       , sklearn.gaussian_process.GaussianProcessClassifier()\n",
    "];"
   ]
  },
  {
   "cell_type": "code",
   "execution_count": 6,
   "metadata": {},
   "outputs": [],
   "source": [
    "EVALUATION_METRICS = ['Weighted Accuracy', 'Sensitivity/Recall', 'Precision_avg', 'F1_avg', 'Specificity', 'Precision', 'Precision_class1', 'F1', 'F1_class1']\n",
    "REQUIRED_COLUMNS = ['income','road_dist','cooking','y_am_pef','tempin','humidin','pm25in','co2in','tempdiffin','humidiffin','pm25diffin','pm10','pm25','o3','no2','co','so2','temp','windsd','humid','varp','dewpt','airp','seap','solrhr','solramnt','grdt','class']"
   ]
  },
  {
   "cell_type": "code",
   "execution_count": 7,
   "metadata": {},
   "outputs": [],
   "source": [
    "%run \"Classificationv3.py\"\n",
    "%run \"Balance.py\""
   ]
  },
  {
   "cell_type": "code",
   "execution_count": 8,
   "metadata": {},
   "outputs": [],
   "source": [
    "def classification_func(file_name, predictCol, minorVar, category_group, cls, output_dir, df_evaluation_results, patient_id, patient_id_df):\n",
    "\n",
    "    print('~~~~~~~~~~~~~~~~~', file_name,'~~~~~~~~~~~~~~~~~~~~~~')\n",
    "\n",
    "    dataset_dir = Path(output_dir + patient_id+category_group +  \"/diagrams/\" + file_name + '/') \n",
    "\n",
    "    # Create Directory for this patient\n",
    "    if not (dataset_dir.exists() and dataset_dir.is_dir()):\n",
    "        os.makedirs(dataset_dir)\n",
    "\n",
    "    save_path = output_dir+ patient_id+category_group +'/diagrams/' + file_name + '/sklearn_models_balanced_for_train_'\n",
    "\n",
    "    CLASS_VAR = predictCol\n",
    "    MINORITY_VAR = minorVar\n",
    "    bestDT = module.Classify(patient_id_df, True, class_var=CLASS_VAR, minority_var=MINORITY_VAR, drawConfusionMatrix=True, classifiers=cls, scale=True, save_path=save_path, after_split=True)\n",
    "\n",
    "    confusion_matrixes_file = save_path + \"confusion_mat_\" + category_group + \"_\"+ file_name\n",
    "    module.save_confusion_matrix(bestDT[1], confusion_matrixes_file)\n",
    "    roc_curve_file = save_path + \"roc_curve_\" + category_group + \"_\"+ file_name\n",
    "    module.save_Draw_Roc(bestDT[2], roc_curve_file)\n",
    "    if len(bestDT[3])!=0:\n",
    "      featureImportance_path = save_path + \"important_mat_\" + category_group + \"_\"+ file_name\n",
    "      module.save_Draw_FeatureImportanceMatrix(patient_id_df,bestDT[3],cls[0], featureImportance_path, True)\n",
    "\n",
    "    model_path = save_path + \"bestModel_\" + category_group + \"_\"+ file_name + \".joblib\"\n",
    "    joblib.dump(bestDT[4], model_path)\n",
    "\n",
    "    df_evaluation_results[file_name] = bestDT[0]\n",
    "    df_evaluation_results.to_csv(output_dir+patient_id+category_group+\"/sklearn_models_balanced_for_train_metrics_\"+category_group + \".csv\")\n"
   ]
  },
  {
   "cell_type": "code",
   "execution_count": 9,
   "metadata": {},
   "outputs": [],
   "source": [
    "def runner_decision_tree():\n",
    "    ids = all_patient_data['id'].unique().tolist()\n",
    "    for id in ids:\n",
    "        patient_id = id + \"/\"\n",
    "        file_name = id\n",
    "        patient_id_df = all_patient_data[all_patient_data['id'] == id]\n",
    "        filtered_df = patient_id_df.filter(REQUIRED_COLUMNS)\n",
    "        patient_id_df = filtered_df.copy()\n",
    "        \n",
    "        # Decision Tree\n",
    "        df_evaluation_results = pd.DataFrame(index=EVALUATION_METRICS)\n",
    "        category_group = '1DecisionTree'\n",
    "        cls = [\"DecisionTree\", sklearn.tree.DecisionTreeClassifier(max_depth=4)]\n",
    "        classification_func(file_name, predictColumn, minorityVariable, category_group, cls, output_dir, df_evaluation_results, patient_id, patient_id_df)\n",
    "\n",
    "def runner_knn():\n",
    "    ids = all_patient_data['id'].unique().tolist()\n",
    "    for id in ids:\n",
    "        patient_id = id + \"/\"\n",
    "        file_name = id\n",
    "        patient_id_df = all_patient_data[all_patient_data['id'] == id]\n",
    "        filtered_df = patient_id_df.filter(REQUIRED_COLUMNS)\n",
    "        patient_id_df = filtered_df.copy()\n",
    "        \n",
    "        # KNN\n",
    "        df_evaluation_results = pd.DataFrame(index=EVALUATION_METRICS)\n",
    "        category_group = '2K-NN'\n",
    "        cls = [\"K-NN\", sklearn.neighbors.KNeighborsClassifier()]\n",
    "        classification_func(file_name, predictColumn, minorityVariable, category_group, cls, output_dir, df_evaluation_results, patient_id, patient_id_df)\n",
    "\n",
    "def runner_lr():\n",
    "    ids = all_patient_data['id'].unique().tolist()\n",
    "    for id in ids:\n",
    "        patient_id = id + \"/\"\n",
    "        file_name = id\n",
    "        patient_id_df = all_patient_data[all_patient_data['id'] == id]\n",
    "        filtered_df = patient_id_df.filter(REQUIRED_COLUMNS)\n",
    "        patient_id_df = filtered_df.copy()\n",
    "        \n",
    "        # Logistic Regression\n",
    "        df_evaluation_results = pd.DataFrame(index=EVALUATION_METRICS)\n",
    "        category_group = 'LogisticRegression'\n",
    "        print(logit_reg_model)\n",
    "        cls = [\"Logit Regression\", logit_reg_model]\n",
    "        classification_func(file_name, predictColumn, minorityVariable, category_group, cls, output_dir, df_evaluation_results, patient_id, patient_id_df)\n",
    "\n",
    "def runner_svm():\n",
    "    ids = all_patient_data['id'].unique().tolist()\n",
    "    for id in ids:\n",
    "        patient_id = id + \"/\"\n",
    "        file_name = id\n",
    "        patient_id_df = all_patient_data[all_patient_data['id'] == id]\n",
    "        filtered_df = patient_id_df.filter(REQUIRED_COLUMNS)\n",
    "        patient_id_df = filtered_df.copy()\n",
    "        \n",
    "        # SVM\n",
    "        df_evaluation_results = pd.DataFrame(index=EVALUATION_METRICS)\n",
    "        category_group = 'SVM'\n",
    "        cls = [\"SVM\", sklearn.svm.SVC(kernel=\"linear\")]\n",
    "        classification_func(file_name, predictColumn, minorityVariable, category_group, cls, output_dir, df_evaluation_results, patient_id, patient_id_df)\n",
    "\n",
    "def runner_nb():\n",
    "    ids = all_patient_data['id'].unique().tolist()\n",
    "    for id in ids:\n",
    "        patient_id = id + \"/\"\n",
    "        file_name = id\n",
    "        patient_id_df = all_patient_data[all_patient_data['id'] == id]\n",
    "        filtered_df = patient_id_df.filter(REQUIRED_COLUMNS)\n",
    "        patient_id_df = filtered_df.copy()\n",
    "        \n",
    "        # Naive Bayes\n",
    "        df_evaluation_results = pd.DataFrame(index=EVALUATION_METRICS)\n",
    "        category_group = 'NaiveBayes'\n",
    "        cls = [\"Naive Bayes\", sklearn.gaussian_process.GaussianProcessClassifier()]\n",
    "        classification_func(file_name, predictColumn, minorityVariable, category_group, cls, output_dir, df_evaluation_results, patient_id, patient_id_df)\n"
   ]
  },
  {
   "cell_type": "code",
   "execution_count": 10,
   "metadata": {},
   "outputs": [],
   "source": [
    "#runner_decision_tree()"
   ]
  },
  {
   "cell_type": "code",
   "execution_count": 11,
   "metadata": {},
   "outputs": [],
   "source": [
    "#runner_knn()"
   ]
  },
  {
   "cell_type": "code",
   "execution_count": 12,
   "metadata": {},
   "outputs": [],
   "source": [
    "#runner_lr()"
   ]
  },
  {
   "cell_type": "code",
   "execution_count": 13,
   "metadata": {},
   "outputs": [
    {
     "name": "stdout",
     "output_type": "stream",
     "text": [
      "~~~~~~~~~~~~~~~~~ SB-001 ~~~~~~~~~~~~~~~~~~~~~~\n",
      "~~~~~~~~~~ Number of instances before balancing:  125  ~~~~~~~~~~\n",
      "~~~~~~~ Training Loss: 0.014068621210753918  ~~~~~~~\n",
      "~~~~~~~ Validation Loss: 0.013950732536613941  ~~~~~~~\n",
      "2/2 [==============================] - 0s 5ms/step\n",
      "~~~~~~~ value_counts: ~~~~~~~\n",
      "1    85\n",
      "0    80\n",
      "Name: class, dtype: int64\n",
      "~~~~~~~~~~ Number of instances after balancing:  165  ~~~~~~~~~~\n",
      "~~~~~~~~~~ Number of instances before balancing:  125  ~~~~~~~~~~\n",
      "~~~~~~~ Training Loss: 0.01011602021753788  ~~~~~~~\n",
      "~~~~~~~ Validation Loss: 0.017825182527303696  ~~~~~~~\n",
      "2/2 [==============================] - 0s 6ms/step\n",
      "~~~~~~~ value_counts: ~~~~~~~\n",
      "1    86\n",
      "0    78\n",
      "Name: class, dtype: int64\n",
      "~~~~~~~~~~ Number of instances after balancing:  164  ~~~~~~~~~~\n",
      "~~~~~~~~~~ Number of instances before balancing:  126  ~~~~~~~~~~\n",
      "~~~~~~~ Training Loss: 0.015426025725901127  ~~~~~~~\n",
      "~~~~~~~ Validation Loss: 0.01867474801838398  ~~~~~~~\n",
      "2/2 [==============================] - 0s 6ms/step\n",
      "~~~~~~~ value_counts: ~~~~~~~\n",
      "1    91\n",
      "0    70\n",
      "Name: class, dtype: int64\n",
      "~~~~~~~~~~ Number of instances after balancing:  161  ~~~~~~~~~~\n",
      "~~~~~~~~~~ SVM ~~~~~~~~~~~~~~~\n",
      "-----------kfold--------------- 0 ------------\n",
      "----SVM kfold---------- 0.7333333333333333 SVC(C=21, coef0=0.001)\n",
      "* 0-----------kfold--------------- 1 ------------\n"
     ]
    },
    {
     "name": "stderr",
     "output_type": "stream",
     "text": [
      "c:\\Users\\sbhuv\\AppData\\Local\\Programs\\Python\\Python38\\lib\\site-packages\\sklearn\\utils\\validation.py:1143: DataConversionWarning: A column-vector y was passed when a 1d array was expected. Please change the shape of y to (n_samples, ), for example using ravel().\n",
      "  y = column_or_1d(y, warn=True)\n"
     ]
    },
    {
     "name": "stdout",
     "output_type": "stream",
     "text": [
      "----SVM kfold---------- 0.7865530303030303 SVC(C=41, coef0=1.501, degree=5, gamma='auto', kernel='poly')\n",
      "* 1-----------kfold--------------- 2 ------------\n"
     ]
    },
    {
     "name": "stderr",
     "output_type": "stream",
     "text": [
      "c:\\Users\\sbhuv\\AppData\\Local\\Programs\\Python\\Python38\\lib\\site-packages\\sklearn\\utils\\validation.py:1143: DataConversionWarning: A column-vector y was passed when a 1d array was expected. Please change the shape of y to (n_samples, ), for example using ravel().\n",
      "  y = column_or_1d(y, warn=True)\n"
     ]
    },
    {
     "name": "stdout",
     "output_type": "stream",
     "text": [
      "----SVM kfold---------- 0.7884469696969697 SVC(C=11, coef0=2.001, degree=4, gamma='auto', kernel='poly')\n",
      "* 2*\n",
      "{'C': 11, 'break_ties': False, 'cache_size': 200, 'class_weight': None, 'coef0': 2.001, 'decision_function_shape': 'ovr', 'degree': 4, 'gamma': 'auto', 'kernel': 'poly', 'max_iter': -1, 'probability': False, 'random_state': None, 'shrinking': True, 'tol': 0.001, 'verbose': False}\n",
      "------run_cv runs successfully------------\n",
      "++++++++++++save_confusion_matrix++++++++++++\n"
     ]
    },
    {
     "name": "stderr",
     "output_type": "stream",
     "text": [
      "c:\\Users\\sbhuv\\AppData\\Local\\Programs\\Python\\Python38\\lib\\site-packages\\sklearn\\utils\\validation.py:1143: DataConversionWarning: A column-vector y was passed when a 1d array was expected. Please change the shape of y to (n_samples, ), for example using ravel().\n",
      "  y = column_or_1d(y, warn=True)\n",
      "Classificationv3.py:353: UserWarning: FixedFormatter should only be used together with FixedLocator\n",
      "  axs[i].set_xticklabels([''] + ['0', '1'], fontsize='xx-large')\n",
      "Classificationv3.py:354: UserWarning: FixedFormatter should only be used together with FixedLocator\n",
      "  axs[i].set_yticklabels([''] + ['0', '1'], fontsize='xx-large')\n"
     ]
    },
    {
     "name": "stdout",
     "output_type": "stream",
     "text": [
      "++++++++++++save_confusion_matrix end++++++++++++\n",
      "(((((((((((((((((((((( draw droc ))))))))))))))))))))))))))))))\n",
      "(((((((( draw droc end ))))))))\n",
      "~~~~~~~~~~~~~~~~~ SB-003 ~~~~~~~~~~~~~~~~~~~~~~\n",
      "~~~~~~~~~~ Number of instances before balancing:  120  ~~~~~~~~~~\n",
      "~~~~~~~ Training Loss: 0.013127049431204796  ~~~~~~~\n",
      "~~~~~~~ Validation Loss: 0.016621816903352737  ~~~~~~~\n",
      "1/1 [==============================] - 0s 449ms/step\n",
      "~~~~~~~ value_counts: ~~~~~~~\n",
      "1    90\n",
      "0    60\n",
      "Name: class, dtype: int64\n",
      "~~~~~~~~~~ Number of instances after balancing:  150  ~~~~~~~~~~\n",
      "~~~~~~~~~~ Number of instances before balancing:  120  ~~~~~~~~~~\n",
      "~~~~~~~ Training Loss: 0.009828121401369572  ~~~~~~~\n",
      "~~~~~~~ Validation Loss: 0.016354626044631004  ~~~~~~~\n",
      "WARNING:tensorflow:5 out of the last 8 calls to <function Model.make_predict_function.<locals>.predict_function at 0x00000229C804EA60> triggered tf.function retracing. Tracing is expensive and the excessive number of tracings could be due to (1) creating @tf.function repeatedly in a loop, (2) passing tensors with different shapes, (3) passing Python objects instead of tensors. For (1), please define your @tf.function outside of the loop. For (2), @tf.function has reduce_retracing=True option that can avoid unnecessary retracing. For (3), please refer to https://www.tensorflow.org/guide/function#controlling_retracing and https://www.tensorflow.org/api_docs/python/tf/function for  more details.\n",
      "2/2 [==============================] - 0s 5ms/step\n",
      "~~~~~~~ value_counts: ~~~~~~~\n",
      "1    87\n",
      "0    66\n",
      "Name: class, dtype: int64\n",
      "~~~~~~~~~~ Number of instances after balancing:  153  ~~~~~~~~~~\n",
      "~~~~~~~~~~ Number of instances before balancing:  120  ~~~~~~~~~~\n",
      "~~~~~~~ Training Loss: 0.011451263912022114  ~~~~~~~\n",
      "~~~~~~~ Validation Loss: 0.025164518505334854  ~~~~~~~\n",
      "WARNING:tensorflow:6 out of the last 10 calls to <function Model.make_predict_function.<locals>.predict_function at 0x00000229C92D94C0> triggered tf.function retracing. Tracing is expensive and the excessive number of tracings could be due to (1) creating @tf.function repeatedly in a loop, (2) passing tensors with different shapes, (3) passing Python objects instead of tensors. For (1), please define your @tf.function outside of the loop. For (2), @tf.function has reduce_retracing=True option that can avoid unnecessary retracing. For (3), please refer to https://www.tensorflow.org/guide/function#controlling_retracing and https://www.tensorflow.org/api_docs/python/tf/function for  more details.\n",
      "1/1 [==============================] - 0s 261ms/step\n",
      "~~~~~~~ value_counts: ~~~~~~~\n",
      "1    93\n",
      "0    54\n",
      "Name: class, dtype: int64\n",
      "~~~~~~~~~~ Number of instances after balancing:  147  ~~~~~~~~~~\n",
      "~~~~~~~~~~ SVM ~~~~~~~~~~~~~~~\n",
      "-----------kfold--------------- 0 ------------\n",
      "----SVM kfold---------- 0.7 SVC(C=11, coef0=0.001)\n",
      "* 0-----------kfold--------------- 1 ------------\n"
     ]
    },
    {
     "name": "stderr",
     "output_type": "stream",
     "text": [
      "c:\\Users\\sbhuv\\AppData\\Local\\Programs\\Python\\Python38\\lib\\site-packages\\sklearn\\utils\\validation.py:1143: DataConversionWarning: A column-vector y was passed when a 1d array was expected. Please change the shape of y to (n_samples, ), for example using ravel().\n",
      "  y = column_or_1d(y, warn=True)\n"
     ]
    },
    {
     "name": "stdout",
     "output_type": "stream",
     "text": [
      "----SVM kfold---------- 0.738494623655914 SVC(C=1, coef0=1.001, degree=5, kernel='poly')\n",
      "* 1-----------kfold--------------- 2 ------------\n"
     ]
    },
    {
     "name": "stderr",
     "output_type": "stream",
     "text": [
      "c:\\Users\\sbhuv\\AppData\\Local\\Programs\\Python\\Python38\\lib\\site-packages\\sklearn\\utils\\validation.py:1143: DataConversionWarning: A column-vector y was passed when a 1d array was expected. Please change the shape of y to (n_samples, ), for example using ravel().\n",
      "  y = column_or_1d(y, warn=True)\n"
     ]
    },
    {
     "name": "stdout",
     "output_type": "stream",
     "text": [
      "----SVM kfold---------- 0.7622988505747127 SVC(C=11, coef0=0.001, degree=5, kernel='poly')\n",
      "* 2*\n",
      "{'C': 11, 'break_ties': False, 'cache_size': 200, 'class_weight': None, 'coef0': 0.001, 'decision_function_shape': 'ovr', 'degree': 5, 'gamma': 'scale', 'kernel': 'poly', 'max_iter': -1, 'probability': False, 'random_state': None, 'shrinking': True, 'tol': 0.001, 'verbose': False}\n",
      "------run_cv runs successfully------------\n",
      "++++++++++++save_confusion_matrix++++++++++++\n"
     ]
    },
    {
     "name": "stderr",
     "output_type": "stream",
     "text": [
      "c:\\Users\\sbhuv\\AppData\\Local\\Programs\\Python\\Python38\\lib\\site-packages\\sklearn\\utils\\validation.py:1143: DataConversionWarning: A column-vector y was passed when a 1d array was expected. Please change the shape of y to (n_samples, ), for example using ravel().\n",
      "  y = column_or_1d(y, warn=True)\n",
      "Classificationv3.py:353: UserWarning: FixedFormatter should only be used together with FixedLocator\n",
      "  axs[i].set_xticklabels([''] + ['0', '1'], fontsize='xx-large')\n",
      "Classificationv3.py:354: UserWarning: FixedFormatter should only be used together with FixedLocator\n",
      "  axs[i].set_yticklabels([''] + ['0', '1'], fontsize='xx-large')\n"
     ]
    },
    {
     "name": "stdout",
     "output_type": "stream",
     "text": [
      "++++++++++++save_confusion_matrix end++++++++++++\n",
      "(((((((((((((((((((((( draw droc ))))))))))))))))))))))))))))))\n",
      "(((((((( draw droc end ))))))))\n",
      "~~~~~~~~~~~~~~~~~ SB-008 ~~~~~~~~~~~~~~~~~~~~~~\n",
      "~~~~~~~~~~ Number of instances before balancing:  118  ~~~~~~~~~~\n",
      "~~~~~~~ Training Loss: 0.021827703341841698  ~~~~~~~\n",
      "~~~~~~~ Validation Loss: 0.019498562440276146  ~~~~~~~\n",
      "1/1 [==============================] - 0s 243ms/step\n",
      "~~~~~~~ value_counts: ~~~~~~~\n",
      "1    91\n",
      "0    54\n",
      "Name: class, dtype: int64\n",
      "~~~~~~~~~~ Number of instances after balancing:  145  ~~~~~~~~~~\n",
      "~~~~~~~~~~ Number of instances before balancing:  119  ~~~~~~~~~~\n",
      "~~~~~~~ Training Loss: 0.009353239089250565  ~~~~~~~\n",
      "~~~~~~~ Validation Loss: 0.019816040992736816  ~~~~~~~\n",
      "2/2 [==============================] - 0s 5ms/step\n",
      "~~~~~~~ value_counts: ~~~~~~~\n",
      "1    86\n",
      "0    66\n",
      "Name: class, dtype: int64\n",
      "~~~~~~~~~~ Number of instances after balancing:  152  ~~~~~~~~~~\n",
      "~~~~~~~~~~ Number of instances before balancing:  119  ~~~~~~~~~~\n",
      "~~~~~~~ Training Loss: 0.012571822851896286  ~~~~~~~\n",
      "~~~~~~~ Validation Loss: 0.021240876987576485  ~~~~~~~\n",
      "1/1 [==============================] - 0s 329ms/step\n",
      "~~~~~~~ value_counts: ~~~~~~~\n",
      "1    93\n",
      "0    52\n",
      "Name: class, dtype: int64\n",
      "~~~~~~~~~~ Number of instances after balancing:  145  ~~~~~~~~~~\n",
      "~~~~~~~~~~ SVM ~~~~~~~~~~~~~~~\n",
      "-----------kfold--------------- 0 ------------\n",
      "----SVM kfold---------- 0.8206896551724137 SVC(C=41, coef0=1.001, degree=5, gamma='auto', kernel='poly')\n",
      "* 0-----------kfold--------------- 1 ------------\n"
     ]
    },
    {
     "name": "stderr",
     "output_type": "stream",
     "text": [
      "c:\\Users\\sbhuv\\AppData\\Local\\Programs\\Python\\Python38\\lib\\site-packages\\sklearn\\utils\\validation.py:1143: DataConversionWarning: A column-vector y was passed when a 1d array was expected. Please change the shape of y to (n_samples, ), for example using ravel().\n",
      "  y = column_or_1d(y, warn=True)\n",
      "c:\\Users\\sbhuv\\AppData\\Local\\Programs\\Python\\Python38\\lib\\site-packages\\sklearn\\utils\\validation.py:1143: DataConversionWarning: A column-vector y was passed when a 1d array was expected. Please change the shape of y to (n_samples, ), for example using ravel().\n",
      "  y = column_or_1d(y, warn=True)\n"
     ]
    },
    {
     "name": "stdout",
     "output_type": "stream",
     "text": [
      "* 1-----------kfold--------------- 2 ------------\n",
      "----SVM kfold---------- 0.8758620689655172 SVC(C=11, coef0=0.001)\n",
      "* 2*\n",
      "{'C': 11, 'break_ties': False, 'cache_size': 200, 'class_weight': None, 'coef0': 0.001, 'decision_function_shape': 'ovr', 'degree': 3, 'gamma': 'scale', 'kernel': 'rbf', 'max_iter': -1, 'probability': False, 'random_state': None, 'shrinking': True, 'tol': 0.001, 'verbose': False}\n",
      "------run_cv runs successfully------------\n",
      "++++++++++++save_confusion_matrix++++++++++++\n"
     ]
    },
    {
     "name": "stderr",
     "output_type": "stream",
     "text": [
      "c:\\Users\\sbhuv\\AppData\\Local\\Programs\\Python\\Python38\\lib\\site-packages\\sklearn\\utils\\validation.py:1143: DataConversionWarning: A column-vector y was passed when a 1d array was expected. Please change the shape of y to (n_samples, ), for example using ravel().\n",
      "  y = column_or_1d(y, warn=True)\n",
      "Classificationv3.py:353: UserWarning: FixedFormatter should only be used together with FixedLocator\n",
      "  axs[i].set_xticklabels([''] + ['0', '1'], fontsize='xx-large')\n",
      "Classificationv3.py:354: UserWarning: FixedFormatter should only be used together with FixedLocator\n",
      "  axs[i].set_yticklabels([''] + ['0', '1'], fontsize='xx-large')\n"
     ]
    },
    {
     "name": "stdout",
     "output_type": "stream",
     "text": [
      "++++++++++++save_confusion_matrix end++++++++++++\n",
      "(((((((((((((((((((((( draw droc ))))))))))))))))))))))))))))))\n",
      "(((((((( draw droc end ))))))))\n",
      "~~~~~~~~~~~~~~~~~ SB-011 ~~~~~~~~~~~~~~~~~~~~~~\n",
      "~~~~~~~~~~ Number of instances before balancing:  140  ~~~~~~~~~~\n",
      "~~~~~~~ Training Loss: 0.02415459416806698  ~~~~~~~\n",
      "~~~~~~~ Validation Loss: 0.033062469214200974  ~~~~~~~\n",
      "2/2 [==============================] - 0s 8ms/step\n",
      "~~~~~~~ value_counts: ~~~~~~~\n",
      "1    95\n",
      "0    90\n",
      "Name: class, dtype: int64\n",
      "~~~~~~~~~~ Number of instances after balancing:  185  ~~~~~~~~~~\n",
      "~~~~~~~~~~ Number of instances before balancing:  140  ~~~~~~~~~~\n",
      "~~~~~~~ Training Loss: 0.014477127231657505  ~~~~~~~\n",
      "~~~~~~~ Validation Loss: 0.024391576647758484  ~~~~~~~\n",
      "2/2 [==============================] - 0s 5ms/step\n",
      "~~~~~~~ value_counts: ~~~~~~~\n",
      "1    102\n",
      "0     76\n",
      "Name: class, dtype: int64\n",
      "~~~~~~~~~~ Number of instances after balancing:  178  ~~~~~~~~~~\n",
      "~~~~~~~~~~ Number of instances before balancing:  140  ~~~~~~~~~~\n",
      "~~~~~~~ Training Loss: 0.00949929840862751  ~~~~~~~\n",
      "~~~~~~~ Validation Loss: 0.018284935504198074  ~~~~~~~\n",
      "2/2 [==============================] - 0s 6ms/step\n",
      "~~~~~~~ value_counts: ~~~~~~~\n",
      "1    97\n",
      "0    86\n",
      "Name: class, dtype: int64\n",
      "~~~~~~~~~~ Number of instances after balancing:  183  ~~~~~~~~~~\n",
      "~~~~~~~~~~ SVM ~~~~~~~~~~~~~~~\n",
      "-----------kfold--------------- 0 ------------\n",
      "----SVM kfold---------- 0.9459459459459459 SVC(C=11, coef0=0.001, gamma='auto')\n",
      "* 0-----------kfold--------------- 1 ------------\n"
     ]
    },
    {
     "name": "stderr",
     "output_type": "stream",
     "text": [
      "c:\\Users\\sbhuv\\AppData\\Local\\Programs\\Python\\Python38\\lib\\site-packages\\sklearn\\utils\\validation.py:1143: DataConversionWarning: A column-vector y was passed when a 1d array was expected. Please change the shape of y to (n_samples, ), for example using ravel().\n",
      "  y = column_or_1d(y, warn=True)\n",
      "c:\\Users\\sbhuv\\AppData\\Local\\Programs\\Python\\Python38\\lib\\site-packages\\sklearn\\utils\\validation.py:1143: DataConversionWarning: A column-vector y was passed when a 1d array was expected. Please change the shape of y to (n_samples, ), for example using ravel().\n",
      "  y = column_or_1d(y, warn=True)\n"
     ]
    },
    {
     "name": "stdout",
     "output_type": "stream",
     "text": [
      "* 1-----------kfold--------------- 2 ------------\n"
     ]
    },
    {
     "name": "stderr",
     "output_type": "stream",
     "text": [
      "c:\\Users\\sbhuv\\AppData\\Local\\Programs\\Python\\Python38\\lib\\site-packages\\sklearn\\utils\\validation.py:1143: DataConversionWarning: A column-vector y was passed when a 1d array was expected. Please change the shape of y to (n_samples, ), for example using ravel().\n",
      "  y = column_or_1d(y, warn=True)\n"
     ]
    },
    {
     "name": "stdout",
     "output_type": "stream",
     "text": [
      "* 2*\n",
      "{'C': 1, 'break_ties': False, 'cache_size': 200, 'class_weight': None, 'coef0': 0.001, 'decision_function_shape': 'ovr', 'degree': 3, 'gamma': 'scale', 'kernel': 'rbf', 'max_iter': -1, 'probability': False, 'random_state': None, 'shrinking': True, 'tol': 0.001, 'verbose': False}\n",
      "------run_cv runs successfully------------\n",
      "++++++++++++save_confusion_matrix++++++++++++\n"
     ]
    },
    {
     "name": "stderr",
     "output_type": "stream",
     "text": [
      "Classificationv3.py:353: UserWarning: FixedFormatter should only be used together with FixedLocator\n",
      "  axs[i].set_xticklabels([''] + ['0', '1'], fontsize='xx-large')\n",
      "Classificationv3.py:354: UserWarning: FixedFormatter should only be used together with FixedLocator\n",
      "  axs[i].set_yticklabels([''] + ['0', '1'], fontsize='xx-large')\n"
     ]
    },
    {
     "name": "stdout",
     "output_type": "stream",
     "text": [
      "++++++++++++save_confusion_matrix end++++++++++++\n",
      "(((((((((((((((((((((( draw droc ))))))))))))))))))))))))))))))\n",
      "(((((((( draw droc end ))))))))\n",
      "~~~~~~~~~~~~~~~~~ SB-012 ~~~~~~~~~~~~~~~~~~~~~~\n",
      "~~~~~~~~~~ Number of instances before balancing:  129  ~~~~~~~~~~\n",
      "~~~~~~~ Training Loss: 0.013469847850501537  ~~~~~~~\n",
      "~~~~~~~ Validation Loss: 0.02417585253715515  ~~~~~~~\n",
      "1/1 [==============================] - 0s 297ms/step\n",
      "~~~~~~~ value_counts: ~~~~~~~\n",
      "1    97\n",
      "0    64\n",
      "Name: class, dtype: int64\n",
      "~~~~~~~~~~ Number of instances after balancing:  161  ~~~~~~~~~~\n",
      "~~~~~~~~~~ Number of instances before balancing:  129  ~~~~~~~~~~\n",
      "~~~~~~~ Training Loss: 0.008015880361199379  ~~~~~~~\n",
      "~~~~~~~ Validation Loss: 0.01574021205306053  ~~~~~~~\n",
      "2/2 [==============================] - 0s 6ms/step\n",
      "~~~~~~~ value_counts: ~~~~~~~\n",
      "1    90\n",
      "0    78\n",
      "Name: class, dtype: int64\n",
      "~~~~~~~~~~ Number of instances after balancing:  168  ~~~~~~~~~~\n",
      "~~~~~~~~~~ Number of instances before balancing:  130  ~~~~~~~~~~\n",
      "~~~~~~~ Training Loss: 0.01576445810496807  ~~~~~~~\n",
      "~~~~~~~ Validation Loss: 0.02843882329761982  ~~~~~~~\n",
      "2/2 [==============================] - 0s 5ms/step\n",
      "~~~~~~~ value_counts: ~~~~~~~\n",
      "1    87\n",
      "0    86\n",
      "Name: class, dtype: int64\n",
      "~~~~~~~~~~ Number of instances after balancing:  173  ~~~~~~~~~~\n",
      "~~~~~~~~~~ SVM ~~~~~~~~~~~~~~~\n",
      "-----------kfold--------------- 0 ------------\n",
      "----SVM kfold---------- 0.8132575757575757 SVC(C=31, coef0=0.001)\n",
      "* 0-----------kfold--------------- 1 ------------\n"
     ]
    },
    {
     "name": "stderr",
     "output_type": "stream",
     "text": [
      "c:\\Users\\sbhuv\\AppData\\Local\\Programs\\Python\\Python38\\lib\\site-packages\\sklearn\\utils\\validation.py:1143: DataConversionWarning: A column-vector y was passed when a 1d array was expected. Please change the shape of y to (n_samples, ), for example using ravel().\n",
      "  y = column_or_1d(y, warn=True)\n"
     ]
    },
    {
     "name": "stdout",
     "output_type": "stream",
     "text": [
      "----SVM kfold---------- 0.8215686274509805 SVC(C=11, coef0=0.501, kernel='poly')\n",
      "* 1-----------kfold--------------- 2 ------------\n"
     ]
    },
    {
     "name": "stderr",
     "output_type": "stream",
     "text": [
      "c:\\Users\\sbhuv\\AppData\\Local\\Programs\\Python\\Python38\\lib\\site-packages\\sklearn\\utils\\validation.py:1143: DataConversionWarning: A column-vector y was passed when a 1d array was expected. Please change the shape of y to (n_samples, ), for example using ravel().\n",
      "  y = column_or_1d(y, warn=True)\n"
     ]
    },
    {
     "name": "stdout",
     "output_type": "stream",
     "text": [
      "----SVM kfold---------- 0.8381512605042017 SVC(C=41, coef0=0.001)\n",
      "* 2*\n",
      "{'C': 41, 'break_ties': False, 'cache_size': 200, 'class_weight': None, 'coef0': 0.001, 'decision_function_shape': 'ovr', 'degree': 3, 'gamma': 'scale', 'kernel': 'rbf', 'max_iter': -1, 'probability': False, 'random_state': None, 'shrinking': True, 'tol': 0.001, 'verbose': False}\n",
      "------run_cv runs successfully------------\n",
      "++++++++++++save_confusion_matrix++++++++++++\n"
     ]
    },
    {
     "name": "stderr",
     "output_type": "stream",
     "text": [
      "c:\\Users\\sbhuv\\AppData\\Local\\Programs\\Python\\Python38\\lib\\site-packages\\sklearn\\utils\\validation.py:1143: DataConversionWarning: A column-vector y was passed when a 1d array was expected. Please change the shape of y to (n_samples, ), for example using ravel().\n",
      "  y = column_or_1d(y, warn=True)\n",
      "Classificationv3.py:353: UserWarning: FixedFormatter should only be used together with FixedLocator\n",
      "  axs[i].set_xticklabels([''] + ['0', '1'], fontsize='xx-large')\n",
      "Classificationv3.py:354: UserWarning: FixedFormatter should only be used together with FixedLocator\n",
      "  axs[i].set_yticklabels([''] + ['0', '1'], fontsize='xx-large')\n"
     ]
    },
    {
     "name": "stdout",
     "output_type": "stream",
     "text": [
      "++++++++++++save_confusion_matrix end++++++++++++\n",
      "(((((((((((((((((((((( draw droc ))))))))))))))))))))))))))))))\n",
      "(((((((( draw droc end ))))))))\n",
      "~~~~~~~~~~~~~~~~~ SB-022 ~~~~~~~~~~~~~~~~~~~~~~\n",
      "~~~~~~~~~~ Number of instances before balancing:  136  ~~~~~~~~~~\n",
      "~~~~~~~ Training Loss: 0.010246201418340206  ~~~~~~~\n",
      "~~~~~~~ Validation Loss: 0.01717752404510975  ~~~~~~~\n",
      "2/2 [==============================] - 0s 5ms/step\n",
      "~~~~~~~ value_counts: ~~~~~~~\n",
      "1    100\n",
      "0     72\n",
      "Name: class, dtype: int64\n",
      "~~~~~~~~~~ Number of instances after balancing:  172  ~~~~~~~~~~\n",
      "~~~~~~~~~~ Number of instances before balancing:  136  ~~~~~~~~~~\n",
      "~~~~~~~ Training Loss: 0.015910297632217407  ~~~~~~~\n",
      "~~~~~~~ Validation Loss: 0.01808224245905876  ~~~~~~~\n",
      "2/2 [==============================] - 0s 6ms/step\n",
      "~~~~~~~ value_counts: ~~~~~~~\n",
      "1    92\n",
      "0    88\n",
      "Name: class, dtype: int64\n",
      "~~~~~~~~~~ Number of instances after balancing:  180  ~~~~~~~~~~\n",
      "~~~~~~~~~~ Number of instances before balancing:  136  ~~~~~~~~~~\n",
      "~~~~~~~ Training Loss: 0.00896662287414074  ~~~~~~~\n",
      "~~~~~~~ Validation Loss: 0.01290719211101532  ~~~~~~~\n",
      "2/2 [==============================] - 0s 6ms/step\n",
      "~~~~~~~ value_counts: ~~~~~~~\n",
      "1    94\n",
      "0    84\n",
      "Name: class, dtype: int64\n",
      "~~~~~~~~~~ Number of instances after balancing:  178  ~~~~~~~~~~\n",
      "~~~~~~~~~~ SVM ~~~~~~~~~~~~~~~\n",
      "-----------kfold--------------- 0 ------------\n",
      "----SVM kfold---------- 0.8092436974789916 SVC(C=41, coef0=0.001)\n",
      "* 0-----------kfold--------------- 1 ------------\n"
     ]
    },
    {
     "name": "stderr",
     "output_type": "stream",
     "text": [
      "c:\\Users\\sbhuv\\AppData\\Local\\Programs\\Python\\Python38\\lib\\site-packages\\sklearn\\utils\\validation.py:1143: DataConversionWarning: A column-vector y was passed when a 1d array was expected. Please change the shape of y to (n_samples, ), for example using ravel().\n",
      "  y = column_or_1d(y, warn=True)\n"
     ]
    },
    {
     "name": "stdout",
     "output_type": "stream",
     "text": [
      "----SVM kfold---------- 0.8166666666666668 SVC(C=21, coef0=0.001, gamma='auto')\n",
      "* 1-----------kfold--------------- 2 ------------\n"
     ]
    },
    {
     "name": "stderr",
     "output_type": "stream",
     "text": [
      "c:\\Users\\sbhuv\\AppData\\Local\\Programs\\Python\\Python38\\lib\\site-packages\\sklearn\\utils\\validation.py:1143: DataConversionWarning: A column-vector y was passed when a 1d array was expected. Please change the shape of y to (n_samples, ), for example using ravel().\n",
      "  y = column_or_1d(y, warn=True)\n",
      "c:\\Users\\sbhuv\\AppData\\Local\\Programs\\Python\\Python38\\lib\\site-packages\\sklearn\\utils\\validation.py:1143: DataConversionWarning: A column-vector y was passed when a 1d array was expected. Please change the shape of y to (n_samples, ), for example using ravel().\n",
      "  y = column_or_1d(y, warn=True)\n",
      "Classificationv3.py:353: UserWarning: FixedFormatter should only be used together with FixedLocator\n",
      "  axs[i].set_xticklabels([''] + ['0', '1'], fontsize='xx-large')\n",
      "Classificationv3.py:354: UserWarning: FixedFormatter should only be used together with FixedLocator\n",
      "  axs[i].set_yticklabels([''] + ['0', '1'], fontsize='xx-large')\n"
     ]
    },
    {
     "name": "stdout",
     "output_type": "stream",
     "text": [
      "* 2*\n",
      "{'C': 11, 'break_ties': False, 'cache_size': 200, 'class_weight': None, 'coef0': 0.001, 'decision_function_shape': 'ovr', 'degree': 3, 'gamma': 'scale', 'kernel': 'poly', 'max_iter': -1, 'probability': False, 'random_state': None, 'shrinking': True, 'tol': 0.001, 'verbose': False}\n",
      "------run_cv runs successfully------------\n",
      "++++++++++++save_confusion_matrix++++++++++++\n",
      "++++++++++++save_confusion_matrix end++++++++++++\n",
      "(((((((((((((((((((((( draw droc ))))))))))))))))))))))))))))))\n",
      "(((((((( draw droc end ))))))))\n",
      "~~~~~~~~~~~~~~~~~ SB-023 ~~~~~~~~~~~~~~~~~~~~~~\n",
      "~~~~~~~~~~ Number of instances before balancing:  129  ~~~~~~~~~~\n",
      "~~~~~~~ Training Loss: 0.009555147029459476  ~~~~~~~\n",
      "~~~~~~~ Validation Loss: 0.02030322700738907  ~~~~~~~\n",
      "2/2 [==============================] - 0s 5ms/step\n",
      "~~~~~~~ value_counts: ~~~~~~~\n",
      "1    91\n",
      "0    76\n",
      "Name: class, dtype: int64\n",
      "~~~~~~~~~~ Number of instances after balancing:  167  ~~~~~~~~~~\n",
      "~~~~~~~~~~ Number of instances before balancing:  129  ~~~~~~~~~~\n",
      "~~~~~~~ Training Loss: 0.01533084362745285  ~~~~~~~\n",
      "~~~~~~~ Validation Loss: 0.02368556521832943  ~~~~~~~\n",
      "2/2 [==============================] - 0s 6ms/step\n",
      "~~~~~~~ value_counts: ~~~~~~~\n",
      "0    92\n",
      "1    83\n",
      "Name: class, dtype: int64\n",
      "~~~~~~~~~~ Number of instances after balancing:  175  ~~~~~~~~~~\n",
      "~~~~~~~~~~ Number of instances before balancing:  130  ~~~~~~~~~~\n",
      "~~~~~~~ Training Loss: 0.011426771059632301  ~~~~~~~\n",
      "~~~~~~~ Validation Loss: 0.01653987541794777  ~~~~~~~\n",
      "2/2 [==============================] - 0s 6ms/step\n",
      "~~~~~~~ value_counts: ~~~~~~~\n",
      "1    94\n",
      "0    72\n",
      "Name: class, dtype: int64\n",
      "~~~~~~~~~~ Number of instances after balancing:  166  ~~~~~~~~~~\n",
      "~~~~~~~~~~ SVM ~~~~~~~~~~~~~~~\n",
      "-----------kfold--------------- 0 ------------\n",
      "----SVM kfold---------- 0.7960784313725491 SVC(C=11, coef0=0.001)\n",
      "* 0-----------kfold--------------- 1 ------------\n"
     ]
    },
    {
     "name": "stderr",
     "output_type": "stream",
     "text": [
      "c:\\Users\\sbhuv\\AppData\\Local\\Programs\\Python\\Python38\\lib\\site-packages\\sklearn\\utils\\validation.py:1143: DataConversionWarning: A column-vector y was passed when a 1d array was expected. Please change the shape of y to (n_samples, ), for example using ravel().\n",
      "  y = column_or_1d(y, warn=True)\n",
      "c:\\Users\\sbhuv\\AppData\\Local\\Programs\\Python\\Python38\\lib\\site-packages\\sklearn\\utils\\validation.py:1143: DataConversionWarning: A column-vector y was passed when a 1d array was expected. Please change the shape of y to (n_samples, ), for example using ravel().\n",
      "  y = column_or_1d(y, warn=True)\n"
     ]
    },
    {
     "name": "stdout",
     "output_type": "stream",
     "text": [
      "* 1-----------kfold--------------- 2 ------------\n"
     ]
    },
    {
     "name": "stderr",
     "output_type": "stream",
     "text": [
      "c:\\Users\\sbhuv\\AppData\\Local\\Programs\\Python\\Python38\\lib\\site-packages\\sklearn\\utils\\validation.py:1143: DataConversionWarning: A column-vector y was passed when a 1d array was expected. Please change the shape of y to (n_samples, ), for example using ravel().\n",
      "  y = column_or_1d(y, warn=True)\n",
      "Classificationv3.py:353: UserWarning: FixedFormatter should only be used together with FixedLocator\n",
      "  axs[i].set_xticklabels([''] + ['0', '1'], fontsize='xx-large')\n",
      "Classificationv3.py:354: UserWarning: FixedFormatter should only be used together with FixedLocator\n",
      "  axs[i].set_yticklabels([''] + ['0', '1'], fontsize='xx-large')\n"
     ]
    },
    {
     "name": "stdout",
     "output_type": "stream",
     "text": [
      "* 2*\n",
      "{'C': 1, 'break_ties': False, 'cache_size': 200, 'class_weight': None, 'coef0': 0.001, 'decision_function_shape': 'ovr', 'degree': 3, 'gamma': 'scale', 'kernel': 'rbf', 'max_iter': -1, 'probability': False, 'random_state': None, 'shrinking': True, 'tol': 0.001, 'verbose': False}\n",
      "------run_cv runs successfully------------\n",
      "++++++++++++save_confusion_matrix++++++++++++\n",
      "++++++++++++save_confusion_matrix end++++++++++++\n",
      "(((((((((((((((((((((( draw droc ))))))))))))))))))))))))))))))\n",
      "(((((((( draw droc end ))))))))\n",
      "~~~~~~~~~~~~~~~~~ SB-025 ~~~~~~~~~~~~~~~~~~~~~~\n",
      "~~~~~~~~~~ Number of instances before balancing:  78  ~~~~~~~~~~\n",
      "~~~~~~~ Training Loss: 0.024681225419044495  ~~~~~~~\n",
      "~~~~~~~ Validation Loss: 0.03999156132340431  ~~~~~~~\n",
      "1/1 [==============================] - 0s 409ms/step\n",
      "~~~~~~~ value_counts: ~~~~~~~\n",
      "1    61\n",
      "0    34\n",
      "Name: class, dtype: int64\n",
      "~~~~~~~~~~ Number of instances after balancing:  95  ~~~~~~~~~~\n",
      "~~~~~~~~~~ Number of instances before balancing:  78  ~~~~~~~~~~\n",
      "~~~~~~~ Training Loss: 0.011395968496799469  ~~~~~~~\n",
      "~~~~~~~ Validation Loss: 0.059423476457595825  ~~~~~~~\n",
      "1/1 [==============================] - 0s 268ms/step\n",
      "~~~~~~~ value_counts: ~~~~~~~\n",
      "1    64\n",
      "0    28\n",
      "Name: class, dtype: int64\n",
      "~~~~~~~~~~ Number of instances after balancing:  92  ~~~~~~~~~~\n",
      "~~~~~~~~~~ Number of instances before balancing:  78  ~~~~~~~~~~\n",
      "~~~~~~~ Training Loss: 0.02304757572710514  ~~~~~~~\n",
      "~~~~~~~ Validation Loss: 0.04594042897224426  ~~~~~~~\n",
      "1/1 [==============================] - 0s 342ms/step\n",
      "~~~~~~~ value_counts: ~~~~~~~\n",
      "1    59\n",
      "0    38\n",
      "Name: class, dtype: int64\n",
      "~~~~~~~~~~ Number of instances after balancing:  97  ~~~~~~~~~~\n",
      "~~~~~~~~~~ SVM ~~~~~~~~~~~~~~~\n",
      "-----------kfold--------------- 0 ------------\n",
      "----SVM kfold---------- 0.8210526315789475 SVC(C=1, coef0=0.001)\n",
      "* 0-----------kfold--------------- 1 ------------\n"
     ]
    },
    {
     "name": "stderr",
     "output_type": "stream",
     "text": [
      "c:\\Users\\sbhuv\\AppData\\Local\\Programs\\Python\\Python38\\lib\\site-packages\\sklearn\\utils\\validation.py:1143: DataConversionWarning: A column-vector y was passed when a 1d array was expected. Please change the shape of y to (n_samples, ), for example using ravel().\n",
      "  y = column_or_1d(y, warn=True)\n",
      "c:\\Users\\sbhuv\\AppData\\Local\\Programs\\Python\\Python38\\lib\\site-packages\\sklearn\\utils\\validation.py:1143: DataConversionWarning: A column-vector y was passed when a 1d array was expected. Please change the shape of y to (n_samples, ), for example using ravel().\n",
      "  y = column_or_1d(y, warn=True)\n"
     ]
    },
    {
     "name": "stdout",
     "output_type": "stream",
     "text": [
      "* 1-----------kfold--------------- 2 ------------\n"
     ]
    },
    {
     "name": "stderr",
     "output_type": "stream",
     "text": [
      "c:\\Users\\sbhuv\\AppData\\Local\\Programs\\Python\\Python38\\lib\\site-packages\\sklearn\\utils\\validation.py:1143: DataConversionWarning: A column-vector y was passed when a 1d array was expected. Please change the shape of y to (n_samples, ), for example using ravel().\n",
      "  y = column_or_1d(y, warn=True)\n",
      "Classificationv3.py:353: UserWarning: FixedFormatter should only be used together with FixedLocator\n",
      "  axs[i].set_xticklabels([''] + ['0', '1'], fontsize='xx-large')\n",
      "Classificationv3.py:354: UserWarning: FixedFormatter should only be used together with FixedLocator\n",
      "  axs[i].set_yticklabels([''] + ['0', '1'], fontsize='xx-large')\n"
     ]
    },
    {
     "name": "stdout",
     "output_type": "stream",
     "text": [
      "* 2*\n",
      "{'C': 1, 'break_ties': False, 'cache_size': 200, 'class_weight': None, 'coef0': 2.501, 'decision_function_shape': 'ovr', 'degree': 4, 'gamma': 'auto', 'kernel': 'poly', 'max_iter': -1, 'probability': False, 'random_state': None, 'shrinking': True, 'tol': 0.001, 'verbose': False}\n",
      "------run_cv runs successfully------------\n",
      "++++++++++++save_confusion_matrix++++++++++++\n",
      "++++++++++++save_confusion_matrix end++++++++++++\n",
      "(((((((((((((((((((((( draw droc ))))))))))))))))))))))))))))))\n",
      "(((((((( draw droc end ))))))))\n",
      "~~~~~~~~~~~~~~~~~ SB-028 ~~~~~~~~~~~~~~~~~~~~~~\n",
      "~~~~~~~~~~ Number of instances before balancing:  61  ~~~~~~~~~~\n",
      "~~~~~~~ Training Loss: 0.012925252318382263  ~~~~~~~\n",
      "~~~~~~~ Validation Loss: 0.023621248081326485  ~~~~~~~\n",
      "1/1 [==============================] - 0s 413ms/step\n",
      "~~~~~~~ value_counts: ~~~~~~~\n",
      "1    42\n",
      "0    38\n",
      "Name: class, dtype: int64\n",
      "~~~~~~~~~~ Number of instances after balancing:  80  ~~~~~~~~~~\n",
      "~~~~~~~~~~ Number of instances before balancing:  61  ~~~~~~~~~~\n",
      "~~~~~~~ Training Loss: 0.012042869813740253  ~~~~~~~\n",
      "~~~~~~~ Validation Loss: 0.018319997936487198  ~~~~~~~\n",
      "1/1 [==============================] - 0s 400ms/step\n",
      "~~~~~~~ value_counts: ~~~~~~~\n",
      "1    44\n",
      "0    34\n",
      "Name: class, dtype: int64\n",
      "~~~~~~~~~~ Number of instances after balancing:  78  ~~~~~~~~~~\n",
      "~~~~~~~~~~ Number of instances before balancing:  62  ~~~~~~~~~~\n",
      "~~~~~~~ Training Loss: 0.014637933112680912  ~~~~~~~\n",
      "~~~~~~~ Validation Loss: 0.02505376935005188  ~~~~~~~\n",
      "1/1 [==============================] - 0s 425ms/step\n",
      "~~~~~~~ value_counts: ~~~~~~~\n",
      "1    42\n",
      "0    40\n",
      "Name: class, dtype: int64\n",
      "~~~~~~~~~~ Number of instances after balancing:  82  ~~~~~~~~~~\n",
      "~~~~~~~~~~ SVM ~~~~~~~~~~~~~~~\n",
      "-----------kfold--------------- 0 ------------\n",
      "----SVM kfold---------- 0.7875 SVC(C=11, coef0=2.001, degree=5, gamma='auto', kernel='poly')\n",
      "* 0-----------kfold--------------- 1 ------------\n"
     ]
    },
    {
     "name": "stderr",
     "output_type": "stream",
     "text": [
      "c:\\Users\\sbhuv\\AppData\\Local\\Programs\\Python\\Python38\\lib\\site-packages\\sklearn\\utils\\validation.py:1143: DataConversionWarning: A column-vector y was passed when a 1d array was expected. Please change the shape of y to (n_samples, ), for example using ravel().\n",
      "  y = column_or_1d(y, warn=True)\n",
      "c:\\Users\\sbhuv\\AppData\\Local\\Programs\\Python\\Python38\\lib\\site-packages\\sklearn\\utils\\validation.py:1143: DataConversionWarning: A column-vector y was passed when a 1d array was expected. Please change the shape of y to (n_samples, ), for example using ravel().\n",
      "  y = column_or_1d(y, warn=True)\n"
     ]
    },
    {
     "name": "stdout",
     "output_type": "stream",
     "text": [
      "* 1-----------kfold--------------- 2 ------------\n",
      "----SVM kfold---------- 0.8080882352941178 SVC(C=11, coef0=0.001)\n",
      "* 2*\n",
      "{'C': 11, 'break_ties': False, 'cache_size': 200, 'class_weight': None, 'coef0': 0.001, 'decision_function_shape': 'ovr', 'degree': 3, 'gamma': 'scale', 'kernel': 'rbf', 'max_iter': -1, 'probability': False, 'random_state': None, 'shrinking': True, 'tol': 0.001, 'verbose': False}\n",
      "------run_cv runs successfully------------\n",
      "++++++++++++save_confusion_matrix++++++++++++\n"
     ]
    },
    {
     "name": "stderr",
     "output_type": "stream",
     "text": [
      "c:\\Users\\sbhuv\\AppData\\Local\\Programs\\Python\\Python38\\lib\\site-packages\\sklearn\\utils\\validation.py:1143: DataConversionWarning: A column-vector y was passed when a 1d array was expected. Please change the shape of y to (n_samples, ), for example using ravel().\n",
      "  y = column_or_1d(y, warn=True)\n",
      "Classificationv3.py:353: UserWarning: FixedFormatter should only be used together with FixedLocator\n",
      "  axs[i].set_xticklabels([''] + ['0', '1'], fontsize='xx-large')\n",
      "Classificationv3.py:354: UserWarning: FixedFormatter should only be used together with FixedLocator\n",
      "  axs[i].set_yticklabels([''] + ['0', '1'], fontsize='xx-large')\n"
     ]
    },
    {
     "name": "stdout",
     "output_type": "stream",
     "text": [
      "++++++++++++save_confusion_matrix end++++++++++++\n",
      "(((((((((((((((((((((( draw droc ))))))))))))))))))))))))))))))\n",
      "(((((((( draw droc end ))))))))\n",
      "~~~~~~~~~~~~~~~~~ SB-033 ~~~~~~~~~~~~~~~~~~~~~~\n",
      "~~~~~~~~~~ Number of instances before balancing:  35  ~~~~~~~~~~\n",
      "~~~~~~~ Training Loss: 0.01914953999221325  ~~~~~~~\n",
      "~~~~~~~ Validation Loss: 0.0342850498855114  ~~~~~~~\n",
      "1/1 [==============================] - 0s 450ms/step\n",
      "~~~~~~~ value_counts: ~~~~~~~\n",
      "0    30\n",
      "1    20\n",
      "Name: class, dtype: int64\n",
      "~~~~~~~~~~ Number of instances after balancing:  50  ~~~~~~~~~~\n",
      "~~~~~~~~~~ Number of instances before balancing:  35  ~~~~~~~~~~\n",
      "~~~~~~~ Training Loss: 0.0195254385471344  ~~~~~~~\n",
      "~~~~~~~ Validation Loss: 0.03662482276558876  ~~~~~~~\n",
      "1/1 [==============================] - 0s 415ms/step\n",
      "~~~~~~~ value_counts: ~~~~~~~\n",
      "0    36\n",
      "1    17\n",
      "Name: class, dtype: int64\n",
      "~~~~~~~~~~ Number of instances after balancing:  53  ~~~~~~~~~~\n",
      "~~~~~~~~~~ Number of instances before balancing:  36  ~~~~~~~~~~\n",
      "~~~~~~~ Training Loss: 0.010613588616251945  ~~~~~~~\n",
      "~~~~~~~ Validation Loss: 0.027913114055991173  ~~~~~~~\n",
      "1/1 [==============================] - 0s 230ms/step\n",
      "~~~~~~~ value_counts: ~~~~~~~\n",
      "0    26\n",
      "1    23\n",
      "Name: class, dtype: int64\n",
      "~~~~~~~~~~ Number of instances after balancing:  49  ~~~~~~~~~~\n",
      "~~~~~~~~~~ SVM ~~~~~~~~~~~~~~~\n",
      "-----------kfold--------------- 0 ------------\n",
      "----SVM kfold---------- 0.7600000000000001 SVC(C=31, coef0=0.001, gamma='auto', kernel='poly')\n",
      "* 0-----------kfold--------------- 1 ------------\n"
     ]
    },
    {
     "name": "stderr",
     "output_type": "stream",
     "text": [
      "c:\\Users\\sbhuv\\AppData\\Local\\Programs\\Python\\Python38\\lib\\site-packages\\sklearn\\utils\\validation.py:1143: DataConversionWarning: A column-vector y was passed when a 1d array was expected. Please change the shape of y to (n_samples, ), for example using ravel().\n",
      "  y = column_or_1d(y, warn=True)\n"
     ]
    },
    {
     "name": "stdout",
     "output_type": "stream",
     "text": [
      "----SVM kfold---------- 0.809090909090909 SVC(C=1, coef0=2.501, degree=4, gamma='auto', kernel='poly')\n",
      "* 1-----------kfold--------------- 2 ------------\n"
     ]
    },
    {
     "name": "stderr",
     "output_type": "stream",
     "text": [
      "c:\\Users\\sbhuv\\AppData\\Local\\Programs\\Python\\Python38\\lib\\site-packages\\sklearn\\utils\\validation.py:1143: DataConversionWarning: A column-vector y was passed when a 1d array was expected. Please change the shape of y to (n_samples, ), for example using ravel().\n",
      "  y = column_or_1d(y, warn=True)\n",
      "c:\\Users\\sbhuv\\AppData\\Local\\Programs\\Python\\Python38\\lib\\site-packages\\sklearn\\utils\\validation.py:1143: DataConversionWarning: A column-vector y was passed when a 1d array was expected. Please change the shape of y to (n_samples, ), for example using ravel().\n",
      "  y = column_or_1d(y, warn=True)\n",
      "Classificationv3.py:353: UserWarning: FixedFormatter should only be used together with FixedLocator\n",
      "  axs[i].set_xticklabels([''] + ['0', '1'], fontsize='xx-large')\n",
      "Classificationv3.py:354: UserWarning: FixedFormatter should only be used together with FixedLocator\n",
      "  axs[i].set_yticklabels([''] + ['0', '1'], fontsize='xx-large')\n"
     ]
    },
    {
     "name": "stdout",
     "output_type": "stream",
     "text": [
      "* 2*\n",
      "{'C': 11, 'break_ties': False, 'cache_size': 200, 'class_weight': None, 'coef0': 0.001, 'decision_function_shape': 'ovr', 'degree': 3, 'gamma': 'scale', 'kernel': 'rbf', 'max_iter': -1, 'probability': False, 'random_state': None, 'shrinking': True, 'tol': 0.001, 'verbose': False}\n",
      "------run_cv runs successfully------------\n",
      "++++++++++++save_confusion_matrix++++++++++++\n",
      "++++++++++++save_confusion_matrix end++++++++++++\n",
      "(((((((((((((((((((((( draw droc ))))))))))))))))))))))))))))))\n",
      "(((((((( draw droc end ))))))))\n",
      "~~~~~~~~~~~~~~~~~ SB-037 ~~~~~~~~~~~~~~~~~~~~~~\n",
      "~~~~~~~~~~ Number of instances before balancing:  140  ~~~~~~~~~~\n",
      "~~~~~~~ Training Loss: 0.014088955707848072  ~~~~~~~\n",
      "~~~~~~~ Validation Loss: 0.01947719044983387  ~~~~~~~\n",
      "2/2 [==============================] - 0s 6ms/step\n",
      "~~~~~~~ value_counts: ~~~~~~~\n",
      "1    94\n",
      "0    92\n",
      "Name: class, dtype: int64\n",
      "~~~~~~~~~~ Number of instances after balancing:  186  ~~~~~~~~~~\n",
      "~~~~~~~~~~ Number of instances before balancing:  140  ~~~~~~~~~~\n",
      "~~~~~~~ Training Loss: 0.019436653703451157  ~~~~~~~\n",
      "~~~~~~~ Validation Loss: 0.022136010229587555  ~~~~~~~\n",
      "2/2 [==============================] - 0s 7ms/step\n",
      "~~~~~~~ value_counts: ~~~~~~~\n",
      "1    96\n",
      "0    88\n",
      "Name: class, dtype: int64\n",
      "~~~~~~~~~~ Number of instances after balancing:  184  ~~~~~~~~~~\n",
      "~~~~~~~~~~ Number of instances before balancing:  140  ~~~~~~~~~~\n",
      "~~~~~~~ Training Loss: 0.014126239344477654  ~~~~~~~\n",
      "~~~~~~~ Validation Loss: 0.022907186299562454  ~~~~~~~\n",
      "2/2 [==============================] - 0s 7ms/step\n",
      "~~~~~~~ value_counts: ~~~~~~~\n",
      "1    104\n",
      "0     72\n",
      "Name: class, dtype: int64\n",
      "~~~~~~~~~~ Number of instances after balancing:  176  ~~~~~~~~~~\n",
      "~~~~~~~~~~ SVM ~~~~~~~~~~~~~~~\n",
      "-----------kfold--------------- 0 ------------\n",
      "----SVM kfold---------- 0.7795163584637269 SVC(C=21, coef0=0.001)\n",
      "* 0-----------kfold--------------- 1 ------------\n"
     ]
    },
    {
     "name": "stderr",
     "output_type": "stream",
     "text": [
      "c:\\Users\\sbhuv\\AppData\\Local\\Programs\\Python\\Python38\\lib\\site-packages\\sklearn\\utils\\validation.py:1143: DataConversionWarning: A column-vector y was passed when a 1d array was expected. Please change the shape of y to (n_samples, ), for example using ravel().\n",
      "  y = column_or_1d(y, warn=True)\n",
      "c:\\Users\\sbhuv\\AppData\\Local\\Programs\\Python\\Python38\\lib\\site-packages\\sklearn\\utils\\validation.py:1143: DataConversionWarning: A column-vector y was passed when a 1d array was expected. Please change the shape of y to (n_samples, ), for example using ravel().\n",
      "  y = column_or_1d(y, warn=True)\n"
     ]
    },
    {
     "name": "stdout",
     "output_type": "stream",
     "text": [
      "* 1-----------kfold--------------- 2 ------------\n"
     ]
    },
    {
     "name": "stderr",
     "output_type": "stream",
     "text": [
      "c:\\Users\\sbhuv\\AppData\\Local\\Programs\\Python\\Python38\\lib\\site-packages\\sklearn\\utils\\validation.py:1143: DataConversionWarning: A column-vector y was passed when a 1d array was expected. Please change the shape of y to (n_samples, ), for example using ravel().\n",
      "  y = column_or_1d(y, warn=True)\n",
      "Classificationv3.py:353: UserWarning: FixedFormatter should only be used together with FixedLocator\n",
      "  axs[i].set_xticklabels([''] + ['0', '1'], fontsize='xx-large')\n",
      "Classificationv3.py:354: UserWarning: FixedFormatter should only be used together with FixedLocator\n",
      "  axs[i].set_yticklabels([''] + ['0', '1'], fontsize='xx-large')\n"
     ]
    },
    {
     "name": "stdout",
     "output_type": "stream",
     "text": [
      "* 2*\n",
      "{'C': 1, 'break_ties': False, 'cache_size': 200, 'class_weight': None, 'coef0': 0.001, 'decision_function_shape': 'ovr', 'degree': 3, 'gamma': 'scale', 'kernel': 'rbf', 'max_iter': -1, 'probability': False, 'random_state': None, 'shrinking': True, 'tol': 0.001, 'verbose': False}\n",
      "------run_cv runs successfully------------\n",
      "++++++++++++save_confusion_matrix++++++++++++\n",
      "++++++++++++save_confusion_matrix end++++++++++++\n",
      "(((((((((((((((((((((( draw droc ))))))))))))))))))))))))))))))\n",
      "(((((((( draw droc end ))))))))\n",
      "~~~~~~~~~~~~~~~~~ SB-043 ~~~~~~~~~~~~~~~~~~~~~~\n",
      "~~~~~~~~~~ Number of instances before balancing:  127  ~~~~~~~~~~\n",
      "~~~~~~~ Training Loss: 0.016445400193333626  ~~~~~~~\n",
      "~~~~~~~ Validation Loss: 0.03630942478775978  ~~~~~~~\n",
      "2/2 [==============================] - 0s 4ms/step\n",
      "~~~~~~~ value_counts: ~~~~~~~\n",
      "1    93\n",
      "0    68\n",
      "Name: class, dtype: int64\n",
      "~~~~~~~~~~ Number of instances after balancing:  161  ~~~~~~~~~~\n",
      "~~~~~~~~~~ Number of instances before balancing:  127  ~~~~~~~~~~\n",
      "~~~~~~~ Training Loss: 0.011001444421708584  ~~~~~~~\n",
      "~~~~~~~ Validation Loss: 0.02510068565607071  ~~~~~~~\n",
      "2/2 [==============================] - 0s 19ms/step\n",
      "~~~~~~~ value_counts: ~~~~~~~\n",
      "1    92\n",
      "0    70\n",
      "Name: class, dtype: int64\n",
      "~~~~~~~~~~ Number of instances after balancing:  162  ~~~~~~~~~~\n",
      "~~~~~~~~~~ Number of instances before balancing:  128  ~~~~~~~~~~\n",
      "~~~~~~~ Training Loss: 0.012934728525578976  ~~~~~~~\n",
      "~~~~~~~ Validation Loss: 0.016209229826927185  ~~~~~~~\n",
      "2/2 [==============================] - 0s 4ms/step\n",
      "~~~~~~~ value_counts: ~~~~~~~\n",
      "1    93\n",
      "0    70\n",
      "Name: class, dtype: int64\n",
      "~~~~~~~~~~ Number of instances after balancing:  163  ~~~~~~~~~~\n",
      "~~~~~~~~~~ SVM ~~~~~~~~~~~~~~~\n",
      "-----------kfold--------------- 0 ------------\n",
      "----SVM kfold---------- 0.8570075757575758 SVC(C=41, coef0=2.501, degree=4, gamma='auto', kernel='poly')\n",
      "* 0-----------kfold--------------- 1 ------------\n"
     ]
    },
    {
     "name": "stderr",
     "output_type": "stream",
     "text": [
      "c:\\Users\\sbhuv\\AppData\\Local\\Programs\\Python\\Python38\\lib\\site-packages\\sklearn\\utils\\validation.py:1143: DataConversionWarning: A column-vector y was passed when a 1d array was expected. Please change the shape of y to (n_samples, ), for example using ravel().\n",
      "  y = column_or_1d(y, warn=True)\n",
      "c:\\Users\\sbhuv\\AppData\\Local\\Programs\\Python\\Python38\\lib\\site-packages\\sklearn\\utils\\validation.py:1143: DataConversionWarning: A column-vector y was passed when a 1d array was expected. Please change the shape of y to (n_samples, ), for example using ravel().\n",
      "  y = column_or_1d(y, warn=True)\n"
     ]
    },
    {
     "name": "stdout",
     "output_type": "stream",
     "text": [
      "* 1-----------kfold--------------- 2 ------------\n"
     ]
    },
    {
     "name": "stderr",
     "output_type": "stream",
     "text": [
      "c:\\Users\\sbhuv\\AppData\\Local\\Programs\\Python\\Python38\\lib\\site-packages\\sklearn\\utils\\validation.py:1143: DataConversionWarning: A column-vector y was passed when a 1d array was expected. Please change the shape of y to (n_samples, ), for example using ravel().\n",
      "  y = column_or_1d(y, warn=True)\n",
      "Classificationv3.py:353: UserWarning: FixedFormatter should only be used together with FixedLocator\n",
      "  axs[i].set_xticklabels([''] + ['0', '1'], fontsize='xx-large')\n",
      "Classificationv3.py:354: UserWarning: FixedFormatter should only be used together with FixedLocator\n",
      "  axs[i].set_yticklabels([''] + ['0', '1'], fontsize='xx-large')\n"
     ]
    },
    {
     "name": "stdout",
     "output_type": "stream",
     "text": [
      "* 2*\n",
      "{'C': 21, 'break_ties': False, 'cache_size': 200, 'class_weight': None, 'coef0': 1.501, 'decision_function_shape': 'ovr', 'degree': 4, 'gamma': 'auto', 'kernel': 'poly', 'max_iter': -1, 'probability': False, 'random_state': None, 'shrinking': True, 'tol': 0.001, 'verbose': False}\n",
      "------run_cv runs successfully------------\n",
      "++++++++++++save_confusion_matrix++++++++++++\n",
      "++++++++++++save_confusion_matrix end++++++++++++\n",
      "(((((((((((((((((((((( draw droc ))))))))))))))))))))))))))))))\n",
      "(((((((( draw droc end ))))))))\n",
      "~~~~~~~~~~~~~~~~~ SB-056 ~~~~~~~~~~~~~~~~~~~~~~\n",
      "~~~~~~~~~~ Number of instances before balancing:  127  ~~~~~~~~~~\n",
      "~~~~~~~ Training Loss: 0.017138825729489326  ~~~~~~~\n",
      "~~~~~~~ Validation Loss: 0.03050713613629341  ~~~~~~~\n",
      "1/1 [==============================] - 0s 159ms/step\n",
      "~~~~~~~ value_counts: ~~~~~~~\n",
      "1    101\n",
      "0     52\n",
      "Name: class, dtype: int64\n",
      "~~~~~~~~~~ Number of instances after balancing:  153  ~~~~~~~~~~\n",
      "~~~~~~~~~~ Number of instances before balancing:  127  ~~~~~~~~~~\n",
      "~~~~~~~ Training Loss: 0.01061839796602726  ~~~~~~~\n",
      "~~~~~~~ Validation Loss: 0.019295569509267807  ~~~~~~~\n",
      "1/1 [==============================] - 0s 155ms/step\n",
      "~~~~~~~ value_counts: ~~~~~~~\n",
      "1    100\n",
      "0     54\n",
      "Name: class, dtype: int64\n",
      "~~~~~~~~~~ Number of instances after balancing:  154  ~~~~~~~~~~\n",
      "~~~~~~~~~~ Number of instances before balancing:  128  ~~~~~~~~~~\n",
      "~~~~~~~ Training Loss: 0.016276534646749496  ~~~~~~~\n",
      "~~~~~~~ Validation Loss: 0.02899579331278801  ~~~~~~~\n",
      "1/1 [==============================] - 0s 231ms/step\n",
      "~~~~~~~ value_counts: ~~~~~~~\n",
      "1    99\n",
      "0    58\n",
      "Name: class, dtype: int64\n",
      "~~~~~~~~~~ Number of instances after balancing:  157  ~~~~~~~~~~\n",
      "~~~~~~~~~~ SVM ~~~~~~~~~~~~~~~\n",
      "-----------kfold--------------- 0 ------------\n",
      "----SVM kfold---------- 0.8621505376344085 SVC(C=21, coef0=0.501, degree=4, gamma='auto', kernel='poly')\n",
      "* 0-----------kfold--------------- 1 ------------\n"
     ]
    },
    {
     "name": "stderr",
     "output_type": "stream",
     "text": [
      "c:\\Users\\sbhuv\\AppData\\Local\\Programs\\Python\\Python38\\lib\\site-packages\\sklearn\\utils\\validation.py:1143: DataConversionWarning: A column-vector y was passed when a 1d array was expected. Please change the shape of y to (n_samples, ), for example using ravel().\n",
      "  y = column_or_1d(y, warn=True)\n"
     ]
    },
    {
     "name": "stdout",
     "output_type": "stream",
     "text": [
      "----SVM kfold---------- 0.8638709677419355 SVC(C=41, coef0=0.501, degree=4, gamma='auto', kernel='poly')\n",
      "* 1-----------kfold--------------- 2 ------------\n"
     ]
    },
    {
     "name": "stderr",
     "output_type": "stream",
     "text": [
      "c:\\Users\\sbhuv\\AppData\\Local\\Programs\\Python\\Python38\\lib\\site-packages\\sklearn\\utils\\validation.py:1143: DataConversionWarning: A column-vector y was passed when a 1d array was expected. Please change the shape of y to (n_samples, ), for example using ravel().\n",
      "  y = column_or_1d(y, warn=True)\n"
     ]
    },
    {
     "name": "stdout",
     "output_type": "stream",
     "text": [
      "----SVM kfold---------- 0.8661290322580646 SVC(C=1, coef0=2.001, degree=5, kernel='poly')\n",
      "* 2*\n",
      "{'C': 1, 'break_ties': False, 'cache_size': 200, 'class_weight': None, 'coef0': 2.001, 'decision_function_shape': 'ovr', 'degree': 5, 'gamma': 'scale', 'kernel': 'poly', 'max_iter': -1, 'probability': False, 'random_state': None, 'shrinking': True, 'tol': 0.001, 'verbose': False}\n",
      "------run_cv runs successfully------------\n",
      "++++++++++++save_confusion_matrix++++++++++++\n"
     ]
    },
    {
     "name": "stderr",
     "output_type": "stream",
     "text": [
      "c:\\Users\\sbhuv\\AppData\\Local\\Programs\\Python\\Python38\\lib\\site-packages\\sklearn\\utils\\validation.py:1143: DataConversionWarning: A column-vector y was passed when a 1d array was expected. Please change the shape of y to (n_samples, ), for example using ravel().\n",
      "  y = column_or_1d(y, warn=True)\n",
      "Classificationv3.py:353: UserWarning: FixedFormatter should only be used together with FixedLocator\n",
      "  axs[i].set_xticklabels([''] + ['0', '1'], fontsize='xx-large')\n",
      "Classificationv3.py:354: UserWarning: FixedFormatter should only be used together with FixedLocator\n",
      "  axs[i].set_yticklabels([''] + ['0', '1'], fontsize='xx-large')\n"
     ]
    },
    {
     "name": "stdout",
     "output_type": "stream",
     "text": [
      "++++++++++++save_confusion_matrix end++++++++++++\n",
      "(((((((((((((((((((((( draw droc ))))))))))))))))))))))))))))))\n",
      "(((((((( draw droc end ))))))))\n",
      "~~~~~~~~~~~~~~~~~ SB-059 ~~~~~~~~~~~~~~~~~~~~~~\n",
      "~~~~~~~~~~ Number of instances before balancing:  135  ~~~~~~~~~~\n",
      "~~~~~~~ Training Loss: 0.011637232266366482  ~~~~~~~\n",
      "~~~~~~~ Validation Loss: 0.021153535693883896  ~~~~~~~\n",
      "1/1 [==============================] - 0s 198ms/step\n",
      "~~~~~~~ value_counts: ~~~~~~~\n",
      "1    103\n",
      "0     64\n",
      "Name: class, dtype: int64\n",
      "~~~~~~~~~~ Number of instances after balancing:  167  ~~~~~~~~~~\n",
      "~~~~~~~~~~ Number of instances before balancing:  135  ~~~~~~~~~~\n",
      "~~~~~~~ Training Loss: 0.017324158921837807  ~~~~~~~\n",
      "~~~~~~~ Validation Loss: 0.0210593119263649  ~~~~~~~\n",
      "2/2 [==============================] - 0s 4ms/step\n",
      "~~~~~~~ value_counts: ~~~~~~~\n",
      "1    99\n",
      "0    72\n",
      "Name: class, dtype: int64\n",
      "~~~~~~~~~~ Number of instances after balancing:  171  ~~~~~~~~~~\n",
      "~~~~~~~~~~ Number of instances before balancing:  136  ~~~~~~~~~~\n",
      "~~~~~~~ Training Loss: 0.015907013788819313  ~~~~~~~\n",
      "~~~~~~~ Validation Loss: 0.03217865526676178  ~~~~~~~\n",
      "2/2 [==============================] - 0s 4ms/step\n",
      "~~~~~~~ value_counts: ~~~~~~~\n",
      "1    102\n",
      "0     68\n",
      "Name: class, dtype: int64\n",
      "~~~~~~~~~~ Number of instances after balancing:  170  ~~~~~~~~~~\n",
      "~~~~~~~~~~ SVM ~~~~~~~~~~~~~~~\n",
      "-----------kfold--------------- 0 ------------\n",
      "----SVM kfold---------- 0.8317290552584671 SVC(C=11, coef0=0.001, kernel='poly')\n",
      "* 0-----------kfold--------------- 1 ------------\n"
     ]
    },
    {
     "name": "stderr",
     "output_type": "stream",
     "text": [
      "c:\\Users\\sbhuv\\AppData\\Local\\Programs\\Python\\Python38\\lib\\site-packages\\sklearn\\utils\\validation.py:1143: DataConversionWarning: A column-vector y was passed when a 1d array was expected. Please change the shape of y to (n_samples, ), for example using ravel().\n",
      "  y = column_or_1d(y, warn=True)\n",
      "c:\\Users\\sbhuv\\AppData\\Local\\Programs\\Python\\Python38\\lib\\site-packages\\sklearn\\utils\\validation.py:1143: DataConversionWarning: A column-vector y was passed when a 1d array was expected. Please change the shape of y to (n_samples, ), for example using ravel().\n",
      "  y = column_or_1d(y, warn=True)\n"
     ]
    },
    {
     "name": "stdout",
     "output_type": "stream",
     "text": [
      "* 1-----------kfold--------------- 2 ------------\n"
     ]
    },
    {
     "name": "stderr",
     "output_type": "stream",
     "text": [
      "c:\\Users\\sbhuv\\AppData\\Local\\Programs\\Python\\Python38\\lib\\site-packages\\sklearn\\utils\\validation.py:1143: DataConversionWarning: A column-vector y was passed when a 1d array was expected. Please change the shape of y to (n_samples, ), for example using ravel().\n",
      "  y = column_or_1d(y, warn=True)\n",
      "Classificationv3.py:353: UserWarning: FixedFormatter should only be used together with FixedLocator\n",
      "  axs[i].set_xticklabels([''] + ['0', '1'], fontsize='xx-large')\n",
      "Classificationv3.py:354: UserWarning: FixedFormatter should only be used together with FixedLocator\n",
      "  axs[i].set_yticklabels([''] + ['0', '1'], fontsize='xx-large')\n"
     ]
    },
    {
     "name": "stdout",
     "output_type": "stream",
     "text": [
      "* 2*\n",
      "{'C': 1, 'break_ties': False, 'cache_size': 200, 'class_weight': None, 'coef0': 1.001, 'decision_function_shape': 'ovr', 'degree': 4, 'gamma': 'scale', 'kernel': 'poly', 'max_iter': -1, 'probability': False, 'random_state': None, 'shrinking': True, 'tol': 0.001, 'verbose': False}\n",
      "------run_cv runs successfully------------\n",
      "++++++++++++save_confusion_matrix++++++++++++\n",
      "++++++++++++save_confusion_matrix end++++++++++++\n",
      "(((((((((((((((((((((( draw droc ))))))))))))))))))))))))))))))\n",
      "(((((((( draw droc end ))))))))\n",
      "~~~~~~~~~~~~~~~~~ SB-060 ~~~~~~~~~~~~~~~~~~~~~~\n",
      "~~~~~~~~~~ Number of instances before balancing:  58  ~~~~~~~~~~\n",
      "~~~~~~~ Training Loss: 0.022426756098866463  ~~~~~~~\n",
      "~~~~~~~ Validation Loss: 0.049718309193849564  ~~~~~~~\n",
      "1/1 [==============================] - 0s 133ms/step\n",
      "~~~~~~~ value_counts: ~~~~~~~\n",
      "0    42\n",
      "1    37\n",
      "Name: class, dtype: int64\n",
      "~~~~~~~~~~ Number of instances after balancing:  79  ~~~~~~~~~~\n",
      "~~~~~~~~~~ Number of instances before balancing:  59  ~~~~~~~~~~\n",
      "~~~~~~~ Training Loss: 0.019152091816067696  ~~~~~~~\n",
      "~~~~~~~ Validation Loss: 0.02276518940925598  ~~~~~~~\n",
      "1/1 [==============================] - 0s 135ms/step\n",
      "~~~~~~~ value_counts: ~~~~~~~\n",
      "1    42\n",
      "0    34\n",
      "Name: class, dtype: int64\n",
      "~~~~~~~~~~ Number of instances after balancing:  76  ~~~~~~~~~~\n",
      "~~~~~~~~~~ Number of instances before balancing:  59  ~~~~~~~~~~\n",
      "~~~~~~~ Training Loss: 0.024412835016846657  ~~~~~~~\n",
      "~~~~~~~ Validation Loss: 0.03925848379731178  ~~~~~~~\n",
      "1/1 [==============================] - 0s 208ms/step\n",
      "~~~~~~~ value_counts: ~~~~~~~\n",
      "1    43\n",
      "0    32\n",
      "Name: class, dtype: int64\n",
      "~~~~~~~~~~ Number of instances after balancing:  75  ~~~~~~~~~~\n",
      "~~~~~~~~~~ SVM ~~~~~~~~~~~~~~~\n",
      "-----------kfold--------------- 0 ------------\n",
      "----SVM kfold---------- 0.8241666666666667 SVC(C=1, coef0=2.001, degree=5, gamma='auto', kernel='poly')\n",
      "* 0-----------kfold--------------- 1 ------------\n"
     ]
    },
    {
     "name": "stderr",
     "output_type": "stream",
     "text": [
      "c:\\Users\\sbhuv\\AppData\\Local\\Programs\\Python\\Python38\\lib\\site-packages\\sklearn\\utils\\validation.py:1143: DataConversionWarning: A column-vector y was passed when a 1d array was expected. Please change the shape of y to (n_samples, ), for example using ravel().\n",
      "  y = column_or_1d(y, warn=True)\n"
     ]
    },
    {
     "name": "stdout",
     "output_type": "stream",
     "text": [
      "----SVM kfold---------- 0.8566666666666667 SVC(C=41, coef0=0.501, gamma='auto', kernel='poly')\n",
      "* 1-----------kfold--------------- 2 ------------\n"
     ]
    },
    {
     "name": "stderr",
     "output_type": "stream",
     "text": [
      "c:\\Users\\sbhuv\\AppData\\Local\\Programs\\Python\\Python38\\lib\\site-packages\\sklearn\\utils\\validation.py:1143: DataConversionWarning: A column-vector y was passed when a 1d array was expected. Please change the shape of y to (n_samples, ), for example using ravel().\n",
      "  y = column_or_1d(y, warn=True)\n",
      "c:\\Users\\sbhuv\\AppData\\Local\\Programs\\Python\\Python38\\lib\\site-packages\\sklearn\\utils\\validation.py:1143: DataConversionWarning: A column-vector y was passed when a 1d array was expected. Please change the shape of y to (n_samples, ), for example using ravel().\n",
      "  y = column_or_1d(y, warn=True)\n",
      "Classificationv3.py:353: UserWarning: FixedFormatter should only be used together with FixedLocator\n",
      "  axs[i].set_xticklabels([''] + ['0', '1'], fontsize='xx-large')\n",
      "Classificationv3.py:354: UserWarning: FixedFormatter should only be used together with FixedLocator\n",
      "  axs[i].set_yticklabels([''] + ['0', '1'], fontsize='xx-large')\n"
     ]
    },
    {
     "name": "stdout",
     "output_type": "stream",
     "text": [
      "* 2*\n",
      "{'C': 11, 'break_ties': False, 'cache_size': 200, 'class_weight': None, 'coef0': 0.001, 'decision_function_shape': 'ovr', 'degree': 3, 'gamma': 'scale', 'kernel': 'rbf', 'max_iter': -1, 'probability': False, 'random_state': None, 'shrinking': True, 'tol': 0.001, 'verbose': False}\n",
      "------run_cv runs successfully------------\n",
      "++++++++++++save_confusion_matrix++++++++++++\n",
      "++++++++++++save_confusion_matrix end++++++++++++\n",
      "(((((((((((((((((((((( draw droc ))))))))))))))))))))))))))))))\n",
      "(((((((( draw droc end ))))))))\n",
      "~~~~~~~~~~~~~~~~~ SB-070 ~~~~~~~~~~~~~~~~~~~~~~\n",
      "~~~~~~~~~~ Number of instances before balancing:  134  ~~~~~~~~~~\n",
      "~~~~~~~ Training Loss: 0.010106570087373257  ~~~~~~~\n",
      "~~~~~~~ Validation Loss: 0.026211103424429893  ~~~~~~~\n",
      "2/2 [==============================] - 0s 3ms/step\n",
      "~~~~~~~ value_counts: ~~~~~~~\n",
      "1    99\n",
      "0    70\n",
      "Name: class, dtype: int64\n",
      "~~~~~~~~~~ Number of instances after balancing:  169  ~~~~~~~~~~\n",
      "~~~~~~~~~~ Number of instances before balancing:  135  ~~~~~~~~~~\n",
      "~~~~~~~ Training Loss: 0.018277831375598907  ~~~~~~~\n",
      "~~~~~~~ Validation Loss: 0.025058215484023094  ~~~~~~~\n",
      "2/2 [==============================] - 0s 5ms/step\n",
      "~~~~~~~ value_counts: ~~~~~~~\n",
      "0    90\n",
      "1    90\n",
      "Name: class, dtype: int64\n",
      "~~~~~~~~~~ Number of instances after balancing:  180  ~~~~~~~~~~\n",
      "~~~~~~~~~~ Number of instances before balancing:  135  ~~~~~~~~~~\n",
      "~~~~~~~ Training Loss: 0.009632597677409649  ~~~~~~~\n",
      "~~~~~~~ Validation Loss: 0.01380088645964861  ~~~~~~~\n",
      "2/2 [==============================] - 0s 6ms/step\n",
      "~~~~~~~ value_counts: ~~~~~~~\n",
      "1    95\n",
      "0    80\n",
      "Name: class, dtype: int64\n",
      "~~~~~~~~~~ Number of instances after balancing:  175  ~~~~~~~~~~\n",
      "~~~~~~~~~~ SVM ~~~~~~~~~~~~~~~\n",
      "-----------kfold--------------- 0 ------------\n",
      "----SVM kfold---------- 0.7397504456327987 SVC(C=21, coef0=0.001)\n",
      "* 0-----------kfold--------------- 1 ------------\n"
     ]
    },
    {
     "name": "stderr",
     "output_type": "stream",
     "text": [
      "c:\\Users\\sbhuv\\AppData\\Local\\Programs\\Python\\Python38\\lib\\site-packages\\sklearn\\utils\\validation.py:1143: DataConversionWarning: A column-vector y was passed when a 1d array was expected. Please change the shape of y to (n_samples, ), for example using ravel().\n",
      "  y = column_or_1d(y, warn=True)\n",
      "c:\\Users\\sbhuv\\AppData\\Local\\Programs\\Python\\Python38\\lib\\site-packages\\sklearn\\utils\\validation.py:1143: DataConversionWarning: A column-vector y was passed when a 1d array was expected. Please change the shape of y to (n_samples, ), for example using ravel().\n",
      "  y = column_or_1d(y, warn=True)\n"
     ]
    },
    {
     "name": "stdout",
     "output_type": "stream",
     "text": [
      "* 1-----------kfold--------------- 2 ------------\n",
      "----SVM kfold---------- 0.7485714285714286 SVC(C=21, coef0=0.001)\n",
      "* 2*\n",
      "{'C': 21, 'break_ties': False, 'cache_size': 200, 'class_weight': None, 'coef0': 0.001, 'decision_function_shape': 'ovr', 'degree': 3, 'gamma': 'scale', 'kernel': 'rbf', 'max_iter': -1, 'probability': False, 'random_state': None, 'shrinking': True, 'tol': 0.001, 'verbose': False}\n",
      "------run_cv runs successfully------------\n",
      "++++++++++++save_confusion_matrix++++++++++++\n"
     ]
    },
    {
     "name": "stderr",
     "output_type": "stream",
     "text": [
      "c:\\Users\\sbhuv\\AppData\\Local\\Programs\\Python\\Python38\\lib\\site-packages\\sklearn\\utils\\validation.py:1143: DataConversionWarning: A column-vector y was passed when a 1d array was expected. Please change the shape of y to (n_samples, ), for example using ravel().\n",
      "  y = column_or_1d(y, warn=True)\n",
      "Classificationv3.py:353: UserWarning: FixedFormatter should only be used together with FixedLocator\n",
      "  axs[i].set_xticklabels([''] + ['0', '1'], fontsize='xx-large')\n",
      "Classificationv3.py:354: UserWarning: FixedFormatter should only be used together with FixedLocator\n",
      "  axs[i].set_yticklabels([''] + ['0', '1'], fontsize='xx-large')\n"
     ]
    },
    {
     "name": "stdout",
     "output_type": "stream",
     "text": [
      "++++++++++++save_confusion_matrix end++++++++++++\n",
      "(((((((((((((((((((((( draw droc ))))))))))))))))))))))))))))))\n",
      "(((((((( draw droc end ))))))))\n",
      "~~~~~~~~~~~~~~~~~ SB-071 ~~~~~~~~~~~~~~~~~~~~~~\n",
      "~~~~~~~~~~ Number of instances before balancing:  82  ~~~~~~~~~~\n",
      "~~~~~~~ Training Loss: 0.014048947021365166  ~~~~~~~\n",
      "~~~~~~~ Validation Loss: 0.021299028769135475  ~~~~~~~\n",
      "1/1 [==============================] - 0s 148ms/step\n",
      "~~~~~~~ value_counts: ~~~~~~~\n",
      "1    70\n",
      "0    24\n",
      "Name: class, dtype: int64\n",
      "~~~~~~~~~~ Number of instances after balancing:  94  ~~~~~~~~~~\n",
      "~~~~~~~~~~ Number of instances before balancing:  83  ~~~~~~~~~~\n",
      "~~~~~~~ Training Loss: 0.013389875181019306  ~~~~~~~\n",
      "~~~~~~~ Validation Loss: 0.019331125542521477  ~~~~~~~\n",
      "1/1 [==============================] - 0s 184ms/step\n",
      "~~~~~~~ value_counts: ~~~~~~~\n",
      "1    71\n",
      "0    24\n",
      "Name: class, dtype: int64\n",
      "~~~~~~~~~~ Number of instances after balancing:  95  ~~~~~~~~~~\n",
      "~~~~~~~~~~ Number of instances before balancing:  83  ~~~~~~~~~~\n",
      "~~~~~~~ Training Loss: 0.015545263886451721  ~~~~~~~\n",
      "~~~~~~~ Validation Loss: 0.043651334941387177  ~~~~~~~\n",
      "1/1 [==============================] - 1s 551ms/step\n",
      "~~~~~~~ value_counts: ~~~~~~~\n",
      "1    69\n",
      "0    28\n",
      "Name: class, dtype: int64\n",
      "~~~~~~~~~~ Number of instances after balancing:  97  ~~~~~~~~~~\n",
      "~~~~~~~~~~ SVM ~~~~~~~~~~~~~~~\n",
      "-----------kfold--------------- 0 ------------\n",
      "----SVM kfold---------- 0.8292397660818713 SVC(C=11, coef0=0.001)\n",
      "* 0-----------kfold--------------- 1 ------------\n"
     ]
    },
    {
     "name": "stderr",
     "output_type": "stream",
     "text": [
      "c:\\Users\\sbhuv\\AppData\\Local\\Programs\\Python\\Python38\\lib\\site-packages\\sklearn\\utils\\validation.py:1143: DataConversionWarning: A column-vector y was passed when a 1d array was expected. Please change the shape of y to (n_samples, ), for example using ravel().\n",
      "  y = column_or_1d(y, warn=True)\n"
     ]
    },
    {
     "name": "stdout",
     "output_type": "stream",
     "text": [
      "----SVM kfold---------- 0.8947368421052632 SVC(C=1, coef0=0.001)\n",
      "* 1-----------kfold--------------- 2 ------------\n"
     ]
    },
    {
     "name": "stderr",
     "output_type": "stream",
     "text": [
      "c:\\Users\\sbhuv\\AppData\\Local\\Programs\\Python\\Python38\\lib\\site-packages\\sklearn\\utils\\validation.py:1143: DataConversionWarning: A column-vector y was passed when a 1d array was expected. Please change the shape of y to (n_samples, ), for example using ravel().\n",
      "  y = column_or_1d(y, warn=True)\n",
      "c:\\Users\\sbhuv\\AppData\\Local\\Programs\\Python\\Python38\\lib\\site-packages\\sklearn\\utils\\validation.py:1143: DataConversionWarning: A column-vector y was passed when a 1d array was expected. Please change the shape of y to (n_samples, ), for example using ravel().\n",
      "  y = column_or_1d(y, warn=True)\n",
      "Classificationv3.py:353: UserWarning: FixedFormatter should only be used together with FixedLocator\n",
      "  axs[i].set_xticklabels([''] + ['0', '1'], fontsize='xx-large')\n",
      "Classificationv3.py:354: UserWarning: FixedFormatter should only be used together with FixedLocator\n",
      "  axs[i].set_yticklabels([''] + ['0', '1'], fontsize='xx-large')\n"
     ]
    },
    {
     "name": "stdout",
     "output_type": "stream",
     "text": [
      "* 2*\n",
      "{'C': 1, 'break_ties': False, 'cache_size': 200, 'class_weight': None, 'coef0': 0.001, 'decision_function_shape': 'ovr', 'degree': 3, 'gamma': 'scale', 'kernel': 'rbf', 'max_iter': -1, 'probability': False, 'random_state': None, 'shrinking': True, 'tol': 0.001, 'verbose': False}\n",
      "------run_cv runs successfully------------\n",
      "++++++++++++save_confusion_matrix++++++++++++\n",
      "++++++++++++save_confusion_matrix end++++++++++++\n",
      "(((((((((((((((((((((( draw droc ))))))))))))))))))))))))))))))\n",
      "(((((((( draw droc end ))))))))\n",
      "~~~~~~~~~~~~~~~~~ SB-073 ~~~~~~~~~~~~~~~~~~~~~~\n",
      "~~~~~~~~~~ Number of instances before balancing:  107  ~~~~~~~~~~\n",
      "~~~~~~~ Training Loss: 0.00971541740000248  ~~~~~~~\n",
      "~~~~~~~ Validation Loss: 0.024814048781991005  ~~~~~~~\n",
      "1/1 [==============================] - 0s 180ms/step\n",
      "~~~~~~~ value_counts: ~~~~~~~\n",
      "1    81\n",
      "0    52\n",
      "Name: class, dtype: int64\n",
      "~~~~~~~~~~ Number of instances after balancing:  133  ~~~~~~~~~~\n",
      "~~~~~~~~~~ Number of instances before balancing:  107  ~~~~~~~~~~\n",
      "~~~~~~~ Training Loss: 0.01311654131859541  ~~~~~~~\n",
      "~~~~~~~ Validation Loss: 0.024723108857870102  ~~~~~~~\n",
      "1/1 [==============================] - 0s 157ms/step\n",
      "~~~~~~~ value_counts: ~~~~~~~\n",
      "1    80\n",
      "0    54\n",
      "Name: class, dtype: int64\n",
      "~~~~~~~~~~ Number of instances after balancing:  134  ~~~~~~~~~~\n",
      "~~~~~~~~~~ Number of instances before balancing:  108  ~~~~~~~~~~\n",
      "~~~~~~~ Training Loss: 0.01460771169513464  ~~~~~~~\n",
      "~~~~~~~ Validation Loss: 0.02539253979921341  ~~~~~~~\n",
      "1/1 [==============================] - 0s 142ms/step\n",
      "~~~~~~~ value_counts: ~~~~~~~\n",
      "1    79\n",
      "0    58\n",
      "Name: class, dtype: int64\n",
      "~~~~~~~~~~ Number of instances after balancing:  137  ~~~~~~~~~~\n",
      "~~~~~~~~~~ SVM ~~~~~~~~~~~~~~~\n",
      "-----------kfold--------------- 0 ------------\n",
      "----SVM kfold---------- 0.8116809116809117 SVC(C=41, coef0=1.001, degree=5, gamma='auto', kernel='poly')\n",
      "* 0-----------kfold--------------- 1 ------------\n"
     ]
    },
    {
     "name": "stderr",
     "output_type": "stream",
     "text": [
      "c:\\Users\\sbhuv\\AppData\\Local\\Programs\\Python\\Python38\\lib\\site-packages\\sklearn\\utils\\validation.py:1143: DataConversionWarning: A column-vector y was passed when a 1d array was expected. Please change the shape of y to (n_samples, ), for example using ravel().\n",
      "  y = column_or_1d(y, warn=True)\n"
     ]
    },
    {
     "name": "stdout",
     "output_type": "stream",
     "text": [
      "----SVM kfold---------- 0.8136752136752137 SVC(C=11, coef0=0.001)\n",
      "* 1-----------kfold--------------- 2 ------------\n"
     ]
    },
    {
     "name": "stderr",
     "output_type": "stream",
     "text": [
      "c:\\Users\\sbhuv\\AppData\\Local\\Programs\\Python\\Python38\\lib\\site-packages\\sklearn\\utils\\validation.py:1143: DataConversionWarning: A column-vector y was passed when a 1d array was expected. Please change the shape of y to (n_samples, ), for example using ravel().\n",
      "  y = column_or_1d(y, warn=True)\n"
     ]
    },
    {
     "name": "stdout",
     "output_type": "stream",
     "text": [
      "----SVM kfold---------- 0.8470899470899471 SVC(C=31, coef0=1.501, degree=5, gamma='auto', kernel='poly')\n",
      "* 2*\n",
      "{'C': 31, 'break_ties': False, 'cache_size': 200, 'class_weight': None, 'coef0': 1.501, 'decision_function_shape': 'ovr', 'degree': 5, 'gamma': 'auto', 'kernel': 'poly', 'max_iter': -1, 'probability': False, 'random_state': None, 'shrinking': True, 'tol': 0.001, 'verbose': False}\n",
      "------run_cv runs successfully------------\n",
      "++++++++++++save_confusion_matrix++++++++++++\n"
     ]
    },
    {
     "name": "stderr",
     "output_type": "stream",
     "text": [
      "c:\\Users\\sbhuv\\AppData\\Local\\Programs\\Python\\Python38\\lib\\site-packages\\sklearn\\utils\\validation.py:1143: DataConversionWarning: A column-vector y was passed when a 1d array was expected. Please change the shape of y to (n_samples, ), for example using ravel().\n",
      "  y = column_or_1d(y, warn=True)\n",
      "Classificationv3.py:353: UserWarning: FixedFormatter should only be used together with FixedLocator\n",
      "  axs[i].set_xticklabels([''] + ['0', '1'], fontsize='xx-large')\n",
      "Classificationv3.py:354: UserWarning: FixedFormatter should only be used together with FixedLocator\n",
      "  axs[i].set_yticklabels([''] + ['0', '1'], fontsize='xx-large')\n"
     ]
    },
    {
     "name": "stdout",
     "output_type": "stream",
     "text": [
      "++++++++++++save_confusion_matrix end++++++++++++\n",
      "(((((((((((((((((((((( draw droc ))))))))))))))))))))))))))))))\n",
      "(((((((( draw droc end ))))))))\n",
      "~~~~~~~~~~~~~~~~~ SB-078 ~~~~~~~~~~~~~~~~~~~~~~\n",
      "~~~~~~~~~~ Number of instances before balancing:  102  ~~~~~~~~~~\n",
      "~~~~~~~ Training Loss: 0.012957591563463211  ~~~~~~~\n",
      "~~~~~~~ Validation Loss: 0.016922902315855026  ~~~~~~~\n",
      "2/2 [==============================] - 0s 5ms/step\n",
      "~~~~~~~ value_counts: ~~~~~~~\n",
      "1    69\n",
      "0    66\n",
      "Name: class, dtype: int64\n",
      "~~~~~~~~~~ Number of instances after balancing:  135  ~~~~~~~~~~\n",
      "~~~~~~~~~~ Number of instances before balancing:  102  ~~~~~~~~~~\n",
      "~~~~~~~ Training Loss: 0.013286706991493702  ~~~~~~~\n",
      "~~~~~~~ Validation Loss: 0.016851266846060753  ~~~~~~~\n",
      "2/2 [==============================] - 0s 5ms/step\n",
      "~~~~~~~ value_counts: ~~~~~~~\n",
      "1    69\n",
      "0    66\n",
      "Name: class, dtype: int64\n",
      "~~~~~~~~~~ Number of instances after balancing:  135  ~~~~~~~~~~\n",
      "~~~~~~~~~~ Number of instances before balancing:  102  ~~~~~~~~~~\n",
      "~~~~~~~ Training Loss: 0.01549821812659502  ~~~~~~~\n",
      "~~~~~~~ Validation Loss: 0.01240862812846899  ~~~~~~~\n",
      "1/1 [==============================] - 1s 671ms/step\n",
      "~~~~~~~ value_counts: ~~~~~~~\n",
      "1    76\n",
      "0    52\n",
      "Name: class, dtype: int64\n",
      "~~~~~~~~~~ Number of instances after balancing:  128  ~~~~~~~~~~\n",
      "~~~~~~~~~~ SVM ~~~~~~~~~~~~~~~\n",
      "-----------kfold--------------- 0 ------------\n",
      "----SVM kfold---------- 0.8518518518518519 SVC(C=41, coef0=0.001, gamma='auto')\n",
      "* 0-----------kfold--------------- 1 ------------\n"
     ]
    },
    {
     "name": "stderr",
     "output_type": "stream",
     "text": [
      "c:\\Users\\sbhuv\\AppData\\Local\\Programs\\Python\\Python38\\lib\\site-packages\\sklearn\\utils\\validation.py:1143: DataConversionWarning: A column-vector y was passed when a 1d array was expected. Please change the shape of y to (n_samples, ), for example using ravel().\n",
      "  y = column_or_1d(y, warn=True)\n"
     ]
    },
    {
     "name": "stdout",
     "output_type": "stream",
     "text": [
      "----SVM kfold---------- 0.8592592592592594 SVC(C=1, coef0=0.001)\n",
      "* 1-----------kfold--------------- 2 ------------\n"
     ]
    },
    {
     "name": "stderr",
     "output_type": "stream",
     "text": [
      "c:\\Users\\sbhuv\\AppData\\Local\\Programs\\Python\\Python38\\lib\\site-packages\\sklearn\\utils\\validation.py:1143: DataConversionWarning: A column-vector y was passed when a 1d array was expected. Please change the shape of y to (n_samples, ), for example using ravel().\n",
      "  y = column_or_1d(y, warn=True)\n"
     ]
    },
    {
     "name": "stdout",
     "output_type": "stream",
     "text": [
      "----SVM kfold---------- 0.8821538461538461 SVC(C=11, coef0=1.501, degree=5, gamma='auto', kernel='poly')\n",
      "* 2*\n",
      "{'C': 11, 'break_ties': False, 'cache_size': 200, 'class_weight': None, 'coef0': 1.501, 'decision_function_shape': 'ovr', 'degree': 5, 'gamma': 'auto', 'kernel': 'poly', 'max_iter': -1, 'probability': False, 'random_state': None, 'shrinking': True, 'tol': 0.001, 'verbose': False}\n",
      "------run_cv runs successfully------------\n",
      "++++++++++++save_confusion_matrix++++++++++++\n"
     ]
    },
    {
     "name": "stderr",
     "output_type": "stream",
     "text": [
      "c:\\Users\\sbhuv\\AppData\\Local\\Programs\\Python\\Python38\\lib\\site-packages\\sklearn\\utils\\validation.py:1143: DataConversionWarning: A column-vector y was passed when a 1d array was expected. Please change the shape of y to (n_samples, ), for example using ravel().\n",
      "  y = column_or_1d(y, warn=True)\n",
      "Classificationv3.py:353: UserWarning: FixedFormatter should only be used together with FixedLocator\n",
      "  axs[i].set_xticklabels([''] + ['0', '1'], fontsize='xx-large')\n",
      "Classificationv3.py:354: UserWarning: FixedFormatter should only be used together with FixedLocator\n",
      "  axs[i].set_yticklabels([''] + ['0', '1'], fontsize='xx-large')\n"
     ]
    },
    {
     "name": "stdout",
     "output_type": "stream",
     "text": [
      "++++++++++++save_confusion_matrix end++++++++++++\n",
      "(((((((((((((((((((((( draw droc ))))))))))))))))))))))))))))))\n",
      "(((((((( draw droc end ))))))))\n",
      "~~~~~~~~~~~~~~~~~ SB-079 ~~~~~~~~~~~~~~~~~~~~~~\n",
      "~~~~~~~~~~ Number of instances before balancing:  94  ~~~~~~~~~~\n",
      "~~~~~~~ Training Loss: 0.013766673393547535  ~~~~~~~\n",
      "~~~~~~~ Validation Loss: 0.016653362661600113  ~~~~~~~\n",
      "1/1 [==============================] - 0s 184ms/step\n",
      "~~~~~~~ value_counts: ~~~~~~~\n",
      "1    65\n",
      "0    58\n",
      "Name: class, dtype: int64\n",
      "~~~~~~~~~~ Number of instances after balancing:  123  ~~~~~~~~~~\n",
      "~~~~~~~~~~ Number of instances before balancing:  95  ~~~~~~~~~~\n",
      "~~~~~~~ Training Loss: 0.022491401061415672  ~~~~~~~\n",
      "~~~~~~~ Validation Loss: 0.0372701995074749  ~~~~~~~\n",
      "1/1 [==============================] - 0s 185ms/step\n",
      "~~~~~~~ value_counts: ~~~~~~~\n",
      "1    71\n",
      "0    48\n",
      "Name: class, dtype: int64\n",
      "~~~~~~~~~~ Number of instances after balancing:  119  ~~~~~~~~~~\n",
      "~~~~~~~~~~ Number of instances before balancing:  95  ~~~~~~~~~~\n",
      "~~~~~~~ Training Loss: 0.00977766141295433  ~~~~~~~\n",
      "~~~~~~~ Validation Loss: 0.018816130235791206  ~~~~~~~\n",
      "1/1 [==============================] - 0s 139ms/step\n",
      "~~~~~~~ value_counts: ~~~~~~~\n",
      "1    68\n",
      "0    54\n",
      "Name: class, dtype: int64\n",
      "~~~~~~~~~~ Number of instances after balancing:  122  ~~~~~~~~~~\n",
      "~~~~~~~~~~ SVM ~~~~~~~~~~~~~~~\n",
      "-----------kfold--------------- 0 ------------\n",
      "----SVM kfold---------- 0.8536666666666667 SVC(C=1, coef0=0.501, kernel='poly')\n",
      "* 0-----------kfold--------------- 1 ------------\n"
     ]
    },
    {
     "name": "stderr",
     "output_type": "stream",
     "text": [
      "c:\\Users\\sbhuv\\AppData\\Local\\Programs\\Python\\Python38\\lib\\site-packages\\sklearn\\utils\\validation.py:1143: DataConversionWarning: A column-vector y was passed when a 1d array was expected. Please change the shape of y to (n_samples, ), for example using ravel().\n",
      "  y = column_or_1d(y, warn=True)\n",
      "c:\\Users\\sbhuv\\AppData\\Local\\Programs\\Python\\Python38\\lib\\site-packages\\sklearn\\utils\\validation.py:1143: DataConversionWarning: A column-vector y was passed when a 1d array was expected. Please change the shape of y to (n_samples, ), for example using ravel().\n",
      "  y = column_or_1d(y, warn=True)\n"
     ]
    },
    {
     "name": "stdout",
     "output_type": "stream",
     "text": [
      "* 1-----------kfold--------------- 2 ------------\n"
     ]
    },
    {
     "name": "stderr",
     "output_type": "stream",
     "text": [
      "c:\\Users\\sbhuv\\AppData\\Local\\Programs\\Python\\Python38\\lib\\site-packages\\sklearn\\utils\\validation.py:1143: DataConversionWarning: A column-vector y was passed when a 1d array was expected. Please change the shape of y to (n_samples, ), for example using ravel().\n",
      "  y = column_or_1d(y, warn=True)\n",
      "Classificationv3.py:353: UserWarning: FixedFormatter should only be used together with FixedLocator\n",
      "  axs[i].set_xticklabels([''] + ['0', '1'], fontsize='xx-large')\n",
      "Classificationv3.py:354: UserWarning: FixedFormatter should only be used together with FixedLocator\n",
      "  axs[i].set_yticklabels([''] + ['0', '1'], fontsize='xx-large')\n"
     ]
    },
    {
     "name": "stdout",
     "output_type": "stream",
     "text": [
      "* 2*\n",
      "{'C': 21, 'break_ties': False, 'cache_size': 200, 'class_weight': None, 'coef0': 0.501, 'decision_function_shape': 'ovr', 'degree': 5, 'gamma': 'auto', 'kernel': 'poly', 'max_iter': -1, 'probability': False, 'random_state': None, 'shrinking': True, 'tol': 0.001, 'verbose': False}\n",
      "------run_cv runs successfully------------\n",
      "++++++++++++save_confusion_matrix++++++++++++\n",
      "++++++++++++save_confusion_matrix end++++++++++++\n",
      "(((((((((((((((((((((( draw droc ))))))))))))))))))))))))))))))\n",
      "(((((((( draw droc end ))))))))\n",
      "~~~~~~~~~~~~~~~~~ SB-080 ~~~~~~~~~~~~~~~~~~~~~~\n",
      "~~~~~~~~~~ Number of instances before balancing:  120  ~~~~~~~~~~\n",
      "~~~~~~~ Training Loss: 0.012429958209395409  ~~~~~~~\n",
      "~~~~~~~ Validation Loss: 0.014099161140620708  ~~~~~~~\n",
      "2/2 [==============================] - 0s 5ms/step\n",
      "~~~~~~~ value_counts: ~~~~~~~\n",
      "1    84\n",
      "0    72\n",
      "Name: class, dtype: int64\n",
      "~~~~~~~~~~ Number of instances after balancing:  156  ~~~~~~~~~~\n",
      "~~~~~~~~~~ Number of instances before balancing:  121  ~~~~~~~~~~\n",
      "~~~~~~~ Training Loss: 0.011667205020785332  ~~~~~~~\n",
      "~~~~~~~ Validation Loss: 0.024434620514512062  ~~~~~~~\n",
      "2/2 [==============================] - 0s 4ms/step\n",
      "~~~~~~~ value_counts: ~~~~~~~\n",
      "1    86\n",
      "0    70\n",
      "Name: class, dtype: int64\n",
      "~~~~~~~~~~ Number of instances after balancing:  156  ~~~~~~~~~~\n",
      "~~~~~~~~~~ Number of instances before balancing:  121  ~~~~~~~~~~\n",
      "~~~~~~~ Training Loss: 0.013465694151818752  ~~~~~~~\n",
      "~~~~~~~ Validation Loss: 0.02562243863940239  ~~~~~~~\n",
      "2/2 [==============================] - 0s 5ms/step\n",
      "~~~~~~~ value_counts: ~~~~~~~\n",
      "1    86\n",
      "0    70\n",
      "Name: class, dtype: int64\n",
      "~~~~~~~~~~ Number of instances after balancing:  156  ~~~~~~~~~~\n",
      "~~~~~~~~~~ SVM ~~~~~~~~~~~~~~~\n",
      "-----------kfold--------------- 0 ------------\n",
      "----SVM kfold---------- 0.7689516129032258 SVC(C=11, coef0=0.001)\n",
      "* 0-----------kfold--------------- 1 ------------\n"
     ]
    },
    {
     "name": "stderr",
     "output_type": "stream",
     "text": [
      "c:\\Users\\sbhuv\\AppData\\Local\\Programs\\Python\\Python38\\lib\\site-packages\\sklearn\\utils\\validation.py:1143: DataConversionWarning: A column-vector y was passed when a 1d array was expected. Please change the shape of y to (n_samples, ), for example using ravel().\n",
      "  y = column_or_1d(y, warn=True)\n",
      "c:\\Users\\sbhuv\\AppData\\Local\\Programs\\Python\\Python38\\lib\\site-packages\\sklearn\\utils\\validation.py:1143: DataConversionWarning: A column-vector y was passed when a 1d array was expected. Please change the shape of y to (n_samples, ), for example using ravel().\n",
      "  y = column_or_1d(y, warn=True)\n"
     ]
    },
    {
     "name": "stdout",
     "output_type": "stream",
     "text": [
      "* 1-----------kfold--------------- 2 ------------\n"
     ]
    },
    {
     "name": "stderr",
     "output_type": "stream",
     "text": [
      "c:\\Users\\sbhuv\\AppData\\Local\\Programs\\Python\\Python38\\lib\\site-packages\\sklearn\\utils\\validation.py:1143: DataConversionWarning: A column-vector y was passed when a 1d array was expected. Please change the shape of y to (n_samples, ), for example using ravel().\n",
      "  y = column_or_1d(y, warn=True)\n",
      "Classificationv3.py:353: UserWarning: FixedFormatter should only be used together with FixedLocator\n",
      "  axs[i].set_xticklabels([''] + ['0', '1'], fontsize='xx-large')\n",
      "Classificationv3.py:354: UserWarning: FixedFormatter should only be used together with FixedLocator\n",
      "  axs[i].set_yticklabels([''] + ['0', '1'], fontsize='xx-large')\n"
     ]
    },
    {
     "name": "stdout",
     "output_type": "stream",
     "text": [
      "* 2*\n",
      "{'C': 31, 'break_ties': False, 'cache_size': 200, 'class_weight': None, 'coef0': 2.501, 'decision_function_shape': 'ovr', 'degree': 5, 'gamma': 'auto', 'kernel': 'poly', 'max_iter': -1, 'probability': False, 'random_state': None, 'shrinking': True, 'tol': 0.001, 'verbose': False}\n",
      "------run_cv runs successfully------------\n",
      "++++++++++++save_confusion_matrix++++++++++++\n",
      "++++++++++++save_confusion_matrix end++++++++++++\n",
      "(((((((((((((((((((((( draw droc ))))))))))))))))))))))))))))))\n",
      "(((((((( draw droc end ))))))))\n",
      "~~~~~~~~~~~~~~~~~ SB-081 ~~~~~~~~~~~~~~~~~~~~~~\n",
      "~~~~~~~~~~ Number of instances before balancing:  22  ~~~~~~~~~~\n",
      "~~~~~~~ Training Loss: 0.007785951253026724  ~~~~~~~\n",
      "~~~~~~~ Validation Loss: 0.055694881826639175  ~~~~~~~\n",
      "1/1 [==============================] - 0s 171ms/step\n",
      "~~~~~~~ value_counts: ~~~~~~~\n",
      "0    18\n",
      "1    13\n",
      "Name: class, dtype: int64\n",
      "~~~~~~~~~~ Number of instances after balancing:  31  ~~~~~~~~~~\n",
      "~~~~~~~~~~ Number of instances before balancing:  23  ~~~~~~~~~~\n",
      "~~~~~~~ Training Loss: 0.014571995474398136  ~~~~~~~\n",
      "~~~~~~~ Validation Loss: 0.047026436775922775  ~~~~~~~\n",
      "1/1 [==============================] - 0s 178ms/step\n",
      "~~~~~~~ value_counts: ~~~~~~~\n",
      "0    22\n",
      "1    12\n",
      "Name: class, dtype: int64\n",
      "~~~~~~~~~~ Number of instances after balancing:  34  ~~~~~~~~~~\n",
      "~~~~~~~~~~ Number of instances before balancing:  23  ~~~~~~~~~~\n",
      "~~~~~~~ Training Loss: 0.014581306837499142  ~~~~~~~\n",
      "~~~~~~~ Validation Loss: 0.04695025831460953  ~~~~~~~\n",
      "1/1 [==============================] - 0s 245ms/step\n",
      "~~~~~~~ value_counts: ~~~~~~~\n",
      "0    16\n",
      "1    15\n",
      "Name: class, dtype: int64\n",
      "~~~~~~~~~~ Number of instances after balancing:  31  ~~~~~~~~~~\n",
      "~~~~~~~~~~ SVM ~~~~~~~~~~~~~~~\n",
      "-----------kfold--------------- 0 ------------\n",
      "----SVM kfold---------- 0.7714285714285715 SVC(C=1, coef0=0.001, degree=5, kernel='poly')\n",
      "* 0-----------kfold--------------- 1 ------------\n"
     ]
    },
    {
     "name": "stderr",
     "output_type": "stream",
     "text": [
      "c:\\Users\\sbhuv\\AppData\\Local\\Programs\\Python\\Python38\\lib\\site-packages\\sklearn\\utils\\validation.py:1143: DataConversionWarning: A column-vector y was passed when a 1d array was expected. Please change the shape of y to (n_samples, ), for example using ravel().\n",
      "  y = column_or_1d(y, warn=True)\n",
      "c:\\Users\\sbhuv\\AppData\\Local\\Programs\\Python\\Python38\\lib\\site-packages\\sklearn\\utils\\validation.py:1143: DataConversionWarning: A column-vector y was passed when a 1d array was expected. Please change the shape of y to (n_samples, ), for example using ravel().\n",
      "  y = column_or_1d(y, warn=True)\n"
     ]
    },
    {
     "name": "stdout",
     "output_type": "stream",
     "text": [
      "* 1-----------kfold--------------- 2 ------------\n",
      "----SVM kfold---------- 0.7761904761904762 SVC(C=1, coef0=0.001)\n",
      "* 2*\n",
      "{'C': 1, 'break_ties': False, 'cache_size': 200, 'class_weight': None, 'coef0': 0.001, 'decision_function_shape': 'ovr', 'degree': 3, 'gamma': 'scale', 'kernel': 'rbf', 'max_iter': -1, 'probability': False, 'random_state': None, 'shrinking': True, 'tol': 0.001, 'verbose': False}\n",
      "------run_cv runs successfully------------\n",
      "++++++++++++save_confusion_matrix++++++++++++\n"
     ]
    },
    {
     "name": "stderr",
     "output_type": "stream",
     "text": [
      "c:\\Users\\sbhuv\\AppData\\Local\\Programs\\Python\\Python38\\lib\\site-packages\\sklearn\\utils\\validation.py:1143: DataConversionWarning: A column-vector y was passed when a 1d array was expected. Please change the shape of y to (n_samples, ), for example using ravel().\n",
      "  y = column_or_1d(y, warn=True)\n",
      "Classificationv3.py:353: UserWarning: FixedFormatter should only be used together with FixedLocator\n",
      "  axs[i].set_xticklabels([''] + ['0', '1'], fontsize='xx-large')\n",
      "Classificationv3.py:354: UserWarning: FixedFormatter should only be used together with FixedLocator\n",
      "  axs[i].set_yticklabels([''] + ['0', '1'], fontsize='xx-large')\n"
     ]
    },
    {
     "name": "stdout",
     "output_type": "stream",
     "text": [
      "++++++++++++save_confusion_matrix end++++++++++++\n",
      "(((((((((((((((((((((( draw droc ))))))))))))))))))))))))))))))\n",
      "(((((((( draw droc end ))))))))\n",
      "~~~~~~~~~~~~~~~~~ SB-082 ~~~~~~~~~~~~~~~~~~~~~~\n",
      "~~~~~~~~~~ Number of instances before balancing:  91  ~~~~~~~~~~\n",
      "~~~~~~~ Training Loss: 0.011114606633782387  ~~~~~~~\n",
      "~~~~~~~ Validation Loss: 0.01990816369652748  ~~~~~~~\n",
      "2/2 [==============================] - 0s 3ms/step\n",
      "~~~~~~~ value_counts: ~~~~~~~\n",
      "0    68\n",
      "1    57\n",
      "Name: class, dtype: int64\n",
      "~~~~~~~~~~ Number of instances after balancing:  125  ~~~~~~~~~~\n",
      "~~~~~~~~~~ Number of instances before balancing:  91  ~~~~~~~~~~\n",
      "~~~~~~~ Training Loss: 0.012346219271421432  ~~~~~~~\n",
      "~~~~~~~ Validation Loss: 0.023793384432792664  ~~~~~~~\n",
      "2/2 [==============================] - 0s 5ms/step\n",
      "~~~~~~~ value_counts: ~~~~~~~\n",
      "0    72\n",
      "1    55\n",
      "Name: class, dtype: int64\n",
      "~~~~~~~~~~ Number of instances after balancing:  127  ~~~~~~~~~~\n",
      "~~~~~~~~~~ Number of instances before balancing:  92  ~~~~~~~~~~\n",
      "~~~~~~~ Training Loss: 0.010007480159401894  ~~~~~~~\n",
      "~~~~~~~ Validation Loss: 0.019971169531345367  ~~~~~~~\n",
      "2/2 [==============================] - 0s 6ms/step\n",
      "~~~~~~~ value_counts: ~~~~~~~\n",
      "0    68\n",
      "1    58\n",
      "Name: class, dtype: int64\n",
      "~~~~~~~~~~ Number of instances after balancing:  126  ~~~~~~~~~~\n",
      "~~~~~~~~~~ SVM ~~~~~~~~~~~~~~~\n",
      "-----------kfold--------------- 0 ------------\n",
      "----SVM kfold---------- 0.792 SVC(C=11, coef0=1.001, degree=5, gamma='auto', kernel='poly')\n",
      "* 0-----------kfold--------------- 1 ------------\n"
     ]
    },
    {
     "name": "stderr",
     "output_type": "stream",
     "text": [
      "c:\\Users\\sbhuv\\AppData\\Local\\Programs\\Python\\Python38\\lib\\site-packages\\sklearn\\utils\\validation.py:1143: DataConversionWarning: A column-vector y was passed when a 1d array was expected. Please change the shape of y to (n_samples, ), for example using ravel().\n",
      "  y = column_or_1d(y, warn=True)\n",
      "c:\\Users\\sbhuv\\AppData\\Local\\Programs\\Python\\Python38\\lib\\site-packages\\sklearn\\utils\\validation.py:1143: DataConversionWarning: A column-vector y was passed when a 1d array was expected. Please change the shape of y to (n_samples, ), for example using ravel().\n",
      "  y = column_or_1d(y, warn=True)\n"
     ]
    },
    {
     "name": "stdout",
     "output_type": "stream",
     "text": [
      "* 1-----------kfold--------------- 2 ------------\n"
     ]
    },
    {
     "name": "stderr",
     "output_type": "stream",
     "text": [
      "c:\\Users\\sbhuv\\AppData\\Local\\Programs\\Python\\Python38\\lib\\site-packages\\sklearn\\utils\\validation.py:1143: DataConversionWarning: A column-vector y was passed when a 1d array was expected. Please change the shape of y to (n_samples, ), for example using ravel().\n",
      "  y = column_or_1d(y, warn=True)\n",
      "Classificationv3.py:353: UserWarning: FixedFormatter should only be used together with FixedLocator\n",
      "  axs[i].set_xticklabels([''] + ['0', '1'], fontsize='xx-large')\n",
      "Classificationv3.py:354: UserWarning: FixedFormatter should only be used together with FixedLocator\n",
      "  axs[i].set_yticklabels([''] + ['0', '1'], fontsize='xx-large')\n"
     ]
    },
    {
     "name": "stdout",
     "output_type": "stream",
     "text": [
      "* 2*\n",
      "{'C': 41, 'break_ties': False, 'cache_size': 200, 'class_weight': None, 'coef0': 0.001, 'decision_function_shape': 'ovr', 'degree': 3, 'gamma': 'scale', 'kernel': 'rbf', 'max_iter': -1, 'probability': False, 'random_state': None, 'shrinking': True, 'tol': 0.001, 'verbose': False}\n",
      "------run_cv runs successfully------------\n",
      "++++++++++++save_confusion_matrix++++++++++++\n",
      "++++++++++++save_confusion_matrix end++++++++++++\n",
      "(((((((((((((((((((((( draw droc ))))))))))))))))))))))))))))))\n",
      "(((((((( draw droc end ))))))))\n",
      "~~~~~~~~~~~~~~~~~ SB-083 ~~~~~~~~~~~~~~~~~~~~~~\n",
      "~~~~~~~~~~ Number of instances before balancing:  137  ~~~~~~~~~~\n",
      "~~~~~~~ Training Loss: 0.007513786666095257  ~~~~~~~\n",
      "~~~~~~~ Validation Loss: 0.02456597238779068  ~~~~~~~\n",
      "2/2 [==============================] - 0s 6ms/step\n",
      "~~~~~~~ value_counts: ~~~~~~~\n",
      "1    95\n",
      "0    84\n",
      "Name: class, dtype: int64\n",
      "~~~~~~~~~~ Number of instances after balancing:  179  ~~~~~~~~~~\n",
      "~~~~~~~~~~ Number of instances before balancing:  137  ~~~~~~~~~~\n",
      "~~~~~~~ Training Loss: 0.012638323940336704  ~~~~~~~\n",
      "~~~~~~~ Validation Loss: 0.02583378553390503  ~~~~~~~\n",
      "2/2 [==============================] - 0s 7ms/step\n",
      "~~~~~~~ value_counts: ~~~~~~~\n",
      "1    99\n",
      "0    76\n",
      "Name: class, dtype: int64\n",
      "~~~~~~~~~~ Number of instances after balancing:  175  ~~~~~~~~~~\n",
      "~~~~~~~~~~ Number of instances before balancing:  138  ~~~~~~~~~~\n",
      "~~~~~~~ Training Loss: 0.012804845348000526  ~~~~~~~\n",
      "~~~~~~~ Validation Loss: 0.022427666932344437  ~~~~~~~\n",
      "2/2 [==============================] - 0s 5ms/step\n",
      "~~~~~~~ value_counts: ~~~~~~~\n",
      "1    94\n",
      "0    88\n",
      "Name: class, dtype: int64\n",
      "~~~~~~~~~~ Number of instances after balancing:  182  ~~~~~~~~~~\n",
      "~~~~~~~~~~ SVM ~~~~~~~~~~~~~~~\n",
      "-----------kfold--------------- 0 ------------\n",
      "----SVM kfold---------- 0.7373015873015873 SVC(C=21, coef0=0.001)\n",
      "* 0-----------kfold--------------- 1 ------------\n"
     ]
    },
    {
     "name": "stderr",
     "output_type": "stream",
     "text": [
      "c:\\Users\\sbhuv\\AppData\\Local\\Programs\\Python\\Python38\\lib\\site-packages\\sklearn\\utils\\validation.py:1143: DataConversionWarning: A column-vector y was passed when a 1d array was expected. Please change the shape of y to (n_samples, ), for example using ravel().\n",
      "  y = column_or_1d(y, warn=True)\n",
      "c:\\Users\\sbhuv\\AppData\\Local\\Programs\\Python\\Python38\\lib\\site-packages\\sklearn\\utils\\validation.py:1143: DataConversionWarning: A column-vector y was passed when a 1d array was expected. Please change the shape of y to (n_samples, ), for example using ravel().\n",
      "  y = column_or_1d(y, warn=True)\n"
     ]
    },
    {
     "name": "stdout",
     "output_type": "stream",
     "text": [
      "* 1-----------kfold--------------- 2 ------------\n"
     ]
    },
    {
     "name": "stderr",
     "output_type": "stream",
     "text": [
      "c:\\Users\\sbhuv\\AppData\\Local\\Programs\\Python\\Python38\\lib\\site-packages\\sklearn\\utils\\validation.py:1143: DataConversionWarning: A column-vector y was passed when a 1d array was expected. Please change the shape of y to (n_samples, ), for example using ravel().\n",
      "  y = column_or_1d(y, warn=True)\n",
      "Classificationv3.py:353: UserWarning: FixedFormatter should only be used together with FixedLocator\n",
      "  axs[i].set_xticklabels([''] + ['0', '1'], fontsize='xx-large')\n",
      "Classificationv3.py:354: UserWarning: FixedFormatter should only be used together with FixedLocator\n",
      "  axs[i].set_yticklabels([''] + ['0', '1'], fontsize='xx-large')\n"
     ]
    },
    {
     "name": "stdout",
     "output_type": "stream",
     "text": [
      "* 2*\n",
      "{'C': 41, 'break_ties': False, 'cache_size': 200, 'class_weight': None, 'coef0': 2.501, 'decision_function_shape': 'ovr', 'degree': 5, 'gamma': 'auto', 'kernel': 'poly', 'max_iter': -1, 'probability': False, 'random_state': None, 'shrinking': True, 'tol': 0.001, 'verbose': False}\n",
      "------run_cv runs successfully------------\n",
      "++++++++++++save_confusion_matrix++++++++++++\n",
      "++++++++++++save_confusion_matrix end++++++++++++\n",
      "(((((((((((((((((((((( draw droc ))))))))))))))))))))))))))))))\n",
      "(((((((( draw droc end ))))))))\n",
      "~~~~~~~~~~~~~~~~~ SB-089 ~~~~~~~~~~~~~~~~~~~~~~\n",
      "~~~~~~~~~~ Number of instances before balancing:  32  ~~~~~~~~~~\n",
      "~~~~~~~ Training Loss: 0.009468249045312405  ~~~~~~~\n",
      "~~~~~~~ Validation Loss: 0.04565735533833504  ~~~~~~~\n",
      "1/1 [==============================] - 0s 169ms/step\n",
      "~~~~~~~ value_counts: ~~~~~~~\n",
      "1    22\n",
      "0    20\n",
      "Name: class, dtype: int64\n",
      "~~~~~~~~~~ Number of instances after balancing:  42  ~~~~~~~~~~\n",
      "~~~~~~~~~~ Number of instances before balancing:  33  ~~~~~~~~~~\n",
      "~~~~~~~ Training Loss: 0.015822499990463257  ~~~~~~~\n",
      "~~~~~~~ Validation Loss: 0.07606926560401917  ~~~~~~~\n",
      "1/1 [==============================] - 0s 155ms/step\n",
      "~~~~~~~ value_counts: ~~~~~~~\n",
      "1    24\n",
      "0    18\n",
      "Name: class, dtype: int64\n",
      "~~~~~~~~~~ Number of instances after balancing:  42  ~~~~~~~~~~\n",
      "~~~~~~~~~~ Number of instances before balancing:  33  ~~~~~~~~~~\n",
      "~~~~~~~ Training Loss: 0.010996667668223381  ~~~~~~~\n",
      "~~~~~~~ Validation Loss: 0.046755608171224594  ~~~~~~~\n",
      "1/1 [==============================] - 0s 151ms/step\n",
      "~~~~~~~ value_counts: ~~~~~~~\n",
      "0    22\n",
      "1    22\n",
      "Name: class, dtype: int64\n",
      "~~~~~~~~~~ Number of instances after balancing:  44  ~~~~~~~~~~\n",
      "~~~~~~~~~~ SVM ~~~~~~~~~~~~~~~\n",
      "-----------kfold--------------- 0 ------------\n",
      "----SVM kfold---------- 0.8333333333333333 SVC(C=1, coef0=0.001, degree=5, kernel='poly')\n",
      "* 0-----------kfold--------------- 1 ------------\n"
     ]
    },
    {
     "name": "stderr",
     "output_type": "stream",
     "text": [
      "c:\\Users\\sbhuv\\AppData\\Local\\Programs\\Python\\Python38\\lib\\site-packages\\sklearn\\utils\\validation.py:1143: DataConversionWarning: A column-vector y was passed when a 1d array was expected. Please change the shape of y to (n_samples, ), for example using ravel().\n",
      "  y = column_or_1d(y, warn=True)\n"
     ]
    },
    {
     "name": "stdout",
     "output_type": "stream",
     "text": [
      "----SVM kfold---------- 0.9 SVC(C=21, coef0=0.001, gamma='auto', kernel='linear')\n",
      "* 1-----------kfold--------------- 2 ------------\n"
     ]
    },
    {
     "name": "stderr",
     "output_type": "stream",
     "text": [
      "c:\\Users\\sbhuv\\AppData\\Local\\Programs\\Python\\Python38\\lib\\site-packages\\sklearn\\utils\\validation.py:1143: DataConversionWarning: A column-vector y was passed when a 1d array was expected. Please change the shape of y to (n_samples, ), for example using ravel().\n",
      "  y = column_or_1d(y, warn=True)\n",
      "c:\\Users\\sbhuv\\AppData\\Local\\Programs\\Python\\Python38\\lib\\site-packages\\sklearn\\utils\\validation.py:1143: DataConversionWarning: A column-vector y was passed when a 1d array was expected. Please change the shape of y to (n_samples, ), for example using ravel().\n",
      "  y = column_or_1d(y, warn=True)\n",
      "Classificationv3.py:353: UserWarning: FixedFormatter should only be used together with FixedLocator\n",
      "  axs[i].set_xticklabels([''] + ['0', '1'], fontsize='xx-large')\n",
      "Classificationv3.py:354: UserWarning: FixedFormatter should only be used together with FixedLocator\n",
      "  axs[i].set_yticklabels([''] + ['0', '1'], fontsize='xx-large')\n"
     ]
    },
    {
     "name": "stdout",
     "output_type": "stream",
     "text": [
      "* 2*\n",
      "{'C': 11, 'break_ties': False, 'cache_size': 200, 'class_weight': None, 'coef0': 1.001, 'decision_function_shape': 'ovr', 'degree': 4, 'gamma': 'auto', 'kernel': 'poly', 'max_iter': -1, 'probability': False, 'random_state': None, 'shrinking': True, 'tol': 0.001, 'verbose': False}\n",
      "------run_cv runs successfully------------\n",
      "++++++++++++save_confusion_matrix++++++++++++\n",
      "++++++++++++save_confusion_matrix end++++++++++++\n",
      "(((((((((((((((((((((( draw droc ))))))))))))))))))))))))))))))\n",
      "(((((((( draw droc end ))))))))\n",
      "~~~~~~~~~~~~~~~~~ SB-112 ~~~~~~~~~~~~~~~~~~~~~~\n",
      "~~~~~~~~~~ Number of instances before balancing:  120  ~~~~~~~~~~\n",
      "~~~~~~~ Training Loss: 0.016882874071598053  ~~~~~~~\n",
      "~~~~~~~ Validation Loss: 0.053632140159606934  ~~~~~~~\n",
      "1/1 [==============================] - 0s 183ms/step\n",
      "~~~~~~~ value_counts: ~~~~~~~\n",
      "1    95\n",
      "0    50\n",
      "Name: class, dtype: int64\n",
      "~~~~~~~~~~ Number of instances after balancing:  145  ~~~~~~~~~~\n",
      "~~~~~~~~~~ Number of instances before balancing:  120  ~~~~~~~~~~\n",
      "~~~~~~~ Training Loss: 0.01275634951889515  ~~~~~~~\n",
      "~~~~~~~ Validation Loss: 0.03146706894040108  ~~~~~~~\n",
      "1/1 [==============================] - 0s 183ms/step\n",
      "~~~~~~~ value_counts: ~~~~~~~\n",
      "1    93\n",
      "0    54\n",
      "Name: class, dtype: int64\n",
      "~~~~~~~~~~ Number of instances after balancing:  147  ~~~~~~~~~~\n",
      "~~~~~~~~~~ Number of instances before balancing:  120  ~~~~~~~~~~\n",
      "~~~~~~~ Training Loss: 0.01650211773812771  ~~~~~~~\n",
      "~~~~~~~ Validation Loss: 0.03323929384350777  ~~~~~~~\n",
      "1/1 [==============================] - 0s 142ms/step\n",
      "~~~~~~~ value_counts: ~~~~~~~\n",
      "1    94\n",
      "0    52\n",
      "Name: class, dtype: int64\n",
      "~~~~~~~~~~ Number of instances after balancing:  146  ~~~~~~~~~~\n",
      "~~~~~~~~~~ SVM ~~~~~~~~~~~~~~~\n",
      "-----------kfold--------------- 0 ------------\n",
      "----SVM kfold---------- 0.8137931034482758 SVC(C=1, coef0=0.001)\n",
      "* 0-----------kfold--------------- 1 ------------\n"
     ]
    },
    {
     "name": "stderr",
     "output_type": "stream",
     "text": [
      "c:\\Users\\sbhuv\\AppData\\Local\\Programs\\Python\\Python38\\lib\\site-packages\\sklearn\\utils\\validation.py:1143: DataConversionWarning: A column-vector y was passed when a 1d array was expected. Please change the shape of y to (n_samples, ), for example using ravel().\n",
      "  y = column_or_1d(y, warn=True)\n",
      "c:\\Users\\sbhuv\\AppData\\Local\\Programs\\Python\\Python38\\lib\\site-packages\\sklearn\\utils\\validation.py:1143: DataConversionWarning: A column-vector y was passed when a 1d array was expected. Please change the shape of y to (n_samples, ), for example using ravel().\n",
      "  y = column_or_1d(y, warn=True)\n"
     ]
    },
    {
     "name": "stdout",
     "output_type": "stream",
     "text": [
      "* 1-----------kfold--------------- 2 ------------\n"
     ]
    },
    {
     "name": "stderr",
     "output_type": "stream",
     "text": [
      "c:\\Users\\sbhuv\\AppData\\Local\\Programs\\Python\\Python38\\lib\\site-packages\\sklearn\\utils\\validation.py:1143: DataConversionWarning: A column-vector y was passed when a 1d array was expected. Please change the shape of y to (n_samples, ), for example using ravel().\n",
      "  y = column_or_1d(y, warn=True)\n",
      "Classificationv3.py:353: UserWarning: FixedFormatter should only be used together with FixedLocator\n",
      "  axs[i].set_xticklabels([''] + ['0', '1'], fontsize='xx-large')\n",
      "Classificationv3.py:354: UserWarning: FixedFormatter should only be used together with FixedLocator\n",
      "  axs[i].set_yticklabels([''] + ['0', '1'], fontsize='xx-large')\n"
     ]
    },
    {
     "name": "stdout",
     "output_type": "stream",
     "text": [
      "* 2*\n",
      "{'C': 31, 'break_ties': False, 'cache_size': 200, 'class_weight': None, 'coef0': 0.001, 'decision_function_shape': 'ovr', 'degree': 3, 'gamma': 'scale', 'kernel': 'rbf', 'max_iter': -1, 'probability': False, 'random_state': None, 'shrinking': True, 'tol': 0.001, 'verbose': False}\n",
      "------run_cv runs successfully------------\n",
      "++++++++++++save_confusion_matrix++++++++++++\n",
      "++++++++++++save_confusion_matrix end++++++++++++\n",
      "(((((((((((((((((((((( draw droc ))))))))))))))))))))))))))))))\n",
      "(((((((( draw droc end ))))))))\n"
     ]
    }
   ],
   "source": [
    "runner_svm()"
   ]
  },
  {
   "cell_type": "code",
   "execution_count": 14,
   "metadata": {},
   "outputs": [],
   "source": [
    "# runner_nb()"
   ]
  },
  {
   "cell_type": "code",
   "execution_count": null,
   "metadata": {},
   "outputs": [],
   "source": []
  }
 ],
 "metadata": {
  "kernelspec": {
   "display_name": "Python 3",
   "language": "python",
   "name": "python3"
  },
  "language_info": {
   "codemirror_mode": {
    "name": "ipython",
    "version": 3
   },
   "file_extension": ".py",
   "mimetype": "text/x-python",
   "name": "python",
   "nbconvert_exporter": "python",
   "pygments_lexer": "ipython3",
   "version": "3.8.2"
  },
  "orig_nbformat": 4
 },
 "nbformat": 4,
 "nbformat_minor": 2
}
