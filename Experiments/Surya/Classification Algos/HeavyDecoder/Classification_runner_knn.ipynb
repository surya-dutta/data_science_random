{
 "cells": [
  {
   "cell_type": "code",
   "execution_count": 12,
   "metadata": {},
   "outputs": [],
   "source": [
    "import pandas as pd\n",
    "import importlib.util\n",
    "import sklearn\n",
    "import numpy as np\n",
    "from pathlib import Path\n",
    "import joblib\n",
    "import os   "
   ]
  },
  {
   "cell_type": "code",
   "execution_count": 13,
   "metadata": {},
   "outputs": [],
   "source": [
    "output_dir = \"classification_results_2023/\"\n",
    "all_patient_data = pd.read_csv(\"Combined_AM_Data.csv\")"
   ]
  },
  {
   "cell_type": "code",
   "execution_count": 14,
   "metadata": {},
   "outputs": [
    {
     "data": {
      "text/plain": [
       "Index(['id', 'date', 'age', 'sex', 'BMI', 'income', 'road_dist', 'cooking',\n",
       "       'am_pef_org', 'y_am_pef', 'tempin', 'humidin', 'pm25in', 'co2in',\n",
       "       'tempdiffin', 'humidiffin', 'pm25diffin', 'pm10', 'pm25', 'o3', 'no2',\n",
       "       'co', 'so2', 'temp', 'windsd', 'humid', 'varp', 'dewpt', 'airp', 'seap',\n",
       "       'solrhr', 'solramnt', 'grdt', 'class'],\n",
       "      dtype='object')"
      ]
     },
     "execution_count": 14,
     "metadata": {},
     "output_type": "execute_result"
    }
   ],
   "source": [
    "all_patient_data.columns"
   ]
  },
  {
   "cell_type": "code",
   "execution_count": 15,
   "metadata": {},
   "outputs": [],
   "source": [
    "# Loading classification.py\n",
    "spec = importlib.util.spec_from_file_location('classification', r\"Classificationv3.py\")\n",
    "module = importlib.util.module_from_spec(spec)\n",
    "spec.loader.exec_module(module)"
   ]
  },
  {
   "cell_type": "code",
   "execution_count": 16,
   "metadata": {},
   "outputs": [],
   "source": [
    "predictColumn = \"class\"\n",
    "minorityVariable = 0 \n",
    "classes = all_patient_data[predictColumn].unique().tolist()\n",
    "\n",
    "n_classes = len(classes)\n",
    "\n",
    "if n_classes > 2 :\n",
    "    logit_reg_model = sklearn.linear_model.LogisticRegression(solver='saga', multi_class='multinomial')\n",
    "else :\n",
    "    logit_reg_model = sklearn.linear_model.LogisticRegression(solver='liblinear', multi_class='auto')\n",
    "\n",
    "cls = [ \"DecisionTree\" , sklearn.tree.DecisionTreeClassifier(max_depth=4),\n",
    "        \"K-NN\"              , sklearn.neighbors.KNeighborsClassifier(),\n",
    "        \"Logit Regression\"  , logit_reg_model,\n",
    "        \"Naive Bayes\"       , sklearn.gaussian_process.GaussianProcessClassifier()\n",
    "];"
   ]
  },
  {
   "cell_type": "code",
   "execution_count": 17,
   "metadata": {},
   "outputs": [],
   "source": [
    "EVALUATION_METRICS = ['Weighted Accuracy', 'Sensitivity/Recall', 'Precision_avg', 'F1_avg', 'Specificity', 'Precision', 'Precision_class1', 'F1', 'F1_class1']\n",
    "REQUIRED_COLUMNS = ['income','road_dist','cooking','y_am_pef','tempin','humidin','pm25in','co2in','tempdiffin','humidiffin','pm25diffin','pm10','pm25','o3','no2','co','so2','temp','windsd','humid','varp','dewpt','airp','seap','solrhr','solramnt','grdt','class']"
   ]
  },
  {
   "cell_type": "code",
   "execution_count": 18,
   "metadata": {},
   "outputs": [],
   "source": [
    "%run \"Classificationv3.py\"\n",
    "%run \"Balance.py\""
   ]
  },
  {
   "cell_type": "code",
   "execution_count": 19,
   "metadata": {},
   "outputs": [],
   "source": [
    "def classification_func(file_name, predictCol, minorVar, category_group, cls, output_dir, df_evaluation_results, patient_id, patient_id_df):\n",
    "\n",
    "    print('~~~~~~~~~~~~~~~~~', file_name,'~~~~~~~~~~~~~~~~~~~~~~')\n",
    "\n",
    "    dataset_dir = Path(output_dir + patient_id+category_group +  \"/diagrams/\" + file_name + '/') \n",
    "\n",
    "    # Create Directory for this patient\n",
    "    if not (dataset_dir.exists() and dataset_dir.is_dir()):\n",
    "        os.makedirs(dataset_dir)\n",
    "\n",
    "    save_path = output_dir+ patient_id+category_group +'/diagrams/' + file_name + '/sklearn_models_balanced_for_train_'\n",
    "\n",
    "    CLASS_VAR = predictCol\n",
    "    MINORITY_VAR = minorVar\n",
    "    bestDT = module.Classify(patient_id_df, True, class_var=CLASS_VAR, minority_var=MINORITY_VAR, drawConfusionMatrix=True, classifiers=cls, scale=True, save_path=save_path, after_split=True)\n",
    "\n",
    "    confusion_matrixes_file = save_path + \"confusion_mat_\" + category_group + \"_\"+ file_name\n",
    "    module.save_confusion_matrix(bestDT[1], confusion_matrixes_file)\n",
    "    roc_curve_file = save_path + \"roc_curve_\" + category_group + \"_\"+ file_name\n",
    "    module.save_Draw_Roc(bestDT[2], roc_curve_file)\n",
    "    if len(bestDT[3])!=0:\n",
    "      featureImportance_path = save_path + \"important_mat_\" + category_group + \"_\"+ file_name\n",
    "      module.save_Draw_FeatureImportanceMatrix(patient_id_df,bestDT[3],cls[0], featureImportance_path, True)\n",
    "\n",
    "    model_path = save_path + \"bestModel_\" + category_group + \"_\"+ file_name + \".joblib\"\n",
    "    joblib.dump(bestDT[4], model_path)\n",
    "\n",
    "    df_evaluation_results[file_name] = bestDT[0]\n",
    "    df_evaluation_results.to_csv(output_dir+patient_id+category_group+\"/sklearn_models_balanced_for_train_metrics_\"+category_group + \".csv\")\n"
   ]
  },
  {
   "cell_type": "code",
   "execution_count": 20,
   "metadata": {},
   "outputs": [],
   "source": [
    "def runner_decision_tree():\n",
    "    ids = all_patient_data['id'].unique().tolist()\n",
    "    for id in ids:\n",
    "        patient_id = id + \"/\"\n",
    "        file_name = id\n",
    "        patient_id_df = all_patient_data[all_patient_data['id'] == id]\n",
    "        filtered_df = patient_id_df.filter(REQUIRED_COLUMNS)\n",
    "        patient_id_df = filtered_df.copy()\n",
    "        \n",
    "        # Decision Tree\n",
    "        df_evaluation_results = pd.DataFrame(index=EVALUATION_METRICS)\n",
    "        category_group = '1DecisionTree'\n",
    "        cls = [\"DecisionTree\", sklearn.tree.DecisionTreeClassifier(max_depth=4)]\n",
    "        classification_func(file_name, predictColumn, minorityVariable, category_group, cls, output_dir, df_evaluation_results, patient_id, patient_id_df)\n",
    "\n",
    "def runner_knn():\n",
    "    ids = all_patient_data['id'].unique().tolist()\n",
    "    for id in ids:\n",
    "        patient_id = id + \"/\"\n",
    "        file_name = id\n",
    "        patient_id_df = all_patient_data[all_patient_data['id'] == id]\n",
    "        filtered_df = patient_id_df.filter(REQUIRED_COLUMNS)\n",
    "        patient_id_df = filtered_df.copy()\n",
    "        \n",
    "        # KNN\n",
    "        df_evaluation_results = pd.DataFrame(index=EVALUATION_METRICS)\n",
    "        category_group = '2K-NN'\n",
    "        cls = [\"K-NN\", sklearn.neighbors.KNeighborsClassifier()]\n",
    "        classification_func(file_name, predictColumn, minorityVariable, category_group, cls, output_dir, df_evaluation_results, patient_id, patient_id_df)\n",
    "\n",
    "def runner_lr():\n",
    "    ids = all_patient_data['id'].unique().tolist()\n",
    "    for id in ids:\n",
    "        patient_id = id + \"/\"\n",
    "        file_name = id\n",
    "        patient_id_df = all_patient_data[all_patient_data['id'] == id]\n",
    "        filtered_df = patient_id_df.filter(REQUIRED_COLUMNS)\n",
    "        patient_id_df = filtered_df.copy()\n",
    "        \n",
    "        # Logistic Regression\n",
    "        df_evaluation_results = pd.DataFrame(index=EVALUATION_METRICS)\n",
    "        category_group = 'LogisticRegression'\n",
    "        print(logit_reg_model)\n",
    "        cls = [\"Logit Regression\", logit_reg_model]\n",
    "        classification_func(file_name, predictColumn, minorityVariable, category_group, cls, output_dir, df_evaluation_results, patient_id, patient_id_df)\n",
    "\n",
    "def runner_svm():\n",
    "    ids = all_patient_data['id'].unique().tolist()\n",
    "    for id in ids:\n",
    "        patient_id = id + \"/\"\n",
    "        file_name = id\n",
    "        patient_id_df = all_patient_data[all_patient_data['id'] == id]\n",
    "        filtered_df = patient_id_df.filter(REQUIRED_COLUMNS)\n",
    "        patient_id_df = filtered_df.copy()\n",
    "        \n",
    "        # SVM\n",
    "        df_evaluation_results = pd.DataFrame(index=EVALUATION_METRICS)\n",
    "        category_group = 'SVM'\n",
    "        cls = [\"SVM\", sklearn.svm.SVC(kernel=\"linear\")]\n",
    "        classification_func(file_name, predictColumn, minorityVariable, category_group, cls, output_dir, df_evaluation_results, patient_id, patient_id_df)\n",
    "\n",
    "def runner_nb():\n",
    "    ids = all_patient_data['id'].unique().tolist()\n",
    "    for id in ids:\n",
    "        patient_id = id + \"/\"\n",
    "        file_name = id\n",
    "        patient_id_df = all_patient_data[all_patient_data['id'] == id]\n",
    "        filtered_df = patient_id_df.filter(REQUIRED_COLUMNS)\n",
    "        patient_id_df = filtered_df.copy()\n",
    "        \n",
    "        # Naive Bayes\n",
    "        df_evaluation_results = pd.DataFrame(index=EVALUATION_METRICS)\n",
    "        category_group = 'NaiveBayes'\n",
    "        cls = [\"Naive Bayes\", sklearn.gaussian_process.GaussianProcessClassifier()]\n",
    "        classification_func(file_name, predictColumn, minorityVariable, category_group, cls, output_dir, df_evaluation_results, patient_id, patient_id_df)\n"
   ]
  },
  {
   "cell_type": "code",
   "execution_count": 21,
   "metadata": {},
   "outputs": [],
   "source": [
    "#runner_decision_tree()"
   ]
  },
  {
   "cell_type": "code",
   "execution_count": 22,
   "metadata": {},
   "outputs": [
    {
     "name": "stdout",
     "output_type": "stream",
     "text": [
      "~~~~~~~~~~~~~~~~~ SB-001 ~~~~~~~~~~~~~~~~~~~~~~\n",
      "~~~~~~~~~~ Number of instances before balancing:  125  ~~~~~~~~~~\n",
      "~~~~~~~ Training Loss: 0.01261089276522398  ~~~~~~~\n",
      "~~~~~~~ Validation Loss: 0.014300446026027203  ~~~~~~~\n",
      "2/2 [==============================] - 0s 8ms/step\n",
      "~~~~~~~ value_counts: ~~~~~~~\n",
      "1    85\n",
      "0    80\n",
      "Name: class, dtype: int64\n",
      "~~~~~~~~~~ Number of instances after balancing:  165  ~~~~~~~~~~\n",
      "~~~~~~~~~~ Number of instances before balancing:  125  ~~~~~~~~~~\n",
      "~~~~~~~ Training Loss: 0.011551087722182274  ~~~~~~~\n",
      "~~~~~~~ Validation Loss: 0.013248300179839134  ~~~~~~~\n",
      "2/2 [==============================] - 0s 8ms/step\n",
      "~~~~~~~ value_counts: ~~~~~~~\n",
      "1    85\n",
      "0    80\n",
      "Name: class, dtype: int64\n",
      "~~~~~~~~~~ Number of instances after balancing:  165  ~~~~~~~~~~\n",
      "~~~~~~~~~~ Number of instances before balancing:  126  ~~~~~~~~~~\n",
      "~~~~~~~ Training Loss: 0.01051084790378809  ~~~~~~~\n",
      "~~~~~~~ Validation Loss: 0.01339755579829216  ~~~~~~~\n",
      "2/2 [==============================] - 0s 5ms/step\n",
      "~~~~~~~ value_counts: ~~~~~~~\n",
      "1    92\n",
      "0    68\n",
      "Name: class, dtype: int64\n",
      "~~~~~~~~~~ Number of instances after balancing:  160  ~~~~~~~~~~\n",
      "~~~~~~~~~~ K-NN ~~~~~~~~~~~~~~~\n",
      "-----------kfold--------------- 0 ------------\n",
      "---K-NN--- 0.6545454545454545 KNeighborsClassifier(metric='manhattan', n_neighbors=3)\n",
      "* 0-----------kfold--------------- 1 ------------\n"
     ]
    },
    {
     "name": "stderr",
     "output_type": "stream",
     "text": [
      "c:\\Users\\sbhuv\\AppData\\Local\\Programs\\Python\\Python38\\lib\\site-packages\\sklearn\\neighbors\\_classification.py:215: DataConversionWarning: A column-vector y was passed when a 1d array was expected. Please change the shape of y to (n_samples,), for example using ravel().\n",
      "  return self._fit(X, y)\n"
     ]
    },
    {
     "name": "stdout",
     "output_type": "stream",
     "text": [
      "---K-NN--- 0.709090909090909 KNeighborsClassifier(metric='manhattan', n_neighbors=3)\n",
      "* 1-----------kfold--------------- 2 ------------\n"
     ]
    },
    {
     "name": "stderr",
     "output_type": "stream",
     "text": [
      "c:\\Users\\sbhuv\\AppData\\Local\\Programs\\Python\\Python38\\lib\\site-packages\\sklearn\\neighbors\\_classification.py:215: DataConversionWarning: A column-vector y was passed when a 1d array was expected. Please change the shape of y to (n_samples,), for example using ravel().\n",
      "  return self._fit(X, y)\n"
     ]
    },
    {
     "name": "stdout",
     "output_type": "stream",
     "text": [
      "---K-NN--- 0.7375 KNeighborsClassifier(metric='euclidean', n_neighbors=3)\n",
      "* 2*\n",
      "{'algorithm': 'auto', 'leaf_size': 30, 'metric': 'euclidean', 'metric_params': None, 'n_jobs': None, 'n_neighbors': 3, 'p': 2, 'weights': 'uniform'}\n",
      "------run_cv runs successfully------------\n",
      "++++++++++++save_confusion_matrix++++++++++++\n"
     ]
    },
    {
     "name": "stderr",
     "output_type": "stream",
     "text": [
      "c:\\Users\\sbhuv\\AppData\\Local\\Programs\\Python\\Python38\\lib\\site-packages\\sklearn\\neighbors\\_classification.py:215: DataConversionWarning: A column-vector y was passed when a 1d array was expected. Please change the shape of y to (n_samples,), for example using ravel().\n",
      "  return self._fit(X, y)\n",
      "Classificationv3.py:353: UserWarning: FixedFormatter should only be used together with FixedLocator\n",
      "  axs[i].set_xticklabels([''] + ['0', '1'], fontsize='xx-large')\n",
      "Classificationv3.py:354: UserWarning: FixedFormatter should only be used together with FixedLocator\n",
      "  axs[i].set_yticklabels([''] + ['0', '1'], fontsize='xx-large')\n"
     ]
    },
    {
     "name": "stdout",
     "output_type": "stream",
     "text": [
      "++++++++++++save_confusion_matrix end++++++++++++\n",
      "(((((((((((((((((((((( draw droc ))))))))))))))))))))))))))))))\n",
      "(((((((( draw droc end ))))))))\n",
      "~~~~~~~~~~~~~~~~~ SB-003 ~~~~~~~~~~~~~~~~~~~~~~\n",
      "~~~~~~~~~~ Number of instances before balancing:  120  ~~~~~~~~~~\n",
      "~~~~~~~ Training Loss: 0.007554845418781042  ~~~~~~~\n",
      "~~~~~~~ Validation Loss: 0.015179932117462158  ~~~~~~~\n",
      "WARNING:tensorflow:5 out of the last 9 calls to <function Model.make_predict_function.<locals>.predict_function at 0x0000021BF0A5A790> triggered tf.function retracing. Tracing is expensive and the excessive number of tracings could be due to (1) creating @tf.function repeatedly in a loop, (2) passing tensors with different shapes, (3) passing Python objects instead of tensors. For (1), please define your @tf.function outside of the loop. For (2), @tf.function has reduce_retracing=True option that can avoid unnecessary retracing. For (3), please refer to https://www.tensorflow.org/guide/function#controlling_retracing and https://www.tensorflow.org/api_docs/python/tf/function for  more details.\n",
      "1/1 [==============================] - 1s 551ms/step\n",
      "~~~~~~~ value_counts: ~~~~~~~\n",
      "1    90\n",
      "0    60\n",
      "Name: class, dtype: int64\n",
      "~~~~~~~~~~ Number of instances after balancing:  150  ~~~~~~~~~~\n",
      "~~~~~~~~~~ Number of instances before balancing:  120  ~~~~~~~~~~\n",
      "~~~~~~~ Training Loss: 0.009915126487612724  ~~~~~~~\n",
      "~~~~~~~ Validation Loss: 0.014863761141896248  ~~~~~~~\n",
      "WARNING:tensorflow:6 out of the last 10 calls to <function Model.make_predict_function.<locals>.predict_function at 0x0000021BF0AA2DC0> triggered tf.function retracing. Tracing is expensive and the excessive number of tracings could be due to (1) creating @tf.function repeatedly in a loop, (2) passing tensors with different shapes, (3) passing Python objects instead of tensors. For (1), please define your @tf.function outside of the loop. For (2), @tf.function has reduce_retracing=True option that can avoid unnecessary retracing. For (3), please refer to https://www.tensorflow.org/guide/function#controlling_retracing and https://www.tensorflow.org/api_docs/python/tf/function for  more details.\n",
      "1/1 [==============================] - 0s 287ms/step\n",
      "~~~~~~~ value_counts: ~~~~~~~\n",
      "1    91\n",
      "0    58\n",
      "Name: class, dtype: int64\n",
      "~~~~~~~~~~ Number of instances after balancing:  149  ~~~~~~~~~~\n",
      "~~~~~~~~~~ Number of instances before balancing:  120  ~~~~~~~~~~\n",
      "~~~~~~~ Training Loss: 0.013618960045278072  ~~~~~~~\n",
      "~~~~~~~ Validation Loss: 0.03192269057035446  ~~~~~~~\n",
      "1/1 [==============================] - 0s 249ms/step\n",
      "~~~~~~~ value_counts: ~~~~~~~\n",
      "1    89\n",
      "0    62\n",
      "Name: class, dtype: int64\n",
      "~~~~~~~~~~ Number of instances after balancing:  151  ~~~~~~~~~~\n",
      "~~~~~~~~~~ K-NN ~~~~~~~~~~~~~~~\n",
      "-----------kfold--------------- 0 ------------\n",
      "---K-NN--- 0.68 KNeighborsClassifier(metric='euclidean', n_neighbors=3, weights='distance')\n",
      "* 0-----------kfold--------------- 1 ------------\n"
     ]
    },
    {
     "name": "stderr",
     "output_type": "stream",
     "text": [
      "c:\\Users\\sbhuv\\AppData\\Local\\Programs\\Python\\Python38\\lib\\site-packages\\sklearn\\neighbors\\_classification.py:215: DataConversionWarning: A column-vector y was passed when a 1d array was expected. Please change the shape of y to (n_samples,), for example using ravel().\n",
      "  return self._fit(X, y)\n"
     ]
    },
    {
     "name": "stdout",
     "output_type": "stream",
     "text": [
      "---K-NN--- 0.7255172413793104 KNeighborsClassifier(metric='manhattan', n_neighbors=3)\n",
      "* 1-----------kfold--------------- 2 ------------\n"
     ]
    },
    {
     "name": "stderr",
     "output_type": "stream",
     "text": [
      "c:\\Users\\sbhuv\\AppData\\Local\\Programs\\Python\\Python38\\lib\\site-packages\\sklearn\\neighbors\\_classification.py:215: DataConversionWarning: A column-vector y was passed when a 1d array was expected. Please change the shape of y to (n_samples,), for example using ravel().\n",
      "  return self._fit(X, y)\n",
      "c:\\Users\\sbhuv\\AppData\\Local\\Programs\\Python\\Python38\\lib\\site-packages\\sklearn\\neighbors\\_classification.py:215: DataConversionWarning: A column-vector y was passed when a 1d array was expected. Please change the shape of y to (n_samples,), for example using ravel().\n",
      "  return self._fit(X, y)\n",
      "Classificationv3.py:353: UserWarning: FixedFormatter should only be used together with FixedLocator\n",
      "  axs[i].set_xticklabels([''] + ['0', '1'], fontsize='xx-large')\n",
      "Classificationv3.py:354: UserWarning: FixedFormatter should only be used together with FixedLocator\n",
      "  axs[i].set_yticklabels([''] + ['0', '1'], fontsize='xx-large')\n"
     ]
    },
    {
     "name": "stdout",
     "output_type": "stream",
     "text": [
      "* 2*\n",
      "{'algorithm': 'auto', 'leaf_size': 30, 'metric': 'manhattan', 'metric_params': None, 'n_jobs': None, 'n_neighbors': 3, 'p': 2, 'weights': 'uniform'}\n",
      "------run_cv runs successfully------------\n",
      "++++++++++++save_confusion_matrix++++++++++++\n",
      "++++++++++++save_confusion_matrix end++++++++++++\n",
      "(((((((((((((((((((((( draw droc ))))))))))))))))))))))))))))))\n",
      "(((((((( draw droc end ))))))))\n",
      "~~~~~~~~~~~~~~~~~ SB-008 ~~~~~~~~~~~~~~~~~~~~~~\n",
      "~~~~~~~~~~ Number of instances before balancing:  118  ~~~~~~~~~~\n",
      "~~~~~~~ Training Loss: 0.011069955304265022  ~~~~~~~\n",
      "~~~~~~~ Validation Loss: 0.010300572030246258  ~~~~~~~\n",
      "1/1 [==============================] - 0s 195ms/step\n",
      "~~~~~~~ value_counts: ~~~~~~~\n",
      "1    90\n",
      "0    56\n",
      "Name: class, dtype: int64\n",
      "~~~~~~~~~~ Number of instances after balancing:  146  ~~~~~~~~~~\n",
      "~~~~~~~~~~ Number of instances before balancing:  119  ~~~~~~~~~~\n",
      "~~~~~~~ Training Loss: 0.008858036249876022  ~~~~~~~\n",
      "~~~~~~~ Validation Loss: 0.025763044133782387  ~~~~~~~\n",
      "2/2 [==============================] - 0s 5ms/step\n",
      "~~~~~~~ value_counts: ~~~~~~~\n",
      "1    86\n",
      "0    66\n",
      "Name: class, dtype: int64\n",
      "~~~~~~~~~~ Number of instances after balancing:  152  ~~~~~~~~~~\n",
      "~~~~~~~~~~ Number of instances before balancing:  119  ~~~~~~~~~~\n",
      "~~~~~~~ Training Loss: 0.01368756964802742  ~~~~~~~\n",
      "~~~~~~~ Validation Loss: 0.01879298873245716  ~~~~~~~\n",
      "1/1 [==============================] - 0s 276ms/step\n",
      "~~~~~~~ value_counts: ~~~~~~~\n",
      "1    94\n",
      "0    50\n",
      "Name: class, dtype: int64\n",
      "~~~~~~~~~~ Number of instances after balancing:  144  ~~~~~~~~~~\n",
      "~~~~~~~~~~ K-NN ~~~~~~~~~~~~~~~\n",
      "-----------kfold--------------- 0 ------------\n",
      "---K-NN--- 0.7811494252873563 KNeighborsClassifier(metric='euclidean', n_neighbors=11, weights='distance')\n",
      "* 0-----------kfold--------------- 1 ------------\n"
     ]
    },
    {
     "name": "stderr",
     "output_type": "stream",
     "text": [
      "c:\\Users\\sbhuv\\AppData\\Local\\Programs\\Python\\Python38\\lib\\site-packages\\sklearn\\neighbors\\_classification.py:215: DataConversionWarning: A column-vector y was passed when a 1d array was expected. Please change the shape of y to (n_samples,), for example using ravel().\n",
      "  return self._fit(X, y)\n"
     ]
    },
    {
     "name": "stdout",
     "output_type": "stream",
     "text": [
      "---K-NN--- 0.7823655913978494 KNeighborsClassifier(metric='manhattan', n_neighbors=3)\n",
      "* 1-----------kfold--------------- 2 ------------\n"
     ]
    },
    {
     "name": "stderr",
     "output_type": "stream",
     "text": [
      "c:\\Users\\sbhuv\\AppData\\Local\\Programs\\Python\\Python38\\lib\\site-packages\\sklearn\\neighbors\\_classification.py:215: DataConversionWarning: A column-vector y was passed when a 1d array was expected. Please change the shape of y to (n_samples,), for example using ravel().\n",
      "  return self._fit(X, y)\n"
     ]
    },
    {
     "name": "stdout",
     "output_type": "stream",
     "text": [
      "---K-NN--- 0.8403940886699507 KNeighborsClassifier(metric='manhattan', n_neighbors=9, weights='distance')\n",
      "* 2*\n",
      "{'algorithm': 'auto', 'leaf_size': 30, 'metric': 'manhattan', 'metric_params': None, 'n_jobs': None, 'n_neighbors': 9, 'p': 2, 'weights': 'distance'}\n",
      "------run_cv runs successfully------------\n",
      "++++++++++++save_confusion_matrix++++++++++++\n"
     ]
    },
    {
     "name": "stderr",
     "output_type": "stream",
     "text": [
      "c:\\Users\\sbhuv\\AppData\\Local\\Programs\\Python\\Python38\\lib\\site-packages\\sklearn\\neighbors\\_classification.py:215: DataConversionWarning: A column-vector y was passed when a 1d array was expected. Please change the shape of y to (n_samples,), for example using ravel().\n",
      "  return self._fit(X, y)\n",
      "Classificationv3.py:353: UserWarning: FixedFormatter should only be used together with FixedLocator\n",
      "  axs[i].set_xticklabels([''] + ['0', '1'], fontsize='xx-large')\n",
      "Classificationv3.py:354: UserWarning: FixedFormatter should only be used together with FixedLocator\n",
      "  axs[i].set_yticklabels([''] + ['0', '1'], fontsize='xx-large')\n"
     ]
    },
    {
     "name": "stdout",
     "output_type": "stream",
     "text": [
      "++++++++++++save_confusion_matrix end++++++++++++\n",
      "(((((((((((((((((((((( draw droc ))))))))))))))))))))))))))))))\n",
      "(((((((( draw droc end ))))))))\n",
      "~~~~~~~~~~~~~~~~~ SB-011 ~~~~~~~~~~~~~~~~~~~~~~\n",
      "~~~~~~~~~~ Number of instances before balancing:  140  ~~~~~~~~~~\n",
      "~~~~~~~ Training Loss: 0.007880590856075287  ~~~~~~~\n",
      "~~~~~~~ Validation Loss: 0.015667373314499855  ~~~~~~~\n",
      "2/2 [==============================] - 0s 9ms/step\n",
      "~~~~~~~ value_counts: ~~~~~~~\n",
      "0    94\n",
      "1    93\n",
      "Name: class, dtype: int64\n",
      "~~~~~~~~~~ Number of instances after balancing:  187  ~~~~~~~~~~\n",
      "~~~~~~~~~~ Number of instances before balancing:  140  ~~~~~~~~~~\n",
      "~~~~~~~ Training Loss: 0.015038888901472092  ~~~~~~~\n",
      "~~~~~~~ Validation Loss: 0.01676054112613201  ~~~~~~~\n",
      "2/2 [==============================] - 0s 28ms/step\n",
      "~~~~~~~ value_counts: ~~~~~~~\n",
      "1    96\n",
      "0    88\n",
      "Name: class, dtype: int64\n",
      "~~~~~~~~~~ Number of instances after balancing:  184  ~~~~~~~~~~\n",
      "~~~~~~~~~~ Number of instances before balancing:  140  ~~~~~~~~~~\n",
      "~~~~~~~ Training Loss: 0.010314336977899075  ~~~~~~~\n",
      "~~~~~~~ Validation Loss: 0.016487030312418938  ~~~~~~~\n",
      "2/2 [==============================] - 0s 5ms/step\n",
      "~~~~~~~ value_counts: ~~~~~~~\n",
      "1    105\n",
      "0     70\n",
      "Name: class, dtype: int64\n",
      "~~~~~~~~~~ Number of instances after balancing:  175  ~~~~~~~~~~\n",
      "~~~~~~~~~~ K-NN ~~~~~~~~~~~~~~~\n",
      "-----------kfold--------------- 0 ------------\n",
      "---K-NN--- 0.8554765291607396 KNeighborsClassifier(metric='manhattan')\n",
      "* 0-----------kfold--------------- 1 ------------\n"
     ]
    },
    {
     "name": "stderr",
     "output_type": "stream",
     "text": [
      "c:\\Users\\sbhuv\\AppData\\Local\\Programs\\Python\\Python38\\lib\\site-packages\\sklearn\\neighbors\\_classification.py:215: DataConversionWarning: A column-vector y was passed when a 1d array was expected. Please change the shape of y to (n_samples,), for example using ravel().\n",
      "  return self._fit(X, y)\n"
     ]
    },
    {
     "name": "stdout",
     "output_type": "stream",
     "text": [
      "---K-NN--- 0.9297297297297298 KNeighborsClassifier(metric='euclidean', n_neighbors=3)\n",
      "* 1-----------kfold--------------- 2 ------------\n"
     ]
    },
    {
     "name": "stderr",
     "output_type": "stream",
     "text": [
      "c:\\Users\\sbhuv\\AppData\\Local\\Programs\\Python\\Python38\\lib\\site-packages\\sklearn\\neighbors\\_classification.py:215: DataConversionWarning: A column-vector y was passed when a 1d array was expected. Please change the shape of y to (n_samples,), for example using ravel().\n",
      "  return self._fit(X, y)\n",
      "c:\\Users\\sbhuv\\AppData\\Local\\Programs\\Python\\Python38\\lib\\site-packages\\sklearn\\neighbors\\_classification.py:215: DataConversionWarning: A column-vector y was passed when a 1d array was expected. Please change the shape of y to (n_samples,), for example using ravel().\n",
      "  return self._fit(X, y)\n",
      "Classificationv3.py:353: UserWarning: FixedFormatter should only be used together with FixedLocator\n",
      "  axs[i].set_xticklabels([''] + ['0', '1'], fontsize='xx-large')\n",
      "Classificationv3.py:354: UserWarning: FixedFormatter should only be used together with FixedLocator\n",
      "  axs[i].set_yticklabels([''] + ['0', '1'], fontsize='xx-large')\n"
     ]
    },
    {
     "name": "stdout",
     "output_type": "stream",
     "text": [
      "* 2*\n",
      "{'algorithm': 'auto', 'leaf_size': 30, 'metric': 'euclidean', 'metric_params': None, 'n_jobs': None, 'n_neighbors': 5, 'p': 2, 'weights': 'uniform'}\n",
      "------run_cv runs successfully------------\n",
      "++++++++++++save_confusion_matrix++++++++++++\n",
      "++++++++++++save_confusion_matrix end++++++++++++\n",
      "(((((((((((((((((((((( draw droc ))))))))))))))))))))))))))))))\n",
      "(((((((( draw droc end ))))))))\n",
      "~~~~~~~~~~~~~~~~~ SB-012 ~~~~~~~~~~~~~~~~~~~~~~\n",
      "~~~~~~~~~~ Number of instances before balancing:  129  ~~~~~~~~~~\n",
      "~~~~~~~ Training Loss: 0.012844566255807877  ~~~~~~~\n",
      "~~~~~~~ Validation Loss: 0.02098347432911396  ~~~~~~~\n",
      "2/2 [==============================] - 0s 5ms/step\n",
      "~~~~~~~ value_counts: ~~~~~~~\n",
      "1    88\n",
      "0    82\n",
      "Name: class, dtype: int64\n",
      "~~~~~~~~~~ Number of instances after balancing:  170  ~~~~~~~~~~\n",
      "~~~~~~~~~~ Number of instances before balancing:  129  ~~~~~~~~~~\n",
      "~~~~~~~ Training Loss: 0.0185618307441473  ~~~~~~~\n",
      "~~~~~~~ Validation Loss: 0.022658349946141243  ~~~~~~~\n",
      "2/2 [==============================] - 0s 6ms/step\n",
      "~~~~~~~ value_counts: ~~~~~~~\n",
      "1    93\n",
      "0    72\n",
      "Name: class, dtype: int64\n",
      "~~~~~~~~~~ Number of instances after balancing:  165  ~~~~~~~~~~\n",
      "~~~~~~~~~~ Number of instances before balancing:  130  ~~~~~~~~~~\n",
      "~~~~~~~ Training Loss: 0.008977435529232025  ~~~~~~~\n",
      "~~~~~~~ Validation Loss: 0.024149183183908463  ~~~~~~~\n",
      "2/2 [==============================] - 0s 5ms/step\n",
      "~~~~~~~ value_counts: ~~~~~~~\n",
      "1    93\n",
      "0    74\n",
      "Name: class, dtype: int64\n",
      "~~~~~~~~~~ Number of instances after balancing:  167  ~~~~~~~~~~\n",
      "~~~~~~~~~~ K-NN ~~~~~~~~~~~~~~~\n",
      "-----------kfold--------------- 0 ------------\n",
      "---K-NN--- 0.8235294117647058 KNeighborsClassifier(metric='manhattan', n_neighbors=3, weights='distance')\n",
      "* 0-----------kfold--------------- 1 ------------\n"
     ]
    },
    {
     "name": "stderr",
     "output_type": "stream",
     "text": [
      "c:\\Users\\sbhuv\\AppData\\Local\\Programs\\Python\\Python38\\lib\\site-packages\\sklearn\\neighbors\\_classification.py:215: DataConversionWarning: A column-vector y was passed when a 1d array was expected. Please change the shape of y to (n_samples,), for example using ravel().\n",
      "  return self._fit(X, y)\n",
      "c:\\Users\\sbhuv\\AppData\\Local\\Programs\\Python\\Python38\\lib\\site-packages\\sklearn\\neighbors\\_classification.py:215: DataConversionWarning: A column-vector y was passed when a 1d array was expected. Please change the shape of y to (n_samples,), for example using ravel().\n",
      "  return self._fit(X, y)\n"
     ]
    },
    {
     "name": "stdout",
     "output_type": "stream",
     "text": [
      "* 1-----------kfold--------------- 2 ------------\n",
      "---K-NN--- 0.8497326203208557 KNeighborsClassifier(metric='manhattan', n_neighbors=3)\n",
      "* 2*\n",
      "{'algorithm': 'auto', 'leaf_size': 30, 'metric': 'manhattan', 'metric_params': None, 'n_jobs': None, 'n_neighbors': 3, 'p': 2, 'weights': 'uniform'}\n",
      "------run_cv runs successfully------------\n",
      "++++++++++++save_confusion_matrix++++++++++++\n"
     ]
    },
    {
     "name": "stderr",
     "output_type": "stream",
     "text": [
      "c:\\Users\\sbhuv\\AppData\\Local\\Programs\\Python\\Python38\\lib\\site-packages\\sklearn\\neighbors\\_classification.py:215: DataConversionWarning: A column-vector y was passed when a 1d array was expected. Please change the shape of y to (n_samples,), for example using ravel().\n",
      "  return self._fit(X, y)\n",
      "Classificationv3.py:353: UserWarning: FixedFormatter should only be used together with FixedLocator\n",
      "  axs[i].set_xticklabels([''] + ['0', '1'], fontsize='xx-large')\n",
      "Classificationv3.py:354: UserWarning: FixedFormatter should only be used together with FixedLocator\n",
      "  axs[i].set_yticklabels([''] + ['0', '1'], fontsize='xx-large')\n"
     ]
    },
    {
     "name": "stdout",
     "output_type": "stream",
     "text": [
      "++++++++++++save_confusion_matrix end++++++++++++\n",
      "(((((((((((((((((((((( draw droc ))))))))))))))))))))))))))))))\n",
      "(((((((( draw droc end ))))))))\n",
      "~~~~~~~~~~~~~~~~~ SB-022 ~~~~~~~~~~~~~~~~~~~~~~\n",
      "~~~~~~~~~~ Number of instances before balancing:  136  ~~~~~~~~~~\n",
      "~~~~~~~ Training Loss: 0.013051160611212254  ~~~~~~~\n",
      "~~~~~~~ Validation Loss: 0.023574799299240112  ~~~~~~~\n",
      "1/1 [==============================] - 0s 239ms/step\n",
      "~~~~~~~ value_counts: ~~~~~~~\n",
      "1    106\n",
      "0     60\n",
      "Name: class, dtype: int64\n",
      "~~~~~~~~~~ Number of instances after balancing:  166  ~~~~~~~~~~\n",
      "~~~~~~~~~~ Number of instances before balancing:  136  ~~~~~~~~~~\n",
      "~~~~~~~ Training Loss: 0.010475488379597664  ~~~~~~~\n",
      "~~~~~~~ Validation Loss: 0.01698828488588333  ~~~~~~~\n",
      "2/2 [==============================] - 0s 5ms/step\n",
      "~~~~~~~ value_counts: ~~~~~~~\n",
      "1    92\n",
      "0    88\n",
      "Name: class, dtype: int64\n",
      "~~~~~~~~~~ Number of instances after balancing:  180  ~~~~~~~~~~\n",
      "~~~~~~~~~~ Number of instances before balancing:  136  ~~~~~~~~~~\n",
      "~~~~~~~ Training Loss: 0.01217906828969717  ~~~~~~~\n",
      "~~~~~~~ Validation Loss: 0.01654018461704254  ~~~~~~~\n",
      "2/2 [==============================] - 0s 6ms/step\n",
      "~~~~~~~ value_counts: ~~~~~~~\n",
      "0    96\n",
      "1    88\n",
      "Name: class, dtype: int64\n",
      "~~~~~~~~~~ Number of instances after balancing:  184  ~~~~~~~~~~\n",
      "~~~~~~~~~~ K-NN ~~~~~~~~~~~~~~~\n",
      "-----------kfold--------------- 0 ------------\n",
      "---K-NN--- 0.8433155080213904 KNeighborsClassifier(metric='manhattan')\n",
      "* 0-----------kfold--------------- 1 ------------\n"
     ]
    },
    {
     "name": "stderr",
     "output_type": "stream",
     "text": [
      "c:\\Users\\sbhuv\\AppData\\Local\\Programs\\Python\\Python38\\lib\\site-packages\\sklearn\\neighbors\\_classification.py:215: DataConversionWarning: A column-vector y was passed when a 1d array was expected. Please change the shape of y to (n_samples,), for example using ravel().\n",
      "  return self._fit(X, y)\n",
      "c:\\Users\\sbhuv\\AppData\\Local\\Programs\\Python\\Python38\\lib\\site-packages\\sklearn\\neighbors\\_classification.py:215: DataConversionWarning: A column-vector y was passed when a 1d array was expected. Please change the shape of y to (n_samples,), for example using ravel().\n",
      "  return self._fit(X, y)\n"
     ]
    },
    {
     "name": "stdout",
     "output_type": "stream",
     "text": [
      "* 1-----------kfold--------------- 2 ------------\n"
     ]
    },
    {
     "name": "stderr",
     "output_type": "stream",
     "text": [
      "c:\\Users\\sbhuv\\AppData\\Local\\Programs\\Python\\Python38\\lib\\site-packages\\sklearn\\neighbors\\_classification.py:215: DataConversionWarning: A column-vector y was passed when a 1d array was expected. Please change the shape of y to (n_samples,), for example using ravel().\n",
      "  return self._fit(X, y)\n",
      "Classificationv3.py:353: UserWarning: FixedFormatter should only be used together with FixedLocator\n",
      "  axs[i].set_xticklabels([''] + ['0', '1'], fontsize='xx-large')\n",
      "Classificationv3.py:354: UserWarning: FixedFormatter should only be used together with FixedLocator\n",
      "  axs[i].set_yticklabels([''] + ['0', '1'], fontsize='xx-large')\n"
     ]
    },
    {
     "name": "stdout",
     "output_type": "stream",
     "text": [
      "* 2*\n",
      "{'algorithm': 'auto', 'leaf_size': 30, 'metric': 'manhattan', 'metric_params': None, 'n_jobs': None, 'n_neighbors': 9, 'p': 2, 'weights': 'uniform'}\n",
      "------run_cv runs successfully------------\n",
      "++++++++++++save_confusion_matrix++++++++++++\n",
      "++++++++++++save_confusion_matrix end++++++++++++\n",
      "(((((((((((((((((((((( draw droc ))))))))))))))))))))))))))))))\n",
      "(((((((( draw droc end ))))))))\n",
      "~~~~~~~~~~~~~~~~~ SB-023 ~~~~~~~~~~~~~~~~~~~~~~\n",
      "~~~~~~~~~~ Number of instances before balancing:  129  ~~~~~~~~~~\n",
      "~~~~~~~ Training Loss: 0.01338386069983244  ~~~~~~~\n",
      "~~~~~~~ Validation Loss: 0.02208220586180687  ~~~~~~~\n",
      "2/2 [==============================] - 0s 6ms/step\n",
      "~~~~~~~ value_counts: ~~~~~~~\n",
      "1    89\n",
      "0    80\n",
      "Name: class, dtype: int64\n",
      "~~~~~~~~~~ Number of instances after balancing:  169  ~~~~~~~~~~\n",
      "~~~~~~~~~~ Number of instances before balancing:  129  ~~~~~~~~~~\n",
      "~~~~~~~ Training Loss: 0.01594698242843151  ~~~~~~~\n",
      "~~~~~~~ Validation Loss: 0.02313350699841976  ~~~~~~~\n",
      "2/2 [==============================] - 0s 7ms/step\n",
      "~~~~~~~ value_counts: ~~~~~~~\n",
      "0    92\n",
      "1    83\n",
      "Name: class, dtype: int64\n",
      "~~~~~~~~~~ Number of instances after balancing:  175  ~~~~~~~~~~\n",
      "~~~~~~~~~~ Number of instances before balancing:  130  ~~~~~~~~~~\n",
      "~~~~~~~ Training Loss: 0.02108033187687397  ~~~~~~~\n",
      "~~~~~~~ Validation Loss: 0.02376765012741089  ~~~~~~~\n",
      "2/2 [==============================] - 0s 5ms/step\n",
      "~~~~~~~ value_counts: ~~~~~~~\n",
      "1    96\n",
      "0    68\n",
      "Name: class, dtype: int64\n",
      "~~~~~~~~~~ Number of instances after balancing:  164  ~~~~~~~~~~\n",
      "~~~~~~~~~~ K-NN ~~~~~~~~~~~~~~~\n",
      "-----------kfold--------------- 0 ------------\n",
      "---K-NN--- 0.6860962566844919 KNeighborsClassifier(metric='manhattan', n_neighbors=3)\n",
      "* 0-----------kfold--------------- 1 ------------\n"
     ]
    },
    {
     "name": "stderr",
     "output_type": "stream",
     "text": [
      "c:\\Users\\sbhuv\\AppData\\Local\\Programs\\Python\\Python38\\lib\\site-packages\\sklearn\\neighbors\\_classification.py:215: DataConversionWarning: A column-vector y was passed when a 1d array was expected. Please change the shape of y to (n_samples,), for example using ravel().\n",
      "  return self._fit(X, y)\n"
     ]
    },
    {
     "name": "stdout",
     "output_type": "stream",
     "text": [
      "---K-NN--- 0.7314285714285714 KNeighborsClassifier(metric='manhattan', n_neighbors=3)\n",
      "* 1-----------kfold--------------- 2 ------------\n"
     ]
    },
    {
     "name": "stderr",
     "output_type": "stream",
     "text": [
      "c:\\Users\\sbhuv\\AppData\\Local\\Programs\\Python\\Python38\\lib\\site-packages\\sklearn\\neighbors\\_classification.py:215: DataConversionWarning: A column-vector y was passed when a 1d array was expected. Please change the shape of y to (n_samples,), for example using ravel().\n",
      "  return self._fit(X, y)\n"
     ]
    },
    {
     "name": "stdout",
     "output_type": "stream",
     "text": [
      "---K-NN--- 0.7986742424242423 KNeighborsClassifier(metric='euclidean', n_neighbors=3)\n",
      "* 2*\n",
      "{'algorithm': 'auto', 'leaf_size': 30, 'metric': 'euclidean', 'metric_params': None, 'n_jobs': None, 'n_neighbors': 3, 'p': 2, 'weights': 'uniform'}\n",
      "------run_cv runs successfully------------\n",
      "++++++++++++save_confusion_matrix++++++++++++\n"
     ]
    },
    {
     "name": "stderr",
     "output_type": "stream",
     "text": [
      "c:\\Users\\sbhuv\\AppData\\Local\\Programs\\Python\\Python38\\lib\\site-packages\\sklearn\\neighbors\\_classification.py:215: DataConversionWarning: A column-vector y was passed when a 1d array was expected. Please change the shape of y to (n_samples,), for example using ravel().\n",
      "  return self._fit(X, y)\n",
      "Classificationv3.py:353: UserWarning: FixedFormatter should only be used together with FixedLocator\n",
      "  axs[i].set_xticklabels([''] + ['0', '1'], fontsize='xx-large')\n",
      "Classificationv3.py:354: UserWarning: FixedFormatter should only be used together with FixedLocator\n",
      "  axs[i].set_yticklabels([''] + ['0', '1'], fontsize='xx-large')\n"
     ]
    },
    {
     "name": "stdout",
     "output_type": "stream",
     "text": [
      "++++++++++++save_confusion_matrix end++++++++++++\n",
      "(((((((((((((((((((((( draw droc ))))))))))))))))))))))))))))))\n",
      "(((((((( draw droc end ))))))))\n",
      "~~~~~~~~~~~~~~~~~ SB-025 ~~~~~~~~~~~~~~~~~~~~~~\n",
      "~~~~~~~~~~ Number of instances before balancing:  78  ~~~~~~~~~~\n",
      "~~~~~~~ Training Loss: 0.012939945794641972  ~~~~~~~\n",
      "~~~~~~~ Validation Loss: 0.026400214061141014  ~~~~~~~\n",
      "1/1 [==============================] - 0s 245ms/step\n",
      "~~~~~~~ value_counts: ~~~~~~~\n",
      "1    60\n",
      "0    36\n",
      "Name: class, dtype: int64\n",
      "~~~~~~~~~~ Number of instances after balancing:  96  ~~~~~~~~~~\n",
      "~~~~~~~~~~ Number of instances before balancing:  78  ~~~~~~~~~~\n",
      "~~~~~~~ Training Loss: 0.023519720882177353  ~~~~~~~\n",
      "~~~~~~~ Validation Loss: 0.045490190386772156  ~~~~~~~\n",
      "1/1 [==============================] - 0s 216ms/step\n",
      "~~~~~~~ value_counts: ~~~~~~~\n",
      "1    64\n",
      "0    28\n",
      "Name: class, dtype: int64\n",
      "~~~~~~~~~~ Number of instances after balancing:  92  ~~~~~~~~~~\n",
      "~~~~~~~~~~ Number of instances before balancing:  78  ~~~~~~~~~~\n",
      "~~~~~~~ Training Loss: 0.015601537190377712  ~~~~~~~\n",
      "~~~~~~~ Validation Loss: 0.04337697476148605  ~~~~~~~\n",
      "1/1 [==============================] - 0s 235ms/step\n",
      "~~~~~~~ value_counts: ~~~~~~~\n",
      "1    60\n",
      "0    36\n",
      "Name: class, dtype: int64\n",
      "~~~~~~~~~~ Number of instances after balancing:  96  ~~~~~~~~~~\n",
      "~~~~~~~~~~ K-NN ~~~~~~~~~~~~~~~\n",
      "-----------kfold--------------- 0 ------------\n",
      "---K-NN--- 0.8331578947368421 KNeighborsClassifier(metric='euclidean')\n",
      "* 0-----------kfold--------------- 1 ------------\n"
     ]
    },
    {
     "name": "stderr",
     "output_type": "stream",
     "text": [
      "c:\\Users\\sbhuv\\AppData\\Local\\Programs\\Python\\Python38\\lib\\site-packages\\sklearn\\neighbors\\_classification.py:215: DataConversionWarning: A column-vector y was passed when a 1d array was expected. Please change the shape of y to (n_samples,), for example using ravel().\n",
      "  return self._fit(X, y)\n",
      "c:\\Users\\sbhuv\\AppData\\Local\\Programs\\Python\\Python38\\lib\\site-packages\\sklearn\\neighbors\\_classification.py:215: DataConversionWarning: A column-vector y was passed when a 1d array was expected. Please change the shape of y to (n_samples,), for example using ravel().\n",
      "  return self._fit(X, y)\n"
     ]
    },
    {
     "name": "stdout",
     "output_type": "stream",
     "text": [
      "* 1-----------kfold--------------- 2 ------------\n"
     ]
    },
    {
     "name": "stderr",
     "output_type": "stream",
     "text": [
      "c:\\Users\\sbhuv\\AppData\\Local\\Programs\\Python\\Python38\\lib\\site-packages\\sklearn\\neighbors\\_classification.py:215: DataConversionWarning: A column-vector y was passed when a 1d array was expected. Please change the shape of y to (n_samples,), for example using ravel().\n",
      "  return self._fit(X, y)\n"
     ]
    },
    {
     "name": "stdout",
     "output_type": "stream",
     "text": [
      "* 2*\n",
      "{'algorithm': 'auto', 'leaf_size': 30, 'metric': 'manhattan', 'metric_params': None, 'n_jobs': None, 'n_neighbors': 9, 'p': 2, 'weights': 'distance'}\n",
      "------run_cv runs successfully------------\n",
      "++++++++++++save_confusion_matrix++++++++++++\n"
     ]
    },
    {
     "name": "stderr",
     "output_type": "stream",
     "text": [
      "Classificationv3.py:353: UserWarning: FixedFormatter should only be used together with FixedLocator\n",
      "  axs[i].set_xticklabels([''] + ['0', '1'], fontsize='xx-large')\n",
      "Classificationv3.py:354: UserWarning: FixedFormatter should only be used together with FixedLocator\n",
      "  axs[i].set_yticklabels([''] + ['0', '1'], fontsize='xx-large')\n"
     ]
    },
    {
     "name": "stdout",
     "output_type": "stream",
     "text": [
      "++++++++++++save_confusion_matrix end++++++++++++\n",
      "(((((((((((((((((((((( draw droc ))))))))))))))))))))))))))))))\n",
      "(((((((( draw droc end ))))))))\n",
      "~~~~~~~~~~~~~~~~~ SB-028 ~~~~~~~~~~~~~~~~~~~~~~\n",
      "~~~~~~~~~~ Number of instances before balancing:  61  ~~~~~~~~~~\n",
      "~~~~~~~ Training Loss: 0.007191233336925507  ~~~~~~~\n",
      "~~~~~~~ Validation Loss: 0.014391941018402576  ~~~~~~~\n",
      "1/1 [==============================] - 0s 435ms/step\n",
      "~~~~~~~ value_counts: ~~~~~~~\n",
      "1    44\n",
      "0    34\n",
      "Name: class, dtype: int64\n",
      "~~~~~~~~~~ Number of instances after balancing:  78  ~~~~~~~~~~\n",
      "~~~~~~~~~~ Number of instances before balancing:  61  ~~~~~~~~~~\n",
      "~~~~~~~ Training Loss: 0.010288150981068611  ~~~~~~~\n",
      "~~~~~~~ Validation Loss: 0.01883413828909397  ~~~~~~~\n",
      "1/1 [==============================] - 0s 326ms/step\n",
      "~~~~~~~ value_counts: ~~~~~~~\n",
      "1    42\n",
      "0    38\n",
      "Name: class, dtype: int64\n",
      "~~~~~~~~~~ Number of instances after balancing:  80  ~~~~~~~~~~\n",
      "~~~~~~~~~~ Number of instances before balancing:  62  ~~~~~~~~~~\n",
      "~~~~~~~ Training Loss: 0.017638634890317917  ~~~~~~~\n",
      "~~~~~~~ Validation Loss: 0.019276000559329987  ~~~~~~~\n",
      "1/1 [==============================] - 0s 402ms/step\n",
      "~~~~~~~ value_counts: ~~~~~~~\n",
      "1    42\n",
      "0    40\n",
      "Name: class, dtype: int64\n",
      "~~~~~~~~~~ Number of instances after balancing:  82  ~~~~~~~~~~\n",
      "~~~~~~~~~~ K-NN ~~~~~~~~~~~~~~~\n",
      "-----------kfold--------------- 0 ------------\n",
      "---K-NN--- 0.7333333333333334 KNeighborsClassifier(metric='manhattan', n_neighbors=9, weights='distance')\n",
      "* 0-----------kfold--------------- 1 ------------\n"
     ]
    },
    {
     "name": "stderr",
     "output_type": "stream",
     "text": [
      "c:\\Users\\sbhuv\\AppData\\Local\\Programs\\Python\\Python38\\lib\\site-packages\\sklearn\\neighbors\\_classification.py:215: DataConversionWarning: A column-vector y was passed when a 1d array was expected. Please change the shape of y to (n_samples,), for example using ravel().\n",
      "  return self._fit(X, y)\n",
      "c:\\Users\\sbhuv\\AppData\\Local\\Programs\\Python\\Python38\\lib\\site-packages\\sklearn\\neighbors\\_classification.py:215: DataConversionWarning: A column-vector y was passed when a 1d array was expected. Please change the shape of y to (n_samples,), for example using ravel().\n",
      "  return self._fit(X, y)\n"
     ]
    },
    {
     "name": "stdout",
     "output_type": "stream",
     "text": [
      "* 1-----------kfold--------------- 2 ------------\n",
      "---K-NN--- 0.7926470588235294 KNeighborsClassifier(metric='manhattan', n_neighbors=3)\n",
      "* 2*\n",
      "{'algorithm': 'auto', 'leaf_size': 30, 'metric': 'manhattan', 'metric_params': None, 'n_jobs': None, 'n_neighbors': 3, 'p': 2, 'weights': 'uniform'}\n",
      "------run_cv runs successfully------------\n",
      "++++++++++++save_confusion_matrix++++++++++++\n"
     ]
    },
    {
     "name": "stderr",
     "output_type": "stream",
     "text": [
      "c:\\Users\\sbhuv\\AppData\\Local\\Programs\\Python\\Python38\\lib\\site-packages\\sklearn\\neighbors\\_classification.py:215: DataConversionWarning: A column-vector y was passed when a 1d array was expected. Please change the shape of y to (n_samples,), for example using ravel().\n",
      "  return self._fit(X, y)\n",
      "Classificationv3.py:353: UserWarning: FixedFormatter should only be used together with FixedLocator\n",
      "  axs[i].set_xticklabels([''] + ['0', '1'], fontsize='xx-large')\n",
      "Classificationv3.py:354: UserWarning: FixedFormatter should only be used together with FixedLocator\n",
      "  axs[i].set_yticklabels([''] + ['0', '1'], fontsize='xx-large')\n"
     ]
    },
    {
     "name": "stdout",
     "output_type": "stream",
     "text": [
      "++++++++++++save_confusion_matrix end++++++++++++\n",
      "(((((((((((((((((((((( draw droc ))))))))))))))))))))))))))))))\n",
      "(((((((( draw droc end ))))))))\n",
      "~~~~~~~~~~~~~~~~~ SB-033 ~~~~~~~~~~~~~~~~~~~~~~\n",
      "~~~~~~~~~~ Number of instances before balancing:  35  ~~~~~~~~~~\n",
      "~~~~~~~ Training Loss: 0.012176165357232094  ~~~~~~~\n",
      "~~~~~~~ Validation Loss: 0.02609115093946457  ~~~~~~~\n",
      "1/1 [==============================] - 0s 274ms/step\n",
      "~~~~~~~ value_counts: ~~~~~~~\n",
      "0    30\n",
      "1    20\n",
      "Name: class, dtype: int64\n",
      "~~~~~~~~~~ Number of instances after balancing:  50  ~~~~~~~~~~\n",
      "~~~~~~~~~~ Number of instances before balancing:  35  ~~~~~~~~~~\n",
      "~~~~~~~ Training Loss: 0.020592769607901573  ~~~~~~~\n",
      "~~~~~~~ Validation Loss: 0.02931012213230133  ~~~~~~~\n",
      "1/1 [==============================] - 0s 217ms/step\n",
      "~~~~~~~ value_counts: ~~~~~~~\n",
      "0    36\n",
      "1    17\n",
      "Name: class, dtype: int64\n",
      "~~~~~~~~~~ Number of instances after balancing:  53  ~~~~~~~~~~\n",
      "~~~~~~~~~~ Number of instances before balancing:  36  ~~~~~~~~~~\n",
      "~~~~~~~ Training Loss: 0.011040330864489079  ~~~~~~~\n",
      "~~~~~~~ Validation Loss: 0.045692406594753265  ~~~~~~~\n",
      "1/1 [==============================] - 0s 220ms/step\n",
      "~~~~~~~ value_counts: ~~~~~~~\n",
      "0    26\n",
      "1    23\n",
      "Name: class, dtype: int64\n",
      "~~~~~~~~~~ Number of instances after balancing:  49  ~~~~~~~~~~\n",
      "~~~~~~~~~~ K-NN ~~~~~~~~~~~~~~~\n",
      "-----------kfold--------------- 0 ------------\n",
      "---K-NN--- 0.8200000000000001 KNeighborsClassifier(metric='manhattan', weights='distance')\n",
      "* 0-----------kfold--------------- 1 ------------\n"
     ]
    },
    {
     "name": "stderr",
     "output_type": "stream",
     "text": [
      "c:\\Users\\sbhuv\\AppData\\Local\\Programs\\Python\\Python38\\lib\\site-packages\\sklearn\\neighbors\\_classification.py:215: DataConversionWarning: A column-vector y was passed when a 1d array was expected. Please change the shape of y to (n_samples,), for example using ravel().\n",
      "  return self._fit(X, y)\n",
      "c:\\Users\\sbhuv\\AppData\\Local\\Programs\\Python\\Python38\\lib\\site-packages\\sklearn\\neighbors\\_classification.py:215: DataConversionWarning: A column-vector y was passed when a 1d array was expected. Please change the shape of y to (n_samples,), for example using ravel().\n",
      "  return self._fit(X, y)\n"
     ]
    },
    {
     "name": "stdout",
     "output_type": "stream",
     "text": [
      "* 1-----------kfold--------------- 2 ------------\n"
     ]
    },
    {
     "name": "stderr",
     "output_type": "stream",
     "text": [
      "c:\\Users\\sbhuv\\AppData\\Local\\Programs\\Python\\Python38\\lib\\site-packages\\sklearn\\neighbors\\_classification.py:215: DataConversionWarning: A column-vector y was passed when a 1d array was expected. Please change the shape of y to (n_samples,), for example using ravel().\n",
      "  return self._fit(X, y)\n"
     ]
    },
    {
     "name": "stdout",
     "output_type": "stream",
     "text": [
      "* 2*\n",
      "{'algorithm': 'auto', 'leaf_size': 30, 'metric': 'manhattan', 'metric_params': None, 'n_jobs': None, 'n_neighbors': 9, 'p': 2, 'weights': 'uniform'}\n",
      "------run_cv runs successfully------------\n",
      "++++++++++++save_confusion_matrix++++++++++++\n"
     ]
    },
    {
     "name": "stderr",
     "output_type": "stream",
     "text": [
      "Classificationv3.py:353: UserWarning: FixedFormatter should only be used together with FixedLocator\n",
      "  axs[i].set_xticklabels([''] + ['0', '1'], fontsize='xx-large')\n",
      "Classificationv3.py:354: UserWarning: FixedFormatter should only be used together with FixedLocator\n",
      "  axs[i].set_yticklabels([''] + ['0', '1'], fontsize='xx-large')\n"
     ]
    },
    {
     "name": "stdout",
     "output_type": "stream",
     "text": [
      "++++++++++++save_confusion_matrix end++++++++++++\n",
      "(((((((((((((((((((((( draw droc ))))))))))))))))))))))))))))))\n",
      "(((((((( draw droc end ))))))))\n",
      "~~~~~~~~~~~~~~~~~ SB-037 ~~~~~~~~~~~~~~~~~~~~~~\n",
      "~~~~~~~~~~ Number of instances before balancing:  140  ~~~~~~~~~~\n",
      "~~~~~~~ Training Loss: 0.013448391109704971  ~~~~~~~\n",
      "~~~~~~~ Validation Loss: 0.029154635965824127  ~~~~~~~\n",
      "2/2 [==============================] - 0s 5ms/step\n",
      "~~~~~~~ value_counts: ~~~~~~~\n",
      "1    97\n",
      "0    86\n",
      "Name: class, dtype: int64\n",
      "~~~~~~~~~~ Number of instances after balancing:  183  ~~~~~~~~~~\n",
      "~~~~~~~~~~ Number of instances before balancing:  140  ~~~~~~~~~~\n",
      "~~~~~~~ Training Loss: 0.011673911474645138  ~~~~~~~\n",
      "~~~~~~~ Validation Loss: 0.02006828598678112  ~~~~~~~\n",
      "2/2 [==============================] - 0s 6ms/step\n",
      "~~~~~~~ value_counts: ~~~~~~~\n",
      "1    104\n",
      "0     72\n",
      "Name: class, dtype: int64\n",
      "~~~~~~~~~~ Number of instances after balancing:  176  ~~~~~~~~~~\n",
      "~~~~~~~~~~ Number of instances before balancing:  140  ~~~~~~~~~~\n",
      "~~~~~~~ Training Loss: 0.01615733467042446  ~~~~~~~\n",
      "~~~~~~~ Validation Loss: 0.02075229398906231  ~~~~~~~\n",
      "2/2 [==============================] - 0s 36ms/step\n",
      "~~~~~~~ value_counts: ~~~~~~~\n",
      "0    94\n",
      "1    93\n",
      "Name: class, dtype: int64\n",
      "~~~~~~~~~~ Number of instances after balancing:  187  ~~~~~~~~~~\n",
      "~~~~~~~~~~ K-NN ~~~~~~~~~~~~~~~\n",
      "-----------kfold--------------- 0 ------------\n",
      "---K-NN--- 0.677927927927928 KNeighborsClassifier(metric='manhattan', n_neighbors=3)\n",
      "* 0-----------kfold--------------- 1 ------------\n"
     ]
    },
    {
     "name": "stderr",
     "output_type": "stream",
     "text": [
      "c:\\Users\\sbhuv\\AppData\\Local\\Programs\\Python\\Python38\\lib\\site-packages\\sklearn\\neighbors\\_classification.py:215: DataConversionWarning: A column-vector y was passed when a 1d array was expected. Please change the shape of y to (n_samples,), for example using ravel().\n",
      "  return self._fit(X, y)\n"
     ]
    },
    {
     "name": "stdout",
     "output_type": "stream",
     "text": [
      "---K-NN--- 0.766984126984127 KNeighborsClassifier(metric='manhattan')\n",
      "* 1-----------kfold--------------- 2 ------------\n"
     ]
    },
    {
     "name": "stderr",
     "output_type": "stream",
     "text": [
      "c:\\Users\\sbhuv\\AppData\\Local\\Programs\\Python\\Python38\\lib\\site-packages\\sklearn\\neighbors\\_classification.py:215: DataConversionWarning: A column-vector y was passed when a 1d array was expected. Please change the shape of y to (n_samples,), for example using ravel().\n",
      "  return self._fit(X, y)\n",
      "c:\\Users\\sbhuv\\AppData\\Local\\Programs\\Python\\Python38\\lib\\site-packages\\sklearn\\neighbors\\_classification.py:215: DataConversionWarning: A column-vector y was passed when a 1d array was expected. Please change the shape of y to (n_samples,), for example using ravel().\n",
      "  return self._fit(X, y)\n",
      "Classificationv3.py:353: UserWarning: FixedFormatter should only be used together with FixedLocator\n",
      "  axs[i].set_xticklabels([''] + ['0', '1'], fontsize='xx-large')\n",
      "Classificationv3.py:354: UserWarning: FixedFormatter should only be used together with FixedLocator\n",
      "  axs[i].set_yticklabels([''] + ['0', '1'], fontsize='xx-large')\n"
     ]
    },
    {
     "name": "stdout",
     "output_type": "stream",
     "text": [
      "* 2*\n",
      "{'algorithm': 'auto', 'leaf_size': 30, 'metric': 'manhattan', 'metric_params': None, 'n_jobs': None, 'n_neighbors': 3, 'p': 2, 'weights': 'uniform'}\n",
      "------run_cv runs successfully------------\n",
      "++++++++++++save_confusion_matrix++++++++++++\n",
      "++++++++++++save_confusion_matrix end++++++++++++\n",
      "(((((((((((((((((((((( draw droc ))))))))))))))))))))))))))))))\n",
      "(((((((( draw droc end ))))))))\n",
      "~~~~~~~~~~~~~~~~~ SB-043 ~~~~~~~~~~~~~~~~~~~~~~\n",
      "~~~~~~~~~~ Number of instances before balancing:  127  ~~~~~~~~~~\n",
      "~~~~~~~ Training Loss: 0.01052173227071762  ~~~~~~~\n",
      "~~~~~~~ Validation Loss: 0.015630196779966354  ~~~~~~~\n",
      "1/1 [==============================] - 0s 221ms/step\n",
      "~~~~~~~ value_counts: ~~~~~~~\n",
      "1    95\n",
      "0    64\n",
      "Name: class, dtype: int64\n",
      "~~~~~~~~~~ Number of instances after balancing:  159  ~~~~~~~~~~\n",
      "~~~~~~~~~~ Number of instances before balancing:  127  ~~~~~~~~~~\n",
      "~~~~~~~ Training Loss: 0.011349105276167393  ~~~~~~~\n",
      "~~~~~~~ Validation Loss: 0.01536900270730257  ~~~~~~~\n",
      "2/2 [==============================] - 0s 5ms/step\n",
      "~~~~~~~ value_counts: ~~~~~~~\n",
      "1    89\n",
      "0    76\n",
      "Name: class, dtype: int64\n",
      "~~~~~~~~~~ Number of instances after balancing:  165  ~~~~~~~~~~\n",
      "~~~~~~~~~~ Number of instances before balancing:  128  ~~~~~~~~~~\n",
      "~~~~~~~ Training Loss: 0.010866837576031685  ~~~~~~~\n",
      "~~~~~~~ Validation Loss: 0.01570902206003666  ~~~~~~~\n",
      "2/2 [==============================] - 0s 25ms/step\n",
      "~~~~~~~ value_counts: ~~~~~~~\n",
      "1    94\n",
      "0    68\n",
      "Name: class, dtype: int64\n",
      "~~~~~~~~~~ Number of instances after balancing:  162  ~~~~~~~~~~\n",
      "~~~~~~~~~~ K-NN ~~~~~~~~~~~~~~~\n",
      "-----------kfold--------------- 0 ------------\n",
      "---K-NN--- 0.7804435483870968 KNeighborsClassifier(metric='euclidean', n_neighbors=3, weights='distance')\n",
      "* 0-----------kfold--------------- 1 ------------\n"
     ]
    },
    {
     "name": "stderr",
     "output_type": "stream",
     "text": [
      "c:\\Users\\sbhuv\\AppData\\Local\\Programs\\Python\\Python38\\lib\\site-packages\\sklearn\\neighbors\\_classification.py:215: DataConversionWarning: A column-vector y was passed when a 1d array was expected. Please change the shape of y to (n_samples,), for example using ravel().\n",
      "  return self._fit(X, y)\n",
      "c:\\Users\\sbhuv\\AppData\\Local\\Programs\\Python\\Python38\\lib\\site-packages\\sklearn\\neighbors\\_classification.py:215: DataConversionWarning: A column-vector y was passed when a 1d array was expected. Please change the shape of y to (n_samples,), for example using ravel().\n",
      "  return self._fit(X, y)\n"
     ]
    },
    {
     "name": "stdout",
     "output_type": "stream",
     "text": [
      "* 1-----------kfold--------------- 2 ------------\n"
     ]
    },
    {
     "name": "stderr",
     "output_type": "stream",
     "text": [
      "c:\\Users\\sbhuv\\AppData\\Local\\Programs\\Python\\Python38\\lib\\site-packages\\sklearn\\neighbors\\_classification.py:215: DataConversionWarning: A column-vector y was passed when a 1d array was expected. Please change the shape of y to (n_samples,), for example using ravel().\n",
      "  return self._fit(X, y)\n",
      "Classificationv3.py:353: UserWarning: FixedFormatter should only be used together with FixedLocator\n",
      "  axs[i].set_xticklabels([''] + ['0', '1'], fontsize='xx-large')\n",
      "Classificationv3.py:354: UserWarning: FixedFormatter should only be used together with FixedLocator\n",
      "  axs[i].set_yticklabels([''] + ['0', '1'], fontsize='xx-large')\n"
     ]
    },
    {
     "name": "stdout",
     "output_type": "stream",
     "text": [
      "* 2*\n",
      "{'algorithm': 'auto', 'leaf_size': 30, 'metric': 'manhattan', 'metric_params': None, 'n_jobs': None, 'n_neighbors': 3, 'p': 2, 'weights': 'uniform'}\n",
      "------run_cv runs successfully------------\n",
      "++++++++++++save_confusion_matrix++++++++++++\n",
      "++++++++++++save_confusion_matrix end++++++++++++\n",
      "(((((((((((((((((((((( draw droc ))))))))))))))))))))))))))))))\n",
      "(((((((( draw droc end ))))))))\n",
      "~~~~~~~~~~~~~~~~~ SB-056 ~~~~~~~~~~~~~~~~~~~~~~\n",
      "~~~~~~~~~~ Number of instances before balancing:  127  ~~~~~~~~~~\n",
      "~~~~~~~ Training Loss: 0.02290886826813221  ~~~~~~~\n",
      "~~~~~~~ Validation Loss: 0.03889324516057968  ~~~~~~~\n",
      "1/1 [==============================] - 0s 320ms/step\n",
      "~~~~~~~ value_counts: ~~~~~~~\n",
      "1    100\n",
      "0     54\n",
      "Name: class, dtype: int64\n",
      "~~~~~~~~~~ Number of instances after balancing:  154  ~~~~~~~~~~\n",
      "~~~~~~~~~~ Number of instances before balancing:  127  ~~~~~~~~~~\n",
      "~~~~~~~ Training Loss: 0.012359383516013622  ~~~~~~~\n",
      "~~~~~~~ Validation Loss: 0.027200866490602493  ~~~~~~~\n",
      "1/1 [==============================] - 0s 198ms/step\n",
      "~~~~~~~ value_counts: ~~~~~~~\n",
      "1    96\n",
      "0    62\n",
      "Name: class, dtype: int64\n",
      "~~~~~~~~~~ Number of instances after balancing:  158  ~~~~~~~~~~\n",
      "~~~~~~~~~~ Number of instances before balancing:  128  ~~~~~~~~~~\n",
      "~~~~~~~ Training Loss: 0.01865442842245102  ~~~~~~~\n",
      "~~~~~~~ Validation Loss: 0.04048869013786316  ~~~~~~~\n",
      "1/1 [==============================] - 0s 219ms/step\n",
      "~~~~~~~ value_counts: ~~~~~~~\n",
      "1    104\n",
      "0     48\n",
      "Name: class, dtype: int64\n",
      "~~~~~~~~~~ Number of instances after balancing:  152  ~~~~~~~~~~\n",
      "~~~~~~~~~~ K-NN ~~~~~~~~~~~~~~~\n",
      "-----------kfold--------------- 0 ------------\n",
      "---K-NN--- 0.8111827956989247 KNeighborsClassifier(metric='euclidean', n_neighbors=9, weights='distance')\n",
      "* 0-----------kfold--------------- 1 ------------\n"
     ]
    },
    {
     "name": "stderr",
     "output_type": "stream",
     "text": [
      "c:\\Users\\sbhuv\\AppData\\Local\\Programs\\Python\\Python38\\lib\\site-packages\\sklearn\\neighbors\\_classification.py:215: DataConversionWarning: A column-vector y was passed when a 1d array was expected. Please change the shape of y to (n_samples,), for example using ravel().\n",
      "  return self._fit(X, y)\n"
     ]
    },
    {
     "name": "stdout",
     "output_type": "stream",
     "text": [
      "---K-NN--- 0.8731854838709678 KNeighborsClassifier(metric='euclidean', n_neighbors=3)\n",
      "* 1-----------kfold--------------- 2 ------------\n"
     ]
    },
    {
     "name": "stderr",
     "output_type": "stream",
     "text": [
      "c:\\Users\\sbhuv\\AppData\\Local\\Programs\\Python\\Python38\\lib\\site-packages\\sklearn\\neighbors\\_classification.py:215: DataConversionWarning: A column-vector y was passed when a 1d array was expected. Please change the shape of y to (n_samples,), for example using ravel().\n",
      "  return self._fit(X, y)\n",
      "c:\\Users\\sbhuv\\AppData\\Local\\Programs\\Python\\Python38\\lib\\site-packages\\sklearn\\neighbors\\_classification.py:215: DataConversionWarning: A column-vector y was passed when a 1d array was expected. Please change the shape of y to (n_samples,), for example using ravel().\n",
      "  return self._fit(X, y)\n",
      "Classificationv3.py:353: UserWarning: FixedFormatter should only be used together with FixedLocator\n",
      "  axs[i].set_xticklabels([''] + ['0', '1'], fontsize='xx-large')\n",
      "Classificationv3.py:354: UserWarning: FixedFormatter should only be used together with FixedLocator\n",
      "  axs[i].set_yticklabels([''] + ['0', '1'], fontsize='xx-large')\n"
     ]
    },
    {
     "name": "stdout",
     "output_type": "stream",
     "text": [
      "* 2*\n",
      "{'algorithm': 'auto', 'leaf_size': 30, 'metric': 'manhattan', 'metric_params': None, 'n_jobs': None, 'n_neighbors': 3, 'p': 2, 'weights': 'uniform'}\n",
      "------run_cv runs successfully------------\n",
      "++++++++++++save_confusion_matrix++++++++++++\n",
      "++++++++++++save_confusion_matrix end++++++++++++\n",
      "(((((((((((((((((((((( draw droc ))))))))))))))))))))))))))))))\n",
      "(((((((( draw droc end ))))))))\n",
      "~~~~~~~~~~~~~~~~~ SB-059 ~~~~~~~~~~~~~~~~~~~~~~\n",
      "~~~~~~~~~~ Number of instances before balancing:  135  ~~~~~~~~~~\n",
      "~~~~~~~ Training Loss: 0.01068166270852089  ~~~~~~~\n",
      "~~~~~~~ Validation Loss: 0.012890968471765518  ~~~~~~~\n",
      "2/2 [==============================] - 0s 6ms/step\n",
      "~~~~~~~ value_counts: ~~~~~~~\n",
      "1    99\n",
      "0    72\n",
      "Name: class, dtype: int64\n",
      "~~~~~~~~~~ Number of instances after balancing:  171  ~~~~~~~~~~\n",
      "~~~~~~~~~~ Number of instances before balancing:  135  ~~~~~~~~~~\n",
      "~~~~~~~ Training Loss: 0.01548834890127182  ~~~~~~~\n",
      "~~~~~~~ Validation Loss: 0.0332782082259655  ~~~~~~~\n",
      "2/2 [==============================] - 0s 5ms/step\n",
      "~~~~~~~ value_counts: ~~~~~~~\n",
      "1    102\n",
      "0     66\n",
      "Name: class, dtype: int64\n",
      "~~~~~~~~~~ Number of instances after balancing:  168  ~~~~~~~~~~\n",
      "~~~~~~~~~~ Number of instances before balancing:  136  ~~~~~~~~~~\n",
      "~~~~~~~ Training Loss: 0.010490491054952145  ~~~~~~~\n",
      "~~~~~~~ Validation Loss: 0.015557689592242241  ~~~~~~~\n",
      "2/2 [==============================] - 0s 6ms/step\n",
      "~~~~~~~ value_counts: ~~~~~~~\n",
      "1    103\n",
      "0     66\n",
      "Name: class, dtype: int64\n",
      "~~~~~~~~~~ Number of instances after balancing:  169  ~~~~~~~~~~\n",
      "~~~~~~~~~~ K-NN ~~~~~~~~~~~~~~~\n",
      "-----------kfold--------------- 0 ------------\n",
      "---K-NN--- 0.7431932773109244 KNeighborsClassifier(metric='manhattan', n_neighbors=3)\n",
      "* 0-----------kfold--------------- 1 ------------\n"
     ]
    },
    {
     "name": "stderr",
     "output_type": "stream",
     "text": [
      "c:\\Users\\sbhuv\\AppData\\Local\\Programs\\Python\\Python38\\lib\\site-packages\\sklearn\\neighbors\\_classification.py:215: DataConversionWarning: A column-vector y was passed when a 1d array was expected. Please change the shape of y to (n_samples,), for example using ravel().\n",
      "  return self._fit(X, y)\n"
     ]
    },
    {
     "name": "stdout",
     "output_type": "stream",
     "text": [
      "---K-NN--- 0.7506238859180036 KNeighborsClassifier(metric='euclidean', n_neighbors=11)\n",
      "* 1-----------kfold--------------- 2 ------------\n"
     ]
    },
    {
     "name": "stderr",
     "output_type": "stream",
     "text": [
      "c:\\Users\\sbhuv\\AppData\\Local\\Programs\\Python\\Python38\\lib\\site-packages\\sklearn\\neighbors\\_classification.py:215: DataConversionWarning: A column-vector y was passed when a 1d array was expected. Please change the shape of y to (n_samples,), for example using ravel().\n",
      "  return self._fit(X, y)\n",
      "c:\\Users\\sbhuv\\AppData\\Local\\Programs\\Python\\Python38\\lib\\site-packages\\sklearn\\neighbors\\_classification.py:215: DataConversionWarning: A column-vector y was passed when a 1d array was expected. Please change the shape of y to (n_samples,), for example using ravel().\n",
      "  return self._fit(X, y)\n",
      "Classificationv3.py:353: UserWarning: FixedFormatter should only be used together with FixedLocator\n",
      "  axs[i].set_xticklabels([''] + ['0', '1'], fontsize='xx-large')\n",
      "Classificationv3.py:354: UserWarning: FixedFormatter should only be used together with FixedLocator\n",
      "  axs[i].set_yticklabels([''] + ['0', '1'], fontsize='xx-large')\n"
     ]
    },
    {
     "name": "stdout",
     "output_type": "stream",
     "text": [
      "* 2*\n",
      "{'algorithm': 'auto', 'leaf_size': 30, 'metric': 'manhattan', 'metric_params': None, 'n_jobs': None, 'n_neighbors': 5, 'p': 2, 'weights': 'uniform'}\n",
      "------run_cv runs successfully------------\n",
      "++++++++++++save_confusion_matrix++++++++++++\n",
      "++++++++++++save_confusion_matrix end++++++++++++\n",
      "(((((((((((((((((((((( draw droc ))))))))))))))))))))))))))))))\n",
      "(((((((( draw droc end ))))))))\n",
      "~~~~~~~~~~~~~~~~~ SB-060 ~~~~~~~~~~~~~~~~~~~~~~\n",
      "~~~~~~~~~~ Number of instances before balancing:  58  ~~~~~~~~~~\n",
      "~~~~~~~ Training Loss: 0.018434515222907066  ~~~~~~~\n",
      "~~~~~~~ Validation Loss: 0.035133086144924164  ~~~~~~~\n",
      "1/1 [==============================] - 0s 232ms/step\n",
      "~~~~~~~ value_counts: ~~~~~~~\n",
      "1    40\n",
      "0    36\n",
      "Name: class, dtype: int64\n",
      "~~~~~~~~~~ Number of instances after balancing:  76  ~~~~~~~~~~\n",
      "~~~~~~~~~~ Number of instances before balancing:  59  ~~~~~~~~~~\n",
      "~~~~~~~ Training Loss: 0.023961231112480164  ~~~~~~~\n",
      "~~~~~~~ Validation Loss: 0.03224810212850571  ~~~~~~~\n",
      "1/1 [==============================] - 0s 211ms/step\n",
      "~~~~~~~ value_counts: ~~~~~~~\n",
      "1    40\n",
      "0    38\n",
      "Name: class, dtype: int64\n",
      "~~~~~~~~~~ Number of instances after balancing:  78  ~~~~~~~~~~\n",
      "~~~~~~~~~~ Number of instances before balancing:  59  ~~~~~~~~~~\n",
      "~~~~~~~ Training Loss: 0.014965946786105633  ~~~~~~~\n",
      "~~~~~~~ Validation Loss: 0.0238361693918705  ~~~~~~~\n",
      "1/1 [==============================] - 0s 210ms/step\n",
      "~~~~~~~ value_counts: ~~~~~~~\n",
      "1    42\n",
      "0    34\n",
      "Name: class, dtype: int64\n",
      "~~~~~~~~~~ Number of instances after balancing:  76  ~~~~~~~~~~\n",
      "~~~~~~~~~~ K-NN ~~~~~~~~~~~~~~~\n",
      "-----------kfold--------------- 0 ------------\n",
      "---K-NN--- 0.7225 KNeighborsClassifier(metric='euclidean', weights='distance')\n",
      "* 0-----------kfold--------------- 1 ------------\n"
     ]
    },
    {
     "name": "stderr",
     "output_type": "stream",
     "text": [
      "c:\\Users\\sbhuv\\AppData\\Local\\Programs\\Python\\Python38\\lib\\site-packages\\sklearn\\neighbors\\_classification.py:215: DataConversionWarning: A column-vector y was passed when a 1d array was expected. Please change the shape of y to (n_samples,), for example using ravel().\n",
      "  return self._fit(X, y)\n"
     ]
    },
    {
     "name": "stdout",
     "output_type": "stream",
     "text": [
      "---K-NN--- 0.785 KNeighborsClassifier(metric='manhattan', n_neighbors=3)\n",
      "* 1-----------kfold--------------- 2 ------------\n"
     ]
    },
    {
     "name": "stderr",
     "output_type": "stream",
     "text": [
      "c:\\Users\\sbhuv\\AppData\\Local\\Programs\\Python\\Python38\\lib\\site-packages\\sklearn\\neighbors\\_classification.py:215: DataConversionWarning: A column-vector y was passed when a 1d array was expected. Please change the shape of y to (n_samples,), for example using ravel().\n",
      "  return self._fit(X, y)\n"
     ]
    },
    {
     "name": "stdout",
     "output_type": "stream",
     "text": [
      "---K-NN--- 0.8166666666666668 KNeighborsClassifier(metric='manhattan', n_neighbors=3)\n",
      "* 2*\n",
      "{'algorithm': 'auto', 'leaf_size': 30, 'metric': 'manhattan', 'metric_params': None, 'n_jobs': None, 'n_neighbors': 3, 'p': 2, 'weights': 'uniform'}\n",
      "------run_cv runs successfully------------\n",
      "++++++++++++save_confusion_matrix++++++++++++\n"
     ]
    },
    {
     "name": "stderr",
     "output_type": "stream",
     "text": [
      "c:\\Users\\sbhuv\\AppData\\Local\\Programs\\Python\\Python38\\lib\\site-packages\\sklearn\\neighbors\\_classification.py:215: DataConversionWarning: A column-vector y was passed when a 1d array was expected. Please change the shape of y to (n_samples,), for example using ravel().\n",
      "  return self._fit(X, y)\n",
      "Classificationv3.py:353: UserWarning: FixedFormatter should only be used together with FixedLocator\n",
      "  axs[i].set_xticklabels([''] + ['0', '1'], fontsize='xx-large')\n",
      "Classificationv3.py:354: UserWarning: FixedFormatter should only be used together with FixedLocator\n",
      "  axs[i].set_yticklabels([''] + ['0', '1'], fontsize='xx-large')\n"
     ]
    },
    {
     "name": "stdout",
     "output_type": "stream",
     "text": [
      "++++++++++++save_confusion_matrix end++++++++++++\n",
      "(((((((((((((((((((((( draw droc ))))))))))))))))))))))))))))))\n",
      "(((((((( draw droc end ))))))))\n",
      "~~~~~~~~~~~~~~~~~ SB-070 ~~~~~~~~~~~~~~~~~~~~~~\n",
      "~~~~~~~~~~ Number of instances before balancing:  134  ~~~~~~~~~~\n",
      "~~~~~~~ Training Loss: 0.010395160876214504  ~~~~~~~\n",
      "~~~~~~~ Validation Loss: 0.019552230834960938  ~~~~~~~\n",
      "2/2 [==============================] - 0s 6ms/step\n",
      "~~~~~~~ value_counts: ~~~~~~~\n",
      "1    94\n",
      "0    80\n",
      "Name: class, dtype: int64\n",
      "~~~~~~~~~~ Number of instances after balancing:  174  ~~~~~~~~~~\n",
      "~~~~~~~~~~ Number of instances before balancing:  135  ~~~~~~~~~~\n",
      "~~~~~~~ Training Loss: 0.018219320103526115  ~~~~~~~\n",
      "~~~~~~~ Validation Loss: 0.020324639976024628  ~~~~~~~\n",
      "2/2 [==============================] - 0s 5ms/step\n",
      "~~~~~~~ value_counts: ~~~~~~~\n",
      "1    95\n",
      "0    80\n",
      "Name: class, dtype: int64\n",
      "~~~~~~~~~~ Number of instances after balancing:  175  ~~~~~~~~~~\n",
      "~~~~~~~~~~ Number of instances before balancing:  135  ~~~~~~~~~~\n",
      "~~~~~~~ Training Loss: 0.00906135980039835  ~~~~~~~\n",
      "~~~~~~~ Validation Loss: 0.014913370832800865  ~~~~~~~\n",
      "2/2 [==============================] - 0s 5ms/step\n",
      "~~~~~~~ value_counts: ~~~~~~~\n",
      "1    95\n",
      "0    80\n",
      "Name: class, dtype: int64\n",
      "~~~~~~~~~~ Number of instances after balancing:  175  ~~~~~~~~~~\n",
      "~~~~~~~~~~ K-NN ~~~~~~~~~~~~~~~\n",
      "-----------kfold--------------- 0 ------------\n",
      "---K-NN--- 0.7063865546218489 KNeighborsClassifier(metric='euclidean', n_neighbors=3)\n",
      "* 0-----------kfold--------------- 1 ------------\n"
     ]
    },
    {
     "name": "stderr",
     "output_type": "stream",
     "text": [
      "c:\\Users\\sbhuv\\AppData\\Local\\Programs\\Python\\Python38\\lib\\site-packages\\sklearn\\neighbors\\_classification.py:215: DataConversionWarning: A column-vector y was passed when a 1d array was expected. Please change the shape of y to (n_samples,), for example using ravel().\n",
      "  return self._fit(X, y)\n"
     ]
    },
    {
     "name": "stdout",
     "output_type": "stream",
     "text": [
      "---K-NN--- 0.7828571428571429 KNeighborsClassifier(metric='manhattan')\n",
      "* 1-----------kfold--------------- 2 ------------\n"
     ]
    },
    {
     "name": "stderr",
     "output_type": "stream",
     "text": [
      "c:\\Users\\sbhuv\\AppData\\Local\\Programs\\Python\\Python38\\lib\\site-packages\\sklearn\\neighbors\\_classification.py:215: DataConversionWarning: A column-vector y was passed when a 1d array was expected. Please change the shape of y to (n_samples,), for example using ravel().\n",
      "  return self._fit(X, y)\n",
      "c:\\Users\\sbhuv\\AppData\\Local\\Programs\\Python\\Python38\\lib\\site-packages\\sklearn\\neighbors\\_classification.py:215: DataConversionWarning: A column-vector y was passed when a 1d array was expected. Please change the shape of y to (n_samples,), for example using ravel().\n",
      "  return self._fit(X, y)\n",
      "Classificationv3.py:353: UserWarning: FixedFormatter should only be used together with FixedLocator\n",
      "  axs[i].set_xticklabels([''] + ['0', '1'], fontsize='xx-large')\n",
      "Classificationv3.py:354: UserWarning: FixedFormatter should only be used together with FixedLocator\n",
      "  axs[i].set_yticklabels([''] + ['0', '1'], fontsize='xx-large')\n"
     ]
    },
    {
     "name": "stdout",
     "output_type": "stream",
     "text": [
      "* 2*\n",
      "{'algorithm': 'auto', 'leaf_size': 30, 'metric': 'manhattan', 'metric_params': None, 'n_jobs': None, 'n_neighbors': 3, 'p': 2, 'weights': 'uniform'}\n",
      "------run_cv runs successfully------------\n",
      "++++++++++++save_confusion_matrix++++++++++++\n",
      "++++++++++++save_confusion_matrix end++++++++++++\n",
      "(((((((((((((((((((((( draw droc ))))))))))))))))))))))))))))))\n",
      "(((((((( draw droc end ))))))))\n",
      "~~~~~~~~~~~~~~~~~ SB-071 ~~~~~~~~~~~~~~~~~~~~~~\n",
      "~~~~~~~~~~ Number of instances before balancing:  82  ~~~~~~~~~~\n",
      "~~~~~~~ Training Loss: 0.012773123569786549  ~~~~~~~\n",
      "~~~~~~~ Validation Loss: 0.02671484649181366  ~~~~~~~\n",
      "1/1 [==============================] - 0s 305ms/step\n",
      "~~~~~~~ value_counts: ~~~~~~~\n",
      "1    71\n",
      "0    22\n",
      "Name: class, dtype: int64\n",
      "~~~~~~~~~~ Number of instances after balancing:  93  ~~~~~~~~~~\n",
      "~~~~~~~~~~ Number of instances before balancing:  83  ~~~~~~~~~~\n",
      "~~~~~~~ Training Loss: 0.010764461010694504  ~~~~~~~\n",
      "~~~~~~~ Validation Loss: 0.030584506690502167  ~~~~~~~\n",
      "1/1 [==============================] - 0s 449ms/step\n",
      "~~~~~~~ value_counts: ~~~~~~~\n",
      "1    69\n",
      "0    28\n",
      "Name: class, dtype: int64\n",
      "~~~~~~~~~~ Number of instances after balancing:  97  ~~~~~~~~~~\n",
      "~~~~~~~~~~ Number of instances before balancing:  83  ~~~~~~~~~~\n",
      "~~~~~~~ Training Loss: 0.025528455153107643  ~~~~~~~\n",
      "~~~~~~~ Validation Loss: 0.03941888362169266  ~~~~~~~\n",
      "1/1 [==============================] - 0s 331ms/step\n",
      "~~~~~~~ value_counts: ~~~~~~~\n",
      "1    70\n",
      "0    26\n",
      "Name: class, dtype: int64\n",
      "~~~~~~~~~~ Number of instances after balancing:  96  ~~~~~~~~~~\n",
      "~~~~~~~~~~ K-NN ~~~~~~~~~~~~~~~\n",
      "-----------kfold--------------- 0 ------------\n",
      "---K-NN--- 0.7941520467836256 KNeighborsClassifier(metric='manhattan', n_neighbors=11)\n",
      "* 0-----------kfold--------------- 1 ------------\n"
     ]
    },
    {
     "name": "stderr",
     "output_type": "stream",
     "text": [
      "c:\\Users\\sbhuv\\AppData\\Local\\Programs\\Python\\Python38\\lib\\site-packages\\sklearn\\neighbors\\_classification.py:215: DataConversionWarning: A column-vector y was passed when a 1d array was expected. Please change the shape of y to (n_samples,), for example using ravel().\n",
      "  return self._fit(X, y)\n",
      "c:\\Users\\sbhuv\\AppData\\Local\\Programs\\Python\\Python38\\lib\\site-packages\\sklearn\\neighbors\\_classification.py:215: DataConversionWarning: A column-vector y was passed when a 1d array was expected. Please change the shape of y to (n_samples,), for example using ravel().\n",
      "  return self._fit(X, y)\n"
     ]
    },
    {
     "name": "stdout",
     "output_type": "stream",
     "text": [
      "* 1-----------kfold--------------- 2 ------------\n",
      "---K-NN--- 0.9157894736842105 KNeighborsClassifier(metric='manhattan', n_neighbors=3)\n",
      "* 2*\n",
      "{'algorithm': 'auto', 'leaf_size': 30, 'metric': 'manhattan', 'metric_params': None, 'n_jobs': None, 'n_neighbors': 3, 'p': 2, 'weights': 'uniform'}\n",
      "------run_cv runs successfully------------\n",
      "++++++++++++save_confusion_matrix++++++++++++\n"
     ]
    },
    {
     "name": "stderr",
     "output_type": "stream",
     "text": [
      "c:\\Users\\sbhuv\\AppData\\Local\\Programs\\Python\\Python38\\lib\\site-packages\\sklearn\\neighbors\\_classification.py:215: DataConversionWarning: A column-vector y was passed when a 1d array was expected. Please change the shape of y to (n_samples,), for example using ravel().\n",
      "  return self._fit(X, y)\n",
      "Classificationv3.py:353: UserWarning: FixedFormatter should only be used together with FixedLocator\n",
      "  axs[i].set_xticklabels([''] + ['0', '1'], fontsize='xx-large')\n",
      "Classificationv3.py:354: UserWarning: FixedFormatter should only be used together with FixedLocator\n",
      "  axs[i].set_yticklabels([''] + ['0', '1'], fontsize='xx-large')\n"
     ]
    },
    {
     "name": "stdout",
     "output_type": "stream",
     "text": [
      "++++++++++++save_confusion_matrix end++++++++++++\n",
      "(((((((((((((((((((((( draw droc ))))))))))))))))))))))))))))))\n",
      "(((((((( draw droc end ))))))))\n",
      "~~~~~~~~~~~~~~~~~ SB-073 ~~~~~~~~~~~~~~~~~~~~~~\n",
      "~~~~~~~~~~ Number of instances before balancing:  107  ~~~~~~~~~~\n",
      "~~~~~~~ Training Loss: 0.010487384162843227  ~~~~~~~\n",
      "~~~~~~~ Validation Loss: 0.016246488317847252  ~~~~~~~\n",
      "1/1 [==============================] - 0s 239ms/step\n",
      "~~~~~~~ value_counts: ~~~~~~~\n",
      "1    77\n",
      "0    60\n",
      "Name: class, dtype: int64\n",
      "~~~~~~~~~~ Number of instances after balancing:  137  ~~~~~~~~~~\n",
      "~~~~~~~~~~ Number of instances before balancing:  107  ~~~~~~~~~~\n",
      "~~~~~~~ Training Loss: 0.013841005973517895  ~~~~~~~\n",
      "~~~~~~~ Validation Loss: 0.019308332353830338  ~~~~~~~\n",
      "1/1 [==============================] - 0s 247ms/step\n",
      "~~~~~~~ value_counts: ~~~~~~~\n",
      "1    80\n",
      "0    54\n",
      "Name: class, dtype: int64\n",
      "~~~~~~~~~~ Number of instances after balancing:  134  ~~~~~~~~~~\n",
      "~~~~~~~~~~ Number of instances before balancing:  108  ~~~~~~~~~~\n",
      "~~~~~~~ Training Loss: 0.014910068362951279  ~~~~~~~\n",
      "~~~~~~~ Validation Loss: 0.015176349319517612  ~~~~~~~\n",
      "1/1 [==============================] - 0s 203ms/step\n",
      "~~~~~~~ value_counts: ~~~~~~~\n",
      "1    83\n",
      "0    50\n",
      "Name: class, dtype: int64\n",
      "~~~~~~~~~~ Number of instances after balancing:  133  ~~~~~~~~~~\n",
      "~~~~~~~~~~ K-NN ~~~~~~~~~~~~~~~\n",
      "-----------kfold--------------- 0 ------------\n",
      "---K-NN--- 0.7886243386243387 KNeighborsClassifier(metric='manhattan', weights='distance')\n",
      "* 0-----------kfold--------------- 1 ------------\n"
     ]
    },
    {
     "name": "stderr",
     "output_type": "stream",
     "text": [
      "c:\\Users\\sbhuv\\AppData\\Local\\Programs\\Python\\Python38\\lib\\site-packages\\sklearn\\neighbors\\_classification.py:215: DataConversionWarning: A column-vector y was passed when a 1d array was expected. Please change the shape of y to (n_samples,), for example using ravel().\n",
      "  return self._fit(X, y)\n",
      "c:\\Users\\sbhuv\\AppData\\Local\\Programs\\Python\\Python38\\lib\\site-packages\\sklearn\\neighbors\\_classification.py:215: DataConversionWarning: A column-vector y was passed when a 1d array was expected. Please change the shape of y to (n_samples,), for example using ravel().\n",
      "  return self._fit(X, y)\n"
     ]
    },
    {
     "name": "stdout",
     "output_type": "stream",
     "text": [
      "* 1-----------kfold--------------- 2 ------------\n",
      "---K-NN--- 0.8039886039886041 KNeighborsClassifier(metric='manhattan', n_neighbors=3)\n",
      "* 2*\n",
      "{'algorithm': 'auto', 'leaf_size': 30, 'metric': 'manhattan', 'metric_params': None, 'n_jobs': None, 'n_neighbors': 3, 'p': 2, 'weights': 'uniform'}\n",
      "------run_cv runs successfully------------\n",
      "++++++++++++save_confusion_matrix++++++++++++\n"
     ]
    },
    {
     "name": "stderr",
     "output_type": "stream",
     "text": [
      "c:\\Users\\sbhuv\\AppData\\Local\\Programs\\Python\\Python38\\lib\\site-packages\\sklearn\\neighbors\\_classification.py:215: DataConversionWarning: A column-vector y was passed when a 1d array was expected. Please change the shape of y to (n_samples,), for example using ravel().\n",
      "  return self._fit(X, y)\n",
      "Classificationv3.py:353: UserWarning: FixedFormatter should only be used together with FixedLocator\n",
      "  axs[i].set_xticklabels([''] + ['0', '1'], fontsize='xx-large')\n",
      "Classificationv3.py:354: UserWarning: FixedFormatter should only be used together with FixedLocator\n",
      "  axs[i].set_yticklabels([''] + ['0', '1'], fontsize='xx-large')\n"
     ]
    },
    {
     "name": "stdout",
     "output_type": "stream",
     "text": [
      "++++++++++++save_confusion_matrix end++++++++++++\n",
      "(((((((((((((((((((((( draw droc ))))))))))))))))))))))))))))))\n",
      "(((((((( draw droc end ))))))))\n",
      "~~~~~~~~~~~~~~~~~ SB-078 ~~~~~~~~~~~~~~~~~~~~~~\n",
      "~~~~~~~~~~ Number of instances before balancing:  102  ~~~~~~~~~~\n",
      "~~~~~~~ Training Loss: 0.01460545975714922  ~~~~~~~\n",
      "~~~~~~~ Validation Loss: 0.029075369238853455  ~~~~~~~\n",
      "1/1 [==============================] - 0s 401ms/step\n",
      "~~~~~~~ value_counts: ~~~~~~~\n",
      "1    71\n",
      "0    62\n",
      "Name: class, dtype: int64\n",
      "~~~~~~~~~~ Number of instances after balancing:  133  ~~~~~~~~~~\n",
      "~~~~~~~~~~ Number of instances before balancing:  102  ~~~~~~~~~~\n",
      "~~~~~~~ Training Loss: 0.016062984243035316  ~~~~~~~\n",
      "~~~~~~~ Validation Loss: 0.027957400307059288  ~~~~~~~\n",
      "1/1 [==============================] - 0s 476ms/step\n",
      "~~~~~~~ value_counts: ~~~~~~~\n",
      "1    76\n",
      "0    52\n",
      "Name: class, dtype: int64\n",
      "~~~~~~~~~~ Number of instances after balancing:  128  ~~~~~~~~~~\n",
      "~~~~~~~~~~ Number of instances before balancing:  102  ~~~~~~~~~~\n",
      "~~~~~~~ Training Loss: 0.014209811575710773  ~~~~~~~\n",
      "~~~~~~~ Validation Loss: 0.013929869048297405  ~~~~~~~\n",
      "2/2 [==============================] - 0s 28ms/step\n",
      "~~~~~~~ value_counts: ~~~~~~~\n",
      "0    70\n",
      "1    67\n",
      "Name: class, dtype: int64\n",
      "~~~~~~~~~~ Number of instances after balancing:  137  ~~~~~~~~~~\n",
      "~~~~~~~~~~ K-NN ~~~~~~~~~~~~~~~\n",
      "-----------kfold--------------- 0 ------------\n",
      "---K-NN--- 0.8643874643874645 KNeighborsClassifier(metric='manhattan', n_neighbors=3)\n",
      "* 0-----------kfold--------------- 1 ------------\n"
     ]
    },
    {
     "name": "stderr",
     "output_type": "stream",
     "text": [
      "c:\\Users\\sbhuv\\AppData\\Local\\Programs\\Python\\Python38\\lib\\site-packages\\sklearn\\neighbors\\_classification.py:215: DataConversionWarning: A column-vector y was passed when a 1d array was expected. Please change the shape of y to (n_samples,), for example using ravel().\n",
      "  return self._fit(X, y)\n"
     ]
    },
    {
     "name": "stdout",
     "output_type": "stream",
     "text": [
      "---K-NN--- 0.8830769230769231 KNeighborsClassifier(metric='euclidean', n_neighbors=9, weights='distance')\n",
      "* 1-----------kfold--------------- 2 ------------\n"
     ]
    },
    {
     "name": "stderr",
     "output_type": "stream",
     "text": [
      "c:\\Users\\sbhuv\\AppData\\Local\\Programs\\Python\\Python38\\lib\\site-packages\\sklearn\\neighbors\\_classification.py:215: DataConversionWarning: A column-vector y was passed when a 1d array was expected. Please change the shape of y to (n_samples,), for example using ravel().\n",
      "  return self._fit(X, y)\n",
      "c:\\Users\\sbhuv\\AppData\\Local\\Programs\\Python\\Python38\\lib\\site-packages\\sklearn\\neighbors\\_classification.py:215: DataConversionWarning: A column-vector y was passed when a 1d array was expected. Please change the shape of y to (n_samples,), for example using ravel().\n",
      "  return self._fit(X, y)\n",
      "Classificationv3.py:353: UserWarning: FixedFormatter should only be used together with FixedLocator\n",
      "  axs[i].set_xticklabels([''] + ['0', '1'], fontsize='xx-large')\n",
      "Classificationv3.py:354: UserWarning: FixedFormatter should only be used together with FixedLocator\n",
      "  axs[i].set_yticklabels([''] + ['0', '1'], fontsize='xx-large')\n"
     ]
    },
    {
     "name": "stdout",
     "output_type": "stream",
     "text": [
      "* 2*\n",
      "{'algorithm': 'auto', 'leaf_size': 30, 'metric': 'euclidean', 'metric_params': None, 'n_jobs': None, 'n_neighbors': 3, 'p': 2, 'weights': 'uniform'}\n",
      "------run_cv runs successfully------------\n",
      "++++++++++++save_confusion_matrix++++++++++++\n",
      "++++++++++++save_confusion_matrix end++++++++++++\n",
      "(((((((((((((((((((((( draw droc ))))))))))))))))))))))))))))))\n",
      "(((((((( draw droc end ))))))))\n",
      "~~~~~~~~~~~~~~~~~ SB-079 ~~~~~~~~~~~~~~~~~~~~~~\n",
      "~~~~~~~~~~ Number of instances before balancing:  94  ~~~~~~~~~~\n",
      "~~~~~~~ Training Loss: 0.014811012893915176  ~~~~~~~\n",
      "~~~~~~~ Validation Loss: 0.027929723262786865  ~~~~~~~\n",
      "1/1 [==============================] - 0s 229ms/step\n",
      "~~~~~~~ value_counts: ~~~~~~~\n",
      "1    70\n",
      "0    48\n",
      "Name: class, dtype: int64\n",
      "~~~~~~~~~~ Number of instances after balancing:  118  ~~~~~~~~~~\n",
      "~~~~~~~~~~ Number of instances before balancing:  95  ~~~~~~~~~~\n",
      "~~~~~~~ Training Loss: 0.0123597988858819  ~~~~~~~\n",
      "~~~~~~~ Validation Loss: 0.017923075705766678  ~~~~~~~\n",
      "1/1 [==============================] - 0s 225ms/step\n",
      "~~~~~~~ value_counts: ~~~~~~~\n",
      "1    68\n",
      "0    54\n",
      "Name: class, dtype: int64\n",
      "~~~~~~~~~~ Number of instances after balancing:  122  ~~~~~~~~~~\n",
      "~~~~~~~~~~ Number of instances before balancing:  95  ~~~~~~~~~~\n",
      "~~~~~~~ Training Loss: 0.012898141518235207  ~~~~~~~\n",
      "~~~~~~~ Validation Loss: 0.022406429052352905  ~~~~~~~\n",
      "1/1 [==============================] - 0s 295ms/step\n",
      "~~~~~~~ value_counts: ~~~~~~~\n",
      "1    66\n",
      "0    58\n",
      "Name: class, dtype: int64\n",
      "~~~~~~~~~~ Number of instances after balancing:  124  ~~~~~~~~~~\n",
      "~~~~~~~~~~ K-NN ~~~~~~~~~~~~~~~\n",
      "-----------kfold--------------- 0 ------------\n",
      "---K-NN--- 0.8137681159420289 KNeighborsClassifier(metric='manhattan')\n",
      "* 0-----------kfold--------------- 1 ------------\n"
     ]
    },
    {
     "name": "stderr",
     "output_type": "stream",
     "text": [
      "c:\\Users\\sbhuv\\AppData\\Local\\Programs\\Python\\Python38\\lib\\site-packages\\sklearn\\neighbors\\_classification.py:215: DataConversionWarning: A column-vector y was passed when a 1d array was expected. Please change the shape of y to (n_samples,), for example using ravel().\n",
      "  return self._fit(X, y)\n",
      "c:\\Users\\sbhuv\\AppData\\Local\\Programs\\Python\\Python38\\lib\\site-packages\\sklearn\\neighbors\\_classification.py:215: DataConversionWarning: A column-vector y was passed when a 1d array was expected. Please change the shape of y to (n_samples,), for example using ravel().\n",
      "  return self._fit(X, y)\n"
     ]
    },
    {
     "name": "stdout",
     "output_type": "stream",
     "text": [
      "* 1-----------kfold--------------- 2 ------------\n"
     ]
    },
    {
     "name": "stderr",
     "output_type": "stream",
     "text": [
      "c:\\Users\\sbhuv\\AppData\\Local\\Programs\\Python\\Python38\\lib\\site-packages\\sklearn\\neighbors\\_classification.py:215: DataConversionWarning: A column-vector y was passed when a 1d array was expected. Please change the shape of y to (n_samples,), for example using ravel().\n",
      "  return self._fit(X, y)\n"
     ]
    },
    {
     "name": "stdout",
     "output_type": "stream",
     "text": [
      "* 2*\n",
      "{'algorithm': 'auto', 'leaf_size': 30, 'metric': 'manhattan', 'metric_params': None, 'n_jobs': None, 'n_neighbors': 5, 'p': 2, 'weights': 'distance'}\n",
      "------run_cv runs successfully------------\n",
      "++++++++++++save_confusion_matrix++++++++++++\n"
     ]
    },
    {
     "name": "stderr",
     "output_type": "stream",
     "text": [
      "Classificationv3.py:353: UserWarning: FixedFormatter should only be used together with FixedLocator\n",
      "  axs[i].set_xticklabels([''] + ['0', '1'], fontsize='xx-large')\n",
      "Classificationv3.py:354: UserWarning: FixedFormatter should only be used together with FixedLocator\n",
      "  axs[i].set_yticklabels([''] + ['0', '1'], fontsize='xx-large')\n"
     ]
    },
    {
     "name": "stdout",
     "output_type": "stream",
     "text": [
      "++++++++++++save_confusion_matrix end++++++++++++\n",
      "(((((((((((((((((((((( draw droc ))))))))))))))))))))))))))))))\n",
      "(((((((( draw droc end ))))))))\n",
      "~~~~~~~~~~~~~~~~~ SB-080 ~~~~~~~~~~~~~~~~~~~~~~\n",
      "~~~~~~~~~~ Number of instances before balancing:  120  ~~~~~~~~~~\n",
      "~~~~~~~ Training Loss: 0.010489284992218018  ~~~~~~~\n",
      "~~~~~~~ Validation Loss: 0.019453031942248344  ~~~~~~~\n",
      "2/2 [==============================] - 0s 6ms/step\n",
      "~~~~~~~ value_counts: ~~~~~~~\n",
      "1    86\n",
      "0    68\n",
      "Name: class, dtype: int64\n",
      "~~~~~~~~~~ Number of instances after balancing:  154  ~~~~~~~~~~\n",
      "~~~~~~~~~~ Number of instances before balancing:  121  ~~~~~~~~~~\n",
      "~~~~~~~ Training Loss: 0.009950486943125725  ~~~~~~~\n",
      "~~~~~~~ Validation Loss: 0.01575062982738018  ~~~~~~~\n",
      "2/2 [==============================] - 0s 6ms/step\n",
      "~~~~~~~ value_counts: ~~~~~~~\n",
      "1    85\n",
      "0    72\n",
      "Name: class, dtype: int64\n",
      "~~~~~~~~~~ Number of instances after balancing:  157  ~~~~~~~~~~\n",
      "~~~~~~~~~~ Number of instances before balancing:  121  ~~~~~~~~~~\n",
      "~~~~~~~ Training Loss: 0.012831008993089199  ~~~~~~~\n",
      "~~~~~~~ Validation Loss: 0.02218478173017502  ~~~~~~~\n",
      "2/2 [==============================] - 0s 5ms/step\n",
      "~~~~~~~ value_counts: ~~~~~~~\n",
      "1    85\n",
      "0    72\n",
      "Name: class, dtype: int64\n",
      "~~~~~~~~~~ Number of instances after balancing:  157  ~~~~~~~~~~\n",
      "~~~~~~~~~~ K-NN ~~~~~~~~~~~~~~~\n",
      "-----------kfold--------------- 0 ------------\n",
      "---K-NN--- 0.7206451612903224 KNeighborsClassifier(metric='manhattan', n_neighbors=3)\n",
      "* 0-----------kfold--------------- 1 ------------\n"
     ]
    },
    {
     "name": "stderr",
     "output_type": "stream",
     "text": [
      "c:\\Users\\sbhuv\\AppData\\Local\\Programs\\Python\\Python38\\lib\\site-packages\\sklearn\\neighbors\\_classification.py:215: DataConversionWarning: A column-vector y was passed when a 1d array was expected. Please change the shape of y to (n_samples,), for example using ravel().\n",
      "  return self._fit(X, y)\n"
     ]
    },
    {
     "name": "stdout",
     "output_type": "stream",
     "text": [
      "---K-NN--- 0.7268145161290323 KNeighborsClassifier(metric='euclidean', n_neighbors=3)\n",
      "* 1-----------kfold--------------- 2 ------------\n"
     ]
    },
    {
     "name": "stderr",
     "output_type": "stream",
     "text": [
      "c:\\Users\\sbhuv\\AppData\\Local\\Programs\\Python\\Python38\\lib\\site-packages\\sklearn\\neighbors\\_classification.py:215: DataConversionWarning: A column-vector y was passed when a 1d array was expected. Please change the shape of y to (n_samples,), for example using ravel().\n",
      "  return self._fit(X, y)\n",
      "c:\\Users\\sbhuv\\AppData\\Local\\Programs\\Python\\Python38\\lib\\site-packages\\sklearn\\neighbors\\_classification.py:215: DataConversionWarning: A column-vector y was passed when a 1d array was expected. Please change the shape of y to (n_samples,), for example using ravel().\n",
      "  return self._fit(X, y)\n",
      "Classificationv3.py:353: UserWarning: FixedFormatter should only be used together with FixedLocator\n",
      "  axs[i].set_xticklabels([''] + ['0', '1'], fontsize='xx-large')\n",
      "Classificationv3.py:354: UserWarning: FixedFormatter should only be used together with FixedLocator\n",
      "  axs[i].set_yticklabels([''] + ['0', '1'], fontsize='xx-large')\n"
     ]
    },
    {
     "name": "stdout",
     "output_type": "stream",
     "text": [
      "* 2*\n",
      "{'algorithm': 'auto', 'leaf_size': 30, 'metric': 'euclidean', 'metric_params': None, 'n_jobs': None, 'n_neighbors': 3, 'p': 2, 'weights': 'uniform'}\n",
      "------run_cv runs successfully------------\n",
      "++++++++++++save_confusion_matrix++++++++++++\n",
      "++++++++++++save_confusion_matrix end++++++++++++\n",
      "(((((((((((((((((((((( draw droc ))))))))))))))))))))))))))))))\n",
      "(((((((( draw droc end ))))))))\n",
      "~~~~~~~~~~~~~~~~~ SB-081 ~~~~~~~~~~~~~~~~~~~~~~\n",
      "~~~~~~~~~~ Number of instances before balancing:  22  ~~~~~~~~~~\n",
      "~~~~~~~ Training Loss: 0.014892053790390491  ~~~~~~~\n",
      "~~~~~~~ Validation Loss: 0.062321148812770844  ~~~~~~~\n",
      "1/1 [==============================] - 0s 236ms/step\n",
      "~~~~~~~ value_counts: ~~~~~~~\n",
      "0    16\n",
      "1    14\n",
      "Name: class, dtype: int64\n",
      "~~~~~~~~~~ Number of instances after balancing:  30  ~~~~~~~~~~\n",
      "~~~~~~~~~~ Number of instances before balancing:  23  ~~~~~~~~~~\n",
      "~~~~~~~ Training Loss: 0.028377851471304893  ~~~~~~~\n",
      "~~~~~~~ Validation Loss: 0.10402032732963562  ~~~~~~~\n",
      "1/1 [==============================] - 0s 410ms/step\n",
      "~~~~~~~ value_counts: ~~~~~~~\n",
      "0    20\n",
      "1    13\n",
      "Name: class, dtype: int64\n",
      "~~~~~~~~~~ Number of instances after balancing:  33  ~~~~~~~~~~\n",
      "~~~~~~~~~~ Number of instances before balancing:  23  ~~~~~~~~~~\n",
      "~~~~~~~ Training Loss: 0.015488939359784126  ~~~~~~~\n",
      "~~~~~~~ Validation Loss: 0.05548751726746559  ~~~~~~~\n",
      "1/1 [==============================] - 0s 291ms/step\n",
      "~~~~~~~ value_counts: ~~~~~~~\n",
      "0    20\n",
      "1    13\n",
      "Name: class, dtype: int64\n",
      "~~~~~~~~~~ Number of instances after balancing:  33  ~~~~~~~~~~\n",
      "~~~~~~~~~~ K-NN ~~~~~~~~~~~~~~~\n",
      "-----------kfold--------------- 0 ------------\n",
      "---K-NN--- 0.7333333333333333 KNeighborsClassifier(metric='manhattan', n_neighbors=3)\n",
      "* 0-----------kfold--------------- 1 ------------\n"
     ]
    },
    {
     "name": "stderr",
     "output_type": "stream",
     "text": [
      "c:\\Users\\sbhuv\\AppData\\Local\\Programs\\Python\\Python38\\lib\\site-packages\\sklearn\\neighbors\\_classification.py:215: DataConversionWarning: A column-vector y was passed when a 1d array was expected. Please change the shape of y to (n_samples,), for example using ravel().\n",
      "  return self._fit(X, y)\n"
     ]
    },
    {
     "name": "stdout",
     "output_type": "stream",
     "text": [
      "---K-NN--- 0.8142857142857143 KNeighborsClassifier(metric='euclidean', n_neighbors=3)\n",
      "* 1-----------kfold--------------- 2 ------------\n"
     ]
    },
    {
     "name": "stderr",
     "output_type": "stream",
     "text": [
      "c:\\Users\\sbhuv\\AppData\\Local\\Programs\\Python\\Python38\\lib\\site-packages\\sklearn\\neighbors\\_classification.py:215: DataConversionWarning: A column-vector y was passed when a 1d array was expected. Please change the shape of y to (n_samples,), for example using ravel().\n",
      "  return self._fit(X, y)\n"
     ]
    },
    {
     "name": "stdout",
     "output_type": "stream",
     "text": [
      "---K-NN--- 0.880952380952381 KNeighborsClassifier(metric='euclidean', n_neighbors=3)\n",
      "* 2*\n",
      "{'algorithm': 'auto', 'leaf_size': 30, 'metric': 'euclidean', 'metric_params': None, 'n_jobs': None, 'n_neighbors': 3, 'p': 2, 'weights': 'uniform'}\n",
      "------run_cv runs successfully------------\n",
      "++++++++++++save_confusion_matrix++++++++++++\n"
     ]
    },
    {
     "name": "stderr",
     "output_type": "stream",
     "text": [
      "c:\\Users\\sbhuv\\AppData\\Local\\Programs\\Python\\Python38\\lib\\site-packages\\sklearn\\neighbors\\_classification.py:215: DataConversionWarning: A column-vector y was passed when a 1d array was expected. Please change the shape of y to (n_samples,), for example using ravel().\n",
      "  return self._fit(X, y)\n",
      "Classificationv3.py:353: UserWarning: FixedFormatter should only be used together with FixedLocator\n",
      "  axs[i].set_xticklabels([''] + ['0', '1'], fontsize='xx-large')\n",
      "Classificationv3.py:354: UserWarning: FixedFormatter should only be used together with FixedLocator\n",
      "  axs[i].set_yticklabels([''] + ['0', '1'], fontsize='xx-large')\n"
     ]
    },
    {
     "name": "stdout",
     "output_type": "stream",
     "text": [
      "++++++++++++save_confusion_matrix end++++++++++++\n",
      "(((((((((((((((((((((( draw droc ))))))))))))))))))))))))))))))\n",
      "(((((((( draw droc end ))))))))\n",
      "~~~~~~~~~~~~~~~~~ SB-082 ~~~~~~~~~~~~~~~~~~~~~~\n",
      "~~~~~~~~~~ Number of instances before balancing:  91  ~~~~~~~~~~\n",
      "~~~~~~~ Training Loss: 0.015931297093629837  ~~~~~~~\n",
      "~~~~~~~ Validation Loss: 0.022846126928925514  ~~~~~~~\n",
      "2/2 [==============================] - 0s 6ms/step\n",
      "~~~~~~~ value_counts: ~~~~~~~\n",
      "0    68\n",
      "1    57\n",
      "Name: class, dtype: int64\n",
      "~~~~~~~~~~ Number of instances after balancing:  125  ~~~~~~~~~~\n",
      "~~~~~~~~~~ Number of instances before balancing:  91  ~~~~~~~~~~\n",
      "~~~~~~~ Training Loss: 0.013305602595210075  ~~~~~~~\n",
      "~~~~~~~ Validation Loss: 0.02409031055867672  ~~~~~~~\n",
      "2/2 [==============================] - 0s 7ms/step\n",
      "~~~~~~~ value_counts: ~~~~~~~\n",
      "0    74\n",
      "1    54\n",
      "Name: class, dtype: int64\n",
      "~~~~~~~~~~ Number of instances after balancing:  128  ~~~~~~~~~~\n",
      "~~~~~~~~~~ Number of instances before balancing:  92  ~~~~~~~~~~\n",
      "~~~~~~~ Training Loss: 0.015659550204873085  ~~~~~~~\n",
      "~~~~~~~ Validation Loss: 0.02430562861263752  ~~~~~~~\n",
      "2/2 [==============================] - 0s 5ms/step\n",
      "~~~~~~~ value_counts: ~~~~~~~\n",
      "0    66\n",
      "1    59\n",
      "Name: class, dtype: int64\n",
      "~~~~~~~~~~ Number of instances after balancing:  125  ~~~~~~~~~~\n",
      "~~~~~~~~~~ K-NN ~~~~~~~~~~~~~~~\n",
      "-----------kfold--------------- 0 ------------\n",
      "---K-NN--- 0.72 KNeighborsClassifier(metric='manhattan', n_neighbors=3)\n",
      "* 0-----------kfold--------------- 1 ------------\n"
     ]
    },
    {
     "name": "stderr",
     "output_type": "stream",
     "text": [
      "c:\\Users\\sbhuv\\AppData\\Local\\Programs\\Python\\Python38\\lib\\site-packages\\sklearn\\neighbors\\_classification.py:215: DataConversionWarning: A column-vector y was passed when a 1d array was expected. Please change the shape of y to (n_samples,), for example using ravel().\n",
      "  return self._fit(X, y)\n"
     ]
    },
    {
     "name": "stdout",
     "output_type": "stream",
     "text": [
      "---K-NN--- 0.7264615384615384 KNeighborsClassifier(metric='manhattan', n_neighbors=3)\n",
      "* 1-----------kfold--------------- 2 ------------\n"
     ]
    },
    {
     "name": "stderr",
     "output_type": "stream",
     "text": [
      "c:\\Users\\sbhuv\\AppData\\Local\\Programs\\Python\\Python38\\lib\\site-packages\\sklearn\\neighbors\\_classification.py:215: DataConversionWarning: A column-vector y was passed when a 1d array was expected. Please change the shape of y to (n_samples,), for example using ravel().\n",
      "  return self._fit(X, y)\n",
      "c:\\Users\\sbhuv\\AppData\\Local\\Programs\\Python\\Python38\\lib\\site-packages\\sklearn\\neighbors\\_classification.py:215: DataConversionWarning: A column-vector y was passed when a 1d array was expected. Please change the shape of y to (n_samples,), for example using ravel().\n",
      "  return self._fit(X, y)\n",
      "Classificationv3.py:353: UserWarning: FixedFormatter should only be used together with FixedLocator\n",
      "  axs[i].set_xticklabels([''] + ['0', '1'], fontsize='xx-large')\n",
      "Classificationv3.py:354: UserWarning: FixedFormatter should only be used together with FixedLocator\n",
      "  axs[i].set_yticklabels([''] + ['0', '1'], fontsize='xx-large')\n"
     ]
    },
    {
     "name": "stdout",
     "output_type": "stream",
     "text": [
      "* 2*\n",
      "{'algorithm': 'auto', 'leaf_size': 30, 'metric': 'manhattan', 'metric_params': None, 'n_jobs': None, 'n_neighbors': 5, 'p': 2, 'weights': 'uniform'}\n",
      "------run_cv runs successfully------------\n",
      "++++++++++++save_confusion_matrix++++++++++++\n",
      "++++++++++++save_confusion_matrix end++++++++++++\n",
      "(((((((((((((((((((((( draw droc ))))))))))))))))))))))))))))))\n",
      "(((((((( draw droc end ))))))))\n",
      "~~~~~~~~~~~~~~~~~ SB-083 ~~~~~~~~~~~~~~~~~~~~~~\n",
      "~~~~~~~~~~ Number of instances before balancing:  137  ~~~~~~~~~~\n",
      "~~~~~~~ Training Loss: 0.010171099565923214  ~~~~~~~\n",
      "~~~~~~~ Validation Loss: 0.01451175194233656  ~~~~~~~\n",
      "2/2 [==============================] - 0s 4ms/step\n",
      "~~~~~~~ value_counts: ~~~~~~~\n",
      "1    96\n",
      "0    82\n",
      "Name: class, dtype: int64\n",
      "~~~~~~~~~~ Number of instances after balancing:  178  ~~~~~~~~~~\n",
      "~~~~~~~~~~ Number of instances before balancing:  137  ~~~~~~~~~~\n",
      "~~~~~~~ Training Loss: 0.010789734311401844  ~~~~~~~\n",
      "~~~~~~~ Validation Loss: 0.01632513850927353  ~~~~~~~\n",
      "2/2 [==============================] - 0s 6ms/step\n",
      "~~~~~~~ value_counts: ~~~~~~~\n",
      "1    95\n",
      "0    84\n",
      "Name: class, dtype: int64\n",
      "~~~~~~~~~~ Number of instances after balancing:  179  ~~~~~~~~~~\n",
      "~~~~~~~~~~ Number of instances before balancing:  138  ~~~~~~~~~~\n",
      "~~~~~~~ Training Loss: 0.012713341042399406  ~~~~~~~\n",
      "~~~~~~~ Validation Loss: 0.020635826513171196  ~~~~~~~\n",
      "2/2 [==============================] - 0s 4ms/step\n",
      "~~~~~~~ value_counts: ~~~~~~~\n",
      "1    97\n",
      "0    82\n",
      "Name: class, dtype: int64\n",
      "~~~~~~~~~~ Number of instances after balancing:  179  ~~~~~~~~~~\n",
      "~~~~~~~~~~ K-NN ~~~~~~~~~~~~~~~\n",
      "-----------kfold--------------- 0 ------------\n",
      "---K-NN--- 0.7423809523809524 KNeighborsClassifier(metric='manhattan', n_neighbors=3, weights='distance')\n",
      "* 0-----------kfold--------------- 1 ------------\n"
     ]
    },
    {
     "name": "stderr",
     "output_type": "stream",
     "text": [
      "c:\\Users\\sbhuv\\AppData\\Local\\Programs\\Python\\Python38\\lib\\site-packages\\sklearn\\neighbors\\_classification.py:215: DataConversionWarning: A column-vector y was passed when a 1d array was expected. Please change the shape of y to (n_samples,), for example using ravel().\n",
      "  return self._fit(X, y)\n",
      "c:\\Users\\sbhuv\\AppData\\Local\\Programs\\Python\\Python38\\lib\\site-packages\\sklearn\\neighbors\\_classification.py:215: DataConversionWarning: A column-vector y was passed when a 1d array was expected. Please change the shape of y to (n_samples,), for example using ravel().\n",
      "  return self._fit(X, y)\n"
     ]
    },
    {
     "name": "stdout",
     "output_type": "stream",
     "text": [
      "* 1-----------kfold--------------- 2 ------------\n"
     ]
    },
    {
     "name": "stderr",
     "output_type": "stream",
     "text": [
      "c:\\Users\\sbhuv\\AppData\\Local\\Programs\\Python\\Python38\\lib\\site-packages\\sklearn\\neighbors\\_classification.py:215: DataConversionWarning: A column-vector y was passed when a 1d array was expected. Please change the shape of y to (n_samples,), for example using ravel().\n",
      "  return self._fit(X, y)\n",
      "Classificationv3.py:353: UserWarning: FixedFormatter should only be used together with FixedLocator\n",
      "  axs[i].set_xticklabels([''] + ['0', '1'], fontsize='xx-large')\n",
      "Classificationv3.py:354: UserWarning: FixedFormatter should only be used together with FixedLocator\n",
      "  axs[i].set_yticklabels([''] + ['0', '1'], fontsize='xx-large')\n"
     ]
    },
    {
     "name": "stdout",
     "output_type": "stream",
     "text": [
      "* 2*\n",
      "{'algorithm': 'auto', 'leaf_size': 30, 'metric': 'euclidean', 'metric_params': None, 'n_jobs': None, 'n_neighbors': 5, 'p': 2, 'weights': 'uniform'}\n",
      "------run_cv runs successfully------------\n",
      "++++++++++++save_confusion_matrix++++++++++++\n",
      "++++++++++++save_confusion_matrix end++++++++++++\n",
      "(((((((((((((((((((((( draw droc ))))))))))))))))))))))))))))))\n",
      "(((((((( draw droc end ))))))))\n",
      "~~~~~~~~~~~~~~~~~ SB-089 ~~~~~~~~~~~~~~~~~~~~~~\n",
      "~~~~~~~~~~ Number of instances before balancing:  32  ~~~~~~~~~~\n",
      "~~~~~~~ Training Loss: 0.008565663360059261  ~~~~~~~\n",
      "~~~~~~~ Validation Loss: 0.030544793233275414  ~~~~~~~\n",
      "1/1 [==============================] - 0s 416ms/step\n",
      "~~~~~~~ value_counts: ~~~~~~~\n",
      "0    26\n",
      "1    19\n",
      "Name: class, dtype: int64\n",
      "~~~~~~~~~~ Number of instances after balancing:  45  ~~~~~~~~~~\n",
      "~~~~~~~~~~ Number of instances before balancing:  33  ~~~~~~~~~~\n",
      "~~~~~~~ Training Loss: 0.005870024673640728  ~~~~~~~\n",
      "~~~~~~~ Validation Loss: 0.08623489737510681  ~~~~~~~\n",
      "1/1 [==============================] - 1s 501ms/step\n",
      "~~~~~~~ value_counts: ~~~~~~~\n",
      "1    27\n",
      "0    12\n",
      "Name: class, dtype: int64\n",
      "~~~~~~~~~~ Number of instances after balancing:  39  ~~~~~~~~~~\n",
      "~~~~~~~~~~ Number of instances before balancing:  33  ~~~~~~~~~~\n",
      "~~~~~~~ Training Loss: 0.012261483818292618  ~~~~~~~\n",
      "~~~~~~~ Validation Loss: 0.06922833621501923  ~~~~~~~\n",
      "1/1 [==============================] - 0s 374ms/step\n",
      "~~~~~~~ value_counts: ~~~~~~~\n",
      "0    22\n",
      "1    22\n",
      "Name: class, dtype: int64\n",
      "~~~~~~~~~~ Number of instances after balancing:  44  ~~~~~~~~~~\n",
      "~~~~~~~~~~ K-NN ~~~~~~~~~~~~~~~\n",
      "-----------kfold--------------- 0 ------------\n",
      "---K-NN--- 0.7555555555555555 KNeighborsClassifier(metric='euclidean', n_neighbors=3)\n",
      "* 0-----------kfold--------------- 1 ------------\n"
     ]
    },
    {
     "name": "stderr",
     "output_type": "stream",
     "text": [
      "c:\\Users\\sbhuv\\AppData\\Local\\Programs\\Python\\Python38\\lib\\site-packages\\sklearn\\neighbors\\_classification.py:215: DataConversionWarning: A column-vector y was passed when a 1d array was expected. Please change the shape of y to (n_samples,), for example using ravel().\n",
      "  return self._fit(X, y)\n"
     ]
    },
    {
     "name": "stdout",
     "output_type": "stream",
     "text": [
      "---K-NN--- 0.95 KNeighborsClassifier(metric='manhattan')\n",
      "* 1-----------kfold--------------- 2 ------------\n"
     ]
    },
    {
     "name": "stderr",
     "output_type": "stream",
     "text": [
      "c:\\Users\\sbhuv\\AppData\\Local\\Programs\\Python\\Python38\\lib\\site-packages\\sklearn\\neighbors\\_classification.py:215: DataConversionWarning: A column-vector y was passed when a 1d array was expected. Please change the shape of y to (n_samples,), for example using ravel().\n",
      "  return self._fit(X, y)\n",
      "c:\\Users\\sbhuv\\AppData\\Local\\Programs\\Python\\Python38\\lib\\site-packages\\sklearn\\neighbors\\_classification.py:215: DataConversionWarning: A column-vector y was passed when a 1d array was expected. Please change the shape of y to (n_samples,), for example using ravel().\n",
      "  return self._fit(X, y)\n",
      "Classificationv3.py:353: UserWarning: FixedFormatter should only be used together with FixedLocator\n",
      "  axs[i].set_xticklabels([''] + ['0', '1'], fontsize='xx-large')\n",
      "Classificationv3.py:354: UserWarning: FixedFormatter should only be used together with FixedLocator\n",
      "  axs[i].set_yticklabels([''] + ['0', '1'], fontsize='xx-large')\n"
     ]
    },
    {
     "name": "stdout",
     "output_type": "stream",
     "text": [
      "* 2*\n",
      "{'algorithm': 'auto', 'leaf_size': 30, 'metric': 'euclidean', 'metric_params': None, 'n_jobs': None, 'n_neighbors': 5, 'p': 2, 'weights': 'uniform'}\n",
      "------run_cv runs successfully------------\n",
      "++++++++++++save_confusion_matrix++++++++++++\n",
      "++++++++++++save_confusion_matrix end++++++++++++\n",
      "(((((((((((((((((((((( draw droc ))))))))))))))))))))))))))))))\n",
      "(((((((( draw droc end ))))))))\n",
      "~~~~~~~~~~~~~~~~~ SB-112 ~~~~~~~~~~~~~~~~~~~~~~\n",
      "~~~~~~~~~~ Number of instances before balancing:  120  ~~~~~~~~~~\n",
      "~~~~~~~ Training Loss: 0.013816175051033497  ~~~~~~~\n",
      "~~~~~~~ Validation Loss: 0.02792515605688095  ~~~~~~~\n",
      "1/1 [==============================] - 0s 203ms/step\n",
      "~~~~~~~ value_counts: ~~~~~~~\n",
      "1    88\n",
      "0    64\n",
      "Name: class, dtype: int64\n",
      "~~~~~~~~~~ Number of instances after balancing:  152  ~~~~~~~~~~\n",
      "~~~~~~~~~~ Number of instances before balancing:  120  ~~~~~~~~~~\n",
      "~~~~~~~ Training Loss: 0.021054144948720932  ~~~~~~~\n",
      "~~~~~~~ Validation Loss: 0.026820629835128784  ~~~~~~~\n",
      "1/1 [==============================] - 0s 210ms/step\n",
      "~~~~~~~ value_counts: ~~~~~~~\n",
      "1    96\n",
      "0    48\n",
      "Name: class, dtype: int64\n",
      "~~~~~~~~~~ Number of instances after balancing:  144  ~~~~~~~~~~\n",
      "~~~~~~~~~~ Number of instances before balancing:  120  ~~~~~~~~~~\n",
      "~~~~~~~ Training Loss: 0.012965507805347443  ~~~~~~~\n",
      "~~~~~~~ Validation Loss: 0.021559732034802437  ~~~~~~~\n",
      "1/1 [==============================] - 0s 302ms/step\n",
      "~~~~~~~ value_counts: ~~~~~~~\n",
      "1    98\n",
      "0    44\n",
      "Name: class, dtype: int64\n",
      "~~~~~~~~~~ Number of instances after balancing:  142  ~~~~~~~~~~\n",
      "~~~~~~~~~~ K-NN ~~~~~~~~~~~~~~~\n",
      "-----------kfold--------------- 0 ------------\n",
      "---K-NN--- 0.756989247311828 KNeighborsClassifier(metric='manhattan', n_neighbors=9)\n",
      "* 0-----------kfold--------------- 1 ------------\n"
     ]
    },
    {
     "name": "stderr",
     "output_type": "stream",
     "text": [
      "c:\\Users\\sbhuv\\AppData\\Local\\Programs\\Python\\Python38\\lib\\site-packages\\sklearn\\neighbors\\_classification.py:215: DataConversionWarning: A column-vector y was passed when a 1d array was expected. Please change the shape of y to (n_samples,), for example using ravel().\n",
      "  return self._fit(X, y)\n"
     ]
    },
    {
     "name": "stdout",
     "output_type": "stream",
     "text": [
      "---K-NN--- 0.8118226600985222 KNeighborsClassifier(metric='euclidean', n_neighbors=3)\n",
      "* 1-----------kfold--------------- 2 ------------\n"
     ]
    },
    {
     "name": "stderr",
     "output_type": "stream",
     "text": [
      "c:\\Users\\sbhuv\\AppData\\Local\\Programs\\Python\\Python38\\lib\\site-packages\\sklearn\\neighbors\\_classification.py:215: DataConversionWarning: A column-vector y was passed when a 1d array was expected. Please change the shape of y to (n_samples,), for example using ravel().\n",
      "  return self._fit(X, y)\n",
      "c:\\Users\\sbhuv\\AppData\\Local\\Programs\\Python\\Python38\\lib\\site-packages\\sklearn\\neighbors\\_classification.py:215: DataConversionWarning: A column-vector y was passed when a 1d array was expected. Please change the shape of y to (n_samples,), for example using ravel().\n",
      "  return self._fit(X, y)\n",
      "Classificationv3.py:353: UserWarning: FixedFormatter should only be used together with FixedLocator\n",
      "  axs[i].set_xticklabels([''] + ['0', '1'], fontsize='xx-large')\n",
      "Classificationv3.py:354: UserWarning: FixedFormatter should only be used together with FixedLocator\n",
      "  axs[i].set_yticklabels([''] + ['0', '1'], fontsize='xx-large')\n"
     ]
    },
    {
     "name": "stdout",
     "output_type": "stream",
     "text": [
      "* 2*\n",
      "{'algorithm': 'auto', 'leaf_size': 30, 'metric': 'euclidean', 'metric_params': None, 'n_jobs': None, 'n_neighbors': 11, 'p': 2, 'weights': 'distance'}\n",
      "------run_cv runs successfully------------\n",
      "++++++++++++save_confusion_matrix++++++++++++\n",
      "++++++++++++save_confusion_matrix end++++++++++++\n",
      "(((((((((((((((((((((( draw droc ))))))))))))))))))))))))))))))\n",
      "(((((((( draw droc end ))))))))\n"
     ]
    }
   ],
   "source": [
    "runner_knn()"
   ]
  },
  {
   "cell_type": "code",
   "execution_count": 23,
   "metadata": {},
   "outputs": [],
   "source": [
    "# runner_lr()"
   ]
  },
  {
   "cell_type": "code",
   "execution_count": 24,
   "metadata": {},
   "outputs": [],
   "source": [
    "# runner_svm()"
   ]
  },
  {
   "cell_type": "code",
   "execution_count": 25,
   "metadata": {},
   "outputs": [],
   "source": [
    "# runner_nb()"
   ]
  },
  {
   "cell_type": "code",
   "execution_count": null,
   "metadata": {},
   "outputs": [],
   "source": []
  }
 ],
 "metadata": {
  "kernelspec": {
   "display_name": "Python 3",
   "language": "python",
   "name": "python3"
  },
  "language_info": {
   "codemirror_mode": {
    "name": "ipython",
    "version": 3
   },
   "file_extension": ".py",
   "mimetype": "text/x-python",
   "name": "python",
   "nbconvert_exporter": "python",
   "pygments_lexer": "ipython3",
   "version": "3.8.2"
  },
  "orig_nbformat": 4
 },
 "nbformat": 4,
 "nbformat_minor": 2
}
