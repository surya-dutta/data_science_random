{
 "cells": [
  {
   "cell_type": "code",
   "execution_count": 1,
   "metadata": {},
   "outputs": [],
   "source": [
    "import pandas as pd\n",
    "import importlib.util\n",
    "import sklearn\n",
    "import numpy as np\n",
    "from pathlib import Path\n",
    "import joblib\n",
    "import os   "
   ]
  },
  {
   "cell_type": "code",
   "execution_count": 2,
   "metadata": {},
   "outputs": [],
   "source": [
    "output_dir = \"classification_results_2023/\"\n",
    "all_patient_data = pd.read_csv(\"Combined_AM_Data.csv\")"
   ]
  },
  {
   "cell_type": "code",
   "execution_count": 3,
   "metadata": {},
   "outputs": [
    {
     "data": {
      "text/plain": [
       "Index(['id', 'date', 'age', 'sex', 'BMI', 'income', 'road_dist', 'cooking',\n",
       "       'am_pef_org', 'y_am_pef', 'tempin', 'humidin', 'pm25in', 'co2in',\n",
       "       'tempdiffin', 'humidiffin', 'pm25diffin', 'pm10', 'pm25', 'o3', 'no2',\n",
       "       'co', 'so2', 'temp', 'windsd', 'humid', 'varp', 'dewpt', 'airp', 'seap',\n",
       "       'solrhr', 'solramnt', 'grdt', 'class'],\n",
       "      dtype='object')"
      ]
     },
     "execution_count": 3,
     "metadata": {},
     "output_type": "execute_result"
    }
   ],
   "source": [
    "all_patient_data.columns"
   ]
  },
  {
   "cell_type": "code",
   "execution_count": 4,
   "metadata": {},
   "outputs": [],
   "source": [
    "# Loading classification.py\n",
    "spec = importlib.util.spec_from_file_location('classification', r\"Classificationv3.py\")\n",
    "module = importlib.util.module_from_spec(spec)\n",
    "spec.loader.exec_module(module)"
   ]
  },
  {
   "cell_type": "code",
   "execution_count": 5,
   "metadata": {},
   "outputs": [],
   "source": [
    "predictColumn = \"class\"\n",
    "minorityVariable = 0 \n",
    "classes = all_patient_data[predictColumn].unique().tolist()\n",
    "\n",
    "n_classes = len(classes)\n",
    "\n",
    "if n_classes > 2 :\n",
    "    logit_reg_model = sklearn.linear_model.LogisticRegression(solver='saga', multi_class='multinomial')\n",
    "else :\n",
    "    logit_reg_model = sklearn.linear_model.LogisticRegression(solver='liblinear', multi_class='auto')\n",
    "\n",
    "cls = [ \"DecisionTree\" , sklearn.tree.DecisionTreeClassifier(max_depth=4),\n",
    "        \"K-NN\"              , sklearn.neighbors.KNeighborsClassifier(),\n",
    "        \"Logit Regression\"  , logit_reg_model,\n",
    "        \"Naive Bayes\"       , sklearn.gaussian_process.GaussianProcessClassifier()\n",
    "];"
   ]
  },
  {
   "cell_type": "code",
   "execution_count": 6,
   "metadata": {},
   "outputs": [],
   "source": [
    "EVALUATION_METRICS = ['Weighted Accuracy', 'Sensitivity/Recall', 'Precision_avg', 'F1_avg', 'Specificity', 'Precision', 'Precision_class1', 'F1', 'F1_class1']\n",
    "REQUIRED_COLUMNS = ['income','road_dist','cooking','y_am_pef','tempin','humidin','pm25in','co2in','tempdiffin','humidiffin','pm25diffin','pm10','pm25','o3','no2','co','so2','temp','windsd','humid','varp','dewpt','airp','seap','solrhr','solramnt','grdt','class']"
   ]
  },
  {
   "cell_type": "code",
   "execution_count": 7,
   "metadata": {},
   "outputs": [],
   "source": [
    "%run \"Classificationv3.py\"\n",
    "%run \"Balance.py\""
   ]
  },
  {
   "cell_type": "code",
   "execution_count": 8,
   "metadata": {},
   "outputs": [],
   "source": [
    "def classification_func(file_name, predictCol, minorVar, category_group, cls, output_dir, df_evaluation_results, patient_id, patient_id_df):\n",
    "\n",
    "    print('~~~~~~~~~~~~~~~~~', file_name,'~~~~~~~~~~~~~~~~~~~~~~')\n",
    "\n",
    "    dataset_dir = Path(output_dir + patient_id+category_group +  \"/diagrams/\" + file_name + '/') \n",
    "\n",
    "    # Create Directory for this patient\n",
    "    if not (dataset_dir.exists() and dataset_dir.is_dir()):\n",
    "        os.makedirs(dataset_dir)\n",
    "\n",
    "    save_path = output_dir+ patient_id+category_group +'/diagrams/' + file_name + '/sklearn_models_balanced_for_train_'\n",
    "\n",
    "    CLASS_VAR = predictCol\n",
    "    MINORITY_VAR = minorVar\n",
    "    bestDT = module.Classify(patient_id_df, True, class_var=CLASS_VAR, minority_var=MINORITY_VAR, drawConfusionMatrix=True, classifiers=cls, scale=True, save_path=save_path, after_split=True)\n",
    "\n",
    "    confusion_matrixes_file = save_path + \"confusion_mat_\" + category_group + \"_\"+ file_name\n",
    "    module.save_confusion_matrix(bestDT[1], confusion_matrixes_file)\n",
    "    roc_curve_file = save_path + \"roc_curve_\" + category_group + \"_\"+ file_name\n",
    "    module.save_Draw_Roc(bestDT[2], roc_curve_file)\n",
    "    if len(bestDT[3])!=0:\n",
    "      featureImportance_path = save_path + \"important_mat_\" + category_group + \"_\"+ file_name\n",
    "      module.save_Draw_FeatureImportanceMatrix(patient_id_df,bestDT[3],cls[0], featureImportance_path, True)\n",
    "\n",
    "    model_path = save_path + \"bestModel_\" + category_group + \"_\"+ file_name + \".joblib\"\n",
    "    joblib.dump(bestDT[4], model_path)\n",
    "\n",
    "    df_evaluation_results[file_name] = bestDT[0]\n",
    "    df_evaluation_results.to_csv(output_dir+patient_id+category_group+\"/sklearn_models_balanced_for_train_metrics_\"+category_group + \".csv\")\n"
   ]
  },
  {
   "cell_type": "code",
   "execution_count": 9,
   "metadata": {},
   "outputs": [],
   "source": [
    "def runner_decision_tree():\n",
    "    ids = all_patient_data['id'].unique().tolist()\n",
    "    for id in ids:\n",
    "        patient_id = id + \"/\"\n",
    "        file_name = id\n",
    "        patient_id_df = all_patient_data[all_patient_data['id'] == id]\n",
    "        filtered_df = patient_id_df.filter(REQUIRED_COLUMNS)\n",
    "        patient_id_df = filtered_df.copy()\n",
    "        \n",
    "        # Decision Tree\n",
    "        df_evaluation_results = pd.DataFrame(index=EVALUATION_METRICS)\n",
    "        category_group = '1DecisionTree'\n",
    "        cls = [\"DecisionTree\", sklearn.tree.DecisionTreeClassifier(max_depth=4)]\n",
    "        classification_func(file_name, predictColumn, minorityVariable, category_group, cls, output_dir, df_evaluation_results, patient_id, patient_id_df)\n",
    "\n",
    "def runner_knn():\n",
    "    ids = all_patient_data['id'].unique().tolist()\n",
    "    for id in ids:\n",
    "        patient_id = id + \"/\"\n",
    "        file_name = id\n",
    "        patient_id_df = all_patient_data[all_patient_data['id'] == id]\n",
    "        filtered_df = patient_id_df.filter(REQUIRED_COLUMNS)\n",
    "        patient_id_df = filtered_df.copy()\n",
    "        \n",
    "        # KNN\n",
    "        df_evaluation_results = pd.DataFrame(index=EVALUATION_METRICS)\n",
    "        category_group = '2K-NN'\n",
    "        cls = [\"K-NN\", sklearn.neighbors.KNeighborsClassifier()]\n",
    "        classification_func(file_name, predictColumn, minorityVariable, category_group, cls, output_dir, df_evaluation_results, patient_id, patient_id_df)\n",
    "\n",
    "def runner_lr():\n",
    "    ids = all_patient_data['id'].unique().tolist()\n",
    "    for id in ids:\n",
    "        patient_id = id + \"/\"\n",
    "        file_name = id\n",
    "        patient_id_df = all_patient_data[all_patient_data['id'] == id]\n",
    "        filtered_df = patient_id_df.filter(REQUIRED_COLUMNS)\n",
    "        patient_id_df = filtered_df.copy()\n",
    "        \n",
    "        # Logistic Regression\n",
    "        df_evaluation_results = pd.DataFrame(index=EVALUATION_METRICS)\n",
    "        category_group = 'LogisticRegression'\n",
    "        print(logit_reg_model)\n",
    "        cls = [\"Logit Regression\", logit_reg_model]\n",
    "        classification_func(file_name, predictColumn, minorityVariable, category_group, cls, output_dir, df_evaluation_results, patient_id, patient_id_df)\n",
    "\n",
    "def runner_svm():\n",
    "    ids = all_patient_data['id'].unique().tolist()\n",
    "    for id in ids:\n",
    "        patient_id = id + \"/\"\n",
    "        file_name = id\n",
    "        patient_id_df = all_patient_data[all_patient_data['id'] == id]\n",
    "        filtered_df = patient_id_df.filter(REQUIRED_COLUMNS)\n",
    "        patient_id_df = filtered_df.copy()\n",
    "        \n",
    "        # SVM\n",
    "        df_evaluation_results = pd.DataFrame(index=EVALUATION_METRICS)\n",
    "        category_group = 'SVM'\n",
    "        cls = [\"SVM\", sklearn.svm.SVC(kernel=\"linear\")]\n",
    "        classification_func(file_name, predictColumn, minorityVariable, category_group, cls, output_dir, df_evaluation_results, patient_id, patient_id_df)\n",
    "\n",
    "def runner_nb():\n",
    "    ids = all_patient_data['id'].unique().tolist()\n",
    "    for id in ids:\n",
    "        patient_id = id + \"/\"\n",
    "        file_name = id\n",
    "        patient_id_df = all_patient_data[all_patient_data['id'] == id]\n",
    "        filtered_df = patient_id_df.filter(REQUIRED_COLUMNS)\n",
    "        patient_id_df = filtered_df.copy()\n",
    "        \n",
    "        # Naive Bayes\n",
    "        df_evaluation_results = pd.DataFrame(index=EVALUATION_METRICS)\n",
    "        category_group = 'NaiveBayes'\n",
    "        cls = [\"Naive Bayes\", sklearn.gaussian_process.GaussianProcessClassifier()]\n",
    "        classification_func(file_name, predictColumn, minorityVariable, category_group, cls, output_dir, df_evaluation_results, patient_id, patient_id_df)\n"
   ]
  },
  {
   "cell_type": "code",
   "execution_count": 10,
   "metadata": {},
   "outputs": [],
   "source": [
    "#runner_decision_tree()"
   ]
  },
  {
   "cell_type": "code",
   "execution_count": 11,
   "metadata": {},
   "outputs": [],
   "source": [
    "#runner_knn()"
   ]
  },
  {
   "cell_type": "code",
   "execution_count": 12,
   "metadata": {},
   "outputs": [],
   "source": [
    "#runner_lr()"
   ]
  },
  {
   "cell_type": "code",
   "execution_count": 13,
   "metadata": {},
   "outputs": [
    {
     "name": "stdout",
     "output_type": "stream",
     "text": [
      "~~~~~~~~~~~~~~~~~ SB-001 ~~~~~~~~~~~~~~~~~~~~~~\n",
      "~~~~~~~~~~ Number of instances before balancing:  125  ~~~~~~~~~~\n",
      "~~~~~~~ Training Loss: 0.008785895071923733  ~~~~~~~\n",
      "~~~~~~~ Validation Loss: 0.017104916274547577  ~~~~~~~\n",
      "2/2 [==============================] - 1s 7ms/step\n",
      "~~~~~~~ value_counts: ~~~~~~~\n",
      "1    92\n",
      "0    66\n",
      "Name: class, dtype: int64\n",
      "~~~~~~~~~~ Number of instances after balancing:  158  ~~~~~~~~~~\n",
      "~~~~~~~~~~ Number of instances before balancing:  125  ~~~~~~~~~~\n",
      "~~~~~~~ Training Loss: 0.011267297901213169  ~~~~~~~\n",
      "~~~~~~~ Validation Loss: 0.011553260497748852  ~~~~~~~\n",
      "2/2 [==============================] - 0s 7ms/step\n",
      "~~~~~~~ value_counts: ~~~~~~~\n",
      "1    84\n",
      "0    82\n",
      "Name: class, dtype: int64\n",
      "~~~~~~~~~~ Number of instances after balancing:  166  ~~~~~~~~~~\n",
      "~~~~~~~~~~ Number of instances before balancing:  126  ~~~~~~~~~~\n",
      "~~~~~~~ Training Loss: 0.012712059542536736  ~~~~~~~\n",
      "~~~~~~~ Validation Loss: 0.015687856823205948  ~~~~~~~\n",
      "2/2 [==============================] - 0s 5ms/step\n",
      "~~~~~~~ value_counts: ~~~~~~~\n",
      "1    86\n",
      "0    80\n",
      "Name: class, dtype: int64\n",
      "~~~~~~~~~~ Number of instances after balancing:  166  ~~~~~~~~~~\n",
      "~~~~~~~~~~ SVM ~~~~~~~~~~~~~~~\n",
      "-----------kfold--------------- 0 ------------\n",
      "----SVM kfold---------- 0.8534274193548388 SVC(C=11, coef0=0.001)\n",
      "* 0-----------kfold--------------- 1 ------------\n"
     ]
    },
    {
     "name": "stderr",
     "output_type": "stream",
     "text": [
      "c:\\Users\\sbhuv\\AppData\\Local\\Programs\\Python\\Python38\\lib\\site-packages\\sklearn\\utils\\validation.py:1143: DataConversionWarning: A column-vector y was passed when a 1d array was expected. Please change the shape of y to (n_samples, ), for example using ravel().\n",
      "  y = column_or_1d(y, warn=True)\n",
      "c:\\Users\\sbhuv\\AppData\\Local\\Programs\\Python\\Python38\\lib\\site-packages\\sklearn\\utils\\validation.py:1143: DataConversionWarning: A column-vector y was passed when a 1d array was expected. Please change the shape of y to (n_samples, ), for example using ravel().\n",
      "  y = column_or_1d(y, warn=True)\n"
     ]
    },
    {
     "name": "stdout",
     "output_type": "stream",
     "text": [
      "* 1-----------kfold--------------- 2 ------------\n"
     ]
    },
    {
     "name": "stderr",
     "output_type": "stream",
     "text": [
      "c:\\Users\\sbhuv\\AppData\\Local\\Programs\\Python\\Python38\\lib\\site-packages\\sklearn\\utils\\validation.py:1143: DataConversionWarning: A column-vector y was passed when a 1d array was expected. Please change the shape of y to (n_samples, ), for example using ravel().\n",
      "  y = column_or_1d(y, warn=True)\n",
      "Classificationv3.py:353: UserWarning: FixedFormatter should only be used together with FixedLocator\n",
      "  axs[i].set_xticklabels([''] + ['0', '1'], fontsize='xx-large')\n",
      "Classificationv3.py:354: UserWarning: FixedFormatter should only be used together with FixedLocator\n",
      "  axs[i].set_yticklabels([''] + ['0', '1'], fontsize='xx-large')\n"
     ]
    },
    {
     "name": "stdout",
     "output_type": "stream",
     "text": [
      "* 2*\n",
      "{'C': 11, 'break_ties': False, 'cache_size': 200, 'class_weight': None, 'coef0': 1.501, 'decision_function_shape': 'ovr', 'degree': 5, 'gamma': 'auto', 'kernel': 'poly', 'max_iter': -1, 'probability': False, 'random_state': None, 'shrinking': True, 'tol': 0.001, 'verbose': False}\n",
      "------run_cv runs successfully------------\n",
      "++++++++++++save_confusion_matrix++++++++++++\n",
      "++++++++++++save_confusion_matrix end++++++++++++\n",
      "(((((((((((((((((((((( draw droc ))))))))))))))))))))))))))))))\n",
      "(((((((( draw droc end ))))))))\n",
      "~~~~~~~~~~~~~~~~~ SB-003 ~~~~~~~~~~~~~~~~~~~~~~\n",
      "~~~~~~~~~~ Number of instances before balancing:  120  ~~~~~~~~~~\n",
      "~~~~~~~ Training Loss: 0.011445063166320324  ~~~~~~~\n",
      "~~~~~~~ Validation Loss: 0.02052130177617073  ~~~~~~~\n",
      "2/2 [==============================] - 0s 6ms/step\n",
      "~~~~~~~ value_counts: ~~~~~~~\n",
      "1    87\n",
      "0    66\n",
      "Name: class, dtype: int64\n",
      "~~~~~~~~~~ Number of instances after balancing:  153  ~~~~~~~~~~\n",
      "~~~~~~~~~~ Number of instances before balancing:  120  ~~~~~~~~~~\n",
      "~~~~~~~ Training Loss: 0.013052347116172314  ~~~~~~~\n",
      "~~~~~~~ Validation Loss: 0.016075195744633675  ~~~~~~~\n",
      "WARNING:tensorflow:5 out of the last 9 calls to <function Model.make_predict_function.<locals>.predict_function at 0x000002799D251EE0> triggered tf.function retracing. Tracing is expensive and the excessive number of tracings could be due to (1) creating @tf.function repeatedly in a loop, (2) passing tensors with different shapes, (3) passing Python objects instead of tensors. For (1), please define your @tf.function outside of the loop. For (2), @tf.function has reduce_retracing=True option that can avoid unnecessary retracing. For (3), please refer to https://www.tensorflow.org/guide/function#controlling_retracing and https://www.tensorflow.org/api_docs/python/tf/function for  more details.\n",
      "1/1 [==============================] - 1s 568ms/step\n",
      "~~~~~~~ value_counts: ~~~~~~~\n",
      "1    90\n",
      "0    60\n",
      "Name: class, dtype: int64\n",
      "~~~~~~~~~~ Number of instances after balancing:  150  ~~~~~~~~~~\n",
      "~~~~~~~~~~ Number of instances before balancing:  120  ~~~~~~~~~~\n",
      "~~~~~~~ Training Loss: 0.015649430453777313  ~~~~~~~\n",
      "~~~~~~~ Validation Loss: 0.025806864723563194  ~~~~~~~\n",
      "WARNING:tensorflow:6 out of the last 10 calls to <function Model.make_predict_function.<locals>.predict_function at 0x000002799E4BAC10> triggered tf.function retracing. Tracing is expensive and the excessive number of tracings could be due to (1) creating @tf.function repeatedly in a loop, (2) passing tensors with different shapes, (3) passing Python objects instead of tensors. For (1), please define your @tf.function outside of the loop. For (2), @tf.function has reduce_retracing=True option that can avoid unnecessary retracing. For (3), please refer to https://www.tensorflow.org/guide/function#controlling_retracing and https://www.tensorflow.org/api_docs/python/tf/function for  more details.\n",
      "1/1 [==============================] - 0s 404ms/step\n",
      "~~~~~~~ value_counts: ~~~~~~~\n",
      "1    93\n",
      "0    54\n",
      "Name: class, dtype: int64\n",
      "~~~~~~~~~~ Number of instances after balancing:  147  ~~~~~~~~~~\n",
      "~~~~~~~~~~ SVM ~~~~~~~~~~~~~~~\n",
      "-----------kfold--------------- 0 ------------\n",
      "----SVM kfold---------- 0.7124731182795698 SVC(C=1, coef0=0.001, degree=5, kernel='poly')\n",
      "* 0-----------kfold--------------- 1 ------------\n"
     ]
    },
    {
     "name": "stderr",
     "output_type": "stream",
     "text": [
      "c:\\Users\\sbhuv\\AppData\\Local\\Programs\\Python\\Python38\\lib\\site-packages\\sklearn\\utils\\validation.py:1143: DataConversionWarning: A column-vector y was passed when a 1d array was expected. Please change the shape of y to (n_samples, ), for example using ravel().\n",
      "  y = column_or_1d(y, warn=True)\n"
     ]
    },
    {
     "name": "stdout",
     "output_type": "stream",
     "text": [
      "----SVM kfold---------- 0.8 SVC(C=1, coef0=0.001, degree=4, kernel='poly')\n",
      "* 1-----------kfold--------------- 2 ------------\n"
     ]
    },
    {
     "name": "stderr",
     "output_type": "stream",
     "text": [
      "c:\\Users\\sbhuv\\AppData\\Local\\Programs\\Python\\Python38\\lib\\site-packages\\sklearn\\utils\\validation.py:1143: DataConversionWarning: A column-vector y was passed when a 1d array was expected. Please change the shape of y to (n_samples, ), for example using ravel().\n",
      "  y = column_or_1d(y, warn=True)\n",
      "c:\\Users\\sbhuv\\AppData\\Local\\Programs\\Python\\Python38\\lib\\site-packages\\sklearn\\utils\\validation.py:1143: DataConversionWarning: A column-vector y was passed when a 1d array was expected. Please change the shape of y to (n_samples, ), for example using ravel().\n",
      "  y = column_or_1d(y, warn=True)\n"
     ]
    },
    {
     "name": "stdout",
     "output_type": "stream",
     "text": [
      "* 2*\n",
      "{'C': 11, 'break_ties': False, 'cache_size': 200, 'class_weight': None, 'coef0': 2.001, 'decision_function_shape': 'ovr', 'degree': 3, 'gamma': 'scale', 'kernel': 'poly', 'max_iter': -1, 'probability': False, 'random_state': None, 'shrinking': True, 'tol': 0.001, 'verbose': False}\n",
      "------run_cv runs successfully------------\n",
      "++++++++++++save_confusion_matrix++++++++++++\n"
     ]
    },
    {
     "name": "stderr",
     "output_type": "stream",
     "text": [
      "Classificationv3.py:353: UserWarning: FixedFormatter should only be used together with FixedLocator\n",
      "  axs[i].set_xticklabels([''] + ['0', '1'], fontsize='xx-large')\n",
      "Classificationv3.py:354: UserWarning: FixedFormatter should only be used together with FixedLocator\n",
      "  axs[i].set_yticklabels([''] + ['0', '1'], fontsize='xx-large')\n"
     ]
    },
    {
     "name": "stdout",
     "output_type": "stream",
     "text": [
      "++++++++++++save_confusion_matrix end++++++++++++\n",
      "(((((((((((((((((((((( draw droc ))))))))))))))))))))))))))))))\n",
      "(((((((( draw droc end ))))))))\n",
      "~~~~~~~~~~~~~~~~~ SB-008 ~~~~~~~~~~~~~~~~~~~~~~\n",
      "~~~~~~~~~~ Number of instances before balancing:  118  ~~~~~~~~~~\n",
      "~~~~~~~ Training Loss: 0.011904898099601269  ~~~~~~~\n",
      "~~~~~~~ Validation Loss: 0.013897798955440521  ~~~~~~~\n",
      "1/1 [==============================] - 0s 447ms/step\n",
      "~~~~~~~ value_counts: ~~~~~~~\n",
      "1    89\n",
      "0    58\n",
      "Name: class, dtype: int64\n",
      "~~~~~~~~~~ Number of instances after balancing:  147  ~~~~~~~~~~\n",
      "~~~~~~~~~~ Number of instances before balancing:  119  ~~~~~~~~~~\n",
      "~~~~~~~ Training Loss: 0.01557978056371212  ~~~~~~~\n",
      "~~~~~~~ Validation Loss: 0.01632164977490902  ~~~~~~~\n",
      "1/1 [==============================] - 0s 403ms/step\n",
      "~~~~~~~ value_counts: ~~~~~~~\n",
      "1    93\n",
      "0    52\n",
      "Name: class, dtype: int64\n",
      "~~~~~~~~~~ Number of instances after balancing:  145  ~~~~~~~~~~\n",
      "~~~~~~~~~~ Number of instances before balancing:  119  ~~~~~~~~~~\n",
      "~~~~~~~ Training Loss: 0.012375068850815296  ~~~~~~~\n",
      "~~~~~~~ Validation Loss: 0.021951159462332726  ~~~~~~~\n",
      "1/1 [==============================] - 0s 278ms/step\n",
      "~~~~~~~ value_counts: ~~~~~~~\n",
      "1    88\n",
      "0    62\n",
      "Name: class, dtype: int64\n",
      "~~~~~~~~~~ Number of instances after balancing:  150  ~~~~~~~~~~\n",
      "~~~~~~~~~~ SVM ~~~~~~~~~~~~~~~\n",
      "-----------kfold--------------- 0 ------------\n",
      "----SVM kfold---------- 0.8303448275862069 SVC(C=41, coef0=1.501, degree=4, gamma='auto', kernel='poly')\n",
      "* 0-----------kfold--------------- 1 ------------\n"
     ]
    },
    {
     "name": "stderr",
     "output_type": "stream",
     "text": [
      "c:\\Users\\sbhuv\\AppData\\Local\\Programs\\Python\\Python38\\lib\\site-packages\\sklearn\\utils\\validation.py:1143: DataConversionWarning: A column-vector y was passed when a 1d array was expected. Please change the shape of y to (n_samples, ), for example using ravel().\n",
      "  y = column_or_1d(y, warn=True)\n"
     ]
    },
    {
     "name": "stdout",
     "output_type": "stream",
     "text": [
      "----SVM kfold---------- 0.8482758620689654 SVC(C=11, coef0=0.001)\n",
      "* 1-----------kfold--------------- 2 ------------\n"
     ]
    },
    {
     "name": "stderr",
     "output_type": "stream",
     "text": [
      "c:\\Users\\sbhuv\\AppData\\Local\\Programs\\Python\\Python38\\lib\\site-packages\\sklearn\\utils\\validation.py:1143: DataConversionWarning: A column-vector y was passed when a 1d array was expected. Please change the shape of y to (n_samples, ), for example using ravel().\n",
      "  y = column_or_1d(y, warn=True)\n"
     ]
    },
    {
     "name": "stdout",
     "output_type": "stream",
     "text": [
      "----SVM kfold---------- 0.8666666666666668 SVC(C=21, coef0=0.001, kernel='poly')\n",
      "* 2*\n",
      "{'C': 21, 'break_ties': False, 'cache_size': 200, 'class_weight': None, 'coef0': 0.001, 'decision_function_shape': 'ovr', 'degree': 3, 'gamma': 'scale', 'kernel': 'poly', 'max_iter': -1, 'probability': False, 'random_state': None, 'shrinking': True, 'tol': 0.001, 'verbose': False}\n",
      "------run_cv runs successfully------------\n",
      "++++++++++++save_confusion_matrix++++++++++++\n"
     ]
    },
    {
     "name": "stderr",
     "output_type": "stream",
     "text": [
      "c:\\Users\\sbhuv\\AppData\\Local\\Programs\\Python\\Python38\\lib\\site-packages\\sklearn\\utils\\validation.py:1143: DataConversionWarning: A column-vector y was passed when a 1d array was expected. Please change the shape of y to (n_samples, ), for example using ravel().\n",
      "  y = column_or_1d(y, warn=True)\n",
      "Classificationv3.py:353: UserWarning: FixedFormatter should only be used together with FixedLocator\n",
      "  axs[i].set_xticklabels([''] + ['0', '1'], fontsize='xx-large')\n",
      "Classificationv3.py:354: UserWarning: FixedFormatter should only be used together with FixedLocator\n",
      "  axs[i].set_yticklabels([''] + ['0', '1'], fontsize='xx-large')\n"
     ]
    },
    {
     "name": "stdout",
     "output_type": "stream",
     "text": [
      "++++++++++++save_confusion_matrix end++++++++++++\n",
      "(((((((((((((((((((((( draw droc ))))))))))))))))))))))))))))))\n",
      "(((((((( draw droc end ))))))))\n",
      "~~~~~~~~~~~~~~~~~ SB-011 ~~~~~~~~~~~~~~~~~~~~~~\n",
      "~~~~~~~~~~ Number of instances before balancing:  140  ~~~~~~~~~~\n",
      "~~~~~~~ Training Loss: 0.008179153315722942  ~~~~~~~\n",
      "~~~~~~~ Validation Loss: 0.014561086893081665  ~~~~~~~\n",
      "2/2 [==============================] - 0s 5ms/step\n",
      "~~~~~~~ value_counts: ~~~~~~~\n",
      "0    100\n",
      "1     90\n",
      "Name: class, dtype: int64\n",
      "~~~~~~~~~~ Number of instances after balancing:  190  ~~~~~~~~~~\n",
      "~~~~~~~~~~ Number of instances before balancing:  140  ~~~~~~~~~~\n",
      "~~~~~~~ Training Loss: 0.014460042119026184  ~~~~~~~\n",
      "~~~~~~~ Validation Loss: 0.01954137720167637  ~~~~~~~\n",
      "2/2 [==============================] - 0s 6ms/step\n",
      "~~~~~~~ value_counts: ~~~~~~~\n",
      "1    96\n",
      "0    88\n",
      "Name: class, dtype: int64\n",
      "~~~~~~~~~~ Number of instances after balancing:  184  ~~~~~~~~~~\n",
      "~~~~~~~~~~ Number of instances before balancing:  140  ~~~~~~~~~~\n",
      "~~~~~~~ Training Loss: 0.007981844246387482  ~~~~~~~\n",
      "~~~~~~~ Validation Loss: 0.011079836636781693  ~~~~~~~\n",
      "1/1 [==============================] - 0s 226ms/step\n",
      "~~~~~~~ value_counts: ~~~~~~~\n",
      "1    108\n",
      "0     64\n",
      "Name: class, dtype: int64\n",
      "~~~~~~~~~~ Number of instances after balancing:  172  ~~~~~~~~~~\n",
      "~~~~~~~~~~ SVM ~~~~~~~~~~~~~~~\n",
      "-----------kfold--------------- 0 ------------\n",
      "----SVM kfold---------- 0.9368421052631579 SVC(C=11, coef0=2.501, gamma='auto', kernel='poly')\n",
      "* 0-----------kfold--------------- 1 ------------\n"
     ]
    },
    {
     "name": "stderr",
     "output_type": "stream",
     "text": [
      "c:\\Users\\sbhuv\\AppData\\Local\\Programs\\Python\\Python38\\lib\\site-packages\\sklearn\\utils\\validation.py:1143: DataConversionWarning: A column-vector y was passed when a 1d array was expected. Please change the shape of y to (n_samples, ), for example using ravel().\n",
      "  y = column_or_1d(y, warn=True)\n"
     ]
    },
    {
     "name": "stdout",
     "output_type": "stream",
     "text": [
      "----SVM kfold---------- 0.9403903903903904 SVC(C=1, coef0=0.001)\n",
      "* 1-----------kfold--------------- 2 ------------\n"
     ]
    },
    {
     "name": "stderr",
     "output_type": "stream",
     "text": [
      "c:\\Users\\sbhuv\\AppData\\Local\\Programs\\Python\\Python38\\lib\\site-packages\\sklearn\\utils\\validation.py:1143: DataConversionWarning: A column-vector y was passed when a 1d array was expected. Please change the shape of y to (n_samples, ), for example using ravel().\n",
      "  y = column_or_1d(y, warn=True)\n",
      "c:\\Users\\sbhuv\\AppData\\Local\\Programs\\Python\\Python38\\lib\\site-packages\\sklearn\\utils\\validation.py:1143: DataConversionWarning: A column-vector y was passed when a 1d array was expected. Please change the shape of y to (n_samples, ), for example using ravel().\n",
      "  y = column_or_1d(y, warn=True)\n",
      "Classificationv3.py:353: UserWarning: FixedFormatter should only be used together with FixedLocator\n",
      "  axs[i].set_xticklabels([''] + ['0', '1'], fontsize='xx-large')\n"
     ]
    },
    {
     "name": "stdout",
     "output_type": "stream",
     "text": [
      "* 2*\n",
      "{'C': 1, 'break_ties': False, 'cache_size': 200, 'class_weight': None, 'coef0': 2.001, 'decision_function_shape': 'ovr', 'degree': 5, 'gamma': 'auto', 'kernel': 'poly', 'max_iter': -1, 'probability': False, 'random_state': None, 'shrinking': True, 'tol': 0.001, 'verbose': False}\n",
      "------run_cv runs successfully------------\n",
      "++++++++++++save_confusion_matrix++++++++++++\n"
     ]
    },
    {
     "name": "stderr",
     "output_type": "stream",
     "text": [
      "Classificationv3.py:354: UserWarning: FixedFormatter should only be used together with FixedLocator\n",
      "  axs[i].set_yticklabels([''] + ['0', '1'], fontsize='xx-large')\n"
     ]
    },
    {
     "name": "stdout",
     "output_type": "stream",
     "text": [
      "++++++++++++save_confusion_matrix end++++++++++++\n",
      "(((((((((((((((((((((( draw droc ))))))))))))))))))))))))))))))\n",
      "(((((((( draw droc end ))))))))\n",
      "~~~~~~~~~~~~~~~~~ SB-012 ~~~~~~~~~~~~~~~~~~~~~~\n",
      "~~~~~~~~~~ Number of instances before balancing:  129  ~~~~~~~~~~\n",
      "~~~~~~~ Training Loss: 0.008230234496295452  ~~~~~~~\n",
      "~~~~~~~ Validation Loss: 0.021606426686048508  ~~~~~~~\n",
      "2/2 [==============================] - 0s 6ms/step\n",
      "~~~~~~~ value_counts: ~~~~~~~\n",
      "1    91\n",
      "0    76\n",
      "Name: class, dtype: int64\n",
      "~~~~~~~~~~ Number of instances after balancing:  167  ~~~~~~~~~~\n",
      "~~~~~~~~~~ Number of instances before balancing:  129  ~~~~~~~~~~\n",
      "~~~~~~~ Training Loss: 0.007240213453769684  ~~~~~~~\n",
      "~~~~~~~ Validation Loss: 0.01813208870589733  ~~~~~~~\n",
      "2/2 [==============================] - 0s 7ms/step\n",
      "~~~~~~~ value_counts: ~~~~~~~\n",
      "1    89\n",
      "0    80\n",
      "Name: class, dtype: int64\n",
      "~~~~~~~~~~ Number of instances after balancing:  169  ~~~~~~~~~~\n",
      "~~~~~~~~~~ Number of instances before balancing:  130  ~~~~~~~~~~\n",
      "~~~~~~~ Training Loss: 0.007920341566205025  ~~~~~~~\n",
      "~~~~~~~ Validation Loss: 0.015165592543780804  ~~~~~~~\n",
      "2/2 [==============================] - 0s 6ms/step\n",
      "~~~~~~~ value_counts: ~~~~~~~\n",
      "1    94\n",
      "0    72\n",
      "Name: class, dtype: int64\n",
      "~~~~~~~~~~ Number of instances after balancing:  166  ~~~~~~~~~~\n",
      "~~~~~~~~~~ SVM ~~~~~~~~~~~~~~~\n",
      "-----------kfold--------------- 0 ------------\n",
      "----SVM kfold---------- 0.8499108734402853 SVC(C=31, coef0=1.501, degree=5, gamma='auto', kernel='poly')\n",
      "* 0-----------kfold--------------- 1 ------------\n"
     ]
    },
    {
     "name": "stderr",
     "output_type": "stream",
     "text": [
      "c:\\Users\\sbhuv\\AppData\\Local\\Programs\\Python\\Python38\\lib\\site-packages\\sklearn\\utils\\validation.py:1143: DataConversionWarning: A column-vector y was passed when a 1d array was expected. Please change the shape of y to (n_samples, ), for example using ravel().\n",
      "  y = column_or_1d(y, warn=True)\n",
      "c:\\Users\\sbhuv\\AppData\\Local\\Programs\\Python\\Python38\\lib\\site-packages\\sklearn\\utils\\validation.py:1143: DataConversionWarning: A column-vector y was passed when a 1d array was expected. Please change the shape of y to (n_samples, ), for example using ravel().\n",
      "  y = column_or_1d(y, warn=True)\n"
     ]
    },
    {
     "name": "stdout",
     "output_type": "stream",
     "text": [
      "* 1-----------kfold--------------- 2 ------------\n"
     ]
    },
    {
     "name": "stderr",
     "output_type": "stream",
     "text": [
      "c:\\Users\\sbhuv\\AppData\\Local\\Programs\\Python\\Python38\\lib\\site-packages\\sklearn\\utils\\validation.py:1143: DataConversionWarning: A column-vector y was passed when a 1d array was expected. Please change the shape of y to (n_samples, ), for example using ravel().\n",
      "  y = column_or_1d(y, warn=True)\n",
      "Classificationv3.py:353: UserWarning: FixedFormatter should only be used together with FixedLocator\n",
      "  axs[i].set_xticklabels([''] + ['0', '1'], fontsize='xx-large')\n",
      "Classificationv3.py:354: UserWarning: FixedFormatter should only be used together with FixedLocator\n",
      "  axs[i].set_yticklabels([''] + ['0', '1'], fontsize='xx-large')\n"
     ]
    },
    {
     "name": "stdout",
     "output_type": "stream",
     "text": [
      "* 2*\n",
      "{'C': 11, 'break_ties': False, 'cache_size': 200, 'class_weight': None, 'coef0': 0.001, 'decision_function_shape': 'ovr', 'degree': 3, 'gamma': 'scale', 'kernel': 'rbf', 'max_iter': -1, 'probability': False, 'random_state': None, 'shrinking': True, 'tol': 0.001, 'verbose': False}\n",
      "------run_cv runs successfully------------\n",
      "++++++++++++save_confusion_matrix++++++++++++\n",
      "++++++++++++save_confusion_matrix end++++++++++++\n",
      "(((((((((((((((((((((( draw droc ))))))))))))))))))))))))))))))\n",
      "(((((((( draw droc end ))))))))\n",
      "~~~~~~~~~~~~~~~~~ SB-022 ~~~~~~~~~~~~~~~~~~~~~~\n",
      "~~~~~~~~~~ Number of instances before balancing:  136  ~~~~~~~~~~\n",
      "~~~~~~~ Training Loss: 0.009346849285066128  ~~~~~~~\n",
      "~~~~~~~ Validation Loss: 0.016324492171406746  ~~~~~~~\n",
      "2/2 [==============================] - 0s 5ms/step\n",
      "~~~~~~~ value_counts: ~~~~~~~\n",
      "1    97\n",
      "0    78\n",
      "Name: class, dtype: int64\n",
      "~~~~~~~~~~ Number of instances after balancing:  175  ~~~~~~~~~~\n",
      "~~~~~~~~~~ Number of instances before balancing:  136  ~~~~~~~~~~\n",
      "~~~~~~~ Training Loss: 0.009958256967365742  ~~~~~~~\n",
      "~~~~~~~ Validation Loss: 0.011134793050587177  ~~~~~~~\n",
      "2/2 [==============================] - 0s 8ms/step\n",
      "~~~~~~~ value_counts: ~~~~~~~\n",
      "1    96\n",
      "0    80\n",
      "Name: class, dtype: int64\n",
      "~~~~~~~~~~ Number of instances after balancing:  176  ~~~~~~~~~~\n",
      "~~~~~~~~~~ Number of instances before balancing:  136  ~~~~~~~~~~\n",
      "~~~~~~~ Training Loss: 0.010189441032707691  ~~~~~~~\n",
      "~~~~~~~ Validation Loss: 0.02009394019842148  ~~~~~~~\n",
      "2/2 [==============================] - 0s 5ms/step\n",
      "~~~~~~~ value_counts: ~~~~~~~\n",
      "1    93\n",
      "0    86\n",
      "Name: class, dtype: int64\n",
      "~~~~~~~~~~ Number of instances after balancing:  179  ~~~~~~~~~~\n",
      "~~~~~~~~~~ SVM ~~~~~~~~~~~~~~~\n",
      "-----------kfold--------------- 0 ------------\n",
      "----SVM kfold---------- 0.7771428571428572 SVC(C=1, coef0=0.001)\n",
      "* 0-----------kfold--------------- 1 ------------\n"
     ]
    },
    {
     "name": "stderr",
     "output_type": "stream",
     "text": [
      "c:\\Users\\sbhuv\\AppData\\Local\\Programs\\Python\\Python38\\lib\\site-packages\\sklearn\\utils\\validation.py:1143: DataConversionWarning: A column-vector y was passed when a 1d array was expected. Please change the shape of y to (n_samples, ), for example using ravel().\n",
      "  y = column_or_1d(y, warn=True)\n"
     ]
    },
    {
     "name": "stdout",
     "output_type": "stream",
     "text": [
      "----SVM kfold---------- 0.8069841269841269 SVC(C=21, coef0=1.001, gamma='auto', kernel='poly')\n",
      "* 1-----------kfold--------------- 2 ------------\n"
     ]
    },
    {
     "name": "stderr",
     "output_type": "stream",
     "text": [
      "c:\\Users\\sbhuv\\AppData\\Local\\Programs\\Python\\Python38\\lib\\site-packages\\sklearn\\utils\\validation.py:1143: DataConversionWarning: A column-vector y was passed when a 1d array was expected. Please change the shape of y to (n_samples, ), for example using ravel().\n",
      "  y = column_or_1d(y, warn=True)\n"
     ]
    },
    {
     "name": "stdout",
     "output_type": "stream",
     "text": [
      "----SVM kfold---------- 0.8155555555555557 SVC(C=31, coef0=0.001)\n",
      "* 2*\n",
      "{'C': 31, 'break_ties': False, 'cache_size': 200, 'class_weight': None, 'coef0': 0.001, 'decision_function_shape': 'ovr', 'degree': 3, 'gamma': 'scale', 'kernel': 'rbf', 'max_iter': -1, 'probability': False, 'random_state': None, 'shrinking': True, 'tol': 0.001, 'verbose': False}\n",
      "------run_cv runs successfully------------\n",
      "++++++++++++save_confusion_matrix++++++++++++\n"
     ]
    },
    {
     "name": "stderr",
     "output_type": "stream",
     "text": [
      "c:\\Users\\sbhuv\\AppData\\Local\\Programs\\Python\\Python38\\lib\\site-packages\\sklearn\\utils\\validation.py:1143: DataConversionWarning: A column-vector y was passed when a 1d array was expected. Please change the shape of y to (n_samples, ), for example using ravel().\n",
      "  y = column_or_1d(y, warn=True)\n",
      "Classificationv3.py:353: UserWarning: FixedFormatter should only be used together with FixedLocator\n",
      "  axs[i].set_xticklabels([''] + ['0', '1'], fontsize='xx-large')\n",
      "Classificationv3.py:354: UserWarning: FixedFormatter should only be used together with FixedLocator\n",
      "  axs[i].set_yticklabels([''] + ['0', '1'], fontsize='xx-large')\n"
     ]
    },
    {
     "name": "stdout",
     "output_type": "stream",
     "text": [
      "++++++++++++save_confusion_matrix end++++++++++++\n",
      "(((((((((((((((((((((( draw droc ))))))))))))))))))))))))))))))\n",
      "(((((((( draw droc end ))))))))\n",
      "~~~~~~~~~~~~~~~~~ SB-023 ~~~~~~~~~~~~~~~~~~~~~~\n",
      "~~~~~~~~~~ Number of instances before balancing:  129  ~~~~~~~~~~\n",
      "~~~~~~~ Training Loss: 0.00978706032037735  ~~~~~~~\n",
      "~~~~~~~ Validation Loss: 0.017848139628767967  ~~~~~~~\n",
      "2/2 [==============================] - 0s 5ms/step\n",
      "~~~~~~~ value_counts: ~~~~~~~\n",
      "1    91\n",
      "0    76\n",
      "Name: class, dtype: int64\n",
      "~~~~~~~~~~ Number of instances after balancing:  167  ~~~~~~~~~~\n",
      "~~~~~~~~~~ Number of instances before balancing:  129  ~~~~~~~~~~\n",
      "~~~~~~~ Training Loss: 0.010455348528921604  ~~~~~~~\n",
      "~~~~~~~ Validation Loss: 0.021883612498641014  ~~~~~~~\n",
      "2/2 [==============================] - 0s 7ms/step\n",
      "~~~~~~~ value_counts: ~~~~~~~\n",
      "1    88\n",
      "0    82\n",
      "Name: class, dtype: int64\n",
      "~~~~~~~~~~ Number of instances after balancing:  170  ~~~~~~~~~~\n",
      "~~~~~~~~~~ Number of instances before balancing:  130  ~~~~~~~~~~\n",
      "~~~~~~~ Training Loss: 0.008496629074215889  ~~~~~~~\n",
      "~~~~~~~ Validation Loss: 0.020671255886554718  ~~~~~~~\n",
      "2/2 [==============================] - 0s 5ms/step\n",
      "~~~~~~~ value_counts: ~~~~~~~\n",
      "1    89\n",
      "0    82\n",
      "Name: class, dtype: int64\n",
      "~~~~~~~~~~ Number of instances after balancing:  171  ~~~~~~~~~~\n",
      "~~~~~~~~~~ SVM ~~~~~~~~~~~~~~~\n",
      "-----------kfold--------------- 0 ------------\n",
      "----SVM kfold---------- 0.7486631016042782 SVC(C=31, coef0=0.001)\n",
      "* 0-----------kfold--------------- 1 ------------\n"
     ]
    },
    {
     "name": "stderr",
     "output_type": "stream",
     "text": [
      "c:\\Users\\sbhuv\\AppData\\Local\\Programs\\Python\\Python38\\lib\\site-packages\\sklearn\\utils\\validation.py:1143: DataConversionWarning: A column-vector y was passed when a 1d array was expected. Please change the shape of y to (n_samples, ), for example using ravel().\n",
      "  y = column_or_1d(y, warn=True)\n"
     ]
    },
    {
     "name": "stdout",
     "output_type": "stream",
     "text": [
      "----SVM kfold---------- 0.8058823529411765 SVC(C=11, coef0=0.501, kernel='poly')\n",
      "* 1-----------kfold--------------- 2 ------------\n"
     ]
    },
    {
     "name": "stderr",
     "output_type": "stream",
     "text": [
      "c:\\Users\\sbhuv\\AppData\\Local\\Programs\\Python\\Python38\\lib\\site-packages\\sklearn\\utils\\validation.py:1143: DataConversionWarning: A column-vector y was passed when a 1d array was expected. Please change the shape of y to (n_samples, ), for example using ravel().\n",
      "  y = column_or_1d(y, warn=True)\n",
      "c:\\Users\\sbhuv\\AppData\\Local\\Programs\\Python\\Python38\\lib\\site-packages\\sklearn\\utils\\validation.py:1143: DataConversionWarning: A column-vector y was passed when a 1d array was expected. Please change the shape of y to (n_samples, ), for example using ravel().\n",
      "  y = column_or_1d(y, warn=True)\n",
      "Classificationv3.py:353: UserWarning: FixedFormatter should only be used together with FixedLocator\n",
      "  axs[i].set_xticklabels([''] + ['0', '1'], fontsize='xx-large')\n",
      "Classificationv3.py:354: UserWarning: FixedFormatter should only be used together with FixedLocator\n",
      "  axs[i].set_yticklabels([''] + ['0', '1'], fontsize='xx-large')\n"
     ]
    },
    {
     "name": "stdout",
     "output_type": "stream",
     "text": [
      "* 2*\n",
      "{'C': 31, 'break_ties': False, 'cache_size': 200, 'class_weight': None, 'coef0': 0.001, 'decision_function_shape': 'ovr', 'degree': 3, 'gamma': 'scale', 'kernel': 'rbf', 'max_iter': -1, 'probability': False, 'random_state': None, 'shrinking': True, 'tol': 0.001, 'verbose': False}\n",
      "------run_cv runs successfully------------\n",
      "++++++++++++save_confusion_matrix++++++++++++\n",
      "++++++++++++save_confusion_matrix end++++++++++++\n",
      "(((((((((((((((((((((( draw droc ))))))))))))))))))))))))))))))\n",
      "(((((((( draw droc end ))))))))\n",
      "~~~~~~~~~~~~~~~~~ SB-025 ~~~~~~~~~~~~~~~~~~~~~~\n",
      "~~~~~~~~~~ Number of instances before balancing:  78  ~~~~~~~~~~\n",
      "~~~~~~~ Training Loss: 0.014493701048195362  ~~~~~~~\n",
      "~~~~~~~ Validation Loss: 0.019976839423179626  ~~~~~~~\n",
      "1/1 [==============================] - 0s 309ms/step\n",
      "~~~~~~~ value_counts: ~~~~~~~\n",
      "1    62\n",
      "0    32\n",
      "Name: class, dtype: int64\n",
      "~~~~~~~~~~ Number of instances after balancing:  94  ~~~~~~~~~~\n",
      "~~~~~~~~~~ Number of instances before balancing:  78  ~~~~~~~~~~\n",
      "~~~~~~~ Training Loss: 0.019142188131809235  ~~~~~~~\n",
      "~~~~~~~ Validation Loss: 0.04493170231580734  ~~~~~~~\n",
      "1/1 [==============================] - 0s 351ms/step\n",
      "~~~~~~~ value_counts: ~~~~~~~\n",
      "1    61\n",
      "0    34\n",
      "Name: class, dtype: int64\n",
      "~~~~~~~~~~ Number of instances after balancing:  95  ~~~~~~~~~~\n",
      "~~~~~~~~~~ Number of instances before balancing:  78  ~~~~~~~~~~\n",
      "~~~~~~~ Training Loss: 0.0187057051807642  ~~~~~~~\n",
      "~~~~~~~ Validation Loss: 0.04853689670562744  ~~~~~~~\n",
      "1/1 [==============================] - 0s 360ms/step\n",
      "~~~~~~~ value_counts: ~~~~~~~\n",
      "1    61\n",
      "0    34\n",
      "Name: class, dtype: int64\n",
      "~~~~~~~~~~ Number of instances after balancing:  95  ~~~~~~~~~~\n",
      "~~~~~~~~~~ SVM ~~~~~~~~~~~~~~~\n",
      "-----------kfold--------------- 0 ------------\n",
      "----SVM kfold---------- 0.8298245614035087 SVC(C=41, coef0=0.001, gamma='auto', kernel='linear')\n",
      "* 0-----------kfold--------------- 1 ------------\n"
     ]
    },
    {
     "name": "stderr",
     "output_type": "stream",
     "text": [
      "c:\\Users\\sbhuv\\AppData\\Local\\Programs\\Python\\Python38\\lib\\site-packages\\sklearn\\utils\\validation.py:1143: DataConversionWarning: A column-vector y was passed when a 1d array was expected. Please change the shape of y to (n_samples, ), for example using ravel().\n",
      "  y = column_or_1d(y, warn=True)\n"
     ]
    },
    {
     "name": "stdout",
     "output_type": "stream",
     "text": [
      "----SVM kfold---------- 0.8315789473684211 SVC(C=21, coef0=2.501, gamma='auto', kernel='poly')\n",
      "* 1-----------kfold--------------- 2 ------------\n"
     ]
    },
    {
     "name": "stderr",
     "output_type": "stream",
     "text": [
      "c:\\Users\\sbhuv\\AppData\\Local\\Programs\\Python\\Python38\\lib\\site-packages\\sklearn\\utils\\validation.py:1143: DataConversionWarning: A column-vector y was passed when a 1d array was expected. Please change the shape of y to (n_samples, ), for example using ravel().\n",
      "  y = column_or_1d(y, warn=True)\n",
      "c:\\Users\\sbhuv\\AppData\\Local\\Programs\\Python\\Python38\\lib\\site-packages\\sklearn\\utils\\validation.py:1143: DataConversionWarning: A column-vector y was passed when a 1d array was expected. Please change the shape of y to (n_samples, ), for example using ravel().\n",
      "  y = column_or_1d(y, warn=True)\n",
      "Classificationv3.py:353: UserWarning: FixedFormatter should only be used together with FixedLocator\n",
      "  axs[i].set_xticklabels([''] + ['0', '1'], fontsize='xx-large')\n",
      "Classificationv3.py:354: UserWarning: FixedFormatter should only be used together with FixedLocator\n",
      "  axs[i].set_yticklabels([''] + ['0', '1'], fontsize='xx-large')\n"
     ]
    },
    {
     "name": "stdout",
     "output_type": "stream",
     "text": [
      "* 2*\n",
      "{'C': 21, 'break_ties': False, 'cache_size': 200, 'class_weight': None, 'coef0': 0.001, 'decision_function_shape': 'ovr', 'degree': 3, 'gamma': 'scale', 'kernel': 'rbf', 'max_iter': -1, 'probability': False, 'random_state': None, 'shrinking': True, 'tol': 0.001, 'verbose': False}\n",
      "------run_cv runs successfully------------\n",
      "++++++++++++save_confusion_matrix++++++++++++\n",
      "++++++++++++save_confusion_matrix end++++++++++++\n",
      "(((((((((((((((((((((( draw droc ))))))))))))))))))))))))))))))\n",
      "(((((((( draw droc end ))))))))\n",
      "~~~~~~~~~~~~~~~~~ SB-028 ~~~~~~~~~~~~~~~~~~~~~~\n",
      "~~~~~~~~~~ Number of instances before balancing:  61  ~~~~~~~~~~\n",
      "~~~~~~~ Training Loss: 0.010495837777853012  ~~~~~~~\n",
      "~~~~~~~ Validation Loss: 0.04252701997756958  ~~~~~~~\n",
      "1/1 [==============================] - 0s 302ms/step\n",
      "~~~~~~~ value_counts: ~~~~~~~\n",
      "1    44\n",
      "0    34\n",
      "Name: class, dtype: int64\n",
      "~~~~~~~~~~ Number of instances after balancing:  78  ~~~~~~~~~~\n",
      "~~~~~~~~~~ Number of instances before balancing:  61  ~~~~~~~~~~\n",
      "~~~~~~~ Training Loss: 0.010159934870898724  ~~~~~~~\n",
      "~~~~~~~ Validation Loss: 0.012358433566987514  ~~~~~~~\n",
      "1/1 [==============================] - 0s 291ms/step\n",
      "~~~~~~~ value_counts: ~~~~~~~\n",
      "1    43\n",
      "0    36\n",
      "Name: class, dtype: int64\n",
      "~~~~~~~~~~ Number of instances after balancing:  79  ~~~~~~~~~~\n",
      "~~~~~~~~~~ Number of instances before balancing:  62  ~~~~~~~~~~\n",
      "~~~~~~~ Training Loss: 0.01957586780190468  ~~~~~~~\n",
      "~~~~~~~ Validation Loss: 0.02396625280380249  ~~~~~~~\n",
      "1/1 [==============================] - 0s 291ms/step\n",
      "~~~~~~~ value_counts: ~~~~~~~\n",
      "0    42\n",
      "1    41\n",
      "Name: class, dtype: int64\n",
      "~~~~~~~~~~ Number of instances after balancing:  83  ~~~~~~~~~~\n",
      "~~~~~~~~~~ SVM ~~~~~~~~~~~~~~~\n",
      "-----------kfold--------------- 0 ------------\n",
      "----SVM kfold---------- 0.8433333333333334 SVC(C=31, coef0=1.001, gamma='auto', kernel='poly')\n",
      "* 0-----------kfold--------------- 1 ------------\n"
     ]
    },
    {
     "name": "stderr",
     "output_type": "stream",
     "text": [
      "c:\\Users\\sbhuv\\AppData\\Local\\Programs\\Python\\Python38\\lib\\site-packages\\sklearn\\utils\\validation.py:1143: DataConversionWarning: A column-vector y was passed when a 1d array was expected. Please change the shape of y to (n_samples, ), for example using ravel().\n",
      "  y = column_or_1d(y, warn=True)\n"
     ]
    },
    {
     "name": "stdout",
     "output_type": "stream",
     "text": [
      "----SVM kfold---------- 0.86 SVC(C=11, coef0=0.001)\n",
      "* 1-----------kfold--------------- 2 ------------\n"
     ]
    },
    {
     "name": "stderr",
     "output_type": "stream",
     "text": [
      "c:\\Users\\sbhuv\\AppData\\Local\\Programs\\Python\\Python38\\lib\\site-packages\\sklearn\\utils\\validation.py:1143: DataConversionWarning: A column-vector y was passed when a 1d array was expected. Please change the shape of y to (n_samples, ), for example using ravel().\n",
      "  y = column_or_1d(y, warn=True)\n",
      "c:\\Users\\sbhuv\\AppData\\Local\\Programs\\Python\\Python38\\lib\\site-packages\\sklearn\\utils\\validation.py:1143: DataConversionWarning: A column-vector y was passed when a 1d array was expected. Please change the shape of y to (n_samples, ), for example using ravel().\n",
      "  y = column_or_1d(y, warn=True)\n",
      "Classificationv3.py:353: UserWarning: FixedFormatter should only be used together with FixedLocator\n",
      "  axs[i].set_xticklabels([''] + ['0', '1'], fontsize='xx-large')\n",
      "Classificationv3.py:354: UserWarning: FixedFormatter should only be used together with FixedLocator\n",
      "  axs[i].set_yticklabels([''] + ['0', '1'], fontsize='xx-large')\n"
     ]
    },
    {
     "name": "stdout",
     "output_type": "stream",
     "text": [
      "* 2*\n",
      "{'C': 11, 'break_ties': False, 'cache_size': 200, 'class_weight': None, 'coef0': 1.501, 'decision_function_shape': 'ovr', 'degree': 3, 'gamma': 'auto', 'kernel': 'poly', 'max_iter': -1, 'probability': False, 'random_state': None, 'shrinking': True, 'tol': 0.001, 'verbose': False}\n",
      "------run_cv runs successfully------------\n",
      "++++++++++++save_confusion_matrix++++++++++++\n",
      "++++++++++++save_confusion_matrix end++++++++++++\n",
      "(((((((((((((((((((((( draw droc ))))))))))))))))))))))))))))))\n",
      "(((((((( draw droc end ))))))))\n",
      "~~~~~~~~~~~~~~~~~ SB-033 ~~~~~~~~~~~~~~~~~~~~~~\n",
      "~~~~~~~~~~ Number of instances before balancing:  35  ~~~~~~~~~~\n",
      "~~~~~~~ Training Loss: 0.01292209792882204  ~~~~~~~\n",
      "~~~~~~~ Validation Loss: 0.015997018665075302  ~~~~~~~\n",
      "1/1 [==============================] - 0s 337ms/step\n",
      "~~~~~~~ value_counts: ~~~~~~~\n",
      "0    34\n",
      "1    18\n",
      "Name: class, dtype: int64\n",
      "~~~~~~~~~~ Number of instances after balancing:  52  ~~~~~~~~~~\n",
      "~~~~~~~~~~ Number of instances before balancing:  35  ~~~~~~~~~~\n",
      "~~~~~~~ Training Loss: 0.018493277952075005  ~~~~~~~\n",
      "~~~~~~~ Validation Loss: 0.022540107369422913  ~~~~~~~\n",
      "1/1 [==============================] - 0s 211ms/step\n",
      "~~~~~~~ value_counts: ~~~~~~~\n",
      "0    26\n",
      "1    22\n",
      "Name: class, dtype: int64\n",
      "~~~~~~~~~~ Number of instances after balancing:  48  ~~~~~~~~~~\n",
      "~~~~~~~~~~ Number of instances before balancing:  36  ~~~~~~~~~~\n",
      "~~~~~~~ Training Loss: 0.017910370603203773  ~~~~~~~\n",
      "~~~~~~~ Validation Loss: 0.024009544402360916  ~~~~~~~\n",
      "1/1 [==============================] - 0s 341ms/step\n",
      "~~~~~~~ value_counts: ~~~~~~~\n",
      "0    32\n",
      "1    20\n",
      "Name: class, dtype: int64\n",
      "~~~~~~~~~~ Number of instances after balancing:  52  ~~~~~~~~~~\n",
      "~~~~~~~~~~ SVM ~~~~~~~~~~~~~~~\n",
      "-----------kfold--------------- 0 ------------\n",
      "----SVM kfold---------- 0.7527272727272728 SVC(C=21, coef0=2.501, degree=4, gamma='auto', kernel='poly')\n",
      "* 0-----------kfold--------------- 1 ------------\n"
     ]
    },
    {
     "name": "stderr",
     "output_type": "stream",
     "text": [
      "c:\\Users\\sbhuv\\AppData\\Local\\Programs\\Python\\Python38\\lib\\site-packages\\sklearn\\utils\\validation.py:1143: DataConversionWarning: A column-vector y was passed when a 1d array was expected. Please change the shape of y to (n_samples, ), for example using ravel().\n",
      "  y = column_or_1d(y, warn=True)\n",
      "c:\\Users\\sbhuv\\AppData\\Local\\Programs\\Python\\Python38\\lib\\site-packages\\sklearn\\utils\\validation.py:1143: DataConversionWarning: A column-vector y was passed when a 1d array was expected. Please change the shape of y to (n_samples, ), for example using ravel().\n",
      "  y = column_or_1d(y, warn=True)\n"
     ]
    },
    {
     "name": "stdout",
     "output_type": "stream",
     "text": [
      "* 1-----------kfold--------------- 2 ------------\n",
      "----SVM kfold---------- 0.8436363636363637 SVC(C=1, coef0=2.001, degree=4, gamma='auto', kernel='poly')\n",
      "* 2*\n",
      "{'C': 1, 'break_ties': False, 'cache_size': 200, 'class_weight': None, 'coef0': 2.001, 'decision_function_shape': 'ovr', 'degree': 4, 'gamma': 'auto', 'kernel': 'poly', 'max_iter': -1, 'probability': False, 'random_state': None, 'shrinking': True, 'tol': 0.001, 'verbose': False}\n",
      "------run_cv runs successfully------------\n",
      "++++++++++++save_confusion_matrix++++++++++++\n"
     ]
    },
    {
     "name": "stderr",
     "output_type": "stream",
     "text": [
      "c:\\Users\\sbhuv\\AppData\\Local\\Programs\\Python\\Python38\\lib\\site-packages\\sklearn\\utils\\validation.py:1143: DataConversionWarning: A column-vector y was passed when a 1d array was expected. Please change the shape of y to (n_samples, ), for example using ravel().\n",
      "  y = column_or_1d(y, warn=True)\n",
      "Classificationv3.py:353: UserWarning: FixedFormatter should only be used together with FixedLocator\n",
      "  axs[i].set_xticklabels([''] + ['0', '1'], fontsize='xx-large')\n",
      "Classificationv3.py:354: UserWarning: FixedFormatter should only be used together with FixedLocator\n",
      "  axs[i].set_yticklabels([''] + ['0', '1'], fontsize='xx-large')\n"
     ]
    },
    {
     "name": "stdout",
     "output_type": "stream",
     "text": [
      "++++++++++++save_confusion_matrix end++++++++++++\n",
      "(((((((((((((((((((((( draw droc ))))))))))))))))))))))))))))))\n",
      "(((((((( draw droc end ))))))))\n",
      "~~~~~~~~~~~~~~~~~ SB-037 ~~~~~~~~~~~~~~~~~~~~~~\n",
      "~~~~~~~~~~ Number of instances before balancing:  140  ~~~~~~~~~~\n",
      "~~~~~~~ Training Loss: 0.012461967766284943  ~~~~~~~\n",
      "~~~~~~~ Validation Loss: 0.02305966056883335  ~~~~~~~\n",
      "2/2 [==============================] - 0s 4ms/step\n",
      "~~~~~~~ value_counts: ~~~~~~~\n",
      "1    95\n",
      "0    90\n",
      "Name: class, dtype: int64\n",
      "~~~~~~~~~~ Number of instances after balancing:  185  ~~~~~~~~~~\n",
      "~~~~~~~~~~ Number of instances before balancing:  140  ~~~~~~~~~~\n",
      "~~~~~~~ Training Loss: 0.015347909182310104  ~~~~~~~\n",
      "~~~~~~~ Validation Loss: 0.028434747830033302  ~~~~~~~\n",
      "2/2 [==============================] - 0s 12ms/step\n",
      "~~~~~~~ value_counts: ~~~~~~~\n",
      "1    96\n",
      "0    88\n",
      "Name: class, dtype: int64\n",
      "~~~~~~~~~~ Number of instances after balancing:  184  ~~~~~~~~~~\n",
      "~~~~~~~~~~ Number of instances before balancing:  140  ~~~~~~~~~~\n",
      "~~~~~~~ Training Loss: 0.010321926325559616  ~~~~~~~\n",
      "~~~~~~~ Validation Loss: 0.018259767442941666  ~~~~~~~\n",
      "2/2 [==============================] - 0s 5ms/step\n",
      "~~~~~~~ value_counts: ~~~~~~~\n",
      "1    103\n",
      "0     74\n",
      "Name: class, dtype: int64\n",
      "~~~~~~~~~~ Number of instances after balancing:  177  ~~~~~~~~~~\n",
      "~~~~~~~~~~ SVM ~~~~~~~~~~~~~~~\n",
      "-----------kfold--------------- 0 ------------\n",
      "----SVM kfold---------- 0.7621621621621621 SVC(C=11, coef0=2.501, degree=5, gamma='auto', kernel='poly')\n",
      "* 0-----------kfold--------------- 1 ------------\n"
     ]
    },
    {
     "name": "stderr",
     "output_type": "stream",
     "text": [
      "c:\\Users\\sbhuv\\AppData\\Local\\Programs\\Python\\Python38\\lib\\site-packages\\sklearn\\utils\\validation.py:1143: DataConversionWarning: A column-vector y was passed when a 1d array was expected. Please change the shape of y to (n_samples, ), for example using ravel().\n",
      "  y = column_or_1d(y, warn=True)\n",
      "c:\\Users\\sbhuv\\AppData\\Local\\Programs\\Python\\Python38\\lib\\site-packages\\sklearn\\utils\\validation.py:1143: DataConversionWarning: A column-vector y was passed when a 1d array was expected. Please change the shape of y to (n_samples, ), for example using ravel().\n",
      "  y = column_or_1d(y, warn=True)\n"
     ]
    },
    {
     "name": "stdout",
     "output_type": "stream",
     "text": [
      "* 1-----------kfold--------------- 2 ------------\n",
      "----SVM kfold---------- 0.8134920634920635 SVC(C=41, coef0=1.001, degree=5, gamma='auto', kernel='poly')\n",
      "* 2*\n",
      "{'C': 41, 'break_ties': False, 'cache_size': 200, 'class_weight': None, 'coef0': 1.001, 'decision_function_shape': 'ovr', 'degree': 5, 'gamma': 'auto', 'kernel': 'poly', 'max_iter': -1, 'probability': False, 'random_state': None, 'shrinking': True, 'tol': 0.001, 'verbose': False}\n",
      "------run_cv runs successfully------------\n",
      "++++++++++++save_confusion_matrix++++++++++++\n"
     ]
    },
    {
     "name": "stderr",
     "output_type": "stream",
     "text": [
      "c:\\Users\\sbhuv\\AppData\\Local\\Programs\\Python\\Python38\\lib\\site-packages\\sklearn\\utils\\validation.py:1143: DataConversionWarning: A column-vector y was passed when a 1d array was expected. Please change the shape of y to (n_samples, ), for example using ravel().\n",
      "  y = column_or_1d(y, warn=True)\n",
      "Classificationv3.py:353: UserWarning: FixedFormatter should only be used together with FixedLocator\n",
      "  axs[i].set_xticklabels([''] + ['0', '1'], fontsize='xx-large')\n",
      "Classificationv3.py:354: UserWarning: FixedFormatter should only be used together with FixedLocator\n",
      "  axs[i].set_yticklabels([''] + ['0', '1'], fontsize='xx-large')\n"
     ]
    },
    {
     "name": "stdout",
     "output_type": "stream",
     "text": [
      "++++++++++++save_confusion_matrix end++++++++++++\n",
      "(((((((((((((((((((((( draw droc ))))))))))))))))))))))))))))))\n",
      "(((((((( draw droc end ))))))))\n",
      "~~~~~~~~~~~~~~~~~ SB-043 ~~~~~~~~~~~~~~~~~~~~~~\n",
      "~~~~~~~~~~ Number of instances before balancing:  127  ~~~~~~~~~~\n",
      "~~~~~~~ Training Loss: 0.016323886811733246  ~~~~~~~\n",
      "~~~~~~~ Validation Loss: 0.023477938026189804  ~~~~~~~\n",
      "2/2 [==============================] - 0s 5ms/step\n",
      "~~~~~~~ value_counts: ~~~~~~~\n",
      "1    91\n",
      "0    72\n",
      "Name: class, dtype: int64\n",
      "~~~~~~~~~~ Number of instances after balancing:  163  ~~~~~~~~~~\n",
      "~~~~~~~~~~ Number of instances before balancing:  127  ~~~~~~~~~~\n",
      "~~~~~~~ Training Loss: 0.010067516937851906  ~~~~~~~\n",
      "~~~~~~~ Validation Loss: 0.020497241988778114  ~~~~~~~\n",
      "2/2 [==============================] - 0s 5ms/step\n",
      "~~~~~~~ value_counts: ~~~~~~~\n",
      "1    94\n",
      "0    66\n",
      "Name: class, dtype: int64\n",
      "~~~~~~~~~~ Number of instances after balancing:  160  ~~~~~~~~~~\n",
      "~~~~~~~~~~ Number of instances before balancing:  128  ~~~~~~~~~~\n",
      "~~~~~~~ Training Loss: 0.010706562548875809  ~~~~~~~\n",
      "~~~~~~~ Validation Loss: 0.01709495671093464  ~~~~~~~\n",
      "2/2 [==============================] - 0s 5ms/step\n",
      "~~~~~~~ value_counts: ~~~~~~~\n",
      "1    93\n",
      "0    70\n",
      "Name: class, dtype: int64\n",
      "~~~~~~~~~~ Number of instances after balancing:  163  ~~~~~~~~~~\n",
      "~~~~~~~~~~ SVM ~~~~~~~~~~~~~~~\n",
      "-----------kfold--------------- 0 ------------\n",
      "----SVM kfold---------- 0.8348484848484847 SVC(C=41, coef0=0.001, gamma='auto')\n",
      "* 0-----------kfold--------------- 1 ------------\n"
     ]
    },
    {
     "name": "stderr",
     "output_type": "stream",
     "text": [
      "c:\\Users\\sbhuv\\AppData\\Local\\Programs\\Python\\Python38\\lib\\site-packages\\sklearn\\utils\\validation.py:1143: DataConversionWarning: A column-vector y was passed when a 1d array was expected. Please change the shape of y to (n_samples, ), for example using ravel().\n",
      "  y = column_or_1d(y, warn=True)\n",
      "c:\\Users\\sbhuv\\AppData\\Local\\Programs\\Python\\Python38\\lib\\site-packages\\sklearn\\utils\\validation.py:1143: DataConversionWarning: A column-vector y was passed when a 1d array was expected. Please change the shape of y to (n_samples, ), for example using ravel().\n",
      "  y = column_or_1d(y, warn=True)\n"
     ]
    },
    {
     "name": "stdout",
     "output_type": "stream",
     "text": [
      "* 1-----------kfold--------------- 2 ------------\n"
     ]
    },
    {
     "name": "stderr",
     "output_type": "stream",
     "text": [
      "c:\\Users\\sbhuv\\AppData\\Local\\Programs\\Python\\Python38\\lib\\site-packages\\sklearn\\utils\\validation.py:1143: DataConversionWarning: A column-vector y was passed when a 1d array was expected. Please change the shape of y to (n_samples, ), for example using ravel().\n",
      "  y = column_or_1d(y, warn=True)\n",
      "Classificationv3.py:353: UserWarning: FixedFormatter should only be used together with FixedLocator\n",
      "  axs[i].set_xticklabels([''] + ['0', '1'], fontsize='xx-large')\n",
      "Classificationv3.py:354: UserWarning: FixedFormatter should only be used together with FixedLocator\n",
      "  axs[i].set_yticklabels([''] + ['0', '1'], fontsize='xx-large')\n"
     ]
    },
    {
     "name": "stdout",
     "output_type": "stream",
     "text": [
      "* 2*\n",
      "{'C': 21, 'break_ties': False, 'cache_size': 200, 'class_weight': None, 'coef0': 2.501, 'decision_function_shape': 'ovr', 'degree': 5, 'gamma': 'auto', 'kernel': 'poly', 'max_iter': -1, 'probability': False, 'random_state': None, 'shrinking': True, 'tol': 0.001, 'verbose': False}\n",
      "------run_cv runs successfully------------\n",
      "++++++++++++save_confusion_matrix++++++++++++\n",
      "++++++++++++save_confusion_matrix end++++++++++++\n",
      "(((((((((((((((((((((( draw droc ))))))))))))))))))))))))))))))\n",
      "(((((((( draw droc end ))))))))\n",
      "~~~~~~~~~~~~~~~~~ SB-056 ~~~~~~~~~~~~~~~~~~~~~~\n",
      "~~~~~~~~~~ Number of instances before balancing:  127  ~~~~~~~~~~\n",
      "~~~~~~~ Training Loss: 0.011202553287148476  ~~~~~~~\n",
      "~~~~~~~ Validation Loss: 0.019774213433265686  ~~~~~~~\n",
      "1/1 [==============================] - 0s 245ms/step\n",
      "~~~~~~~ value_counts: ~~~~~~~\n",
      "1    98\n",
      "0    58\n",
      "Name: class, dtype: int64\n",
      "~~~~~~~~~~ Number of instances after balancing:  156  ~~~~~~~~~~\n",
      "~~~~~~~~~~ Number of instances before balancing:  127  ~~~~~~~~~~\n",
      "~~~~~~~ Training Loss: 0.01735680364072323  ~~~~~~~\n",
      "~~~~~~~ Validation Loss: 0.0328085832297802  ~~~~~~~\n",
      "1/1 [==============================] - 0s 168ms/step\n",
      "~~~~~~~ value_counts: ~~~~~~~\n",
      "1    102\n",
      "0     50\n",
      "Name: class, dtype: int64\n",
      "~~~~~~~~~~ Number of instances after balancing:  152  ~~~~~~~~~~\n",
      "~~~~~~~~~~ Number of instances before balancing:  128  ~~~~~~~~~~\n",
      "~~~~~~~ Training Loss: 0.010618950240314007  ~~~~~~~\n",
      "~~~~~~~ Validation Loss: 0.026159392669796944  ~~~~~~~\n",
      "1/1 [==============================] - 0s 150ms/step\n",
      "~~~~~~~ value_counts: ~~~~~~~\n",
      "1    100\n",
      "0     56\n",
      "Name: class, dtype: int64\n",
      "~~~~~~~~~~ Number of instances after balancing:  156  ~~~~~~~~~~\n",
      "~~~~~~~~~~ SVM ~~~~~~~~~~~~~~~\n",
      "-----------kfold--------------- 0 ------------\n",
      "----SVM kfold---------- 0.839717741935484 SVC(C=31, coef0=0.001)\n",
      "* 0-----------kfold--------------- 1 ------------\n"
     ]
    },
    {
     "name": "stderr",
     "output_type": "stream",
     "text": [
      "c:\\Users\\sbhuv\\AppData\\Local\\Programs\\Python\\Python38\\lib\\site-packages\\sklearn\\utils\\validation.py:1143: DataConversionWarning: A column-vector y was passed when a 1d array was expected. Please change the shape of y to (n_samples, ), for example using ravel().\n",
      "  y = column_or_1d(y, warn=True)\n"
     ]
    },
    {
     "name": "stdout",
     "output_type": "stream",
     "text": [
      "----SVM kfold---------- 0.8879569892473118 SVC(C=41, coef0=0.501, degree=5, gamma='auto', kernel='poly')\n",
      "* 1-----------kfold--------------- 2 ------------\n"
     ]
    },
    {
     "name": "stderr",
     "output_type": "stream",
     "text": [
      "c:\\Users\\sbhuv\\AppData\\Local\\Programs\\Python\\Python38\\lib\\site-packages\\sklearn\\utils\\validation.py:1143: DataConversionWarning: A column-vector y was passed when a 1d array was expected. Please change the shape of y to (n_samples, ), for example using ravel().\n",
      "  y = column_or_1d(y, warn=True)\n",
      "c:\\Users\\sbhuv\\AppData\\Local\\Programs\\Python\\Python38\\lib\\site-packages\\sklearn\\utils\\validation.py:1143: DataConversionWarning: A column-vector y was passed when a 1d array was expected. Please change the shape of y to (n_samples, ), for example using ravel().\n",
      "  y = column_or_1d(y, warn=True)\n",
      "Classificationv3.py:353: UserWarning: FixedFormatter should only be used together with FixedLocator\n",
      "  axs[i].set_xticklabels([''] + ['0', '1'], fontsize='xx-large')\n",
      "Classificationv3.py:354: UserWarning: FixedFormatter should only be used together with FixedLocator\n",
      "  axs[i].set_yticklabels([''] + ['0', '1'], fontsize='xx-large')\n"
     ]
    },
    {
     "name": "stdout",
     "output_type": "stream",
     "text": [
      "* 2*\n",
      "{'C': 21, 'break_ties': False, 'cache_size': 200, 'class_weight': None, 'coef0': 0.001, 'decision_function_shape': 'ovr', 'degree': 3, 'gamma': 'scale', 'kernel': 'rbf', 'max_iter': -1, 'probability': False, 'random_state': None, 'shrinking': True, 'tol': 0.001, 'verbose': False}\n",
      "------run_cv runs successfully------------\n",
      "++++++++++++save_confusion_matrix++++++++++++\n",
      "++++++++++++save_confusion_matrix end++++++++++++\n",
      "(((((((((((((((((((((( draw droc ))))))))))))))))))))))))))))))\n",
      "(((((((( draw droc end ))))))))\n",
      "~~~~~~~~~~~~~~~~~ SB-059 ~~~~~~~~~~~~~~~~~~~~~~\n",
      "~~~~~~~~~~ Number of instances before balancing:  135  ~~~~~~~~~~\n",
      "~~~~~~~ Training Loss: 0.01248458493500948  ~~~~~~~\n",
      "~~~~~~~ Validation Loss: 0.01552947424352169  ~~~~~~~\n",
      "1/1 [==============================] - 0s 133ms/step\n",
      "~~~~~~~ value_counts: ~~~~~~~\n",
      "1    103\n",
      "0     64\n",
      "Name: class, dtype: int64\n",
      "~~~~~~~~~~ Number of instances after balancing:  167  ~~~~~~~~~~\n",
      "~~~~~~~~~~ Number of instances before balancing:  135  ~~~~~~~~~~\n",
      "~~~~~~~ Training Loss: 0.01621081866323948  ~~~~~~~\n",
      "~~~~~~~ Validation Loss: 0.016239427030086517  ~~~~~~~\n",
      "2/2 [==============================] - 0s 4ms/step\n",
      "~~~~~~~ value_counts: ~~~~~~~\n",
      "1    99\n",
      "0    72\n",
      "Name: class, dtype: int64\n",
      "~~~~~~~~~~ Number of instances after balancing:  171  ~~~~~~~~~~\n",
      "~~~~~~~~~~ Number of instances before balancing:  136  ~~~~~~~~~~\n",
      "~~~~~~~ Training Loss: 0.010337715968489647  ~~~~~~~\n",
      "~~~~~~~ Validation Loss: 0.025521792471408844  ~~~~~~~\n",
      "2/2 [==============================] - 0s 4ms/step\n",
      "~~~~~~~ value_counts: ~~~~~~~\n",
      "1    102\n",
      "0     68\n",
      "Name: class, dtype: int64\n",
      "~~~~~~~~~~ Number of instances after balancing:  170  ~~~~~~~~~~\n",
      "~~~~~~~~~~ SVM ~~~~~~~~~~~~~~~\n",
      "-----------kfold--------------- 0 ------------\n",
      "----SVM kfold---------- 0.7602495543672015 SVC(C=31, coef0=1.001, degree=4, gamma='auto', kernel='poly')\n",
      "* 0-----------kfold--------------- 1 ------------\n"
     ]
    },
    {
     "name": "stderr",
     "output_type": "stream",
     "text": [
      "c:\\Users\\sbhuv\\AppData\\Local\\Programs\\Python\\Python38\\lib\\site-packages\\sklearn\\utils\\validation.py:1143: DataConversionWarning: A column-vector y was passed when a 1d array was expected. Please change the shape of y to (n_samples, ), for example using ravel().\n",
      "  y = column_or_1d(y, warn=True)\n"
     ]
    },
    {
     "name": "stdout",
     "output_type": "stream",
     "text": [
      "----SVM kfold---------- 0.777983193277311 SVC(C=1, coef0=2.001, kernel='poly')\n",
      "* 1-----------kfold--------------- 2 ------------\n"
     ]
    },
    {
     "name": "stderr",
     "output_type": "stream",
     "text": [
      "c:\\Users\\sbhuv\\AppData\\Local\\Programs\\Python\\Python38\\lib\\site-packages\\sklearn\\utils\\validation.py:1143: DataConversionWarning: A column-vector y was passed when a 1d array was expected. Please change the shape of y to (n_samples, ), for example using ravel().\n",
      "  y = column_or_1d(y, warn=True)\n"
     ]
    },
    {
     "name": "stdout",
     "output_type": "stream",
     "text": [
      "----SVM kfold---------- 0.8176470588235294 SVC(C=1, coef0=2.501, degree=5, kernel='poly')\n",
      "* 2*\n",
      "{'C': 1, 'break_ties': False, 'cache_size': 200, 'class_weight': None, 'coef0': 2.501, 'decision_function_shape': 'ovr', 'degree': 5, 'gamma': 'scale', 'kernel': 'poly', 'max_iter': -1, 'probability': False, 'random_state': None, 'shrinking': True, 'tol': 0.001, 'verbose': False}\n",
      "------run_cv runs successfully------------\n",
      "++++++++++++save_confusion_matrix++++++++++++\n"
     ]
    },
    {
     "name": "stderr",
     "output_type": "stream",
     "text": [
      "c:\\Users\\sbhuv\\AppData\\Local\\Programs\\Python\\Python38\\lib\\site-packages\\sklearn\\utils\\validation.py:1143: DataConversionWarning: A column-vector y was passed when a 1d array was expected. Please change the shape of y to (n_samples, ), for example using ravel().\n",
      "  y = column_or_1d(y, warn=True)\n",
      "Classificationv3.py:353: UserWarning: FixedFormatter should only be used together with FixedLocator\n",
      "  axs[i].set_xticklabels([''] + ['0', '1'], fontsize='xx-large')\n",
      "Classificationv3.py:354: UserWarning: FixedFormatter should only be used together with FixedLocator\n",
      "  axs[i].set_yticklabels([''] + ['0', '1'], fontsize='xx-large')\n"
     ]
    },
    {
     "name": "stdout",
     "output_type": "stream",
     "text": [
      "++++++++++++save_confusion_matrix end++++++++++++\n",
      "(((((((((((((((((((((( draw droc ))))))))))))))))))))))))))))))\n",
      "(((((((( draw droc end ))))))))\n",
      "~~~~~~~~~~~~~~~~~ SB-060 ~~~~~~~~~~~~~~~~~~~~~~\n",
      "~~~~~~~~~~ Number of instances before balancing:  58  ~~~~~~~~~~\n",
      "~~~~~~~ Training Loss: 0.011309993453323841  ~~~~~~~\n",
      "~~~~~~~ Validation Loss: 0.019744474440813065  ~~~~~~~\n",
      "1/1 [==============================] - 0s 122ms/step\n",
      "~~~~~~~ value_counts: ~~~~~~~\n",
      "1    41\n",
      "0    34\n",
      "Name: class, dtype: int64\n",
      "~~~~~~~~~~ Number of instances after balancing:  75  ~~~~~~~~~~\n",
      "~~~~~~~~~~ Number of instances before balancing:  59  ~~~~~~~~~~\n",
      "~~~~~~~ Training Loss: 0.014115097001194954  ~~~~~~~\n",
      "~~~~~~~ Validation Loss: 0.026926880702376366  ~~~~~~~\n",
      "1/1 [==============================] - 0s 118ms/step\n",
      "~~~~~~~ value_counts: ~~~~~~~\n",
      "0    40\n",
      "1    39\n",
      "Name: class, dtype: int64\n",
      "~~~~~~~~~~ Number of instances after balancing:  79  ~~~~~~~~~~\n",
      "~~~~~~~~~~ Number of instances before balancing:  59  ~~~~~~~~~~\n",
      "~~~~~~~ Training Loss: 0.01679949462413788  ~~~~~~~\n",
      "~~~~~~~ Validation Loss: 0.01635601557791233  ~~~~~~~\n",
      "1/1 [==============================] - 0s 122ms/step\n",
      "~~~~~~~ value_counts: ~~~~~~~\n",
      "1    42\n",
      "0    34\n",
      "Name: class, dtype: int64\n",
      "~~~~~~~~~~ Number of instances after balancing:  76  ~~~~~~~~~~\n",
      "~~~~~~~~~~ SVM ~~~~~~~~~~~~~~~\n",
      "-----------kfold--------------- 0 ------------\n",
      "----SVM kfold---------- 0.8133333333333332 SVC(C=1, coef0=0.001)\n",
      "* 0-----------kfold--------------- 1 ------------\n"
     ]
    },
    {
     "name": "stderr",
     "output_type": "stream",
     "text": [
      "c:\\Users\\sbhuv\\AppData\\Local\\Programs\\Python\\Python38\\lib\\site-packages\\sklearn\\utils\\validation.py:1143: DataConversionWarning: A column-vector y was passed when a 1d array was expected. Please change the shape of y to (n_samples, ), for example using ravel().\n",
      "  y = column_or_1d(y, warn=True)\n"
     ]
    },
    {
     "name": "stdout",
     "output_type": "stream",
     "text": [
      "----SVM kfold---------- 0.86 SVC(C=31, coef0=1.501, degree=5, gamma='auto', kernel='poly')\n",
      "* 1-----------kfold--------------- 2 ------------\n"
     ]
    },
    {
     "name": "stderr",
     "output_type": "stream",
     "text": [
      "c:\\Users\\sbhuv\\AppData\\Local\\Programs\\Python\\Python38\\lib\\site-packages\\sklearn\\utils\\validation.py:1143: DataConversionWarning: A column-vector y was passed when a 1d array was expected. Please change the shape of y to (n_samples, ), for example using ravel().\n",
      "  y = column_or_1d(y, warn=True)\n",
      "c:\\Users\\sbhuv\\AppData\\Local\\Programs\\Python\\Python38\\lib\\site-packages\\sklearn\\utils\\validation.py:1143: DataConversionWarning: A column-vector y was passed when a 1d array was expected. Please change the shape of y to (n_samples, ), for example using ravel().\n",
      "  y = column_or_1d(y, warn=True)\n",
      "Classificationv3.py:353: UserWarning: FixedFormatter should only be used together with FixedLocator\n",
      "  axs[i].set_xticklabels([''] + ['0', '1'], fontsize='xx-large')\n",
      "Classificationv3.py:354: UserWarning: FixedFormatter should only be used together with FixedLocator\n",
      "  axs[i].set_yticklabels([''] + ['0', '1'], fontsize='xx-large')\n"
     ]
    },
    {
     "name": "stdout",
     "output_type": "stream",
     "text": [
      "* 2*\n",
      "{'C': 31, 'break_ties': False, 'cache_size': 200, 'class_weight': None, 'coef0': 1.001, 'decision_function_shape': 'ovr', 'degree': 5, 'gamma': 'auto', 'kernel': 'poly', 'max_iter': -1, 'probability': False, 'random_state': None, 'shrinking': True, 'tol': 0.001, 'verbose': False}\n",
      "------run_cv runs successfully------------\n",
      "++++++++++++save_confusion_matrix++++++++++++\n",
      "++++++++++++save_confusion_matrix end++++++++++++\n",
      "(((((((((((((((((((((( draw droc ))))))))))))))))))))))))))))))\n",
      "(((((((( draw droc end ))))))))\n",
      "~~~~~~~~~~~~~~~~~ SB-070 ~~~~~~~~~~~~~~~~~~~~~~\n",
      "~~~~~~~~~~ Number of instances before balancing:  134  ~~~~~~~~~~\n",
      "~~~~~~~ Training Loss: 0.012452147901058197  ~~~~~~~\n",
      "~~~~~~~ Validation Loss: 0.01908073015511036  ~~~~~~~\n",
      "2/2 [==============================] - 0s 3ms/step\n",
      "~~~~~~~ value_counts: ~~~~~~~\n",
      "1    95\n",
      "0    78\n",
      "Name: class, dtype: int64\n",
      "~~~~~~~~~~ Number of instances after balancing:  173  ~~~~~~~~~~\n",
      "~~~~~~~~~~ Number of instances before balancing:  135  ~~~~~~~~~~\n",
      "~~~~~~~ Training Loss: 0.00992624182254076  ~~~~~~~\n",
      "~~~~~~~ Validation Loss: 0.014260931871831417  ~~~~~~~\n",
      "2/2 [==============================] - 0s 4ms/step\n",
      "~~~~~~~ value_counts: ~~~~~~~\n",
      "1    93\n",
      "0    84\n",
      "Name: class, dtype: int64\n",
      "~~~~~~~~~~ Number of instances after balancing:  177  ~~~~~~~~~~\n",
      "~~~~~~~~~~ Number of instances before balancing:  135  ~~~~~~~~~~\n",
      "~~~~~~~ Training Loss: 0.011886863969266415  ~~~~~~~\n",
      "~~~~~~~ Validation Loss: 0.020302439108490944  ~~~~~~~\n",
      "2/2 [==============================] - 0s 3ms/step\n",
      "~~~~~~~ value_counts: ~~~~~~~\n",
      "1    96\n",
      "0    78\n",
      "Name: class, dtype: int64\n",
      "~~~~~~~~~~ Number of instances after balancing:  174  ~~~~~~~~~~\n",
      "~~~~~~~~~~ SVM ~~~~~~~~~~~~~~~\n",
      "-----------kfold--------------- 0 ------------\n",
      "----SVM kfold---------- 0.6821848739495799 SVC(C=11, coef0=0.001)\n",
      "* 0-----------kfold--------------- 1 ------------\n"
     ]
    },
    {
     "name": "stderr",
     "output_type": "stream",
     "text": [
      "c:\\Users\\sbhuv\\AppData\\Local\\Programs\\Python\\Python38\\lib\\site-packages\\sklearn\\utils\\validation.py:1143: DataConversionWarning: A column-vector y was passed when a 1d array was expected. Please change the shape of y to (n_samples, ), for example using ravel().\n",
      "  y = column_or_1d(y, warn=True)\n"
     ]
    },
    {
     "name": "stdout",
     "output_type": "stream",
     "text": [
      "----SVM kfold---------- 0.7457142857142858 SVC(C=31, coef0=0.001)\n",
      "* 1-----------kfold--------------- 2 ------------\n"
     ]
    },
    {
     "name": "stderr",
     "output_type": "stream",
     "text": [
      "c:\\Users\\sbhuv\\AppData\\Local\\Programs\\Python\\Python38\\lib\\site-packages\\sklearn\\utils\\validation.py:1143: DataConversionWarning: A column-vector y was passed when a 1d array was expected. Please change the shape of y to (n_samples, ), for example using ravel().\n",
      "  y = column_or_1d(y, warn=True)\n"
     ]
    },
    {
     "name": "stdout",
     "output_type": "stream",
     "text": [
      "----SVM kfold---------- 0.7642016806722689 SVC(C=1, coef0=0.001, kernel='poly')\n",
      "* 2*\n",
      "{'C': 1, 'break_ties': False, 'cache_size': 200, 'class_weight': None, 'coef0': 0.001, 'decision_function_shape': 'ovr', 'degree': 3, 'gamma': 'scale', 'kernel': 'poly', 'max_iter': -1, 'probability': False, 'random_state': None, 'shrinking': True, 'tol': 0.001, 'verbose': False}\n",
      "------run_cv runs successfully------------\n",
      "++++++++++++save_confusion_matrix++++++++++++\n"
     ]
    },
    {
     "name": "stderr",
     "output_type": "stream",
     "text": [
      "c:\\Users\\sbhuv\\AppData\\Local\\Programs\\Python\\Python38\\lib\\site-packages\\sklearn\\utils\\validation.py:1143: DataConversionWarning: A column-vector y was passed when a 1d array was expected. Please change the shape of y to (n_samples, ), for example using ravel().\n",
      "  y = column_or_1d(y, warn=True)\n",
      "Classificationv3.py:353: UserWarning: FixedFormatter should only be used together with FixedLocator\n",
      "  axs[i].set_xticklabels([''] + ['0', '1'], fontsize='xx-large')\n",
      "Classificationv3.py:354: UserWarning: FixedFormatter should only be used together with FixedLocator\n",
      "  axs[i].set_yticklabels([''] + ['0', '1'], fontsize='xx-large')\n"
     ]
    },
    {
     "name": "stdout",
     "output_type": "stream",
     "text": [
      "++++++++++++save_confusion_matrix end++++++++++++\n",
      "(((((((((((((((((((((( draw droc ))))))))))))))))))))))))))))))\n",
      "(((((((( draw droc end ))))))))\n",
      "~~~~~~~~~~~~~~~~~ SB-071 ~~~~~~~~~~~~~~~~~~~~~~\n",
      "~~~~~~~~~~ Number of instances before balancing:  82  ~~~~~~~~~~\n",
      "~~~~~~~ Training Loss: 0.01213734969496727  ~~~~~~~\n",
      "~~~~~~~ Validation Loss: 0.02243277244269848  ~~~~~~~\n",
      "1/1 [==============================] - 0s 126ms/step\n",
      "~~~~~~~ value_counts: ~~~~~~~\n",
      "1    71\n",
      "0    22\n",
      "Name: class, dtype: int64\n",
      "~~~~~~~~~~ Number of instances after balancing:  93  ~~~~~~~~~~\n",
      "~~~~~~~~~~ Number of instances before balancing:  83  ~~~~~~~~~~\n",
      "~~~~~~~ Training Loss: 0.007609369698911905  ~~~~~~~\n",
      "~~~~~~~ Validation Loss: 0.032536525279283524  ~~~~~~~\n",
      "1/1 [==============================] - 0s 141ms/step\n",
      "~~~~~~~ value_counts: ~~~~~~~\n",
      "1    73\n",
      "0    20\n",
      "Name: class, dtype: int64\n",
      "~~~~~~~~~~ Number of instances after balancing:  93  ~~~~~~~~~~\n",
      "~~~~~~~~~~ Number of instances before balancing:  83  ~~~~~~~~~~\n",
      "~~~~~~~ Training Loss: 0.016144506633281708  ~~~~~~~\n",
      "~~~~~~~ Validation Loss: 0.029600733891129494  ~~~~~~~\n",
      "1/1 [==============================] - 0s 215ms/step\n",
      "~~~~~~~ value_counts: ~~~~~~~\n",
      "1    66\n",
      "0    34\n",
      "Name: class, dtype: int64\n",
      "~~~~~~~~~~ Number of instances after balancing:  100  ~~~~~~~~~~\n",
      "~~~~~~~~~~ SVM ~~~~~~~~~~~~~~~\n",
      "-----------kfold--------------- 0 ------------\n",
      "----SVM kfold---------- 0.891812865497076 SVC(C=11, coef0=0.001)\n",
      "* 0-----------kfold--------------- 1 ------------\n"
     ]
    },
    {
     "name": "stderr",
     "output_type": "stream",
     "text": [
      "c:\\Users\\sbhuv\\AppData\\Local\\Programs\\Python\\Python38\\lib\\site-packages\\sklearn\\utils\\validation.py:1143: DataConversionWarning: A column-vector y was passed when a 1d array was expected. Please change the shape of y to (n_samples, ), for example using ravel().\n",
      "  y = column_or_1d(y, warn=True)\n",
      "c:\\Users\\sbhuv\\AppData\\Local\\Programs\\Python\\Python38\\lib\\site-packages\\sklearn\\utils\\validation.py:1143: DataConversionWarning: A column-vector y was passed when a 1d array was expected. Please change the shape of y to (n_samples, ), for example using ravel().\n",
      "  y = column_or_1d(y, warn=True)\n"
     ]
    },
    {
     "name": "stdout",
     "output_type": "stream",
     "text": [
      "* 1-----------kfold--------------- 2 ------------\n"
     ]
    },
    {
     "name": "stderr",
     "output_type": "stream",
     "text": [
      "c:\\Users\\sbhuv\\AppData\\Local\\Programs\\Python\\Python38\\lib\\site-packages\\sklearn\\utils\\validation.py:1143: DataConversionWarning: A column-vector y was passed when a 1d array was expected. Please change the shape of y to (n_samples, ), for example using ravel().\n",
      "  y = column_or_1d(y, warn=True)\n",
      "Classificationv3.py:353: UserWarning: FixedFormatter should only be used together with FixedLocator\n",
      "  axs[i].set_xticklabels([''] + ['0', '1'], fontsize='xx-large')\n",
      "Classificationv3.py:354: UserWarning: FixedFormatter should only be used together with FixedLocator\n",
      "  axs[i].set_yticklabels([''] + ['0', '1'], fontsize='xx-large')\n"
     ]
    },
    {
     "name": "stdout",
     "output_type": "stream",
     "text": [
      "* 2*\n",
      "{'C': 1, 'break_ties': False, 'cache_size': 200, 'class_weight': None, 'coef0': 0.001, 'decision_function_shape': 'ovr', 'degree': 3, 'gamma': 'scale', 'kernel': 'rbf', 'max_iter': -1, 'probability': False, 'random_state': None, 'shrinking': True, 'tol': 0.001, 'verbose': False}\n",
      "------run_cv runs successfully------------\n",
      "++++++++++++save_confusion_matrix++++++++++++\n",
      "++++++++++++save_confusion_matrix end++++++++++++\n",
      "(((((((((((((((((((((( draw droc ))))))))))))))))))))))))))))))\n",
      "(((((((( draw droc end ))))))))\n",
      "~~~~~~~~~~~~~~~~~ SB-073 ~~~~~~~~~~~~~~~~~~~~~~\n",
      "~~~~~~~~~~ Number of instances before balancing:  107  ~~~~~~~~~~\n",
      "~~~~~~~ Training Loss: 0.013981188647449017  ~~~~~~~\n",
      "~~~~~~~ Validation Loss: 0.027796929702162743  ~~~~~~~\n",
      "1/1 [==============================] - 0s 114ms/step\n",
      "~~~~~~~ value_counts: ~~~~~~~\n",
      "1    81\n",
      "0    52\n",
      "Name: class, dtype: int64\n",
      "~~~~~~~~~~ Number of instances after balancing:  133  ~~~~~~~~~~\n",
      "~~~~~~~~~~ Number of instances before balancing:  107  ~~~~~~~~~~\n",
      "~~~~~~~ Training Loss: 0.016699574887752533  ~~~~~~~\n",
      "~~~~~~~ Validation Loss: 0.019568154588341713  ~~~~~~~\n",
      "1/1 [==============================] - 0s 114ms/step\n",
      "~~~~~~~ value_counts: ~~~~~~~\n",
      "1    83\n",
      "0    48\n",
      "Name: class, dtype: int64\n",
      "~~~~~~~~~~ Number of instances after balancing:  131  ~~~~~~~~~~\n",
      "~~~~~~~~~~ Number of instances before balancing:  108  ~~~~~~~~~~\n",
      "~~~~~~~ Training Loss: 0.008415642194449902  ~~~~~~~\n",
      "~~~~~~~ Validation Loss: 0.014803304336965084  ~~~~~~~\n",
      "1/1 [==============================] - 0s 112ms/step\n",
      "~~~~~~~ value_counts: ~~~~~~~\n",
      "1    76\n",
      "0    64\n",
      "Name: class, dtype: int64\n",
      "~~~~~~~~~~ Number of instances after balancing:  140  ~~~~~~~~~~\n",
      "~~~~~~~~~~ SVM ~~~~~~~~~~~~~~~\n",
      "-----------kfold--------------- 0 ------------\n",
      "----SVM kfold---------- 0.8256410256410256 SVC(C=21, coef0=1.001, degree=5, gamma='auto', kernel='poly')\n",
      "* 0-----------kfold--------------- 1 ------------\n"
     ]
    },
    {
     "name": "stderr",
     "output_type": "stream",
     "text": [
      "c:\\Users\\sbhuv\\AppData\\Local\\Programs\\Python\\Python38\\lib\\site-packages\\sklearn\\utils\\validation.py:1143: DataConversionWarning: A column-vector y was passed when a 1d array was expected. Please change the shape of y to (n_samples, ), for example using ravel().\n",
      "  y = column_or_1d(y, warn=True)\n",
      "c:\\Users\\sbhuv\\AppData\\Local\\Programs\\Python\\Python38\\lib\\site-packages\\sklearn\\utils\\validation.py:1143: DataConversionWarning: A column-vector y was passed when a 1d array was expected. Please change the shape of y to (n_samples, ), for example using ravel().\n",
      "  y = column_or_1d(y, warn=True)\n"
     ]
    },
    {
     "name": "stdout",
     "output_type": "stream",
     "text": [
      "* 1-----------kfold--------------- 2 ------------\n",
      "----SVM kfold---------- 0.8428571428571429 SVC(C=11, coef0=1.501, degree=4, gamma='auto', kernel='poly')\n",
      "* 2*\n",
      "{'C': 11, 'break_ties': False, 'cache_size': 200, 'class_weight': None, 'coef0': 1.501, 'decision_function_shape': 'ovr', 'degree': 4, 'gamma': 'auto', 'kernel': 'poly', 'max_iter': -1, 'probability': False, 'random_state': None, 'shrinking': True, 'tol': 0.001, 'verbose': False}\n",
      "------run_cv runs successfully------------\n",
      "++++++++++++save_confusion_matrix++++++++++++\n"
     ]
    },
    {
     "name": "stderr",
     "output_type": "stream",
     "text": [
      "c:\\Users\\sbhuv\\AppData\\Local\\Programs\\Python\\Python38\\lib\\site-packages\\sklearn\\utils\\validation.py:1143: DataConversionWarning: A column-vector y was passed when a 1d array was expected. Please change the shape of y to (n_samples, ), for example using ravel().\n",
      "  y = column_or_1d(y, warn=True)\n",
      "Classificationv3.py:353: UserWarning: FixedFormatter should only be used together with FixedLocator\n",
      "  axs[i].set_xticklabels([''] + ['0', '1'], fontsize='xx-large')\n",
      "Classificationv3.py:354: UserWarning: FixedFormatter should only be used together with FixedLocator\n",
      "  axs[i].set_yticklabels([''] + ['0', '1'], fontsize='xx-large')\n"
     ]
    },
    {
     "name": "stdout",
     "output_type": "stream",
     "text": [
      "++++++++++++save_confusion_matrix end++++++++++++\n",
      "(((((((((((((((((((((( draw droc ))))))))))))))))))))))))))))))\n",
      "(((((((( draw droc end ))))))))\n",
      "~~~~~~~~~~~~~~~~~ SB-078 ~~~~~~~~~~~~~~~~~~~~~~\n",
      "~~~~~~~~~~ Number of instances before balancing:  102  ~~~~~~~~~~\n",
      "~~~~~~~ Training Loss: 0.009251570329070091  ~~~~~~~\n",
      "~~~~~~~ Validation Loss: 0.02634396404027939  ~~~~~~~\n",
      "1/1 [==============================] - 0s 112ms/step\n",
      "~~~~~~~ value_counts: ~~~~~~~\n",
      "1    70\n",
      "0    64\n",
      "Name: class, dtype: int64\n",
      "~~~~~~~~~~ Number of instances after balancing:  134  ~~~~~~~~~~\n",
      "~~~~~~~~~~ Number of instances before balancing:  102  ~~~~~~~~~~\n",
      "~~~~~~~ Training Loss: 0.01080220378935337  ~~~~~~~\n",
      "~~~~~~~ Validation Loss: 0.024965044111013412  ~~~~~~~\n",
      "1/1 [==============================] - 0s 117ms/step\n",
      "~~~~~~~ value_counts: ~~~~~~~\n",
      "1    73\n",
      "0    58\n",
      "Name: class, dtype: int64\n",
      "~~~~~~~~~~ Number of instances after balancing:  131  ~~~~~~~~~~\n",
      "~~~~~~~~~~ Number of instances before balancing:  102  ~~~~~~~~~~\n",
      "~~~~~~~ Training Loss: 0.008427722379565239  ~~~~~~~\n",
      "~~~~~~~ Validation Loss: 0.021069394424557686  ~~~~~~~\n",
      "1/1 [==============================] - 0s 113ms/step\n",
      "~~~~~~~ value_counts: ~~~~~~~\n",
      "1    71\n",
      "0    62\n",
      "Name: class, dtype: int64\n",
      "~~~~~~~~~~ Number of instances after balancing:  133  ~~~~~~~~~~\n",
      "~~~~~~~~~~ SVM ~~~~~~~~~~~~~~~\n",
      "-----------kfold--------------- 0 ------------\n",
      "----SVM kfold---------- 0.8578347578347578 SVC(C=11, coef0=0.001)\n",
      "* 0-----------kfold--------------- 1 ------------\n"
     ]
    },
    {
     "name": "stderr",
     "output_type": "stream",
     "text": [
      "c:\\Users\\sbhuv\\AppData\\Local\\Programs\\Python\\Python38\\lib\\site-packages\\sklearn\\utils\\validation.py:1143: DataConversionWarning: A column-vector y was passed when a 1d array was expected. Please change the shape of y to (n_samples, ), for example using ravel().\n",
      "  y = column_or_1d(y, warn=True)\n"
     ]
    },
    {
     "name": "stdout",
     "output_type": "stream",
     "text": [
      "----SVM kfold---------- 0.8700854700854702 SVC(C=11, coef0=0.001)\n",
      "* 1-----------kfold--------------- 2 ------------\n"
     ]
    },
    {
     "name": "stderr",
     "output_type": "stream",
     "text": [
      "c:\\Users\\sbhuv\\AppData\\Local\\Programs\\Python\\Python38\\lib\\site-packages\\sklearn\\utils\\validation.py:1143: DataConversionWarning: A column-vector y was passed when a 1d array was expected. Please change the shape of y to (n_samples, ), for example using ravel().\n",
      "  y = column_or_1d(y, warn=True)\n",
      "c:\\Users\\sbhuv\\AppData\\Local\\Programs\\Python\\Python38\\lib\\site-packages\\sklearn\\utils\\validation.py:1143: DataConversionWarning: A column-vector y was passed when a 1d array was expected. Please change the shape of y to (n_samples, ), for example using ravel().\n",
      "  y = column_or_1d(y, warn=True)\n",
      "Classificationv3.py:353: UserWarning: FixedFormatter should only be used together with FixedLocator\n",
      "  axs[i].set_xticklabels([''] + ['0', '1'], fontsize='xx-large')\n",
      "Classificationv3.py:354: UserWarning: FixedFormatter should only be used together with FixedLocator\n",
      "  axs[i].set_yticklabels([''] + ['0', '1'], fontsize='xx-large')\n"
     ]
    },
    {
     "name": "stdout",
     "output_type": "stream",
     "text": [
      "* 2*\n",
      "{'C': 21, 'break_ties': False, 'cache_size': 200, 'class_weight': None, 'coef0': 2.501, 'decision_function_shape': 'ovr', 'degree': 4, 'gamma': 'auto', 'kernel': 'poly', 'max_iter': -1, 'probability': False, 'random_state': None, 'shrinking': True, 'tol': 0.001, 'verbose': False}\n",
      "------run_cv runs successfully------------\n",
      "++++++++++++save_confusion_matrix++++++++++++\n",
      "++++++++++++save_confusion_matrix end++++++++++++\n",
      "(((((((((((((((((((((( draw droc ))))))))))))))))))))))))))))))\n",
      "(((((((( draw droc end ))))))))\n",
      "~~~~~~~~~~~~~~~~~ SB-079 ~~~~~~~~~~~~~~~~~~~~~~\n",
      "~~~~~~~~~~ Number of instances before balancing:  94  ~~~~~~~~~~\n",
      "~~~~~~~ Training Loss: 0.015651939436793327  ~~~~~~~\n",
      "~~~~~~~ Validation Loss: 0.02723575569689274  ~~~~~~~\n",
      "1/1 [==============================] - 0s 119ms/step\n",
      "~~~~~~~ value_counts: ~~~~~~~\n",
      "1    70\n",
      "0    48\n",
      "Name: class, dtype: int64\n",
      "~~~~~~~~~~ Number of instances after balancing:  118  ~~~~~~~~~~\n",
      "~~~~~~~~~~ Number of instances before balancing:  95  ~~~~~~~~~~\n",
      "~~~~~~~ Training Loss: 0.01477665826678276  ~~~~~~~\n",
      "~~~~~~~ Validation Loss: 0.019596679136157036  ~~~~~~~\n",
      "2/2 [==============================] - 0s 4ms/step\n",
      "~~~~~~~ value_counts: ~~~~~~~\n",
      "0    66\n",
      "1    62\n",
      "Name: class, dtype: int64\n",
      "~~~~~~~~~~ Number of instances after balancing:  128  ~~~~~~~~~~\n",
      "~~~~~~~~~~ Number of instances before balancing:  95  ~~~~~~~~~~\n",
      "~~~~~~~ Training Loss: 0.01563877798616886  ~~~~~~~\n",
      "~~~~~~~ Validation Loss: 0.03144660219550133  ~~~~~~~\n",
      "1/1 [==============================] - 0s 112ms/step\n",
      "~~~~~~~ value_counts: ~~~~~~~\n",
      "1    72\n",
      "0    46\n",
      "Name: class, dtype: int64\n",
      "~~~~~~~~~~ Number of instances after balancing:  118  ~~~~~~~~~~\n",
      "~~~~~~~~~~ SVM ~~~~~~~~~~~~~~~\n",
      "-----------kfold--------------- 0 ------------\n",
      "----SVM kfold---------- 0.8398550724637681 SVC(C=1, coef0=2.501, degree=4, gamma='auto', kernel='poly')\n",
      "* 0-----------kfold--------------- 1 ------------\n"
     ]
    },
    {
     "name": "stderr",
     "output_type": "stream",
     "text": [
      "c:\\Users\\sbhuv\\AppData\\Local\\Programs\\Python\\Python38\\lib\\site-packages\\sklearn\\utils\\validation.py:1143: DataConversionWarning: A column-vector y was passed when a 1d array was expected. Please change the shape of y to (n_samples, ), for example using ravel().\n",
      "  y = column_or_1d(y, warn=True)\n"
     ]
    },
    {
     "name": "stdout",
     "output_type": "stream",
     "text": [
      "----SVM kfold---------- 0.8670769230769231 SVC(C=1, coef0=1.501, degree=5, gamma='auto', kernel='poly')\n",
      "* 1-----------kfold--------------- 2 ------------\n"
     ]
    },
    {
     "name": "stderr",
     "output_type": "stream",
     "text": [
      "c:\\Users\\sbhuv\\AppData\\Local\\Programs\\Python\\Python38\\lib\\site-packages\\sklearn\\utils\\validation.py:1143: DataConversionWarning: A column-vector y was passed when a 1d array was expected. Please change the shape of y to (n_samples, ), for example using ravel().\n",
      "  y = column_or_1d(y, warn=True)\n",
      "c:\\Users\\sbhuv\\AppData\\Local\\Programs\\Python\\Python38\\lib\\site-packages\\sklearn\\utils\\validation.py:1143: DataConversionWarning: A column-vector y was passed when a 1d array was expected. Please change the shape of y to (n_samples, ), for example using ravel().\n",
      "  y = column_or_1d(y, warn=True)\n",
      "Classificationv3.py:353: UserWarning: FixedFormatter should only be used together with FixedLocator\n",
      "  axs[i].set_xticklabels([''] + ['0', '1'], fontsize='xx-large')\n",
      "Classificationv3.py:354: UserWarning: FixedFormatter should only be used together with FixedLocator\n",
      "  axs[i].set_yticklabels([''] + ['0', '1'], fontsize='xx-large')\n"
     ]
    },
    {
     "name": "stdout",
     "output_type": "stream",
     "text": [
      "* 2*\n",
      "{'C': 1, 'break_ties': False, 'cache_size': 200, 'class_weight': None, 'coef0': 2.001, 'decision_function_shape': 'ovr', 'degree': 3, 'gamma': 'scale', 'kernel': 'poly', 'max_iter': -1, 'probability': False, 'random_state': None, 'shrinking': True, 'tol': 0.001, 'verbose': False}\n",
      "------run_cv runs successfully------------\n",
      "++++++++++++save_confusion_matrix++++++++++++\n",
      "++++++++++++save_confusion_matrix end++++++++++++\n",
      "(((((((((((((((((((((( draw droc ))))))))))))))))))))))))))))))\n",
      "(((((((( draw droc end ))))))))\n",
      "~~~~~~~~~~~~~~~~~ SB-080 ~~~~~~~~~~~~~~~~~~~~~~\n",
      "~~~~~~~~~~ Number of instances before balancing:  120  ~~~~~~~~~~\n",
      "~~~~~~~ Training Loss: 0.008886219933629036  ~~~~~~~\n",
      "~~~~~~~ Validation Loss: 0.011327948421239853  ~~~~~~~\n",
      "2/2 [==============================] - 0s 3ms/step\n",
      "~~~~~~~ value_counts: ~~~~~~~\n",
      "1    83\n",
      "0    74\n",
      "Name: class, dtype: int64\n",
      "~~~~~~~~~~ Number of instances after balancing:  157  ~~~~~~~~~~\n",
      "~~~~~~~~~~ Number of instances before balancing:  121  ~~~~~~~~~~\n",
      "~~~~~~~ Training Loss: 0.01039291825145483  ~~~~~~~\n",
      "~~~~~~~ Validation Loss: 0.01328209973871708  ~~~~~~~\n",
      "2/2 [==============================] - 0s 3ms/step\n",
      "~~~~~~~ value_counts: ~~~~~~~\n",
      "1    86\n",
      "0    70\n",
      "Name: class, dtype: int64\n",
      "~~~~~~~~~~ Number of instances after balancing:  156  ~~~~~~~~~~\n",
      "~~~~~~~~~~ Number of instances before balancing:  121  ~~~~~~~~~~\n",
      "~~~~~~~ Training Loss: 0.007053690031170845  ~~~~~~~\n",
      "~~~~~~~ Validation Loss: 0.012213139794766903  ~~~~~~~\n",
      "2/2 [==============================] - 0s 3ms/step\n",
      "~~~~~~~ value_counts: ~~~~~~~\n",
      "1    87\n",
      "0    68\n",
      "Name: class, dtype: int64\n",
      "~~~~~~~~~~ Number of instances after balancing:  155  ~~~~~~~~~~\n",
      "~~~~~~~~~~ SVM ~~~~~~~~~~~~~~~\n",
      "-----------kfold--------------- 0 ------------\n",
      "----SVM kfold---------- 0.7897177419354839 SVC(C=21, coef0=0.001, kernel='poly')\n",
      "* 0-----------kfold--------------- 1 ------------\n"
     ]
    },
    {
     "name": "stderr",
     "output_type": "stream",
     "text": [
      "c:\\Users\\sbhuv\\AppData\\Local\\Programs\\Python\\Python38\\lib\\site-packages\\sklearn\\utils\\validation.py:1143: DataConversionWarning: A column-vector y was passed when a 1d array was expected. Please change the shape of y to (n_samples, ), for example using ravel().\n",
      "  y = column_or_1d(y, warn=True)\n",
      "c:\\Users\\sbhuv\\AppData\\Local\\Programs\\Python\\Python38\\lib\\site-packages\\sklearn\\utils\\validation.py:1143: DataConversionWarning: A column-vector y was passed when a 1d array was expected. Please change the shape of y to (n_samples, ), for example using ravel().\n",
      "  y = column_or_1d(y, warn=True)\n"
     ]
    },
    {
     "name": "stdout",
     "output_type": "stream",
     "text": [
      "* 1-----------kfold--------------- 2 ------------\n"
     ]
    },
    {
     "name": "stderr",
     "output_type": "stream",
     "text": [
      "c:\\Users\\sbhuv\\AppData\\Local\\Programs\\Python\\Python38\\lib\\site-packages\\sklearn\\utils\\validation.py:1143: DataConversionWarning: A column-vector y was passed when a 1d array was expected. Please change the shape of y to (n_samples, ), for example using ravel().\n",
      "  y = column_or_1d(y, warn=True)\n",
      "Classificationv3.py:353: UserWarning: FixedFormatter should only be used together with FixedLocator\n",
      "  axs[i].set_xticklabels([''] + ['0', '1'], fontsize='xx-large')\n",
      "Classificationv3.py:354: UserWarning: FixedFormatter should only be used together with FixedLocator\n",
      "  axs[i].set_yticklabels([''] + ['0', '1'], fontsize='xx-large')\n"
     ]
    },
    {
     "name": "stdout",
     "output_type": "stream",
     "text": [
      "* 2*\n",
      "{'C': 41, 'break_ties': False, 'cache_size': 200, 'class_weight': None, 'coef0': 2.501, 'decision_function_shape': 'ovr', 'degree': 5, 'gamma': 'auto', 'kernel': 'poly', 'max_iter': -1, 'probability': False, 'random_state': None, 'shrinking': True, 'tol': 0.001, 'verbose': False}\n",
      "------run_cv runs successfully------------\n",
      "++++++++++++save_confusion_matrix++++++++++++\n",
      "++++++++++++save_confusion_matrix end++++++++++++\n",
      "(((((((((((((((((((((( draw droc ))))))))))))))))))))))))))))))\n",
      "(((((((( draw droc end ))))))))\n",
      "~~~~~~~~~~~~~~~~~ SB-081 ~~~~~~~~~~~~~~~~~~~~~~\n",
      "~~~~~~~~~~ Number of instances before balancing:  22  ~~~~~~~~~~\n",
      "~~~~~~~ Training Loss: 0.010342697612941265  ~~~~~~~\n",
      "~~~~~~~ Validation Loss: 0.05630677565932274  ~~~~~~~\n",
      "1/1 [==============================] - 0s 117ms/step\n",
      "~~~~~~~ value_counts: ~~~~~~~\n",
      "0    18\n",
      "1    13\n",
      "Name: class, dtype: int64\n",
      "~~~~~~~~~~ Number of instances after balancing:  31  ~~~~~~~~~~\n",
      "~~~~~~~~~~ Number of instances before balancing:  23  ~~~~~~~~~~\n",
      "~~~~~~~ Training Loss: 0.012746648862957954  ~~~~~~~\n",
      "~~~~~~~ Validation Loss: 0.036896299570798874  ~~~~~~~\n",
      "1/1 [==============================] - 0s 111ms/step\n",
      "~~~~~~~ value_counts: ~~~~~~~\n",
      "0    20\n",
      "1    13\n",
      "Name: class, dtype: int64\n",
      "~~~~~~~~~~ Number of instances after balancing:  33  ~~~~~~~~~~\n",
      "~~~~~~~~~~ Number of instances before balancing:  23  ~~~~~~~~~~\n",
      "~~~~~~~ Training Loss: 0.010768908075988293  ~~~~~~~\n",
      "~~~~~~~ Validation Loss: 0.07914117723703384  ~~~~~~~\n",
      "1/1 [==============================] - 0s 128ms/step\n",
      "~~~~~~~ value_counts: ~~~~~~~\n",
      "0    18\n",
      "1    14\n",
      "Name: class, dtype: int64\n",
      "~~~~~~~~~~ Number of instances after balancing:  32  ~~~~~~~~~~\n",
      "~~~~~~~~~~ SVM ~~~~~~~~~~~~~~~\n",
      "-----------kfold--------------- 0 ------------\n",
      "----SVM kfold---------- 0.8142857142857143 SVC(C=1, coef0=0.001, kernel='poly')\n",
      "* 0-----------kfold--------------- 1 ------------\n"
     ]
    },
    {
     "name": "stderr",
     "output_type": "stream",
     "text": [
      "c:\\Users\\sbhuv\\AppData\\Local\\Programs\\Python\\Python38\\lib\\site-packages\\sklearn\\utils\\validation.py:1143: DataConversionWarning: A column-vector y was passed when a 1d array was expected. Please change the shape of y to (n_samples, ), for example using ravel().\n",
      "  y = column_or_1d(y, warn=True)\n"
     ]
    },
    {
     "name": "stdout",
     "output_type": "stream",
     "text": [
      "----SVM kfold---------- 0.9142857142857143 SVC(C=11, coef0=0.001)\n",
      "* 1-----------kfold--------------- 2 ------------\n"
     ]
    },
    {
     "name": "stderr",
     "output_type": "stream",
     "text": [
      "c:\\Users\\sbhuv\\AppData\\Local\\Programs\\Python\\Python38\\lib\\site-packages\\sklearn\\utils\\validation.py:1143: DataConversionWarning: A column-vector y was passed when a 1d array was expected. Please change the shape of y to (n_samples, ), for example using ravel().\n",
      "  y = column_or_1d(y, warn=True)\n",
      "c:\\Users\\sbhuv\\AppData\\Local\\Programs\\Python\\Python38\\lib\\site-packages\\sklearn\\utils\\validation.py:1143: DataConversionWarning: A column-vector y was passed when a 1d array was expected. Please change the shape of y to (n_samples, ), for example using ravel().\n",
      "  y = column_or_1d(y, warn=True)\n",
      "Classificationv3.py:353: UserWarning: FixedFormatter should only be used together with FixedLocator\n",
      "  axs[i].set_xticklabels([''] + ['0', '1'], fontsize='xx-large')\n",
      "Classificationv3.py:354: UserWarning: FixedFormatter should only be used together with FixedLocator\n",
      "  axs[i].set_yticklabels([''] + ['0', '1'], fontsize='xx-large')\n"
     ]
    },
    {
     "name": "stdout",
     "output_type": "stream",
     "text": [
      "* 2*\n",
      "{'C': 11, 'break_ties': False, 'cache_size': 200, 'class_weight': None, 'coef0': 0.001, 'decision_function_shape': 'ovr', 'degree': 3, 'gamma': 'scale', 'kernel': 'rbf', 'max_iter': -1, 'probability': False, 'random_state': None, 'shrinking': True, 'tol': 0.001, 'verbose': False}\n",
      "------run_cv runs successfully------------\n",
      "++++++++++++save_confusion_matrix++++++++++++\n",
      "++++++++++++save_confusion_matrix end++++++++++++\n",
      "(((((((((((((((((((((( draw droc ))))))))))))))))))))))))))))))\n",
      "(((((((( draw droc end ))))))))\n",
      "~~~~~~~~~~~~~~~~~ SB-082 ~~~~~~~~~~~~~~~~~~~~~~\n",
      "~~~~~~~~~~ Number of instances before balancing:  91  ~~~~~~~~~~\n",
      "~~~~~~~ Training Loss: 0.008984179235994816  ~~~~~~~\n",
      "~~~~~~~ Validation Loss: 0.020024333149194717  ~~~~~~~\n",
      "2/2 [==============================] - 0s 4ms/step\n",
      "~~~~~~~ value_counts: ~~~~~~~\n",
      "0    74\n",
      "1    54\n",
      "Name: class, dtype: int64\n",
      "~~~~~~~~~~ Number of instances after balancing:  128  ~~~~~~~~~~\n",
      "~~~~~~~~~~ Number of instances before balancing:  91  ~~~~~~~~~~\n",
      "~~~~~~~ Training Loss: 0.020534934476017952  ~~~~~~~\n",
      "~~~~~~~ Validation Loss: 0.0279216505587101  ~~~~~~~\n",
      "2/2 [==============================] - 0s 3ms/step\n",
      "~~~~~~~ value_counts: ~~~~~~~\n",
      "0    68\n",
      "1    57\n",
      "Name: class, dtype: int64\n",
      "~~~~~~~~~~ Number of instances after balancing:  125  ~~~~~~~~~~\n",
      "~~~~~~~~~~ Number of instances before balancing:  92  ~~~~~~~~~~\n",
      "~~~~~~~ Training Loss: 0.014720030128955841  ~~~~~~~\n",
      "~~~~~~~ Validation Loss: 0.02166258543729782  ~~~~~~~\n",
      "2/2 [==============================] - 0s 4ms/step\n",
      "~~~~~~~ value_counts: ~~~~~~~\n",
      "0    66\n",
      "1    59\n",
      "Name: class, dtype: int64\n",
      "~~~~~~~~~~ Number of instances after balancing:  125  ~~~~~~~~~~\n",
      "~~~~~~~~~~ SVM ~~~~~~~~~~~~~~~\n",
      "-----------kfold--------------- 0 ------------\n",
      "----SVM kfold---------- 0.7738461538461537 SVC(C=1, coef0=1.001, kernel='poly')\n",
      "* 0-----------kfold--------------- 1 ------------\n"
     ]
    },
    {
     "name": "stderr",
     "output_type": "stream",
     "text": [
      "c:\\Users\\sbhuv\\AppData\\Local\\Programs\\Python\\Python38\\lib\\site-packages\\sklearn\\utils\\validation.py:1143: DataConversionWarning: A column-vector y was passed when a 1d array was expected. Please change the shape of y to (n_samples, ), for example using ravel().\n",
      "  y = column_or_1d(y, warn=True)\n"
     ]
    },
    {
     "name": "stdout",
     "output_type": "stream",
     "text": [
      "----SVM kfold---------- 0.776 SVC(C=21, coef0=2.001, gamma='auto', kernel='poly')\n",
      "* 1-----------kfold--------------- 2 ------------\n"
     ]
    },
    {
     "name": "stderr",
     "output_type": "stream",
     "text": [
      "c:\\Users\\sbhuv\\AppData\\Local\\Programs\\Python\\Python38\\lib\\site-packages\\sklearn\\utils\\validation.py:1143: DataConversionWarning: A column-vector y was passed when a 1d array was expected. Please change the shape of y to (n_samples, ), for example using ravel().\n",
      "  y = column_or_1d(y, warn=True)\n"
     ]
    },
    {
     "name": "stdout",
     "output_type": "stream",
     "text": [
      "----SVM kfold---------- 0.8 SVC(C=1, coef0=2.001, degree=5, gamma='auto', kernel='poly')\n",
      "* 2*\n",
      "{'C': 1, 'break_ties': False, 'cache_size': 200, 'class_weight': None, 'coef0': 2.001, 'decision_function_shape': 'ovr', 'degree': 5, 'gamma': 'auto', 'kernel': 'poly', 'max_iter': -1, 'probability': False, 'random_state': None, 'shrinking': True, 'tol': 0.001, 'verbose': False}\n",
      "------run_cv runs successfully------------\n",
      "++++++++++++save_confusion_matrix++++++++++++\n"
     ]
    },
    {
     "name": "stderr",
     "output_type": "stream",
     "text": [
      "c:\\Users\\sbhuv\\AppData\\Local\\Programs\\Python\\Python38\\lib\\site-packages\\sklearn\\utils\\validation.py:1143: DataConversionWarning: A column-vector y was passed when a 1d array was expected. Please change the shape of y to (n_samples, ), for example using ravel().\n",
      "  y = column_or_1d(y, warn=True)\n",
      "Classificationv3.py:353: UserWarning: FixedFormatter should only be used together with FixedLocator\n",
      "  axs[i].set_xticklabels([''] + ['0', '1'], fontsize='xx-large')\n",
      "Classificationv3.py:354: UserWarning: FixedFormatter should only be used together with FixedLocator\n",
      "  axs[i].set_yticklabels([''] + ['0', '1'], fontsize='xx-large')\n"
     ]
    },
    {
     "name": "stdout",
     "output_type": "stream",
     "text": [
      "++++++++++++save_confusion_matrix end++++++++++++\n",
      "(((((((((((((((((((((( draw droc ))))))))))))))))))))))))))))))\n",
      "(((((((( draw droc end ))))))))\n",
      "~~~~~~~~~~~~~~~~~ SB-083 ~~~~~~~~~~~~~~~~~~~~~~\n",
      "~~~~~~~~~~ Number of instances before balancing:  137  ~~~~~~~~~~\n",
      "~~~~~~~ Training Loss: 0.007081994321197271  ~~~~~~~\n",
      "~~~~~~~ Validation Loss: 0.026266910135746002  ~~~~~~~\n",
      "2/2 [==============================] - 0s 4ms/step\n",
      "~~~~~~~ value_counts: ~~~~~~~\n",
      "1    103\n",
      "0     68\n",
      "Name: class, dtype: int64\n",
      "~~~~~~~~~~ Number of instances after balancing:  171  ~~~~~~~~~~\n",
      "~~~~~~~~~~ Number of instances before balancing:  137  ~~~~~~~~~~\n",
      "~~~~~~~ Training Loss: 0.008713139221072197  ~~~~~~~\n",
      "~~~~~~~ Validation Loss: 0.013585218228399754  ~~~~~~~\n",
      "2/2 [==============================] - 0s 3ms/step\n",
      "~~~~~~~ value_counts: ~~~~~~~\n",
      "1    94\n",
      "0    86\n",
      "Name: class, dtype: int64\n",
      "~~~~~~~~~~ Number of instances after balancing:  180  ~~~~~~~~~~\n",
      "~~~~~~~~~~ Number of instances before balancing:  138  ~~~~~~~~~~\n",
      "~~~~~~~ Training Loss: 0.010867401957511902  ~~~~~~~\n",
      "~~~~~~~ Validation Loss: 0.018610935658216476  ~~~~~~~\n",
      "2/2 [==============================] - 0s 4ms/step\n",
      "~~~~~~~ value_counts: ~~~~~~~\n",
      "0    94\n",
      "1    91\n",
      "Name: class, dtype: int64\n",
      "~~~~~~~~~~ Number of instances after balancing:  185  ~~~~~~~~~~\n",
      "~~~~~~~~~~ SVM ~~~~~~~~~~~~~~~\n",
      "-----------kfold--------------- 0 ------------\n",
      "----SVM kfold---------- 0.7603361344537815 SVC(C=41, coef0=0.001)\n",
      "* 0-----------kfold--------------- 1 ------------\n"
     ]
    },
    {
     "name": "stderr",
     "output_type": "stream",
     "text": [
      "c:\\Users\\sbhuv\\AppData\\Local\\Programs\\Python\\Python38\\lib\\site-packages\\sklearn\\utils\\validation.py:1143: DataConversionWarning: A column-vector y was passed when a 1d array was expected. Please change the shape of y to (n_samples, ), for example using ravel().\n",
      "  y = column_or_1d(y, warn=True)\n",
      "c:\\Users\\sbhuv\\AppData\\Local\\Programs\\Python\\Python38\\lib\\site-packages\\sklearn\\utils\\validation.py:1143: DataConversionWarning: A column-vector y was passed when a 1d array was expected. Please change the shape of y to (n_samples, ), for example using ravel().\n",
      "  y = column_or_1d(y, warn=True)\n"
     ]
    },
    {
     "name": "stdout",
     "output_type": "stream",
     "text": [
      "* 1-----------kfold--------------- 2 ------------\n"
     ]
    },
    {
     "name": "stderr",
     "output_type": "stream",
     "text": [
      "c:\\Users\\sbhuv\\AppData\\Local\\Programs\\Python\\Python38\\lib\\site-packages\\sklearn\\utils\\validation.py:1143: DataConversionWarning: A column-vector y was passed when a 1d array was expected. Please change the shape of y to (n_samples, ), for example using ravel().\n",
      "  y = column_or_1d(y, warn=True)\n",
      "Classificationv3.py:353: UserWarning: FixedFormatter should only be used together with FixedLocator\n",
      "  axs[i].set_xticklabels([''] + ['0', '1'], fontsize='xx-large')\n",
      "Classificationv3.py:354: UserWarning: FixedFormatter should only be used together with FixedLocator\n",
      "  axs[i].set_yticklabels([''] + ['0', '1'], fontsize='xx-large')\n"
     ]
    },
    {
     "name": "stdout",
     "output_type": "stream",
     "text": [
      "* 2*\n",
      "{'C': 41, 'break_ties': False, 'cache_size': 200, 'class_weight': None, 'coef0': 2.001, 'decision_function_shape': 'ovr', 'degree': 4, 'gamma': 'auto', 'kernel': 'poly', 'max_iter': -1, 'probability': False, 'random_state': None, 'shrinking': True, 'tol': 0.001, 'verbose': False}\n",
      "------run_cv runs successfully------------\n",
      "++++++++++++save_confusion_matrix++++++++++++\n",
      "++++++++++++save_confusion_matrix end++++++++++++\n",
      "(((((((((((((((((((((( draw droc ))))))))))))))))))))))))))))))\n",
      "(((((((( draw droc end ))))))))\n",
      "~~~~~~~~~~~~~~~~~ SB-089 ~~~~~~~~~~~~~~~~~~~~~~\n",
      "~~~~~~~~~~ Number of instances before balancing:  32  ~~~~~~~~~~\n",
      "~~~~~~~ Training Loss: 0.016194725409150124  ~~~~~~~\n",
      "~~~~~~~ Validation Loss: 0.05844416469335556  ~~~~~~~\n",
      "1/1 [==============================] - 0s 112ms/step\n",
      "~~~~~~~ value_counts: ~~~~~~~\n",
      "1    24\n",
      "0    16\n",
      "Name: class, dtype: int64\n",
      "~~~~~~~~~~ Number of instances after balancing:  40  ~~~~~~~~~~\n",
      "~~~~~~~~~~ Number of instances before balancing:  33  ~~~~~~~~~~\n",
      "~~~~~~~ Training Loss: 0.015528778545558453  ~~~~~~~\n",
      "~~~~~~~ Validation Loss: 0.03013952076435089  ~~~~~~~\n",
      "1/1 [==============================] - 0s 113ms/step\n",
      "~~~~~~~ value_counts: ~~~~~~~\n",
      "0    24\n",
      "1    21\n",
      "Name: class, dtype: int64\n",
      "~~~~~~~~~~ Number of instances after balancing:  45  ~~~~~~~~~~\n",
      "~~~~~~~~~~ Number of instances before balancing:  33  ~~~~~~~~~~\n",
      "~~~~~~~ Training Loss: 0.010744036175310612  ~~~~~~~\n",
      "~~~~~~~ Validation Loss: 0.03907432779669762  ~~~~~~~\n",
      "1/1 [==============================] - 0s 111ms/step\n",
      "~~~~~~~ value_counts: ~~~~~~~\n",
      "1    23\n",
      "0    20\n",
      "Name: class, dtype: int64\n",
      "~~~~~~~~~~ Number of instances after balancing:  43  ~~~~~~~~~~\n",
      "~~~~~~~~~~ SVM ~~~~~~~~~~~~~~~\n",
      "-----------kfold--------------- 0 ------------\n",
      "----SVM kfold---------- 0.975 SVC(C=11, coef0=0.001)\n",
      "* 0-----------kfold--------------- 1 ------------\n"
     ]
    },
    {
     "name": "stderr",
     "output_type": "stream",
     "text": [
      "c:\\Users\\sbhuv\\AppData\\Local\\Programs\\Python\\Python38\\lib\\site-packages\\sklearn\\utils\\validation.py:1143: DataConversionWarning: A column-vector y was passed when a 1d array was expected. Please change the shape of y to (n_samples, ), for example using ravel().\n",
      "  y = column_or_1d(y, warn=True)\n",
      "c:\\Users\\sbhuv\\AppData\\Local\\Programs\\Python\\Python38\\lib\\site-packages\\sklearn\\utils\\validation.py:1143: DataConversionWarning: A column-vector y was passed when a 1d array was expected. Please change the shape of y to (n_samples, ), for example using ravel().\n",
      "  y = column_or_1d(y, warn=True)\n"
     ]
    },
    {
     "name": "stdout",
     "output_type": "stream",
     "text": [
      "* 1-----------kfold--------------- 2 ------------\n"
     ]
    },
    {
     "name": "stderr",
     "output_type": "stream",
     "text": [
      "c:\\Users\\sbhuv\\AppData\\Local\\Programs\\Python\\Python38\\lib\\site-packages\\sklearn\\utils\\validation.py:1143: DataConversionWarning: A column-vector y was passed when a 1d array was expected. Please change the shape of y to (n_samples, ), for example using ravel().\n",
      "  y = column_or_1d(y, warn=True)\n",
      "Classificationv3.py:353: UserWarning: FixedFormatter should only be used together with FixedLocator\n",
      "  axs[i].set_xticklabels([''] + ['0', '1'], fontsize='xx-large')\n",
      "Classificationv3.py:354: UserWarning: FixedFormatter should only be used together with FixedLocator\n",
      "  axs[i].set_yticklabels([''] + ['0', '1'], fontsize='xx-large')\n"
     ]
    },
    {
     "name": "stdout",
     "output_type": "stream",
     "text": [
      "* 2*\n",
      "{'C': 21, 'break_ties': False, 'cache_size': 200, 'class_weight': None, 'coef0': 0.501, 'decision_function_shape': 'ovr', 'degree': 4, 'gamma': 'auto', 'kernel': 'poly', 'max_iter': -1, 'probability': False, 'random_state': None, 'shrinking': True, 'tol': 0.001, 'verbose': False}\n",
      "------run_cv runs successfully------------\n",
      "++++++++++++save_confusion_matrix++++++++++++\n",
      "++++++++++++save_confusion_matrix end++++++++++++\n",
      "(((((((((((((((((((((( draw droc ))))))))))))))))))))))))))))))\n",
      "(((((((( draw droc end ))))))))\n",
      "~~~~~~~~~~~~~~~~~ SB-112 ~~~~~~~~~~~~~~~~~~~~~~\n",
      "~~~~~~~~~~ Number of instances before balancing:  120  ~~~~~~~~~~\n",
      "~~~~~~~ Training Loss: 0.012255183421075344  ~~~~~~~\n",
      "~~~~~~~ Validation Loss: 0.03364073112607002  ~~~~~~~\n",
      "1/1 [==============================] - 0s 114ms/step\n",
      "~~~~~~~ value_counts: ~~~~~~~\n",
      "1    94\n",
      "0    52\n",
      "Name: class, dtype: int64\n",
      "~~~~~~~~~~ Number of instances after balancing:  146  ~~~~~~~~~~\n",
      "~~~~~~~~~~ Number of instances before balancing:  120  ~~~~~~~~~~\n",
      "~~~~~~~ Training Loss: 0.012045567855238914  ~~~~~~~\n",
      "~~~~~~~ Validation Loss: 0.022260718047618866  ~~~~~~~\n",
      "1/1 [==============================] - 0s 118ms/step\n",
      "~~~~~~~ value_counts: ~~~~~~~\n",
      "1    90\n",
      "0    60\n",
      "Name: class, dtype: int64\n",
      "~~~~~~~~~~ Number of instances after balancing:  150  ~~~~~~~~~~\n",
      "~~~~~~~~~~ Number of instances before balancing:  120  ~~~~~~~~~~\n",
      "~~~~~~~ Training Loss: 0.014697049744427204  ~~~~~~~\n",
      "~~~~~~~ Validation Loss: 0.022933384403586388  ~~~~~~~\n",
      "1/1 [==============================] - 0s 115ms/step\n",
      "~~~~~~~ value_counts: ~~~~~~~\n",
      "1    98\n",
      "0    44\n",
      "Name: class, dtype: int64\n",
      "~~~~~~~~~~ Number of instances after balancing:  142  ~~~~~~~~~~\n",
      "~~~~~~~~~~ SVM ~~~~~~~~~~~~~~~\n",
      "-----------kfold--------------- 0 ------------\n",
      "----SVM kfold---------- 0.7673563218390804 SVC(C=1, coef0=1.001, kernel='poly')\n",
      "* 0-----------kfold--------------- 1 ------------\n"
     ]
    },
    {
     "name": "stderr",
     "output_type": "stream",
     "text": [
      "c:\\Users\\sbhuv\\AppData\\Local\\Programs\\Python\\Python38\\lib\\site-packages\\sklearn\\utils\\validation.py:1143: DataConversionWarning: A column-vector y was passed when a 1d array was expected. Please change the shape of y to (n_samples, ), for example using ravel().\n",
      "  y = column_or_1d(y, warn=True)\n"
     ]
    },
    {
     "name": "stdout",
     "output_type": "stream",
     "text": [
      "----SVM kfold---------- 0.8 SVC(C=1, coef0=1.501, degree=4, kernel='poly')\n",
      "* 1-----------kfold--------------- 2 ------------\n"
     ]
    },
    {
     "name": "stderr",
     "output_type": "stream",
     "text": [
      "c:\\Users\\sbhuv\\AppData\\Local\\Programs\\Python\\Python38\\lib\\site-packages\\sklearn\\utils\\validation.py:1143: DataConversionWarning: A column-vector y was passed when a 1d array was expected. Please change the shape of y to (n_samples, ), for example using ravel().\n",
      "  y = column_or_1d(y, warn=True)\n",
      "c:\\Users\\sbhuv\\AppData\\Local\\Programs\\Python\\Python38\\lib\\site-packages\\sklearn\\utils\\validation.py:1143: DataConversionWarning: A column-vector y was passed when a 1d array was expected. Please change the shape of y to (n_samples, ), for example using ravel().\n",
      "  y = column_or_1d(y, warn=True)\n",
      "Classificationv3.py:353: UserWarning: FixedFormatter should only be used together with FixedLocator\n",
      "  axs[i].set_xticklabels([''] + ['0', '1'], fontsize='xx-large')\n",
      "Classificationv3.py:354: UserWarning: FixedFormatter should only be used together with FixedLocator\n",
      "  axs[i].set_yticklabels([''] + ['0', '1'], fontsize='xx-large')\n"
     ]
    },
    {
     "name": "stdout",
     "output_type": "stream",
     "text": [
      "* 2*\n",
      "{'C': 41, 'break_ties': False, 'cache_size': 200, 'class_weight': None, 'coef0': 1.001, 'decision_function_shape': 'ovr', 'degree': 4, 'gamma': 'auto', 'kernel': 'poly', 'max_iter': -1, 'probability': False, 'random_state': None, 'shrinking': True, 'tol': 0.001, 'verbose': False}\n",
      "------run_cv runs successfully------------\n",
      "++++++++++++save_confusion_matrix++++++++++++\n",
      "++++++++++++save_confusion_matrix end++++++++++++\n",
      "(((((((((((((((((((((( draw droc ))))))))))))))))))))))))))))))\n",
      "(((((((( draw droc end ))))))))\n"
     ]
    }
   ],
   "source": [
    "runner_svm()"
   ]
  },
  {
   "cell_type": "code",
   "execution_count": 14,
   "metadata": {},
   "outputs": [],
   "source": [
    "# runner_nb()"
   ]
  },
  {
   "cell_type": "code",
   "execution_count": null,
   "metadata": {},
   "outputs": [],
   "source": []
  }
 ],
 "metadata": {
  "kernelspec": {
   "display_name": "Python 3",
   "language": "python",
   "name": "python3"
  },
  "language_info": {
   "codemirror_mode": {
    "name": "ipython",
    "version": 3
   },
   "file_extension": ".py",
   "mimetype": "text/x-python",
   "name": "python",
   "nbconvert_exporter": "python",
   "pygments_lexer": "ipython3",
   "version": "3.8.2"
  },
  "orig_nbformat": 4
 },
 "nbformat": 4,
 "nbformat_minor": 2
}
