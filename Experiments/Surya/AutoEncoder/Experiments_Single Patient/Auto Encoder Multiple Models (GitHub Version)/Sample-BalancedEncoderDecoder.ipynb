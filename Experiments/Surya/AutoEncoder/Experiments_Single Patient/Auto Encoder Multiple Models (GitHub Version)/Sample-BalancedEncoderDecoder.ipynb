{
 "cells": [
  {
   "cell_type": "markdown",
   "id": "f34cd4de",
   "metadata": {},
   "source": [
    "## BalancedEncoderDecoder"
   ]
  },
  {
   "cell_type": "code",
   "execution_count": 1,
   "id": "596a773f",
   "metadata": {},
   "outputs": [
    {
     "name": "stdout",
     "output_type": "stream",
     "text": [
      "/home/st/sbhuvaji/Research/Balanced\r\n"
     ]
    }
   ],
   "source": [
    "!pwd"
   ]
  },
  {
   "cell_type": "code",
   "execution_count": 2,
   "id": "debfc7c6",
   "metadata": {},
   "outputs": [
    {
     "name": "stdout",
     "output_type": "stream",
     "text": [
      "SSH Address: csp239.cslab.seattleu.edu@10.124.66.239\n"
     ]
    }
   ],
   "source": [
    "import socket\n",
    "hostname = socket.gethostname()\n",
    "ip_address = socket.gethostbyname(hostname)\n",
    "\n",
    "# Print the SSH address\n",
    "ssh_address = f\"{hostname}@{ip_address}\"\n",
    "print(f\"SSH Address: {ssh_address}\")"
   ]
  },
  {
   "cell_type": "code",
   "execution_count": null,
   "id": "b036d064",
   "metadata": {},
   "outputs": [],
   "source": [
    "#Disable Warning\n",
    "import os\n",
    "os.environ['TF_CPP_MIN_LOG_LEVEL'] = '3'\n",
    "import warnings\n",
    "warnings.filterwarnings(\"ignore\")\n",
    "from silence_tensorflow import silence_tensorflow\n",
    "silence_tensorflow()"
   ]
  },
  {
   "cell_type": "code",
   "execution_count": 4,
   "id": "dc6e37bd",
   "metadata": {},
   "outputs": [
    {
     "name": "stdout",
     "output_type": "stream",
     "text": [
      "Available GPUs:\n",
      "PhysicalDevice(name='/physical_device:GPU:0', device_type='GPU')\n",
      "PhysicalDevice(name='/physical_device:GPU:1', device_type='GPU')\n"
     ]
    }
   ],
   "source": [
    "import tensorflow as tf\n",
    "# Get the list of available GPUs\n",
    "gpus = tf.config.list_physical_devices('GPU')\n",
    "\n",
    "if gpus:\n",
    "    print(\"Available GPUs:\")\n",
    "    for gpu in gpus:\n",
    "        print(gpu)"
   ]
  },
  {
   "cell_type": "code",
   "execution_count": 5,
   "id": "a38a6ae6",
   "metadata": {},
   "outputs": [],
   "source": [
    "%%capture\n",
    "!pip install -U gretel-client"
   ]
  },
  {
   "cell_type": "code",
   "execution_count": null,
   "id": "d6619f32",
   "metadata": {},
   "outputs": [],
   "source": []
  },
  {
   "cell_type": "code",
   "execution_count": 6,
   "id": "7f6c9725",
   "metadata": {},
   "outputs": [],
   "source": [
    "FILE1 = '../SB-001/SB-001_normalized_AM.csv'\n",
    "FILE2 = '../SB-001/SB-001_normalized_PM.csv'\n",
    "NO_OF_COLUMNS = 24"
   ]
  },
  {
   "cell_type": "code",
   "execution_count": null,
   "id": "942103a4",
   "metadata": {},
   "outputs": [],
   "source": []
  },
  {
   "cell_type": "code",
   "execution_count": 7,
   "id": "ecd4dc93",
   "metadata": {},
   "outputs": [],
   "source": [
    "#!pip install tf2onnx\n",
    "\n",
    "import tensorflow as tf\n",
    "from tensorflow import keras\n",
    "import seaborn as sns\n",
    "import matplotlib.pyplot as plt\n",
    "plt.ioff()\n",
    "import cv2\n",
    "import IPython\n",
    "from tqdm import tqdm\n",
    "import time\n",
    "import os\n",
    "import pickle\n",
    "import pandas as pd\n",
    "from gretel_client.config import RunnerMode\n",
    "from gretel_client.evaluation.quality_report import QualityReport\n",
    "from gretel_client import configure_session\n",
    "from gretel_client.projects import create_or_get_unique_project\n",
    "import numpy as np\n",
    "import pandas as pd\n",
    "from sklearn.model_selection import train_test_split\n",
    "import warnings\n",
    "warnings.filterwarnings(\"ignore\")\n",
    "warnings.filterwarnings('ignore', message=r'.*Consider either turning off auto-sharding.*')"
   ]
  },
  {
   "cell_type": "code",
   "execution_count": 8,
   "id": "c8cb65b2",
   "metadata": {},
   "outputs": [],
   "source": [
    "os.environ[\"CUDA_DEVICE_ORDER\"] = \"PCI_BUS_ID\"\n",
    "os.environ[\"CUDA_VISIBLE_DEVICES\"] = \"0,1\"  # GPU Id"
   ]
  },
  {
   "cell_type": "code",
   "execution_count": 9,
   "id": "89da3e33",
   "metadata": {},
   "outputs": [
    {
     "name": "stdout",
     "output_type": "stream",
     "text": [
      "Using endpoint https://api.gretel.cloud\n",
      "Logged in as sbhuvaj@gmail.com ✅\n"
     ]
    }
   ],
   "source": [
    "# get your gretel API key ready befor running this\n",
    "import pandas as pd\n",
    "from gretel_client.config import RunnerMode\n",
    "from gretel_client.evaluation.quality_report import QualityReport\n",
    "from gretel_client import configure_session\n",
    "from gretel_client.projects import create_or_get_unique_project\n",
    "\n",
    "# Specify your Gretel API Key\n",
    "\n",
    "pd.set_option(\"max_colwidth\", None)\n",
    "configure_session(api_key=\"prompt\", cache=\"yes\", validate=True)\n",
    "run_summary = []"
   ]
  },
  {
   "cell_type": "code",
   "execution_count": 10,
   "id": "0c878f51",
   "metadata": {},
   "outputs": [],
   "source": [
    "def generate_autoencoder_reports(encoder_dense_layers, bottle_neck, decoder_dense_layers):\n",
    "\n",
    "    print(encoder_dense_layers, bottle_neck, decoder_dense_layers)\n",
    "    # Load Data\n",
    "    df_am = pd.read_csv(FILE1)\n",
    "    df_pm = pd.read_csv(FILE2)\n",
    "    combined_df = pd.concat([df_am, df_pm])\n",
    "\n",
    "    columns_needed = ['y_am_pef', 'tempin', 'humidin', 'pm25in', 'co2in', 'tempdiffin', 'humidiffin', 'pm25diffin',\n",
    "                      'pm10', 'pm25', 'o3', 'no2', 'co', 'so2', 'temp', 'windsd', 'humid', 'varp', 'dewpt', 'airp',\n",
    "                      'seap', 'solrhr', 'solramnt', 'grdt', 'class']\n",
    "    combined_df = combined_df.filter(columns_needed)\n",
    "    df = combined_df.sample(frac=1, random_state=42).reset_index(drop=True)\n",
    "\n",
    "    # Drop NaN\n",
    "    df = df.dropna()\n",
    "    \n",
    "    # Minotity Split\n",
    "    class_counts = df['class'].value_counts()\n",
    "    minority_class = df[df['class'] == 0]\n",
    "    majority_class = df[df['class'] == 1]\n",
    "\n",
    "    # Removing class column from minority before augmentation\n",
    "    X = minority_class.drop('class', axis=1)\n",
    "    y = minority_class['class']\n",
    "\n",
    "    # Saving minority as X_train\n",
    "    X_train = X\n",
    "\n",
    "    # Define the Input shape\n",
    "    INPUT_SHAPE = X_train.shape[1]\n",
    "    FILE_NAME = f\"L{INPUT_SHAPE}_E{'_'.join(map(str, encoder_dense_layers))}_B{bottle_neck}_D{'_'.join(map(str, decoder_dense_layers))}\"\n",
    "    print(\"\\n\" + FILE_NAME + \"\\n\")\n",
    "    \n",
    "    def build_autoencoder(input_shape, **kwargs):\n",
    "\n",
    "        # Autoencoder model construction cod\n",
    "\n",
    "      \"\"\"\n",
    "      Build an autoencoder model with the given configuration.\n",
    "\n",
    "      Args:\n",
    "          input_shape (int): The shape of the input data.\n",
    "          **kwargs: Additional keyword arguments for configuring the autoencoder.\n",
    "\n",
    "      Keyword Args:\n",
    "          encoder_dense_layers (list): List of integers specifying the number of units for each dense layer in the encoder.\n",
    "                                      Default: []\n",
    "          bottle_neck (int): The number of units in the bottleneck layer. Default: input_shape // 2\n",
    "          decoder_dense_layers (list): List of integers specifying the number of units for each dense layer in the decoder.\n",
    "                                      Default: []\n",
    "          decoder_activation (str): The activation function for the decoder output layer. Default: 'sigmoid'\n",
    "\n",
    "      Returns:\n",
    "          tuple: A tuple containing the autoencoder, encoder, and decoder models.\n",
    "\n",
    "      Example:\n",
    "          INPUT_SHAPE = 27\n",
    "          encoder_dense_layers = [20, 18]  # Specify the number of units for each dense layer in the encoder\n",
    "          bottle_neck = 16\n",
    "          decoder_dense_layers = [18, 20]  # Specify the number of units for each dense layer in the decoder\n",
    "\n",
    "          autoencoder, encoder, decoder = build_autoencoder(INPUT_SHAPE, encoder_dense_layers=encoder_dense_layers,\n",
    "                                                            bottle_neck=bottle_neck, decoder_dense_layers=decoder_dense_layers)\n",
    "          encoder.summary()\n",
    "          decoder.summary()\n",
    "          autoencoder.summary()\n",
    "      \"\"\"\n",
    "\n",
    "      # Default parameter values\n",
    "      encoder_dense_layers = kwargs.get('encoder_dense_layers', [])\n",
    "      bottle_neck = kwargs.get('bottle_neck', input_shape // 2)\n",
    "      decoder_dense_layers = kwargs.get('decoder_dense_layers', [])\n",
    "      decoder_activation = kwargs.get('decoder_activation', 'sigmoid')\n",
    "\n",
    "      # Autoencoder Model\n",
    "      encoder_input = keras.Input(shape=(input_shape,), name=\"encoder\")\n",
    "      x = keras.layers.Flatten()(encoder_input)\n",
    "\n",
    "      # Encoder Dense Layers\n",
    "      for units in encoder_dense_layers:\n",
    "          x = keras.layers.Dense(units, activation=\"relu\")(x)\n",
    "\n",
    "      encoder_output = keras.layers.Dense(bottle_neck, activation=\"relu\")(x)\n",
    "      encoder = keras.Model(encoder_input, encoder_output, name=\"encoder\")\n",
    "\n",
    "      # Decoder Model\n",
    "      decoder_input = keras.Input(shape=(bottle_neck,), name=\"decoder\")\n",
    "      x = decoder_input\n",
    "\n",
    "      # Decoder Dense Layers\n",
    "      for units in decoder_dense_layers:\n",
    "          x = keras.layers.Dense(units, activation=\"relu\")(x)\n",
    "\n",
    "      decoder_output = keras.layers.Dense(input_shape, activation=decoder_activation)(x)\n",
    "      decoder = keras.Model(decoder_input, decoder_output, name=\"decoder\")\n",
    "\n",
    "      # Autoencoder Model\n",
    "      autoencoder_input = keras.Input(shape=(input_shape,), name=\"input\")\n",
    "      encoded = encoder(autoencoder_input)\n",
    "      decoded = decoder(encoded)\n",
    "      autoencoder = keras.Model(autoencoder_input, decoded, name=\"autoencoder\")\n",
    "\n",
    "      return autoencoder, encoder, decoder\n",
    "\n",
    "    physical_devices = tf.config.list_physical_devices(\"GPU\")\n",
    "    tf.config.experimental.set_memory_growth(physical_devices[0], True)\n",
    "    tf.config.experimental.set_memory_growth(physical_devices[1], True)\n",
    "    strategy = tf.distribute.MirroredStrategy()\n",
    "    \n",
    "    with strategy.scope():\n",
    "        autoencoder, encoder, decoder = build_autoencoder(INPUT_SHAPE, encoder_dense_layers=encoder_dense_layers,\n",
    "                                                          bottle_neck=bottle_neck,\n",
    "                                                          decoder_dense_layers=decoder_dense_layers)\n",
    "        opt = keras.optimizers.Adam(learning_rate=0.001)\n",
    "        autoencoder.compile(opt, loss=\"mse\")\n",
    "\n",
    "        print(\"Training model:\", FILE_NAME)\n",
    "        history = autoencoder.fit(X_train, X_train, epochs=200, batch_size=16, validation_split=0.25, verbose=0)\n",
    "        print(\"Training Complete:\")\n",
    "    \n",
    "    # Extract the loss values\n",
    "    loss = history.history['loss']\n",
    "    val_loss = history.history['val_loss']\n",
    "\n",
    "    # Print the last epoch's loss values\n",
    "    last_epoch_loss = loss[-1]\n",
    "    last_epoch_val_loss = val_loss[-1]\n",
    "    print(\"Last epoch loss:\", last_epoch_loss)\n",
    "    print(\"Last epoch validation loss:\", last_epoch_val_loss)\n",
    "\n",
    "    # Saving history\n",
    "    with open(FILE_NAME + 'history.pickle', 'wb') as file:\n",
    "        pickle.dump(history.history, file)\n",
    "\n",
    "    # Visualize losses *(MSE)\n",
    "    train_loss = history.history['loss']\n",
    "    val_loss = history.history['val_loss']\n",
    "    epochs = range(1, len(train_loss) + 1)\n",
    "    plt.plot(epochs, train_loss, 'b', label='Training Loss')\n",
    "    plt.plot(epochs, val_loss, 'r', label='Validation Loss')\n",
    "    plt.title('Training and Validation Loss')\n",
    "    plt.xlabel('Epochs')\n",
    "    plt.ylabel('Loss')\n",
    "    plt.legend()\n",
    "    plt.savefig(FILE_NAME + 'Loss.png')\n",
    "    #plt.show()\n",
    "\n",
    "    # Generate synthetic data\n",
    "    num_samples = len(X_train)\n",
    "    input_data = np.random.normal(size=(num_samples, INPUT_SHAPE))\n",
    "    generated_data = autoencoder.predict(input_data)\n",
    "    reshaped_data = generated_data.reshape(num_samples, -1)\n",
    "    df_generated = pd.DataFrame(reshaped_data, columns=X_train.columns)\n",
    "\n",
    "    # Plot correlation matrices\n",
    "    corr_matrix1 = X_train.corr()\n",
    "    corr_matrix2 = df_generated.corr()\n",
    "\n",
    "    fig, axes = plt.subplots(1, 2, figsize=(18, 10))\n",
    "    sns.heatmap(corr_matrix1, annot=True, cmap='coolwarm', ax=axes[0])\n",
    "    axes[0].set_title('Heatmap 1')\n",
    "\n",
    "    sns.heatmap(corr_matrix2, annot=True, cmap='coolwarm', ax=axes[1])\n",
    "    axes[1].set_title('Heatmap 2')\n",
    "\n",
    "    plt.tight_layout()\n",
    "    plt.savefig(FILE_NAME + 'HeatMaps')\n",
    "    #plt.show()\n",
    "\n",
    "    # Calculate mean and standard deviation of original and synthetic datasets\n",
    "    common_columns = set(X_train.columns) & set(df_generated.columns)\n",
    "    results = {}\n",
    "\n",
    "    for column in common_columns:\n",
    "        mean_df1 = X_train[column].mean()\n",
    "        std_df1 = X_train[column].std()\n",
    "        mean_df2 = df_generated[column].mean()\n",
    "        std_df2 = df_generated[column].std()\n",
    "\n",
    "        results[column] = {'Mean_df1': mean_df1, 'Std_df1': std_df1,\n",
    "                           'Mean_df2': mean_df2, 'Std_df2': std_df2}\n",
    "\n",
    "    comparison_df = pd.DataFrame(results)\n",
    "    comparison_df.to_csv(FILE_NAME + 'mean_std.csv', index=True)\n",
    "\n",
    "    # Plot scatter plots\n",
    "    new_index = pd.RangeIndex(start=0, stop=57, step=1)\n",
    "    X_train = X_train.set_index(new_index)\n",
    "    common_columns = set(X_train.columns) & set(df_generated.columns)\n",
    "\n",
    "    for column in common_columns:\n",
    "        plt.scatter(X_train.index, X_train[column], color='red', label='X_train')\n",
    "        plt.scatter(df_generated.index, df_generated[column], color='blue', label='df_generated')\n",
    "\n",
    "        plt.title(f\"Scatter Plot: {column}\")\n",
    "        plt.xlabel(\"Index\")\n",
    "        plt.ylabel(column)\n",
    "\n",
    "        plt.legend()\n",
    "        plt.savefig(FILE_NAME + \"_\" + column)\n",
    "        #plt.show()\n",
    "\n",
    "\n",
    "    # Add back the class label\n",
    "    X_train['class'] = 0.0\n",
    "    df_generated['class'] = 0.0\n",
    "    X_train.to_csv(FILE_NAME + '_Original_minority_data.csv', index=False)\n",
    "    df_generated.to_csv(FILE_NAME + '_Synthetic_minority_data.csv', index=False)\n",
    "\n",
    "#     # Generate quality report and display it\n",
    "#     real_data = FILE_NAME + 'Original_minority_data.csv'\n",
    "#     synth_data = FILE_NAME + 'Synthetic_minority_data.csv'\n",
    "#\n",
    "#     report = QualityReport(data_source=synth_data, ref_data=real_data)\n",
    "#     report.run()\n",
    "\n",
    "#     print(report.peek())\n",
    "#    run_summary.append([FILE_NAME, report.peek()['raw_score'], report.peek()['grade']])\n",
    "    run_summary.append([FILE_NAME, last_epoch_loss, last_epoch_val_loss])\n",
    "    print(\"Reports Saved\")\n",
    "    #IPython.display.HTML(report.as_html, metadata=dict(isolated=True))\n",
    "    #return report\n",
    "    return None"
   ]
  },
  {
   "cell_type": "code",
   "execution_count": 11,
   "id": "3973514d",
   "metadata": {},
   "outputs": [],
   "source": [
    "# Example usage\n",
    "def runner(encoder_dense_layers, bottle_neck, decoder_dense_layers):\n",
    "  #encoder_dense_layers = [10, 8]\n",
    "  #bottle_neck = 5\n",
    "  #decoder_dense_layers = [8, 10]\n",
    "  #FILE_NAME = f\"24_{'_'.join(map(str, encoder_dense_layers))}_{bottle_neck}_\"\n",
    "  FILE_NAME = f\"L{NO_OF_COLUMNS}_E{'_'.join(map(str, encoder_dense_layers))}_B{bottle_neck}_D{'_'.join(map(str, decoder_dense_layers))}\"   \n",
    "  report = generate_autoencoder_reports(encoder_dense_layers, bottle_neck, decoder_dense_layers)\n",
    "  #print(type(report))\n",
    "  # Save the report object to a file\n",
    "#   with open(FILE_NAME + 'quality_report.pickle', 'wb') as file:\n",
    "#       pickle.dump(report, file)\n",
    "\n",
    "  #IPython.display.HTML(report.as_html, metadata=dict(isolated=True))"
   ]
  },
  {
   "cell_type": "code",
   "execution_count": 12,
   "id": "b7f54d2b",
   "metadata": {},
   "outputs": [],
   "source": [
    "# here goes nothin"
   ]
  },
  {
   "cell_type": "code",
   "execution_count": 13,
   "id": "38b152cf",
   "metadata": {},
   "outputs": [],
   "source": [
    "encoder_dense_layers_trial = [[10, 8], [12, 10], [14, 12], [16, 14], [18, 16], [20, 18] ,[22,20]]\n",
    "decoder_dense_layers_trial = [[8, 10], [10, 12], [12, 14], [14, 16], [16, 18], [18, 20], [20,22]]\n",
    "bottle_neck_trial = [8, 10, 12, 14, 16, 18]"
   ]
  },
  {
   "cell_type": "code",
   "execution_count": 14,
   "id": "748637dd",
   "metadata": {},
   "outputs": [
    {
     "name": "stdout",
     "output_type": "stream",
     "text": [
      "Total Model in Pipeline: 294\n"
     ]
    },
    {
     "name": "stderr",
     "output_type": "stream",
     "text": [
      "Overall Progress:  13%|███████▋                                                   | 38/294 [00:00<00:00, 2087.32it/s, Encoder Dense Layers=[20, 18], Decoder Dense Layers=[14, 16], Bottle Neck=8]"
     ]
    },
    {
     "name": "stdout",
     "output_type": "stream",
     "text": [
      "[10, 8] 8 [8, 10]\n",
      "[10, 8] 8 [10, 12]\n",
      "[10, 8] 8 [12, 14]\n",
      "[10, 8] 8 [14, 16]\n",
      "[10, 8] 8 [16, 18]\n",
      "[10, 8] 8 [18, 20]\n",
      "[10, 8] 8 [20, 22]\n",
      "[12, 10] 8 [8, 10]\n",
      "[12, 10] 8 [10, 12]\n",
      "[12, 10] 8 [12, 14]\n",
      "[12, 10] 8 [14, 16]\n",
      "[12, 10] 8 [16, 18]\n",
      "[12, 10] 8 [18, 20]\n",
      "[12, 10] 8 [20, 22]\n",
      "[14, 12] 8 [8, 10]\n",
      "[14, 12] 8 [10, 12]\n",
      "[14, 12] 8 [12, 14]\n",
      "[14, 12] 8 [14, 16]\n",
      "[14, 12] 8 [16, 18]\n",
      "[14, 12] 8 [18, 20]\n",
      "[14, 12] 8 [20, 22]\n",
      "[16, 14] 8 [8, 10]\n",
      "[16, 14] 8 [10, 12]\n",
      "[16, 14] 8 [12, 14]\n",
      "[16, 14] 8 [14, 16]\n",
      "[16, 14] 8 [16, 18]\n",
      "[16, 14] 8 [18, 20]\n",
      "[16, 14] 8 [20, 22]\n",
      "[18, 16] 8 [8, 10]\n",
      "[18, 16] 8 [10, 12]\n",
      "[18, 16] 8 [12, 14]\n",
      "[18, 16] 8 [14, 16]\n",
      "[18, 16] 8 [16, 18]\n",
      "[18, 16] 8 [18, 20]\n",
      "[18, 16] 8 [20, 22]\n",
      "[20, 18] 8 [8, 10]\n",
      "[20, 18] 8 [10, 12]\n",
      "[20, 18] 8 [12, 14]\n"
     ]
    },
    {
     "name": "stderr",
     "output_type": "stream",
     "text": [
      "Overall Progress: 100%|█████████████████████████████████████████████████████████| 294/294 [00:00<00:00, 1994.93it/s, Encoder Dense Layers=[22, 20], Decoder Dense Layers=[20, 22], Bottle Neck=18]"
     ]
    },
    {
     "name": "stdout",
     "output_type": "stream",
     "text": [
      "[20, 18] 8 [14, 16]\n",
      "[20, 18] 8 [16, 18]\n",
      "[20, 18] 8 [18, 20]\n",
      "[20, 18] 8 [20, 22]\n",
      "[22, 20] 8 [8, 10]\n",
      "[22, 20] 8 [10, 12]\n",
      "[22, 20] 8 [12, 14]\n",
      "[22, 20] 8 [14, 16]\n",
      "[22, 20] 8 [16, 18]\n",
      "[22, 20] 8 [18, 20]\n",
      "[22, 20] 8 [20, 22]\n",
      "[10, 8] 10 [8, 10]\n",
      "[10, 8] 10 [10, 12]\n",
      "[10, 8] 10 [12, 14]\n",
      "[10, 8] 10 [14, 16]\n",
      "[10, 8] 10 [16, 18]\n",
      "[10, 8] 10 [18, 20]\n",
      "[10, 8] 10 [20, 22]\n",
      "[12, 10] 10 [8, 10]\n",
      "[12, 10] 10 [10, 12]\n",
      "[12, 10] 10 [12, 14]\n",
      "[12, 10] 10 [14, 16]\n",
      "[12, 10] 10 [16, 18]\n",
      "[12, 10] 10 [18, 20]\n",
      "[12, 10] 10 [20, 22]\n",
      "[14, 12] 10 [8, 10]\n",
      "[14, 12] 10 [10, 12]\n",
      "[14, 12] 10 [12, 14]\n",
      "[14, 12] 10 [14, 16]\n",
      "[14, 12] 10 [16, 18]\n",
      "[14, 12] 10 [18, 20]\n",
      "[14, 12] 10 [20, 22]\n",
      "[16, 14] 10 [8, 10]\n",
      "[16, 14] 10 [10, 12]\n",
      "[16, 14] 10 [12, 14]\n",
      "[16, 14] 10 [14, 16]\n",
      "[16, 14] 10 [16, 18]\n",
      "[16, 14] 10 [18, 20]\n",
      "[16, 14] 10 [20, 22]\n",
      "[18, 16] 10 [8, 10]\n",
      "[18, 16] 10 [10, 12]\n",
      "[18, 16] 10 [12, 14]\n",
      "[18, 16] 10 [14, 16]\n",
      "[18, 16] 10 [16, 18]\n",
      "[18, 16] 10 [18, 20]\n",
      "[18, 16] 10 [20, 22]\n",
      "[20, 18] 10 [8, 10]\n",
      "[20, 18] 10 [10, 12]\n",
      "[20, 18] 10 [12, 14]\n",
      "[20, 18] 10 [14, 16]\n",
      "[20, 18] 10 [16, 18]\n",
      "[20, 18] 10 [18, 20]\n",
      "[20, 18] 10 [20, 22]\n",
      "[22, 20] 10 [8, 10]\n",
      "[22, 20] 10 [10, 12]\n",
      "[22, 20] 10 [12, 14]\n",
      "[22, 20] 10 [14, 16]\n",
      "[22, 20] 10 [16, 18]\n",
      "[22, 20] 10 [18, 20]\n",
      "[22, 20] 10 [20, 22]\n",
      "[10, 8] 12 [8, 10]\n",
      "[10, 8] 12 [10, 12]\n",
      "[10, 8] 12 [12, 14]\n",
      "[10, 8] 12 [14, 16]\n",
      "[10, 8] 12 [16, 18]\n",
      "[10, 8] 12 [18, 20]\n",
      "[10, 8] 12 [20, 22]\n",
      "[12, 10] 12 [8, 10]\n",
      "[12, 10] 12 [10, 12]\n",
      "[12, 10] 12 [12, 14]\n",
      "[12, 10] 12 [14, 16]\n",
      "[12, 10] 12 [16, 18]\n",
      "[12, 10] 12 [18, 20]\n",
      "[12, 10] 12 [20, 22]\n",
      "[14, 12] 12 [8, 10]\n",
      "[14, 12] 12 [10, 12]\n",
      "[14, 12] 12 [12, 14]\n",
      "[14, 12] 12 [14, 16]\n",
      "[14, 12] 12 [16, 18]\n",
      "[14, 12] 12 [18, 20]\n",
      "[14, 12] 12 [20, 22]\n",
      "[16, 14] 12 [8, 10]\n",
      "[16, 14] 12 [10, 12]\n",
      "[16, 14] 12 [12, 14]\n",
      "[16, 14] 12 [14, 16]\n",
      "[16, 14] 12 [16, 18]\n",
      "[16, 14] 12 [18, 20]\n",
      "[16, 14] 12 [20, 22]\n",
      "[18, 16] 12 [8, 10]\n",
      "[18, 16] 12 [10, 12]\n",
      "[18, 16] 12 [12, 14]\n",
      "[18, 16] 12 [14, 16]\n",
      "[18, 16] 12 [16, 18]\n",
      "[18, 16] 12 [18, 20]\n",
      "[18, 16] 12 [20, 22]\n",
      "[20, 18] 12 [8, 10]\n",
      "[20, 18] 12 [10, 12]\n",
      "[20, 18] 12 [12, 14]\n",
      "[20, 18] 12 [14, 16]\n",
      "[20, 18] 12 [16, 18]\n",
      "[20, 18] 12 [18, 20]\n",
      "[20, 18] 12 [20, 22]\n",
      "[22, 20] 12 [8, 10]\n",
      "[22, 20] 12 [10, 12]\n",
      "[22, 20] 12 [12, 14]\n",
      "[22, 20] 12 [14, 16]\n",
      "[22, 20] 12 [16, 18]\n",
      "[22, 20] 12 [18, 20]\n",
      "[22, 20] 12 [20, 22]\n",
      "[10, 8] 14 [8, 10]\n",
      "[10, 8] 14 [10, 12]\n",
      "[10, 8] 14 [12, 14]\n",
      "[10, 8] 14 [14, 16]\n",
      "[10, 8] 14 [16, 18]\n",
      "[10, 8] 14 [18, 20]\n",
      "[10, 8] 14 [20, 22]\n",
      "[12, 10] 14 [8, 10]\n",
      "[12, 10] 14 [10, 12]\n",
      "[12, 10] 14 [12, 14]\n",
      "[12, 10] 14 [14, 16]\n",
      "[12, 10] 14 [16, 18]\n",
      "[12, 10] 14 [18, 20]\n",
      "[12, 10] 14 [20, 22]\n",
      "[14, 12] 14 [8, 10]\n",
      "[14, 12] 14 [10, 12]\n",
      "[14, 12] 14 [12, 14]\n",
      "[14, 12] 14 [14, 16]\n",
      "[14, 12] 14 [16, 18]\n",
      "[14, 12] 14 [18, 20]\n",
      "[14, 12] 14 [20, 22]\n",
      "[16, 14] 14 [8, 10]\n",
      "[16, 14] 14 [10, 12]\n",
      "[16, 14] 14 [12, 14]\n",
      "[16, 14] 14 [14, 16]\n",
      "[16, 14] 14 [16, 18]\n",
      "[16, 14] 14 [18, 20]\n",
      "[16, 14] 14 [20, 22]\n",
      "[18, 16] 14 [8, 10]\n",
      "[18, 16] 14 [10, 12]\n",
      "[18, 16] 14 [12, 14]\n",
      "[18, 16] 14 [14, 16]\n",
      "[18, 16] 14 [16, 18]\n",
      "[18, 16] 14 [18, 20]\n",
      "[18, 16] 14 [20, 22]\n",
      "[20, 18] 14 [8, 10]\n",
      "[20, 18] 14 [10, 12]\n",
      "[20, 18] 14 [12, 14]\n",
      "[20, 18] 14 [14, 16]\n",
      "[20, 18] 14 [16, 18]\n",
      "[20, 18] 14 [18, 20]\n",
      "[20, 18] 14 [20, 22]\n",
      "[22, 20] 14 [8, 10]\n",
      "[22, 20] 14 [10, 12]\n",
      "[22, 20] 14 [12, 14]\n",
      "[22, 20] 14 [14, 16]\n",
      "[22, 20] 14 [16, 18]\n",
      "[22, 20] 14 [18, 20]\n",
      "[22, 20] 14 [20, 22]\n",
      "[10, 8] 16 [8, 10]\n",
      "[10, 8] 16 [10, 12]\n",
      "[10, 8] 16 [12, 14]\n",
      "[10, 8] 16 [14, 16]\n",
      "[10, 8] 16 [16, 18]\n",
      "[10, 8] 16 [18, 20]\n",
      "[10, 8] 16 [20, 22]\n",
      "[12, 10] 16 [8, 10]\n",
      "[12, 10] 16 [10, 12]\n",
      "[12, 10] 16 [12, 14]\n",
      "[12, 10] 16 [14, 16]\n",
      "[12, 10] 16 [16, 18]\n",
      "[12, 10] 16 [18, 20]\n",
      "[12, 10] 16 [20, 22]\n",
      "[14, 12] 16 [8, 10]\n",
      "[14, 12] 16 [10, 12]\n",
      "[14, 12] 16 [12, 14]\n",
      "[14, 12] 16 [14, 16]\n",
      "[14, 12] 16 [16, 18]\n",
      "[14, 12] 16 [18, 20]\n",
      "[14, 12] 16 [20, 22]\n",
      "[16, 14] 16 [8, 10]\n",
      "[16, 14] 16 [10, 12]\n",
      "[16, 14] 16 [12, 14]\n",
      "[16, 14] 16 [14, 16]\n",
      "[16, 14] 16 [16, 18]\n",
      "[16, 14] 16 [18, 20]\n",
      "[16, 14] 16 [20, 22]\n",
      "[18, 16] 16 [8, 10]\n",
      "[18, 16] 16 [10, 12]\n",
      "[18, 16] 16 [12, 14]\n",
      "[18, 16] 16 [14, 16]\n",
      "[18, 16] 16 [16, 18]\n",
      "[18, 16] 16 [18, 20]\n",
      "[18, 16] 16 [20, 22]\n",
      "[20, 18] 16 [8, 10]\n",
      "[20, 18] 16 [10, 12]\n",
      "[20, 18] 16 [12, 14]\n",
      "[20, 18] 16 [14, 16]\n",
      "[20, 18] 16 [16, 18]\n",
      "[20, 18] 16 [18, 20]\n",
      "[20, 18] 16 [20, 22]\n",
      "[22, 20] 16 [8, 10]\n",
      "[22, 20] 16 [10, 12]\n",
      "[22, 20] 16 [12, 14]\n",
      "[22, 20] 16 [14, 16]\n",
      "[22, 20] 16 [16, 18]\n",
      "[22, 20] 16 [18, 20]\n",
      "[22, 20] 16 [20, 22]\n",
      "[10, 8] 18 [8, 10]\n",
      "[10, 8] 18 [10, 12]\n",
      "[10, 8] 18 [12, 14]\n",
      "[10, 8] 18 [14, 16]\n",
      "[10, 8] 18 [16, 18]\n",
      "[10, 8] 18 [18, 20]\n",
      "[10, 8] 18 [20, 22]\n",
      "[12, 10] 18 [8, 10]\n",
      "[12, 10] 18 [10, 12]\n",
      "[12, 10] 18 [12, 14]\n",
      "[12, 10] 18 [14, 16]\n",
      "[12, 10] 18 [16, 18]\n",
      "[12, 10] 18 [18, 20]\n",
      "[12, 10] 18 [20, 22]\n",
      "[14, 12] 18 [8, 10]\n",
      "[14, 12] 18 [10, 12]\n",
      "[14, 12] 18 [12, 14]\n",
      "[14, 12] 18 [14, 16]\n",
      "[14, 12] 18 [16, 18]\n",
      "[14, 12] 18 [18, 20]\n",
      "[14, 12] 18 [20, 22]\n",
      "[16, 14] 18 [8, 10]\n",
      "[16, 14] 18 [10, 12]\n",
      "[16, 14] 18 [12, 14]\n",
      "[16, 14] 18 [14, 16]\n",
      "[16, 14] 18 [16, 18]\n",
      "[16, 14] 18 [18, 20]\n",
      "[16, 14] 18 [20, 22]\n",
      "[18, 16] 18 [8, 10]\n",
      "[18, 16] 18 [10, 12]\n",
      "[18, 16] 18 [12, 14]\n",
      "[18, 16] 18 [14, 16]\n",
      "[18, 16] 18 [16, 18]\n",
      "[18, 16] 18 [18, 20]\n",
      "[18, 16] 18 [20, 22]\n",
      "[20, 18] 18 [8, 10]\n",
      "[20, 18] 18 [10, 12]\n",
      "[20, 18] 18 [12, 14]\n",
      "[20, 18] 18 [14, 16]\n",
      "[20, 18] 18 [16, 18]\n",
      "[20, 18] 18 [18, 20]\n",
      "[20, 18] 18 [20, 22]\n",
      "[22, 20] 18 [8, 10]\n",
      "[22, 20] 18 [10, 12]\n",
      "[22, 20] 18 [12, 14]\n",
      "[22, 20] 18 [14, 16]\n",
      "[22, 20] 18 [16, 18]\n",
      "[22, 20] 18 [18, 20]\n",
      "[22, 20] 18 [20, 22]\n"
     ]
    },
    {
     "name": "stderr",
     "output_type": "stream",
     "text": [
      "\n"
     ]
    }
   ],
   "source": [
    "total_iterations = len(bottle_neck_trial) * len(encoder_dense_layers_trial) * len(decoder_dense_layers_trial)\n",
    "print(\"Total Model in Pipeline:\",total_iterations)\n",
    "\n",
    "#print total models\n",
    "with tqdm(total=total_iterations, desc=\"Overall Progress\") as pbar:\n",
    "    for bn in bottle_neck_trial:\n",
    "        for enc_layers in encoder_dense_layers_trial:\n",
    "            for dec_layers in decoder_dense_layers_trial:\n",
    "                pbar.set_postfix({\"Encoder Dense Layers\": enc_layers, \"Decoder Dense Layers\": dec_layers, \"Bottle Neck\": bn})\n",
    "                print(enc_layers, bn, dec_layers)\n",
    "                pbar.update(1)\n",
    "\n",
    "               \n",
    "\n",
    "\n",
    "# encoder_dense_layers_trial = [[10, 8], [12, 10], [14, 12], [16, 14], [18, 16], [20, 18] ,[22,20]]\n",
    "# decoder_dense_layers_trial = [[8, 10], [10, 12], [12, 14], [14, 16], [16, 18], [18, 20], [20,22]]\n",
    "# bottle_neck_trial = [8, 10, 12, 14, 16, 18]\n",
    "\n",
    "# for bn in bottle_neck_trial:\n",
    "#     for enc_layers, dec_layers in zip(encoder_dense_layers_trial, decoder_dense_layers_trial):\n",
    "#         print(f\"Encoder Dense Layers: {enc_layers}, Decoder Dense Layers: {dec_layers}, Bottle Neck: {bn}\")\n",
    "#         runner(enc_layers, bn, dec_layers)\n",
    "#         print()"
   ]
  },
  {
   "cell_type": "code",
   "execution_count": null,
   "id": "7a1f153d",
   "metadata": {},
   "outputs": [],
   "source": []
  },
  {
   "cell_type": "code",
   "execution_count": null,
   "id": "7877c2f3",
   "metadata": {},
   "outputs": [
    {
     "name": "stderr",
     "output_type": "stream",
     "text": [
      "Overall Progress:   0%|                                                                        | 0/294 [00:00<?, ?it/s, Encoder Dense Layers=[10, 8], Decoder Dense Layers=[8, 10], Bottle Neck=8]"
     ]
    },
    {
     "name": "stdout",
     "output_type": "stream",
     "text": [
      "[10, 8] 8 [8, 10]\n",
      "\n",
      "L24_E10_8_B8_D8_10\n",
      "\n",
      "Training model: L24_E10_8_B8_D8_10\n",
      "Training Complete:\n",
      "Last epoch loss: 0.01919788122177124\n",
      "Last epoch validation loss: 0.028741061687469482\n"
     ]
    },
    {
     "name": "stderr",
     "output_type": "stream",
     "text": [
      "Overall Progress:   0%|▏                                                            | 1/294 [01:21<6:40:01, 81.92s/it, Encoder Dense Layers=[10, 8], Decoder Dense Layers=[10, 12], Bottle Neck=8]"
     ]
    },
    {
     "name": "stdout",
     "output_type": "stream",
     "text": [
      "Reports Saved\n",
      "[10, 8] 8 [10, 12]\n",
      "\n",
      "L24_E10_8_B8_D10_12\n",
      "\n",
      "Training model: L24_E10_8_B8_D10_12\n",
      "Training Complete:\n",
      "Last epoch loss: 0.015513232909142971\n",
      "Last epoch validation loss: 0.021702827885746956\n"
     ]
    },
    {
     "name": "stderr",
     "output_type": "stream",
     "text": [
      "Overall Progress:   1%|▍                                                            | 2/294 [02:42<6:34:57, 81.16s/it, Encoder Dense Layers=[10, 8], Decoder Dense Layers=[12, 14], Bottle Neck=8]"
     ]
    },
    {
     "name": "stdout",
     "output_type": "stream",
     "text": [
      "Reports Saved\n",
      "[10, 8] 8 [12, 14]\n",
      "\n",
      "L24_E10_8_B8_D12_14\n",
      "\n",
      "Training model: L24_E10_8_B8_D12_14\n",
      "Training Complete:\n",
      "Last epoch loss: 0.014072621241211891\n",
      "Last epoch validation loss: 0.02117660827934742\n"
     ]
    },
    {
     "name": "stderr",
     "output_type": "stream",
     "text": [
      "Overall Progress:   1%|▌                                                            | 3/294 [04:04<6:34:19, 81.30s/it, Encoder Dense Layers=[10, 8], Decoder Dense Layers=[14, 16], Bottle Neck=8]"
     ]
    },
    {
     "name": "stdout",
     "output_type": "stream",
     "text": [
      "Reports Saved\n",
      "[10, 8] 8 [14, 16]\n",
      "\n",
      "L24_E10_8_B8_D14_16\n",
      "\n",
      "Training model: L24_E10_8_B8_D14_16\n",
      "Training Complete:\n",
      "Last epoch loss: 0.01294656004756689\n",
      "Last epoch validation loss: 0.019476639106869698\n"
     ]
    },
    {
     "name": "stderr",
     "output_type": "stream",
     "text": [
      "Overall Progress:   1%|▊                                                            | 4/294 [05:25<6:32:34, 81.22s/it, Encoder Dense Layers=[10, 8], Decoder Dense Layers=[16, 18], Bottle Neck=8]"
     ]
    },
    {
     "name": "stdout",
     "output_type": "stream",
     "text": [
      "Reports Saved\n",
      "[10, 8] 8 [16, 18]\n",
      "\n",
      "L24_E10_8_B8_D16_18\n",
      "\n",
      "Training model: L24_E10_8_B8_D16_18\n",
      "Training Complete:\n",
      "Last epoch loss: 0.019764479249715805\n",
      "Last epoch validation loss: 0.02828078903257847\n"
     ]
    },
    {
     "name": "stderr",
     "output_type": "stream",
     "text": [
      "Overall Progress:   2%|█                                                            | 5/294 [06:45<6:30:20, 81.04s/it, Encoder Dense Layers=[10, 8], Decoder Dense Layers=[18, 20], Bottle Neck=8]"
     ]
    },
    {
     "name": "stdout",
     "output_type": "stream",
     "text": [
      "Reports Saved\n",
      "[10, 8] 8 [18, 20]\n",
      "\n",
      "L24_E10_8_B8_D18_20\n",
      "\n",
      "Training model: L24_E10_8_B8_D18_20\n",
      "Training Complete:\n",
      "Last epoch loss: 0.01174696534872055\n",
      "Last epoch validation loss: 0.02050432749092579\n"
     ]
    },
    {
     "name": "stderr",
     "output_type": "stream",
     "text": [
      "Overall Progress:   2%|█▏                                                           | 6/294 [08:07<6:29:28, 81.14s/it, Encoder Dense Layers=[10, 8], Decoder Dense Layers=[20, 22], Bottle Neck=8]"
     ]
    },
    {
     "name": "stdout",
     "output_type": "stream",
     "text": [
      "Reports Saved\n",
      "[10, 8] 8 [20, 22]\n",
      "\n",
      "L24_E10_8_B8_D20_22\n",
      "\n",
      "Training model: L24_E10_8_B8_D20_22\n",
      "Training Complete:\n",
      "Last epoch loss: 0.012417642399668694\n",
      "Last epoch validation loss: 0.018589450046420097\n"
     ]
    },
    {
     "name": "stderr",
     "output_type": "stream",
     "text": [
      "Overall Progress:   2%|█▍                                                           | 7/294 [09:28<6:28:48, 81.28s/it, Encoder Dense Layers=[12, 10], Decoder Dense Layers=[8, 10], Bottle Neck=8]"
     ]
    },
    {
     "name": "stdout",
     "output_type": "stream",
     "text": [
      "Reports Saved\n",
      "[12, 10] 8 [8, 10]\n",
      "\n",
      "L24_E12_10_B8_D8_10\n",
      "\n",
      "Training model: L24_E12_10_B8_D8_10\n",
      "Training Complete:\n",
      "Last epoch loss: 0.013938717544078827\n",
      "Last epoch validation loss: 0.022636402398347855\n"
     ]
    },
    {
     "name": "stderr",
     "output_type": "stream",
     "text": [
      "Overall Progress:   3%|█▋                                                          | 8/294 [10:50<6:27:44, 81.34s/it, Encoder Dense Layers=[12, 10], Decoder Dense Layers=[10, 12], Bottle Neck=8]"
     ]
    },
    {
     "name": "stdout",
     "output_type": "stream",
     "text": [
      "Reports Saved\n",
      "[12, 10] 8 [10, 12]\n",
      "\n",
      "L24_E12_10_B8_D10_12\n",
      "\n",
      "Training model: L24_E12_10_B8_D10_12\n",
      "Training Complete:\n",
      "Last epoch loss: 0.011636351235210896\n",
      "Last epoch validation loss: 0.01669388823211193\n"
     ]
    },
    {
     "name": "stderr",
     "output_type": "stream",
     "text": [
      "Overall Progress:   3%|█▊                                                          | 9/294 [12:10<6:24:24, 80.93s/it, Encoder Dense Layers=[12, 10], Decoder Dense Layers=[12, 14], Bottle Neck=8]"
     ]
    },
    {
     "name": "stdout",
     "output_type": "stream",
     "text": [
      "Reports Saved\n",
      "[12, 10] 8 [12, 14]\n",
      "\n",
      "L24_E12_10_B8_D12_14\n",
      "\n",
      "Training model: L24_E12_10_B8_D12_14\n",
      "Training Complete:\n",
      "Last epoch loss: 0.012443048879504204\n",
      "Last epoch validation loss: 0.01919054053723812\n"
     ]
    },
    {
     "name": "stderr",
     "output_type": "stream",
     "text": [
      "Overall Progress:   3%|██                                                         | 10/294 [13:31<6:22:59, 80.91s/it, Encoder Dense Layers=[12, 10], Decoder Dense Layers=[14, 16], Bottle Neck=8]"
     ]
    },
    {
     "name": "stdout",
     "output_type": "stream",
     "text": [
      "Reports Saved\n",
      "[12, 10] 8 [14, 16]\n",
      "\n",
      "L24_E12_10_B8_D14_16\n",
      "\n",
      "Training model: L24_E12_10_B8_D14_16\n",
      "Training Complete:\n",
      "Last epoch loss: 0.008102953433990479\n",
      "Last epoch validation loss: 0.014436689205467701\n"
     ]
    },
    {
     "name": "stderr",
     "output_type": "stream",
     "text": [
      "Overall Progress:   4%|██▏                                                        | 11/294 [14:52<6:22:41, 81.14s/it, Encoder Dense Layers=[12, 10], Decoder Dense Layers=[16, 18], Bottle Neck=8]"
     ]
    },
    {
     "name": "stdout",
     "output_type": "stream",
     "text": [
      "Reports Saved\n",
      "[12, 10] 8 [16, 18]\n",
      "\n",
      "L24_E12_10_B8_D16_18\n",
      "\n",
      "Training model: L24_E12_10_B8_D16_18\n",
      "Training Complete:\n",
      "Last epoch loss: 0.010453860275447369\n",
      "Last epoch validation loss: 0.01923738606274128\n"
     ]
    },
    {
     "name": "stderr",
     "output_type": "stream",
     "text": [
      "Overall Progress:   4%|██▍                                                        | 12/294 [16:14<6:22:55, 81.47s/it, Encoder Dense Layers=[12, 10], Decoder Dense Layers=[18, 20], Bottle Neck=8]"
     ]
    },
    {
     "name": "stdout",
     "output_type": "stream",
     "text": [
      "Reports Saved\n",
      "[12, 10] 8 [18, 20]\n",
      "\n",
      "L24_E12_10_B8_D18_20\n",
      "\n",
      "Training model: L24_E12_10_B8_D18_20\n",
      "Training Complete:\n",
      "Last epoch loss: 0.01167394034564495\n",
      "Last epoch validation loss: 0.019400691613554955\n"
     ]
    },
    {
     "name": "stderr",
     "output_type": "stream",
     "text": [
      "Overall Progress:   4%|██▌                                                        | 13/294 [17:35<6:20:33, 81.26s/it, Encoder Dense Layers=[12, 10], Decoder Dense Layers=[20, 22], Bottle Neck=8]"
     ]
    },
    {
     "name": "stdout",
     "output_type": "stream",
     "text": [
      "Reports Saved\n",
      "[12, 10] 8 [20, 22]\n",
      "\n",
      "L24_E12_10_B8_D20_22\n",
      "\n",
      "Training model: L24_E12_10_B8_D20_22\n",
      "Training Complete:\n",
      "Last epoch loss: 0.007794174365699291\n",
      "Last epoch validation loss: 0.012883240357041359\n"
     ]
    },
    {
     "name": "stderr",
     "output_type": "stream",
     "text": [
      "Overall Progress:   5%|██▊                                                         | 14/294 [18:57<6:20:02, 81.44s/it, Encoder Dense Layers=[14, 12], Decoder Dense Layers=[8, 10], Bottle Neck=8]"
     ]
    },
    {
     "name": "stdout",
     "output_type": "stream",
     "text": [
      "Reports Saved\n",
      "[14, 12] 8 [8, 10]\n",
      "\n",
      "L24_E14_12_B8_D8_10\n",
      "\n",
      "Training model: L24_E14_12_B8_D8_10\n",
      "Training Complete:\n",
      "Last epoch loss: 0.012017758563160896\n",
      "Last epoch validation loss: 0.01934366300702095\n"
     ]
    },
    {
     "name": "stderr",
     "output_type": "stream",
     "text": [
      "Overall Progress:   5%|███                                                        | 15/294 [20:20<6:20:18, 81.79s/it, Encoder Dense Layers=[14, 12], Decoder Dense Layers=[10, 12], Bottle Neck=8]"
     ]
    },
    {
     "name": "stdout",
     "output_type": "stream",
     "text": [
      "Reports Saved\n",
      "[14, 12] 8 [10, 12]\n",
      "\n",
      "L24_E14_12_B8_D10_12\n",
      "\n",
      "Training model: L24_E14_12_B8_D10_12\n",
      "Training Complete:\n",
      "Last epoch loss: 0.016248146072030067\n",
      "Last epoch validation loss: 0.029378777369856834\n"
     ]
    },
    {
     "name": "stderr",
     "output_type": "stream",
     "text": [
      "Overall Progress:   5%|███▏                                                       | 16/294 [21:40<6:16:44, 81.31s/it, Encoder Dense Layers=[14, 12], Decoder Dense Layers=[12, 14], Bottle Neck=8]"
     ]
    },
    {
     "name": "stdout",
     "output_type": "stream",
     "text": [
      "Reports Saved\n",
      "[14, 12] 8 [12, 14]\n",
      "\n",
      "L24_E14_12_B8_D12_14\n",
      "\n",
      "Training model: L24_E14_12_B8_D12_14\n",
      "Training Complete:\n",
      "Last epoch loss: 0.008625507354736328\n",
      "Last epoch validation loss: 0.013647075742483139\n"
     ]
    },
    {
     "name": "stderr",
     "output_type": "stream",
     "text": [
      "Overall Progress:   6%|███▍                                                       | 17/294 [23:02<6:16:14, 81.50s/it, Encoder Dense Layers=[14, 12], Decoder Dense Layers=[14, 16], Bottle Neck=8]"
     ]
    },
    {
     "name": "stdout",
     "output_type": "stream",
     "text": [
      "Reports Saved\n",
      "[14, 12] 8 [14, 16]\n",
      "\n",
      "L24_E14_12_B8_D14_16\n",
      "\n",
      "Training model: L24_E14_12_B8_D14_16\n",
      "Training Complete:\n",
      "Last epoch loss: 0.011597074568271637\n",
      "Last epoch validation loss: 0.017933351919054985\n"
     ]
    },
    {
     "name": "stderr",
     "output_type": "stream",
     "text": [
      "Overall Progress:   6%|███▌                                                       | 18/294 [24:22<6:13:22, 81.17s/it, Encoder Dense Layers=[14, 12], Decoder Dense Layers=[16, 18], Bottle Neck=8]"
     ]
    },
    {
     "name": "stdout",
     "output_type": "stream",
     "text": [
      "Reports Saved\n",
      "[14, 12] 8 [16, 18]\n",
      "\n",
      "L24_E14_12_B8_D16_18\n",
      "\n",
      "Training model: L24_E14_12_B8_D16_18\n",
      "Training Complete:\n",
      "Last epoch loss: 0.012264274060726166\n",
      "Last epoch validation loss: 0.018988970667123795\n"
     ]
    },
    {
     "name": "stderr",
     "output_type": "stream",
     "text": [
      "Overall Progress:   6%|███▊                                                       | 19/294 [25:43<6:11:23, 81.03s/it, Encoder Dense Layers=[14, 12], Decoder Dense Layers=[18, 20], Bottle Neck=8]"
     ]
    },
    {
     "name": "stdout",
     "output_type": "stream",
     "text": [
      "Reports Saved\n",
      "[14, 12] 8 [18, 20]\n",
      "\n",
      "L24_E14_12_B8_D18_20\n",
      "\n",
      "Training model: L24_E14_12_B8_D18_20\n",
      "Training Complete:\n",
      "Last epoch loss: 0.011935065500438213\n",
      "Last epoch validation loss: 0.017846856266260147\n"
     ]
    },
    {
     "name": "stderr",
     "output_type": "stream",
     "text": [
      "Overall Progress:   7%|████                                                       | 20/294 [27:03<6:09:17, 80.87s/it, Encoder Dense Layers=[14, 12], Decoder Dense Layers=[20, 22], Bottle Neck=8]"
     ]
    },
    {
     "name": "stdout",
     "output_type": "stream",
     "text": [
      "Reports Saved\n",
      "[14, 12] 8 [20, 22]\n",
      "\n",
      "L24_E14_12_B8_D20_22\n",
      "\n",
      "Training model: L24_E14_12_B8_D20_22\n",
      "Training Complete:\n",
      "Last epoch loss: 0.008186204358935356\n",
      "Last epoch validation loss: 0.014005939476191998\n"
     ]
    },
    {
     "name": "stderr",
     "output_type": "stream",
     "text": [
      "Overall Progress:   7%|████▎                                                       | 21/294 [28:24<6:07:22, 80.74s/it, Encoder Dense Layers=[16, 14], Decoder Dense Layers=[8, 10], Bottle Neck=8]"
     ]
    },
    {
     "name": "stdout",
     "output_type": "stream",
     "text": [
      "Reports Saved\n",
      "[16, 14] 8 [8, 10]\n",
      "\n",
      "L24_E16_14_B8_D8_10\n",
      "\n",
      "Training model: L24_E16_14_B8_D8_10\n",
      "Training Complete:\n",
      "Last epoch loss: 0.018447816371917725\n",
      "Last epoch validation loss: 0.028168076649308205\n"
     ]
    },
    {
     "name": "stderr",
     "output_type": "stream",
     "text": [
      "Overall Progress:   7%|████▍                                                      | 22/294 [29:43<6:03:16, 80.13s/it, Encoder Dense Layers=[16, 14], Decoder Dense Layers=[10, 12], Bottle Neck=8]"
     ]
    },
    {
     "name": "stdout",
     "output_type": "stream",
     "text": [
      "Reports Saved\n",
      "[16, 14] 8 [10, 12]\n",
      "\n",
      "L24_E16_14_B8_D10_12\n",
      "\n",
      "Training model: L24_E16_14_B8_D10_12\n",
      "Training Complete:\n",
      "Last epoch loss: 0.012020628899335861\n",
      "Last epoch validation loss: 0.017803987488150597\n"
     ]
    },
    {
     "name": "stderr",
     "output_type": "stream",
     "text": [
      "Overall Progress:   8%|████▌                                                      | 23/294 [31:01<6:00:08, 79.74s/it, Encoder Dense Layers=[16, 14], Decoder Dense Layers=[12, 14], Bottle Neck=8]"
     ]
    },
    {
     "name": "stdout",
     "output_type": "stream",
     "text": [
      "Reports Saved\n",
      "[16, 14] 8 [12, 14]\n",
      "\n",
      "L24_E16_14_B8_D12_14\n",
      "\n",
      "Training model: L24_E16_14_B8_D12_14\n",
      "Training Complete:\n",
      "Last epoch loss: 0.02057965099811554\n",
      "Last epoch validation loss: 0.030475694686174393\n"
     ]
    },
    {
     "name": "stderr",
     "output_type": "stream",
     "text": [
      "Overall Progress:   8%|████▊                                                      | 24/294 [32:23<6:01:07, 80.25s/it, Encoder Dense Layers=[16, 14], Decoder Dense Layers=[14, 16], Bottle Neck=8]"
     ]
    },
    {
     "name": "stdout",
     "output_type": "stream",
     "text": [
      "Reports Saved\n",
      "[16, 14] 8 [14, 16]\n",
      "\n",
      "L24_E16_14_B8_D14_16\n",
      "\n",
      "Training model: L24_E16_14_B8_D14_16\n",
      "Training Complete:\n",
      "Last epoch loss: 0.011574100703001022\n",
      "Last epoch validation loss: 0.01930408366024494\n"
     ]
    },
    {
     "name": "stderr",
     "output_type": "stream",
     "text": [
      "Overall Progress:   9%|█████                                                      | 25/294 [33:42<5:58:13, 79.90s/it, Encoder Dense Layers=[16, 14], Decoder Dense Layers=[16, 18], Bottle Neck=8]"
     ]
    },
    {
     "name": "stdout",
     "output_type": "stream",
     "text": [
      "Reports Saved\n",
      "[16, 14] 8 [16, 18]\n",
      "\n",
      "L24_E16_14_B8_D16_18\n",
      "\n",
      "Training model: L24_E16_14_B8_D16_18\n",
      "Training Complete:\n",
      "Last epoch loss: 0.010922391898930073\n",
      "Last epoch validation loss: 0.018555333837866783\n"
     ]
    },
    {
     "name": "stderr",
     "output_type": "stream",
     "text": [
      "Overall Progress:   9%|█████▏                                                     | 26/294 [35:02<5:57:35, 80.06s/it, Encoder Dense Layers=[16, 14], Decoder Dense Layers=[18, 20], Bottle Neck=8]"
     ]
    },
    {
     "name": "stdout",
     "output_type": "stream",
     "text": [
      "Reports Saved\n",
      "[16, 14] 8 [18, 20]\n",
      "\n",
      "L24_E16_14_B8_D18_20\n",
      "\n",
      "Training model: L24_E16_14_B8_D18_20\n",
      "Training Complete:\n",
      "Last epoch loss: 0.00929838977754116\n",
      "Last epoch validation loss: 0.017097145318984985\n"
     ]
    },
    {
     "name": "stderr",
     "output_type": "stream",
     "text": [
      "Overall Progress:   9%|█████▍                                                     | 27/294 [36:20<5:53:08, 79.36s/it, Encoder Dense Layers=[16, 14], Decoder Dense Layers=[20, 22], Bottle Neck=8]"
     ]
    },
    {
     "name": "stdout",
     "output_type": "stream",
     "text": [
      "Reports Saved\n",
      "[16, 14] 8 [20, 22]\n",
      "\n",
      "L24_E16_14_B8_D20_22\n",
      "\n",
      "Training model: L24_E16_14_B8_D20_22\n",
      "Training Complete:\n",
      "Last epoch loss: 0.008179455995559692\n",
      "Last epoch validation loss: 0.014748106710612774\n"
     ]
    },
    {
     "name": "stderr",
     "output_type": "stream",
     "text": [
      "Overall Progress:  10%|█████▋                                                      | 28/294 [37:38<5:49:29, 78.83s/it, Encoder Dense Layers=[18, 16], Decoder Dense Layers=[8, 10], Bottle Neck=8]"
     ]
    },
    {
     "name": "stdout",
     "output_type": "stream",
     "text": [
      "Reports Saved\n",
      "[18, 16] 8 [8, 10]\n",
      "\n",
      "L24_E18_16_B8_D8_10\n",
      "\n",
      "Training model: L24_E18_16_B8_D8_10\n",
      "Training Complete:\n",
      "Last epoch loss: 0.012420432642102242\n",
      "Last epoch validation loss: 0.019108252599835396\n"
     ]
    },
    {
     "name": "stderr",
     "output_type": "stream",
     "text": [
      "Overall Progress:  10%|█████▊                                                     | 29/294 [38:58<5:49:37, 79.16s/it, Encoder Dense Layers=[18, 16], Decoder Dense Layers=[10, 12], Bottle Neck=8]"
     ]
    },
    {
     "name": "stdout",
     "output_type": "stream",
     "text": [
      "Reports Saved\n",
      "[18, 16] 8 [10, 12]\n",
      "\n",
      "L24_E18_16_B8_D10_12\n",
      "\n",
      "Training model: L24_E18_16_B8_D10_12\n",
      "Training Complete:\n",
      "Last epoch loss: 0.009067871607840061\n",
      "Last epoch validation loss: 0.01493055559694767\n"
     ]
    },
    {
     "name": "stderr",
     "output_type": "stream",
     "text": [
      "Overall Progress:  10%|██████                                                     | 30/294 [40:16<5:47:15, 78.92s/it, Encoder Dense Layers=[18, 16], Decoder Dense Layers=[12, 14], Bottle Neck=8]"
     ]
    },
    {
     "name": "stdout",
     "output_type": "stream",
     "text": [
      "Reports Saved\n",
      "[18, 16] 8 [12, 14]\n",
      "\n",
      "L24_E18_16_B8_D12_14\n",
      "\n",
      "Training model: L24_E18_16_B8_D12_14\n",
      "Training Complete:\n",
      "Last epoch loss: 0.012197817675769329\n",
      "Last epoch validation loss: 0.018243076279759407\n"
     ]
    },
    {
     "name": "stderr",
     "output_type": "stream",
     "text": [
      "Overall Progress:  11%|██████▏                                                    | 31/294 [41:34<5:44:48, 78.66s/it, Encoder Dense Layers=[18, 16], Decoder Dense Layers=[14, 16], Bottle Neck=8]"
     ]
    },
    {
     "name": "stdout",
     "output_type": "stream",
     "text": [
      "Reports Saved\n",
      "[18, 16] 8 [14, 16]\n",
      "\n",
      "L24_E18_16_B8_D14_16\n",
      "\n",
      "Training model: L24_E18_16_B8_D14_16\n",
      "Training Complete:\n",
      "Last epoch loss: 0.007744613103568554\n",
      "Last epoch validation loss: 0.014014098793268204\n"
     ]
    },
    {
     "name": "stderr",
     "output_type": "stream",
     "text": [
      "Overall Progress:  11%|██████▍                                                    | 32/294 [42:54<5:45:21, 79.09s/it, Encoder Dense Layers=[18, 16], Decoder Dense Layers=[16, 18], Bottle Neck=8]"
     ]
    },
    {
     "name": "stdout",
     "output_type": "stream",
     "text": [
      "Reports Saved\n",
      "[18, 16] 8 [16, 18]\n",
      "\n",
      "L24_E18_16_B8_D16_18\n",
      "\n",
      "Training model: L24_E18_16_B8_D16_18\n",
      "Training Complete:\n",
      "Last epoch loss: 0.011372299864888191\n",
      "Last epoch validation loss: 0.01798398233950138\n"
     ]
    },
    {
     "name": "stderr",
     "output_type": "stream",
     "text": [
      "Overall Progress:  11%|██████▌                                                    | 33/294 [44:12<5:42:40, 78.77s/it, Encoder Dense Layers=[18, 16], Decoder Dense Layers=[18, 20], Bottle Neck=8]"
     ]
    },
    {
     "name": "stdout",
     "output_type": "stream",
     "text": [
      "Reports Saved\n",
      "[18, 16] 8 [18, 20]\n",
      "\n",
      "L24_E18_16_B8_D18_20\n",
      "\n",
      "Training model: L24_E18_16_B8_D18_20\n",
      "Training Complete:\n",
      "Last epoch loss: 0.010342694818973541\n",
      "Last epoch validation loss: 0.015412642620503902\n"
     ]
    },
    {
     "name": "stderr",
     "output_type": "stream",
     "text": [
      "Overall Progress:  12%|██████▊                                                    | 34/294 [45:30<5:40:39, 78.61s/it, Encoder Dense Layers=[18, 16], Decoder Dense Layers=[20, 22], Bottle Neck=8]"
     ]
    },
    {
     "name": "stdout",
     "output_type": "stream",
     "text": [
      "Reports Saved\n",
      "[18, 16] 8 [20, 22]\n",
      "\n",
      "L24_E18_16_B8_D20_22\n",
      "\n",
      "Training model: L24_E18_16_B8_D20_22\n",
      "Training Complete:\n",
      "Last epoch loss: 0.008823134005069733\n",
      "Last epoch validation loss: 0.014229481108486652\n"
     ]
    },
    {
     "name": "stderr",
     "output_type": "stream",
     "text": [
      "Overall Progress:  12%|███████▏                                                    | 35/294 [46:49<5:38:53, 78.51s/it, Encoder Dense Layers=[20, 18], Decoder Dense Layers=[8, 10], Bottle Neck=8]"
     ]
    },
    {
     "name": "stdout",
     "output_type": "stream",
     "text": [
      "Reports Saved\n",
      "[20, 18] 8 [8, 10]\n",
      "\n",
      "L24_E20_18_B8_D8_10\n",
      "\n",
      "Training model: L24_E20_18_B8_D8_10\n",
      "Training Complete:\n",
      "Last epoch loss: 0.010397979989647865\n",
      "Last epoch validation loss: 0.016758866608142853\n"
     ]
    },
    {
     "name": "stderr",
     "output_type": "stream",
     "text": [
      "Overall Progress:  12%|███████▏                                                   | 36/294 [48:09<5:40:26, 79.17s/it, Encoder Dense Layers=[20, 18], Decoder Dense Layers=[10, 12], Bottle Neck=8]"
     ]
    },
    {
     "name": "stdout",
     "output_type": "stream",
     "text": [
      "Reports Saved\n",
      "[20, 18] 8 [10, 12]\n",
      "\n",
      "L24_E20_18_B8_D10_12\n",
      "\n",
      "Training model: L24_E20_18_B8_D10_12\n",
      "Training Complete:\n",
      "Last epoch loss: 0.012754635885357857\n",
      "Last epoch validation loss: 0.021201666444540024\n"
     ]
    },
    {
     "name": "stderr",
     "output_type": "stream",
     "text": [
      "Overall Progress:  13%|███████▍                                                   | 37/294 [49:27<5:37:20, 78.76s/it, Encoder Dense Layers=[20, 18], Decoder Dense Layers=[12, 14], Bottle Neck=8]"
     ]
    },
    {
     "name": "stdout",
     "output_type": "stream",
     "text": [
      "Reports Saved\n",
      "[20, 18] 8 [12, 14]\n",
      "\n",
      "L24_E20_18_B8_D12_14\n",
      "\n",
      "Training model: L24_E20_18_B8_D12_14\n",
      "Training Complete:\n",
      "Last epoch loss: 0.00830410048365593\n",
      "Last epoch validation loss: 0.014536813832819462\n"
     ]
    },
    {
     "name": "stderr",
     "output_type": "stream",
     "text": [
      "Overall Progress:  13%|███████▋                                                   | 38/294 [50:45<5:35:02, 78.52s/it, Encoder Dense Layers=[20, 18], Decoder Dense Layers=[14, 16], Bottle Neck=8]"
     ]
    },
    {
     "name": "stdout",
     "output_type": "stream",
     "text": [
      "Reports Saved\n",
      "[20, 18] 8 [14, 16]\n",
      "\n",
      "L24_E20_18_B8_D14_16\n",
      "\n",
      "Training model: L24_E20_18_B8_D14_16\n",
      "Training Complete:\n",
      "Last epoch loss: 0.012056025676429272\n",
      "Last epoch validation loss: 0.019434936344623566\n"
     ]
    },
    {
     "name": "stderr",
     "output_type": "stream",
     "text": [
      "Overall Progress:  13%|███████▊                                                   | 39/294 [52:03<5:32:15, 78.18s/it, Encoder Dense Layers=[20, 18], Decoder Dense Layers=[16, 18], Bottle Neck=8]"
     ]
    },
    {
     "name": "stdout",
     "output_type": "stream",
     "text": [
      "Reports Saved\n",
      "[20, 18] 8 [16, 18]\n",
      "\n",
      "L24_E20_18_B8_D16_18\n",
      "\n",
      "Training model: L24_E20_18_B8_D16_18\n",
      "Training Complete:\n",
      "Last epoch loss: 0.012005288153886795\n",
      "Last epoch validation loss: 0.018404623493552208\n"
     ]
    },
    {
     "name": "stderr",
     "output_type": "stream",
     "text": [
      "Overall Progress:  14%|████████                                                   | 40/294 [53:24<5:34:45, 79.08s/it, Encoder Dense Layers=[20, 18], Decoder Dense Layers=[18, 20], Bottle Neck=8]"
     ]
    },
    {
     "name": "stdout",
     "output_type": "stream",
     "text": [
      "Reports Saved\n",
      "[20, 18] 8 [18, 20]\n",
      "\n",
      "L24_E20_18_B8_D18_20\n",
      "\n",
      "Training model: L24_E20_18_B8_D18_20\n",
      "Training Complete:\n",
      "Last epoch loss: 0.007706989999860525\n",
      "Last epoch validation loss: 0.015377877280116081\n"
     ]
    },
    {
     "name": "stderr",
     "output_type": "stream",
     "text": [
      "Overall Progress:  14%|████████▏                                                  | 41/294 [54:43<5:33:07, 79.00s/it, Encoder Dense Layers=[20, 18], Decoder Dense Layers=[20, 22], Bottle Neck=8]"
     ]
    },
    {
     "name": "stdout",
     "output_type": "stream",
     "text": [
      "Reports Saved\n",
      "[20, 18] 8 [20, 22]\n",
      "\n",
      "L24_E20_18_B8_D20_22\n",
      "\n",
      "Training model: L24_E20_18_B8_D20_22\n",
      "Training Complete:\n",
      "Last epoch loss: 0.006587119307368994\n",
      "Last epoch validation loss: 0.012111391872167587\n"
     ]
    },
    {
     "name": "stderr",
     "output_type": "stream",
     "text": [
      "Overall Progress:  14%|████████▌                                                   | 42/294 [56:01<5:30:59, 78.81s/it, Encoder Dense Layers=[22, 20], Decoder Dense Layers=[8, 10], Bottle Neck=8]"
     ]
    },
    {
     "name": "stdout",
     "output_type": "stream",
     "text": [
      "Reports Saved\n",
      "[22, 20] 8 [8, 10]\n",
      "\n",
      "L24_E22_20_B8_D8_10\n",
      "\n",
      "Training model: L24_E22_20_B8_D8_10\n",
      "Training Complete:\n",
      "Last epoch loss: 0.01940758340060711\n",
      "Last epoch validation loss: 0.0282251238822937\n"
     ]
    },
    {
     "name": "stderr",
     "output_type": "stream",
     "text": [
      "Overall Progress:  15%|████████▋                                                  | 43/294 [57:20<5:30:23, 78.98s/it, Encoder Dense Layers=[22, 20], Decoder Dense Layers=[10, 12], Bottle Neck=8]"
     ]
    },
    {
     "name": "stdout",
     "output_type": "stream",
     "text": [
      "Reports Saved\n",
      "[22, 20] 8 [10, 12]\n",
      "\n",
      "L24_E22_20_B8_D10_12\n",
      "\n",
      "Training model: L24_E22_20_B8_D10_12\n",
      "Training Complete:\n",
      "Last epoch loss: 0.009659336879849434\n",
      "Last epoch validation loss: 0.016833988949656487\n"
     ]
    },
    {
     "name": "stderr",
     "output_type": "stream",
     "text": [
      "Overall Progress:  15%|████████▊                                                  | 44/294 [58:42<5:32:26, 79.79s/it, Encoder Dense Layers=[22, 20], Decoder Dense Layers=[12, 14], Bottle Neck=8]"
     ]
    },
    {
     "name": "stdout",
     "output_type": "stream",
     "text": [
      "Reports Saved\n",
      "[22, 20] 8 [12, 14]\n",
      "\n",
      "L24_E22_20_B8_D12_14\n",
      "\n",
      "Training model: L24_E22_20_B8_D12_14\n",
      "Training Complete:\n",
      "Last epoch loss: 0.011409160681068897\n",
      "Last epoch validation loss: 0.016493597999215126\n"
     ]
    },
    {
     "name": "stderr",
     "output_type": "stream",
     "text": [
      "Overall Progress:  15%|████████▋                                                | 45/294 [1:00:00<5:28:56, 79.26s/it, Encoder Dense Layers=[22, 20], Decoder Dense Layers=[14, 16], Bottle Neck=8]"
     ]
    },
    {
     "name": "stdout",
     "output_type": "stream",
     "text": [
      "Reports Saved\n",
      "[22, 20] 8 [14, 16]\n",
      "\n",
      "L24_E22_20_B8_D14_16\n",
      "\n",
      "Training model: L24_E22_20_B8_D14_16\n",
      "Training Complete:\n",
      "Last epoch loss: 0.011554527096450329\n",
      "Last epoch validation loss: 0.018214266747236252\n"
     ]
    },
    {
     "name": "stderr",
     "output_type": "stream",
     "text": [
      "Overall Progress:  16%|████████▉                                                | 46/294 [1:01:18<5:26:18, 78.95s/it, Encoder Dense Layers=[22, 20], Decoder Dense Layers=[16, 18], Bottle Neck=8]"
     ]
    },
    {
     "name": "stdout",
     "output_type": "stream",
     "text": [
      "Reports Saved\n",
      "[22, 20] 8 [16, 18]\n",
      "\n",
      "L24_E22_20_B8_D16_18\n",
      "\n",
      "Training model: L24_E22_20_B8_D16_18\n",
      "Training Complete:\n",
      "Last epoch loss: 0.009663941338658333\n",
      "Last epoch validation loss: 0.01624295487999916\n"
     ]
    },
    {
     "name": "stderr",
     "output_type": "stream",
     "text": [
      "Overall Progress:  16%|█████████                                                | 47/294 [1:02:36<5:23:52, 78.68s/it, Encoder Dense Layers=[22, 20], Decoder Dense Layers=[18, 20], Bottle Neck=8]"
     ]
    },
    {
     "name": "stdout",
     "output_type": "stream",
     "text": [
      "Reports Saved\n",
      "[22, 20] 8 [18, 20]\n",
      "\n",
      "L24_E22_20_B8_D18_20\n",
      "\n",
      "Training model: L24_E22_20_B8_D18_20\n",
      "Training Complete:\n",
      "Last epoch loss: 0.007704726420342922\n",
      "Last epoch validation loss: 0.01299427729099989\n"
     ]
    },
    {
     "name": "stderr",
     "output_type": "stream",
     "text": [
      "Overall Progress:  16%|█████████▎                                               | 48/294 [1:03:57<5:25:11, 79.31s/it, Encoder Dense Layers=[22, 20], Decoder Dense Layers=[20, 22], Bottle Neck=8]"
     ]
    },
    {
     "name": "stdout",
     "output_type": "stream",
     "text": [
      "Reports Saved\n",
      "[22, 20] 8 [20, 22]\n",
      "\n",
      "L24_E22_20_B8_D20_22\n",
      "\n",
      "Training model: L24_E22_20_B8_D20_22\n",
      "Training Complete:\n",
      "Last epoch loss: 0.012218096293509007\n",
      "Last epoch validation loss: 0.018267596140503883\n"
     ]
    },
    {
     "name": "stderr",
     "output_type": "stream",
     "text": [
      "Overall Progress:  17%|█████████▋                                                | 49/294 [1:05:16<5:23:18, 79.18s/it, Encoder Dense Layers=[10, 8], Decoder Dense Layers=[8, 10], Bottle Neck=10]"
     ]
    },
    {
     "name": "stdout",
     "output_type": "stream",
     "text": [
      "Reports Saved\n",
      "[10, 8] 10 [8, 10]\n",
      "\n",
      "L24_E10_8_B10_D8_10\n",
      "\n",
      "Training model: L24_E10_8_B10_D8_10\n",
      "Training Complete:\n",
      "Last epoch loss: 0.013095888309180737\n",
      "Last epoch validation loss: 0.020047711208462715\n"
     ]
    },
    {
     "name": "stderr",
     "output_type": "stream",
     "text": [
      "Overall Progress:  17%|█████████▋                                               | 50/294 [1:06:34<5:21:10, 78.98s/it, Encoder Dense Layers=[10, 8], Decoder Dense Layers=[10, 12], Bottle Neck=10]"
     ]
    },
    {
     "name": "stdout",
     "output_type": "stream",
     "text": [
      "Reports Saved\n",
      "[10, 8] 10 [10, 12]\n",
      "\n",
      "L24_E10_8_B10_D10_12\n",
      "\n",
      "Training model: L24_E10_8_B10_D10_12\n",
      "Training Complete:\n",
      "Last epoch loss: 0.014434739015996456\n",
      "Last epoch validation loss: 0.02254302427172661\n"
     ]
    },
    {
     "name": "stderr",
     "output_type": "stream",
     "text": [
      "Overall Progress:  17%|█████████▉                                               | 51/294 [1:07:53<5:19:20, 78.85s/it, Encoder Dense Layers=[10, 8], Decoder Dense Layers=[12, 14], Bottle Neck=10]"
     ]
    },
    {
     "name": "stdout",
     "output_type": "stream",
     "text": [
      "Reports Saved\n",
      "[10, 8] 10 [12, 14]\n",
      "\n",
      "L24_E10_8_B10_D12_14\n",
      "\n",
      "Training model: L24_E10_8_B10_D12_14\n",
      "Training Complete:\n",
      "Last epoch loss: 0.01485096849501133\n",
      "Last epoch validation loss: 0.021234018728137016\n"
     ]
    },
    {
     "name": "stderr",
     "output_type": "stream",
     "text": [
      "Overall Progress:  18%|██████████                                               | 52/294 [1:09:10<5:15:53, 78.32s/it, Encoder Dense Layers=[10, 8], Decoder Dense Layers=[14, 16], Bottle Neck=10]"
     ]
    },
    {
     "name": "stdout",
     "output_type": "stream",
     "text": [
      "Reports Saved\n",
      "[10, 8] 10 [14, 16]\n",
      "\n",
      "L24_E10_8_B10_D14_16\n",
      "\n",
      "Training model: L24_E10_8_B10_D14_16\n",
      "Training Complete:\n",
      "Last epoch loss: 0.009601409547030926\n",
      "Last epoch validation loss: 0.016104066744446754\n"
     ]
    },
    {
     "name": "stderr",
     "output_type": "stream",
     "text": [
      "Overall Progress:  18%|██████████▎                                              | 53/294 [1:10:30<5:17:06, 78.95s/it, Encoder Dense Layers=[10, 8], Decoder Dense Layers=[16, 18], Bottle Neck=10]"
     ]
    },
    {
     "name": "stdout",
     "output_type": "stream",
     "text": [
      "Reports Saved\n",
      "[10, 8] 10 [16, 18]\n",
      "\n",
      "L24_E10_8_B10_D16_18\n",
      "\n",
      "Training model: L24_E10_8_B10_D16_18\n",
      "Training Complete:\n",
      "Last epoch loss: 0.018693864345550537\n",
      "Last epoch validation loss: 0.030015995725989342\n"
     ]
    },
    {
     "name": "stderr",
     "output_type": "stream",
     "text": [
      "Overall Progress:  18%|██████████▍                                              | 54/294 [1:11:48<5:14:06, 78.53s/it, Encoder Dense Layers=[10, 8], Decoder Dense Layers=[18, 20], Bottle Neck=10]"
     ]
    },
    {
     "name": "stdout",
     "output_type": "stream",
     "text": [
      "Reports Saved\n",
      "[10, 8] 10 [18, 20]\n",
      "\n",
      "L24_E10_8_B10_D18_20\n",
      "\n",
      "Training model: L24_E10_8_B10_D18_20\n",
      "Training Complete:\n",
      "Last epoch loss: 0.011170872487127781\n",
      "Last epoch validation loss: 0.018911728635430336\n"
     ]
    },
    {
     "name": "stderr",
     "output_type": "stream",
     "text": [
      "Overall Progress:  19%|██████████▋                                              | 55/294 [1:13:07<5:13:06, 78.60s/it, Encoder Dense Layers=[10, 8], Decoder Dense Layers=[20, 22], Bottle Neck=10]"
     ]
    },
    {
     "name": "stdout",
     "output_type": "stream",
     "text": [
      "Reports Saved\n",
      "[10, 8] 10 [20, 22]\n",
      "\n",
      "L24_E10_8_B10_D20_22\n",
      "\n",
      "Training model: L24_E10_8_B10_D20_22\n",
      "Training Complete:\n",
      "Last epoch loss: 0.011481457389891148\n",
      "Last epoch validation loss: 0.01835748739540577\n"
     ]
    },
    {
     "name": "stderr",
     "output_type": "stream",
     "text": [
      "Overall Progress:  19%|██████████▊                                              | 56/294 [1:14:26<5:12:22, 78.75s/it, Encoder Dense Layers=[12, 10], Decoder Dense Layers=[8, 10], Bottle Neck=10]"
     ]
    },
    {
     "name": "stdout",
     "output_type": "stream",
     "text": [
      "Reports Saved\n",
      "[12, 10] 10 [8, 10]\n",
      "\n",
      "L24_E12_10_B10_D8_10\n",
      "\n",
      "Training model: L24_E12_10_B10_D8_10\n",
      "Training Complete:\n",
      "Last epoch loss: 0.01492310967296362\n",
      "Last epoch validation loss: 0.022158106788992882\n"
     ]
    },
    {
     "name": "stderr",
     "output_type": "stream",
     "text": [
      "Overall Progress:  19%|██████████▊                                             | 57/294 [1:15:44<5:10:34, 78.63s/it, Encoder Dense Layers=[12, 10], Decoder Dense Layers=[10, 12], Bottle Neck=10]"
     ]
    },
    {
     "name": "stdout",
     "output_type": "stream",
     "text": [
      "Reports Saved\n",
      "[12, 10] 10 [10, 12]\n",
      "\n",
      "L24_E12_10_B10_D10_12\n",
      "\n",
      "Training model: L24_E12_10_B10_D10_12\n",
      "Training Complete:\n",
      "Last epoch loss: 0.013887850567698479\n",
      "Last epoch validation loss: 0.02216232940554619\n"
     ]
    },
    {
     "name": "stderr",
     "output_type": "stream",
     "text": [
      "Overall Progress:  20%|███████████                                             | 58/294 [1:17:05<5:12:03, 79.34s/it, Encoder Dense Layers=[12, 10], Decoder Dense Layers=[12, 14], Bottle Neck=10]"
     ]
    },
    {
     "name": "stdout",
     "output_type": "stream",
     "text": [
      "Reports Saved\n",
      "[12, 10] 10 [12, 14]\n",
      "\n",
      "L24_E12_10_B10_D12_14\n",
      "\n",
      "Training model: L24_E12_10_B10_D12_14\n",
      "Training Complete:\n",
      "Last epoch loss: 0.0083854328840971\n",
      "Last epoch validation loss: 0.013725724071264267\n"
     ]
    },
    {
     "name": "stderr",
     "output_type": "stream",
     "text": [
      "Overall Progress:  20%|███████████▏                                            | 59/294 [1:18:24<5:10:27, 79.27s/it, Encoder Dense Layers=[12, 10], Decoder Dense Layers=[14, 16], Bottle Neck=10]"
     ]
    },
    {
     "name": "stdout",
     "output_type": "stream",
     "text": [
      "Reports Saved\n",
      "[12, 10] 10 [14, 16]\n",
      "\n",
      "L24_E12_10_B10_D14_16\n",
      "\n",
      "Training model: L24_E12_10_B10_D14_16\n",
      "Training Complete:\n",
      "Last epoch loss: 0.0090943006798625\n",
      "Last epoch validation loss: 0.016257423907518387\n"
     ]
    },
    {
     "name": "stderr",
     "output_type": "stream",
     "text": [
      "Overall Progress:  20%|███████████▍                                            | 60/294 [1:19:44<5:09:18, 79.31s/it, Encoder Dense Layers=[12, 10], Decoder Dense Layers=[16, 18], Bottle Neck=10]"
     ]
    },
    {
     "name": "stdout",
     "output_type": "stream",
     "text": [
      "Reports Saved\n",
      "[12, 10] 10 [16, 18]\n",
      "\n",
      "L24_E12_10_B10_D16_18\n",
      "\n",
      "Training model: L24_E12_10_B10_D16_18\n",
      "Training Complete:\n",
      "Last epoch loss: 0.008816107176244259\n",
      "Last epoch validation loss: 0.015251219272613525\n"
     ]
    },
    {
     "name": "stderr",
     "output_type": "stream",
     "text": [
      "Overall Progress:  21%|███████████▌                                            | 61/294 [1:21:02<5:07:16, 79.13s/it, Encoder Dense Layers=[12, 10], Decoder Dense Layers=[18, 20], Bottle Neck=10]"
     ]
    },
    {
     "name": "stdout",
     "output_type": "stream",
     "text": [
      "Reports Saved\n",
      "[12, 10] 10 [18, 20]\n",
      "\n",
      "L24_E12_10_B10_D18_20\n",
      "\n",
      "Training model: L24_E12_10_B10_D18_20\n",
      "Training Complete:\n",
      "Last epoch loss: 0.012270180508494377\n",
      "Last epoch validation loss: 0.019809847697615623\n"
     ]
    },
    {
     "name": "stderr",
     "output_type": "stream",
     "text": [
      "Overall Progress:  21%|███████████▊                                            | 62/294 [1:22:20<5:04:31, 78.75s/it, Encoder Dense Layers=[12, 10], Decoder Dense Layers=[20, 22], Bottle Neck=10]"
     ]
    },
    {
     "name": "stdout",
     "output_type": "stream",
     "text": [
      "Reports Saved\n",
      "[12, 10] 10 [20, 22]\n",
      "\n",
      "L24_E12_10_B10_D20_22\n",
      "\n",
      "Training model: L24_E12_10_B10_D20_22\n",
      "Training Complete:\n",
      "Last epoch loss: 0.011170084588229656\n",
      "Last epoch validation loss: 0.019247259944677353\n"
     ]
    },
    {
     "name": "stderr",
     "output_type": "stream",
     "text": [
      "Overall Progress:  21%|████████████▏                                            | 63/294 [1:23:39<5:02:50, 78.66s/it, Encoder Dense Layers=[14, 12], Decoder Dense Layers=[8, 10], Bottle Neck=10]"
     ]
    },
    {
     "name": "stdout",
     "output_type": "stream",
     "text": [
      "Reports Saved\n",
      "[14, 12] 10 [8, 10]\n",
      "\n",
      "L24_E14_12_B10_D8_10\n",
      "\n",
      "Training model: L24_E14_12_B10_D8_10\n",
      "Training Complete:\n",
      "Last epoch loss: 0.011353988200426102\n",
      "Last epoch validation loss: 0.018086707219481468\n"
     ]
    },
    {
     "name": "stderr",
     "output_type": "stream",
     "text": [
      "Overall Progress:  22%|████████████▏                                           | 64/294 [1:25:01<5:05:10, 79.61s/it, Encoder Dense Layers=[14, 12], Decoder Dense Layers=[10, 12], Bottle Neck=10]"
     ]
    },
    {
     "name": "stdout",
     "output_type": "stream",
     "text": [
      "Reports Saved\n",
      "[14, 12] 10 [10, 12]\n",
      "\n",
      "L24_E14_12_B10_D10_12\n",
      "\n",
      "Training model: L24_E14_12_B10_D10_12\n",
      "Training Complete:\n",
      "Last epoch loss: 0.010540767572820187\n",
      "Last epoch validation loss: 0.01728825643658638\n"
     ]
    },
    {
     "name": "stderr",
     "output_type": "stream",
     "text": [
      "Overall Progress:  22%|████████████▍                                           | 65/294 [1:26:20<5:03:54, 79.63s/it, Encoder Dense Layers=[14, 12], Decoder Dense Layers=[12, 14], Bottle Neck=10]"
     ]
    },
    {
     "name": "stdout",
     "output_type": "stream",
     "text": [
      "Reports Saved\n",
      "[14, 12] 10 [12, 14]\n",
      "\n",
      "L24_E14_12_B10_D12_14\n",
      "\n",
      "Training model: L24_E14_12_B10_D12_14\n",
      "Training Complete:\n",
      "Last epoch loss: 0.014052112586796284\n",
      "Last epoch validation loss: 0.022830383852124214\n"
     ]
    },
    {
     "name": "stderr",
     "output_type": "stream",
     "text": [
      "Overall Progress:  22%|████████████▌                                           | 66/294 [1:27:39<5:01:50, 79.43s/it, Encoder Dense Layers=[14, 12], Decoder Dense Layers=[14, 16], Bottle Neck=10]"
     ]
    },
    {
     "name": "stdout",
     "output_type": "stream",
     "text": [
      "Reports Saved\n",
      "[14, 12] 10 [14, 16]\n",
      "\n",
      "L24_E14_12_B10_D14_16\n",
      "\n",
      "Training model: L24_E14_12_B10_D14_16\n",
      "Training Complete:\n",
      "Last epoch loss: 0.012248216196894646\n",
      "Last epoch validation loss: 0.01906164549291134\n"
     ]
    },
    {
     "name": "stderr",
     "output_type": "stream",
     "text": [
      "Overall Progress:  23%|████████████▊                                           | 67/294 [1:28:59<5:00:25, 79.41s/it, Encoder Dense Layers=[14, 12], Decoder Dense Layers=[16, 18], Bottle Neck=10]"
     ]
    },
    {
     "name": "stdout",
     "output_type": "stream",
     "text": [
      "Reports Saved\n",
      "[14, 12] 10 [16, 18]\n",
      "\n",
      "L24_E14_12_B10_D16_18\n",
      "\n",
      "Training model: L24_E14_12_B10_D16_18\n",
      "Training Complete:\n",
      "Last epoch loss: 0.010565915144979954\n",
      "Last epoch validation loss: 0.017585813999176025\n"
     ]
    },
    {
     "name": "stderr",
     "output_type": "stream",
     "text": [
      "Overall Progress:  23%|████████████▉                                           | 68/294 [1:30:17<4:58:23, 79.22s/it, Encoder Dense Layers=[14, 12], Decoder Dense Layers=[18, 20], Bottle Neck=10]"
     ]
    },
    {
     "name": "stdout",
     "output_type": "stream",
     "text": [
      "Reports Saved\n",
      "[14, 12] 10 [18, 20]\n",
      "\n",
      "L24_E14_12_B10_D18_20\n",
      "\n",
      "Training model: L24_E14_12_B10_D18_20\n",
      "Training Complete:\n",
      "Last epoch loss: 0.008599595166742802\n",
      "Last epoch validation loss: 0.01438483688980341\n"
     ]
    },
    {
     "name": "stderr",
     "output_type": "stream",
     "text": [
      "Overall Progress:  23%|█████████████▏                                          | 69/294 [1:31:35<4:55:38, 78.84s/it, Encoder Dense Layers=[14, 12], Decoder Dense Layers=[20, 22], Bottle Neck=10]"
     ]
    },
    {
     "name": "stdout",
     "output_type": "stream",
     "text": [
      "Reports Saved\n",
      "[14, 12] 10 [20, 22]\n",
      "\n",
      "L24_E14_12_B10_D20_22\n",
      "\n",
      "Training model: L24_E14_12_B10_D20_22\n",
      "Training Complete:\n",
      "Last epoch loss: 0.011095534078776836\n",
      "Last epoch validation loss: 0.01727195456624031\n"
     ]
    },
    {
     "name": "stderr",
     "output_type": "stream",
     "text": [
      "Overall Progress:  24%|█████████████▌                                           | 70/294 [1:32:54<4:54:03, 78.76s/it, Encoder Dense Layers=[16, 14], Decoder Dense Layers=[8, 10], Bottle Neck=10]"
     ]
    },
    {
     "name": "stdout",
     "output_type": "stream",
     "text": [
      "Reports Saved\n",
      "[16, 14] 10 [8, 10]\n",
      "\n",
      "L24_E16_14_B10_D8_10\n",
      "\n",
      "Training model: L24_E16_14_B10_D8_10\n",
      "Training Complete:\n",
      "Last epoch loss: 0.013862867839634418\n",
      "Last epoch validation loss: 0.022489748895168304\n"
     ]
    },
    {
     "name": "stderr",
     "output_type": "stream",
     "text": [
      "Overall Progress:  24%|█████████████▌                                          | 71/294 [1:34:17<4:57:52, 80.14s/it, Encoder Dense Layers=[16, 14], Decoder Dense Layers=[10, 12], Bottle Neck=10]"
     ]
    },
    {
     "name": "stdout",
     "output_type": "stream",
     "text": [
      "Reports Saved\n",
      "[16, 14] 10 [10, 12]\n",
      "\n",
      "L24_E16_14_B10_D10_12\n",
      "\n",
      "Training model: L24_E16_14_B10_D10_12\n",
      "Training Complete:\n",
      "Last epoch loss: 0.00856271106749773\n",
      "Last epoch validation loss: 0.014577907510101795\n"
     ]
    },
    {
     "name": "stderr",
     "output_type": "stream",
     "text": [
      "Overall Progress:  24%|█████████████▋                                          | 72/294 [1:35:38<4:56:46, 80.21s/it, Encoder Dense Layers=[16, 14], Decoder Dense Layers=[12, 14], Bottle Neck=10]"
     ]
    },
    {
     "name": "stdout",
     "output_type": "stream",
     "text": [
      "Reports Saved\n",
      "[16, 14] 10 [12, 14]\n",
      "\n",
      "L24_E16_14_B10_D12_14\n",
      "\n",
      "Training model: L24_E16_14_B10_D12_14\n",
      "Training Complete:\n",
      "Last epoch loss: 0.008631537668406963\n",
      "Last epoch validation loss: 0.014483388513326645\n"
     ]
    },
    {
     "name": "stderr",
     "output_type": "stream",
     "text": [
      "Overall Progress:  25%|█████████████▉                                          | 73/294 [1:36:58<4:55:09, 80.14s/it, Encoder Dense Layers=[16, 14], Decoder Dense Layers=[14, 16], Bottle Neck=10]"
     ]
    },
    {
     "name": "stdout",
     "output_type": "stream",
     "text": [
      "Reports Saved\n",
      "[16, 14] 10 [14, 16]\n",
      "\n",
      "L24_E16_14_B10_D14_16\n",
      "\n",
      "Training model: L24_E16_14_B10_D14_16\n",
      "Training Complete:\n",
      "Last epoch loss: 0.010405688546597958\n",
      "Last epoch validation loss: 0.016699867323040962\n"
     ]
    },
    {
     "name": "stderr",
     "output_type": "stream",
     "text": [
      "Overall Progress:  25%|██████████████                                          | 74/294 [1:38:16<4:52:12, 79.69s/it, Encoder Dense Layers=[16, 14], Decoder Dense Layers=[16, 18], Bottle Neck=10]"
     ]
    },
    {
     "name": "stdout",
     "output_type": "stream",
     "text": [
      "Reports Saved\n",
      "[16, 14] 10 [16, 18]\n",
      "\n",
      "L24_E16_14_B10_D16_18\n",
      "\n",
      "Training model: L24_E16_14_B10_D16_18\n",
      "Training Complete:\n",
      "Last epoch loss: 0.007755520287901163\n",
      "Last epoch validation loss: 0.013407586142420769\n"
     ]
    },
    {
     "name": "stderr",
     "output_type": "stream",
     "text": [
      "Overall Progress:  26%|██████████████▎                                         | 75/294 [1:39:35<4:50:21, 79.55s/it, Encoder Dense Layers=[16, 14], Decoder Dense Layers=[18, 20], Bottle Neck=10]"
     ]
    },
    {
     "name": "stdout",
     "output_type": "stream",
     "text": [
      "Reports Saved\n",
      "[16, 14] 10 [18, 20]\n",
      "\n",
      "L24_E16_14_B10_D18_20\n",
      "\n",
      "Training model: L24_E16_14_B10_D18_20\n",
      "Training Complete:\n",
      "Last epoch loss: 0.010949167422950268\n",
      "Last epoch validation loss: 0.01876934990286827\n"
     ]
    },
    {
     "name": "stderr",
     "output_type": "stream",
     "text": [
      "Overall Progress:  26%|██████████████▍                                         | 76/294 [1:40:55<4:49:24, 79.65s/it, Encoder Dense Layers=[16, 14], Decoder Dense Layers=[20, 22], Bottle Neck=10]"
     ]
    },
    {
     "name": "stdout",
     "output_type": "stream",
     "text": [
      "Reports Saved\n",
      "[16, 14] 10 [20, 22]\n",
      "\n",
      "L24_E16_14_B10_D20_22\n",
      "\n",
      "Training model: L24_E16_14_B10_D20_22\n",
      "Training Complete:\n",
      "Last epoch loss: 0.007641267031431198\n",
      "Last epoch validation loss: 0.014053281396627426\n"
     ]
    },
    {
     "name": "stderr",
     "output_type": "stream",
     "text": [
      "Overall Progress:  26%|██████████████▉                                          | 77/294 [1:42:14<4:47:23, 79.46s/it, Encoder Dense Layers=[18, 16], Decoder Dense Layers=[8, 10], Bottle Neck=10]"
     ]
    },
    {
     "name": "stdout",
     "output_type": "stream",
     "text": [
      "Reports Saved\n",
      "[18, 16] 10 [8, 10]\n",
      "\n",
      "L24_E18_16_B10_D8_10\n",
      "\n",
      "Training model: L24_E18_16_B10_D8_10\n",
      "Training Complete:\n",
      "Last epoch loss: 0.018659863620996475\n",
      "Last epoch validation loss: 0.02750278450548649\n"
     ]
    },
    {
     "name": "stderr",
     "output_type": "stream",
     "text": [
      "Overall Progress:  27%|██████████████▊                                         | 78/294 [1:43:39<4:51:09, 80.88s/it, Encoder Dense Layers=[18, 16], Decoder Dense Layers=[10, 12], Bottle Neck=10]"
     ]
    },
    {
     "name": "stdout",
     "output_type": "stream",
     "text": [
      "Reports Saved\n",
      "[18, 16] 10 [10, 12]\n",
      "\n",
      "L24_E18_16_B10_D10_12\n",
      "\n",
      "Training model: L24_E18_16_B10_D10_12\n",
      "Training Complete:\n",
      "Last epoch loss: 0.012393446639180183\n",
      "Last epoch validation loss: 0.018427494913339615\n"
     ]
    },
    {
     "name": "stderr",
     "output_type": "stream",
     "text": [
      "Overall Progress:  27%|███████████████                                         | 79/294 [1:44:59<4:49:15, 80.72s/it, Encoder Dense Layers=[18, 16], Decoder Dense Layers=[12, 14], Bottle Neck=10]"
     ]
    },
    {
     "name": "stdout",
     "output_type": "stream",
     "text": [
      "Reports Saved\n",
      "[18, 16] 10 [12, 14]\n",
      "\n",
      "L24_E18_16_B10_D12_14\n",
      "\n",
      "Training model: L24_E18_16_B10_D12_14\n",
      "Training Complete:\n",
      "Last epoch loss: 0.011767720803618431\n",
      "Last epoch validation loss: 0.018419258296489716\n"
     ]
    },
    {
     "name": "stderr",
     "output_type": "stream",
     "text": [
      "Overall Progress:  27%|███████████████▏                                        | 80/294 [1:46:18<4:46:34, 80.35s/it, Encoder Dense Layers=[18, 16], Decoder Dense Layers=[14, 16], Bottle Neck=10]"
     ]
    },
    {
     "name": "stdout",
     "output_type": "stream",
     "text": [
      "Reports Saved\n",
      "[18, 16] 10 [14, 16]\n",
      "\n",
      "L24_E18_16_B10_D14_16\n",
      "\n",
      "Training model: L24_E18_16_B10_D14_16\n",
      "Training Complete:\n",
      "Last epoch loss: 0.010813548229634762\n",
      "Last epoch validation loss: 0.018345559015870094\n"
     ]
    },
    {
     "name": "stderr",
     "output_type": "stream",
     "text": [
      "Overall Progress:  28%|███████████████▍                                        | 81/294 [1:47:39<4:45:08, 80.32s/it, Encoder Dense Layers=[18, 16], Decoder Dense Layers=[16, 18], Bottle Neck=10]"
     ]
    },
    {
     "name": "stdout",
     "output_type": "stream",
     "text": [
      "Reports Saved\n",
      "[18, 16] 10 [16, 18]\n",
      "\n",
      "L24_E18_16_B10_D16_18\n",
      "\n",
      "Training model: L24_E18_16_B10_D16_18\n",
      "Training Complete:\n",
      "Last epoch loss: 0.012726562097668648\n",
      "Last epoch validation loss: 0.01918131858110428\n"
     ]
    },
    {
     "name": "stderr",
     "output_type": "stream",
     "text": [
      "Overall Progress:  28%|███████████████▌                                        | 82/294 [1:49:00<4:44:32, 80.53s/it, Encoder Dense Layers=[18, 16], Decoder Dense Layers=[18, 20], Bottle Neck=10]"
     ]
    },
    {
     "name": "stdout",
     "output_type": "stream",
     "text": [
      "Reports Saved\n",
      "[18, 16] 10 [18, 20]\n",
      "\n",
      "L24_E18_16_B10_D18_20\n",
      "\n",
      "Training model: L24_E18_16_B10_D18_20\n",
      "Training Complete:\n",
      "Last epoch loss: 0.0138242794200778\n",
      "Last epoch validation loss: 0.022541308775544167\n"
     ]
    },
    {
     "name": "stderr",
     "output_type": "stream",
     "text": [
      "Overall Progress:  28%|███████████████▊                                        | 83/294 [1:50:18<4:41:20, 80.00s/it, Encoder Dense Layers=[18, 16], Decoder Dense Layers=[20, 22], Bottle Neck=10]"
     ]
    },
    {
     "name": "stdout",
     "output_type": "stream",
     "text": [
      "Reports Saved\n",
      "[18, 16] 10 [20, 22]\n",
      "\n",
      "L24_E18_16_B10_D20_22\n",
      "\n",
      "Training model: L24_E18_16_B10_D20_22\n",
      "Training Complete:\n",
      "Last epoch loss: 0.006460287608206272\n",
      "Last epoch validation loss: 0.011878252029418945\n"
     ]
    },
    {
     "name": "stderr",
     "output_type": "stream",
     "text": [
      "Overall Progress:  29%|████████████████▎                                        | 84/294 [1:51:37<4:38:58, 79.71s/it, Encoder Dense Layers=[20, 18], Decoder Dense Layers=[8, 10], Bottle Neck=10]"
     ]
    },
    {
     "name": "stdout",
     "output_type": "stream",
     "text": [
      "Reports Saved\n",
      "[20, 18] 10 [8, 10]\n",
      "\n",
      "L24_E20_18_B10_D8_10\n",
      "\n",
      "Training model: L24_E20_18_B10_D8_10\n",
      "Training Complete:\n",
      "Last epoch loss: 0.018895694985985756\n",
      "Last epoch validation loss: 0.02720489539206028\n"
     ]
    },
    {
     "name": "stderr",
     "output_type": "stream",
     "text": [
      "Overall Progress:  29%|████████████████▏                                       | 85/294 [1:52:58<4:38:07, 79.84s/it, Encoder Dense Layers=[20, 18], Decoder Dense Layers=[10, 12], Bottle Neck=10]"
     ]
    },
    {
     "name": "stdout",
     "output_type": "stream",
     "text": [
      "Reports Saved\n",
      "[20, 18] 10 [10, 12]\n",
      "\n",
      "L24_E20_18_B10_D10_12\n",
      "\n",
      "Training model: L24_E20_18_B10_D10_12\n",
      "Training Complete:\n",
      "Last epoch loss: 0.012260718271136284\n",
      "Last epoch validation loss: 0.0187471155077219\n"
     ]
    },
    {
     "name": "stderr",
     "output_type": "stream",
     "text": [
      "Overall Progress:  29%|████████████████▍                                       | 86/294 [1:54:22<4:41:56, 81.33s/it, Encoder Dense Layers=[20, 18], Decoder Dense Layers=[12, 14], Bottle Neck=10]"
     ]
    },
    {
     "name": "stdout",
     "output_type": "stream",
     "text": [
      "Reports Saved\n",
      "[20, 18] 10 [12, 14]\n",
      "\n",
      "L24_E20_18_B10_D12_14\n",
      "\n",
      "Training model: L24_E20_18_B10_D12_14\n",
      "Training Complete:\n",
      "Last epoch loss: 0.009077422320842743\n",
      "Last epoch validation loss: 0.014205416664481163\n"
     ]
    },
    {
     "name": "stderr",
     "output_type": "stream",
     "text": [
      "Overall Progress:  30%|████████████████▌                                       | 87/294 [1:55:44<4:40:44, 81.37s/it, Encoder Dense Layers=[20, 18], Decoder Dense Layers=[14, 16], Bottle Neck=10]"
     ]
    },
    {
     "name": "stdout",
     "output_type": "stream",
     "text": [
      "Reports Saved\n",
      "[20, 18] 10 [14, 16]\n",
      "\n",
      "L24_E20_18_B10_D14_16\n",
      "\n",
      "Training model: L24_E20_18_B10_D14_16\n",
      "Training Complete:\n",
      "Last epoch loss: 0.011248414404690266\n",
      "Last epoch validation loss: 0.018589532002806664\n"
     ]
    },
    {
     "name": "stderr",
     "output_type": "stream",
     "text": [
      "Overall Progress:  30%|████████████████▊                                       | 88/294 [1:57:04<4:37:59, 80.97s/it, Encoder Dense Layers=[20, 18], Decoder Dense Layers=[16, 18], Bottle Neck=10]"
     ]
    },
    {
     "name": "stdout",
     "output_type": "stream",
     "text": [
      "Reports Saved\n",
      "[20, 18] 10 [16, 18]\n",
      "\n",
      "L24_E20_18_B10_D16_18\n",
      "\n",
      "Training model: L24_E20_18_B10_D16_18\n",
      "Training Complete:\n",
      "Last epoch loss: 0.011331407353281975\n",
      "Last epoch validation loss: 0.017680220305919647\n"
     ]
    },
    {
     "name": "stderr",
     "output_type": "stream",
     "text": [
      "Overall Progress:  30%|████████████████▉                                       | 89/294 [1:58:24<4:35:18, 80.58s/it, Encoder Dense Layers=[20, 18], Decoder Dense Layers=[18, 20], Bottle Neck=10]"
     ]
    },
    {
     "name": "stdout",
     "output_type": "stream",
     "text": [
      "Reports Saved\n",
      "[20, 18] 10 [18, 20]\n",
      "\n",
      "L24_E20_18_B10_D18_20\n",
      "\n",
      "Training model: L24_E20_18_B10_D18_20\n",
      "Training Complete:\n",
      "Last epoch loss: 0.007419080939143896\n",
      "Last epoch validation loss: 0.014952411875128746\n"
     ]
    },
    {
     "name": "stderr",
     "output_type": "stream",
     "text": [
      "Overall Progress:  31%|█████████████████▏                                      | 90/294 [1:59:44<4:33:30, 80.45s/it, Encoder Dense Layers=[20, 18], Decoder Dense Layers=[20, 22], Bottle Neck=10]"
     ]
    },
    {
     "name": "stdout",
     "output_type": "stream",
     "text": [
      "Reports Saved\n",
      "[20, 18] 10 [20, 22]\n",
      "\n",
      "L24_E20_18_B10_D20_22\n",
      "\n",
      "Training model: L24_E20_18_B10_D20_22\n",
      "Training Complete:\n",
      "Last epoch loss: 0.011251149699091911\n",
      "Last epoch validation loss: 0.01960609294474125\n"
     ]
    },
    {
     "name": "stderr",
     "output_type": "stream",
     "text": [
      "Overall Progress:  31%|█████████████████▋                                       | 91/294 [2:01:05<4:33:13, 80.76s/it, Encoder Dense Layers=[22, 20], Decoder Dense Layers=[8, 10], Bottle Neck=10]"
     ]
    },
    {
     "name": "stdout",
     "output_type": "stream",
     "text": [
      "Reports Saved\n",
      "[22, 20] 10 [8, 10]\n",
      "\n",
      "L24_E22_20_B10_D8_10\n",
      "\n",
      "Training model: L24_E22_20_B10_D8_10\n",
      "Training Complete:\n",
      "Last epoch loss: 0.016902364790439606\n",
      "Last epoch validation loss: 0.02554941549897194\n"
     ]
    },
    {
     "name": "stderr",
     "output_type": "stream",
     "text": [
      "Overall Progress:  31%|█████████████████▌                                      | 92/294 [2:02:25<4:31:21, 80.60s/it, Encoder Dense Layers=[22, 20], Decoder Dense Layers=[10, 12], Bottle Neck=10]"
     ]
    },
    {
     "name": "stdout",
     "output_type": "stream",
     "text": [
      "Reports Saved\n",
      "[22, 20] 10 [10, 12]\n",
      "\n",
      "L24_E22_20_B10_D10_12\n",
      "\n",
      "Training model: L24_E22_20_B10_D10_12\n",
      "Training Complete:\n",
      "Last epoch loss: 0.011725632473826408\n",
      "Last epoch validation loss: 0.018863601610064507\n"
     ]
    },
    {
     "name": "stderr",
     "output_type": "stream",
     "text": [
      "Overall Progress:  32%|█████████████████▋                                      | 93/294 [2:03:45<4:29:15, 80.38s/it, Encoder Dense Layers=[22, 20], Decoder Dense Layers=[12, 14], Bottle Neck=10]"
     ]
    },
    {
     "name": "stdout",
     "output_type": "stream",
     "text": [
      "Reports Saved\n",
      "[22, 20] 10 [12, 14]\n",
      "\n",
      "L24_E22_20_B10_D12_14\n",
      "\n",
      "Training model: L24_E22_20_B10_D12_14\n",
      "Training Complete:\n",
      "Last epoch loss: 0.010761088691651821\n",
      "Last epoch validation loss: 0.017649201676249504\n"
     ]
    },
    {
     "name": "stderr",
     "output_type": "stream",
     "text": [
      "Overall Progress:  32%|█████████████████▉                                      | 94/294 [2:05:12<4:33:58, 82.19s/it, Encoder Dense Layers=[22, 20], Decoder Dense Layers=[14, 16], Bottle Neck=10]"
     ]
    },
    {
     "name": "stdout",
     "output_type": "stream",
     "text": [
      "Reports Saved\n",
      "[22, 20] 10 [14, 16]\n",
      "\n",
      "L24_E22_20_B10_D14_16\n",
      "\n",
      "Training model: L24_E22_20_B10_D14_16\n",
      "Training Complete:\n",
      "Last epoch loss: 0.00806044228374958\n",
      "Last epoch validation loss: 0.015390848740935326\n"
     ]
    },
    {
     "name": "stderr",
     "output_type": "stream",
     "text": [
      "Overall Progress:  32%|██████████████████                                      | 95/294 [2:06:36<4:34:12, 82.68s/it, Encoder Dense Layers=[22, 20], Decoder Dense Layers=[16, 18], Bottle Neck=10]"
     ]
    },
    {
     "name": "stdout",
     "output_type": "stream",
     "text": [
      "Reports Saved\n",
      "[22, 20] 10 [16, 18]\n",
      "\n",
      "L24_E22_20_B10_D16_18\n",
      "\n",
      "Training model: L24_E22_20_B10_D16_18\n",
      "Training Complete:\n",
      "Last epoch loss: 0.009122710675001144\n",
      "Last epoch validation loss: 0.01536482758820057\n"
     ]
    },
    {
     "name": "stderr",
     "output_type": "stream",
     "text": [
      "Overall Progress:  33%|██████████████████▎                                     | 96/294 [2:07:58<4:32:58, 82.72s/it, Encoder Dense Layers=[22, 20], Decoder Dense Layers=[18, 20], Bottle Neck=10]"
     ]
    },
    {
     "name": "stdout",
     "output_type": "stream",
     "text": [
      "Reports Saved\n",
      "[22, 20] 10 [18, 20]\n",
      "\n",
      "L24_E22_20_B10_D18_20\n",
      "\n",
      "Training model: L24_E22_20_B10_D18_20\n",
      "Training Complete:\n",
      "Last epoch loss: 0.010193328373134136\n",
      "Last epoch validation loss: 0.017260797321796417\n"
     ]
    },
    {
     "name": "stderr",
     "output_type": "stream",
     "text": [
      "Overall Progress:  33%|██████████████████▍                                     | 97/294 [2:09:21<4:31:06, 82.57s/it, Encoder Dense Layers=[22, 20], Decoder Dense Layers=[20, 22], Bottle Neck=10]"
     ]
    },
    {
     "name": "stdout",
     "output_type": "stream",
     "text": [
      "Reports Saved\n",
      "[22, 20] 10 [20, 22]\n",
      "\n",
      "L24_E22_20_B10_D20_22\n",
      "\n",
      "Training model: L24_E22_20_B10_D20_22\n",
      "Training Complete:\n",
      "Last epoch loss: 0.008037720806896687\n",
      "Last epoch validation loss: 0.014035871252417564\n"
     ]
    },
    {
     "name": "stderr",
     "output_type": "stream",
     "text": [
      "Overall Progress:  33%|███████████████████▎                                      | 98/294 [2:10:40<4:26:41, 81.64s/it, Encoder Dense Layers=[10, 8], Decoder Dense Layers=[8, 10], Bottle Neck=12]"
     ]
    },
    {
     "name": "stdout",
     "output_type": "stream",
     "text": [
      "Reports Saved\n",
      "[10, 8] 12 [8, 10]\n",
      "\n",
      "L24_E10_8_B12_D8_10\n",
      "\n",
      "Training model: L24_E10_8_B12_D8_10\n",
      "Training Complete:\n",
      "Last epoch loss: 0.018169742077589035\n",
      "Last epoch validation loss: 0.02976839430630207\n"
     ]
    },
    {
     "name": "stderr",
     "output_type": "stream",
     "text": [
      "Overall Progress:  34%|███████████████████▏                                     | 99/294 [2:12:00<4:23:47, 81.17s/it, Encoder Dense Layers=[10, 8], Decoder Dense Layers=[10, 12], Bottle Neck=12]"
     ]
    },
    {
     "name": "stdout",
     "output_type": "stream",
     "text": [
      "Reports Saved\n",
      "[10, 8] 12 [10, 12]\n",
      "\n",
      "L24_E10_8_B12_D10_12\n",
      "\n",
      "Training model: L24_E10_8_B12_D10_12\n",
      "Training Complete:\n",
      "Last epoch loss: 0.01590266451239586\n",
      "Last epoch validation loss: 0.024805424734950066\n"
     ]
    },
    {
     "name": "stderr",
     "output_type": "stream",
     "text": [
      "Overall Progress:  34%|███████████████████                                     | 100/294 [2:13:18<4:19:27, 80.25s/it, Encoder Dense Layers=[10, 8], Decoder Dense Layers=[12, 14], Bottle Neck=12]"
     ]
    },
    {
     "name": "stdout",
     "output_type": "stream",
     "text": [
      "Reports Saved\n",
      "[10, 8] 12 [12, 14]\n",
      "\n",
      "L24_E10_8_B12_D12_14\n",
      "\n",
      "Training model: L24_E10_8_B12_D12_14\n",
      "Training Complete:\n",
      "Last epoch loss: 0.012309910729527473\n",
      "Last epoch validation loss: 0.01851625367999077\n"
     ]
    },
    {
     "name": "stderr",
     "output_type": "stream",
     "text": [
      "Overall Progress:  34%|███████████████████▏                                    | 101/294 [2:14:39<4:18:55, 80.49s/it, Encoder Dense Layers=[10, 8], Decoder Dense Layers=[14, 16], Bottle Neck=12]"
     ]
    },
    {
     "name": "stdout",
     "output_type": "stream",
     "text": [
      "Reports Saved\n",
      "[10, 8] 12 [14, 16]\n",
      "\n",
      "L24_E10_8_B12_D14_16\n",
      "\n",
      "Training model: L24_E10_8_B12_D14_16\n",
      "Training Complete:\n",
      "Last epoch loss: 0.018891265615820885\n",
      "Last epoch validation loss: 0.02857331745326519\n"
     ]
    },
    {
     "name": "stderr",
     "output_type": "stream",
     "text": [
      "Overall Progress:  35%|███████████████████▍                                    | 102/294 [2:15:57<4:15:15, 79.77s/it, Encoder Dense Layers=[10, 8], Decoder Dense Layers=[16, 18], Bottle Neck=12]"
     ]
    },
    {
     "name": "stdout",
     "output_type": "stream",
     "text": [
      "Reports Saved\n",
      "[10, 8] 12 [16, 18]\n",
      "\n",
      "L24_E10_8_B12_D16_18\n",
      "\n",
      "Training model: L24_E10_8_B12_D16_18\n",
      "Training Complete:\n",
      "Last epoch loss: 0.008451344445347786\n",
      "Last epoch validation loss: 0.015271536074578762\n"
     ]
    },
    {
     "name": "stderr",
     "output_type": "stream",
     "text": [
      "Overall Progress:  35%|███████████████████▌                                    | 103/294 [2:17:15<4:12:11, 79.22s/it, Encoder Dense Layers=[10, 8], Decoder Dense Layers=[18, 20], Bottle Neck=12]"
     ]
    },
    {
     "name": "stdout",
     "output_type": "stream",
     "text": [
      "Reports Saved\n",
      "[10, 8] 12 [18, 20]\n",
      "\n",
      "L24_E10_8_B12_D18_20\n",
      "\n",
      "Training model: L24_E10_8_B12_D18_20\n",
      "Training Complete:\n",
      "Last epoch loss: 0.011688129045069218\n",
      "Last epoch validation loss: 0.01960299164056778\n"
     ]
    },
    {
     "name": "stderr",
     "output_type": "stream",
     "text": [
      "Overall Progress:  35%|███████████████████▊                                    | 104/294 [2:18:42<4:18:17, 81.56s/it, Encoder Dense Layers=[10, 8], Decoder Dense Layers=[20, 22], Bottle Neck=12]"
     ]
    },
    {
     "name": "stdout",
     "output_type": "stream",
     "text": [
      "Reports Saved\n",
      "[10, 8] 12 [20, 22]\n",
      "\n",
      "L24_E10_8_B12_D20_22\n",
      "\n",
      "Training model: L24_E10_8_B12_D20_22\n",
      "Training Complete:\n",
      "Last epoch loss: 0.01130339503288269\n",
      "Last epoch validation loss: 0.017335478216409683\n"
     ]
    },
    {
     "name": "stderr",
     "output_type": "stream",
     "text": [
      "Overall Progress:  36%|████████████████████                                    | 105/294 [2:20:03<4:16:05, 81.30s/it, Encoder Dense Layers=[12, 10], Decoder Dense Layers=[8, 10], Bottle Neck=12]"
     ]
    },
    {
     "name": "stdout",
     "output_type": "stream",
     "text": [
      "Reports Saved\n",
      "[12, 10] 12 [8, 10]\n",
      "\n",
      "L24_E12_10_B12_D8_10\n",
      "\n",
      "Training model: L24_E12_10_B12_D8_10\n",
      "Training Complete:\n",
      "Last epoch loss: 0.011893080547451973\n",
      "Last epoch validation loss: 0.020159656181931496\n"
     ]
    },
    {
     "name": "stderr",
     "output_type": "stream",
     "text": [
      "Overall Progress:  36%|███████████████████▊                                   | 106/294 [2:21:22<4:12:43, 80.66s/it, Encoder Dense Layers=[12, 10], Decoder Dense Layers=[10, 12], Bottle Neck=12]"
     ]
    },
    {
     "name": "stdout",
     "output_type": "stream",
     "text": [
      "Reports Saved\n",
      "[12, 10] 12 [10, 12]\n",
      "\n",
      "L24_E12_10_B12_D10_12\n",
      "\n",
      "Training model: L24_E12_10_B12_D10_12\n",
      "Training Complete:\n",
      "Last epoch loss: 0.017418036237359047\n",
      "Last epoch validation loss: 0.030507316812872887\n"
     ]
    },
    {
     "name": "stderr",
     "output_type": "stream",
     "text": [
      "Overall Progress:  36%|████████████████████                                   | 107/294 [2:22:41<4:09:16, 79.98s/it, Encoder Dense Layers=[12, 10], Decoder Dense Layers=[12, 14], Bottle Neck=12]"
     ]
    },
    {
     "name": "stdout",
     "output_type": "stream",
     "text": [
      "Reports Saved\n",
      "[12, 10] 12 [12, 14]\n",
      "\n",
      "L24_E12_10_B12_D12_14\n",
      "\n",
      "Training model: L24_E12_10_B12_D12_14\n",
      "Training Complete:\n",
      "Last epoch loss: 0.013802526518702507\n",
      "Last epoch validation loss: 0.02152399532496929\n"
     ]
    },
    {
     "name": "stderr",
     "output_type": "stream",
     "text": [
      "Overall Progress:  37%|████████████████████▏                                  | 108/294 [2:23:59<4:06:27, 79.50s/it, Encoder Dense Layers=[12, 10], Decoder Dense Layers=[14, 16], Bottle Neck=12]"
     ]
    },
    {
     "name": "stdout",
     "output_type": "stream",
     "text": [
      "Reports Saved\n",
      "[12, 10] 12 [14, 16]\n",
      "\n",
      "L24_E12_10_B12_D14_16\n",
      "\n",
      "Training model: L24_E12_10_B12_D14_16\n",
      "Training Complete:\n",
      "Last epoch loss: 0.012412767857313156\n",
      "Last epoch validation loss: 0.019663464277982712\n"
     ]
    },
    {
     "name": "stderr",
     "output_type": "stream",
     "text": [
      "Overall Progress:  37%|████████████████████▍                                  | 109/294 [2:25:18<4:04:56, 79.44s/it, Encoder Dense Layers=[12, 10], Decoder Dense Layers=[16, 18], Bottle Neck=12]"
     ]
    },
    {
     "name": "stdout",
     "output_type": "stream",
     "text": [
      "Reports Saved\n",
      "[12, 10] 12 [16, 18]\n",
      "\n",
      "L24_E12_10_B12_D16_18\n",
      "\n",
      "Training model: L24_E12_10_B12_D16_18\n",
      "Training Complete:\n",
      "Last epoch loss: 0.008733398281037807\n",
      "Last epoch validation loss: 0.01559785008430481\n"
     ]
    },
    {
     "name": "stderr",
     "output_type": "stream",
     "text": [
      "Overall Progress:  37%|████████████████████▌                                  | 110/294 [2:26:37<4:02:40, 79.13s/it, Encoder Dense Layers=[12, 10], Decoder Dense Layers=[18, 20], Bottle Neck=12]"
     ]
    },
    {
     "name": "stdout",
     "output_type": "stream",
     "text": [
      "Reports Saved\n",
      "[12, 10] 12 [18, 20]\n",
      "\n",
      "L24_E12_10_B12_D18_20\n",
      "\n",
      "Training model: L24_E12_10_B12_D18_20\n",
      "Training Complete:\n",
      "Last epoch loss: 0.018129169940948486\n",
      "Last epoch validation loss: 0.026711683720350266\n"
     ]
    },
    {
     "name": "stderr",
     "output_type": "stream",
     "text": [
      "Overall Progress:  38%|████████████████████▊                                  | 111/294 [2:27:56<4:01:06, 79.05s/it, Encoder Dense Layers=[12, 10], Decoder Dense Layers=[20, 22], Bottle Neck=12]"
     ]
    },
    {
     "name": "stdout",
     "output_type": "stream",
     "text": [
      "Reports Saved\n",
      "[12, 10] 12 [20, 22]\n",
      "\n",
      "L24_E12_10_B12_D20_22\n",
      "\n",
      "Training model: L24_E12_10_B12_D20_22\n",
      "Training Complete:\n",
      "Last epoch loss: 0.007135532330721617\n",
      "Last epoch validation loss: 0.013752180151641369\n"
     ]
    },
    {
     "name": "stderr",
     "output_type": "stream",
     "text": [
      "Overall Progress:  38%|█████████████████████▎                                  | 112/294 [2:29:14<3:59:42, 79.02s/it, Encoder Dense Layers=[14, 12], Decoder Dense Layers=[8, 10], Bottle Neck=12]"
     ]
    },
    {
     "name": "stdout",
     "output_type": "stream",
     "text": [
      "Reports Saved\n",
      "[14, 12] 12 [8, 10]\n",
      "\n",
      "L24_E14_12_B12_D8_10\n",
      "\n",
      "Training model: L24_E14_12_B12_D8_10\n",
      "Training Complete:\n",
      "Last epoch loss: 0.00875157956033945\n",
      "Last epoch validation loss: 0.015023356303572655\n"
     ]
    },
    {
     "name": "stderr",
     "output_type": "stream",
     "text": [
      "Overall Progress:  38%|█████████████████████▏                                 | 113/294 [2:30:33<3:58:15, 78.98s/it, Encoder Dense Layers=[14, 12], Decoder Dense Layers=[10, 12], Bottle Neck=12]"
     ]
    },
    {
     "name": "stdout",
     "output_type": "stream",
     "text": [
      "Reports Saved\n",
      "[14, 12] 12 [10, 12]\n",
      "\n",
      "L24_E14_12_B12_D10_12\n",
      "\n",
      "Training model: L24_E14_12_B12_D10_12\n",
      "Training Complete:\n",
      "Last epoch loss: 0.01224931888282299\n",
      "Last epoch validation loss: 0.022560905665159225\n"
     ]
    },
    {
     "name": "stderr",
     "output_type": "stream",
     "text": [
      "Overall Progress:  39%|█████████████████████▎                                 | 114/294 [2:31:59<4:02:32, 80.85s/it, Encoder Dense Layers=[14, 12], Decoder Dense Layers=[12, 14], Bottle Neck=12]"
     ]
    },
    {
     "name": "stdout",
     "output_type": "stream",
     "text": [
      "Reports Saved\n",
      "[14, 12] 12 [12, 14]\n",
      "\n",
      "L24_E14_12_B12_D12_14\n",
      "\n",
      "Training model: L24_E14_12_B12_D12_14\n",
      "Training Complete:\n",
      "Last epoch loss: 0.011412075720727444\n",
      "Last epoch validation loss: 0.018158379942178726\n"
     ]
    },
    {
     "name": "stderr",
     "output_type": "stream",
     "text": [
      "Overall Progress:  39%|█████████████████████▌                                 | 115/294 [2:33:19<4:00:55, 80.76s/it, Encoder Dense Layers=[14, 12], Decoder Dense Layers=[14, 16], Bottle Neck=12]"
     ]
    },
    {
     "name": "stdout",
     "output_type": "stream",
     "text": [
      "Reports Saved\n",
      "[14, 12] 12 [14, 16]\n",
      "\n",
      "L24_E14_12_B12_D14_16\n",
      "\n",
      "Training model: L24_E14_12_B12_D14_16\n",
      "Training Complete:\n",
      "Last epoch loss: 0.010324908420443535\n",
      "Last epoch validation loss: 0.01866239495575428\n"
     ]
    },
    {
     "name": "stderr",
     "output_type": "stream",
     "text": [
      "Overall Progress:  39%|█████████████████████▋                                 | 116/294 [2:34:38<3:58:01, 80.23s/it, Encoder Dense Layers=[14, 12], Decoder Dense Layers=[16, 18], Bottle Neck=12]"
     ]
    },
    {
     "name": "stdout",
     "output_type": "stream",
     "text": [
      "Reports Saved\n",
      "[14, 12] 12 [16, 18]\n",
      "\n",
      "L24_E14_12_B12_D16_18\n",
      "\n",
      "Training model: L24_E14_12_B12_D16_18\n",
      "Training Complete:\n",
      "Last epoch loss: 0.013096247799694538\n",
      "Last epoch validation loss: 0.023034946992993355\n"
     ]
    },
    {
     "name": "stderr",
     "output_type": "stream",
     "text": [
      "Overall Progress:  40%|█████████████████████▉                                 | 117/294 [2:35:57<3:55:14, 79.75s/it, Encoder Dense Layers=[14, 12], Decoder Dense Layers=[18, 20], Bottle Neck=12]"
     ]
    },
    {
     "name": "stdout",
     "output_type": "stream",
     "text": [
      "Reports Saved\n",
      "[14, 12] 12 [18, 20]\n",
      "\n",
      "L24_E14_12_B12_D18_20\n",
      "\n",
      "Training model: L24_E14_12_B12_D18_20\n",
      "Training Complete:\n",
      "Last epoch loss: 0.011513033881783485\n",
      "Last epoch validation loss: 0.018748851493000984\n"
     ]
    },
    {
     "name": "stderr",
     "output_type": "stream",
     "text": [
      "Overall Progress:  40%|██████████████████████                                 | 118/294 [2:37:16<3:53:19, 79.55s/it, Encoder Dense Layers=[14, 12], Decoder Dense Layers=[20, 22], Bottle Neck=12]"
     ]
    },
    {
     "name": "stdout",
     "output_type": "stream",
     "text": [
      "Reports Saved\n",
      "[14, 12] 12 [20, 22]\n",
      "\n",
      "L24_E14_12_B12_D20_22\n",
      "\n",
      "Training model: L24_E14_12_B12_D20_22\n",
      "Training Complete:\n",
      "Last epoch loss: 0.010997924953699112\n",
      "Last epoch validation loss: 0.01820898987352848\n"
     ]
    },
    {
     "name": "stderr",
     "output_type": "stream",
     "text": [
      "Overall Progress:  40%|██████████████████████▋                                 | 119/294 [2:38:34<3:50:50, 79.15s/it, Encoder Dense Layers=[16, 14], Decoder Dense Layers=[8, 10], Bottle Neck=12]"
     ]
    },
    {
     "name": "stdout",
     "output_type": "stream",
     "text": [
      "Reports Saved\n",
      "[16, 14] 12 [8, 10]\n",
      "\n",
      "L24_E16_14_B12_D8_10\n",
      "\n",
      "Training model: L24_E16_14_B12_D8_10\n",
      "Training Complete:\n",
      "Last epoch loss: 0.01660221442580223\n",
      "Last epoch validation loss: 0.025639723986387253\n"
     ]
    },
    {
     "name": "stderr",
     "output_type": "stream",
     "text": [
      "Overall Progress:  41%|██████████████████████▍                                | 120/294 [2:39:53<3:49:23, 79.10s/it, Encoder Dense Layers=[16, 14], Decoder Dense Layers=[10, 12], Bottle Neck=12]"
     ]
    },
    {
     "name": "stdout",
     "output_type": "stream",
     "text": [
      "Reports Saved\n",
      "[16, 14] 12 [10, 12]\n",
      "\n",
      "L24_E16_14_B12_D10_12\n",
      "\n",
      "Training model: L24_E16_14_B12_D10_12\n",
      "Training Complete:\n",
      "Last epoch loss: 0.014416160061955452\n",
      "Last epoch validation loss: 0.024365995079278946\n"
     ]
    },
    {
     "name": "stderr",
     "output_type": "stream",
     "text": [
      "Overall Progress:  41%|██████████████████████▋                                | 121/294 [2:41:12<3:47:40, 78.96s/it, Encoder Dense Layers=[16, 14], Decoder Dense Layers=[12, 14], Bottle Neck=12]"
     ]
    },
    {
     "name": "stdout",
     "output_type": "stream",
     "text": [
      "Reports Saved\n",
      "[16, 14] 12 [12, 14]\n",
      "\n",
      "L24_E16_14_B12_D12_14\n",
      "\n",
      "Training model: L24_E16_14_B12_D12_14\n",
      "Training Complete:\n",
      "Last epoch loss: 0.010267562232911587\n",
      "Last epoch validation loss: 0.01774398237466812\n"
     ]
    },
    {
     "name": "stderr",
     "output_type": "stream",
     "text": [
      "Overall Progress:  41%|██████████████████████▊                                | 122/294 [2:42:29<3:45:19, 78.60s/it, Encoder Dense Layers=[16, 14], Decoder Dense Layers=[14, 16], Bottle Neck=12]"
     ]
    },
    {
     "name": "stdout",
     "output_type": "stream",
     "text": [
      "Reports Saved\n",
      "[16, 14] 12 [14, 16]\n",
      "\n",
      "L24_E16_14_B12_D14_16\n",
      "\n",
      "Training model: L24_E16_14_B12_D14_16\n",
      "Training Complete:\n",
      "Last epoch loss: 0.009164593182504177\n",
      "Last epoch validation loss: 0.015559553168714046\n"
     ]
    },
    {
     "name": "stderr",
     "output_type": "stream",
     "text": [
      "Overall Progress:  42%|███████████████████████                                | 123/294 [2:43:48<3:43:59, 78.59s/it, Encoder Dense Layers=[16, 14], Decoder Dense Layers=[16, 18], Bottle Neck=12]"
     ]
    },
    {
     "name": "stdout",
     "output_type": "stream",
     "text": [
      "Reports Saved\n",
      "[16, 14] 12 [16, 18]\n",
      "\n",
      "L24_E16_14_B12_D16_18\n",
      "\n",
      "Training model: L24_E16_14_B12_D16_18\n",
      "Training Complete:\n",
      "Last epoch loss: 0.008710240013897419\n",
      "Last epoch validation loss: 0.015190479345619678\n"
     ]
    },
    {
     "name": "stderr",
     "output_type": "stream",
     "text": [
      "Overall Progress:  42%|███████████████████████▏                               | 124/294 [2:45:06<3:42:21, 78.48s/it, Encoder Dense Layers=[16, 14], Decoder Dense Layers=[18, 20], Bottle Neck=12]"
     ]
    },
    {
     "name": "stdout",
     "output_type": "stream",
     "text": [
      "Reports Saved\n",
      "[16, 14] 12 [18, 20]\n",
      "\n",
      "L24_E16_14_B12_D18_20\n",
      "\n",
      "Training model: L24_E16_14_B12_D18_20\n",
      "Training Complete:\n",
      "Last epoch loss: 0.011062374338507652\n",
      "Last epoch validation loss: 0.017860019579529762\n"
     ]
    },
    {
     "name": "stderr",
     "output_type": "stream",
     "text": [
      "Overall Progress:  43%|███████████████████████▍                               | 125/294 [2:46:32<3:47:36, 80.81s/it, Encoder Dense Layers=[16, 14], Decoder Dense Layers=[20, 22], Bottle Neck=12]"
     ]
    },
    {
     "name": "stdout",
     "output_type": "stream",
     "text": [
      "Reports Saved\n",
      "[16, 14] 12 [20, 22]\n",
      "\n",
      "L24_E16_14_B12_D20_22\n",
      "\n",
      "Training model: L24_E16_14_B12_D20_22\n",
      "Training Complete:\n",
      "Last epoch loss: 0.00668318010866642\n",
      "Last epoch validation loss: 0.012467757798731327\n"
     ]
    },
    {
     "name": "stderr",
     "output_type": "stream",
     "text": [
      "Overall Progress:  43%|████████████████████████                                | 126/294 [2:47:53<3:46:03, 80.73s/it, Encoder Dense Layers=[18, 16], Decoder Dense Layers=[8, 10], Bottle Neck=12]"
     ]
    },
    {
     "name": "stdout",
     "output_type": "stream",
     "text": [
      "Reports Saved\n",
      "[18, 16] 12 [8, 10]\n",
      "\n",
      "L24_E18_16_B12_D8_10\n",
      "\n",
      "Training model: L24_E18_16_B12_D8_10\n",
      "Training Complete:\n",
      "Last epoch loss: 0.015580628998577595\n",
      "Last epoch validation loss: 0.02254551462829113\n"
     ]
    },
    {
     "name": "stderr",
     "output_type": "stream",
     "text": [
      "Overall Progress:  43%|███████████████████████▊                               | 127/294 [2:49:12<3:43:27, 80.29s/it, Encoder Dense Layers=[18, 16], Decoder Dense Layers=[10, 12], Bottle Neck=12]"
     ]
    },
    {
     "name": "stdout",
     "output_type": "stream",
     "text": [
      "Reports Saved\n",
      "[18, 16] 12 [10, 12]\n",
      "\n",
      "L24_E18_16_B12_D10_12\n",
      "\n",
      "Training model: L24_E18_16_B12_D10_12\n",
      "Training Complete:\n",
      "Last epoch loss: 0.015109281055629253\n",
      "Last epoch validation loss: 0.024233007803559303\n"
     ]
    },
    {
     "name": "stderr",
     "output_type": "stream",
     "text": [
      "Overall Progress:  44%|███████████████████████▉                               | 128/294 [2:50:33<3:42:21, 80.37s/it, Encoder Dense Layers=[18, 16], Decoder Dense Layers=[12, 14], Bottle Neck=12]"
     ]
    },
    {
     "name": "stdout",
     "output_type": "stream",
     "text": [
      "Reports Saved\n",
      "[18, 16] 12 [12, 14]\n",
      "\n",
      "L24_E18_16_B12_D12_14\n",
      "\n",
      "Training model: L24_E18_16_B12_D12_14\n",
      "Training Complete:\n",
      "Last epoch loss: 0.0074932761490345\n",
      "Last epoch validation loss: 0.012829722836613655\n"
     ]
    },
    {
     "name": "stderr",
     "output_type": "stream",
     "text": [
      "Overall Progress:  44%|████████████████████████▏                              | 129/294 [2:51:51<3:39:35, 79.85s/it, Encoder Dense Layers=[18, 16], Decoder Dense Layers=[14, 16], Bottle Neck=12]"
     ]
    },
    {
     "name": "stdout",
     "output_type": "stream",
     "text": [
      "Reports Saved\n",
      "[18, 16] 12 [14, 16]\n",
      "\n",
      "L24_E18_16_B12_D14_16\n",
      "\n",
      "Training model: L24_E18_16_B12_D14_16\n",
      "Training Complete:\n",
      "Last epoch loss: 0.010380706749856472\n",
      "Last epoch validation loss: 0.017630256712436676\n"
     ]
    },
    {
     "name": "stderr",
     "output_type": "stream",
     "text": [
      "Overall Progress:  44%|████████████████████████▎                              | 130/294 [2:53:11<3:38:07, 79.80s/it, Encoder Dense Layers=[18, 16], Decoder Dense Layers=[16, 18], Bottle Neck=12]"
     ]
    },
    {
     "name": "stdout",
     "output_type": "stream",
     "text": [
      "Reports Saved\n",
      "[18, 16] 12 [16, 18]\n",
      "\n",
      "L24_E18_16_B12_D16_18\n",
      "\n",
      "Training model: L24_E18_16_B12_D16_18\n",
      "Training Complete:\n",
      "Last epoch loss: 0.007098697591573\n",
      "Last epoch validation loss: 0.01187165454030037\n"
     ]
    },
    {
     "name": "stderr",
     "output_type": "stream",
     "text": [
      "Overall Progress:  45%|████████████████████████▌                              | 131/294 [2:54:31<3:36:48, 79.81s/it, Encoder Dense Layers=[18, 16], Decoder Dense Layers=[18, 20], Bottle Neck=12]"
     ]
    },
    {
     "name": "stdout",
     "output_type": "stream",
     "text": [
      "Reports Saved\n",
      "[18, 16] 12 [18, 20]\n",
      "\n",
      "L24_E18_16_B12_D18_20\n",
      "\n",
      "Training model: L24_E18_16_B12_D18_20\n",
      "Training Complete:\n",
      "Last epoch loss: 0.007589429616928101\n",
      "Last epoch validation loss: 0.01392208132892847\n"
     ]
    },
    {
     "name": "stderr",
     "output_type": "stream",
     "text": [
      "Overall Progress:  45%|████████████████████████▋                              | 132/294 [2:55:49<3:34:20, 79.39s/it, Encoder Dense Layers=[18, 16], Decoder Dense Layers=[20, 22], Bottle Neck=12]"
     ]
    },
    {
     "name": "stdout",
     "output_type": "stream",
     "text": [
      "Reports Saved\n",
      "[18, 16] 12 [20, 22]\n",
      "\n",
      "L24_E18_16_B12_D20_22\n",
      "\n",
      "Training model: L24_E18_16_B12_D20_22\n",
      "Training Complete:\n",
      "Last epoch loss: 0.007039209362119436\n",
      "Last epoch validation loss: 0.013145867735147476\n"
     ]
    },
    {
     "name": "stderr",
     "output_type": "stream",
     "text": [
      "Overall Progress:  45%|█████████████████████████▎                              | 133/294 [2:57:08<3:32:19, 79.12s/it, Encoder Dense Layers=[20, 18], Decoder Dense Layers=[8, 10], Bottle Neck=12]"
     ]
    },
    {
     "name": "stdout",
     "output_type": "stream",
     "text": [
      "Reports Saved\n",
      "[20, 18] 12 [8, 10]\n",
      "\n",
      "L24_E20_18_B12_D8_10\n",
      "\n",
      "Training model: L24_E20_18_B12_D8_10\n",
      "Training Complete:\n",
      "Last epoch loss: 0.011644192039966583\n",
      "Last epoch validation loss: 0.019611338153481483\n"
     ]
    },
    {
     "name": "stderr",
     "output_type": "stream",
     "text": [
      "Overall Progress:  46%|█████████████████████████                              | 134/294 [2:58:26<3:30:29, 78.94s/it, Encoder Dense Layers=[20, 18], Decoder Dense Layers=[10, 12], Bottle Neck=12]"
     ]
    },
    {
     "name": "stdout",
     "output_type": "stream",
     "text": [
      "Reports Saved\n",
      "[20, 18] 12 [10, 12]\n",
      "\n",
      "L24_E20_18_B12_D10_12\n",
      "\n",
      "Training model: L24_E20_18_B12_D10_12\n",
      "Training Complete:\n",
      "Last epoch loss: 0.013070767745375633\n",
      "Last epoch validation loss: 0.02056918479502201\n"
     ]
    },
    {
     "name": "stderr",
     "output_type": "stream",
     "text": [
      "Overall Progress:  46%|█████████████████████████▎                             | 135/294 [2:59:44<3:28:23, 78.64s/it, Encoder Dense Layers=[20, 18], Decoder Dense Layers=[12, 14], Bottle Neck=12]"
     ]
    },
    {
     "name": "stdout",
     "output_type": "stream",
     "text": [
      "Reports Saved\n",
      "[20, 18] 12 [12, 14]\n",
      "\n",
      "L24_E20_18_B12_D12_14\n",
      "\n",
      "Training model: L24_E20_18_B12_D12_14\n",
      "Training Complete:\n",
      "Last epoch loss: 0.007953132502734661\n",
      "Last epoch validation loss: 0.01441784854978323\n"
     ]
    },
    {
     "name": "stderr",
     "output_type": "stream",
     "text": [
      "Overall Progress:  46%|█████████████████████████▍                             | 136/294 [3:01:03<3:27:17, 78.72s/it, Encoder Dense Layers=[20, 18], Decoder Dense Layers=[14, 16], Bottle Neck=12]"
     ]
    },
    {
     "name": "stdout",
     "output_type": "stream",
     "text": [
      "Reports Saved\n",
      "[20, 18] 12 [14, 16]\n",
      "\n",
      "L24_E20_18_B12_D14_16\n",
      "\n",
      "Training model: L24_E20_18_B12_D14_16\n",
      "Training Complete:\n",
      "Last epoch loss: 0.009926809929311275\n",
      "Last epoch validation loss: 0.016091320663690567\n"
     ]
    },
    {
     "name": "stderr",
     "output_type": "stream",
     "text": [
      "Overall Progress:  47%|█████████████████████████▋                             | 137/294 [3:02:30<3:32:29, 81.21s/it, Encoder Dense Layers=[20, 18], Decoder Dense Layers=[16, 18], Bottle Neck=12]"
     ]
    },
    {
     "name": "stdout",
     "output_type": "stream",
     "text": [
      "Reports Saved\n",
      "[20, 18] 12 [16, 18]\n",
      "\n",
      "L24_E20_18_B12_D16_18\n",
      "\n",
      "Training model: L24_E20_18_B12_D16_18\n",
      "Training Complete:\n",
      "Last epoch loss: 0.011046354658901691\n",
      "Last epoch validation loss: 0.01798989810049534\n"
     ]
    },
    {
     "name": "stderr",
     "output_type": "stream",
     "text": [
      "Overall Progress:  47%|█████████████████████████▊                             | 138/294 [3:03:52<3:31:13, 81.24s/it, Encoder Dense Layers=[20, 18], Decoder Dense Layers=[18, 20], Bottle Neck=12]"
     ]
    },
    {
     "name": "stdout",
     "output_type": "stream",
     "text": [
      "Reports Saved\n",
      "[20, 18] 12 [18, 20]\n",
      "\n",
      "L24_E20_18_B12_D18_20\n",
      "\n",
      "Training model: L24_E20_18_B12_D18_20\n",
      "Training Complete:\n",
      "Last epoch loss: 0.007281922269612551\n",
      "Last epoch validation loss: 0.012012660503387451\n"
     ]
    },
    {
     "name": "stderr",
     "output_type": "stream",
     "text": [
      "Overall Progress:  47%|██████████████████████████                             | 139/294 [3:05:11<3:28:35, 80.75s/it, Encoder Dense Layers=[20, 18], Decoder Dense Layers=[20, 22], Bottle Neck=12]"
     ]
    },
    {
     "name": "stdout",
     "output_type": "stream",
     "text": [
      "Reports Saved\n",
      "[20, 18] 12 [20, 22]\n",
      "\n",
      "L24_E20_18_B12_D20_22\n",
      "\n",
      "Training model: L24_E20_18_B12_D20_22\n",
      "Training Complete:\n",
      "Last epoch loss: 0.008130629546940327\n",
      "Last epoch validation loss: 0.013698067516088486\n"
     ]
    },
    {
     "name": "stderr",
     "output_type": "stream",
     "text": [
      "Overall Progress:  48%|██████████████████████████▋                             | 140/294 [3:06:31<3:26:12, 80.34s/it, Encoder Dense Layers=[22, 20], Decoder Dense Layers=[8, 10], Bottle Neck=12]"
     ]
    },
    {
     "name": "stdout",
     "output_type": "stream",
     "text": [
      "Reports Saved\n",
      "[22, 20] 12 [8, 10]\n",
      "\n",
      "L24_E22_20_B12_D8_10\n",
      "\n",
      "Training model: L24_E22_20_B12_D8_10\n",
      "Training Complete:\n",
      "Last epoch loss: 0.014947677031159401\n",
      "Last epoch validation loss: 0.025250760838389397\n"
     ]
    },
    {
     "name": "stderr",
     "output_type": "stream",
     "text": [
      "Overall Progress:  48%|██████████████████████████▍                            | 141/294 [3:07:49<3:23:34, 79.83s/it, Encoder Dense Layers=[22, 20], Decoder Dense Layers=[10, 12], Bottle Neck=12]"
     ]
    },
    {
     "name": "stdout",
     "output_type": "stream",
     "text": [
      "Reports Saved\n",
      "[22, 20] 12 [10, 12]\n",
      "\n",
      "L24_E22_20_B12_D10_12\n",
      "\n",
      "Training model: L24_E22_20_B12_D10_12\n",
      "Training Complete:\n",
      "Last epoch loss: 0.013251936063170433\n",
      "Last epoch validation loss: 0.020348602905869484\n"
     ]
    },
    {
     "name": "stderr",
     "output_type": "stream",
     "text": [
      "Overall Progress:  48%|██████████████████████████▌                            | 142/294 [3:09:09<3:22:23, 79.89s/it, Encoder Dense Layers=[22, 20], Decoder Dense Layers=[12, 14], Bottle Neck=12]"
     ]
    },
    {
     "name": "stdout",
     "output_type": "stream",
     "text": [
      "Reports Saved\n",
      "[22, 20] 12 [12, 14]\n",
      "\n",
      "L24_E22_20_B12_D12_14\n",
      "\n",
      "Training model: L24_E22_20_B12_D12_14\n",
      "Training Complete:\n",
      "Last epoch loss: 0.008513693697750568\n",
      "Last epoch validation loss: 0.013000193983316422\n"
     ]
    },
    {
     "name": "stderr",
     "output_type": "stream",
     "text": [
      "Overall Progress:  49%|██████████████████████████▊                            | 143/294 [3:10:29<3:21:06, 79.91s/it, Encoder Dense Layers=[22, 20], Decoder Dense Layers=[14, 16], Bottle Neck=12]"
     ]
    },
    {
     "name": "stdout",
     "output_type": "stream",
     "text": [
      "Reports Saved\n",
      "[22, 20] 12 [14, 16]\n",
      "\n",
      "L24_E22_20_B12_D14_16\n",
      "\n",
      "Training model: L24_E22_20_B12_D14_16\n",
      "Training Complete:\n",
      "Last epoch loss: 0.007342620752751827\n",
      "Last epoch validation loss: 0.013197485357522964\n"
     ]
    },
    {
     "name": "stderr",
     "output_type": "stream",
     "text": [
      "Overall Progress:  49%|██████████████████████████▉                            | 144/294 [3:11:48<3:18:40, 79.47s/it, Encoder Dense Layers=[22, 20], Decoder Dense Layers=[16, 18], Bottle Neck=12]"
     ]
    },
    {
     "name": "stdout",
     "output_type": "stream",
     "text": [
      "Reports Saved\n",
      "[22, 20] 12 [16, 18]\n",
      "\n",
      "L24_E22_20_B12_D16_18\n",
      "\n",
      "Training model: L24_E22_20_B12_D16_18\n",
      "Training Complete:\n",
      "Last epoch loss: 0.010561373084783554\n",
      "Last epoch validation loss: 0.018594922497868538\n"
     ]
    },
    {
     "name": "stderr",
     "output_type": "stream",
     "text": [
      "Overall Progress:  49%|███████████████████████████▏                           | 145/294 [3:13:07<3:17:34, 79.56s/it, Encoder Dense Layers=[22, 20], Decoder Dense Layers=[18, 20], Bottle Neck=12]"
     ]
    },
    {
     "name": "stdout",
     "output_type": "stream",
     "text": [
      "Reports Saved\n",
      "[22, 20] 12 [18, 20]\n",
      "\n",
      "L24_E22_20_B12_D18_20\n",
      "\n",
      "Training model: L24_E22_20_B12_D18_20\n",
      "Training Complete:\n",
      "Last epoch loss: 0.01020188257098198\n",
      "Last epoch validation loss: 0.01795005053281784\n"
     ]
    },
    {
     "name": "stderr",
     "output_type": "stream",
     "text": [
      "Overall Progress:  50%|███████████████████████████▎                           | 146/294 [3:14:27<3:15:59, 79.46s/it, Encoder Dense Layers=[22, 20], Decoder Dense Layers=[20, 22], Bottle Neck=12]"
     ]
    },
    {
     "name": "stdout",
     "output_type": "stream",
     "text": [
      "Reports Saved\n",
      "[22, 20] 12 [20, 22]\n",
      "\n",
      "L24_E22_20_B12_D20_22\n",
      "\n",
      "Training model: L24_E22_20_B12_D20_22\n",
      "Training Complete:\n",
      "Last epoch loss: 0.00901687890291214\n",
      "Last epoch validation loss: 0.017609775066375732\n"
     ]
    },
    {
     "name": "stderr",
     "output_type": "stream",
     "text": [
      "Overall Progress:  50%|████████████████████████████▌                            | 147/294 [3:15:46<3:14:28, 79.38s/it, Encoder Dense Layers=[10, 8], Decoder Dense Layers=[8, 10], Bottle Neck=14]"
     ]
    },
    {
     "name": "stdout",
     "output_type": "stream",
     "text": [
      "Reports Saved\n",
      "[10, 8] 14 [8, 10]\n",
      "\n",
      "L24_E10_8_B14_D8_10\n",
      "\n",
      "Training model: L24_E10_8_B14_D8_10\n",
      "Training Complete:\n",
      "Last epoch loss: 0.019517775624990463\n",
      "Last epoch validation loss: 0.028745360672473907\n"
     ]
    },
    {
     "name": "stderr",
     "output_type": "stream",
     "text": [
      "Overall Progress:  50%|████████████████████████████▏                           | 148/294 [3:17:06<3:13:33, 79.54s/it, Encoder Dense Layers=[10, 8], Decoder Dense Layers=[10, 12], Bottle Neck=14]"
     ]
    },
    {
     "name": "stdout",
     "output_type": "stream",
     "text": [
      "Reports Saved\n",
      "[10, 8] 14 [10, 12]\n",
      "\n",
      "L24_E10_8_B14_D10_12\n",
      "\n",
      "Training model: L24_E10_8_B14_D10_12\n",
      "Training Complete:\n",
      "Last epoch loss: 0.012843064032495022\n",
      "Last epoch validation loss: 0.01799956150352955\n"
     ]
    },
    {
     "name": "stderr",
     "output_type": "stream",
     "text": [
      "Overall Progress:  51%|████████████████████████████▍                           | 149/294 [3:18:24<3:11:06, 79.08s/it, Encoder Dense Layers=[10, 8], Decoder Dense Layers=[12, 14], Bottle Neck=14]"
     ]
    },
    {
     "name": "stdout",
     "output_type": "stream",
     "text": [
      "Reports Saved\n",
      "[10, 8] 14 [12, 14]\n",
      "\n",
      "L24_E10_8_B14_D12_14\n",
      "\n",
      "Training model: L24_E10_8_B14_D12_14\n",
      "Training Complete:\n",
      "Last epoch loss: 0.014584663324058056\n",
      "Last epoch validation loss: 0.02388939820230007\n"
     ]
    },
    {
     "name": "stderr",
     "output_type": "stream",
     "text": [
      "Overall Progress:  51%|████████████████████████████▌                           | 150/294 [3:19:42<3:09:16, 78.87s/it, Encoder Dense Layers=[10, 8], Decoder Dense Layers=[14, 16], Bottle Neck=14]"
     ]
    },
    {
     "name": "stdout",
     "output_type": "stream",
     "text": [
      "Reports Saved\n",
      "[10, 8] 14 [14, 16]\n",
      "\n",
      "L24_E10_8_B14_D14_16\n",
      "\n",
      "Training model: L24_E10_8_B14_D14_16\n",
      "Training Complete:\n",
      "Last epoch loss: 0.01822626031935215\n",
      "Last epoch validation loss: 0.02883291430771351\n"
     ]
    },
    {
     "name": "stderr",
     "output_type": "stream",
     "text": [
      "Overall Progress:  51%|████████████████████████████▊                           | 151/294 [3:21:13<3:16:24, 82.41s/it, Encoder Dense Layers=[10, 8], Decoder Dense Layers=[16, 18], Bottle Neck=14]"
     ]
    },
    {
     "name": "stdout",
     "output_type": "stream",
     "text": [
      "Reports Saved\n",
      "[10, 8] 14 [16, 18]\n",
      "\n",
      "L24_E10_8_B14_D16_18\n",
      "\n",
      "Training model: L24_E10_8_B14_D16_18\n",
      "Training Complete:\n",
      "Last epoch loss: 0.011170076206326485\n",
      "Last epoch validation loss: 0.018859567120671272\n"
     ]
    },
    {
     "name": "stderr",
     "output_type": "stream",
     "text": [
      "Overall Progress:  52%|████████████████████████████▉                           | 152/294 [3:22:34<3:14:08, 82.03s/it, Encoder Dense Layers=[10, 8], Decoder Dense Layers=[18, 20], Bottle Neck=14]"
     ]
    },
    {
     "name": "stdout",
     "output_type": "stream",
     "text": [
      "Reports Saved\n",
      "[10, 8] 14 [18, 20]\n",
      "\n",
      "L24_E10_8_B14_D18_20\n",
      "\n",
      "Training model: L24_E10_8_B14_D18_20\n",
      "Training Complete:\n",
      "Last epoch loss: 0.012231569737195969\n",
      "Last epoch validation loss: 0.018892569467425346\n"
     ]
    },
    {
     "name": "stderr",
     "output_type": "stream",
     "text": [
      "Overall Progress:  52%|█████████████████████████████▏                          | 153/294 [3:23:55<3:11:58, 81.69s/it, Encoder Dense Layers=[10, 8], Decoder Dense Layers=[20, 22], Bottle Neck=14]"
     ]
    },
    {
     "name": "stdout",
     "output_type": "stream",
     "text": [
      "Reports Saved\n",
      "[10, 8] 14 [20, 22]\n",
      "\n",
      "L24_E10_8_B14_D20_22\n",
      "\n",
      "Training model: L24_E10_8_B14_D20_22\n",
      "Training Complete:\n",
      "Last epoch loss: 0.007427406497299671\n",
      "Last epoch validation loss: 0.014262805692851543\n"
     ]
    },
    {
     "name": "stderr",
     "output_type": "stream",
     "text": [
      "Overall Progress:  52%|█████████████████████████████▎                          | 154/294 [3:25:17<3:11:12, 81.94s/it, Encoder Dense Layers=[12, 10], Decoder Dense Layers=[8, 10], Bottle Neck=14]"
     ]
    },
    {
     "name": "stdout",
     "output_type": "stream",
     "text": [
      "Reports Saved\n",
      "[12, 10] 14 [8, 10]\n",
      "\n",
      "L24_E12_10_B14_D8_10\n",
      "\n",
      "Training model: L24_E12_10_B14_D8_10\n",
      "Training Complete:\n",
      "Last epoch loss: 0.013157343491911888\n",
      "Last epoch validation loss: 0.02009638212621212\n"
     ]
    },
    {
     "name": "stderr",
     "output_type": "stream",
     "text": [
      "Overall Progress:  53%|████████████████████████████▉                          | 155/294 [3:26:39<3:09:37, 81.85s/it, Encoder Dense Layers=[12, 10], Decoder Dense Layers=[10, 12], Bottle Neck=14]"
     ]
    },
    {
     "name": "stdout",
     "output_type": "stream",
     "text": [
      "Reports Saved\n",
      "[12, 10] 14 [10, 12]\n",
      "\n",
      "L24_E12_10_B14_D10_12\n",
      "\n",
      "Training model: L24_E12_10_B14_D10_12\n",
      "Training Complete:\n",
      "Last epoch loss: 0.014363822527229786\n",
      "Last epoch validation loss: 0.022453485056757927\n"
     ]
    },
    {
     "name": "stderr",
     "output_type": "stream",
     "text": [
      "Overall Progress:  53%|█████████████████████████████▏                         | 156/294 [3:28:00<3:07:57, 81.72s/it, Encoder Dense Layers=[12, 10], Decoder Dense Layers=[12, 14], Bottle Neck=14]"
     ]
    },
    {
     "name": "stdout",
     "output_type": "stream",
     "text": [
      "Reports Saved\n",
      "[12, 10] 14 [12, 14]\n",
      "\n",
      "L24_E12_10_B14_D12_14\n",
      "\n",
      "Training model: L24_E12_10_B14_D12_14\n",
      "Training Complete:\n",
      "Last epoch loss: 0.011378146708011627\n",
      "Last epoch validation loss: 0.018697135150432587\n"
     ]
    },
    {
     "name": "stderr",
     "output_type": "stream",
     "text": [
      "Overall Progress:  53%|█████████████████████████████▎                         | 157/294 [3:29:20<3:05:13, 81.12s/it, Encoder Dense Layers=[12, 10], Decoder Dense Layers=[14, 16], Bottle Neck=14]"
     ]
    },
    {
     "name": "stdout",
     "output_type": "stream",
     "text": [
      "Reports Saved\n",
      "[12, 10] 14 [14, 16]\n",
      "\n",
      "L24_E12_10_B14_D14_16\n",
      "\n",
      "Training model: L24_E12_10_B14_D14_16\n",
      "Training Complete:\n",
      "Last epoch loss: 0.011154280975461006\n",
      "Last epoch validation loss: 0.019363190978765488\n"
     ]
    },
    {
     "name": "stderr",
     "output_type": "stream",
     "text": [
      "Overall Progress:  54%|█████████████████████████████▌                         | 158/294 [3:30:41<3:03:41, 81.04s/it, Encoder Dense Layers=[12, 10], Decoder Dense Layers=[16, 18], Bottle Neck=14]"
     ]
    },
    {
     "name": "stdout",
     "output_type": "stream",
     "text": [
      "Reports Saved\n",
      "[12, 10] 14 [16, 18]\n",
      "\n",
      "L24_E12_10_B14_D16_18\n",
      "\n",
      "Training model: L24_E12_10_B14_D16_18\n",
      "Training Complete:\n",
      "Last epoch loss: 0.011968696489930153\n",
      "Last epoch validation loss: 0.018508482724428177\n"
     ]
    },
    {
     "name": "stderr",
     "output_type": "stream",
     "text": [
      "Overall Progress:  54%|█████████████████████████████▋                         | 159/294 [3:32:03<3:02:53, 81.28s/it, Encoder Dense Layers=[12, 10], Decoder Dense Layers=[18, 20], Bottle Neck=14]"
     ]
    },
    {
     "name": "stdout",
     "output_type": "stream",
     "text": [
      "Reports Saved\n",
      "[12, 10] 14 [18, 20]\n",
      "\n",
      "L24_E12_10_B14_D18_20\n",
      "\n",
      "Training model: L24_E12_10_B14_D18_20\n",
      "Training Complete:\n",
      "Last epoch loss: 0.008519498631358147\n",
      "Last epoch validation loss: 0.015042315237224102\n"
     ]
    },
    {
     "name": "stderr",
     "output_type": "stream",
     "text": [
      "Overall Progress:  54%|█████████████████████████████▉                         | 160/294 [3:33:24<3:01:10, 81.13s/it, Encoder Dense Layers=[12, 10], Decoder Dense Layers=[20, 22], Bottle Neck=14]"
     ]
    },
    {
     "name": "stdout",
     "output_type": "stream",
     "text": [
      "Reports Saved\n",
      "[12, 10] 14 [20, 22]\n",
      "\n",
      "L24_E12_10_B14_D20_22\n",
      "\n",
      "Training model: L24_E12_10_B14_D20_22\n",
      "Training Complete:\n",
      "Last epoch loss: 0.011600764468312263\n",
      "Last epoch validation loss: 0.01826804131269455\n"
     ]
    },
    {
     "name": "stderr",
     "output_type": "stream",
     "text": [
      "Overall Progress:  55%|██████████████████████████████▋                         | 161/294 [3:34:43<2:58:47, 80.66s/it, Encoder Dense Layers=[14, 12], Decoder Dense Layers=[8, 10], Bottle Neck=14]"
     ]
    },
    {
     "name": "stdout",
     "output_type": "stream",
     "text": [
      "Reports Saved\n",
      "[14, 12] 14 [8, 10]\n",
      "\n",
      "L24_E14_12_B14_D8_10\n",
      "\n",
      "Training model: L24_E14_12_B14_D8_10\n",
      "Training Complete:\n",
      "Last epoch loss: 0.011657114140689373\n",
      "Last epoch validation loss: 0.018958328291773796\n"
     ]
    },
    {
     "name": "stderr",
     "output_type": "stream",
     "text": [
      "Overall Progress:  55%|██████████████████████████████▎                        | 162/294 [3:36:03<2:56:52, 80.40s/it, Encoder Dense Layers=[14, 12], Decoder Dense Layers=[10, 12], Bottle Neck=14]"
     ]
    },
    {
     "name": "stdout",
     "output_type": "stream",
     "text": [
      "Reports Saved\n",
      "[14, 12] 14 [10, 12]\n",
      "\n",
      "L24_E14_12_B14_D10_12\n",
      "\n",
      "Training model: L24_E14_12_B14_D10_12\n",
      "Training Complete:\n",
      "Last epoch loss: 0.010630362667143345\n",
      "Last epoch validation loss: 0.01913965307176113\n"
     ]
    },
    {
     "name": "stderr",
     "output_type": "stream",
     "text": [
      "Overall Progress:  55%|██████████████████████████████▍                        | 163/294 [3:37:23<2:55:12, 80.25s/it, Encoder Dense Layers=[14, 12], Decoder Dense Layers=[12, 14], Bottle Neck=14]"
     ]
    },
    {
     "name": "stdout",
     "output_type": "stream",
     "text": [
      "Reports Saved\n",
      "[14, 12] 14 [12, 14]\n",
      "\n",
      "L24_E14_12_B14_D12_14\n",
      "\n",
      "Training model: L24_E14_12_B14_D12_14\n",
      "Training Complete:\n",
      "Last epoch loss: 0.011717040091753006\n",
      "Last epoch validation loss: 0.01875483989715576\n"
     ]
    },
    {
     "name": "stderr",
     "output_type": "stream",
     "text": [
      "Overall Progress:  56%|██████████████████████████████▋                        | 164/294 [3:38:45<2:55:09, 80.84s/it, Encoder Dense Layers=[14, 12], Decoder Dense Layers=[14, 16], Bottle Neck=14]"
     ]
    },
    {
     "name": "stdout",
     "output_type": "stream",
     "text": [
      "Reports Saved\n",
      "[14, 12] 14 [14, 16]\n",
      "\n",
      "L24_E14_12_B14_D14_16\n",
      "\n",
      "Training model: L24_E14_12_B14_D14_16\n",
      "Training Complete:\n",
      "Last epoch loss: 0.011385777033865452\n",
      "Last epoch validation loss: 0.017210181802511215\n"
     ]
    },
    {
     "name": "stderr",
     "output_type": "stream",
     "text": [
      "Overall Progress:  56%|██████████████████████████████▊                        | 165/294 [3:40:14<2:59:16, 83.38s/it, Encoder Dense Layers=[14, 12], Decoder Dense Layers=[16, 18], Bottle Neck=14]"
     ]
    },
    {
     "name": "stdout",
     "output_type": "stream",
     "text": [
      "Reports Saved\n",
      "[14, 12] 14 [16, 18]\n",
      "\n",
      "L24_E14_12_B14_D16_18\n",
      "\n",
      "Training model: L24_E14_12_B14_D16_18\n",
      "Training Complete:\n",
      "Last epoch loss: 0.008320234715938568\n",
      "Last epoch validation loss: 0.01650894246995449\n"
     ]
    },
    {
     "name": "stderr",
     "output_type": "stream",
     "text": [
      "Overall Progress:  56%|███████████████████████████████                        | 166/294 [3:41:37<2:57:08, 83.04s/it, Encoder Dense Layers=[14, 12], Decoder Dense Layers=[18, 20], Bottle Neck=14]"
     ]
    },
    {
     "name": "stdout",
     "output_type": "stream",
     "text": [
      "Reports Saved\n",
      "[14, 12] 14 [18, 20]\n",
      "\n",
      "L24_E14_12_B14_D18_20\n",
      "\n",
      "Training model: L24_E14_12_B14_D18_20\n",
      "Training Complete:\n",
      "Last epoch loss: 0.007906044833362103\n",
      "Last epoch validation loss: 0.013381477445363998\n"
     ]
    },
    {
     "name": "stderr",
     "output_type": "stream",
     "text": [
      "Overall Progress:  57%|███████████████████████████████▏                       | 167/294 [3:43:00<2:56:14, 83.27s/it, Encoder Dense Layers=[14, 12], Decoder Dense Layers=[20, 22], Bottle Neck=14]"
     ]
    },
    {
     "name": "stdout",
     "output_type": "stream",
     "text": [
      "Reports Saved\n",
      "[14, 12] 14 [20, 22]\n",
      "\n",
      "L24_E14_12_B14_D20_22\n",
      "\n",
      "Training model: L24_E14_12_B14_D20_22\n",
      "Training Complete:\n",
      "Last epoch loss: 0.01060864794999361\n",
      "Last epoch validation loss: 0.01906839944422245\n"
     ]
    },
    {
     "name": "stderr",
     "output_type": "stream",
     "text": [
      "Overall Progress:  57%|████████████████████████████████                        | 168/294 [3:44:23<2:54:39, 83.17s/it, Encoder Dense Layers=[16, 14], Decoder Dense Layers=[8, 10], Bottle Neck=14]"
     ]
    },
    {
     "name": "stdout",
     "output_type": "stream",
     "text": [
      "Reports Saved\n",
      "[16, 14] 14 [8, 10]\n",
      "\n",
      "L24_E16_14_B14_D8_10\n",
      "\n",
      "Training model: L24_E16_14_B14_D8_10\n",
      "Training Complete:\n",
      "Last epoch loss: 0.012778188101947308\n",
      "Last epoch validation loss: 0.02032921276986599\n"
     ]
    },
    {
     "name": "stderr",
     "output_type": "stream",
     "text": [
      "Overall Progress:  57%|███████████████████████████████▌                       | 169/294 [3:45:44<2:51:35, 82.36s/it, Encoder Dense Layers=[16, 14], Decoder Dense Layers=[10, 12], Bottle Neck=14]"
     ]
    },
    {
     "name": "stdout",
     "output_type": "stream",
     "text": [
      "Reports Saved\n",
      "[16, 14] 14 [10, 12]\n",
      "\n",
      "L24_E16_14_B14_D10_12\n",
      "\n",
      "Training model: L24_E16_14_B14_D10_12\n",
      "Training Complete:\n",
      "Last epoch loss: 0.010811693035066128\n",
      "Last epoch validation loss: 0.016596661880612373\n"
     ]
    },
    {
     "name": "stderr",
     "output_type": "stream",
     "text": [
      "Overall Progress:  58%|███████████████████████████████▊                       | 170/294 [3:47:04<2:48:59, 81.77s/it, Encoder Dense Layers=[16, 14], Decoder Dense Layers=[12, 14], Bottle Neck=14]"
     ]
    },
    {
     "name": "stdout",
     "output_type": "stream",
     "text": [
      "Reports Saved\n",
      "[16, 14] 14 [12, 14]\n",
      "\n",
      "L24_E16_14_B14_D12_14\n",
      "\n",
      "Training model: L24_E16_14_B14_D12_14\n",
      "Training Complete:\n",
      "Last epoch loss: 0.011101444251835346\n",
      "Last epoch validation loss: 0.019027229398489\n"
     ]
    },
    {
     "name": "stderr",
     "output_type": "stream",
     "text": [
      "Overall Progress:  58%|███████████████████████████████▉                       | 171/294 [3:48:25<2:46:46, 81.36s/it, Encoder Dense Layers=[16, 14], Decoder Dense Layers=[14, 16], Bottle Neck=14]"
     ]
    },
    {
     "name": "stdout",
     "output_type": "stream",
     "text": [
      "Reports Saved\n",
      "[16, 14] 14 [14, 16]\n",
      "\n",
      "L24_E16_14_B14_D14_16\n",
      "\n",
      "Training model: L24_E16_14_B14_D14_16\n",
      "Training Complete:\n",
      "Last epoch loss: 0.008548726327717304\n",
      "Last epoch validation loss: 0.013411923311650753\n"
     ]
    },
    {
     "name": "stderr",
     "output_type": "stream",
     "text": [
      "Overall Progress:  59%|████████████████████████████████▏                      | 172/294 [3:49:47<2:46:01, 81.65s/it, Encoder Dense Layers=[16, 14], Decoder Dense Layers=[16, 18], Bottle Neck=14]"
     ]
    },
    {
     "name": "stdout",
     "output_type": "stream",
     "text": [
      "Reports Saved\n",
      "[16, 14] 14 [16, 18]\n",
      "\n",
      "L24_E16_14_B14_D16_18\n",
      "\n",
      "Training model: L24_E16_14_B14_D16_18\n",
      "Training Complete:\n",
      "Last epoch loss: 0.011538635939359665\n",
      "Last epoch validation loss: 0.01843036338686943\n"
     ]
    },
    {
     "name": "stderr",
     "output_type": "stream",
     "text": [
      "Overall Progress:  59%|████████████████████████████████▎                      | 173/294 [3:51:09<2:44:45, 81.70s/it, Encoder Dense Layers=[16, 14], Decoder Dense Layers=[18, 20], Bottle Neck=14]"
     ]
    },
    {
     "name": "stdout",
     "output_type": "stream",
     "text": [
      "Reports Saved\n",
      "[16, 14] 14 [18, 20]\n",
      "\n",
      "L24_E16_14_B14_D18_20\n",
      "\n",
      "Training model: L24_E16_14_B14_D18_20\n",
      "Training Complete:\n",
      "Last epoch loss: 0.006647542119026184\n",
      "Last epoch validation loss: 0.013211234472692013\n"
     ]
    },
    {
     "name": "stderr",
     "output_type": "stream",
     "text": [
      "Overall Progress:  59%|████████████████████████████████▌                      | 174/294 [3:52:30<2:43:11, 81.60s/it, Encoder Dense Layers=[16, 14], Decoder Dense Layers=[20, 22], Bottle Neck=14]"
     ]
    },
    {
     "name": "stdout",
     "output_type": "stream",
     "text": [
      "Reports Saved\n",
      "[16, 14] 14 [20, 22]\n",
      "\n",
      "L24_E16_14_B14_D20_22\n",
      "\n",
      "Training model: L24_E16_14_B14_D20_22\n",
      "Training Complete:\n",
      "Last epoch loss: 0.008248367346823215\n",
      "Last epoch validation loss: 0.014011507853865623\n"
     ]
    },
    {
     "name": "stderr",
     "output_type": "stream",
     "text": [
      "Overall Progress:  60%|█████████████████████████████████▎                      | 175/294 [3:53:51<2:41:11, 81.27s/it, Encoder Dense Layers=[18, 16], Decoder Dense Layers=[8, 10], Bottle Neck=14]"
     ]
    },
    {
     "name": "stdout",
     "output_type": "stream",
     "text": [
      "Reports Saved\n",
      "[18, 16] 14 [8, 10]\n",
      "\n",
      "L24_E18_16_B14_D8_10\n",
      "\n",
      "Training model: L24_E18_16_B14_D8_10\n",
      "Training Complete:\n",
      "Last epoch loss: 0.01024518720805645\n",
      "Last epoch validation loss: 0.01684899814426899\n"
     ]
    },
    {
     "name": "stderr",
     "output_type": "stream",
     "text": [
      "Overall Progress:  60%|████████████████████████████████▉                      | 176/294 [3:55:12<2:39:35, 81.15s/it, Encoder Dense Layers=[18, 16], Decoder Dense Layers=[10, 12], Bottle Neck=14]"
     ]
    },
    {
     "name": "stdout",
     "output_type": "stream",
     "text": [
      "Reports Saved\n",
      "[18, 16] 14 [10, 12]\n",
      "\n",
      "L24_E18_16_B14_D10_12\n",
      "\n",
      "Training model: L24_E18_16_B14_D10_12\n",
      "Training Complete:\n",
      "Last epoch loss: 0.009676609188318253\n",
      "Last epoch validation loss: 0.01580585353076458\n"
     ]
    },
    {
     "name": "stderr",
     "output_type": "stream",
     "text": [
      "Overall Progress:  60%|█████████████████████████████████                      | 177/294 [3:56:34<2:39:16, 81.68s/it, Encoder Dense Layers=[18, 16], Decoder Dense Layers=[12, 14], Bottle Neck=14]"
     ]
    },
    {
     "name": "stdout",
     "output_type": "stream",
     "text": [
      "Reports Saved\n",
      "[18, 16] 14 [12, 14]\n",
      "\n",
      "L24_E18_16_B14_D12_14\n",
      "\n",
      "Training model: L24_E18_16_B14_D12_14\n",
      "Training Complete:\n",
      "Last epoch loss: 0.00977328885346651\n",
      "Last epoch validation loss: 0.015837447717785835\n"
     ]
    },
    {
     "name": "stderr",
     "output_type": "stream",
     "text": [
      "Overall Progress:  61%|█████████████████████████████████▎                     | 178/294 [3:57:56<2:37:36, 81.52s/it, Encoder Dense Layers=[18, 16], Decoder Dense Layers=[14, 16], Bottle Neck=14]"
     ]
    },
    {
     "name": "stdout",
     "output_type": "stream",
     "text": [
      "Reports Saved\n",
      "[18, 16] 14 [14, 16]\n",
      "\n",
      "L24_E18_16_B14_D14_16\n",
      "\n",
      "Training model: L24_E18_16_B14_D14_16\n",
      "Training Complete:\n",
      "Last epoch loss: 0.01066054217517376\n",
      "Last epoch validation loss: 0.015691859647631645\n"
     ]
    },
    {
     "name": "stderr",
     "output_type": "stream",
     "text": [
      "Overall Progress:  61%|█████████████████████████████████▍                     | 179/294 [3:59:16<2:35:39, 81.22s/it, Encoder Dense Layers=[18, 16], Decoder Dense Layers=[16, 18], Bottle Neck=14]"
     ]
    },
    {
     "name": "stdout",
     "output_type": "stream",
     "text": [
      "Reports Saved\n",
      "[18, 16] 14 [16, 18]\n",
      "\n",
      "L24_E18_16_B14_D16_18\n",
      "\n",
      "Training model: L24_E18_16_B14_D16_18\n",
      "Training Complete:\n",
      "Last epoch loss: 0.007369922939687967\n",
      "Last epoch validation loss: 0.013869360089302063\n"
     ]
    },
    {
     "name": "stderr",
     "output_type": "stream",
     "text": [
      "Overall Progress:  61%|█████████████████████████████████▋                     | 180/294 [4:00:36<2:33:43, 80.91s/it, Encoder Dense Layers=[18, 16], Decoder Dense Layers=[18, 20], Bottle Neck=14]"
     ]
    },
    {
     "name": "stdout",
     "output_type": "stream",
     "text": [
      "Reports Saved\n",
      "[18, 16] 14 [18, 20]\n",
      "\n",
      "L24_E18_16_B14_D18_20\n",
      "\n",
      "Training model: L24_E18_16_B14_D18_20\n",
      "Training Complete:\n",
      "Last epoch loss: 0.00970700103789568\n",
      "Last epoch validation loss: 0.016193155199289322\n"
     ]
    },
    {
     "name": "stderr",
     "output_type": "stream",
     "text": [
      "Overall Progress:  62%|█████████████████████████████████▊                     | 181/294 [4:02:05<2:36:33, 83.13s/it, Encoder Dense Layers=[18, 16], Decoder Dense Layers=[20, 22], Bottle Neck=14]"
     ]
    },
    {
     "name": "stdout",
     "output_type": "stream",
     "text": [
      "Reports Saved\n",
      "[18, 16] 14 [20, 22]\n",
      "\n",
      "L24_E18_16_B14_D20_22\n",
      "\n",
      "Training model: L24_E18_16_B14_D20_22\n",
      "Training Complete:\n",
      "Last epoch loss: 0.008075733669102192\n",
      "Last epoch validation loss: 0.013532496057450771\n"
     ]
    },
    {
     "name": "stderr",
     "output_type": "stream",
     "text": [
      "Overall Progress:  62%|██████████████████████████████████▋                     | 182/294 [4:03:26<2:34:04, 82.54s/it, Encoder Dense Layers=[20, 18], Decoder Dense Layers=[8, 10], Bottle Neck=14]"
     ]
    },
    {
     "name": "stdout",
     "output_type": "stream",
     "text": [
      "Reports Saved\n",
      "[20, 18] 14 [8, 10]\n",
      "\n",
      "L24_E20_18_B14_D8_10\n",
      "\n",
      "Training model: L24_E20_18_B14_D8_10\n",
      "Training Complete:\n",
      "Last epoch loss: 0.011059124022722244\n",
      "Last epoch validation loss: 0.018278146162629128\n"
     ]
    },
    {
     "name": "stderr",
     "output_type": "stream",
     "text": [
      "Overall Progress:  62%|██████████████████████████████████▏                    | 183/294 [4:04:46<2:31:17, 81.78s/it, Encoder Dense Layers=[20, 18], Decoder Dense Layers=[10, 12], Bottle Neck=14]"
     ]
    },
    {
     "name": "stdout",
     "output_type": "stream",
     "text": [
      "Reports Saved\n",
      "[20, 18] 14 [10, 12]\n",
      "\n",
      "L24_E20_18_B14_D10_12\n",
      "\n",
      "Training model: L24_E20_18_B14_D10_12\n",
      "Training Complete:\n",
      "Last epoch loss: 0.013165587559342384\n",
      "Last epoch validation loss: 0.02098666876554489\n"
     ]
    },
    {
     "name": "stderr",
     "output_type": "stream",
     "text": [
      "Overall Progress:  63%|██████████████████████████████████▍                    | 184/294 [4:06:05<2:28:31, 81.02s/it, Encoder Dense Layers=[20, 18], Decoder Dense Layers=[12, 14], Bottle Neck=14]"
     ]
    },
    {
     "name": "stdout",
     "output_type": "stream",
     "text": [
      "Reports Saved\n",
      "[20, 18] 14 [12, 14]\n",
      "\n",
      "L24_E20_18_B14_D12_14\n",
      "\n",
      "Training model: L24_E20_18_B14_D12_14\n",
      "Training Complete:\n",
      "Last epoch loss: 0.00765950046479702\n",
      "Last epoch validation loss: 0.012775922194123268\n"
     ]
    },
    {
     "name": "stderr",
     "output_type": "stream",
     "text": [
      "Overall Progress:  63%|██████████████████████████████████▌                    | 185/294 [4:07:24<2:25:54, 80.31s/it, Encoder Dense Layers=[20, 18], Decoder Dense Layers=[14, 16], Bottle Neck=14]"
     ]
    },
    {
     "name": "stdout",
     "output_type": "stream",
     "text": [
      "Reports Saved\n",
      "[20, 18] 14 [14, 16]\n",
      "\n",
      "L24_E20_18_B14_D14_16\n",
      "\n",
      "Training model: L24_E20_18_B14_D14_16\n",
      "Training Complete:\n",
      "Last epoch loss: 0.009479268454015255\n",
      "Last epoch validation loss: 0.014877245761454105\n"
     ]
    },
    {
     "name": "stderr",
     "output_type": "stream",
     "text": [
      "Overall Progress:  63%|██████████████████████████████████▊                    | 186/294 [4:08:43<2:24:08, 80.08s/it, Encoder Dense Layers=[20, 18], Decoder Dense Layers=[16, 18], Bottle Neck=14]"
     ]
    },
    {
     "name": "stdout",
     "output_type": "stream",
     "text": [
      "Reports Saved\n",
      "[20, 18] 14 [16, 18]\n",
      "\n",
      "L24_E20_18_B14_D16_18\n",
      "\n",
      "Training model: L24_E20_18_B14_D16_18\n",
      "Training Complete:\n",
      "Last epoch loss: 0.006788036786019802\n",
      "Last epoch validation loss: 0.014524240978062153\n"
     ]
    },
    {
     "name": "stderr",
     "output_type": "stream",
     "text": [
      "Overall Progress:  64%|██████████████████████████████████▉                    | 187/294 [4:10:03<2:22:51, 80.11s/it, Encoder Dense Layers=[20, 18], Decoder Dense Layers=[18, 20], Bottle Neck=14]"
     ]
    },
    {
     "name": "stdout",
     "output_type": "stream",
     "text": [
      "Reports Saved\n",
      "[20, 18] 14 [18, 20]\n",
      "\n",
      "L24_E20_18_B14_D18_20\n",
      "\n",
      "Training model: L24_E20_18_B14_D18_20\n",
      "Training Complete:\n",
      "Last epoch loss: 0.00616608327254653\n",
      "Last epoch validation loss: 0.011303091421723366\n"
     ]
    },
    {
     "name": "stderr",
     "output_type": "stream",
     "text": [
      "Overall Progress:  64%|███████████████████████████████████▏                   | 188/294 [4:11:21<2:20:23, 79.47s/it, Encoder Dense Layers=[20, 18], Decoder Dense Layers=[20, 22], Bottle Neck=14]"
     ]
    },
    {
     "name": "stdout",
     "output_type": "stream",
     "text": [
      "Reports Saved\n",
      "[20, 18] 14 [20, 22]\n",
      "\n",
      "L24_E20_18_B14_D20_22\n",
      "\n",
      "Training model: L24_E20_18_B14_D20_22\n",
      "Training Complete:\n",
      "Last epoch loss: 0.008100569248199463\n",
      "Last epoch validation loss: 0.012814422138035297\n"
     ]
    },
    {
     "name": "stderr",
     "output_type": "stream",
     "text": [
      "Overall Progress:  64%|████████████████████████████████████                    | 189/294 [4:12:39<2:18:00, 78.86s/it, Encoder Dense Layers=[22, 20], Decoder Dense Layers=[8, 10], Bottle Neck=14]"
     ]
    },
    {
     "name": "stdout",
     "output_type": "stream",
     "text": [
      "Reports Saved\n",
      "[22, 20] 14 [8, 10]\n",
      "\n",
      "L24_E22_20_B14_D8_10\n",
      "\n",
      "Training model: L24_E22_20_B14_D8_10\n",
      "Training Complete:\n",
      "Last epoch loss: 0.010140156373381615\n",
      "Last epoch validation loss: 0.015381034463644028\n"
     ]
    },
    {
     "name": "stderr",
     "output_type": "stream",
     "text": [
      "Overall Progress:  65%|███████████████████████████████████▌                   | 190/294 [4:13:57<2:16:09, 78.55s/it, Encoder Dense Layers=[22, 20], Decoder Dense Layers=[10, 12], Bottle Neck=14]"
     ]
    },
    {
     "name": "stdout",
     "output_type": "stream",
     "text": [
      "Reports Saved\n",
      "[22, 20] 14 [10, 12]\n",
      "\n",
      "L24_E22_20_B14_D10_12\n",
      "\n",
      "Training model: L24_E22_20_B14_D10_12\n",
      "Training Complete:\n",
      "Last epoch loss: 0.011358738876879215\n",
      "Last epoch validation loss: 0.017477285116910934\n"
     ]
    },
    {
     "name": "stderr",
     "output_type": "stream",
     "text": [
      "Overall Progress:  65%|███████████████████████████████████▋                   | 191/294 [4:15:15<2:14:53, 78.57s/it, Encoder Dense Layers=[22, 20], Decoder Dense Layers=[12, 14], Bottle Neck=14]"
     ]
    },
    {
     "name": "stdout",
     "output_type": "stream",
     "text": [
      "Reports Saved\n",
      "[22, 20] 14 [12, 14]\n",
      "\n",
      "L24_E22_20_B14_D12_14\n",
      "\n",
      "Training model: L24_E22_20_B14_D12_14\n",
      "Training Complete:\n",
      "Last epoch loss: 0.012704811058938503\n",
      "Last epoch validation loss: 0.020250258967280388\n"
     ]
    },
    {
     "name": "stderr",
     "output_type": "stream",
     "text": [
      "Overall Progress:  65%|███████████████████████████████████▉                   | 192/294 [4:16:34<2:13:35, 78.58s/it, Encoder Dense Layers=[22, 20], Decoder Dense Layers=[14, 16], Bottle Neck=14]"
     ]
    },
    {
     "name": "stdout",
     "output_type": "stream",
     "text": [
      "Reports Saved\n",
      "[22, 20] 14 [14, 16]\n",
      "\n",
      "L24_E22_20_B14_D14_16\n",
      "\n",
      "Training model: L24_E22_20_B14_D14_16\n",
      "Training Complete:\n",
      "Last epoch loss: 0.007877781987190247\n",
      "Last epoch validation loss: 0.01296077761799097\n"
     ]
    },
    {
     "name": "stderr",
     "output_type": "stream",
     "text": [
      "Overall Progress:  66%|████████████████████████████████████                   | 193/294 [4:17:52<2:12:04, 78.46s/it, Encoder Dense Layers=[22, 20], Decoder Dense Layers=[16, 18], Bottle Neck=14]"
     ]
    },
    {
     "name": "stdout",
     "output_type": "stream",
     "text": [
      "Reports Saved\n",
      "[22, 20] 14 [16, 18]\n",
      "\n",
      "L24_E22_20_B14_D16_18\n",
      "\n",
      "Training model: L24_E22_20_B14_D16_18\n",
      "Training Complete:\n",
      "Last epoch loss: 0.007122109178453684\n",
      "Last epoch validation loss: 0.012995019555091858\n"
     ]
    },
    {
     "name": "stderr",
     "output_type": "stream",
     "text": [
      "Overall Progress:  66%|████████████████████████████████████▎                  | 194/294 [4:19:10<2:10:37, 78.37s/it, Encoder Dense Layers=[22, 20], Decoder Dense Layers=[18, 20], Bottle Neck=14]"
     ]
    },
    {
     "name": "stdout",
     "output_type": "stream",
     "text": [
      "Reports Saved\n",
      "[22, 20] 14 [18, 20]\n",
      "\n",
      "L24_E22_20_B14_D18_20\n",
      "\n",
      "Training model: L24_E22_20_B14_D18_20\n",
      "Training Complete:\n",
      "Last epoch loss: 0.0070633478462696075\n",
      "Last epoch validation loss: 0.013124474324285984\n"
     ]
    },
    {
     "name": "stderr",
     "output_type": "stream",
     "text": [
      "Overall Progress:  66%|████████████████████████████████████▍                  | 195/294 [4:20:30<2:09:49, 78.69s/it, Encoder Dense Layers=[22, 20], Decoder Dense Layers=[20, 22], Bottle Neck=14]"
     ]
    },
    {
     "name": "stdout",
     "output_type": "stream",
     "text": [
      "Reports Saved\n",
      "[22, 20] 14 [20, 22]\n",
      "\n",
      "L24_E22_20_B14_D20_22\n",
      "\n",
      "Training model: L24_E22_20_B14_D20_22\n",
      "Training Complete:\n",
      "Last epoch loss: 0.00870952382683754\n",
      "Last epoch validation loss: 0.01347659807652235\n"
     ]
    },
    {
     "name": "stderr",
     "output_type": "stream",
     "text": [
      "Overall Progress:  67%|██████████████████████████████████████                   | 196/294 [4:21:51<2:09:38, 79.37s/it, Encoder Dense Layers=[10, 8], Decoder Dense Layers=[8, 10], Bottle Neck=16]"
     ]
    },
    {
     "name": "stdout",
     "output_type": "stream",
     "text": [
      "Reports Saved\n",
      "[10, 8] 16 [8, 10]\n",
      "\n",
      "L24_E10_8_B16_D8_10\n",
      "\n",
      "Training model: L24_E10_8_B16_D8_10\n",
      "Training Complete:\n",
      "Last epoch loss: 0.015590967610478401\n",
      "Last epoch validation loss: 0.023552199825644493\n"
     ]
    },
    {
     "name": "stderr",
     "output_type": "stream",
     "text": [
      "Overall Progress:  67%|█████████████████████████████████████▌                  | 197/294 [4:23:11<2:08:57, 79.77s/it, Encoder Dense Layers=[10, 8], Decoder Dense Layers=[10, 12], Bottle Neck=16]"
     ]
    },
    {
     "name": "stdout",
     "output_type": "stream",
     "text": [
      "Reports Saved\n",
      "[10, 8] 16 [10, 12]\n",
      "\n",
      "L24_E10_8_B16_D10_12\n",
      "\n",
      "Training model: L24_E10_8_B16_D10_12\n",
      "Training Complete:\n",
      "Last epoch loss: 0.01199979055672884\n",
      "Last epoch validation loss: 0.018737811595201492\n"
     ]
    },
    {
     "name": "stderr",
     "output_type": "stream",
     "text": [
      "Overall Progress:  67%|█████████████████████████████████████▋                  | 198/294 [4:24:34<2:08:50, 80.53s/it, Encoder Dense Layers=[10, 8], Decoder Dense Layers=[12, 14], Bottle Neck=16]"
     ]
    },
    {
     "name": "stdout",
     "output_type": "stream",
     "text": [
      "Reports Saved\n",
      "[10, 8] 16 [12, 14]\n",
      "\n",
      "L24_E10_8_B16_D12_14\n",
      "\n",
      "Training model: L24_E10_8_B16_D12_14\n",
      "Training Complete:\n",
      "Last epoch loss: 0.008487885817885399\n",
      "Last epoch validation loss: 0.015007802285254002\n"
     ]
    },
    {
     "name": "stderr",
     "output_type": "stream",
     "text": [
      "Overall Progress:  68%|█████████████████████████████████████▉                  | 199/294 [4:26:02<2:11:23, 82.99s/it, Encoder Dense Layers=[10, 8], Decoder Dense Layers=[14, 16], Bottle Neck=16]"
     ]
    },
    {
     "name": "stdout",
     "output_type": "stream",
     "text": [
      "Reports Saved\n",
      "[10, 8] 16 [14, 16]\n",
      "\n",
      "L24_E10_8_B16_D14_16\n",
      "\n",
      "Training model: L24_E10_8_B16_D14_16\n",
      "Training Complete:\n",
      "Last epoch loss: 0.007713156286627054\n",
      "Last epoch validation loss: 0.014870497398078442\n"
     ]
    },
    {
     "name": "stderr",
     "output_type": "stream",
     "text": [
      "Overall Progress:  68%|██████████████████████████████████████                  | 200/294 [4:27:24<2:09:18, 82.54s/it, Encoder Dense Layers=[10, 8], Decoder Dense Layers=[16, 18], Bottle Neck=16]"
     ]
    },
    {
     "name": "stdout",
     "output_type": "stream",
     "text": [
      "Reports Saved\n",
      "[10, 8] 16 [16, 18]\n",
      "\n",
      "L24_E10_8_B16_D16_18\n",
      "\n",
      "Training model: L24_E10_8_B16_D16_18\n",
      "Training Complete:\n",
      "Last epoch loss: 0.01162741333246231\n",
      "Last epoch validation loss: 0.018231991678476334\n"
     ]
    },
    {
     "name": "stderr",
     "output_type": "stream",
     "text": [
      "Overall Progress:  68%|██████████████████████████████████████▎                 | 201/294 [4:28:47<2:08:05, 82.64s/it, Encoder Dense Layers=[10, 8], Decoder Dense Layers=[18, 20], Bottle Neck=16]"
     ]
    },
    {
     "name": "stdout",
     "output_type": "stream",
     "text": [
      "Reports Saved\n",
      "[10, 8] 16 [18, 20]\n",
      "\n",
      "L24_E10_8_B16_D18_20\n",
      "\n",
      "Training model: L24_E10_8_B16_D18_20\n",
      "Training Complete:\n",
      "Last epoch loss: 0.01037747971713543\n",
      "Last epoch validation loss: 0.019166691228747368\n"
     ]
    },
    {
     "name": "stderr",
     "output_type": "stream",
     "text": [
      "Overall Progress:  69%|██████████████████████████████████████▍                 | 202/294 [4:30:10<2:06:48, 82.70s/it, Encoder Dense Layers=[10, 8], Decoder Dense Layers=[20, 22], Bottle Neck=16]"
     ]
    },
    {
     "name": "stdout",
     "output_type": "stream",
     "text": [
      "Reports Saved\n",
      "[10, 8] 16 [20, 22]\n",
      "\n",
      "L24_E10_8_B16_D20_22\n",
      "\n",
      "Training model: L24_E10_8_B16_D20_22\n",
      "Training Complete:\n",
      "Last epoch loss: 0.010750113055109978\n",
      "Last epoch validation loss: 0.01755247451364994\n"
     ]
    },
    {
     "name": "stderr",
     "output_type": "stream",
     "text": [
      "Overall Progress:  69%|██████████████████████████████████████▋                 | 203/294 [4:31:30<2:04:27, 82.06s/it, Encoder Dense Layers=[12, 10], Decoder Dense Layers=[8, 10], Bottle Neck=16]"
     ]
    },
    {
     "name": "stdout",
     "output_type": "stream",
     "text": [
      "Reports Saved\n",
      "[12, 10] 16 [8, 10]\n",
      "\n",
      "L24_E12_10_B16_D8_10\n",
      "\n",
      "Training model: L24_E12_10_B16_D8_10\n",
      "Training Complete:\n",
      "Last epoch loss: 0.01766507886350155\n",
      "Last epoch validation loss: 0.026129087433218956\n"
     ]
    },
    {
     "name": "stderr",
     "output_type": "stream",
     "text": [
      "Overall Progress:  69%|██████████████████████████████████████▏                | 204/294 [4:32:50<2:02:09, 81.44s/it, Encoder Dense Layers=[12, 10], Decoder Dense Layers=[10, 12], Bottle Neck=16]"
     ]
    },
    {
     "name": "stdout",
     "output_type": "stream",
     "text": [
      "Reports Saved\n",
      "[12, 10] 16 [10, 12]\n",
      "\n",
      "L24_E12_10_B16_D10_12\n",
      "\n",
      "Training model: L24_E12_10_B16_D10_12\n",
      "Training Complete:\n",
      "Last epoch loss: 0.020516760647296906\n",
      "Last epoch validation loss: 0.02934875153005123\n"
     ]
    },
    {
     "name": "stderr",
     "output_type": "stream",
     "text": [
      "Overall Progress:  70%|██████████████████████████████████████▎                | 205/294 [4:34:11<2:00:30, 81.24s/it, Encoder Dense Layers=[12, 10], Decoder Dense Layers=[12, 14], Bottle Neck=16]"
     ]
    },
    {
     "name": "stdout",
     "output_type": "stream",
     "text": [
      "Reports Saved\n",
      "[12, 10] 16 [12, 14]\n",
      "\n",
      "L24_E12_10_B16_D12_14\n",
      "\n",
      "Training model: L24_E12_10_B16_D12_14\n",
      "Training Complete:\n",
      "Last epoch loss: 0.01223649550229311\n",
      "Last epoch validation loss: 0.01816992089152336\n"
     ]
    },
    {
     "name": "stderr",
     "output_type": "stream",
     "text": [
      "Overall Progress:  70%|██████████████████████████████████████▌                | 206/294 [4:35:32<1:59:08, 81.23s/it, Encoder Dense Layers=[12, 10], Decoder Dense Layers=[14, 16], Bottle Neck=16]"
     ]
    },
    {
     "name": "stdout",
     "output_type": "stream",
     "text": [
      "Reports Saved\n",
      "[12, 10] 16 [14, 16]\n",
      "\n",
      "L24_E12_10_B16_D14_16\n",
      "\n",
      "Training model: L24_E12_10_B16_D14_16\n",
      "Training Complete:\n",
      "Last epoch loss: 0.01200161688029766\n",
      "Last epoch validation loss: 0.019029526039958\n"
     ]
    },
    {
     "name": "stderr",
     "output_type": "stream",
     "text": [
      "Overall Progress:  70%|██████████████████████████████████████▋                | 207/294 [4:36:54<1:58:06, 81.46s/it, Encoder Dense Layers=[12, 10], Decoder Dense Layers=[16, 18], Bottle Neck=16]"
     ]
    },
    {
     "name": "stdout",
     "output_type": "stream",
     "text": [
      "Reports Saved\n",
      "[12, 10] 16 [16, 18]\n",
      "\n",
      "L24_E12_10_B16_D16_18\n",
      "\n",
      "Training model: L24_E12_10_B16_D16_18\n",
      "Training Complete:\n",
      "Last epoch loss: 0.009151376783847809\n",
      "Last epoch validation loss: 0.015322055667638779\n"
     ]
    },
    {
     "name": "stderr",
     "output_type": "stream",
     "text": [
      "Overall Progress:  71%|██████████████████████████████████████▉                | 208/294 [4:38:14<1:56:19, 81.16s/it, Encoder Dense Layers=[12, 10], Decoder Dense Layers=[18, 20], Bottle Neck=16]"
     ]
    },
    {
     "name": "stdout",
     "output_type": "stream",
     "text": [
      "Reports Saved\n",
      "[12, 10] 16 [18, 20]\n",
      "\n",
      "L24_E12_10_B16_D18_20\n",
      "\n",
      "Training model: L24_E12_10_B16_D18_20\n",
      "Training Complete:\n",
      "Last epoch loss: 0.009683449752628803\n",
      "Last epoch validation loss: 0.014477656222879887\n"
     ]
    },
    {
     "name": "stderr",
     "output_type": "stream",
     "text": [
      "Overall Progress:  71%|███████████████████████████████████████                | 209/294 [4:39:34<1:54:13, 80.62s/it, Encoder Dense Layers=[12, 10], Decoder Dense Layers=[20, 22], Bottle Neck=16]"
     ]
    },
    {
     "name": "stdout",
     "output_type": "stream",
     "text": [
      "Reports Saved\n",
      "[12, 10] 16 [20, 22]\n",
      "\n",
      "L24_E12_10_B16_D20_22\n",
      "\n",
      "Training model: L24_E12_10_B16_D20_22\n",
      "Training Complete:\n",
      "Last epoch loss: 0.012806723825633526\n",
      "Last epoch validation loss: 0.018936974927783012\n"
     ]
    },
    {
     "name": "stderr",
     "output_type": "stream",
     "text": [
      "Overall Progress:  71%|████████████████████████████████████████                | 210/294 [4:40:53<1:52:11, 80.14s/it, Encoder Dense Layers=[14, 12], Decoder Dense Layers=[8, 10], Bottle Neck=16]"
     ]
    },
    {
     "name": "stdout",
     "output_type": "stream",
     "text": [
      "Reports Saved\n",
      "[14, 12] 16 [8, 10]\n",
      "\n",
      "L24_E14_12_B16_D8_10\n",
      "\n",
      "Training model: L24_E14_12_B16_D8_10\n",
      "Training Complete:\n",
      "Last epoch loss: 0.011389188468456268\n",
      "Last epoch validation loss: 0.017032690346240997\n"
     ]
    },
    {
     "name": "stderr",
     "output_type": "stream",
     "text": [
      "Overall Progress:  72%|███████████████████████████████████████▍               | 211/294 [4:42:13<1:50:42, 80.03s/it, Encoder Dense Layers=[14, 12], Decoder Dense Layers=[10, 12], Bottle Neck=16]"
     ]
    },
    {
     "name": "stdout",
     "output_type": "stream",
     "text": [
      "Reports Saved\n",
      "[14, 12] 16 [10, 12]\n",
      "\n",
      "L24_E14_12_B16_D10_12\n",
      "\n",
      "Training model: L24_E14_12_B16_D10_12\n",
      "Training Complete:\n",
      "Last epoch loss: 0.010467739775776863\n",
      "Last epoch validation loss: 0.019423583522439003\n"
     ]
    },
    {
     "name": "stderr",
     "output_type": "stream",
     "text": [
      "Overall Progress:  72%|███████████████████████████████████████▋               | 212/294 [4:43:32<1:49:07, 79.84s/it, Encoder Dense Layers=[14, 12], Decoder Dense Layers=[12, 14], Bottle Neck=16]"
     ]
    },
    {
     "name": "stdout",
     "output_type": "stream",
     "text": [
      "Reports Saved\n",
      "[14, 12] 16 [12, 14]\n",
      "\n",
      "L24_E14_12_B16_D12_14\n",
      "\n",
      "Training model: L24_E14_12_B16_D12_14\n",
      "Training Complete:\n",
      "Last epoch loss: 0.00905931182205677\n",
      "Last epoch validation loss: 0.01491780485957861\n"
     ]
    },
    {
     "name": "stderr",
     "output_type": "stream",
     "text": [
      "Overall Progress:  72%|███████████████████████████████████████▊               | 213/294 [4:44:50<1:46:51, 79.16s/it, Encoder Dense Layers=[14, 12], Decoder Dense Layers=[14, 16], Bottle Neck=16]"
     ]
    },
    {
     "name": "stdout",
     "output_type": "stream",
     "text": [
      "Reports Saved\n",
      "[14, 12] 16 [14, 16]\n",
      "\n",
      "L24_E14_12_B16_D14_16\n",
      "\n",
      "Training model: L24_E14_12_B16_D14_16\n",
      "Training Complete:\n",
      "Last epoch loss: 0.007072475738823414\n",
      "Last epoch validation loss: 0.011698776856064796\n"
     ]
    },
    {
     "name": "stderr",
     "output_type": "stream",
     "text": [
      "Overall Progress:  73%|████████████████████████████████████████               | 214/294 [4:46:09<1:45:34, 79.18s/it, Encoder Dense Layers=[14, 12], Decoder Dense Layers=[16, 18], Bottle Neck=16]"
     ]
    },
    {
     "name": "stdout",
     "output_type": "stream",
     "text": [
      "Reports Saved\n",
      "[14, 12] 16 [16, 18]\n",
      "\n",
      "L24_E14_12_B16_D16_18\n",
      "\n",
      "Training model: L24_E14_12_B16_D16_18\n",
      "Training Complete:\n",
      "Last epoch loss: 0.011403282172977924\n",
      "Last epoch validation loss: 0.018298592418432236\n"
     ]
    },
    {
     "name": "stderr",
     "output_type": "stream",
     "text": [
      "Overall Progress:  73%|████████████████████████████████████████▏              | 215/294 [4:47:28<1:44:09, 79.11s/it, Encoder Dense Layers=[14, 12], Decoder Dense Layers=[18, 20], Bottle Neck=16]"
     ]
    },
    {
     "name": "stdout",
     "output_type": "stream",
     "text": [
      "Reports Saved\n",
      "[14, 12] 16 [18, 20]\n",
      "\n",
      "L24_E14_12_B16_D18_20\n",
      "\n",
      "Training model: L24_E14_12_B16_D18_20\n",
      "Training Complete:\n",
      "Last epoch loss: 0.007514351978898048\n",
      "Last epoch validation loss: 0.013715837150812149\n"
     ]
    },
    {
     "name": "stderr",
     "output_type": "stream",
     "text": [
      "Overall Progress:  73%|████████████████████████████████████████▍              | 216/294 [4:48:46<1:42:27, 78.81s/it, Encoder Dense Layers=[14, 12], Decoder Dense Layers=[20, 22], Bottle Neck=16]"
     ]
    },
    {
     "name": "stdout",
     "output_type": "stream",
     "text": [
      "Reports Saved\n",
      "[14, 12] 16 [20, 22]\n",
      "\n",
      "L24_E14_12_B16_D20_22\n",
      "\n",
      "Training model: L24_E14_12_B16_D20_22\n",
      "Training Complete:\n",
      "Last epoch loss: 0.008491837419569492\n",
      "Last epoch validation loss: 0.014598705805838108\n"
     ]
    },
    {
     "name": "stderr",
     "output_type": "stream",
     "text": [
      "Overall Progress:  74%|█████████████████████████████████████████▎              | 217/294 [4:50:04<1:40:48, 78.55s/it, Encoder Dense Layers=[16, 14], Decoder Dense Layers=[8, 10], Bottle Neck=16]"
     ]
    },
    {
     "name": "stdout",
     "output_type": "stream",
     "text": [
      "Reports Saved\n",
      "[16, 14] 16 [8, 10]\n",
      "\n",
      "L24_E16_14_B16_D8_10\n",
      "\n",
      "Training model: L24_E16_14_B16_D8_10\n",
      "Training Complete:\n",
      "Last epoch loss: 0.012029377743601799\n",
      "Last epoch validation loss: 0.018198110163211823\n"
     ]
    },
    {
     "name": "stderr",
     "output_type": "stream",
     "text": [
      "Overall Progress:  74%|████████████████████████████████████████▊              | 218/294 [4:51:34<1:43:51, 82.00s/it, Encoder Dense Layers=[16, 14], Decoder Dense Layers=[10, 12], Bottle Neck=16]"
     ]
    },
    {
     "name": "stdout",
     "output_type": "stream",
     "text": [
      "Reports Saved\n",
      "[16, 14] 16 [10, 12]\n",
      "\n",
      "L24_E16_14_B16_D10_12\n",
      "\n",
      "Training model: L24_E16_14_B16_D10_12\n",
      "Training Complete:\n",
      "Last epoch loss: 0.01570829004049301\n",
      "Last epoch validation loss: 0.02356467954814434\n"
     ]
    },
    {
     "name": "stderr",
     "output_type": "stream",
     "text": [
      "Overall Progress:  74%|████████████████████████████████████████▉              | 219/294 [4:52:54<1:41:43, 81.38s/it, Encoder Dense Layers=[16, 14], Decoder Dense Layers=[12, 14], Bottle Neck=16]"
     ]
    },
    {
     "name": "stdout",
     "output_type": "stream",
     "text": [
      "Reports Saved\n",
      "[16, 14] 16 [12, 14]\n",
      "\n",
      "L24_E16_14_B16_D12_14\n",
      "\n",
      "Training model: L24_E16_14_B16_D12_14\n",
      "Training Complete:\n",
      "Last epoch loss: 0.011363695375621319\n",
      "Last epoch validation loss: 0.01745256595313549\n"
     ]
    },
    {
     "name": "stderr",
     "output_type": "stream",
     "text": [
      "Overall Progress:  75%|█████████████████████████████████████████▏             | 220/294 [4:54:14<1:39:47, 80.91s/it, Encoder Dense Layers=[16, 14], Decoder Dense Layers=[14, 16], Bottle Neck=16]"
     ]
    },
    {
     "name": "stdout",
     "output_type": "stream",
     "text": [
      "Reports Saved\n",
      "[16, 14] 16 [14, 16]\n",
      "\n",
      "L24_E16_14_B16_D14_16\n",
      "\n",
      "Training model: L24_E16_14_B16_D14_16\n",
      "Training Complete:\n",
      "Last epoch loss: 0.008300624787807465\n",
      "Last epoch validation loss: 0.014092017896473408\n"
     ]
    },
    {
     "name": "stderr",
     "output_type": "stream",
     "text": [
      "Overall Progress:  75%|█████████████████████████████████████████▎             | 221/294 [4:55:33<1:37:54, 80.47s/it, Encoder Dense Layers=[16, 14], Decoder Dense Layers=[16, 18], Bottle Neck=16]"
     ]
    },
    {
     "name": "stdout",
     "output_type": "stream",
     "text": [
      "Reports Saved\n",
      "[16, 14] 16 [16, 18]\n",
      "\n",
      "L24_E16_14_B16_D16_18\n",
      "\n",
      "Training model: L24_E16_14_B16_D16_18\n",
      "Training Complete:\n",
      "Last epoch loss: 0.00625470420345664\n",
      "Last epoch validation loss: 0.011998101137578487\n"
     ]
    },
    {
     "name": "stderr",
     "output_type": "stream",
     "text": [
      "Overall Progress:  76%|█████████████████████████████████████████▌             | 222/294 [4:56:54<1:36:41, 80.57s/it, Encoder Dense Layers=[16, 14], Decoder Dense Layers=[18, 20], Bottle Neck=16]"
     ]
    },
    {
     "name": "stdout",
     "output_type": "stream",
     "text": [
      "Reports Saved\n",
      "[16, 14] 16 [18, 20]\n",
      "\n",
      "L24_E16_14_B16_D18_20\n",
      "\n",
      "Training model: L24_E16_14_B16_D18_20\n",
      "Training Complete:\n",
      "Last epoch loss: 0.007572186645120382\n",
      "Last epoch validation loss: 0.013064706698060036\n"
     ]
    },
    {
     "name": "stderr",
     "output_type": "stream",
     "text": [
      "Overall Progress:  76%|█████████████████████████████████████████▋             | 223/294 [4:58:12<1:34:34, 79.92s/it, Encoder Dense Layers=[16, 14], Decoder Dense Layers=[20, 22], Bottle Neck=16]"
     ]
    },
    {
     "name": "stdout",
     "output_type": "stream",
     "text": [
      "Reports Saved\n",
      "[16, 14] 16 [20, 22]\n",
      "\n",
      "L24_E16_14_B16_D20_22\n",
      "\n",
      "Training model: L24_E16_14_B16_D20_22\n",
      "Training Complete:\n",
      "Last epoch loss: 0.00837166327983141\n",
      "Last epoch validation loss: 0.014409208670258522\n"
     ]
    },
    {
     "name": "stderr",
     "output_type": "stream",
     "text": [
      "Overall Progress:  76%|██████████████████████████████████████████▋             | 224/294 [4:59:35<1:34:12, 80.75s/it, Encoder Dense Layers=[18, 16], Decoder Dense Layers=[8, 10], Bottle Neck=16]"
     ]
    },
    {
     "name": "stdout",
     "output_type": "stream",
     "text": [
      "Reports Saved\n",
      "[18, 16] 16 [8, 10]\n",
      "\n",
      "L24_E18_16_B16_D8_10\n",
      "\n",
      "Training model: L24_E18_16_B16_D8_10\n",
      "Training Complete:\n",
      "Last epoch loss: 0.010935241356492043\n",
      "Last epoch validation loss: 0.017581891268491745\n"
     ]
    },
    {
     "name": "stderr",
     "output_type": "stream",
     "text": [
      "Overall Progress:  77%|██████████████████████████████████████████             | 225/294 [5:00:53<1:31:59, 79.99s/it, Encoder Dense Layers=[18, 16], Decoder Dense Layers=[10, 12], Bottle Neck=16]"
     ]
    },
    {
     "name": "stdout",
     "output_type": "stream",
     "text": [
      "Reports Saved\n",
      "[18, 16] 16 [10, 12]\n",
      "\n",
      "L24_E18_16_B16_D10_12\n",
      "\n",
      "Training model: L24_E18_16_B16_D10_12\n",
      "Training Complete:\n",
      "Last epoch loss: 0.010477795265614986\n",
      "Last epoch validation loss: 0.015784477815032005\n"
     ]
    },
    {
     "name": "stderr",
     "output_type": "stream",
     "text": [
      "Overall Progress:  77%|██████████████████████████████████████████▎            | 226/294 [5:02:12<1:30:12, 79.60s/it, Encoder Dense Layers=[18, 16], Decoder Dense Layers=[12, 14], Bottle Neck=16]"
     ]
    },
    {
     "name": "stdout",
     "output_type": "stream",
     "text": [
      "Reports Saved\n",
      "[18, 16] 16 [12, 14]\n",
      "\n",
      "L24_E18_16_B16_D12_14\n",
      "\n",
      "Training model: L24_E18_16_B16_D12_14\n",
      "Training Complete:\n",
      "Last epoch loss: 0.010007343254983425\n",
      "Last epoch validation loss: 0.017503242939710617\n"
     ]
    },
    {
     "name": "stderr",
     "output_type": "stream",
     "text": [
      "Overall Progress:  77%|██████████████████████████████████████████▍            | 227/294 [5:03:31<1:28:40, 79.41s/it, Encoder Dense Layers=[18, 16], Decoder Dense Layers=[14, 16], Bottle Neck=16]"
     ]
    },
    {
     "name": "stdout",
     "output_type": "stream",
     "text": [
      "Reports Saved\n",
      "[18, 16] 16 [14, 16]\n",
      "\n",
      "L24_E18_16_B16_D14_16\n",
      "\n",
      "Training model: L24_E18_16_B16_D14_16\n",
      "Training Complete:\n",
      "Last epoch loss: 0.009460801258683205\n",
      "Last epoch validation loss: 0.015284827910363674\n"
     ]
    },
    {
     "name": "stderr",
     "output_type": "stream",
     "text": [
      "Overall Progress:  78%|██████████████████████████████████████████▋            | 228/294 [5:04:52<1:27:53, 79.91s/it, Encoder Dense Layers=[18, 16], Decoder Dense Layers=[16, 18], Bottle Neck=16]"
     ]
    },
    {
     "name": "stdout",
     "output_type": "stream",
     "text": [
      "Reports Saved\n",
      "[18, 16] 16 [16, 18]\n",
      "\n",
      "L24_E18_16_B16_D16_18\n",
      "\n",
      "Training model: L24_E18_16_B16_D16_18\n",
      "Training Complete:\n",
      "Last epoch loss: 0.010193584486842155\n",
      "Last epoch validation loss: 0.016872091218829155\n"
     ]
    },
    {
     "name": "stderr",
     "output_type": "stream",
     "text": [
      "Overall Progress:  78%|██████████████████████████████████████████▊            | 229/294 [5:06:11<1:26:27, 79.81s/it, Encoder Dense Layers=[18, 16], Decoder Dense Layers=[18, 20], Bottle Neck=16]"
     ]
    },
    {
     "name": "stdout",
     "output_type": "stream",
     "text": [
      "Reports Saved\n",
      "[18, 16] 16 [18, 20]\n",
      "\n",
      "L24_E18_16_B16_D18_20\n",
      "\n",
      "Training model: L24_E18_16_B16_D18_20\n",
      "Training Complete:\n",
      "Last epoch loss: 0.007842963561415672\n",
      "Last epoch validation loss: 0.014425319619476795\n"
     ]
    },
    {
     "name": "stderr",
     "output_type": "stream",
     "text": [
      "Overall Progress:  78%|███████████████████████████████████████████            | 230/294 [5:07:30<1:24:41, 79.40s/it, Encoder Dense Layers=[18, 16], Decoder Dense Layers=[20, 22], Bottle Neck=16]"
     ]
    },
    {
     "name": "stdout",
     "output_type": "stream",
     "text": [
      "Reports Saved\n",
      "[18, 16] 16 [20, 22]\n",
      "\n",
      "L24_E18_16_B16_D20_22\n",
      "\n",
      "Training model: L24_E18_16_B16_D20_22\n",
      "Training Complete:\n",
      "Last epoch loss: 0.011887075379490852\n",
      "Last epoch validation loss: 0.021011848002672195\n"
     ]
    },
    {
     "name": "stderr",
     "output_type": "stream",
     "text": [
      "Overall Progress:  79%|████████████████████████████████████████████            | 231/294 [5:08:50<1:23:35, 79.61s/it, Encoder Dense Layers=[20, 18], Decoder Dense Layers=[8, 10], Bottle Neck=16]"
     ]
    },
    {
     "name": "stdout",
     "output_type": "stream",
     "text": [
      "Reports Saved\n",
      "[20, 18] 16 [8, 10]\n",
      "\n",
      "L24_E20_18_B16_D8_10\n",
      "\n",
      "Training model: L24_E20_18_B16_D8_10\n",
      "Training Complete:\n",
      "Last epoch loss: 0.008977731689810753\n",
      "Last epoch validation loss: 0.014515066519379616\n"
     ]
    },
    {
     "name": "stderr",
     "output_type": "stream",
     "text": [
      "Overall Progress:  79%|███████████████████████████████████████████▍           | 232/294 [5:10:10<1:22:15, 79.61s/it, Encoder Dense Layers=[20, 18], Decoder Dense Layers=[10, 12], Bottle Neck=16]"
     ]
    },
    {
     "name": "stdout",
     "output_type": "stream",
     "text": [
      "Reports Saved\n",
      "[20, 18] 16 [10, 12]\n",
      "\n",
      "L24_E20_18_B16_D10_12\n",
      "\n",
      "Training model: L24_E20_18_B16_D10_12\n",
      "Training Complete:\n",
      "Last epoch loss: 0.011552037671208382\n",
      "Last epoch validation loss: 0.01854080706834793\n"
     ]
    },
    {
     "name": "stderr",
     "output_type": "stream",
     "text": [
      "Overall Progress:  79%|███████████████████████████████████████████▌           | 233/294 [5:11:30<1:21:12, 79.87s/it, Encoder Dense Layers=[20, 18], Decoder Dense Layers=[12, 14], Bottle Neck=16]"
     ]
    },
    {
     "name": "stdout",
     "output_type": "stream",
     "text": [
      "Reports Saved\n",
      "[20, 18] 16 [12, 14]\n",
      "\n",
      "L24_E20_18_B16_D12_14\n",
      "\n",
      "Training model: L24_E20_18_B16_D12_14\n",
      "Training Complete:\n",
      "Last epoch loss: 0.01256126444786787\n",
      "Last epoch validation loss: 0.019645605236291885\n"
     ]
    },
    {
     "name": "stderr",
     "output_type": "stream",
     "text": [
      "Overall Progress:  80%|███████████████████████████████████████████▊           | 234/294 [5:12:50<1:19:47, 79.80s/it, Encoder Dense Layers=[20, 18], Decoder Dense Layers=[14, 16], Bottle Neck=16]"
     ]
    },
    {
     "name": "stdout",
     "output_type": "stream",
     "text": [
      "Reports Saved\n",
      "[20, 18] 16 [14, 16]\n",
      "\n",
      "L24_E20_18_B16_D14_16\n",
      "\n",
      "Training model: L24_E20_18_B16_D14_16\n",
      "Training Complete:\n",
      "Last epoch loss: 0.007616689428687096\n",
      "Last epoch validation loss: 0.014038451947271824\n"
     ]
    },
    {
     "name": "stderr",
     "output_type": "stream",
     "text": [
      "Overall Progress:  80%|███████████████████████████████████████████▉           | 235/294 [5:14:09<1:18:10, 79.49s/it, Encoder Dense Layers=[20, 18], Decoder Dense Layers=[16, 18], Bottle Neck=16]"
     ]
    },
    {
     "name": "stdout",
     "output_type": "stream",
     "text": [
      "Reports Saved\n",
      "[20, 18] 16 [16, 18]\n",
      "\n",
      "L24_E20_18_B16_D16_18\n",
      "\n",
      "Training model: L24_E20_18_B16_D16_18\n",
      "Training Complete:\n",
      "Last epoch loss: 0.010330419056117535\n",
      "Last epoch validation loss: 0.017208712175488472\n"
     ]
    },
    {
     "name": "stderr",
     "output_type": "stream",
     "text": [
      "Overall Progress:  80%|████████████████████████████████████████████▏          | 236/294 [5:15:29<1:17:00, 79.66s/it, Encoder Dense Layers=[20, 18], Decoder Dense Layers=[18, 20], Bottle Neck=16]"
     ]
    },
    {
     "name": "stdout",
     "output_type": "stream",
     "text": [
      "Reports Saved\n",
      "[20, 18] 16 [18, 20]\n",
      "\n",
      "L24_E20_18_B16_D18_20\n",
      "\n",
      "Training model: L24_E20_18_B16_D18_20\n",
      "Training Complete:\n",
      "Last epoch loss: 0.010512937791645527\n",
      "Last epoch validation loss: 0.016665790230035782\n"
     ]
    },
    {
     "name": "stderr",
     "output_type": "stream",
     "text": [
      "Overall Progress:  81%|████████████████████████████████████████████▎          | 237/294 [5:16:49<1:15:53, 79.89s/it, Encoder Dense Layers=[20, 18], Decoder Dense Layers=[20, 22], Bottle Neck=16]"
     ]
    },
    {
     "name": "stdout",
     "output_type": "stream",
     "text": [
      "Reports Saved\n",
      "[20, 18] 16 [20, 22]\n",
      "\n",
      "L24_E20_18_B16_D20_22\n",
      "\n",
      "Training model: L24_E20_18_B16_D20_22\n",
      "Training Complete:\n",
      "Last epoch loss: 0.006701897829771042\n",
      "Last epoch validation loss: 0.014084933325648308\n"
     ]
    },
    {
     "name": "stderr",
     "output_type": "stream",
     "text": [
      "Overall Progress:  81%|█████████████████████████████████████████████▎          | 238/294 [5:18:09<1:14:32, 79.86s/it, Encoder Dense Layers=[22, 20], Decoder Dense Layers=[8, 10], Bottle Neck=16]"
     ]
    },
    {
     "name": "stdout",
     "output_type": "stream",
     "text": [
      "Reports Saved\n",
      "[22, 20] 16 [8, 10]\n",
      "\n",
      "L24_E22_20_B16_D8_10\n",
      "\n",
      "Training model: L24_E22_20_B16_D8_10\n",
      "Training Complete:\n",
      "Last epoch loss: 0.011145886033773422\n",
      "Last epoch validation loss: 0.016274690628051758\n"
     ]
    },
    {
     "name": "stderr",
     "output_type": "stream",
     "text": [
      "Overall Progress:  81%|████████████████████████████████████████████▋          | 239/294 [5:19:27<1:12:43, 79.33s/it, Encoder Dense Layers=[22, 20], Decoder Dense Layers=[10, 12], Bottle Neck=16]"
     ]
    },
    {
     "name": "stdout",
     "output_type": "stream",
     "text": [
      "Reports Saved\n",
      "[22, 20] 16 [10, 12]\n",
      "\n",
      "L24_E22_20_B16_D10_12\n",
      "\n",
      "Training model: L24_E22_20_B16_D10_12\n",
      "Training Complete:\n",
      "Last epoch loss: 0.008778570219874382\n",
      "Last epoch validation loss: 0.014117268845438957\n"
     ]
    },
    {
     "name": "stderr",
     "output_type": "stream",
     "text": [
      "Overall Progress:  82%|████████████████████████████████████████████▉          | 240/294 [5:21:02<1:15:39, 84.07s/it, Encoder Dense Layers=[22, 20], Decoder Dense Layers=[12, 14], Bottle Neck=16]"
     ]
    },
    {
     "name": "stdout",
     "output_type": "stream",
     "text": [
      "Reports Saved\n",
      "[22, 20] 16 [12, 14]\n",
      "\n",
      "L24_E22_20_B16_D12_14\n",
      "\n",
      "Training model: L24_E22_20_B16_D12_14\n",
      "Training Complete:\n",
      "Last epoch loss: 0.010633079335093498\n",
      "Last epoch validation loss: 0.018330086022615433\n"
     ]
    },
    {
     "name": "stderr",
     "output_type": "stream",
     "text": [
      "Overall Progress:  82%|█████████████████████████████████████████████          | 241/294 [5:22:22<1:13:03, 82.70s/it, Encoder Dense Layers=[22, 20], Decoder Dense Layers=[14, 16], Bottle Neck=16]"
     ]
    },
    {
     "name": "stdout",
     "output_type": "stream",
     "text": [
      "Reports Saved\n",
      "[22, 20] 16 [14, 16]\n",
      "\n",
      "L24_E22_20_B16_D14_16\n",
      "\n",
      "Training model: L24_E22_20_B16_D14_16\n",
      "Training Complete:\n",
      "Last epoch loss: 0.008499172516167164\n",
      "Last epoch validation loss: 0.016854209825396538\n"
     ]
    },
    {
     "name": "stderr",
     "output_type": "stream",
     "text": [
      "Overall Progress:  82%|█████████████████████████████████████████████▎         | 242/294 [5:23:42<1:11:13, 82.18s/it, Encoder Dense Layers=[22, 20], Decoder Dense Layers=[16, 18], Bottle Neck=16]"
     ]
    },
    {
     "name": "stdout",
     "output_type": "stream",
     "text": [
      "Reports Saved\n",
      "[22, 20] 16 [16, 18]\n",
      "\n",
      "L24_E22_20_B16_D16_18\n",
      "\n",
      "Training model: L24_E22_20_B16_D16_18\n",
      "Training Complete:\n",
      "Last epoch loss: 0.007224749773740768\n",
      "Last epoch validation loss: 0.012791880406439304\n"
     ]
    },
    {
     "name": "stderr",
     "output_type": "stream",
     "text": [
      "Overall Progress:  83%|█████████████████████████████████████████████▍         | 243/294 [5:25:02<1:09:06, 81.30s/it, Encoder Dense Layers=[22, 20], Decoder Dense Layers=[18, 20], Bottle Neck=16]"
     ]
    },
    {
     "name": "stdout",
     "output_type": "stream",
     "text": [
      "Reports Saved\n",
      "[22, 20] 16 [18, 20]\n",
      "\n",
      "L24_E22_20_B16_D18_20\n",
      "\n",
      "Training model: L24_E22_20_B16_D18_20\n",
      "Training Complete:\n",
      "Last epoch loss: 0.006568704266101122\n",
      "Last epoch validation loss: 0.012907391414046288\n"
     ]
    },
    {
     "name": "stderr",
     "output_type": "stream",
     "text": [
      "Overall Progress:  83%|█████████████████████████████████████████████▋         | 244/294 [5:26:23<1:07:41, 81.24s/it, Encoder Dense Layers=[22, 20], Decoder Dense Layers=[20, 22], Bottle Neck=16]"
     ]
    },
    {
     "name": "stdout",
     "output_type": "stream",
     "text": [
      "Reports Saved\n",
      "[22, 20] 16 [20, 22]\n",
      "\n",
      "L24_E22_20_B16_D20_22\n",
      "\n",
      "Training model: L24_E22_20_B16_D20_22\n",
      "Training Complete:\n",
      "Last epoch loss: 0.007980672642588615\n",
      "Last epoch validation loss: 0.013067847117781639\n"
     ]
    },
    {
     "name": "stderr",
     "output_type": "stream",
     "text": [
      "Overall Progress:  83%|███████████████████████████████████████████████▌         | 245/294 [5:27:45<1:06:39, 81.63s/it, Encoder Dense Layers=[10, 8], Decoder Dense Layers=[8, 10], Bottle Neck=18]"
     ]
    },
    {
     "name": "stdout",
     "output_type": "stream",
     "text": [
      "Reports Saved\n",
      "[10, 8] 18 [8, 10]\n",
      "\n",
      "L24_E10_8_B18_D8_10\n",
      "\n",
      "Training model: L24_E10_8_B18_D8_10\n",
      "Training Complete:\n",
      "Last epoch loss: 0.011182023212313652\n",
      "Last epoch validation loss: 0.018806135281920433\n"
     ]
    },
    {
     "name": "stderr",
     "output_type": "stream",
     "text": [
      "Overall Progress:  84%|██████████████████████████████████████████████▊         | 246/294 [5:29:05<1:04:54, 81.13s/it, Encoder Dense Layers=[10, 8], Decoder Dense Layers=[10, 12], Bottle Neck=18]"
     ]
    },
    {
     "name": "stdout",
     "output_type": "stream",
     "text": [
      "Reports Saved\n",
      "[10, 8] 18 [10, 12]\n",
      "\n",
      "L24_E10_8_B18_D10_12\n",
      "\n",
      "Training model: L24_E10_8_B18_D10_12\n",
      "Training Complete:\n",
      "Last epoch loss: 0.011740870773792267\n",
      "Last epoch validation loss: 0.017977377399802208\n"
     ]
    },
    {
     "name": "stderr",
     "output_type": "stream",
     "text": [
      "Overall Progress:  84%|███████████████████████████████████████████████         | 247/294 [5:30:25<1:03:17, 80.80s/it, Encoder Dense Layers=[10, 8], Decoder Dense Layers=[12, 14], Bottle Neck=18]"
     ]
    },
    {
     "name": "stdout",
     "output_type": "stream",
     "text": [
      "Reports Saved\n",
      "[10, 8] 18 [12, 14]\n",
      "\n",
      "L24_E10_8_B18_D12_14\n",
      "\n",
      "Training model: L24_E10_8_B18_D12_14\n",
      "Training Complete:\n",
      "Last epoch loss: 0.008262048475444317\n",
      "Last epoch validation loss: 0.01432761549949646\n"
     ]
    },
    {
     "name": "stderr",
     "output_type": "stream",
     "text": [
      "Overall Progress:  84%|███████████████████████████████████████████████▏        | 248/294 [5:31:44<1:01:27, 80.16s/it, Encoder Dense Layers=[10, 8], Decoder Dense Layers=[14, 16], Bottle Neck=18]"
     ]
    },
    {
     "name": "stdout",
     "output_type": "stream",
     "text": [
      "Reports Saved\n",
      "[10, 8] 18 [14, 16]\n",
      "\n",
      "L24_E10_8_B18_D14_16\n",
      "\n",
      "Training model: L24_E10_8_B18_D14_16\n",
      "Training Complete:\n",
      "Last epoch loss: 0.008881310932338238\n",
      "Last epoch validation loss: 0.01573585346341133\n"
     ]
    },
    {
     "name": "stderr",
     "output_type": "stream",
     "text": [
      "Overall Progress:  85%|█████████████████████████████████████████████████         | 249/294 [5:33:02<59:42, 79.61s/it, Encoder Dense Layers=[10, 8], Decoder Dense Layers=[16, 18], Bottle Neck=18]"
     ]
    },
    {
     "name": "stdout",
     "output_type": "stream",
     "text": [
      "Reports Saved\n",
      "[10, 8] 18 [16, 18]\n",
      "\n",
      "L24_E10_8_B18_D16_18\n",
      "\n",
      "Training model: L24_E10_8_B18_D16_18\n",
      "Training Complete:\n",
      "Last epoch loss: 0.012281699106097221\n",
      "Last epoch validation loss: 0.01883508451282978\n"
     ]
    },
    {
     "name": "stderr",
     "output_type": "stream",
     "text": [
      "Overall Progress:  85%|█████████████████████████████████████████████████▎        | 250/294 [5:34:21<58:14, 79.43s/it, Encoder Dense Layers=[10, 8], Decoder Dense Layers=[18, 20], Bottle Neck=18]"
     ]
    },
    {
     "name": "stdout",
     "output_type": "stream",
     "text": [
      "Reports Saved\n",
      "[10, 8] 18 [18, 20]\n",
      "\n",
      "L24_E10_8_B18_D18_20\n",
      "\n",
      "Training model: L24_E10_8_B18_D18_20\n",
      "Training Complete:\n",
      "Last epoch loss: 0.014642147347331047\n",
      "Last epoch validation loss: 0.024370741099119186\n"
     ]
    },
    {
     "name": "stderr",
     "output_type": "stream",
     "text": [
      "Overall Progress:  85%|█████████████████████████████████████████████████▌        | 251/294 [5:35:41<56:54, 79.40s/it, Encoder Dense Layers=[10, 8], Decoder Dense Layers=[20, 22], Bottle Neck=18]"
     ]
    },
    {
     "name": "stdout",
     "output_type": "stream",
     "text": [
      "Reports Saved\n",
      "[10, 8] 18 [20, 22]\n",
      "\n",
      "L24_E10_8_B18_D20_22\n",
      "\n",
      "Training model: L24_E10_8_B18_D20_22\n",
      "Training Complete:\n",
      "Last epoch loss: 0.009982854127883911\n",
      "Last epoch validation loss: 0.017286615446209908\n"
     ]
    },
    {
     "name": "stderr",
     "output_type": "stream",
     "text": [
      "Overall Progress:  86%|█████████████████████████████████████████████████▋        | 252/294 [5:37:01<55:42, 79.59s/it, Encoder Dense Layers=[12, 10], Decoder Dense Layers=[8, 10], Bottle Neck=18]"
     ]
    },
    {
     "name": "stdout",
     "output_type": "stream",
     "text": [
      "Reports Saved\n",
      "[12, 10] 18 [8, 10]\n",
      "\n",
      "L24_E12_10_B18_D8_10\n",
      "\n",
      "Training model: L24_E12_10_B18_D8_10\n",
      "Training Complete:\n",
      "Last epoch loss: 0.00974242016673088\n",
      "Last epoch validation loss: 0.015142985619604588\n"
     ]
    },
    {
     "name": "stderr",
     "output_type": "stream",
     "text": [
      "Overall Progress:  86%|█████████████████████████████████████████████████        | 253/294 [5:38:22<54:43, 80.08s/it, Encoder Dense Layers=[12, 10], Decoder Dense Layers=[10, 12], Bottle Neck=18]"
     ]
    },
    {
     "name": "stdout",
     "output_type": "stream",
     "text": [
      "Reports Saved\n",
      "[12, 10] 18 [10, 12]\n",
      "\n",
      "L24_E12_10_B18_D10_12\n",
      "\n",
      "Training model: L24_E12_10_B18_D10_12\n",
      "Training Complete:\n",
      "Last epoch loss: 0.00880279578268528\n",
      "Last epoch validation loss: 0.015073671005666256\n"
     ]
    },
    {
     "name": "stderr",
     "output_type": "stream",
     "text": [
      "Overall Progress:  86%|█████████████████████████████████████████████████▏       | 254/294 [5:39:42<53:17, 79.94s/it, Encoder Dense Layers=[12, 10], Decoder Dense Layers=[12, 14], Bottle Neck=18]"
     ]
    },
    {
     "name": "stdout",
     "output_type": "stream",
     "text": [
      "Reports Saved\n",
      "[12, 10] 18 [12, 14]\n",
      "\n",
      "L24_E12_10_B18_D12_14\n",
      "\n",
      "Training model: L24_E12_10_B18_D12_14\n",
      "Training Complete:\n",
      "Last epoch loss: 0.008942974731326103\n",
      "Last epoch validation loss: 0.01627001352608204\n"
     ]
    },
    {
     "name": "stderr",
     "output_type": "stream",
     "text": [
      "Overall Progress:  87%|█████████████████████████████████████████████████▍       | 255/294 [5:41:01<51:49, 79.72s/it, Encoder Dense Layers=[12, 10], Decoder Dense Layers=[14, 16], Bottle Neck=18]"
     ]
    },
    {
     "name": "stdout",
     "output_type": "stream",
     "text": [
      "Reports Saved\n",
      "[12, 10] 18 [14, 16]\n",
      "\n",
      "L24_E12_10_B18_D14_16\n",
      "\n",
      "Training model: L24_E12_10_B18_D14_16\n",
      "Training Complete:\n",
      "Last epoch loss: 0.00815502554178238\n",
      "Last epoch validation loss: 0.01315448060631752\n"
     ]
    },
    {
     "name": "stderr",
     "output_type": "stream",
     "text": [
      "Overall Progress:  87%|█████████████████████████████████████████████████▋       | 256/294 [5:42:20<50:26, 79.65s/it, Encoder Dense Layers=[12, 10], Decoder Dense Layers=[16, 18], Bottle Neck=18]"
     ]
    },
    {
     "name": "stdout",
     "output_type": "stream",
     "text": [
      "Reports Saved\n",
      "[12, 10] 18 [16, 18]\n",
      "\n",
      "L24_E12_10_B18_D16_18\n",
      "\n",
      "Training model: L24_E12_10_B18_D16_18\n",
      "Training Complete:\n",
      "Last epoch loss: 0.010903802700340748\n",
      "Last epoch validation loss: 0.017228741198778152\n"
     ]
    },
    {
     "name": "stderr",
     "output_type": "stream",
     "text": [
      "Overall Progress:  88%|██████████████████████████████████████████████████       | 258/294 [5:44:59<47:43, 79.53s/it, Encoder Dense Layers=[12, 10], Decoder Dense Layers=[20, 22], Bottle Neck=18]"
     ]
    },
    {
     "name": "stdout",
     "output_type": "stream",
     "text": [
      "Reports Saved\n",
      "[12, 10] 18 [20, 22]\n",
      "\n",
      "L24_E12_10_B18_D20_22\n",
      "\n",
      "Training model: L24_E12_10_B18_D20_22\n",
      "Training Complete:\n",
      "Last epoch loss: 0.00728117860853672\n",
      "Last epoch validation loss: 0.013287970796227455\n"
     ]
    },
    {
     "name": "stderr",
     "output_type": "stream",
     "text": [
      "Overall Progress:  88%|███████████████████████████████████████████████████       | 259/294 [5:46:20<46:35, 79.87s/it, Encoder Dense Layers=[14, 12], Decoder Dense Layers=[8, 10], Bottle Neck=18]"
     ]
    },
    {
     "name": "stdout",
     "output_type": "stream",
     "text": [
      "Reports Saved\n",
      "[14, 12] 18 [8, 10]\n",
      "\n",
      "L24_E14_12_B18_D8_10\n",
      "\n",
      "Training model: L24_E14_12_B18_D8_10\n",
      "Training Complete:\n",
      "Last epoch loss: 0.013872109353542328\n",
      "Last epoch validation loss: 0.020593436434864998\n"
     ]
    },
    {
     "name": "stderr",
     "output_type": "stream",
     "text": [
      "Overall Progress:  88%|██████████████████████████████████████████████████▍      | 260/294 [5:47:39<45:13, 79.81s/it, Encoder Dense Layers=[14, 12], Decoder Dense Layers=[10, 12], Bottle Neck=18]"
     ]
    },
    {
     "name": "stdout",
     "output_type": "stream",
     "text": [
      "Reports Saved\n",
      "[14, 12] 18 [10, 12]\n",
      "\n",
      "L24_E14_12_B18_D10_12\n",
      "\n",
      "Training model: L24_E14_12_B18_D10_12\n",
      "Training Complete:\n",
      "Last epoch loss: 0.011716971173882484\n",
      "Last epoch validation loss: 0.016942184418439865\n"
     ]
    },
    {
     "name": "stderr",
     "output_type": "stream",
     "text": [
      "Overall Progress:  89%|██████████████████████████████████████████████████▌      | 261/294 [5:49:00<44:00, 80.03s/it, Encoder Dense Layers=[14, 12], Decoder Dense Layers=[12, 14], Bottle Neck=18]"
     ]
    },
    {
     "name": "stdout",
     "output_type": "stream",
     "text": [
      "Reports Saved\n",
      "[14, 12] 18 [12, 14]\n",
      "\n",
      "L24_E14_12_B18_D12_14\n",
      "\n",
      "Training model: L24_E14_12_B18_D12_14\n",
      "Training Complete:\n",
      "Last epoch loss: 0.012158166617155075\n",
      "Last epoch validation loss: 0.018195729702711105\n"
     ]
    },
    {
     "name": "stderr",
     "output_type": "stream",
     "text": [
      "Overall Progress:  89%|██████████████████████████████████████████████████▊      | 262/294 [5:50:20<42:43, 80.12s/it, Encoder Dense Layers=[14, 12], Decoder Dense Layers=[14, 16], Bottle Neck=18]"
     ]
    },
    {
     "name": "stdout",
     "output_type": "stream",
     "text": [
      "Reports Saved\n",
      "[14, 12] 18 [14, 16]\n",
      "\n",
      "L24_E14_12_B18_D14_16\n",
      "\n",
      "Training model: L24_E14_12_B18_D14_16\n",
      "Training Complete:\n",
      "Last epoch loss: 0.008105839602649212\n",
      "Last epoch validation loss: 0.013624612241983414\n"
     ]
    },
    {
     "name": "stderr",
     "output_type": "stream",
     "text": [
      "Overall Progress:  89%|██████████████████████████████████████████████████▉      | 263/294 [5:51:58<44:06, 85.38s/it, Encoder Dense Layers=[14, 12], Decoder Dense Layers=[16, 18], Bottle Neck=18]"
     ]
    },
    {
     "name": "stdout",
     "output_type": "stream",
     "text": [
      "Reports Saved\n",
      "[14, 12] 18 [16, 18]\n",
      "\n",
      "L24_E14_12_B18_D16_18\n",
      "\n",
      "Training model: L24_E14_12_B18_D16_18\n",
      "Training Complete:\n",
      "Last epoch loss: 0.008093859069049358\n",
      "Last epoch validation loss: 0.014677663333714008\n"
     ]
    },
    {
     "name": "stderr",
     "output_type": "stream",
     "text": [
      "Overall Progress:  90%|███████████████████████████████████████████████████▏     | 264/294 [5:53:21<42:19, 84.64s/it, Encoder Dense Layers=[14, 12], Decoder Dense Layers=[18, 20], Bottle Neck=18]"
     ]
    },
    {
     "name": "stdout",
     "output_type": "stream",
     "text": [
      "Reports Saved\n",
      "[14, 12] 18 [18, 20]\n",
      "\n",
      "L24_E14_12_B18_D18_20\n",
      "\n",
      "Training model: L24_E14_12_B18_D18_20\n",
      "Training Complete:\n",
      "Last epoch loss: 0.011336835101246834\n",
      "Last epoch validation loss: 0.018763471394777298\n"
     ]
    },
    {
     "name": "stderr",
     "output_type": "stream",
     "text": [
      "Overall Progress:  90%|███████████████████████████████████████████████████▍     | 265/294 [5:54:45<40:51, 84.53s/it, Encoder Dense Layers=[14, 12], Decoder Dense Layers=[20, 22], Bottle Neck=18]"
     ]
    },
    {
     "name": "stdout",
     "output_type": "stream",
     "text": [
      "Reports Saved\n",
      "[14, 12] 18 [20, 22]\n",
      "\n",
      "L24_E14_12_B18_D20_22\n",
      "\n",
      "Training model: L24_E14_12_B18_D20_22\n",
      "Training Complete:\n",
      "Last epoch loss: 0.01040484569966793\n",
      "Last epoch validation loss: 0.01829705946147442\n"
     ]
    }
   ],
   "source": [
    "start_time = time.time()\n",
    "\n",
    "with tqdm(total=total_iterations, desc=\"Overall Progress\") as pbar:\n",
    "    for bn in bottle_neck_trial:\n",
    "        for enc_layers in encoder_dense_layers_trial:\n",
    "            for dec_layers in decoder_dense_layers_trial:\n",
    "                pbar.set_postfix({\"Encoder Dense Layers\": enc_layers, \"Decoder Dense Layers\": dec_layers, \"Bottle Neck\": bn})\n",
    "                runner(enc_layers, bn, dec_layers)\n",
    "                pbar.update(1) \n",
    "                \n",
    "end_time = time.time()\n",
    "total_time = end_time - start_time                \n",
    "total_time_minutes = total_time / 60\n",
    "print(f\"Total time: {total_time_minutes} minutes\") "
   ]
  },
  {
   "cell_type": "code",
   "execution_count": null,
   "id": "23144953",
   "metadata": {},
   "outputs": [],
   "source": [
    "print(run_summary)"
   ]
  },
  {
   "cell_type": "code",
   "execution_count": null,
   "id": "e967e716",
   "metadata": {},
   "outputs": [],
   "source": [
    "#save run_summary as a file\n",
    "filename = 'run_summary.csv'\n",
    "\n",
    "with open(filename, 'w', newline='') as file:\n",
    "    writer = csv.writer(file)\n",
    "    writer.writerows(run_summary)\n",
    "\n",
    "print(f\"Run summary has saved: {filename}\")"
   ]
  },
  {
   "cell_type": "code",
   "execution_count": null,
   "id": "c11a9f62",
   "metadata": {},
   "outputs": [],
   "source": [
    "run_summary.sort(key=lambda x: x[1], reverse=True)  # Sort by the middle value in descending order\n",
    "\n",
    "top_10 = run_summary[:10]  # Get the top 10 elements\n",
    "\n",
    "for item in top_10:\n",
    "    print(item)"
   ]
  },
  {
   "cell_type": "code",
   "execution_count": null,
   "id": "722038a0",
   "metadata": {},
   "outputs": [],
   "source": []
  },
  {
   "cell_type": "code",
   "execution_count": null,
   "id": "f92399a7",
   "metadata": {},
   "outputs": [],
   "source": []
  }
 ],
 "metadata": {
  "kernelspec": {
   "display_name": "Python 3 (ipykernel)",
   "language": "python",
   "name": "python3"
  },
  "language_info": {
   "codemirror_mode": {
    "name": "ipython",
    "version": 3
   },
   "file_extension": ".py",
   "mimetype": "text/x-python",
   "name": "python",
   "nbconvert_exporter": "python",
   "pygments_lexer": "ipython3",
   "version": "3.8.16"
  }
 },
 "nbformat": 4,
 "nbformat_minor": 5
}
