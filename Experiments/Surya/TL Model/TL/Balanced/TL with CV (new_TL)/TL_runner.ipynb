{
 "cells": [
  {
   "cell_type": "markdown",
   "metadata": {},
   "source": [
    "# With CV"
   ]
  },
  {
   "cell_type": "code",
   "execution_count": 1,
   "metadata": {},
   "outputs": [],
   "source": [
    "import pandas as pd\n",
    "import numpy as np\n",
    "import pickle\n",
    "import os"
   ]
  },
  {
   "cell_type": "code",
   "execution_count": 3,
   "metadata": {},
   "outputs": [],
   "source": [
    "data_ndarr = np.load(r\"../Data/all_pids_q=0.3.npy\", allow_pickle=True)\n",
    "datadict = data_ndarr.item()"
   ]
  },
  {
   "cell_type": "code",
   "execution_count": 4,
   "metadata": {},
   "outputs": [
    {
     "name": "stdout",
     "output_type": "stream",
     "text": [
      "patients: n = 26\n",
      "\n",
      "SB-001 shape: (188, 28)\n",
      "SB-003 shape: (180, 28)\n",
      "SB-008 shape: (178, 28)\n",
      "SB-011 shape: (210, 28)\n",
      "SB-012 shape: (194, 28)\n",
      "SB-022 shape: (204, 28)\n",
      "SB-023 shape: (194, 28)\n",
      "SB-025 shape: (117, 28)\n",
      "SB-028 shape: (92, 28)\n",
      "SB-033 shape: (53, 28)\n",
      "SB-037 shape: (210, 28)\n",
      "SB-043 shape: (191, 28)\n",
      "SB-056 shape: (191, 28)\n",
      "SB-059 shape: (203, 28)\n",
      "SB-060 shape: (88, 28)\n",
      "SB-070 shape: (202, 28)\n",
      "SB-071 shape: (124, 28)\n",
      "SB-073 shape: (161, 28)\n",
      "SB-078 shape: (153, 28)\n",
      "SB-079 shape: (142, 28)\n",
      "SB-080 shape: (181, 28)\n",
      "SB-081 shape: (34, 28)\n",
      "SB-082 shape: (137, 28)\n",
      "SB-083 shape: (206, 28)\n",
      "SB-089 shape: (49, 28)\n",
      "SB-112 shape: (180, 28)\n"
     ]
    },
    {
     "data": {
      "text/html": [
       "<div>\n",
       "<style scoped>\n",
       "    .dataframe tbody tr th:only-of-type {\n",
       "        vertical-align: middle;\n",
       "    }\n",
       "\n",
       "    .dataframe tbody tr th {\n",
       "        vertical-align: top;\n",
       "    }\n",
       "\n",
       "    .dataframe thead th {\n",
       "        text-align: right;\n",
       "    }\n",
       "</style>\n",
       "<table border=\"1\" class=\"dataframe\">\n",
       "  <thead>\n",
       "    <tr style=\"text-align: right;\">\n",
       "      <th></th>\n",
       "      <th>income</th>\n",
       "      <th>road_dist</th>\n",
       "      <th>cooking</th>\n",
       "      <th>y_am_pef</th>\n",
       "      <th>tempin</th>\n",
       "      <th>humidin</th>\n",
       "      <th>pm25in</th>\n",
       "      <th>co2in</th>\n",
       "      <th>tempdiffin</th>\n",
       "      <th>humidiffin</th>\n",
       "      <th>...</th>\n",
       "      <th>windsd</th>\n",
       "      <th>humid</th>\n",
       "      <th>varp</th>\n",
       "      <th>dewpt</th>\n",
       "      <th>airp</th>\n",
       "      <th>seap</th>\n",
       "      <th>solrhr</th>\n",
       "      <th>solramnt</th>\n",
       "      <th>grdt</th>\n",
       "      <th>class</th>\n",
       "    </tr>\n",
       "  </thead>\n",
       "  <tbody>\n",
       "    <tr>\n",
       "      <th>1</th>\n",
       "      <td>0.857</td>\n",
       "      <td>0.0</td>\n",
       "      <td>0.167</td>\n",
       "      <td>0.558</td>\n",
       "      <td>0.216</td>\n",
       "      <td>0.513</td>\n",
       "      <td>0.358</td>\n",
       "      <td>0.678</td>\n",
       "      <td>0.562</td>\n",
       "      <td>0.364</td>\n",
       "      <td>...</td>\n",
       "      <td>0.107</td>\n",
       "      <td>0.668</td>\n",
       "      <td>0.174</td>\n",
       "      <td>0.471</td>\n",
       "      <td>0.822</td>\n",
       "      <td>0.819</td>\n",
       "      <td>0.165</td>\n",
       "      <td>0.003</td>\n",
       "      <td>0.206</td>\n",
       "      <td>0.0</td>\n",
       "    </tr>\n",
       "    <tr>\n",
       "      <th>2</th>\n",
       "      <td>0.857</td>\n",
       "      <td>0.0</td>\n",
       "      <td>0.167</td>\n",
       "      <td>0.006</td>\n",
       "      <td>0.299</td>\n",
       "      <td>0.521</td>\n",
       "      <td>0.411</td>\n",
       "      <td>0.700</td>\n",
       "      <td>0.436</td>\n",
       "      <td>0.672</td>\n",
       "      <td>...</td>\n",
       "      <td>0.171</td>\n",
       "      <td>0.388</td>\n",
       "      <td>0.190</td>\n",
       "      <td>0.491</td>\n",
       "      <td>0.676</td>\n",
       "      <td>0.670</td>\n",
       "      <td>0.603</td>\n",
       "      <td>0.165</td>\n",
       "      <td>0.383</td>\n",
       "      <td>0.0</td>\n",
       "    </tr>\n",
       "    <tr>\n",
       "      <th>3</th>\n",
       "      <td>0.857</td>\n",
       "      <td>0.0</td>\n",
       "      <td>0.167</td>\n",
       "      <td>0.078</td>\n",
       "      <td>0.420</td>\n",
       "      <td>0.713</td>\n",
       "      <td>0.372</td>\n",
       "      <td>0.918</td>\n",
       "      <td>0.469</td>\n",
       "      <td>0.821</td>\n",
       "      <td>...</td>\n",
       "      <td>0.515</td>\n",
       "      <td>0.359</td>\n",
       "      <td>0.197</td>\n",
       "      <td>0.481</td>\n",
       "      <td>0.519</td>\n",
       "      <td>0.518</td>\n",
       "      <td>0.485</td>\n",
       "      <td>0.104</td>\n",
       "      <td>0.346</td>\n",
       "      <td>1.0</td>\n",
       "    </tr>\n",
       "    <tr>\n",
       "      <th>4</th>\n",
       "      <td>0.857</td>\n",
       "      <td>0.0</td>\n",
       "      <td>0.167</td>\n",
       "      <td>0.428</td>\n",
       "      <td>0.438</td>\n",
       "      <td>0.468</td>\n",
       "      <td>0.224</td>\n",
       "      <td>0.762</td>\n",
       "      <td>0.560</td>\n",
       "      <td>0.490</td>\n",
       "      <td>...</td>\n",
       "      <td>0.338</td>\n",
       "      <td>0.527</td>\n",
       "      <td>0.175</td>\n",
       "      <td>0.467</td>\n",
       "      <td>0.596</td>\n",
       "      <td>0.596</td>\n",
       "      <td>0.491</td>\n",
       "      <td>0.141</td>\n",
       "      <td>0.339</td>\n",
       "      <td>0.0</td>\n",
       "    </tr>\n",
       "  </tbody>\n",
       "</table>\n",
       "<p>4 rows × 28 columns</p>\n",
       "</div>"
      ],
      "text/plain": [
       "   income  road_dist  cooking  y_am_pef  tempin  humidin  pm25in  co2in  \\\n",
       "1   0.857        0.0    0.167     0.558   0.216    0.513   0.358  0.678   \n",
       "2   0.857        0.0    0.167     0.006   0.299    0.521   0.411  0.700   \n",
       "3   0.857        0.0    0.167     0.078   0.420    0.713   0.372  0.918   \n",
       "4   0.857        0.0    0.167     0.428   0.438    0.468   0.224  0.762   \n",
       "\n",
       "   tempdiffin  humidiffin  ...  windsd  humid   varp  dewpt   airp   seap  \\\n",
       "1       0.562       0.364  ...   0.107  0.668  0.174  0.471  0.822  0.819   \n",
       "2       0.436       0.672  ...   0.171  0.388  0.190  0.491  0.676  0.670   \n",
       "3       0.469       0.821  ...   0.515  0.359  0.197  0.481  0.519  0.518   \n",
       "4       0.560       0.490  ...   0.338  0.527  0.175  0.467  0.596  0.596   \n",
       "\n",
       "   solrhr  solramnt   grdt  class  \n",
       "1   0.165     0.003  0.206    0.0  \n",
       "2   0.603     0.165  0.383    0.0  \n",
       "3   0.485     0.104  0.346    1.0  \n",
       "4   0.491     0.141  0.339    0.0  \n",
       "\n",
       "[4 rows x 28 columns]"
      ]
     },
     "execution_count": 4,
     "metadata": {},
     "output_type": "execute_result"
    }
   ],
   "source": [
    "p_ids = datadict.keys()\n",
    "smaple_size_dict={}\n",
    "print(\"patients: n =\", len(p_ids), end='\\n\\n')\n",
    "\n",
    "for p_id in p_ids:\n",
    "    df = datadict[p_id]\n",
    "    # drop column from input data file\n",
    "    #df.drop(['id','date','am_pef_org','BMI','sex'], axis=1, inplace=True) #ALL DROPS SHOULD OCCUR HERE\n",
    "    df.drop(['id','date','am_pef_org','BMI','sex', 'age'], axis=1, inplace=True) #,'id','date','am_pef_org','BMI',  'sex', 'age'\n",
    "    df = np.asarray(df).astype(np.float32)\n",
    "    print(p_id, \"shape:\", df.shape)#, end=\"\\t\\t\")\n",
    "    smaple_size_dict[p_id]=df.shape[0]\n",
    "\n",
    "datadict[p_id].head(4)"
   ]
  },
  {
   "cell_type": "code",
   "execution_count": 5,
   "metadata": {},
   "outputs": [
    {
     "name": "stdout",
     "output_type": "stream",
     "text": [
      "Index(['income', 'road_dist', 'cooking', 'y_am_pef', 'tempin', 'humidin',\n",
      "       'pm25in', 'co2in', 'tempdiffin', 'humidiffin', 'pm25diffin', 'pm10',\n",
      "       'pm25', 'o3', 'no2', 'co', 'so2', 'temp', 'windsd', 'humid', 'varp',\n",
      "       'dewpt', 'airp', 'seap', 'solrhr', 'solramnt', 'grdt', 'class'],\n",
      "      dtype='object')\n",
      "(180, 28)\n"
     ]
    }
   ],
   "source": [
    "print(datadict[p_id].columns)\n",
    "print(datadict[p_id].shape)"
   ]
  },
  {
   "cell_type": "code",
   "execution_count": 7,
   "metadata": {},
   "outputs": [
    {
     "name": "stdout",
     "output_type": "stream",
     "text": [
      "23\n"
     ]
    }
   ],
   "source": [
    "target_grp = [\"SB-001\", \"SB-003\", \"SB-008\", \"SB-011\", \"SB-012\", \"SB-022\", \"SB-023\", \"SB-025\", \"SB-028\", \"SB-037\", \"SB-043\", \"SB-056\", \"SB-059\", \"SB-060\", \"SB-070\", \"SB-071\", \"SB-073\", \"SB-078\", \"SB-079\", \"SB-080\", \"SB-082\", \"SB-083\", \"SB-112\"]\n",
    "\n",
    "print(len(target_grp))\n"
   ]
  },
  {
   "cell_type": "code",
   "execution_count": 8,
   "metadata": {},
   "outputs": [
    {
     "name": "stderr",
     "output_type": "stream",
     "text": [
      "2023-08-24 20:47:41.987793: I tensorflow/tsl/cuda/cudart_stub.cc:28] Could not find cuda drivers on your machine, GPU will not be used.\n",
      "2023-08-24 20:47:42.039408: I tensorflow/tsl/cuda/cudart_stub.cc:28] Could not find cuda drivers on your machine, GPU will not be used.\n",
      "2023-08-24 20:47:42.040351: I tensorflow/core/platform/cpu_feature_guard.cc:182] This TensorFlow binary is optimized to use available CPU instructions in performance-critical operations.\n",
      "To enable the following instructions: AVX2 AVX512F FMA, in other operations, rebuild TensorFlow with the appropriate compiler flags.\n",
      "2023-08-24 20:47:42.869321: W tensorflow/compiler/tf2tensorrt/utils/py_utils.cc:38] TF-TRT Warning: Could not find TensorRT\n"
     ]
    }
   ],
   "source": [
    "from TL_Packages import *\n",
    "\n",
    "# Architecture_GROUP = \"TL\"\n",
    "Architecture_GROUP = \"model\"\n",
    "RESULT_DIR = 'Results/'\n",
    "EVALUATION_METRICS = [\"Weighted Accuracy\", \"Sensitivity/Recall\", \"Specificity\", \"Precision_class0\", \"Precision_class1\", \"Precision_avg\", \"F1_class0\", \"F1_class1\", \"F1_avg\", \"auc_roc_score\", \"False_Discovery_Rate\", \"False_Negative_Rate\", \"False_Omission_Rate\", \"False_Positive_Rate\", \"Jaccard\"]"
   ]
  },
  {
   "cell_type": "code",
   "execution_count": null,
   "metadata": {},
   "outputs": [],
   "source": []
  },
  {
   "cell_type": "code",
   "execution_count": 9,
   "metadata": {},
   "outputs": [],
   "source": [
    "def TL_Base_Model(POPULATION_EPOCH_SIZE,PATIENT_EPOCH_SIZE, p_ids):\n",
    "    minority_variable=0\n",
    "  #Target MOdel dataframe\n",
    "    df_evaluation_results = pd.DataFrame(columns=EVALUATION_METRICS)\n",
    "  #Population model results\n",
    "    pop_results=pd.DataFrame(columns=EVALUATION_METRICS)\n",
    "    minor_var=minority_variable\n",
    "    for target in tqdm(p_ids):\n",
    "        if target not in target_grp:\n",
    "            continue\n",
    "        runtime()\n",
    "        print(\"~~~~~~~~~~~\", POPULATION_EPOCH_SIZE, \"~~~~~~~~~~~~~~~~~~~\", PATIENT_EPOCH_SIZE, \"~~~~~~~~~~~~~~~~~~~\", target, \"~~~~~~~~~~~~~~~~~~~\")\n",
    "\n",
    "        patient_dir = RESULT_DIR + \"/diagrams/target\" \n",
    "\n",
    "        # create directory for this patient\n",
    "        if not (patient_dir and patient_dir):\n",
    "            os.makedirs(patient_dir)\n",
    "        CLASS_VAR='class'\n",
    "        sample_size=smaple_size_dict[target]\n",
    "        # load population data\n",
    "        X_train, X_test, Y_train, Y_test = split_data(target=target, data=datadict,  class_var=CLASS_VAR, minority_var=minor_var,test_frac=0.05,\n",
    "                                                      transfer=True, balance=True)\n",
    "        print(f\"X_train = {len(X_train)}, y_train = {len(Y_train)}\")\n",
    "        assert len(X_train) == len(Y_train), \"X_train and Y_train have different lengths.\"\n",
    "        #num_folds = min(5, len(X_train))\n",
    "        #print(num_folds)\n",
    "        # k-fold cross-validation for population model\n",
    "        kf_pop = KFold(n_splits=3, shuffle=True)\n",
    "        population_models = []\n",
    "        fold_number=0\n",
    "        for train_idx, val_idx in kf_pop.split(X_train):\n",
    "             # Check if the indices are within bounds\n",
    "            assert train_idx.max() < len(X_train), f\"train_idx exceeds bounds of X_train (size: {len(X_train)})\"\n",
    "            assert val_idx.max() < len(X_train), f\"val_idx exceeds bounds of X_train (size: {len(X_train)})\"\n",
    "\n",
    "\n",
    "            X_train_fold, X_val_fold = X_train[train_idx], X_train[val_idx]\n",
    "            Y_train_fold, Y_val_fold = Y_train[train_idx], Y_train[val_idx]\n",
    "            print(f\"Population Fold {fold_number}: Training data size = {len(X_train_fold)}, Validation data size = {len(X_val_fold)}\")\n",
    "            net = network_tl(X_train_fold, Y_train_fold, n_hidden=32, learning_rate=0.001, device='cpu')\n",
    "            net.set_Y_tind(Y_val_fold)\n",
    "            ##creating population model\n",
    "            net.make_pop()\n",
    "            net.train(n_iters=POPULATION_EPOCH_SIZE)\n",
    "            #val_predictions = net.nn_pop.predict(X_val_fold)\n",
    "            #val_loss = net.calculate_loss(val_predictions)\n",
    "\n",
    "            #population_models.append((net, val_loss))\n",
    "\n",
    "\n",
    "        # Select the best population model based on validation performance (lowest mean validation loss)\n",
    "        #best_pop_model, _ = min(population_models, key=lambda x: np.mean(x[1]))\n",
    "        # Save the best population model\n",
    "        ## save the fold's population model\n",
    "            VERSION_TAG = f'TLSI_{Architecture_GROUP}_{POPULATION_EPOCH_SIZE}_{PATIENT_EPOCH_SIZE}_POP_FOLD_{fold_number}'\n",
    "            #best_pop_model_name = f\"{target}-best_{VERSION_TAG}.hdf5\"\n",
    "            #best_pop_model_path = patient_dir / best_pop_model_name\n",
    "            #best_pop_model.save_model(best_pop_model_path)\n",
    "            #save model\n",
    "            modelname = f\"{target}-{VERSION_TAG}.hdf5\"\n",
    "            model_path= patient_dir + \"/\" + modelname\n",
    "            net.nn_pop.save(model_path) #nn_pop\n",
    "          #save training curve\n",
    "            training_curve_file = patient_dir +\"/\"+ f'{VERSION_TAG}_training_curve_{target}'\n",
    "            net.save_training_curve(training_curve_file)\n",
    "          ## calculate results for population model\n",
    "            results, c_matrix = net.pop_test(X_val_fold, Y_val_fold)\n",
    "           # load target patient data\n",
    "\n",
    "            dataset_list = split_data(target=target, data=datadict,  class_var=CLASS_VAR, minority_var=minor_var, #explanatory_var\n",
    "                                balance=True)\n",
    "           # setup for k-fold cross-validation\n",
    "            kfold_evaluation_results_list = []\n",
    "            kfold_confusion_matrix_list = []\n",
    "\n",
    "            for i in range(2):\n",
    "            # load the target data in the current round\n",
    "              X_train_ind, X_test_ind, Y_train_ind, Y_test_ind = dataset_list[i]\n",
    "\n",
    "            # Make and train a copy of the population model with\n",
    "            # all but the last layer frozen.\n",
    "              net.make_ind()\n",
    "              net.retrain(X_train_ind, Y_train_ind, n_iters=PATIENT_EPOCH_SIZE)\n",
    "              print(\"done RE-training\", i, \"of 3\", end=\". \")\n",
    "\n",
    "            # test\n",
    "              VERSION_TAG = f'TLSI_{Architecture_GROUP}_{POPULATION_EPOCH_SIZE}_{PATIENT_EPOCH_SIZE}_POP_FOLD{fold_number}_IND_FOLD{i}'\n",
    "            #save model\n",
    "              modelname = f\"{target}-{VERSION_TAG}.hdf5\"\n",
    "              model_path= patient_dir + modelname\n",
    "              net.nn_ind.save(model_path) #nn_pop\n",
    "\n",
    "              #save retraining curve\n",
    "              training_curve_file = patient_dir +\"/\"+ f'{VERSION_TAG}_retraining_curve_{target}'\n",
    "              net.save_training_curve(training_curve_file)\n",
    "\n",
    "            # print(\"Calling net.test Now\")\n",
    "            # print(\"X_test\",X_test)\n",
    "            # print(\"Y_test\",Y_test)\n",
    "            ## results for individual model for this particular fold\n",
    "              results, c_matrix = net.test(X_test_ind, Y_test_ind)\n",
    "            # print(\"results\",results)\n",
    "            ## adding up the results(evaluation metrics) of all the folds of individual model\n",
    "              kfold_evaluation_results_list += [results]\n",
    "            ## adding up the results of confusion matrix for all the folds of individual model\n",
    "              kfold_confusion_matrix_list += [c_matrix]\n",
    "\n",
    "              print(\"done testing\", i, \"of 2.\")\n",
    "\n",
    "            ## version tag for target model confusion matrix\n",
    "            TARGET_VERSION_TAG = f'TLSI_{Architecture_GROUP}_{POPULATION_EPOCH_SIZE}_{PATIENT_EPOCH_SIZE}_target_POP_FOLD_{fold_number}'\n",
    "        ##save file tag for target model of particular pop fold\n",
    "            target_confusion_matrixes_file = (f\"{str(patient_dir)}/{TARGET_VERSION_TAG}_confusion_matrix_{target}\")\n",
    "        ###save file tag for Population model of particular pop fold\n",
    "            #population_confusion_matrixes_file = (f\"{str(patient_dir)}/{VERSION_TAG}_confusion_matrix_{target}\")\n",
    "        ## dataframe for the average of all the indivudial models results\n",
    "            avg_results = pd.DataFrame(kfold_evaluation_results_list, columns=EVALUATION_METRICS).mean().values\n",
    "            avg_results = avg_results.reshape(1, 15)\n",
    "            ##dataframe for population model results for a particular pop model fold'\n",
    "            results=results.reshape(1,15)\n",
    "            pop_results=pd.DataFrame(results, columns=EVALUATION_METRICS)\n",
    "            pop_results.index = [f\"{target}_{sample_size}_size_{POPULATION_EPOCH_SIZE}_{PATIENT_EPOCH_SIZE}_POP_FOLD_{fold_number}\"]\n",
    "            ## dataframe for individual model average results for a particular population fold\n",
    "            df = pd.DataFrame(avg_results, columns=EVALUATION_METRICS)\n",
    "            df.index = [f\"{target}_{sample_size}_size_{POPULATION_EPOCH_SIZE}_{PATIENT_EPOCH_SIZE}_Target_With_POP_FOLD_{fold_number}\"]\n",
    "            ## concatinating the pop results dataframe and avg target results dataframe for a particular population fold\n",
    "            df_evaluation_results = pd.concat([df_evaluation_results,pop_results,df], axis = 0)\n",
    "            ##saving target model confusion matrix\n",
    "            net.save_confusion_matrix(kfold_confusion_matrix_list, target_confusion_matrixes_file)\n",
    "            ##saving population model confusion matrix\n",
    "            #net.save_confusion_matrix(c_matrix, population_confusion_matrixes_file)\n",
    "            fold_number+=1\n",
    "\n",
    "    # output_path = os.path.join(RESULT_DIR, f'TLSI_{Architecture_GROUP}_evaluation_metrics_{sorted(set(p_ids).difference(target_grp))[0]}.csv')\n",
    "    output_path = os.path.join(RESULT_DIR, f'TLSI_{Architecture_GROUP}_evaluation_metrics.csv')\n",
    "\n",
    "    if os.path.isfile(output_path):\n",
    "        df_evaluation_results.to_csv(output_path,\n",
    "                                        mode='a',\n",
    "                                        header=False\n",
    "                                    )\n",
    "    else:\n",
    "                df_evaluation_results.to_csv(output_path,\n",
    "                                        mode='a'\n",
    "                                    )\n",
    "\n",
    "    print(\"evaluation results saved for\", VERSION_TAG)"
   ]
  },
  {
   "cell_type": "code",
   "execution_count": 10,
   "metadata": {},
   "outputs": [
    {
     "name": "stdout",
     "output_type": "stream",
     "text": [
      "POPULATION_EPOCH_SIZE: [500, 1000, 1500] Len: 3\n",
      "PATIENT_EPOCH_SIZE: [500, 1000, 1500] Len: 3\n",
      "target_grp: ['SB-001', 'SB-003', 'SB-008', 'SB-011', 'SB-012', 'SB-022', 'SB-023', 'SB-025', 'SB-028', 'SB-037', 'SB-043', 'SB-056', 'SB-059', 'SB-060', 'SB-070', 'SB-071', 'SB-073', 'SB-078', 'SB-079', 'SB-080', 'SB-082', 'SB-083', 'SB-112'] Len: 23\n",
      "Total records in each file: 207\n"
     ]
    }
   ],
   "source": [
    "POPULATION_EPOCH_SIZE = [*range(500, 1600, 500)]\n",
    "PATIENT_EPOCH_SIZE = [*range(500, 1600, 500)]   \n",
    "\n",
    "print(\"POPULATION_EPOCH_SIZE:\",POPULATION_EPOCH_SIZE, \"Len:\", len(POPULATION_EPOCH_SIZE))\n",
    "print(\"PATIENT_EPOCH_SIZE:\",PATIENT_EPOCH_SIZE, \"Len:\", len(PATIENT_EPOCH_SIZE))\n",
    "print(\"target_grp:\",target_grp, \"Len:\", len(target_grp))\n",
    "print(\"Total records in each file:\",len(POPULATION_EPOCH_SIZE) * len(PATIENT_EPOCH_SIZE) * len(target_grp))"
   ]
  },
  {
   "cell_type": "code",
   "execution_count": 11,
   "metadata": {},
   "outputs": [],
   "source": [
    "from datetime import date, datetime\n",
    "def runtime():\n",
    "    print(\"Runtime:\", datetime.now().hour, \"o' clock and\", datetime.now().minute, \"minutes\")\n",
    "\n",
    "def run_tlsi(file):\n",
    "    \"\"\"\n",
    "        run transfer learning algorithm on sample imbalanced data set\n",
    "    \"\"\"\n",
    "    pass"
   ]
  },
  {
   "cell_type": "code",
   "execution_count": 12,
   "metadata": {},
   "outputs": [
    {
     "name": "stderr",
     "output_type": "stream",
     "text": [
      "  0%|          | 0/26 [00:00<?, ?it/s]"
     ]
    },
    {
     "name": "stdout",
     "output_type": "stream",
     "text": [
      "Runtime: 20 o' clock and 48 minutes\n",
      "~~~~~~~~~~~ 100 ~~~~~~~~~~~~~~~~~~~ 300 ~~~~~~~~~~~~~~~~~~~ SB-001 ~~~~~~~~~~~~~~~~~~~\n",
      "Before balancing count  1.0    2647\n",
      "0.0    1033\n",
      "Name: class, dtype: int64\n"
     ]
    },
    {
     "name": "stderr",
     "output_type": "stream",
     "text": [
      "2023-08-24 20:48:09.012493: W tensorflow/core/common_runtime/gpu/gpu_device.cc:1960] Cannot dlopen some GPU libraries. Please make sure the missing libraries mentioned above are installed properly if you would like to use GPU. Follow the guide at https://www.tensorflow.org/install/gpu for how to download and setup the required libraries for your platform.\n",
      "Skipping registering GPU devices...\n"
     ]
    },
    {
     "name": "stdout",
     "output_type": "stream",
     "text": [
      "~~~~~~~ value_counts: ~~~~~~~\n",
      "SHOULD BE BALANCED NOW: 0.0    2647\n",
      "1.0    2647\n",
      "Name: class, dtype: int64\n",
      "X_train = 5294, y_train = 5294\n",
      "Population Fold 0: Training data size = 3529, Validation data size = 1765\n"
     ]
    },
    {
     "name": "stderr",
     "output_type": "stream",
     "text": [
      "/home/st/sbhuvaji/anaconda3/lib/python3.9/site-packages/keras/src/engine/training.py:3000: UserWarning: You are saving your model as an HDF5 file via `model.save()`. This file format is considered legacy. We recommend using instead the native Keras format, e.g. `model.save('my_model.keras')`.\n",
      "  saving_api.save_model(\n"
     ]
    },
    {
     "name": "stdout",
     "output_type": "stream",
     "text": [
      "56/56 [==============================] - 0s 823us/step\n",
      "cm [[553 333]\n",
      " [171 708]]\n",
      "cm.ravel() [553 333 171 708]\n",
      "Before balancing count  1.0    66\n",
      "0.0    28\n",
      "Name: class, dtype: int64\n",
      "~~~~~~~ value_counts: ~~~~~~~\n",
      "SHOULD BE BALANCED NOW: 0.0    66\n",
      "1.0    66\n",
      "Name: class, dtype: int64\n",
      "Before balancing count  1.0    65\n",
      "0.0    29\n",
      "Name: class, dtype: int64\n",
      "~~~~~~~ value_counts: ~~~~~~~\n",
      "SHOULD BE BALANCED NOW: 0.0    65\n",
      "1.0    65\n",
      "Name: class, dtype: int64\n",
      "done RE-training 0 of 3. "
     ]
    },
    {
     "name": "stderr",
     "output_type": "stream",
     "text": [
      "/home/st/sbhuvaji/anaconda3/lib/python3.9/site-packages/keras/src/engine/training.py:3000: UserWarning: You are saving your model as an HDF5 file via `model.save()`. This file format is considered legacy. We recommend using instead the native Keras format, e.g. `model.save('my_model.keras')`.\n",
      "  saving_api.save_model(\n"
     ]
    },
    {
     "name": "stdout",
     "output_type": "stream",
     "text": [
      "3/3 [==============================] - 0s 1ms/step\n",
      "cm [[12 17]\n",
      " [31 34]]\n",
      "cm.ravel() [12 17 31 34]\n",
      "done testing 0 of 2.\n",
      "done RE-training 1 of 3. WARNING:tensorflow:5 out of the last 64 calls to <function Model.make_predict_function.<locals>.predict_function at 0x7fd8302a0550> triggered tf.function retracing. Tracing is expensive and the excessive number of tracings could be due to (1) creating @tf.function repeatedly in a loop, (2) passing tensors with different shapes, (3) passing Python objects instead of tensors. For (1), please define your @tf.function outside of the loop. For (2), @tf.function has reduce_retracing=True option that can avoid unnecessary retracing. For (3), please refer to https://www.tensorflow.org/guide/function#controlling_retracing and https://www.tensorflow.org/api_docs/python/tf/function for  more details.\n",
      "3/3 [==============================] - 0s 2ms/step\n",
      "cm [[15 13]\n",
      " [34 32]]\n",
      "cm.ravel() [15 13 34 32]\n",
      "done testing 1 of 2.\n"
     ]
    },
    {
     "name": "stderr",
     "output_type": "stream",
     "text": [
      "/home/st/sbhuvaji/1AllP/Individual Patient_All Models/TLandTL/Actual TL/WithCV/TL_Packages.py:582: UserWarning: FixedFormatter should only be used together with FixedLocator\n",
      "  axs[i].set_xticklabels([''] + ['0', '1'], fontsize='xx-large')\n",
      "/home/st/sbhuvaji/1AllP/Individual Patient_All Models/TLandTL/Actual TL/WithCV/TL_Packages.py:583: UserWarning: FixedFormatter should only be used together with FixedLocator\n",
      "  axs[i].set_yticklabels([''] + ['0', '1'], fontsize='xx-large')\n"
     ]
    },
    {
     "name": "stdout",
     "output_type": "stream",
     "text": [
      "Population Fold 1: Training data size = 3529, Validation data size = 1765\n"
     ]
    },
    {
     "name": "stderr",
     "output_type": "stream",
     "text": [
      "/home/st/sbhuvaji/anaconda3/lib/python3.9/site-packages/keras/src/engine/training.py:3000: UserWarning: You are saving your model as an HDF5 file via `model.save()`. This file format is considered legacy. We recommend using instead the native Keras format, e.g. `model.save('my_model.keras')`.\n",
      "  saving_api.save_model(\n"
     ]
    },
    {
     "name": "stdout",
     "output_type": "stream",
     "text": [
      "WARNING:tensorflow:5 out of the last 11 calls to <function Model.make_predict_function.<locals>.predict_function at 0x7fd820655430> triggered tf.function retracing. Tracing is expensive and the excessive number of tracings could be due to (1) creating @tf.function repeatedly in a loop, (2) passing tensors with different shapes, (3) passing Python objects instead of tensors. For (1), please define your @tf.function outside of the loop. For (2), @tf.function has reduce_retracing=True option that can avoid unnecessary retracing. For (3), please refer to https://www.tensorflow.org/guide/function#controlling_retracing and https://www.tensorflow.org/api_docs/python/tf/function for  more details.\n",
      "56/56 [==============================] - 0s 931us/step\n",
      "cm [[577 281]\n",
      " [239 668]]\n",
      "cm.ravel() [577 281 239 668]\n",
      "Before balancing count  1.0    62\n",
      "0.0    32\n",
      "Name: class, dtype: int64\n",
      "~~~~~~~ value_counts: ~~~~~~~\n",
      "SHOULD BE BALANCED NOW: 0.0    62\n",
      "1.0    62\n",
      "Name: class, dtype: int64\n",
      "Before balancing count  1.0    69\n",
      "0.0    25\n",
      "Name: class, dtype: int64\n",
      "~~~~~~~ value_counts: ~~~~~~~\n",
      "SHOULD BE BALANCED NOW: 1.0    69\n",
      "0.0    69\n",
      "Name: class, dtype: int64\n",
      "done RE-training 0 of 3. "
     ]
    },
    {
     "name": "stderr",
     "output_type": "stream",
     "text": [
      "/home/st/sbhuvaji/anaconda3/lib/python3.9/site-packages/keras/src/engine/training.py:3000: UserWarning: You are saving your model as an HDF5 file via `model.save()`. This file format is considered legacy. We recommend using instead the native Keras format, e.g. `model.save('my_model.keras')`.\n",
      "  saving_api.save_model(\n"
     ]
    },
    {
     "name": "stdout",
     "output_type": "stream",
     "text": [
      "3/3 [==============================] - 0s 2ms/step\n",
      "cm [[15 10]\n",
      " [31 38]]\n",
      "cm.ravel() [15 10 31 38]\n",
      "done testing 0 of 2.\n",
      "3/3 [==============================] - 0s 1ms/step\n",
      "cm [[17 15]\n",
      " [18 44]]\n",
      "cm.ravel() [17 15 18 44]\n",
      "done testing 1 of 2.\n"
     ]
    },
    {
     "name": "stderr",
     "output_type": "stream",
     "text": [
      "/home/st/sbhuvaji/1AllP/Individual Patient_All Models/TLandTL/Actual TL/WithCV/TL_Packages.py:582: UserWarning: FixedFormatter should only be used together with FixedLocator\n",
      "  axs[i].set_xticklabels([''] + ['0', '1'], fontsize='xx-large')\n",
      "/home/st/sbhuvaji/1AllP/Individual Patient_All Models/TLandTL/Actual TL/WithCV/TL_Packages.py:583: UserWarning: FixedFormatter should only be used together with FixedLocator\n",
      "  axs[i].set_yticklabels([''] + ['0', '1'], fontsize='xx-large')\n"
     ]
    },
    {
     "name": "stdout",
     "output_type": "stream",
     "text": [
      "Population Fold 2: Training data size = 3530, Validation data size = 1764\n"
     ]
    },
    {
     "name": "stderr",
     "output_type": "stream",
     "text": [
      "/home/st/sbhuvaji/anaconda3/lib/python3.9/site-packages/keras/src/engine/training.py:3000: UserWarning: You are saving your model as an HDF5 file via `model.save()`. This file format is considered legacy. We recommend using instead the native Keras format, e.g. `model.save('my_model.keras')`.\n",
      "  saving_api.save_model(\n"
     ]
    },
    {
     "name": "stdout",
     "output_type": "stream",
     "text": [
      "56/56 [==============================] - 0s 844us/step\n",
      "cm [[736 167]\n",
      " [304 557]]\n",
      "cm.ravel() [736 167 304 557]\n",
      "Before balancing count  1.0    62\n",
      "0.0    32\n",
      "Name: class, dtype: int64\n",
      "~~~~~~~ value_counts: ~~~~~~~\n",
      "SHOULD BE BALANCED NOW: 0.0    62\n",
      "1.0    62\n",
      "Name: class, dtype: int64\n",
      "Before balancing count  1.0    69\n",
      "0.0    25\n",
      "Name: class, dtype: int64\n",
      "~~~~~~~ value_counts: ~~~~~~~\n",
      "SHOULD BE BALANCED NOW: 1.0    69\n",
      "0.0    69\n",
      "Name: class, dtype: int64\n",
      "done RE-training 0 of 3. "
     ]
    },
    {
     "name": "stderr",
     "output_type": "stream",
     "text": [
      "/home/st/sbhuvaji/anaconda3/lib/python3.9/site-packages/keras/src/engine/training.py:3000: UserWarning: You are saving your model as an HDF5 file via `model.save()`. This file format is considered legacy. We recommend using instead the native Keras format, e.g. `model.save('my_model.keras')`.\n",
      "  saving_api.save_model(\n"
     ]
    },
    {
     "name": "stdout",
     "output_type": "stream",
     "text": [
      "3/3 [==============================] - 0s 2ms/step\n",
      "cm [[12 13]\n",
      " [28 41]]\n",
      "cm.ravel() [12 13 28 41]\n",
      "done testing 0 of 2.\n",
      "3/3 [==============================] - 0s 1ms/step\n",
      "cm [[17 15]\n",
      " [26 36]]\n",
      "cm.ravel() [17 15 26 36]\n",
      "done testing 1 of 2.\n"
     ]
    },
    {
     "name": "stderr",
     "output_type": "stream",
     "text": [
      "/home/st/sbhuvaji/1AllP/Individual Patient_All Models/TLandTL/Actual TL/WithCV/TL_Packages.py:582: UserWarning: FixedFormatter should only be used together with FixedLocator\n",
      "  axs[i].set_xticklabels([''] + ['0', '1'], fontsize='xx-large')\n",
      "/home/st/sbhuvaji/1AllP/Individual Patient_All Models/TLandTL/Actual TL/WithCV/TL_Packages.py:583: UserWarning: FixedFormatter should only be used together with FixedLocator\n",
      "  axs[i].set_yticklabels([''] + ['0', '1'], fontsize='xx-large')\n",
      "  4%|▍         | 1/26 [02:54<1:12:30, 174.01s/it]"
     ]
    },
    {
     "name": "stdout",
     "output_type": "stream",
     "text": [
      "Runtime: 20 o' clock and 51 minutes\n",
      "~~~~~~~~~~~ 100 ~~~~~~~~~~~~~~~~~~~ 300 ~~~~~~~~~~~~~~~~~~~ SB-003 ~~~~~~~~~~~~~~~~~~~\n",
      "Before balancing count  1.0    2650\n",
      "0.0    1037\n",
      "Name: class, dtype: int64\n",
      "~~~~~~~ value_counts: ~~~~~~~\n",
      "SHOULD BE BALANCED NOW: 1.0    2650\n",
      "0.0    2650\n",
      "Name: class, dtype: int64\n",
      "X_train = 5300, y_train = 5300\n",
      "Population Fold 0: Training data size = 3533, Validation data size = 1767\n"
     ]
    },
    {
     "name": "stderr",
     "output_type": "stream",
     "text": [
      "/home/st/sbhuvaji/anaconda3/lib/python3.9/site-packages/keras/src/engine/training.py:3000: UserWarning: You are saving your model as an HDF5 file via `model.save()`. This file format is considered legacy. We recommend using instead the native Keras format, e.g. `model.save('my_model.keras')`.\n",
      "  saving_api.save_model(\n"
     ]
    },
    {
     "name": "stdout",
     "output_type": "stream",
     "text": [
      "56/56 [==============================] - 0s 853us/step\n",
      "cm [[746 140]\n",
      " [305 576]]\n",
      "cm.ravel() [746 140 305 576]\n",
      "Before balancing count  1.0    64\n",
      "0.0    26\n",
      "Name: class, dtype: int64\n",
      "~~~~~~~ value_counts: ~~~~~~~\n",
      "SHOULD BE BALANCED NOW: 0.0    64\n",
      "1.0    64\n",
      "Name: class, dtype: int64\n",
      "Before balancing count  1.0    71\n",
      "0.0    19\n",
      "Name: class, dtype: int64\n",
      "~~~~~~~ value_counts: ~~~~~~~\n",
      "SHOULD BE BALANCED NOW: 1.0    71\n",
      "0.0    71\n",
      "Name: class, dtype: int64\n",
      "done RE-training 0 of 3. "
     ]
    },
    {
     "name": "stderr",
     "output_type": "stream",
     "text": [
      "/home/st/sbhuvaji/anaconda3/lib/python3.9/site-packages/keras/src/engine/training.py:3000: UserWarning: You are saving your model as an HDF5 file via `model.save()`. This file format is considered legacy. We recommend using instead the native Keras format, e.g. `model.save('my_model.keras')`.\n",
      "  saving_api.save_model(\n"
     ]
    },
    {
     "name": "stdout",
     "output_type": "stream",
     "text": [
      "3/3 [==============================] - 0s 2ms/step\n",
      "cm [[ 7 12]\n",
      " [33 38]]\n",
      "cm.ravel() [ 7 12 33 38]\n",
      "done testing 0 of 2.\n",
      "3/3 [==============================] - 0s 2ms/step\n",
      "cm [[12 14]\n",
      " [29 35]]\n",
      "cm.ravel() [12 14 29 35]\n",
      "done testing 1 of 2.\n"
     ]
    },
    {
     "name": "stderr",
     "output_type": "stream",
     "text": [
      "/home/st/sbhuvaji/1AllP/Individual Patient_All Models/TLandTL/Actual TL/WithCV/TL_Packages.py:582: UserWarning: FixedFormatter should only be used together with FixedLocator\n",
      "  axs[i].set_xticklabels([''] + ['0', '1'], fontsize='xx-large')\n",
      "/home/st/sbhuvaji/1AllP/Individual Patient_All Models/TLandTL/Actual TL/WithCV/TL_Packages.py:583: UserWarning: FixedFormatter should only be used together with FixedLocator\n",
      "  axs[i].set_yticklabels([''] + ['0', '1'], fontsize='xx-large')\n"
     ]
    },
    {
     "name": "stdout",
     "output_type": "stream",
     "text": [
      "Population Fold 1: Training data size = 3533, Validation data size = 1767\n"
     ]
    },
    {
     "name": "stderr",
     "output_type": "stream",
     "text": [
      "/home/st/sbhuvaji/anaconda3/lib/python3.9/site-packages/keras/src/engine/training.py:3000: UserWarning: You are saving your model as an HDF5 file via `model.save()`. This file format is considered legacy. We recommend using instead the native Keras format, e.g. `model.save('my_model.keras')`.\n",
      "  saving_api.save_model(\n"
     ]
    },
    {
     "name": "stdout",
     "output_type": "stream",
     "text": [
      "56/56 [==============================] - 0s 813us/step\n",
      "cm [[757 138]\n",
      " [338 534]]\n",
      "cm.ravel() [757 138 338 534]\n",
      "Before balancing count  1.0    73\n",
      "0.0    17\n",
      "Name: class, dtype: int64\n",
      "~~~~~~~ value_counts: ~~~~~~~\n",
      "SHOULD BE BALANCED NOW: 0.0    73\n",
      "1.0    73\n",
      "Name: class, dtype: int64\n",
      "Before balancing count  1.0    62\n",
      "0.0    28\n",
      "Name: class, dtype: int64\n",
      "~~~~~~~ value_counts: ~~~~~~~\n",
      "SHOULD BE BALANCED NOW: 0.0    62\n",
      "1.0    62\n",
      "Name: class, dtype: int64\n",
      "done RE-training 0 of 3. "
     ]
    },
    {
     "name": "stderr",
     "output_type": "stream",
     "text": [
      "/home/st/sbhuvaji/anaconda3/lib/python3.9/site-packages/keras/src/engine/training.py:3000: UserWarning: You are saving your model as an HDF5 file via `model.save()`. This file format is considered legacy. We recommend using instead the native Keras format, e.g. `model.save('my_model.keras')`.\n",
      "  saving_api.save_model(\n"
     ]
    },
    {
     "name": "stdout",
     "output_type": "stream",
     "text": [
      "3/3 [==============================] - 0s 1ms/step\n",
      "cm [[ 7 21]\n",
      " [28 34]]\n",
      "cm.ravel() [ 7 21 28 34]\n",
      "done testing 0 of 2.\n",
      "3/3 [==============================] - 0s 1ms/step\n",
      "cm [[ 8  9]\n",
      " [37 36]]\n",
      "cm.ravel() [ 8  9 37 36]\n",
      "done testing 1 of 2.\n"
     ]
    },
    {
     "name": "stderr",
     "output_type": "stream",
     "text": [
      "/home/st/sbhuvaji/1AllP/Individual Patient_All Models/TLandTL/Actual TL/WithCV/TL_Packages.py:582: UserWarning: FixedFormatter should only be used together with FixedLocator\n",
      "  axs[i].set_xticklabels([''] + ['0', '1'], fontsize='xx-large')\n",
      "/home/st/sbhuvaji/1AllP/Individual Patient_All Models/TLandTL/Actual TL/WithCV/TL_Packages.py:583: UserWarning: FixedFormatter should only be used together with FixedLocator\n",
      "  axs[i].set_yticklabels([''] + ['0', '1'], fontsize='xx-large')\n"
     ]
    },
    {
     "name": "stdout",
     "output_type": "stream",
     "text": [
      "Population Fold 2: Training data size = 3534, Validation data size = 1766\n"
     ]
    },
    {
     "name": "stderr",
     "output_type": "stream",
     "text": [
      "/home/st/sbhuvaji/anaconda3/lib/python3.9/site-packages/keras/src/engine/training.py:3000: UserWarning: You are saving your model as an HDF5 file via `model.save()`. This file format is considered legacy. We recommend using instead the native Keras format, e.g. `model.save('my_model.keras')`.\n",
      "  saving_api.save_model(\n"
     ]
    },
    {
     "name": "stdout",
     "output_type": "stream",
     "text": [
      "56/56 [==============================] - 0s 822us/step\n",
      "cm [[662 207]\n",
      " [271 626]]\n",
      "cm.ravel() [662 207 271 626]\n",
      "Before balancing count  1.0    70\n",
      "0.0    20\n",
      "Name: class, dtype: int64\n",
      "~~~~~~~ value_counts: ~~~~~~~\n",
      "SHOULD BE BALANCED NOW: 1.0    70\n",
      "0.0    70\n",
      "Name: class, dtype: int64\n",
      "Before balancing count  1.0    65\n",
      "0.0    25\n",
      "Name: class, dtype: int64\n",
      "~~~~~~~ value_counts: ~~~~~~~\n",
      "SHOULD BE BALANCED NOW: 0.0    65\n",
      "1.0    65\n",
      "Name: class, dtype: int64\n",
      "done RE-training 0 of 3. "
     ]
    },
    {
     "name": "stderr",
     "output_type": "stream",
     "text": [
      "/home/st/sbhuvaji/anaconda3/lib/python3.9/site-packages/keras/src/engine/training.py:3000: UserWarning: You are saving your model as an HDF5 file via `model.save()`. This file format is considered legacy. We recommend using instead the native Keras format, e.g. `model.save('my_model.keras')`.\n",
      "  saving_api.save_model(\n"
     ]
    },
    {
     "name": "stdout",
     "output_type": "stream",
     "text": [
      "3/3 [==============================] - 0s 2ms/step\n",
      "cm [[ 7 18]\n",
      " [20 45]]\n",
      "cm.ravel() [ 7 18 20 45]\n",
      "done testing 0 of 2.\n",
      "3/3 [==============================] - 0s 1ms/step\n",
      "cm [[10 10]\n",
      " [39 31]]\n",
      "cm.ravel() [10 10 39 31]\n",
      "done testing 1 of 2.\n"
     ]
    },
    {
     "name": "stderr",
     "output_type": "stream",
     "text": [
      "/home/st/sbhuvaji/1AllP/Individual Patient_All Models/TLandTL/Actual TL/WithCV/TL_Packages.py:582: UserWarning: FixedFormatter should only be used together with FixedLocator\n",
      "  axs[i].set_xticklabels([''] + ['0', '1'], fontsize='xx-large')\n",
      "/home/st/sbhuvaji/1AllP/Individual Patient_All Models/TLandTL/Actual TL/WithCV/TL_Packages.py:583: UserWarning: FixedFormatter should only be used together with FixedLocator\n",
      "  axs[i].set_yticklabels([''] + ['0', '1'], fontsize='xx-large')\n",
      "  8%|▊         | 2/26 [05:50<1:10:11, 175.48s/it]"
     ]
    },
    {
     "name": "stdout",
     "output_type": "stream",
     "text": [
      "Runtime: 20 o' clock and 53 minutes\n",
      "~~~~~~~~~~~ 100 ~~~~~~~~~~~~~~~~~~~ 300 ~~~~~~~~~~~~~~~~~~~ SB-008 ~~~~~~~~~~~~~~~~~~~\n",
      "Before balancing count  1.0    2650\n",
      "0.0    1039\n",
      "Name: class, dtype: int64\n",
      "~~~~~~~ value_counts: ~~~~~~~\n",
      "SHOULD BE BALANCED NOW: 1.0    2650\n",
      "0.0    2650\n",
      "Name: class, dtype: int64\n",
      "X_train = 5300, y_train = 5300\n",
      "Population Fold 0: Training data size = 3533, Validation data size = 1767\n"
     ]
    },
    {
     "name": "stderr",
     "output_type": "stream",
     "text": [
      "/home/st/sbhuvaji/anaconda3/lib/python3.9/site-packages/keras/src/engine/training.py:3000: UserWarning: You are saving your model as an HDF5 file via `model.save()`. This file format is considered legacy. We recommend using instead the native Keras format, e.g. `model.save('my_model.keras')`.\n",
      "  saving_api.save_model(\n"
     ]
    },
    {
     "name": "stdout",
     "output_type": "stream",
     "text": [
      "56/56 [==============================] - 0s 825us/step\n",
      "cm [[565 310]\n",
      " [188 704]]\n",
      "cm.ravel() [565 310 188 704]\n",
      "Before balancing count  1.0    66\n",
      "0.0    23\n",
      "Name: class, dtype: int64\n",
      "~~~~~~~ value_counts: ~~~~~~~\n",
      "SHOULD BE BALANCED NOW: 0.0    66\n",
      "1.0    66\n",
      "Name: class, dtype: int64\n",
      "Before balancing count  1.0    69\n",
      "0.0    20\n",
      "Name: class, dtype: int64\n",
      "~~~~~~~ value_counts: ~~~~~~~\n",
      "SHOULD BE BALANCED NOW: 1.0    69\n",
      "0.0    69\n",
      "Name: class, dtype: int64\n",
      "done RE-training 0 of 3. "
     ]
    },
    {
     "name": "stderr",
     "output_type": "stream",
     "text": [
      "/home/st/sbhuvaji/anaconda3/lib/python3.9/site-packages/keras/src/engine/training.py:3000: UserWarning: You are saving your model as an HDF5 file via `model.save()`. This file format is considered legacy. We recommend using instead the native Keras format, e.g. `model.save('my_model.keras')`.\n",
      "  saving_api.save_model(\n"
     ]
    },
    {
     "name": "stdout",
     "output_type": "stream",
     "text": [
      "3/3 [==============================] - 0s 1ms/step\n",
      "cm [[13  7]\n",
      " [25 44]]\n",
      "cm.ravel() [13  7 25 44]\n",
      "done testing 0 of 2.\n",
      "3/3 [==============================] - 0s 1ms/step\n",
      "cm [[16  7]\n",
      " [23 43]]\n",
      "cm.ravel() [16  7 23 43]\n",
      "done testing 1 of 2.\n"
     ]
    },
    {
     "name": "stderr",
     "output_type": "stream",
     "text": [
      "/home/st/sbhuvaji/1AllP/Individual Patient_All Models/TLandTL/Actual TL/WithCV/TL_Packages.py:582: UserWarning: FixedFormatter should only be used together with FixedLocator\n",
      "  axs[i].set_xticklabels([''] + ['0', '1'], fontsize='xx-large')\n",
      "/home/st/sbhuvaji/1AllP/Individual Patient_All Models/TLandTL/Actual TL/WithCV/TL_Packages.py:583: UserWarning: FixedFormatter should only be used together with FixedLocator\n",
      "  axs[i].set_yticklabels([''] + ['0', '1'], fontsize='xx-large')\n"
     ]
    },
    {
     "name": "stdout",
     "output_type": "stream",
     "text": [
      "Population Fold 1: Training data size = 3533, Validation data size = 1767\n"
     ]
    },
    {
     "name": "stderr",
     "output_type": "stream",
     "text": [
      "/home/st/sbhuvaji/anaconda3/lib/python3.9/site-packages/keras/src/engine/training.py:3000: UserWarning: You are saving your model as an HDF5 file via `model.save()`. This file format is considered legacy. We recommend using instead the native Keras format, e.g. `model.save('my_model.keras')`.\n",
      "  saving_api.save_model(\n"
     ]
    },
    {
     "name": "stdout",
     "output_type": "stream",
     "text": [
      "56/56 [==============================] - 0s 868us/step\n",
      "cm [[613 270]\n",
      " [182 702]]\n",
      "cm.ravel() [613 270 182 702]\n",
      "Before balancing count  1.0    62\n",
      "0.0    27\n",
      "Name: class, dtype: int64\n",
      "~~~~~~~ value_counts: ~~~~~~~\n",
      "SHOULD BE BALANCED NOW: 0.0    62\n",
      "1.0    62\n",
      "Name: class, dtype: int64\n",
      "Before balancing count  1.0    73\n",
      "0.0    16\n",
      "Name: class, dtype: int64\n",
      "~~~~~~~ value_counts: ~~~~~~~\n",
      "SHOULD BE BALANCED NOW: 0.0    73\n",
      "1.0    73\n",
      "Name: class, dtype: int64\n",
      "done RE-training 0 of 3. "
     ]
    },
    {
     "name": "stderr",
     "output_type": "stream",
     "text": [
      "/home/st/sbhuvaji/anaconda3/lib/python3.9/site-packages/keras/src/engine/training.py:3000: UserWarning: You are saving your model as an HDF5 file via `model.save()`. This file format is considered legacy. We recommend using instead the native Keras format, e.g. `model.save('my_model.keras')`.\n",
      "  saving_api.save_model(\n"
     ]
    },
    {
     "name": "stdout",
     "output_type": "stream",
     "text": [
      "3/3 [==============================] - 0s 1ms/step\n",
      "cm [[10  6]\n",
      " [18 55]]\n",
      "cm.ravel() [10  6 18 55]\n",
      "done testing 0 of 2.\n",
      "3/3 [==============================] - 0s 1ms/step\n",
      "cm [[20  7]\n",
      " [20 42]]\n",
      "cm.ravel() [20  7 20 42]\n",
      "done testing 1 of 2.\n"
     ]
    },
    {
     "name": "stderr",
     "output_type": "stream",
     "text": [
      "/home/st/sbhuvaji/1AllP/Individual Patient_All Models/TLandTL/Actual TL/WithCV/TL_Packages.py:582: UserWarning: FixedFormatter should only be used together with FixedLocator\n",
      "  axs[i].set_xticklabels([''] + ['0', '1'], fontsize='xx-large')\n",
      "/home/st/sbhuvaji/1AllP/Individual Patient_All Models/TLandTL/Actual TL/WithCV/TL_Packages.py:583: UserWarning: FixedFormatter should only be used together with FixedLocator\n",
      "  axs[i].set_yticklabels([''] + ['0', '1'], fontsize='xx-large')\n"
     ]
    },
    {
     "name": "stdout",
     "output_type": "stream",
     "text": [
      "Population Fold 2: Training data size = 3534, Validation data size = 1766\n"
     ]
    },
    {
     "name": "stderr",
     "output_type": "stream",
     "text": [
      "/home/st/sbhuvaji/anaconda3/lib/python3.9/site-packages/keras/src/engine/training.py:3000: UserWarning: You are saving your model as an HDF5 file via `model.save()`. This file format is considered legacy. We recommend using instead the native Keras format, e.g. `model.save('my_model.keras')`.\n",
      "  saving_api.save_model(\n"
     ]
    },
    {
     "name": "stdout",
     "output_type": "stream",
     "text": [
      "56/56 [==============================] - 0s 843us/step\n",
      "cm [[659 233]\n",
      " [261 613]]\n",
      "cm.ravel() [659 233 261 613]\n",
      "Before balancing count  1.0    70\n",
      "0.0    19\n",
      "Name: class, dtype: int64\n",
      "~~~~~~~ value_counts: ~~~~~~~\n",
      "SHOULD BE BALANCED NOW: 1.0    70\n",
      "0.0    70\n",
      "Name: class, dtype: int64\n",
      "Before balancing count  1.0    65\n",
      "0.0    24\n",
      "Name: class, dtype: int64\n",
      "~~~~~~~ value_counts: ~~~~~~~\n",
      "SHOULD BE BALANCED NOW: 0.0    65\n",
      "1.0    65\n",
      "Name: class, dtype: int64\n",
      "done RE-training 0 of 3. "
     ]
    },
    {
     "name": "stderr",
     "output_type": "stream",
     "text": [
      "/home/st/sbhuvaji/anaconda3/lib/python3.9/site-packages/keras/src/engine/training.py:3000: UserWarning: You are saving your model as an HDF5 file via `model.save()`. This file format is considered legacy. We recommend using instead the native Keras format, e.g. `model.save('my_model.keras')`.\n",
      "  saving_api.save_model(\n"
     ]
    },
    {
     "name": "stdout",
     "output_type": "stream",
     "text": [
      "3/3 [==============================] - 0s 1ms/step\n",
      "cm [[16  8]\n",
      " [18 47]]\n",
      "cm.ravel() [16  8 18 47]\n",
      "done testing 0 of 2.\n",
      "3/3 [==============================] - 0s 2ms/step\n",
      "cm [[18  1]\n",
      " [53 17]]\n",
      "cm.ravel() [18  1 53 17]\n",
      "done testing 1 of 2.\n"
     ]
    },
    {
     "name": "stderr",
     "output_type": "stream",
     "text": [
      "/home/st/sbhuvaji/1AllP/Individual Patient_All Models/TLandTL/Actual TL/WithCV/TL_Packages.py:582: UserWarning: FixedFormatter should only be used together with FixedLocator\n",
      "  axs[i].set_xticklabels([''] + ['0', '1'], fontsize='xx-large')\n",
      "/home/st/sbhuvaji/1AllP/Individual Patient_All Models/TLandTL/Actual TL/WithCV/TL_Packages.py:583: UserWarning: FixedFormatter should only be used together with FixedLocator\n",
      "  axs[i].set_yticklabels([''] + ['0', '1'], fontsize='xx-large')\n",
      " 12%|█▏        | 3/26 [08:45<1:07:09, 175.19s/it]"
     ]
    },
    {
     "name": "stdout",
     "output_type": "stream",
     "text": [
      "Runtime: 20 o' clock and 56 minutes\n",
      "~~~~~~~~~~~ 100 ~~~~~~~~~~~~~~~~~~~ 300 ~~~~~~~~~~~~~~~~~~~ SB-011 ~~~~~~~~~~~~~~~~~~~\n",
      "Before balancing count  1.0    2639\n",
      "0.0    1020\n",
      "Name: class, dtype: int64\n",
      "~~~~~~~ value_counts: ~~~~~~~\n",
      "SHOULD BE BALANCED NOW: 0.0    2639\n",
      "1.0    2639\n",
      "Name: class, dtype: int64\n",
      "X_train = 5278, y_train = 5278\n",
      "Population Fold 0: Training data size = 3518, Validation data size = 1760\n"
     ]
    },
    {
     "name": "stderr",
     "output_type": "stream",
     "text": [
      "/home/st/sbhuvaji/anaconda3/lib/python3.9/site-packages/keras/src/engine/training.py:3000: UserWarning: You are saving your model as an HDF5 file via `model.save()`. This file format is considered legacy. We recommend using instead the native Keras format, e.g. `model.save('my_model.keras')`.\n",
      "  saving_api.save_model(\n"
     ]
    },
    {
     "name": "stdout",
     "output_type": "stream",
     "text": [
      "55/55 [==============================] - 0s 814us/step\n",
      "cm [[649 257]\n",
      " [221 633]]\n",
      "cm.ravel() [649 257 221 633]\n",
      "Before balancing count  1.0    74\n",
      "0.0    31\n",
      "Name: class, dtype: int64\n",
      "~~~~~~~ value_counts: ~~~~~~~\n",
      "SHOULD BE BALANCED NOW: 1.0    74\n",
      "0.0    74\n",
      "Name: class, dtype: int64\n",
      "Before balancing count  1.0    73\n",
      "0.0    32\n",
      "Name: class, dtype: int64\n",
      "~~~~~~~ value_counts: ~~~~~~~\n",
      "SHOULD BE BALANCED NOW: 0.0    73\n",
      "1.0    73\n",
      "Name: class, dtype: int64\n",
      "done RE-training 0 of 3. "
     ]
    },
    {
     "name": "stderr",
     "output_type": "stream",
     "text": [
      "/home/st/sbhuvaji/anaconda3/lib/python3.9/site-packages/keras/src/engine/training.py:3000: UserWarning: You are saving your model as an HDF5 file via `model.save()`. This file format is considered legacy. We recommend using instead the native Keras format, e.g. `model.save('my_model.keras')`.\n",
      "  saving_api.save_model(\n"
     ]
    },
    {
     "name": "stdout",
     "output_type": "stream",
     "text": [
      "4/4 [==============================] - 0s 1ms/step\n",
      "cm [[23  9]\n",
      " [14 59]]\n",
      "cm.ravel() [23  9 14 59]\n",
      "done testing 0 of 2.\n",
      "4/4 [==============================] - 0s 1ms/step\n",
      "cm [[24  7]\n",
      " [ 7 67]]\n",
      "cm.ravel() [24  7  7 67]\n",
      "done testing 1 of 2.\n"
     ]
    },
    {
     "name": "stderr",
     "output_type": "stream",
     "text": [
      "/home/st/sbhuvaji/1AllP/Individual Patient_All Models/TLandTL/Actual TL/WithCV/TL_Packages.py:582: UserWarning: FixedFormatter should only be used together with FixedLocator\n",
      "  axs[i].set_xticklabels([''] + ['0', '1'], fontsize='xx-large')\n",
      "/home/st/sbhuvaji/1AllP/Individual Patient_All Models/TLandTL/Actual TL/WithCV/TL_Packages.py:583: UserWarning: FixedFormatter should only be used together with FixedLocator\n",
      "  axs[i].set_yticklabels([''] + ['0', '1'], fontsize='xx-large')\n"
     ]
    },
    {
     "name": "stdout",
     "output_type": "stream",
     "text": [
      "Population Fold 1: Training data size = 3519, Validation data size = 1759\n"
     ]
    },
    {
     "name": "stderr",
     "output_type": "stream",
     "text": [
      "/home/st/sbhuvaji/anaconda3/lib/python3.9/site-packages/keras/src/engine/training.py:3000: UserWarning: You are saving your model as an HDF5 file via `model.save()`. This file format is considered legacy. We recommend using instead the native Keras format, e.g. `model.save('my_model.keras')`.\n",
      "  saving_api.save_model(\n"
     ]
    },
    {
     "name": "stdout",
     "output_type": "stream",
     "text": [
      "55/55 [==============================] - 0s 870us/step\n",
      "cm [[653 218]\n",
      " [266 622]]\n",
      "cm.ravel() [653 218 266 622]\n",
      "Before balancing count  1.0    75\n",
      "0.0    30\n",
      "Name: class, dtype: int64\n",
      "~~~~~~~ value_counts: ~~~~~~~\n",
      "SHOULD BE BALANCED NOW: 0.0    75\n",
      "1.0    75\n",
      "Name: class, dtype: int64\n",
      "Before balancing count  1.0    72\n",
      "0.0    33\n",
      "Name: class, dtype: int64\n",
      "~~~~~~~ value_counts: ~~~~~~~\n",
      "SHOULD BE BALANCED NOW: 1.0    72\n",
      "0.0    72\n",
      "Name: class, dtype: int64\n",
      "done RE-training 0 of 3. "
     ]
    },
    {
     "name": "stderr",
     "output_type": "stream",
     "text": [
      "/home/st/sbhuvaji/anaconda3/lib/python3.9/site-packages/keras/src/engine/training.py:3000: UserWarning: You are saving your model as an HDF5 file via `model.save()`. This file format is considered legacy. We recommend using instead the native Keras format, e.g. `model.save('my_model.keras')`.\n",
      "  saving_api.save_model(\n"
     ]
    },
    {
     "name": "stdout",
     "output_type": "stream",
     "text": [
      "4/4 [==============================] - 0s 1ms/step\n",
      "cm [[28  5]\n",
      " [27 45]]\n",
      "cm.ravel() [28  5 27 45]\n",
      "done testing 0 of 2.\n",
      "4/4 [==============================] - 0s 1ms/step\n",
      "cm [[17 13]\n",
      " [11 64]]\n",
      "cm.ravel() [17 13 11 64]\n",
      "done testing 1 of 2.\n"
     ]
    },
    {
     "name": "stderr",
     "output_type": "stream",
     "text": [
      "/home/st/sbhuvaji/1AllP/Individual Patient_All Models/TLandTL/Actual TL/WithCV/TL_Packages.py:582: UserWarning: FixedFormatter should only be used together with FixedLocator\n",
      "  axs[i].set_xticklabels([''] + ['0', '1'], fontsize='xx-large')\n",
      "/home/st/sbhuvaji/1AllP/Individual Patient_All Models/TLandTL/Actual TL/WithCV/TL_Packages.py:583: UserWarning: FixedFormatter should only be used together with FixedLocator\n",
      "  axs[i].set_yticklabels([''] + ['0', '1'], fontsize='xx-large')\n"
     ]
    },
    {
     "name": "stdout",
     "output_type": "stream",
     "text": [
      "Population Fold 2: Training data size = 3519, Validation data size = 1759\n"
     ]
    },
    {
     "name": "stderr",
     "output_type": "stream",
     "text": [
      "/home/st/sbhuvaji/anaconda3/lib/python3.9/site-packages/keras/src/engine/training.py:3000: UserWarning: You are saving your model as an HDF5 file via `model.save()`. This file format is considered legacy. We recommend using instead the native Keras format, e.g. `model.save('my_model.keras')`.\n",
      "  saving_api.save_model(\n"
     ]
    },
    {
     "name": "stdout",
     "output_type": "stream",
     "text": [
      "55/55 [==============================] - 0s 963us/step\n",
      "cm [[665 197]\n",
      " [264 633]]\n",
      "cm.ravel() [665 197 264 633]\n",
      "Before balancing count  1.0    72\n",
      "0.0    33\n",
      "Name: class, dtype: int64\n",
      "~~~~~~~ value_counts: ~~~~~~~\n",
      "SHOULD BE BALANCED NOW: 1.0    72\n",
      "0.0    72\n",
      "Name: class, dtype: int64\n",
      "Before balancing count  1.0    75\n",
      "0.0    30\n",
      "Name: class, dtype: int64\n",
      "~~~~~~~ value_counts: ~~~~~~~\n",
      "SHOULD BE BALANCED NOW: 0.0    75\n",
      "1.0    75\n",
      "Name: class, dtype: int64\n",
      "done RE-training 0 of 3. "
     ]
    },
    {
     "name": "stderr",
     "output_type": "stream",
     "text": [
      "/home/st/sbhuvaji/anaconda3/lib/python3.9/site-packages/keras/src/engine/training.py:3000: UserWarning: You are saving your model as an HDF5 file via `model.save()`. This file format is considered legacy. We recommend using instead the native Keras format, e.g. `model.save('my_model.keras')`.\n",
      "  saving_api.save_model(\n"
     ]
    },
    {
     "name": "stdout",
     "output_type": "stream",
     "text": [
      "4/4 [==============================] - 0s 1ms/step\n",
      "cm [[17 13]\n",
      " [13 62]]\n",
      "cm.ravel() [17 13 13 62]\n",
      "done testing 0 of 2.\n",
      "4/4 [==============================] - 0s 1ms/step\n",
      "cm [[26  7]\n",
      " [11 61]]\n",
      "cm.ravel() [26  7 11 61]\n",
      "done testing 1 of 2.\n"
     ]
    },
    {
     "name": "stderr",
     "output_type": "stream",
     "text": [
      "/home/st/sbhuvaji/1AllP/Individual Patient_All Models/TLandTL/Actual TL/WithCV/TL_Packages.py:582: UserWarning: FixedFormatter should only be used together with FixedLocator\n",
      "  axs[i].set_xticklabels([''] + ['0', '1'], fontsize='xx-large')\n",
      "/home/st/sbhuvaji/1AllP/Individual Patient_All Models/TLandTL/Actual TL/WithCV/TL_Packages.py:583: UserWarning: FixedFormatter should only be used together with FixedLocator\n",
      "  axs[i].set_yticklabels([''] + ['0', '1'], fontsize='xx-large')\n",
      " 15%|█▌        | 4/26 [11:44<1:04:52, 176.94s/it]"
     ]
    },
    {
     "name": "stdout",
     "output_type": "stream",
     "text": [
      "Runtime: 20 o' clock and 59 minutes\n",
      "~~~~~~~~~~~ 100 ~~~~~~~~~~~~~~~~~~~ 300 ~~~~~~~~~~~~~~~~~~~ SB-012 ~~~~~~~~~~~~~~~~~~~\n",
      "Before balancing count  1.0    2658\n",
      "0.0    1016\n",
      "Name: class, dtype: int64\n",
      "~~~~~~~ value_counts: ~~~~~~~\n",
      "SHOULD BE BALANCED NOW: 0.0    2658\n",
      "1.0    2658\n",
      "Name: class, dtype: int64\n",
      "X_train = 5316, y_train = 5316\n",
      "Population Fold 0: Training data size = 3544, Validation data size = 1772\n"
     ]
    },
    {
     "name": "stderr",
     "output_type": "stream",
     "text": [
      "/home/st/sbhuvaji/anaconda3/lib/python3.9/site-packages/keras/src/engine/training.py:3000: UserWarning: You are saving your model as an HDF5 file via `model.save()`. This file format is considered legacy. We recommend using instead the native Keras format, e.g. `model.save('my_model.keras')`.\n",
      "  saving_api.save_model(\n"
     ]
    },
    {
     "name": "stdout",
     "output_type": "stream",
     "text": [
      "56/56 [==============================] - 0s 873us/step\n",
      "cm [[664 213]\n",
      " [261 634]]\n",
      "cm.ravel() [664 213 261 634]\n",
      "Before balancing count  1.0    69\n",
      "0.0    28\n",
      "Name: class, dtype: int64\n",
      "~~~~~~~ value_counts: ~~~~~~~\n",
      "SHOULD BE BALANCED NOW: 1.0    69\n",
      "0.0    69\n",
      "Name: class, dtype: int64\n",
      "Before balancing count  1.0    68\n",
      "0.0    29\n",
      "Name: class, dtype: int64\n",
      "~~~~~~~ value_counts: ~~~~~~~\n",
      "SHOULD BE BALANCED NOW: 1.0    68\n",
      "0.0    68\n",
      "Name: class, dtype: int64\n",
      "done RE-training 0 of 3. "
     ]
    },
    {
     "name": "stderr",
     "output_type": "stream",
     "text": [
      "/home/st/sbhuvaji/anaconda3/lib/python3.9/site-packages/keras/src/engine/training.py:3000: UserWarning: You are saving your model as an HDF5 file via `model.save()`. This file format is considered legacy. We recommend using instead the native Keras format, e.g. `model.save('my_model.keras')`.\n",
      "  saving_api.save_model(\n"
     ]
    },
    {
     "name": "stdout",
     "output_type": "stream",
     "text": [
      "4/4 [==============================] - 0s 1ms/step\n",
      "cm [[19 10]\n",
      " [ 7 61]]\n",
      "cm.ravel() [19 10  7 61]\n",
      "done testing 0 of 2.\n",
      "4/4 [==============================] - 0s 1ms/step\n",
      "cm [[21  7]\n",
      " [17 52]]\n",
      "cm.ravel() [21  7 17 52]\n",
      "done testing 1 of 2.\n"
     ]
    },
    {
     "name": "stderr",
     "output_type": "stream",
     "text": [
      "/home/st/sbhuvaji/1AllP/Individual Patient_All Models/TLandTL/Actual TL/WithCV/TL_Packages.py:582: UserWarning: FixedFormatter should only be used together with FixedLocator\n",
      "  axs[i].set_xticklabels([''] + ['0', '1'], fontsize='xx-large')\n",
      "/home/st/sbhuvaji/1AllP/Individual Patient_All Models/TLandTL/Actual TL/WithCV/TL_Packages.py:583: UserWarning: FixedFormatter should only be used together with FixedLocator\n",
      "  axs[i].set_yticklabels([''] + ['0', '1'], fontsize='xx-large')\n"
     ]
    },
    {
     "name": "stdout",
     "output_type": "stream",
     "text": [
      "Population Fold 1: Training data size = 3544, Validation data size = 1772\n"
     ]
    },
    {
     "name": "stderr",
     "output_type": "stream",
     "text": [
      "/home/st/sbhuvaji/anaconda3/lib/python3.9/site-packages/keras/src/engine/training.py:3000: UserWarning: You are saving your model as an HDF5 file via `model.save()`. This file format is considered legacy. We recommend using instead the native Keras format, e.g. `model.save('my_model.keras')`.\n",
      "  saving_api.save_model(\n"
     ]
    },
    {
     "name": "stdout",
     "output_type": "stream",
     "text": [
      "56/56 [==============================] - 0s 876us/step\n",
      "cm [[508 360]\n",
      " [148 756]]\n",
      "cm.ravel() [508 360 148 756]\n",
      "Before balancing count  1.0    69\n",
      "0.0    28\n",
      "Name: class, dtype: int64\n",
      "~~~~~~~ value_counts: ~~~~~~~\n",
      "SHOULD BE BALANCED NOW: 1.0    69\n",
      "0.0    69\n",
      "Name: class, dtype: int64\n",
      "Before balancing count  1.0    68\n",
      "0.0    29\n",
      "Name: class, dtype: int64\n",
      "~~~~~~~ value_counts: ~~~~~~~\n",
      "SHOULD BE BALANCED NOW: 1.0    68\n",
      "0.0    68\n",
      "Name: class, dtype: int64\n",
      "done RE-training 0 of 3. "
     ]
    },
    {
     "name": "stderr",
     "output_type": "stream",
     "text": [
      "/home/st/sbhuvaji/anaconda3/lib/python3.9/site-packages/keras/src/engine/training.py:3000: UserWarning: You are saving your model as an HDF5 file via `model.save()`. This file format is considered legacy. We recommend using instead the native Keras format, e.g. `model.save('my_model.keras')`.\n",
      "  saving_api.save_model(\n"
     ]
    },
    {
     "name": "stdout",
     "output_type": "stream",
     "text": [
      "4/4 [==============================] - 0s 1ms/step\n",
      "cm [[20  9]\n",
      " [15 53]]\n",
      "cm.ravel() [20  9 15 53]\n",
      "done testing 0 of 2.\n",
      "4/4 [==============================] - 0s 1ms/step\n",
      "cm [[19  9]\n",
      " [13 56]]\n",
      "cm.ravel() [19  9 13 56]\n",
      "done testing 1 of 2.\n"
     ]
    },
    {
     "name": "stderr",
     "output_type": "stream",
     "text": [
      "/home/st/sbhuvaji/1AllP/Individual Patient_All Models/TLandTL/Actual TL/WithCV/TL_Packages.py:582: UserWarning: FixedFormatter should only be used together with FixedLocator\n",
      "  axs[i].set_xticklabels([''] + ['0', '1'], fontsize='xx-large')\n",
      "/home/st/sbhuvaji/1AllP/Individual Patient_All Models/TLandTL/Actual TL/WithCV/TL_Packages.py:583: UserWarning: FixedFormatter should only be used together with FixedLocator\n",
      "  axs[i].set_yticklabels([''] + ['0', '1'], fontsize='xx-large')\n"
     ]
    },
    {
     "name": "stdout",
     "output_type": "stream",
     "text": [
      "Population Fold 2: Training data size = 3544, Validation data size = 1772\n"
     ]
    },
    {
     "name": "stderr",
     "output_type": "stream",
     "text": [
      "/home/st/sbhuvaji/anaconda3/lib/python3.9/site-packages/keras/src/engine/training.py:3000: UserWarning: You are saving your model as an HDF5 file via `model.save()`. This file format is considered legacy. We recommend using instead the native Keras format, e.g. `model.save('my_model.keras')`.\n",
      "  saving_api.save_model(\n"
     ]
    },
    {
     "name": "stdout",
     "output_type": "stream",
     "text": [
      "56/56 [==============================] - 0s 819us/step\n",
      "cm [[683 230]\n",
      " [256 603]]\n",
      "cm.ravel() [683 230 256 603]\n",
      "Before balancing count  1.0    70\n",
      "0.0    27\n",
      "Name: class, dtype: int64\n",
      "~~~~~~~ value_counts: ~~~~~~~\n",
      "SHOULD BE BALANCED NOW: 1.0    70\n",
      "0.0    70\n",
      "Name: class, dtype: int64\n",
      "Before balancing count  1.0    67\n",
      "0.0    30\n",
      "Name: class, dtype: int64\n",
      "~~~~~~~ value_counts: ~~~~~~~\n",
      "SHOULD BE BALANCED NOW: 1.0    67\n",
      "0.0    67\n",
      "Name: class, dtype: int64\n",
      "done RE-training 0 of 3. "
     ]
    },
    {
     "name": "stderr",
     "output_type": "stream",
     "text": [
      "/home/st/sbhuvaji/anaconda3/lib/python3.9/site-packages/keras/src/engine/training.py:3000: UserWarning: You are saving your model as an HDF5 file via `model.save()`. This file format is considered legacy. We recommend using instead the native Keras format, e.g. `model.save('my_model.keras')`.\n",
      "  saving_api.save_model(\n"
     ]
    },
    {
     "name": "stdout",
     "output_type": "stream",
     "text": [
      "4/4 [==============================] - 0s 1ms/step\n",
      "cm [[23  7]\n",
      " [19 48]]\n",
      "cm.ravel() [23  7 19 48]\n",
      "done testing 0 of 2.\n",
      "4/4 [==============================] - 0s 1ms/step\n",
      "cm [[18  9]\n",
      " [16 54]]\n",
      "cm.ravel() [18  9 16 54]\n",
      "done testing 1 of 2.\n"
     ]
    },
    {
     "name": "stderr",
     "output_type": "stream",
     "text": [
      "/home/st/sbhuvaji/1AllP/Individual Patient_All Models/TLandTL/Actual TL/WithCV/TL_Packages.py:582: UserWarning: FixedFormatter should only be used together with FixedLocator\n",
      "  axs[i].set_xticklabels([''] + ['0', '1'], fontsize='xx-large')\n",
      "/home/st/sbhuvaji/1AllP/Individual Patient_All Models/TLandTL/Actual TL/WithCV/TL_Packages.py:583: UserWarning: FixedFormatter should only be used together with FixedLocator\n",
      "  axs[i].set_yticklabels([''] + ['0', '1'], fontsize='xx-large')\n",
      " 19%|█▉        | 5/26 [14:40<1:01:47, 176.52s/it]"
     ]
    },
    {
     "name": "stdout",
     "output_type": "stream",
     "text": [
      "Runtime: 21 o' clock and 2 minutes\n",
      "~~~~~~~~~~~ 100 ~~~~~~~~~~~~~~~~~~~ 300 ~~~~~~~~~~~~~~~~~~~ SB-022 ~~~~~~~~~~~~~~~~~~~\n",
      "Before balancing count  1.0    2633\n",
      "0.0    1032\n",
      "Name: class, dtype: int64\n",
      "~~~~~~~ value_counts: ~~~~~~~\n",
      "SHOULD BE BALANCED NOW: 0.0    2633\n",
      "1.0    2633\n",
      "Name: class, dtype: int64\n",
      "X_train = 5266, y_train = 5266\n",
      "Population Fold 0: Training data size = 3510, Validation data size = 1756\n"
     ]
    },
    {
     "name": "stderr",
     "output_type": "stream",
     "text": [
      "/home/st/sbhuvaji/anaconda3/lib/python3.9/site-packages/keras/src/engine/training.py:3000: UserWarning: You are saving your model as an HDF5 file via `model.save()`. This file format is considered legacy. We recommend using instead the native Keras format, e.g. `model.save('my_model.keras')`.\n",
      "  saving_api.save_model(\n"
     ]
    },
    {
     "name": "stdout",
     "output_type": "stream",
     "text": [
      "55/55 [==============================] - 0s 879us/step\n",
      "cm [[660 240]\n",
      " [221 635]]\n",
      "cm.ravel() [660 240 221 635]\n",
      "Before balancing count  1.0    66\n",
      "0.0    36\n",
      "Name: class, dtype: int64\n",
      "~~~~~~~ value_counts: ~~~~~~~\n",
      "SHOULD BE BALANCED NOW: 0.0    66\n",
      "1.0    66\n",
      "Name: class, dtype: int64\n",
      "Before balancing count  1.0    77\n",
      "0.0    25\n",
      "Name: class, dtype: int64\n",
      "~~~~~~~ value_counts: ~~~~~~~\n",
      "SHOULD BE BALANCED NOW: 0.0    77\n",
      "1.0    77\n",
      "Name: class, dtype: int64\n",
      "done RE-training 0 of 3. "
     ]
    },
    {
     "name": "stderr",
     "output_type": "stream",
     "text": [
      "/home/st/sbhuvaji/anaconda3/lib/python3.9/site-packages/keras/src/engine/training.py:3000: UserWarning: You are saving your model as an HDF5 file via `model.save()`. This file format is considered legacy. We recommend using instead the native Keras format, e.g. `model.save('my_model.keras')`.\n",
      "  saving_api.save_model(\n"
     ]
    },
    {
     "name": "stdout",
     "output_type": "stream",
     "text": [
      "4/4 [==============================] - 0s 1ms/step\n",
      "cm [[18  7]\n",
      " [25 52]]\n",
      "cm.ravel() [18  7 25 52]\n",
      "done testing 0 of 2.\n",
      "4/4 [==============================] - 0s 1ms/step\n",
      "cm [[25 11]\n",
      " [18 48]]\n",
      "cm.ravel() [25 11 18 48]\n",
      "done testing 1 of 2.\n"
     ]
    },
    {
     "name": "stderr",
     "output_type": "stream",
     "text": [
      "/home/st/sbhuvaji/1AllP/Individual Patient_All Models/TLandTL/Actual TL/WithCV/TL_Packages.py:582: UserWarning: FixedFormatter should only be used together with FixedLocator\n",
      "  axs[i].set_xticklabels([''] + ['0', '1'], fontsize='xx-large')\n",
      "/home/st/sbhuvaji/1AllP/Individual Patient_All Models/TLandTL/Actual TL/WithCV/TL_Packages.py:583: UserWarning: FixedFormatter should only be used together with FixedLocator\n",
      "  axs[i].set_yticklabels([''] + ['0', '1'], fontsize='xx-large')\n"
     ]
    },
    {
     "name": "stdout",
     "output_type": "stream",
     "text": [
      "Population Fold 1: Training data size = 3511, Validation data size = 1755\n"
     ]
    },
    {
     "name": "stderr",
     "output_type": "stream",
     "text": [
      "/home/st/sbhuvaji/anaconda3/lib/python3.9/site-packages/keras/src/engine/training.py:3000: UserWarning: You are saving your model as an HDF5 file via `model.save()`. This file format is considered legacy. We recommend using instead the native Keras format, e.g. `model.save('my_model.keras')`.\n",
      "  saving_api.save_model(\n"
     ]
    },
    {
     "name": "stdout",
     "output_type": "stream",
     "text": [
      "55/55 [==============================] - 0s 866us/step\n",
      "cm [[653 202]\n",
      " [228 672]]\n",
      "cm.ravel() [653 202 228 672]\n",
      "Before balancing count  1.0    68\n",
      "0.0    34\n",
      "Name: class, dtype: int64\n",
      "~~~~~~~ value_counts: ~~~~~~~\n",
      "SHOULD BE BALANCED NOW: 1.0    68\n",
      "0.0    68\n",
      "Name: class, dtype: int64\n",
      "Before balancing count  1.0    75\n",
      "0.0    27\n",
      "Name: class, dtype: int64\n",
      "~~~~~~~ value_counts: ~~~~~~~\n",
      "SHOULD BE BALANCED NOW: 0.0    75\n",
      "1.0    75\n",
      "Name: class, dtype: int64\n",
      "done RE-training 0 of 3. "
     ]
    },
    {
     "name": "stderr",
     "output_type": "stream",
     "text": [
      "/home/st/sbhuvaji/anaconda3/lib/python3.9/site-packages/keras/src/engine/training.py:3000: UserWarning: You are saving your model as an HDF5 file via `model.save()`. This file format is considered legacy. We recommend using instead the native Keras format, e.g. `model.save('my_model.keras')`.\n",
      "  saving_api.save_model(\n"
     ]
    },
    {
     "name": "stdout",
     "output_type": "stream",
     "text": [
      "4/4 [==============================] - 0s 1ms/step\n",
      "cm [[21  6]\n",
      " [23 52]]\n",
      "cm.ravel() [21  6 23 52]\n",
      "done testing 0 of 2.\n",
      "4/4 [==============================] - 0s 1ms/step\n",
      "cm [[23 11]\n",
      " [21 47]]\n",
      "cm.ravel() [23 11 21 47]\n",
      "done testing 1 of 2.\n"
     ]
    },
    {
     "name": "stderr",
     "output_type": "stream",
     "text": [
      "/home/st/sbhuvaji/1AllP/Individual Patient_All Models/TLandTL/Actual TL/WithCV/TL_Packages.py:582: UserWarning: FixedFormatter should only be used together with FixedLocator\n",
      "  axs[i].set_xticklabels([''] + ['0', '1'], fontsize='xx-large')\n",
      "/home/st/sbhuvaji/1AllP/Individual Patient_All Models/TLandTL/Actual TL/WithCV/TL_Packages.py:583: UserWarning: FixedFormatter should only be used together with FixedLocator\n",
      "  axs[i].set_yticklabels([''] + ['0', '1'], fontsize='xx-large')\n"
     ]
    },
    {
     "name": "stdout",
     "output_type": "stream",
     "text": [
      "Population Fold 2: Training data size = 3511, Validation data size = 1755\n"
     ]
    },
    {
     "name": "stderr",
     "output_type": "stream",
     "text": [
      "/home/st/sbhuvaji/anaconda3/lib/python3.9/site-packages/keras/src/engine/training.py:3000: UserWarning: You are saving your model as an HDF5 file via `model.save()`. This file format is considered legacy. We recommend using instead the native Keras format, e.g. `model.save('my_model.keras')`.\n",
      "  saving_api.save_model(\n"
     ]
    },
    {
     "name": "stdout",
     "output_type": "stream",
     "text": [
      "55/55 [==============================] - 0s 891us/step\n",
      "cm [[662 216]\n",
      " [232 645]]\n",
      "cm.ravel() [662 216 232 645]\n",
      "Before balancing count  1.0    73\n",
      "0.0    29\n",
      "Name: class, dtype: int64\n",
      "~~~~~~~ value_counts: ~~~~~~~\n",
      "SHOULD BE BALANCED NOW: 0.0    73\n",
      "1.0    73\n",
      "Name: class, dtype: int64\n",
      "Before balancing count  1.0    70\n",
      "0.0    32\n",
      "Name: class, dtype: int64\n",
      "~~~~~~~ value_counts: ~~~~~~~\n",
      "SHOULD BE BALANCED NOW: 1.0    70\n",
      "0.0    70\n",
      "Name: class, dtype: int64\n",
      "done RE-training 0 of 3. "
     ]
    },
    {
     "name": "stderr",
     "output_type": "stream",
     "text": [
      "/home/st/sbhuvaji/anaconda3/lib/python3.9/site-packages/keras/src/engine/training.py:3000: UserWarning: You are saving your model as an HDF5 file via `model.save()`. This file format is considered legacy. We recommend using instead the native Keras format, e.g. `model.save('my_model.keras')`.\n",
      "  saving_api.save_model(\n"
     ]
    },
    {
     "name": "stdout",
     "output_type": "stream",
     "text": [
      "4/4 [==============================] - 0s 1ms/step\n",
      "cm [[15 17]\n",
      " [22 48]]\n",
      "cm.ravel() [15 17 22 48]\n",
      "done testing 0 of 2.\n",
      "4/4 [==============================] - 0s 1ms/step\n",
      "cm [[23  6]\n",
      " [31 42]]\n",
      "cm.ravel() [23  6 31 42]\n",
      "done testing 1 of 2.\n"
     ]
    },
    {
     "name": "stderr",
     "output_type": "stream",
     "text": [
      "/home/st/sbhuvaji/1AllP/Individual Patient_All Models/TLandTL/Actual TL/WithCV/TL_Packages.py:582: UserWarning: FixedFormatter should only be used together with FixedLocator\n",
      "  axs[i].set_xticklabels([''] + ['0', '1'], fontsize='xx-large')\n",
      "/home/st/sbhuvaji/1AllP/Individual Patient_All Models/TLandTL/Actual TL/WithCV/TL_Packages.py:583: UserWarning: FixedFormatter should only be used together with FixedLocator\n",
      "  axs[i].set_yticklabels([''] + ['0', '1'], fontsize='xx-large')\n",
      " 23%|██▎       | 6/26 [17:37<58:53, 176.68s/it]  "
     ]
    },
    {
     "name": "stdout",
     "output_type": "stream",
     "text": [
      "Runtime: 21 o' clock and 5 minutes\n",
      "~~~~~~~~~~~ 100 ~~~~~~~~~~~~~~~~~~~ 300 ~~~~~~~~~~~~~~~~~~~ SB-023 ~~~~~~~~~~~~~~~~~~~\n",
      "Before balancing count  1.0    2645\n",
      "0.0    1029\n",
      "Name: class, dtype: int64\n",
      "~~~~~~~ value_counts: ~~~~~~~\n",
      "SHOULD BE BALANCED NOW: 0.0    2645\n",
      "1.0    2645\n",
      "Name: class, dtype: int64\n",
      "X_train = 5290, y_train = 5290\n",
      "Population Fold 0: Training data size = 3526, Validation data size = 1764\n"
     ]
    },
    {
     "name": "stderr",
     "output_type": "stream",
     "text": [
      "/home/st/sbhuvaji/anaconda3/lib/python3.9/site-packages/keras/src/engine/training.py:3000: UserWarning: You are saving your model as an HDF5 file via `model.save()`. This file format is considered legacy. We recommend using instead the native Keras format, e.g. `model.save('my_model.keras')`.\n",
      "  saving_api.save_model(\n"
     ]
    },
    {
     "name": "stdout",
     "output_type": "stream",
     "text": [
      "56/56 [==============================] - 0s 871us/step\n",
      "cm [[681 182]\n",
      " [305 596]]\n",
      "cm.ravel() [681 182 305 596]\n",
      "Before balancing count  1.0    63\n",
      "0.0    34\n",
      "Name: class, dtype: int64\n",
      "~~~~~~~ value_counts: ~~~~~~~\n",
      "SHOULD BE BALANCED NOW: 1.0    63\n",
      "0.0    63\n",
      "Name: class, dtype: int64\n",
      "Before balancing count  1.0    71\n",
      "0.0    26\n",
      "Name: class, dtype: int64\n",
      "~~~~~~~ value_counts: ~~~~~~~\n",
      "SHOULD BE BALANCED NOW: 1.0    71\n",
      "0.0    71\n",
      "Name: class, dtype: int64\n",
      "done RE-training 0 of 3. "
     ]
    },
    {
     "name": "stderr",
     "output_type": "stream",
     "text": [
      "/home/st/sbhuvaji/anaconda3/lib/python3.9/site-packages/keras/src/engine/training.py:3000: UserWarning: You are saving your model as an HDF5 file via `model.save()`. This file format is considered legacy. We recommend using instead the native Keras format, e.g. `model.save('my_model.keras')`.\n",
      "  saving_api.save_model(\n"
     ]
    },
    {
     "name": "stdout",
     "output_type": "stream",
     "text": [
      "4/4 [==============================] - 0s 1ms/step\n",
      "cm [[18  8]\n",
      " [31 40]]\n",
      "cm.ravel() [18  8 31 40]\n",
      "done testing 0 of 2.\n",
      "4/4 [==============================] - 0s 1ms/step\n",
      "cm [[21 13]\n",
      " [23 40]]\n",
      "cm.ravel() [21 13 23 40]\n",
      "done testing 1 of 2.\n"
     ]
    },
    {
     "name": "stderr",
     "output_type": "stream",
     "text": [
      "/home/st/sbhuvaji/1AllP/Individual Patient_All Models/TLandTL/Actual TL/WithCV/TL_Packages.py:582: UserWarning: FixedFormatter should only be used together with FixedLocator\n",
      "  axs[i].set_xticklabels([''] + ['0', '1'], fontsize='xx-large')\n",
      "/home/st/sbhuvaji/1AllP/Individual Patient_All Models/TLandTL/Actual TL/WithCV/TL_Packages.py:583: UserWarning: FixedFormatter should only be used together with FixedLocator\n",
      "  axs[i].set_yticklabels([''] + ['0', '1'], fontsize='xx-large')\n"
     ]
    },
    {
     "name": "stdout",
     "output_type": "stream",
     "text": [
      "Population Fold 1: Training data size = 3527, Validation data size = 1763\n"
     ]
    },
    {
     "name": "stderr",
     "output_type": "stream",
     "text": [
      "/home/st/sbhuvaji/anaconda3/lib/python3.9/site-packages/keras/src/engine/training.py:3000: UserWarning: You are saving your model as an HDF5 file via `model.save()`. This file format is considered legacy. We recommend using instead the native Keras format, e.g. `model.save('my_model.keras')`.\n",
      "  saving_api.save_model(\n"
     ]
    },
    {
     "name": "stdout",
     "output_type": "stream",
     "text": [
      "56/56 [==============================] - 0s 860us/step\n",
      "cm [[674 211]\n",
      " [300 578]]\n",
      "cm.ravel() [674 211 300 578]\n",
      "Before balancing count  1.0    76\n",
      "0.0    21\n",
      "Name: class, dtype: int64\n",
      "~~~~~~~ value_counts: ~~~~~~~\n",
      "SHOULD BE BALANCED NOW: 0.0    76\n",
      "1.0    76\n",
      "Name: class, dtype: int64\n",
      "Before balancing count  1.0    58\n",
      "0.0    39\n",
      "Name: class, dtype: int64\n",
      "~~~~~~~ value_counts: ~~~~~~~\n",
      "SHOULD BE BALANCED NOW: 1.0    58\n",
      "0.0    58\n",
      "Name: class, dtype: int64\n",
      "done RE-training 0 of 3. "
     ]
    },
    {
     "name": "stderr",
     "output_type": "stream",
     "text": [
      "/home/st/sbhuvaji/anaconda3/lib/python3.9/site-packages/keras/src/engine/training.py:3000: UserWarning: You are saving your model as an HDF5 file via `model.save()`. This file format is considered legacy. We recommend using instead the native Keras format, e.g. `model.save('my_model.keras')`.\n",
      "  saving_api.save_model(\n"
     ]
    },
    {
     "name": "stdout",
     "output_type": "stream",
     "text": [
      "4/4 [==============================] - 0s 1ms/step\n",
      "cm [[19 20]\n",
      " [15 43]]\n",
      "cm.ravel() [19 20 15 43]\n",
      "done testing 0 of 2.\n",
      "4/4 [==============================] - 0s 1ms/step\n",
      "cm [[13  8]\n",
      " [22 54]]\n",
      "cm.ravel() [13  8 22 54]\n",
      "done testing 1 of 2.\n"
     ]
    },
    {
     "name": "stderr",
     "output_type": "stream",
     "text": [
      "/home/st/sbhuvaji/1AllP/Individual Patient_All Models/TLandTL/Actual TL/WithCV/TL_Packages.py:582: UserWarning: FixedFormatter should only be used together with FixedLocator\n",
      "  axs[i].set_xticklabels([''] + ['0', '1'], fontsize='xx-large')\n",
      "/home/st/sbhuvaji/1AllP/Individual Patient_All Models/TLandTL/Actual TL/WithCV/TL_Packages.py:583: UserWarning: FixedFormatter should only be used together with FixedLocator\n",
      "  axs[i].set_yticklabels([''] + ['0', '1'], fontsize='xx-large')\n"
     ]
    },
    {
     "name": "stdout",
     "output_type": "stream",
     "text": [
      "Population Fold 2: Training data size = 3527, Validation data size = 1763\n"
     ]
    },
    {
     "name": "stderr",
     "output_type": "stream",
     "text": [
      "/home/st/sbhuvaji/anaconda3/lib/python3.9/site-packages/keras/src/engine/training.py:3000: UserWarning: You are saving your model as an HDF5 file via `model.save()`. This file format is considered legacy. We recommend using instead the native Keras format, e.g. `model.save('my_model.keras')`.\n",
      "  saving_api.save_model(\n"
     ]
    },
    {
     "name": "stdout",
     "output_type": "stream",
     "text": [
      "56/56 [==============================] - 0s 893us/step\n",
      "cm [[626 271]\n",
      " [197 669]]\n",
      "cm.ravel() [626 271 197 669]\n",
      "Before balancing count  1.0    65\n",
      "0.0    32\n",
      "Name: class, dtype: int64\n",
      "~~~~~~~ value_counts: ~~~~~~~\n",
      "SHOULD BE BALANCED NOW: 0.0    65\n",
      "1.0    65\n",
      "Name: class, dtype: int64\n",
      "Before balancing count  1.0    69\n",
      "0.0    28\n",
      "Name: class, dtype: int64\n",
      "~~~~~~~ value_counts: ~~~~~~~\n",
      "SHOULD BE BALANCED NOW: 1.0    69\n",
      "0.0    69\n",
      "Name: class, dtype: int64\n",
      "done RE-training 0 of 3. "
     ]
    },
    {
     "name": "stderr",
     "output_type": "stream",
     "text": [
      "/home/st/sbhuvaji/anaconda3/lib/python3.9/site-packages/keras/src/engine/training.py:3000: UserWarning: You are saving your model as an HDF5 file via `model.save()`. This file format is considered legacy. We recommend using instead the native Keras format, e.g. `model.save('my_model.keras')`.\n",
      "  saving_api.save_model(\n"
     ]
    },
    {
     "name": "stdout",
     "output_type": "stream",
     "text": [
      "4/4 [==============================] - 0s 1ms/step\n",
      "cm [[17 11]\n",
      " [27 42]]\n",
      "cm.ravel() [17 11 27 42]\n",
      "done testing 0 of 2.\n",
      "4/4 [==============================] - 0s 1ms/step\n",
      "cm [[22 10]\n",
      " [13 52]]\n",
      "cm.ravel() [22 10 13 52]\n",
      "done testing 1 of 2.\n"
     ]
    },
    {
     "name": "stderr",
     "output_type": "stream",
     "text": [
      "/home/st/sbhuvaji/1AllP/Individual Patient_All Models/TLandTL/Actual TL/WithCV/TL_Packages.py:582: UserWarning: FixedFormatter should only be used together with FixedLocator\n",
      "  axs[i].set_xticklabels([''] + ['0', '1'], fontsize='xx-large')\n",
      "/home/st/sbhuvaji/1AllP/Individual Patient_All Models/TLandTL/Actual TL/WithCV/TL_Packages.py:583: UserWarning: FixedFormatter should only be used together with FixedLocator\n",
      "  axs[i].set_yticklabels([''] + ['0', '1'], fontsize='xx-large')\n",
      " 27%|██▋       | 7/26 [20:34<56:00, 176.84s/it]"
     ]
    },
    {
     "name": "stdout",
     "output_type": "stream",
     "text": [
      "Runtime: 21 o' clock and 8 minutes\n",
      "~~~~~~~~~~~ 100 ~~~~~~~~~~~~~~~~~~~ 300 ~~~~~~~~~~~~~~~~~~~ SB-025 ~~~~~~~~~~~~~~~~~~~\n",
      "Before balancing count  1.0    2680\n",
      "0.0    1067\n",
      "Name: class, dtype: int64\n",
      "~~~~~~~ value_counts: ~~~~~~~\n",
      "SHOULD BE BALANCED NOW: 1.0    2680\n",
      "0.0    2680\n",
      "Name: class, dtype: int64\n",
      "X_train = 5360, y_train = 5360\n",
      "Population Fold 0: Training data size = 3573, Validation data size = 1787\n"
     ]
    },
    {
     "name": "stderr",
     "output_type": "stream",
     "text": [
      "/home/st/sbhuvaji/anaconda3/lib/python3.9/site-packages/keras/src/engine/training.py:3000: UserWarning: You are saving your model as an HDF5 file via `model.save()`. This file format is considered legacy. We recommend using instead the native Keras format, e.g. `model.save('my_model.keras')`.\n",
      "  saving_api.save_model(\n"
     ]
    },
    {
     "name": "stdout",
     "output_type": "stream",
     "text": [
      "56/56 [==============================] - 0s 855us/step\n",
      "cm [[590 283]\n",
      " [274 640]]\n",
      "cm.ravel() [590 283 274 640]\n",
      "Before balancing count  1.0    49\n",
      "0.0     9\n",
      "Name: class, dtype: int64\n",
      "~~~~~~~ value_counts: ~~~~~~~\n",
      "SHOULD BE BALANCED NOW: 1.0    49\n",
      "0.0    49\n",
      "Name: class, dtype: int64\n",
      "Before balancing count  1.0    43\n",
      "0.0    16\n",
      "Name: class, dtype: int64\n",
      "~~~~~~~ value_counts: ~~~~~~~\n",
      "SHOULD BE BALANCED NOW: 1.0    43\n",
      "0.0    43\n",
      "Name: class, dtype: int64\n",
      "done RE-training 0 of 3. "
     ]
    },
    {
     "name": "stderr",
     "output_type": "stream",
     "text": [
      "/home/st/sbhuvaji/anaconda3/lib/python3.9/site-packages/keras/src/engine/training.py:3000: UserWarning: You are saving your model as an HDF5 file via `model.save()`. This file format is considered legacy. We recommend using instead the native Keras format, e.g. `model.save('my_model.keras')`.\n",
      "  saving_api.save_model(\n"
     ]
    },
    {
     "name": "stdout",
     "output_type": "stream",
     "text": [
      "2/2 [==============================] - 0s 2ms/step\n",
      "cm [[10  6]\n",
      " [16 27]]\n",
      "cm.ravel() [10  6 16 27]\n",
      "done testing 0 of 2.\n",
      "2/2 [==============================] - 0s 2ms/step\n",
      "cm [[ 4  5]\n",
      " [ 7 42]]\n",
      "cm.ravel() [ 4  5  7 42]\n",
      "done testing 1 of 2.\n"
     ]
    },
    {
     "name": "stderr",
     "output_type": "stream",
     "text": [
      "/home/st/sbhuvaji/1AllP/Individual Patient_All Models/TLandTL/Actual TL/WithCV/TL_Packages.py:582: UserWarning: FixedFormatter should only be used together with FixedLocator\n",
      "  axs[i].set_xticklabels([''] + ['0', '1'], fontsize='xx-large')\n",
      "/home/st/sbhuvaji/1AllP/Individual Patient_All Models/TLandTL/Actual TL/WithCV/TL_Packages.py:583: UserWarning: FixedFormatter should only be used together with FixedLocator\n",
      "  axs[i].set_yticklabels([''] + ['0', '1'], fontsize='xx-large')\n"
     ]
    },
    {
     "name": "stdout",
     "output_type": "stream",
     "text": [
      "Population Fold 1: Training data size = 3573, Validation data size = 1787\n"
     ]
    },
    {
     "name": "stderr",
     "output_type": "stream",
     "text": [
      "/home/st/sbhuvaji/anaconda3/lib/python3.9/site-packages/keras/src/engine/training.py:3000: UserWarning: You are saving your model as an HDF5 file via `model.save()`. This file format is considered legacy. We recommend using instead the native Keras format, e.g. `model.save('my_model.keras')`.\n",
      "  saving_api.save_model(\n"
     ]
    },
    {
     "name": "stdout",
     "output_type": "stream",
     "text": [
      "56/56 [==============================] - 0s 865us/step\n",
      "cm [[688 213]\n",
      " [278 608]]\n",
      "cm.ravel() [688 213 278 608]\n",
      "Before balancing count  1.0    49\n",
      "0.0     9\n",
      "Name: class, dtype: int64\n",
      "~~~~~~~ value_counts: ~~~~~~~\n",
      "SHOULD BE BALANCED NOW: 1.0    49\n",
      "0.0    49\n",
      "Name: class, dtype: int64\n",
      "Before balancing count  1.0    43\n",
      "0.0    16\n",
      "Name: class, dtype: int64\n",
      "~~~~~~~ value_counts: ~~~~~~~\n",
      "SHOULD BE BALANCED NOW: 1.0    43\n",
      "0.0    43\n",
      "Name: class, dtype: int64\n",
      "done RE-training 0 of 3. "
     ]
    },
    {
     "name": "stderr",
     "output_type": "stream",
     "text": [
      "/home/st/sbhuvaji/anaconda3/lib/python3.9/site-packages/keras/src/engine/training.py:3000: UserWarning: You are saving your model as an HDF5 file via `model.save()`. This file format is considered legacy. We recommend using instead the native Keras format, e.g. `model.save('my_model.keras')`.\n",
      "  saving_api.save_model(\n"
     ]
    },
    {
     "name": "stdout",
     "output_type": "stream",
     "text": [
      "2/2 [==============================] - 0s 2ms/step\n",
      "cm [[ 6 10]\n",
      " [13 30]]\n",
      "cm.ravel() [ 6 10 13 30]\n",
      "done testing 0 of 2.\n",
      "2/2 [==============================] - 0s 2ms/step\n",
      "cm [[ 5  4]\n",
      " [ 9 40]]\n",
      "cm.ravel() [ 5  4  9 40]\n",
      "done testing 1 of 2.\n"
     ]
    },
    {
     "name": "stderr",
     "output_type": "stream",
     "text": [
      "/home/st/sbhuvaji/1AllP/Individual Patient_All Models/TLandTL/Actual TL/WithCV/TL_Packages.py:582: UserWarning: FixedFormatter should only be used together with FixedLocator\n",
      "  axs[i].set_xticklabels([''] + ['0', '1'], fontsize='xx-large')\n",
      "/home/st/sbhuvaji/1AllP/Individual Patient_All Models/TLandTL/Actual TL/WithCV/TL_Packages.py:583: UserWarning: FixedFormatter should only be used together with FixedLocator\n",
      "  axs[i].set_yticklabels([''] + ['0', '1'], fontsize='xx-large')\n"
     ]
    },
    {
     "name": "stdout",
     "output_type": "stream",
     "text": [
      "Population Fold 2: Training data size = 3574, Validation data size = 1786\n"
     ]
    },
    {
     "name": "stderr",
     "output_type": "stream",
     "text": [
      "/home/st/sbhuvaji/anaconda3/lib/python3.9/site-packages/keras/src/engine/training.py:3000: UserWarning: You are saving your model as an HDF5 file via `model.save()`. This file format is considered legacy. We recommend using instead the native Keras format, e.g. `model.save('my_model.keras')`.\n",
      "  saving_api.save_model(\n"
     ]
    },
    {
     "name": "stdout",
     "output_type": "stream",
     "text": [
      "56/56 [==============================] - 0s 890us/step\n",
      "cm [[713 193]\n",
      " [309 571]]\n",
      "cm.ravel() [713 193 309 571]\n",
      "Before balancing count  1.0    47\n",
      "0.0    11\n",
      "Name: class, dtype: int64\n",
      "~~~~~~~ value_counts: ~~~~~~~\n",
      "SHOULD BE BALANCED NOW: 0.0    47\n",
      "1.0    47\n",
      "Name: class, dtype: int64\n",
      "Before balancing count  1.0    45\n",
      "0.0    14\n",
      "Name: class, dtype: int64\n",
      "~~~~~~~ value_counts: ~~~~~~~\n",
      "SHOULD BE BALANCED NOW: 0.0    45\n",
      "1.0    45\n",
      "Name: class, dtype: int64\n",
      "done RE-training 0 of 3. "
     ]
    },
    {
     "name": "stderr",
     "output_type": "stream",
     "text": [
      "/home/st/sbhuvaji/anaconda3/lib/python3.9/site-packages/keras/src/engine/training.py:3000: UserWarning: You are saving your model as an HDF5 file via `model.save()`. This file format is considered legacy. We recommend using instead the native Keras format, e.g. `model.save('my_model.keras')`.\n",
      "  saving_api.save_model(\n"
     ]
    },
    {
     "name": "stdout",
     "output_type": "stream",
     "text": [
      "2/2 [==============================] - 0s 3ms/step\n",
      "cm [[ 5  9]\n",
      " [12 33]]\n",
      "cm.ravel() [ 5  9 12 33]\n",
      "done testing 0 of 2.\n",
      "2/2 [==============================] - 0s 2ms/step\n",
      "cm [[ 3  8]\n",
      " [14 33]]\n",
      "cm.ravel() [ 3  8 14 33]\n",
      "done testing 1 of 2.\n"
     ]
    },
    {
     "name": "stderr",
     "output_type": "stream",
     "text": [
      "/home/st/sbhuvaji/1AllP/Individual Patient_All Models/TLandTL/Actual TL/WithCV/TL_Packages.py:582: UserWarning: FixedFormatter should only be used together with FixedLocator\n",
      "  axs[i].set_xticklabels([''] + ['0', '1'], fontsize='xx-large')\n",
      "/home/st/sbhuvaji/1AllP/Individual Patient_All Models/TLandTL/Actual TL/WithCV/TL_Packages.py:583: UserWarning: FixedFormatter should only be used together with FixedLocator\n",
      "  axs[i].set_yticklabels([''] + ['0', '1'], fontsize='xx-large')\n",
      " 31%|███       | 8/26 [23:29<52:49, 176.08s/it]"
     ]
    },
    {
     "name": "stdout",
     "output_type": "stream",
     "text": [
      "Runtime: 21 o' clock and 11 minutes\n",
      "~~~~~~~~~~~ 100 ~~~~~~~~~~~~~~~~~~~ 300 ~~~~~~~~~~~~~~~~~~~ SB-028 ~~~~~~~~~~~~~~~~~~~\n",
      "Before balancing count  1.0    2723\n",
      "0.0    1048\n",
      "Name: class, dtype: int64\n",
      "~~~~~~~ value_counts: ~~~~~~~\n",
      "SHOULD BE BALANCED NOW: 0.0    2723\n",
      "1.0    2723\n",
      "Name: class, dtype: int64\n",
      "X_train = 5446, y_train = 5446\n",
      "Population Fold 0: Training data size = 3630, Validation data size = 1816\n"
     ]
    },
    {
     "name": "stderr",
     "output_type": "stream",
     "text": [
      "/home/st/sbhuvaji/anaconda3/lib/python3.9/site-packages/keras/src/engine/training.py:3000: UserWarning: You are saving your model as an HDF5 file via `model.save()`. This file format is considered legacy. We recommend using instead the native Keras format, e.g. `model.save('my_model.keras')`.\n",
      "  saving_api.save_model(\n"
     ]
    },
    {
     "name": "stdout",
     "output_type": "stream",
     "text": [
      "57/57 [==============================] - 0s 862us/step\n",
      "cm [[645 260]\n",
      " [208 703]]\n",
      "cm.ravel() [645 260 208 703]\n",
      "Before balancing count  1.0    30\n",
      "0.0    16\n",
      "Name: class, dtype: int64\n",
      "~~~~~~~ value_counts: ~~~~~~~\n",
      "SHOULD BE BALANCED NOW: 0.0    30\n",
      "1.0    30\n",
      "Name: class, dtype: int64\n",
      "Before balancing count  1.0    34\n",
      "0.0    12\n",
      "Name: class, dtype: int64\n",
      "~~~~~~~ value_counts: ~~~~~~~\n",
      "SHOULD BE BALANCED NOW: 1.0    34\n",
      "0.0    34\n",
      "Name: class, dtype: int64\n",
      "done RE-training 0 of 3. "
     ]
    },
    {
     "name": "stderr",
     "output_type": "stream",
     "text": [
      "/home/st/sbhuvaji/anaconda3/lib/python3.9/site-packages/keras/src/engine/training.py:3000: UserWarning: You are saving your model as an HDF5 file via `model.save()`. This file format is considered legacy. We recommend using instead the native Keras format, e.g. `model.save('my_model.keras')`.\n",
      "  saving_api.save_model(\n"
     ]
    },
    {
     "name": "stdout",
     "output_type": "stream",
     "text": [
      "2/2 [==============================] - 0s 2ms/step\n",
      "cm [[ 6  6]\n",
      " [13 21]]\n",
      "cm.ravel() [ 6  6 13 21]\n",
      "done testing 0 of 2.\n",
      "2/2 [==============================] - 0s 2ms/step\n",
      "cm [[ 6 10]\n",
      " [ 5 25]]\n",
      "cm.ravel() [ 6 10  5 25]\n",
      "done testing 1 of 2.\n"
     ]
    },
    {
     "name": "stderr",
     "output_type": "stream",
     "text": [
      "/home/st/sbhuvaji/1AllP/Individual Patient_All Models/TLandTL/Actual TL/WithCV/TL_Packages.py:582: UserWarning: FixedFormatter should only be used together with FixedLocator\n",
      "  axs[i].set_xticklabels([''] + ['0', '1'], fontsize='xx-large')\n",
      "/home/st/sbhuvaji/1AllP/Individual Patient_All Models/TLandTL/Actual TL/WithCV/TL_Packages.py:583: UserWarning: FixedFormatter should only be used together with FixedLocator\n",
      "  axs[i].set_yticklabels([''] + ['0', '1'], fontsize='xx-large')\n"
     ]
    },
    {
     "name": "stdout",
     "output_type": "stream",
     "text": [
      "Population Fold 1: Training data size = 3631, Validation data size = 1815\n"
     ]
    },
    {
     "name": "stderr",
     "output_type": "stream",
     "text": [
      "/home/st/sbhuvaji/anaconda3/lib/python3.9/site-packages/keras/src/engine/training.py:3000: UserWarning: You are saving your model as an HDF5 file via `model.save()`. This file format is considered legacy. We recommend using instead the native Keras format, e.g. `model.save('my_model.keras')`.\n",
      "  saving_api.save_model(\n"
     ]
    },
    {
     "name": "stdout",
     "output_type": "stream",
     "text": [
      "57/57 [==============================] - 0s 828us/step\n",
      "cm [[707 192]\n",
      " [275 641]]\n",
      "cm.ravel() [707 192 275 641]\n",
      "Before balancing count  1.0    36\n",
      "0.0    10\n",
      "Name: class, dtype: int64\n",
      "~~~~~~~ value_counts: ~~~~~~~\n",
      "SHOULD BE BALANCED NOW: 0.0    36\n",
      "1.0    36\n",
      "Name: class, dtype: int64\n",
      "Before balancing count  1.0    28\n",
      "0.0    18\n",
      "Name: class, dtype: int64\n",
      "~~~~~~~ value_counts: ~~~~~~~\n",
      "SHOULD BE BALANCED NOW: 0.0    28\n",
      "1.0    28\n",
      "Name: class, dtype: int64\n",
      "done RE-training 0 of 3. "
     ]
    },
    {
     "name": "stderr",
     "output_type": "stream",
     "text": [
      "/home/st/sbhuvaji/anaconda3/lib/python3.9/site-packages/keras/src/engine/training.py:3000: UserWarning: You are saving your model as an HDF5 file via `model.save()`. This file format is considered legacy. We recommend using instead the native Keras format, e.g. `model.save('my_model.keras')`.\n",
      "  saving_api.save_model(\n"
     ]
    },
    {
     "name": "stdout",
     "output_type": "stream",
     "text": [
      "2/2 [==============================] - 0s 2ms/step\n",
      "cm [[10  8]\n",
      " [ 5 23]]\n",
      "cm.ravel() [10  8  5 23]\n",
      "done testing 0 of 2.\n",
      "2/2 [==============================] - 0s 2ms/step\n",
      "cm [[ 5  5]\n",
      " [ 9 27]]\n",
      "cm.ravel() [ 5  5  9 27]\n",
      "done testing 1 of 2.\n"
     ]
    },
    {
     "name": "stderr",
     "output_type": "stream",
     "text": [
      "/home/st/sbhuvaji/1AllP/Individual Patient_All Models/TLandTL/Actual TL/WithCV/TL_Packages.py:582: UserWarning: FixedFormatter should only be used together with FixedLocator\n",
      "  axs[i].set_xticklabels([''] + ['0', '1'], fontsize='xx-large')\n",
      "/home/st/sbhuvaji/1AllP/Individual Patient_All Models/TLandTL/Actual TL/WithCV/TL_Packages.py:583: UserWarning: FixedFormatter should only be used together with FixedLocator\n",
      "  axs[i].set_yticklabels([''] + ['0', '1'], fontsize='xx-large')\n"
     ]
    },
    {
     "name": "stdout",
     "output_type": "stream",
     "text": [
      "Population Fold 2: Training data size = 3631, Validation data size = 1815\n"
     ]
    },
    {
     "name": "stderr",
     "output_type": "stream",
     "text": [
      "/home/st/sbhuvaji/anaconda3/lib/python3.9/site-packages/keras/src/engine/training.py:3000: UserWarning: You are saving your model as an HDF5 file via `model.save()`. This file format is considered legacy. We recommend using instead the native Keras format, e.g. `model.save('my_model.keras')`.\n",
      "  saving_api.save_model(\n"
     ]
    },
    {
     "name": "stdout",
     "output_type": "stream",
     "text": [
      "57/57 [==============================] - 0s 844us/step\n",
      "cm [[605 314]\n",
      " [181 715]]\n",
      "cm.ravel() [605 314 181 715]\n",
      "Before balancing count  1.0    35\n",
      "0.0    11\n",
      "Name: class, dtype: int64\n",
      "~~~~~~~ value_counts: ~~~~~~~\n",
      "SHOULD BE BALANCED NOW: 0.0    35\n",
      "1.0    35\n",
      "Name: class, dtype: int64\n",
      "Before balancing count  1.0    29\n",
      "0.0    17\n",
      "Name: class, dtype: int64\n",
      "~~~~~~~ value_counts: ~~~~~~~\n",
      "SHOULD BE BALANCED NOW: 0.0    29\n",
      "1.0    29\n",
      "Name: class, dtype: int64\n",
      "done RE-training 0 of 3. "
     ]
    },
    {
     "name": "stderr",
     "output_type": "stream",
     "text": [
      "/home/st/sbhuvaji/anaconda3/lib/python3.9/site-packages/keras/src/engine/training.py:3000: UserWarning: You are saving your model as an HDF5 file via `model.save()`. This file format is considered legacy. We recommend using instead the native Keras format, e.g. `model.save('my_model.keras')`.\n",
      "  saving_api.save_model(\n"
     ]
    },
    {
     "name": "stdout",
     "output_type": "stream",
     "text": [
      "2/2 [==============================] - 0s 2ms/step\n",
      "cm [[ 8  9]\n",
      " [ 9 20]]\n",
      "cm.ravel() [ 8  9  9 20]\n",
      "done testing 0 of 2.\n",
      "2/2 [==============================] - 0s 2ms/step\n",
      "cm [[ 6  5]\n",
      " [ 9 26]]\n",
      "cm.ravel() [ 6  5  9 26]\n",
      "done testing 1 of 2.\n"
     ]
    },
    {
     "name": "stderr",
     "output_type": "stream",
     "text": [
      "/home/st/sbhuvaji/1AllP/Individual Patient_All Models/TLandTL/Actual TL/WithCV/TL_Packages.py:582: UserWarning: FixedFormatter should only be used together with FixedLocator\n",
      "  axs[i].set_xticklabels([''] + ['0', '1'], fontsize='xx-large')\n",
      "/home/st/sbhuvaji/1AllP/Individual Patient_All Models/TLandTL/Actual TL/WithCV/TL_Packages.py:583: UserWarning: FixedFormatter should only be used together with FixedLocator\n",
      "  axs[i].set_yticklabels([''] + ['0', '1'], fontsize='xx-large')\n",
      " 35%|███▍      | 9/26 [26:22<49:40, 175.31s/it]"
     ]
    },
    {
     "name": "stdout",
     "output_type": "stream",
     "text": [
      "Runtime: 21 o' clock and 14 minutes\n",
      "~~~~~~~~~~~ 100 ~~~~~~~~~~~~~~~~~~~ 300 ~~~~~~~~~~~~~~~~~~~ SB-037 ~~~~~~~~~~~~~~~~~~~\n",
      "Before balancing count  1.0    2634\n",
      "0.0    1025\n",
      "Name: class, dtype: int64\n",
      "~~~~~~~ value_counts: ~~~~~~~\n",
      "SHOULD BE BALANCED NOW: 1.0    2634\n",
      "0.0    2634\n",
      "Name: class, dtype: int64\n",
      "X_train = 5268, y_train = 5268\n",
      "Population Fold 0: Training data size = 3512, Validation data size = 1756\n"
     ]
    },
    {
     "name": "stderr",
     "output_type": "stream",
     "text": [
      "/home/st/sbhuvaji/anaconda3/lib/python3.9/site-packages/keras/src/engine/training.py:3000: UserWarning: You are saving your model as an HDF5 file via `model.save()`. This file format is considered legacy. We recommend using instead the native Keras format, e.g. `model.save('my_model.keras')`.\n",
      "  saving_api.save_model(\n"
     ]
    },
    {
     "name": "stdout",
     "output_type": "stream",
     "text": [
      "55/55 [==============================] - 0s 829us/step\n",
      "cm [[680 204]\n",
      " [265 607]]\n",
      "cm.ravel() [680 204 265 607]\n",
      "Before balancing count  1.0    70\n",
      "0.0    35\n",
      "Name: class, dtype: int64\n",
      "~~~~~~~ value_counts: ~~~~~~~\n",
      "SHOULD BE BALANCED NOW: 1.0    70\n",
      "0.0    70\n",
      "Name: class, dtype: int64\n",
      "Before balancing count  1.0    77\n",
      "0.0    28\n",
      "Name: class, dtype: int64\n",
      "~~~~~~~ value_counts: ~~~~~~~\n",
      "SHOULD BE BALANCED NOW: 0.0    77\n",
      "1.0    77\n",
      "Name: class, dtype: int64\n",
      "done RE-training 0 of 3. "
     ]
    },
    {
     "name": "stderr",
     "output_type": "stream",
     "text": [
      "/home/st/sbhuvaji/anaconda3/lib/python3.9/site-packages/keras/src/engine/training.py:3000: UserWarning: You are saving your model as an HDF5 file via `model.save()`. This file format is considered legacy. We recommend using instead the native Keras format, e.g. `model.save('my_model.keras')`.\n",
      "  saving_api.save_model(\n"
     ]
    },
    {
     "name": "stdout",
     "output_type": "stream",
     "text": [
      "4/4 [==============================] - 0s 1ms/step\n",
      "cm [[10 18]\n",
      " [39 38]]\n",
      "cm.ravel() [10 18 39 38]\n",
      "done testing 0 of 2.\n",
      "4/4 [==============================] - 0s 1ms/step\n",
      "cm [[11 24]\n",
      " [30 40]]\n",
      "cm.ravel() [11 24 30 40]\n",
      "done testing 1 of 2.\n"
     ]
    },
    {
     "name": "stderr",
     "output_type": "stream",
     "text": [
      "/home/st/sbhuvaji/1AllP/Individual Patient_All Models/TLandTL/Actual TL/WithCV/TL_Packages.py:582: UserWarning: FixedFormatter should only be used together with FixedLocator\n",
      "  axs[i].set_xticklabels([''] + ['0', '1'], fontsize='xx-large')\n",
      "/home/st/sbhuvaji/1AllP/Individual Patient_All Models/TLandTL/Actual TL/WithCV/TL_Packages.py:583: UserWarning: FixedFormatter should only be used together with FixedLocator\n",
      "  axs[i].set_yticklabels([''] + ['0', '1'], fontsize='xx-large')\n"
     ]
    },
    {
     "name": "stdout",
     "output_type": "stream",
     "text": [
      "Population Fold 1: Training data size = 3512, Validation data size = 1756\n"
     ]
    },
    {
     "name": "stderr",
     "output_type": "stream",
     "text": [
      "/home/st/sbhuvaji/anaconda3/lib/python3.9/site-packages/keras/src/engine/training.py:3000: UserWarning: You are saving your model as an HDF5 file via `model.save()`. This file format is considered legacy. We recommend using instead the native Keras format, e.g. `model.save('my_model.keras')`.\n",
      "  saving_api.save_model(\n"
     ]
    },
    {
     "name": "stdout",
     "output_type": "stream",
     "text": [
      "55/55 [==============================] - 0s 828us/step\n",
      "cm [[670 179]\n",
      " [298 609]]\n",
      "cm.ravel() [670 179 298 609]\n",
      "Before balancing count  1.0    71\n",
      "0.0    34\n",
      "Name: class, dtype: int64\n",
      "~~~~~~~ value_counts: ~~~~~~~\n",
      "SHOULD BE BALANCED NOW: 1.0    71\n",
      "0.0    71\n",
      "Name: class, dtype: int64\n",
      "Before balancing count  1.0    76\n",
      "0.0    29\n",
      "Name: class, dtype: int64\n",
      "~~~~~~~ value_counts: ~~~~~~~\n",
      "SHOULD BE BALANCED NOW: 0.0    76\n",
      "1.0    76\n",
      "Name: class, dtype: int64\n",
      "done RE-training 0 of 3. "
     ]
    },
    {
     "name": "stderr",
     "output_type": "stream",
     "text": [
      "/home/st/sbhuvaji/anaconda3/lib/python3.9/site-packages/keras/src/engine/training.py:3000: UserWarning: You are saving your model as an HDF5 file via `model.save()`. This file format is considered legacy. We recommend using instead the native Keras format, e.g. `model.save('my_model.keras')`.\n",
      "  saving_api.save_model(\n"
     ]
    },
    {
     "name": "stdout",
     "output_type": "stream",
     "text": [
      "4/4 [==============================] - 0s 1ms/step\n",
      "cm [[14 15]\n",
      " [31 45]]\n",
      "cm.ravel() [14 15 31 45]\n",
      "done testing 0 of 2.\n",
      "4/4 [==============================] - 0s 1ms/step\n",
      "cm [[12 22]\n",
      " [15 56]]\n",
      "cm.ravel() [12 22 15 56]\n",
      "done testing 1 of 2.\n"
     ]
    },
    {
     "name": "stderr",
     "output_type": "stream",
     "text": [
      "/home/st/sbhuvaji/1AllP/Individual Patient_All Models/TLandTL/Actual TL/WithCV/TL_Packages.py:582: UserWarning: FixedFormatter should only be used together with FixedLocator\n",
      "  axs[i].set_xticklabels([''] + ['0', '1'], fontsize='xx-large')\n",
      "/home/st/sbhuvaji/1AllP/Individual Patient_All Models/TLandTL/Actual TL/WithCV/TL_Packages.py:583: UserWarning: FixedFormatter should only be used together with FixedLocator\n",
      "  axs[i].set_yticklabels([''] + ['0', '1'], fontsize='xx-large')\n"
     ]
    },
    {
     "name": "stdout",
     "output_type": "stream",
     "text": [
      "Population Fold 2: Training data size = 3512, Validation data size = 1756\n"
     ]
    },
    {
     "name": "stderr",
     "output_type": "stream",
     "text": [
      "/home/st/sbhuvaji/anaconda3/lib/python3.9/site-packages/keras/src/engine/training.py:3000: UserWarning: You are saving your model as an HDF5 file via `model.save()`. This file format is considered legacy. We recommend using instead the native Keras format, e.g. `model.save('my_model.keras')`.\n",
      "  saving_api.save_model(\n"
     ]
    },
    {
     "name": "stdout",
     "output_type": "stream",
     "text": [
      "55/55 [==============================] - 0s 892us/step\n",
      "cm [[681 220]\n",
      " [234 621]]\n",
      "cm.ravel() [681 220 234 621]\n",
      "Before balancing count  1.0    69\n",
      "0.0    36\n",
      "Name: class, dtype: int64\n",
      "~~~~~~~ value_counts: ~~~~~~~\n",
      "SHOULD BE BALANCED NOW: 1.0    69\n",
      "0.0    69\n",
      "Name: class, dtype: int64\n",
      "Before balancing count  1.0    78\n",
      "0.0    27\n",
      "Name: class, dtype: int64\n",
      "~~~~~~~ value_counts: ~~~~~~~\n",
      "SHOULD BE BALANCED NOW: 1.0    78\n",
      "0.0    78\n",
      "Name: class, dtype: int64\n",
      "done RE-training 0 of 3. "
     ]
    },
    {
     "name": "stderr",
     "output_type": "stream",
     "text": [
      "/home/st/sbhuvaji/anaconda3/lib/python3.9/site-packages/keras/src/engine/training.py:3000: UserWarning: You are saving your model as an HDF5 file via `model.save()`. This file format is considered legacy. We recommend using instead the native Keras format, e.g. `model.save('my_model.keras')`.\n",
      "  saving_api.save_model(\n"
     ]
    },
    {
     "name": "stdout",
     "output_type": "stream",
     "text": [
      "4/4 [==============================] - 0s 1ms/step\n",
      "cm [[10 17]\n",
      " [39 39]]\n",
      "cm.ravel() [10 17 39 39]\n",
      "done testing 0 of 2.\n",
      "4/4 [==============================] - 0s 1ms/step\n",
      "cm [[20 16]\n",
      " [40 29]]\n",
      "cm.ravel() [20 16 40 29]\n",
      "done testing 1 of 2.\n"
     ]
    },
    {
     "name": "stderr",
     "output_type": "stream",
     "text": [
      "/home/st/sbhuvaji/1AllP/Individual Patient_All Models/TLandTL/Actual TL/WithCV/TL_Packages.py:582: UserWarning: FixedFormatter should only be used together with FixedLocator\n",
      "  axs[i].set_xticklabels([''] + ['0', '1'], fontsize='xx-large')\n",
      "/home/st/sbhuvaji/1AllP/Individual Patient_All Models/TLandTL/Actual TL/WithCV/TL_Packages.py:583: UserWarning: FixedFormatter should only be used together with FixedLocator\n",
      "  axs[i].set_yticklabels([''] + ['0', '1'], fontsize='xx-large')\n",
      " 42%|████▏     | 11/26 [29:21<33:39, 134.62s/it]"
     ]
    },
    {
     "name": "stdout",
     "output_type": "stream",
     "text": [
      "Runtime: 21 o' clock and 17 minutes\n",
      "~~~~~~~~~~~ 100 ~~~~~~~~~~~~~~~~~~~ 300 ~~~~~~~~~~~~~~~~~~~ SB-043 ~~~~~~~~~~~~~~~~~~~\n",
      "Before balancing count  1.0    2651\n",
      "0.0    1026\n",
      "Name: class, dtype: int64\n",
      "~~~~~~~ value_counts: ~~~~~~~\n",
      "SHOULD BE BALANCED NOW: 1.0    2651\n",
      "0.0    2651\n",
      "Name: class, dtype: int64\n",
      "X_train = 5302, y_train = 5302\n",
      "Population Fold 0: Training data size = 3534, Validation data size = 1768\n"
     ]
    },
    {
     "name": "stderr",
     "output_type": "stream",
     "text": [
      "/home/st/sbhuvaji/anaconda3/lib/python3.9/site-packages/keras/src/engine/training.py:3000: UserWarning: You are saving your model as an HDF5 file via `model.save()`. This file format is considered legacy. We recommend using instead the native Keras format, e.g. `model.save('my_model.keras')`.\n",
      "  saving_api.save_model(\n"
     ]
    },
    {
     "name": "stdout",
     "output_type": "stream",
     "text": [
      "56/56 [==============================] - 0s 856us/step\n",
      "cm [[699 181]\n",
      " [289 599]]\n",
      "cm.ravel() [699 181 289 599]\n",
      "Before balancing count  1.0    71\n",
      "0.0    24\n",
      "Name: class, dtype: int64\n",
      "~~~~~~~ value_counts: ~~~~~~~\n",
      "SHOULD BE BALANCED NOW: 1.0    71\n",
      "0.0    71\n",
      "Name: class, dtype: int64\n",
      "Before balancing count  1.0    68\n",
      "0.0    28\n",
      "Name: class, dtype: int64\n",
      "~~~~~~~ value_counts: ~~~~~~~\n",
      "SHOULD BE BALANCED NOW: 1.0    68\n",
      "0.0    68\n",
      "Name: class, dtype: int64\n",
      "done RE-training 0 of 3. "
     ]
    },
    {
     "name": "stderr",
     "output_type": "stream",
     "text": [
      "/home/st/sbhuvaji/anaconda3/lib/python3.9/site-packages/keras/src/engine/training.py:3000: UserWarning: You are saving your model as an HDF5 file via `model.save()`. This file format is considered legacy. We recommend using instead the native Keras format, e.g. `model.save('my_model.keras')`.\n",
      "  saving_api.save_model(\n"
     ]
    },
    {
     "name": "stdout",
     "output_type": "stream",
     "text": [
      "3/3 [==============================] - 0s 1ms/step\n",
      "cm [[16 12]\n",
      " [17 51]]\n",
      "cm.ravel() [16 12 17 51]\n",
      "done testing 0 of 2.\n",
      "3/3 [==============================] - 0s 1ms/step\n",
      "cm [[20  4]\n",
      " [25 46]]\n",
      "cm.ravel() [20  4 25 46]\n",
      "done testing 1 of 2.\n"
     ]
    },
    {
     "name": "stderr",
     "output_type": "stream",
     "text": [
      "/home/st/sbhuvaji/1AllP/Individual Patient_All Models/TLandTL/Actual TL/WithCV/TL_Packages.py:582: UserWarning: FixedFormatter should only be used together with FixedLocator\n",
      "  axs[i].set_xticklabels([''] + ['0', '1'], fontsize='xx-large')\n",
      "/home/st/sbhuvaji/1AllP/Individual Patient_All Models/TLandTL/Actual TL/WithCV/TL_Packages.py:583: UserWarning: FixedFormatter should only be used together with FixedLocator\n",
      "  axs[i].set_yticklabels([''] + ['0', '1'], fontsize='xx-large')\n"
     ]
    },
    {
     "name": "stdout",
     "output_type": "stream",
     "text": [
      "Population Fold 1: Training data size = 3535, Validation data size = 1767\n"
     ]
    },
    {
     "name": "stderr",
     "output_type": "stream",
     "text": [
      "/home/st/sbhuvaji/anaconda3/lib/python3.9/site-packages/keras/src/engine/training.py:3000: UserWarning: You are saving your model as an HDF5 file via `model.save()`. This file format is considered legacy. We recommend using instead the native Keras format, e.g. `model.save('my_model.keras')`.\n",
      "  saving_api.save_model(\n"
     ]
    },
    {
     "name": "stdout",
     "output_type": "stream",
     "text": [
      "56/56 [==============================] - 0s 852us/step\n",
      "cm [[648 233]\n",
      " [235 651]]\n",
      "cm.ravel() [648 233 235 651]\n",
      "Before balancing count  1.0    67\n",
      "0.0    28\n",
      "Name: class, dtype: int64\n",
      "~~~~~~~ value_counts: ~~~~~~~\n",
      "SHOULD BE BALANCED NOW: 1.0    67\n",
      "0.0    67\n",
      "Name: class, dtype: int64\n",
      "Before balancing count  1.0    72\n",
      "0.0    24\n",
      "Name: class, dtype: int64\n",
      "~~~~~~~ value_counts: ~~~~~~~\n",
      "SHOULD BE BALANCED NOW: 1.0    72\n",
      "0.0    72\n",
      "Name: class, dtype: int64\n",
      "done RE-training 0 of 3. "
     ]
    },
    {
     "name": "stderr",
     "output_type": "stream",
     "text": [
      "/home/st/sbhuvaji/anaconda3/lib/python3.9/site-packages/keras/src/engine/training.py:3000: UserWarning: You are saving your model as an HDF5 file via `model.save()`. This file format is considered legacy. We recommend using instead the native Keras format, e.g. `model.save('my_model.keras')`.\n",
      "  saving_api.save_model(\n"
     ]
    },
    {
     "name": "stdout",
     "output_type": "stream",
     "text": [
      "3/3 [==============================] - 0s 1ms/step\n",
      "cm [[18  6]\n",
      " [26 46]]\n",
      "cm.ravel() [18  6 26 46]\n",
      "done testing 0 of 2.\n",
      "3/3 [==============================] - 0s 1ms/step\n",
      "cm [[16 12]\n",
      " [18 49]]\n",
      "cm.ravel() [16 12 18 49]\n",
      "done testing 1 of 2.\n"
     ]
    },
    {
     "name": "stderr",
     "output_type": "stream",
     "text": [
      "/home/st/sbhuvaji/1AllP/Individual Patient_All Models/TLandTL/Actual TL/WithCV/TL_Packages.py:582: UserWarning: FixedFormatter should only be used together with FixedLocator\n",
      "  axs[i].set_xticklabels([''] + ['0', '1'], fontsize='xx-large')\n",
      "/home/st/sbhuvaji/1AllP/Individual Patient_All Models/TLandTL/Actual TL/WithCV/TL_Packages.py:583: UserWarning: FixedFormatter should only be used together with FixedLocator\n",
      "  axs[i].set_yticklabels([''] + ['0', '1'], fontsize='xx-large')\n"
     ]
    },
    {
     "name": "stdout",
     "output_type": "stream",
     "text": [
      "Population Fold 2: Training data size = 3535, Validation data size = 1767\n"
     ]
    },
    {
     "name": "stderr",
     "output_type": "stream",
     "text": [
      "/home/st/sbhuvaji/anaconda3/lib/python3.9/site-packages/keras/src/engine/training.py:3000: UserWarning: You are saving your model as an HDF5 file via `model.save()`. This file format is considered legacy. We recommend using instead the native Keras format, e.g. `model.save('my_model.keras')`.\n",
      "  saving_api.save_model(\n"
     ]
    },
    {
     "name": "stdout",
     "output_type": "stream",
     "text": [
      "56/56 [==============================] - 0s 823us/step\n",
      "cm [[718 172]\n",
      " [301 576]]\n",
      "cm.ravel() [718 172 301 576]\n",
      "Before balancing count  1.0    71\n",
      "0.0    24\n",
      "Name: class, dtype: int64\n",
      "~~~~~~~ value_counts: ~~~~~~~\n",
      "SHOULD BE BALANCED NOW: 1.0    71\n",
      "0.0    71\n",
      "Name: class, dtype: int64\n",
      "Before balancing count  1.0    68\n",
      "0.0    28\n",
      "Name: class, dtype: int64\n",
      "~~~~~~~ value_counts: ~~~~~~~\n",
      "SHOULD BE BALANCED NOW: 1.0    68\n",
      "0.0    68\n",
      "Name: class, dtype: int64\n",
      "done RE-training 0 of 3. "
     ]
    },
    {
     "name": "stderr",
     "output_type": "stream",
     "text": [
      "/home/st/sbhuvaji/anaconda3/lib/python3.9/site-packages/keras/src/engine/training.py:3000: UserWarning: You are saving your model as an HDF5 file via `model.save()`. This file format is considered legacy. We recommend using instead the native Keras format, e.g. `model.save('my_model.keras')`.\n",
      "  saving_api.save_model(\n"
     ]
    },
    {
     "name": "stdout",
     "output_type": "stream",
     "text": [
      "3/3 [==============================] - 0s 2ms/step\n",
      "cm [[19  9]\n",
      " [26 42]]\n",
      "cm.ravel() [19  9 26 42]\n",
      "done testing 0 of 2.\n",
      "3/3 [==============================] - 0s 1ms/step\n",
      "cm [[17  7]\n",
      " [17 54]]\n",
      "cm.ravel() [17  7 17 54]\n",
      "done testing 1 of 2.\n"
     ]
    },
    {
     "name": "stderr",
     "output_type": "stream",
     "text": [
      "/home/st/sbhuvaji/1AllP/Individual Patient_All Models/TLandTL/Actual TL/WithCV/TL_Packages.py:582: UserWarning: FixedFormatter should only be used together with FixedLocator\n",
      "  axs[i].set_xticklabels([''] + ['0', '1'], fontsize='xx-large')\n",
      "/home/st/sbhuvaji/1AllP/Individual Patient_All Models/TLandTL/Actual TL/WithCV/TL_Packages.py:583: UserWarning: FixedFormatter should only be used together with FixedLocator\n",
      "  axs[i].set_yticklabels([''] + ['0', '1'], fontsize='xx-large')\n",
      " 46%|████▌     | 12/26 [32:18<33:54, 145.32s/it]"
     ]
    },
    {
     "name": "stdout",
     "output_type": "stream",
     "text": [
      "Runtime: 21 o' clock and 20 minutes\n",
      "~~~~~~~~~~~ 100 ~~~~~~~~~~~~~~~~~~~ 300 ~~~~~~~~~~~~~~~~~~~ SB-056 ~~~~~~~~~~~~~~~~~~~\n",
      "Before balancing count  1.0    2624\n",
      "0.0    1053\n",
      "Name: class, dtype: int64\n",
      "~~~~~~~ value_counts: ~~~~~~~\n",
      "SHOULD BE BALANCED NOW: 0.0    2624\n",
      "1.0    2624\n",
      "Name: class, dtype: int64\n",
      "X_train = 5248, y_train = 5248\n",
      "Population Fold 0: Training data size = 3498, Validation data size = 1750\n"
     ]
    },
    {
     "name": "stderr",
     "output_type": "stream",
     "text": [
      "/home/st/sbhuvaji/anaconda3/lib/python3.9/site-packages/keras/src/engine/training.py:3000: UserWarning: You are saving your model as an HDF5 file via `model.save()`. This file format is considered legacy. We recommend using instead the native Keras format, e.g. `model.save('my_model.keras')`.\n",
      "  saving_api.save_model(\n"
     ]
    },
    {
     "name": "stdout",
     "output_type": "stream",
     "text": [
      "55/55 [==============================] - 0s 868us/step\n",
      "cm [[597 287]\n",
      " [187 679]]\n",
      "cm.ravel() [597 287 187 679]\n",
      "Before balancing count  1.0    74\n",
      "0.0    21\n",
      "Name: class, dtype: int64\n",
      "~~~~~~~ value_counts: ~~~~~~~\n",
      "SHOULD BE BALANCED NOW: 1.0    74\n",
      "0.0    74\n",
      "Name: class, dtype: int64\n",
      "Before balancing count  1.0    76\n",
      "0.0    20\n",
      "Name: class, dtype: int64\n",
      "~~~~~~~ value_counts: ~~~~~~~\n",
      "SHOULD BE BALANCED NOW: 0.0    76\n",
      "1.0    76\n",
      "Name: class, dtype: int64\n",
      "done RE-training 0 of 3. "
     ]
    },
    {
     "name": "stderr",
     "output_type": "stream",
     "text": [
      "/home/st/sbhuvaji/anaconda3/lib/python3.9/site-packages/keras/src/engine/training.py:3000: UserWarning: You are saving your model as an HDF5 file via `model.save()`. This file format is considered legacy. We recommend using instead the native Keras format, e.g. `model.save('my_model.keras')`.\n",
      "  saving_api.save_model(\n"
     ]
    },
    {
     "name": "stdout",
     "output_type": "stream",
     "text": [
      "3/3 [==============================] - 0s 1ms/step\n",
      "cm [[16  4]\n",
      " [25 51]]\n",
      "cm.ravel() [16  4 25 51]\n",
      "done testing 0 of 2.\n",
      "3/3 [==============================] - 0s 1ms/step\n",
      "cm [[11 10]\n",
      " [15 59]]\n",
      "cm.ravel() [11 10 15 59]\n",
      "done testing 1 of 2.\n"
     ]
    },
    {
     "name": "stderr",
     "output_type": "stream",
     "text": [
      "/home/st/sbhuvaji/1AllP/Individual Patient_All Models/TLandTL/Actual TL/WithCV/TL_Packages.py:582: UserWarning: FixedFormatter should only be used together with FixedLocator\n",
      "  axs[i].set_xticklabels([''] + ['0', '1'], fontsize='xx-large')\n",
      "/home/st/sbhuvaji/1AllP/Individual Patient_All Models/TLandTL/Actual TL/WithCV/TL_Packages.py:583: UserWarning: FixedFormatter should only be used together with FixedLocator\n",
      "  axs[i].set_yticklabels([''] + ['0', '1'], fontsize='xx-large')\n"
     ]
    },
    {
     "name": "stdout",
     "output_type": "stream",
     "text": [
      "Population Fold 1: Training data size = 3499, Validation data size = 1749\n"
     ]
    },
    {
     "name": "stderr",
     "output_type": "stream",
     "text": [
      "/home/st/sbhuvaji/anaconda3/lib/python3.9/site-packages/keras/src/engine/training.py:3000: UserWarning: You are saving your model as an HDF5 file via `model.save()`. This file format is considered legacy. We recommend using instead the native Keras format, e.g. `model.save('my_model.keras')`.\n",
      "  saving_api.save_model(\n"
     ]
    },
    {
     "name": "stdout",
     "output_type": "stream",
     "text": [
      "55/55 [==============================] - 0s 806us/step\n",
      "cm [[666 206]\n",
      " [250 627]]\n",
      "cm.ravel() [666 206 250 627]\n",
      "Before balancing count  1.0    70\n",
      "0.0    25\n",
      "Name: class, dtype: int64\n",
      "~~~~~~~ value_counts: ~~~~~~~\n",
      "SHOULD BE BALANCED NOW: 1.0    70\n",
      "0.0    70\n",
      "Name: class, dtype: int64\n",
      "Before balancing count  1.0    80\n",
      "0.0    16\n",
      "Name: class, dtype: int64\n",
      "~~~~~~~ value_counts: ~~~~~~~\n",
      "SHOULD BE BALANCED NOW: 1.0    80\n",
      "0.0    80\n",
      "Name: class, dtype: int64\n",
      "done RE-training 0 of 3. "
     ]
    },
    {
     "name": "stderr",
     "output_type": "stream",
     "text": [
      "/home/st/sbhuvaji/anaconda3/lib/python3.9/site-packages/keras/src/engine/training.py:3000: UserWarning: You are saving your model as an HDF5 file via `model.save()`. This file format is considered legacy. We recommend using instead the native Keras format, e.g. `model.save('my_model.keras')`.\n",
      "  saving_api.save_model(\n"
     ]
    },
    {
     "name": "stdout",
     "output_type": "stream",
     "text": [
      "3/3 [==============================] - 0s 1ms/step\n",
      "cm [[14  2]\n",
      " [14 66]]\n",
      "cm.ravel() [14  2 14 66]\n",
      "done testing 0 of 2.\n",
      "3/3 [==============================] - 0s 1ms/step\n",
      "cm [[13 12]\n",
      " [12 58]]\n",
      "cm.ravel() [13 12 12 58]\n",
      "done testing 1 of 2.\n"
     ]
    },
    {
     "name": "stderr",
     "output_type": "stream",
     "text": [
      "/home/st/sbhuvaji/1AllP/Individual Patient_All Models/TLandTL/Actual TL/WithCV/TL_Packages.py:582: UserWarning: FixedFormatter should only be used together with FixedLocator\n",
      "  axs[i].set_xticklabels([''] + ['0', '1'], fontsize='xx-large')\n",
      "/home/st/sbhuvaji/1AllP/Individual Patient_All Models/TLandTL/Actual TL/WithCV/TL_Packages.py:583: UserWarning: FixedFormatter should only be used together with FixedLocator\n",
      "  axs[i].set_yticklabels([''] + ['0', '1'], fontsize='xx-large')\n"
     ]
    },
    {
     "name": "stdout",
     "output_type": "stream",
     "text": [
      "Population Fold 2: Training data size = 3499, Validation data size = 1749\n"
     ]
    },
    {
     "name": "stderr",
     "output_type": "stream",
     "text": [
      "/home/st/sbhuvaji/anaconda3/lib/python3.9/site-packages/keras/src/engine/training.py:3000: UserWarning: You are saving your model as an HDF5 file via `model.save()`. This file format is considered legacy. We recommend using instead the native Keras format, e.g. `model.save('my_model.keras')`.\n",
      "  saving_api.save_model(\n"
     ]
    },
    {
     "name": "stdout",
     "output_type": "stream",
     "text": [
      "55/55 [==============================] - 0s 966us/step\n",
      "cm [[626 242]\n",
      " [211 670]]\n",
      "cm.ravel() [626 242 211 670]\n",
      "Before balancing count  1.0    77\n",
      "0.0    18\n",
      "Name: class, dtype: int64\n",
      "~~~~~~~ value_counts: ~~~~~~~\n",
      "SHOULD BE BALANCED NOW: 0.0    77\n",
      "1.0    77\n",
      "Name: class, dtype: int64\n",
      "Before balancing count  1.0    73\n",
      "0.0    23\n",
      "Name: class, dtype: int64\n",
      "~~~~~~~ value_counts: ~~~~~~~\n",
      "SHOULD BE BALANCED NOW: 0.0    73\n",
      "1.0    73\n",
      "Name: class, dtype: int64\n",
      "done RE-training 0 of 3. "
     ]
    },
    {
     "name": "stderr",
     "output_type": "stream",
     "text": [
      "/home/st/sbhuvaji/anaconda3/lib/python3.9/site-packages/keras/src/engine/training.py:3000: UserWarning: You are saving your model as an HDF5 file via `model.save()`. This file format is considered legacy. We recommend using instead the native Keras format, e.g. `model.save('my_model.keras')`.\n",
      "  saving_api.save_model(\n"
     ]
    },
    {
     "name": "stdout",
     "output_type": "stream",
     "text": [
      "3/3 [==============================] - 0s 1ms/step\n",
      "cm [[13 10]\n",
      " [18 55]]\n",
      "cm.ravel() [13 10 18 55]\n",
      "done testing 0 of 2.\n",
      "3/3 [==============================] - 0s 1ms/step\n",
      "cm [[13  5]\n",
      " [22 55]]\n",
      "cm.ravel() [13  5 22 55]\n",
      "done testing 1 of 2.\n"
     ]
    },
    {
     "name": "stderr",
     "output_type": "stream",
     "text": [
      "/home/st/sbhuvaji/1AllP/Individual Patient_All Models/TLandTL/Actual TL/WithCV/TL_Packages.py:582: UserWarning: FixedFormatter should only be used together with FixedLocator\n",
      "  axs[i].set_xticklabels([''] + ['0', '1'], fontsize='xx-large')\n",
      "/home/st/sbhuvaji/1AllP/Individual Patient_All Models/TLandTL/Actual TL/WithCV/TL_Packages.py:583: UserWarning: FixedFormatter should only be used together with FixedLocator\n",
      "  axs[i].set_yticklabels([''] + ['0', '1'], fontsize='xx-large')\n",
      " 50%|█████     | 13/26 [35:14<33:14, 153.46s/it]"
     ]
    },
    {
     "name": "stdout",
     "output_type": "stream",
     "text": [
      "Runtime: 21 o' clock and 23 minutes\n",
      "~~~~~~~~~~~ 100 ~~~~~~~~~~~~~~~~~~~ 300 ~~~~~~~~~~~~~~~~~~~ SB-059 ~~~~~~~~~~~~~~~~~~~\n",
      "Before balancing count  1.0    2628\n",
      "0.0    1038\n",
      "Name: class, dtype: int64\n",
      "~~~~~~~ value_counts: ~~~~~~~\n",
      "SHOULD BE BALANCED NOW: 1.0    2628\n",
      "0.0    2628\n",
      "Name: class, dtype: int64\n",
      "X_train = 5256, y_train = 5256\n",
      "Population Fold 0: Training data size = 3504, Validation data size = 1752\n"
     ]
    },
    {
     "name": "stderr",
     "output_type": "stream",
     "text": [
      "/home/st/sbhuvaji/anaconda3/lib/python3.9/site-packages/keras/src/engine/training.py:3000: UserWarning: You are saving your model as an HDF5 file via `model.save()`. This file format is considered legacy. We recommend using instead the native Keras format, e.g. `model.save('my_model.keras')`.\n",
      "  saving_api.save_model(\n"
     ]
    },
    {
     "name": "stdout",
     "output_type": "stream",
     "text": [
      "55/55 [==============================] - 0s 836us/step\n",
      "cm [[692 194]\n",
      " [228 638]]\n",
      "cm.ravel() [692 194 228 638]\n",
      "Before balancing count  1.0    72\n",
      "0.0    29\n",
      "Name: class, dtype: int64\n",
      "~~~~~~~ value_counts: ~~~~~~~\n",
      "SHOULD BE BALANCED NOW: 1.0    72\n",
      "0.0    72\n",
      "Name: class, dtype: int64\n",
      "Before balancing count  1.0    80\n",
      "0.0    22\n",
      "Name: class, dtype: int64\n",
      "~~~~~~~ value_counts: ~~~~~~~\n",
      "SHOULD BE BALANCED NOW: 1.0    80\n",
      "0.0    80\n",
      "Name: class, dtype: int64\n",
      "done RE-training 0 of 3. "
     ]
    },
    {
     "name": "stderr",
     "output_type": "stream",
     "text": [
      "/home/st/sbhuvaji/anaconda3/lib/python3.9/site-packages/keras/src/engine/training.py:3000: UserWarning: You are saving your model as an HDF5 file via `model.save()`. This file format is considered legacy. We recommend using instead the native Keras format, e.g. `model.save('my_model.keras')`.\n",
      "  saving_api.save_model(\n"
     ]
    },
    {
     "name": "stdout",
     "output_type": "stream",
     "text": [
      "4/4 [==============================] - 0s 1ms/step\n",
      "cm [[11 11]\n",
      " [30 50]]\n",
      "cm.ravel() [11 11 30 50]\n",
      "done testing 0 of 2.\n",
      "4/4 [==============================] - 0s 1ms/step\n",
      "cm [[17 12]\n",
      " [26 46]]\n",
      "cm.ravel() [17 12 26 46]\n",
      "done testing 1 of 2.\n"
     ]
    },
    {
     "name": "stderr",
     "output_type": "stream",
     "text": [
      "/home/st/sbhuvaji/1AllP/Individual Patient_All Models/TLandTL/Actual TL/WithCV/TL_Packages.py:582: UserWarning: FixedFormatter should only be used together with FixedLocator\n",
      "  axs[i].set_xticklabels([''] + ['0', '1'], fontsize='xx-large')\n",
      "/home/st/sbhuvaji/1AllP/Individual Patient_All Models/TLandTL/Actual TL/WithCV/TL_Packages.py:583: UserWarning: FixedFormatter should only be used together with FixedLocator\n",
      "  axs[i].set_yticklabels([''] + ['0', '1'], fontsize='xx-large')\n"
     ]
    },
    {
     "name": "stdout",
     "output_type": "stream",
     "text": [
      "Population Fold 1: Training data size = 3504, Validation data size = 1752\n"
     ]
    },
    {
     "name": "stderr",
     "output_type": "stream",
     "text": [
      "/home/st/sbhuvaji/anaconda3/lib/python3.9/site-packages/keras/src/engine/training.py:3000: UserWarning: You are saving your model as an HDF5 file via `model.save()`. This file format is considered legacy. We recommend using instead the native Keras format, e.g. `model.save('my_model.keras')`.\n",
      "  saving_api.save_model(\n"
     ]
    },
    {
     "name": "stdout",
     "output_type": "stream",
     "text": [
      "55/55 [==============================] - 0s 764us/step\n",
      "cm [[642 212]\n",
      " [284 614]]\n",
      "cm.ravel() [642 212 284 614]\n",
      "Before balancing count  1.0    77\n",
      "0.0    24\n",
      "Name: class, dtype: int64\n",
      "~~~~~~~ value_counts: ~~~~~~~\n",
      "SHOULD BE BALANCED NOW: 0.0    77\n",
      "1.0    77\n",
      "Name: class, dtype: int64\n",
      "Before balancing count  1.0    75\n",
      "0.0    27\n",
      "Name: class, dtype: int64\n",
      "~~~~~~~ value_counts: ~~~~~~~\n",
      "SHOULD BE BALANCED NOW: 0.0    75\n",
      "1.0    75\n",
      "Name: class, dtype: int64\n",
      "done RE-training 0 of 3. "
     ]
    },
    {
     "name": "stderr",
     "output_type": "stream",
     "text": [
      "/home/st/sbhuvaji/anaconda3/lib/python3.9/site-packages/keras/src/engine/training.py:3000: UserWarning: You are saving your model as an HDF5 file via `model.save()`. This file format is considered legacy. We recommend using instead the native Keras format, e.g. `model.save('my_model.keras')`.\n",
      "  saving_api.save_model(\n"
     ]
    },
    {
     "name": "stdout",
     "output_type": "stream",
     "text": [
      "4/4 [==============================] - 0s 1ms/step\n",
      "cm [[13 14]\n",
      " [33 42]]\n",
      "cm.ravel() [13 14 33 42]\n",
      "done testing 0 of 2.\n",
      "4/4 [==============================] - 0s 1ms/step\n",
      "cm [[ 9 15]\n",
      " [22 55]]\n",
      "cm.ravel() [ 9 15 22 55]\n",
      "done testing 1 of 2.\n"
     ]
    },
    {
     "name": "stderr",
     "output_type": "stream",
     "text": [
      "/home/st/sbhuvaji/1AllP/Individual Patient_All Models/TLandTL/Actual TL/WithCV/TL_Packages.py:582: UserWarning: FixedFormatter should only be used together with FixedLocator\n",
      "  axs[i].set_xticklabels([''] + ['0', '1'], fontsize='xx-large')\n",
      "/home/st/sbhuvaji/1AllP/Individual Patient_All Models/TLandTL/Actual TL/WithCV/TL_Packages.py:583: UserWarning: FixedFormatter should only be used together with FixedLocator\n",
      "  axs[i].set_yticklabels([''] + ['0', '1'], fontsize='xx-large')\n"
     ]
    },
    {
     "name": "stdout",
     "output_type": "stream",
     "text": [
      "Population Fold 2: Training data size = 3504, Validation data size = 1752\n"
     ]
    },
    {
     "name": "stderr",
     "output_type": "stream",
     "text": [
      "/home/st/sbhuvaji/anaconda3/lib/python3.9/site-packages/keras/src/engine/training.py:3000: UserWarning: You are saving your model as an HDF5 file via `model.save()`. This file format is considered legacy. We recommend using instead the native Keras format, e.g. `model.save('my_model.keras')`.\n",
      "  saving_api.save_model(\n"
     ]
    },
    {
     "name": "stdout",
     "output_type": "stream",
     "text": [
      "55/55 [==============================] - 0s 881us/step\n",
      "cm [[594 294]\n",
      " [184 680]]\n",
      "cm.ravel() [594 294 184 680]\n",
      "Before balancing count  1.0    70\n",
      "0.0    31\n",
      "Name: class, dtype: int64\n",
      "~~~~~~~ value_counts: ~~~~~~~\n",
      "SHOULD BE BALANCED NOW: 1.0    70\n",
      "0.0    70\n",
      "Name: class, dtype: int64\n",
      "Before balancing count  1.0    82\n",
      "0.0    20\n",
      "Name: class, dtype: int64\n",
      "~~~~~~~ value_counts: ~~~~~~~\n",
      "SHOULD BE BALANCED NOW: 1.0    82\n",
      "0.0    82\n",
      "Name: class, dtype: int64\n",
      "done RE-training 0 of 3. "
     ]
    },
    {
     "name": "stderr",
     "output_type": "stream",
     "text": [
      "/home/st/sbhuvaji/anaconda3/lib/python3.9/site-packages/keras/src/engine/training.py:3000: UserWarning: You are saving your model as an HDF5 file via `model.save()`. This file format is considered legacy. We recommend using instead the native Keras format, e.g. `model.save('my_model.keras')`.\n",
      "  saving_api.save_model(\n"
     ]
    },
    {
     "name": "stdout",
     "output_type": "stream",
     "text": [
      "4/4 [==============================] - 0s 1ms/step\n",
      "cm [[13  7]\n",
      " [26 56]]\n",
      "cm.ravel() [13  7 26 56]\n",
      "done testing 0 of 2.\n",
      "4/4 [==============================] - 0s 1ms/step\n",
      "cm [[12 19]\n",
      " [18 52]]\n",
      "cm.ravel() [12 19 18 52]\n",
      "done testing 1 of 2.\n"
     ]
    },
    {
     "name": "stderr",
     "output_type": "stream",
     "text": [
      "/home/st/sbhuvaji/1AllP/Individual Patient_All Models/TLandTL/Actual TL/WithCV/TL_Packages.py:582: UserWarning: FixedFormatter should only be used together with FixedLocator\n",
      "  axs[i].set_xticklabels([''] + ['0', '1'], fontsize='xx-large')\n",
      "/home/st/sbhuvaji/1AllP/Individual Patient_All Models/TLandTL/Actual TL/WithCV/TL_Packages.py:583: UserWarning: FixedFormatter should only be used together with FixedLocator\n",
      "  axs[i].set_yticklabels([''] + ['0', '1'], fontsize='xx-large')\n",
      " 54%|█████▍    | 14/26 [38:08<31:48, 159.05s/it]"
     ]
    },
    {
     "name": "stdout",
     "output_type": "stream",
     "text": [
      "Runtime: 21 o' clock and 26 minutes\n",
      "~~~~~~~~~~~ 100 ~~~~~~~~~~~~~~~~~~~ 300 ~~~~~~~~~~~~~~~~~~~ SB-060 ~~~~~~~~~~~~~~~~~~~\n",
      "Before balancing count  1.0    2730\n",
      "0.0    1045\n",
      "Name: class, dtype: int64\n",
      "~~~~~~~ value_counts: ~~~~~~~\n",
      "SHOULD BE BALANCED NOW: 0.0    2730\n",
      "1.0    2730\n",
      "Name: class, dtype: int64\n",
      "X_train = 5460, y_train = 5460\n",
      "Population Fold 0: Training data size = 3640, Validation data size = 1820\n"
     ]
    },
    {
     "name": "stderr",
     "output_type": "stream",
     "text": [
      "/home/st/sbhuvaji/anaconda3/lib/python3.9/site-packages/keras/src/engine/training.py:3000: UserWarning: You are saving your model as an HDF5 file via `model.save()`. This file format is considered legacy. We recommend using instead the native Keras format, e.g. `model.save('my_model.keras')`.\n",
      "  saving_api.save_model(\n"
     ]
    },
    {
     "name": "stdout",
     "output_type": "stream",
     "text": [
      "57/57 [==============================] - 0s 854us/step\n",
      "cm [[703 227]\n",
      " [235 655]]\n",
      "cm.ravel() [703 227 235 655]\n",
      "Before balancing count  1.0    32\n",
      "0.0    12\n",
      "Name: class, dtype: int64\n",
      "~~~~~~~ value_counts: ~~~~~~~\n",
      "SHOULD BE BALANCED NOW: 1.0    32\n",
      "0.0    32\n",
      "Name: class, dtype: int64\n",
      "Before balancing count  1.0    29\n",
      "0.0    15\n",
      "Name: class, dtype: int64\n",
      "~~~~~~~ value_counts: ~~~~~~~\n",
      "SHOULD BE BALANCED NOW: 0.0    29\n",
      "1.0    29\n",
      "Name: class, dtype: int64\n",
      "done RE-training 0 of 3. "
     ]
    },
    {
     "name": "stderr",
     "output_type": "stream",
     "text": [
      "/home/st/sbhuvaji/anaconda3/lib/python3.9/site-packages/keras/src/engine/training.py:3000: UserWarning: You are saving your model as an HDF5 file via `model.save()`. This file format is considered legacy. We recommend using instead the native Keras format, e.g. `model.save('my_model.keras')`.\n",
      "  saving_api.save_model(\n"
     ]
    },
    {
     "name": "stdout",
     "output_type": "stream",
     "text": [
      "2/2 [==============================] - 0s 2ms/step\n",
      "cm [[ 6  9]\n",
      " [ 8 21]]\n",
      "cm.ravel() [ 6  9  8 21]\n",
      "done testing 0 of 2.\n",
      "2/2 [==============================] - 0s 2ms/step\n",
      "cm [[ 5  7]\n",
      " [ 8 24]]\n",
      "cm.ravel() [ 5  7  8 24]\n",
      "done testing 1 of 2.\n"
     ]
    },
    {
     "name": "stderr",
     "output_type": "stream",
     "text": [
      "/home/st/sbhuvaji/1AllP/Individual Patient_All Models/TLandTL/Actual TL/WithCV/TL_Packages.py:582: UserWarning: FixedFormatter should only be used together with FixedLocator\n",
      "  axs[i].set_xticklabels([''] + ['0', '1'], fontsize='xx-large')\n",
      "/home/st/sbhuvaji/1AllP/Individual Patient_All Models/TLandTL/Actual TL/WithCV/TL_Packages.py:583: UserWarning: FixedFormatter should only be used together with FixedLocator\n",
      "  axs[i].set_yticklabels([''] + ['0', '1'], fontsize='xx-large')\n"
     ]
    },
    {
     "name": "stdout",
     "output_type": "stream",
     "text": [
      "Population Fold 1: Training data size = 3640, Validation data size = 1820\n"
     ]
    },
    {
     "name": "stderr",
     "output_type": "stream",
     "text": [
      "/home/st/sbhuvaji/anaconda3/lib/python3.9/site-packages/keras/src/engine/training.py:3000: UserWarning: You are saving your model as an HDF5 file via `model.save()`. This file format is considered legacy. We recommend using instead the native Keras format, e.g. `model.save('my_model.keras')`.\n",
      "  saving_api.save_model(\n"
     ]
    },
    {
     "name": "stdout",
     "output_type": "stream",
     "text": [
      "57/57 [==============================] - 0s 777us/step\n",
      "cm [[658 253]\n",
      " [209 700]]\n",
      "cm.ravel() [658 253 209 700]\n",
      "Before balancing count  1.0    30\n",
      "0.0    14\n",
      "Name: class, dtype: int64\n",
      "~~~~~~~ value_counts: ~~~~~~~\n",
      "SHOULD BE BALANCED NOW: 0.0    30\n",
      "1.0    30\n",
      "Name: class, dtype: int64\n",
      "Before balancing count  1.0    31\n",
      "0.0    13\n",
      "Name: class, dtype: int64\n",
      "~~~~~~~ value_counts: ~~~~~~~\n",
      "SHOULD BE BALANCED NOW: 1.0    31\n",
      "0.0    31\n",
      "Name: class, dtype: int64\n",
      "done RE-training 0 of 3. "
     ]
    },
    {
     "name": "stderr",
     "output_type": "stream",
     "text": [
      "/home/st/sbhuvaji/anaconda3/lib/python3.9/site-packages/keras/src/engine/training.py:3000: UserWarning: You are saving your model as an HDF5 file via `model.save()`. This file format is considered legacy. We recommend using instead the native Keras format, e.g. `model.save('my_model.keras')`.\n",
      "  saving_api.save_model(\n"
     ]
    },
    {
     "name": "stdout",
     "output_type": "stream",
     "text": [
      "2/2 [==============================] - 0s 2ms/step\n",
      "cm [[ 7  6]\n",
      " [14 17]]\n",
      "cm.ravel() [ 7  6 14 17]\n",
      "done testing 0 of 2.\n",
      "2/2 [==============================] - 0s 2ms/step\n",
      "cm [[ 7  7]\n",
      " [11 19]]\n",
      "cm.ravel() [ 7  7 11 19]\n",
      "done testing 1 of 2.\n"
     ]
    },
    {
     "name": "stderr",
     "output_type": "stream",
     "text": [
      "/home/st/sbhuvaji/1AllP/Individual Patient_All Models/TLandTL/Actual TL/WithCV/TL_Packages.py:582: UserWarning: FixedFormatter should only be used together with FixedLocator\n",
      "  axs[i].set_xticklabels([''] + ['0', '1'], fontsize='xx-large')\n",
      "/home/st/sbhuvaji/1AllP/Individual Patient_All Models/TLandTL/Actual TL/WithCV/TL_Packages.py:583: UserWarning: FixedFormatter should only be used together with FixedLocator\n",
      "  axs[i].set_yticklabels([''] + ['0', '1'], fontsize='xx-large')\n"
     ]
    },
    {
     "name": "stdout",
     "output_type": "stream",
     "text": [
      "Population Fold 2: Training data size = 3640, Validation data size = 1820\n"
     ]
    },
    {
     "name": "stderr",
     "output_type": "stream",
     "text": [
      "/home/st/sbhuvaji/anaconda3/lib/python3.9/site-packages/keras/src/engine/training.py:3000: UserWarning: You are saving your model as an HDF5 file via `model.save()`. This file format is considered legacy. We recommend using instead the native Keras format, e.g. `model.save('my_model.keras')`.\n",
      "  saving_api.save_model(\n"
     ]
    },
    {
     "name": "stdout",
     "output_type": "stream",
     "text": [
      "57/57 [==============================] - 0s 811us/step\n",
      "cm [[659 230]\n",
      " [298 633]]\n",
      "cm.ravel() [659 230 298 633]\n",
      "Before balancing count  1.0    28\n",
      "0.0    16\n",
      "Name: class, dtype: int64\n",
      "~~~~~~~ value_counts: ~~~~~~~\n",
      "SHOULD BE BALANCED NOW: 0.0    28\n",
      "1.0    28\n",
      "Name: class, dtype: int64\n",
      "Before balancing count  1.0    33\n",
      "0.0    11\n",
      "Name: class, dtype: int64\n",
      "~~~~~~~ value_counts: ~~~~~~~\n",
      "SHOULD BE BALANCED NOW: 1.0    33\n",
      "0.0    33\n",
      "Name: class, dtype: int64\n",
      "done RE-training 0 of 3. "
     ]
    },
    {
     "name": "stderr",
     "output_type": "stream",
     "text": [
      "/home/st/sbhuvaji/anaconda3/lib/python3.9/site-packages/keras/src/engine/training.py:3000: UserWarning: You are saving your model as an HDF5 file via `model.save()`. This file format is considered legacy. We recommend using instead the native Keras format, e.g. `model.save('my_model.keras')`.\n",
      "  saving_api.save_model(\n"
     ]
    },
    {
     "name": "stdout",
     "output_type": "stream",
     "text": [
      "2/2 [==============================] - 0s 2ms/step\n",
      "cm [[ 7  4]\n",
      " [ 6 27]]\n",
      "cm.ravel() [ 7  4  6 27]\n",
      "done testing 0 of 2.\n",
      "2/2 [==============================] - 0s 2ms/step\n",
      "cm [[ 9  7]\n",
      " [ 8 20]]\n",
      "cm.ravel() [ 9  7  8 20]\n",
      "done testing 1 of 2.\n"
     ]
    },
    {
     "name": "stderr",
     "output_type": "stream",
     "text": [
      "/home/st/sbhuvaji/1AllP/Individual Patient_All Models/TLandTL/Actual TL/WithCV/TL_Packages.py:582: UserWarning: FixedFormatter should only be used together with FixedLocator\n",
      "  axs[i].set_xticklabels([''] + ['0', '1'], fontsize='xx-large')\n",
      "/home/st/sbhuvaji/1AllP/Individual Patient_All Models/TLandTL/Actual TL/WithCV/TL_Packages.py:583: UserWarning: FixedFormatter should only be used together with FixedLocator\n",
      "  axs[i].set_yticklabels([''] + ['0', '1'], fontsize='xx-large')\n",
      " 58%|█████▊    | 15/26 [41:02<29:58, 163.51s/it]"
     ]
    },
    {
     "name": "stdout",
     "output_type": "stream",
     "text": [
      "Runtime: 21 o' clock and 29 minutes\n",
      "~~~~~~~~~~~ 100 ~~~~~~~~~~~~~~~~~~~ 300 ~~~~~~~~~~~~~~~~~~~ SB-070 ~~~~~~~~~~~~~~~~~~~\n",
      "Before balancing count  1.0    2638\n",
      "0.0    1029\n",
      "Name: class, dtype: int64\n",
      "~~~~~~~ value_counts: ~~~~~~~\n",
      "SHOULD BE BALANCED NOW: 0.0    2638\n",
      "1.0    2638\n",
      "Name: class, dtype: int64\n",
      "X_train = 5276, y_train = 5276\n",
      "Population Fold 0: Training data size = 3517, Validation data size = 1759\n"
     ]
    },
    {
     "name": "stderr",
     "output_type": "stream",
     "text": [
      "/home/st/sbhuvaji/anaconda3/lib/python3.9/site-packages/keras/src/engine/training.py:3000: UserWarning: You are saving your model as an HDF5 file via `model.save()`. This file format is considered legacy. We recommend using instead the native Keras format, e.g. `model.save('my_model.keras')`.\n",
      "  saving_api.save_model(\n"
     ]
    },
    {
     "name": "stdout",
     "output_type": "stream",
     "text": [
      "55/55 [==============================] - 0s 869us/step\n",
      "cm [[588 284]\n",
      " [176 711]]\n",
      "cm.ravel() [588 284 176 711]\n",
      "Before balancing count  1.0    74\n",
      "0.0    27\n",
      "Name: class, dtype: int64\n",
      "~~~~~~~ value_counts: ~~~~~~~\n",
      "SHOULD BE BALANCED NOW: 1.0    74\n",
      "0.0    74\n",
      "Name: class, dtype: int64\n",
      "Before balancing count  1.0    68\n",
      "0.0    33\n",
      "Name: class, dtype: int64\n",
      "~~~~~~~ value_counts: ~~~~~~~\n",
      "SHOULD BE BALANCED NOW: 1.0    68\n",
      "0.0    68\n",
      "Name: class, dtype: int64\n",
      "done RE-training 0 of 3. "
     ]
    },
    {
     "name": "stderr",
     "output_type": "stream",
     "text": [
      "/home/st/sbhuvaji/anaconda3/lib/python3.9/site-packages/keras/src/engine/training.py:3000: UserWarning: You are saving your model as an HDF5 file via `model.save()`. This file format is considered legacy. We recommend using instead the native Keras format, e.g. `model.save('my_model.keras')`.\n",
      "  saving_api.save_model(\n"
     ]
    },
    {
     "name": "stdout",
     "output_type": "stream",
     "text": [
      "4/4 [==============================] - 0s 1ms/step\n",
      "cm [[17 16]\n",
      " [21 47]]\n",
      "cm.ravel() [17 16 21 47]\n",
      "done testing 0 of 2.\n",
      "4/4 [==============================] - 0s 1ms/step\n",
      "cm [[18  9]\n",
      " [30 44]]\n",
      "cm.ravel() [18  9 30 44]\n",
      "done testing 1 of 2.\n"
     ]
    },
    {
     "name": "stderr",
     "output_type": "stream",
     "text": [
      "/home/st/sbhuvaji/1AllP/Individual Patient_All Models/TLandTL/Actual TL/WithCV/TL_Packages.py:582: UserWarning: FixedFormatter should only be used together with FixedLocator\n",
      "  axs[i].set_xticklabels([''] + ['0', '1'], fontsize='xx-large')\n",
      "/home/st/sbhuvaji/1AllP/Individual Patient_All Models/TLandTL/Actual TL/WithCV/TL_Packages.py:583: UserWarning: FixedFormatter should only be used together with FixedLocator\n",
      "  axs[i].set_yticklabels([''] + ['0', '1'], fontsize='xx-large')\n"
     ]
    },
    {
     "name": "stdout",
     "output_type": "stream",
     "text": [
      "Population Fold 1: Training data size = 3517, Validation data size = 1759\n"
     ]
    },
    {
     "name": "stderr",
     "output_type": "stream",
     "text": [
      "/home/st/sbhuvaji/anaconda3/lib/python3.9/site-packages/keras/src/engine/training.py:3000: UserWarning: You are saving your model as an HDF5 file via `model.save()`. This file format is considered legacy. We recommend using instead the native Keras format, e.g. `model.save('my_model.keras')`.\n",
      "  saving_api.save_model(\n"
     ]
    },
    {
     "name": "stdout",
     "output_type": "stream",
     "text": [
      "55/55 [==============================] - 0s 875us/step\n",
      "cm [[610 276]\n",
      " [210 663]]\n",
      "cm.ravel() [610 276 210 663]\n",
      "Before balancing count  1.0    68\n",
      "0.0    33\n",
      "Name: class, dtype: int64\n",
      "~~~~~~~ value_counts: ~~~~~~~\n",
      "SHOULD BE BALANCED NOW: 1.0    68\n",
      "0.0    68\n",
      "Name: class, dtype: int64\n",
      "Before balancing count  1.0    74\n",
      "0.0    27\n",
      "Name: class, dtype: int64\n",
      "~~~~~~~ value_counts: ~~~~~~~\n",
      "SHOULD BE BALANCED NOW: 1.0    74\n",
      "0.0    74\n",
      "Name: class, dtype: int64\n",
      "done RE-training 0 of 3. "
     ]
    },
    {
     "name": "stderr",
     "output_type": "stream",
     "text": [
      "/home/st/sbhuvaji/anaconda3/lib/python3.9/site-packages/keras/src/engine/training.py:3000: UserWarning: You are saving your model as an HDF5 file via `model.save()`. This file format is considered legacy. We recommend using instead the native Keras format, e.g. `model.save('my_model.keras')`.\n",
      "  saving_api.save_model(\n"
     ]
    },
    {
     "name": "stdout",
     "output_type": "stream",
     "text": [
      "4/4 [==============================] - 0s 1ms/step\n",
      "cm [[10 17]\n",
      " [22 52]]\n",
      "cm.ravel() [10 17 22 52]\n",
      "done testing 0 of 2.\n",
      "4/4 [==============================] - 0s 1ms/step\n",
      "cm [[17 16]\n",
      " [26 42]]\n",
      "cm.ravel() [17 16 26 42]\n",
      "done testing 1 of 2.\n"
     ]
    },
    {
     "name": "stderr",
     "output_type": "stream",
     "text": [
      "/home/st/sbhuvaji/1AllP/Individual Patient_All Models/TLandTL/Actual TL/WithCV/TL_Packages.py:582: UserWarning: FixedFormatter should only be used together with FixedLocator\n",
      "  axs[i].set_xticklabels([''] + ['0', '1'], fontsize='xx-large')\n",
      "/home/st/sbhuvaji/1AllP/Individual Patient_All Models/TLandTL/Actual TL/WithCV/TL_Packages.py:583: UserWarning: FixedFormatter should only be used together with FixedLocator\n",
      "  axs[i].set_yticklabels([''] + ['0', '1'], fontsize='xx-large')\n"
     ]
    },
    {
     "name": "stdout",
     "output_type": "stream",
     "text": [
      "Population Fold 2: Training data size = 3518, Validation data size = 1758\n"
     ]
    },
    {
     "name": "stderr",
     "output_type": "stream",
     "text": [
      "/home/st/sbhuvaji/anaconda3/lib/python3.9/site-packages/keras/src/engine/training.py:3000: UserWarning: You are saving your model as an HDF5 file via `model.save()`. This file format is considered legacy. We recommend using instead the native Keras format, e.g. `model.save('my_model.keras')`.\n",
      "  saving_api.save_model(\n"
     ]
    },
    {
     "name": "stdout",
     "output_type": "stream",
     "text": [
      "55/55 [==============================] - 0s 775us/step\n",
      "cm [[651 229]\n",
      " [259 619]]\n",
      "cm.ravel() [651 229 259 619]\n",
      "Before balancing count  1.0    70\n",
      "0.0    31\n",
      "Name: class, dtype: int64\n",
      "~~~~~~~ value_counts: ~~~~~~~\n",
      "SHOULD BE BALANCED NOW: 1.0    70\n",
      "0.0    70\n",
      "Name: class, dtype: int64\n",
      "Before balancing count  1.0    72\n",
      "0.0    29\n",
      "Name: class, dtype: int64\n",
      "~~~~~~~ value_counts: ~~~~~~~\n",
      "SHOULD BE BALANCED NOW: 1.0    72\n",
      "0.0    72\n",
      "Name: class, dtype: int64\n",
      "done RE-training 0 of 3. "
     ]
    },
    {
     "name": "stderr",
     "output_type": "stream",
     "text": [
      "/home/st/sbhuvaji/anaconda3/lib/python3.9/site-packages/keras/src/engine/training.py:3000: UserWarning: You are saving your model as an HDF5 file via `model.save()`. This file format is considered legacy. We recommend using instead the native Keras format, e.g. `model.save('my_model.keras')`.\n",
      "  saving_api.save_model(\n"
     ]
    },
    {
     "name": "stdout",
     "output_type": "stream",
     "text": [
      "4/4 [==============================] - 0s 1ms/step\n",
      "cm [[17 12]\n",
      " [21 51]]\n",
      "cm.ravel() [17 12 21 51]\n",
      "done testing 0 of 2.\n",
      "4/4 [==============================] - 0s 1ms/step\n",
      "cm [[19 12]\n",
      " [25 45]]\n",
      "cm.ravel() [19 12 25 45]\n",
      "done testing 1 of 2.\n"
     ]
    },
    {
     "name": "stderr",
     "output_type": "stream",
     "text": [
      "/home/st/sbhuvaji/1AllP/Individual Patient_All Models/TLandTL/Actual TL/WithCV/TL_Packages.py:582: UserWarning: FixedFormatter should only be used together with FixedLocator\n",
      "  axs[i].set_xticklabels([''] + ['0', '1'], fontsize='xx-large')\n",
      "/home/st/sbhuvaji/1AllP/Individual Patient_All Models/TLandTL/Actual TL/WithCV/TL_Packages.py:583: UserWarning: FixedFormatter should only be used together with FixedLocator\n",
      "  axs[i].set_yticklabels([''] + ['0', '1'], fontsize='xx-large')\n",
      " 62%|██████▏   | 16/26 [44:00<27:55, 167.53s/it]"
     ]
    },
    {
     "name": "stdout",
     "output_type": "stream",
     "text": [
      "Runtime: 21 o' clock and 32 minutes\n",
      "~~~~~~~~~~~ 100 ~~~~~~~~~~~~~~~~~~~ 300 ~~~~~~~~~~~~~~~~~~~ SB-071 ~~~~~~~~~~~~~~~~~~~\n",
      "Before balancing count  1.0    2687\n",
      "0.0    1054\n",
      "Name: class, dtype: int64\n",
      "~~~~~~~ value_counts: ~~~~~~~\n",
      "SHOULD BE BALANCED NOW: 0.0    2687\n",
      "1.0    2687\n",
      "Name: class, dtype: int64\n",
      "X_train = 5374, y_train = 5374\n",
      "Population Fold 0: Training data size = 3582, Validation data size = 1792\n"
     ]
    },
    {
     "name": "stderr",
     "output_type": "stream",
     "text": [
      "/home/st/sbhuvaji/anaconda3/lib/python3.9/site-packages/keras/src/engine/training.py:3000: UserWarning: You are saving your model as an HDF5 file via `model.save()`. This file format is considered legacy. We recommend using instead the native Keras format, e.g. `model.save('my_model.keras')`.\n",
      "  saving_api.save_model(\n"
     ]
    },
    {
     "name": "stdout",
     "output_type": "stream",
     "text": [
      "56/56 [==============================] - 0s 860us/step\n",
      "cm [[722 184]\n",
      " [308 578]]\n",
      "cm.ravel() [722 184 308 578]\n",
      "Before balancing count  1.0    55\n",
      "0.0     7\n",
      "Name: class, dtype: int64\n",
      "~~~~~~~ value_counts: ~~~~~~~\n",
      "SHOULD BE BALANCED NOW: 1.0    55\n",
      "0.0    55\n",
      "Name: class, dtype: int64\n",
      "Before balancing count  1.0    50\n",
      "0.0    12\n",
      "Name: class, dtype: int64\n",
      "~~~~~~~ value_counts: ~~~~~~~\n",
      "SHOULD BE BALANCED NOW: 1.0    50\n",
      "0.0    50\n",
      "Name: class, dtype: int64\n",
      "done RE-training 0 of 3. "
     ]
    },
    {
     "name": "stderr",
     "output_type": "stream",
     "text": [
      "/home/st/sbhuvaji/anaconda3/lib/python3.9/site-packages/keras/src/engine/training.py:3000: UserWarning: You are saving your model as an HDF5 file via `model.save()`. This file format is considered legacy. We recommend using instead the native Keras format, e.g. `model.save('my_model.keras')`.\n",
      "  saving_api.save_model(\n"
     ]
    },
    {
     "name": "stdout",
     "output_type": "stream",
     "text": [
      "2/2 [==============================] - 0s 2ms/step\n",
      "cm [[ 6  6]\n",
      " [12 38]]\n",
      "cm.ravel() [ 6  6 12 38]\n",
      "done testing 0 of 2.\n",
      "2/2 [==============================] - 0s 2ms/step\n",
      "cm [[ 5  2]\n",
      " [18 37]]\n",
      "cm.ravel() [ 5  2 18 37]\n",
      "done testing 1 of 2.\n"
     ]
    },
    {
     "name": "stderr",
     "output_type": "stream",
     "text": [
      "/home/st/sbhuvaji/1AllP/Individual Patient_All Models/TLandTL/Actual TL/WithCV/TL_Packages.py:582: UserWarning: FixedFormatter should only be used together with FixedLocator\n",
      "  axs[i].set_xticklabels([''] + ['0', '1'], fontsize='xx-large')\n",
      "/home/st/sbhuvaji/1AllP/Individual Patient_All Models/TLandTL/Actual TL/WithCV/TL_Packages.py:583: UserWarning: FixedFormatter should only be used together with FixedLocator\n",
      "  axs[i].set_yticklabels([''] + ['0', '1'], fontsize='xx-large')\n"
     ]
    },
    {
     "name": "stdout",
     "output_type": "stream",
     "text": [
      "Population Fold 1: Training data size = 3583, Validation data size = 1791\n"
     ]
    },
    {
     "name": "stderr",
     "output_type": "stream",
     "text": [
      "/home/st/sbhuvaji/anaconda3/lib/python3.9/site-packages/keras/src/engine/training.py:3000: UserWarning: You are saving your model as an HDF5 file via `model.save()`. This file format is considered legacy. We recommend using instead the native Keras format, e.g. `model.save('my_model.keras')`.\n",
      "  saving_api.save_model(\n"
     ]
    },
    {
     "name": "stdout",
     "output_type": "stream",
     "text": [
      "56/56 [==============================] - 0s 873us/step\n",
      "cm [[744 146]\n",
      " [324 577]]\n",
      "cm.ravel() [744 146 324 577]\n",
      "Before balancing count  1.0    50\n",
      "0.0    12\n",
      "Name: class, dtype: int64\n",
      "~~~~~~~ value_counts: ~~~~~~~\n",
      "SHOULD BE BALANCED NOW: 1.0    50\n",
      "0.0    50\n",
      "Name: class, dtype: int64\n",
      "Before balancing count  1.0    55\n",
      "0.0     7\n",
      "Name: class, dtype: int64\n",
      "~~~~~~~ value_counts: ~~~~~~~\n",
      "SHOULD BE BALANCED NOW: 1.0    55\n",
      "0.0    55\n",
      "Name: class, dtype: int64\n",
      "done RE-training 0 of 3. "
     ]
    },
    {
     "name": "stderr",
     "output_type": "stream",
     "text": [
      "/home/st/sbhuvaji/anaconda3/lib/python3.9/site-packages/keras/src/engine/training.py:3000: UserWarning: You are saving your model as an HDF5 file via `model.save()`. This file format is considered legacy. We recommend using instead the native Keras format, e.g. `model.save('my_model.keras')`.\n",
      "  saving_api.save_model(\n"
     ]
    },
    {
     "name": "stdout",
     "output_type": "stream",
     "text": [
      "2/2 [==============================] - 0s 2ms/step\n",
      "cm [[ 2  5]\n",
      " [16 39]]\n",
      "cm.ravel() [ 2  5 16 39]\n",
      "done testing 0 of 2.\n",
      "2/2 [==============================] - 0s 2ms/step\n",
      "cm [[ 7  5]\n",
      " [15 35]]\n",
      "cm.ravel() [ 7  5 15 35]\n",
      "done testing 1 of 2.\n"
     ]
    },
    {
     "name": "stderr",
     "output_type": "stream",
     "text": [
      "/home/st/sbhuvaji/1AllP/Individual Patient_All Models/TLandTL/Actual TL/WithCV/TL_Packages.py:582: UserWarning: FixedFormatter should only be used together with FixedLocator\n",
      "  axs[i].set_xticklabels([''] + ['0', '1'], fontsize='xx-large')\n",
      "/home/st/sbhuvaji/1AllP/Individual Patient_All Models/TLandTL/Actual TL/WithCV/TL_Packages.py:583: UserWarning: FixedFormatter should only be used together with FixedLocator\n",
      "  axs[i].set_yticklabels([''] + ['0', '1'], fontsize='xx-large')\n"
     ]
    },
    {
     "name": "stdout",
     "output_type": "stream",
     "text": [
      "Population Fold 2: Training data size = 3583, Validation data size = 1791\n"
     ]
    },
    {
     "name": "stderr",
     "output_type": "stream",
     "text": [
      "/home/st/sbhuvaji/anaconda3/lib/python3.9/site-packages/keras/src/engine/training.py:3000: UserWarning: You are saving your model as an HDF5 file via `model.save()`. This file format is considered legacy. We recommend using instead the native Keras format, e.g. `model.save('my_model.keras')`.\n",
      "  saving_api.save_model(\n"
     ]
    },
    {
     "name": "stdout",
     "output_type": "stream",
     "text": [
      "56/56 [==============================] - 0s 860us/step\n",
      "cm [[649 242]\n",
      " [248 652]]\n",
      "cm.ravel() [649 242 248 652]\n",
      "Before balancing count  1.0    54\n",
      "0.0     8\n",
      "Name: class, dtype: int64\n",
      "~~~~~~~ value_counts: ~~~~~~~\n",
      "SHOULD BE BALANCED NOW: 1.0    54\n",
      "0.0    54\n",
      "Name: class, dtype: int64\n",
      "Before balancing count  1.0    51\n",
      "0.0    11\n",
      "Name: class, dtype: int64\n",
      "~~~~~~~ value_counts: ~~~~~~~\n",
      "SHOULD BE BALANCED NOW: 0.0    51\n",
      "1.0    51\n",
      "Name: class, dtype: int64\n",
      "done RE-training 0 of 3. "
     ]
    },
    {
     "name": "stderr",
     "output_type": "stream",
     "text": [
      "/home/st/sbhuvaji/anaconda3/lib/python3.9/site-packages/keras/src/engine/training.py:3000: UserWarning: You are saving your model as an HDF5 file via `model.save()`. This file format is considered legacy. We recommend using instead the native Keras format, e.g. `model.save('my_model.keras')`.\n",
      "  saving_api.save_model(\n"
     ]
    },
    {
     "name": "stdout",
     "output_type": "stream",
     "text": [
      "2/2 [==============================] - 0s 2ms/step\n",
      "cm [[ 3  8]\n",
      " [15 36]]\n",
      "cm.ravel() [ 3  8 15 36]\n",
      "done testing 0 of 2.\n",
      "2/2 [==============================] - 0s 2ms/step\n",
      "cm [[ 5  3]\n",
      " [24 30]]\n",
      "cm.ravel() [ 5  3 24 30]\n",
      "done testing 1 of 2.\n"
     ]
    },
    {
     "name": "stderr",
     "output_type": "stream",
     "text": [
      "/home/st/sbhuvaji/1AllP/Individual Patient_All Models/TLandTL/Actual TL/WithCV/TL_Packages.py:582: UserWarning: FixedFormatter should only be used together with FixedLocator\n",
      "  axs[i].set_xticklabels([''] + ['0', '1'], fontsize='xx-large')\n",
      "/home/st/sbhuvaji/1AllP/Individual Patient_All Models/TLandTL/Actual TL/WithCV/TL_Packages.py:583: UserWarning: FixedFormatter should only be used together with FixedLocator\n",
      "  axs[i].set_yticklabels([''] + ['0', '1'], fontsize='xx-large')\n",
      " 65%|██████▌   | 17/26 [46:58<25:35, 170.64s/it]"
     ]
    },
    {
     "name": "stdout",
     "output_type": "stream",
     "text": [
      "Runtime: 21 o' clock and 35 minutes\n",
      "~~~~~~~~~~~ 100 ~~~~~~~~~~~~~~~~~~~ 300 ~~~~~~~~~~~~~~~~~~~ SB-073 ~~~~~~~~~~~~~~~~~~~\n",
      "Before balancing count  1.0    2654\n",
      "0.0    1051\n",
      "Name: class, dtype: int64\n",
      "~~~~~~~ value_counts: ~~~~~~~\n",
      "SHOULD BE BALANCED NOW: 1.0    2654\n",
      "0.0    2654\n",
      "Name: class, dtype: int64\n",
      "X_train = 5308, y_train = 5308\n",
      "Population Fold 0: Training data size = 3538, Validation data size = 1770\n"
     ]
    },
    {
     "name": "stderr",
     "output_type": "stream",
     "text": [
      "/home/st/sbhuvaji/anaconda3/lib/python3.9/site-packages/keras/src/engine/training.py:3000: UserWarning: You are saving your model as an HDF5 file via `model.save()`. This file format is considered legacy. We recommend using instead the native Keras format, e.g. `model.save('my_model.keras')`.\n",
      "  saving_api.save_model(\n"
     ]
    },
    {
     "name": "stdout",
     "output_type": "stream",
     "text": [
      "56/56 [==============================] - 0s 819us/step\n",
      "cm [[649 228]\n",
      " [238 655]]\n",
      "cm.ravel() [649 228 238 655]\n",
      "Before balancing count  1.0    62\n",
      "0.0    18\n",
      "Name: class, dtype: int64\n",
      "~~~~~~~ value_counts: ~~~~~~~\n",
      "SHOULD BE BALANCED NOW: 0.0    62\n",
      "1.0    62\n",
      "Name: class, dtype: int64\n",
      "Before balancing count  1.0    58\n",
      "0.0    23\n",
      "Name: class, dtype: int64\n",
      "~~~~~~~ value_counts: ~~~~~~~\n",
      "SHOULD BE BALANCED NOW: 1.0    58\n",
      "0.0    58\n",
      "Name: class, dtype: int64\n",
      "done RE-training 0 of 3. "
     ]
    },
    {
     "name": "stderr",
     "output_type": "stream",
     "text": [
      "/home/st/sbhuvaji/anaconda3/lib/python3.9/site-packages/keras/src/engine/training.py:3000: UserWarning: You are saving your model as an HDF5 file via `model.save()`. This file format is considered legacy. We recommend using instead the native Keras format, e.g. `model.save('my_model.keras')`.\n",
      "  saving_api.save_model(\n"
     ]
    },
    {
     "name": "stdout",
     "output_type": "stream",
     "text": [
      "3/3 [==============================] - 0s 2ms/step\n",
      "cm [[15  8]\n",
      " [22 36]]\n",
      "cm.ravel() [15  8 22 36]\n",
      "done testing 0 of 2.\n",
      "3/3 [==============================] - 0s 1ms/step\n",
      "cm [[12  6]\n",
      " [28 34]]\n",
      "cm.ravel() [12  6 28 34]\n",
      "done testing 1 of 2.\n"
     ]
    },
    {
     "name": "stderr",
     "output_type": "stream",
     "text": [
      "/home/st/sbhuvaji/1AllP/Individual Patient_All Models/TLandTL/Actual TL/WithCV/TL_Packages.py:582: UserWarning: FixedFormatter should only be used together with FixedLocator\n",
      "  axs[i].set_xticklabels([''] + ['0', '1'], fontsize='xx-large')\n",
      "/home/st/sbhuvaji/1AllP/Individual Patient_All Models/TLandTL/Actual TL/WithCV/TL_Packages.py:583: UserWarning: FixedFormatter should only be used together with FixedLocator\n",
      "  axs[i].set_yticklabels([''] + ['0', '1'], fontsize='xx-large')\n"
     ]
    },
    {
     "name": "stdout",
     "output_type": "stream",
     "text": [
      "Population Fold 1: Training data size = 3539, Validation data size = 1769\n"
     ]
    },
    {
     "name": "stderr",
     "output_type": "stream",
     "text": [
      "/home/st/sbhuvaji/anaconda3/lib/python3.9/site-packages/keras/src/engine/training.py:3000: UserWarning: You are saving your model as an HDF5 file via `model.save()`. This file format is considered legacy. We recommend using instead the native Keras format, e.g. `model.save('my_model.keras')`.\n",
      "  saving_api.save_model(\n"
     ]
    },
    {
     "name": "stdout",
     "output_type": "stream",
     "text": [
      "56/56 [==============================] - 0s 810us/step\n",
      "cm [[641 262]\n",
      " [222 644]]\n",
      "cm.ravel() [641 262 222 644]\n",
      "Before balancing count  1.0    56\n",
      "0.0    24\n",
      "Name: class, dtype: int64\n",
      "~~~~~~~ value_counts: ~~~~~~~\n",
      "SHOULD BE BALANCED NOW: 0.0    56\n",
      "1.0    56\n",
      "Name: class, dtype: int64\n",
      "Before balancing count  1.0    64\n",
      "0.0    17\n",
      "Name: class, dtype: int64\n",
      "~~~~~~~ value_counts: ~~~~~~~\n",
      "SHOULD BE BALANCED NOW: 0.0    64\n",
      "1.0    64\n",
      "Name: class, dtype: int64\n",
      "done RE-training 0 of 3. "
     ]
    },
    {
     "name": "stderr",
     "output_type": "stream",
     "text": [
      "/home/st/sbhuvaji/anaconda3/lib/python3.9/site-packages/keras/src/engine/training.py:3000: UserWarning: You are saving your model as an HDF5 file via `model.save()`. This file format is considered legacy. We recommend using instead the native Keras format, e.g. `model.save('my_model.keras')`.\n",
      "  saving_api.save_model(\n"
     ]
    },
    {
     "name": "stdout",
     "output_type": "stream",
     "text": [
      "3/3 [==============================] - 0s 1ms/step\n",
      "cm [[ 8  9]\n",
      " [19 45]]\n",
      "cm.ravel() [ 8  9 19 45]\n",
      "done testing 0 of 2.\n",
      "3/3 [==============================] - 0s 1ms/step\n",
      "cm [[13 11]\n",
      " [30 26]]\n",
      "cm.ravel() [13 11 30 26]\n",
      "done testing 1 of 2.\n"
     ]
    },
    {
     "name": "stderr",
     "output_type": "stream",
     "text": [
      "/home/st/sbhuvaji/1AllP/Individual Patient_All Models/TLandTL/Actual TL/WithCV/TL_Packages.py:582: UserWarning: FixedFormatter should only be used together with FixedLocator\n",
      "  axs[i].set_xticklabels([''] + ['0', '1'], fontsize='xx-large')\n",
      "/home/st/sbhuvaji/1AllP/Individual Patient_All Models/TLandTL/Actual TL/WithCV/TL_Packages.py:583: UserWarning: FixedFormatter should only be used together with FixedLocator\n",
      "  axs[i].set_yticklabels([''] + ['0', '1'], fontsize='xx-large')\n"
     ]
    },
    {
     "name": "stdout",
     "output_type": "stream",
     "text": [
      "Population Fold 2: Training data size = 3539, Validation data size = 1769\n"
     ]
    },
    {
     "name": "stderr",
     "output_type": "stream",
     "text": [
      "/home/st/sbhuvaji/anaconda3/lib/python3.9/site-packages/keras/src/engine/training.py:3000: UserWarning: You are saving your model as an HDF5 file via `model.save()`. This file format is considered legacy. We recommend using instead the native Keras format, e.g. `model.save('my_model.keras')`.\n",
      "  saving_api.save_model(\n"
     ]
    },
    {
     "name": "stdout",
     "output_type": "stream",
     "text": [
      "56/56 [==============================] - 0s 853us/step\n",
      "cm [[608 266]\n",
      " [241 654]]\n",
      "cm.ravel() [608 266 241 654]\n",
      "Before balancing count  1.0    57\n",
      "0.0    23\n",
      "Name: class, dtype: int64\n",
      "~~~~~~~ value_counts: ~~~~~~~\n",
      "SHOULD BE BALANCED NOW: 1.0    57\n",
      "0.0    57\n",
      "Name: class, dtype: int64\n",
      "Before balancing count  1.0    63\n",
      "0.0    18\n",
      "Name: class, dtype: int64\n",
      "~~~~~~~ value_counts: ~~~~~~~\n",
      "SHOULD BE BALANCED NOW: 1.0    63\n",
      "0.0    63\n",
      "Name: class, dtype: int64\n",
      "done RE-training 0 of 3. "
     ]
    },
    {
     "name": "stderr",
     "output_type": "stream",
     "text": [
      "/home/st/sbhuvaji/anaconda3/lib/python3.9/site-packages/keras/src/engine/training.py:3000: UserWarning: You are saving your model as an HDF5 file via `model.save()`. This file format is considered legacy. We recommend using instead the native Keras format, e.g. `model.save('my_model.keras')`.\n",
      "  saving_api.save_model(\n"
     ]
    },
    {
     "name": "stdout",
     "output_type": "stream",
     "text": [
      "3/3 [==============================] - 0s 1ms/step\n",
      "cm [[13  5]\n",
      " [18 45]]\n",
      "cm.ravel() [13  5 18 45]\n",
      "done testing 0 of 2.\n",
      "3/3 [==============================] - 0s 1ms/step\n",
      "cm [[14  9]\n",
      " [18 39]]\n",
      "cm.ravel() [14  9 18 39]\n",
      "done testing 1 of 2.\n"
     ]
    },
    {
     "name": "stderr",
     "output_type": "stream",
     "text": [
      "/home/st/sbhuvaji/1AllP/Individual Patient_All Models/TLandTL/Actual TL/WithCV/TL_Packages.py:582: UserWarning: FixedFormatter should only be used together with FixedLocator\n",
      "  axs[i].set_xticklabels([''] + ['0', '1'], fontsize='xx-large')\n",
      "/home/st/sbhuvaji/1AllP/Individual Patient_All Models/TLandTL/Actual TL/WithCV/TL_Packages.py:583: UserWarning: FixedFormatter should only be used together with FixedLocator\n",
      "  axs[i].set_yticklabels([''] + ['0', '1'], fontsize='xx-large')\n",
      " 69%|██████▉   | 18/26 [49:52<22:51, 171.48s/it]"
     ]
    },
    {
     "name": "stdout",
     "output_type": "stream",
     "text": [
      "Runtime: 21 o' clock and 38 minutes\n",
      "~~~~~~~~~~~ 100 ~~~~~~~~~~~~~~~~~~~ 300 ~~~~~~~~~~~~~~~~~~~ SB-078 ~~~~~~~~~~~~~~~~~~~\n",
      "Before balancing count  1.0    2679\n",
      "0.0    1034\n",
      "Name: class, dtype: int64\n",
      "~~~~~~~ value_counts: ~~~~~~~\n",
      "SHOULD BE BALANCED NOW: 1.0    2679\n",
      "0.0    2679\n",
      "Name: class, dtype: int64\n",
      "X_train = 5358, y_train = 5358\n",
      "Population Fold 0: Training data size = 3572, Validation data size = 1786\n"
     ]
    },
    {
     "name": "stderr",
     "output_type": "stream",
     "text": [
      "/home/st/sbhuvaji/anaconda3/lib/python3.9/site-packages/keras/src/engine/training.py:3000: UserWarning: You are saving your model as an HDF5 file via `model.save()`. This file format is considered legacy. We recommend using instead the native Keras format, e.g. `model.save('my_model.keras')`.\n",
      "  saving_api.save_model(\n"
     ]
    },
    {
     "name": "stdout",
     "output_type": "stream",
     "text": [
      "56/56 [==============================] - 0s 784us/step\n",
      "cm [[688 205]\n",
      " [264 629]]\n",
      "cm.ravel() [688 205 264 629]\n",
      "Before balancing count  1.0    52\n",
      "0.0    24\n",
      "Name: class, dtype: int64\n",
      "~~~~~~~ value_counts: ~~~~~~~\n",
      "SHOULD BE BALANCED NOW: 0.0    52\n",
      "1.0    52\n",
      "Name: class, dtype: int64\n",
      "Before balancing count  1.0    55\n",
      "0.0    22\n",
      "Name: class, dtype: int64\n",
      "~~~~~~~ value_counts: ~~~~~~~\n",
      "SHOULD BE BALANCED NOW: 1.0    55\n",
      "0.0    55\n",
      "Name: class, dtype: int64\n",
      "done RE-training 0 of 3. "
     ]
    },
    {
     "name": "stderr",
     "output_type": "stream",
     "text": [
      "/home/st/sbhuvaji/anaconda3/lib/python3.9/site-packages/keras/src/engine/training.py:3000: UserWarning: You are saving your model as an HDF5 file via `model.save()`. This file format is considered legacy. We recommend using instead the native Keras format, e.g. `model.save('my_model.keras')`.\n",
      "  saving_api.save_model(\n"
     ]
    },
    {
     "name": "stdout",
     "output_type": "stream",
     "text": [
      "3/3 [==============================] - 0s 1ms/step\n",
      "cm [[16  6]\n",
      " [11 44]]\n",
      "cm.ravel() [16  6 11 44]\n",
      "done testing 0 of 2.\n",
      "3/3 [==============================] - 0s 1ms/step\n",
      "cm [[20  4]\n",
      " [12 40]]\n",
      "cm.ravel() [20  4 12 40]\n",
      "done testing 1 of 2.\n"
     ]
    },
    {
     "name": "stderr",
     "output_type": "stream",
     "text": [
      "/home/st/sbhuvaji/1AllP/Individual Patient_All Models/TLandTL/Actual TL/WithCV/TL_Packages.py:582: UserWarning: FixedFormatter should only be used together with FixedLocator\n",
      "  axs[i].set_xticklabels([''] + ['0', '1'], fontsize='xx-large')\n",
      "/home/st/sbhuvaji/1AllP/Individual Patient_All Models/TLandTL/Actual TL/WithCV/TL_Packages.py:583: UserWarning: FixedFormatter should only be used together with FixedLocator\n",
      "  axs[i].set_yticklabels([''] + ['0', '1'], fontsize='xx-large')\n"
     ]
    },
    {
     "name": "stdout",
     "output_type": "stream",
     "text": [
      "Population Fold 1: Training data size = 3572, Validation data size = 1786\n"
     ]
    },
    {
     "name": "stderr",
     "output_type": "stream",
     "text": [
      "/home/st/sbhuvaji/anaconda3/lib/python3.9/site-packages/keras/src/engine/training.py:3000: UserWarning: You are saving your model as an HDF5 file via `model.save()`. This file format is considered legacy. We recommend using instead the native Keras format, e.g. `model.save('my_model.keras')`.\n",
      "  saving_api.save_model(\n"
     ]
    },
    {
     "name": "stdout",
     "output_type": "stream",
     "text": [
      "56/56 [==============================] - 0s 872us/step\n",
      "cm [[650 214]\n",
      " [272 650]]\n",
      "cm.ravel() [650 214 272 650]\n",
      "Before balancing count  1.0    54\n",
      "0.0    22\n",
      "Name: class, dtype: int64\n",
      "~~~~~~~ value_counts: ~~~~~~~\n",
      "SHOULD BE BALANCED NOW: 1.0    54\n",
      "0.0    54\n",
      "Name: class, dtype: int64\n",
      "Before balancing count  1.0    53\n",
      "0.0    24\n",
      "Name: class, dtype: int64\n",
      "~~~~~~~ value_counts: ~~~~~~~\n",
      "SHOULD BE BALANCED NOW: 1.0    53\n",
      "0.0    53\n",
      "Name: class, dtype: int64\n",
      "done RE-training 0 of 3. "
     ]
    },
    {
     "name": "stderr",
     "output_type": "stream",
     "text": [
      "/home/st/sbhuvaji/anaconda3/lib/python3.9/site-packages/keras/src/engine/training.py:3000: UserWarning: You are saving your model as an HDF5 file via `model.save()`. This file format is considered legacy. We recommend using instead the native Keras format, e.g. `model.save('my_model.keras')`.\n",
      "  saving_api.save_model(\n"
     ]
    },
    {
     "name": "stdout",
     "output_type": "stream",
     "text": [
      "3/3 [==============================] - 0s 1ms/step\n",
      "cm [[14 10]\n",
      " [12 41]]\n",
      "cm.ravel() [14 10 12 41]\n",
      "done testing 0 of 2.\n",
      "3/3 [==============================] - 0s 1ms/step\n",
      "cm [[19  3]\n",
      " [16 38]]\n",
      "cm.ravel() [19  3 16 38]\n",
      "done testing 1 of 2.\n"
     ]
    },
    {
     "name": "stderr",
     "output_type": "stream",
     "text": [
      "/home/st/sbhuvaji/1AllP/Individual Patient_All Models/TLandTL/Actual TL/WithCV/TL_Packages.py:582: UserWarning: FixedFormatter should only be used together with FixedLocator\n",
      "  axs[i].set_xticklabels([''] + ['0', '1'], fontsize='xx-large')\n",
      "/home/st/sbhuvaji/1AllP/Individual Patient_All Models/TLandTL/Actual TL/WithCV/TL_Packages.py:583: UserWarning: FixedFormatter should only be used together with FixedLocator\n",
      "  axs[i].set_yticklabels([''] + ['0', '1'], fontsize='xx-large')\n"
     ]
    },
    {
     "name": "stdout",
     "output_type": "stream",
     "text": [
      "Population Fold 2: Training data size = 3572, Validation data size = 1786\n"
     ]
    },
    {
     "name": "stderr",
     "output_type": "stream",
     "text": [
      "/home/st/sbhuvaji/anaconda3/lib/python3.9/site-packages/keras/src/engine/training.py:3000: UserWarning: You are saving your model as an HDF5 file via `model.save()`. This file format is considered legacy. We recommend using instead the native Keras format, e.g. `model.save('my_model.keras')`.\n",
      "  saving_api.save_model(\n"
     ]
    },
    {
     "name": "stdout",
     "output_type": "stream",
     "text": [
      "56/56 [==============================] - 0s 886us/step\n",
      "cm [[711 211]\n",
      " [318 546]]\n",
      "cm.ravel() [711 211 318 546]\n",
      "Before balancing count  1.0    48\n",
      "0.0    28\n",
      "Name: class, dtype: int64\n",
      "~~~~~~~ value_counts: ~~~~~~~\n",
      "SHOULD BE BALANCED NOW: 1.0    48\n",
      "0.0    48\n",
      "Name: class, dtype: int64\n",
      "Before balancing count  1.0    59\n",
      "0.0    18\n",
      "Name: class, dtype: int64\n",
      "~~~~~~~ value_counts: ~~~~~~~\n",
      "SHOULD BE BALANCED NOW: 0.0    59\n",
      "1.0    59\n",
      "Name: class, dtype: int64\n",
      "done RE-training 0 of 3. "
     ]
    },
    {
     "name": "stderr",
     "output_type": "stream",
     "text": [
      "/home/st/sbhuvaji/anaconda3/lib/python3.9/site-packages/keras/src/engine/training.py:3000: UserWarning: You are saving your model as an HDF5 file via `model.save()`. This file format is considered legacy. We recommend using instead the native Keras format, e.g. `model.save('my_model.keras')`.\n",
      "  saving_api.save_model(\n"
     ]
    },
    {
     "name": "stdout",
     "output_type": "stream",
     "text": [
      "3/3 [==============================] - 0s 1ms/step\n",
      "cm [[15  3]\n",
      " [19 40]]\n",
      "cm.ravel() [15  3 19 40]\n",
      "done testing 0 of 2.\n",
      "3/3 [==============================] - 0s 1ms/step\n",
      "cm [[15 13]\n",
      " [ 7 41]]\n",
      "cm.ravel() [15 13  7 41]\n",
      "done testing 1 of 2.\n"
     ]
    },
    {
     "name": "stderr",
     "output_type": "stream",
     "text": [
      "/home/st/sbhuvaji/1AllP/Individual Patient_All Models/TLandTL/Actual TL/WithCV/TL_Packages.py:582: UserWarning: FixedFormatter should only be used together with FixedLocator\n",
      "  axs[i].set_xticklabels([''] + ['0', '1'], fontsize='xx-large')\n",
      "/home/st/sbhuvaji/1AllP/Individual Patient_All Models/TLandTL/Actual TL/WithCV/TL_Packages.py:583: UserWarning: FixedFormatter should only be used together with FixedLocator\n",
      "  axs[i].set_yticklabels([''] + ['0', '1'], fontsize='xx-large')\n",
      " 73%|███████▎  | 19/26 [52:54<20:22, 174.63s/it]"
     ]
    },
    {
     "name": "stdout",
     "output_type": "stream",
     "text": [
      "Runtime: 21 o' clock and 41 minutes\n",
      "~~~~~~~~~~~ 100 ~~~~~~~~~~~~~~~~~~~ 300 ~~~~~~~~~~~~~~~~~~~ SB-079 ~~~~~~~~~~~~~~~~~~~\n",
      "Before balancing count  1.0    2695\n",
      "0.0    1029\n",
      "Name: class, dtype: int64\n",
      "~~~~~~~ value_counts: ~~~~~~~\n",
      "SHOULD BE BALANCED NOW: 1.0    2695\n",
      "0.0    2695\n",
      "Name: class, dtype: int64\n",
      "X_train = 5390, y_train = 5390\n",
      "Population Fold 0: Training data size = 3593, Validation data size = 1797\n"
     ]
    },
    {
     "name": "stderr",
     "output_type": "stream",
     "text": [
      "/home/st/sbhuvaji/anaconda3/lib/python3.9/site-packages/keras/src/engine/training.py:3000: UserWarning: You are saving your model as an HDF5 file via `model.save()`. This file format is considered legacy. We recommend using instead the native Keras format, e.g. `model.save('my_model.keras')`.\n",
      "  saving_api.save_model(\n"
     ]
    },
    {
     "name": "stdout",
     "output_type": "stream",
     "text": [
      "57/57 [==============================] - 0s 821us/step\n",
      "cm [[673 192]\n",
      " [274 658]]\n",
      "cm.ravel() [673 192 274 658]\n",
      "Before balancing count  1.0    50\n",
      "0.0    21\n",
      "Name: class, dtype: int64\n",
      "~~~~~~~ value_counts: ~~~~~~~\n",
      "SHOULD BE BALANCED NOW: 1.0    50\n",
      "0.0    50\n",
      "Name: class, dtype: int64\n",
      "Before balancing count  1.0    52\n",
      "0.0    19\n",
      "Name: class, dtype: int64\n",
      "~~~~~~~ value_counts: ~~~~~~~\n",
      "SHOULD BE BALANCED NOW: 0.0    52\n",
      "1.0    52\n",
      "Name: class, dtype: int64\n",
      "done RE-training 0 of 3. "
     ]
    },
    {
     "name": "stderr",
     "output_type": "stream",
     "text": [
      "/home/st/sbhuvaji/anaconda3/lib/python3.9/site-packages/keras/src/engine/training.py:3000: UserWarning: You are saving your model as an HDF5 file via `model.save()`. This file format is considered legacy. We recommend using instead the native Keras format, e.g. `model.save('my_model.keras')`.\n",
      "  saving_api.save_model(\n"
     ]
    },
    {
     "name": "stdout",
     "output_type": "stream",
     "text": [
      "3/3 [==============================] - 0s 1ms/step\n",
      "cm [[ 6 13]\n",
      " [28 24]]\n",
      "cm.ravel() [ 6 13 28 24]\n",
      "done testing 0 of 2.\n",
      "3/3 [==============================] - 0s 1ms/step\n",
      "cm [[ 9 12]\n",
      " [17 33]]\n",
      "cm.ravel() [ 9 12 17 33]\n",
      "done testing 1 of 2.\n"
     ]
    },
    {
     "name": "stderr",
     "output_type": "stream",
     "text": [
      "/home/st/sbhuvaji/1AllP/Individual Patient_All Models/TLandTL/Actual TL/WithCV/TL_Packages.py:582: UserWarning: FixedFormatter should only be used together with FixedLocator\n",
      "  axs[i].set_xticklabels([''] + ['0', '1'], fontsize='xx-large')\n",
      "/home/st/sbhuvaji/1AllP/Individual Patient_All Models/TLandTL/Actual TL/WithCV/TL_Packages.py:583: UserWarning: FixedFormatter should only be used together with FixedLocator\n",
      "  axs[i].set_yticklabels([''] + ['0', '1'], fontsize='xx-large')\n"
     ]
    },
    {
     "name": "stdout",
     "output_type": "stream",
     "text": [
      "Population Fold 1: Training data size = 3593, Validation data size = 1797\n"
     ]
    },
    {
     "name": "stderr",
     "output_type": "stream",
     "text": [
      "/home/st/sbhuvaji/anaconda3/lib/python3.9/site-packages/keras/src/engine/training.py:3000: UserWarning: You are saving your model as an HDF5 file via `model.save()`. This file format is considered legacy. We recommend using instead the native Keras format, e.g. `model.save('my_model.keras')`.\n",
      "  saving_api.save_model(\n"
     ]
    },
    {
     "name": "stdout",
     "output_type": "stream",
     "text": [
      "57/57 [==============================] - 0s 865us/step\n",
      "cm [[651 241]\n",
      " [218 687]]\n",
      "cm.ravel() [651 241 218 687]\n",
      "Before balancing count  1.0    56\n",
      "0.0    15\n",
      "Name: class, dtype: int64\n",
      "~~~~~~~ value_counts: ~~~~~~~\n",
      "SHOULD BE BALANCED NOW: 0.0    56\n",
      "1.0    56\n",
      "Name: class, dtype: int64\n",
      "Before balancing count  1.0    46\n",
      "0.0    25\n",
      "Name: class, dtype: int64\n",
      "~~~~~~~ value_counts: ~~~~~~~\n",
      "SHOULD BE BALANCED NOW: 0.0    46\n",
      "1.0    46\n",
      "Name: class, dtype: int64\n",
      "done RE-training 0 of 3. "
     ]
    },
    {
     "name": "stderr",
     "output_type": "stream",
     "text": [
      "/home/st/sbhuvaji/anaconda3/lib/python3.9/site-packages/keras/src/engine/training.py:3000: UserWarning: You are saving your model as an HDF5 file via `model.save()`. This file format is considered legacy. We recommend using instead the native Keras format, e.g. `model.save('my_model.keras')`.\n",
      "  saving_api.save_model(\n"
     ]
    },
    {
     "name": "stdout",
     "output_type": "stream",
     "text": [
      "3/3 [==============================] - 0s 1ms/step\n",
      "cm [[ 9 16]\n",
      " [13 33]]\n",
      "cm.ravel() [ 9 16 13 33]\n",
      "done testing 0 of 2.\n",
      "3/3 [==============================] - 0s 1ms/step\n",
      "cm [[ 7  8]\n",
      " [19 37]]\n",
      "cm.ravel() [ 7  8 19 37]\n",
      "done testing 1 of 2.\n"
     ]
    },
    {
     "name": "stderr",
     "output_type": "stream",
     "text": [
      "/home/st/sbhuvaji/1AllP/Individual Patient_All Models/TLandTL/Actual TL/WithCV/TL_Packages.py:582: UserWarning: FixedFormatter should only be used together with FixedLocator\n",
      "  axs[i].set_xticklabels([''] + ['0', '1'], fontsize='xx-large')\n",
      "/home/st/sbhuvaji/1AllP/Individual Patient_All Models/TLandTL/Actual TL/WithCV/TL_Packages.py:583: UserWarning: FixedFormatter should only be used together with FixedLocator\n",
      "  axs[i].set_yticklabels([''] + ['0', '1'], fontsize='xx-large')\n"
     ]
    },
    {
     "name": "stdout",
     "output_type": "stream",
     "text": [
      "Population Fold 2: Training data size = 3594, Validation data size = 1796\n"
     ]
    },
    {
     "name": "stderr",
     "output_type": "stream",
     "text": [
      "/home/st/sbhuvaji/anaconda3/lib/python3.9/site-packages/keras/src/engine/training.py:3000: UserWarning: You are saving your model as an HDF5 file via `model.save()`. This file format is considered legacy. We recommend using instead the native Keras format, e.g. `model.save('my_model.keras')`.\n",
      "  saving_api.save_model(\n"
     ]
    },
    {
     "name": "stdout",
     "output_type": "stream",
     "text": [
      "57/57 [==============================] - 0s 813us/step\n",
      "cm [[694 244]\n",
      " [211 647]]\n",
      "cm.ravel() [694 244 211 647]\n",
      "Before balancing count  1.0    48\n",
      "0.0    23\n",
      "Name: class, dtype: int64\n",
      "~~~~~~~ value_counts: ~~~~~~~\n",
      "SHOULD BE BALANCED NOW: 1.0    48\n",
      "0.0    48\n",
      "Name: class, dtype: int64\n",
      "Before balancing count  1.0    54\n",
      "0.0    17\n",
      "Name: class, dtype: int64\n",
      "~~~~~~~ value_counts: ~~~~~~~\n",
      "SHOULD BE BALANCED NOW: 1.0    54\n",
      "0.0    54\n",
      "Name: class, dtype: int64\n",
      "done RE-training 0 of 3. "
     ]
    },
    {
     "name": "stderr",
     "output_type": "stream",
     "text": [
      "/home/st/sbhuvaji/anaconda3/lib/python3.9/site-packages/keras/src/engine/training.py:3000: UserWarning: You are saving your model as an HDF5 file via `model.save()`. This file format is considered legacy. We recommend using instead the native Keras format, e.g. `model.save('my_model.keras')`.\n",
      "  saving_api.save_model(\n"
     ]
    },
    {
     "name": "stdout",
     "output_type": "stream",
     "text": [
      "3/3 [==============================] - 0s 2ms/step\n",
      "cm [[13  4]\n",
      " [14 40]]\n",
      "cm.ravel() [13  4 14 40]\n",
      "done testing 0 of 2.\n",
      "3/3 [==============================] - 0s 1ms/step\n",
      "cm [[15  8]\n",
      " [14 34]]\n",
      "cm.ravel() [15  8 14 34]\n",
      "done testing 1 of 2.\n"
     ]
    },
    {
     "name": "stderr",
     "output_type": "stream",
     "text": [
      "/home/st/sbhuvaji/1AllP/Individual Patient_All Models/TLandTL/Actual TL/WithCV/TL_Packages.py:582: UserWarning: FixedFormatter should only be used together with FixedLocator\n",
      "  axs[i].set_xticklabels([''] + ['0', '1'], fontsize='xx-large')\n",
      "/home/st/sbhuvaji/1AllP/Individual Patient_All Models/TLandTL/Actual TL/WithCV/TL_Packages.py:583: UserWarning: FixedFormatter should only be used together with FixedLocator\n",
      "  axs[i].set_yticklabels([''] + ['0', '1'], fontsize='xx-large')\n",
      " 77%|███████▋  | 20/26 [55:50<17:29, 174.98s/it]"
     ]
    },
    {
     "name": "stdout",
     "output_type": "stream",
     "text": [
      "Runtime: 21 o' clock and 43 minutes\n",
      "~~~~~~~~~~~ 100 ~~~~~~~~~~~~~~~~~~~ 300 ~~~~~~~~~~~~~~~~~~~ SB-080 ~~~~~~~~~~~~~~~~~~~\n",
      "Before balancing count  1.0    2662\n",
      "0.0    1024\n",
      "Name: class, dtype: int64\n",
      "~~~~~~~ value_counts: ~~~~~~~\n",
      "SHOULD BE BALANCED NOW: 0.0    2662\n",
      "1.0    2662\n",
      "Name: class, dtype: int64\n",
      "X_train = 5324, y_train = 5324\n",
      "Population Fold 0: Training data size = 3549, Validation data size = 1775\n"
     ]
    },
    {
     "name": "stderr",
     "output_type": "stream",
     "text": [
      "/home/st/sbhuvaji/anaconda3/lib/python3.9/site-packages/keras/src/engine/training.py:3000: UserWarning: You are saving your model as an HDF5 file via `model.save()`. This file format is considered legacy. We recommend using instead the native Keras format, e.g. `model.save('my_model.keras')`.\n",
      "  saving_api.save_model(\n"
     ]
    },
    {
     "name": "stdout",
     "output_type": "stream",
     "text": [
      "56/56 [==============================] - 0s 867us/step\n",
      "cm [[691 212]\n",
      " [252 620]]\n",
      "cm.ravel() [691 212 252 620]\n",
      "Before balancing count  1.0    63\n",
      "0.0    27\n",
      "Name: class, dtype: int64\n",
      "~~~~~~~ value_counts: ~~~~~~~\n",
      "SHOULD BE BALANCED NOW: 1.0    63\n",
      "0.0    63\n",
      "Name: class, dtype: int64\n",
      "Before balancing count  1.0    65\n",
      "0.0    26\n",
      "Name: class, dtype: int64\n",
      "~~~~~~~ value_counts: ~~~~~~~\n",
      "SHOULD BE BALANCED NOW: 0.0    65\n",
      "1.0    65\n",
      "Name: class, dtype: int64\n",
      "done RE-training 0 of 3. "
     ]
    },
    {
     "name": "stderr",
     "output_type": "stream",
     "text": [
      "/home/st/sbhuvaji/anaconda3/lib/python3.9/site-packages/keras/src/engine/training.py:3000: UserWarning: You are saving your model as an HDF5 file via `model.save()`. This file format is considered legacy. We recommend using instead the native Keras format, e.g. `model.save('my_model.keras')`.\n",
      "  saving_api.save_model(\n"
     ]
    },
    {
     "name": "stdout",
     "output_type": "stream",
     "text": [
      "3/3 [==============================] - 0s 1ms/step\n",
      "cm [[ 6 20]\n",
      " [29 36]]\n",
      "cm.ravel() [ 6 20 29 36]\n",
      "done testing 0 of 2.\n",
      "3/3 [==============================] - 0s 1ms/step\n",
      "cm [[ 9 18]\n",
      " [24 39]]\n",
      "cm.ravel() [ 9 18 24 39]\n",
      "done testing 1 of 2.\n"
     ]
    },
    {
     "name": "stderr",
     "output_type": "stream",
     "text": [
      "/home/st/sbhuvaji/1AllP/Individual Patient_All Models/TLandTL/Actual TL/WithCV/TL_Packages.py:582: UserWarning: FixedFormatter should only be used together with FixedLocator\n",
      "  axs[i].set_xticklabels([''] + ['0', '1'], fontsize='xx-large')\n",
      "/home/st/sbhuvaji/1AllP/Individual Patient_All Models/TLandTL/Actual TL/WithCV/TL_Packages.py:583: UserWarning: FixedFormatter should only be used together with FixedLocator\n",
      "  axs[i].set_yticklabels([''] + ['0', '1'], fontsize='xx-large')\n"
     ]
    },
    {
     "name": "stdout",
     "output_type": "stream",
     "text": [
      "Population Fold 1: Training data size = 3549, Validation data size = 1775\n"
     ]
    },
    {
     "name": "stderr",
     "output_type": "stream",
     "text": [
      "/home/st/sbhuvaji/anaconda3/lib/python3.9/site-packages/keras/src/engine/training.py:3000: UserWarning: You are saving your model as an HDF5 file via `model.save()`. This file format is considered legacy. We recommend using instead the native Keras format, e.g. `model.save('my_model.keras')`.\n",
      "  saving_api.save_model(\n"
     ]
    },
    {
     "name": "stdout",
     "output_type": "stream",
     "text": [
      "56/56 [==============================] - 0s 834us/step\n",
      "cm [[632 217]\n",
      " [280 646]]\n",
      "cm.ravel() [632 217 280 646]\n",
      "Before balancing count  1.0    70\n",
      "0.0    20\n",
      "Name: class, dtype: int64\n",
      "~~~~~~~ value_counts: ~~~~~~~\n",
      "SHOULD BE BALANCED NOW: 1.0    70\n",
      "0.0    70\n",
      "Name: class, dtype: int64\n",
      "Before balancing count  1.0    58\n",
      "0.0    33\n",
      "Name: class, dtype: int64\n",
      "~~~~~~~ value_counts: ~~~~~~~\n",
      "SHOULD BE BALANCED NOW: 1.0    58\n",
      "0.0    58\n",
      "Name: class, dtype: int64\n",
      "done RE-training 0 of 3. "
     ]
    },
    {
     "name": "stderr",
     "output_type": "stream",
     "text": [
      "/home/st/sbhuvaji/anaconda3/lib/python3.9/site-packages/keras/src/engine/training.py:3000: UserWarning: You are saving your model as an HDF5 file via `model.save()`. This file format is considered legacy. We recommend using instead the native Keras format, e.g. `model.save('my_model.keras')`.\n",
      "  saving_api.save_model(\n"
     ]
    },
    {
     "name": "stdout",
     "output_type": "stream",
     "text": [
      "3/3 [==============================] - 0s 1ms/step\n",
      "cm [[11 22]\n",
      " [13 45]]\n",
      "cm.ravel() [11 22 13 45]\n",
      "done testing 0 of 2.\n",
      "3/3 [==============================] - 0s 2ms/step\n",
      "cm [[12  8]\n",
      " [35 35]]\n",
      "cm.ravel() [12  8 35 35]\n",
      "done testing 1 of 2.\n"
     ]
    },
    {
     "name": "stderr",
     "output_type": "stream",
     "text": [
      "/home/st/sbhuvaji/1AllP/Individual Patient_All Models/TLandTL/Actual TL/WithCV/TL_Packages.py:582: UserWarning: FixedFormatter should only be used together with FixedLocator\n",
      "  axs[i].set_xticklabels([''] + ['0', '1'], fontsize='xx-large')\n",
      "/home/st/sbhuvaji/1AllP/Individual Patient_All Models/TLandTL/Actual TL/WithCV/TL_Packages.py:583: UserWarning: FixedFormatter should only be used together with FixedLocator\n",
      "  axs[i].set_yticklabels([''] + ['0', '1'], fontsize='xx-large')\n"
     ]
    },
    {
     "name": "stdout",
     "output_type": "stream",
     "text": [
      "Population Fold 2: Training data size = 3550, Validation data size = 1774\n"
     ]
    },
    {
     "name": "stderr",
     "output_type": "stream",
     "text": [
      "/home/st/sbhuvaji/anaconda3/lib/python3.9/site-packages/keras/src/engine/training.py:3000: UserWarning: You are saving your model as an HDF5 file via `model.save()`. This file format is considered legacy. We recommend using instead the native Keras format, e.g. `model.save('my_model.keras')`.\n",
      "  saving_api.save_model(\n"
     ]
    },
    {
     "name": "stdout",
     "output_type": "stream",
     "text": [
      "56/56 [==============================] - 0s 844us/step\n",
      "cm [[713 197]\n",
      " [245 619]]\n",
      "cm.ravel() [713 197 245 619]\n",
      "Before balancing count  1.0    64\n",
      "0.0    26\n",
      "Name: class, dtype: int64\n",
      "~~~~~~~ value_counts: ~~~~~~~\n",
      "SHOULD BE BALANCED NOW: 0.0    64\n",
      "1.0    64\n",
      "Name: class, dtype: int64\n",
      "Before balancing count  1.0    64\n",
      "0.0    27\n",
      "Name: class, dtype: int64\n",
      "~~~~~~~ value_counts: ~~~~~~~\n",
      "SHOULD BE BALANCED NOW: 0.0    64\n",
      "1.0    64\n",
      "Name: class, dtype: int64\n",
      "done RE-training 0 of 3. "
     ]
    },
    {
     "name": "stderr",
     "output_type": "stream",
     "text": [
      "/home/st/sbhuvaji/anaconda3/lib/python3.9/site-packages/keras/src/engine/training.py:3000: UserWarning: You are saving your model as an HDF5 file via `model.save()`. This file format is considered legacy. We recommend using instead the native Keras format, e.g. `model.save('my_model.keras')`.\n",
      "  saving_api.save_model(\n"
     ]
    },
    {
     "name": "stdout",
     "output_type": "stream",
     "text": [
      "3/3 [==============================] - 0s 1ms/step\n",
      "cm [[18  9]\n",
      " [27 37]]\n",
      "cm.ravel() [18  9 27 37]\n",
      "done testing 0 of 2.\n",
      "3/3 [==============================] - 0s 1ms/step\n",
      "cm [[ 8 18]\n",
      " [20 44]]\n",
      "cm.ravel() [ 8 18 20 44]\n",
      "done testing 1 of 2.\n"
     ]
    },
    {
     "name": "stderr",
     "output_type": "stream",
     "text": [
      "/home/st/sbhuvaji/1AllP/Individual Patient_All Models/TLandTL/Actual TL/WithCV/TL_Packages.py:582: UserWarning: FixedFormatter should only be used together with FixedLocator\n",
      "  axs[i].set_xticklabels([''] + ['0', '1'], fontsize='xx-large')\n",
      "/home/st/sbhuvaji/1AllP/Individual Patient_All Models/TLandTL/Actual TL/WithCV/TL_Packages.py:583: UserWarning: FixedFormatter should only be used together with FixedLocator\n",
      "  axs[i].set_yticklabels([''] + ['0', '1'], fontsize='xx-large')\n",
      " 81%|████████  | 21/26 [58:48<14:39, 175.90s/it]"
     ]
    },
    {
     "name": "stdout",
     "output_type": "stream",
     "text": [
      "Runtime: 21 o' clock and 46 minutes\n",
      "~~~~~~~~~~~ 100 ~~~~~~~~~~~~~~~~~~~ 300 ~~~~~~~~~~~~~~~~~~~ SB-082 ~~~~~~~~~~~~~~~~~~~\n",
      "Before balancing count  1.0    2702\n",
      "0.0    1026\n",
      "Name: class, dtype: int64\n",
      "~~~~~~~ value_counts: ~~~~~~~\n",
      "SHOULD BE BALANCED NOW: 0.0    2702\n",
      "1.0    2702\n",
      "Name: class, dtype: int64\n",
      "X_train = 5404, y_train = 5404\n",
      "Population Fold 0: Training data size = 3602, Validation data size = 1802\n"
     ]
    },
    {
     "name": "stderr",
     "output_type": "stream",
     "text": [
      "/home/st/sbhuvaji/anaconda3/lib/python3.9/site-packages/keras/src/engine/training.py:3000: UserWarning: You are saving your model as an HDF5 file via `model.save()`. This file format is considered legacy. We recommend using instead the native Keras format, e.g. `model.save('my_model.keras')`.\n",
      "  saving_api.save_model(\n"
     ]
    },
    {
     "name": "stdout",
     "output_type": "stream",
     "text": [
      "57/57 [==============================] - 0s 823us/step\n",
      "cm [[660 241]\n",
      " [249 652]]\n",
      "cm.ravel() [660 241 249 652]\n",
      "Before balancing count  1.0    41\n",
      "0.0    27\n",
      "Name: class, dtype: int64\n",
      "~~~~~~~ value_counts: ~~~~~~~\n",
      "SHOULD BE BALANCED NOW: 0.0    41\n",
      "1.0    41\n",
      "Name: class, dtype: int64\n",
      "Before balancing count  1.0    44\n",
      "0.0    25\n",
      "Name: class, dtype: int64\n",
      "~~~~~~~ value_counts: ~~~~~~~\n",
      "SHOULD BE BALANCED NOW: 1.0    44\n",
      "0.0    44\n",
      "Name: class, dtype: int64\n",
      "done RE-training 0 of 3. "
     ]
    },
    {
     "name": "stderr",
     "output_type": "stream",
     "text": [
      "/home/st/sbhuvaji/anaconda3/lib/python3.9/site-packages/keras/src/engine/training.py:3000: UserWarning: You are saving your model as an HDF5 file via `model.save()`. This file format is considered legacy. We recommend using instead the native Keras format, e.g. `model.save('my_model.keras')`.\n",
      "  saving_api.save_model(\n"
     ]
    },
    {
     "name": "stdout",
     "output_type": "stream",
     "text": [
      "3/3 [==============================] - 0s 1ms/step\n",
      "cm [[16  9]\n",
      " [16 28]]\n",
      "cm.ravel() [16  9 16 28]\n",
      "done testing 0 of 2.\n",
      "3/3 [==============================] - 0s 1ms/step\n",
      "cm [[16 11]\n",
      " [12 29]]\n",
      "cm.ravel() [16 11 12 29]\n",
      "done testing 1 of 2.\n"
     ]
    },
    {
     "name": "stderr",
     "output_type": "stream",
     "text": [
      "/home/st/sbhuvaji/1AllP/Individual Patient_All Models/TLandTL/Actual TL/WithCV/TL_Packages.py:582: UserWarning: FixedFormatter should only be used together with FixedLocator\n",
      "  axs[i].set_xticklabels([''] + ['0', '1'], fontsize='xx-large')\n",
      "/home/st/sbhuvaji/1AllP/Individual Patient_All Models/TLandTL/Actual TL/WithCV/TL_Packages.py:583: UserWarning: FixedFormatter should only be used together with FixedLocator\n",
      "  axs[i].set_yticklabels([''] + ['0', '1'], fontsize='xx-large')\n"
     ]
    },
    {
     "name": "stdout",
     "output_type": "stream",
     "text": [
      "Population Fold 1: Training data size = 3603, Validation data size = 1801\n"
     ]
    },
    {
     "name": "stderr",
     "output_type": "stream",
     "text": [
      "/home/st/sbhuvaji/anaconda3/lib/python3.9/site-packages/keras/src/engine/training.py:3000: UserWarning: You are saving your model as an HDF5 file via `model.save()`. This file format is considered legacy. We recommend using instead the native Keras format, e.g. `model.save('my_model.keras')`.\n",
      "  saving_api.save_model(\n"
     ]
    },
    {
     "name": "stdout",
     "output_type": "stream",
     "text": [
      "57/57 [==============================] - 0s 830us/step\n",
      "cm [[664 236]\n",
      " [293 608]]\n",
      "cm.ravel() [664 236 293 608]\n",
      "Before balancing count  1.0    40\n",
      "0.0    28\n",
      "Name: class, dtype: int64\n",
      "~~~~~~~ value_counts: ~~~~~~~\n",
      "SHOULD BE BALANCED NOW: 0.0    40\n",
      "1.0    40\n",
      "Name: class, dtype: int64\n",
      "Before balancing count  1.0    45\n",
      "0.0    24\n",
      "Name: class, dtype: int64\n",
      "~~~~~~~ value_counts: ~~~~~~~\n",
      "SHOULD BE BALANCED NOW: 0.0    45\n",
      "1.0    45\n",
      "Name: class, dtype: int64\n",
      "done RE-training 0 of 3. "
     ]
    },
    {
     "name": "stderr",
     "output_type": "stream",
     "text": [
      "/home/st/sbhuvaji/anaconda3/lib/python3.9/site-packages/keras/src/engine/training.py:3000: UserWarning: You are saving your model as an HDF5 file via `model.save()`. This file format is considered legacy. We recommend using instead the native Keras format, e.g. `model.save('my_model.keras')`.\n",
      "  saving_api.save_model(\n"
     ]
    },
    {
     "name": "stdout",
     "output_type": "stream",
     "text": [
      "3/3 [==============================] - 0s 1ms/step\n",
      "cm [[20  4]\n",
      " [18 27]]\n",
      "cm.ravel() [20  4 18 27]\n",
      "done testing 0 of 2.\n",
      "3/3 [==============================] - 0s 1ms/step\n",
      "cm [[17 11]\n",
      " [12 28]]\n",
      "cm.ravel() [17 11 12 28]\n",
      "done testing 1 of 2.\n"
     ]
    },
    {
     "name": "stderr",
     "output_type": "stream",
     "text": [
      "/home/st/sbhuvaji/1AllP/Individual Patient_All Models/TLandTL/Actual TL/WithCV/TL_Packages.py:582: UserWarning: FixedFormatter should only be used together with FixedLocator\n",
      "  axs[i].set_xticklabels([''] + ['0', '1'], fontsize='xx-large')\n",
      "/home/st/sbhuvaji/1AllP/Individual Patient_All Models/TLandTL/Actual TL/WithCV/TL_Packages.py:583: UserWarning: FixedFormatter should only be used together with FixedLocator\n",
      "  axs[i].set_yticklabels([''] + ['0', '1'], fontsize='xx-large')\n"
     ]
    },
    {
     "name": "stdout",
     "output_type": "stream",
     "text": [
      "Population Fold 2: Training data size = 3603, Validation data size = 1801\n"
     ]
    },
    {
     "name": "stderr",
     "output_type": "stream",
     "text": [
      "/home/st/sbhuvaji/anaconda3/lib/python3.9/site-packages/keras/src/engine/training.py:3000: UserWarning: You are saving your model as an HDF5 file via `model.save()`. This file format is considered legacy. We recommend using instead the native Keras format, e.g. `model.save('my_model.keras')`.\n",
      "  saving_api.save_model(\n"
     ]
    },
    {
     "name": "stdout",
     "output_type": "stream",
     "text": [
      "57/57 [==============================] - 0s 848us/step\n",
      "cm [[723 178]\n",
      " [273 627]]\n",
      "cm.ravel() [723 178 273 627]\n",
      "Before balancing count  1.0    41\n",
      "0.0    27\n",
      "Name: class, dtype: int64\n",
      "~~~~~~~ value_counts: ~~~~~~~\n",
      "SHOULD BE BALANCED NOW: 0.0    41\n",
      "1.0    41\n",
      "Name: class, dtype: int64\n",
      "Before balancing count  1.0    44\n",
      "0.0    25\n",
      "Name: class, dtype: int64\n",
      "~~~~~~~ value_counts: ~~~~~~~\n",
      "SHOULD BE BALANCED NOW: 1.0    44\n",
      "0.0    44\n",
      "Name: class, dtype: int64\n",
      "done RE-training 0 of 3. "
     ]
    },
    {
     "name": "stderr",
     "output_type": "stream",
     "text": [
      "/home/st/sbhuvaji/anaconda3/lib/python3.9/site-packages/keras/src/engine/training.py:3000: UserWarning: You are saving your model as an HDF5 file via `model.save()`. This file format is considered legacy. We recommend using instead the native Keras format, e.g. `model.save('my_model.keras')`.\n",
      "  saving_api.save_model(\n"
     ]
    },
    {
     "name": "stdout",
     "output_type": "stream",
     "text": [
      "3/3 [==============================] - 0s 1ms/step\n",
      "cm [[14 11]\n",
      " [19 25]]\n",
      "cm.ravel() [14 11 19 25]\n",
      "done testing 0 of 2.\n",
      "3/3 [==============================] - 0s 2ms/step\n",
      "cm [[21  6]\n",
      " [12 29]]\n",
      "cm.ravel() [21  6 12 29]\n",
      "done testing 1 of 2.\n"
     ]
    },
    {
     "name": "stderr",
     "output_type": "stream",
     "text": [
      "/home/st/sbhuvaji/1AllP/Individual Patient_All Models/TLandTL/Actual TL/WithCV/TL_Packages.py:582: UserWarning: FixedFormatter should only be used together with FixedLocator\n",
      "  axs[i].set_xticklabels([''] + ['0', '1'], fontsize='xx-large')\n",
      "/home/st/sbhuvaji/1AllP/Individual Patient_All Models/TLandTL/Actual TL/WithCV/TL_Packages.py:583: UserWarning: FixedFormatter should only be used together with FixedLocator\n",
      "  axs[i].set_yticklabels([''] + ['0', '1'], fontsize='xx-large')\n",
      " 88%|████████▊ | 23/26 [1:01:42<06:45, 135.10s/it]"
     ]
    },
    {
     "name": "stdout",
     "output_type": "stream",
     "text": [
      "Runtime: 21 o' clock and 49 minutes\n",
      "~~~~~~~~~~~ 100 ~~~~~~~~~~~~~~~~~~~ 300 ~~~~~~~~~~~~~~~~~~~ SB-083 ~~~~~~~~~~~~~~~~~~~\n",
      "Before balancing count  1.0    2645\n",
      "0.0    1018\n",
      "Name: class, dtype: int64\n",
      "~~~~~~~ value_counts: ~~~~~~~\n",
      "SHOULD BE BALANCED NOW: 0.0    2645\n",
      "1.0    2645\n",
      "Name: class, dtype: int64\n",
      "X_train = 5290, y_train = 5290\n",
      "Population Fold 0: Training data size = 3526, Validation data size = 1764\n"
     ]
    },
    {
     "name": "stderr",
     "output_type": "stream",
     "text": [
      "/home/st/sbhuvaji/anaconda3/lib/python3.9/site-packages/keras/src/engine/training.py:3000: UserWarning: You are saving your model as an HDF5 file via `model.save()`. This file format is considered legacy. We recommend using instead the native Keras format, e.g. `model.save('my_model.keras')`.\n",
      "  saving_api.save_model(\n"
     ]
    },
    {
     "name": "stdout",
     "output_type": "stream",
     "text": [
      "56/56 [==============================] - 0s 817us/step\n",
      "cm [[655 206]\n",
      " [233 670]]\n",
      "cm.ravel() [655 206 233 670]\n",
      "Before balancing count  1.0    65\n",
      "0.0    38\n",
      "Name: class, dtype: int64\n",
      "~~~~~~~ value_counts: ~~~~~~~\n",
      "SHOULD BE BALANCED NOW: 0.0    65\n",
      "1.0    65\n",
      "Name: class, dtype: int64\n",
      "Before balancing count  1.0    79\n",
      "0.0    24\n",
      "Name: class, dtype: int64\n",
      "~~~~~~~ value_counts: ~~~~~~~\n",
      "SHOULD BE BALANCED NOW: 1.0    79\n",
      "0.0    79\n",
      "Name: class, dtype: int64\n",
      "done RE-training 0 of 3. "
     ]
    },
    {
     "name": "stderr",
     "output_type": "stream",
     "text": [
      "/home/st/sbhuvaji/anaconda3/lib/python3.9/site-packages/keras/src/engine/training.py:3000: UserWarning: You are saving your model as an HDF5 file via `model.save()`. This file format is considered legacy. We recommend using instead the native Keras format, e.g. `model.save('my_model.keras')`.\n",
      "  saving_api.save_model(\n"
     ]
    },
    {
     "name": "stdout",
     "output_type": "stream",
     "text": [
      "4/4 [==============================] - 0s 1ms/step\n",
      "cm [[15  9]\n",
      " [31 48]]\n",
      "cm.ravel() [15  9 31 48]\n",
      "done testing 0 of 2.\n",
      "4/4 [==============================] - 0s 1ms/step\n",
      "cm [[27 11]\n",
      " [22 43]]\n",
      "cm.ravel() [27 11 22 43]\n",
      "done testing 1 of 2.\n"
     ]
    },
    {
     "name": "stderr",
     "output_type": "stream",
     "text": [
      "/home/st/sbhuvaji/1AllP/Individual Patient_All Models/TLandTL/Actual TL/WithCV/TL_Packages.py:582: UserWarning: FixedFormatter should only be used together with FixedLocator\n",
      "  axs[i].set_xticklabels([''] + ['0', '1'], fontsize='xx-large')\n",
      "/home/st/sbhuvaji/1AllP/Individual Patient_All Models/TLandTL/Actual TL/WithCV/TL_Packages.py:583: UserWarning: FixedFormatter should only be used together with FixedLocator\n",
      "  axs[i].set_yticklabels([''] + ['0', '1'], fontsize='xx-large')\n"
     ]
    },
    {
     "name": "stdout",
     "output_type": "stream",
     "text": [
      "Population Fold 1: Training data size = 3527, Validation data size = 1763\n"
     ]
    },
    {
     "name": "stderr",
     "output_type": "stream",
     "text": [
      "/home/st/sbhuvaji/anaconda3/lib/python3.9/site-packages/keras/src/engine/training.py:3000: UserWarning: You are saving your model as an HDF5 file via `model.save()`. This file format is considered legacy. We recommend using instead the native Keras format, e.g. `model.save('my_model.keras')`.\n",
      "  saving_api.save_model(\n"
     ]
    },
    {
     "name": "stdout",
     "output_type": "stream",
     "text": [
      "56/56 [==============================] - 0s 881us/step\n",
      "cm [[662 259]\n",
      " [208 634]]\n",
      "cm.ravel() [662 259 208 634]\n",
      "Before balancing count  1.0    77\n",
      "0.0    26\n",
      "Name: class, dtype: int64\n",
      "~~~~~~~ value_counts: ~~~~~~~\n",
      "SHOULD BE BALANCED NOW: 0.0    77\n",
      "1.0    77\n",
      "Name: class, dtype: int64\n",
      "Before balancing count  1.0    67\n",
      "0.0    36\n",
      "Name: class, dtype: int64\n",
      "~~~~~~~ value_counts: ~~~~~~~\n",
      "SHOULD BE BALANCED NOW: 1.0    67\n",
      "0.0    67\n",
      "Name: class, dtype: int64\n",
      "done RE-training 0 of 3. "
     ]
    },
    {
     "name": "stderr",
     "output_type": "stream",
     "text": [
      "/home/st/sbhuvaji/anaconda3/lib/python3.9/site-packages/keras/src/engine/training.py:3000: UserWarning: You are saving your model as an HDF5 file via `model.save()`. This file format is considered legacy. We recommend using instead the native Keras format, e.g. `model.save('my_model.keras')`.\n",
      "  saving_api.save_model(\n"
     ]
    },
    {
     "name": "stdout",
     "output_type": "stream",
     "text": [
      "4/4 [==============================] - 0s 1ms/step\n",
      "cm [[24 12]\n",
      " [20 47]]\n",
      "cm.ravel() [24 12 20 47]\n",
      "done testing 0 of 2.\n",
      "4/4 [==============================] - 0s 1ms/step\n",
      "cm [[14 12]\n",
      " [29 48]]\n",
      "cm.ravel() [14 12 29 48]\n",
      "done testing 1 of 2.\n"
     ]
    },
    {
     "name": "stderr",
     "output_type": "stream",
     "text": [
      "/home/st/sbhuvaji/1AllP/Individual Patient_All Models/TLandTL/Actual TL/WithCV/TL_Packages.py:582: UserWarning: FixedFormatter should only be used together with FixedLocator\n",
      "  axs[i].set_xticklabels([''] + ['0', '1'], fontsize='xx-large')\n",
      "/home/st/sbhuvaji/1AllP/Individual Patient_All Models/TLandTL/Actual TL/WithCV/TL_Packages.py:583: UserWarning: FixedFormatter should only be used together with FixedLocator\n",
      "  axs[i].set_yticklabels([''] + ['0', '1'], fontsize='xx-large')\n"
     ]
    },
    {
     "name": "stdout",
     "output_type": "stream",
     "text": [
      "Population Fold 2: Training data size = 3527, Validation data size = 1763\n"
     ]
    },
    {
     "name": "stderr",
     "output_type": "stream",
     "text": [
      "/home/st/sbhuvaji/anaconda3/lib/python3.9/site-packages/keras/src/engine/training.py:3000: UserWarning: You are saving your model as an HDF5 file via `model.save()`. This file format is considered legacy. We recommend using instead the native Keras format, e.g. `model.save('my_model.keras')`.\n",
      "  saving_api.save_model(\n"
     ]
    },
    {
     "name": "stdout",
     "output_type": "stream",
     "text": [
      "56/56 [==============================] - 0s 889us/step\n",
      "cm [[639 224]\n",
      " [232 668]]\n",
      "cm.ravel() [639 224 232 668]\n",
      "Before balancing count  1.0    73\n",
      "0.0    30\n",
      "Name: class, dtype: int64\n",
      "~~~~~~~ value_counts: ~~~~~~~\n",
      "SHOULD BE BALANCED NOW: 0.0    73\n",
      "1.0    73\n",
      "Name: class, dtype: int64\n",
      "Before balancing count  1.0    71\n",
      "0.0    32\n",
      "Name: class, dtype: int64\n",
      "~~~~~~~ value_counts: ~~~~~~~\n",
      "SHOULD BE BALANCED NOW: 1.0    71\n",
      "0.0    71\n",
      "Name: class, dtype: int64\n",
      "done RE-training 0 of 3. "
     ]
    },
    {
     "name": "stderr",
     "output_type": "stream",
     "text": [
      "/home/st/sbhuvaji/anaconda3/lib/python3.9/site-packages/keras/src/engine/training.py:3000: UserWarning: You are saving your model as an HDF5 file via `model.save()`. This file format is considered legacy. We recommend using instead the native Keras format, e.g. `model.save('my_model.keras')`.\n",
      "  saving_api.save_model(\n"
     ]
    },
    {
     "name": "stdout",
     "output_type": "stream",
     "text": [
      "4/4 [==============================] - 0s 1ms/step\n",
      "cm [[20 12]\n",
      " [34 37]]\n",
      "cm.ravel() [20 12 34 37]\n",
      "done testing 0 of 2.\n",
      "4/4 [==============================] - 0s 1ms/step\n",
      "cm [[14 16]\n",
      " [22 51]]\n",
      "cm.ravel() [14 16 22 51]\n",
      "done testing 1 of 2.\n"
     ]
    },
    {
     "name": "stderr",
     "output_type": "stream",
     "text": [
      "/home/st/sbhuvaji/1AllP/Individual Patient_All Models/TLandTL/Actual TL/WithCV/TL_Packages.py:582: UserWarning: FixedFormatter should only be used together with FixedLocator\n",
      "  axs[i].set_xticklabels([''] + ['0', '1'], fontsize='xx-large')\n",
      "/home/st/sbhuvaji/1AllP/Individual Patient_All Models/TLandTL/Actual TL/WithCV/TL_Packages.py:583: UserWarning: FixedFormatter should only be used together with FixedLocator\n",
      "  axs[i].set_yticklabels([''] + ['0', '1'], fontsize='xx-large')\n",
      " 92%|█████████▏| 24/26 [1:04:41<04:51, 145.92s/it]"
     ]
    },
    {
     "name": "stdout",
     "output_type": "stream",
     "text": [
      "Runtime: 21 o' clock and 52 minutes\n",
      "~~~~~~~~~~~ 100 ~~~~~~~~~~~~~~~~~~~ 300 ~~~~~~~~~~~~~~~~~~~ SB-112 ~~~~~~~~~~~~~~~~~~~\n",
      "Before balancing count  1.0    2645\n",
      "0.0    1042\n",
      "Name: class, dtype: int64\n",
      "~~~~~~~ value_counts: ~~~~~~~\n",
      "SHOULD BE BALANCED NOW: 0.0    2645\n",
      "1.0    2645\n",
      "Name: class, dtype: int64\n",
      "X_train = 5290, y_train = 5290\n",
      "Population Fold 0: Training data size = 3526, Validation data size = 1764\n"
     ]
    },
    {
     "name": "stderr",
     "output_type": "stream",
     "text": [
      "/home/st/sbhuvaji/anaconda3/lib/python3.9/site-packages/keras/src/engine/training.py:3000: UserWarning: You are saving your model as an HDF5 file via `model.save()`. This file format is considered legacy. We recommend using instead the native Keras format, e.g. `model.save('my_model.keras')`.\n",
      "  saving_api.save_model(\n"
     ]
    },
    {
     "name": "stdout",
     "output_type": "stream",
     "text": [
      "56/56 [==============================] - 0s 793us/step\n",
      "cm [[645 221]\n",
      " [301 597]]\n",
      "cm.ravel() [645 221 301 597]\n",
      "Before balancing count  1.0    69\n",
      "0.0    21\n",
      "Name: class, dtype: int64\n",
      "~~~~~~~ value_counts: ~~~~~~~\n",
      "SHOULD BE BALANCED NOW: 1.0    69\n",
      "0.0    69\n",
      "Name: class, dtype: int64\n",
      "Before balancing count  1.0    72\n",
      "0.0    18\n",
      "Name: class, dtype: int64\n",
      "~~~~~~~ value_counts: ~~~~~~~\n",
      "SHOULD BE BALANCED NOW: 1.0    72\n",
      "0.0    72\n",
      "Name: class, dtype: int64\n",
      "done RE-training 0 of 3. "
     ]
    },
    {
     "name": "stderr",
     "output_type": "stream",
     "text": [
      "/home/st/sbhuvaji/anaconda3/lib/python3.9/site-packages/keras/src/engine/training.py:3000: UserWarning: You are saving your model as an HDF5 file via `model.save()`. This file format is considered legacy. We recommend using instead the native Keras format, e.g. `model.save('my_model.keras')`.\n",
      "  saving_api.save_model(\n"
     ]
    },
    {
     "name": "stdout",
     "output_type": "stream",
     "text": [
      "3/3 [==============================] - 0s 1ms/step\n",
      "cm [[ 5 13]\n",
      " [16 56]]\n",
      "cm.ravel() [ 5 13 16 56]\n",
      "done testing 0 of 2.\n",
      "3/3 [==============================] - 0s 1ms/step\n",
      "cm [[12  9]\n",
      " [29 40]]\n",
      "cm.ravel() [12  9 29 40]\n",
      "done testing 1 of 2.\n"
     ]
    },
    {
     "name": "stderr",
     "output_type": "stream",
     "text": [
      "/home/st/sbhuvaji/1AllP/Individual Patient_All Models/TLandTL/Actual TL/WithCV/TL_Packages.py:582: UserWarning: FixedFormatter should only be used together with FixedLocator\n",
      "  axs[i].set_xticklabels([''] + ['0', '1'], fontsize='xx-large')\n",
      "/home/st/sbhuvaji/1AllP/Individual Patient_All Models/TLandTL/Actual TL/WithCV/TL_Packages.py:583: UserWarning: FixedFormatter should only be used together with FixedLocator\n",
      "  axs[i].set_yticklabels([''] + ['0', '1'], fontsize='xx-large')\n"
     ]
    },
    {
     "name": "stdout",
     "output_type": "stream",
     "text": [
      "Population Fold 1: Training data size = 3527, Validation data size = 1763\n"
     ]
    },
    {
     "name": "stderr",
     "output_type": "stream",
     "text": [
      "/home/st/sbhuvaji/anaconda3/lib/python3.9/site-packages/keras/src/engine/training.py:3000: UserWarning: You are saving your model as an HDF5 file via `model.save()`. This file format is considered legacy. We recommend using instead the native Keras format, e.g. `model.save('my_model.keras')`.\n",
      "  saving_api.save_model(\n"
     ]
    },
    {
     "name": "stdout",
     "output_type": "stream",
     "text": [
      "56/56 [==============================] - 0s 869us/step\n",
      "cm [[721 169]\n",
      " [275 598]]\n",
      "cm.ravel() [721 169 275 598]\n",
      "Before balancing count  1.0    71\n",
      "0.0    19\n",
      "Name: class, dtype: int64\n",
      "~~~~~~~ value_counts: ~~~~~~~\n",
      "SHOULD BE BALANCED NOW: 1.0    71\n",
      "0.0    71\n",
      "Name: class, dtype: int64\n",
      "Before balancing count  1.0    70\n",
      "0.0    20\n",
      "Name: class, dtype: int64\n",
      "~~~~~~~ value_counts: ~~~~~~~\n",
      "SHOULD BE BALANCED NOW: 1.0    70\n",
      "0.0    70\n",
      "Name: class, dtype: int64\n",
      "done RE-training 0 of 3. "
     ]
    },
    {
     "name": "stderr",
     "output_type": "stream",
     "text": [
      "/home/st/sbhuvaji/anaconda3/lib/python3.9/site-packages/keras/src/engine/training.py:3000: UserWarning: You are saving your model as an HDF5 file via `model.save()`. This file format is considered legacy. We recommend using instead the native Keras format, e.g. `model.save('my_model.keras')`.\n",
      "  saving_api.save_model(\n"
     ]
    },
    {
     "name": "stdout",
     "output_type": "stream",
     "text": [
      "3/3 [==============================] - 0s 2ms/step\n",
      "cm [[ 9 11]\n",
      " [15 55]]\n",
      "cm.ravel() [ 9 11 15 55]\n",
      "done testing 0 of 2.\n",
      "3/3 [==============================] - 0s 1ms/step\n",
      "cm [[ 7 12]\n",
      " [20 51]]\n",
      "cm.ravel() [ 7 12 20 51]\n",
      "done testing 1 of 2.\n"
     ]
    },
    {
     "name": "stderr",
     "output_type": "stream",
     "text": [
      "/home/st/sbhuvaji/1AllP/Individual Patient_All Models/TLandTL/Actual TL/WithCV/TL_Packages.py:582: UserWarning: FixedFormatter should only be used together with FixedLocator\n",
      "  axs[i].set_xticklabels([''] + ['0', '1'], fontsize='xx-large')\n",
      "/home/st/sbhuvaji/1AllP/Individual Patient_All Models/TLandTL/Actual TL/WithCV/TL_Packages.py:583: UserWarning: FixedFormatter should only be used together with FixedLocator\n",
      "  axs[i].set_yticklabels([''] + ['0', '1'], fontsize='xx-large')\n"
     ]
    },
    {
     "name": "stdout",
     "output_type": "stream",
     "text": [
      "Population Fold 2: Training data size = 3527, Validation data size = 1763\n"
     ]
    },
    {
     "name": "stderr",
     "output_type": "stream",
     "text": [
      "/home/st/sbhuvaji/anaconda3/lib/python3.9/site-packages/keras/src/engine/training.py:3000: UserWarning: You are saving your model as an HDF5 file via `model.save()`. This file format is considered legacy. We recommend using instead the native Keras format, e.g. `model.save('my_model.keras')`.\n",
      "  saving_api.save_model(\n"
     ]
    },
    {
     "name": "stdout",
     "output_type": "stream",
     "text": [
      "56/56 [==============================] - 0s 805us/step\n",
      "cm [[656 233]\n",
      " [226 648]]\n",
      "cm.ravel() [656 233 226 648]\n",
      "Before balancing count  1.0    68\n",
      "0.0    22\n",
      "Name: class, dtype: int64\n",
      "~~~~~~~ value_counts: ~~~~~~~\n",
      "SHOULD BE BALANCED NOW: 1.0    68\n",
      "0.0    68\n",
      "Name: class, dtype: int64\n",
      "Before balancing count  1.0    73\n",
      "0.0    17\n",
      "Name: class, dtype: int64\n",
      "~~~~~~~ value_counts: ~~~~~~~\n",
      "SHOULD BE BALANCED NOW: 0.0    73\n",
      "1.0    73\n",
      "Name: class, dtype: int64\n",
      "done RE-training 0 of 3. "
     ]
    },
    {
     "name": "stderr",
     "output_type": "stream",
     "text": [
      "/home/st/sbhuvaji/anaconda3/lib/python3.9/site-packages/keras/src/engine/training.py:3000: UserWarning: You are saving your model as an HDF5 file via `model.save()`. This file format is considered legacy. We recommend using instead the native Keras format, e.g. `model.save('my_model.keras')`.\n",
      "  saving_api.save_model(\n"
     ]
    },
    {
     "name": "stdout",
     "output_type": "stream",
     "text": [
      "3/3 [==============================] - 0s 1ms/step\n",
      "cm [[11  6]\n",
      " [39 34]]\n",
      "cm.ravel() [11  6 39 34]\n",
      "done testing 0 of 2.\n",
      "3/3 [==============================] - 0s 2ms/step\n",
      "cm [[ 9 13]\n",
      " [18 50]]\n",
      "cm.ravel() [ 9 13 18 50]\n",
      "done testing 1 of 2.\n"
     ]
    },
    {
     "name": "stderr",
     "output_type": "stream",
     "text": [
      "/home/st/sbhuvaji/1AllP/Individual Patient_All Models/TLandTL/Actual TL/WithCV/TL_Packages.py:582: UserWarning: FixedFormatter should only be used together with FixedLocator\n",
      "  axs[i].set_xticklabels([''] + ['0', '1'], fontsize='xx-large')\n",
      "/home/st/sbhuvaji/1AllP/Individual Patient_All Models/TLandTL/Actual TL/WithCV/TL_Packages.py:583: UserWarning: FixedFormatter should only be used together with FixedLocator\n",
      "  axs[i].set_yticklabels([''] + ['0', '1'], fontsize='xx-large')\n",
      "100%|██████████| 26/26 [1:07:36<00:00, 156.04s/it]"
     ]
    },
    {
     "name": "stdout",
     "output_type": "stream",
     "text": [
      "evaluation results saved for TLSI_model_100_300_POP_FOLD2_IND_FOLD1\n"
     ]
    },
    {
     "name": "stderr",
     "output_type": "stream",
     "text": [
      "\n"
     ]
    }
   ],
   "source": [
    "TL_Base_Model(100,300, p_ids)# test this one after new value"
   ]
  },
  {
   "cell_type": "code",
   "execution_count": null,
   "metadata": {},
   "outputs": [],
   "source": []
  },
  {
   "cell_type": "code",
   "execution_count": 13,
   "metadata": {},
   "outputs": [
    {
     "name": "stdout",
     "output_type": "stream",
     "text": [
      "Done\n"
     ]
    }
   ],
   "source": [
    "print(\"Done\")"
   ]
  },
  {
   "cell_type": "code",
   "execution_count": null,
   "metadata": {},
   "outputs": [],
   "source": []
  },
  {
   "cell_type": "code",
   "execution_count": null,
   "metadata": {},
   "outputs": [],
   "source": []
  }
 ],
 "metadata": {
  "kernelspec": {
   "display_name": "Python 3",
   "language": "python",
   "name": "python3"
  },
  "language_info": {
   "codemirror_mode": {
    "name": "ipython",
    "version": 3
   },
   "file_extension": ".py",
   "mimetype": "text/x-python",
   "name": "python",
   "nbconvert_exporter": "python",
   "pygments_lexer": "ipython3",
   "version": "3.9.13"
  },
  "orig_nbformat": 4
 },
 "nbformat": 4,
 "nbformat_minor": 2
}
