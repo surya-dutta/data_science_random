{
 "cells": [
  {
   "cell_type": "markdown",
   "metadata": {},
   "source": [
    "# With CV"
   ]
  },
  {
   "cell_type": "code",
   "execution_count": 1,
   "metadata": {},
   "outputs": [],
   "source": [
    "import pandas as pd\n",
    "import numpy as np\n",
    "import pickle\n",
    "import os"
   ]
  },
  {
   "cell_type": "code",
   "execution_count": 2,
   "metadata": {},
   "outputs": [],
   "source": [
    "data_ndarr = np.load(r\"../../Data/all_pids_q=0.3.npy\", allow_pickle=True)\n",
    "datadict = data_ndarr.item()"
   ]
  },
  {
   "cell_type": "code",
   "execution_count": 3,
   "metadata": {},
   "outputs": [
    {
     "name": "stdout",
     "output_type": "stream",
     "text": [
      "patients: n = 26\n",
      "\n",
      "SB-001 shape: (188, 28)\n",
      "SB-003 shape: (180, 28)\n",
      "SB-008 shape: (178, 28)\n",
      "SB-011 shape: (210, 28)\n",
      "SB-012 shape: (194, 28)\n",
      "SB-022 shape: (204, 28)\n",
      "SB-023 shape: (194, 28)\n",
      "SB-025 shape: (117, 28)\n",
      "SB-028 shape: (92, 28)\n",
      "SB-033 shape: (53, 28)\n",
      "SB-037 shape: (210, 28)\n",
      "SB-043 shape: (191, 28)\n",
      "SB-056 shape: (191, 28)\n",
      "SB-059 shape: (203, 28)\n",
      "SB-060 shape: (88, 28)\n",
      "SB-070 shape: (202, 28)\n",
      "SB-071 shape: (124, 28)\n",
      "SB-073 shape: (161, 28)\n",
      "SB-078 shape: (153, 28)\n",
      "SB-079 shape: (142, 28)\n",
      "SB-080 shape: (181, 28)\n",
      "SB-081 shape: (34, 28)\n",
      "SB-082 shape: (137, 28)\n",
      "SB-083 shape: (206, 28)\n",
      "SB-089 shape: (49, 28)\n",
      "SB-112 shape: (180, 28)\n"
     ]
    },
    {
     "data": {
      "text/html": [
       "<div>\n",
       "<style scoped>\n",
       "    .dataframe tbody tr th:only-of-type {\n",
       "        vertical-align: middle;\n",
       "    }\n",
       "\n",
       "    .dataframe tbody tr th {\n",
       "        vertical-align: top;\n",
       "    }\n",
       "\n",
       "    .dataframe thead th {\n",
       "        text-align: right;\n",
       "    }\n",
       "</style>\n",
       "<table border=\"1\" class=\"dataframe\">\n",
       "  <thead>\n",
       "    <tr style=\"text-align: right;\">\n",
       "      <th></th>\n",
       "      <th>income</th>\n",
       "      <th>road_dist</th>\n",
       "      <th>cooking</th>\n",
       "      <th>y_am_pef</th>\n",
       "      <th>tempin</th>\n",
       "      <th>humidin</th>\n",
       "      <th>pm25in</th>\n",
       "      <th>co2in</th>\n",
       "      <th>tempdiffin</th>\n",
       "      <th>humidiffin</th>\n",
       "      <th>...</th>\n",
       "      <th>windsd</th>\n",
       "      <th>humid</th>\n",
       "      <th>varp</th>\n",
       "      <th>dewpt</th>\n",
       "      <th>airp</th>\n",
       "      <th>seap</th>\n",
       "      <th>solrhr</th>\n",
       "      <th>solramnt</th>\n",
       "      <th>grdt</th>\n",
       "      <th>class</th>\n",
       "    </tr>\n",
       "  </thead>\n",
       "  <tbody>\n",
       "    <tr>\n",
       "      <th>1</th>\n",
       "      <td>0.857</td>\n",
       "      <td>0.0</td>\n",
       "      <td>0.167</td>\n",
       "      <td>0.558</td>\n",
       "      <td>0.216</td>\n",
       "      <td>0.513</td>\n",
       "      <td>0.358</td>\n",
       "      <td>0.678</td>\n",
       "      <td>0.562</td>\n",
       "      <td>0.364</td>\n",
       "      <td>...</td>\n",
       "      <td>0.107</td>\n",
       "      <td>0.668</td>\n",
       "      <td>0.174</td>\n",
       "      <td>0.471</td>\n",
       "      <td>0.822</td>\n",
       "      <td>0.819</td>\n",
       "      <td>0.165</td>\n",
       "      <td>0.003</td>\n",
       "      <td>0.206</td>\n",
       "      <td>0.0</td>\n",
       "    </tr>\n",
       "    <tr>\n",
       "      <th>2</th>\n",
       "      <td>0.857</td>\n",
       "      <td>0.0</td>\n",
       "      <td>0.167</td>\n",
       "      <td>0.006</td>\n",
       "      <td>0.299</td>\n",
       "      <td>0.521</td>\n",
       "      <td>0.411</td>\n",
       "      <td>0.700</td>\n",
       "      <td>0.436</td>\n",
       "      <td>0.672</td>\n",
       "      <td>...</td>\n",
       "      <td>0.171</td>\n",
       "      <td>0.388</td>\n",
       "      <td>0.190</td>\n",
       "      <td>0.491</td>\n",
       "      <td>0.676</td>\n",
       "      <td>0.670</td>\n",
       "      <td>0.603</td>\n",
       "      <td>0.165</td>\n",
       "      <td>0.383</td>\n",
       "      <td>0.0</td>\n",
       "    </tr>\n",
       "    <tr>\n",
       "      <th>3</th>\n",
       "      <td>0.857</td>\n",
       "      <td>0.0</td>\n",
       "      <td>0.167</td>\n",
       "      <td>0.078</td>\n",
       "      <td>0.420</td>\n",
       "      <td>0.713</td>\n",
       "      <td>0.372</td>\n",
       "      <td>0.918</td>\n",
       "      <td>0.469</td>\n",
       "      <td>0.821</td>\n",
       "      <td>...</td>\n",
       "      <td>0.515</td>\n",
       "      <td>0.359</td>\n",
       "      <td>0.197</td>\n",
       "      <td>0.481</td>\n",
       "      <td>0.519</td>\n",
       "      <td>0.518</td>\n",
       "      <td>0.485</td>\n",
       "      <td>0.104</td>\n",
       "      <td>0.346</td>\n",
       "      <td>1.0</td>\n",
       "    </tr>\n",
       "    <tr>\n",
       "      <th>4</th>\n",
       "      <td>0.857</td>\n",
       "      <td>0.0</td>\n",
       "      <td>0.167</td>\n",
       "      <td>0.428</td>\n",
       "      <td>0.438</td>\n",
       "      <td>0.468</td>\n",
       "      <td>0.224</td>\n",
       "      <td>0.762</td>\n",
       "      <td>0.560</td>\n",
       "      <td>0.490</td>\n",
       "      <td>...</td>\n",
       "      <td>0.338</td>\n",
       "      <td>0.527</td>\n",
       "      <td>0.175</td>\n",
       "      <td>0.467</td>\n",
       "      <td>0.596</td>\n",
       "      <td>0.596</td>\n",
       "      <td>0.491</td>\n",
       "      <td>0.141</td>\n",
       "      <td>0.339</td>\n",
       "      <td>0.0</td>\n",
       "    </tr>\n",
       "  </tbody>\n",
       "</table>\n",
       "<p>4 rows × 28 columns</p>\n",
       "</div>"
      ],
      "text/plain": [
       "   income  road_dist  cooking  y_am_pef  tempin  humidin  pm25in  co2in  \\\n",
       "1   0.857        0.0    0.167     0.558   0.216    0.513   0.358  0.678   \n",
       "2   0.857        0.0    0.167     0.006   0.299    0.521   0.411  0.700   \n",
       "3   0.857        0.0    0.167     0.078   0.420    0.713   0.372  0.918   \n",
       "4   0.857        0.0    0.167     0.428   0.438    0.468   0.224  0.762   \n",
       "\n",
       "   tempdiffin  humidiffin  ...  windsd  humid   varp  dewpt   airp   seap  \\\n",
       "1       0.562       0.364  ...   0.107  0.668  0.174  0.471  0.822  0.819   \n",
       "2       0.436       0.672  ...   0.171  0.388  0.190  0.491  0.676  0.670   \n",
       "3       0.469       0.821  ...   0.515  0.359  0.197  0.481  0.519  0.518   \n",
       "4       0.560       0.490  ...   0.338  0.527  0.175  0.467  0.596  0.596   \n",
       "\n",
       "   solrhr  solramnt   grdt  class  \n",
       "1   0.165     0.003  0.206    0.0  \n",
       "2   0.603     0.165  0.383    0.0  \n",
       "3   0.485     0.104  0.346    1.0  \n",
       "4   0.491     0.141  0.339    0.0  \n",
       "\n",
       "[4 rows x 28 columns]"
      ]
     },
     "execution_count": 3,
     "metadata": {},
     "output_type": "execute_result"
    }
   ],
   "source": [
    "p_ids = datadict.keys()\n",
    "smaple_size_dict={}\n",
    "print(\"patients: n =\", len(p_ids), end='\\n\\n')\n",
    "\n",
    "for p_id in p_ids:\n",
    "    df = datadict[p_id]\n",
    "    # drop column from input data file\n",
    "    #df.drop(['id','date','am_pef_org','BMI','sex'], axis=1, inplace=True) #ALL DROPS SHOULD OCCUR HERE\n",
    "    df.drop(['id','date','am_pef_org','BMI','sex', 'age'], axis=1, inplace=True) #,'id','date','am_pef_org','BMI',  'sex', 'age'\n",
    "    df = np.asarray(df).astype(np.float32)\n",
    "    print(p_id, \"shape:\", df.shape)#, end=\"\\t\\t\")\n",
    "    smaple_size_dict[p_id]=df.shape[0]\n",
    "\n",
    "datadict[p_id].head(4)"
   ]
  },
  {
   "cell_type": "code",
   "execution_count": 4,
   "metadata": {},
   "outputs": [
    {
     "name": "stdout",
     "output_type": "stream",
     "text": [
      "Index(['income', 'road_dist', 'cooking', 'y_am_pef', 'tempin', 'humidin',\n",
      "       'pm25in', 'co2in', 'tempdiffin', 'humidiffin', 'pm25diffin', 'pm10',\n",
      "       'pm25', 'o3', 'no2', 'co', 'so2', 'temp', 'windsd', 'humid', 'varp',\n",
      "       'dewpt', 'airp', 'seap', 'solrhr', 'solramnt', 'grdt', 'class'],\n",
      "      dtype='object')\n",
      "(180, 28)\n"
     ]
    }
   ],
   "source": [
    "print(datadict[p_id].columns)\n",
    "print(datadict[p_id].shape)"
   ]
  },
  {
   "cell_type": "code",
   "execution_count": 5,
   "metadata": {},
   "outputs": [
    {
     "name": "stdout",
     "output_type": "stream",
     "text": [
      "23\n"
     ]
    }
   ],
   "source": [
    "target_grp = [\"SB-001\", \"SB-003\", \"SB-008\", \"SB-011\", \"SB-012\", \"SB-022\", \"SB-023\", \"SB-025\", \"SB-028\", \"SB-037\", \"SB-043\", \"SB-056\", \"SB-059\", \"SB-060\", \"SB-070\", \"SB-071\", \"SB-073\", \"SB-078\", \"SB-079\", \"SB-080\", \"SB-082\", \"SB-083\", \"SB-112\"]\n",
    "\n",
    "print(len(target_grp))\n"
   ]
  },
  {
   "cell_type": "code",
   "execution_count": 6,
   "metadata": {},
   "outputs": [
    {
     "name": "stderr",
     "output_type": "stream",
     "text": [
      "2023-08-24 22:32:15.662624: I tensorflow/tsl/cuda/cudart_stub.cc:28] Could not find cuda drivers on your machine, GPU will not be used.\n",
      "2023-08-24 22:32:15.713611: I tensorflow/tsl/cuda/cudart_stub.cc:28] Could not find cuda drivers on your machine, GPU will not be used.\n",
      "2023-08-24 22:32:15.714500: I tensorflow/core/platform/cpu_feature_guard.cc:182] This TensorFlow binary is optimized to use available CPU instructions in performance-critical operations.\n",
      "To enable the following instructions: AVX2 AVX512F FMA, in other operations, rebuild TensorFlow with the appropriate compiler flags.\n",
      "2023-08-24 22:32:16.519474: W tensorflow/compiler/tf2tensorrt/utils/py_utils.cc:38] TF-TRT Warning: Could not find TensorRT\n"
     ]
    }
   ],
   "source": [
    "from TL_Packages import *\n",
    "\n",
    "# Architecture_GROUP = \"TL\"\n",
    "Architecture_GROUP = \"model\"\n",
    "RESULT_DIR = 'Results/'\n",
    "EVALUATION_METRICS = [\"Weighted Accuracy\", \"Sensitivity/Recall\", \"Specificity\", \"Precision_class0\", \"Precision_class1\", \"Precision_avg\", \"F1_class0\", \"F1_class1\", \"F1_avg\", \"auc_roc_score\", \"False_Discovery_Rate\", \"False_Negative_Rate\", \"False_Omission_Rate\", \"False_Positive_Rate\", \"Jaccard\"]"
   ]
  },
  {
   "cell_type": "code",
   "execution_count": null,
   "metadata": {},
   "outputs": [],
   "source": []
  },
  {
   "cell_type": "code",
   "execution_count": 7,
   "metadata": {},
   "outputs": [],
   "source": [
    "def TL_Base_Model(POPULATION_EPOCH_SIZE,PATIENT_EPOCH_SIZE, p_ids):\n",
    "    minority_variable=0\n",
    "  #Target MOdel dataframe\n",
    "    df_evaluation_results = pd.DataFrame(columns=EVALUATION_METRICS)\n",
    "  #Population model results\n",
    "    pop_results=pd.DataFrame(columns=EVALUATION_METRICS)\n",
    "    minor_var=minority_variable\n",
    "    for target in tqdm(p_ids):\n",
    "        if target not in target_grp:\n",
    "            continue\n",
    "        runtime()\n",
    "        print(\"~~~~~~~~~~~\", POPULATION_EPOCH_SIZE, \"~~~~~~~~~~~~~~~~~~~\", PATIENT_EPOCH_SIZE, \"~~~~~~~~~~~~~~~~~~~\", target, \"~~~~~~~~~~~~~~~~~~~\")\n",
    "\n",
    "        patient_dir = RESULT_DIR + \"/diagrams/target\" \n",
    "\n",
    "        # create directory for this patient\n",
    "        if not (patient_dir and patient_dir):\n",
    "            os.makedirs(patient_dir)\n",
    "        CLASS_VAR='class'\n",
    "        sample_size=smaple_size_dict[target]\n",
    "        # load population data\n",
    "        X_train, X_test, Y_train, Y_test = split_data(target=target, data=datadict,  class_var=CLASS_VAR, minority_var=minor_var,test_frac=0.05,\n",
    "                                                      transfer=True, balance=True)\n",
    "        print(f\"X_train = {len(X_train)}, y_train = {len(Y_train)}\")\n",
    "        assert len(X_train) == len(Y_train), \"X_train and Y_train have different lengths.\"\n",
    "        #num_folds = min(5, len(X_train))\n",
    "        #print(num_folds)\n",
    "        # k-fold cross-validation for population model\n",
    "        kf_pop = KFold(n_splits=3, shuffle=True)\n",
    "        population_models = []\n",
    "        fold_number=0\n",
    "        for train_idx, val_idx in kf_pop.split(X_train):\n",
    "             # Check if the indices are within bounds\n",
    "            assert train_idx.max() < len(X_train), f\"train_idx exceeds bounds of X_train (size: {len(X_train)})\"\n",
    "            assert val_idx.max() < len(X_train), f\"val_idx exceeds bounds of X_train (size: {len(X_train)})\"\n",
    "\n",
    "\n",
    "            X_train_fold, X_val_fold = X_train[train_idx], X_train[val_idx]\n",
    "            Y_train_fold, Y_val_fold = Y_train[train_idx], Y_train[val_idx]\n",
    "            print(f\"Population Fold {fold_number}: Training data size = {len(X_train_fold)}, Validation data size = {len(X_val_fold)}\")\n",
    "            net = network_tl(X_train_fold, Y_train_fold, n_hidden=32, learning_rate=0.001, device='cpu')\n",
    "            net.set_Y_tind(Y_val_fold)\n",
    "            ##creating population model\n",
    "            net.make_pop()\n",
    "            net.train(n_iters=POPULATION_EPOCH_SIZE)\n",
    "            #val_predictions = net.nn_pop.predict(X_val_fold)\n",
    "            #val_loss = net.calculate_loss(val_predictions)\n",
    "\n",
    "            #population_models.append((net, val_loss))\n",
    "\n",
    "\n",
    "        # Select the best population model based on validation performance (lowest mean validation loss)\n",
    "        #best_pop_model, _ = min(population_models, key=lambda x: np.mean(x[1]))\n",
    "        # Save the best population model\n",
    "        ## save the fold's population model\n",
    "            VERSION_TAG = f'TLSI_{Architecture_GROUP}_{POPULATION_EPOCH_SIZE}_{PATIENT_EPOCH_SIZE}_POP_FOLD_{fold_number}'\n",
    "            #best_pop_model_name = f\"{target}-best_{VERSION_TAG}.hdf5\"\n",
    "            #best_pop_model_path = patient_dir / best_pop_model_name\n",
    "            #best_pop_model.save_model(best_pop_model_path)\n",
    "            #save model\n",
    "            modelname = f\"{target}-{VERSION_TAG}.hdf5\"\n",
    "            model_path= patient_dir + \"/\" + modelname\n",
    "            net.nn_pop.save(model_path) #nn_pop\n",
    "          #save training curve\n",
    "            training_curve_file = patient_dir +\"/\"+ f'{VERSION_TAG}_training_curve_{target}'\n",
    "            net.save_training_curve(training_curve_file)\n",
    "          ## calculate results for population model\n",
    "            results, c_matrix = net.pop_test(X_val_fold, Y_val_fold)\n",
    "           # load target patient data\n",
    "\n",
    "            dataset_list = split_data(target=target, data=datadict,  class_var=CLASS_VAR, minority_var=minor_var, #explanatory_var\n",
    "                                balance=True)\n",
    "           # setup for k-fold cross-validation\n",
    "            kfold_evaluation_results_list = []\n",
    "            kfold_confusion_matrix_list = []\n",
    "\n",
    "            for i in range(2):\n",
    "            # load the target data in the current round\n",
    "              X_train_ind, X_test_ind, Y_train_ind, Y_test_ind = dataset_list[i]\n",
    "\n",
    "            # Make and train a copy of the population model with\n",
    "            # all but the last layer frozen.\n",
    "              net.make_ind()\n",
    "              net.retrain(X_train_ind, Y_train_ind, n_iters=PATIENT_EPOCH_SIZE)\n",
    "              print(\"done RE-training\", i, \"of 3\", end=\". \")\n",
    "\n",
    "            # test\n",
    "              VERSION_TAG = f'TLSI_{Architecture_GROUP}_{POPULATION_EPOCH_SIZE}_{PATIENT_EPOCH_SIZE}_POP_FOLD{fold_number}_IND_FOLD{i}'\n",
    "            #save model\n",
    "              modelname = f\"{target}-{VERSION_TAG}.hdf5\"\n",
    "              model_path= patient_dir + modelname\n",
    "              net.nn_ind.save(model_path) #nn_pop\n",
    "\n",
    "              #save retraining curve\n",
    "              training_curve_file = patient_dir +\"/\"+ f'{VERSION_TAG}_retraining_curve_{target}'\n",
    "              net.save_training_curve(training_curve_file)\n",
    "\n",
    "            # print(\"Calling net.test Now\")\n",
    "            # print(\"X_test\",X_test)\n",
    "            # print(\"Y_test\",Y_test)\n",
    "            ## results for individual model for this particular fold\n",
    "              results, c_matrix = net.test(X_test_ind, Y_test_ind)\n",
    "            # print(\"results\",results)\n",
    "            ## adding up the results(evaluation metrics) of all the folds of individual model\n",
    "              kfold_evaluation_results_list += [results]\n",
    "            ## adding up the results of confusion matrix for all the folds of individual model\n",
    "              kfold_confusion_matrix_list += [c_matrix]\n",
    "\n",
    "              print(\"done testing\", i, \"of 2.\")\n",
    "\n",
    "            ## version tag for target model confusion matrix\n",
    "            TARGET_VERSION_TAG = f'TLSI_{Architecture_GROUP}_{POPULATION_EPOCH_SIZE}_{PATIENT_EPOCH_SIZE}_target_POP_FOLD_{fold_number}'\n",
    "        ##save file tag for target model of particular pop fold\n",
    "            target_confusion_matrixes_file = (f\"{str(patient_dir)}/{TARGET_VERSION_TAG}_confusion_matrix_{target}\")\n",
    "        ###save file tag for Population model of particular pop fold\n",
    "            #population_confusion_matrixes_file = (f\"{str(patient_dir)}/{VERSION_TAG}_confusion_matrix_{target}\")\n",
    "        ## dataframe for the average of all the indivudial models results\n",
    "            avg_results = pd.DataFrame(kfold_evaluation_results_list, columns=EVALUATION_METRICS).mean().values\n",
    "            avg_results = avg_results.reshape(1, 15)\n",
    "            ##dataframe for population model results for a particular pop model fold'\n",
    "            results=results.reshape(1,15)\n",
    "            pop_results=pd.DataFrame(results, columns=EVALUATION_METRICS)\n",
    "            pop_results.index = [f\"{target}_{sample_size}_size_{POPULATION_EPOCH_SIZE}_{PATIENT_EPOCH_SIZE}_POP_FOLD_{fold_number}\"]\n",
    "            ## dataframe for individual model average results for a particular population fold\n",
    "            df = pd.DataFrame(avg_results, columns=EVALUATION_METRICS)\n",
    "            df.index = [f\"{target}_{sample_size}_size_{POPULATION_EPOCH_SIZE}_{PATIENT_EPOCH_SIZE}_Target_With_POP_FOLD_{fold_number}\"]\n",
    "            ## concatinating the pop results dataframe and avg target results dataframe for a particular population fold\n",
    "            df_evaluation_results = pd.concat([df_evaluation_results,pop_results,df], axis = 0)\n",
    "            ##saving target model confusion matrix\n",
    "            net.save_confusion_matrix(kfold_confusion_matrix_list, target_confusion_matrixes_file)\n",
    "            ##saving population model confusion matrix\n",
    "            #net.save_confusion_matrix(c_matrix, population_confusion_matrixes_file)\n",
    "            fold_number+=1\n",
    "\n",
    "    # output_path = os.path.join(RESULT_DIR, f'TLSI_{Architecture_GROUP}_evaluation_metrics_{sorted(set(p_ids).difference(target_grp))[0]}.csv')\n",
    "    output_path = os.path.join(RESULT_DIR, f'TLSI_{Architecture_GROUP}_evaluation_metrics.csv')\n",
    "\n",
    "    if os.path.isfile(output_path):\n",
    "        df_evaluation_results.to_csv(output_path,\n",
    "                                        mode='a',\n",
    "                                        header=False\n",
    "                                    )\n",
    "    else:\n",
    "                df_evaluation_results.to_csv(output_path,\n",
    "                                        mode='a'\n",
    "                                    )\n",
    "\n",
    "    print(\"evaluation results saved for\", VERSION_TAG)"
   ]
  },
  {
   "cell_type": "code",
   "execution_count": 8,
   "metadata": {},
   "outputs": [
    {
     "name": "stdout",
     "output_type": "stream",
     "text": [
      "POPULATION_EPOCH_SIZE: [500, 1000, 1500] Len: 3\n",
      "PATIENT_EPOCH_SIZE: [500, 1000, 1500] Len: 3\n",
      "target_grp: ['SB-001', 'SB-003', 'SB-008', 'SB-011', 'SB-012', 'SB-022', 'SB-023', 'SB-025', 'SB-028', 'SB-037', 'SB-043', 'SB-056', 'SB-059', 'SB-060', 'SB-070', 'SB-071', 'SB-073', 'SB-078', 'SB-079', 'SB-080', 'SB-082', 'SB-083', 'SB-112'] Len: 23\n",
      "Total records in each file: 207\n"
     ]
    }
   ],
   "source": [
    "POPULATION_EPOCH_SIZE = [*range(500, 1600, 500)]\n",
    "PATIENT_EPOCH_SIZE = [*range(500, 1600, 500)]   \n",
    "\n",
    "print(\"POPULATION_EPOCH_SIZE:\",POPULATION_EPOCH_SIZE, \"Len:\", len(POPULATION_EPOCH_SIZE))\n",
    "print(\"PATIENT_EPOCH_SIZE:\",PATIENT_EPOCH_SIZE, \"Len:\", len(PATIENT_EPOCH_SIZE))\n",
    "print(\"target_grp:\",target_grp, \"Len:\", len(target_grp))\n",
    "print(\"Total records in each file:\",len(POPULATION_EPOCH_SIZE) * len(PATIENT_EPOCH_SIZE) * len(target_grp))"
   ]
  },
  {
   "cell_type": "code",
   "execution_count": 9,
   "metadata": {},
   "outputs": [],
   "source": [
    "from datetime import date, datetime\n",
    "def runtime():\n",
    "    print(\"Runtime:\", datetime.now().hour, \"o' clock and\", datetime.now().minute, \"minutes\")\n",
    "\n",
    "def run_tlsi(file):\n",
    "    \"\"\"\n",
    "        run transfer learning algorithm on sample imbalanced data set\n",
    "    \"\"\"\n",
    "    pass"
   ]
  },
  {
   "cell_type": "code",
   "execution_count": 10,
   "metadata": {},
   "outputs": [
    {
     "name": "stderr",
     "output_type": "stream",
     "text": [
      "  0%|          | 0/26 [00:00<?, ?it/s]"
     ]
    },
    {
     "name": "stdout",
     "output_type": "stream",
     "text": [
      "Runtime: 22 o' clock and 32 minutes\n",
      "~~~~~~~~~~~ 100 ~~~~~~~~~~~~~~~~~~~ 300 ~~~~~~~~~~~~~~~~~~~ SB-001 ~~~~~~~~~~~~~~~~~~~\n",
      "Before balancing count  1.0    2650\n",
      "0.0    1030\n",
      "Name: class, dtype: int64\n"
     ]
    },
    {
     "name": "stderr",
     "output_type": "stream",
     "text": [
      "2023-08-24 22:32:18.413256: W tensorflow/core/common_runtime/gpu/gpu_device.cc:1960] Cannot dlopen some GPU libraries. Please make sure the missing libraries mentioned above are installed properly if you would like to use GPU. Follow the guide at https://www.tensorflow.org/install/gpu for how to download and setup the required libraries for your platform.\n",
      "Skipping registering GPU devices...\n"
     ]
    },
    {
     "name": "stdout",
     "output_type": "stream",
     "text": [
      "~~~~~~~ value_counts: ~~~~~~~\n",
      "SHOULD BE BALANCED NOW: 1.0    2650\n",
      "0.0    2650\n",
      "Name: class, dtype: int64\n",
      "X_train = 5300, y_train = 5300\n",
      "Population Fold 0: Training data size = 3533, Validation data size = 1767\n"
     ]
    },
    {
     "name": "stderr",
     "output_type": "stream",
     "text": [
      "/home/st/sbhuvaji/anaconda3/lib/python3.9/site-packages/keras/src/engine/training.py:3000: UserWarning: You are saving your model as an HDF5 file via `model.save()`. This file format is considered legacy. We recommend using instead the native Keras format, e.g. `model.save('my_model.keras')`.\n",
      "  saving_api.save_model(\n"
     ]
    },
    {
     "name": "stdout",
     "output_type": "stream",
     "text": [
      "56/56 [==============================] - 0s 838us/step\n",
      "cm [[649 237]\n",
      " [277 604]]\n",
      "cm.ravel() [649 237 277 604]\n",
      "Before balancing count  1.0    59\n",
      "0.0    35\n",
      "Name: class, dtype: int64\n",
      "~~~~~~~ value_counts: ~~~~~~~\n",
      "SHOULD BE BALANCED NOW: 0.0    59\n",
      "1.0    59\n",
      "Name: class, dtype: int64\n",
      "Before balancing count  1.0    72\n",
      "0.0    22\n",
      "Name: class, dtype: int64\n",
      "~~~~~~~ value_counts: ~~~~~~~\n",
      "SHOULD BE BALANCED NOW: 1.0    72\n",
      "0.0    72\n",
      "Name: class, dtype: int64\n",
      "done RE-training 0 of 3. "
     ]
    },
    {
     "name": "stderr",
     "output_type": "stream",
     "text": [
      "/home/st/sbhuvaji/anaconda3/lib/python3.9/site-packages/keras/src/engine/training.py:3000: UserWarning: You are saving your model as an HDF5 file via `model.save()`. This file format is considered legacy. We recommend using instead the native Keras format, e.g. `model.save('my_model.keras')`.\n",
      "  saving_api.save_model(\n"
     ]
    },
    {
     "name": "stdout",
     "output_type": "stream",
     "text": [
      "3/3 [==============================] - 0s 1ms/step\n",
      "cm [[11 11]\n",
      " [30 42]]\n",
      "cm.ravel() [11 11 30 42]\n",
      "done testing 0 of 2.\n",
      "done RE-training 1 of 3. WARNING:tensorflow:5 out of the last 65 calls to <function Model.make_predict_function.<locals>.predict_function at 0x7fa840437940> triggered tf.function retracing. Tracing is expensive and the excessive number of tracings could be due to (1) creating @tf.function repeatedly in a loop, (2) passing tensors with different shapes, (3) passing Python objects instead of tensors. For (1), please define your @tf.function outside of the loop. For (2), @tf.function has reduce_retracing=True option that can avoid unnecessary retracing. For (3), please refer to https://www.tensorflow.org/guide/function#controlling_retracing and https://www.tensorflow.org/api_docs/python/tf/function for  more details.\n",
      "3/3 [==============================] - 0s 1ms/step\n",
      "cm [[22 13]\n",
      " [23 36]]\n",
      "cm.ravel() [22 13 23 36]\n",
      "done testing 1 of 2.\n"
     ]
    },
    {
     "name": "stderr",
     "output_type": "stream",
     "text": [
      "/home/st/sbhuvaji/1AllP/Individual Patient_All Models/TLandTL/Actual TL/SingleEncoder/WithCV/TL_Packages.py:582: UserWarning: FixedFormatter should only be used together with FixedLocator\n",
      "  axs[i].set_xticklabels([''] + ['0', '1'], fontsize='xx-large')\n",
      "/home/st/sbhuvaji/1AllP/Individual Patient_All Models/TLandTL/Actual TL/SingleEncoder/WithCV/TL_Packages.py:583: UserWarning: FixedFormatter should only be used together with FixedLocator\n",
      "  axs[i].set_yticklabels([''] + ['0', '1'], fontsize='xx-large')\n"
     ]
    },
    {
     "name": "stdout",
     "output_type": "stream",
     "text": [
      "Population Fold 1: Training data size = 3533, Validation data size = 1767\n"
     ]
    },
    {
     "name": "stderr",
     "output_type": "stream",
     "text": [
      "/home/st/sbhuvaji/anaconda3/lib/python3.9/site-packages/keras/src/engine/training.py:3000: UserWarning: You are saving your model as an HDF5 file via `model.save()`. This file format is considered legacy. We recommend using instead the native Keras format, e.g. `model.save('my_model.keras')`.\n",
      "  saving_api.save_model(\n"
     ]
    },
    {
     "name": "stdout",
     "output_type": "stream",
     "text": [
      "WARNING:tensorflow:5 out of the last 12 calls to <function Model.make_predict_function.<locals>.predict_function at 0x7fa8207af8b0> triggered tf.function retracing. Tracing is expensive and the excessive number of tracings could be due to (1) creating @tf.function repeatedly in a loop, (2) passing tensors with different shapes, (3) passing Python objects instead of tensors. For (1), please define your @tf.function outside of the loop. For (2), @tf.function has reduce_retracing=True option that can avoid unnecessary retracing. For (3), please refer to https://www.tensorflow.org/guide/function#controlling_retracing and https://www.tensorflow.org/api_docs/python/tf/function for  more details.\n",
      "56/56 [==============================] - 0s 861us/step\n",
      "cm [[688 185]\n",
      " [288 606]]\n",
      "cm.ravel() [688 185 288 606]\n",
      "Before balancing count  1.0    63\n",
      "0.0    31\n",
      "Name: class, dtype: int64\n",
      "~~~~~~~ value_counts: ~~~~~~~\n",
      "SHOULD BE BALANCED NOW: 1.0    63\n",
      "0.0    63\n",
      "Name: class, dtype: int64\n",
      "Before balancing count  1.0    68\n",
      "0.0    26\n",
      "Name: class, dtype: int64\n",
      "~~~~~~~ value_counts: ~~~~~~~\n",
      "SHOULD BE BALANCED NOW: 1.0    68\n",
      "0.0    68\n",
      "Name: class, dtype: int64\n",
      "done RE-training 0 of 3. "
     ]
    },
    {
     "name": "stderr",
     "output_type": "stream",
     "text": [
      "/home/st/sbhuvaji/anaconda3/lib/python3.9/site-packages/keras/src/engine/training.py:3000: UserWarning: You are saving your model as an HDF5 file via `model.save()`. This file format is considered legacy. We recommend using instead the native Keras format, e.g. `model.save('my_model.keras')`.\n",
      "  saving_api.save_model(\n"
     ]
    },
    {
     "name": "stdout",
     "output_type": "stream",
     "text": [
      "3/3 [==============================] - 0s 1ms/step\n",
      "cm [[14 12]\n",
      " [21 47]]\n",
      "cm.ravel() [14 12 21 47]\n",
      "done testing 0 of 2.\n",
      "3/3 [==============================] - 0s 2ms/step\n",
      "cm [[21 10]\n",
      " [33 30]]\n",
      "cm.ravel() [21 10 33 30]\n",
      "done testing 1 of 2.\n"
     ]
    },
    {
     "name": "stderr",
     "output_type": "stream",
     "text": [
      "/home/st/sbhuvaji/1AllP/Individual Patient_All Models/TLandTL/Actual TL/SingleEncoder/WithCV/TL_Packages.py:582: UserWarning: FixedFormatter should only be used together with FixedLocator\n",
      "  axs[i].set_xticklabels([''] + ['0', '1'], fontsize='xx-large')\n",
      "/home/st/sbhuvaji/1AllP/Individual Patient_All Models/TLandTL/Actual TL/SingleEncoder/WithCV/TL_Packages.py:583: UserWarning: FixedFormatter should only be used together with FixedLocator\n",
      "  axs[i].set_yticklabels([''] + ['0', '1'], fontsize='xx-large')\n"
     ]
    },
    {
     "name": "stdout",
     "output_type": "stream",
     "text": [
      "Population Fold 2: Training data size = 3534, Validation data size = 1766\n"
     ]
    },
    {
     "name": "stderr",
     "output_type": "stream",
     "text": [
      "/home/st/sbhuvaji/anaconda3/lib/python3.9/site-packages/keras/src/engine/training.py:3000: UserWarning: You are saving your model as an HDF5 file via `model.save()`. This file format is considered legacy. We recommend using instead the native Keras format, e.g. `model.save('my_model.keras')`.\n",
      "  saving_api.save_model(\n"
     ]
    },
    {
     "name": "stdout",
     "output_type": "stream",
     "text": [
      "56/56 [==============================] - 0s 895us/step\n",
      "cm [[698 193]\n",
      " [292 583]]\n",
      "cm.ravel() [698 193 292 583]\n",
      "Before balancing count  1.0    67\n",
      "0.0    27\n",
      "Name: class, dtype: int64\n",
      "~~~~~~~ value_counts: ~~~~~~~\n",
      "SHOULD BE BALANCED NOW: 1.0    67\n",
      "0.0    67\n",
      "Name: class, dtype: int64\n",
      "Before balancing count  1.0    64\n",
      "0.0    30\n",
      "Name: class, dtype: int64\n",
      "~~~~~~~ value_counts: ~~~~~~~\n",
      "SHOULD BE BALANCED NOW: 0.0    64\n",
      "1.0    64\n",
      "Name: class, dtype: int64\n",
      "done RE-training 0 of 3. "
     ]
    },
    {
     "name": "stderr",
     "output_type": "stream",
     "text": [
      "/home/st/sbhuvaji/anaconda3/lib/python3.9/site-packages/keras/src/engine/training.py:3000: UserWarning: You are saving your model as an HDF5 file via `model.save()`. This file format is considered legacy. We recommend using instead the native Keras format, e.g. `model.save('my_model.keras')`.\n",
      "  saving_api.save_model(\n"
     ]
    },
    {
     "name": "stdout",
     "output_type": "stream",
     "text": [
      "3/3 [==============================] - 0s 2ms/step\n",
      "cm [[17 13]\n",
      " [23 41]]\n",
      "cm.ravel() [17 13 23 41]\n",
      "done testing 0 of 2.\n",
      "3/3 [==============================] - 0s 1ms/step\n",
      "cm [[12 15]\n",
      " [30 37]]\n",
      "cm.ravel() [12 15 30 37]\n",
      "done testing 1 of 2.\n"
     ]
    },
    {
     "name": "stderr",
     "output_type": "stream",
     "text": [
      "/home/st/sbhuvaji/1AllP/Individual Patient_All Models/TLandTL/Actual TL/SingleEncoder/WithCV/TL_Packages.py:582: UserWarning: FixedFormatter should only be used together with FixedLocator\n",
      "  axs[i].set_xticklabels([''] + ['0', '1'], fontsize='xx-large')\n",
      "/home/st/sbhuvaji/1AllP/Individual Patient_All Models/TLandTL/Actual TL/SingleEncoder/WithCV/TL_Packages.py:583: UserWarning: FixedFormatter should only be used together with FixedLocator\n",
      "  axs[i].set_yticklabels([''] + ['0', '1'], fontsize='xx-large')\n",
      "  4%|▍         | 1/26 [02:50<1:10:52, 170.10s/it]"
     ]
    },
    {
     "name": "stdout",
     "output_type": "stream",
     "text": [
      "Runtime: 22 o' clock and 35 minutes\n",
      "~~~~~~~~~~~ 100 ~~~~~~~~~~~~~~~~~~~ 300 ~~~~~~~~~~~~~~~~~~~ SB-003 ~~~~~~~~~~~~~~~~~~~\n",
      "Before balancing count  1.0    2652\n",
      "0.0    1035\n",
      "Name: class, dtype: int64\n",
      "~~~~~~~ value_counts: ~~~~~~~\n",
      "SHOULD BE BALANCED NOW: 0.0    2652\n",
      "1.0    2652\n",
      "Name: class, dtype: int64\n",
      "X_train = 5304, y_train = 5304\n",
      "Population Fold 0: Training data size = 3536, Validation data size = 1768\n"
     ]
    },
    {
     "name": "stderr",
     "output_type": "stream",
     "text": [
      "/home/st/sbhuvaji/anaconda3/lib/python3.9/site-packages/keras/src/engine/training.py:3000: UserWarning: You are saving your model as an HDF5 file via `model.save()`. This file format is considered legacy. We recommend using instead the native Keras format, e.g. `model.save('my_model.keras')`.\n",
      "  saving_api.save_model(\n"
     ]
    },
    {
     "name": "stdout",
     "output_type": "stream",
     "text": [
      "56/56 [==============================] - 0s 855us/step\n",
      "cm [[652 242]\n",
      " [242 632]]\n",
      "cm.ravel() [652 242 242 632]\n",
      "Before balancing count  1.0    73\n",
      "0.0    17\n",
      "Name: class, dtype: int64\n",
      "~~~~~~~ value_counts: ~~~~~~~\n",
      "SHOULD BE BALANCED NOW: 0.0    73\n",
      "1.0    73\n",
      "Name: class, dtype: int64\n",
      "Before balancing count  1.0    62\n",
      "0.0    28\n",
      "Name: class, dtype: int64\n",
      "~~~~~~~ value_counts: ~~~~~~~\n",
      "SHOULD BE BALANCED NOW: 0.0    62\n",
      "1.0    62\n",
      "Name: class, dtype: int64\n",
      "done RE-training 0 of 3. "
     ]
    },
    {
     "name": "stderr",
     "output_type": "stream",
     "text": [
      "/home/st/sbhuvaji/anaconda3/lib/python3.9/site-packages/keras/src/engine/training.py:3000: UserWarning: You are saving your model as an HDF5 file via `model.save()`. This file format is considered legacy. We recommend using instead the native Keras format, e.g. `model.save('my_model.keras')`.\n",
      "  saving_api.save_model(\n"
     ]
    },
    {
     "name": "stdout",
     "output_type": "stream",
     "text": [
      "3/3 [==============================] - 0s 2ms/step\n",
      "cm [[13 15]\n",
      " [30 32]]\n",
      "cm.ravel() [13 15 30 32]\n",
      "done testing 0 of 2.\n",
      "3/3 [==============================] - 0s 2ms/step\n",
      "cm [[ 8  9]\n",
      " [31 42]]\n",
      "cm.ravel() [ 8  9 31 42]\n",
      "done testing 1 of 2.\n"
     ]
    },
    {
     "name": "stderr",
     "output_type": "stream",
     "text": [
      "/home/st/sbhuvaji/1AllP/Individual Patient_All Models/TLandTL/Actual TL/SingleEncoder/WithCV/TL_Packages.py:582: UserWarning: FixedFormatter should only be used together with FixedLocator\n",
      "  axs[i].set_xticklabels([''] + ['0', '1'], fontsize='xx-large')\n",
      "/home/st/sbhuvaji/1AllP/Individual Patient_All Models/TLandTL/Actual TL/SingleEncoder/WithCV/TL_Packages.py:583: UserWarning: FixedFormatter should only be used together with FixedLocator\n",
      "  axs[i].set_yticklabels([''] + ['0', '1'], fontsize='xx-large')\n"
     ]
    },
    {
     "name": "stdout",
     "output_type": "stream",
     "text": [
      "Population Fold 1: Training data size = 3536, Validation data size = 1768\n"
     ]
    },
    {
     "name": "stderr",
     "output_type": "stream",
     "text": [
      "/home/st/sbhuvaji/anaconda3/lib/python3.9/site-packages/keras/src/engine/training.py:3000: UserWarning: You are saving your model as an HDF5 file via `model.save()`. This file format is considered legacy. We recommend using instead the native Keras format, e.g. `model.save('my_model.keras')`.\n",
      "  saving_api.save_model(\n"
     ]
    },
    {
     "name": "stdout",
     "output_type": "stream",
     "text": [
      "56/56 [==============================] - 0s 905us/step\n",
      "cm [[641 244]\n",
      " [223 660]]\n",
      "cm.ravel() [641 244 223 660]\n",
      "Before balancing count  1.0    65\n",
      "0.0    25\n",
      "Name: class, dtype: int64\n",
      "~~~~~~~ value_counts: ~~~~~~~\n",
      "SHOULD BE BALANCED NOW: 0.0    65\n",
      "1.0    65\n",
      "Name: class, dtype: int64\n",
      "Before balancing count  1.0    70\n",
      "0.0    20\n",
      "Name: class, dtype: int64\n",
      "~~~~~~~ value_counts: ~~~~~~~\n",
      "SHOULD BE BALANCED NOW: 1.0    70\n",
      "0.0    70\n",
      "Name: class, dtype: int64\n",
      "done RE-training 0 of 3. "
     ]
    },
    {
     "name": "stderr",
     "output_type": "stream",
     "text": [
      "/home/st/sbhuvaji/anaconda3/lib/python3.9/site-packages/keras/src/engine/training.py:3000: UserWarning: You are saving your model as an HDF5 file via `model.save()`. This file format is considered legacy. We recommend using instead the native Keras format, e.g. `model.save('my_model.keras')`.\n",
      "  saving_api.save_model(\n"
     ]
    },
    {
     "name": "stdout",
     "output_type": "stream",
     "text": [
      "3/3 [==============================] - 0s 2ms/step\n",
      "cm [[ 1 19]\n",
      " [ 3 67]]\n",
      "cm.ravel() [ 1 19  3 67]\n",
      "done testing 0 of 2.\n",
      "3/3 [==============================] - 0s 1ms/step\n",
      "cm [[10 15]\n",
      " [25 40]]\n",
      "cm.ravel() [10 15 25 40]\n",
      "done testing 1 of 2.\n"
     ]
    },
    {
     "name": "stderr",
     "output_type": "stream",
     "text": [
      "/home/st/sbhuvaji/1AllP/Individual Patient_All Models/TLandTL/Actual TL/SingleEncoder/WithCV/TL_Packages.py:582: UserWarning: FixedFormatter should only be used together with FixedLocator\n",
      "  axs[i].set_xticklabels([''] + ['0', '1'], fontsize='xx-large')\n",
      "/home/st/sbhuvaji/1AllP/Individual Patient_All Models/TLandTL/Actual TL/SingleEncoder/WithCV/TL_Packages.py:583: UserWarning: FixedFormatter should only be used together with FixedLocator\n",
      "  axs[i].set_yticklabels([''] + ['0', '1'], fontsize='xx-large')\n"
     ]
    },
    {
     "name": "stdout",
     "output_type": "stream",
     "text": [
      "Population Fold 2: Training data size = 3536, Validation data size = 1768\n"
     ]
    },
    {
     "name": "stderr",
     "output_type": "stream",
     "text": [
      "/home/st/sbhuvaji/anaconda3/lib/python3.9/site-packages/keras/src/engine/training.py:3000: UserWarning: You are saving your model as an HDF5 file via `model.save()`. This file format is considered legacy. We recommend using instead the native Keras format, e.g. `model.save('my_model.keras')`.\n",
      "  saving_api.save_model(\n"
     ]
    },
    {
     "name": "stdout",
     "output_type": "stream",
     "text": [
      "56/56 [==============================] - 0s 887us/step\n",
      "cm [[611 262]\n",
      " [257 638]]\n",
      "cm.ravel() [611 262 257 638]\n",
      "Before balancing count  1.0    70\n",
      "0.0    20\n",
      "Name: class, dtype: int64\n",
      "~~~~~~~ value_counts: ~~~~~~~\n",
      "SHOULD BE BALANCED NOW: 1.0    70\n",
      "0.0    70\n",
      "Name: class, dtype: int64\n",
      "Before balancing count  1.0    65\n",
      "0.0    25\n",
      "Name: class, dtype: int64\n",
      "~~~~~~~ value_counts: ~~~~~~~\n",
      "SHOULD BE BALANCED NOW: 0.0    65\n",
      "1.0    65\n",
      "Name: class, dtype: int64\n",
      "done RE-training 0 of 3. "
     ]
    },
    {
     "name": "stderr",
     "output_type": "stream",
     "text": [
      "/home/st/sbhuvaji/anaconda3/lib/python3.9/site-packages/keras/src/engine/training.py:3000: UserWarning: You are saving your model as an HDF5 file via `model.save()`. This file format is considered legacy. We recommend using instead the native Keras format, e.g. `model.save('my_model.keras')`.\n",
      "  saving_api.save_model(\n"
     ]
    },
    {
     "name": "stdout",
     "output_type": "stream",
     "text": [
      "3/3 [==============================] - 0s 1ms/step\n",
      "cm [[ 9 16]\n",
      " [32 33]]\n",
      "cm.ravel() [ 9 16 32 33]\n",
      "done testing 0 of 2.\n",
      "3/3 [==============================] - 0s 2ms/step\n",
      "cm [[ 7 13]\n",
      " [28 42]]\n",
      "cm.ravel() [ 7 13 28 42]\n",
      "done testing 1 of 2.\n"
     ]
    },
    {
     "name": "stderr",
     "output_type": "stream",
     "text": [
      "/home/st/sbhuvaji/1AllP/Individual Patient_All Models/TLandTL/Actual TL/SingleEncoder/WithCV/TL_Packages.py:582: UserWarning: FixedFormatter should only be used together with FixedLocator\n",
      "  axs[i].set_xticklabels([''] + ['0', '1'], fontsize='xx-large')\n",
      "/home/st/sbhuvaji/1AllP/Individual Patient_All Models/TLandTL/Actual TL/SingleEncoder/WithCV/TL_Packages.py:583: UserWarning: FixedFormatter should only be used together with FixedLocator\n",
      "  axs[i].set_yticklabels([''] + ['0', '1'], fontsize='xx-large')\n",
      "  8%|▊         | 2/26 [05:42<1:08:32, 171.35s/it]"
     ]
    },
    {
     "name": "stdout",
     "output_type": "stream",
     "text": [
      "Runtime: 22 o' clock and 38 minutes\n",
      "~~~~~~~~~~~ 100 ~~~~~~~~~~~~~~~~~~~ 300 ~~~~~~~~~~~~~~~~~~~ SB-008 ~~~~~~~~~~~~~~~~~~~\n",
      "Before balancing count  1.0    2653\n",
      "0.0    1036\n",
      "Name: class, dtype: int64\n",
      "~~~~~~~ value_counts: ~~~~~~~\n",
      "SHOULD BE BALANCED NOW: 0.0    2653\n",
      "1.0    2653\n",
      "Name: class, dtype: int64\n",
      "X_train = 5306, y_train = 5306\n",
      "Population Fold 0: Training data size = 3537, Validation data size = 1769\n"
     ]
    },
    {
     "name": "stderr",
     "output_type": "stream",
     "text": [
      "/home/st/sbhuvaji/anaconda3/lib/python3.9/site-packages/keras/src/engine/training.py:3000: UserWarning: You are saving your model as an HDF5 file via `model.save()`. This file format is considered legacy. We recommend using instead the native Keras format, e.g. `model.save('my_model.keras')`.\n",
      "  saving_api.save_model(\n"
     ]
    },
    {
     "name": "stdout",
     "output_type": "stream",
     "text": [
      "56/56 [==============================] - 0s 800us/step\n",
      "cm [[635 237]\n",
      " [265 632]]\n",
      "cm.ravel() [635 237 265 632]\n",
      "Before balancing count  1.0    69\n",
      "0.0    20\n",
      "Name: class, dtype: int64\n",
      "~~~~~~~ value_counts: ~~~~~~~\n",
      "SHOULD BE BALANCED NOW: 1.0    69\n",
      "0.0    69\n",
      "Name: class, dtype: int64\n",
      "Before balancing count  1.0    66\n",
      "0.0    23\n",
      "Name: class, dtype: int64\n",
      "~~~~~~~ value_counts: ~~~~~~~\n",
      "SHOULD BE BALANCED NOW: 0.0    66\n",
      "1.0    66\n",
      "Name: class, dtype: int64\n",
      "done RE-training 0 of 3. "
     ]
    },
    {
     "name": "stderr",
     "output_type": "stream",
     "text": [
      "/home/st/sbhuvaji/anaconda3/lib/python3.9/site-packages/keras/src/engine/training.py:3000: UserWarning: You are saving your model as an HDF5 file via `model.save()`. This file format is considered legacy. We recommend using instead the native Keras format, e.g. `model.save('my_model.keras')`.\n",
      "  saving_api.save_model(\n"
     ]
    },
    {
     "name": "stdout",
     "output_type": "stream",
     "text": [
      "3/3 [==============================] - 0s 2ms/step\n",
      "cm [[17  6]\n",
      " [27 39]]\n",
      "cm.ravel() [17  6 27 39]\n",
      "done testing 0 of 2.\n",
      "3/3 [==============================] - 0s 1ms/step\n",
      "cm [[ 8 12]\n",
      " [16 53]]\n",
      "cm.ravel() [ 8 12 16 53]\n",
      "done testing 1 of 2.\n"
     ]
    },
    {
     "name": "stderr",
     "output_type": "stream",
     "text": [
      "/home/st/sbhuvaji/1AllP/Individual Patient_All Models/TLandTL/Actual TL/SingleEncoder/WithCV/TL_Packages.py:582: UserWarning: FixedFormatter should only be used together with FixedLocator\n",
      "  axs[i].set_xticklabels([''] + ['0', '1'], fontsize='xx-large')\n",
      "/home/st/sbhuvaji/1AllP/Individual Patient_All Models/TLandTL/Actual TL/SingleEncoder/WithCV/TL_Packages.py:583: UserWarning: FixedFormatter should only be used together with FixedLocator\n",
      "  axs[i].set_yticklabels([''] + ['0', '1'], fontsize='xx-large')\n"
     ]
    },
    {
     "name": "stdout",
     "output_type": "stream",
     "text": [
      "Population Fold 1: Training data size = 3537, Validation data size = 1769\n"
     ]
    },
    {
     "name": "stderr",
     "output_type": "stream",
     "text": [
      "/home/st/sbhuvaji/anaconda3/lib/python3.9/site-packages/keras/src/engine/training.py:3000: UserWarning: You are saving your model as an HDF5 file via `model.save()`. This file format is considered legacy. We recommend using instead the native Keras format, e.g. `model.save('my_model.keras')`.\n",
      "  saving_api.save_model(\n"
     ]
    },
    {
     "name": "stdout",
     "output_type": "stream",
     "text": [
      "56/56 [==============================] - 0s 813us/step\n",
      "cm [[597 276]\n",
      " [212 684]]\n",
      "cm.ravel() [597 276 212 684]\n",
      "Before balancing count  1.0    64\n",
      "0.0    25\n",
      "Name: class, dtype: int64\n",
      "~~~~~~~ value_counts: ~~~~~~~\n",
      "SHOULD BE BALANCED NOW: 0.0    64\n",
      "1.0    64\n",
      "Name: class, dtype: int64\n",
      "Before balancing count  1.0    71\n",
      "0.0    18\n",
      "Name: class, dtype: int64\n",
      "~~~~~~~ value_counts: ~~~~~~~\n",
      "SHOULD BE BALANCED NOW: 1.0    71\n",
      "0.0    71\n",
      "Name: class, dtype: int64\n",
      "done RE-training 0 of 3. "
     ]
    },
    {
     "name": "stderr",
     "output_type": "stream",
     "text": [
      "/home/st/sbhuvaji/anaconda3/lib/python3.9/site-packages/keras/src/engine/training.py:3000: UserWarning: You are saving your model as an HDF5 file via `model.save()`. This file format is considered legacy. We recommend using instead the native Keras format, e.g. `model.save('my_model.keras')`.\n",
      "  saving_api.save_model(\n"
     ]
    },
    {
     "name": "stdout",
     "output_type": "stream",
     "text": [
      "3/3 [==============================] - 0s 1ms/step\n",
      "cm [[15  3]\n",
      " [24 47]]\n",
      "cm.ravel() [15  3 24 47]\n",
      "done testing 0 of 2.\n",
      "3/3 [==============================] - 0s 2ms/step\n",
      "cm [[13 12]\n",
      " [14 50]]\n",
      "cm.ravel() [13 12 14 50]\n",
      "done testing 1 of 2.\n"
     ]
    },
    {
     "name": "stderr",
     "output_type": "stream",
     "text": [
      "/home/st/sbhuvaji/1AllP/Individual Patient_All Models/TLandTL/Actual TL/SingleEncoder/WithCV/TL_Packages.py:582: UserWarning: FixedFormatter should only be used together with FixedLocator\n",
      "  axs[i].set_xticklabels([''] + ['0', '1'], fontsize='xx-large')\n",
      "/home/st/sbhuvaji/1AllP/Individual Patient_All Models/TLandTL/Actual TL/SingleEncoder/WithCV/TL_Packages.py:583: UserWarning: FixedFormatter should only be used together with FixedLocator\n",
      "  axs[i].set_yticklabels([''] + ['0', '1'], fontsize='xx-large')\n"
     ]
    },
    {
     "name": "stdout",
     "output_type": "stream",
     "text": [
      "Population Fold 2: Training data size = 3538, Validation data size = 1768\n"
     ]
    },
    {
     "name": "stderr",
     "output_type": "stream",
     "text": [
      "/home/st/sbhuvaji/anaconda3/lib/python3.9/site-packages/keras/src/engine/training.py:3000: UserWarning: You are saving your model as an HDF5 file via `model.save()`. This file format is considered legacy. We recommend using instead the native Keras format, e.g. `model.save('my_model.keras')`.\n",
      "  saving_api.save_model(\n"
     ]
    },
    {
     "name": "stdout",
     "output_type": "stream",
     "text": [
      "56/56 [==============================] - 0s 855us/step\n",
      "cm [[655 253]\n",
      " [225 635]]\n",
      "cm.ravel() [655 253 225 635]\n",
      "Before balancing count  1.0    70\n",
      "0.0    19\n",
      "Name: class, dtype: int64\n",
      "~~~~~~~ value_counts: ~~~~~~~\n",
      "SHOULD BE BALANCED NOW: 1.0    70\n",
      "0.0    70\n",
      "Name: class, dtype: int64\n",
      "Before balancing count  1.0    65\n",
      "0.0    24\n",
      "Name: class, dtype: int64\n",
      "~~~~~~~ value_counts: ~~~~~~~\n",
      "SHOULD BE BALANCED NOW: 0.0    65\n",
      "1.0    65\n",
      "Name: class, dtype: int64\n",
      "done RE-training 0 of 3. "
     ]
    },
    {
     "name": "stderr",
     "output_type": "stream",
     "text": [
      "/home/st/sbhuvaji/anaconda3/lib/python3.9/site-packages/keras/src/engine/training.py:3000: UserWarning: You are saving your model as an HDF5 file via `model.save()`. This file format is considered legacy. We recommend using instead the native Keras format, e.g. `model.save('my_model.keras')`.\n",
      "  saving_api.save_model(\n"
     ]
    },
    {
     "name": "stdout",
     "output_type": "stream",
     "text": [
      "3/3 [==============================] - 0s 1ms/step\n",
      "cm [[11 13]\n",
      " [22 43]]\n",
      "cm.ravel() [11 13 22 43]\n",
      "done testing 0 of 2.\n",
      "3/3 [==============================] - 0s 1ms/step\n",
      "cm [[16  3]\n",
      " [51 19]]\n",
      "cm.ravel() [16  3 51 19]\n",
      "done testing 1 of 2.\n"
     ]
    },
    {
     "name": "stderr",
     "output_type": "stream",
     "text": [
      "/home/st/sbhuvaji/1AllP/Individual Patient_All Models/TLandTL/Actual TL/SingleEncoder/WithCV/TL_Packages.py:582: UserWarning: FixedFormatter should only be used together with FixedLocator\n",
      "  axs[i].set_xticklabels([''] + ['0', '1'], fontsize='xx-large')\n",
      "/home/st/sbhuvaji/1AllP/Individual Patient_All Models/TLandTL/Actual TL/SingleEncoder/WithCV/TL_Packages.py:583: UserWarning: FixedFormatter should only be used together with FixedLocator\n",
      "  axs[i].set_yticklabels([''] + ['0', '1'], fontsize='xx-large')\n",
      " 12%|█▏        | 3/26 [08:36<1:06:06, 172.44s/it]"
     ]
    },
    {
     "name": "stdout",
     "output_type": "stream",
     "text": [
      "Runtime: 22 o' clock and 40 minutes\n",
      "~~~~~~~~~~~ 100 ~~~~~~~~~~~~~~~~~~~ 300 ~~~~~~~~~~~~~~~~~~~ SB-011 ~~~~~~~~~~~~~~~~~~~\n",
      "Before balancing count  1.0    2642\n",
      "0.0    1017\n",
      "Name: class, dtype: int64\n",
      "~~~~~~~ value_counts: ~~~~~~~\n",
      "SHOULD BE BALANCED NOW: 0.0    2642\n",
      "1.0    2642\n",
      "Name: class, dtype: int64\n",
      "X_train = 5284, y_train = 5284\n",
      "Population Fold 0: Training data size = 3522, Validation data size = 1762\n"
     ]
    },
    {
     "name": "stderr",
     "output_type": "stream",
     "text": [
      "/home/st/sbhuvaji/anaconda3/lib/python3.9/site-packages/keras/src/engine/training.py:3000: UserWarning: You are saving your model as an HDF5 file via `model.save()`. This file format is considered legacy. We recommend using instead the native Keras format, e.g. `model.save('my_model.keras')`.\n",
      "  saving_api.save_model(\n"
     ]
    },
    {
     "name": "stdout",
     "output_type": "stream",
     "text": [
      "56/56 [==============================] - 0s 866us/step\n",
      "cm [[691 191]\n",
      " [323 557]]\n",
      "cm.ravel() [691 191 323 557]\n",
      "Before balancing count  1.0    74\n",
      "0.0    31\n",
      "Name: class, dtype: int64\n",
      "~~~~~~~ value_counts: ~~~~~~~\n",
      "SHOULD BE BALANCED NOW: 1.0    74\n",
      "0.0    74\n",
      "Name: class, dtype: int64\n",
      "Before balancing count  1.0    73\n",
      "0.0    32\n",
      "Name: class, dtype: int64\n",
      "~~~~~~~ value_counts: ~~~~~~~\n",
      "SHOULD BE BALANCED NOW: 0.0    73\n",
      "1.0    73\n",
      "Name: class, dtype: int64\n",
      "done RE-training 0 of 3. "
     ]
    },
    {
     "name": "stderr",
     "output_type": "stream",
     "text": [
      "/home/st/sbhuvaji/anaconda3/lib/python3.9/site-packages/keras/src/engine/training.py:3000: UserWarning: You are saving your model as an HDF5 file via `model.save()`. This file format is considered legacy. We recommend using instead the native Keras format, e.g. `model.save('my_model.keras')`.\n",
      "  saving_api.save_model(\n"
     ]
    },
    {
     "name": "stdout",
     "output_type": "stream",
     "text": [
      "4/4 [==============================] - 0s 1ms/step\n",
      "cm [[26  6]\n",
      " [15 58]]\n",
      "cm.ravel() [26  6 15 58]\n",
      "done testing 0 of 2.\n",
      "4/4 [==============================] - 0s 1ms/step\n",
      "cm [[26  5]\n",
      " [18 56]]\n",
      "cm.ravel() [26  5 18 56]\n",
      "done testing 1 of 2.\n"
     ]
    },
    {
     "name": "stderr",
     "output_type": "stream",
     "text": [
      "/home/st/sbhuvaji/1AllP/Individual Patient_All Models/TLandTL/Actual TL/SingleEncoder/WithCV/TL_Packages.py:582: UserWarning: FixedFormatter should only be used together with FixedLocator\n",
      "  axs[i].set_xticklabels([''] + ['0', '1'], fontsize='xx-large')\n",
      "/home/st/sbhuvaji/1AllP/Individual Patient_All Models/TLandTL/Actual TL/SingleEncoder/WithCV/TL_Packages.py:583: UserWarning: FixedFormatter should only be used together with FixedLocator\n",
      "  axs[i].set_yticklabels([''] + ['0', '1'], fontsize='xx-large')\n"
     ]
    },
    {
     "name": "stdout",
     "output_type": "stream",
     "text": [
      "Population Fold 1: Training data size = 3523, Validation data size = 1761\n"
     ]
    },
    {
     "name": "stderr",
     "output_type": "stream",
     "text": [
      "/home/st/sbhuvaji/anaconda3/lib/python3.9/site-packages/keras/src/engine/training.py:3000: UserWarning: You are saving your model as an HDF5 file via `model.save()`. This file format is considered legacy. We recommend using instead the native Keras format, e.g. `model.save('my_model.keras')`.\n",
      "  saving_api.save_model(\n"
     ]
    },
    {
     "name": "stdout",
     "output_type": "stream",
     "text": [
      "56/56 [==============================] - 0s 851us/step\n",
      "cm [[696 190]\n",
      " [291 584]]\n",
      "cm.ravel() [696 190 291 584]\n",
      "Before balancing count  1.0    71\n",
      "0.0    34\n",
      "Name: class, dtype: int64\n",
      "~~~~~~~ value_counts: ~~~~~~~\n",
      "SHOULD BE BALANCED NOW: 1.0    71\n",
      "0.0    71\n",
      "Name: class, dtype: int64\n",
      "Before balancing count  1.0    76\n",
      "0.0    29\n",
      "Name: class, dtype: int64\n",
      "~~~~~~~ value_counts: ~~~~~~~\n",
      "SHOULD BE BALANCED NOW: 0.0    76\n",
      "1.0    76\n",
      "Name: class, dtype: int64\n",
      "done RE-training 0 of 3. "
     ]
    },
    {
     "name": "stderr",
     "output_type": "stream",
     "text": [
      "/home/st/sbhuvaji/anaconda3/lib/python3.9/site-packages/keras/src/engine/training.py:3000: UserWarning: You are saving your model as an HDF5 file via `model.save()`. This file format is considered legacy. We recommend using instead the native Keras format, e.g. `model.save('my_model.keras')`.\n",
      "  saving_api.save_model(\n"
     ]
    },
    {
     "name": "stdout",
     "output_type": "stream",
     "text": [
      "4/4 [==============================] - 0s 1ms/step\n",
      "cm [[22  7]\n",
      " [15 61]]\n",
      "cm.ravel() [22  7 15 61]\n",
      "done testing 0 of 2.\n",
      "4/4 [==============================] - 0s 1ms/step\n",
      "cm [[32  2]\n",
      " [24 47]]\n",
      "cm.ravel() [32  2 24 47]\n",
      "done testing 1 of 2.\n"
     ]
    },
    {
     "name": "stderr",
     "output_type": "stream",
     "text": [
      "/home/st/sbhuvaji/1AllP/Individual Patient_All Models/TLandTL/Actual TL/SingleEncoder/WithCV/TL_Packages.py:582: UserWarning: FixedFormatter should only be used together with FixedLocator\n",
      "  axs[i].set_xticklabels([''] + ['0', '1'], fontsize='xx-large')\n",
      "/home/st/sbhuvaji/1AllP/Individual Patient_All Models/TLandTL/Actual TL/SingleEncoder/WithCV/TL_Packages.py:583: UserWarning: FixedFormatter should only be used together with FixedLocator\n",
      "  axs[i].set_yticklabels([''] + ['0', '1'], fontsize='xx-large')\n"
     ]
    },
    {
     "name": "stdout",
     "output_type": "stream",
     "text": [
      "Population Fold 2: Training data size = 3523, Validation data size = 1761\n"
     ]
    },
    {
     "name": "stderr",
     "output_type": "stream",
     "text": [
      "/home/st/sbhuvaji/anaconda3/lib/python3.9/site-packages/keras/src/engine/training.py:3000: UserWarning: You are saving your model as an HDF5 file via `model.save()`. This file format is considered legacy. We recommend using instead the native Keras format, e.g. `model.save('my_model.keras')`.\n",
      "  saving_api.save_model(\n"
     ]
    },
    {
     "name": "stdout",
     "output_type": "stream",
     "text": [
      "56/56 [==============================] - 0s 968us/step\n",
      "cm [[618 256]\n",
      " [233 654]]\n",
      "cm.ravel() [618 256 233 654]\n",
      "Before balancing count  1.0    73\n",
      "0.0    32\n",
      "Name: class, dtype: int64\n",
      "~~~~~~~ value_counts: ~~~~~~~\n",
      "SHOULD BE BALANCED NOW: 0.0    73\n",
      "1.0    73\n",
      "Name: class, dtype: int64\n",
      "Before balancing count  1.0    74\n",
      "0.0    31\n",
      "Name: class, dtype: int64\n",
      "~~~~~~~ value_counts: ~~~~~~~\n",
      "SHOULD BE BALANCED NOW: 1.0    74\n",
      "0.0    74\n",
      "Name: class, dtype: int64\n",
      "done RE-training 0 of 3. "
     ]
    },
    {
     "name": "stderr",
     "output_type": "stream",
     "text": [
      "/home/st/sbhuvaji/anaconda3/lib/python3.9/site-packages/keras/src/engine/training.py:3000: UserWarning: You are saving your model as an HDF5 file via `model.save()`. This file format is considered legacy. We recommend using instead the native Keras format, e.g. `model.save('my_model.keras')`.\n",
      "  saving_api.save_model(\n"
     ]
    },
    {
     "name": "stdout",
     "output_type": "stream",
     "text": [
      "4/4 [==============================] - 0s 1ms/step\n",
      "cm [[28  3]\n",
      " [21 53]]\n",
      "cm.ravel() [28  3 21 53]\n",
      "done testing 0 of 2.\n",
      "4/4 [==============================] - 0s 1ms/step\n",
      "cm [[22 10]\n",
      " [13 60]]\n",
      "cm.ravel() [22 10 13 60]\n",
      "done testing 1 of 2.\n"
     ]
    },
    {
     "name": "stderr",
     "output_type": "stream",
     "text": [
      "/home/st/sbhuvaji/1AllP/Individual Patient_All Models/TLandTL/Actual TL/SingleEncoder/WithCV/TL_Packages.py:582: UserWarning: FixedFormatter should only be used together with FixedLocator\n",
      "  axs[i].set_xticklabels([''] + ['0', '1'], fontsize='xx-large')\n",
      "/home/st/sbhuvaji/1AllP/Individual Patient_All Models/TLandTL/Actual TL/SingleEncoder/WithCV/TL_Packages.py:583: UserWarning: FixedFormatter should only be used together with FixedLocator\n",
      "  axs[i].set_yticklabels([''] + ['0', '1'], fontsize='xx-large')\n",
      " 15%|█▌        | 4/26 [11:29<1:03:22, 172.83s/it]"
     ]
    },
    {
     "name": "stdout",
     "output_type": "stream",
     "text": [
      "Runtime: 22 o' clock and 43 minutes\n",
      "~~~~~~~~~~~ 100 ~~~~~~~~~~~~~~~~~~~ 300 ~~~~~~~~~~~~~~~~~~~ SB-012 ~~~~~~~~~~~~~~~~~~~\n",
      "Before balancing count  1.0    2654\n",
      "0.0    1020\n",
      "Name: class, dtype: int64\n",
      "~~~~~~~ value_counts: ~~~~~~~\n",
      "SHOULD BE BALANCED NOW: 1.0    2654\n",
      "0.0    2654\n",
      "Name: class, dtype: int64\n",
      "X_train = 5308, y_train = 5308\n",
      "Population Fold 0: Training data size = 3538, Validation data size = 1770\n"
     ]
    },
    {
     "name": "stderr",
     "output_type": "stream",
     "text": [
      "/home/st/sbhuvaji/anaconda3/lib/python3.9/site-packages/keras/src/engine/training.py:3000: UserWarning: You are saving your model as an HDF5 file via `model.save()`. This file format is considered legacy. We recommend using instead the native Keras format, e.g. `model.save('my_model.keras')`.\n",
      "  saving_api.save_model(\n"
     ]
    },
    {
     "name": "stdout",
     "output_type": "stream",
     "text": [
      "56/56 [==============================] - 0s 881us/step\n",
      "cm [[589 279]\n",
      " [208 694]]\n",
      "cm.ravel() [589 279 208 694]\n",
      "Before balancing count  1.0    70\n",
      "0.0    27\n",
      "Name: class, dtype: int64\n",
      "~~~~~~~ value_counts: ~~~~~~~\n",
      "SHOULD BE BALANCED NOW: 1.0    70\n",
      "0.0    70\n",
      "Name: class, dtype: int64\n",
      "Before balancing count  1.0    67\n",
      "0.0    30\n",
      "Name: class, dtype: int64\n",
      "~~~~~~~ value_counts: ~~~~~~~\n",
      "SHOULD BE BALANCED NOW: 1.0    67\n",
      "0.0    67\n",
      "Name: class, dtype: int64\n",
      "done RE-training 0 of 3. "
     ]
    },
    {
     "name": "stderr",
     "output_type": "stream",
     "text": [
      "/home/st/sbhuvaji/anaconda3/lib/python3.9/site-packages/keras/src/engine/training.py:3000: UserWarning: You are saving your model as an HDF5 file via `model.save()`. This file format is considered legacy. We recommend using instead the native Keras format, e.g. `model.save('my_model.keras')`.\n",
      "  saving_api.save_model(\n"
     ]
    },
    {
     "name": "stdout",
     "output_type": "stream",
     "text": [
      "4/4 [==============================] - 0s 1ms/step\n",
      "cm [[24  6]\n",
      " [20 47]]\n",
      "cm.ravel() [24  6 20 47]\n",
      "done testing 0 of 2.\n",
      "4/4 [==============================] - 0s 1ms/step\n",
      "cm [[18  9]\n",
      " [ 8 62]]\n",
      "cm.ravel() [18  9  8 62]\n",
      "done testing 1 of 2.\n"
     ]
    },
    {
     "name": "stderr",
     "output_type": "stream",
     "text": [
      "/home/st/sbhuvaji/1AllP/Individual Patient_All Models/TLandTL/Actual TL/SingleEncoder/WithCV/TL_Packages.py:582: UserWarning: FixedFormatter should only be used together with FixedLocator\n",
      "  axs[i].set_xticklabels([''] + ['0', '1'], fontsize='xx-large')\n",
      "/home/st/sbhuvaji/1AllP/Individual Patient_All Models/TLandTL/Actual TL/SingleEncoder/WithCV/TL_Packages.py:583: UserWarning: FixedFormatter should only be used together with FixedLocator\n",
      "  axs[i].set_yticklabels([''] + ['0', '1'], fontsize='xx-large')\n"
     ]
    },
    {
     "name": "stdout",
     "output_type": "stream",
     "text": [
      "Population Fold 1: Training data size = 3539, Validation data size = 1769\n"
     ]
    },
    {
     "name": "stderr",
     "output_type": "stream",
     "text": [
      "/home/st/sbhuvaji/anaconda3/lib/python3.9/site-packages/keras/src/engine/training.py:3000: UserWarning: You are saving your model as an HDF5 file via `model.save()`. This file format is considered legacy. We recommend using instead the native Keras format, e.g. `model.save('my_model.keras')`.\n",
      "  saving_api.save_model(\n"
     ]
    },
    {
     "name": "stdout",
     "output_type": "stream",
     "text": [
      "56/56 [==============================] - 0s 856us/step\n",
      "cm [[661 209]\n",
      " [271 628]]\n",
      "cm.ravel() [661 209 271 628]\n",
      "Before balancing count  1.0    64\n",
      "0.0    33\n",
      "Name: class, dtype: int64\n",
      "~~~~~~~ value_counts: ~~~~~~~\n",
      "SHOULD BE BALANCED NOW: 0.0    64\n",
      "1.0    64\n",
      "Name: class, dtype: int64\n",
      "Before balancing count  1.0    73\n",
      "0.0    24\n",
      "Name: class, dtype: int64\n",
      "~~~~~~~ value_counts: ~~~~~~~\n",
      "SHOULD BE BALANCED NOW: 0.0    73\n",
      "1.0    73\n",
      "Name: class, dtype: int64\n",
      "done RE-training 0 of 3. "
     ]
    },
    {
     "name": "stderr",
     "output_type": "stream",
     "text": [
      "/home/st/sbhuvaji/anaconda3/lib/python3.9/site-packages/keras/src/engine/training.py:3000: UserWarning: You are saving your model as an HDF5 file via `model.save()`. This file format is considered legacy. We recommend using instead the native Keras format, e.g. `model.save('my_model.keras')`.\n",
      "  saving_api.save_model(\n"
     ]
    },
    {
     "name": "stdout",
     "output_type": "stream",
     "text": [
      "4/4 [==============================] - 0s 1ms/step\n",
      "cm [[16  8]\n",
      " [17 56]]\n",
      "cm.ravel() [16  8 17 56]\n",
      "done testing 0 of 2.\n",
      "4/4 [==============================] - 0s 1ms/step\n",
      "cm [[23 10]\n",
      " [18 46]]\n",
      "cm.ravel() [23 10 18 46]\n",
      "done testing 1 of 2.\n"
     ]
    },
    {
     "name": "stderr",
     "output_type": "stream",
     "text": [
      "/home/st/sbhuvaji/1AllP/Individual Patient_All Models/TLandTL/Actual TL/SingleEncoder/WithCV/TL_Packages.py:582: UserWarning: FixedFormatter should only be used together with FixedLocator\n",
      "  axs[i].set_xticklabels([''] + ['0', '1'], fontsize='xx-large')\n",
      "/home/st/sbhuvaji/1AllP/Individual Patient_All Models/TLandTL/Actual TL/SingleEncoder/WithCV/TL_Packages.py:583: UserWarning: FixedFormatter should only be used together with FixedLocator\n",
      "  axs[i].set_yticklabels([''] + ['0', '1'], fontsize='xx-large')\n"
     ]
    },
    {
     "name": "stdout",
     "output_type": "stream",
     "text": [
      "Population Fold 2: Training data size = 3539, Validation data size = 1769\n"
     ]
    },
    {
     "name": "stderr",
     "output_type": "stream",
     "text": [
      "/home/st/sbhuvaji/anaconda3/lib/python3.9/site-packages/keras/src/engine/training.py:3000: UserWarning: You are saving your model as an HDF5 file via `model.save()`. This file format is considered legacy. We recommend using instead the native Keras format, e.g. `model.save('my_model.keras')`.\n",
      "  saving_api.save_model(\n"
     ]
    },
    {
     "name": "stdout",
     "output_type": "stream",
     "text": [
      "56/56 [==============================] - 0s 875us/step\n",
      "cm [[624 292]\n",
      " [175 678]]\n",
      "cm.ravel() [624 292 175 678]\n",
      "Before balancing count  1.0    63\n",
      "0.0    34\n",
      "Name: class, dtype: int64\n",
      "~~~~~~~ value_counts: ~~~~~~~\n",
      "SHOULD BE BALANCED NOW: 1.0    63\n",
      "0.0    63\n",
      "Name: class, dtype: int64\n",
      "Before balancing count  1.0    74\n",
      "0.0    23\n",
      "Name: class, dtype: int64\n",
      "~~~~~~~ value_counts: ~~~~~~~\n",
      "SHOULD BE BALANCED NOW: 1.0    74\n",
      "0.0    74\n",
      "Name: class, dtype: int64\n",
      "done RE-training 0 of 3. "
     ]
    },
    {
     "name": "stderr",
     "output_type": "stream",
     "text": [
      "/home/st/sbhuvaji/anaconda3/lib/python3.9/site-packages/keras/src/engine/training.py:3000: UserWarning: You are saving your model as an HDF5 file via `model.save()`. This file format is considered legacy. We recommend using instead the native Keras format, e.g. `model.save('my_model.keras')`.\n",
      "  saving_api.save_model(\n"
     ]
    },
    {
     "name": "stdout",
     "output_type": "stream",
     "text": [
      "4/4 [==============================] - 0s 1ms/step\n",
      "cm [[20  3]\n",
      " [18 56]]\n",
      "cm.ravel() [20  3 18 56]\n",
      "done testing 0 of 2.\n",
      "4/4 [==============================] - 0s 1ms/step\n",
      "cm [[25  9]\n",
      " [14 49]]\n",
      "cm.ravel() [25  9 14 49]\n",
      "done testing 1 of 2.\n"
     ]
    },
    {
     "name": "stderr",
     "output_type": "stream",
     "text": [
      "/home/st/sbhuvaji/1AllP/Individual Patient_All Models/TLandTL/Actual TL/SingleEncoder/WithCV/TL_Packages.py:582: UserWarning: FixedFormatter should only be used together with FixedLocator\n",
      "  axs[i].set_xticklabels([''] + ['0', '1'], fontsize='xx-large')\n",
      "/home/st/sbhuvaji/1AllP/Individual Patient_All Models/TLandTL/Actual TL/SingleEncoder/WithCV/TL_Packages.py:583: UserWarning: FixedFormatter should only be used together with FixedLocator\n",
      "  axs[i].set_yticklabels([''] + ['0', '1'], fontsize='xx-large')\n",
      " 19%|█▉        | 5/26 [14:25<1:00:50, 173.83s/it]"
     ]
    },
    {
     "name": "stdout",
     "output_type": "stream",
     "text": [
      "Runtime: 22 o' clock and 46 minutes\n",
      "~~~~~~~~~~~ 100 ~~~~~~~~~~~~~~~~~~~ 300 ~~~~~~~~~~~~~~~~~~~ SB-022 ~~~~~~~~~~~~~~~~~~~\n",
      "Before balancing count  1.0    2638\n",
      "0.0    1027\n",
      "Name: class, dtype: int64\n",
      "~~~~~~~ value_counts: ~~~~~~~\n",
      "SHOULD BE BALANCED NOW: 0.0    2638\n",
      "1.0    2638\n",
      "Name: class, dtype: int64\n",
      "X_train = 5276, y_train = 5276\n",
      "Population Fold 0: Training data size = 3517, Validation data size = 1759\n"
     ]
    },
    {
     "name": "stderr",
     "output_type": "stream",
     "text": [
      "/home/st/sbhuvaji/anaconda3/lib/python3.9/site-packages/keras/src/engine/training.py:3000: UserWarning: You are saving your model as an HDF5 file via `model.save()`. This file format is considered legacy. We recommend using instead the native Keras format, e.g. `model.save('my_model.keras')`.\n",
      "  saving_api.save_model(\n"
     ]
    },
    {
     "name": "stdout",
     "output_type": "stream",
     "text": [
      "55/55 [==============================] - 0s 860us/step\n",
      "cm [[709 148]\n",
      " [325 577]]\n",
      "cm.ravel() [709 148 325 577]\n",
      "Before balancing count  1.0    74\n",
      "0.0    28\n",
      "Name: class, dtype: int64\n",
      "~~~~~~~ value_counts: ~~~~~~~\n",
      "SHOULD BE BALANCED NOW: 1.0    74\n",
      "0.0    74\n",
      "Name: class, dtype: int64\n",
      "Before balancing count  1.0    69\n",
      "0.0    33\n",
      "Name: class, dtype: int64\n",
      "~~~~~~~ value_counts: ~~~~~~~\n",
      "SHOULD BE BALANCED NOW: 1.0    69\n",
      "0.0    69\n",
      "Name: class, dtype: int64\n",
      "done RE-training 0 of 3. "
     ]
    },
    {
     "name": "stderr",
     "output_type": "stream",
     "text": [
      "/home/st/sbhuvaji/anaconda3/lib/python3.9/site-packages/keras/src/engine/training.py:3000: UserWarning: You are saving your model as an HDF5 file via `model.save()`. This file format is considered legacy. We recommend using instead the native Keras format, e.g. `model.save('my_model.keras')`.\n",
      "  saving_api.save_model(\n"
     ]
    },
    {
     "name": "stdout",
     "output_type": "stream",
     "text": [
      "4/4 [==============================] - 0s 1ms/step\n",
      "cm [[27  6]\n",
      " [29 40]]\n",
      "cm.ravel() [27  6 29 40]\n",
      "done testing 0 of 2.\n",
      "4/4 [==============================] - 0s 1ms/step\n",
      "cm [[16 12]\n",
      " [18 56]]\n",
      "cm.ravel() [16 12 18 56]\n",
      "done testing 1 of 2.\n"
     ]
    },
    {
     "name": "stderr",
     "output_type": "stream",
     "text": [
      "/home/st/sbhuvaji/1AllP/Individual Patient_All Models/TLandTL/Actual TL/SingleEncoder/WithCV/TL_Packages.py:582: UserWarning: FixedFormatter should only be used together with FixedLocator\n",
      "  axs[i].set_xticklabels([''] + ['0', '1'], fontsize='xx-large')\n",
      "/home/st/sbhuvaji/1AllP/Individual Patient_All Models/TLandTL/Actual TL/SingleEncoder/WithCV/TL_Packages.py:583: UserWarning: FixedFormatter should only be used together with FixedLocator\n",
      "  axs[i].set_yticklabels([''] + ['0', '1'], fontsize='xx-large')\n"
     ]
    },
    {
     "name": "stdout",
     "output_type": "stream",
     "text": [
      "Population Fold 1: Training data size = 3517, Validation data size = 1759\n"
     ]
    },
    {
     "name": "stderr",
     "output_type": "stream",
     "text": [
      "/home/st/sbhuvaji/anaconda3/lib/python3.9/site-packages/keras/src/engine/training.py:3000: UserWarning: You are saving your model as an HDF5 file via `model.save()`. This file format is considered legacy. We recommend using instead the native Keras format, e.g. `model.save('my_model.keras')`.\n",
      "  saving_api.save_model(\n"
     ]
    },
    {
     "name": "stdout",
     "output_type": "stream",
     "text": [
      "55/55 [==============================] - 0s 854us/step\n",
      "cm [[658 219]\n",
      " [236 646]]\n",
      "cm.ravel() [658 219 236 646]\n",
      "Before balancing count  1.0    71\n",
      "0.0    31\n",
      "Name: class, dtype: int64\n",
      "~~~~~~~ value_counts: ~~~~~~~\n",
      "SHOULD BE BALANCED NOW: 1.0    71\n",
      "0.0    71\n",
      "Name: class, dtype: int64\n",
      "Before balancing count  1.0    72\n",
      "0.0    30\n",
      "Name: class, dtype: int64\n",
      "~~~~~~~ value_counts: ~~~~~~~\n",
      "SHOULD BE BALANCED NOW: 1.0    72\n",
      "0.0    72\n",
      "Name: class, dtype: int64\n",
      "done RE-training 0 of 3. "
     ]
    },
    {
     "name": "stderr",
     "output_type": "stream",
     "text": [
      "/home/st/sbhuvaji/anaconda3/lib/python3.9/site-packages/keras/src/engine/training.py:3000: UserWarning: You are saving your model as an HDF5 file via `model.save()`. This file format is considered legacy. We recommend using instead the native Keras format, e.g. `model.save('my_model.keras')`.\n",
      "  saving_api.save_model(\n"
     ]
    },
    {
     "name": "stdout",
     "output_type": "stream",
     "text": [
      "4/4 [==============================] - 0s 1ms/step\n",
      "cm [[17 13]\n",
      " [ 9 63]]\n",
      "cm.ravel() [17 13  9 63]\n",
      "done testing 0 of 2.\n",
      "4/4 [==============================] - 0s 1ms/step\n",
      "cm [[24  7]\n",
      " [26 45]]\n",
      "cm.ravel() [24  7 26 45]\n",
      "done testing 1 of 2.\n"
     ]
    },
    {
     "name": "stderr",
     "output_type": "stream",
     "text": [
      "/home/st/sbhuvaji/1AllP/Individual Patient_All Models/TLandTL/Actual TL/SingleEncoder/WithCV/TL_Packages.py:582: UserWarning: FixedFormatter should only be used together with FixedLocator\n",
      "  axs[i].set_xticklabels([''] + ['0', '1'], fontsize='xx-large')\n",
      "/home/st/sbhuvaji/1AllP/Individual Patient_All Models/TLandTL/Actual TL/SingleEncoder/WithCV/TL_Packages.py:583: UserWarning: FixedFormatter should only be used together with FixedLocator\n",
      "  axs[i].set_yticklabels([''] + ['0', '1'], fontsize='xx-large')\n"
     ]
    },
    {
     "name": "stdout",
     "output_type": "stream",
     "text": [
      "Population Fold 2: Training data size = 3518, Validation data size = 1758\n"
     ]
    },
    {
     "name": "stderr",
     "output_type": "stream",
     "text": [
      "/home/st/sbhuvaji/anaconda3/lib/python3.9/site-packages/keras/src/engine/training.py:3000: UserWarning: You are saving your model as an HDF5 file via `model.save()`. This file format is considered legacy. We recommend using instead the native Keras format, e.g. `model.save('my_model.keras')`.\n",
      "  saving_api.save_model(\n"
     ]
    },
    {
     "name": "stdout",
     "output_type": "stream",
     "text": [
      "55/55 [==============================] - 0s 864us/step\n",
      "cm [[691 213]\n",
      " [259 595]]\n",
      "cm.ravel() [691 213 259 595]\n",
      "Before balancing count  1.0    76\n",
      "0.0    26\n",
      "Name: class, dtype: int64\n",
      "~~~~~~~ value_counts: ~~~~~~~\n",
      "SHOULD BE BALANCED NOW: 0.0    76\n",
      "1.0    76\n",
      "Name: class, dtype: int64\n",
      "Before balancing count  1.0    67\n",
      "0.0    35\n",
      "Name: class, dtype: int64\n",
      "~~~~~~~ value_counts: ~~~~~~~\n",
      "SHOULD BE BALANCED NOW: 1.0    67\n",
      "0.0    67\n",
      "Name: class, dtype: int64\n",
      "done RE-training 0 of 3. "
     ]
    },
    {
     "name": "stderr",
     "output_type": "stream",
     "text": [
      "/home/st/sbhuvaji/anaconda3/lib/python3.9/site-packages/keras/src/engine/training.py:3000: UserWarning: You are saving your model as an HDF5 file via `model.save()`. This file format is considered legacy. We recommend using instead the native Keras format, e.g. `model.save('my_model.keras')`.\n",
      "  saving_api.save_model(\n"
     ]
    },
    {
     "name": "stdout",
     "output_type": "stream",
     "text": [
      "4/4 [==============================] - 0s 1ms/step\n",
      "cm [[18 17]\n",
      " [26 41]]\n",
      "cm.ravel() [18 17 26 41]\n",
      "done testing 0 of 2.\n",
      "4/4 [==============================] - 0s 1ms/step\n",
      "cm [[19  7]\n",
      " [37 39]]\n",
      "cm.ravel() [19  7 37 39]\n",
      "done testing 1 of 2.\n"
     ]
    },
    {
     "name": "stderr",
     "output_type": "stream",
     "text": [
      "/home/st/sbhuvaji/1AllP/Individual Patient_All Models/TLandTL/Actual TL/SingleEncoder/WithCV/TL_Packages.py:582: UserWarning: FixedFormatter should only be used together with FixedLocator\n",
      "  axs[i].set_xticklabels([''] + ['0', '1'], fontsize='xx-large')\n",
      "/home/st/sbhuvaji/1AllP/Individual Patient_All Models/TLandTL/Actual TL/SingleEncoder/WithCV/TL_Packages.py:583: UserWarning: FixedFormatter should only be used together with FixedLocator\n",
      "  axs[i].set_yticklabels([''] + ['0', '1'], fontsize='xx-large')\n",
      " 23%|██▎       | 6/26 [17:17<57:49, 173.50s/it]  "
     ]
    },
    {
     "name": "stdout",
     "output_type": "stream",
     "text": [
      "Runtime: 22 o' clock and 49 minutes\n",
      "~~~~~~~~~~~ 100 ~~~~~~~~~~~~~~~~~~~ 300 ~~~~~~~~~~~~~~~~~~~ SB-023 ~~~~~~~~~~~~~~~~~~~\n",
      "Before balancing count  1.0    2657\n",
      "0.0    1017\n",
      "Name: class, dtype: int64\n",
      "~~~~~~~ value_counts: ~~~~~~~\n",
      "SHOULD BE BALANCED NOW: 1.0    2657\n",
      "0.0    2657\n",
      "Name: class, dtype: int64\n",
      "X_train = 5314, y_train = 5314\n",
      "Population Fold 0: Training data size = 3542, Validation data size = 1772\n"
     ]
    },
    {
     "name": "stderr",
     "output_type": "stream",
     "text": [
      "/home/st/sbhuvaji/anaconda3/lib/python3.9/site-packages/keras/src/engine/training.py:3000: UserWarning: You are saving your model as an HDF5 file via `model.save()`. This file format is considered legacy. We recommend using instead the native Keras format, e.g. `model.save('my_model.keras')`.\n",
      "  saving_api.save_model(\n"
     ]
    },
    {
     "name": "stdout",
     "output_type": "stream",
     "text": [
      "56/56 [==============================] - 0s 857us/step\n",
      "cm [[639 253]\n",
      " [255 625]]\n",
      "cm.ravel() [639 253 255 625]\n",
      "Before balancing count  1.0    69\n",
      "0.0    28\n",
      "Name: class, dtype: int64\n",
      "~~~~~~~ value_counts: ~~~~~~~\n",
      "SHOULD BE BALANCED NOW: 1.0    69\n",
      "0.0    69\n",
      "Name: class, dtype: int64\n",
      "Before balancing count  1.0    65\n",
      "0.0    32\n",
      "Name: class, dtype: int64\n",
      "~~~~~~~ value_counts: ~~~~~~~\n",
      "SHOULD BE BALANCED NOW: 0.0    65\n",
      "1.0    65\n",
      "Name: class, dtype: int64\n",
      "done RE-training 0 of 3. "
     ]
    },
    {
     "name": "stderr",
     "output_type": "stream",
     "text": [
      "/home/st/sbhuvaji/anaconda3/lib/python3.9/site-packages/keras/src/engine/training.py:3000: UserWarning: You are saving your model as an HDF5 file via `model.save()`. This file format is considered legacy. We recommend using instead the native Keras format, e.g. `model.save('my_model.keras')`.\n",
      "  saving_api.save_model(\n"
     ]
    },
    {
     "name": "stdout",
     "output_type": "stream",
     "text": [
      "4/4 [==============================] - 0s 1ms/step\n",
      "cm [[15 17]\n",
      " [20 45]]\n",
      "cm.ravel() [15 17 20 45]\n",
      "done testing 0 of 2.\n",
      "4/4 [==============================] - 0s 1ms/step\n",
      "cm [[20  8]\n",
      " [29 40]]\n",
      "cm.ravel() [20  8 29 40]\n",
      "done testing 1 of 2.\n"
     ]
    },
    {
     "name": "stderr",
     "output_type": "stream",
     "text": [
      "/home/st/sbhuvaji/1AllP/Individual Patient_All Models/TLandTL/Actual TL/SingleEncoder/WithCV/TL_Packages.py:582: UserWarning: FixedFormatter should only be used together with FixedLocator\n",
      "  axs[i].set_xticklabels([''] + ['0', '1'], fontsize='xx-large')\n",
      "/home/st/sbhuvaji/1AllP/Individual Patient_All Models/TLandTL/Actual TL/SingleEncoder/WithCV/TL_Packages.py:583: UserWarning: FixedFormatter should only be used together with FixedLocator\n",
      "  axs[i].set_yticklabels([''] + ['0', '1'], fontsize='xx-large')\n"
     ]
    },
    {
     "name": "stdout",
     "output_type": "stream",
     "text": [
      "Population Fold 1: Training data size = 3543, Validation data size = 1771\n"
     ]
    },
    {
     "name": "stderr",
     "output_type": "stream",
     "text": [
      "/home/st/sbhuvaji/anaconda3/lib/python3.9/site-packages/keras/src/engine/training.py:3000: UserWarning: You are saving your model as an HDF5 file via `model.save()`. This file format is considered legacy. We recommend using instead the native Keras format, e.g. `model.save('my_model.keras')`.\n",
      "  saving_api.save_model(\n"
     ]
    },
    {
     "name": "stdout",
     "output_type": "stream",
     "text": [
      "56/56 [==============================] - 0s 874us/step\n",
      "cm [[666 221]\n",
      " [235 649]]\n",
      "cm.ravel() [666 221 235 649]\n",
      "Before balancing count  1.0    64\n",
      "0.0    33\n",
      "Name: class, dtype: int64\n",
      "~~~~~~~ value_counts: ~~~~~~~\n",
      "SHOULD BE BALANCED NOW: 0.0    64\n",
      "1.0    64\n",
      "Name: class, dtype: int64\n",
      "Before balancing count  1.0    70\n",
      "0.0    27\n",
      "Name: class, dtype: int64\n",
      "~~~~~~~ value_counts: ~~~~~~~\n",
      "SHOULD BE BALANCED NOW: 1.0    70\n",
      "0.0    70\n",
      "Name: class, dtype: int64\n",
      "done RE-training 0 of 3. "
     ]
    },
    {
     "name": "stderr",
     "output_type": "stream",
     "text": [
      "/home/st/sbhuvaji/anaconda3/lib/python3.9/site-packages/keras/src/engine/training.py:3000: UserWarning: You are saving your model as an HDF5 file via `model.save()`. This file format is considered legacy. We recommend using instead the native Keras format, e.g. `model.save('my_model.keras')`.\n",
      "  saving_api.save_model(\n"
     ]
    },
    {
     "name": "stdout",
     "output_type": "stream",
     "text": [
      "4/4 [==============================] - 0s 1ms/step\n",
      "cm [[15 12]\n",
      " [21 49]]\n",
      "cm.ravel() [15 12 21 49]\n",
      "done testing 0 of 2.\n",
      "4/4 [==============================] - 0s 1ms/step\n",
      "cm [[21 12]\n",
      " [18 46]]\n",
      "cm.ravel() [21 12 18 46]\n",
      "done testing 1 of 2.\n"
     ]
    },
    {
     "name": "stderr",
     "output_type": "stream",
     "text": [
      "/home/st/sbhuvaji/1AllP/Individual Patient_All Models/TLandTL/Actual TL/SingleEncoder/WithCV/TL_Packages.py:582: UserWarning: FixedFormatter should only be used together with FixedLocator\n",
      "  axs[i].set_xticklabels([''] + ['0', '1'], fontsize='xx-large')\n",
      "/home/st/sbhuvaji/1AllP/Individual Patient_All Models/TLandTL/Actual TL/SingleEncoder/WithCV/TL_Packages.py:583: UserWarning: FixedFormatter should only be used together with FixedLocator\n",
      "  axs[i].set_yticklabels([''] + ['0', '1'], fontsize='xx-large')\n"
     ]
    },
    {
     "name": "stdout",
     "output_type": "stream",
     "text": [
      "Population Fold 2: Training data size = 3543, Validation data size = 1771\n"
     ]
    },
    {
     "name": "stderr",
     "output_type": "stream",
     "text": [
      "/home/st/sbhuvaji/anaconda3/lib/python3.9/site-packages/keras/src/engine/training.py:3000: UserWarning: You are saving your model as an HDF5 file via `model.save()`. This file format is considered legacy. We recommend using instead the native Keras format, e.g. `model.save('my_model.keras')`.\n",
      "  saving_api.save_model(\n"
     ]
    },
    {
     "name": "stdout",
     "output_type": "stream",
     "text": [
      "56/56 [==============================] - 0s 844us/step\n",
      "cm [[652 226]\n",
      " [292 601]]\n",
      "cm.ravel() [652 226 292 601]\n",
      "Before balancing count  1.0    67\n",
      "0.0    30\n",
      "Name: class, dtype: int64\n",
      "~~~~~~~ value_counts: ~~~~~~~\n",
      "SHOULD BE BALANCED NOW: 1.0    67\n",
      "0.0    67\n",
      "Name: class, dtype: int64\n",
      "Before balancing count  1.0    67\n",
      "0.0    30\n",
      "Name: class, dtype: int64\n",
      "~~~~~~~ value_counts: ~~~~~~~\n",
      "SHOULD BE BALANCED NOW: 1.0    67\n",
      "0.0    67\n",
      "Name: class, dtype: int64\n",
      "done RE-training 0 of 3. "
     ]
    },
    {
     "name": "stderr",
     "output_type": "stream",
     "text": [
      "/home/st/sbhuvaji/anaconda3/lib/python3.9/site-packages/keras/src/engine/training.py:3000: UserWarning: You are saving your model as an HDF5 file via `model.save()`. This file format is considered legacy. We recommend using instead the native Keras format, e.g. `model.save('my_model.keras')`.\n",
      "  saving_api.save_model(\n"
     ]
    },
    {
     "name": "stdout",
     "output_type": "stream",
     "text": [
      "4/4 [==============================] - 0s 1ms/step\n",
      "cm [[19 11]\n",
      " [35 32]]\n",
      "cm.ravel() [19 11 35 32]\n",
      "done testing 0 of 2.\n",
      "4/4 [==============================] - 0s 1ms/step\n",
      "cm [[19 11]\n",
      " [28 39]]\n",
      "cm.ravel() [19 11 28 39]\n",
      "done testing 1 of 2.\n"
     ]
    },
    {
     "name": "stderr",
     "output_type": "stream",
     "text": [
      "/home/st/sbhuvaji/1AllP/Individual Patient_All Models/TLandTL/Actual TL/SingleEncoder/WithCV/TL_Packages.py:582: UserWarning: FixedFormatter should only be used together with FixedLocator\n",
      "  axs[i].set_xticklabels([''] + ['0', '1'], fontsize='xx-large')\n",
      "/home/st/sbhuvaji/1AllP/Individual Patient_All Models/TLandTL/Actual TL/SingleEncoder/WithCV/TL_Packages.py:583: UserWarning: FixedFormatter should only be used together with FixedLocator\n",
      "  axs[i].set_yticklabels([''] + ['0', '1'], fontsize='xx-large')\n",
      " 27%|██▋       | 7/26 [20:12<55:04, 173.94s/it]"
     ]
    },
    {
     "name": "stdout",
     "output_type": "stream",
     "text": [
      "Runtime: 22 o' clock and 52 minutes\n",
      "~~~~~~~~~~~ 100 ~~~~~~~~~~~~~~~~~~~ 300 ~~~~~~~~~~~~~~~~~~~ SB-025 ~~~~~~~~~~~~~~~~~~~\n",
      "Before balancing count  1.0    2686\n",
      "0.0    1061\n",
      "Name: class, dtype: int64\n",
      "~~~~~~~ value_counts: ~~~~~~~\n",
      "SHOULD BE BALANCED NOW: 0.0    2686\n",
      "1.0    2686\n",
      "Name: class, dtype: int64\n",
      "X_train = 5372, y_train = 5372\n",
      "Population Fold 0: Training data size = 3581, Validation data size = 1791\n"
     ]
    },
    {
     "name": "stderr",
     "output_type": "stream",
     "text": [
      "/home/st/sbhuvaji/anaconda3/lib/python3.9/site-packages/keras/src/engine/training.py:3000: UserWarning: You are saving your model as an HDF5 file via `model.save()`. This file format is considered legacy. We recommend using instead the native Keras format, e.g. `model.save('my_model.keras')`.\n",
      "  saving_api.save_model(\n"
     ]
    },
    {
     "name": "stdout",
     "output_type": "stream",
     "text": [
      "56/56 [==============================] - 0s 870us/step\n",
      "cm [[631 220]\n",
      " [258 682]]\n",
      "cm.ravel() [631 220 258 682]\n",
      "Before balancing count  1.0    49\n",
      "0.0     9\n",
      "Name: class, dtype: int64\n",
      "~~~~~~~ value_counts: ~~~~~~~\n",
      "SHOULD BE BALANCED NOW: 1.0    49\n",
      "0.0    49\n",
      "Name: class, dtype: int64\n",
      "Before balancing count  1.0    43\n",
      "0.0    16\n",
      "Name: class, dtype: int64\n",
      "~~~~~~~ value_counts: ~~~~~~~\n",
      "SHOULD BE BALANCED NOW: 1.0    43\n",
      "0.0    43\n",
      "Name: class, dtype: int64\n",
      "done RE-training 0 of 3. "
     ]
    },
    {
     "name": "stderr",
     "output_type": "stream",
     "text": [
      "/home/st/sbhuvaji/anaconda3/lib/python3.9/site-packages/keras/src/engine/training.py:3000: UserWarning: You are saving your model as an HDF5 file via `model.save()`. This file format is considered legacy. We recommend using instead the native Keras format, e.g. `model.save('my_model.keras')`.\n",
      "  saving_api.save_model(\n"
     ]
    },
    {
     "name": "stdout",
     "output_type": "stream",
     "text": [
      "2/2 [==============================] - 0s 2ms/step\n",
      "cm [[ 7  9]\n",
      " [10 33]]\n",
      "cm.ravel() [ 7  9 10 33]\n",
      "done testing 0 of 2.\n",
      "2/2 [==============================] - 0s 2ms/step\n",
      "cm [[ 5  4]\n",
      " [17 32]]\n",
      "cm.ravel() [ 5  4 17 32]\n",
      "done testing 1 of 2.\n"
     ]
    },
    {
     "name": "stderr",
     "output_type": "stream",
     "text": [
      "/home/st/sbhuvaji/1AllP/Individual Patient_All Models/TLandTL/Actual TL/SingleEncoder/WithCV/TL_Packages.py:582: UserWarning: FixedFormatter should only be used together with FixedLocator\n",
      "  axs[i].set_xticklabels([''] + ['0', '1'], fontsize='xx-large')\n",
      "/home/st/sbhuvaji/1AllP/Individual Patient_All Models/TLandTL/Actual TL/SingleEncoder/WithCV/TL_Packages.py:583: UserWarning: FixedFormatter should only be used together with FixedLocator\n",
      "  axs[i].set_yticklabels([''] + ['0', '1'], fontsize='xx-large')\n"
     ]
    },
    {
     "name": "stdout",
     "output_type": "stream",
     "text": [
      "Population Fold 1: Training data size = 3581, Validation data size = 1791\n"
     ]
    },
    {
     "name": "stderr",
     "output_type": "stream",
     "text": [
      "/home/st/sbhuvaji/anaconda3/lib/python3.9/site-packages/keras/src/engine/training.py:3000: UserWarning: You are saving your model as an HDF5 file via `model.save()`. This file format is considered legacy. We recommend using instead the native Keras format, e.g. `model.save('my_model.keras')`.\n",
      "  saving_api.save_model(\n"
     ]
    },
    {
     "name": "stdout",
     "output_type": "stream",
     "text": [
      "56/56 [==============================] - 0s 879us/step\n",
      "cm [[701 224]\n",
      " [276 590]]\n",
      "cm.ravel() [701 224 276 590]\n",
      "Before balancing count  1.0    44\n",
      "0.0    14\n",
      "Name: class, dtype: int64\n",
      "~~~~~~~ value_counts: ~~~~~~~\n",
      "SHOULD BE BALANCED NOW: 1.0    44\n",
      "0.0    44\n",
      "Name: class, dtype: int64\n",
      "Before balancing count  1.0    48\n",
      "0.0    11\n",
      "Name: class, dtype: int64\n",
      "~~~~~~~ value_counts: ~~~~~~~\n",
      "SHOULD BE BALANCED NOW: 1.0    48\n",
      "0.0    48\n",
      "Name: class, dtype: int64\n",
      "done RE-training 0 of 3. "
     ]
    },
    {
     "name": "stderr",
     "output_type": "stream",
     "text": [
      "/home/st/sbhuvaji/anaconda3/lib/python3.9/site-packages/keras/src/engine/training.py:3000: UserWarning: You are saving your model as an HDF5 file via `model.save()`. This file format is considered legacy. We recommend using instead the native Keras format, e.g. `model.save('my_model.keras')`.\n",
      "  saving_api.save_model(\n"
     ]
    },
    {
     "name": "stdout",
     "output_type": "stream",
     "text": [
      "2/2 [==============================] - 0s 2ms/step\n",
      "cm [[10  1]\n",
      " [15 33]]\n",
      "cm.ravel() [10  1 15 33]\n",
      "done testing 0 of 2.\n",
      "2/2 [==============================] - 0s 2ms/step\n",
      "cm [[ 7  7]\n",
      " [ 9 35]]\n",
      "cm.ravel() [ 7  7  9 35]\n",
      "done testing 1 of 2.\n"
     ]
    },
    {
     "name": "stderr",
     "output_type": "stream",
     "text": [
      "/home/st/sbhuvaji/1AllP/Individual Patient_All Models/TLandTL/Actual TL/SingleEncoder/WithCV/TL_Packages.py:582: UserWarning: FixedFormatter should only be used together with FixedLocator\n",
      "  axs[i].set_xticklabels([''] + ['0', '1'], fontsize='xx-large')\n",
      "/home/st/sbhuvaji/1AllP/Individual Patient_All Models/TLandTL/Actual TL/SingleEncoder/WithCV/TL_Packages.py:583: UserWarning: FixedFormatter should only be used together with FixedLocator\n",
      "  axs[i].set_yticklabels([''] + ['0', '1'], fontsize='xx-large')\n"
     ]
    },
    {
     "name": "stdout",
     "output_type": "stream",
     "text": [
      "Population Fold 2: Training data size = 3582, Validation data size = 1790\n"
     ]
    },
    {
     "name": "stderr",
     "output_type": "stream",
     "text": [
      "/home/st/sbhuvaji/anaconda3/lib/python3.9/site-packages/keras/src/engine/training.py:3000: UserWarning: You are saving your model as an HDF5 file via `model.save()`. This file format is considered legacy. We recommend using instead the native Keras format, e.g. `model.save('my_model.keras')`.\n",
      "  saving_api.save_model(\n"
     ]
    },
    {
     "name": "stdout",
     "output_type": "stream",
     "text": [
      "56/56 [==============================] - 0s 819us/step\n",
      "cm [[723 187]\n",
      " [315 565]]\n",
      "cm.ravel() [723 187 315 565]\n",
      "Before balancing count  1.0    45\n",
      "0.0    13\n",
      "Name: class, dtype: int64\n",
      "~~~~~~~ value_counts: ~~~~~~~\n",
      "SHOULD BE BALANCED NOW: 0.0    45\n",
      "1.0    45\n",
      "Name: class, dtype: int64\n",
      "Before balancing count  1.0    47\n",
      "0.0    12\n",
      "Name: class, dtype: int64\n",
      "~~~~~~~ value_counts: ~~~~~~~\n",
      "SHOULD BE BALANCED NOW: 0.0    47\n",
      "1.0    47\n",
      "Name: class, dtype: int64\n",
      "done RE-training 0 of 3. "
     ]
    },
    {
     "name": "stderr",
     "output_type": "stream",
     "text": [
      "/home/st/sbhuvaji/anaconda3/lib/python3.9/site-packages/keras/src/engine/training.py:3000: UserWarning: You are saving your model as an HDF5 file via `model.save()`. This file format is considered legacy. We recommend using instead the native Keras format, e.g. `model.save('my_model.keras')`.\n",
      "  saving_api.save_model(\n"
     ]
    },
    {
     "name": "stdout",
     "output_type": "stream",
     "text": [
      "2/2 [==============================] - 0s 2ms/step\n",
      "cm [[ 2 10]\n",
      " [ 5 42]]\n",
      "cm.ravel() [ 2 10  5 42]\n",
      "done testing 0 of 2.\n",
      "2/2 [==============================] - 0s 2ms/step\n",
      "cm [[ 3 10]\n",
      " [12 33]]\n",
      "cm.ravel() [ 3 10 12 33]\n",
      "done testing 1 of 2.\n"
     ]
    },
    {
     "name": "stderr",
     "output_type": "stream",
     "text": [
      "/home/st/sbhuvaji/1AllP/Individual Patient_All Models/TLandTL/Actual TL/SingleEncoder/WithCV/TL_Packages.py:582: UserWarning: FixedFormatter should only be used together with FixedLocator\n",
      "  axs[i].set_xticklabels([''] + ['0', '1'], fontsize='xx-large')\n",
      "/home/st/sbhuvaji/1AllP/Individual Patient_All Models/TLandTL/Actual TL/SingleEncoder/WithCV/TL_Packages.py:583: UserWarning: FixedFormatter should only be used together with FixedLocator\n",
      "  axs[i].set_yticklabels([''] + ['0', '1'], fontsize='xx-large')\n",
      " 31%|███       | 8/26 [23:04<51:57, 173.20s/it]"
     ]
    },
    {
     "name": "stdout",
     "output_type": "stream",
     "text": [
      "Runtime: 22 o' clock and 55 minutes\n",
      "~~~~~~~~~~~ 100 ~~~~~~~~~~~~~~~~~~~ 300 ~~~~~~~~~~~~~~~~~~~ SB-028 ~~~~~~~~~~~~~~~~~~~\n",
      "Before balancing count  1.0    2711\n",
      "0.0    1060\n",
      "Name: class, dtype: int64\n",
      "~~~~~~~ value_counts: ~~~~~~~\n",
      "SHOULD BE BALANCED NOW: 1.0    2711\n",
      "0.0    2711\n",
      "Name: class, dtype: int64\n",
      "X_train = 5422, y_train = 5422\n",
      "Population Fold 0: Training data size = 3614, Validation data size = 1808\n"
     ]
    },
    {
     "name": "stderr",
     "output_type": "stream",
     "text": [
      "/home/st/sbhuvaji/anaconda3/lib/python3.9/site-packages/keras/src/engine/training.py:3000: UserWarning: You are saving your model as an HDF5 file via `model.save()`. This file format is considered legacy. We recommend using instead the native Keras format, e.g. `model.save('my_model.keras')`.\n",
      "  saving_api.save_model(\n"
     ]
    },
    {
     "name": "stdout",
     "output_type": "stream",
     "text": [
      "57/57 [==============================] - 0s 837us/step\n",
      "cm [[598 285]\n",
      " [226 699]]\n",
      "cm.ravel() [598 285 226 699]\n",
      "Before balancing count  1.0    31\n",
      "0.0    15\n",
      "Name: class, dtype: int64\n",
      "~~~~~~~ value_counts: ~~~~~~~\n",
      "SHOULD BE BALANCED NOW: 1.0    31\n",
      "0.0    31\n",
      "Name: class, dtype: int64\n",
      "Before balancing count  1.0    33\n",
      "0.0    13\n",
      "Name: class, dtype: int64\n",
      "~~~~~~~ value_counts: ~~~~~~~\n",
      "SHOULD BE BALANCED NOW: 1.0    33\n",
      "0.0    33\n",
      "Name: class, dtype: int64\n",
      "done RE-training 0 of 3. "
     ]
    },
    {
     "name": "stderr",
     "output_type": "stream",
     "text": [
      "/home/st/sbhuvaji/anaconda3/lib/python3.9/site-packages/keras/src/engine/training.py:3000: UserWarning: You are saving your model as an HDF5 file via `model.save()`. This file format is considered legacy. We recommend using instead the native Keras format, e.g. `model.save('my_model.keras')`.\n",
      "  saving_api.save_model(\n"
     ]
    },
    {
     "name": "stdout",
     "output_type": "stream",
     "text": [
      "2/2 [==============================] - 0s 2ms/step\n",
      "cm [[ 7  6]\n",
      " [15 18]]\n",
      "cm.ravel() [ 7  6 15 18]\n",
      "done testing 0 of 2.\n",
      "2/2 [==============================] - 0s 2ms/step\n",
      "cm [[ 4 11]\n",
      " [10 21]]\n",
      "cm.ravel() [ 4 11 10 21]\n",
      "done testing 1 of 2.\n"
     ]
    },
    {
     "name": "stderr",
     "output_type": "stream",
     "text": [
      "/home/st/sbhuvaji/1AllP/Individual Patient_All Models/TLandTL/Actual TL/SingleEncoder/WithCV/TL_Packages.py:582: UserWarning: FixedFormatter should only be used together with FixedLocator\n",
      "  axs[i].set_xticklabels([''] + ['0', '1'], fontsize='xx-large')\n",
      "/home/st/sbhuvaji/1AllP/Individual Patient_All Models/TLandTL/Actual TL/SingleEncoder/WithCV/TL_Packages.py:583: UserWarning: FixedFormatter should only be used together with FixedLocator\n",
      "  axs[i].set_yticklabels([''] + ['0', '1'], fontsize='xx-large')\n"
     ]
    },
    {
     "name": "stdout",
     "output_type": "stream",
     "text": [
      "Population Fold 1: Training data size = 3615, Validation data size = 1807\n"
     ]
    },
    {
     "name": "stderr",
     "output_type": "stream",
     "text": [
      "/home/st/sbhuvaji/anaconda3/lib/python3.9/site-packages/keras/src/engine/training.py:3000: UserWarning: You are saving your model as an HDF5 file via `model.save()`. This file format is considered legacy. We recommend using instead the native Keras format, e.g. `model.save('my_model.keras')`.\n",
      "  saving_api.save_model(\n"
     ]
    },
    {
     "name": "stdout",
     "output_type": "stream",
     "text": [
      "57/57 [==============================] - 0s 812us/step\n",
      "cm [[776 166]\n",
      " [326 539]]\n",
      "cm.ravel() [776 166 326 539]\n",
      "Before balancing count  1.0    32\n",
      "0.0    14\n",
      "Name: class, dtype: int64\n",
      "~~~~~~~ value_counts: ~~~~~~~\n",
      "SHOULD BE BALANCED NOW: 1.0    32\n",
      "0.0    32\n",
      "Name: class, dtype: int64\n",
      "Before balancing count  1.0    32\n",
      "0.0    14\n",
      "Name: class, dtype: int64\n",
      "~~~~~~~ value_counts: ~~~~~~~\n",
      "SHOULD BE BALANCED NOW: 1.0    32\n",
      "0.0    32\n",
      "Name: class, dtype: int64\n",
      "done RE-training 0 of 3. "
     ]
    },
    {
     "name": "stderr",
     "output_type": "stream",
     "text": [
      "/home/st/sbhuvaji/anaconda3/lib/python3.9/site-packages/keras/src/engine/training.py:3000: UserWarning: You are saving your model as an HDF5 file via `model.save()`. This file format is considered legacy. We recommend using instead the native Keras format, e.g. `model.save('my_model.keras')`.\n",
      "  saving_api.save_model(\n"
     ]
    },
    {
     "name": "stdout",
     "output_type": "stream",
     "text": [
      "2/2 [==============================] - 0s 2ms/step\n",
      "cm [[ 6  8]\n",
      " [ 9 23]]\n",
      "cm.ravel() [ 6  8  9 23]\n",
      "done testing 0 of 2.\n",
      "2/2 [==============================] - 0s 2ms/step\n",
      "cm [[10  4]\n",
      " [15 17]]\n",
      "cm.ravel() [10  4 15 17]\n",
      "done testing 1 of 2.\n"
     ]
    },
    {
     "name": "stderr",
     "output_type": "stream",
     "text": [
      "/home/st/sbhuvaji/1AllP/Individual Patient_All Models/TLandTL/Actual TL/SingleEncoder/WithCV/TL_Packages.py:582: UserWarning: FixedFormatter should only be used together with FixedLocator\n",
      "  axs[i].set_xticklabels([''] + ['0', '1'], fontsize='xx-large')\n",
      "/home/st/sbhuvaji/1AllP/Individual Patient_All Models/TLandTL/Actual TL/SingleEncoder/WithCV/TL_Packages.py:583: UserWarning: FixedFormatter should only be used together with FixedLocator\n",
      "  axs[i].set_yticklabels([''] + ['0', '1'], fontsize='xx-large')\n"
     ]
    },
    {
     "name": "stdout",
     "output_type": "stream",
     "text": [
      "Population Fold 2: Training data size = 3615, Validation data size = 1807\n"
     ]
    },
    {
     "name": "stderr",
     "output_type": "stream",
     "text": [
      "/home/st/sbhuvaji/anaconda3/lib/python3.9/site-packages/keras/src/engine/training.py:3000: UserWarning: You are saving your model as an HDF5 file via `model.save()`. This file format is considered legacy. We recommend using instead the native Keras format, e.g. `model.save('my_model.keras')`.\n",
      "  saving_api.save_model(\n"
     ]
    },
    {
     "name": "stdout",
     "output_type": "stream",
     "text": [
      "57/57 [==============================] - 0s 877us/step\n",
      "cm [[652 234]\n",
      " [252 669]]\n",
      "cm.ravel() [652 234 252 669]\n",
      "Before balancing count  1.0    34\n",
      "0.0    12\n",
      "Name: class, dtype: int64\n",
      "~~~~~~~ value_counts: ~~~~~~~\n",
      "SHOULD BE BALANCED NOW: 1.0    34\n",
      "0.0    34\n",
      "Name: class, dtype: int64\n",
      "Before balancing count  1.0    30\n",
      "0.0    16\n",
      "Name: class, dtype: int64\n",
      "~~~~~~~ value_counts: ~~~~~~~\n",
      "SHOULD BE BALANCED NOW: 0.0    30\n",
      "1.0    30\n",
      "Name: class, dtype: int64\n",
      "done RE-training 0 of 3. "
     ]
    },
    {
     "name": "stderr",
     "output_type": "stream",
     "text": [
      "/home/st/sbhuvaji/anaconda3/lib/python3.9/site-packages/keras/src/engine/training.py:3000: UserWarning: You are saving your model as an HDF5 file via `model.save()`. This file format is considered legacy. We recommend using instead the native Keras format, e.g. `model.save('my_model.keras')`.\n",
      "  saving_api.save_model(\n"
     ]
    },
    {
     "name": "stdout",
     "output_type": "stream",
     "text": [
      "2/2 [==============================] - 0s 2ms/step\n",
      "cm [[ 7  9]\n",
      " [ 7 23]]\n",
      "cm.ravel() [ 7  9  7 23]\n",
      "done testing 0 of 2.\n",
      "2/2 [==============================] - 0s 2ms/step\n",
      "cm [[ 6  6]\n",
      " [10 24]]\n",
      "cm.ravel() [ 6  6 10 24]\n",
      "done testing 1 of 2.\n"
     ]
    },
    {
     "name": "stderr",
     "output_type": "stream",
     "text": [
      "/home/st/sbhuvaji/1AllP/Individual Patient_All Models/TLandTL/Actual TL/SingleEncoder/WithCV/TL_Packages.py:582: UserWarning: FixedFormatter should only be used together with FixedLocator\n",
      "  axs[i].set_xticklabels([''] + ['0', '1'], fontsize='xx-large')\n",
      "/home/st/sbhuvaji/1AllP/Individual Patient_All Models/TLandTL/Actual TL/SingleEncoder/WithCV/TL_Packages.py:583: UserWarning: FixedFormatter should only be used together with FixedLocator\n",
      "  axs[i].set_yticklabels([''] + ['0', '1'], fontsize='xx-large')\n",
      " 35%|███▍      | 9/26 [25:56<48:58, 172.85s/it]"
     ]
    },
    {
     "name": "stdout",
     "output_type": "stream",
     "text": [
      "Runtime: 22 o' clock and 58 minutes\n",
      "~~~~~~~~~~~ 100 ~~~~~~~~~~~~~~~~~~~ 300 ~~~~~~~~~~~~~~~~~~~ SB-037 ~~~~~~~~~~~~~~~~~~~\n",
      "Before balancing count  1.0    2633\n",
      "0.0    1026\n",
      "Name: class, dtype: int64\n",
      "~~~~~~~ value_counts: ~~~~~~~\n",
      "SHOULD BE BALANCED NOW: 0.0    2633\n",
      "1.0    2633\n",
      "Name: class, dtype: int64\n",
      "X_train = 5266, y_train = 5266\n",
      "Population Fold 0: Training data size = 3510, Validation data size = 1756\n"
     ]
    },
    {
     "name": "stderr",
     "output_type": "stream",
     "text": [
      "/home/st/sbhuvaji/anaconda3/lib/python3.9/site-packages/keras/src/engine/training.py:3000: UserWarning: You are saving your model as an HDF5 file via `model.save()`. This file format is considered legacy. We recommend using instead the native Keras format, e.g. `model.save('my_model.keras')`.\n",
      "  saving_api.save_model(\n"
     ]
    },
    {
     "name": "stdout",
     "output_type": "stream",
     "text": [
      "55/55 [==============================] - 0s 871us/step\n",
      "cm [[635 250]\n",
      " [239 632]]\n",
      "cm.ravel() [635 250 239 632]\n",
      "Before balancing count  1.0    76\n",
      "0.0    29\n",
      "Name: class, dtype: int64\n",
      "~~~~~~~ value_counts: ~~~~~~~\n",
      "SHOULD BE BALANCED NOW: 0.0    76\n",
      "1.0    76\n",
      "Name: class, dtype: int64\n",
      "Before balancing count  1.0    71\n",
      "0.0    34\n",
      "Name: class, dtype: int64\n",
      "~~~~~~~ value_counts: ~~~~~~~\n",
      "SHOULD BE BALANCED NOW: 1.0    71\n",
      "0.0    71\n",
      "Name: class, dtype: int64\n",
      "done RE-training 0 of 3. "
     ]
    },
    {
     "name": "stderr",
     "output_type": "stream",
     "text": [
      "/home/st/sbhuvaji/anaconda3/lib/python3.9/site-packages/keras/src/engine/training.py:3000: UserWarning: You are saving your model as an HDF5 file via `model.save()`. This file format is considered legacy. We recommend using instead the native Keras format, e.g. `model.save('my_model.keras')`.\n",
      "  saving_api.save_model(\n"
     ]
    },
    {
     "name": "stdout",
     "output_type": "stream",
     "text": [
      "4/4 [==============================] - 0s 1ms/step\n",
      "cm [[14 20]\n",
      " [35 36]]\n",
      "cm.ravel() [14 20 35 36]\n",
      "done testing 0 of 2.\n",
      "4/4 [==============================] - 0s 1ms/step\n",
      "cm [[ 4 25]\n",
      " [14 62]]\n",
      "cm.ravel() [ 4 25 14 62]\n",
      "done testing 1 of 2.\n"
     ]
    },
    {
     "name": "stderr",
     "output_type": "stream",
     "text": [
      "/home/st/sbhuvaji/1AllP/Individual Patient_All Models/TLandTL/Actual TL/SingleEncoder/WithCV/TL_Packages.py:582: UserWarning: FixedFormatter should only be used together with FixedLocator\n",
      "  axs[i].set_xticklabels([''] + ['0', '1'], fontsize='xx-large')\n",
      "/home/st/sbhuvaji/1AllP/Individual Patient_All Models/TLandTL/Actual TL/SingleEncoder/WithCV/TL_Packages.py:583: UserWarning: FixedFormatter should only be used together with FixedLocator\n",
      "  axs[i].set_yticklabels([''] + ['0', '1'], fontsize='xx-large')\n"
     ]
    },
    {
     "name": "stdout",
     "output_type": "stream",
     "text": [
      "Population Fold 1: Training data size = 3511, Validation data size = 1755\n"
     ]
    },
    {
     "name": "stderr",
     "output_type": "stream",
     "text": [
      "/home/st/sbhuvaji/anaconda3/lib/python3.9/site-packages/keras/src/engine/training.py:3000: UserWarning: You are saving your model as an HDF5 file via `model.save()`. This file format is considered legacy. We recommend using instead the native Keras format, e.g. `model.save('my_model.keras')`.\n",
      "  saving_api.save_model(\n"
     ]
    },
    {
     "name": "stdout",
     "output_type": "stream",
     "text": [
      "55/55 [==============================] - 0s 805us/step\n",
      "cm [[660 207]\n",
      " [268 620]]\n",
      "cm.ravel() [660 207 268 620]\n",
      "Before balancing count  1.0    80\n",
      "0.0    25\n",
      "Name: class, dtype: int64\n",
      "~~~~~~~ value_counts: ~~~~~~~\n",
      "SHOULD BE BALANCED NOW: 1.0    80\n",
      "0.0    80\n",
      "Name: class, dtype: int64\n",
      "Before balancing count  1.0    67\n",
      "0.0    38\n",
      "Name: class, dtype: int64\n",
      "~~~~~~~ value_counts: ~~~~~~~\n",
      "SHOULD BE BALANCED NOW: 1.0    67\n",
      "0.0    67\n",
      "Name: class, dtype: int64\n",
      "done RE-training 0 of 3. "
     ]
    },
    {
     "name": "stderr",
     "output_type": "stream",
     "text": [
      "/home/st/sbhuvaji/anaconda3/lib/python3.9/site-packages/keras/src/engine/training.py:3000: UserWarning: You are saving your model as an HDF5 file via `model.save()`. This file format is considered legacy. We recommend using instead the native Keras format, e.g. `model.save('my_model.keras')`.\n",
      "  saving_api.save_model(\n"
     ]
    },
    {
     "name": "stdout",
     "output_type": "stream",
     "text": [
      "4/4 [==============================] - 0s 1ms/step\n",
      "cm [[18 20]\n",
      " [35 32]]\n",
      "cm.ravel() [18 20 35 32]\n",
      "done testing 0 of 2.\n",
      "4/4 [==============================] - 0s 1ms/step\n",
      "cm [[20  5]\n",
      " [62 18]]\n",
      "cm.ravel() [20  5 62 18]\n",
      "done testing 1 of 2.\n"
     ]
    },
    {
     "name": "stderr",
     "output_type": "stream",
     "text": [
      "/home/st/sbhuvaji/1AllP/Individual Patient_All Models/TLandTL/Actual TL/SingleEncoder/WithCV/TL_Packages.py:582: UserWarning: FixedFormatter should only be used together with FixedLocator\n",
      "  axs[i].set_xticklabels([''] + ['0', '1'], fontsize='xx-large')\n",
      "/home/st/sbhuvaji/1AllP/Individual Patient_All Models/TLandTL/Actual TL/SingleEncoder/WithCV/TL_Packages.py:583: UserWarning: FixedFormatter should only be used together with FixedLocator\n",
      "  axs[i].set_yticklabels([''] + ['0', '1'], fontsize='xx-large')\n"
     ]
    },
    {
     "name": "stdout",
     "output_type": "stream",
     "text": [
      "Population Fold 2: Training data size = 3511, Validation data size = 1755\n"
     ]
    },
    {
     "name": "stderr",
     "output_type": "stream",
     "text": [
      "/home/st/sbhuvaji/anaconda3/lib/python3.9/site-packages/keras/src/engine/training.py:3000: UserWarning: You are saving your model as an HDF5 file via `model.save()`. This file format is considered legacy. We recommend using instead the native Keras format, e.g. `model.save('my_model.keras')`.\n",
      "  saving_api.save_model(\n"
     ]
    },
    {
     "name": "stdout",
     "output_type": "stream",
     "text": [
      "55/55 [==============================] - 0s 878us/step\n",
      "cm [[690 191]\n",
      " [268 606]]\n",
      "cm.ravel() [690 191 268 606]\n",
      "Before balancing count  1.0    72\n",
      "0.0    33\n",
      "Name: class, dtype: int64\n",
      "~~~~~~~ value_counts: ~~~~~~~\n",
      "SHOULD BE BALANCED NOW: 1.0    72\n",
      "0.0    72\n",
      "Name: class, dtype: int64\n",
      "Before balancing count  1.0    75\n",
      "0.0    30\n",
      "Name: class, dtype: int64\n",
      "~~~~~~~ value_counts: ~~~~~~~\n",
      "SHOULD BE BALANCED NOW: 0.0    75\n",
      "1.0    75\n",
      "Name: class, dtype: int64\n",
      "done RE-training 0 of 3. "
     ]
    },
    {
     "name": "stderr",
     "output_type": "stream",
     "text": [
      "/home/st/sbhuvaji/anaconda3/lib/python3.9/site-packages/keras/src/engine/training.py:3000: UserWarning: You are saving your model as an HDF5 file via `model.save()`. This file format is considered legacy. We recommend using instead the native Keras format, e.g. `model.save('my_model.keras')`.\n",
      "  saving_api.save_model(\n"
     ]
    },
    {
     "name": "stdout",
     "output_type": "stream",
     "text": [
      "4/4 [==============================] - 0s 1ms/step\n",
      "cm [[13 17]\n",
      " [35 40]]\n",
      "cm.ravel() [13 17 35 40]\n",
      "done testing 0 of 2.\n",
      "4/4 [==============================] - 0s 1ms/step\n",
      "cm [[18 15]\n",
      " [44 28]]\n",
      "cm.ravel() [18 15 44 28]\n",
      "done testing 1 of 2.\n"
     ]
    },
    {
     "name": "stderr",
     "output_type": "stream",
     "text": [
      "/home/st/sbhuvaji/1AllP/Individual Patient_All Models/TLandTL/Actual TL/SingleEncoder/WithCV/TL_Packages.py:582: UserWarning: FixedFormatter should only be used together with FixedLocator\n",
      "  axs[i].set_xticklabels([''] + ['0', '1'], fontsize='xx-large')\n",
      "/home/st/sbhuvaji/1AllP/Individual Patient_All Models/TLandTL/Actual TL/SingleEncoder/WithCV/TL_Packages.py:583: UserWarning: FixedFormatter should only be used together with FixedLocator\n",
      "  axs[i].set_yticklabels([''] + ['0', '1'], fontsize='xx-large')\n",
      " 42%|████▏     | 11/26 [28:50<33:06, 132.41s/it]"
     ]
    },
    {
     "name": "stdout",
     "output_type": "stream",
     "text": [
      "Runtime: 23 o' clock and 1 minutes\n",
      "~~~~~~~~~~~ 100 ~~~~~~~~~~~~~~~~~~~ 300 ~~~~~~~~~~~~~~~~~~~ SB-043 ~~~~~~~~~~~~~~~~~~~\n",
      "Before balancing count  1.0    2648\n",
      "0.0    1029\n",
      "Name: class, dtype: int64\n",
      "~~~~~~~ value_counts: ~~~~~~~\n",
      "SHOULD BE BALANCED NOW: 0.0    2648\n",
      "1.0    2648\n",
      "Name: class, dtype: int64\n",
      "X_train = 5296, y_train = 5296\n",
      "Population Fold 0: Training data size = 3530, Validation data size = 1766\n"
     ]
    },
    {
     "name": "stderr",
     "output_type": "stream",
     "text": [
      "/home/st/sbhuvaji/anaconda3/lib/python3.9/site-packages/keras/src/engine/training.py:3000: UserWarning: You are saving your model as an HDF5 file via `model.save()`. This file format is considered legacy. We recommend using instead the native Keras format, e.g. `model.save('my_model.keras')`.\n",
      "  saving_api.save_model(\n"
     ]
    },
    {
     "name": "stdout",
     "output_type": "stream",
     "text": [
      "56/56 [==============================] - 0s 859us/step\n",
      "cm [[644 235]\n",
      " [258 629]]\n",
      "cm.ravel() [644 235 258 629]\n",
      "Before balancing count  1.0    67\n",
      "0.0    28\n",
      "Name: class, dtype: int64\n",
      "~~~~~~~ value_counts: ~~~~~~~\n",
      "SHOULD BE BALANCED NOW: 1.0    67\n",
      "0.0    67\n",
      "Name: class, dtype: int64\n",
      "Before balancing count  1.0    72\n",
      "0.0    24\n",
      "Name: class, dtype: int64\n",
      "~~~~~~~ value_counts: ~~~~~~~\n",
      "SHOULD BE BALANCED NOW: 1.0    72\n",
      "0.0    72\n",
      "Name: class, dtype: int64\n",
      "done RE-training 0 of 3. "
     ]
    },
    {
     "name": "stderr",
     "output_type": "stream",
     "text": [
      "/home/st/sbhuvaji/anaconda3/lib/python3.9/site-packages/keras/src/engine/training.py:3000: UserWarning: You are saving your model as an HDF5 file via `model.save()`. This file format is considered legacy. We recommend using instead the native Keras format, e.g. `model.save('my_model.keras')`.\n",
      "  saving_api.save_model(\n"
     ]
    },
    {
     "name": "stdout",
     "output_type": "stream",
     "text": [
      "3/3 [==============================] - 0s 2ms/step\n",
      "cm [[14 10]\n",
      " [21 51]]\n",
      "cm.ravel() [14 10 21 51]\n",
      "done testing 0 of 2.\n",
      "3/3 [==============================] - 0s 2ms/step\n",
      "cm [[19  9]\n",
      " [16 51]]\n",
      "cm.ravel() [19  9 16 51]\n",
      "done testing 1 of 2.\n"
     ]
    },
    {
     "name": "stderr",
     "output_type": "stream",
     "text": [
      "/home/st/sbhuvaji/1AllP/Individual Patient_All Models/TLandTL/Actual TL/SingleEncoder/WithCV/TL_Packages.py:582: UserWarning: FixedFormatter should only be used together with FixedLocator\n",
      "  axs[i].set_xticklabels([''] + ['0', '1'], fontsize='xx-large')\n",
      "/home/st/sbhuvaji/1AllP/Individual Patient_All Models/TLandTL/Actual TL/SingleEncoder/WithCV/TL_Packages.py:583: UserWarning: FixedFormatter should only be used together with FixedLocator\n",
      "  axs[i].set_yticklabels([''] + ['0', '1'], fontsize='xx-large')\n"
     ]
    },
    {
     "name": "stdout",
     "output_type": "stream",
     "text": [
      "Population Fold 1: Training data size = 3531, Validation data size = 1765\n"
     ]
    },
    {
     "name": "stderr",
     "output_type": "stream",
     "text": [
      "/home/st/sbhuvaji/anaconda3/lib/python3.9/site-packages/keras/src/engine/training.py:3000: UserWarning: You are saving your model as an HDF5 file via `model.save()`. This file format is considered legacy. We recommend using instead the native Keras format, e.g. `model.save('my_model.keras')`.\n",
      "  saving_api.save_model(\n"
     ]
    },
    {
     "name": "stdout",
     "output_type": "stream",
     "text": [
      "56/56 [==============================] - 0s 840us/step\n",
      "cm [[702 203]\n",
      " [271 589]]\n",
      "cm.ravel() [702 203 271 589]\n",
      "Before balancing count  1.0    70\n",
      "0.0    25\n",
      "Name: class, dtype: int64\n",
      "~~~~~~~ value_counts: ~~~~~~~\n",
      "SHOULD BE BALANCED NOW: 1.0    70\n",
      "0.0    70\n",
      "Name: class, dtype: int64\n",
      "Before balancing count  1.0    69\n",
      "0.0    27\n",
      "Name: class, dtype: int64\n",
      "~~~~~~~ value_counts: ~~~~~~~\n",
      "SHOULD BE BALANCED NOW: 1.0    69\n",
      "0.0    69\n",
      "Name: class, dtype: int64\n",
      "done RE-training 0 of 3. "
     ]
    },
    {
     "name": "stderr",
     "output_type": "stream",
     "text": [
      "/home/st/sbhuvaji/anaconda3/lib/python3.9/site-packages/keras/src/engine/training.py:3000: UserWarning: You are saving your model as an HDF5 file via `model.save()`. This file format is considered legacy. We recommend using instead the native Keras format, e.g. `model.save('my_model.keras')`.\n",
      "  saving_api.save_model(\n"
     ]
    },
    {
     "name": "stdout",
     "output_type": "stream",
     "text": [
      "3/3 [==============================] - 0s 1ms/step\n",
      "cm [[16 11]\n",
      " [24 45]]\n",
      "cm.ravel() [16 11 24 45]\n",
      "done testing 0 of 2.\n",
      "3/3 [==============================] - 0s 1ms/step\n",
      "cm [[15 10]\n",
      " [14 56]]\n",
      "cm.ravel() [15 10 14 56]\n",
      "done testing 1 of 2.\n"
     ]
    },
    {
     "name": "stderr",
     "output_type": "stream",
     "text": [
      "/home/st/sbhuvaji/1AllP/Individual Patient_All Models/TLandTL/Actual TL/SingleEncoder/WithCV/TL_Packages.py:582: UserWarning: FixedFormatter should only be used together with FixedLocator\n",
      "  axs[i].set_xticklabels([''] + ['0', '1'], fontsize='xx-large')\n",
      "/home/st/sbhuvaji/1AllP/Individual Patient_All Models/TLandTL/Actual TL/SingleEncoder/WithCV/TL_Packages.py:583: UserWarning: FixedFormatter should only be used together with FixedLocator\n",
      "  axs[i].set_yticklabels([''] + ['0', '1'], fontsize='xx-large')\n"
     ]
    },
    {
     "name": "stdout",
     "output_type": "stream",
     "text": [
      "Population Fold 2: Training data size = 3531, Validation data size = 1765\n"
     ]
    },
    {
     "name": "stderr",
     "output_type": "stream",
     "text": [
      "/home/st/sbhuvaji/anaconda3/lib/python3.9/site-packages/keras/src/engine/training.py:3000: UserWarning: You are saving your model as an HDF5 file via `model.save()`. This file format is considered legacy. We recommend using instead the native Keras format, e.g. `model.save('my_model.keras')`.\n",
      "  saving_api.save_model(\n"
     ]
    },
    {
     "name": "stdout",
     "output_type": "stream",
     "text": [
      "56/56 [==============================] - 0s 843us/step\n",
      "cm [[707 157]\n",
      " [328 573]]\n",
      "cm.ravel() [707 157 328 573]\n",
      "Before balancing count  1.0    67\n",
      "0.0    28\n",
      "Name: class, dtype: int64\n",
      "~~~~~~~ value_counts: ~~~~~~~\n",
      "SHOULD BE BALANCED NOW: 1.0    67\n",
      "0.0    67\n",
      "Name: class, dtype: int64\n",
      "Before balancing count  1.0    72\n",
      "0.0    24\n",
      "Name: class, dtype: int64\n",
      "~~~~~~~ value_counts: ~~~~~~~\n",
      "SHOULD BE BALANCED NOW: 1.0    72\n",
      "0.0    72\n",
      "Name: class, dtype: int64\n",
      "done RE-training 0 of 3. "
     ]
    },
    {
     "name": "stderr",
     "output_type": "stream",
     "text": [
      "/home/st/sbhuvaji/anaconda3/lib/python3.9/site-packages/keras/src/engine/training.py:3000: UserWarning: You are saving your model as an HDF5 file via `model.save()`. This file format is considered legacy. We recommend using instead the native Keras format, e.g. `model.save('my_model.keras')`.\n",
      "  saving_api.save_model(\n"
     ]
    },
    {
     "name": "stdout",
     "output_type": "stream",
     "text": [
      "3/3 [==============================] - 0s 1ms/step\n",
      "cm [[13 11]\n",
      " [20 52]]\n",
      "cm.ravel() [13 11 20 52]\n",
      "done testing 0 of 2.\n",
      "3/3 [==============================] - 0s 1ms/step\n",
      "cm [[19  9]\n",
      " [28 39]]\n",
      "cm.ravel() [19  9 28 39]\n",
      "done testing 1 of 2.\n"
     ]
    },
    {
     "name": "stderr",
     "output_type": "stream",
     "text": [
      "/home/st/sbhuvaji/1AllP/Individual Patient_All Models/TLandTL/Actual TL/SingleEncoder/WithCV/TL_Packages.py:582: UserWarning: FixedFormatter should only be used together with FixedLocator\n",
      "  axs[i].set_xticklabels([''] + ['0', '1'], fontsize='xx-large')\n",
      "/home/st/sbhuvaji/1AllP/Individual Patient_All Models/TLandTL/Actual TL/SingleEncoder/WithCV/TL_Packages.py:583: UserWarning: FixedFormatter should only be used together with FixedLocator\n",
      "  axs[i].set_yticklabels([''] + ['0', '1'], fontsize='xx-large')\n",
      " 46%|████▌     | 12/26 [31:51<33:44, 144.63s/it]"
     ]
    },
    {
     "name": "stdout",
     "output_type": "stream",
     "text": [
      "Runtime: 23 o' clock and 4 minutes\n",
      "~~~~~~~~~~~ 100 ~~~~~~~~~~~~~~~~~~~ 300 ~~~~~~~~~~~~~~~~~~~ SB-056 ~~~~~~~~~~~~~~~~~~~\n",
      "Before balancing count  1.0    2639\n",
      "0.0    1038\n",
      "Name: class, dtype: int64\n",
      "~~~~~~~ value_counts: ~~~~~~~\n",
      "SHOULD BE BALANCED NOW: 0.0    2639\n",
      "1.0    2639\n",
      "Name: class, dtype: int64\n",
      "X_train = 5278, y_train = 5278\n",
      "Population Fold 0: Training data size = 3518, Validation data size = 1760\n"
     ]
    },
    {
     "name": "stderr",
     "output_type": "stream",
     "text": [
      "/home/st/sbhuvaji/anaconda3/lib/python3.9/site-packages/keras/src/engine/training.py:3000: UserWarning: You are saving your model as an HDF5 file via `model.save()`. This file format is considered legacy. We recommend using instead the native Keras format, e.g. `model.save('my_model.keras')`.\n",
      "  saving_api.save_model(\n"
     ]
    },
    {
     "name": "stdout",
     "output_type": "stream",
     "text": [
      "55/55 [==============================] - 0s 800us/step\n",
      "cm [[684 207]\n",
      " [297 572]]\n",
      "cm.ravel() [684 207 297 572]\n",
      "Before balancing count  1.0    71\n",
      "0.0    24\n",
      "Name: class, dtype: int64\n",
      "~~~~~~~ value_counts: ~~~~~~~\n",
      "SHOULD BE BALANCED NOW: 1.0    71\n",
      "0.0    71\n",
      "Name: class, dtype: int64\n",
      "Before balancing count  1.0    79\n",
      "0.0    17\n",
      "Name: class, dtype: int64\n",
      "~~~~~~~ value_counts: ~~~~~~~\n",
      "SHOULD BE BALANCED NOW: 1.0    79\n",
      "0.0    79\n",
      "Name: class, dtype: int64\n",
      "done RE-training 0 of 3. "
     ]
    },
    {
     "name": "stderr",
     "output_type": "stream",
     "text": [
      "/home/st/sbhuvaji/anaconda3/lib/python3.9/site-packages/keras/src/engine/training.py:3000: UserWarning: You are saving your model as an HDF5 file via `model.save()`. This file format is considered legacy. We recommend using instead the native Keras format, e.g. `model.save('my_model.keras')`.\n",
      "  saving_api.save_model(\n"
     ]
    },
    {
     "name": "stdout",
     "output_type": "stream",
     "text": [
      "3/3 [==============================] - 0s 2ms/step\n",
      "cm [[11  6]\n",
      " [18 61]]\n",
      "cm.ravel() [11  6 18 61]\n",
      "done testing 0 of 2.\n",
      "3/3 [==============================] - 0s 1ms/step\n",
      "cm [[16  8]\n",
      " [13 58]]\n",
      "cm.ravel() [16  8 13 58]\n",
      "done testing 1 of 2.\n"
     ]
    },
    {
     "name": "stderr",
     "output_type": "stream",
     "text": [
      "/home/st/sbhuvaji/1AllP/Individual Patient_All Models/TLandTL/Actual TL/SingleEncoder/WithCV/TL_Packages.py:582: UserWarning: FixedFormatter should only be used together with FixedLocator\n",
      "  axs[i].set_xticklabels([''] + ['0', '1'], fontsize='xx-large')\n",
      "/home/st/sbhuvaji/1AllP/Individual Patient_All Models/TLandTL/Actual TL/SingleEncoder/WithCV/TL_Packages.py:583: UserWarning: FixedFormatter should only be used together with FixedLocator\n",
      "  axs[i].set_yticklabels([''] + ['0', '1'], fontsize='xx-large')\n"
     ]
    },
    {
     "name": "stdout",
     "output_type": "stream",
     "text": [
      "Population Fold 1: Training data size = 3519, Validation data size = 1759\n"
     ]
    },
    {
     "name": "stderr",
     "output_type": "stream",
     "text": [
      "/home/st/sbhuvaji/anaconda3/lib/python3.9/site-packages/keras/src/engine/training.py:3000: UserWarning: You are saving your model as an HDF5 file via `model.save()`. This file format is considered legacy. We recommend using instead the native Keras format, e.g. `model.save('my_model.keras')`.\n",
      "  saving_api.save_model(\n"
     ]
    },
    {
     "name": "stdout",
     "output_type": "stream",
     "text": [
      "55/55 [==============================] - 0s 880us/step\n",
      "cm [[651 256]\n",
      " [255 597]]\n",
      "cm.ravel() [651 256 255 597]\n",
      "Before balancing count  1.0    74\n",
      "0.0    21\n",
      "Name: class, dtype: int64\n",
      "~~~~~~~ value_counts: ~~~~~~~\n",
      "SHOULD BE BALANCED NOW: 1.0    74\n",
      "0.0    74\n",
      "Name: class, dtype: int64\n",
      "Before balancing count  1.0    76\n",
      "0.0    20\n",
      "Name: class, dtype: int64\n",
      "~~~~~~~ value_counts: ~~~~~~~\n",
      "SHOULD BE BALANCED NOW: 0.0    76\n",
      "1.0    76\n",
      "Name: class, dtype: int64\n",
      "done RE-training 0 of 3. "
     ]
    },
    {
     "name": "stderr",
     "output_type": "stream",
     "text": [
      "/home/st/sbhuvaji/anaconda3/lib/python3.9/site-packages/keras/src/engine/training.py:3000: UserWarning: You are saving your model as an HDF5 file via `model.save()`. This file format is considered legacy. We recommend using instead the native Keras format, e.g. `model.save('my_model.keras')`.\n",
      "  saving_api.save_model(\n"
     ]
    },
    {
     "name": "stdout",
     "output_type": "stream",
     "text": [
      "3/3 [==============================] - 0s 2ms/step\n",
      "cm [[13  7]\n",
      " [15 61]]\n",
      "cm.ravel() [13  7 15 61]\n",
      "done testing 0 of 2.\n",
      "3/3 [==============================] - 0s 1ms/step\n",
      "cm [[17  4]\n",
      " [16 58]]\n",
      "cm.ravel() [17  4 16 58]\n",
      "done testing 1 of 2.\n"
     ]
    },
    {
     "name": "stderr",
     "output_type": "stream",
     "text": [
      "/home/st/sbhuvaji/1AllP/Individual Patient_All Models/TLandTL/Actual TL/SingleEncoder/WithCV/TL_Packages.py:582: UserWarning: FixedFormatter should only be used together with FixedLocator\n",
      "  axs[i].set_xticklabels([''] + ['0', '1'], fontsize='xx-large')\n",
      "/home/st/sbhuvaji/1AllP/Individual Patient_All Models/TLandTL/Actual TL/SingleEncoder/WithCV/TL_Packages.py:583: UserWarning: FixedFormatter should only be used together with FixedLocator\n",
      "  axs[i].set_yticklabels([''] + ['0', '1'], fontsize='xx-large')\n"
     ]
    },
    {
     "name": "stdout",
     "output_type": "stream",
     "text": [
      "Population Fold 2: Training data size = 3519, Validation data size = 1759\n"
     ]
    },
    {
     "name": "stderr",
     "output_type": "stream",
     "text": [
      "/home/st/sbhuvaji/anaconda3/lib/python3.9/site-packages/keras/src/engine/training.py:3000: UserWarning: You are saving your model as an HDF5 file via `model.save()`. This file format is considered legacy. We recommend using instead the native Keras format, e.g. `model.save('my_model.keras')`.\n",
      "  saving_api.save_model(\n"
     ]
    },
    {
     "name": "stdout",
     "output_type": "stream",
     "text": [
      "55/55 [==============================] - 0s 900us/step\n",
      "cm [[583 258]\n",
      " [262 656]]\n",
      "cm.ravel() [583 258 262 656]\n",
      "Before balancing count  1.0    73\n",
      "0.0    22\n",
      "Name: class, dtype: int64\n",
      "~~~~~~~ value_counts: ~~~~~~~\n",
      "SHOULD BE BALANCED NOW: 0.0    73\n",
      "1.0    73\n",
      "Name: class, dtype: int64\n",
      "Before balancing count  1.0    77\n",
      "0.0    19\n",
      "Name: class, dtype: int64\n",
      "~~~~~~~ value_counts: ~~~~~~~\n",
      "SHOULD BE BALANCED NOW: 0.0    77\n",
      "1.0    77\n",
      "Name: class, dtype: int64\n",
      "done RE-training 0 of 3. "
     ]
    },
    {
     "name": "stderr",
     "output_type": "stream",
     "text": [
      "/home/st/sbhuvaji/anaconda3/lib/python3.9/site-packages/keras/src/engine/training.py:3000: UserWarning: You are saving your model as an HDF5 file via `model.save()`. This file format is considered legacy. We recommend using instead the native Keras format, e.g. `model.save('my_model.keras')`.\n",
      "  saving_api.save_model(\n"
     ]
    },
    {
     "name": "stdout",
     "output_type": "stream",
     "text": [
      "3/3 [==============================] - 0s 2ms/step\n",
      "cm [[15  4]\n",
      " [14 63]]\n",
      "cm.ravel() [15  4 14 63]\n",
      "done testing 0 of 2.\n",
      "3/3 [==============================] - 0s 1ms/step\n",
      "cm [[13  9]\n",
      " [10 63]]\n",
      "cm.ravel() [13  9 10 63]\n",
      "done testing 1 of 2.\n"
     ]
    },
    {
     "name": "stderr",
     "output_type": "stream",
     "text": [
      "/home/st/sbhuvaji/1AllP/Individual Patient_All Models/TLandTL/Actual TL/SingleEncoder/WithCV/TL_Packages.py:582: UserWarning: FixedFormatter should only be used together with FixedLocator\n",
      "  axs[i].set_xticklabels([''] + ['0', '1'], fontsize='xx-large')\n",
      "/home/st/sbhuvaji/1AllP/Individual Patient_All Models/TLandTL/Actual TL/SingleEncoder/WithCV/TL_Packages.py:583: UserWarning: FixedFormatter should only be used together with FixedLocator\n",
      "  axs[i].set_yticklabels([''] + ['0', '1'], fontsize='xx-large')\n",
      " 50%|█████     | 13/26 [34:50<33:17, 153.68s/it]"
     ]
    },
    {
     "name": "stdout",
     "output_type": "stream",
     "text": [
      "Runtime: 23 o' clock and 7 minutes\n",
      "~~~~~~~~~~~ 100 ~~~~~~~~~~~~~~~~~~~ 300 ~~~~~~~~~~~~~~~~~~~ SB-059 ~~~~~~~~~~~~~~~~~~~\n",
      "Before balancing count  1.0    2633\n",
      "0.0    1033\n",
      "Name: class, dtype: int64\n",
      "~~~~~~~ value_counts: ~~~~~~~\n",
      "SHOULD BE BALANCED NOW: 0.0    2633\n",
      "1.0    2633\n",
      "Name: class, dtype: int64\n",
      "X_train = 5266, y_train = 5266\n",
      "Population Fold 0: Training data size = 3510, Validation data size = 1756\n"
     ]
    },
    {
     "name": "stderr",
     "output_type": "stream",
     "text": [
      "/home/st/sbhuvaji/anaconda3/lib/python3.9/site-packages/keras/src/engine/training.py:3000: UserWarning: You are saving your model as an HDF5 file via `model.save()`. This file format is considered legacy. We recommend using instead the native Keras format, e.g. `model.save('my_model.keras')`.\n",
      "  saving_api.save_model(\n"
     ]
    },
    {
     "name": "stdout",
     "output_type": "stream",
     "text": [
      "55/55 [==============================] - 0s 871us/step\n",
      "cm [[713 185]\n",
      " [295 563]]\n",
      "cm.ravel() [713 185 295 563]\n",
      "Before balancing count  1.0    78\n",
      "0.0    23\n",
      "Name: class, dtype: int64\n",
      "~~~~~~~ value_counts: ~~~~~~~\n",
      "SHOULD BE BALANCED NOW: 1.0    78\n",
      "0.0    78\n",
      "Name: class, dtype: int64\n",
      "Before balancing count  1.0    74\n",
      "0.0    28\n",
      "Name: class, dtype: int64\n",
      "~~~~~~~ value_counts: ~~~~~~~\n",
      "SHOULD BE BALANCED NOW: 1.0    74\n",
      "0.0    74\n",
      "Name: class, dtype: int64\n",
      "done RE-training 0 of 3. "
     ]
    },
    {
     "name": "stderr",
     "output_type": "stream",
     "text": [
      "/home/st/sbhuvaji/anaconda3/lib/python3.9/site-packages/keras/src/engine/training.py:3000: UserWarning: You are saving your model as an HDF5 file via `model.save()`. This file format is considered legacy. We recommend using instead the native Keras format, e.g. `model.save('my_model.keras')`.\n",
      "  saving_api.save_model(\n"
     ]
    },
    {
     "name": "stdout",
     "output_type": "stream",
     "text": [
      "4/4 [==============================] - 0s 1ms/step\n",
      "cm [[11 17]\n",
      " [16 58]]\n",
      "cm.ravel() [11 17 16 58]\n",
      "done testing 0 of 2.\n",
      "4/4 [==============================] - 0s 1ms/step\n",
      "cm [[11 12]\n",
      " [26 52]]\n",
      "cm.ravel() [11 12 26 52]\n",
      "done testing 1 of 2.\n"
     ]
    },
    {
     "name": "stderr",
     "output_type": "stream",
     "text": [
      "/home/st/sbhuvaji/1AllP/Individual Patient_All Models/TLandTL/Actual TL/SingleEncoder/WithCV/TL_Packages.py:582: UserWarning: FixedFormatter should only be used together with FixedLocator\n",
      "  axs[i].set_xticklabels([''] + ['0', '1'], fontsize='xx-large')\n",
      "/home/st/sbhuvaji/1AllP/Individual Patient_All Models/TLandTL/Actual TL/SingleEncoder/WithCV/TL_Packages.py:583: UserWarning: FixedFormatter should only be used together with FixedLocator\n",
      "  axs[i].set_yticklabels([''] + ['0', '1'], fontsize='xx-large')\n"
     ]
    },
    {
     "name": "stdout",
     "output_type": "stream",
     "text": [
      "Population Fold 1: Training data size = 3511, Validation data size = 1755\n"
     ]
    },
    {
     "name": "stderr",
     "output_type": "stream",
     "text": [
      "/home/st/sbhuvaji/anaconda3/lib/python3.9/site-packages/keras/src/engine/training.py:3000: UserWarning: You are saving your model as an HDF5 file via `model.save()`. This file format is considered legacy. We recommend using instead the native Keras format, e.g. `model.save('my_model.keras')`.\n",
      "  saving_api.save_model(\n"
     ]
    },
    {
     "name": "stdout",
     "output_type": "stream",
     "text": [
      "55/55 [==============================] - 0s 858us/step\n",
      "cm [[611 254]\n",
      " [190 700]]\n",
      "cm.ravel() [611 254 190 700]\n",
      "Before balancing count  1.0    80\n",
      "0.0    21\n",
      "Name: class, dtype: int64\n",
      "~~~~~~~ value_counts: ~~~~~~~\n",
      "SHOULD BE BALANCED NOW: 1.0    80\n",
      "0.0    80\n",
      "Name: class, dtype: int64\n",
      "Before balancing count  1.0    72\n",
      "0.0    30\n",
      "Name: class, dtype: int64\n",
      "~~~~~~~ value_counts: ~~~~~~~\n",
      "SHOULD BE BALANCED NOW: 1.0    72\n",
      "0.0    72\n",
      "Name: class, dtype: int64\n",
      "done RE-training 0 of 3. "
     ]
    },
    {
     "name": "stderr",
     "output_type": "stream",
     "text": [
      "/home/st/sbhuvaji/anaconda3/lib/python3.9/site-packages/keras/src/engine/training.py:3000: UserWarning: You are saving your model as an HDF5 file via `model.save()`. This file format is considered legacy. We recommend using instead the native Keras format, e.g. `model.save('my_model.keras')`.\n",
      "  saving_api.save_model(\n"
     ]
    },
    {
     "name": "stdout",
     "output_type": "stream",
     "text": [
      "4/4 [==============================] - 0s 1ms/step\n",
      "cm [[16 14]\n",
      " [20 52]]\n",
      "cm.ravel() [16 14 20 52]\n",
      "done testing 0 of 2.\n",
      "4/4 [==============================] - 0s 1ms/step\n",
      "cm [[14  7]\n",
      " [42 38]]\n",
      "cm.ravel() [14  7 42 38]\n",
      "done testing 1 of 2.\n"
     ]
    },
    {
     "name": "stderr",
     "output_type": "stream",
     "text": [
      "/home/st/sbhuvaji/1AllP/Individual Patient_All Models/TLandTL/Actual TL/SingleEncoder/WithCV/TL_Packages.py:582: UserWarning: FixedFormatter should only be used together with FixedLocator\n",
      "  axs[i].set_xticklabels([''] + ['0', '1'], fontsize='xx-large')\n",
      "/home/st/sbhuvaji/1AllP/Individual Patient_All Models/TLandTL/Actual TL/SingleEncoder/WithCV/TL_Packages.py:583: UserWarning: FixedFormatter should only be used together with FixedLocator\n",
      "  axs[i].set_yticklabels([''] + ['0', '1'], fontsize='xx-large')\n"
     ]
    },
    {
     "name": "stdout",
     "output_type": "stream",
     "text": [
      "Population Fold 2: Training data size = 3511, Validation data size = 1755\n"
     ]
    },
    {
     "name": "stderr",
     "output_type": "stream",
     "text": [
      "/home/st/sbhuvaji/anaconda3/lib/python3.9/site-packages/keras/src/engine/training.py:3000: UserWarning: You are saving your model as an HDF5 file via `model.save()`. This file format is considered legacy. We recommend using instead the native Keras format, e.g. `model.save('my_model.keras')`.\n",
      "  saving_api.save_model(\n"
     ]
    },
    {
     "name": "stdout",
     "output_type": "stream",
     "text": [
      "55/55 [==============================] - 0s 848us/step\n",
      "cm [[610 260]\n",
      " [251 634]]\n",
      "cm.ravel() [610 260 251 634]\n",
      "Before balancing count  1.0    75\n",
      "0.0    26\n",
      "Name: class, dtype: int64\n",
      "~~~~~~~ value_counts: ~~~~~~~\n",
      "SHOULD BE BALANCED NOW: 0.0    75\n",
      "1.0    75\n",
      "Name: class, dtype: int64\n",
      "Before balancing count  1.0    77\n",
      "0.0    25\n",
      "Name: class, dtype: int64\n",
      "~~~~~~~ value_counts: ~~~~~~~\n",
      "SHOULD BE BALANCED NOW: 0.0    77\n",
      "1.0    77\n",
      "Name: class, dtype: int64\n",
      "done RE-training 0 of 3. "
     ]
    },
    {
     "name": "stderr",
     "output_type": "stream",
     "text": [
      "/home/st/sbhuvaji/anaconda3/lib/python3.9/site-packages/keras/src/engine/training.py:3000: UserWarning: You are saving your model as an HDF5 file via `model.save()`. This file format is considered legacy. We recommend using instead the native Keras format, e.g. `model.save('my_model.keras')`.\n",
      "  saving_api.save_model(\n"
     ]
    },
    {
     "name": "stdout",
     "output_type": "stream",
     "text": [
      "4/4 [==============================] - 0s 1ms/step\n",
      "cm [[12 13]\n",
      " [21 56]]\n",
      "cm.ravel() [12 13 21 56]\n",
      "done testing 0 of 2.\n",
      "4/4 [==============================] - 0s 1ms/step\n",
      "cm [[13 13]\n",
      " [18 57]]\n",
      "cm.ravel() [13 13 18 57]\n",
      "done testing 1 of 2.\n"
     ]
    },
    {
     "name": "stderr",
     "output_type": "stream",
     "text": [
      "/home/st/sbhuvaji/1AllP/Individual Patient_All Models/TLandTL/Actual TL/SingleEncoder/WithCV/TL_Packages.py:582: UserWarning: FixedFormatter should only be used together with FixedLocator\n",
      "  axs[i].set_xticklabels([''] + ['0', '1'], fontsize='xx-large')\n",
      "/home/st/sbhuvaji/1AllP/Individual Patient_All Models/TLandTL/Actual TL/SingleEncoder/WithCV/TL_Packages.py:583: UserWarning: FixedFormatter should only be used together with FixedLocator\n",
      "  axs[i].set_yticklabels([''] + ['0', '1'], fontsize='xx-large')\n",
      " 54%|█████▍    | 14/26 [37:49<32:07, 160.59s/it]"
     ]
    },
    {
     "name": "stdout",
     "output_type": "stream",
     "text": [
      "Runtime: 23 o' clock and 10 minutes\n",
      "~~~~~~~~~~~ 100 ~~~~~~~~~~~~~~~~~~~ 300 ~~~~~~~~~~~~~~~~~~~ SB-060 ~~~~~~~~~~~~~~~~~~~\n",
      "Before balancing count  1.0    2714\n",
      "0.0    1061\n",
      "Name: class, dtype: int64\n",
      "~~~~~~~ value_counts: ~~~~~~~\n",
      "SHOULD BE BALANCED NOW: 0.0    2714\n",
      "1.0    2714\n",
      "Name: class, dtype: int64\n",
      "X_train = 5428, y_train = 5428\n",
      "Population Fold 0: Training data size = 3618, Validation data size = 1810\n"
     ]
    },
    {
     "name": "stderr",
     "output_type": "stream",
     "text": [
      "/home/st/sbhuvaji/anaconda3/lib/python3.9/site-packages/keras/src/engine/training.py:3000: UserWarning: You are saving your model as an HDF5 file via `model.save()`. This file format is considered legacy. We recommend using instead the native Keras format, e.g. `model.save('my_model.keras')`.\n",
      "  saving_api.save_model(\n"
     ]
    },
    {
     "name": "stdout",
     "output_type": "stream",
     "text": [
      "57/57 [==============================] - 0s 820us/step\n",
      "cm [[630 278]\n",
      " [267 635]]\n",
      "cm.ravel() [630 278 267 635]\n",
      "Before balancing count  1.0    29\n",
      "0.0    15\n",
      "Name: class, dtype: int64\n",
      "~~~~~~~ value_counts: ~~~~~~~\n",
      "SHOULD BE BALANCED NOW: 0.0    29\n",
      "1.0    29\n",
      "Name: class, dtype: int64\n",
      "Before balancing count  1.0    32\n",
      "0.0    12\n",
      "Name: class, dtype: int64\n",
      "~~~~~~~ value_counts: ~~~~~~~\n",
      "SHOULD BE BALANCED NOW: 1.0    32\n",
      "0.0    32\n",
      "Name: class, dtype: int64\n",
      "done RE-training 0 of 3. "
     ]
    },
    {
     "name": "stderr",
     "output_type": "stream",
     "text": [
      "/home/st/sbhuvaji/anaconda3/lib/python3.9/site-packages/keras/src/engine/training.py:3000: UserWarning: You are saving your model as an HDF5 file via `model.save()`. This file format is considered legacy. We recommend using instead the native Keras format, e.g. `model.save('my_model.keras')`.\n",
      "  saving_api.save_model(\n"
     ]
    },
    {
     "name": "stdout",
     "output_type": "stream",
     "text": [
      "2/2 [==============================] - 0s 2ms/step\n",
      "cm [[ 7  5]\n",
      " [ 9 23]]\n",
      "cm.ravel() [ 7  5  9 23]\n",
      "done testing 0 of 2.\n",
      "2/2 [==============================] - 0s 2ms/step\n",
      "cm [[ 7  8]\n",
      " [ 5 24]]\n",
      "cm.ravel() [ 7  8  5 24]\n",
      "done testing 1 of 2.\n"
     ]
    },
    {
     "name": "stderr",
     "output_type": "stream",
     "text": [
      "/home/st/sbhuvaji/1AllP/Individual Patient_All Models/TLandTL/Actual TL/SingleEncoder/WithCV/TL_Packages.py:582: UserWarning: FixedFormatter should only be used together with FixedLocator\n",
      "  axs[i].set_xticklabels([''] + ['0', '1'], fontsize='xx-large')\n",
      "/home/st/sbhuvaji/1AllP/Individual Patient_All Models/TLandTL/Actual TL/SingleEncoder/WithCV/TL_Packages.py:583: UserWarning: FixedFormatter should only be used together with FixedLocator\n",
      "  axs[i].set_yticklabels([''] + ['0', '1'], fontsize='xx-large')\n"
     ]
    },
    {
     "name": "stdout",
     "output_type": "stream",
     "text": [
      "Population Fold 1: Training data size = 3619, Validation data size = 1809\n"
     ]
    },
    {
     "name": "stderr",
     "output_type": "stream",
     "text": [
      "/home/st/sbhuvaji/anaconda3/lib/python3.9/site-packages/keras/src/engine/training.py:3000: UserWarning: You are saving your model as an HDF5 file via `model.save()`. This file format is considered legacy. We recommend using instead the native Keras format, e.g. `model.save('my_model.keras')`.\n",
      "  saving_api.save_model(\n"
     ]
    },
    {
     "name": "stdout",
     "output_type": "stream",
     "text": [
      "57/57 [==============================] - 0s 943us/step\n",
      "cm [[658 246]\n",
      " [293 612]]\n",
      "cm.ravel() [658 246 293 612]\n",
      "Before balancing count  1.0    32\n",
      "0.0    12\n",
      "Name: class, dtype: int64\n",
      "~~~~~~~ value_counts: ~~~~~~~\n",
      "SHOULD BE BALANCED NOW: 1.0    32\n",
      "0.0    32\n",
      "Name: class, dtype: int64\n",
      "Before balancing count  1.0    29\n",
      "0.0    15\n",
      "Name: class, dtype: int64\n",
      "~~~~~~~ value_counts: ~~~~~~~\n",
      "SHOULD BE BALANCED NOW: 0.0    29\n",
      "1.0    29\n",
      "Name: class, dtype: int64\n",
      "done RE-training 0 of 3. "
     ]
    },
    {
     "name": "stderr",
     "output_type": "stream",
     "text": [
      "/home/st/sbhuvaji/anaconda3/lib/python3.9/site-packages/keras/src/engine/training.py:3000: UserWarning: You are saving your model as an HDF5 file via `model.save()`. This file format is considered legacy. We recommend using instead the native Keras format, e.g. `model.save('my_model.keras')`.\n",
      "  saving_api.save_model(\n"
     ]
    },
    {
     "name": "stdout",
     "output_type": "stream",
     "text": [
      "2/2 [==============================] - 0s 2ms/step\n",
      "cm [[ 9  6]\n",
      " [ 6 23]]\n",
      "cm.ravel() [ 9  6  6 23]\n",
      "done testing 0 of 2.\n",
      "2/2 [==============================] - 0s 2ms/step\n",
      "cm [[ 4  8]\n",
      " [ 7 25]]\n",
      "cm.ravel() [ 4  8  7 25]\n",
      "done testing 1 of 2.\n"
     ]
    },
    {
     "name": "stderr",
     "output_type": "stream",
     "text": [
      "/home/st/sbhuvaji/1AllP/Individual Patient_All Models/TLandTL/Actual TL/SingleEncoder/WithCV/TL_Packages.py:582: UserWarning: FixedFormatter should only be used together with FixedLocator\n",
      "  axs[i].set_xticklabels([''] + ['0', '1'], fontsize='xx-large')\n",
      "/home/st/sbhuvaji/1AllP/Individual Patient_All Models/TLandTL/Actual TL/SingleEncoder/WithCV/TL_Packages.py:583: UserWarning: FixedFormatter should only be used together with FixedLocator\n",
      "  axs[i].set_yticklabels([''] + ['0', '1'], fontsize='xx-large')\n"
     ]
    },
    {
     "name": "stdout",
     "output_type": "stream",
     "text": [
      "Population Fold 2: Training data size = 3619, Validation data size = 1809\n"
     ]
    },
    {
     "name": "stderr",
     "output_type": "stream",
     "text": [
      "/home/st/sbhuvaji/anaconda3/lib/python3.9/site-packages/keras/src/engine/training.py:3000: UserWarning: You are saving your model as an HDF5 file via `model.save()`. This file format is considered legacy. We recommend using instead the native Keras format, e.g. `model.save('my_model.keras')`.\n",
      "  saving_api.save_model(\n"
     ]
    },
    {
     "name": "stdout",
     "output_type": "stream",
     "text": [
      "57/57 [==============================] - 0s 860us/step\n",
      "cm [[627 275]\n",
      " [273 634]]\n",
      "cm.ravel() [627 275 273 634]\n",
      "Before balancing count  1.0    27\n",
      "0.0    17\n",
      "Name: class, dtype: int64\n",
      "~~~~~~~ value_counts: ~~~~~~~\n",
      "SHOULD BE BALANCED NOW: 0.0    27\n",
      "1.0    27\n",
      "Name: class, dtype: int64\n",
      "Before balancing count  1.0    34\n",
      "0.0    10\n",
      "Name: class, dtype: int64\n",
      "~~~~~~~ value_counts: ~~~~~~~\n",
      "SHOULD BE BALANCED NOW: 1.0    34\n",
      "0.0    34\n",
      "Name: class, dtype: int64\n",
      "done RE-training 0 of 3. "
     ]
    },
    {
     "name": "stderr",
     "output_type": "stream",
     "text": [
      "/home/st/sbhuvaji/anaconda3/lib/python3.9/site-packages/keras/src/engine/training.py:3000: UserWarning: You are saving your model as an HDF5 file via `model.save()`. This file format is considered legacy. We recommend using instead the native Keras format, e.g. `model.save('my_model.keras')`.\n",
      "  saving_api.save_model(\n"
     ]
    },
    {
     "name": "stdout",
     "output_type": "stream",
     "text": [
      "2/2 [==============================] - 0s 2ms/step\n",
      "cm [[ 6  4]\n",
      " [ 9 25]]\n",
      "cm.ravel() [ 6  4  9 25]\n",
      "done testing 0 of 2.\n",
      "2/2 [==============================] - 0s 2ms/step\n",
      "cm [[ 9  8]\n",
      " [14 13]]\n",
      "cm.ravel() [ 9  8 14 13]\n",
      "done testing 1 of 2.\n"
     ]
    },
    {
     "name": "stderr",
     "output_type": "stream",
     "text": [
      "/home/st/sbhuvaji/1AllP/Individual Patient_All Models/TLandTL/Actual TL/SingleEncoder/WithCV/TL_Packages.py:582: UserWarning: FixedFormatter should only be used together with FixedLocator\n",
      "  axs[i].set_xticklabels([''] + ['0', '1'], fontsize='xx-large')\n",
      "/home/st/sbhuvaji/1AllP/Individual Patient_All Models/TLandTL/Actual TL/SingleEncoder/WithCV/TL_Packages.py:583: UserWarning: FixedFormatter should only be used together with FixedLocator\n",
      "  axs[i].set_yticklabels([''] + ['0', '1'], fontsize='xx-large')\n",
      " 58%|█████▊    | 15/26 [40:42<30:04, 164.09s/it]"
     ]
    },
    {
     "name": "stdout",
     "output_type": "stream",
     "text": [
      "Runtime: 23 o' clock and 13 minutes\n",
      "~~~~~~~~~~~ 100 ~~~~~~~~~~~~~~~~~~~ 300 ~~~~~~~~~~~~~~~~~~~ SB-070 ~~~~~~~~~~~~~~~~~~~\n",
      "Before balancing count  1.0    2653\n",
      "0.0    1014\n",
      "Name: class, dtype: int64\n",
      "~~~~~~~ value_counts: ~~~~~~~\n",
      "SHOULD BE BALANCED NOW: 0.0    2653\n",
      "1.0    2653\n",
      "Name: class, dtype: int64\n",
      "X_train = 5306, y_train = 5306\n",
      "Population Fold 0: Training data size = 3537, Validation data size = 1769\n"
     ]
    },
    {
     "name": "stderr",
     "output_type": "stream",
     "text": [
      "/home/st/sbhuvaji/anaconda3/lib/python3.9/site-packages/keras/src/engine/training.py:3000: UserWarning: You are saving your model as an HDF5 file via `model.save()`. This file format is considered legacy. We recommend using instead the native Keras format, e.g. `model.save('my_model.keras')`.\n",
      "  saving_api.save_model(\n"
     ]
    },
    {
     "name": "stdout",
     "output_type": "stream",
     "text": [
      "56/56 [==============================] - 0s 900us/step\n",
      "cm [[704 167]\n",
      " [280 618]]\n",
      "cm.ravel() [704 167 280 618]\n",
      "Before balancing count  1.0    68\n",
      "0.0    33\n",
      "Name: class, dtype: int64\n",
      "~~~~~~~ value_counts: ~~~~~~~\n",
      "SHOULD BE BALANCED NOW: 1.0    68\n",
      "0.0    68\n",
      "Name: class, dtype: int64\n",
      "Before balancing count  1.0    74\n",
      "0.0    27\n",
      "Name: class, dtype: int64\n",
      "~~~~~~~ value_counts: ~~~~~~~\n",
      "SHOULD BE BALANCED NOW: 1.0    74\n",
      "0.0    74\n",
      "Name: class, dtype: int64\n",
      "done RE-training 0 of 3. "
     ]
    },
    {
     "name": "stderr",
     "output_type": "stream",
     "text": [
      "/home/st/sbhuvaji/anaconda3/lib/python3.9/site-packages/keras/src/engine/training.py:3000: UserWarning: You are saving your model as an HDF5 file via `model.save()`. This file format is considered legacy. We recommend using instead the native Keras format, e.g. `model.save('my_model.keras')`.\n",
      "  saving_api.save_model(\n"
     ]
    },
    {
     "name": "stdout",
     "output_type": "stream",
     "text": [
      "4/4 [==============================] - 0s 1ms/step\n",
      "cm [[18  9]\n",
      " [38 36]]\n",
      "cm.ravel() [18  9 38 36]\n",
      "done testing 0 of 2.\n",
      "4/4 [==============================] - 0s 1ms/step\n",
      "cm [[15 18]\n",
      " [16 52]]\n",
      "cm.ravel() [15 18 16 52]\n",
      "done testing 1 of 2.\n"
     ]
    },
    {
     "name": "stderr",
     "output_type": "stream",
     "text": [
      "/home/st/sbhuvaji/1AllP/Individual Patient_All Models/TLandTL/Actual TL/SingleEncoder/WithCV/TL_Packages.py:582: UserWarning: FixedFormatter should only be used together with FixedLocator\n",
      "  axs[i].set_xticklabels([''] + ['0', '1'], fontsize='xx-large')\n",
      "/home/st/sbhuvaji/1AllP/Individual Patient_All Models/TLandTL/Actual TL/SingleEncoder/WithCV/TL_Packages.py:583: UserWarning: FixedFormatter should only be used together with FixedLocator\n",
      "  axs[i].set_yticklabels([''] + ['0', '1'], fontsize='xx-large')\n"
     ]
    },
    {
     "name": "stdout",
     "output_type": "stream",
     "text": [
      "Population Fold 1: Training data size = 3537, Validation data size = 1769\n"
     ]
    },
    {
     "name": "stderr",
     "output_type": "stream",
     "text": [
      "/home/st/sbhuvaji/anaconda3/lib/python3.9/site-packages/keras/src/engine/training.py:3000: UserWarning: You are saving your model as an HDF5 file via `model.save()`. This file format is considered legacy. We recommend using instead the native Keras format, e.g. `model.save('my_model.keras')`.\n",
      "  saving_api.save_model(\n"
     ]
    },
    {
     "name": "stdout",
     "output_type": "stream",
     "text": [
      "56/56 [==============================] - 0s 999us/step\n",
      "cm [[612 275]\n",
      " [200 682]]\n",
      "cm.ravel() [612 275 200 682]\n",
      "Before balancing count  1.0    71\n",
      "0.0    30\n",
      "Name: class, dtype: int64\n",
      "~~~~~~~ value_counts: ~~~~~~~\n",
      "SHOULD BE BALANCED NOW: 1.0    71\n",
      "0.0    71\n",
      "Name: class, dtype: int64\n",
      "Before balancing count  1.0    71\n",
      "0.0    30\n",
      "Name: class, dtype: int64\n",
      "~~~~~~~ value_counts: ~~~~~~~\n",
      "SHOULD BE BALANCED NOW: 1.0    71\n",
      "0.0    71\n",
      "Name: class, dtype: int64\n",
      "done RE-training 0 of 3. "
     ]
    },
    {
     "name": "stderr",
     "output_type": "stream",
     "text": [
      "/home/st/sbhuvaji/anaconda3/lib/python3.9/site-packages/keras/src/engine/training.py:3000: UserWarning: You are saving your model as an HDF5 file via `model.save()`. This file format is considered legacy. We recommend using instead the native Keras format, e.g. `model.save('my_model.keras')`.\n",
      "  saving_api.save_model(\n"
     ]
    },
    {
     "name": "stdout",
     "output_type": "stream",
     "text": [
      "4/4 [==============================] - 0s 1ms/step\n",
      "cm [[17 13]\n",
      " [22 49]]\n",
      "cm.ravel() [17 13 22 49]\n",
      "done testing 0 of 2.\n",
      "4/4 [==============================] - 0s 1ms/step\n",
      "cm [[15 15]\n",
      " [19 52]]\n",
      "cm.ravel() [15 15 19 52]\n",
      "done testing 1 of 2.\n"
     ]
    },
    {
     "name": "stderr",
     "output_type": "stream",
     "text": [
      "/home/st/sbhuvaji/1AllP/Individual Patient_All Models/TLandTL/Actual TL/SingleEncoder/WithCV/TL_Packages.py:582: UserWarning: FixedFormatter should only be used together with FixedLocator\n",
      "  axs[i].set_xticklabels([''] + ['0', '1'], fontsize='xx-large')\n",
      "/home/st/sbhuvaji/1AllP/Individual Patient_All Models/TLandTL/Actual TL/SingleEncoder/WithCV/TL_Packages.py:583: UserWarning: FixedFormatter should only be used together with FixedLocator\n",
      "  axs[i].set_yticklabels([''] + ['0', '1'], fontsize='xx-large')\n"
     ]
    },
    {
     "name": "stdout",
     "output_type": "stream",
     "text": [
      "Population Fold 2: Training data size = 3538, Validation data size = 1768\n"
     ]
    },
    {
     "name": "stderr",
     "output_type": "stream",
     "text": [
      "/home/st/sbhuvaji/anaconda3/lib/python3.9/site-packages/keras/src/engine/training.py:3000: UserWarning: You are saving your model as an HDF5 file via `model.save()`. This file format is considered legacy. We recommend using instead the native Keras format, e.g. `model.save('my_model.keras')`.\n",
      "  saving_api.save_model(\n"
     ]
    },
    {
     "name": "stdout",
     "output_type": "stream",
     "text": [
      "56/56 [==============================] - 0s 856us/step\n",
      "cm [[671 224]\n",
      " [267 606]]\n",
      "cm.ravel() [671 224 267 606]\n",
      "Before balancing count  1.0    69\n",
      "0.0    32\n",
      "Name: class, dtype: int64\n",
      "~~~~~~~ value_counts: ~~~~~~~\n",
      "SHOULD BE BALANCED NOW: 1.0    69\n",
      "0.0    69\n",
      "Name: class, dtype: int64\n",
      "Before balancing count  1.0    73\n",
      "0.0    28\n",
      "Name: class, dtype: int64\n",
      "~~~~~~~ value_counts: ~~~~~~~\n",
      "SHOULD BE BALANCED NOW: 0.0    73\n",
      "1.0    73\n",
      "Name: class, dtype: int64\n",
      "done RE-training 0 of 3. "
     ]
    },
    {
     "name": "stderr",
     "output_type": "stream",
     "text": [
      "/home/st/sbhuvaji/anaconda3/lib/python3.9/site-packages/keras/src/engine/training.py:3000: UserWarning: You are saving your model as an HDF5 file via `model.save()`. This file format is considered legacy. We recommend using instead the native Keras format, e.g. `model.save('my_model.keras')`.\n",
      "  saving_api.save_model(\n"
     ]
    },
    {
     "name": "stdout",
     "output_type": "stream",
     "text": [
      "4/4 [==============================] - 0s 1ms/step\n",
      "cm [[17 11]\n",
      " [24 49]]\n",
      "cm.ravel() [17 11 24 49]\n",
      "done testing 0 of 2.\n",
      "4/4 [==============================] - 0s 1ms/step\n",
      "cm [[14 18]\n",
      " [19 50]]\n",
      "cm.ravel() [14 18 19 50]\n",
      "done testing 1 of 2.\n"
     ]
    },
    {
     "name": "stderr",
     "output_type": "stream",
     "text": [
      "/home/st/sbhuvaji/1AllP/Individual Patient_All Models/TLandTL/Actual TL/SingleEncoder/WithCV/TL_Packages.py:582: UserWarning: FixedFormatter should only be used together with FixedLocator\n",
      "  axs[i].set_xticklabels([''] + ['0', '1'], fontsize='xx-large')\n",
      "/home/st/sbhuvaji/1AllP/Individual Patient_All Models/TLandTL/Actual TL/SingleEncoder/WithCV/TL_Packages.py:583: UserWarning: FixedFormatter should only be used together with FixedLocator\n",
      "  axs[i].set_yticklabels([''] + ['0', '1'], fontsize='xx-large')\n",
      " 62%|██████▏   | 16/26 [43:44<28:12, 169.26s/it]"
     ]
    },
    {
     "name": "stdout",
     "output_type": "stream",
     "text": [
      "Runtime: 23 o' clock and 16 minutes\n",
      "~~~~~~~~~~~ 100 ~~~~~~~~~~~~~~~~~~~ 300 ~~~~~~~~~~~~~~~~~~~ SB-071 ~~~~~~~~~~~~~~~~~~~\n",
      "Before balancing count  1.0    2684\n",
      "0.0    1057\n",
      "Name: class, dtype: int64\n",
      "~~~~~~~ value_counts: ~~~~~~~\n",
      "SHOULD BE BALANCED NOW: 0.0    2684\n",
      "1.0    2684\n",
      "Name: class, dtype: int64\n",
      "X_train = 5368, y_train = 5368\n",
      "Population Fold 0: Training data size = 3578, Validation data size = 1790\n"
     ]
    },
    {
     "name": "stderr",
     "output_type": "stream",
     "text": [
      "/home/st/sbhuvaji/anaconda3/lib/python3.9/site-packages/keras/src/engine/training.py:3000: UserWarning: You are saving your model as an HDF5 file via `model.save()`. This file format is considered legacy. We recommend using instead the native Keras format, e.g. `model.save('my_model.keras')`.\n",
      "  saving_api.save_model(\n"
     ]
    },
    {
     "name": "stdout",
     "output_type": "stream",
     "text": [
      "56/56 [==============================] - 0s 853us/step\n",
      "cm [[712 183]\n",
      " [349 546]]\n",
      "cm.ravel() [712 183 349 546]\n",
      "Before balancing count  1.0    51\n",
      "0.0    11\n",
      "Name: class, dtype: int64\n",
      "~~~~~~~ value_counts: ~~~~~~~\n",
      "SHOULD BE BALANCED NOW: 0.0    51\n",
      "1.0    51\n",
      "Name: class, dtype: int64\n",
      "Before balancing count  1.0    54\n",
      "0.0     8\n",
      "Name: class, dtype: int64\n",
      "~~~~~~~ value_counts: ~~~~~~~\n",
      "SHOULD BE BALANCED NOW: 1.0    54\n",
      "0.0    54\n",
      "Name: class, dtype: int64\n",
      "done RE-training 0 of 3. "
     ]
    },
    {
     "name": "stderr",
     "output_type": "stream",
     "text": [
      "/home/st/sbhuvaji/anaconda3/lib/python3.9/site-packages/keras/src/engine/training.py:3000: UserWarning: You are saving your model as an HDF5 file via `model.save()`. This file format is considered legacy. We recommend using instead the native Keras format, e.g. `model.save('my_model.keras')`.\n",
      "  saving_api.save_model(\n"
     ]
    },
    {
     "name": "stdout",
     "output_type": "stream",
     "text": [
      "2/2 [==============================] - 0s 2ms/step\n",
      "cm [[ 1  7]\n",
      " [16 38]]\n",
      "cm.ravel() [ 1  7 16 38]\n",
      "done testing 0 of 2.\n",
      "2/2 [==============================] - 0s 2ms/step\n",
      "cm [[ 6  5]\n",
      " [18 33]]\n",
      "cm.ravel() [ 6  5 18 33]\n",
      "done testing 1 of 2.\n"
     ]
    },
    {
     "name": "stderr",
     "output_type": "stream",
     "text": [
      "/home/st/sbhuvaji/1AllP/Individual Patient_All Models/TLandTL/Actual TL/SingleEncoder/WithCV/TL_Packages.py:582: UserWarning: FixedFormatter should only be used together with FixedLocator\n",
      "  axs[i].set_xticklabels([''] + ['0', '1'], fontsize='xx-large')\n",
      "/home/st/sbhuvaji/1AllP/Individual Patient_All Models/TLandTL/Actual TL/SingleEncoder/WithCV/TL_Packages.py:583: UserWarning: FixedFormatter should only be used together with FixedLocator\n",
      "  axs[i].set_yticklabels([''] + ['0', '1'], fontsize='xx-large')\n"
     ]
    },
    {
     "name": "stdout",
     "output_type": "stream",
     "text": [
      "Population Fold 1: Training data size = 3579, Validation data size = 1789\n"
     ]
    },
    {
     "name": "stderr",
     "output_type": "stream",
     "text": [
      "/home/st/sbhuvaji/anaconda3/lib/python3.9/site-packages/keras/src/engine/training.py:3000: UserWarning: You are saving your model as an HDF5 file via `model.save()`. This file format is considered legacy. We recommend using instead the native Keras format, e.g. `model.save('my_model.keras')`.\n",
      "  saving_api.save_model(\n"
     ]
    },
    {
     "name": "stdout",
     "output_type": "stream",
     "text": [
      "56/56 [==============================] - 0s 888us/step\n",
      "cm [[573 306]\n",
      " [215 695]]\n",
      "cm.ravel() [573 306 215 695]\n",
      "Before balancing count  1.0    50\n",
      "0.0    12\n",
      "Name: class, dtype: int64\n",
      "~~~~~~~ value_counts: ~~~~~~~\n",
      "SHOULD BE BALANCED NOW: 1.0    50\n",
      "0.0    50\n",
      "Name: class, dtype: int64\n",
      "Before balancing count  1.0    55\n",
      "0.0     7\n",
      "Name: class, dtype: int64\n",
      "~~~~~~~ value_counts: ~~~~~~~\n",
      "SHOULD BE BALANCED NOW: 1.0    55\n",
      "0.0    55\n",
      "Name: class, dtype: int64\n",
      "done RE-training 0 of 3. "
     ]
    },
    {
     "name": "stderr",
     "output_type": "stream",
     "text": [
      "/home/st/sbhuvaji/anaconda3/lib/python3.9/site-packages/keras/src/engine/training.py:3000: UserWarning: You are saving your model as an HDF5 file via `model.save()`. This file format is considered legacy. We recommend using instead the native Keras format, e.g. `model.save('my_model.keras')`.\n",
      "  saving_api.save_model(\n"
     ]
    },
    {
     "name": "stdout",
     "output_type": "stream",
     "text": [
      "2/2 [==============================] - 0s 2ms/step\n",
      "cm [[ 5  2]\n",
      " [15 40]]\n",
      "cm.ravel() [ 5  2 15 40]\n",
      "done testing 0 of 2.\n",
      "2/2 [==============================] - 0s 2ms/step\n",
      "cm [[ 6  6]\n",
      " [13 37]]\n",
      "cm.ravel() [ 6  6 13 37]\n",
      "done testing 1 of 2.\n"
     ]
    },
    {
     "name": "stderr",
     "output_type": "stream",
     "text": [
      "/home/st/sbhuvaji/1AllP/Individual Patient_All Models/TLandTL/Actual TL/SingleEncoder/WithCV/TL_Packages.py:582: UserWarning: FixedFormatter should only be used together with FixedLocator\n",
      "  axs[i].set_xticklabels([''] + ['0', '1'], fontsize='xx-large')\n",
      "/home/st/sbhuvaji/1AllP/Individual Patient_All Models/TLandTL/Actual TL/SingleEncoder/WithCV/TL_Packages.py:583: UserWarning: FixedFormatter should only be used together with FixedLocator\n",
      "  axs[i].set_yticklabels([''] + ['0', '1'], fontsize='xx-large')\n"
     ]
    },
    {
     "name": "stdout",
     "output_type": "stream",
     "text": [
      "Population Fold 2: Training data size = 3579, Validation data size = 1789\n"
     ]
    },
    {
     "name": "stderr",
     "output_type": "stream",
     "text": [
      "/home/st/sbhuvaji/anaconda3/lib/python3.9/site-packages/keras/src/engine/training.py:3000: UserWarning: You are saving your model as an HDF5 file via `model.save()`. This file format is considered legacy. We recommend using instead the native Keras format, e.g. `model.save('my_model.keras')`.\n",
      "  saving_api.save_model(\n"
     ]
    },
    {
     "name": "stdout",
     "output_type": "stream",
     "text": [
      "56/56 [==============================] - 0s 882us/step\n",
      "cm [[755 155]\n",
      " [377 502]]\n",
      "cm.ravel() [755 155 377 502]\n",
      "Before balancing count  1.0    54\n",
      "0.0     8\n",
      "Name: class, dtype: int64\n",
      "~~~~~~~ value_counts: ~~~~~~~\n",
      "SHOULD BE BALANCED NOW: 1.0    54\n",
      "0.0    54\n",
      "Name: class, dtype: int64\n",
      "Before balancing count  1.0    51\n",
      "0.0    11\n",
      "Name: class, dtype: int64\n",
      "~~~~~~~ value_counts: ~~~~~~~\n",
      "SHOULD BE BALANCED NOW: 0.0    51\n",
      "1.0    51\n",
      "Name: class, dtype: int64\n",
      "done RE-training 0 of 3. "
     ]
    },
    {
     "name": "stderr",
     "output_type": "stream",
     "text": [
      "/home/st/sbhuvaji/anaconda3/lib/python3.9/site-packages/keras/src/engine/training.py:3000: UserWarning: You are saving your model as an HDF5 file via `model.save()`. This file format is considered legacy. We recommend using instead the native Keras format, e.g. `model.save('my_model.keras')`.\n",
      "  saving_api.save_model(\n"
     ]
    },
    {
     "name": "stdout",
     "output_type": "stream",
     "text": [
      "2/2 [==============================] - 0s 2ms/step\n",
      "cm [[ 6  5]\n",
      " [19 32]]\n",
      "cm.ravel() [ 6  5 19 32]\n",
      "done testing 0 of 2.\n",
      "2/2 [==============================] - 0s 2ms/step\n",
      "cm [[ 3  5]\n",
      " [ 6 48]]\n",
      "cm.ravel() [ 3  5  6 48]\n",
      "done testing 1 of 2.\n"
     ]
    },
    {
     "name": "stderr",
     "output_type": "stream",
     "text": [
      "/home/st/sbhuvaji/1AllP/Individual Patient_All Models/TLandTL/Actual TL/SingleEncoder/WithCV/TL_Packages.py:582: UserWarning: FixedFormatter should only be used together with FixedLocator\n",
      "  axs[i].set_xticklabels([''] + ['0', '1'], fontsize='xx-large')\n",
      "/home/st/sbhuvaji/1AllP/Individual Patient_All Models/TLandTL/Actual TL/SingleEncoder/WithCV/TL_Packages.py:583: UserWarning: FixedFormatter should only be used together with FixedLocator\n",
      "  axs[i].set_yticklabels([''] + ['0', '1'], fontsize='xx-large')\n",
      " 65%|██████▌   | 17/26 [46:33<25:23, 169.30s/it]"
     ]
    },
    {
     "name": "stdout",
     "output_type": "stream",
     "text": [
      "Runtime: 23 o' clock and 18 minutes\n",
      "~~~~~~~~~~~ 100 ~~~~~~~~~~~~~~~~~~~ 300 ~~~~~~~~~~~~~~~~~~~ SB-073 ~~~~~~~~~~~~~~~~~~~\n",
      "Before balancing count  1.0    2657\n",
      "0.0    1048\n",
      "Name: class, dtype: int64\n",
      "~~~~~~~ value_counts: ~~~~~~~\n",
      "SHOULD BE BALANCED NOW: 1.0    2657\n",
      "0.0    2657\n",
      "Name: class, dtype: int64\n",
      "X_train = 5314, y_train = 5314\n",
      "Population Fold 0: Training data size = 3542, Validation data size = 1772\n"
     ]
    },
    {
     "name": "stderr",
     "output_type": "stream",
     "text": [
      "/home/st/sbhuvaji/anaconda3/lib/python3.9/site-packages/keras/src/engine/training.py:3000: UserWarning: You are saving your model as an HDF5 file via `model.save()`. This file format is considered legacy. We recommend using instead the native Keras format, e.g. `model.save('my_model.keras')`.\n",
      "  saving_api.save_model(\n"
     ]
    },
    {
     "name": "stdout",
     "output_type": "stream",
     "text": [
      "56/56 [==============================] - 0s 904us/step\n",
      "cm [[708 173]\n",
      " [385 506]]\n",
      "cm.ravel() [708 173 385 506]\n",
      "Before balancing count  1.0    60\n",
      "0.0    20\n",
      "Name: class, dtype: int64\n",
      "~~~~~~~ value_counts: ~~~~~~~\n",
      "SHOULD BE BALANCED NOW: 0.0    60\n",
      "1.0    60\n",
      "Name: class, dtype: int64\n",
      "Before balancing count  1.0    60\n",
      "0.0    21\n",
      "Name: class, dtype: int64\n",
      "~~~~~~~ value_counts: ~~~~~~~\n",
      "SHOULD BE BALANCED NOW: 0.0    60\n",
      "1.0    60\n",
      "Name: class, dtype: int64\n",
      "done RE-training 0 of 3. "
     ]
    },
    {
     "name": "stderr",
     "output_type": "stream",
     "text": [
      "/home/st/sbhuvaji/anaconda3/lib/python3.9/site-packages/keras/src/engine/training.py:3000: UserWarning: You are saving your model as an HDF5 file via `model.save()`. This file format is considered legacy. We recommend using instead the native Keras format, e.g. `model.save('my_model.keras')`.\n",
      "  saving_api.save_model(\n"
     ]
    },
    {
     "name": "stdout",
     "output_type": "stream",
     "text": [
      "3/3 [==============================] - 0s 1ms/step\n",
      "cm [[13  8]\n",
      " [17 43]]\n",
      "cm.ravel() [13  8 17 43]\n",
      "done testing 0 of 2.\n",
      "3/3 [==============================] - 0s 1ms/step\n",
      "cm [[14  6]\n",
      " [21 39]]\n",
      "cm.ravel() [14  6 21 39]\n",
      "done testing 1 of 2.\n"
     ]
    },
    {
     "name": "stderr",
     "output_type": "stream",
     "text": [
      "/home/st/sbhuvaji/1AllP/Individual Patient_All Models/TLandTL/Actual TL/SingleEncoder/WithCV/TL_Packages.py:582: UserWarning: FixedFormatter should only be used together with FixedLocator\n",
      "  axs[i].set_xticklabels([''] + ['0', '1'], fontsize='xx-large')\n",
      "/home/st/sbhuvaji/1AllP/Individual Patient_All Models/TLandTL/Actual TL/SingleEncoder/WithCV/TL_Packages.py:583: UserWarning: FixedFormatter should only be used together with FixedLocator\n",
      "  axs[i].set_yticklabels([''] + ['0', '1'], fontsize='xx-large')\n"
     ]
    },
    {
     "name": "stdout",
     "output_type": "stream",
     "text": [
      "Population Fold 1: Training data size = 3543, Validation data size = 1771\n"
     ]
    },
    {
     "name": "stderr",
     "output_type": "stream",
     "text": [
      "/home/st/sbhuvaji/anaconda3/lib/python3.9/site-packages/keras/src/engine/training.py:3000: UserWarning: You are saving your model as an HDF5 file via `model.save()`. This file format is considered legacy. We recommend using instead the native Keras format, e.g. `model.save('my_model.keras')`.\n",
      "  saving_api.save_model(\n"
     ]
    },
    {
     "name": "stdout",
     "output_type": "stream",
     "text": [
      "56/56 [==============================] - 0s 955us/step\n",
      "cm [[672 231]\n",
      " [299 569]]\n",
      "cm.ravel() [672 231 299 569]\n",
      "Before balancing count  1.0    57\n",
      "0.0    23\n",
      "Name: class, dtype: int64\n",
      "~~~~~~~ value_counts: ~~~~~~~\n",
      "SHOULD BE BALANCED NOW: 1.0    57\n",
      "0.0    57\n",
      "Name: class, dtype: int64\n",
      "Before balancing count  1.0    63\n",
      "0.0    18\n",
      "Name: class, dtype: int64\n",
      "~~~~~~~ value_counts: ~~~~~~~\n",
      "SHOULD BE BALANCED NOW: 1.0    63\n",
      "0.0    63\n",
      "Name: class, dtype: int64\n",
      "done RE-training 0 of 3. "
     ]
    },
    {
     "name": "stderr",
     "output_type": "stream",
     "text": [
      "/home/st/sbhuvaji/anaconda3/lib/python3.9/site-packages/keras/src/engine/training.py:3000: UserWarning: You are saving your model as an HDF5 file via `model.save()`. This file format is considered legacy. We recommend using instead the native Keras format, e.g. `model.save('my_model.keras')`.\n",
      "  saving_api.save_model(\n"
     ]
    },
    {
     "name": "stdout",
     "output_type": "stream",
     "text": [
      "3/3 [==============================] - 0s 1ms/step\n",
      "cm [[11  7]\n",
      " [20 43]]\n",
      "cm.ravel() [11  7 20 43]\n",
      "done testing 0 of 2.\n",
      "3/3 [==============================] - 0s 2ms/step\n",
      "cm [[18  5]\n",
      " [15 42]]\n",
      "cm.ravel() [18  5 15 42]\n",
      "done testing 1 of 2.\n"
     ]
    },
    {
     "name": "stderr",
     "output_type": "stream",
     "text": [
      "/home/st/sbhuvaji/1AllP/Individual Patient_All Models/TLandTL/Actual TL/SingleEncoder/WithCV/TL_Packages.py:582: UserWarning: FixedFormatter should only be used together with FixedLocator\n",
      "  axs[i].set_xticklabels([''] + ['0', '1'], fontsize='xx-large')\n",
      "/home/st/sbhuvaji/1AllP/Individual Patient_All Models/TLandTL/Actual TL/SingleEncoder/WithCV/TL_Packages.py:583: UserWarning: FixedFormatter should only be used together with FixedLocator\n",
      "  axs[i].set_yticklabels([''] + ['0', '1'], fontsize='xx-large')\n"
     ]
    },
    {
     "name": "stdout",
     "output_type": "stream",
     "text": [
      "Population Fold 2: Training data size = 3543, Validation data size = 1771\n"
     ]
    },
    {
     "name": "stderr",
     "output_type": "stream",
     "text": [
      "/home/st/sbhuvaji/anaconda3/lib/python3.9/site-packages/keras/src/engine/training.py:3000: UserWarning: You are saving your model as an HDF5 file via `model.save()`. This file format is considered legacy. We recommend using instead the native Keras format, e.g. `model.save('my_model.keras')`.\n",
      "  saving_api.save_model(\n"
     ]
    },
    {
     "name": "stdout",
     "output_type": "stream",
     "text": [
      "56/56 [==============================] - 0s 870us/step\n",
      "cm [[682 191]\n",
      " [335 563]]\n",
      "cm.ravel() [682 191 335 563]\n",
      "Before balancing count  1.0    60\n",
      "0.0    20\n",
      "Name: class, dtype: int64\n",
      "~~~~~~~ value_counts: ~~~~~~~\n",
      "SHOULD BE BALANCED NOW: 0.0    60\n",
      "1.0    60\n",
      "Name: class, dtype: int64\n",
      "Before balancing count  1.0    60\n",
      "0.0    21\n",
      "Name: class, dtype: int64\n",
      "~~~~~~~ value_counts: ~~~~~~~\n",
      "SHOULD BE BALANCED NOW: 0.0    60\n",
      "1.0    60\n",
      "Name: class, dtype: int64\n",
      "done RE-training 0 of 3. "
     ]
    },
    {
     "name": "stderr",
     "output_type": "stream",
     "text": [
      "/home/st/sbhuvaji/anaconda3/lib/python3.9/site-packages/keras/src/engine/training.py:3000: UserWarning: You are saving your model as an HDF5 file via `model.save()`. This file format is considered legacy. We recommend using instead the native Keras format, e.g. `model.save('my_model.keras')`.\n",
      "  saving_api.save_model(\n"
     ]
    },
    {
     "name": "stdout",
     "output_type": "stream",
     "text": [
      "3/3 [==============================] - 0s 1ms/step\n",
      "cm [[ 8 13]\n",
      " [ 8 52]]\n",
      "cm.ravel() [ 8 13  8 52]\n",
      "done testing 0 of 2.\n",
      "3/3 [==============================] - 0s 1ms/step\n",
      "cm [[16  4]\n",
      " [28 32]]\n",
      "cm.ravel() [16  4 28 32]\n",
      "done testing 1 of 2.\n"
     ]
    },
    {
     "name": "stderr",
     "output_type": "stream",
     "text": [
      "/home/st/sbhuvaji/1AllP/Individual Patient_All Models/TLandTL/Actual TL/SingleEncoder/WithCV/TL_Packages.py:582: UserWarning: FixedFormatter should only be used together with FixedLocator\n",
      "  axs[i].set_xticklabels([''] + ['0', '1'], fontsize='xx-large')\n",
      "/home/st/sbhuvaji/1AllP/Individual Patient_All Models/TLandTL/Actual TL/SingleEncoder/WithCV/TL_Packages.py:583: UserWarning: FixedFormatter should only be used together with FixedLocator\n",
      "  axs[i].set_yticklabels([''] + ['0', '1'], fontsize='xx-large')\n",
      " 69%|██████▉   | 18/26 [49:31<22:54, 171.81s/it]"
     ]
    },
    {
     "name": "stdout",
     "output_type": "stream",
     "text": [
      "Runtime: 23 o' clock and 21 minutes\n",
      "~~~~~~~~~~~ 100 ~~~~~~~~~~~~~~~~~~~ 300 ~~~~~~~~~~~~~~~~~~~ SB-078 ~~~~~~~~~~~~~~~~~~~\n",
      "Before balancing count  1.0    2672\n",
      "0.0    1041\n",
      "Name: class, dtype: int64\n",
      "~~~~~~~ value_counts: ~~~~~~~\n",
      "SHOULD BE BALANCED NOW: 1.0    2672\n",
      "0.0    2672\n",
      "Name: class, dtype: int64\n",
      "X_train = 5344, y_train = 5344\n",
      "Population Fold 0: Training data size = 3562, Validation data size = 1782\n"
     ]
    },
    {
     "name": "stderr",
     "output_type": "stream",
     "text": [
      "/home/st/sbhuvaji/anaconda3/lib/python3.9/site-packages/keras/src/engine/training.py:3000: UserWarning: You are saving your model as an HDF5 file via `model.save()`. This file format is considered legacy. We recommend using instead the native Keras format, e.g. `model.save('my_model.keras')`.\n",
      "  saving_api.save_model(\n"
     ]
    },
    {
     "name": "stdout",
     "output_type": "stream",
     "text": [
      "56/56 [==============================] - 0s 903us/step\n",
      "cm [[686 220]\n",
      " [289 587]]\n",
      "cm.ravel() [686 220 289 587]\n",
      "Before balancing count  1.0    55\n",
      "0.0    21\n",
      "Name: class, dtype: int64\n",
      "~~~~~~~ value_counts: ~~~~~~~\n",
      "SHOULD BE BALANCED NOW: 1.0    55\n",
      "0.0    55\n",
      "Name: class, dtype: int64\n",
      "Before balancing count  1.0    52\n",
      "0.0    25\n",
      "Name: class, dtype: int64\n",
      "~~~~~~~ value_counts: ~~~~~~~\n",
      "SHOULD BE BALANCED NOW: 0.0    52\n",
      "1.0    52\n",
      "Name: class, dtype: int64\n",
      "done RE-training 0 of 3. "
     ]
    },
    {
     "name": "stderr",
     "output_type": "stream",
     "text": [
      "/home/st/sbhuvaji/anaconda3/lib/python3.9/site-packages/keras/src/engine/training.py:3000: UserWarning: You are saving your model as an HDF5 file via `model.save()`. This file format is considered legacy. We recommend using instead the native Keras format, e.g. `model.save('my_model.keras')`.\n",
      "  saving_api.save_model(\n"
     ]
    },
    {
     "name": "stdout",
     "output_type": "stream",
     "text": [
      "3/3 [==============================] - 0s 1ms/step\n",
      "cm [[22  3]\n",
      " [19 33]]\n",
      "cm.ravel() [22  3 19 33]\n",
      "done testing 0 of 2.\n",
      "3/3 [==============================] - 0s 1ms/step\n",
      "cm [[10 11]\n",
      " [10 45]]\n",
      "cm.ravel() [10 11 10 45]\n",
      "done testing 1 of 2.\n"
     ]
    },
    {
     "name": "stderr",
     "output_type": "stream",
     "text": [
      "/home/st/sbhuvaji/1AllP/Individual Patient_All Models/TLandTL/Actual TL/SingleEncoder/WithCV/TL_Packages.py:582: UserWarning: FixedFormatter should only be used together with FixedLocator\n",
      "  axs[i].set_xticklabels([''] + ['0', '1'], fontsize='xx-large')\n",
      "/home/st/sbhuvaji/1AllP/Individual Patient_All Models/TLandTL/Actual TL/SingleEncoder/WithCV/TL_Packages.py:583: UserWarning: FixedFormatter should only be used together with FixedLocator\n",
      "  axs[i].set_yticklabels([''] + ['0', '1'], fontsize='xx-large')\n"
     ]
    },
    {
     "name": "stdout",
     "output_type": "stream",
     "text": [
      "Population Fold 1: Training data size = 3563, Validation data size = 1781\n"
     ]
    },
    {
     "name": "stderr",
     "output_type": "stream",
     "text": [
      "/home/st/sbhuvaji/anaconda3/lib/python3.9/site-packages/keras/src/engine/training.py:3000: UserWarning: You are saving your model as an HDF5 file via `model.save()`. This file format is considered legacy. We recommend using instead the native Keras format, e.g. `model.save('my_model.keras')`.\n",
      "  saving_api.save_model(\n"
     ]
    },
    {
     "name": "stdout",
     "output_type": "stream",
     "text": [
      "56/56 [==============================] - 0s 842us/step\n",
      "cm [[764 157]\n",
      " [287 573]]\n",
      "cm.ravel() [764 157 287 573]\n",
      "Before balancing count  1.0    57\n",
      "0.0    19\n",
      "Name: class, dtype: int64\n",
      "~~~~~~~ value_counts: ~~~~~~~\n",
      "SHOULD BE BALANCED NOW: 1.0    57\n",
      "0.0    57\n",
      "Name: class, dtype: int64\n",
      "Before balancing count  1.0    50\n",
      "0.0    27\n",
      "Name: class, dtype: int64\n",
      "~~~~~~~ value_counts: ~~~~~~~\n",
      "SHOULD BE BALANCED NOW: 1.0    50\n",
      "0.0    50\n",
      "Name: class, dtype: int64\n",
      "done RE-training 0 of 3. "
     ]
    },
    {
     "name": "stderr",
     "output_type": "stream",
     "text": [
      "/home/st/sbhuvaji/anaconda3/lib/python3.9/site-packages/keras/src/engine/training.py:3000: UserWarning: You are saving your model as an HDF5 file via `model.save()`. This file format is considered legacy. We recommend using instead the native Keras format, e.g. `model.save('my_model.keras')`.\n",
      "  saving_api.save_model(\n"
     ]
    },
    {
     "name": "stdout",
     "output_type": "stream",
     "text": [
      "3/3 [==============================] - 0s 2ms/step\n",
      "cm [[20  7]\n",
      " [12 38]]\n",
      "cm.ravel() [20  7 12 38]\n",
      "done testing 0 of 2.\n",
      "3/3 [==============================] - 0s 1ms/step\n",
      "cm [[14  5]\n",
      " [20 37]]\n",
      "cm.ravel() [14  5 20 37]\n",
      "done testing 1 of 2.\n"
     ]
    },
    {
     "name": "stderr",
     "output_type": "stream",
     "text": [
      "/home/st/sbhuvaji/1AllP/Individual Patient_All Models/TLandTL/Actual TL/SingleEncoder/WithCV/TL_Packages.py:582: UserWarning: FixedFormatter should only be used together with FixedLocator\n",
      "  axs[i].set_xticklabels([''] + ['0', '1'], fontsize='xx-large')\n",
      "/home/st/sbhuvaji/1AllP/Individual Patient_All Models/TLandTL/Actual TL/SingleEncoder/WithCV/TL_Packages.py:583: UserWarning: FixedFormatter should only be used together with FixedLocator\n",
      "  axs[i].set_yticklabels([''] + ['0', '1'], fontsize='xx-large')\n"
     ]
    },
    {
     "name": "stdout",
     "output_type": "stream",
     "text": [
      "Population Fold 2: Training data size = 3563, Validation data size = 1781\n"
     ]
    },
    {
     "name": "stderr",
     "output_type": "stream",
     "text": [
      "/home/st/sbhuvaji/anaconda3/lib/python3.9/site-packages/keras/src/engine/training.py:3000: UserWarning: You are saving your model as an HDF5 file via `model.save()`. This file format is considered legacy. We recommend using instead the native Keras format, e.g. `model.save('my_model.keras')`.\n",
      "  saving_api.save_model(\n"
     ]
    },
    {
     "name": "stdout",
     "output_type": "stream",
     "text": [
      "56/56 [==============================] - 0s 850us/step\n",
      "cm [[614 231]\n",
      " [225 711]]\n",
      "cm.ravel() [614 231 225 711]\n",
      "Before balancing count  1.0    54\n",
      "0.0    22\n",
      "Name: class, dtype: int64\n",
      "~~~~~~~ value_counts: ~~~~~~~\n",
      "SHOULD BE BALANCED NOW: 1.0    54\n",
      "0.0    54\n",
      "Name: class, dtype: int64\n",
      "Before balancing count  1.0    53\n",
      "0.0    24\n",
      "Name: class, dtype: int64\n",
      "~~~~~~~ value_counts: ~~~~~~~\n",
      "SHOULD BE BALANCED NOW: 1.0    53\n",
      "0.0    53\n",
      "Name: class, dtype: int64\n",
      "done RE-training 0 of 3. "
     ]
    },
    {
     "name": "stderr",
     "output_type": "stream",
     "text": [
      "/home/st/sbhuvaji/anaconda3/lib/python3.9/site-packages/keras/src/engine/training.py:3000: UserWarning: You are saving your model as an HDF5 file via `model.save()`. This file format is considered legacy. We recommend using instead the native Keras format, e.g. `model.save('my_model.keras')`.\n",
      "  saving_api.save_model(\n"
     ]
    },
    {
     "name": "stdout",
     "output_type": "stream",
     "text": [
      "3/3 [==============================] - 0s 2ms/step\n",
      "cm [[19  5]\n",
      " [14 39]]\n",
      "cm.ravel() [19  5 14 39]\n",
      "done testing 0 of 2.\n",
      "3/3 [==============================] - 0s 2ms/step\n",
      "cm [[19  3]\n",
      " [20 34]]\n",
      "cm.ravel() [19  3 20 34]\n",
      "done testing 1 of 2.\n"
     ]
    },
    {
     "name": "stderr",
     "output_type": "stream",
     "text": [
      "/home/st/sbhuvaji/1AllP/Individual Patient_All Models/TLandTL/Actual TL/SingleEncoder/WithCV/TL_Packages.py:582: UserWarning: FixedFormatter should only be used together with FixedLocator\n",
      "  axs[i].set_xticklabels([''] + ['0', '1'], fontsize='xx-large')\n",
      "/home/st/sbhuvaji/1AllP/Individual Patient_All Models/TLandTL/Actual TL/SingleEncoder/WithCV/TL_Packages.py:583: UserWarning: FixedFormatter should only be used together with FixedLocator\n",
      "  axs[i].set_yticklabels([''] + ['0', '1'], fontsize='xx-large')\n",
      " 73%|███████▎  | 19/26 [52:22<20:00, 171.49s/it]"
     ]
    },
    {
     "name": "stdout",
     "output_type": "stream",
     "text": [
      "Runtime: 23 o' clock and 24 minutes\n",
      "~~~~~~~~~~~ 100 ~~~~~~~~~~~~~~~~~~~ 300 ~~~~~~~~~~~~~~~~~~~ SB-079 ~~~~~~~~~~~~~~~~~~~\n",
      "Before balancing count  1.0    2686\n",
      "0.0    1038\n",
      "Name: class, dtype: int64\n",
      "~~~~~~~ value_counts: ~~~~~~~\n",
      "SHOULD BE BALANCED NOW: 0.0    2686\n",
      "1.0    2686\n",
      "Name: class, dtype: int64\n",
      "X_train = 5372, y_train = 5372\n",
      "Population Fold 0: Training data size = 3581, Validation data size = 1791\n"
     ]
    },
    {
     "name": "stderr",
     "output_type": "stream",
     "text": [
      "/home/st/sbhuvaji/anaconda3/lib/python3.9/site-packages/keras/src/engine/training.py:3000: UserWarning: You are saving your model as an HDF5 file via `model.save()`. This file format is considered legacy. We recommend using instead the native Keras format, e.g. `model.save('my_model.keras')`.\n",
      "  saving_api.save_model(\n"
     ]
    },
    {
     "name": "stdout",
     "output_type": "stream",
     "text": [
      "56/56 [==============================] - 0s 886us/step\n",
      "cm [[655 226]\n",
      " [264 646]]\n",
      "cm.ravel() [655 226 264 646]\n",
      "Before balancing count  1.0    52\n",
      "0.0    19\n",
      "Name: class, dtype: int64\n",
      "~~~~~~~ value_counts: ~~~~~~~\n",
      "SHOULD BE BALANCED NOW: 0.0    52\n",
      "1.0    52\n",
      "Name: class, dtype: int64\n",
      "Before balancing count  1.0    50\n",
      "0.0    21\n",
      "Name: class, dtype: int64\n",
      "~~~~~~~ value_counts: ~~~~~~~\n",
      "SHOULD BE BALANCED NOW: 1.0    50\n",
      "0.0    50\n",
      "Name: class, dtype: int64\n",
      "done RE-training 0 of 3. "
     ]
    },
    {
     "name": "stderr",
     "output_type": "stream",
     "text": [
      "/home/st/sbhuvaji/anaconda3/lib/python3.9/site-packages/keras/src/engine/training.py:3000: UserWarning: You are saving your model as an HDF5 file via `model.save()`. This file format is considered legacy. We recommend using instead the native Keras format, e.g. `model.save('my_model.keras')`.\n",
      "  saving_api.save_model(\n"
     ]
    },
    {
     "name": "stdout",
     "output_type": "stream",
     "text": [
      "3/3 [==============================] - 0s 1ms/step\n",
      "cm [[13  8]\n",
      " [17 33]]\n",
      "cm.ravel() [13  8 17 33]\n",
      "done testing 0 of 2.\n",
      "3/3 [==============================] - 0s 1ms/step\n",
      "cm [[11  8]\n",
      " [20 32]]\n",
      "cm.ravel() [11  8 20 32]\n",
      "done testing 1 of 2.\n"
     ]
    },
    {
     "name": "stderr",
     "output_type": "stream",
     "text": [
      "/home/st/sbhuvaji/1AllP/Individual Patient_All Models/TLandTL/Actual TL/SingleEncoder/WithCV/TL_Packages.py:582: UserWarning: FixedFormatter should only be used together with FixedLocator\n",
      "  axs[i].set_xticklabels([''] + ['0', '1'], fontsize='xx-large')\n",
      "/home/st/sbhuvaji/1AllP/Individual Patient_All Models/TLandTL/Actual TL/SingleEncoder/WithCV/TL_Packages.py:583: UserWarning: FixedFormatter should only be used together with FixedLocator\n",
      "  axs[i].set_yticklabels([''] + ['0', '1'], fontsize='xx-large')\n"
     ]
    },
    {
     "name": "stdout",
     "output_type": "stream",
     "text": [
      "Population Fold 1: Training data size = 3581, Validation data size = 1791\n"
     ]
    },
    {
     "name": "stderr",
     "output_type": "stream",
     "text": [
      "/home/st/sbhuvaji/anaconda3/lib/python3.9/site-packages/keras/src/engine/training.py:3000: UserWarning: You are saving your model as an HDF5 file via `model.save()`. This file format is considered legacy. We recommend using instead the native Keras format, e.g. `model.save('my_model.keras')`.\n",
      "  saving_api.save_model(\n"
     ]
    },
    {
     "name": "stdout",
     "output_type": "stream",
     "text": [
      "56/56 [==============================] - 0s 809us/step\n",
      "cm [[675 229]\n",
      " [246 641]]\n",
      "cm.ravel() [675 229 246 641]\n",
      "Before balancing count  1.0    54\n",
      "0.0    17\n",
      "Name: class, dtype: int64\n",
      "~~~~~~~ value_counts: ~~~~~~~\n",
      "SHOULD BE BALANCED NOW: 1.0    54\n",
      "0.0    54\n",
      "Name: class, dtype: int64\n",
      "Before balancing count  1.0    48\n",
      "0.0    23\n",
      "Name: class, dtype: int64\n",
      "~~~~~~~ value_counts: ~~~~~~~\n",
      "SHOULD BE BALANCED NOW: 1.0    48\n",
      "0.0    48\n",
      "Name: class, dtype: int64\n",
      "done RE-training 0 of 3. "
     ]
    },
    {
     "name": "stderr",
     "output_type": "stream",
     "text": [
      "/home/st/sbhuvaji/anaconda3/lib/python3.9/site-packages/keras/src/engine/training.py:3000: UserWarning: You are saving your model as an HDF5 file via `model.save()`. This file format is considered legacy. We recommend using instead the native Keras format, e.g. `model.save('my_model.keras')`.\n",
      "  saving_api.save_model(\n"
     ]
    },
    {
     "name": "stdout",
     "output_type": "stream",
     "text": [
      "3/3 [==============================] - 0s 1ms/step\n",
      "cm [[14  9]\n",
      " [24 24]]\n",
      "cm.ravel() [14  9 24 24]\n",
      "done testing 0 of 2.\n",
      "3/3 [==============================] - 0s 1ms/step\n",
      "cm [[ 9  8]\n",
      " [18 36]]\n",
      "cm.ravel() [ 9  8 18 36]\n",
      "done testing 1 of 2.\n"
     ]
    },
    {
     "name": "stderr",
     "output_type": "stream",
     "text": [
      "/home/st/sbhuvaji/1AllP/Individual Patient_All Models/TLandTL/Actual TL/SingleEncoder/WithCV/TL_Packages.py:582: UserWarning: FixedFormatter should only be used together with FixedLocator\n",
      "  axs[i].set_xticklabels([''] + ['0', '1'], fontsize='xx-large')\n",
      "/home/st/sbhuvaji/1AllP/Individual Patient_All Models/TLandTL/Actual TL/SingleEncoder/WithCV/TL_Packages.py:583: UserWarning: FixedFormatter should only be used together with FixedLocator\n",
      "  axs[i].set_yticklabels([''] + ['0', '1'], fontsize='xx-large')\n"
     ]
    },
    {
     "name": "stdout",
     "output_type": "stream",
     "text": [
      "Population Fold 2: Training data size = 3582, Validation data size = 1790\n"
     ]
    },
    {
     "name": "stderr",
     "output_type": "stream",
     "text": [
      "/home/st/sbhuvaji/anaconda3/lib/python3.9/site-packages/keras/src/engine/training.py:3000: UserWarning: You are saving your model as an HDF5 file via `model.save()`. This file format is considered legacy. We recommend using instead the native Keras format, e.g. `model.save('my_model.keras')`.\n",
      "  saving_api.save_model(\n"
     ]
    },
    {
     "name": "stdout",
     "output_type": "stream",
     "text": [
      "56/56 [==============================] - 0s 831us/step\n",
      "cm [[612 289]\n",
      " [230 659]]\n",
      "cm.ravel() [612 289 230 659]\n",
      "Before balancing count  1.0    48\n",
      "0.0    23\n",
      "Name: class, dtype: int64\n",
      "~~~~~~~ value_counts: ~~~~~~~\n",
      "SHOULD BE BALANCED NOW: 1.0    48\n",
      "0.0    48\n",
      "Name: class, dtype: int64\n",
      "Before balancing count  1.0    54\n",
      "0.0    17\n",
      "Name: class, dtype: int64\n",
      "~~~~~~~ value_counts: ~~~~~~~\n",
      "SHOULD BE BALANCED NOW: 1.0    54\n",
      "0.0    54\n",
      "Name: class, dtype: int64\n",
      "done RE-training 0 of 3. "
     ]
    },
    {
     "name": "stderr",
     "output_type": "stream",
     "text": [
      "/home/st/sbhuvaji/anaconda3/lib/python3.9/site-packages/keras/src/engine/training.py:3000: UserWarning: You are saving your model as an HDF5 file via `model.save()`. This file format is considered legacy. We recommend using instead the native Keras format, e.g. `model.save('my_model.keras')`.\n",
      "  saving_api.save_model(\n"
     ]
    },
    {
     "name": "stdout",
     "output_type": "stream",
     "text": [
      "3/3 [==============================] - 0s 1ms/step\n",
      "cm [[ 8  9]\n",
      " [14 40]]\n",
      "cm.ravel() [ 8  9 14 40]\n",
      "done testing 0 of 2.\n",
      "3/3 [==============================] - 0s 1ms/step\n",
      "cm [[16  7]\n",
      " [17 31]]\n",
      "cm.ravel() [16  7 17 31]\n",
      "done testing 1 of 2.\n"
     ]
    },
    {
     "name": "stderr",
     "output_type": "stream",
     "text": [
      "/home/st/sbhuvaji/1AllP/Individual Patient_All Models/TLandTL/Actual TL/SingleEncoder/WithCV/TL_Packages.py:582: UserWarning: FixedFormatter should only be used together with FixedLocator\n",
      "  axs[i].set_xticklabels([''] + ['0', '1'], fontsize='xx-large')\n",
      "/home/st/sbhuvaji/1AllP/Individual Patient_All Models/TLandTL/Actual TL/SingleEncoder/WithCV/TL_Packages.py:583: UserWarning: FixedFormatter should only be used together with FixedLocator\n",
      "  axs[i].set_yticklabels([''] + ['0', '1'], fontsize='xx-large')\n",
      " 77%|███████▋  | 20/26 [55:13<17:07, 171.30s/it]"
     ]
    },
    {
     "name": "stdout",
     "output_type": "stream",
     "text": [
      "Runtime: 23 o' clock and 27 minutes\n",
      "~~~~~~~~~~~ 100 ~~~~~~~~~~~~~~~~~~~ 300 ~~~~~~~~~~~~~~~~~~~ SB-080 ~~~~~~~~~~~~~~~~~~~\n",
      "Before balancing count  1.0    2661\n",
      "0.0    1025\n",
      "Name: class, dtype: int64\n",
      "~~~~~~~ value_counts: ~~~~~~~\n",
      "SHOULD BE BALANCED NOW: 0.0    2661\n",
      "1.0    2661\n",
      "Name: class, dtype: int64\n",
      "X_train = 5322, y_train = 5322\n",
      "Population Fold 0: Training data size = 3548, Validation data size = 1774\n"
     ]
    },
    {
     "name": "stderr",
     "output_type": "stream",
     "text": [
      "/home/st/sbhuvaji/anaconda3/lib/python3.9/site-packages/keras/src/engine/training.py:3000: UserWarning: You are saving your model as an HDF5 file via `model.save()`. This file format is considered legacy. We recommend using instead the native Keras format, e.g. `model.save('my_model.keras')`.\n",
      "  saving_api.save_model(\n"
     ]
    },
    {
     "name": "stdout",
     "output_type": "stream",
     "text": [
      "56/56 [==============================] - 0s 861us/step\n",
      "cm [[585 314]\n",
      " [218 657]]\n",
      "cm.ravel() [585 314 218 657]\n",
      "Before balancing count  1.0    63\n",
      "0.0    27\n",
      "Name: class, dtype: int64\n",
      "~~~~~~~ value_counts: ~~~~~~~\n",
      "SHOULD BE BALANCED NOW: 1.0    63\n",
      "0.0    63\n",
      "Name: class, dtype: int64\n",
      "Before balancing count  1.0    65\n",
      "0.0    26\n",
      "Name: class, dtype: int64\n",
      "~~~~~~~ value_counts: ~~~~~~~\n",
      "SHOULD BE BALANCED NOW: 0.0    65\n",
      "1.0    65\n",
      "Name: class, dtype: int64\n",
      "done RE-training 0 of 3. "
     ]
    },
    {
     "name": "stderr",
     "output_type": "stream",
     "text": [
      "/home/st/sbhuvaji/anaconda3/lib/python3.9/site-packages/keras/src/engine/training.py:3000: UserWarning: You are saving your model as an HDF5 file via `model.save()`. This file format is considered legacy. We recommend using instead the native Keras format, e.g. `model.save('my_model.keras')`.\n",
      "  saving_api.save_model(\n"
     ]
    },
    {
     "name": "stdout",
     "output_type": "stream",
     "text": [
      "3/3 [==============================] - 0s 2ms/step\n",
      "cm [[14 12]\n",
      " [24 41]]\n",
      "cm.ravel() [14 12 24 41]\n",
      "done testing 0 of 2.\n",
      "3/3 [==============================] - 0s 2ms/step\n",
      "cm [[19  8]\n",
      " [32 31]]\n",
      "cm.ravel() [19  8 32 31]\n",
      "done testing 1 of 2.\n"
     ]
    },
    {
     "name": "stderr",
     "output_type": "stream",
     "text": [
      "/home/st/sbhuvaji/1AllP/Individual Patient_All Models/TLandTL/Actual TL/SingleEncoder/WithCV/TL_Packages.py:582: UserWarning: FixedFormatter should only be used together with FixedLocator\n",
      "  axs[i].set_xticklabels([''] + ['0', '1'], fontsize='xx-large')\n",
      "/home/st/sbhuvaji/1AllP/Individual Patient_All Models/TLandTL/Actual TL/SingleEncoder/WithCV/TL_Packages.py:583: UserWarning: FixedFormatter should only be used together with FixedLocator\n",
      "  axs[i].set_yticklabels([''] + ['0', '1'], fontsize='xx-large')\n"
     ]
    },
    {
     "name": "stdout",
     "output_type": "stream",
     "text": [
      "Population Fold 1: Training data size = 3548, Validation data size = 1774\n"
     ]
    },
    {
     "name": "stderr",
     "output_type": "stream",
     "text": [
      "/home/st/sbhuvaji/anaconda3/lib/python3.9/site-packages/keras/src/engine/training.py:3000: UserWarning: You are saving your model as an HDF5 file via `model.save()`. This file format is considered legacy. We recommend using instead the native Keras format, e.g. `model.save('my_model.keras')`.\n",
      "  saving_api.save_model(\n"
     ]
    },
    {
     "name": "stdout",
     "output_type": "stream",
     "text": [
      "56/56 [==============================] - 0s 895us/step\n",
      "cm [[738 176]\n",
      " [310 550]]\n",
      "cm.ravel() [738 176 310 550]\n",
      "Before balancing count  1.0    65\n",
      "0.0    25\n",
      "Name: class, dtype: int64\n",
      "~~~~~~~ value_counts: ~~~~~~~\n",
      "SHOULD BE BALANCED NOW: 0.0    65\n",
      "1.0    65\n",
      "Name: class, dtype: int64\n",
      "Before balancing count  1.0    63\n",
      "0.0    28\n",
      "Name: class, dtype: int64\n",
      "~~~~~~~ value_counts: ~~~~~~~\n",
      "SHOULD BE BALANCED NOW: 1.0    63\n",
      "0.0    63\n",
      "Name: class, dtype: int64\n",
      "done RE-training 0 of 3. "
     ]
    },
    {
     "name": "stderr",
     "output_type": "stream",
     "text": [
      "/home/st/sbhuvaji/anaconda3/lib/python3.9/site-packages/keras/src/engine/training.py:3000: UserWarning: You are saving your model as an HDF5 file via `model.save()`. This file format is considered legacy. We recommend using instead the native Keras format, e.g. `model.save('my_model.keras')`.\n",
      "  saving_api.save_model(\n"
     ]
    },
    {
     "name": "stdout",
     "output_type": "stream",
     "text": [
      "3/3 [==============================] - 0s 1ms/step\n",
      "cm [[ 3 25]\n",
      " [ 4 59]]\n",
      "cm.ravel() [ 3 25  4 59]\n",
      "done testing 0 of 2.\n",
      "3/3 [==============================] - 0s 1ms/step\n",
      "cm [[11 14]\n",
      " [19 46]]\n",
      "cm.ravel() [11 14 19 46]\n",
      "done testing 1 of 2.\n"
     ]
    },
    {
     "name": "stderr",
     "output_type": "stream",
     "text": [
      "/home/st/sbhuvaji/1AllP/Individual Patient_All Models/TLandTL/Actual TL/SingleEncoder/WithCV/TL_Packages.py:582: UserWarning: FixedFormatter should only be used together with FixedLocator\n",
      "  axs[i].set_xticklabels([''] + ['0', '1'], fontsize='xx-large')\n",
      "/home/st/sbhuvaji/1AllP/Individual Patient_All Models/TLandTL/Actual TL/SingleEncoder/WithCV/TL_Packages.py:583: UserWarning: FixedFormatter should only be used together with FixedLocator\n",
      "  axs[i].set_yticklabels([''] + ['0', '1'], fontsize='xx-large')\n"
     ]
    },
    {
     "name": "stdout",
     "output_type": "stream",
     "text": [
      "Population Fold 2: Training data size = 3548, Validation data size = 1774\n"
     ]
    },
    {
     "name": "stderr",
     "output_type": "stream",
     "text": [
      "/home/st/sbhuvaji/anaconda3/lib/python3.9/site-packages/keras/src/engine/training.py:3000: UserWarning: You are saving your model as an HDF5 file via `model.save()`. This file format is considered legacy. We recommend using instead the native Keras format, e.g. `model.save('my_model.keras')`.\n",
      "  saving_api.save_model(\n"
     ]
    },
    {
     "name": "stdout",
     "output_type": "stream",
     "text": [
      "56/56 [==============================] - 0s 869us/step\n",
      "cm [[621 227]\n",
      " [258 668]]\n",
      "cm.ravel() [621 227 258 668]\n",
      "Before balancing count  1.0    59\n",
      "0.0    31\n",
      "Name: class, dtype: int64\n",
      "~~~~~~~ value_counts: ~~~~~~~\n",
      "SHOULD BE BALANCED NOW: 0.0    59\n",
      "1.0    59\n",
      "Name: class, dtype: int64\n",
      "Before balancing count  1.0    69\n",
      "0.0    22\n",
      "Name: class, dtype: int64\n",
      "~~~~~~~ value_counts: ~~~~~~~\n",
      "SHOULD BE BALANCED NOW: 1.0    69\n",
      "0.0    69\n",
      "Name: class, dtype: int64\n",
      "done RE-training 0 of 3. "
     ]
    },
    {
     "name": "stderr",
     "output_type": "stream",
     "text": [
      "/home/st/sbhuvaji/anaconda3/lib/python3.9/site-packages/keras/src/engine/training.py:3000: UserWarning: You are saving your model as an HDF5 file via `model.save()`. This file format is considered legacy. We recommend using instead the native Keras format, e.g. `model.save('my_model.keras')`.\n",
      "  saving_api.save_model(\n"
     ]
    },
    {
     "name": "stdout",
     "output_type": "stream",
     "text": [
      "3/3 [==============================] - 0s 2ms/step\n",
      "cm [[12 10]\n",
      " [33 36]]\n",
      "cm.ravel() [12 10 33 36]\n",
      "done testing 0 of 2.\n",
      "3/3 [==============================] - 0s 1ms/step\n",
      "cm [[17 14]\n",
      " [23 36]]\n",
      "cm.ravel() [17 14 23 36]\n",
      "done testing 1 of 2.\n"
     ]
    },
    {
     "name": "stderr",
     "output_type": "stream",
     "text": [
      "/home/st/sbhuvaji/1AllP/Individual Patient_All Models/TLandTL/Actual TL/SingleEncoder/WithCV/TL_Packages.py:582: UserWarning: FixedFormatter should only be used together with FixedLocator\n",
      "  axs[i].set_xticklabels([''] + ['0', '1'], fontsize='xx-large')\n",
      "/home/st/sbhuvaji/1AllP/Individual Patient_All Models/TLandTL/Actual TL/SingleEncoder/WithCV/TL_Packages.py:583: UserWarning: FixedFormatter should only be used together with FixedLocator\n",
      "  axs[i].set_yticklabels([''] + ['0', '1'], fontsize='xx-large')\n",
      " 81%|████████  | 21/26 [58:11<14:26, 173.35s/it]"
     ]
    },
    {
     "name": "stdout",
     "output_type": "stream",
     "text": [
      "Runtime: 23 o' clock and 30 minutes\n",
      "~~~~~~~~~~~ 100 ~~~~~~~~~~~~~~~~~~~ 300 ~~~~~~~~~~~~~~~~~~~ SB-082 ~~~~~~~~~~~~~~~~~~~\n",
      "Before balancing count  1.0    2697\n",
      "0.0    1031\n",
      "Name: class, dtype: int64\n",
      "~~~~~~~ value_counts: ~~~~~~~\n",
      "SHOULD BE BALANCED NOW: 1.0    2697\n",
      "0.0    2697\n",
      "Name: class, dtype: int64\n",
      "X_train = 5394, y_train = 5394\n",
      "Population Fold 0: Training data size = 3596, Validation data size = 1798\n"
     ]
    },
    {
     "name": "stderr",
     "output_type": "stream",
     "text": [
      "/home/st/sbhuvaji/anaconda3/lib/python3.9/site-packages/keras/src/engine/training.py:3000: UserWarning: You are saving your model as an HDF5 file via `model.save()`. This file format is considered legacy. We recommend using instead the native Keras format, e.g. `model.save('my_model.keras')`.\n",
      "  saving_api.save_model(\n"
     ]
    },
    {
     "name": "stdout",
     "output_type": "stream",
     "text": [
      "57/57 [==============================] - 0s 830us/step\n",
      "cm [[565 328]\n",
      " [203 702]]\n",
      "cm.ravel() [565 328 203 702]\n",
      "Before balancing count  1.0    39\n",
      "0.0    29\n",
      "Name: class, dtype: int64\n",
      "~~~~~~~ value_counts: ~~~~~~~\n",
      "SHOULD BE BALANCED NOW: 0.0    39\n",
      "1.0    39\n",
      "Name: class, dtype: int64\n",
      "Before balancing count  1.0    46\n",
      "0.0    23\n",
      "Name: class, dtype: int64\n",
      "~~~~~~~ value_counts: ~~~~~~~\n",
      "SHOULD BE BALANCED NOW: 0.0    46\n",
      "1.0    46\n",
      "Name: class, dtype: int64\n",
      "done RE-training 0 of 3. "
     ]
    },
    {
     "name": "stderr",
     "output_type": "stream",
     "text": [
      "/home/st/sbhuvaji/anaconda3/lib/python3.9/site-packages/keras/src/engine/training.py:3000: UserWarning: You are saving your model as an HDF5 file via `model.save()`. This file format is considered legacy. We recommend using instead the native Keras format, e.g. `model.save('my_model.keras')`.\n",
      "  saving_api.save_model(\n"
     ]
    },
    {
     "name": "stdout",
     "output_type": "stream",
     "text": [
      "3/3 [==============================] - 0s 1ms/step\n",
      "cm [[19  4]\n",
      " [28 18]]\n",
      "cm.ravel() [19  4 28 18]\n",
      "done testing 0 of 2.\n",
      "3/3 [==============================] - 0s 1ms/step\n",
      "cm [[ 9 20]\n",
      " [12 27]]\n",
      "cm.ravel() [ 9 20 12 27]\n",
      "done testing 1 of 2.\n"
     ]
    },
    {
     "name": "stderr",
     "output_type": "stream",
     "text": [
      "/home/st/sbhuvaji/1AllP/Individual Patient_All Models/TLandTL/Actual TL/SingleEncoder/WithCV/TL_Packages.py:582: UserWarning: FixedFormatter should only be used together with FixedLocator\n",
      "  axs[i].set_xticklabels([''] + ['0', '1'], fontsize='xx-large')\n",
      "/home/st/sbhuvaji/1AllP/Individual Patient_All Models/TLandTL/Actual TL/SingleEncoder/WithCV/TL_Packages.py:583: UserWarning: FixedFormatter should only be used together with FixedLocator\n",
      "  axs[i].set_yticklabels([''] + ['0', '1'], fontsize='xx-large')\n"
     ]
    },
    {
     "name": "stdout",
     "output_type": "stream",
     "text": [
      "Population Fold 1: Training data size = 3596, Validation data size = 1798\n"
     ]
    },
    {
     "name": "stderr",
     "output_type": "stream",
     "text": [
      "/home/st/sbhuvaji/anaconda3/lib/python3.9/site-packages/keras/src/engine/training.py:3000: UserWarning: You are saving your model as an HDF5 file via `model.save()`. This file format is considered legacy. We recommend using instead the native Keras format, e.g. `model.save('my_model.keras')`.\n",
      "  saving_api.save_model(\n"
     ]
    },
    {
     "name": "stdout",
     "output_type": "stream",
     "text": [
      "57/57 [==============================] - 0s 832us/step\n",
      "cm [[693 200]\n",
      " [328 577]]\n",
      "cm.ravel() [693 200 328 577]\n",
      "Before balancing count  1.0    39\n",
      "0.0    29\n",
      "Name: class, dtype: int64\n",
      "~~~~~~~ value_counts: ~~~~~~~\n",
      "SHOULD BE BALANCED NOW: 0.0    39\n",
      "1.0    39\n",
      "Name: class, dtype: int64\n",
      "Before balancing count  1.0    46\n",
      "0.0    23\n",
      "Name: class, dtype: int64\n",
      "~~~~~~~ value_counts: ~~~~~~~\n",
      "SHOULD BE BALANCED NOW: 0.0    46\n",
      "1.0    46\n",
      "Name: class, dtype: int64\n",
      "done RE-training 0 of 3. "
     ]
    },
    {
     "name": "stderr",
     "output_type": "stream",
     "text": [
      "/home/st/sbhuvaji/anaconda3/lib/python3.9/site-packages/keras/src/engine/training.py:3000: UserWarning: You are saving your model as an HDF5 file via `model.save()`. This file format is considered legacy. We recommend using instead the native Keras format, e.g. `model.save('my_model.keras')`.\n",
      "  saving_api.save_model(\n"
     ]
    },
    {
     "name": "stdout",
     "output_type": "stream",
     "text": [
      "3/3 [==============================] - 0s 1ms/step\n",
      "cm [[14  9]\n",
      " [13 33]]\n",
      "cm.ravel() [14  9 13 33]\n",
      "done testing 0 of 2.\n",
      "3/3 [==============================] - 0s 1ms/step\n",
      "cm [[14 15]\n",
      " [11 28]]\n",
      "cm.ravel() [14 15 11 28]\n",
      "done testing 1 of 2.\n"
     ]
    },
    {
     "name": "stderr",
     "output_type": "stream",
     "text": [
      "/home/st/sbhuvaji/1AllP/Individual Patient_All Models/TLandTL/Actual TL/SingleEncoder/WithCV/TL_Packages.py:582: UserWarning: FixedFormatter should only be used together with FixedLocator\n",
      "  axs[i].set_xticklabels([''] + ['0', '1'], fontsize='xx-large')\n",
      "/home/st/sbhuvaji/1AllP/Individual Patient_All Models/TLandTL/Actual TL/SingleEncoder/WithCV/TL_Packages.py:583: UserWarning: FixedFormatter should only be used together with FixedLocator\n",
      "  axs[i].set_yticklabels([''] + ['0', '1'], fontsize='xx-large')\n"
     ]
    },
    {
     "name": "stdout",
     "output_type": "stream",
     "text": [
      "Population Fold 2: Training data size = 3596, Validation data size = 1798\n"
     ]
    },
    {
     "name": "stderr",
     "output_type": "stream",
     "text": [
      "/home/st/sbhuvaji/anaconda3/lib/python3.9/site-packages/keras/src/engine/training.py:3000: UserWarning: You are saving your model as an HDF5 file via `model.save()`. This file format is considered legacy. We recommend using instead the native Keras format, e.g. `model.save('my_model.keras')`.\n",
      "  saving_api.save_model(\n"
     ]
    },
    {
     "name": "stdout",
     "output_type": "stream",
     "text": [
      "57/57 [==============================] - 0s 831us/step\n",
      "cm [[658 253]\n",
      " [276 611]]\n",
      "cm.ravel() [658 253 276 611]\n",
      "Before balancing count  1.0    42\n",
      "0.0    26\n",
      "Name: class, dtype: int64\n",
      "~~~~~~~ value_counts: ~~~~~~~\n",
      "SHOULD BE BALANCED NOW: 1.0    42\n",
      "0.0    42\n",
      "Name: class, dtype: int64\n",
      "Before balancing count  1.0    43\n",
      "0.0    26\n",
      "Name: class, dtype: int64\n",
      "~~~~~~~ value_counts: ~~~~~~~\n",
      "SHOULD BE BALANCED NOW: 1.0    43\n",
      "0.0    43\n",
      "Name: class, dtype: int64\n",
      "done RE-training 0 of 3. "
     ]
    },
    {
     "name": "stderr",
     "output_type": "stream",
     "text": [
      "/home/st/sbhuvaji/anaconda3/lib/python3.9/site-packages/keras/src/engine/training.py:3000: UserWarning: You are saving your model as an HDF5 file via `model.save()`. This file format is considered legacy. We recommend using instead the native Keras format, e.g. `model.save('my_model.keras')`.\n",
      "  saving_api.save_model(\n"
     ]
    },
    {
     "name": "stdout",
     "output_type": "stream",
     "text": [
      "3/3 [==============================] - 0s 1ms/step\n",
      "cm [[15 11]\n",
      " [15 28]]\n",
      "cm.ravel() [15 11 15 28]\n",
      "done testing 0 of 2.\n",
      "3/3 [==============================] - 0s 1ms/step\n",
      "cm [[13 13]\n",
      " [ 7 35]]\n",
      "cm.ravel() [13 13  7 35]\n",
      "done testing 1 of 2.\n"
     ]
    },
    {
     "name": "stderr",
     "output_type": "stream",
     "text": [
      "/home/st/sbhuvaji/1AllP/Individual Patient_All Models/TLandTL/Actual TL/SingleEncoder/WithCV/TL_Packages.py:582: UserWarning: FixedFormatter should only be used together with FixedLocator\n",
      "  axs[i].set_xticklabels([''] + ['0', '1'], fontsize='xx-large')\n",
      "/home/st/sbhuvaji/1AllP/Individual Patient_All Models/TLandTL/Actual TL/SingleEncoder/WithCV/TL_Packages.py:583: UserWarning: FixedFormatter should only be used together with FixedLocator\n",
      "  axs[i].set_yticklabels([''] + ['0', '1'], fontsize='xx-large')\n",
      " 88%|████████▊ | 23/26 [1:01:06<06:41, 133.86s/it]"
     ]
    },
    {
     "name": "stdout",
     "output_type": "stream",
     "text": [
      "Runtime: 23 o' clock and 33 minutes\n",
      "~~~~~~~~~~~ 100 ~~~~~~~~~~~~~~~~~~~ 300 ~~~~~~~~~~~~~~~~~~~ SB-083 ~~~~~~~~~~~~~~~~~~~\n",
      "Before balancing count  1.0    2641\n",
      "0.0    1022\n",
      "Name: class, dtype: int64\n",
      "~~~~~~~ value_counts: ~~~~~~~\n",
      "SHOULD BE BALANCED NOW: 0.0    2641\n",
      "1.0    2641\n",
      "Name: class, dtype: int64\n",
      "X_train = 5282, y_train = 5282\n",
      "Population Fold 0: Training data size = 3521, Validation data size = 1761\n"
     ]
    },
    {
     "name": "stderr",
     "output_type": "stream",
     "text": [
      "/home/st/sbhuvaji/anaconda3/lib/python3.9/site-packages/keras/src/engine/training.py:3000: UserWarning: You are saving your model as an HDF5 file via `model.save()`. This file format is considered legacy. We recommend using instead the native Keras format, e.g. `model.save('my_model.keras')`.\n",
      "  saving_api.save_model(\n"
     ]
    },
    {
     "name": "stdout",
     "output_type": "stream",
     "text": [
      "56/56 [==============================] - 0s 859us/step\n",
      "cm [[519 336]\n",
      " [196 710]]\n",
      "cm.ravel() [519 336 196 710]\n",
      "Before balancing count  1.0    68\n",
      "0.0    35\n",
      "Name: class, dtype: int64\n",
      "~~~~~~~ value_counts: ~~~~~~~\n",
      "SHOULD BE BALANCED NOW: 1.0    68\n",
      "0.0    68\n",
      "Name: class, dtype: int64\n",
      "Before balancing count  1.0    76\n",
      "0.0    27\n",
      "Name: class, dtype: int64\n",
      "~~~~~~~ value_counts: ~~~~~~~\n",
      "SHOULD BE BALANCED NOW: 0.0    76\n",
      "1.0    76\n",
      "Name: class, dtype: int64\n",
      "done RE-training 0 of 3. "
     ]
    },
    {
     "name": "stderr",
     "output_type": "stream",
     "text": [
      "/home/st/sbhuvaji/anaconda3/lib/python3.9/site-packages/keras/src/engine/training.py:3000: UserWarning: You are saving your model as an HDF5 file via `model.save()`. This file format is considered legacy. We recommend using instead the native Keras format, e.g. `model.save('my_model.keras')`.\n",
      "  saving_api.save_model(\n"
     ]
    },
    {
     "name": "stdout",
     "output_type": "stream",
     "text": [
      "4/4 [==============================] - 0s 1ms/step\n",
      "cm [[15 12]\n",
      " [37 39]]\n",
      "cm.ravel() [15 12 37 39]\n",
      "done testing 0 of 2.\n",
      "4/4 [==============================] - 0s 1ms/step\n",
      "cm [[10 25]\n",
      " [22 46]]\n",
      "cm.ravel() [10 25 22 46]\n",
      "done testing 1 of 2.\n"
     ]
    },
    {
     "name": "stderr",
     "output_type": "stream",
     "text": [
      "/home/st/sbhuvaji/1AllP/Individual Patient_All Models/TLandTL/Actual TL/SingleEncoder/WithCV/TL_Packages.py:582: UserWarning: FixedFormatter should only be used together with FixedLocator\n",
      "  axs[i].set_xticklabels([''] + ['0', '1'], fontsize='xx-large')\n",
      "/home/st/sbhuvaji/1AllP/Individual Patient_All Models/TLandTL/Actual TL/SingleEncoder/WithCV/TL_Packages.py:583: UserWarning: FixedFormatter should only be used together with FixedLocator\n",
      "  axs[i].set_yticklabels([''] + ['0', '1'], fontsize='xx-large')\n"
     ]
    },
    {
     "name": "stdout",
     "output_type": "stream",
     "text": [
      "Population Fold 1: Training data size = 3521, Validation data size = 1761\n"
     ]
    },
    {
     "name": "stderr",
     "output_type": "stream",
     "text": [
      "/home/st/sbhuvaji/anaconda3/lib/python3.9/site-packages/keras/src/engine/training.py:3000: UserWarning: You are saving your model as an HDF5 file via `model.save()`. This file format is considered legacy. We recommend using instead the native Keras format, e.g. `model.save('my_model.keras')`.\n",
      "  saving_api.save_model(\n"
     ]
    },
    {
     "name": "stdout",
     "output_type": "stream",
     "text": [
      "56/56 [==============================] - 0s 881us/step\n",
      "cm [[659 246]\n",
      " [221 635]]\n",
      "cm.ravel() [659 246 221 635]\n",
      "Before balancing count  1.0    72\n",
      "0.0    31\n",
      "Name: class, dtype: int64\n",
      "~~~~~~~ value_counts: ~~~~~~~\n",
      "SHOULD BE BALANCED NOW: 1.0    72\n",
      "0.0    72\n",
      "Name: class, dtype: int64\n",
      "Before balancing count  1.0    72\n",
      "0.0    31\n",
      "Name: class, dtype: int64\n",
      "~~~~~~~ value_counts: ~~~~~~~\n",
      "SHOULD BE BALANCED NOW: 1.0    72\n",
      "0.0    72\n",
      "Name: class, dtype: int64\n",
      "done RE-training 0 of 3. "
     ]
    },
    {
     "name": "stderr",
     "output_type": "stream",
     "text": [
      "/home/st/sbhuvaji/anaconda3/lib/python3.9/site-packages/keras/src/engine/training.py:3000: UserWarning: You are saving your model as an HDF5 file via `model.save()`. This file format is considered legacy. We recommend using instead the native Keras format, e.g. `model.save('my_model.keras')`.\n",
      "  saving_api.save_model(\n"
     ]
    },
    {
     "name": "stdout",
     "output_type": "stream",
     "text": [
      "4/4 [==============================] - 0s 1ms/step\n",
      "cm [[12 19]\n",
      " [21 51]]\n",
      "cm.ravel() [12 19 21 51]\n",
      "done testing 0 of 2.\n",
      "4/4 [==============================] - 0s 1ms/step\n",
      "cm [[15 16]\n",
      " [27 45]]\n",
      "cm.ravel() [15 16 27 45]\n",
      "done testing 1 of 2.\n"
     ]
    },
    {
     "name": "stderr",
     "output_type": "stream",
     "text": [
      "/home/st/sbhuvaji/1AllP/Individual Patient_All Models/TLandTL/Actual TL/SingleEncoder/WithCV/TL_Packages.py:582: UserWarning: FixedFormatter should only be used together with FixedLocator\n",
      "  axs[i].set_xticklabels([''] + ['0', '1'], fontsize='xx-large')\n",
      "/home/st/sbhuvaji/1AllP/Individual Patient_All Models/TLandTL/Actual TL/SingleEncoder/WithCV/TL_Packages.py:583: UserWarning: FixedFormatter should only be used together with FixedLocator\n",
      "  axs[i].set_yticklabels([''] + ['0', '1'], fontsize='xx-large')\n"
     ]
    },
    {
     "name": "stdout",
     "output_type": "stream",
     "text": [
      "Population Fold 2: Training data size = 3522, Validation data size = 1760\n"
     ]
    },
    {
     "name": "stderr",
     "output_type": "stream",
     "text": [
      "/home/st/sbhuvaji/anaconda3/lib/python3.9/site-packages/keras/src/engine/training.py:3000: UserWarning: You are saving your model as an HDF5 file via `model.save()`. This file format is considered legacy. We recommend using instead the native Keras format, e.g. `model.save('my_model.keras')`.\n",
      "  saving_api.save_model(\n"
     ]
    },
    {
     "name": "stdout",
     "output_type": "stream",
     "text": [
      "55/55 [==============================] - 0s 840us/step\n",
      "cm [[705 176]\n",
      " [312 567]]\n",
      "cm.ravel() [705 176 312 567]\n",
      "Before balancing count  1.0    71\n",
      "0.0    32\n",
      "Name: class, dtype: int64\n",
      "~~~~~~~ value_counts: ~~~~~~~\n",
      "SHOULD BE BALANCED NOW: 1.0    71\n",
      "0.0    71\n",
      "Name: class, dtype: int64\n",
      "Before balancing count  1.0    73\n",
      "0.0    30\n",
      "Name: class, dtype: int64\n",
      "~~~~~~~ value_counts: ~~~~~~~\n",
      "SHOULD BE BALANCED NOW: 0.0    73\n",
      "1.0    73\n",
      "Name: class, dtype: int64\n",
      "done RE-training 0 of 3. "
     ]
    },
    {
     "name": "stderr",
     "output_type": "stream",
     "text": [
      "/home/st/sbhuvaji/anaconda3/lib/python3.9/site-packages/keras/src/engine/training.py:3000: UserWarning: You are saving your model as an HDF5 file via `model.save()`. This file format is considered legacy. We recommend using instead the native Keras format, e.g. `model.save('my_model.keras')`.\n",
      "  saving_api.save_model(\n"
     ]
    },
    {
     "name": "stdout",
     "output_type": "stream",
     "text": [
      "4/4 [==============================] - 0s 1ms/step\n",
      "cm [[10 20]\n",
      " [22 51]]\n",
      "cm.ravel() [10 20 22 51]\n",
      "done testing 0 of 2.\n",
      "4/4 [==============================] - 0s 1ms/step\n",
      "cm [[24  8]\n",
      " [41 30]]\n",
      "cm.ravel() [24  8 41 30]\n",
      "done testing 1 of 2.\n"
     ]
    },
    {
     "name": "stderr",
     "output_type": "stream",
     "text": [
      "/home/st/sbhuvaji/1AllP/Individual Patient_All Models/TLandTL/Actual TL/SingleEncoder/WithCV/TL_Packages.py:582: UserWarning: FixedFormatter should only be used together with FixedLocator\n",
      "  axs[i].set_xticklabels([''] + ['0', '1'], fontsize='xx-large')\n",
      "/home/st/sbhuvaji/1AllP/Individual Patient_All Models/TLandTL/Actual TL/SingleEncoder/WithCV/TL_Packages.py:583: UserWarning: FixedFormatter should only be used together with FixedLocator\n",
      "  axs[i].set_yticklabels([''] + ['0', '1'], fontsize='xx-large')\n",
      " 92%|█████████▏| 24/26 [1:03:56<04:45, 142.82s/it]"
     ]
    },
    {
     "name": "stdout",
     "output_type": "stream",
     "text": [
      "Runtime: 23 o' clock and 36 minutes\n",
      "~~~~~~~~~~~ 100 ~~~~~~~~~~~~~~~~~~~ 300 ~~~~~~~~~~~~~~~~~~~ SB-112 ~~~~~~~~~~~~~~~~~~~\n",
      "Before balancing count  1.0    2660\n",
      "0.0    1027\n",
      "Name: class, dtype: int64\n",
      "~~~~~~~ value_counts: ~~~~~~~\n",
      "SHOULD BE BALANCED NOW: 0.0    2660\n",
      "1.0    2660\n",
      "Name: class, dtype: int64\n",
      "X_train = 5320, y_train = 5320\n",
      "Population Fold 0: Training data size = 3546, Validation data size = 1774\n"
     ]
    },
    {
     "name": "stderr",
     "output_type": "stream",
     "text": [
      "/home/st/sbhuvaji/anaconda3/lib/python3.9/site-packages/keras/src/engine/training.py:3000: UserWarning: You are saving your model as an HDF5 file via `model.save()`. This file format is considered legacy. We recommend using instead the native Keras format, e.g. `model.save('my_model.keras')`.\n",
      "  saving_api.save_model(\n"
     ]
    },
    {
     "name": "stdout",
     "output_type": "stream",
     "text": [
      "56/56 [==============================] - 0s 894us/step\n",
      "cm [[612 261]\n",
      " [261 640]]\n",
      "cm.ravel() [612 261 261 640]\n",
      "Before balancing count  1.0    72\n",
      "0.0    18\n",
      "Name: class, dtype: int64\n",
      "~~~~~~~ value_counts: ~~~~~~~\n",
      "SHOULD BE BALANCED NOW: 1.0    72\n",
      "0.0    72\n",
      "Name: class, dtype: int64\n",
      "Before balancing count  1.0    69\n",
      "0.0    21\n",
      "Name: class, dtype: int64\n",
      "~~~~~~~ value_counts: ~~~~~~~\n",
      "SHOULD BE BALANCED NOW: 1.0    69\n",
      "0.0    69\n",
      "Name: class, dtype: int64\n",
      "done RE-training 0 of 3. "
     ]
    },
    {
     "name": "stderr",
     "output_type": "stream",
     "text": [
      "/home/st/sbhuvaji/anaconda3/lib/python3.9/site-packages/keras/src/engine/training.py:3000: UserWarning: You are saving your model as an HDF5 file via `model.save()`. This file format is considered legacy. We recommend using instead the native Keras format, e.g. `model.save('my_model.keras')`.\n",
      "  saving_api.save_model(\n"
     ]
    },
    {
     "name": "stdout",
     "output_type": "stream",
     "text": [
      "3/3 [==============================] - 0s 1ms/step\n",
      "cm [[13  8]\n",
      " [33 36]]\n",
      "cm.ravel() [13  8 33 36]\n",
      "done testing 0 of 2.\n",
      "3/3 [==============================] - 0s 2ms/step\n",
      "cm [[ 7 11]\n",
      " [12 60]]\n",
      "cm.ravel() [ 7 11 12 60]\n",
      "done testing 1 of 2.\n"
     ]
    },
    {
     "name": "stderr",
     "output_type": "stream",
     "text": [
      "/home/st/sbhuvaji/1AllP/Individual Patient_All Models/TLandTL/Actual TL/SingleEncoder/WithCV/TL_Packages.py:582: UserWarning: FixedFormatter should only be used together with FixedLocator\n",
      "  axs[i].set_xticklabels([''] + ['0', '1'], fontsize='xx-large')\n",
      "/home/st/sbhuvaji/1AllP/Individual Patient_All Models/TLandTL/Actual TL/SingleEncoder/WithCV/TL_Packages.py:583: UserWarning: FixedFormatter should only be used together with FixedLocator\n",
      "  axs[i].set_yticklabels([''] + ['0', '1'], fontsize='xx-large')\n"
     ]
    },
    {
     "name": "stdout",
     "output_type": "stream",
     "text": [
      "Population Fold 1: Training data size = 3547, Validation data size = 1773\n"
     ]
    },
    {
     "name": "stderr",
     "output_type": "stream",
     "text": [
      "/home/st/sbhuvaji/anaconda3/lib/python3.9/site-packages/keras/src/engine/training.py:3000: UserWarning: You are saving your model as an HDF5 file via `model.save()`. This file format is considered legacy. We recommend using instead the native Keras format, e.g. `model.save('my_model.keras')`.\n",
      "  saving_api.save_model(\n"
     ]
    },
    {
     "name": "stdout",
     "output_type": "stream",
     "text": [
      "56/56 [==============================] - 0s 879us/step\n",
      "cm [[672 205]\n",
      " [296 600]]\n",
      "cm.ravel() [672 205 296 600]\n",
      "Before balancing count  1.0    68\n",
      "0.0    22\n",
      "Name: class, dtype: int64\n",
      "~~~~~~~ value_counts: ~~~~~~~\n",
      "SHOULD BE BALANCED NOW: 1.0    68\n",
      "0.0    68\n",
      "Name: class, dtype: int64\n",
      "Before balancing count  1.0    73\n",
      "0.0    17\n",
      "Name: class, dtype: int64\n",
      "~~~~~~~ value_counts: ~~~~~~~\n",
      "SHOULD BE BALANCED NOW: 0.0    73\n",
      "1.0    73\n",
      "Name: class, dtype: int64\n",
      "done RE-training 0 of 3. "
     ]
    },
    {
     "name": "stderr",
     "output_type": "stream",
     "text": [
      "/home/st/sbhuvaji/anaconda3/lib/python3.9/site-packages/keras/src/engine/training.py:3000: UserWarning: You are saving your model as an HDF5 file via `model.save()`. This file format is considered legacy. We recommend using instead the native Keras format, e.g. `model.save('my_model.keras')`.\n",
      "  saving_api.save_model(\n"
     ]
    },
    {
     "name": "stdout",
     "output_type": "stream",
     "text": [
      "3/3 [==============================] - 0s 1ms/step\n",
      "cm [[ 6 11]\n",
      " [35 38]]\n",
      "cm.ravel() [ 6 11 35 38]\n",
      "done testing 0 of 2.\n",
      "3/3 [==============================] - 0s 2ms/step\n",
      "cm [[ 7 15]\n",
      " [29 39]]\n",
      "cm.ravel() [ 7 15 29 39]\n",
      "done testing 1 of 2.\n"
     ]
    },
    {
     "name": "stderr",
     "output_type": "stream",
     "text": [
      "/home/st/sbhuvaji/1AllP/Individual Patient_All Models/TLandTL/Actual TL/SingleEncoder/WithCV/TL_Packages.py:582: UserWarning: FixedFormatter should only be used together with FixedLocator\n",
      "  axs[i].set_xticklabels([''] + ['0', '1'], fontsize='xx-large')\n",
      "/home/st/sbhuvaji/1AllP/Individual Patient_All Models/TLandTL/Actual TL/SingleEncoder/WithCV/TL_Packages.py:583: UserWarning: FixedFormatter should only be used together with FixedLocator\n",
      "  axs[i].set_yticklabels([''] + ['0', '1'], fontsize='xx-large')\n"
     ]
    },
    {
     "name": "stdout",
     "output_type": "stream",
     "text": [
      "Population Fold 2: Training data size = 3547, Validation data size = 1773\n"
     ]
    },
    {
     "name": "stderr",
     "output_type": "stream",
     "text": [
      "/home/st/sbhuvaji/anaconda3/lib/python3.9/site-packages/keras/src/engine/training.py:3000: UserWarning: You are saving your model as an HDF5 file via `model.save()`. This file format is considered legacy. We recommend using instead the native Keras format, e.g. `model.save('my_model.keras')`.\n",
      "  saving_api.save_model(\n"
     ]
    },
    {
     "name": "stdout",
     "output_type": "stream",
     "text": [
      "56/56 [==============================] - 0s 902us/step\n",
      "cm [[718 192]\n",
      " [297 566]]\n",
      "cm.ravel() [718 192 297 566]\n",
      "Before balancing count  1.0    71\n",
      "0.0    19\n",
      "Name: class, dtype: int64\n",
      "~~~~~~~ value_counts: ~~~~~~~\n",
      "SHOULD BE BALANCED NOW: 1.0    71\n",
      "0.0    71\n",
      "Name: class, dtype: int64\n",
      "Before balancing count  1.0    70\n",
      "0.0    20\n",
      "Name: class, dtype: int64\n",
      "~~~~~~~ value_counts: ~~~~~~~\n",
      "SHOULD BE BALANCED NOW: 1.0    70\n",
      "0.0    70\n",
      "Name: class, dtype: int64\n",
      "done RE-training 0 of 3. "
     ]
    },
    {
     "name": "stderr",
     "output_type": "stream",
     "text": [
      "/home/st/sbhuvaji/anaconda3/lib/python3.9/site-packages/keras/src/engine/training.py:3000: UserWarning: You are saving your model as an HDF5 file via `model.save()`. This file format is considered legacy. We recommend using instead the native Keras format, e.g. `model.save('my_model.keras')`.\n",
      "  saving_api.save_model(\n"
     ]
    },
    {
     "name": "stdout",
     "output_type": "stream",
     "text": [
      "3/3 [==============================] - 0s 1ms/step\n",
      "cm [[ 6 14]\n",
      " [30 40]]\n",
      "cm.ravel() [ 6 14 30 40]\n",
      "done testing 0 of 2.\n",
      "3/3 [==============================] - 0s 1ms/step\n",
      "cm [[ 5 14]\n",
      " [19 52]]\n",
      "cm.ravel() [ 5 14 19 52]\n",
      "done testing 1 of 2.\n"
     ]
    },
    {
     "name": "stderr",
     "output_type": "stream",
     "text": [
      "/home/st/sbhuvaji/1AllP/Individual Patient_All Models/TLandTL/Actual TL/SingleEncoder/WithCV/TL_Packages.py:582: UserWarning: FixedFormatter should only be used together with FixedLocator\n",
      "  axs[i].set_xticklabels([''] + ['0', '1'], fontsize='xx-large')\n",
      "/home/st/sbhuvaji/1AllP/Individual Patient_All Models/TLandTL/Actual TL/SingleEncoder/WithCV/TL_Packages.py:583: UserWarning: FixedFormatter should only be used together with FixedLocator\n",
      "  axs[i].set_yticklabels([''] + ['0', '1'], fontsize='xx-large')\n",
      "100%|██████████| 26/26 [1:06:52<00:00, 154.35s/it]"
     ]
    },
    {
     "name": "stdout",
     "output_type": "stream",
     "text": [
      "evaluation results saved for TLSI_model_100_300_POP_FOLD2_IND_FOLD1\n"
     ]
    },
    {
     "name": "stderr",
     "output_type": "stream",
     "text": [
      "\n"
     ]
    }
   ],
   "source": [
    "TL_Base_Model(100,300, p_ids)# test this one after new value"
   ]
  },
  {
   "cell_type": "code",
   "execution_count": null,
   "metadata": {},
   "outputs": [],
   "source": []
  },
  {
   "cell_type": "code",
   "execution_count": 11,
   "metadata": {},
   "outputs": [
    {
     "name": "stdout",
     "output_type": "stream",
     "text": [
      "Done\n"
     ]
    }
   ],
   "source": [
    "print(\"Done\")"
   ]
  },
  {
   "cell_type": "code",
   "execution_count": null,
   "metadata": {},
   "outputs": [],
   "source": []
  },
  {
   "cell_type": "code",
   "execution_count": null,
   "metadata": {},
   "outputs": [],
   "source": []
  }
 ],
 "metadata": {
  "kernelspec": {
   "display_name": "Python 3",
   "language": "python",
   "name": "python3"
  },
  "language_info": {
   "codemirror_mode": {
    "name": "ipython",
    "version": 3
   },
   "file_extension": ".py",
   "mimetype": "text/x-python",
   "name": "python",
   "nbconvert_exporter": "python",
   "pygments_lexer": "ipython3",
   "version": "3.9.13"
  },
  "orig_nbformat": 4
 },
 "nbformat": 4,
 "nbformat_minor": 2
}
