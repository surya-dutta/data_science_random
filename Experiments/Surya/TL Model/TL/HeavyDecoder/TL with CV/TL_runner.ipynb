{
 "cells": [
  {
   "cell_type": "markdown",
   "metadata": {},
   "source": [
    "# With CV"
   ]
  },
  {
   "cell_type": "code",
   "execution_count": 1,
   "metadata": {},
   "outputs": [],
   "source": [
    "import pandas as pd\n",
    "import numpy as np\n",
    "import pickle\n",
    "import os"
   ]
  },
  {
   "cell_type": "code",
   "execution_count": 2,
   "metadata": {},
   "outputs": [],
   "source": [
    "data_ndarr = np.load(r\"../../Data/all_pids_q=0.3.npy\", allow_pickle=True)\n",
    "datadict = data_ndarr.item()"
   ]
  },
  {
   "cell_type": "code",
   "execution_count": 3,
   "metadata": {},
   "outputs": [
    {
     "name": "stdout",
     "output_type": "stream",
     "text": [
      "patients: n = 26\n",
      "\n",
      "SB-001 shape: (188, 28)\n",
      "SB-003 shape: (180, 28)\n",
      "SB-008 shape: (178, 28)\n",
      "SB-011 shape: (210, 28)\n",
      "SB-012 shape: (194, 28)\n",
      "SB-022 shape: (204, 28)\n",
      "SB-023 shape: (194, 28)\n",
      "SB-025 shape: (117, 28)\n",
      "SB-028 shape: (92, 28)\n",
      "SB-033 shape: (53, 28)\n",
      "SB-037 shape: (210, 28)\n",
      "SB-043 shape: (191, 28)\n",
      "SB-056 shape: (191, 28)\n",
      "SB-059 shape: (203, 28)\n",
      "SB-060 shape: (88, 28)\n",
      "SB-070 shape: (202, 28)\n",
      "SB-071 shape: (124, 28)\n",
      "SB-073 shape: (161, 28)\n",
      "SB-078 shape: (153, 28)\n",
      "SB-079 shape: (142, 28)\n",
      "SB-080 shape: (181, 28)\n",
      "SB-081 shape: (34, 28)\n",
      "SB-082 shape: (137, 28)\n",
      "SB-083 shape: (206, 28)\n",
      "SB-089 shape: (49, 28)\n",
      "SB-112 shape: (180, 28)\n"
     ]
    },
    {
     "data": {
      "text/html": [
       "<div>\n",
       "<style scoped>\n",
       "    .dataframe tbody tr th:only-of-type {\n",
       "        vertical-align: middle;\n",
       "    }\n",
       "\n",
       "    .dataframe tbody tr th {\n",
       "        vertical-align: top;\n",
       "    }\n",
       "\n",
       "    .dataframe thead th {\n",
       "        text-align: right;\n",
       "    }\n",
       "</style>\n",
       "<table border=\"1\" class=\"dataframe\">\n",
       "  <thead>\n",
       "    <tr style=\"text-align: right;\">\n",
       "      <th></th>\n",
       "      <th>income</th>\n",
       "      <th>road_dist</th>\n",
       "      <th>cooking</th>\n",
       "      <th>y_am_pef</th>\n",
       "      <th>tempin</th>\n",
       "      <th>humidin</th>\n",
       "      <th>pm25in</th>\n",
       "      <th>co2in</th>\n",
       "      <th>tempdiffin</th>\n",
       "      <th>humidiffin</th>\n",
       "      <th>...</th>\n",
       "      <th>windsd</th>\n",
       "      <th>humid</th>\n",
       "      <th>varp</th>\n",
       "      <th>dewpt</th>\n",
       "      <th>airp</th>\n",
       "      <th>seap</th>\n",
       "      <th>solrhr</th>\n",
       "      <th>solramnt</th>\n",
       "      <th>grdt</th>\n",
       "      <th>class</th>\n",
       "    </tr>\n",
       "  </thead>\n",
       "  <tbody>\n",
       "    <tr>\n",
       "      <th>1</th>\n",
       "      <td>0.857</td>\n",
       "      <td>0.0</td>\n",
       "      <td>0.167</td>\n",
       "      <td>0.558</td>\n",
       "      <td>0.216</td>\n",
       "      <td>0.513</td>\n",
       "      <td>0.358</td>\n",
       "      <td>0.678</td>\n",
       "      <td>0.562</td>\n",
       "      <td>0.364</td>\n",
       "      <td>...</td>\n",
       "      <td>0.107</td>\n",
       "      <td>0.668</td>\n",
       "      <td>0.174</td>\n",
       "      <td>0.471</td>\n",
       "      <td>0.822</td>\n",
       "      <td>0.819</td>\n",
       "      <td>0.165</td>\n",
       "      <td>0.003</td>\n",
       "      <td>0.206</td>\n",
       "      <td>0.0</td>\n",
       "    </tr>\n",
       "    <tr>\n",
       "      <th>2</th>\n",
       "      <td>0.857</td>\n",
       "      <td>0.0</td>\n",
       "      <td>0.167</td>\n",
       "      <td>0.006</td>\n",
       "      <td>0.299</td>\n",
       "      <td>0.521</td>\n",
       "      <td>0.411</td>\n",
       "      <td>0.700</td>\n",
       "      <td>0.436</td>\n",
       "      <td>0.672</td>\n",
       "      <td>...</td>\n",
       "      <td>0.171</td>\n",
       "      <td>0.388</td>\n",
       "      <td>0.190</td>\n",
       "      <td>0.491</td>\n",
       "      <td>0.676</td>\n",
       "      <td>0.670</td>\n",
       "      <td>0.603</td>\n",
       "      <td>0.165</td>\n",
       "      <td>0.383</td>\n",
       "      <td>0.0</td>\n",
       "    </tr>\n",
       "    <tr>\n",
       "      <th>3</th>\n",
       "      <td>0.857</td>\n",
       "      <td>0.0</td>\n",
       "      <td>0.167</td>\n",
       "      <td>0.078</td>\n",
       "      <td>0.420</td>\n",
       "      <td>0.713</td>\n",
       "      <td>0.372</td>\n",
       "      <td>0.918</td>\n",
       "      <td>0.469</td>\n",
       "      <td>0.821</td>\n",
       "      <td>...</td>\n",
       "      <td>0.515</td>\n",
       "      <td>0.359</td>\n",
       "      <td>0.197</td>\n",
       "      <td>0.481</td>\n",
       "      <td>0.519</td>\n",
       "      <td>0.518</td>\n",
       "      <td>0.485</td>\n",
       "      <td>0.104</td>\n",
       "      <td>0.346</td>\n",
       "      <td>1.0</td>\n",
       "    </tr>\n",
       "    <tr>\n",
       "      <th>4</th>\n",
       "      <td>0.857</td>\n",
       "      <td>0.0</td>\n",
       "      <td>0.167</td>\n",
       "      <td>0.428</td>\n",
       "      <td>0.438</td>\n",
       "      <td>0.468</td>\n",
       "      <td>0.224</td>\n",
       "      <td>0.762</td>\n",
       "      <td>0.560</td>\n",
       "      <td>0.490</td>\n",
       "      <td>...</td>\n",
       "      <td>0.338</td>\n",
       "      <td>0.527</td>\n",
       "      <td>0.175</td>\n",
       "      <td>0.467</td>\n",
       "      <td>0.596</td>\n",
       "      <td>0.596</td>\n",
       "      <td>0.491</td>\n",
       "      <td>0.141</td>\n",
       "      <td>0.339</td>\n",
       "      <td>0.0</td>\n",
       "    </tr>\n",
       "  </tbody>\n",
       "</table>\n",
       "<p>4 rows × 28 columns</p>\n",
       "</div>"
      ],
      "text/plain": [
       "   income  road_dist  cooking  y_am_pef  tempin  humidin  pm25in  co2in  \\\n",
       "1   0.857        0.0    0.167     0.558   0.216    0.513   0.358  0.678   \n",
       "2   0.857        0.0    0.167     0.006   0.299    0.521   0.411  0.700   \n",
       "3   0.857        0.0    0.167     0.078   0.420    0.713   0.372  0.918   \n",
       "4   0.857        0.0    0.167     0.428   0.438    0.468   0.224  0.762   \n",
       "\n",
       "   tempdiffin  humidiffin  ...  windsd  humid   varp  dewpt   airp   seap  \\\n",
       "1       0.562       0.364  ...   0.107  0.668  0.174  0.471  0.822  0.819   \n",
       "2       0.436       0.672  ...   0.171  0.388  0.190  0.491  0.676  0.670   \n",
       "3       0.469       0.821  ...   0.515  0.359  0.197  0.481  0.519  0.518   \n",
       "4       0.560       0.490  ...   0.338  0.527  0.175  0.467  0.596  0.596   \n",
       "\n",
       "   solrhr  solramnt   grdt  class  \n",
       "1   0.165     0.003  0.206    0.0  \n",
       "2   0.603     0.165  0.383    0.0  \n",
       "3   0.485     0.104  0.346    1.0  \n",
       "4   0.491     0.141  0.339    0.0  \n",
       "\n",
       "[4 rows x 28 columns]"
      ]
     },
     "execution_count": 3,
     "metadata": {},
     "output_type": "execute_result"
    }
   ],
   "source": [
    "p_ids = datadict.keys()\n",
    "smaple_size_dict={}\n",
    "print(\"patients: n =\", len(p_ids), end='\\n\\n')\n",
    "\n",
    "for p_id in p_ids:\n",
    "    df = datadict[p_id]\n",
    "    # drop column from input data file\n",
    "    #df.drop(['id','date','am_pef_org','BMI','sex'], axis=1, inplace=True) #ALL DROPS SHOULD OCCUR HERE\n",
    "    df.drop(['id','date','am_pef_org','BMI','sex', 'age'], axis=1, inplace=True) #,'id','date','am_pef_org','BMI',  'sex', 'age'\n",
    "    df = np.asarray(df).astype(np.float32)\n",
    "    print(p_id, \"shape:\", df.shape)#, end=\"\\t\\t\")\n",
    "    smaple_size_dict[p_id]=df.shape[0]\n",
    "\n",
    "datadict[p_id].head(4)"
   ]
  },
  {
   "cell_type": "code",
   "execution_count": 4,
   "metadata": {},
   "outputs": [
    {
     "name": "stdout",
     "output_type": "stream",
     "text": [
      "Index(['income', 'road_dist', 'cooking', 'y_am_pef', 'tempin', 'humidin',\n",
      "       'pm25in', 'co2in', 'tempdiffin', 'humidiffin', 'pm25diffin', 'pm10',\n",
      "       'pm25', 'o3', 'no2', 'co', 'so2', 'temp', 'windsd', 'humid', 'varp',\n",
      "       'dewpt', 'airp', 'seap', 'solrhr', 'solramnt', 'grdt', 'class'],\n",
      "      dtype='object')\n",
      "(180, 28)\n"
     ]
    }
   ],
   "source": [
    "print(datadict[p_id].columns)\n",
    "print(datadict[p_id].shape)"
   ]
  },
  {
   "cell_type": "code",
   "execution_count": 5,
   "metadata": {},
   "outputs": [
    {
     "name": "stdout",
     "output_type": "stream",
     "text": [
      "23\n"
     ]
    }
   ],
   "source": [
    "target_grp = [\"SB-001\", \"SB-003\", \"SB-008\", \"SB-011\", \"SB-012\", \"SB-022\", \"SB-023\", \"SB-025\", \"SB-028\", \"SB-037\", \"SB-043\", \"SB-056\", \"SB-059\", \"SB-060\", \"SB-070\", \"SB-071\", \"SB-073\", \"SB-078\", \"SB-079\", \"SB-080\", \"SB-082\", \"SB-083\", \"SB-112\"]\n",
    "\n",
    "print(len(target_grp))\n"
   ]
  },
  {
   "cell_type": "code",
   "execution_count": 6,
   "metadata": {},
   "outputs": [
    {
     "name": "stderr",
     "output_type": "stream",
     "text": [
      "2023-08-24 23:41:17.114400: I tensorflow/tsl/cuda/cudart_stub.cc:28] Could not find cuda drivers on your machine, GPU will not be used.\n",
      "2023-08-24 23:41:17.167834: I tensorflow/tsl/cuda/cudart_stub.cc:28] Could not find cuda drivers on your machine, GPU will not be used.\n",
      "2023-08-24 23:41:17.168760: I tensorflow/core/platform/cpu_feature_guard.cc:182] This TensorFlow binary is optimized to use available CPU instructions in performance-critical operations.\n",
      "To enable the following instructions: AVX2 AVX512F FMA, in other operations, rebuild TensorFlow with the appropriate compiler flags.\n",
      "2023-08-24 23:41:17.971984: W tensorflow/compiler/tf2tensorrt/utils/py_utils.cc:38] TF-TRT Warning: Could not find TensorRT\n"
     ]
    }
   ],
   "source": [
    "from TL_Packages import *\n",
    "\n",
    "# Architecture_GROUP = \"TL\"\n",
    "Architecture_GROUP = \"model\"\n",
    "RESULT_DIR = 'Results/'\n",
    "EVALUATION_METRICS = [\"Weighted Accuracy\", \"Sensitivity/Recall\", \"Specificity\", \"Precision_class0\", \"Precision_class1\", \"Precision_avg\", \"F1_class0\", \"F1_class1\", \"F1_avg\", \"auc_roc_score\", \"False_Discovery_Rate\", \"False_Negative_Rate\", \"False_Omission_Rate\", \"False_Positive_Rate\", \"Jaccard\"]"
   ]
  },
  {
   "cell_type": "code",
   "execution_count": null,
   "metadata": {},
   "outputs": [],
   "source": []
  },
  {
   "cell_type": "code",
   "execution_count": 7,
   "metadata": {},
   "outputs": [],
   "source": [
    "def TL_Base_Model(POPULATION_EPOCH_SIZE,PATIENT_EPOCH_SIZE, p_ids):\n",
    "    minority_variable=0\n",
    "  #Target MOdel dataframe\n",
    "    df_evaluation_results = pd.DataFrame(columns=EVALUATION_METRICS)\n",
    "  #Population model results\n",
    "    pop_results=pd.DataFrame(columns=EVALUATION_METRICS)\n",
    "    minor_var=minority_variable\n",
    "    for target in tqdm(p_ids):\n",
    "        if target not in target_grp:\n",
    "            continue\n",
    "        runtime()\n",
    "        print(\"~~~~~~~~~~~\", POPULATION_EPOCH_SIZE, \"~~~~~~~~~~~~~~~~~~~\", PATIENT_EPOCH_SIZE, \"~~~~~~~~~~~~~~~~~~~\", target, \"~~~~~~~~~~~~~~~~~~~\")\n",
    "\n",
    "        patient_dir = RESULT_DIR + \"/diagrams/target\" \n",
    "\n",
    "        # create directory for this patient\n",
    "        if not (patient_dir and patient_dir):\n",
    "            os.makedirs(patient_dir)\n",
    "        CLASS_VAR='class'\n",
    "        sample_size=smaple_size_dict[target]\n",
    "        # load population data\n",
    "        X_train, X_test, Y_train, Y_test = split_data(target=target, data=datadict,  class_var=CLASS_VAR, minority_var=minor_var,test_frac=0.05,\n",
    "                                                      transfer=True, balance=True)\n",
    "        print(f\"X_train = {len(X_train)}, y_train = {len(Y_train)}\")\n",
    "        assert len(X_train) == len(Y_train), \"X_train and Y_train have different lengths.\"\n",
    "        #num_folds = min(5, len(X_train))\n",
    "        #print(num_folds)\n",
    "        # k-fold cross-validation for population model\n",
    "        kf_pop = KFold(n_splits=3, shuffle=True)\n",
    "        population_models = []\n",
    "        fold_number=0\n",
    "        for train_idx, val_idx in kf_pop.split(X_train):\n",
    "             # Check if the indices are within bounds\n",
    "            assert train_idx.max() < len(X_train), f\"train_idx exceeds bounds of X_train (size: {len(X_train)})\"\n",
    "            assert val_idx.max() < len(X_train), f\"val_idx exceeds bounds of X_train (size: {len(X_train)})\"\n",
    "\n",
    "\n",
    "            X_train_fold, X_val_fold = X_train[train_idx], X_train[val_idx]\n",
    "            Y_train_fold, Y_val_fold = Y_train[train_idx], Y_train[val_idx]\n",
    "            print(f\"Population Fold {fold_number}: Training data size = {len(X_train_fold)}, Validation data size = {len(X_val_fold)}\")\n",
    "            net = network_tl(X_train_fold, Y_train_fold, n_hidden=32, learning_rate=0.001, device='cpu')\n",
    "            net.set_Y_tind(Y_val_fold)\n",
    "            ##creating population model\n",
    "            net.make_pop()\n",
    "            net.train(n_iters=POPULATION_EPOCH_SIZE)\n",
    "            #val_predictions = net.nn_pop.predict(X_val_fold)\n",
    "            #val_loss = net.calculate_loss(val_predictions)\n",
    "\n",
    "            #population_models.append((net, val_loss))\n",
    "\n",
    "\n",
    "        # Select the best population model based on validation performance (lowest mean validation loss)\n",
    "        #best_pop_model, _ = min(population_models, key=lambda x: np.mean(x[1]))\n",
    "        # Save the best population model\n",
    "        ## save the fold's population model\n",
    "            VERSION_TAG = f'TLSI_{Architecture_GROUP}_{POPULATION_EPOCH_SIZE}_{PATIENT_EPOCH_SIZE}_POP_FOLD_{fold_number}'\n",
    "            #best_pop_model_name = f\"{target}-best_{VERSION_TAG}.hdf5\"\n",
    "            #best_pop_model_path = patient_dir / best_pop_model_name\n",
    "            #best_pop_model.save_model(best_pop_model_path)\n",
    "            #save model\n",
    "            modelname = f\"{target}-{VERSION_TAG}.hdf5\"\n",
    "            model_path= patient_dir + \"/\" + modelname\n",
    "            net.nn_pop.save(model_path) #nn_pop\n",
    "          #save training curve\n",
    "            training_curve_file = patient_dir +\"/\"+ f'{VERSION_TAG}_training_curve_{target}'\n",
    "            net.save_training_curve(training_curve_file)\n",
    "          ## calculate results for population model\n",
    "            results, c_matrix = net.pop_test(X_val_fold, Y_val_fold)\n",
    "           # load target patient data\n",
    "\n",
    "            dataset_list = split_data(target=target, data=datadict,  class_var=CLASS_VAR, minority_var=minor_var, #explanatory_var\n",
    "                                balance=True)\n",
    "           # setup for k-fold cross-validation\n",
    "            kfold_evaluation_results_list = []\n",
    "            kfold_confusion_matrix_list = []\n",
    "\n",
    "            for i in range(2):\n",
    "            # load the target data in the current round\n",
    "              X_train_ind, X_test_ind, Y_train_ind, Y_test_ind = dataset_list[i]\n",
    "\n",
    "            # Make and train a copy of the population model with\n",
    "            # all but the last layer frozen.\n",
    "              net.make_ind()\n",
    "              net.retrain(X_train_ind, Y_train_ind, n_iters=PATIENT_EPOCH_SIZE)\n",
    "              print(\"done RE-training\", i, \"of 3\", end=\". \")\n",
    "\n",
    "            # test\n",
    "              VERSION_TAG = f'TLSI_{Architecture_GROUP}_{POPULATION_EPOCH_SIZE}_{PATIENT_EPOCH_SIZE}_POP_FOLD{fold_number}_IND_FOLD{i}'\n",
    "            #save model\n",
    "              modelname = f\"{target}-{VERSION_TAG}.hdf5\"\n",
    "              model_path= patient_dir + modelname\n",
    "              net.nn_ind.save(model_path) #nn_pop\n",
    "\n",
    "              #save retraining curve\n",
    "              training_curve_file = patient_dir +\"/\"+ f'{VERSION_TAG}_retraining_curve_{target}'\n",
    "              net.save_training_curve(training_curve_file)\n",
    "\n",
    "            # print(\"Calling net.test Now\")\n",
    "            # print(\"X_test\",X_test)\n",
    "            # print(\"Y_test\",Y_test)\n",
    "            ## results for individual model for this particular fold\n",
    "              results, c_matrix = net.test(X_test_ind, Y_test_ind)\n",
    "            # print(\"results\",results)\n",
    "            ## adding up the results(evaluation metrics) of all the folds of individual model\n",
    "              kfold_evaluation_results_list += [results]\n",
    "            ## adding up the results of confusion matrix for all the folds of individual model\n",
    "              kfold_confusion_matrix_list += [c_matrix]\n",
    "\n",
    "              print(\"done testing\", i, \"of 2.\")\n",
    "\n",
    "            ## version tag for target model confusion matrix\n",
    "            TARGET_VERSION_TAG = f'TLSI_{Architecture_GROUP}_{POPULATION_EPOCH_SIZE}_{PATIENT_EPOCH_SIZE}_target_POP_FOLD_{fold_number}'\n",
    "        ##save file tag for target model of particular pop fold\n",
    "            target_confusion_matrixes_file = (f\"{str(patient_dir)}/{TARGET_VERSION_TAG}_confusion_matrix_{target}\")\n",
    "        ###save file tag for Population model of particular pop fold\n",
    "            #population_confusion_matrixes_file = (f\"{str(patient_dir)}/{VERSION_TAG}_confusion_matrix_{target}\")\n",
    "        ## dataframe for the average of all the indivudial models results\n",
    "            avg_results = pd.DataFrame(kfold_evaluation_results_list, columns=EVALUATION_METRICS).mean().values\n",
    "            avg_results = avg_results.reshape(1, 15)\n",
    "            ##dataframe for population model results for a particular pop model fold'\n",
    "            results=results.reshape(1,15)\n",
    "            pop_results=pd.DataFrame(results, columns=EVALUATION_METRICS)\n",
    "            pop_results.index = [f\"{target}_{sample_size}_size_{POPULATION_EPOCH_SIZE}_{PATIENT_EPOCH_SIZE}_POP_FOLD_{fold_number}\"]\n",
    "            ## dataframe for individual model average results for a particular population fold\n",
    "            df = pd.DataFrame(avg_results, columns=EVALUATION_METRICS)\n",
    "            df.index = [f\"{target}_{sample_size}_size_{POPULATION_EPOCH_SIZE}_{PATIENT_EPOCH_SIZE}_Target_With_POP_FOLD_{fold_number}\"]\n",
    "            ## concatinating the pop results dataframe and avg target results dataframe for a particular population fold\n",
    "            df_evaluation_results = pd.concat([df_evaluation_results,pop_results,df], axis = 0)\n",
    "            ##saving target model confusion matrix\n",
    "            net.save_confusion_matrix(kfold_confusion_matrix_list, target_confusion_matrixes_file)\n",
    "            ##saving population model confusion matrix\n",
    "            #net.save_confusion_matrix(c_matrix, population_confusion_matrixes_file)\n",
    "            fold_number+=1\n",
    "\n",
    "    # output_path = os.path.join(RESULT_DIR, f'TLSI_{Architecture_GROUP}_evaluation_metrics_{sorted(set(p_ids).difference(target_grp))[0]}.csv')\n",
    "    output_path = os.path.join(RESULT_DIR, f'TLSI_{Architecture_GROUP}_evaluation_metrics.csv')\n",
    "\n",
    "    if os.path.isfile(output_path):\n",
    "        df_evaluation_results.to_csv(output_path,\n",
    "                                        mode='a',\n",
    "                                        header=False\n",
    "                                    )\n",
    "    else:\n",
    "                df_evaluation_results.to_csv(output_path,\n",
    "                                        mode='a'\n",
    "                                    )\n",
    "\n",
    "    print(\"evaluation results saved for\", VERSION_TAG)"
   ]
  },
  {
   "cell_type": "code",
   "execution_count": 8,
   "metadata": {},
   "outputs": [
    {
     "name": "stdout",
     "output_type": "stream",
     "text": [
      "POPULATION_EPOCH_SIZE: [500, 1000, 1500] Len: 3\n",
      "PATIENT_EPOCH_SIZE: [500, 1000, 1500] Len: 3\n",
      "target_grp: ['SB-001', 'SB-003', 'SB-008', 'SB-011', 'SB-012', 'SB-022', 'SB-023', 'SB-025', 'SB-028', 'SB-037', 'SB-043', 'SB-056', 'SB-059', 'SB-060', 'SB-070', 'SB-071', 'SB-073', 'SB-078', 'SB-079', 'SB-080', 'SB-082', 'SB-083', 'SB-112'] Len: 23\n",
      "Total records in each file: 207\n"
     ]
    }
   ],
   "source": [
    "POPULATION_EPOCH_SIZE = [*range(500, 1600, 500)]\n",
    "PATIENT_EPOCH_SIZE = [*range(500, 1600, 500)]   \n",
    "\n",
    "print(\"POPULATION_EPOCH_SIZE:\",POPULATION_EPOCH_SIZE, \"Len:\", len(POPULATION_EPOCH_SIZE))\n",
    "print(\"PATIENT_EPOCH_SIZE:\",PATIENT_EPOCH_SIZE, \"Len:\", len(PATIENT_EPOCH_SIZE))\n",
    "print(\"target_grp:\",target_grp, \"Len:\", len(target_grp))\n",
    "print(\"Total records in each file:\",len(POPULATION_EPOCH_SIZE) * len(PATIENT_EPOCH_SIZE) * len(target_grp))"
   ]
  },
  {
   "cell_type": "code",
   "execution_count": 9,
   "metadata": {},
   "outputs": [],
   "source": [
    "from datetime import date, datetime\n",
    "def runtime():\n",
    "    print(\"Runtime:\", datetime.now().hour, \"o' clock and\", datetime.now().minute, \"minutes\")\n",
    "\n",
    "def run_tlsi(file):\n",
    "    \"\"\"\n",
    "        run transfer learning algorithm on sample imbalanced data set\n",
    "    \"\"\"\n",
    "    pass"
   ]
  },
  {
   "cell_type": "code",
   "execution_count": 10,
   "metadata": {},
   "outputs": [
    {
     "name": "stderr",
     "output_type": "stream",
     "text": [
      "  0%|          | 0/26 [00:00<?, ?it/s]"
     ]
    },
    {
     "name": "stdout",
     "output_type": "stream",
     "text": [
      "Runtime: 23 o' clock and 41 minutes\n",
      "~~~~~~~~~~~ 100 ~~~~~~~~~~~~~~~~~~~ 300 ~~~~~~~~~~~~~~~~~~~ SB-001 ~~~~~~~~~~~~~~~~~~~\n",
      "Before balancing count  1.0    2659\n",
      "0.0    1021\n",
      "Name: class, dtype: int64\n"
     ]
    },
    {
     "name": "stderr",
     "output_type": "stream",
     "text": [
      "2023-08-24 23:41:19.846806: W tensorflow/core/common_runtime/gpu/gpu_device.cc:1960] Cannot dlopen some GPU libraries. Please make sure the missing libraries mentioned above are installed properly if you would like to use GPU. Follow the guide at https://www.tensorflow.org/install/gpu for how to download and setup the required libraries for your platform.\n",
      "Skipping registering GPU devices...\n"
     ]
    },
    {
     "name": "stdout",
     "output_type": "stream",
     "text": [
      "~~~~~~~ value_counts: ~~~~~~~\n",
      "SHOULD BE BALANCED NOW: 1.0    2659\n",
      "0.0    2659\n",
      "Name: class, dtype: int64\n",
      "X_train = 5318, y_train = 5318\n",
      "Population Fold 0: Training data size = 3545, Validation data size = 1773\n"
     ]
    },
    {
     "name": "stderr",
     "output_type": "stream",
     "text": [
      "/home/st/sbhuvaji/anaconda3/lib/python3.9/site-packages/keras/src/engine/training.py:3000: UserWarning: You are saving your model as an HDF5 file via `model.save()`. This file format is considered legacy. We recommend using instead the native Keras format, e.g. `model.save('my_model.keras')`.\n",
      "  saving_api.save_model(\n"
     ]
    },
    {
     "name": "stdout",
     "output_type": "stream",
     "text": [
      "56/56 [==============================] - 0s 839us/step\n",
      "cm [[752 114]\n",
      " [374 533]]\n",
      "cm.ravel() [752 114 374 533]\n",
      "Before balancing count  1.0    66\n",
      "0.0    28\n",
      "Name: class, dtype: int64\n",
      "~~~~~~~ value_counts: ~~~~~~~\n",
      "SHOULD BE BALANCED NOW: 0.0    66\n",
      "1.0    66\n",
      "Name: class, dtype: int64\n",
      "Before balancing count  1.0    65\n",
      "0.0    29\n",
      "Name: class, dtype: int64\n",
      "~~~~~~~ value_counts: ~~~~~~~\n",
      "SHOULD BE BALANCED NOW: 0.0    65\n",
      "1.0    65\n",
      "Name: class, dtype: int64\n",
      "done RE-training 0 of 3. "
     ]
    },
    {
     "name": "stderr",
     "output_type": "stream",
     "text": [
      "/home/st/sbhuvaji/anaconda3/lib/python3.9/site-packages/keras/src/engine/training.py:3000: UserWarning: You are saving your model as an HDF5 file via `model.save()`. This file format is considered legacy. We recommend using instead the native Keras format, e.g. `model.save('my_model.keras')`.\n",
      "  saving_api.save_model(\n"
     ]
    },
    {
     "name": "stdout",
     "output_type": "stream",
     "text": [
      "3/3 [==============================] - 0s 2ms/step\n",
      "cm [[11 18]\n",
      " [21 44]]\n",
      "cm.ravel() [11 18 21 44]\n",
      "done testing 0 of 2.\n",
      "done RE-training 1 of 3. WARNING:tensorflow:5 out of the last 64 calls to <function Model.make_predict_function.<locals>.predict_function at 0x7f2b6817e1f0> triggered tf.function retracing. Tracing is expensive and the excessive number of tracings could be due to (1) creating @tf.function repeatedly in a loop, (2) passing tensors with different shapes, (3) passing Python objects instead of tensors. For (1), please define your @tf.function outside of the loop. For (2), @tf.function has reduce_retracing=True option that can avoid unnecessary retracing. For (3), please refer to https://www.tensorflow.org/guide/function#controlling_retracing and https://www.tensorflow.org/api_docs/python/tf/function for  more details.\n",
      "3/3 [==============================] - 0s 1ms/step\n",
      "cm [[ 9 19]\n",
      " [20 46]]\n",
      "cm.ravel() [ 9 19 20 46]\n",
      "done testing 1 of 2.\n"
     ]
    },
    {
     "name": "stderr",
     "output_type": "stream",
     "text": [
      "/home/st/sbhuvaji/1AllP/Individual Patient_All Models/TLandTL/Actual TL/HeavyDecoder/WithCV/TL_Packages.py:582: UserWarning: FixedFormatter should only be used together with FixedLocator\n",
      "  axs[i].set_xticklabels([''] + ['0', '1'], fontsize='xx-large')\n",
      "/home/st/sbhuvaji/1AllP/Individual Patient_All Models/TLandTL/Actual TL/HeavyDecoder/WithCV/TL_Packages.py:583: UserWarning: FixedFormatter should only be used together with FixedLocator\n",
      "  axs[i].set_yticklabels([''] + ['0', '1'], fontsize='xx-large')\n"
     ]
    },
    {
     "name": "stdout",
     "output_type": "stream",
     "text": [
      "Population Fold 1: Training data size = 3545, Validation data size = 1773\n"
     ]
    },
    {
     "name": "stderr",
     "output_type": "stream",
     "text": [
      "/home/st/sbhuvaji/anaconda3/lib/python3.9/site-packages/keras/src/engine/training.py:3000: UserWarning: You are saving your model as an HDF5 file via `model.save()`. This file format is considered legacy. We recommend using instead the native Keras format, e.g. `model.save('my_model.keras')`.\n",
      "  saving_api.save_model(\n"
     ]
    },
    {
     "name": "stdout",
     "output_type": "stream",
     "text": [
      "WARNING:tensorflow:5 out of the last 11 calls to <function Model.make_predict_function.<locals>.predict_function at 0x7f2b245a7310> triggered tf.function retracing. Tracing is expensive and the excessive number of tracings could be due to (1) creating @tf.function repeatedly in a loop, (2) passing tensors with different shapes, (3) passing Python objects instead of tensors. For (1), please define your @tf.function outside of the loop. For (2), @tf.function has reduce_retracing=True option that can avoid unnecessary retracing. For (3), please refer to https://www.tensorflow.org/guide/function#controlling_retracing and https://www.tensorflow.org/api_docs/python/tf/function for  more details.\n",
      "56/56 [==============================] - 0s 895us/step\n",
      "cm [[727 183]\n",
      " [266 597]]\n",
      "cm.ravel() [727 183 266 597]\n",
      "Before balancing count  1.0    67\n",
      "0.0    27\n",
      "Name: class, dtype: int64\n",
      "~~~~~~~ value_counts: ~~~~~~~\n",
      "SHOULD BE BALANCED NOW: 1.0    67\n",
      "0.0    67\n",
      "Name: class, dtype: int64\n",
      "Before balancing count  1.0    64\n",
      "0.0    30\n",
      "Name: class, dtype: int64\n",
      "~~~~~~~ value_counts: ~~~~~~~\n",
      "SHOULD BE BALANCED NOW: 0.0    64\n",
      "1.0    64\n",
      "Name: class, dtype: int64\n",
      "done RE-training 0 of 3. "
     ]
    },
    {
     "name": "stderr",
     "output_type": "stream",
     "text": [
      "/home/st/sbhuvaji/anaconda3/lib/python3.9/site-packages/keras/src/engine/training.py:3000: UserWarning: You are saving your model as an HDF5 file via `model.save()`. This file format is considered legacy. We recommend using instead the native Keras format, e.g. `model.save('my_model.keras')`.\n",
      "  saving_api.save_model(\n"
     ]
    },
    {
     "name": "stdout",
     "output_type": "stream",
     "text": [
      "3/3 [==============================] - 0s 2ms/step\n",
      "cm [[22  8]\n",
      " [24 40]]\n",
      "cm.ravel() [22  8 24 40]\n",
      "done testing 0 of 2.\n",
      "3/3 [==============================] - 0s 2ms/step\n",
      "cm [[12 15]\n",
      " [19 48]]\n",
      "cm.ravel() [12 15 19 48]\n",
      "done testing 1 of 2.\n"
     ]
    },
    {
     "name": "stderr",
     "output_type": "stream",
     "text": [
      "/home/st/sbhuvaji/1AllP/Individual Patient_All Models/TLandTL/Actual TL/HeavyDecoder/WithCV/TL_Packages.py:582: UserWarning: FixedFormatter should only be used together with FixedLocator\n",
      "  axs[i].set_xticklabels([''] + ['0', '1'], fontsize='xx-large')\n",
      "/home/st/sbhuvaji/1AllP/Individual Patient_All Models/TLandTL/Actual TL/HeavyDecoder/WithCV/TL_Packages.py:583: UserWarning: FixedFormatter should only be used together with FixedLocator\n",
      "  axs[i].set_yticklabels([''] + ['0', '1'], fontsize='xx-large')\n"
     ]
    },
    {
     "name": "stdout",
     "output_type": "stream",
     "text": [
      "Population Fold 2: Training data size = 3546, Validation data size = 1772\n"
     ]
    },
    {
     "name": "stderr",
     "output_type": "stream",
     "text": [
      "/home/st/sbhuvaji/anaconda3/lib/python3.9/site-packages/keras/src/engine/training.py:3000: UserWarning: You are saving your model as an HDF5 file via `model.save()`. This file format is considered legacy. We recommend using instead the native Keras format, e.g. `model.save('my_model.keras')`.\n",
      "  saving_api.save_model(\n"
     ]
    },
    {
     "name": "stdout",
     "output_type": "stream",
     "text": [
      "56/56 [==============================] - 0s 885us/step\n",
      "cm [[717 166]\n",
      " [323 566]]\n",
      "cm.ravel() [717 166 323 566]\n",
      "Before balancing count  1.0    68\n",
      "0.0    26\n",
      "Name: class, dtype: int64\n",
      "~~~~~~~ value_counts: ~~~~~~~\n",
      "SHOULD BE BALANCED NOW: 1.0    68\n",
      "0.0    68\n",
      "Name: class, dtype: int64\n",
      "Before balancing count  1.0    63\n",
      "0.0    31\n",
      "Name: class, dtype: int64\n",
      "~~~~~~~ value_counts: ~~~~~~~\n",
      "SHOULD BE BALANCED NOW: 1.0    63\n",
      "0.0    63\n",
      "Name: class, dtype: int64\n",
      "done RE-training 0 of 3. "
     ]
    },
    {
     "name": "stderr",
     "output_type": "stream",
     "text": [
      "/home/st/sbhuvaji/anaconda3/lib/python3.9/site-packages/keras/src/engine/training.py:3000: UserWarning: You are saving your model as an HDF5 file via `model.save()`. This file format is considered legacy. We recommend using instead the native Keras format, e.g. `model.save('my_model.keras')`.\n",
      "  saving_api.save_model(\n"
     ]
    },
    {
     "name": "stdout",
     "output_type": "stream",
     "text": [
      "3/3 [==============================] - 0s 2ms/step\n",
      "cm [[21 10]\n",
      " [31 32]]\n",
      "cm.ravel() [21 10 31 32]\n",
      "done testing 0 of 2.\n",
      "3/3 [==============================] - 0s 2ms/step\n",
      "cm [[16 10]\n",
      " [37 31]]\n",
      "cm.ravel() [16 10 37 31]\n",
      "done testing 1 of 2.\n"
     ]
    },
    {
     "name": "stderr",
     "output_type": "stream",
     "text": [
      "/home/st/sbhuvaji/1AllP/Individual Patient_All Models/TLandTL/Actual TL/HeavyDecoder/WithCV/TL_Packages.py:582: UserWarning: FixedFormatter should only be used together with FixedLocator\n",
      "  axs[i].set_xticklabels([''] + ['0', '1'], fontsize='xx-large')\n",
      "/home/st/sbhuvaji/1AllP/Individual Patient_All Models/TLandTL/Actual TL/HeavyDecoder/WithCV/TL_Packages.py:583: UserWarning: FixedFormatter should only be used together with FixedLocator\n",
      "  axs[i].set_yticklabels([''] + ['0', '1'], fontsize='xx-large')\n",
      "  4%|▍         | 1/26 [03:02<1:16:00, 182.42s/it]"
     ]
    },
    {
     "name": "stdout",
     "output_type": "stream",
     "text": [
      "Runtime: 23 o' clock and 44 minutes\n",
      "~~~~~~~~~~~ 100 ~~~~~~~~~~~~~~~~~~~ 300 ~~~~~~~~~~~~~~~~~~~ SB-003 ~~~~~~~~~~~~~~~~~~~\n",
      "Before balancing count  1.0    2646\n",
      "0.0    1041\n",
      "Name: class, dtype: int64\n",
      "~~~~~~~ value_counts: ~~~~~~~\n",
      "SHOULD BE BALANCED NOW: 0.0    2646\n",
      "1.0    2646\n",
      "Name: class, dtype: int64\n",
      "X_train = 5292, y_train = 5292\n",
      "Population Fold 0: Training data size = 3528, Validation data size = 1764\n"
     ]
    },
    {
     "name": "stderr",
     "output_type": "stream",
     "text": [
      "/home/st/sbhuvaji/anaconda3/lib/python3.9/site-packages/keras/src/engine/training.py:3000: UserWarning: You are saving your model as an HDF5 file via `model.save()`. This file format is considered legacy. We recommend using instead the native Keras format, e.g. `model.save('my_model.keras')`.\n",
      "  saving_api.save_model(\n"
     ]
    },
    {
     "name": "stdout",
     "output_type": "stream",
     "text": [
      "56/56 [==============================] - 0s 896us/step\n",
      "cm [[604 279]\n",
      " [199 682]]\n",
      "cm.ravel() [604 279 199 682]\n",
      "Before balancing count  1.0    67\n",
      "0.0    23\n",
      "Name: class, dtype: int64\n",
      "~~~~~~~ value_counts: ~~~~~~~\n",
      "SHOULD BE BALANCED NOW: 1.0    67\n",
      "0.0    67\n",
      "Name: class, dtype: int64\n",
      "Before balancing count  1.0    68\n",
      "0.0    22\n",
      "Name: class, dtype: int64\n",
      "~~~~~~~ value_counts: ~~~~~~~\n",
      "SHOULD BE BALANCED NOW: 1.0    68\n",
      "0.0    68\n",
      "Name: class, dtype: int64\n",
      "done RE-training 0 of 3. "
     ]
    },
    {
     "name": "stderr",
     "output_type": "stream",
     "text": [
      "/home/st/sbhuvaji/anaconda3/lib/python3.9/site-packages/keras/src/engine/training.py:3000: UserWarning: You are saving your model as an HDF5 file via `model.save()`. This file format is considered legacy. We recommend using instead the native Keras format, e.g. `model.save('my_model.keras')`.\n",
      "  saving_api.save_model(\n"
     ]
    },
    {
     "name": "stdout",
     "output_type": "stream",
     "text": [
      "3/3 [==============================] - 0s 2ms/step\n",
      "cm [[13  9]\n",
      " [21 47]]\n",
      "cm.ravel() [13  9 21 47]\n",
      "done testing 0 of 2.\n",
      "3/3 [==============================] - 0s 2ms/step\n",
      "cm [[11 12]\n",
      " [20 47]]\n",
      "cm.ravel() [11 12 20 47]\n",
      "done testing 1 of 2.\n"
     ]
    },
    {
     "name": "stderr",
     "output_type": "stream",
     "text": [
      "/home/st/sbhuvaji/1AllP/Individual Patient_All Models/TLandTL/Actual TL/HeavyDecoder/WithCV/TL_Packages.py:582: UserWarning: FixedFormatter should only be used together with FixedLocator\n",
      "  axs[i].set_xticklabels([''] + ['0', '1'], fontsize='xx-large')\n",
      "/home/st/sbhuvaji/1AllP/Individual Patient_All Models/TLandTL/Actual TL/HeavyDecoder/WithCV/TL_Packages.py:583: UserWarning: FixedFormatter should only be used together with FixedLocator\n",
      "  axs[i].set_yticklabels([''] + ['0', '1'], fontsize='xx-large')\n"
     ]
    },
    {
     "name": "stdout",
     "output_type": "stream",
     "text": [
      "Population Fold 1: Training data size = 3528, Validation data size = 1764\n"
     ]
    },
    {
     "name": "stderr",
     "output_type": "stream",
     "text": [
      "/home/st/sbhuvaji/anaconda3/lib/python3.9/site-packages/keras/src/engine/training.py:3000: UserWarning: You are saving your model as an HDF5 file via `model.save()`. This file format is considered legacy. We recommend using instead the native Keras format, e.g. `model.save('my_model.keras')`.\n",
      "  saving_api.save_model(\n"
     ]
    },
    {
     "name": "stdout",
     "output_type": "stream",
     "text": [
      "56/56 [==============================] - 0s 835us/step\n",
      "cm [[669 254]\n",
      " [219 622]]\n",
      "cm.ravel() [669 254 219 622]\n",
      "Before balancing count  1.0    65\n",
      "0.0    25\n",
      "Name: class, dtype: int64\n",
      "~~~~~~~ value_counts: ~~~~~~~\n",
      "SHOULD BE BALANCED NOW: 0.0    65\n",
      "1.0    65\n",
      "Name: class, dtype: int64\n",
      "Before balancing count  1.0    70\n",
      "0.0    20\n",
      "Name: class, dtype: int64\n",
      "~~~~~~~ value_counts: ~~~~~~~\n",
      "SHOULD BE BALANCED NOW: 1.0    70\n",
      "0.0    70\n",
      "Name: class, dtype: int64\n",
      "done RE-training 0 of 3. "
     ]
    },
    {
     "name": "stderr",
     "output_type": "stream",
     "text": [
      "/home/st/sbhuvaji/anaconda3/lib/python3.9/site-packages/keras/src/engine/training.py:3000: UserWarning: You are saving your model as an HDF5 file via `model.save()`. This file format is considered legacy. We recommend using instead the native Keras format, e.g. `model.save('my_model.keras')`.\n",
      "  saving_api.save_model(\n"
     ]
    },
    {
     "name": "stdout",
     "output_type": "stream",
     "text": [
      "3/3 [==============================] - 0s 2ms/step\n",
      "cm [[ 8 12]\n",
      " [32 38]]\n",
      "cm.ravel() [ 8 12 32 38]\n",
      "done testing 0 of 2.\n",
      "3/3 [==============================] - 0s 2ms/step\n",
      "cm [[ 5 20]\n",
      " [18 47]]\n",
      "cm.ravel() [ 5 20 18 47]\n",
      "done testing 1 of 2.\n"
     ]
    },
    {
     "name": "stderr",
     "output_type": "stream",
     "text": [
      "/home/st/sbhuvaji/1AllP/Individual Patient_All Models/TLandTL/Actual TL/HeavyDecoder/WithCV/TL_Packages.py:582: UserWarning: FixedFormatter should only be used together with FixedLocator\n",
      "  axs[i].set_xticklabels([''] + ['0', '1'], fontsize='xx-large')\n",
      "/home/st/sbhuvaji/1AllP/Individual Patient_All Models/TLandTL/Actual TL/HeavyDecoder/WithCV/TL_Packages.py:583: UserWarning: FixedFormatter should only be used together with FixedLocator\n",
      "  axs[i].set_yticklabels([''] + ['0', '1'], fontsize='xx-large')\n"
     ]
    },
    {
     "name": "stdout",
     "output_type": "stream",
     "text": [
      "Population Fold 2: Training data size = 3528, Validation data size = 1764\n"
     ]
    },
    {
     "name": "stderr",
     "output_type": "stream",
     "text": [
      "/home/st/sbhuvaji/anaconda3/lib/python3.9/site-packages/keras/src/engine/training.py:3000: UserWarning: You are saving your model as an HDF5 file via `model.save()`. This file format is considered legacy. We recommend using instead the native Keras format, e.g. `model.save('my_model.keras')`.\n",
      "  saving_api.save_model(\n"
     ]
    },
    {
     "name": "stdout",
     "output_type": "stream",
     "text": [
      "56/56 [==============================] - 0s 956us/step\n",
      "cm [[633 207]\n",
      " [243 681]]\n",
      "cm.ravel() [633 207 243 681]\n",
      "Before balancing count  1.0    66\n",
      "0.0    24\n",
      "Name: class, dtype: int64\n",
      "~~~~~~~ value_counts: ~~~~~~~\n",
      "SHOULD BE BALANCED NOW: 0.0    66\n",
      "1.0    66\n",
      "Name: class, dtype: int64\n",
      "Before balancing count  1.0    69\n",
      "0.0    21\n",
      "Name: class, dtype: int64\n",
      "~~~~~~~ value_counts: ~~~~~~~\n",
      "SHOULD BE BALANCED NOW: 1.0    69\n",
      "0.0    69\n",
      "Name: class, dtype: int64\n",
      "done RE-training 0 of 3. "
     ]
    },
    {
     "name": "stderr",
     "output_type": "stream",
     "text": [
      "/home/st/sbhuvaji/anaconda3/lib/python3.9/site-packages/keras/src/engine/training.py:3000: UserWarning: You are saving your model as an HDF5 file via `model.save()`. This file format is considered legacy. We recommend using instead the native Keras format, e.g. `model.save('my_model.keras')`.\n",
      "  saving_api.save_model(\n"
     ]
    },
    {
     "name": "stdout",
     "output_type": "stream",
     "text": [
      "3/3 [==============================] - 0s 1ms/step\n",
      "cm [[12  9]\n",
      " [40 29]]\n",
      "cm.ravel() [12  9 40 29]\n",
      "done testing 0 of 2.\n",
      "3/3 [==============================] - 0s 2ms/step\n",
      "cm [[10 14]\n",
      " [31 35]]\n",
      "cm.ravel() [10 14 31 35]\n",
      "done testing 1 of 2.\n"
     ]
    },
    {
     "name": "stderr",
     "output_type": "stream",
     "text": [
      "/home/st/sbhuvaji/1AllP/Individual Patient_All Models/TLandTL/Actual TL/HeavyDecoder/WithCV/TL_Packages.py:582: UserWarning: FixedFormatter should only be used together with FixedLocator\n",
      "  axs[i].set_xticklabels([''] + ['0', '1'], fontsize='xx-large')\n",
      "/home/st/sbhuvaji/1AllP/Individual Patient_All Models/TLandTL/Actual TL/HeavyDecoder/WithCV/TL_Packages.py:583: UserWarning: FixedFormatter should only be used together with FixedLocator\n",
      "  axs[i].set_yticklabels([''] + ['0', '1'], fontsize='xx-large')\n",
      "  8%|▊         | 2/26 [06:10<1:14:21, 185.91s/it]"
     ]
    },
    {
     "name": "stdout",
     "output_type": "stream",
     "text": [
      "Runtime: 23 o' clock and 47 minutes\n",
      "~~~~~~~~~~~ 100 ~~~~~~~~~~~~~~~~~~~ 300 ~~~~~~~~~~~~~~~~~~~ SB-008 ~~~~~~~~~~~~~~~~~~~\n",
      "Before balancing count  1.0    2644\n",
      "0.0    1045\n",
      "Name: class, dtype: int64\n",
      "~~~~~~~ value_counts: ~~~~~~~\n",
      "SHOULD BE BALANCED NOW: 0.0    2644\n",
      "1.0    2644\n",
      "Name: class, dtype: int64\n",
      "X_train = 5288, y_train = 5288\n",
      "Population Fold 0: Training data size = 3525, Validation data size = 1763\n"
     ]
    },
    {
     "name": "stderr",
     "output_type": "stream",
     "text": [
      "/home/st/sbhuvaji/anaconda3/lib/python3.9/site-packages/keras/src/engine/training.py:3000: UserWarning: You are saving your model as an HDF5 file via `model.save()`. This file format is considered legacy. We recommend using instead the native Keras format, e.g. `model.save('my_model.keras')`.\n",
      "  saving_api.save_model(\n"
     ]
    },
    {
     "name": "stdout",
     "output_type": "stream",
     "text": [
      "56/56 [==============================] - 0s 905us/step\n",
      "cm [[659 225]\n",
      " [267 612]]\n",
      "cm.ravel() [659 225 267 612]\n",
      "Before balancing count  1.0    70\n",
      "0.0    19\n",
      "Name: class, dtype: int64\n",
      "~~~~~~~ value_counts: ~~~~~~~\n",
      "SHOULD BE BALANCED NOW: 1.0    70\n",
      "0.0    70\n",
      "Name: class, dtype: int64\n",
      "Before balancing count  1.0    65\n",
      "0.0    24\n",
      "Name: class, dtype: int64\n",
      "~~~~~~~ value_counts: ~~~~~~~\n",
      "SHOULD BE BALANCED NOW: 0.0    65\n",
      "1.0    65\n",
      "Name: class, dtype: int64\n",
      "done RE-training 0 of 3. "
     ]
    },
    {
     "name": "stderr",
     "output_type": "stream",
     "text": [
      "/home/st/sbhuvaji/anaconda3/lib/python3.9/site-packages/keras/src/engine/training.py:3000: UserWarning: You are saving your model as an HDF5 file via `model.save()`. This file format is considered legacy. We recommend using instead the native Keras format, e.g. `model.save('my_model.keras')`.\n",
      "  saving_api.save_model(\n"
     ]
    },
    {
     "name": "stdout",
     "output_type": "stream",
     "text": [
      "3/3 [==============================] - 0s 1ms/step\n",
      "cm [[10 14]\n",
      " [21 44]]\n",
      "cm.ravel() [10 14 21 44]\n",
      "done testing 0 of 2.\n",
      "3/3 [==============================] - 0s 1ms/step\n",
      "cm [[11  8]\n",
      " [25 45]]\n",
      "cm.ravel() [11  8 25 45]\n",
      "done testing 1 of 2.\n"
     ]
    },
    {
     "name": "stderr",
     "output_type": "stream",
     "text": [
      "/home/st/sbhuvaji/1AllP/Individual Patient_All Models/TLandTL/Actual TL/HeavyDecoder/WithCV/TL_Packages.py:582: UserWarning: FixedFormatter should only be used together with FixedLocator\n",
      "  axs[i].set_xticklabels([''] + ['0', '1'], fontsize='xx-large')\n",
      "/home/st/sbhuvaji/1AllP/Individual Patient_All Models/TLandTL/Actual TL/HeavyDecoder/WithCV/TL_Packages.py:583: UserWarning: FixedFormatter should only be used together with FixedLocator\n",
      "  axs[i].set_yticklabels([''] + ['0', '1'], fontsize='xx-large')\n"
     ]
    },
    {
     "name": "stdout",
     "output_type": "stream",
     "text": [
      "Population Fold 1: Training data size = 3525, Validation data size = 1763\n"
     ]
    },
    {
     "name": "stderr",
     "output_type": "stream",
     "text": [
      "/home/st/sbhuvaji/anaconda3/lib/python3.9/site-packages/keras/src/engine/training.py:3000: UserWarning: You are saving your model as an HDF5 file via `model.save()`. This file format is considered legacy. We recommend using instead the native Keras format, e.g. `model.save('my_model.keras')`.\n",
      "  saving_api.save_model(\n"
     ]
    },
    {
     "name": "stdout",
     "output_type": "stream",
     "text": [
      "56/56 [==============================] - 0s 877us/step\n",
      "cm [[705 186]\n",
      " [305 567]]\n",
      "cm.ravel() [705 186 305 567]\n",
      "Before balancing count  1.0    67\n",
      "0.0    22\n",
      "Name: class, dtype: int64\n",
      "~~~~~~~ value_counts: ~~~~~~~\n",
      "SHOULD BE BALANCED NOW: 1.0    67\n",
      "0.0    67\n",
      "Name: class, dtype: int64\n",
      "Before balancing count  1.0    68\n",
      "0.0    21\n",
      "Name: class, dtype: int64\n",
      "~~~~~~~ value_counts: ~~~~~~~\n",
      "SHOULD BE BALANCED NOW: 1.0    68\n",
      "0.0    68\n",
      "Name: class, dtype: int64\n",
      "done RE-training 0 of 3. "
     ]
    },
    {
     "name": "stderr",
     "output_type": "stream",
     "text": [
      "/home/st/sbhuvaji/anaconda3/lib/python3.9/site-packages/keras/src/engine/training.py:3000: UserWarning: You are saving your model as an HDF5 file via `model.save()`. This file format is considered legacy. We recommend using instead the native Keras format, e.g. `model.save('my_model.keras')`.\n",
      "  saving_api.save_model(\n"
     ]
    },
    {
     "name": "stdout",
     "output_type": "stream",
     "text": [
      "3/3 [==============================] - 0s 2ms/step\n",
      "cm [[15  6]\n",
      " [23 45]]\n",
      "cm.ravel() [15  6 23 45]\n",
      "done testing 0 of 2.\n",
      "3/3 [==============================] - 0s 1ms/step\n",
      "cm [[16  6]\n",
      " [26 41]]\n",
      "cm.ravel() [16  6 26 41]\n",
      "done testing 1 of 2.\n"
     ]
    },
    {
     "name": "stderr",
     "output_type": "stream",
     "text": [
      "/home/st/sbhuvaji/1AllP/Individual Patient_All Models/TLandTL/Actual TL/HeavyDecoder/WithCV/TL_Packages.py:582: UserWarning: FixedFormatter should only be used together with FixedLocator\n",
      "  axs[i].set_xticklabels([''] + ['0', '1'], fontsize='xx-large')\n",
      "/home/st/sbhuvaji/1AllP/Individual Patient_All Models/TLandTL/Actual TL/HeavyDecoder/WithCV/TL_Packages.py:583: UserWarning: FixedFormatter should only be used together with FixedLocator\n",
      "  axs[i].set_yticklabels([''] + ['0', '1'], fontsize='xx-large')\n"
     ]
    },
    {
     "name": "stdout",
     "output_type": "stream",
     "text": [
      "Population Fold 2: Training data size = 3526, Validation data size = 1762\n"
     ]
    },
    {
     "name": "stderr",
     "output_type": "stream",
     "text": [
      "/home/st/sbhuvaji/anaconda3/lib/python3.9/site-packages/keras/src/engine/training.py:3000: UserWarning: You are saving your model as an HDF5 file via `model.save()`. This file format is considered legacy. We recommend using instead the native Keras format, e.g. `model.save('my_model.keras')`.\n",
      "  saving_api.save_model(\n"
     ]
    },
    {
     "name": "stdout",
     "output_type": "stream",
     "text": [
      "56/56 [==============================] - 0s 852us/step\n",
      "cm [[650 219]\n",
      " [214 679]]\n",
      "cm.ravel() [650 219 214 679]\n",
      "Before balancing count  1.0    67\n",
      "0.0    22\n",
      "Name: class, dtype: int64\n",
      "~~~~~~~ value_counts: ~~~~~~~\n",
      "SHOULD BE BALANCED NOW: 1.0    67\n",
      "0.0    67\n",
      "Name: class, dtype: int64\n",
      "Before balancing count  1.0    68\n",
      "0.0    21\n",
      "Name: class, dtype: int64\n",
      "~~~~~~~ value_counts: ~~~~~~~\n",
      "SHOULD BE BALANCED NOW: 1.0    68\n",
      "0.0    68\n",
      "Name: class, dtype: int64\n",
      "done RE-training 0 of 3. "
     ]
    },
    {
     "name": "stderr",
     "output_type": "stream",
     "text": [
      "/home/st/sbhuvaji/anaconda3/lib/python3.9/site-packages/keras/src/engine/training.py:3000: UserWarning: You are saving your model as an HDF5 file via `model.save()`. This file format is considered legacy. We recommend using instead the native Keras format, e.g. `model.save('my_model.keras')`.\n",
      "  saving_api.save_model(\n"
     ]
    },
    {
     "name": "stdout",
     "output_type": "stream",
     "text": [
      "3/3 [==============================] - 0s 2ms/step\n",
      "cm [[15  6]\n",
      " [36 32]]\n",
      "cm.ravel() [15  6 36 32]\n",
      "done testing 0 of 2.\n",
      "3/3 [==============================] - 0s 2ms/step\n",
      "cm [[16  6]\n",
      " [34 33]]\n",
      "cm.ravel() [16  6 34 33]\n",
      "done testing 1 of 2.\n"
     ]
    },
    {
     "name": "stderr",
     "output_type": "stream",
     "text": [
      "/home/st/sbhuvaji/1AllP/Individual Patient_All Models/TLandTL/Actual TL/HeavyDecoder/WithCV/TL_Packages.py:582: UserWarning: FixedFormatter should only be used together with FixedLocator\n",
      "  axs[i].set_xticklabels([''] + ['0', '1'], fontsize='xx-large')\n",
      "/home/st/sbhuvaji/1AllP/Individual Patient_All Models/TLandTL/Actual TL/HeavyDecoder/WithCV/TL_Packages.py:583: UserWarning: FixedFormatter should only be used together with FixedLocator\n",
      "  axs[i].set_yticklabels([''] + ['0', '1'], fontsize='xx-large')\n",
      " 12%|█▏        | 3/26 [09:16<1:11:18, 186.02s/it]"
     ]
    },
    {
     "name": "stdout",
     "output_type": "stream",
     "text": [
      "Runtime: 23 o' clock and 50 minutes\n",
      "~~~~~~~~~~~ 100 ~~~~~~~~~~~~~~~~~~~ 300 ~~~~~~~~~~~~~~~~~~~ SB-011 ~~~~~~~~~~~~~~~~~~~\n",
      "Before balancing count  1.0    2643\n",
      "0.0    1016\n",
      "Name: class, dtype: int64\n",
      "~~~~~~~ value_counts: ~~~~~~~\n",
      "SHOULD BE BALANCED NOW: 0.0    2643\n",
      "1.0    2643\n",
      "Name: class, dtype: int64\n",
      "X_train = 5286, y_train = 5286\n",
      "Population Fold 0: Training data size = 3524, Validation data size = 1762\n"
     ]
    },
    {
     "name": "stderr",
     "output_type": "stream",
     "text": [
      "/home/st/sbhuvaji/anaconda3/lib/python3.9/site-packages/keras/src/engine/training.py:3000: UserWarning: You are saving your model as an HDF5 file via `model.save()`. This file format is considered legacy. We recommend using instead the native Keras format, e.g. `model.save('my_model.keras')`.\n",
      "  saving_api.save_model(\n"
     ]
    },
    {
     "name": "stdout",
     "output_type": "stream",
     "text": [
      "56/56 [==============================] - 0s 877us/step\n",
      "cm [[664 217]\n",
      " [276 605]]\n",
      "cm.ravel() [664 217 276 605]\n",
      "Before balancing count  1.0    69\n",
      "0.0    36\n",
      "Name: class, dtype: int64\n",
      "~~~~~~~ value_counts: ~~~~~~~\n",
      "SHOULD BE BALANCED NOW: 1.0    69\n",
      "0.0    69\n",
      "Name: class, dtype: int64\n",
      "Before balancing count  1.0    78\n",
      "0.0    27\n",
      "Name: class, dtype: int64\n",
      "~~~~~~~ value_counts: ~~~~~~~\n",
      "SHOULD BE BALANCED NOW: 1.0    78\n",
      "0.0    78\n",
      "Name: class, dtype: int64\n",
      "done RE-training 0 of 3. "
     ]
    },
    {
     "name": "stderr",
     "output_type": "stream",
     "text": [
      "/home/st/sbhuvaji/anaconda3/lib/python3.9/site-packages/keras/src/engine/training.py:3000: UserWarning: You are saving your model as an HDF5 file via `model.save()`. This file format is considered legacy. We recommend using instead the native Keras format, e.g. `model.save('my_model.keras')`.\n",
      "  saving_api.save_model(\n"
     ]
    },
    {
     "name": "stdout",
     "output_type": "stream",
     "text": [
      "4/4 [==============================] - 0s 1ms/step\n",
      "cm [[24  3]\n",
      " [16 62]]\n",
      "cm.ravel() [24  3 16 62]\n",
      "done testing 0 of 2.\n",
      "4/4 [==============================] - 0s 1ms/step\n",
      "cm [[27  9]\n",
      " [15 54]]\n",
      "cm.ravel() [27  9 15 54]\n",
      "done testing 1 of 2.\n"
     ]
    },
    {
     "name": "stderr",
     "output_type": "stream",
     "text": [
      "/home/st/sbhuvaji/1AllP/Individual Patient_All Models/TLandTL/Actual TL/HeavyDecoder/WithCV/TL_Packages.py:582: UserWarning: FixedFormatter should only be used together with FixedLocator\n",
      "  axs[i].set_xticklabels([''] + ['0', '1'], fontsize='xx-large')\n",
      "/home/st/sbhuvaji/1AllP/Individual Patient_All Models/TLandTL/Actual TL/HeavyDecoder/WithCV/TL_Packages.py:583: UserWarning: FixedFormatter should only be used together with FixedLocator\n",
      "  axs[i].set_yticklabels([''] + ['0', '1'], fontsize='xx-large')\n"
     ]
    },
    {
     "name": "stdout",
     "output_type": "stream",
     "text": [
      "Population Fold 1: Training data size = 3524, Validation data size = 1762\n"
     ]
    },
    {
     "name": "stderr",
     "output_type": "stream",
     "text": [
      "/home/st/sbhuvaji/anaconda3/lib/python3.9/site-packages/keras/src/engine/training.py:3000: UserWarning: You are saving your model as an HDF5 file via `model.save()`. This file format is considered legacy. We recommend using instead the native Keras format, e.g. `model.save('my_model.keras')`.\n",
      "  saving_api.save_model(\n"
     ]
    },
    {
     "name": "stdout",
     "output_type": "stream",
     "text": [
      "56/56 [==============================] - 0s 877us/step\n",
      "cm [[667 201]\n",
      " [279 615]]\n",
      "cm.ravel() [667 201 279 615]\n",
      "Before balancing count  1.0    76\n",
      "0.0    29\n",
      "Name: class, dtype: int64\n",
      "~~~~~~~ value_counts: ~~~~~~~\n",
      "SHOULD BE BALANCED NOW: 0.0    76\n",
      "1.0    76\n",
      "Name: class, dtype: int64\n",
      "Before balancing count  1.0    71\n",
      "0.0    34\n",
      "Name: class, dtype: int64\n",
      "~~~~~~~ value_counts: ~~~~~~~\n",
      "SHOULD BE BALANCED NOW: 1.0    71\n",
      "0.0    71\n",
      "Name: class, dtype: int64\n",
      "done RE-training 0 of 3. "
     ]
    },
    {
     "name": "stderr",
     "output_type": "stream",
     "text": [
      "/home/st/sbhuvaji/anaconda3/lib/python3.9/site-packages/keras/src/engine/training.py:3000: UserWarning: You are saving your model as an HDF5 file via `model.save()`. This file format is considered legacy. We recommend using instead the native Keras format, e.g. `model.save('my_model.keras')`.\n",
      "  saving_api.save_model(\n"
     ]
    },
    {
     "name": "stdout",
     "output_type": "stream",
     "text": [
      "4/4 [==============================] - 0s 1ms/step\n",
      "cm [[25  9]\n",
      " [20 51]]\n",
      "cm.ravel() [25  9 20 51]\n",
      "done testing 0 of 2.\n",
      "4/4 [==============================] - 0s 1ms/step\n",
      "cm [[20  9]\n",
      " [11 65]]\n",
      "cm.ravel() [20  9 11 65]\n",
      "done testing 1 of 2.\n"
     ]
    },
    {
     "name": "stderr",
     "output_type": "stream",
     "text": [
      "/home/st/sbhuvaji/1AllP/Individual Patient_All Models/TLandTL/Actual TL/HeavyDecoder/WithCV/TL_Packages.py:582: UserWarning: FixedFormatter should only be used together with FixedLocator\n",
      "  axs[i].set_xticklabels([''] + ['0', '1'], fontsize='xx-large')\n",
      "/home/st/sbhuvaji/1AllP/Individual Patient_All Models/TLandTL/Actual TL/HeavyDecoder/WithCV/TL_Packages.py:583: UserWarning: FixedFormatter should only be used together with FixedLocator\n",
      "  axs[i].set_yticklabels([''] + ['0', '1'], fontsize='xx-large')\n"
     ]
    },
    {
     "name": "stdout",
     "output_type": "stream",
     "text": [
      "Population Fold 2: Training data size = 3524, Validation data size = 1762\n"
     ]
    },
    {
     "name": "stderr",
     "output_type": "stream",
     "text": [
      "/home/st/sbhuvaji/anaconda3/lib/python3.9/site-packages/keras/src/engine/training.py:3000: UserWarning: You are saving your model as an HDF5 file via `model.save()`. This file format is considered legacy. We recommend using instead the native Keras format, e.g. `model.save('my_model.keras')`.\n",
      "  saving_api.save_model(\n"
     ]
    },
    {
     "name": "stdout",
     "output_type": "stream",
     "text": [
      "56/56 [==============================] - 0s 898us/step\n",
      "cm [[623 271]\n",
      " [164 704]]\n",
      "cm.ravel() [623 271 164 704]\n",
      "Before balancing count  1.0    71\n",
      "0.0    34\n",
      "Name: class, dtype: int64\n",
      "~~~~~~~ value_counts: ~~~~~~~\n",
      "SHOULD BE BALANCED NOW: 1.0    71\n",
      "0.0    71\n",
      "Name: class, dtype: int64\n",
      "Before balancing count  1.0    76\n",
      "0.0    29\n",
      "Name: class, dtype: int64\n",
      "~~~~~~~ value_counts: ~~~~~~~\n",
      "SHOULD BE BALANCED NOW: 0.0    76\n",
      "1.0    76\n",
      "Name: class, dtype: int64\n",
      "done RE-training 0 of 3. "
     ]
    },
    {
     "name": "stderr",
     "output_type": "stream",
     "text": [
      "/home/st/sbhuvaji/anaconda3/lib/python3.9/site-packages/keras/src/engine/training.py:3000: UserWarning: You are saving your model as an HDF5 file via `model.save()`. This file format is considered legacy. We recommend using instead the native Keras format, e.g. `model.save('my_model.keras')`.\n",
      "  saving_api.save_model(\n"
     ]
    },
    {
     "name": "stdout",
     "output_type": "stream",
     "text": [
      "4/4 [==============================] - 0s 1ms/step\n",
      "cm [[25  4]\n",
      " [15 61]]\n",
      "cm.ravel() [25  4 15 61]\n",
      "done testing 0 of 2.\n",
      "4/4 [==============================] - 0s 1ms/step\n",
      "cm [[28  6]\n",
      " [16 55]]\n",
      "cm.ravel() [28  6 16 55]\n",
      "done testing 1 of 2.\n"
     ]
    },
    {
     "name": "stderr",
     "output_type": "stream",
     "text": [
      "/home/st/sbhuvaji/1AllP/Individual Patient_All Models/TLandTL/Actual TL/HeavyDecoder/WithCV/TL_Packages.py:582: UserWarning: FixedFormatter should only be used together with FixedLocator\n",
      "  axs[i].set_xticklabels([''] + ['0', '1'], fontsize='xx-large')\n",
      "/home/st/sbhuvaji/1AllP/Individual Patient_All Models/TLandTL/Actual TL/HeavyDecoder/WithCV/TL_Packages.py:583: UserWarning: FixedFormatter should only be used together with FixedLocator\n",
      "  axs[i].set_yticklabels([''] + ['0', '1'], fontsize='xx-large')\n",
      " 15%|█▌        | 4/26 [12:20<1:07:53, 185.14s/it]"
     ]
    },
    {
     "name": "stdout",
     "output_type": "stream",
     "text": [
      "Runtime: 23 o' clock and 53 minutes\n",
      "~~~~~~~~~~~ 100 ~~~~~~~~~~~~~~~~~~~ 300 ~~~~~~~~~~~~~~~~~~~ SB-012 ~~~~~~~~~~~~~~~~~~~\n",
      "Before balancing count  1.0    2651\n",
      "0.0    1023\n",
      "Name: class, dtype: int64\n",
      "~~~~~~~ value_counts: ~~~~~~~\n",
      "SHOULD BE BALANCED NOW: 1.0    2651\n",
      "0.0    2651\n",
      "Name: class, dtype: int64\n",
      "X_train = 5302, y_train = 5302\n",
      "Population Fold 0: Training data size = 3534, Validation data size = 1768\n"
     ]
    },
    {
     "name": "stderr",
     "output_type": "stream",
     "text": [
      "/home/st/sbhuvaji/anaconda3/lib/python3.9/site-packages/keras/src/engine/training.py:3000: UserWarning: You are saving your model as an HDF5 file via `model.save()`. This file format is considered legacy. We recommend using instead the native Keras format, e.g. `model.save('my_model.keras')`.\n",
      "  saving_api.save_model(\n"
     ]
    },
    {
     "name": "stdout",
     "output_type": "stream",
     "text": [
      "56/56 [==============================] - 0s 872us/step\n",
      "cm [[676 241]\n",
      " [206 645]]\n",
      "cm.ravel() [676 241 206 645]\n",
      "Before balancing count  1.0    68\n",
      "0.0    29\n",
      "Name: class, dtype: int64\n",
      "~~~~~~~ value_counts: ~~~~~~~\n",
      "SHOULD BE BALANCED NOW: 1.0    68\n",
      "0.0    68\n",
      "Name: class, dtype: int64\n",
      "Before balancing count  1.0    69\n",
      "0.0    28\n",
      "Name: class, dtype: int64\n",
      "~~~~~~~ value_counts: ~~~~~~~\n",
      "SHOULD BE BALANCED NOW: 1.0    69\n",
      "0.0    69\n",
      "Name: class, dtype: int64\n",
      "done RE-training 0 of 3. "
     ]
    },
    {
     "name": "stderr",
     "output_type": "stream",
     "text": [
      "/home/st/sbhuvaji/anaconda3/lib/python3.9/site-packages/keras/src/engine/training.py:3000: UserWarning: You are saving your model as an HDF5 file via `model.save()`. This file format is considered legacy. We recommend using instead the native Keras format, e.g. `model.save('my_model.keras')`.\n",
      "  saving_api.save_model(\n"
     ]
    },
    {
     "name": "stdout",
     "output_type": "stream",
     "text": [
      "4/4 [==============================] - 0s 1ms/step\n",
      "cm [[17 11]\n",
      " [14 55]]\n",
      "cm.ravel() [17 11 14 55]\n",
      "done testing 0 of 2.\n",
      "4/4 [==============================] - 0s 1ms/step\n",
      "cm [[26  3]\n",
      " [21 47]]\n",
      "cm.ravel() [26  3 21 47]\n",
      "done testing 1 of 2.\n"
     ]
    },
    {
     "name": "stderr",
     "output_type": "stream",
     "text": [
      "/home/st/sbhuvaji/1AllP/Individual Patient_All Models/TLandTL/Actual TL/HeavyDecoder/WithCV/TL_Packages.py:582: UserWarning: FixedFormatter should only be used together with FixedLocator\n",
      "  axs[i].set_xticklabels([''] + ['0', '1'], fontsize='xx-large')\n",
      "/home/st/sbhuvaji/1AllP/Individual Patient_All Models/TLandTL/Actual TL/HeavyDecoder/WithCV/TL_Packages.py:583: UserWarning: FixedFormatter should only be used together with FixedLocator\n",
      "  axs[i].set_yticklabels([''] + ['0', '1'], fontsize='xx-large')\n"
     ]
    },
    {
     "name": "stdout",
     "output_type": "stream",
     "text": [
      "Population Fold 1: Training data size = 3535, Validation data size = 1767\n"
     ]
    },
    {
     "name": "stderr",
     "output_type": "stream",
     "text": [
      "/home/st/sbhuvaji/anaconda3/lib/python3.9/site-packages/keras/src/engine/training.py:3000: UserWarning: You are saving your model as an HDF5 file via `model.save()`. This file format is considered legacy. We recommend using instead the native Keras format, e.g. `model.save('my_model.keras')`.\n",
      "  saving_api.save_model(\n"
     ]
    },
    {
     "name": "stdout",
     "output_type": "stream",
     "text": [
      "56/56 [==============================] - 0s 869us/step\n",
      "cm [[654 201]\n",
      " [282 630]]\n",
      "cm.ravel() [654 201 282 630]\n",
      "Before balancing count  1.0    72\n",
      "0.0    25\n",
      "Name: class, dtype: int64\n",
      "~~~~~~~ value_counts: ~~~~~~~\n",
      "SHOULD BE BALANCED NOW: 1.0    72\n",
      "0.0    72\n",
      "Name: class, dtype: int64\n",
      "Before balancing count  1.0    65\n",
      "0.0    32\n",
      "Name: class, dtype: int64\n",
      "~~~~~~~ value_counts: ~~~~~~~\n",
      "SHOULD BE BALANCED NOW: 0.0    65\n",
      "1.0    65\n",
      "Name: class, dtype: int64\n",
      "done RE-training 0 of 3. "
     ]
    },
    {
     "name": "stderr",
     "output_type": "stream",
     "text": [
      "/home/st/sbhuvaji/anaconda3/lib/python3.9/site-packages/keras/src/engine/training.py:3000: UserWarning: You are saving your model as an HDF5 file via `model.save()`. This file format is considered legacy. We recommend using instead the native Keras format, e.g. `model.save('my_model.keras')`.\n",
      "  saving_api.save_model(\n"
     ]
    },
    {
     "name": "stdout",
     "output_type": "stream",
     "text": [
      "4/4 [==============================] - 0s 1ms/step\n",
      "cm [[20 12]\n",
      " [11 54]]\n",
      "cm.ravel() [20 12 11 54]\n",
      "done testing 0 of 2.\n",
      "4/4 [==============================] - 0s 1ms/step\n",
      "cm [[16  9]\n",
      " [16 56]]\n",
      "cm.ravel() [16  9 16 56]\n",
      "done testing 1 of 2.\n"
     ]
    },
    {
     "name": "stderr",
     "output_type": "stream",
     "text": [
      "/home/st/sbhuvaji/1AllP/Individual Patient_All Models/TLandTL/Actual TL/HeavyDecoder/WithCV/TL_Packages.py:582: UserWarning: FixedFormatter should only be used together with FixedLocator\n",
      "  axs[i].set_xticklabels([''] + ['0', '1'], fontsize='xx-large')\n",
      "/home/st/sbhuvaji/1AllP/Individual Patient_All Models/TLandTL/Actual TL/HeavyDecoder/WithCV/TL_Packages.py:583: UserWarning: FixedFormatter should only be used together with FixedLocator\n",
      "  axs[i].set_yticklabels([''] + ['0', '1'], fontsize='xx-large')\n"
     ]
    },
    {
     "name": "stdout",
     "output_type": "stream",
     "text": [
      "Population Fold 2: Training data size = 3535, Validation data size = 1767\n"
     ]
    },
    {
     "name": "stderr",
     "output_type": "stream",
     "text": [
      "/home/st/sbhuvaji/anaconda3/lib/python3.9/site-packages/keras/src/engine/training.py:3000: UserWarning: You are saving your model as an HDF5 file via `model.save()`. This file format is considered legacy. We recommend using instead the native Keras format, e.g. `model.save('my_model.keras')`.\n",
      "  saving_api.save_model(\n"
     ]
    },
    {
     "name": "stdout",
     "output_type": "stream",
     "text": [
      "56/56 [==============================] - 0s 888us/step\n",
      "cm [[643 236]\n",
      " [213 675]]\n",
      "cm.ravel() [643 236 213 675]\n",
      "Before balancing count  1.0    75\n",
      "0.0    22\n",
      "Name: class, dtype: int64\n",
      "~~~~~~~ value_counts: ~~~~~~~\n",
      "SHOULD BE BALANCED NOW: 0.0    75\n",
      "1.0    75\n",
      "Name: class, dtype: int64\n",
      "Before balancing count  1.0    62\n",
      "0.0    35\n",
      "Name: class, dtype: int64\n",
      "~~~~~~~ value_counts: ~~~~~~~\n",
      "SHOULD BE BALANCED NOW: 0.0    62\n",
      "1.0    62\n",
      "Name: class, dtype: int64\n",
      "done RE-training 0 of 3. "
     ]
    },
    {
     "name": "stderr",
     "output_type": "stream",
     "text": [
      "/home/st/sbhuvaji/anaconda3/lib/python3.9/site-packages/keras/src/engine/training.py:3000: UserWarning: You are saving your model as an HDF5 file via `model.save()`. This file format is considered legacy. We recommend using instead the native Keras format, e.g. `model.save('my_model.keras')`.\n",
      "  saving_api.save_model(\n"
     ]
    },
    {
     "name": "stdout",
     "output_type": "stream",
     "text": [
      "4/4 [==============================] - 0s 1ms/step\n",
      "cm [[19 16]\n",
      " [11 51]]\n",
      "cm.ravel() [19 16 11 51]\n",
      "done testing 0 of 2.\n",
      "4/4 [==============================] - 0s 1ms/step\n",
      "cm [[15  7]\n",
      " [19 56]]\n",
      "cm.ravel() [15  7 19 56]\n",
      "done testing 1 of 2.\n"
     ]
    },
    {
     "name": "stderr",
     "output_type": "stream",
     "text": [
      "/home/st/sbhuvaji/1AllP/Individual Patient_All Models/TLandTL/Actual TL/HeavyDecoder/WithCV/TL_Packages.py:582: UserWarning: FixedFormatter should only be used together with FixedLocator\n",
      "  axs[i].set_xticklabels([''] + ['0', '1'], fontsize='xx-large')\n",
      "/home/st/sbhuvaji/1AllP/Individual Patient_All Models/TLandTL/Actual TL/HeavyDecoder/WithCV/TL_Packages.py:583: UserWarning: FixedFormatter should only be used together with FixedLocator\n",
      "  axs[i].set_yticklabels([''] + ['0', '1'], fontsize='xx-large')\n",
      " 19%|█▉        | 5/26 [15:27<1:05:01, 185.79s/it]"
     ]
    },
    {
     "name": "stdout",
     "output_type": "stream",
     "text": [
      "Runtime: 23 o' clock and 56 minutes\n",
      "~~~~~~~~~~~ 100 ~~~~~~~~~~~~~~~~~~~ 300 ~~~~~~~~~~~~~~~~~~~ SB-022 ~~~~~~~~~~~~~~~~~~~\n",
      "Before balancing count  1.0    2647\n",
      "0.0    1018\n",
      "Name: class, dtype: int64\n",
      "~~~~~~~ value_counts: ~~~~~~~\n",
      "SHOULD BE BALANCED NOW: 0.0    2647\n",
      "1.0    2647\n",
      "Name: class, dtype: int64\n",
      "X_train = 5294, y_train = 5294\n",
      "Population Fold 0: Training data size = 3529, Validation data size = 1765\n"
     ]
    },
    {
     "name": "stderr",
     "output_type": "stream",
     "text": [
      "/home/st/sbhuvaji/anaconda3/lib/python3.9/site-packages/keras/src/engine/training.py:3000: UserWarning: You are saving your model as an HDF5 file via `model.save()`. This file format is considered legacy. We recommend using instead the native Keras format, e.g. `model.save('my_model.keras')`.\n",
      "  saving_api.save_model(\n"
     ]
    },
    {
     "name": "stdout",
     "output_type": "stream",
     "text": [
      "56/56 [==============================] - 0s 856us/step\n",
      "cm [[685 201]\n",
      " [266 613]]\n",
      "cm.ravel() [685 201 266 613]\n",
      "Before balancing count  1.0    69\n",
      "0.0    33\n",
      "Name: class, dtype: int64\n",
      "~~~~~~~ value_counts: ~~~~~~~\n",
      "SHOULD BE BALANCED NOW: 1.0    69\n",
      "0.0    69\n",
      "Name: class, dtype: int64\n",
      "Before balancing count  1.0    74\n",
      "0.0    28\n",
      "Name: class, dtype: int64\n",
      "~~~~~~~ value_counts: ~~~~~~~\n",
      "SHOULD BE BALANCED NOW: 1.0    74\n",
      "0.0    74\n",
      "Name: class, dtype: int64\n",
      "done RE-training 0 of 3. "
     ]
    },
    {
     "name": "stderr",
     "output_type": "stream",
     "text": [
      "/home/st/sbhuvaji/anaconda3/lib/python3.9/site-packages/keras/src/engine/training.py:3000: UserWarning: You are saving your model as an HDF5 file via `model.save()`. This file format is considered legacy. We recommend using instead the native Keras format, e.g. `model.save('my_model.keras')`.\n",
      "  saving_api.save_model(\n"
     ]
    },
    {
     "name": "stdout",
     "output_type": "stream",
     "text": [
      "4/4 [==============================] - 0s 1ms/step\n",
      "cm [[13 15]\n",
      " [27 47]]\n",
      "cm.ravel() [13 15 27 47]\n",
      "done testing 0 of 2.\n",
      "4/4 [==============================] - 0s 2ms/step\n",
      "cm [[17 16]\n",
      " [17 52]]\n",
      "cm.ravel() [17 16 17 52]\n",
      "done testing 1 of 2.\n"
     ]
    },
    {
     "name": "stderr",
     "output_type": "stream",
     "text": [
      "/home/st/sbhuvaji/1AllP/Individual Patient_All Models/TLandTL/Actual TL/HeavyDecoder/WithCV/TL_Packages.py:582: UserWarning: FixedFormatter should only be used together with FixedLocator\n",
      "  axs[i].set_xticklabels([''] + ['0', '1'], fontsize='xx-large')\n",
      "/home/st/sbhuvaji/1AllP/Individual Patient_All Models/TLandTL/Actual TL/HeavyDecoder/WithCV/TL_Packages.py:583: UserWarning: FixedFormatter should only be used together with FixedLocator\n",
      "  axs[i].set_yticklabels([''] + ['0', '1'], fontsize='xx-large')\n"
     ]
    },
    {
     "name": "stdout",
     "output_type": "stream",
     "text": [
      "Population Fold 1: Training data size = 3529, Validation data size = 1765\n"
     ]
    },
    {
     "name": "stderr",
     "output_type": "stream",
     "text": [
      "/home/st/sbhuvaji/anaconda3/lib/python3.9/site-packages/keras/src/engine/training.py:3000: UserWarning: You are saving your model as an HDF5 file via `model.save()`. This file format is considered legacy. We recommend using instead the native Keras format, e.g. `model.save('my_model.keras')`.\n",
      "  saving_api.save_model(\n"
     ]
    },
    {
     "name": "stdout",
     "output_type": "stream",
     "text": [
      "56/56 [==============================] - 0s 865us/step\n",
      "cm [[698 186]\n",
      " [344 537]]\n",
      "cm.ravel() [698 186 344 537]\n",
      "Before balancing count  1.0    71\n",
      "0.0    31\n",
      "Name: class, dtype: int64\n",
      "~~~~~~~ value_counts: ~~~~~~~\n",
      "SHOULD BE BALANCED NOW: 1.0    71\n",
      "0.0    71\n",
      "Name: class, dtype: int64\n",
      "Before balancing count  1.0    72\n",
      "0.0    30\n",
      "Name: class, dtype: int64\n",
      "~~~~~~~ value_counts: ~~~~~~~\n",
      "SHOULD BE BALANCED NOW: 1.0    72\n",
      "0.0    72\n",
      "Name: class, dtype: int64\n",
      "done RE-training 0 of 3. "
     ]
    },
    {
     "name": "stderr",
     "output_type": "stream",
     "text": [
      "/home/st/sbhuvaji/anaconda3/lib/python3.9/site-packages/keras/src/engine/training.py:3000: UserWarning: You are saving your model as an HDF5 file via `model.save()`. This file format is considered legacy. We recommend using instead the native Keras format, e.g. `model.save('my_model.keras')`.\n",
      "  saving_api.save_model(\n"
     ]
    },
    {
     "name": "stdout",
     "output_type": "stream",
     "text": [
      "4/4 [==============================] - 0s 1ms/step\n",
      "cm [[22  8]\n",
      " [30 42]]\n",
      "cm.ravel() [22  8 30 42]\n",
      "done testing 0 of 2.\n",
      "4/4 [==============================] - 0s 1ms/step\n",
      "cm [[19 12]\n",
      " [14 57]]\n",
      "cm.ravel() [19 12 14 57]\n",
      "done testing 1 of 2.\n"
     ]
    },
    {
     "name": "stderr",
     "output_type": "stream",
     "text": [
      "/home/st/sbhuvaji/1AllP/Individual Patient_All Models/TLandTL/Actual TL/HeavyDecoder/WithCV/TL_Packages.py:582: UserWarning: FixedFormatter should only be used together with FixedLocator\n",
      "  axs[i].set_xticklabels([''] + ['0', '1'], fontsize='xx-large')\n",
      "/home/st/sbhuvaji/1AllP/Individual Patient_All Models/TLandTL/Actual TL/HeavyDecoder/WithCV/TL_Packages.py:583: UserWarning: FixedFormatter should only be used together with FixedLocator\n",
      "  axs[i].set_yticklabels([''] + ['0', '1'], fontsize='xx-large')\n"
     ]
    },
    {
     "name": "stdout",
     "output_type": "stream",
     "text": [
      "Population Fold 2: Training data size = 3530, Validation data size = 1764\n"
     ]
    },
    {
     "name": "stderr",
     "output_type": "stream",
     "text": [
      "/home/st/sbhuvaji/anaconda3/lib/python3.9/site-packages/keras/src/engine/training.py:3000: UserWarning: You are saving your model as an HDF5 file via `model.save()`. This file format is considered legacy. We recommend using instead the native Keras format, e.g. `model.save('my_model.keras')`.\n",
      "  saving_api.save_model(\n"
     ]
    },
    {
     "name": "stdout",
     "output_type": "stream",
     "text": [
      "56/56 [==============================] - 0s 890us/step\n",
      "cm [[634 243]\n",
      " [264 623]]\n",
      "cm.ravel() [634 243 264 623]\n",
      "Before balancing count  1.0    71\n",
      "0.0    31\n",
      "Name: class, dtype: int64\n",
      "~~~~~~~ value_counts: ~~~~~~~\n",
      "SHOULD BE BALANCED NOW: 1.0    71\n",
      "0.0    71\n",
      "Name: class, dtype: int64\n",
      "Before balancing count  1.0    72\n",
      "0.0    30\n",
      "Name: class, dtype: int64\n",
      "~~~~~~~ value_counts: ~~~~~~~\n",
      "SHOULD BE BALANCED NOW: 1.0    72\n",
      "0.0    72\n",
      "Name: class, dtype: int64\n",
      "done RE-training 0 of 3. "
     ]
    },
    {
     "name": "stderr",
     "output_type": "stream",
     "text": [
      "/home/st/sbhuvaji/anaconda3/lib/python3.9/site-packages/keras/src/engine/training.py:3000: UserWarning: You are saving your model as an HDF5 file via `model.save()`. This file format is considered legacy. We recommend using instead the native Keras format, e.g. `model.save('my_model.keras')`.\n",
      "  saving_api.save_model(\n"
     ]
    },
    {
     "name": "stdout",
     "output_type": "stream",
     "text": [
      "4/4 [==============================] - 0s 1ms/step\n",
      "cm [[20 10]\n",
      " [33 39]]\n",
      "cm.ravel() [20 10 33 39]\n",
      "done testing 0 of 2.\n",
      "4/4 [==============================] - 0s 1ms/step\n",
      "cm [[17 14]\n",
      " [21 50]]\n",
      "cm.ravel() [17 14 21 50]\n",
      "done testing 1 of 2.\n"
     ]
    },
    {
     "name": "stderr",
     "output_type": "stream",
     "text": [
      "/home/st/sbhuvaji/1AllP/Individual Patient_All Models/TLandTL/Actual TL/HeavyDecoder/WithCV/TL_Packages.py:582: UserWarning: FixedFormatter should only be used together with FixedLocator\n",
      "  axs[i].set_xticklabels([''] + ['0', '1'], fontsize='xx-large')\n",
      "/home/st/sbhuvaji/1AllP/Individual Patient_All Models/TLandTL/Actual TL/HeavyDecoder/WithCV/TL_Packages.py:583: UserWarning: FixedFormatter should only be used together with FixedLocator\n",
      "  axs[i].set_yticklabels([''] + ['0', '1'], fontsize='xx-large')\n",
      " 23%|██▎       | 6/26 [18:35<1:02:12, 186.64s/it]"
     ]
    },
    {
     "name": "stdout",
     "output_type": "stream",
     "text": [
      "Runtime: 23 o' clock and 59 minutes\n",
      "~~~~~~~~~~~ 100 ~~~~~~~~~~~~~~~~~~~ 300 ~~~~~~~~~~~~~~~~~~~ SB-023 ~~~~~~~~~~~~~~~~~~~\n",
      "Before balancing count  1.0    2643\n",
      "0.0    1031\n",
      "Name: class, dtype: int64\n",
      "~~~~~~~ value_counts: ~~~~~~~\n",
      "SHOULD BE BALANCED NOW: 0.0    2643\n",
      "1.0    2643\n",
      "Name: class, dtype: int64\n",
      "X_train = 5286, y_train = 5286\n",
      "Population Fold 0: Training data size = 3524, Validation data size = 1762\n"
     ]
    },
    {
     "name": "stderr",
     "output_type": "stream",
     "text": [
      "/home/st/sbhuvaji/anaconda3/lib/python3.9/site-packages/keras/src/engine/training.py:3000: UserWarning: You are saving your model as an HDF5 file via `model.save()`. This file format is considered legacy. We recommend using instead the native Keras format, e.g. `model.save('my_model.keras')`.\n",
      "  saving_api.save_model(\n"
     ]
    },
    {
     "name": "stdout",
     "output_type": "stream",
     "text": [
      "56/56 [==============================] - 0s 872us/step\n",
      "cm [[638 239]\n",
      " [265 620]]\n",
      "cm.ravel() [638 239 265 620]\n",
      "Before balancing count  1.0    65\n",
      "0.0    32\n",
      "Name: class, dtype: int64\n",
      "~~~~~~~ value_counts: ~~~~~~~\n",
      "SHOULD BE BALANCED NOW: 0.0    65\n",
      "1.0    65\n",
      "Name: class, dtype: int64\n",
      "Before balancing count  1.0    69\n",
      "0.0    28\n",
      "Name: class, dtype: int64\n",
      "~~~~~~~ value_counts: ~~~~~~~\n",
      "SHOULD BE BALANCED NOW: 1.0    69\n",
      "0.0    69\n",
      "Name: class, dtype: int64\n",
      "done RE-training 0 of 3. "
     ]
    },
    {
     "name": "stderr",
     "output_type": "stream",
     "text": [
      "/home/st/sbhuvaji/anaconda3/lib/python3.9/site-packages/keras/src/engine/training.py:3000: UserWarning: You are saving your model as an HDF5 file via `model.save()`. This file format is considered legacy. We recommend using instead the native Keras format, e.g. `model.save('my_model.keras')`.\n",
      "  saving_api.save_model(\n"
     ]
    },
    {
     "name": "stdout",
     "output_type": "stream",
     "text": [
      "4/4 [==============================] - 0s 1ms/step\n",
      "cm [[10 18]\n",
      " [17 52]]\n",
      "cm.ravel() [10 18 17 52]\n",
      "done testing 0 of 2.\n",
      "4/4 [==============================] - 0s 1ms/step\n",
      "cm [[18 14]\n",
      " [17 48]]\n",
      "cm.ravel() [18 14 17 48]\n",
      "done testing 1 of 2.\n"
     ]
    },
    {
     "name": "stderr",
     "output_type": "stream",
     "text": [
      "/home/st/sbhuvaji/1AllP/Individual Patient_All Models/TLandTL/Actual TL/HeavyDecoder/WithCV/TL_Packages.py:582: UserWarning: FixedFormatter should only be used together with FixedLocator\n",
      "  axs[i].set_xticklabels([''] + ['0', '1'], fontsize='xx-large')\n",
      "/home/st/sbhuvaji/1AllP/Individual Patient_All Models/TLandTL/Actual TL/HeavyDecoder/WithCV/TL_Packages.py:583: UserWarning: FixedFormatter should only be used together with FixedLocator\n",
      "  axs[i].set_yticklabels([''] + ['0', '1'], fontsize='xx-large')\n"
     ]
    },
    {
     "name": "stdout",
     "output_type": "stream",
     "text": [
      "Population Fold 1: Training data size = 3524, Validation data size = 1762\n"
     ]
    },
    {
     "name": "stderr",
     "output_type": "stream",
     "text": [
      "/home/st/sbhuvaji/anaconda3/lib/python3.9/site-packages/keras/src/engine/training.py:3000: UserWarning: You are saving your model as an HDF5 file via `model.save()`. This file format is considered legacy. We recommend using instead the native Keras format, e.g. `model.save('my_model.keras')`.\n",
      "  saving_api.save_model(\n"
     ]
    },
    {
     "name": "stdout",
     "output_type": "stream",
     "text": [
      "56/56 [==============================] - 0s 897us/step\n",
      "cm [[633 253]\n",
      " [246 630]]\n",
      "cm.ravel() [633 253 246 630]\n",
      "Before balancing count  1.0    68\n",
      "0.0    29\n",
      "Name: class, dtype: int64\n",
      "~~~~~~~ value_counts: ~~~~~~~\n",
      "SHOULD BE BALANCED NOW: 1.0    68\n",
      "0.0    68\n",
      "Name: class, dtype: int64\n",
      "Before balancing count  1.0    66\n",
      "0.0    31\n",
      "Name: class, dtype: int64\n",
      "~~~~~~~ value_counts: ~~~~~~~\n",
      "SHOULD BE BALANCED NOW: 0.0    66\n",
      "1.0    66\n",
      "Name: class, dtype: int64\n",
      "done RE-training 0 of 3. "
     ]
    },
    {
     "name": "stderr",
     "output_type": "stream",
     "text": [
      "/home/st/sbhuvaji/anaconda3/lib/python3.9/site-packages/keras/src/engine/training.py:3000: UserWarning: You are saving your model as an HDF5 file via `model.save()`. This file format is considered legacy. We recommend using instead the native Keras format, e.g. `model.save('my_model.keras')`.\n",
      "  saving_api.save_model(\n"
     ]
    },
    {
     "name": "stdout",
     "output_type": "stream",
     "text": [
      "4/4 [==============================] - 0s 1ms/step\n",
      "cm [[25  6]\n",
      " [30 36]]\n",
      "cm.ravel() [25  6 30 36]\n",
      "done testing 0 of 2.\n",
      "4/4 [==============================] - 0s 1ms/step\n",
      "cm [[13 16]\n",
      " [24 44]]\n",
      "cm.ravel() [13 16 24 44]\n",
      "done testing 1 of 2.\n"
     ]
    },
    {
     "name": "stderr",
     "output_type": "stream",
     "text": [
      "/home/st/sbhuvaji/1AllP/Individual Patient_All Models/TLandTL/Actual TL/HeavyDecoder/WithCV/TL_Packages.py:582: UserWarning: FixedFormatter should only be used together with FixedLocator\n",
      "  axs[i].set_xticklabels([''] + ['0', '1'], fontsize='xx-large')\n",
      "/home/st/sbhuvaji/1AllP/Individual Patient_All Models/TLandTL/Actual TL/HeavyDecoder/WithCV/TL_Packages.py:583: UserWarning: FixedFormatter should only be used together with FixedLocator\n",
      "  axs[i].set_yticklabels([''] + ['0', '1'], fontsize='xx-large')\n"
     ]
    },
    {
     "name": "stdout",
     "output_type": "stream",
     "text": [
      "Population Fold 2: Training data size = 3524, Validation data size = 1762\n"
     ]
    },
    {
     "name": "stderr",
     "output_type": "stream",
     "text": [
      "/home/st/sbhuvaji/anaconda3/lib/python3.9/site-packages/keras/src/engine/training.py:3000: UserWarning: You are saving your model as an HDF5 file via `model.save()`. This file format is considered legacy. We recommend using instead the native Keras format, e.g. `model.save('my_model.keras')`.\n",
      "  saving_api.save_model(\n"
     ]
    },
    {
     "name": "stdout",
     "output_type": "stream",
     "text": [
      "56/56 [==============================] - 0s 901us/step\n",
      "cm [[637 243]\n",
      " [224 658]]\n",
      "cm.ravel() [637 243 224 658]\n",
      "Before balancing count  1.0    63\n",
      "0.0    34\n",
      "Name: class, dtype: int64\n",
      "~~~~~~~ value_counts: ~~~~~~~\n",
      "SHOULD BE BALANCED NOW: 1.0    63\n",
      "0.0    63\n",
      "Name: class, dtype: int64\n",
      "Before balancing count  1.0    71\n",
      "0.0    26\n",
      "Name: class, dtype: int64\n",
      "~~~~~~~ value_counts: ~~~~~~~\n",
      "SHOULD BE BALANCED NOW: 1.0    71\n",
      "0.0    71\n",
      "Name: class, dtype: int64\n",
      "done RE-training 0 of 3. "
     ]
    },
    {
     "name": "stderr",
     "output_type": "stream",
     "text": [
      "/home/st/sbhuvaji/anaconda3/lib/python3.9/site-packages/keras/src/engine/training.py:3000: UserWarning: You are saving your model as an HDF5 file via `model.save()`. This file format is considered legacy. We recommend using instead the native Keras format, e.g. `model.save('my_model.keras')`.\n",
      "  saving_api.save_model(\n"
     ]
    },
    {
     "name": "stdout",
     "output_type": "stream",
     "text": [
      "4/4 [==============================] - 0s 1ms/step\n",
      "cm [[16 10]\n",
      " [34 37]]\n",
      "cm.ravel() [16 10 34 37]\n",
      "done testing 0 of 2.\n",
      "4/4 [==============================] - 0s 1ms/step\n",
      "cm [[15 19]\n",
      " [28 35]]\n",
      "cm.ravel() [15 19 28 35]\n",
      "done testing 1 of 2.\n"
     ]
    },
    {
     "name": "stderr",
     "output_type": "stream",
     "text": [
      "/home/st/sbhuvaji/1AllP/Individual Patient_All Models/TLandTL/Actual TL/HeavyDecoder/WithCV/TL_Packages.py:582: UserWarning: FixedFormatter should only be used together with FixedLocator\n",
      "  axs[i].set_xticklabels([''] + ['0', '1'], fontsize='xx-large')\n",
      "/home/st/sbhuvaji/1AllP/Individual Patient_All Models/TLandTL/Actual TL/HeavyDecoder/WithCV/TL_Packages.py:583: UserWarning: FixedFormatter should only be used together with FixedLocator\n",
      "  axs[i].set_yticklabels([''] + ['0', '1'], fontsize='xx-large')\n",
      " 27%|██▋       | 7/26 [21:41<58:57, 186.17s/it]  "
     ]
    },
    {
     "name": "stdout",
     "output_type": "stream",
     "text": [
      "Runtime: 0 o' clock and 3 minutes\n",
      "~~~~~~~~~~~ 100 ~~~~~~~~~~~~~~~~~~~ 300 ~~~~~~~~~~~~~~~~~~~ SB-025 ~~~~~~~~~~~~~~~~~~~\n",
      "Before balancing count  1.0    2702\n",
      "0.0    1045\n",
      "Name: class, dtype: int64\n",
      "~~~~~~~ value_counts: ~~~~~~~\n",
      "SHOULD BE BALANCED NOW: 0.0    2702\n",
      "1.0    2702\n",
      "Name: class, dtype: int64\n",
      "X_train = 5404, y_train = 5404\n",
      "Population Fold 0: Training data size = 3602, Validation data size = 1802\n"
     ]
    },
    {
     "name": "stderr",
     "output_type": "stream",
     "text": [
      "/home/st/sbhuvaji/anaconda3/lib/python3.9/site-packages/keras/src/engine/training.py:3000: UserWarning: You are saving your model as an HDF5 file via `model.save()`. This file format is considered legacy. We recommend using instead the native Keras format, e.g. `model.save('my_model.keras')`.\n",
      "  saving_api.save_model(\n"
     ]
    },
    {
     "name": "stdout",
     "output_type": "stream",
     "text": [
      "57/57 [==============================] - 0s 852us/step\n",
      "cm [[713 200]\n",
      " [340 549]]\n",
      "cm.ravel() [713 200 340 549]\n",
      "Before balancing count  1.0    43\n",
      "0.0    15\n",
      "Name: class, dtype: int64\n",
      "~~~~~~~ value_counts: ~~~~~~~\n",
      "SHOULD BE BALANCED NOW: 1.0    43\n",
      "0.0    43\n",
      "Name: class, dtype: int64\n",
      "Before balancing count  1.0    49\n",
      "0.0    10\n",
      "Name: class, dtype: int64\n",
      "~~~~~~~ value_counts: ~~~~~~~\n",
      "SHOULD BE BALANCED NOW: 1.0    49\n",
      "0.0    49\n",
      "Name: class, dtype: int64\n",
      "done RE-training 0 of 3. "
     ]
    },
    {
     "name": "stderr",
     "output_type": "stream",
     "text": [
      "/home/st/sbhuvaji/anaconda3/lib/python3.9/site-packages/keras/src/engine/training.py:3000: UserWarning: You are saving your model as an HDF5 file via `model.save()`. This file format is considered legacy. We recommend using instead the native Keras format, e.g. `model.save('my_model.keras')`.\n",
      "  saving_api.save_model(\n"
     ]
    },
    {
     "name": "stdout",
     "output_type": "stream",
     "text": [
      "2/2 [==============================] - 0s 2ms/step\n",
      "cm [[ 6  4]\n",
      " [23 26]]\n",
      "cm.ravel() [ 6  4 23 26]\n",
      "done testing 0 of 2.\n",
      "2/2 [==============================] - 0s 2ms/step\n",
      "cm [[10  5]\n",
      " [20 23]]\n",
      "cm.ravel() [10  5 20 23]\n",
      "done testing 1 of 2.\n"
     ]
    },
    {
     "name": "stderr",
     "output_type": "stream",
     "text": [
      "/home/st/sbhuvaji/1AllP/Individual Patient_All Models/TLandTL/Actual TL/HeavyDecoder/WithCV/TL_Packages.py:582: UserWarning: FixedFormatter should only be used together with FixedLocator\n",
      "  axs[i].set_xticklabels([''] + ['0', '1'], fontsize='xx-large')\n",
      "/home/st/sbhuvaji/1AllP/Individual Patient_All Models/TLandTL/Actual TL/HeavyDecoder/WithCV/TL_Packages.py:583: UserWarning: FixedFormatter should only be used together with FixedLocator\n",
      "  axs[i].set_yticklabels([''] + ['0', '1'], fontsize='xx-large')\n"
     ]
    },
    {
     "name": "stdout",
     "output_type": "stream",
     "text": [
      "Population Fold 1: Training data size = 3603, Validation data size = 1801\n"
     ]
    },
    {
     "name": "stderr",
     "output_type": "stream",
     "text": [
      "/home/st/sbhuvaji/anaconda3/lib/python3.9/site-packages/keras/src/engine/training.py:3000: UserWarning: You are saving your model as an HDF5 file via `model.save()`. This file format is considered legacy. We recommend using instead the native Keras format, e.g. `model.save('my_model.keras')`.\n",
      "  saving_api.save_model(\n"
     ]
    },
    {
     "name": "stdout",
     "output_type": "stream",
     "text": [
      "57/57 [==============================] - 0s 874us/step\n",
      "cm [[619 277]\n",
      " [198 707]]\n",
      "cm.ravel() [619 277 198 707]\n",
      "Before balancing count  1.0    43\n",
      "0.0    15\n",
      "Name: class, dtype: int64\n",
      "~~~~~~~ value_counts: ~~~~~~~\n",
      "SHOULD BE BALANCED NOW: 1.0    43\n",
      "0.0    43\n",
      "Name: class, dtype: int64\n",
      "Before balancing count  1.0    49\n",
      "0.0    10\n",
      "Name: class, dtype: int64\n",
      "~~~~~~~ value_counts: ~~~~~~~\n",
      "SHOULD BE BALANCED NOW: 1.0    49\n",
      "0.0    49\n",
      "Name: class, dtype: int64\n",
      "done RE-training 0 of 3. "
     ]
    },
    {
     "name": "stderr",
     "output_type": "stream",
     "text": [
      "/home/st/sbhuvaji/anaconda3/lib/python3.9/site-packages/keras/src/engine/training.py:3000: UserWarning: You are saving your model as an HDF5 file via `model.save()`. This file format is considered legacy. We recommend using instead the native Keras format, e.g. `model.save('my_model.keras')`.\n",
      "  saving_api.save_model(\n"
     ]
    },
    {
     "name": "stdout",
     "output_type": "stream",
     "text": [
      "2/2 [==============================] - 0s 2ms/step\n",
      "cm [[ 5  5]\n",
      " [14 35]]\n",
      "cm.ravel() [ 5  5 14 35]\n",
      "done testing 0 of 2.\n",
      "2/2 [==============================] - 0s 2ms/step\n",
      "cm [[ 7  8]\n",
      " [11 32]]\n",
      "cm.ravel() [ 7  8 11 32]\n",
      "done testing 1 of 2.\n"
     ]
    },
    {
     "name": "stderr",
     "output_type": "stream",
     "text": [
      "/home/st/sbhuvaji/1AllP/Individual Patient_All Models/TLandTL/Actual TL/HeavyDecoder/WithCV/TL_Packages.py:582: UserWarning: FixedFormatter should only be used together with FixedLocator\n",
      "  axs[i].set_xticklabels([''] + ['0', '1'], fontsize='xx-large')\n",
      "/home/st/sbhuvaji/1AllP/Individual Patient_All Models/TLandTL/Actual TL/HeavyDecoder/WithCV/TL_Packages.py:583: UserWarning: FixedFormatter should only be used together with FixedLocator\n",
      "  axs[i].set_yticklabels([''] + ['0', '1'], fontsize='xx-large')\n"
     ]
    },
    {
     "name": "stdout",
     "output_type": "stream",
     "text": [
      "Population Fold 2: Training data size = 3603, Validation data size = 1801\n"
     ]
    },
    {
     "name": "stderr",
     "output_type": "stream",
     "text": [
      "/home/st/sbhuvaji/anaconda3/lib/python3.9/site-packages/keras/src/engine/training.py:3000: UserWarning: You are saving your model as an HDF5 file via `model.save()`. This file format is considered legacy. We recommend using instead the native Keras format, e.g. `model.save('my_model.keras')`.\n",
      "  saving_api.save_model(\n"
     ]
    },
    {
     "name": "stdout",
     "output_type": "stream",
     "text": [
      "57/57 [==============================] - 0s 856us/step\n",
      "cm [[640 253]\n",
      " [224 684]]\n",
      "cm.ravel() [640 253 224 684]\n",
      "Before balancing count  1.0    47\n",
      "0.0    11\n",
      "Name: class, dtype: int64\n",
      "~~~~~~~ value_counts: ~~~~~~~\n",
      "SHOULD BE BALANCED NOW: 0.0    47\n",
      "1.0    47\n",
      "Name: class, dtype: int64\n",
      "Before balancing count  1.0    45\n",
      "0.0    14\n",
      "Name: class, dtype: int64\n",
      "~~~~~~~ value_counts: ~~~~~~~\n",
      "SHOULD BE BALANCED NOW: 0.0    45\n",
      "1.0    45\n",
      "Name: class, dtype: int64\n",
      "done RE-training 0 of 3. "
     ]
    },
    {
     "name": "stderr",
     "output_type": "stream",
     "text": [
      "/home/st/sbhuvaji/anaconda3/lib/python3.9/site-packages/keras/src/engine/training.py:3000: UserWarning: You are saving your model as an HDF5 file via `model.save()`. This file format is considered legacy. We recommend using instead the native Keras format, e.g. `model.save('my_model.keras')`.\n",
      "  saving_api.save_model(\n"
     ]
    },
    {
     "name": "stdout",
     "output_type": "stream",
     "text": [
      "2/2 [==============================] - 0s 2ms/step\n",
      "cm [[ 9  5]\n",
      " [11 34]]\n",
      "cm.ravel() [ 9  5 11 34]\n",
      "done testing 0 of 2.\n",
      "2/2 [==============================] - 0s 2ms/step\n",
      "cm [[ 6  5]\n",
      " [12 35]]\n",
      "cm.ravel() [ 6  5 12 35]\n",
      "done testing 1 of 2.\n"
     ]
    },
    {
     "name": "stderr",
     "output_type": "stream",
     "text": [
      "/home/st/sbhuvaji/1AllP/Individual Patient_All Models/TLandTL/Actual TL/HeavyDecoder/WithCV/TL_Packages.py:582: UserWarning: FixedFormatter should only be used together with FixedLocator\n",
      "  axs[i].set_xticklabels([''] + ['0', '1'], fontsize='xx-large')\n",
      "/home/st/sbhuvaji/1AllP/Individual Patient_All Models/TLandTL/Actual TL/HeavyDecoder/WithCV/TL_Packages.py:583: UserWarning: FixedFormatter should only be used together with FixedLocator\n",
      "  axs[i].set_yticklabels([''] + ['0', '1'], fontsize='xx-large')\n",
      " 31%|███       | 8/26 [24:42<55:20, 184.48s/it]"
     ]
    },
    {
     "name": "stdout",
     "output_type": "stream",
     "text": [
      "Runtime: 0 o' clock and 6 minutes\n",
      "~~~~~~~~~~~ 100 ~~~~~~~~~~~~~~~~~~~ 300 ~~~~~~~~~~~~~~~~~~~ SB-028 ~~~~~~~~~~~~~~~~~~~\n",
      "Before balancing count  1.0    2717\n",
      "0.0    1054\n",
      "Name: class, dtype: int64\n",
      "~~~~~~~ value_counts: ~~~~~~~\n",
      "SHOULD BE BALANCED NOW: 1.0    2717\n",
      "0.0    2717\n",
      "Name: class, dtype: int64\n",
      "X_train = 5434, y_train = 5434\n",
      "Population Fold 0: Training data size = 3622, Validation data size = 1812\n"
     ]
    },
    {
     "name": "stderr",
     "output_type": "stream",
     "text": [
      "/home/st/sbhuvaji/anaconda3/lib/python3.9/site-packages/keras/src/engine/training.py:3000: UserWarning: You are saving your model as an HDF5 file via `model.save()`. This file format is considered legacy. We recommend using instead the native Keras format, e.g. `model.save('my_model.keras')`.\n",
      "  saving_api.save_model(\n"
     ]
    },
    {
     "name": "stdout",
     "output_type": "stream",
     "text": [
      "57/57 [==============================] - 0s 850us/step\n",
      "cm [[708 196]\n",
      " [262 646]]\n",
      "cm.ravel() [708 196 262 646]\n",
      "Before balancing count  1.0    31\n",
      "0.0    15\n",
      "Name: class, dtype: int64\n",
      "~~~~~~~ value_counts: ~~~~~~~\n",
      "SHOULD BE BALANCED NOW: 1.0    31\n",
      "0.0    31\n",
      "Name: class, dtype: int64\n",
      "Before balancing count  1.0    33\n",
      "0.0    13\n",
      "Name: class, dtype: int64\n",
      "~~~~~~~ value_counts: ~~~~~~~\n",
      "SHOULD BE BALANCED NOW: 1.0    33\n",
      "0.0    33\n",
      "Name: class, dtype: int64\n",
      "done RE-training 0 of 3. "
     ]
    },
    {
     "name": "stderr",
     "output_type": "stream",
     "text": [
      "/home/st/sbhuvaji/anaconda3/lib/python3.9/site-packages/keras/src/engine/training.py:3000: UserWarning: You are saving your model as an HDF5 file via `model.save()`. This file format is considered legacy. We recommend using instead the native Keras format, e.g. `model.save('my_model.keras')`.\n",
      "  saving_api.save_model(\n"
     ]
    },
    {
     "name": "stdout",
     "output_type": "stream",
     "text": [
      "2/2 [==============================] - 0s 2ms/step\n",
      "cm [[11  2]\n",
      " [17 16]]\n",
      "cm.ravel() [11  2 17 16]\n",
      "done testing 0 of 2.\n",
      "2/2 [==============================] - 0s 2ms/step\n",
      "cm [[ 4 11]\n",
      " [ 4 27]]\n",
      "cm.ravel() [ 4 11  4 27]\n",
      "done testing 1 of 2.\n"
     ]
    },
    {
     "name": "stderr",
     "output_type": "stream",
     "text": [
      "/home/st/sbhuvaji/1AllP/Individual Patient_All Models/TLandTL/Actual TL/HeavyDecoder/WithCV/TL_Packages.py:582: UserWarning: FixedFormatter should only be used together with FixedLocator\n",
      "  axs[i].set_xticklabels([''] + ['0', '1'], fontsize='xx-large')\n",
      "/home/st/sbhuvaji/1AllP/Individual Patient_All Models/TLandTL/Actual TL/HeavyDecoder/WithCV/TL_Packages.py:583: UserWarning: FixedFormatter should only be used together with FixedLocator\n",
      "  axs[i].set_yticklabels([''] + ['0', '1'], fontsize='xx-large')\n"
     ]
    },
    {
     "name": "stdout",
     "output_type": "stream",
     "text": [
      "Population Fold 1: Training data size = 3623, Validation data size = 1811\n"
     ]
    },
    {
     "name": "stderr",
     "output_type": "stream",
     "text": [
      "/home/st/sbhuvaji/anaconda3/lib/python3.9/site-packages/keras/src/engine/training.py:3000: UserWarning: You are saving your model as an HDF5 file via `model.save()`. This file format is considered legacy. We recommend using instead the native Keras format, e.g. `model.save('my_model.keras')`.\n",
      "  saving_api.save_model(\n"
     ]
    },
    {
     "name": "stdout",
     "output_type": "stream",
     "text": [
      "57/57 [==============================] - 0s 868us/step\n",
      "cm [[746 181]\n",
      " [281 603]]\n",
      "cm.ravel() [746 181 281 603]\n",
      "Before balancing count  1.0    32\n",
      "0.0    14\n",
      "Name: class, dtype: int64\n",
      "~~~~~~~ value_counts: ~~~~~~~\n",
      "SHOULD BE BALANCED NOW: 1.0    32\n",
      "0.0    32\n",
      "Name: class, dtype: int64\n",
      "Before balancing count  1.0    32\n",
      "0.0    14\n",
      "Name: class, dtype: int64\n",
      "~~~~~~~ value_counts: ~~~~~~~\n",
      "SHOULD BE BALANCED NOW: 1.0    32\n",
      "0.0    32\n",
      "Name: class, dtype: int64\n",
      "done RE-training 0 of 3. "
     ]
    },
    {
     "name": "stderr",
     "output_type": "stream",
     "text": [
      "/home/st/sbhuvaji/anaconda3/lib/python3.9/site-packages/keras/src/engine/training.py:3000: UserWarning: You are saving your model as an HDF5 file via `model.save()`. This file format is considered legacy. We recommend using instead the native Keras format, e.g. `model.save('my_model.keras')`.\n",
      "  saving_api.save_model(\n"
     ]
    },
    {
     "name": "stdout",
     "output_type": "stream",
     "text": [
      "2/2 [==============================] - 0s 2ms/step\n",
      "cm [[ 6  8]\n",
      " [ 8 24]]\n",
      "cm.ravel() [ 6  8  8 24]\n",
      "done testing 0 of 2.\n",
      "2/2 [==============================] - 0s 2ms/step\n",
      "cm [[ 9  5]\n",
      " [13 19]]\n",
      "cm.ravel() [ 9  5 13 19]\n",
      "done testing 1 of 2.\n"
     ]
    },
    {
     "name": "stderr",
     "output_type": "stream",
     "text": [
      "/home/st/sbhuvaji/1AllP/Individual Patient_All Models/TLandTL/Actual TL/HeavyDecoder/WithCV/TL_Packages.py:582: UserWarning: FixedFormatter should only be used together with FixedLocator\n",
      "  axs[i].set_xticklabels([''] + ['0', '1'], fontsize='xx-large')\n",
      "/home/st/sbhuvaji/1AllP/Individual Patient_All Models/TLandTL/Actual TL/HeavyDecoder/WithCV/TL_Packages.py:583: UserWarning: FixedFormatter should only be used together with FixedLocator\n",
      "  axs[i].set_yticklabels([''] + ['0', '1'], fontsize='xx-large')\n"
     ]
    },
    {
     "name": "stdout",
     "output_type": "stream",
     "text": [
      "Population Fold 2: Training data size = 3623, Validation data size = 1811\n"
     ]
    },
    {
     "name": "stderr",
     "output_type": "stream",
     "text": [
      "/home/st/sbhuvaji/anaconda3/lib/python3.9/site-packages/keras/src/engine/training.py:3000: UserWarning: You are saving your model as an HDF5 file via `model.save()`. This file format is considered legacy. We recommend using instead the native Keras format, e.g. `model.save('my_model.keras')`.\n",
      "  saving_api.save_model(\n"
     ]
    },
    {
     "name": "stdout",
     "output_type": "stream",
     "text": [
      "57/57 [==============================] - 0s 894us/step\n",
      "cm [[640 246]\n",
      " [246 679]]\n",
      "cm.ravel() [640 246 246 679]\n",
      "Before balancing count  1.0    28\n",
      "0.0    18\n",
      "Name: class, dtype: int64\n",
      "~~~~~~~ value_counts: ~~~~~~~\n",
      "SHOULD BE BALANCED NOW: 0.0    28\n",
      "1.0    28\n",
      "Name: class, dtype: int64\n",
      "Before balancing count  1.0    36\n",
      "0.0    10\n",
      "Name: class, dtype: int64\n",
      "~~~~~~~ value_counts: ~~~~~~~\n",
      "SHOULD BE BALANCED NOW: 0.0    36\n",
      "1.0    36\n",
      "Name: class, dtype: int64\n",
      "done RE-training 0 of 3. "
     ]
    },
    {
     "name": "stderr",
     "output_type": "stream",
     "text": [
      "/home/st/sbhuvaji/anaconda3/lib/python3.9/site-packages/keras/src/engine/training.py:3000: UserWarning: You are saving your model as an HDF5 file via `model.save()`. This file format is considered legacy. We recommend using instead the native Keras format, e.g. `model.save('my_model.keras')`.\n",
      "  saving_api.save_model(\n"
     ]
    },
    {
     "name": "stdout",
     "output_type": "stream",
     "text": [
      "2/2 [==============================] - 0s 2ms/step\n",
      "cm [[ 6  4]\n",
      " [11 25]]\n",
      "cm.ravel() [ 6  4 11 25]\n",
      "done testing 0 of 2.\n",
      "2/2 [==============================] - 0s 2ms/step\n",
      "cm [[11  7]\n",
      " [13 15]]\n",
      "cm.ravel() [11  7 13 15]\n",
      "done testing 1 of 2.\n"
     ]
    },
    {
     "name": "stderr",
     "output_type": "stream",
     "text": [
      "/home/st/sbhuvaji/1AllP/Individual Patient_All Models/TLandTL/Actual TL/HeavyDecoder/WithCV/TL_Packages.py:582: UserWarning: FixedFormatter should only be used together with FixedLocator\n",
      "  axs[i].set_xticklabels([''] + ['0', '1'], fontsize='xx-large')\n",
      "/home/st/sbhuvaji/1AllP/Individual Patient_All Models/TLandTL/Actual TL/HeavyDecoder/WithCV/TL_Packages.py:583: UserWarning: FixedFormatter should only be used together with FixedLocator\n",
      "  axs[i].set_yticklabels([''] + ['0', '1'], fontsize='xx-large')\n",
      " 35%|███▍      | 9/26 [27:43<52:00, 183.58s/it]"
     ]
    },
    {
     "name": "stdout",
     "output_type": "stream",
     "text": [
      "Runtime: 0 o' clock and 9 minutes\n",
      "~~~~~~~~~~~ 100 ~~~~~~~~~~~~~~~~~~~ 300 ~~~~~~~~~~~~~~~~~~~ SB-037 ~~~~~~~~~~~~~~~~~~~\n",
      "Before balancing count  1.0    2643\n",
      "0.0    1016\n",
      "Name: class, dtype: int64\n",
      "~~~~~~~ value_counts: ~~~~~~~\n",
      "SHOULD BE BALANCED NOW: 0.0    2643\n",
      "1.0    2643\n",
      "Name: class, dtype: int64\n",
      "X_train = 5286, y_train = 5286\n",
      "Population Fold 0: Training data size = 3524, Validation data size = 1762\n"
     ]
    },
    {
     "name": "stderr",
     "output_type": "stream",
     "text": [
      "/home/st/sbhuvaji/anaconda3/lib/python3.9/site-packages/keras/src/engine/training.py:3000: UserWarning: You are saving your model as an HDF5 file via `model.save()`. This file format is considered legacy. We recommend using instead the native Keras format, e.g. `model.save('my_model.keras')`.\n",
      "  saving_api.save_model(\n"
     ]
    },
    {
     "name": "stdout",
     "output_type": "stream",
     "text": [
      "56/56 [==============================] - 0s 808us/step\n",
      "cm [[686 172]\n",
      " [273 631]]\n",
      "cm.ravel() [686 172 273 631]\n",
      "Before balancing count  1.0    73\n",
      "0.0    32\n",
      "Name: class, dtype: int64\n",
      "~~~~~~~ value_counts: ~~~~~~~\n",
      "SHOULD BE BALANCED NOW: 0.0    73\n",
      "1.0    73\n",
      "Name: class, dtype: int64\n",
      "Before balancing count  1.0    74\n",
      "0.0    31\n",
      "Name: class, dtype: int64\n",
      "~~~~~~~ value_counts: ~~~~~~~\n",
      "SHOULD BE BALANCED NOW: 1.0    74\n",
      "0.0    74\n",
      "Name: class, dtype: int64\n",
      "done RE-training 0 of 3. "
     ]
    },
    {
     "name": "stderr",
     "output_type": "stream",
     "text": [
      "/home/st/sbhuvaji/anaconda3/lib/python3.9/site-packages/keras/src/engine/training.py:3000: UserWarning: You are saving your model as an HDF5 file via `model.save()`. This file format is considered legacy. We recommend using instead the native Keras format, e.g. `model.save('my_model.keras')`.\n",
      "  saving_api.save_model(\n"
     ]
    },
    {
     "name": "stdout",
     "output_type": "stream",
     "text": [
      "4/4 [==============================] - 0s 1ms/step\n",
      "cm [[16 15]\n",
      " [47 27]]\n",
      "cm.ravel() [16 15 47 27]\n",
      "done testing 0 of 2.\n",
      "4/4 [==============================] - 0s 1ms/step\n",
      "cm [[13 19]\n",
      " [32 41]]\n",
      "cm.ravel() [13 19 32 41]\n",
      "done testing 1 of 2.\n"
     ]
    },
    {
     "name": "stderr",
     "output_type": "stream",
     "text": [
      "/home/st/sbhuvaji/1AllP/Individual Patient_All Models/TLandTL/Actual TL/HeavyDecoder/WithCV/TL_Packages.py:582: UserWarning: FixedFormatter should only be used together with FixedLocator\n",
      "  axs[i].set_xticklabels([''] + ['0', '1'], fontsize='xx-large')\n",
      "/home/st/sbhuvaji/1AllP/Individual Patient_All Models/TLandTL/Actual TL/HeavyDecoder/WithCV/TL_Packages.py:583: UserWarning: FixedFormatter should only be used together with FixedLocator\n",
      "  axs[i].set_yticklabels([''] + ['0', '1'], fontsize='xx-large')\n"
     ]
    },
    {
     "name": "stdout",
     "output_type": "stream",
     "text": [
      "Population Fold 1: Training data size = 3524, Validation data size = 1762\n"
     ]
    },
    {
     "name": "stderr",
     "output_type": "stream",
     "text": [
      "/home/st/sbhuvaji/anaconda3/lib/python3.9/site-packages/keras/src/engine/training.py:3000: UserWarning: You are saving your model as an HDF5 file via `model.save()`. This file format is considered legacy. We recommend using instead the native Keras format, e.g. `model.save('my_model.keras')`.\n",
      "  saving_api.save_model(\n"
     ]
    },
    {
     "name": "stdout",
     "output_type": "stream",
     "text": [
      "56/56 [==============================] - 0s 874us/step\n",
      "cm [[614 258]\n",
      " [210 680]]\n",
      "cm.ravel() [614 258 210 680]\n",
      "Before balancing count  1.0    77\n",
      "0.0    28\n",
      "Name: class, dtype: int64\n",
      "~~~~~~~ value_counts: ~~~~~~~\n",
      "SHOULD BE BALANCED NOW: 0.0    77\n",
      "1.0    77\n",
      "Name: class, dtype: int64\n",
      "Before balancing count  1.0    70\n",
      "0.0    35\n",
      "Name: class, dtype: int64\n",
      "~~~~~~~ value_counts: ~~~~~~~\n",
      "SHOULD BE BALANCED NOW: 1.0    70\n",
      "0.0    70\n",
      "Name: class, dtype: int64\n",
      "done RE-training 0 of 3. "
     ]
    },
    {
     "name": "stderr",
     "output_type": "stream",
     "text": [
      "/home/st/sbhuvaji/anaconda3/lib/python3.9/site-packages/keras/src/engine/training.py:3000: UserWarning: You are saving your model as an HDF5 file via `model.save()`. This file format is considered legacy. We recommend using instead the native Keras format, e.g. `model.save('my_model.keras')`.\n",
      "  saving_api.save_model(\n"
     ]
    },
    {
     "name": "stdout",
     "output_type": "stream",
     "text": [
      "4/4 [==============================] - 0s 1ms/step\n",
      "cm [[14 21]\n",
      " [30 40]]\n",
      "cm.ravel() [14 21 30 40]\n",
      "done testing 0 of 2.\n",
      "4/4 [==============================] - 0s 1ms/step\n",
      "cm [[ 9 19]\n",
      " [15 62]]\n",
      "cm.ravel() [ 9 19 15 62]\n",
      "done testing 1 of 2.\n"
     ]
    },
    {
     "name": "stderr",
     "output_type": "stream",
     "text": [
      "/home/st/sbhuvaji/1AllP/Individual Patient_All Models/TLandTL/Actual TL/HeavyDecoder/WithCV/TL_Packages.py:582: UserWarning: FixedFormatter should only be used together with FixedLocator\n",
      "  axs[i].set_xticklabels([''] + ['0', '1'], fontsize='xx-large')\n",
      "/home/st/sbhuvaji/1AllP/Individual Patient_All Models/TLandTL/Actual TL/HeavyDecoder/WithCV/TL_Packages.py:583: UserWarning: FixedFormatter should only be used together with FixedLocator\n",
      "  axs[i].set_yticklabels([''] + ['0', '1'], fontsize='xx-large')\n"
     ]
    },
    {
     "name": "stdout",
     "output_type": "stream",
     "text": [
      "Population Fold 2: Training data size = 3524, Validation data size = 1762\n"
     ]
    },
    {
     "name": "stderr",
     "output_type": "stream",
     "text": [
      "/home/st/sbhuvaji/anaconda3/lib/python3.9/site-packages/keras/src/engine/training.py:3000: UserWarning: You are saving your model as an HDF5 file via `model.save()`. This file format is considered legacy. We recommend using instead the native Keras format, e.g. `model.save('my_model.keras')`.\n",
      "  saving_api.save_model(\n"
     ]
    },
    {
     "name": "stdout",
     "output_type": "stream",
     "text": [
      "56/56 [==============================] - 0s 866us/step\n",
      "cm [[654 259]\n",
      " [208 641]]\n",
      "cm.ravel() [654 259 208 641]\n",
      "Before balancing count  1.0    73\n",
      "0.0    32\n",
      "Name: class, dtype: int64\n",
      "~~~~~~~ value_counts: ~~~~~~~\n",
      "SHOULD BE BALANCED NOW: 0.0    73\n",
      "1.0    73\n",
      "Name: class, dtype: int64\n",
      "Before balancing count  1.0    74\n",
      "0.0    31\n",
      "Name: class, dtype: int64\n",
      "~~~~~~~ value_counts: ~~~~~~~\n",
      "SHOULD BE BALANCED NOW: 1.0    74\n",
      "0.0    74\n",
      "Name: class, dtype: int64\n",
      "done RE-training 0 of 3. "
     ]
    },
    {
     "name": "stderr",
     "output_type": "stream",
     "text": [
      "/home/st/sbhuvaji/anaconda3/lib/python3.9/site-packages/keras/src/engine/training.py:3000: UserWarning: You are saving your model as an HDF5 file via `model.save()`. This file format is considered legacy. We recommend using instead the native Keras format, e.g. `model.save('my_model.keras')`.\n",
      "  saving_api.save_model(\n"
     ]
    },
    {
     "name": "stdout",
     "output_type": "stream",
     "text": [
      "4/4 [==============================] - 0s 1ms/step\n",
      "cm [[16 15]\n",
      " [31 43]]\n",
      "cm.ravel() [16 15 31 43]\n",
      "done testing 0 of 2.\n",
      "4/4 [==============================] - 0s 1ms/step\n",
      "cm [[17 15]\n",
      " [40 33]]\n",
      "cm.ravel() [17 15 40 33]\n",
      "done testing 1 of 2.\n"
     ]
    },
    {
     "name": "stderr",
     "output_type": "stream",
     "text": [
      "/home/st/sbhuvaji/1AllP/Individual Patient_All Models/TLandTL/Actual TL/HeavyDecoder/WithCV/TL_Packages.py:582: UserWarning: FixedFormatter should only be used together with FixedLocator\n",
      "  axs[i].set_xticklabels([''] + ['0', '1'], fontsize='xx-large')\n",
      "/home/st/sbhuvaji/1AllP/Individual Patient_All Models/TLandTL/Actual TL/HeavyDecoder/WithCV/TL_Packages.py:583: UserWarning: FixedFormatter should only be used together with FixedLocator\n",
      "  axs[i].set_yticklabels([''] + ['0', '1'], fontsize='xx-large')\n",
      " 42%|████▏     | 11/26 [30:49<35:12, 140.81s/it]"
     ]
    },
    {
     "name": "stdout",
     "output_type": "stream",
     "text": [
      "Runtime: 0 o' clock and 12 minutes\n",
      "~~~~~~~~~~~ 100 ~~~~~~~~~~~~~~~~~~~ 300 ~~~~~~~~~~~~~~~~~~~ SB-043 ~~~~~~~~~~~~~~~~~~~\n",
      "Before balancing count  1.0    2642\n",
      "0.0    1035\n",
      "Name: class, dtype: int64\n",
      "~~~~~~~ value_counts: ~~~~~~~\n",
      "SHOULD BE BALANCED NOW: 0.0    2642\n",
      "1.0    2642\n",
      "Name: class, dtype: int64\n",
      "X_train = 5284, y_train = 5284\n",
      "Population Fold 0: Training data size = 3522, Validation data size = 1762\n"
     ]
    },
    {
     "name": "stderr",
     "output_type": "stream",
     "text": [
      "/home/st/sbhuvaji/anaconda3/lib/python3.9/site-packages/keras/src/engine/training.py:3000: UserWarning: You are saving your model as an HDF5 file via `model.save()`. This file format is considered legacy. We recommend using instead the native Keras format, e.g. `model.save('my_model.keras')`.\n",
      "  saving_api.save_model(\n"
     ]
    },
    {
     "name": "stdout",
     "output_type": "stream",
     "text": [
      "56/56 [==============================] - 0s 874us/step\n",
      "cm [[627 266]\n",
      " [230 639]]\n",
      "cm.ravel() [627 266 230 639]\n",
      "Before balancing count  1.0    72\n",
      "0.0    23\n",
      "Name: class, dtype: int64\n",
      "~~~~~~~ value_counts: ~~~~~~~\n",
      "SHOULD BE BALANCED NOW: 1.0    72\n",
      "0.0    72\n",
      "Name: class, dtype: int64\n",
      "Before balancing count  1.0    67\n",
      "0.0    29\n",
      "Name: class, dtype: int64\n",
      "~~~~~~~ value_counts: ~~~~~~~\n",
      "SHOULD BE BALANCED NOW: 1.0    67\n",
      "0.0    67\n",
      "Name: class, dtype: int64\n",
      "done RE-training 0 of 3. "
     ]
    },
    {
     "name": "stderr",
     "output_type": "stream",
     "text": [
      "/home/st/sbhuvaji/anaconda3/lib/python3.9/site-packages/keras/src/engine/training.py:3000: UserWarning: You are saving your model as an HDF5 file via `model.save()`. This file format is considered legacy. We recommend using instead the native Keras format, e.g. `model.save('my_model.keras')`.\n",
      "  saving_api.save_model(\n"
     ]
    },
    {
     "name": "stdout",
     "output_type": "stream",
     "text": [
      "3/3 [==============================] - 0s 2ms/step\n",
      "cm [[21  8]\n",
      " [16 51]]\n",
      "cm.ravel() [21  8 16 51]\n",
      "done testing 0 of 2.\n",
      "3/3 [==============================] - 0s 2ms/step\n",
      "cm [[11 12]\n",
      " [19 53]]\n",
      "cm.ravel() [11 12 19 53]\n",
      "done testing 1 of 2.\n"
     ]
    },
    {
     "name": "stderr",
     "output_type": "stream",
     "text": [
      "/home/st/sbhuvaji/1AllP/Individual Patient_All Models/TLandTL/Actual TL/HeavyDecoder/WithCV/TL_Packages.py:582: UserWarning: FixedFormatter should only be used together with FixedLocator\n",
      "  axs[i].set_xticklabels([''] + ['0', '1'], fontsize='xx-large')\n",
      "/home/st/sbhuvaji/1AllP/Individual Patient_All Models/TLandTL/Actual TL/HeavyDecoder/WithCV/TL_Packages.py:583: UserWarning: FixedFormatter should only be used together with FixedLocator\n",
      "  axs[i].set_yticklabels([''] + ['0', '1'], fontsize='xx-large')\n"
     ]
    },
    {
     "name": "stdout",
     "output_type": "stream",
     "text": [
      "Population Fold 1: Training data size = 3523, Validation data size = 1761\n"
     ]
    },
    {
     "name": "stderr",
     "output_type": "stream",
     "text": [
      "/home/st/sbhuvaji/anaconda3/lib/python3.9/site-packages/keras/src/engine/training.py:3000: UserWarning: You are saving your model as an HDF5 file via `model.save()`. This file format is considered legacy. We recommend using instead the native Keras format, e.g. `model.save('my_model.keras')`.\n",
      "  saving_api.save_model(\n"
     ]
    },
    {
     "name": "stdout",
     "output_type": "stream",
     "text": [
      "56/56 [==============================] - 0s 847us/step\n",
      "cm [[640 203]\n",
      " [285 633]]\n",
      "cm.ravel() [640 203 285 633]\n",
      "Before balancing count  1.0    72\n",
      "0.0    23\n",
      "Name: class, dtype: int64\n",
      "~~~~~~~ value_counts: ~~~~~~~\n",
      "SHOULD BE BALANCED NOW: 1.0    72\n",
      "0.0    72\n",
      "Name: class, dtype: int64\n",
      "Before balancing count  1.0    67\n",
      "0.0    29\n",
      "Name: class, dtype: int64\n",
      "~~~~~~~ value_counts: ~~~~~~~\n",
      "SHOULD BE BALANCED NOW: 1.0    67\n",
      "0.0    67\n",
      "Name: class, dtype: int64\n",
      "done RE-training 0 of 3. "
     ]
    },
    {
     "name": "stderr",
     "output_type": "stream",
     "text": [
      "/home/st/sbhuvaji/anaconda3/lib/python3.9/site-packages/keras/src/engine/training.py:3000: UserWarning: You are saving your model as an HDF5 file via `model.save()`. This file format is considered legacy. We recommend using instead the native Keras format, e.g. `model.save('my_model.keras')`.\n",
      "  saving_api.save_model(\n"
     ]
    },
    {
     "name": "stdout",
     "output_type": "stream",
     "text": [
      "3/3 [==============================] - 0s 2ms/step\n",
      "cm [[15 14]\n",
      " [21 46]]\n",
      "cm.ravel() [15 14 21 46]\n",
      "done testing 0 of 2.\n",
      "3/3 [==============================] - 0s 2ms/step\n",
      "cm [[19  4]\n",
      " [32 40]]\n",
      "cm.ravel() [19  4 32 40]\n",
      "done testing 1 of 2.\n"
     ]
    },
    {
     "name": "stderr",
     "output_type": "stream",
     "text": [
      "/home/st/sbhuvaji/1AllP/Individual Patient_All Models/TLandTL/Actual TL/HeavyDecoder/WithCV/TL_Packages.py:582: UserWarning: FixedFormatter should only be used together with FixedLocator\n",
      "  axs[i].set_xticklabels([''] + ['0', '1'], fontsize='xx-large')\n",
      "/home/st/sbhuvaji/1AllP/Individual Patient_All Models/TLandTL/Actual TL/HeavyDecoder/WithCV/TL_Packages.py:583: UserWarning: FixedFormatter should only be used together with FixedLocator\n",
      "  axs[i].set_yticklabels([''] + ['0', '1'], fontsize='xx-large')\n"
     ]
    },
    {
     "name": "stdout",
     "output_type": "stream",
     "text": [
      "Population Fold 2: Training data size = 3523, Validation data size = 1761\n"
     ]
    },
    {
     "name": "stderr",
     "output_type": "stream",
     "text": [
      "/home/st/sbhuvaji/anaconda3/lib/python3.9/site-packages/keras/src/engine/training.py:3000: UserWarning: You are saving your model as an HDF5 file via `model.save()`. This file format is considered legacy. We recommend using instead the native Keras format, e.g. `model.save('my_model.keras')`.\n",
      "  saving_api.save_model(\n"
     ]
    },
    {
     "name": "stdout",
     "output_type": "stream",
     "text": [
      "56/56 [==============================] - 0s 829us/step\n",
      "cm [[627 279]\n",
      " [191 664]]\n",
      "cm.ravel() [627 279 191 664]\n",
      "Before balancing count  1.0    68\n",
      "0.0    27\n",
      "Name: class, dtype: int64\n",
      "~~~~~~~ value_counts: ~~~~~~~\n",
      "SHOULD BE BALANCED NOW: 1.0    68\n",
      "0.0    68\n",
      "Name: class, dtype: int64\n",
      "Before balancing count  1.0    71\n",
      "0.0    25\n",
      "Name: class, dtype: int64\n",
      "~~~~~~~ value_counts: ~~~~~~~\n",
      "SHOULD BE BALANCED NOW: 1.0    71\n",
      "0.0    71\n",
      "Name: class, dtype: int64\n",
      "done RE-training 0 of 3. "
     ]
    },
    {
     "name": "stderr",
     "output_type": "stream",
     "text": [
      "/home/st/sbhuvaji/anaconda3/lib/python3.9/site-packages/keras/src/engine/training.py:3000: UserWarning: You are saving your model as an HDF5 file via `model.save()`. This file format is considered legacy. We recommend using instead the native Keras format, e.g. `model.save('my_model.keras')`.\n",
      "  saving_api.save_model(\n"
     ]
    },
    {
     "name": "stdout",
     "output_type": "stream",
     "text": [
      "3/3 [==============================] - 0s 2ms/step\n",
      "cm [[13 12]\n",
      " [17 54]]\n",
      "cm.ravel() [13 12 17 54]\n",
      "done testing 0 of 2.\n",
      "3/3 [==============================] - 0s 1ms/step\n",
      "cm [[23  4]\n",
      " [35 33]]\n",
      "cm.ravel() [23  4 35 33]\n",
      "done testing 1 of 2.\n"
     ]
    },
    {
     "name": "stderr",
     "output_type": "stream",
     "text": [
      "/home/st/sbhuvaji/1AllP/Individual Patient_All Models/TLandTL/Actual TL/HeavyDecoder/WithCV/TL_Packages.py:582: UserWarning: FixedFormatter should only be used together with FixedLocator\n",
      "  axs[i].set_xticklabels([''] + ['0', '1'], fontsize='xx-large')\n",
      "/home/st/sbhuvaji/1AllP/Individual Patient_All Models/TLandTL/Actual TL/HeavyDecoder/WithCV/TL_Packages.py:583: UserWarning: FixedFormatter should only be used together with FixedLocator\n",
      "  axs[i].set_yticklabels([''] + ['0', '1'], fontsize='xx-large')\n",
      " 46%|████▌     | 12/26 [33:54<35:28, 152.07s/it]"
     ]
    },
    {
     "name": "stdout",
     "output_type": "stream",
     "text": [
      "Runtime: 0 o' clock and 15 minutes\n",
      "~~~~~~~~~~~ 100 ~~~~~~~~~~~~~~~~~~~ 300 ~~~~~~~~~~~~~~~~~~~ SB-056 ~~~~~~~~~~~~~~~~~~~\n",
      "Before balancing count  1.0    2628\n",
      "0.0    1049\n",
      "Name: class, dtype: int64\n",
      "~~~~~~~ value_counts: ~~~~~~~\n",
      "SHOULD BE BALANCED NOW: 1.0    2628\n",
      "0.0    2628\n",
      "Name: class, dtype: int64\n",
      "X_train = 5256, y_train = 5256\n",
      "Population Fold 0: Training data size = 3504, Validation data size = 1752\n"
     ]
    },
    {
     "name": "stderr",
     "output_type": "stream",
     "text": [
      "/home/st/sbhuvaji/anaconda3/lib/python3.9/site-packages/keras/src/engine/training.py:3000: UserWarning: You are saving your model as an HDF5 file via `model.save()`. This file format is considered legacy. We recommend using instead the native Keras format, e.g. `model.save('my_model.keras')`.\n",
      "  saving_api.save_model(\n"
     ]
    },
    {
     "name": "stdout",
     "output_type": "stream",
     "text": [
      "55/55 [==============================] - 0s 971us/step\n",
      "cm [[626 239]\n",
      " [197 690]]\n",
      "cm.ravel() [626 239 197 690]\n",
      "Before balancing count  1.0    72\n",
      "0.0    23\n",
      "Name: class, dtype: int64\n",
      "~~~~~~~ value_counts: ~~~~~~~\n",
      "SHOULD BE BALANCED NOW: 1.0    72\n",
      "0.0    72\n",
      "Name: class, dtype: int64\n",
      "Before balancing count  1.0    78\n",
      "0.0    18\n",
      "Name: class, dtype: int64\n",
      "~~~~~~~ value_counts: ~~~~~~~\n",
      "SHOULD BE BALANCED NOW: 1.0    78\n",
      "0.0    78\n",
      "Name: class, dtype: int64\n",
      "done RE-training 0 of 3. "
     ]
    },
    {
     "name": "stderr",
     "output_type": "stream",
     "text": [
      "/home/st/sbhuvaji/anaconda3/lib/python3.9/site-packages/keras/src/engine/training.py:3000: UserWarning: You are saving your model as an HDF5 file via `model.save()`. This file format is considered legacy. We recommend using instead the native Keras format, e.g. `model.save('my_model.keras')`.\n",
      "  saving_api.save_model(\n"
     ]
    },
    {
     "name": "stdout",
     "output_type": "stream",
     "text": [
      "3/3 [==============================] - 0s 2ms/step\n",
      "cm [[15  3]\n",
      " [17 61]]\n",
      "cm.ravel() [15  3 17 61]\n",
      "done testing 0 of 2.\n",
      "3/3 [==============================] - 0s 1ms/step\n",
      "cm [[12 11]\n",
      " [17 55]]\n",
      "cm.ravel() [12 11 17 55]\n",
      "done testing 1 of 2.\n"
     ]
    },
    {
     "name": "stderr",
     "output_type": "stream",
     "text": [
      "/home/st/sbhuvaji/1AllP/Individual Patient_All Models/TLandTL/Actual TL/HeavyDecoder/WithCV/TL_Packages.py:582: UserWarning: FixedFormatter should only be used together with FixedLocator\n",
      "  axs[i].set_xticklabels([''] + ['0', '1'], fontsize='xx-large')\n",
      "/home/st/sbhuvaji/1AllP/Individual Patient_All Models/TLandTL/Actual TL/HeavyDecoder/WithCV/TL_Packages.py:583: UserWarning: FixedFormatter should only be used together with FixedLocator\n",
      "  axs[i].set_yticklabels([''] + ['0', '1'], fontsize='xx-large')\n"
     ]
    },
    {
     "name": "stdout",
     "output_type": "stream",
     "text": [
      "Population Fold 1: Training data size = 3504, Validation data size = 1752\n"
     ]
    },
    {
     "name": "stderr",
     "output_type": "stream",
     "text": [
      "/home/st/sbhuvaji/anaconda3/lib/python3.9/site-packages/keras/src/engine/training.py:3000: UserWarning: You are saving your model as an HDF5 file via `model.save()`. This file format is considered legacy. We recommend using instead the native Keras format, e.g. `model.save('my_model.keras')`.\n",
      "  saving_api.save_model(\n"
     ]
    },
    {
     "name": "stdout",
     "output_type": "stream",
     "text": [
      "55/55 [==============================] - 0s 797us/step\n",
      "cm [[673 240]\n",
      " [217 622]]\n",
      "cm.ravel() [673 240 217 622]\n",
      "Before balancing count  1.0    77\n",
      "0.0    18\n",
      "Name: class, dtype: int64\n",
      "~~~~~~~ value_counts: ~~~~~~~\n",
      "SHOULD BE BALANCED NOW: 0.0    77\n",
      "1.0    77\n",
      "Name: class, dtype: int64\n",
      "Before balancing count  1.0    73\n",
      "0.0    23\n",
      "Name: class, dtype: int64\n",
      "~~~~~~~ value_counts: ~~~~~~~\n",
      "SHOULD BE BALANCED NOW: 0.0    73\n",
      "1.0    73\n",
      "Name: class, dtype: int64\n",
      "done RE-training 0 of 3. "
     ]
    },
    {
     "name": "stderr",
     "output_type": "stream",
     "text": [
      "/home/st/sbhuvaji/anaconda3/lib/python3.9/site-packages/keras/src/engine/training.py:3000: UserWarning: You are saving your model as an HDF5 file via `model.save()`. This file format is considered legacy. We recommend using instead the native Keras format, e.g. `model.save('my_model.keras')`.\n",
      "  saving_api.save_model(\n"
     ]
    },
    {
     "name": "stdout",
     "output_type": "stream",
     "text": [
      "3/3 [==============================] - 0s 2ms/step\n",
      "cm [[15  8]\n",
      " [21 52]]\n",
      "cm.ravel() [15  8 21 52]\n",
      "done testing 0 of 2.\n",
      "3/3 [==============================] - 0s 1ms/step\n",
      "cm [[16  2]\n",
      " [19 58]]\n",
      "cm.ravel() [16  2 19 58]\n",
      "done testing 1 of 2.\n"
     ]
    },
    {
     "name": "stderr",
     "output_type": "stream",
     "text": [
      "/home/st/sbhuvaji/1AllP/Individual Patient_All Models/TLandTL/Actual TL/HeavyDecoder/WithCV/TL_Packages.py:582: UserWarning: FixedFormatter should only be used together with FixedLocator\n",
      "  axs[i].set_xticklabels([''] + ['0', '1'], fontsize='xx-large')\n",
      "/home/st/sbhuvaji/1AllP/Individual Patient_All Models/TLandTL/Actual TL/HeavyDecoder/WithCV/TL_Packages.py:583: UserWarning: FixedFormatter should only be used together with FixedLocator\n",
      "  axs[i].set_yticklabels([''] + ['0', '1'], fontsize='xx-large')\n"
     ]
    },
    {
     "name": "stdout",
     "output_type": "stream",
     "text": [
      "Population Fold 2: Training data size = 3504, Validation data size = 1752\n"
     ]
    },
    {
     "name": "stderr",
     "output_type": "stream",
     "text": [
      "/home/st/sbhuvaji/anaconda3/lib/python3.9/site-packages/keras/src/engine/training.py:3000: UserWarning: You are saving your model as an HDF5 file via `model.save()`. This file format is considered legacy. We recommend using instead the native Keras format, e.g. `model.save('my_model.keras')`.\n",
      "  saving_api.save_model(\n"
     ]
    },
    {
     "name": "stdout",
     "output_type": "stream",
     "text": [
      "55/55 [==============================] - 0s 850us/step\n",
      "cm [[634 216]\n",
      " [226 676]]\n",
      "cm.ravel() [634 216 226 676]\n",
      "Before balancing count  1.0    75\n",
      "0.0    20\n",
      "Name: class, dtype: int64\n",
      "~~~~~~~ value_counts: ~~~~~~~\n",
      "SHOULD BE BALANCED NOW: 0.0    75\n",
      "1.0    75\n",
      "Name: class, dtype: int64\n",
      "Before balancing count  1.0    75\n",
      "0.0    21\n",
      "Name: class, dtype: int64\n",
      "~~~~~~~ value_counts: ~~~~~~~\n",
      "SHOULD BE BALANCED NOW: 0.0    75\n",
      "1.0    75\n",
      "Name: class, dtype: int64\n",
      "done RE-training 0 of 3. "
     ]
    },
    {
     "name": "stderr",
     "output_type": "stream",
     "text": [
      "/home/st/sbhuvaji/anaconda3/lib/python3.9/site-packages/keras/src/engine/training.py:3000: UserWarning: You are saving your model as an HDF5 file via `model.save()`. This file format is considered legacy. We recommend using instead the native Keras format, e.g. `model.save('my_model.keras')`.\n",
      "  saving_api.save_model(\n"
     ]
    },
    {
     "name": "stdout",
     "output_type": "stream",
     "text": [
      "3/3 [==============================] - 0s 2ms/step\n",
      "cm [[12  9]\n",
      " [21 54]]\n",
      "cm.ravel() [12  9 21 54]\n",
      "done testing 0 of 2.\n",
      "3/3 [==============================] - 0s 1ms/step\n",
      "cm [[16  4]\n",
      " [16 59]]\n",
      "cm.ravel() [16  4 16 59]\n",
      "done testing 1 of 2.\n"
     ]
    },
    {
     "name": "stderr",
     "output_type": "stream",
     "text": [
      "/home/st/sbhuvaji/1AllP/Individual Patient_All Models/TLandTL/Actual TL/HeavyDecoder/WithCV/TL_Packages.py:582: UserWarning: FixedFormatter should only be used together with FixedLocator\n",
      "  axs[i].set_xticklabels([''] + ['0', '1'], fontsize='xx-large')\n",
      "/home/st/sbhuvaji/1AllP/Individual Patient_All Models/TLandTL/Actual TL/HeavyDecoder/WithCV/TL_Packages.py:583: UserWarning: FixedFormatter should only be used together with FixedLocator\n",
      "  axs[i].set_yticklabels([''] + ['0', '1'], fontsize='xx-large')\n",
      " 50%|█████     | 13/26 [36:56<34:39, 160.00s/it]"
     ]
    },
    {
     "name": "stdout",
     "output_type": "stream",
     "text": [
      "Runtime: 0 o' clock and 18 minutes\n",
      "~~~~~~~~~~~ 100 ~~~~~~~~~~~~~~~~~~~ 300 ~~~~~~~~~~~~~~~~~~~ SB-059 ~~~~~~~~~~~~~~~~~~~\n",
      "Before balancing count  1.0    2639\n",
      "0.0    1027\n",
      "Name: class, dtype: int64\n",
      "~~~~~~~ value_counts: ~~~~~~~\n",
      "SHOULD BE BALANCED NOW: 0.0    2639\n",
      "1.0    2639\n",
      "Name: class, dtype: int64\n",
      "X_train = 5278, y_train = 5278\n",
      "Population Fold 0: Training data size = 3518, Validation data size = 1760\n"
     ]
    },
    {
     "name": "stderr",
     "output_type": "stream",
     "text": [
      "/home/st/sbhuvaji/anaconda3/lib/python3.9/site-packages/keras/src/engine/training.py:3000: UserWarning: You are saving your model as an HDF5 file via `model.save()`. This file format is considered legacy. We recommend using instead the native Keras format, e.g. `model.save('my_model.keras')`.\n",
      "  saving_api.save_model(\n"
     ]
    },
    {
     "name": "stdout",
     "output_type": "stream",
     "text": [
      "55/55 [==============================] - 0s 892us/step\n",
      "cm [[709 134]\n",
      " [381 536]]\n",
      "cm.ravel() [709 134 381 536]\n",
      "Before balancing count  1.0    79\n",
      "0.0    22\n",
      "Name: class, dtype: int64\n",
      "~~~~~~~ value_counts: ~~~~~~~\n",
      "SHOULD BE BALANCED NOW: 1.0    79\n",
      "0.0    79\n",
      "Name: class, dtype: int64\n",
      "Before balancing count  1.0    73\n",
      "0.0    29\n",
      "Name: class, dtype: int64\n",
      "~~~~~~~ value_counts: ~~~~~~~\n",
      "SHOULD BE BALANCED NOW: 0.0    73\n",
      "1.0    73\n",
      "Name: class, dtype: int64\n",
      "done RE-training 0 of 3. "
     ]
    },
    {
     "name": "stderr",
     "output_type": "stream",
     "text": [
      "/home/st/sbhuvaji/anaconda3/lib/python3.9/site-packages/keras/src/engine/training.py:3000: UserWarning: You are saving your model as an HDF5 file via `model.save()`. This file format is considered legacy. We recommend using instead the native Keras format, e.g. `model.save('my_model.keras')`.\n",
      "  saving_api.save_model(\n"
     ]
    },
    {
     "name": "stdout",
     "output_type": "stream",
     "text": [
      "4/4 [==============================] - 0s 1ms/step\n",
      "cm [[20  9]\n",
      " [35 38]]\n",
      "cm.ravel() [20  9 35 38]\n",
      "done testing 0 of 2.\n",
      "4/4 [==============================] - 0s 1ms/step\n",
      "cm [[11 11]\n",
      " [32 47]]\n",
      "cm.ravel() [11 11 32 47]\n",
      "done testing 1 of 2.\n"
     ]
    },
    {
     "name": "stderr",
     "output_type": "stream",
     "text": [
      "/home/st/sbhuvaji/1AllP/Individual Patient_All Models/TLandTL/Actual TL/HeavyDecoder/WithCV/TL_Packages.py:582: UserWarning: FixedFormatter should only be used together with FixedLocator\n",
      "  axs[i].set_xticklabels([''] + ['0', '1'], fontsize='xx-large')\n",
      "/home/st/sbhuvaji/1AllP/Individual Patient_All Models/TLandTL/Actual TL/HeavyDecoder/WithCV/TL_Packages.py:583: UserWarning: FixedFormatter should only be used together with FixedLocator\n",
      "  axs[i].set_yticklabels([''] + ['0', '1'], fontsize='xx-large')\n"
     ]
    },
    {
     "name": "stdout",
     "output_type": "stream",
     "text": [
      "Population Fold 1: Training data size = 3519, Validation data size = 1759\n"
     ]
    },
    {
     "name": "stderr",
     "output_type": "stream",
     "text": [
      "/home/st/sbhuvaji/anaconda3/lib/python3.9/site-packages/keras/src/engine/training.py:3000: UserWarning: You are saving your model as an HDF5 file via `model.save()`. This file format is considered legacy. We recommend using instead the native Keras format, e.g. `model.save('my_model.keras')`.\n",
      "  saving_api.save_model(\n"
     ]
    },
    {
     "name": "stdout",
     "output_type": "stream",
     "text": [
      "55/55 [==============================] - 0s 911us/step\n",
      "cm [[665 245]\n",
      " [256 593]]\n",
      "cm.ravel() [665 245 256 593]\n",
      "Before balancing count  1.0    71\n",
      "0.0    30\n",
      "Name: class, dtype: int64\n",
      "~~~~~~~ value_counts: ~~~~~~~\n",
      "SHOULD BE BALANCED NOW: 1.0    71\n",
      "0.0    71\n",
      "Name: class, dtype: int64\n",
      "Before balancing count  1.0    81\n",
      "0.0    21\n",
      "Name: class, dtype: int64\n",
      "~~~~~~~ value_counts: ~~~~~~~\n",
      "SHOULD BE BALANCED NOW: 1.0    81\n",
      "0.0    81\n",
      "Name: class, dtype: int64\n",
      "done RE-training 0 of 3. "
     ]
    },
    {
     "name": "stderr",
     "output_type": "stream",
     "text": [
      "/home/st/sbhuvaji/anaconda3/lib/python3.9/site-packages/keras/src/engine/training.py:3000: UserWarning: You are saving your model as an HDF5 file via `model.save()`. This file format is considered legacy. We recommend using instead the native Keras format, e.g. `model.save('my_model.keras')`.\n",
      "  saving_api.save_model(\n"
     ]
    },
    {
     "name": "stdout",
     "output_type": "stream",
     "text": [
      "4/4 [==============================] - 0s 1ms/step\n",
      "cm [[13  8]\n",
      " [31 50]]\n",
      "cm.ravel() [13  8 31 50]\n",
      "done testing 0 of 2.\n",
      "4/4 [==============================] - 0s 1ms/step\n",
      "cm [[15 15]\n",
      " [25 46]]\n",
      "cm.ravel() [15 15 25 46]\n",
      "done testing 1 of 2.\n"
     ]
    },
    {
     "name": "stderr",
     "output_type": "stream",
     "text": [
      "/home/st/sbhuvaji/1AllP/Individual Patient_All Models/TLandTL/Actual TL/HeavyDecoder/WithCV/TL_Packages.py:582: UserWarning: FixedFormatter should only be used together with FixedLocator\n",
      "  axs[i].set_xticklabels([''] + ['0', '1'], fontsize='xx-large')\n",
      "/home/st/sbhuvaji/1AllP/Individual Patient_All Models/TLandTL/Actual TL/HeavyDecoder/WithCV/TL_Packages.py:583: UserWarning: FixedFormatter should only be used together with FixedLocator\n",
      "  axs[i].set_yticklabels([''] + ['0', '1'], fontsize='xx-large')\n"
     ]
    },
    {
     "name": "stdout",
     "output_type": "stream",
     "text": [
      "Population Fold 2: Training data size = 3519, Validation data size = 1759\n"
     ]
    },
    {
     "name": "stderr",
     "output_type": "stream",
     "text": [
      "/home/st/sbhuvaji/anaconda3/lib/python3.9/site-packages/keras/src/engine/training.py:3000: UserWarning: You are saving your model as an HDF5 file via `model.save()`. This file format is considered legacy. We recommend using instead the native Keras format, e.g. `model.save('my_model.keras')`.\n",
      "  saving_api.save_model(\n"
     ]
    },
    {
     "name": "stdout",
     "output_type": "stream",
     "text": [
      "55/55 [==============================] - 0s 883us/step\n",
      "cm [[660 226]\n",
      " [226 647]]\n",
      "cm.ravel() [660 226 226 647]\n",
      "Before balancing count  1.0    74\n",
      "0.0    27\n",
      "Name: class, dtype: int64\n",
      "~~~~~~~ value_counts: ~~~~~~~\n",
      "SHOULD BE BALANCED NOW: 1.0    74\n",
      "0.0    74\n",
      "Name: class, dtype: int64\n",
      "Before balancing count  1.0    78\n",
      "0.0    24\n",
      "Name: class, dtype: int64\n",
      "~~~~~~~ value_counts: ~~~~~~~\n",
      "SHOULD BE BALANCED NOW: 1.0    78\n",
      "0.0    78\n",
      "Name: class, dtype: int64\n",
      "done RE-training 0 of 3. "
     ]
    },
    {
     "name": "stderr",
     "output_type": "stream",
     "text": [
      "/home/st/sbhuvaji/anaconda3/lib/python3.9/site-packages/keras/src/engine/training.py:3000: UserWarning: You are saving your model as an HDF5 file via `model.save()`. This file format is considered legacy. We recommend using instead the native Keras format, e.g. `model.save('my_model.keras')`.\n",
      "  saving_api.save_model(\n"
     ]
    },
    {
     "name": "stdout",
     "output_type": "stream",
     "text": [
      "4/4 [==============================] - 0s 1ms/step\n",
      "cm [[10 14]\n",
      " [42 36]]\n",
      "cm.ravel() [10 14 42 36]\n",
      "done testing 0 of 2.\n",
      "4/4 [==============================] - 0s 1ms/step\n",
      "cm [[ 9 18]\n",
      " [27 47]]\n",
      "cm.ravel() [ 9 18 27 47]\n",
      "done testing 1 of 2.\n"
     ]
    },
    {
     "name": "stderr",
     "output_type": "stream",
     "text": [
      "/home/st/sbhuvaji/1AllP/Individual Patient_All Models/TLandTL/Actual TL/HeavyDecoder/WithCV/TL_Packages.py:582: UserWarning: FixedFormatter should only be used together with FixedLocator\n",
      "  axs[i].set_xticklabels([''] + ['0', '1'], fontsize='xx-large')\n",
      "/home/st/sbhuvaji/1AllP/Individual Patient_All Models/TLandTL/Actual TL/HeavyDecoder/WithCV/TL_Packages.py:583: UserWarning: FixedFormatter should only be used together with FixedLocator\n",
      "  axs[i].set_yticklabels([''] + ['0', '1'], fontsize='xx-large')\n",
      " 54%|█████▍    | 14/26 [40:03<33:26, 167.20s/it]"
     ]
    },
    {
     "name": "stdout",
     "output_type": "stream",
     "text": [
      "Runtime: 0 o' clock and 21 minutes\n",
      "~~~~~~~~~~~ 100 ~~~~~~~~~~~~~~~~~~~ 300 ~~~~~~~~~~~~~~~~~~~ SB-060 ~~~~~~~~~~~~~~~~~~~\n",
      "Before balancing count  1.0    2717\n",
      "0.0    1058\n",
      "Name: class, dtype: int64\n",
      "~~~~~~~ value_counts: ~~~~~~~\n",
      "SHOULD BE BALANCED NOW: 1.0    2717\n",
      "0.0    2717\n",
      "Name: class, dtype: int64\n",
      "X_train = 5434, y_train = 5434\n",
      "Population Fold 0: Training data size = 3622, Validation data size = 1812\n"
     ]
    },
    {
     "name": "stderr",
     "output_type": "stream",
     "text": [
      "/home/st/sbhuvaji/anaconda3/lib/python3.9/site-packages/keras/src/engine/training.py:3000: UserWarning: You are saving your model as an HDF5 file via `model.save()`. This file format is considered legacy. We recommend using instead the native Keras format, e.g. `model.save('my_model.keras')`.\n",
      "  saving_api.save_model(\n"
     ]
    },
    {
     "name": "stdout",
     "output_type": "stream",
     "text": [
      "57/57 [==============================] - 0s 992us/step\n",
      "cm [[653 222]\n",
      " [248 689]]\n",
      "cm.ravel() [653 222 248 689]\n",
      "Before balancing count  1.0    28\n",
      "0.0    16\n",
      "Name: class, dtype: int64\n",
      "~~~~~~~ value_counts: ~~~~~~~\n",
      "SHOULD BE BALANCED NOW: 0.0    28\n",
      "1.0    28\n",
      "Name: class, dtype: int64\n",
      "Before balancing count  1.0    33\n",
      "0.0    11\n",
      "Name: class, dtype: int64\n",
      "~~~~~~~ value_counts: ~~~~~~~\n",
      "SHOULD BE BALANCED NOW: 1.0    33\n",
      "0.0    33\n",
      "Name: class, dtype: int64\n",
      "done RE-training 0 of 3. "
     ]
    },
    {
     "name": "stderr",
     "output_type": "stream",
     "text": [
      "/home/st/sbhuvaji/anaconda3/lib/python3.9/site-packages/keras/src/engine/training.py:3000: UserWarning: You are saving your model as an HDF5 file via `model.save()`. This file format is considered legacy. We recommend using instead the native Keras format, e.g. `model.save('my_model.keras')`.\n",
      "  saving_api.save_model(\n"
     ]
    },
    {
     "name": "stdout",
     "output_type": "stream",
     "text": [
      "2/2 [==============================] - 0s 2ms/step\n",
      "cm [[ 4  7]\n",
      " [16 17]]\n",
      "cm.ravel() [ 4  7 16 17]\n",
      "done testing 0 of 2.\n",
      "2/2 [==============================] - 0s 2ms/step\n",
      "cm [[ 5 11]\n",
      " [ 7 21]]\n",
      "cm.ravel() [ 5 11  7 21]\n",
      "done testing 1 of 2.\n"
     ]
    },
    {
     "name": "stderr",
     "output_type": "stream",
     "text": [
      "/home/st/sbhuvaji/1AllP/Individual Patient_All Models/TLandTL/Actual TL/HeavyDecoder/WithCV/TL_Packages.py:582: UserWarning: FixedFormatter should only be used together with FixedLocator\n",
      "  axs[i].set_xticklabels([''] + ['0', '1'], fontsize='xx-large')\n",
      "/home/st/sbhuvaji/1AllP/Individual Patient_All Models/TLandTL/Actual TL/HeavyDecoder/WithCV/TL_Packages.py:583: UserWarning: FixedFormatter should only be used together with FixedLocator\n",
      "  axs[i].set_yticklabels([''] + ['0', '1'], fontsize='xx-large')\n"
     ]
    },
    {
     "name": "stdout",
     "output_type": "stream",
     "text": [
      "Population Fold 1: Training data size = 3623, Validation data size = 1811\n"
     ]
    },
    {
     "name": "stderr",
     "output_type": "stream",
     "text": [
      "/home/st/sbhuvaji/anaconda3/lib/python3.9/site-packages/keras/src/engine/training.py:3000: UserWarning: You are saving your model as an HDF5 file via `model.save()`. This file format is considered legacy. We recommend using instead the native Keras format, e.g. `model.save('my_model.keras')`.\n",
      "  saving_api.save_model(\n"
     ]
    },
    {
     "name": "stdout",
     "output_type": "stream",
     "text": [
      "57/57 [==============================] - 0s 840us/step\n",
      "cm [[596 317]\n",
      " [203 695]]\n",
      "cm.ravel() [596 317 203 695]\n",
      "Before balancing count  1.0    30\n",
      "0.0    14\n",
      "Name: class, dtype: int64\n",
      "~~~~~~~ value_counts: ~~~~~~~\n",
      "SHOULD BE BALANCED NOW: 0.0    30\n",
      "1.0    30\n",
      "Name: class, dtype: int64\n",
      "Before balancing count  1.0    31\n",
      "0.0    13\n",
      "Name: class, dtype: int64\n",
      "~~~~~~~ value_counts: ~~~~~~~\n",
      "SHOULD BE BALANCED NOW: 1.0    31\n",
      "0.0    31\n",
      "Name: class, dtype: int64\n",
      "done RE-training 0 of 3. "
     ]
    },
    {
     "name": "stderr",
     "output_type": "stream",
     "text": [
      "/home/st/sbhuvaji/anaconda3/lib/python3.9/site-packages/keras/src/engine/training.py:3000: UserWarning: You are saving your model as an HDF5 file via `model.save()`. This file format is considered legacy. We recommend using instead the native Keras format, e.g. `model.save('my_model.keras')`.\n",
      "  saving_api.save_model(\n"
     ]
    },
    {
     "name": "stdout",
     "output_type": "stream",
     "text": [
      "2/2 [==============================] - 0s 2ms/step\n",
      "cm [[ 6  7]\n",
      " [ 9 22]]\n",
      "cm.ravel() [ 6  7  9 22]\n",
      "done testing 0 of 2.\n",
      "2/2 [==============================] - 0s 2ms/step\n",
      "cm [[ 6  8]\n",
      " [18 12]]\n",
      "cm.ravel() [ 6  8 18 12]\n",
      "done testing 1 of 2.\n"
     ]
    },
    {
     "name": "stderr",
     "output_type": "stream",
     "text": [
      "/home/st/sbhuvaji/1AllP/Individual Patient_All Models/TLandTL/Actual TL/HeavyDecoder/WithCV/TL_Packages.py:582: UserWarning: FixedFormatter should only be used together with FixedLocator\n",
      "  axs[i].set_xticklabels([''] + ['0', '1'], fontsize='xx-large')\n",
      "/home/st/sbhuvaji/1AllP/Individual Patient_All Models/TLandTL/Actual TL/HeavyDecoder/WithCV/TL_Packages.py:583: UserWarning: FixedFormatter should only be used together with FixedLocator\n",
      "  axs[i].set_yticklabels([''] + ['0', '1'], fontsize='xx-large')\n"
     ]
    },
    {
     "name": "stdout",
     "output_type": "stream",
     "text": [
      "Population Fold 2: Training data size = 3623, Validation data size = 1811\n"
     ]
    },
    {
     "name": "stderr",
     "output_type": "stream",
     "text": [
      "/home/st/sbhuvaji/anaconda3/lib/python3.9/site-packages/keras/src/engine/training.py:3000: UserWarning: You are saving your model as an HDF5 file via `model.save()`. This file format is considered legacy. We recommend using instead the native Keras format, e.g. `model.save('my_model.keras')`.\n",
      "  saving_api.save_model(\n"
     ]
    },
    {
     "name": "stdout",
     "output_type": "stream",
     "text": [
      "57/57 [==============================] - 0s 859us/step\n",
      "cm [[696 233]\n",
      " [253 629]]\n",
      "cm.ravel() [696 233 253 629]\n",
      "Before balancing count  1.0    32\n",
      "0.0    12\n",
      "Name: class, dtype: int64\n",
      "~~~~~~~ value_counts: ~~~~~~~\n",
      "SHOULD BE BALANCED NOW: 1.0    32\n",
      "0.0    32\n",
      "Name: class, dtype: int64\n",
      "Before balancing count  1.0    29\n",
      "0.0    15\n",
      "Name: class, dtype: int64\n",
      "~~~~~~~ value_counts: ~~~~~~~\n",
      "SHOULD BE BALANCED NOW: 0.0    29\n",
      "1.0    29\n",
      "Name: class, dtype: int64\n",
      "done RE-training 0 of 3. "
     ]
    },
    {
     "name": "stderr",
     "output_type": "stream",
     "text": [
      "/home/st/sbhuvaji/anaconda3/lib/python3.9/site-packages/keras/src/engine/training.py:3000: UserWarning: You are saving your model as an HDF5 file via `model.save()`. This file format is considered legacy. We recommend using instead the native Keras format, e.g. `model.save('my_model.keras')`.\n",
      "  saving_api.save_model(\n"
     ]
    },
    {
     "name": "stdout",
     "output_type": "stream",
     "text": [
      "2/2 [==============================] - 0s 2ms/step\n",
      "cm [[10  5]\n",
      " [ 9 20]]\n",
      "cm.ravel() [10  5  9 20]\n",
      "done testing 0 of 2.\n",
      "2/2 [==============================] - 0s 2ms/step\n",
      "cm [[ 5  7]\n",
      " [ 9 23]]\n",
      "cm.ravel() [ 5  7  9 23]\n",
      "done testing 1 of 2.\n"
     ]
    },
    {
     "name": "stderr",
     "output_type": "stream",
     "text": [
      "/home/st/sbhuvaji/1AllP/Individual Patient_All Models/TLandTL/Actual TL/HeavyDecoder/WithCV/TL_Packages.py:582: UserWarning: FixedFormatter should only be used together with FixedLocator\n",
      "  axs[i].set_xticklabels([''] + ['0', '1'], fontsize='xx-large')\n",
      "/home/st/sbhuvaji/1AllP/Individual Patient_All Models/TLandTL/Actual TL/HeavyDecoder/WithCV/TL_Packages.py:583: UserWarning: FixedFormatter should only be used together with FixedLocator\n",
      "  axs[i].set_yticklabels([''] + ['0', '1'], fontsize='xx-large')\n",
      " 58%|█████▊    | 15/26 [43:06<31:28, 171.67s/it]"
     ]
    },
    {
     "name": "stdout",
     "output_type": "stream",
     "text": [
      "Runtime: 0 o' clock and 24 minutes\n",
      "~~~~~~~~~~~ 100 ~~~~~~~~~~~~~~~~~~~ 300 ~~~~~~~~~~~~~~~~~~~ SB-070 ~~~~~~~~~~~~~~~~~~~\n",
      "Before balancing count  1.0    2648\n",
      "0.0    1019\n",
      "Name: class, dtype: int64\n",
      "~~~~~~~ value_counts: ~~~~~~~\n",
      "SHOULD BE BALANCED NOW: 0.0    2648\n",
      "1.0    2648\n",
      "Name: class, dtype: int64\n",
      "X_train = 5296, y_train = 5296\n",
      "Population Fold 0: Training data size = 3530, Validation data size = 1766\n"
     ]
    },
    {
     "name": "stderr",
     "output_type": "stream",
     "text": [
      "/home/st/sbhuvaji/anaconda3/lib/python3.9/site-packages/keras/src/engine/training.py:3000: UserWarning: You are saving your model as an HDF5 file via `model.save()`. This file format is considered legacy. We recommend using instead the native Keras format, e.g. `model.save('my_model.keras')`.\n",
      "  saving_api.save_model(\n"
     ]
    },
    {
     "name": "stdout",
     "output_type": "stream",
     "text": [
      "56/56 [==============================] - 0s 898us/step\n",
      "cm [[642 239]\n",
      " [233 652]]\n",
      "cm.ravel() [642 239 233 652]\n",
      "Before balancing count  1.0    72\n",
      "0.0    29\n",
      "Name: class, dtype: int64\n",
      "~~~~~~~ value_counts: ~~~~~~~\n",
      "SHOULD BE BALANCED NOW: 1.0    72\n",
      "0.0    72\n",
      "Name: class, dtype: int64\n",
      "Before balancing count  1.0    70\n",
      "0.0    31\n",
      "Name: class, dtype: int64\n",
      "~~~~~~~ value_counts: ~~~~~~~\n",
      "SHOULD BE BALANCED NOW: 1.0    70\n",
      "0.0    70\n",
      "Name: class, dtype: int64\n",
      "done RE-training 0 of 3. "
     ]
    },
    {
     "name": "stderr",
     "output_type": "stream",
     "text": [
      "/home/st/sbhuvaji/anaconda3/lib/python3.9/site-packages/keras/src/engine/training.py:3000: UserWarning: You are saving your model as an HDF5 file via `model.save()`. This file format is considered legacy. We recommend using instead the native Keras format, e.g. `model.save('my_model.keras')`.\n",
      "  saving_api.save_model(\n"
     ]
    },
    {
     "name": "stdout",
     "output_type": "stream",
     "text": [
      "4/4 [==============================] - 0s 1ms/step\n",
      "cm [[19 12]\n",
      " [26 44]]\n",
      "cm.ravel() [19 12 26 44]\n",
      "done testing 0 of 2.\n",
      "4/4 [==============================] - 0s 1ms/step\n",
      "cm [[17 12]\n",
      " [26 46]]\n",
      "cm.ravel() [17 12 26 46]\n",
      "done testing 1 of 2.\n"
     ]
    },
    {
     "name": "stderr",
     "output_type": "stream",
     "text": [
      "/home/st/sbhuvaji/1AllP/Individual Patient_All Models/TLandTL/Actual TL/HeavyDecoder/WithCV/TL_Packages.py:582: UserWarning: FixedFormatter should only be used together with FixedLocator\n",
      "  axs[i].set_xticklabels([''] + ['0', '1'], fontsize='xx-large')\n",
      "/home/st/sbhuvaji/1AllP/Individual Patient_All Models/TLandTL/Actual TL/HeavyDecoder/WithCV/TL_Packages.py:583: UserWarning: FixedFormatter should only be used together with FixedLocator\n",
      "  axs[i].set_yticklabels([''] + ['0', '1'], fontsize='xx-large')\n"
     ]
    },
    {
     "name": "stdout",
     "output_type": "stream",
     "text": [
      "Population Fold 1: Training data size = 3531, Validation data size = 1765\n"
     ]
    },
    {
     "name": "stderr",
     "output_type": "stream",
     "text": [
      "/home/st/sbhuvaji/anaconda3/lib/python3.9/site-packages/keras/src/engine/training.py:3000: UserWarning: You are saving your model as an HDF5 file via `model.save()`. This file format is considered legacy. We recommend using instead the native Keras format, e.g. `model.save('my_model.keras')`.\n",
      "  saving_api.save_model(\n"
     ]
    },
    {
     "name": "stdout",
     "output_type": "stream",
     "text": [
      "56/56 [==============================] - 0s 902us/step\n",
      "cm [[686 210]\n",
      " [214 655]]\n",
      "cm.ravel() [686 210 214 655]\n",
      "Before balancing count  1.0    75\n",
      "0.0    26\n",
      "Name: class, dtype: int64\n",
      "~~~~~~~ value_counts: ~~~~~~~\n",
      "SHOULD BE BALANCED NOW: 0.0    75\n",
      "1.0    75\n",
      "Name: class, dtype: int64\n",
      "Before balancing count  1.0    67\n",
      "0.0    34\n",
      "Name: class, dtype: int64\n",
      "~~~~~~~ value_counts: ~~~~~~~\n",
      "SHOULD BE BALANCED NOW: 1.0    67\n",
      "0.0    67\n",
      "Name: class, dtype: int64\n",
      "done RE-training 0 of 3. "
     ]
    },
    {
     "name": "stderr",
     "output_type": "stream",
     "text": [
      "/home/st/sbhuvaji/anaconda3/lib/python3.9/site-packages/keras/src/engine/training.py:3000: UserWarning: You are saving your model as an HDF5 file via `model.save()`. This file format is considered legacy. We recommend using instead the native Keras format, e.g. `model.save('my_model.keras')`.\n",
      "  saving_api.save_model(\n"
     ]
    },
    {
     "name": "stdout",
     "output_type": "stream",
     "text": [
      "4/4 [==============================] - 0s 1ms/step\n",
      "cm [[16 18]\n",
      " [22 45]]\n",
      "cm.ravel() [16 18 22 45]\n",
      "done testing 0 of 2.\n",
      "4/4 [==============================] - 0s 1ms/step\n",
      "cm [[17  9]\n",
      " [32 43]]\n",
      "cm.ravel() [17  9 32 43]\n",
      "done testing 1 of 2.\n"
     ]
    },
    {
     "name": "stderr",
     "output_type": "stream",
     "text": [
      "/home/st/sbhuvaji/1AllP/Individual Patient_All Models/TLandTL/Actual TL/HeavyDecoder/WithCV/TL_Packages.py:582: UserWarning: FixedFormatter should only be used together with FixedLocator\n",
      "  axs[i].set_xticklabels([''] + ['0', '1'], fontsize='xx-large')\n",
      "/home/st/sbhuvaji/1AllP/Individual Patient_All Models/TLandTL/Actual TL/HeavyDecoder/WithCV/TL_Packages.py:583: UserWarning: FixedFormatter should only be used together with FixedLocator\n",
      "  axs[i].set_yticklabels([''] + ['0', '1'], fontsize='xx-large')\n"
     ]
    },
    {
     "name": "stdout",
     "output_type": "stream",
     "text": [
      "Population Fold 2: Training data size = 3531, Validation data size = 1765\n"
     ]
    },
    {
     "name": "stderr",
     "output_type": "stream",
     "text": [
      "/home/st/sbhuvaji/anaconda3/lib/python3.9/site-packages/keras/src/engine/training.py:3000: UserWarning: You are saving your model as an HDF5 file via `model.save()`. This file format is considered legacy. We recommend using instead the native Keras format, e.g. `model.save('my_model.keras')`.\n",
      "  saving_api.save_model(\n"
     ]
    },
    {
     "name": "stdout",
     "output_type": "stream",
     "text": [
      "56/56 [==============================] - 0s 868us/step\n",
      "cm [[692 179]\n",
      " [279 615]]\n",
      "cm.ravel() [692 179 279 615]\n",
      "Before balancing count  1.0    75\n",
      "0.0    26\n",
      "Name: class, dtype: int64\n",
      "~~~~~~~ value_counts: ~~~~~~~\n",
      "SHOULD BE BALANCED NOW: 0.0    75\n",
      "1.0    75\n",
      "Name: class, dtype: int64\n",
      "Before balancing count  1.0    67\n",
      "0.0    34\n",
      "Name: class, dtype: int64\n",
      "~~~~~~~ value_counts: ~~~~~~~\n",
      "SHOULD BE BALANCED NOW: 1.0    67\n",
      "0.0    67\n",
      "Name: class, dtype: int64\n",
      "done RE-training 0 of 3. "
     ]
    },
    {
     "name": "stderr",
     "output_type": "stream",
     "text": [
      "/home/st/sbhuvaji/anaconda3/lib/python3.9/site-packages/keras/src/engine/training.py:3000: UserWarning: You are saving your model as an HDF5 file via `model.save()`. This file format is considered legacy. We recommend using instead the native Keras format, e.g. `model.save('my_model.keras')`.\n",
      "  saving_api.save_model(\n"
     ]
    },
    {
     "name": "stdout",
     "output_type": "stream",
     "text": [
      "4/4 [==============================] - 0s 1ms/step\n",
      "cm [[14 20]\n",
      " [20 47]]\n",
      "cm.ravel() [14 20 20 47]\n",
      "done testing 0 of 2.\n",
      "4/4 [==============================] - 0s 1ms/step\n",
      "cm [[12 14]\n",
      " [21 54]]\n",
      "cm.ravel() [12 14 21 54]\n",
      "done testing 1 of 2.\n"
     ]
    },
    {
     "name": "stderr",
     "output_type": "stream",
     "text": [
      "/home/st/sbhuvaji/1AllP/Individual Patient_All Models/TLandTL/Actual TL/HeavyDecoder/WithCV/TL_Packages.py:582: UserWarning: FixedFormatter should only be used together with FixedLocator\n",
      "  axs[i].set_xticklabels([''] + ['0', '1'], fontsize='xx-large')\n",
      "/home/st/sbhuvaji/1AllP/Individual Patient_All Models/TLandTL/Actual TL/HeavyDecoder/WithCV/TL_Packages.py:583: UserWarning: FixedFormatter should only be used together with FixedLocator\n",
      "  axs[i].set_yticklabels([''] + ['0', '1'], fontsize='xx-large')\n",
      " 62%|██████▏   | 16/26 [46:09<29:11, 175.11s/it]"
     ]
    },
    {
     "name": "stdout",
     "output_type": "stream",
     "text": [
      "Runtime: 0 o' clock and 27 minutes\n",
      "~~~~~~~~~~~ 100 ~~~~~~~~~~~~~~~~~~~ 300 ~~~~~~~~~~~~~~~~~~~ SB-071 ~~~~~~~~~~~~~~~~~~~\n",
      "Before balancing count  1.0    2669\n",
      "0.0    1072\n",
      "Name: class, dtype: int64\n",
      "~~~~~~~ value_counts: ~~~~~~~\n",
      "SHOULD BE BALANCED NOW: 1.0    2669\n",
      "0.0    2669\n",
      "Name: class, dtype: int64\n",
      "X_train = 5338, y_train = 5338\n",
      "Population Fold 0: Training data size = 3558, Validation data size = 1780\n"
     ]
    },
    {
     "name": "stderr",
     "output_type": "stream",
     "text": [
      "/home/st/sbhuvaji/anaconda3/lib/python3.9/site-packages/keras/src/engine/training.py:3000: UserWarning: You are saving your model as an HDF5 file via `model.save()`. This file format is considered legacy. We recommend using instead the native Keras format, e.g. `model.save('my_model.keras')`.\n",
      "  saving_api.save_model(\n"
     ]
    },
    {
     "name": "stdout",
     "output_type": "stream",
     "text": [
      "56/56 [==============================] - 0s 754us/step\n",
      "cm [[667 224]\n",
      " [244 645]]\n",
      "cm.ravel() [667 224 244 645]\n",
      "Before balancing count  1.0    51\n",
      "0.0    11\n",
      "Name: class, dtype: int64\n",
      "~~~~~~~ value_counts: ~~~~~~~\n",
      "SHOULD BE BALANCED NOW: 0.0    51\n",
      "1.0    51\n",
      "Name: class, dtype: int64\n",
      "Before balancing count  1.0    54\n",
      "0.0     8\n",
      "Name: class, dtype: int64\n",
      "~~~~~~~ value_counts: ~~~~~~~\n",
      "SHOULD BE BALANCED NOW: 1.0    54\n",
      "0.0    54\n",
      "Name: class, dtype: int64\n",
      "done RE-training 0 of 3. "
     ]
    },
    {
     "name": "stderr",
     "output_type": "stream",
     "text": [
      "/home/st/sbhuvaji/anaconda3/lib/python3.9/site-packages/keras/src/engine/training.py:3000: UserWarning: You are saving your model as an HDF5 file via `model.save()`. This file format is considered legacy. We recommend using instead the native Keras format, e.g. `model.save('my_model.keras')`.\n",
      "  saving_api.save_model(\n"
     ]
    },
    {
     "name": "stdout",
     "output_type": "stream",
     "text": [
      "2/2 [==============================] - 0s 2ms/step\n",
      "cm [[ 3  5]\n",
      " [17 37]]\n",
      "cm.ravel() [ 3  5 17 37]\n",
      "done testing 0 of 2.\n",
      "2/2 [==============================] - 0s 2ms/step\n",
      "cm [[ 4  7]\n",
      " [14 37]]\n",
      "cm.ravel() [ 4  7 14 37]\n",
      "done testing 1 of 2.\n"
     ]
    },
    {
     "name": "stderr",
     "output_type": "stream",
     "text": [
      "/home/st/sbhuvaji/1AllP/Individual Patient_All Models/TLandTL/Actual TL/HeavyDecoder/WithCV/TL_Packages.py:582: UserWarning: FixedFormatter should only be used together with FixedLocator\n",
      "  axs[i].set_xticklabels([''] + ['0', '1'], fontsize='xx-large')\n",
      "/home/st/sbhuvaji/1AllP/Individual Patient_All Models/TLandTL/Actual TL/HeavyDecoder/WithCV/TL_Packages.py:583: UserWarning: FixedFormatter should only be used together with FixedLocator\n",
      "  axs[i].set_yticklabels([''] + ['0', '1'], fontsize='xx-large')\n"
     ]
    },
    {
     "name": "stdout",
     "output_type": "stream",
     "text": [
      "Population Fold 1: Training data size = 3559, Validation data size = 1779\n"
     ]
    },
    {
     "name": "stderr",
     "output_type": "stream",
     "text": [
      "/home/st/sbhuvaji/anaconda3/lib/python3.9/site-packages/keras/src/engine/training.py:3000: UserWarning: You are saving your model as an HDF5 file via `model.save()`. This file format is considered legacy. We recommend using instead the native Keras format, e.g. `model.save('my_model.keras')`.\n",
      "  saving_api.save_model(\n"
     ]
    },
    {
     "name": "stdout",
     "output_type": "stream",
     "text": [
      "56/56 [==============================] - 0s 857us/step\n",
      "cm [[567 344]\n",
      " [132 736]]\n",
      "cm.ravel() [567 344 132 736]\n",
      "Before balancing count  1.0    50\n",
      "0.0    12\n",
      "Name: class, dtype: int64\n",
      "~~~~~~~ value_counts: ~~~~~~~\n",
      "SHOULD BE BALANCED NOW: 1.0    50\n",
      "0.0    50\n",
      "Name: class, dtype: int64\n",
      "Before balancing count  1.0    55\n",
      "0.0     7\n",
      "Name: class, dtype: int64\n",
      "~~~~~~~ value_counts: ~~~~~~~\n",
      "SHOULD BE BALANCED NOW: 1.0    55\n",
      "0.0    55\n",
      "Name: class, dtype: int64\n",
      "done RE-training 0 of 3. "
     ]
    },
    {
     "name": "stderr",
     "output_type": "stream",
     "text": [
      "/home/st/sbhuvaji/anaconda3/lib/python3.9/site-packages/keras/src/engine/training.py:3000: UserWarning: You are saving your model as an HDF5 file via `model.save()`. This file format is considered legacy. We recommend using instead the native Keras format, e.g. `model.save('my_model.keras')`.\n",
      "  saving_api.save_model(\n"
     ]
    },
    {
     "name": "stdout",
     "output_type": "stream",
     "text": [
      "2/2 [==============================] - 0s 2ms/step\n",
      "cm [[ 5  2]\n",
      " [17 38]]\n",
      "cm.ravel() [ 5  2 17 38]\n",
      "done testing 0 of 2.\n",
      "2/2 [==============================] - 0s 2ms/step\n",
      "cm [[ 7  5]\n",
      " [15 35]]\n",
      "cm.ravel() [ 7  5 15 35]\n",
      "done testing 1 of 2.\n"
     ]
    },
    {
     "name": "stderr",
     "output_type": "stream",
     "text": [
      "/home/st/sbhuvaji/1AllP/Individual Patient_All Models/TLandTL/Actual TL/HeavyDecoder/WithCV/TL_Packages.py:582: UserWarning: FixedFormatter should only be used together with FixedLocator\n",
      "  axs[i].set_xticklabels([''] + ['0', '1'], fontsize='xx-large')\n",
      "/home/st/sbhuvaji/1AllP/Individual Patient_All Models/TLandTL/Actual TL/HeavyDecoder/WithCV/TL_Packages.py:583: UserWarning: FixedFormatter should only be used together with FixedLocator\n",
      "  axs[i].set_yticklabels([''] + ['0', '1'], fontsize='xx-large')\n"
     ]
    },
    {
     "name": "stdout",
     "output_type": "stream",
     "text": [
      "Population Fold 2: Training data size = 3559, Validation data size = 1779\n"
     ]
    },
    {
     "name": "stderr",
     "output_type": "stream",
     "text": [
      "/home/st/sbhuvaji/anaconda3/lib/python3.9/site-packages/keras/src/engine/training.py:3000: UserWarning: You are saving your model as an HDF5 file via `model.save()`. This file format is considered legacy. We recommend using instead the native Keras format, e.g. `model.save('my_model.keras')`.\n",
      "  saving_api.save_model(\n"
     ]
    },
    {
     "name": "stdout",
     "output_type": "stream",
     "text": [
      "56/56 [==============================] - 0s 875us/step\n",
      "cm [[589 278]\n",
      " [195 717]]\n",
      "cm.ravel() [589 278 195 717]\n",
      "Before balancing count  1.0    49\n",
      "0.0    13\n",
      "Name: class, dtype: int64\n",
      "~~~~~~~ value_counts: ~~~~~~~\n",
      "SHOULD BE BALANCED NOW: 1.0    49\n",
      "0.0    49\n",
      "Name: class, dtype: int64\n",
      "Before balancing count  1.0    56\n",
      "0.0     6\n",
      "Name: class, dtype: int64\n",
      "~~~~~~~ value_counts: ~~~~~~~\n",
      "SHOULD BE BALANCED NOW: 0.0    56\n",
      "1.0    56\n",
      "Name: class, dtype: int64\n",
      "done RE-training 0 of 3. "
     ]
    },
    {
     "name": "stderr",
     "output_type": "stream",
     "text": [
      "/home/st/sbhuvaji/anaconda3/lib/python3.9/site-packages/keras/src/engine/training.py:3000: UserWarning: You are saving your model as an HDF5 file via `model.save()`. This file format is considered legacy. We recommend using instead the native Keras format, e.g. `model.save('my_model.keras')`.\n",
      "  saving_api.save_model(\n"
     ]
    },
    {
     "name": "stdout",
     "output_type": "stream",
     "text": [
      "2/2 [==============================] - 0s 2ms/step\n",
      "cm [[ 4  2]\n",
      " [18 38]]\n",
      "cm.ravel() [ 4  2 18 38]\n",
      "done testing 0 of 2.\n",
      "2/2 [==============================] - 0s 2ms/step\n",
      "cm [[ 6  7]\n",
      " [12 37]]\n",
      "cm.ravel() [ 6  7 12 37]\n",
      "done testing 1 of 2.\n"
     ]
    },
    {
     "name": "stderr",
     "output_type": "stream",
     "text": [
      "/home/st/sbhuvaji/1AllP/Individual Patient_All Models/TLandTL/Actual TL/HeavyDecoder/WithCV/TL_Packages.py:582: UserWarning: FixedFormatter should only be used together with FixedLocator\n",
      "  axs[i].set_xticklabels([''] + ['0', '1'], fontsize='xx-large')\n",
      "/home/st/sbhuvaji/1AllP/Individual Patient_All Models/TLandTL/Actual TL/HeavyDecoder/WithCV/TL_Packages.py:583: UserWarning: FixedFormatter should only be used together with FixedLocator\n",
      "  axs[i].set_yticklabels([''] + ['0', '1'], fontsize='xx-large')\n",
      " 65%|██████▌   | 17/26 [49:11<26:33, 177.07s/it]"
     ]
    },
    {
     "name": "stdout",
     "output_type": "stream",
     "text": [
      "Runtime: 0 o' clock and 30 minutes\n",
      "~~~~~~~~~~~ 100 ~~~~~~~~~~~~~~~~~~~ 300 ~~~~~~~~~~~~~~~~~~~ SB-073 ~~~~~~~~~~~~~~~~~~~\n",
      "Before balancing count  1.0    2665\n",
      "0.0    1040\n",
      "Name: class, dtype: int64\n",
      "~~~~~~~ value_counts: ~~~~~~~\n",
      "SHOULD BE BALANCED NOW: 0.0    2665\n",
      "1.0    2665\n",
      "Name: class, dtype: int64\n",
      "X_train = 5330, y_train = 5330\n",
      "Population Fold 0: Training data size = 3553, Validation data size = 1777\n"
     ]
    },
    {
     "name": "stderr",
     "output_type": "stream",
     "text": [
      "/home/st/sbhuvaji/anaconda3/lib/python3.9/site-packages/keras/src/engine/training.py:3000: UserWarning: You are saving your model as an HDF5 file via `model.save()`. This file format is considered legacy. We recommend using instead the native Keras format, e.g. `model.save('my_model.keras')`.\n",
      "  saving_api.save_model(\n"
     ]
    },
    {
     "name": "stdout",
     "output_type": "stream",
     "text": [
      "56/56 [==============================] - 0s 897us/step\n",
      "cm [[712 168]\n",
      " [330 567]]\n",
      "cm.ravel() [712 168 330 567]\n",
      "Before balancing count  1.0    60\n",
      "0.0    20\n",
      "Name: class, dtype: int64\n",
      "~~~~~~~ value_counts: ~~~~~~~\n",
      "SHOULD BE BALANCED NOW: 0.0    60\n",
      "1.0    60\n",
      "Name: class, dtype: int64\n",
      "Before balancing count  1.0    60\n",
      "0.0    21\n",
      "Name: class, dtype: int64\n",
      "~~~~~~~ value_counts: ~~~~~~~\n",
      "SHOULD BE BALANCED NOW: 0.0    60\n",
      "1.0    60\n",
      "Name: class, dtype: int64\n",
      "done RE-training 0 of 3. "
     ]
    },
    {
     "name": "stderr",
     "output_type": "stream",
     "text": [
      "/home/st/sbhuvaji/anaconda3/lib/python3.9/site-packages/keras/src/engine/training.py:3000: UserWarning: You are saving your model as an HDF5 file via `model.save()`. This file format is considered legacy. We recommend using instead the native Keras format, e.g. `model.save('my_model.keras')`.\n",
      "  saving_api.save_model(\n"
     ]
    },
    {
     "name": "stdout",
     "output_type": "stream",
     "text": [
      "3/3 [==============================] - 0s 2ms/step\n",
      "cm [[11 10]\n",
      " [26 34]]\n",
      "cm.ravel() [11 10 26 34]\n",
      "done testing 0 of 2.\n",
      "3/3 [==============================] - 0s 2ms/step\n",
      "cm [[13  7]\n",
      " [19 41]]\n",
      "cm.ravel() [13  7 19 41]\n",
      "done testing 1 of 2.\n"
     ]
    },
    {
     "name": "stderr",
     "output_type": "stream",
     "text": [
      "/home/st/sbhuvaji/1AllP/Individual Patient_All Models/TLandTL/Actual TL/HeavyDecoder/WithCV/TL_Packages.py:582: UserWarning: FixedFormatter should only be used together with FixedLocator\n",
      "  axs[i].set_xticklabels([''] + ['0', '1'], fontsize='xx-large')\n",
      "/home/st/sbhuvaji/1AllP/Individual Patient_All Models/TLandTL/Actual TL/HeavyDecoder/WithCV/TL_Packages.py:583: UserWarning: FixedFormatter should only be used together with FixedLocator\n",
      "  axs[i].set_yticklabels([''] + ['0', '1'], fontsize='xx-large')\n"
     ]
    },
    {
     "name": "stdout",
     "output_type": "stream",
     "text": [
      "Population Fold 1: Training data size = 3553, Validation data size = 1777\n"
     ]
    },
    {
     "name": "stderr",
     "output_type": "stream",
     "text": [
      "/home/st/sbhuvaji/anaconda3/lib/python3.9/site-packages/keras/src/engine/training.py:3000: UserWarning: You are saving your model as an HDF5 file via `model.save()`. This file format is considered legacy. We recommend using instead the native Keras format, e.g. `model.save('my_model.keras')`.\n",
      "  saving_api.save_model(\n"
     ]
    },
    {
     "name": "stdout",
     "output_type": "stream",
     "text": [
      "56/56 [==============================] - 0s 892us/step\n",
      "cm [[748 142]\n",
      " [278 609]]\n",
      "cm.ravel() [748 142 278 609]\n",
      "Before balancing count  1.0    61\n",
      "0.0    19\n",
      "Name: class, dtype: int64\n",
      "~~~~~~~ value_counts: ~~~~~~~\n",
      "SHOULD BE BALANCED NOW: 0.0    61\n",
      "1.0    61\n",
      "Name: class, dtype: int64\n",
      "Before balancing count  1.0    59\n",
      "0.0    22\n",
      "Name: class, dtype: int64\n",
      "~~~~~~~ value_counts: ~~~~~~~\n",
      "SHOULD BE BALANCED NOW: 0.0    59\n",
      "1.0    59\n",
      "Name: class, dtype: int64\n",
      "done RE-training 0 of 3. "
     ]
    },
    {
     "name": "stderr",
     "output_type": "stream",
     "text": [
      "/home/st/sbhuvaji/anaconda3/lib/python3.9/site-packages/keras/src/engine/training.py:3000: UserWarning: You are saving your model as an HDF5 file via `model.save()`. This file format is considered legacy. We recommend using instead the native Keras format, e.g. `model.save('my_model.keras')`.\n",
      "  saving_api.save_model(\n"
     ]
    },
    {
     "name": "stdout",
     "output_type": "stream",
     "text": [
      "3/3 [==============================] - 0s 2ms/step\n",
      "cm [[14  8]\n",
      " [24 35]]\n",
      "cm.ravel() [14  8 24 35]\n",
      "done testing 0 of 2.\n",
      "3/3 [==============================] - 0s 1ms/step\n",
      "cm [[ 8 11]\n",
      " [24 37]]\n",
      "cm.ravel() [ 8 11 24 37]\n",
      "done testing 1 of 2.\n"
     ]
    },
    {
     "name": "stderr",
     "output_type": "stream",
     "text": [
      "/home/st/sbhuvaji/1AllP/Individual Patient_All Models/TLandTL/Actual TL/HeavyDecoder/WithCV/TL_Packages.py:582: UserWarning: FixedFormatter should only be used together with FixedLocator\n",
      "  axs[i].set_xticklabels([''] + ['0', '1'], fontsize='xx-large')\n",
      "/home/st/sbhuvaji/1AllP/Individual Patient_All Models/TLandTL/Actual TL/HeavyDecoder/WithCV/TL_Packages.py:583: UserWarning: FixedFormatter should only be used together with FixedLocator\n",
      "  axs[i].set_yticklabels([''] + ['0', '1'], fontsize='xx-large')\n"
     ]
    },
    {
     "name": "stdout",
     "output_type": "stream",
     "text": [
      "Population Fold 2: Training data size = 3554, Validation data size = 1776\n"
     ]
    },
    {
     "name": "stderr",
     "output_type": "stream",
     "text": [
      "/home/st/sbhuvaji/anaconda3/lib/python3.9/site-packages/keras/src/engine/training.py:3000: UserWarning: You are saving your model as an HDF5 file via `model.save()`. This file format is considered legacy. We recommend using instead the native Keras format, e.g. `model.save('my_model.keras')`.\n",
      "  saving_api.save_model(\n"
     ]
    },
    {
     "name": "stdout",
     "output_type": "stream",
     "text": [
      "56/56 [==============================] - 0s 864us/step\n",
      "cm [[666 229]\n",
      " [185 696]]\n",
      "cm.ravel() [666 229 185 696]\n",
      "Before balancing count  1.0    57\n",
      "0.0    23\n",
      "Name: class, dtype: int64\n",
      "~~~~~~~ value_counts: ~~~~~~~\n",
      "SHOULD BE BALANCED NOW: 1.0    57\n",
      "0.0    57\n",
      "Name: class, dtype: int64\n",
      "Before balancing count  1.0    63\n",
      "0.0    18\n",
      "Name: class, dtype: int64\n",
      "~~~~~~~ value_counts: ~~~~~~~\n",
      "SHOULD BE BALANCED NOW: 1.0    63\n",
      "0.0    63\n",
      "Name: class, dtype: int64\n",
      "done RE-training 0 of 3. "
     ]
    },
    {
     "name": "stderr",
     "output_type": "stream",
     "text": [
      "/home/st/sbhuvaji/anaconda3/lib/python3.9/site-packages/keras/src/engine/training.py:3000: UserWarning: You are saving your model as an HDF5 file via `model.save()`. This file format is considered legacy. We recommend using instead the native Keras format, e.g. `model.save('my_model.keras')`.\n",
      "  saving_api.save_model(\n"
     ]
    },
    {
     "name": "stdout",
     "output_type": "stream",
     "text": [
      "3/3 [==============================] - 0s 1ms/step\n",
      "cm [[12  6]\n",
      " [25 38]]\n",
      "cm.ravel() [12  6 25 38]\n",
      "done testing 0 of 2.\n",
      "3/3 [==============================] - 0s 1ms/step\n",
      "cm [[19  4]\n",
      " [20 37]]\n",
      "cm.ravel() [19  4 20 37]\n",
      "done testing 1 of 2.\n"
     ]
    },
    {
     "name": "stderr",
     "output_type": "stream",
     "text": [
      "/home/st/sbhuvaji/1AllP/Individual Patient_All Models/TLandTL/Actual TL/HeavyDecoder/WithCV/TL_Packages.py:582: UserWarning: FixedFormatter should only be used together with FixedLocator\n",
      "  axs[i].set_xticklabels([''] + ['0', '1'], fontsize='xx-large')\n",
      "/home/st/sbhuvaji/1AllP/Individual Patient_All Models/TLandTL/Actual TL/HeavyDecoder/WithCV/TL_Packages.py:583: UserWarning: FixedFormatter should only be used together with FixedLocator\n",
      "  axs[i].set_yticklabels([''] + ['0', '1'], fontsize='xx-large')\n",
      " 69%|██████▉   | 18/26 [52:13<23:46, 178.36s/it]"
     ]
    },
    {
     "name": "stdout",
     "output_type": "stream",
     "text": [
      "Runtime: 0 o' clock and 33 minutes\n",
      "~~~~~~~~~~~ 100 ~~~~~~~~~~~~~~~~~~~ 300 ~~~~~~~~~~~~~~~~~~~ SB-078 ~~~~~~~~~~~~~~~~~~~\n",
      "Before balancing count  1.0    2677\n",
      "0.0    1036\n",
      "Name: class, dtype: int64\n",
      "~~~~~~~ value_counts: ~~~~~~~\n",
      "SHOULD BE BALANCED NOW: 1.0    2677\n",
      "0.0    2677\n",
      "Name: class, dtype: int64\n",
      "X_train = 5354, y_train = 5354\n",
      "Population Fold 0: Training data size = 3569, Validation data size = 1785\n"
     ]
    },
    {
     "name": "stderr",
     "output_type": "stream",
     "text": [
      "/home/st/sbhuvaji/anaconda3/lib/python3.9/site-packages/keras/src/engine/training.py:3000: UserWarning: You are saving your model as an HDF5 file via `model.save()`. This file format is considered legacy. We recommend using instead the native Keras format, e.g. `model.save('my_model.keras')`.\n",
      "  saving_api.save_model(\n"
     ]
    },
    {
     "name": "stdout",
     "output_type": "stream",
     "text": [
      "56/56 [==============================] - 0s 862us/step\n",
      "cm [[653 213]\n",
      " [190 729]]\n",
      "cm.ravel() [653 213 190 729]\n",
      "Before balancing count  1.0    46\n",
      "0.0    30\n",
      "Name: class, dtype: int64\n",
      "~~~~~~~ value_counts: ~~~~~~~\n",
      "SHOULD BE BALANCED NOW: 0.0    46\n",
      "1.0    46\n",
      "Name: class, dtype: int64\n",
      "Before balancing count  1.0    61\n",
      "0.0    16\n",
      "Name: class, dtype: int64\n",
      "~~~~~~~ value_counts: ~~~~~~~\n",
      "SHOULD BE BALANCED NOW: 0.0    61\n",
      "1.0    61\n",
      "Name: class, dtype: int64\n",
      "done RE-training 0 of 3. "
     ]
    },
    {
     "name": "stderr",
     "output_type": "stream",
     "text": [
      "/home/st/sbhuvaji/anaconda3/lib/python3.9/site-packages/keras/src/engine/training.py:3000: UserWarning: You are saving your model as an HDF5 file via `model.save()`. This file format is considered legacy. We recommend using instead the native Keras format, e.g. `model.save('my_model.keras')`.\n",
      "  saving_api.save_model(\n"
     ]
    },
    {
     "name": "stdout",
     "output_type": "stream",
     "text": [
      "3/3 [==============================] - 0s 1ms/step\n",
      "cm [[13  3]\n",
      " [14 47]]\n",
      "cm.ravel() [13  3 14 47]\n",
      "done testing 0 of 2.\n",
      "3/3 [==============================] - 0s 2ms/step\n",
      "cm [[23  7]\n",
      " [12 34]]\n",
      "cm.ravel() [23  7 12 34]\n",
      "done testing 1 of 2.\n"
     ]
    },
    {
     "name": "stderr",
     "output_type": "stream",
     "text": [
      "/home/st/sbhuvaji/1AllP/Individual Patient_All Models/TLandTL/Actual TL/HeavyDecoder/WithCV/TL_Packages.py:582: UserWarning: FixedFormatter should only be used together with FixedLocator\n",
      "  axs[i].set_xticklabels([''] + ['0', '1'], fontsize='xx-large')\n",
      "/home/st/sbhuvaji/1AllP/Individual Patient_All Models/TLandTL/Actual TL/HeavyDecoder/WithCV/TL_Packages.py:583: UserWarning: FixedFormatter should only be used together with FixedLocator\n",
      "  axs[i].set_yticklabels([''] + ['0', '1'], fontsize='xx-large')\n"
     ]
    },
    {
     "name": "stdout",
     "output_type": "stream",
     "text": [
      "Population Fold 1: Training data size = 3569, Validation data size = 1785\n"
     ]
    },
    {
     "name": "stderr",
     "output_type": "stream",
     "text": [
      "/home/st/sbhuvaji/anaconda3/lib/python3.9/site-packages/keras/src/engine/training.py:3000: UserWarning: You are saving your model as an HDF5 file via `model.save()`. This file format is considered legacy. We recommend using instead the native Keras format, e.g. `model.save('my_model.keras')`.\n",
      "  saving_api.save_model(\n"
     ]
    },
    {
     "name": "stdout",
     "output_type": "stream",
     "text": [
      "56/56 [==============================] - 0s 836us/step\n",
      "cm [[632 256]\n",
      " [171 726]]\n",
      "cm.ravel() [632 256 171 726]\n",
      "Before balancing count  1.0    54\n",
      "0.0    22\n",
      "Name: class, dtype: int64\n",
      "~~~~~~~ value_counts: ~~~~~~~\n",
      "SHOULD BE BALANCED NOW: 1.0    54\n",
      "0.0    54\n",
      "Name: class, dtype: int64\n",
      "Before balancing count  1.0    53\n",
      "0.0    24\n",
      "Name: class, dtype: int64\n",
      "~~~~~~~ value_counts: ~~~~~~~\n",
      "SHOULD BE BALANCED NOW: 1.0    53\n",
      "0.0    53\n",
      "Name: class, dtype: int64\n",
      "done RE-training 0 of 3. "
     ]
    },
    {
     "name": "stderr",
     "output_type": "stream",
     "text": [
      "/home/st/sbhuvaji/anaconda3/lib/python3.9/site-packages/keras/src/engine/training.py:3000: UserWarning: You are saving your model as an HDF5 file via `model.save()`. This file format is considered legacy. We recommend using instead the native Keras format, e.g. `model.save('my_model.keras')`.\n",
      "  saving_api.save_model(\n"
     ]
    },
    {
     "name": "stdout",
     "output_type": "stream",
     "text": [
      "3/3 [==============================] - 0s 2ms/step\n",
      "cm [[17  7]\n",
      " [10 43]]\n",
      "cm.ravel() [17  7 10 43]\n",
      "done testing 0 of 2.\n",
      "3/3 [==============================] - 0s 1ms/step\n",
      "cm [[15  7]\n",
      " [11 43]]\n",
      "cm.ravel() [15  7 11 43]\n",
      "done testing 1 of 2.\n"
     ]
    },
    {
     "name": "stderr",
     "output_type": "stream",
     "text": [
      "/home/st/sbhuvaji/1AllP/Individual Patient_All Models/TLandTL/Actual TL/HeavyDecoder/WithCV/TL_Packages.py:582: UserWarning: FixedFormatter should only be used together with FixedLocator\n",
      "  axs[i].set_xticklabels([''] + ['0', '1'], fontsize='xx-large')\n",
      "/home/st/sbhuvaji/1AllP/Individual Patient_All Models/TLandTL/Actual TL/HeavyDecoder/WithCV/TL_Packages.py:583: UserWarning: FixedFormatter should only be used together with FixedLocator\n",
      "  axs[i].set_yticklabels([''] + ['0', '1'], fontsize='xx-large')\n"
     ]
    },
    {
     "name": "stdout",
     "output_type": "stream",
     "text": [
      "Population Fold 2: Training data size = 3570, Validation data size = 1784\n"
     ]
    },
    {
     "name": "stderr",
     "output_type": "stream",
     "text": [
      "/home/st/sbhuvaji/anaconda3/lib/python3.9/site-packages/keras/src/engine/training.py:3000: UserWarning: You are saving your model as an HDF5 file via `model.save()`. This file format is considered legacy. We recommend using instead the native Keras format, e.g. `model.save('my_model.keras')`.\n",
      "  saving_api.save_model(\n"
     ]
    },
    {
     "name": "stdout",
     "output_type": "stream",
     "text": [
      "56/56 [==============================] - 0s 874us/step\n",
      "cm [[710 213]\n",
      " [278 583]]\n",
      "cm.ravel() [710 213 278 583]\n",
      "Before balancing count  1.0    51\n",
      "0.0    25\n",
      "Name: class, dtype: int64\n",
      "~~~~~~~ value_counts: ~~~~~~~\n",
      "SHOULD BE BALANCED NOW: 0.0    51\n",
      "1.0    51\n",
      "Name: class, dtype: int64\n",
      "Before balancing count  1.0    56\n",
      "0.0    21\n",
      "Name: class, dtype: int64\n",
      "~~~~~~~ value_counts: ~~~~~~~\n",
      "SHOULD BE BALANCED NOW: 0.0    56\n",
      "1.0    56\n",
      "Name: class, dtype: int64\n",
      "done RE-training 0 of 3. "
     ]
    },
    {
     "name": "stderr",
     "output_type": "stream",
     "text": [
      "/home/st/sbhuvaji/anaconda3/lib/python3.9/site-packages/keras/src/engine/training.py:3000: UserWarning: You are saving your model as an HDF5 file via `model.save()`. This file format is considered legacy. We recommend using instead the native Keras format, e.g. `model.save('my_model.keras')`.\n",
      "  saving_api.save_model(\n"
     ]
    },
    {
     "name": "stdout",
     "output_type": "stream",
     "text": [
      "3/3 [==============================] - 0s 1ms/step\n",
      "cm [[12  9]\n",
      " [19 37]]\n",
      "cm.ravel() [12  9 19 37]\n",
      "done testing 0 of 2.\n",
      "3/3 [==============================] - 0s 2ms/step\n",
      "cm [[16  9]\n",
      " [17 34]]\n",
      "cm.ravel() [16  9 17 34]\n",
      "done testing 1 of 2.\n"
     ]
    },
    {
     "name": "stderr",
     "output_type": "stream",
     "text": [
      "/home/st/sbhuvaji/1AllP/Individual Patient_All Models/TLandTL/Actual TL/HeavyDecoder/WithCV/TL_Packages.py:582: UserWarning: FixedFormatter should only be used together with FixedLocator\n",
      "  axs[i].set_xticklabels([''] + ['0', '1'], fontsize='xx-large')\n",
      "/home/st/sbhuvaji/1AllP/Individual Patient_All Models/TLandTL/Actual TL/HeavyDecoder/WithCV/TL_Packages.py:583: UserWarning: FixedFormatter should only be used together with FixedLocator\n",
      "  axs[i].set_yticklabels([''] + ['0', '1'], fontsize='xx-large')\n",
      " 73%|███████▎  | 19/26 [55:17<21:00, 180.04s/it]"
     ]
    },
    {
     "name": "stdout",
     "output_type": "stream",
     "text": [
      "Runtime: 0 o' clock and 36 minutes\n",
      "~~~~~~~~~~~ 100 ~~~~~~~~~~~~~~~~~~~ 300 ~~~~~~~~~~~~~~~~~~~ SB-079 ~~~~~~~~~~~~~~~~~~~\n",
      "Before balancing count  1.0    2694\n",
      "0.0    1030\n",
      "Name: class, dtype: int64\n",
      "~~~~~~~ value_counts: ~~~~~~~\n",
      "SHOULD BE BALANCED NOW: 1.0    2694\n",
      "0.0    2694\n",
      "Name: class, dtype: int64\n",
      "X_train = 5388, y_train = 5388\n",
      "Population Fold 0: Training data size = 3592, Validation data size = 1796\n"
     ]
    },
    {
     "name": "stderr",
     "output_type": "stream",
     "text": [
      "/home/st/sbhuvaji/anaconda3/lib/python3.9/site-packages/keras/src/engine/training.py:3000: UserWarning: You are saving your model as an HDF5 file via `model.save()`. This file format is considered legacy. We recommend using instead the native Keras format, e.g. `model.save('my_model.keras')`.\n",
      "  saving_api.save_model(\n"
     ]
    },
    {
     "name": "stdout",
     "output_type": "stream",
     "text": [
      "57/57 [==============================] - 0s 824us/step\n",
      "cm [[735 194]\n",
      " [270 597]]\n",
      "cm.ravel() [735 194 270 597]\n",
      "Before balancing count  1.0    52\n",
      "0.0    19\n",
      "Name: class, dtype: int64\n",
      "~~~~~~~ value_counts: ~~~~~~~\n",
      "SHOULD BE BALANCED NOW: 0.0    52\n",
      "1.0    52\n",
      "Name: class, dtype: int64\n",
      "Before balancing count  1.0    50\n",
      "0.0    21\n",
      "Name: class, dtype: int64\n",
      "~~~~~~~ value_counts: ~~~~~~~\n",
      "SHOULD BE BALANCED NOW: 1.0    50\n",
      "0.0    50\n",
      "Name: class, dtype: int64\n",
      "done RE-training 0 of 3. "
     ]
    },
    {
     "name": "stderr",
     "output_type": "stream",
     "text": [
      "/home/st/sbhuvaji/anaconda3/lib/python3.9/site-packages/keras/src/engine/training.py:3000: UserWarning: You are saving your model as an HDF5 file via `model.save()`. This file format is considered legacy. We recommend using instead the native Keras format, e.g. `model.save('my_model.keras')`.\n",
      "  saving_api.save_model(\n"
     ]
    },
    {
     "name": "stdout",
     "output_type": "stream",
     "text": [
      "3/3 [==============================] - 0s 1ms/step\n",
      "cm [[12  9]\n",
      " [19 31]]\n",
      "cm.ravel() [12  9 19 31]\n",
      "done testing 0 of 2.\n",
      "3/3 [==============================] - 0s 1ms/step\n",
      "cm [[ 9 10]\n",
      " [10 42]]\n",
      "cm.ravel() [ 9 10 10 42]\n",
      "done testing 1 of 2.\n"
     ]
    },
    {
     "name": "stderr",
     "output_type": "stream",
     "text": [
      "/home/st/sbhuvaji/1AllP/Individual Patient_All Models/TLandTL/Actual TL/HeavyDecoder/WithCV/TL_Packages.py:582: UserWarning: FixedFormatter should only be used together with FixedLocator\n",
      "  axs[i].set_xticklabels([''] + ['0', '1'], fontsize='xx-large')\n",
      "/home/st/sbhuvaji/1AllP/Individual Patient_All Models/TLandTL/Actual TL/HeavyDecoder/WithCV/TL_Packages.py:583: UserWarning: FixedFormatter should only be used together with FixedLocator\n",
      "  axs[i].set_yticklabels([''] + ['0', '1'], fontsize='xx-large')\n"
     ]
    },
    {
     "name": "stdout",
     "output_type": "stream",
     "text": [
      "Population Fold 1: Training data size = 3592, Validation data size = 1796\n"
     ]
    },
    {
     "name": "stderr",
     "output_type": "stream",
     "text": [
      "/home/st/sbhuvaji/anaconda3/lib/python3.9/site-packages/keras/src/engine/training.py:3000: UserWarning: You are saving your model as an HDF5 file via `model.save()`. This file format is considered legacy. We recommend using instead the native Keras format, e.g. `model.save('my_model.keras')`.\n",
      "  saving_api.save_model(\n"
     ]
    },
    {
     "name": "stdout",
     "output_type": "stream",
     "text": [
      "57/57 [==============================] - 0s 894us/step\n",
      "cm [[684 194]\n",
      " [305 613]]\n",
      "cm.ravel() [684 194 305 613]\n",
      "Before balancing count  1.0    51\n",
      "0.0    20\n",
      "Name: class, dtype: int64\n",
      "~~~~~~~ value_counts: ~~~~~~~\n",
      "SHOULD BE BALANCED NOW: 0.0    51\n",
      "1.0    51\n",
      "Name: class, dtype: int64\n",
      "Before balancing count  1.0    51\n",
      "0.0    20\n",
      "Name: class, dtype: int64\n",
      "~~~~~~~ value_counts: ~~~~~~~\n",
      "SHOULD BE BALANCED NOW: 0.0    51\n",
      "1.0    51\n",
      "Name: class, dtype: int64\n",
      "done RE-training 0 of 3. "
     ]
    },
    {
     "name": "stderr",
     "output_type": "stream",
     "text": [
      "/home/st/sbhuvaji/anaconda3/lib/python3.9/site-packages/keras/src/engine/training.py:3000: UserWarning: You are saving your model as an HDF5 file via `model.save()`. This file format is considered legacy. We recommend using instead the native Keras format, e.g. `model.save('my_model.keras')`.\n",
      "  saving_api.save_model(\n"
     ]
    },
    {
     "name": "stdout",
     "output_type": "stream",
     "text": [
      "3/3 [==============================] - 0s 2ms/step\n",
      "cm [[13  7]\n",
      " [15 36]]\n",
      "cm.ravel() [13  7 15 36]\n",
      "done testing 0 of 2.\n",
      "3/3 [==============================] - 0s 1ms/step\n",
      "cm [[12  8]\n",
      " [16 35]]\n",
      "cm.ravel() [12  8 16 35]\n",
      "done testing 1 of 2.\n"
     ]
    },
    {
     "name": "stderr",
     "output_type": "stream",
     "text": [
      "/home/st/sbhuvaji/1AllP/Individual Patient_All Models/TLandTL/Actual TL/HeavyDecoder/WithCV/TL_Packages.py:582: UserWarning: FixedFormatter should only be used together with FixedLocator\n",
      "  axs[i].set_xticklabels([''] + ['0', '1'], fontsize='xx-large')\n",
      "/home/st/sbhuvaji/1AllP/Individual Patient_All Models/TLandTL/Actual TL/HeavyDecoder/WithCV/TL_Packages.py:583: UserWarning: FixedFormatter should only be used together with FixedLocator\n",
      "  axs[i].set_yticklabels([''] + ['0', '1'], fontsize='xx-large')\n"
     ]
    },
    {
     "name": "stdout",
     "output_type": "stream",
     "text": [
      "Population Fold 2: Training data size = 3592, Validation data size = 1796\n"
     ]
    },
    {
     "name": "stderr",
     "output_type": "stream",
     "text": [
      "/home/st/sbhuvaji/anaconda3/lib/python3.9/site-packages/keras/src/engine/training.py:3000: UserWarning: You are saving your model as an HDF5 file via `model.save()`. This file format is considered legacy. We recommend using instead the native Keras format, e.g. `model.save('my_model.keras')`.\n",
      "  saving_api.save_model(\n"
     ]
    },
    {
     "name": "stdout",
     "output_type": "stream",
     "text": [
      "57/57 [==============================] - 0s 843us/step\n",
      "cm [[591 296]\n",
      " [201 708]]\n",
      "cm.ravel() [591 296 201 708]\n",
      "Before balancing count  1.0    51\n",
      "0.0    20\n",
      "Name: class, dtype: int64\n",
      "~~~~~~~ value_counts: ~~~~~~~\n",
      "SHOULD BE BALANCED NOW: 0.0    51\n",
      "1.0    51\n",
      "Name: class, dtype: int64\n",
      "Before balancing count  1.0    51\n",
      "0.0    20\n",
      "Name: class, dtype: int64\n",
      "~~~~~~~ value_counts: ~~~~~~~\n",
      "SHOULD BE BALANCED NOW: 0.0    51\n",
      "1.0    51\n",
      "Name: class, dtype: int64\n",
      "done RE-training 0 of 3. "
     ]
    },
    {
     "name": "stderr",
     "output_type": "stream",
     "text": [
      "/home/st/sbhuvaji/anaconda3/lib/python3.9/site-packages/keras/src/engine/training.py:3000: UserWarning: You are saving your model as an HDF5 file via `model.save()`. This file format is considered legacy. We recommend using instead the native Keras format, e.g. `model.save('my_model.keras')`.\n",
      "  saving_api.save_model(\n"
     ]
    },
    {
     "name": "stdout",
     "output_type": "stream",
     "text": [
      "3/3 [==============================] - 0s 1ms/step\n",
      "cm [[10 10]\n",
      " [14 37]]\n",
      "cm.ravel() [10 10 14 37]\n",
      "done testing 0 of 2.\n",
      "3/3 [==============================] - 0s 1ms/step\n",
      "cm [[13  7]\n",
      " [17 34]]\n",
      "cm.ravel() [13  7 17 34]\n",
      "done testing 1 of 2.\n"
     ]
    },
    {
     "name": "stderr",
     "output_type": "stream",
     "text": [
      "/home/st/sbhuvaji/1AllP/Individual Patient_All Models/TLandTL/Actual TL/HeavyDecoder/WithCV/TL_Packages.py:582: UserWarning: FixedFormatter should only be used together with FixedLocator\n",
      "  axs[i].set_xticklabels([''] + ['0', '1'], fontsize='xx-large')\n",
      "/home/st/sbhuvaji/1AllP/Individual Patient_All Models/TLandTL/Actual TL/HeavyDecoder/WithCV/TL_Packages.py:583: UserWarning: FixedFormatter should only be used together with FixedLocator\n",
      "  axs[i].set_yticklabels([''] + ['0', '1'], fontsize='xx-large')\n",
      " 77%|███████▋  | 20/26 [58:13<17:53, 178.92s/it]"
     ]
    },
    {
     "name": "stdout",
     "output_type": "stream",
     "text": [
      "Runtime: 0 o' clock and 39 minutes\n",
      "~~~~~~~~~~~ 100 ~~~~~~~~~~~~~~~~~~~ 300 ~~~~~~~~~~~~~~~~~~~ SB-080 ~~~~~~~~~~~~~~~~~~~\n",
      "Before balancing count  1.0    2655\n",
      "0.0    1031\n",
      "Name: class, dtype: int64\n",
      "~~~~~~~ value_counts: ~~~~~~~\n",
      "SHOULD BE BALANCED NOW: 1.0    2655\n",
      "0.0    2655\n",
      "Name: class, dtype: int64\n",
      "X_train = 5310, y_train = 5310\n",
      "Population Fold 0: Training data size = 3540, Validation data size = 1770\n"
     ]
    },
    {
     "name": "stderr",
     "output_type": "stream",
     "text": [
      "/home/st/sbhuvaji/anaconda3/lib/python3.9/site-packages/keras/src/engine/training.py:3000: UserWarning: You are saving your model as an HDF5 file via `model.save()`. This file format is considered legacy. We recommend using instead the native Keras format, e.g. `model.save('my_model.keras')`.\n",
      "  saving_api.save_model(\n"
     ]
    },
    {
     "name": "stdout",
     "output_type": "stream",
     "text": [
      "56/56 [==============================] - 0s 964us/step\n",
      "cm [[635 249]\n",
      " [235 651]]\n",
      "cm.ravel() [635 249 235 651]\n",
      "Before balancing count  1.0    64\n",
      "0.0    26\n",
      "Name: class, dtype: int64\n",
      "~~~~~~~ value_counts: ~~~~~~~\n",
      "SHOULD BE BALANCED NOW: 0.0    64\n",
      "1.0    64\n",
      "Name: class, dtype: int64\n",
      "Before balancing count  1.0    64\n",
      "0.0    27\n",
      "Name: class, dtype: int64\n",
      "~~~~~~~ value_counts: ~~~~~~~\n",
      "SHOULD BE BALANCED NOW: 0.0    64\n",
      "1.0    64\n",
      "Name: class, dtype: int64\n",
      "done RE-training 0 of 3. "
     ]
    },
    {
     "name": "stderr",
     "output_type": "stream",
     "text": [
      "/home/st/sbhuvaji/anaconda3/lib/python3.9/site-packages/keras/src/engine/training.py:3000: UserWarning: You are saving your model as an HDF5 file via `model.save()`. This file format is considered legacy. We recommend using instead the native Keras format, e.g. `model.save('my_model.keras')`.\n",
      "  saving_api.save_model(\n"
     ]
    },
    {
     "name": "stdout",
     "output_type": "stream",
     "text": [
      "3/3 [==============================] - 0s 1ms/step\n",
      "cm [[12 15]\n",
      " [23 41]]\n",
      "cm.ravel() [12 15 23 41]\n",
      "done testing 0 of 2.\n",
      "3/3 [==============================] - 0s 1ms/step\n",
      "cm [[10 16]\n",
      " [22 42]]\n",
      "cm.ravel() [10 16 22 42]\n",
      "done testing 1 of 2.\n"
     ]
    },
    {
     "name": "stderr",
     "output_type": "stream",
     "text": [
      "/home/st/sbhuvaji/1AllP/Individual Patient_All Models/TLandTL/Actual TL/HeavyDecoder/WithCV/TL_Packages.py:582: UserWarning: FixedFormatter should only be used together with FixedLocator\n",
      "  axs[i].set_xticklabels([''] + ['0', '1'], fontsize='xx-large')\n",
      "/home/st/sbhuvaji/1AllP/Individual Patient_All Models/TLandTL/Actual TL/HeavyDecoder/WithCV/TL_Packages.py:583: UserWarning: FixedFormatter should only be used together with FixedLocator\n",
      "  axs[i].set_yticklabels([''] + ['0', '1'], fontsize='xx-large')\n"
     ]
    },
    {
     "name": "stdout",
     "output_type": "stream",
     "text": [
      "Population Fold 1: Training data size = 3540, Validation data size = 1770\n"
     ]
    },
    {
     "name": "stderr",
     "output_type": "stream",
     "text": [
      "/home/st/sbhuvaji/anaconda3/lib/python3.9/site-packages/keras/src/engine/training.py:3000: UserWarning: You are saving your model as an HDF5 file via `model.save()`. This file format is considered legacy. We recommend using instead the native Keras format, e.g. `model.save('my_model.keras')`.\n",
      "  saving_api.save_model(\n"
     ]
    },
    {
     "name": "stdout",
     "output_type": "stream",
     "text": [
      "56/56 [==============================] - 0s 900us/step\n",
      "cm [[646 224]\n",
      " [223 677]]\n",
      "cm.ravel() [646 224 223 677]\n",
      "Before balancing count  1.0    63\n",
      "0.0    27\n",
      "Name: class, dtype: int64\n",
      "~~~~~~~ value_counts: ~~~~~~~\n",
      "SHOULD BE BALANCED NOW: 1.0    63\n",
      "0.0    63\n",
      "Name: class, dtype: int64\n",
      "Before balancing count  1.0    65\n",
      "0.0    26\n",
      "Name: class, dtype: int64\n",
      "~~~~~~~ value_counts: ~~~~~~~\n",
      "SHOULD BE BALANCED NOW: 0.0    65\n",
      "1.0    65\n",
      "Name: class, dtype: int64\n",
      "done RE-training 0 of 3. "
     ]
    },
    {
     "name": "stderr",
     "output_type": "stream",
     "text": [
      "/home/st/sbhuvaji/anaconda3/lib/python3.9/site-packages/keras/src/engine/training.py:3000: UserWarning: You are saving your model as an HDF5 file via `model.save()`. This file format is considered legacy. We recommend using instead the native Keras format, e.g. `model.save('my_model.keras')`.\n",
      "  saving_api.save_model(\n"
     ]
    },
    {
     "name": "stdout",
     "output_type": "stream",
     "text": [
      "3/3 [==============================] - 0s 1ms/step\n",
      "cm [[14 12]\n",
      " [17 48]]\n",
      "cm.ravel() [14 12 17 48]\n",
      "done testing 0 of 2.\n",
      "3/3 [==============================] - 0s 2ms/step\n",
      "cm [[ 7 20]\n",
      " [ 8 55]]\n",
      "cm.ravel() [ 7 20  8 55]\n",
      "done testing 1 of 2.\n"
     ]
    },
    {
     "name": "stderr",
     "output_type": "stream",
     "text": [
      "/home/st/sbhuvaji/1AllP/Individual Patient_All Models/TLandTL/Actual TL/HeavyDecoder/WithCV/TL_Packages.py:582: UserWarning: FixedFormatter should only be used together with FixedLocator\n",
      "  axs[i].set_xticklabels([''] + ['0', '1'], fontsize='xx-large')\n",
      "/home/st/sbhuvaji/1AllP/Individual Patient_All Models/TLandTL/Actual TL/HeavyDecoder/WithCV/TL_Packages.py:583: UserWarning: FixedFormatter should only be used together with FixedLocator\n",
      "  axs[i].set_yticklabels([''] + ['0', '1'], fontsize='xx-large')\n"
     ]
    },
    {
     "name": "stdout",
     "output_type": "stream",
     "text": [
      "Population Fold 2: Training data size = 3540, Validation data size = 1770\n"
     ]
    },
    {
     "name": "stderr",
     "output_type": "stream",
     "text": [
      "/home/st/sbhuvaji/anaconda3/lib/python3.9/site-packages/keras/src/engine/training.py:3000: UserWarning: You are saving your model as an HDF5 file via `model.save()`. This file format is considered legacy. We recommend using instead the native Keras format, e.g. `model.save('my_model.keras')`.\n",
      "  saving_api.save_model(\n"
     ]
    },
    {
     "name": "stdout",
     "output_type": "stream",
     "text": [
      "56/56 [==============================] - 0s 870us/step\n",
      "cm [[695 206]\n",
      " [232 637]]\n",
      "cm.ravel() [695 206 232 637]\n",
      "Before balancing count  1.0    67\n",
      "0.0    23\n",
      "Name: class, dtype: int64\n",
      "~~~~~~~ value_counts: ~~~~~~~\n",
      "SHOULD BE BALANCED NOW: 1.0    67\n",
      "0.0    67\n",
      "Name: class, dtype: int64\n",
      "Before balancing count  1.0    61\n",
      "0.0    30\n",
      "Name: class, dtype: int64\n",
      "~~~~~~~ value_counts: ~~~~~~~\n",
      "SHOULD BE BALANCED NOW: 0.0    61\n",
      "1.0    61\n",
      "Name: class, dtype: int64\n",
      "done RE-training 0 of 3. "
     ]
    },
    {
     "name": "stderr",
     "output_type": "stream",
     "text": [
      "/home/st/sbhuvaji/anaconda3/lib/python3.9/site-packages/keras/src/engine/training.py:3000: UserWarning: You are saving your model as an HDF5 file via `model.save()`. This file format is considered legacy. We recommend using instead the native Keras format, e.g. `model.save('my_model.keras')`.\n",
      "  saving_api.save_model(\n"
     ]
    },
    {
     "name": "stdout",
     "output_type": "stream",
     "text": [
      "3/3 [==============================] - 0s 2ms/step\n",
      "cm [[15 15]\n",
      " [24 37]]\n",
      "cm.ravel() [15 15 24 37]\n",
      "done testing 0 of 2.\n",
      "3/3 [==============================] - 0s 1ms/step\n",
      "cm [[11 12]\n",
      " [25 42]]\n",
      "cm.ravel() [11 12 25 42]\n",
      "done testing 1 of 2.\n"
     ]
    },
    {
     "name": "stderr",
     "output_type": "stream",
     "text": [
      "/home/st/sbhuvaji/1AllP/Individual Patient_All Models/TLandTL/Actual TL/HeavyDecoder/WithCV/TL_Packages.py:582: UserWarning: FixedFormatter should only be used together with FixedLocator\n",
      "  axs[i].set_xticklabels([''] + ['0', '1'], fontsize='xx-large')\n",
      "/home/st/sbhuvaji/1AllP/Individual Patient_All Models/TLandTL/Actual TL/HeavyDecoder/WithCV/TL_Packages.py:583: UserWarning: FixedFormatter should only be used together with FixedLocator\n",
      "  axs[i].set_yticklabels([''] + ['0', '1'], fontsize='xx-large')\n",
      " 81%|████████  | 21/26 [1:01:19<15:04, 180.91s/it]"
     ]
    },
    {
     "name": "stdout",
     "output_type": "stream",
     "text": [
      "Runtime: 0 o' clock and 42 minutes\n",
      "~~~~~~~~~~~ 100 ~~~~~~~~~~~~~~~~~~~ 300 ~~~~~~~~~~~~~~~~~~~ SB-082 ~~~~~~~~~~~~~~~~~~~\n",
      "Before balancing count  1.0    2695\n",
      "0.0    1033\n",
      "Name: class, dtype: int64\n",
      "~~~~~~~ value_counts: ~~~~~~~\n",
      "SHOULD BE BALANCED NOW: 1.0    2695\n",
      "0.0    2695\n",
      "Name: class, dtype: int64\n",
      "X_train = 5390, y_train = 5390\n",
      "Population Fold 0: Training data size = 3593, Validation data size = 1797\n"
     ]
    },
    {
     "name": "stderr",
     "output_type": "stream",
     "text": [
      "/home/st/sbhuvaji/anaconda3/lib/python3.9/site-packages/keras/src/engine/training.py:3000: UserWarning: You are saving your model as an HDF5 file via `model.save()`. This file format is considered legacy. We recommend using instead the native Keras format, e.g. `model.save('my_model.keras')`.\n",
      "  saving_api.save_model(\n"
     ]
    },
    {
     "name": "stdout",
     "output_type": "stream",
     "text": [
      "57/57 [==============================] - 0s 796us/step\n",
      "cm [[688 198]\n",
      " [294 617]]\n",
      "cm.ravel() [688 198 294 617]\n",
      "Before balancing count  1.0    47\n",
      "0.0    21\n",
      "Name: class, dtype: int64\n",
      "~~~~~~~ value_counts: ~~~~~~~\n",
      "SHOULD BE BALANCED NOW: 0.0    47\n",
      "1.0    47\n",
      "Name: class, dtype: int64\n",
      "Before balancing count  1.0    38\n",
      "0.0    31\n",
      "Name: class, dtype: int64\n",
      "~~~~~~~ value_counts: ~~~~~~~\n",
      "SHOULD BE BALANCED NOW: 0.0    38\n",
      "1.0    38\n",
      "Name: class, dtype: int64\n",
      "done RE-training 0 of 3. "
     ]
    },
    {
     "name": "stderr",
     "output_type": "stream",
     "text": [
      "/home/st/sbhuvaji/anaconda3/lib/python3.9/site-packages/keras/src/engine/training.py:3000: UserWarning: You are saving your model as an HDF5 file via `model.save()`. This file format is considered legacy. We recommend using instead the native Keras format, e.g. `model.save('my_model.keras')`.\n",
      "  saving_api.save_model(\n"
     ]
    },
    {
     "name": "stdout",
     "output_type": "stream",
     "text": [
      "3/3 [==============================] - 0s 1ms/step\n",
      "cm [[17 14]\n",
      " [20 18]]\n",
      "cm.ravel() [17 14 20 18]\n",
      "done testing 0 of 2.\n",
      "3/3 [==============================] - 0s 1ms/step\n",
      "cm [[ 9 12]\n",
      " [24 23]]\n",
      "cm.ravel() [ 9 12 24 23]\n",
      "done testing 1 of 2.\n"
     ]
    },
    {
     "name": "stderr",
     "output_type": "stream",
     "text": [
      "/home/st/sbhuvaji/1AllP/Individual Patient_All Models/TLandTL/Actual TL/HeavyDecoder/WithCV/TL_Packages.py:582: UserWarning: FixedFormatter should only be used together with FixedLocator\n",
      "  axs[i].set_xticklabels([''] + ['0', '1'], fontsize='xx-large')\n",
      "/home/st/sbhuvaji/1AllP/Individual Patient_All Models/TLandTL/Actual TL/HeavyDecoder/WithCV/TL_Packages.py:583: UserWarning: FixedFormatter should only be used together with FixedLocator\n",
      "  axs[i].set_yticklabels([''] + ['0', '1'], fontsize='xx-large')\n"
     ]
    },
    {
     "name": "stdout",
     "output_type": "stream",
     "text": [
      "Population Fold 1: Training data size = 3593, Validation data size = 1797\n"
     ]
    },
    {
     "name": "stderr",
     "output_type": "stream",
     "text": [
      "/home/st/sbhuvaji/anaconda3/lib/python3.9/site-packages/keras/src/engine/training.py:3000: UserWarning: You are saving your model as an HDF5 file via `model.save()`. This file format is considered legacy. We recommend using instead the native Keras format, e.g. `model.save('my_model.keras')`.\n",
      "  saving_api.save_model(\n"
     ]
    },
    {
     "name": "stdout",
     "output_type": "stream",
     "text": [
      "57/57 [==============================] - 0s 847us/step\n",
      "cm [[637 271]\n",
      " [152 737]]\n",
      "cm.ravel() [637 271 152 737]\n",
      "Before balancing count  1.0    46\n",
      "0.0    22\n",
      "Name: class, dtype: int64\n",
      "~~~~~~~ value_counts: ~~~~~~~\n",
      "SHOULD BE BALANCED NOW: 0.0    46\n",
      "1.0    46\n",
      "Name: class, dtype: int64\n",
      "Before balancing count  1.0    39\n",
      "0.0    30\n",
      "Name: class, dtype: int64\n",
      "~~~~~~~ value_counts: ~~~~~~~\n",
      "SHOULD BE BALANCED NOW: 0.0    39\n",
      "1.0    39\n",
      "Name: class, dtype: int64\n",
      "done RE-training 0 of 3. "
     ]
    },
    {
     "name": "stderr",
     "output_type": "stream",
     "text": [
      "/home/st/sbhuvaji/anaconda3/lib/python3.9/site-packages/keras/src/engine/training.py:3000: UserWarning: You are saving your model as an HDF5 file via `model.save()`. This file format is considered legacy. We recommend using instead the native Keras format, e.g. `model.save('my_model.keras')`.\n",
      "  saving_api.save_model(\n"
     ]
    },
    {
     "name": "stdout",
     "output_type": "stream",
     "text": [
      "3/3 [==============================] - 0s 1ms/step\n",
      "cm [[15 15]\n",
      " [13 26]]\n",
      "cm.ravel() [15 15 13 26]\n",
      "done testing 0 of 2.\n",
      "3/3 [==============================] - 0s 2ms/step\n",
      "cm [[16  6]\n",
      " [25 21]]\n",
      "cm.ravel() [16  6 25 21]\n",
      "done testing 1 of 2.\n"
     ]
    },
    {
     "name": "stderr",
     "output_type": "stream",
     "text": [
      "/home/st/sbhuvaji/1AllP/Individual Patient_All Models/TLandTL/Actual TL/HeavyDecoder/WithCV/TL_Packages.py:582: UserWarning: FixedFormatter should only be used together with FixedLocator\n",
      "  axs[i].set_xticklabels([''] + ['0', '1'], fontsize='xx-large')\n",
      "/home/st/sbhuvaji/1AllP/Individual Patient_All Models/TLandTL/Actual TL/HeavyDecoder/WithCV/TL_Packages.py:583: UserWarning: FixedFormatter should only be used together with FixedLocator\n",
      "  axs[i].set_yticklabels([''] + ['0', '1'], fontsize='xx-large')\n"
     ]
    },
    {
     "name": "stdout",
     "output_type": "stream",
     "text": [
      "Population Fold 2: Training data size = 3594, Validation data size = 1796\n"
     ]
    },
    {
     "name": "stderr",
     "output_type": "stream",
     "text": [
      "/home/st/sbhuvaji/anaconda3/lib/python3.9/site-packages/keras/src/engine/training.py:3000: UserWarning: You are saving your model as an HDF5 file via `model.save()`. This file format is considered legacy. We recommend using instead the native Keras format, e.g. `model.save('my_model.keras')`.\n",
      "  saving_api.save_model(\n"
     ]
    },
    {
     "name": "stdout",
     "output_type": "stream",
     "text": [
      "57/57 [==============================] - 0s 856us/step\n",
      "cm [[652 249]\n",
      " [192 703]]\n",
      "cm.ravel() [652 249 192 703]\n",
      "Before balancing count  1.0    36\n",
      "0.0    32\n",
      "Name: class, dtype: int64\n",
      "~~~~~~~ value_counts: ~~~~~~~\n",
      "SHOULD BE BALANCED NOW: 0.0    36\n",
      "1.0    36\n",
      "Name: class, dtype: int64\n",
      "Before balancing count  1.0    49\n",
      "0.0    20\n",
      "Name: class, dtype: int64\n",
      "~~~~~~~ value_counts: ~~~~~~~\n",
      "SHOULD BE BALANCED NOW: 1.0    49\n",
      "0.0    49\n",
      "Name: class, dtype: int64\n",
      "done RE-training 0 of 3. "
     ]
    },
    {
     "name": "stderr",
     "output_type": "stream",
     "text": [
      "/home/st/sbhuvaji/anaconda3/lib/python3.9/site-packages/keras/src/engine/training.py:3000: UserWarning: You are saving your model as an HDF5 file via `model.save()`. This file format is considered legacy. We recommend using instead the native Keras format, e.g. `model.save('my_model.keras')`.\n",
      "  saving_api.save_model(\n"
     ]
    },
    {
     "name": "stdout",
     "output_type": "stream",
     "text": [
      "3/3 [==============================] - 0s 2ms/step\n",
      "cm [[10 10]\n",
      " [17 32]]\n",
      "cm.ravel() [10 10 17 32]\n",
      "done testing 0 of 2.\n",
      "3/3 [==============================] - 0s 2ms/step\n",
      "cm [[11 21]\n",
      " [ 8 28]]\n",
      "cm.ravel() [11 21  8 28]\n",
      "done testing 1 of 2.\n"
     ]
    },
    {
     "name": "stderr",
     "output_type": "stream",
     "text": [
      "/home/st/sbhuvaji/1AllP/Individual Patient_All Models/TLandTL/Actual TL/HeavyDecoder/WithCV/TL_Packages.py:582: UserWarning: FixedFormatter should only be used together with FixedLocator\n",
      "  axs[i].set_xticklabels([''] + ['0', '1'], fontsize='xx-large')\n",
      "/home/st/sbhuvaji/1AllP/Individual Patient_All Models/TLandTL/Actual TL/HeavyDecoder/WithCV/TL_Packages.py:583: UserWarning: FixedFormatter should only be used together with FixedLocator\n",
      "  axs[i].set_yticklabels([''] + ['0', '1'], fontsize='xx-large')\n",
      " 88%|████████▊ | 23/26 [1:04:17<06:56, 138.82s/it]"
     ]
    },
    {
     "name": "stdout",
     "output_type": "stream",
     "text": [
      "Runtime: 0 o' clock and 45 minutes\n",
      "~~~~~~~~~~~ 100 ~~~~~~~~~~~~~~~~~~~ 300 ~~~~~~~~~~~~~~~~~~~ SB-083 ~~~~~~~~~~~~~~~~~~~\n",
      "Before balancing count  1.0    2647\n",
      "0.0    1016\n",
      "Name: class, dtype: int64\n",
      "~~~~~~~ value_counts: ~~~~~~~\n",
      "SHOULD BE BALANCED NOW: 0.0    2647\n",
      "1.0    2647\n",
      "Name: class, dtype: int64\n",
      "X_train = 5294, y_train = 5294\n",
      "Population Fold 0: Training data size = 3529, Validation data size = 1765\n"
     ]
    },
    {
     "name": "stderr",
     "output_type": "stream",
     "text": [
      "/home/st/sbhuvaji/anaconda3/lib/python3.9/site-packages/keras/src/engine/training.py:3000: UserWarning: You are saving your model as an HDF5 file via `model.save()`. This file format is considered legacy. We recommend using instead the native Keras format, e.g. `model.save('my_model.keras')`.\n",
      "  saving_api.save_model(\n"
     ]
    },
    {
     "name": "stdout",
     "output_type": "stream",
     "text": [
      "56/56 [==============================] - 0s 862us/step\n",
      "cm [[693 198]\n",
      " [238 636]]\n",
      "cm.ravel() [693 198 238 636]\n",
      "Before balancing count  1.0    74\n",
      "0.0    29\n",
      "Name: class, dtype: int64\n",
      "~~~~~~~ value_counts: ~~~~~~~\n",
      "SHOULD BE BALANCED NOW: 1.0    74\n",
      "0.0    74\n",
      "Name: class, dtype: int64\n",
      "Before balancing count  1.0    70\n",
      "0.0    33\n",
      "Name: class, dtype: int64\n",
      "~~~~~~~ value_counts: ~~~~~~~\n",
      "SHOULD BE BALANCED NOW: 1.0    70\n",
      "0.0    70\n",
      "Name: class, dtype: int64\n",
      "done RE-training 0 of 3. "
     ]
    },
    {
     "name": "stderr",
     "output_type": "stream",
     "text": [
      "/home/st/sbhuvaji/anaconda3/lib/python3.9/site-packages/keras/src/engine/training.py:3000: UserWarning: You are saving your model as an HDF5 file via `model.save()`. This file format is considered legacy. We recommend using instead the native Keras format, e.g. `model.save('my_model.keras')`.\n",
      "  saving_api.save_model(\n"
     ]
    },
    {
     "name": "stdout",
     "output_type": "stream",
     "text": [
      "4/4 [==============================] - 0s 1ms/step\n",
      "cm [[19 14]\n",
      " [42 28]]\n",
      "cm.ravel() [19 14 42 28]\n",
      "done testing 0 of 2.\n",
      "4/4 [==============================] - 0s 1ms/step\n",
      "cm [[14 15]\n",
      " [29 45]]\n",
      "cm.ravel() [14 15 29 45]\n",
      "done testing 1 of 2.\n"
     ]
    },
    {
     "name": "stderr",
     "output_type": "stream",
     "text": [
      "/home/st/sbhuvaji/1AllP/Individual Patient_All Models/TLandTL/Actual TL/HeavyDecoder/WithCV/TL_Packages.py:582: UserWarning: FixedFormatter should only be used together with FixedLocator\n",
      "  axs[i].set_xticklabels([''] + ['0', '1'], fontsize='xx-large')\n",
      "/home/st/sbhuvaji/1AllP/Individual Patient_All Models/TLandTL/Actual TL/HeavyDecoder/WithCV/TL_Packages.py:583: UserWarning: FixedFormatter should only be used together with FixedLocator\n",
      "  axs[i].set_yticklabels([''] + ['0', '1'], fontsize='xx-large')\n"
     ]
    },
    {
     "name": "stdout",
     "output_type": "stream",
     "text": [
      "Population Fold 1: Training data size = 3529, Validation data size = 1765\n"
     ]
    },
    {
     "name": "stderr",
     "output_type": "stream",
     "text": [
      "/home/st/sbhuvaji/anaconda3/lib/python3.9/site-packages/keras/src/engine/training.py:3000: UserWarning: You are saving your model as an HDF5 file via `model.save()`. This file format is considered legacy. We recommend using instead the native Keras format, e.g. `model.save('my_model.keras')`.\n",
      "  saving_api.save_model(\n"
     ]
    },
    {
     "name": "stdout",
     "output_type": "stream",
     "text": [
      "56/56 [==============================] - 0s 834us/step\n",
      "cm [[684 188]\n",
      " [265 628]]\n",
      "cm.ravel() [684 188 265 628]\n",
      "Before balancing count  1.0    72\n",
      "0.0    31\n",
      "Name: class, dtype: int64\n",
      "~~~~~~~ value_counts: ~~~~~~~\n",
      "SHOULD BE BALANCED NOW: 1.0    72\n",
      "0.0    72\n",
      "Name: class, dtype: int64\n",
      "Before balancing count  1.0    72\n",
      "0.0    31\n",
      "Name: class, dtype: int64\n",
      "~~~~~~~ value_counts: ~~~~~~~\n",
      "SHOULD BE BALANCED NOW: 1.0    72\n",
      "0.0    72\n",
      "Name: class, dtype: int64\n",
      "done RE-training 0 of 3. "
     ]
    },
    {
     "name": "stderr",
     "output_type": "stream",
     "text": [
      "/home/st/sbhuvaji/anaconda3/lib/python3.9/site-packages/keras/src/engine/training.py:3000: UserWarning: You are saving your model as an HDF5 file via `model.save()`. This file format is considered legacy. We recommend using instead the native Keras format, e.g. `model.save('my_model.keras')`.\n",
      "  saving_api.save_model(\n"
     ]
    },
    {
     "name": "stdout",
     "output_type": "stream",
     "text": [
      "4/4 [==============================] - 0s 1ms/step\n",
      "cm [[19 12]\n",
      " [24 48]]\n",
      "cm.ravel() [19 12 24 48]\n",
      "done testing 0 of 2.\n",
      "4/4 [==============================] - 0s 1ms/step\n",
      "cm [[15 16]\n",
      " [23 49]]\n",
      "cm.ravel() [15 16 23 49]\n",
      "done testing 1 of 2.\n"
     ]
    },
    {
     "name": "stderr",
     "output_type": "stream",
     "text": [
      "/home/st/sbhuvaji/1AllP/Individual Patient_All Models/TLandTL/Actual TL/HeavyDecoder/WithCV/TL_Packages.py:582: UserWarning: FixedFormatter should only be used together with FixedLocator\n",
      "  axs[i].set_xticklabels([''] + ['0', '1'], fontsize='xx-large')\n",
      "/home/st/sbhuvaji/1AllP/Individual Patient_All Models/TLandTL/Actual TL/HeavyDecoder/WithCV/TL_Packages.py:583: UserWarning: FixedFormatter should only be used together with FixedLocator\n",
      "  axs[i].set_yticklabels([''] + ['0', '1'], fontsize='xx-large')\n"
     ]
    },
    {
     "name": "stdout",
     "output_type": "stream",
     "text": [
      "Population Fold 2: Training data size = 3530, Validation data size = 1764\n"
     ]
    },
    {
     "name": "stderr",
     "output_type": "stream",
     "text": [
      "/home/st/sbhuvaji/anaconda3/lib/python3.9/site-packages/keras/src/engine/training.py:3000: UserWarning: You are saving your model as an HDF5 file via `model.save()`. This file format is considered legacy. We recommend using instead the native Keras format, e.g. `model.save('my_model.keras')`.\n",
      "  saving_api.save_model(\n"
     ]
    },
    {
     "name": "stdout",
     "output_type": "stream",
     "text": [
      "56/56 [==============================] - 0s 897us/step\n",
      "cm [[688 196]\n",
      " [276 604]]\n",
      "cm.ravel() [688 196 276 604]\n",
      "Before balancing count  1.0    68\n",
      "0.0    35\n",
      "Name: class, dtype: int64\n",
      "~~~~~~~ value_counts: ~~~~~~~\n",
      "SHOULD BE BALANCED NOW: 1.0    68\n",
      "0.0    68\n",
      "Name: class, dtype: int64\n",
      "Before balancing count  1.0    76\n",
      "0.0    27\n",
      "Name: class, dtype: int64\n",
      "~~~~~~~ value_counts: ~~~~~~~\n",
      "SHOULD BE BALANCED NOW: 0.0    76\n",
      "1.0    76\n",
      "Name: class, dtype: int64\n",
      "done RE-training 0 of 3. "
     ]
    },
    {
     "name": "stderr",
     "output_type": "stream",
     "text": [
      "/home/st/sbhuvaji/anaconda3/lib/python3.9/site-packages/keras/src/engine/training.py:3000: UserWarning: You are saving your model as an HDF5 file via `model.save()`. This file format is considered legacy. We recommend using instead the native Keras format, e.g. `model.save('my_model.keras')`.\n",
      "  saving_api.save_model(\n"
     ]
    },
    {
     "name": "stdout",
     "output_type": "stream",
     "text": [
      "4/4 [==============================] - 0s 1ms/step\n",
      "cm [[17 10]\n",
      " [39 37]]\n",
      "cm.ravel() [17 10 39 37]\n",
      "done testing 0 of 2.\n",
      "4/4 [==============================] - 0s 1ms/step\n",
      "cm [[17 18]\n",
      " [19 49]]\n",
      "cm.ravel() [17 18 19 49]\n",
      "done testing 1 of 2.\n"
     ]
    },
    {
     "name": "stderr",
     "output_type": "stream",
     "text": [
      "/home/st/sbhuvaji/1AllP/Individual Patient_All Models/TLandTL/Actual TL/HeavyDecoder/WithCV/TL_Packages.py:582: UserWarning: FixedFormatter should only be used together with FixedLocator\n",
      "  axs[i].set_xticklabels([''] + ['0', '1'], fontsize='xx-large')\n",
      "/home/st/sbhuvaji/1AllP/Individual Patient_All Models/TLandTL/Actual TL/HeavyDecoder/WithCV/TL_Packages.py:583: UserWarning: FixedFormatter should only be used together with FixedLocator\n",
      "  axs[i].set_yticklabels([''] + ['0', '1'], fontsize='xx-large')\n",
      " 92%|█████████▏| 24/26 [1:07:24<05:01, 150.74s/it]"
     ]
    },
    {
     "name": "stdout",
     "output_type": "stream",
     "text": [
      "Runtime: 0 o' clock and 48 minutes\n",
      "~~~~~~~~~~~ 100 ~~~~~~~~~~~~~~~~~~~ 300 ~~~~~~~~~~~~~~~~~~~ SB-112 ~~~~~~~~~~~~~~~~~~~\n",
      "Before balancing count  1.0    2647\n",
      "0.0    1040\n",
      "Name: class, dtype: int64\n",
      "~~~~~~~ value_counts: ~~~~~~~\n",
      "SHOULD BE BALANCED NOW: 0.0    2647\n",
      "1.0    2647\n",
      "Name: class, dtype: int64\n",
      "X_train = 5294, y_train = 5294\n",
      "Population Fold 0: Training data size = 3529, Validation data size = 1765\n"
     ]
    },
    {
     "name": "stderr",
     "output_type": "stream",
     "text": [
      "/home/st/sbhuvaji/anaconda3/lib/python3.9/site-packages/keras/src/engine/training.py:3000: UserWarning: You are saving your model as an HDF5 file via `model.save()`. This file format is considered legacy. We recommend using instead the native Keras format, e.g. `model.save('my_model.keras')`.\n",
      "  saving_api.save_model(\n"
     ]
    },
    {
     "name": "stdout",
     "output_type": "stream",
     "text": [
      "56/56 [==============================] - 0s 892us/step\n",
      "cm [[652 245]\n",
      " [252 616]]\n",
      "cm.ravel() [652 245 252 616]\n",
      "Before balancing count  1.0    68\n",
      "0.0    22\n",
      "Name: class, dtype: int64\n",
      "~~~~~~~ value_counts: ~~~~~~~\n",
      "SHOULD BE BALANCED NOW: 1.0    68\n",
      "0.0    68\n",
      "Name: class, dtype: int64\n",
      "Before balancing count  1.0    73\n",
      "0.0    17\n",
      "Name: class, dtype: int64\n",
      "~~~~~~~ value_counts: ~~~~~~~\n",
      "SHOULD BE BALANCED NOW: 0.0    73\n",
      "1.0    73\n",
      "Name: class, dtype: int64\n",
      "done RE-training 0 of 3. "
     ]
    },
    {
     "name": "stderr",
     "output_type": "stream",
     "text": [
      "/home/st/sbhuvaji/anaconda3/lib/python3.9/site-packages/keras/src/engine/training.py:3000: UserWarning: You are saving your model as an HDF5 file via `model.save()`. This file format is considered legacy. We recommend using instead the native Keras format, e.g. `model.save('my_model.keras')`.\n",
      "  saving_api.save_model(\n"
     ]
    },
    {
     "name": "stdout",
     "output_type": "stream",
     "text": [
      "3/3 [==============================] - 0s 2ms/step\n",
      "cm [[14  3]\n",
      " [40 33]]\n",
      "cm.ravel() [14  3 40 33]\n",
      "done testing 0 of 2.\n",
      "3/3 [==============================] - 0s 1ms/step\n",
      "cm [[ 8 14]\n",
      " [12 56]]\n",
      "cm.ravel() [ 8 14 12 56]\n",
      "done testing 1 of 2.\n"
     ]
    },
    {
     "name": "stderr",
     "output_type": "stream",
     "text": [
      "/home/st/sbhuvaji/1AllP/Individual Patient_All Models/TLandTL/Actual TL/HeavyDecoder/WithCV/TL_Packages.py:582: UserWarning: FixedFormatter should only be used together with FixedLocator\n",
      "  axs[i].set_xticklabels([''] + ['0', '1'], fontsize='xx-large')\n",
      "/home/st/sbhuvaji/1AllP/Individual Patient_All Models/TLandTL/Actual TL/HeavyDecoder/WithCV/TL_Packages.py:583: UserWarning: FixedFormatter should only be used together with FixedLocator\n",
      "  axs[i].set_yticklabels([''] + ['0', '1'], fontsize='xx-large')\n"
     ]
    },
    {
     "name": "stdout",
     "output_type": "stream",
     "text": [
      "Population Fold 1: Training data size = 3529, Validation data size = 1765\n"
     ]
    },
    {
     "name": "stderr",
     "output_type": "stream",
     "text": [
      "/home/st/sbhuvaji/anaconda3/lib/python3.9/site-packages/keras/src/engine/training.py:3000: UserWarning: You are saving your model as an HDF5 file via `model.save()`. This file format is considered legacy. We recommend using instead the native Keras format, e.g. `model.save('my_model.keras')`.\n",
      "  saving_api.save_model(\n"
     ]
    },
    {
     "name": "stdout",
     "output_type": "stream",
     "text": [
      "56/56 [==============================] - 0s 823us/step\n",
      "cm [[652 235]\n",
      " [206 672]]\n",
      "cm.ravel() [652 235 206 672]\n",
      "Before balancing count  1.0    71\n",
      "0.0    19\n",
      "Name: class, dtype: int64\n",
      "~~~~~~~ value_counts: ~~~~~~~\n",
      "SHOULD BE BALANCED NOW: 1.0    71\n",
      "0.0    71\n",
      "Name: class, dtype: int64\n",
      "Before balancing count  1.0    70\n",
      "0.0    20\n",
      "Name: class, dtype: int64\n",
      "~~~~~~~ value_counts: ~~~~~~~\n",
      "SHOULD BE BALANCED NOW: 1.0    70\n",
      "0.0    70\n",
      "Name: class, dtype: int64\n",
      "done RE-training 0 of 3. "
     ]
    },
    {
     "name": "stderr",
     "output_type": "stream",
     "text": [
      "/home/st/sbhuvaji/anaconda3/lib/python3.9/site-packages/keras/src/engine/training.py:3000: UserWarning: You are saving your model as an HDF5 file via `model.save()`. This file format is considered legacy. We recommend using instead the native Keras format, e.g. `model.save('my_model.keras')`.\n",
      "  saving_api.save_model(\n"
     ]
    },
    {
     "name": "stdout",
     "output_type": "stream",
     "text": [
      "3/3 [==============================] - 0s 1ms/step\n",
      "cm [[12  8]\n",
      " [27 43]]\n",
      "cm.ravel() [12  8 27 43]\n",
      "done testing 0 of 2.\n",
      "3/3 [==============================] - 0s 1ms/step\n",
      "cm [[11  8]\n",
      " [38 33]]\n",
      "cm.ravel() [11  8 38 33]\n",
      "done testing 1 of 2.\n"
     ]
    },
    {
     "name": "stderr",
     "output_type": "stream",
     "text": [
      "/home/st/sbhuvaji/1AllP/Individual Patient_All Models/TLandTL/Actual TL/HeavyDecoder/WithCV/TL_Packages.py:582: UserWarning: FixedFormatter should only be used together with FixedLocator\n",
      "  axs[i].set_xticklabels([''] + ['0', '1'], fontsize='xx-large')\n",
      "/home/st/sbhuvaji/1AllP/Individual Patient_All Models/TLandTL/Actual TL/HeavyDecoder/WithCV/TL_Packages.py:583: UserWarning: FixedFormatter should only be used together with FixedLocator\n",
      "  axs[i].set_yticklabels([''] + ['0', '1'], fontsize='xx-large')\n"
     ]
    },
    {
     "name": "stdout",
     "output_type": "stream",
     "text": [
      "Population Fold 2: Training data size = 3530, Validation data size = 1764\n"
     ]
    },
    {
     "name": "stderr",
     "output_type": "stream",
     "text": [
      "/home/st/sbhuvaji/anaconda3/lib/python3.9/site-packages/keras/src/engine/training.py:3000: UserWarning: You are saving your model as an HDF5 file via `model.save()`. This file format is considered legacy. We recommend using instead the native Keras format, e.g. `model.save('my_model.keras')`.\n",
      "  saving_api.save_model(\n"
     ]
    },
    {
     "name": "stdout",
     "output_type": "stream",
     "text": [
      "56/56 [==============================] - 0s 815us/step\n",
      "cm [[643 220]\n",
      " [235 666]]\n",
      "cm.ravel() [643 220 235 666]\n",
      "Before balancing count  1.0    76\n",
      "0.0    14\n",
      "Name: class, dtype: int64\n",
      "~~~~~~~ value_counts: ~~~~~~~\n",
      "SHOULD BE BALANCED NOW: 0.0    76\n",
      "1.0    76\n",
      "Name: class, dtype: int64\n",
      "Before balancing count  1.0    65\n",
      "0.0    25\n",
      "Name: class, dtype: int64\n",
      "~~~~~~~ value_counts: ~~~~~~~\n",
      "SHOULD BE BALANCED NOW: 0.0    65\n",
      "1.0    65\n",
      "Name: class, dtype: int64\n",
      "done RE-training 0 of 3. "
     ]
    },
    {
     "name": "stderr",
     "output_type": "stream",
     "text": [
      "/home/st/sbhuvaji/anaconda3/lib/python3.9/site-packages/keras/src/engine/training.py:3000: UserWarning: You are saving your model as an HDF5 file via `model.save()`. This file format is considered legacy. We recommend using instead the native Keras format, e.g. `model.save('my_model.keras')`.\n",
      "  saving_api.save_model(\n"
     ]
    },
    {
     "name": "stdout",
     "output_type": "stream",
     "text": [
      "3/3 [==============================] - 0s 1ms/step\n",
      "cm [[ 9 16]\n",
      " [13 52]]\n",
      "cm.ravel() [ 9 16 13 52]\n",
      "done testing 0 of 2.\n",
      "3/3 [==============================] - 0s 1ms/step\n",
      "cm [[ 9  5]\n",
      " [25 51]]\n",
      "cm.ravel() [ 9  5 25 51]\n",
      "done testing 1 of 2.\n"
     ]
    },
    {
     "name": "stderr",
     "output_type": "stream",
     "text": [
      "/home/st/sbhuvaji/1AllP/Individual Patient_All Models/TLandTL/Actual TL/HeavyDecoder/WithCV/TL_Packages.py:582: UserWarning: FixedFormatter should only be used together with FixedLocator\n",
      "  axs[i].set_xticklabels([''] + ['0', '1'], fontsize='xx-large')\n",
      "/home/st/sbhuvaji/1AllP/Individual Patient_All Models/TLandTL/Actual TL/HeavyDecoder/WithCV/TL_Packages.py:583: UserWarning: FixedFormatter should only be used together with FixedLocator\n",
      "  axs[i].set_yticklabels([''] + ['0', '1'], fontsize='xx-large')\n",
      "100%|██████████| 26/26 [1:10:23<00:00, 162.43s/it]"
     ]
    },
    {
     "name": "stdout",
     "output_type": "stream",
     "text": [
      "evaluation results saved for TLSI_model_100_300_POP_FOLD2_IND_FOLD1\n"
     ]
    },
    {
     "name": "stderr",
     "output_type": "stream",
     "text": [
      "\n"
     ]
    }
   ],
   "source": [
    "TL_Base_Model(100,300, p_ids)# test this one after new value"
   ]
  },
  {
   "cell_type": "code",
   "execution_count": null,
   "metadata": {},
   "outputs": [],
   "source": []
  },
  {
   "cell_type": "code",
   "execution_count": 11,
   "metadata": {},
   "outputs": [
    {
     "name": "stdout",
     "output_type": "stream",
     "text": [
      "Done\n"
     ]
    }
   ],
   "source": [
    "print(\"Done\")"
   ]
  },
  {
   "cell_type": "code",
   "execution_count": null,
   "metadata": {},
   "outputs": [],
   "source": []
  },
  {
   "cell_type": "code",
   "execution_count": null,
   "metadata": {},
   "outputs": [],
   "source": []
  }
 ],
 "metadata": {
  "kernelspec": {
   "display_name": "Python 3",
   "language": "python",
   "name": "python3"
  },
  "language_info": {
   "codemirror_mode": {
    "name": "ipython",
    "version": 3
   },
   "file_extension": ".py",
   "mimetype": "text/x-python",
   "name": "python",
   "nbconvert_exporter": "python",
   "pygments_lexer": "ipython3",
   "version": "3.9.13"
  },
  "orig_nbformat": 4
 },
 "nbformat": 4,
 "nbformat_minor": 2
}
